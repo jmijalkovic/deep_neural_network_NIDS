{
 "cells": [
  {
   "cell_type": "code",
   "execution_count": 2,
   "metadata": {
    "pycharm": {
     "name": "#%%\n"
    }
   },
   "outputs": [],
   "source": [
    "import numpy as np\n",
    "import pandas as pd\n",
    "import matplotlib.pyplot as plt\n",
    "column_names= [\"duration\",\"protocol_type\",\"service\",\"flag\",\"src_bytes\",\"dst_bytes\", \"land\",\n",
    "               \"wrong_fragment\",\"urgent\",\"hot\",\"num_failed_logins\",\"logged_in\", \"num_compromised\",\n",
    "               \"root_shell\",\"su_attempted\",\"num_root\", \"num_file_creations\",\"num_shells\", \"num_access_files\",\n",
    "               \"num_outbound_cmds\",\"is_host_login\",\"is_guest_login\",\"count\",\"srv_count\",\"serror_rate\",\n",
    "              \"srv_serror_rate\",\"rerror_rate\",\"srv_rerror_rate\",\"same_srv_rate\",\"diff_srv_rate\",\n",
    "               \"srv_diff_host_rate\",\"dst_host_count\",\"dst_host_srv_count\",\"dst_host_same_srv_rate\",\n",
    "               \"dst_host_diff_srv_rate\",\"dst_host_same_src_port_rate\",\"dst_host_srv_diff_host_rate\",\n",
    "               \"dst_host_serror_rate\", \"dst_host_srv_serror_rate\",\"dst_host_rerror_rate\",\n",
    "               \"dst_host_srv_rerror_rate\",\"label\",\"difficulty_level\"]"
   ]
  },
  {
   "cell_type": "code",
   "execution_count": 3,
   "metadata": {
    "pycharm": {
     "name": "#%%\n"
    }
   },
   "outputs": [
    {
     "data": {
      "text/html": [
       "<div>\n",
       "<style scoped>\n",
       "    .dataframe tbody tr th:only-of-type {\n",
       "        vertical-align: middle;\n",
       "    }\n",
       "\n",
       "    .dataframe tbody tr th {\n",
       "        vertical-align: top;\n",
       "    }\n",
       "\n",
       "    .dataframe thead th {\n",
       "        text-align: right;\n",
       "    }\n",
       "</style>\n",
       "<table border=\"1\" class=\"dataframe\">\n",
       "  <thead>\n",
       "    <tr style=\"text-align: right;\">\n",
       "      <th></th>\n",
       "      <th>duration</th>\n",
       "      <th>protocol_type</th>\n",
       "      <th>service</th>\n",
       "      <th>flag</th>\n",
       "      <th>src_bytes</th>\n",
       "      <th>dst_bytes</th>\n",
       "      <th>land</th>\n",
       "      <th>wrong_fragment</th>\n",
       "      <th>urgent</th>\n",
       "      <th>hot</th>\n",
       "      <th>...</th>\n",
       "      <th>dst_host_same_srv_rate</th>\n",
       "      <th>dst_host_diff_srv_rate</th>\n",
       "      <th>dst_host_same_src_port_rate</th>\n",
       "      <th>dst_host_srv_diff_host_rate</th>\n",
       "      <th>dst_host_serror_rate</th>\n",
       "      <th>dst_host_srv_serror_rate</th>\n",
       "      <th>dst_host_rerror_rate</th>\n",
       "      <th>dst_host_srv_rerror_rate</th>\n",
       "      <th>label</th>\n",
       "      <th>difficulty_level</th>\n",
       "    </tr>\n",
       "  </thead>\n",
       "  <tbody>\n",
       "    <tr>\n",
       "      <th>0</th>\n",
       "      <td>0</td>\n",
       "      <td>tcp</td>\n",
       "      <td>ftp_data</td>\n",
       "      <td>SF</td>\n",
       "      <td>491</td>\n",
       "      <td>0</td>\n",
       "      <td>0</td>\n",
       "      <td>0</td>\n",
       "      <td>0</td>\n",
       "      <td>0</td>\n",
       "      <td>...</td>\n",
       "      <td>0.17</td>\n",
       "      <td>0.03</td>\n",
       "      <td>0.17</td>\n",
       "      <td>0.00</td>\n",
       "      <td>0.00</td>\n",
       "      <td>0.00</td>\n",
       "      <td>0.05</td>\n",
       "      <td>0.00</td>\n",
       "      <td>normal</td>\n",
       "      <td>20</td>\n",
       "    </tr>\n",
       "    <tr>\n",
       "      <th>1</th>\n",
       "      <td>0</td>\n",
       "      <td>udp</td>\n",
       "      <td>other</td>\n",
       "      <td>SF</td>\n",
       "      <td>146</td>\n",
       "      <td>0</td>\n",
       "      <td>0</td>\n",
       "      <td>0</td>\n",
       "      <td>0</td>\n",
       "      <td>0</td>\n",
       "      <td>...</td>\n",
       "      <td>0.00</td>\n",
       "      <td>0.60</td>\n",
       "      <td>0.88</td>\n",
       "      <td>0.00</td>\n",
       "      <td>0.00</td>\n",
       "      <td>0.00</td>\n",
       "      <td>0.00</td>\n",
       "      <td>0.00</td>\n",
       "      <td>normal</td>\n",
       "      <td>15</td>\n",
       "    </tr>\n",
       "    <tr>\n",
       "      <th>2</th>\n",
       "      <td>0</td>\n",
       "      <td>tcp</td>\n",
       "      <td>private</td>\n",
       "      <td>S0</td>\n",
       "      <td>0</td>\n",
       "      <td>0</td>\n",
       "      <td>0</td>\n",
       "      <td>0</td>\n",
       "      <td>0</td>\n",
       "      <td>0</td>\n",
       "      <td>...</td>\n",
       "      <td>0.10</td>\n",
       "      <td>0.05</td>\n",
       "      <td>0.00</td>\n",
       "      <td>0.00</td>\n",
       "      <td>1.00</td>\n",
       "      <td>1.00</td>\n",
       "      <td>0.00</td>\n",
       "      <td>0.00</td>\n",
       "      <td>neptune</td>\n",
       "      <td>19</td>\n",
       "    </tr>\n",
       "    <tr>\n",
       "      <th>3</th>\n",
       "      <td>0</td>\n",
       "      <td>tcp</td>\n",
       "      <td>http</td>\n",
       "      <td>SF</td>\n",
       "      <td>232</td>\n",
       "      <td>8153</td>\n",
       "      <td>0</td>\n",
       "      <td>0</td>\n",
       "      <td>0</td>\n",
       "      <td>0</td>\n",
       "      <td>...</td>\n",
       "      <td>1.00</td>\n",
       "      <td>0.00</td>\n",
       "      <td>0.03</td>\n",
       "      <td>0.04</td>\n",
       "      <td>0.03</td>\n",
       "      <td>0.01</td>\n",
       "      <td>0.00</td>\n",
       "      <td>0.01</td>\n",
       "      <td>normal</td>\n",
       "      <td>21</td>\n",
       "    </tr>\n",
       "    <tr>\n",
       "      <th>4</th>\n",
       "      <td>0</td>\n",
       "      <td>tcp</td>\n",
       "      <td>http</td>\n",
       "      <td>SF</td>\n",
       "      <td>199</td>\n",
       "      <td>420</td>\n",
       "      <td>0</td>\n",
       "      <td>0</td>\n",
       "      <td>0</td>\n",
       "      <td>0</td>\n",
       "      <td>...</td>\n",
       "      <td>1.00</td>\n",
       "      <td>0.00</td>\n",
       "      <td>0.00</td>\n",
       "      <td>0.00</td>\n",
       "      <td>0.00</td>\n",
       "      <td>0.00</td>\n",
       "      <td>0.00</td>\n",
       "      <td>0.00</td>\n",
       "      <td>normal</td>\n",
       "      <td>21</td>\n",
       "    </tr>\n",
       "    <tr>\n",
       "      <th>5</th>\n",
       "      <td>0</td>\n",
       "      <td>tcp</td>\n",
       "      <td>private</td>\n",
       "      <td>REJ</td>\n",
       "      <td>0</td>\n",
       "      <td>0</td>\n",
       "      <td>0</td>\n",
       "      <td>0</td>\n",
       "      <td>0</td>\n",
       "      <td>0</td>\n",
       "      <td>...</td>\n",
       "      <td>0.07</td>\n",
       "      <td>0.07</td>\n",
       "      <td>0.00</td>\n",
       "      <td>0.00</td>\n",
       "      <td>0.00</td>\n",
       "      <td>0.00</td>\n",
       "      <td>1.00</td>\n",
       "      <td>1.00</td>\n",
       "      <td>neptune</td>\n",
       "      <td>21</td>\n",
       "    </tr>\n",
       "    <tr>\n",
       "      <th>6</th>\n",
       "      <td>0</td>\n",
       "      <td>tcp</td>\n",
       "      <td>private</td>\n",
       "      <td>S0</td>\n",
       "      <td>0</td>\n",
       "      <td>0</td>\n",
       "      <td>0</td>\n",
       "      <td>0</td>\n",
       "      <td>0</td>\n",
       "      <td>0</td>\n",
       "      <td>...</td>\n",
       "      <td>0.04</td>\n",
       "      <td>0.05</td>\n",
       "      <td>0.00</td>\n",
       "      <td>0.00</td>\n",
       "      <td>1.00</td>\n",
       "      <td>1.00</td>\n",
       "      <td>0.00</td>\n",
       "      <td>0.00</td>\n",
       "      <td>neptune</td>\n",
       "      <td>21</td>\n",
       "    </tr>\n",
       "    <tr>\n",
       "      <th>7</th>\n",
       "      <td>0</td>\n",
       "      <td>tcp</td>\n",
       "      <td>private</td>\n",
       "      <td>S0</td>\n",
       "      <td>0</td>\n",
       "      <td>0</td>\n",
       "      <td>0</td>\n",
       "      <td>0</td>\n",
       "      <td>0</td>\n",
       "      <td>0</td>\n",
       "      <td>...</td>\n",
       "      <td>0.06</td>\n",
       "      <td>0.07</td>\n",
       "      <td>0.00</td>\n",
       "      <td>0.00</td>\n",
       "      <td>1.00</td>\n",
       "      <td>1.00</td>\n",
       "      <td>0.00</td>\n",
       "      <td>0.00</td>\n",
       "      <td>neptune</td>\n",
       "      <td>21</td>\n",
       "    </tr>\n",
       "    <tr>\n",
       "      <th>8</th>\n",
       "      <td>0</td>\n",
       "      <td>tcp</td>\n",
       "      <td>remote_job</td>\n",
       "      <td>S0</td>\n",
       "      <td>0</td>\n",
       "      <td>0</td>\n",
       "      <td>0</td>\n",
       "      <td>0</td>\n",
       "      <td>0</td>\n",
       "      <td>0</td>\n",
       "      <td>...</td>\n",
       "      <td>0.09</td>\n",
       "      <td>0.05</td>\n",
       "      <td>0.00</td>\n",
       "      <td>0.00</td>\n",
       "      <td>1.00</td>\n",
       "      <td>1.00</td>\n",
       "      <td>0.00</td>\n",
       "      <td>0.00</td>\n",
       "      <td>neptune</td>\n",
       "      <td>21</td>\n",
       "    </tr>\n",
       "    <tr>\n",
       "      <th>9</th>\n",
       "      <td>0</td>\n",
       "      <td>tcp</td>\n",
       "      <td>private</td>\n",
       "      <td>S0</td>\n",
       "      <td>0</td>\n",
       "      <td>0</td>\n",
       "      <td>0</td>\n",
       "      <td>0</td>\n",
       "      <td>0</td>\n",
       "      <td>0</td>\n",
       "      <td>...</td>\n",
       "      <td>0.05</td>\n",
       "      <td>0.06</td>\n",
       "      <td>0.00</td>\n",
       "      <td>0.00</td>\n",
       "      <td>1.00</td>\n",
       "      <td>1.00</td>\n",
       "      <td>0.00</td>\n",
       "      <td>0.00</td>\n",
       "      <td>neptune</td>\n",
       "      <td>21</td>\n",
       "    </tr>\n",
       "  </tbody>\n",
       "</table>\n",
       "<p>10 rows × 43 columns</p>\n",
       "</div>"
      ],
      "text/plain": [
       "   duration protocol_type     service flag  src_bytes  dst_bytes  land  \\\n",
       "0         0           tcp    ftp_data   SF        491          0     0   \n",
       "1         0           udp       other   SF        146          0     0   \n",
       "2         0           tcp     private   S0          0          0     0   \n",
       "3         0           tcp        http   SF        232       8153     0   \n",
       "4         0           tcp        http   SF        199        420     0   \n",
       "5         0           tcp     private  REJ          0          0     0   \n",
       "6         0           tcp     private   S0          0          0     0   \n",
       "7         0           tcp     private   S0          0          0     0   \n",
       "8         0           tcp  remote_job   S0          0          0     0   \n",
       "9         0           tcp     private   S0          0          0     0   \n",
       "\n",
       "   wrong_fragment  urgent  hot  ...  dst_host_same_srv_rate  \\\n",
       "0               0       0    0  ...                    0.17   \n",
       "1               0       0    0  ...                    0.00   \n",
       "2               0       0    0  ...                    0.10   \n",
       "3               0       0    0  ...                    1.00   \n",
       "4               0       0    0  ...                    1.00   \n",
       "5               0       0    0  ...                    0.07   \n",
       "6               0       0    0  ...                    0.04   \n",
       "7               0       0    0  ...                    0.06   \n",
       "8               0       0    0  ...                    0.09   \n",
       "9               0       0    0  ...                    0.05   \n",
       "\n",
       "   dst_host_diff_srv_rate  dst_host_same_src_port_rate  \\\n",
       "0                    0.03                         0.17   \n",
       "1                    0.60                         0.88   \n",
       "2                    0.05                         0.00   \n",
       "3                    0.00                         0.03   \n",
       "4                    0.00                         0.00   \n",
       "5                    0.07                         0.00   \n",
       "6                    0.05                         0.00   \n",
       "7                    0.07                         0.00   \n",
       "8                    0.05                         0.00   \n",
       "9                    0.06                         0.00   \n",
       "\n",
       "   dst_host_srv_diff_host_rate  dst_host_serror_rate  \\\n",
       "0                         0.00                  0.00   \n",
       "1                         0.00                  0.00   \n",
       "2                         0.00                  1.00   \n",
       "3                         0.04                  0.03   \n",
       "4                         0.00                  0.00   \n",
       "5                         0.00                  0.00   \n",
       "6                         0.00                  1.00   \n",
       "7                         0.00                  1.00   \n",
       "8                         0.00                  1.00   \n",
       "9                         0.00                  1.00   \n",
       "\n",
       "   dst_host_srv_serror_rate  dst_host_rerror_rate  dst_host_srv_rerror_rate  \\\n",
       "0                      0.00                  0.05                      0.00   \n",
       "1                      0.00                  0.00                      0.00   \n",
       "2                      1.00                  0.00                      0.00   \n",
       "3                      0.01                  0.00                      0.01   \n",
       "4                      0.00                  0.00                      0.00   \n",
       "5                      0.00                  1.00                      1.00   \n",
       "6                      1.00                  0.00                      0.00   \n",
       "7                      1.00                  0.00                      0.00   \n",
       "8                      1.00                  0.00                      0.00   \n",
       "9                      1.00                  0.00                      0.00   \n",
       "\n",
       "     label  difficulty_level  \n",
       "0   normal                20  \n",
       "1   normal                15  \n",
       "2  neptune                19  \n",
       "3   normal                21  \n",
       "4   normal                21  \n",
       "5  neptune                21  \n",
       "6  neptune                21  \n",
       "7  neptune                21  \n",
       "8  neptune                21  \n",
       "9  neptune                21  \n",
       "\n",
       "[10 rows x 43 columns]"
      ]
     },
     "execution_count": 3,
     "metadata": {},
     "output_type": "execute_result"
    }
   ],
   "source": [
    "path = 'C:\\\\Users\\\\Jovana\\\\PycharmProjects\\\\neural_network_DNN\\\\include\\\\KDDTrain+.txt'\n",
    "#read data from csv\n",
    "train_data = pd.read_csv(path, header=None, names=column_names)\n",
    "#view the train data\n",
    "train_data.head(10)"
   ]
  },
  {
   "cell_type": "code",
   "execution_count": 4,
   "metadata": {
    "pycharm": {
     "name": "#%%\n"
    }
   },
   "outputs": [
    {
     "data": {
      "text/html": [
       "<div>\n",
       "<style scoped>\n",
       "    .dataframe tbody tr th:only-of-type {\n",
       "        vertical-align: middle;\n",
       "    }\n",
       "\n",
       "    .dataframe tbody tr th {\n",
       "        vertical-align: top;\n",
       "    }\n",
       "\n",
       "    .dataframe thead th {\n",
       "        text-align: right;\n",
       "    }\n",
       "</style>\n",
       "<table border=\"1\" class=\"dataframe\">\n",
       "  <thead>\n",
       "    <tr style=\"text-align: right;\">\n",
       "      <th></th>\n",
       "      <th>duration</th>\n",
       "      <th>protocol_type</th>\n",
       "      <th>service</th>\n",
       "      <th>flag</th>\n",
       "      <th>src_bytes</th>\n",
       "      <th>dst_bytes</th>\n",
       "      <th>land</th>\n",
       "      <th>wrong_fragment</th>\n",
       "      <th>urgent</th>\n",
       "      <th>hot</th>\n",
       "      <th>...</th>\n",
       "      <th>dst_host_same_srv_rate</th>\n",
       "      <th>dst_host_diff_srv_rate</th>\n",
       "      <th>dst_host_same_src_port_rate</th>\n",
       "      <th>dst_host_srv_diff_host_rate</th>\n",
       "      <th>dst_host_serror_rate</th>\n",
       "      <th>dst_host_srv_serror_rate</th>\n",
       "      <th>dst_host_rerror_rate</th>\n",
       "      <th>dst_host_srv_rerror_rate</th>\n",
       "      <th>label</th>\n",
       "      <th>difficulty_level</th>\n",
       "    </tr>\n",
       "  </thead>\n",
       "  <tbody>\n",
       "    <tr>\n",
       "      <th>0</th>\n",
       "      <td>0</td>\n",
       "      <td>tcp</td>\n",
       "      <td>private</td>\n",
       "      <td>REJ</td>\n",
       "      <td>0</td>\n",
       "      <td>0</td>\n",
       "      <td>0</td>\n",
       "      <td>0</td>\n",
       "      <td>0</td>\n",
       "      <td>0</td>\n",
       "      <td>...</td>\n",
       "      <td>0.04</td>\n",
       "      <td>0.06</td>\n",
       "      <td>0.00</td>\n",
       "      <td>0.00</td>\n",
       "      <td>0.00</td>\n",
       "      <td>0.00</td>\n",
       "      <td>1.00</td>\n",
       "      <td>1.00</td>\n",
       "      <td>neptune</td>\n",
       "      <td>21</td>\n",
       "    </tr>\n",
       "    <tr>\n",
       "      <th>1</th>\n",
       "      <td>0</td>\n",
       "      <td>tcp</td>\n",
       "      <td>private</td>\n",
       "      <td>REJ</td>\n",
       "      <td>0</td>\n",
       "      <td>0</td>\n",
       "      <td>0</td>\n",
       "      <td>0</td>\n",
       "      <td>0</td>\n",
       "      <td>0</td>\n",
       "      <td>...</td>\n",
       "      <td>0.00</td>\n",
       "      <td>0.06</td>\n",
       "      <td>0.00</td>\n",
       "      <td>0.00</td>\n",
       "      <td>0.00</td>\n",
       "      <td>0.00</td>\n",
       "      <td>1.00</td>\n",
       "      <td>1.00</td>\n",
       "      <td>neptune</td>\n",
       "      <td>21</td>\n",
       "    </tr>\n",
       "    <tr>\n",
       "      <th>2</th>\n",
       "      <td>2</td>\n",
       "      <td>tcp</td>\n",
       "      <td>ftp_data</td>\n",
       "      <td>SF</td>\n",
       "      <td>12983</td>\n",
       "      <td>0</td>\n",
       "      <td>0</td>\n",
       "      <td>0</td>\n",
       "      <td>0</td>\n",
       "      <td>0</td>\n",
       "      <td>...</td>\n",
       "      <td>0.61</td>\n",
       "      <td>0.04</td>\n",
       "      <td>0.61</td>\n",
       "      <td>0.02</td>\n",
       "      <td>0.00</td>\n",
       "      <td>0.00</td>\n",
       "      <td>0.00</td>\n",
       "      <td>0.00</td>\n",
       "      <td>normal</td>\n",
       "      <td>21</td>\n",
       "    </tr>\n",
       "    <tr>\n",
       "      <th>3</th>\n",
       "      <td>0</td>\n",
       "      <td>icmp</td>\n",
       "      <td>eco_i</td>\n",
       "      <td>SF</td>\n",
       "      <td>20</td>\n",
       "      <td>0</td>\n",
       "      <td>0</td>\n",
       "      <td>0</td>\n",
       "      <td>0</td>\n",
       "      <td>0</td>\n",
       "      <td>...</td>\n",
       "      <td>1.00</td>\n",
       "      <td>0.00</td>\n",
       "      <td>1.00</td>\n",
       "      <td>0.28</td>\n",
       "      <td>0.00</td>\n",
       "      <td>0.00</td>\n",
       "      <td>0.00</td>\n",
       "      <td>0.00</td>\n",
       "      <td>saint</td>\n",
       "      <td>15</td>\n",
       "    </tr>\n",
       "    <tr>\n",
       "      <th>4</th>\n",
       "      <td>1</td>\n",
       "      <td>tcp</td>\n",
       "      <td>telnet</td>\n",
       "      <td>RSTO</td>\n",
       "      <td>0</td>\n",
       "      <td>15</td>\n",
       "      <td>0</td>\n",
       "      <td>0</td>\n",
       "      <td>0</td>\n",
       "      <td>0</td>\n",
       "      <td>...</td>\n",
       "      <td>0.31</td>\n",
       "      <td>0.17</td>\n",
       "      <td>0.03</td>\n",
       "      <td>0.02</td>\n",
       "      <td>0.00</td>\n",
       "      <td>0.00</td>\n",
       "      <td>0.83</td>\n",
       "      <td>0.71</td>\n",
       "      <td>mscan</td>\n",
       "      <td>11</td>\n",
       "    </tr>\n",
       "    <tr>\n",
       "      <th>5</th>\n",
       "      <td>0</td>\n",
       "      <td>tcp</td>\n",
       "      <td>http</td>\n",
       "      <td>SF</td>\n",
       "      <td>267</td>\n",
       "      <td>14515</td>\n",
       "      <td>0</td>\n",
       "      <td>0</td>\n",
       "      <td>0</td>\n",
       "      <td>0</td>\n",
       "      <td>...</td>\n",
       "      <td>1.00</td>\n",
       "      <td>0.00</td>\n",
       "      <td>0.01</td>\n",
       "      <td>0.03</td>\n",
       "      <td>0.01</td>\n",
       "      <td>0.00</td>\n",
       "      <td>0.00</td>\n",
       "      <td>0.00</td>\n",
       "      <td>normal</td>\n",
       "      <td>21</td>\n",
       "    </tr>\n",
       "    <tr>\n",
       "      <th>6</th>\n",
       "      <td>0</td>\n",
       "      <td>tcp</td>\n",
       "      <td>smtp</td>\n",
       "      <td>SF</td>\n",
       "      <td>1022</td>\n",
       "      <td>387</td>\n",
       "      <td>0</td>\n",
       "      <td>0</td>\n",
       "      <td>0</td>\n",
       "      <td>0</td>\n",
       "      <td>...</td>\n",
       "      <td>0.11</td>\n",
       "      <td>0.72</td>\n",
       "      <td>0.00</td>\n",
       "      <td>0.00</td>\n",
       "      <td>0.00</td>\n",
       "      <td>0.00</td>\n",
       "      <td>0.72</td>\n",
       "      <td>0.04</td>\n",
       "      <td>normal</td>\n",
       "      <td>21</td>\n",
       "    </tr>\n",
       "    <tr>\n",
       "      <th>7</th>\n",
       "      <td>0</td>\n",
       "      <td>tcp</td>\n",
       "      <td>telnet</td>\n",
       "      <td>SF</td>\n",
       "      <td>129</td>\n",
       "      <td>174</td>\n",
       "      <td>0</td>\n",
       "      <td>0</td>\n",
       "      <td>0</td>\n",
       "      <td>0</td>\n",
       "      <td>...</td>\n",
       "      <td>1.00</td>\n",
       "      <td>0.00</td>\n",
       "      <td>0.00</td>\n",
       "      <td>0.00</td>\n",
       "      <td>0.01</td>\n",
       "      <td>0.01</td>\n",
       "      <td>0.02</td>\n",
       "      <td>0.02</td>\n",
       "      <td>guess_passwd</td>\n",
       "      <td>15</td>\n",
       "    </tr>\n",
       "    <tr>\n",
       "      <th>8</th>\n",
       "      <td>0</td>\n",
       "      <td>tcp</td>\n",
       "      <td>http</td>\n",
       "      <td>SF</td>\n",
       "      <td>327</td>\n",
       "      <td>467</td>\n",
       "      <td>0</td>\n",
       "      <td>0</td>\n",
       "      <td>0</td>\n",
       "      <td>0</td>\n",
       "      <td>...</td>\n",
       "      <td>1.00</td>\n",
       "      <td>0.00</td>\n",
       "      <td>0.01</td>\n",
       "      <td>0.03</td>\n",
       "      <td>0.00</td>\n",
       "      <td>0.00</td>\n",
       "      <td>0.00</td>\n",
       "      <td>0.00</td>\n",
       "      <td>normal</td>\n",
       "      <td>21</td>\n",
       "    </tr>\n",
       "    <tr>\n",
       "      <th>9</th>\n",
       "      <td>0</td>\n",
       "      <td>tcp</td>\n",
       "      <td>ftp</td>\n",
       "      <td>SF</td>\n",
       "      <td>26</td>\n",
       "      <td>157</td>\n",
       "      <td>0</td>\n",
       "      <td>0</td>\n",
       "      <td>0</td>\n",
       "      <td>0</td>\n",
       "      <td>...</td>\n",
       "      <td>0.50</td>\n",
       "      <td>0.08</td>\n",
       "      <td>0.02</td>\n",
       "      <td>0.00</td>\n",
       "      <td>0.00</td>\n",
       "      <td>0.00</td>\n",
       "      <td>0.00</td>\n",
       "      <td>0.00</td>\n",
       "      <td>guess_passwd</td>\n",
       "      <td>7</td>\n",
       "    </tr>\n",
       "  </tbody>\n",
       "</table>\n",
       "<p>10 rows × 43 columns</p>\n",
       "</div>"
      ],
      "text/plain": [
       "   duration protocol_type   service  flag  src_bytes  dst_bytes  land  \\\n",
       "0         0           tcp   private   REJ          0          0     0   \n",
       "1         0           tcp   private   REJ          0          0     0   \n",
       "2         2           tcp  ftp_data    SF      12983          0     0   \n",
       "3         0          icmp     eco_i    SF         20          0     0   \n",
       "4         1           tcp    telnet  RSTO          0         15     0   \n",
       "5         0           tcp      http    SF        267      14515     0   \n",
       "6         0           tcp      smtp    SF       1022        387     0   \n",
       "7         0           tcp    telnet    SF        129        174     0   \n",
       "8         0           tcp      http    SF        327        467     0   \n",
       "9         0           tcp       ftp    SF         26        157     0   \n",
       "\n",
       "   wrong_fragment  urgent  hot  ...  dst_host_same_srv_rate  \\\n",
       "0               0       0    0  ...                    0.04   \n",
       "1               0       0    0  ...                    0.00   \n",
       "2               0       0    0  ...                    0.61   \n",
       "3               0       0    0  ...                    1.00   \n",
       "4               0       0    0  ...                    0.31   \n",
       "5               0       0    0  ...                    1.00   \n",
       "6               0       0    0  ...                    0.11   \n",
       "7               0       0    0  ...                    1.00   \n",
       "8               0       0    0  ...                    1.00   \n",
       "9               0       0    0  ...                    0.50   \n",
       "\n",
       "   dst_host_diff_srv_rate  dst_host_same_src_port_rate  \\\n",
       "0                    0.06                         0.00   \n",
       "1                    0.06                         0.00   \n",
       "2                    0.04                         0.61   \n",
       "3                    0.00                         1.00   \n",
       "4                    0.17                         0.03   \n",
       "5                    0.00                         0.01   \n",
       "6                    0.72                         0.00   \n",
       "7                    0.00                         0.00   \n",
       "8                    0.00                         0.01   \n",
       "9                    0.08                         0.02   \n",
       "\n",
       "   dst_host_srv_diff_host_rate  dst_host_serror_rate  \\\n",
       "0                         0.00                  0.00   \n",
       "1                         0.00                  0.00   \n",
       "2                         0.02                  0.00   \n",
       "3                         0.28                  0.00   \n",
       "4                         0.02                  0.00   \n",
       "5                         0.03                  0.01   \n",
       "6                         0.00                  0.00   \n",
       "7                         0.00                  0.01   \n",
       "8                         0.03                  0.00   \n",
       "9                         0.00                  0.00   \n",
       "\n",
       "   dst_host_srv_serror_rate  dst_host_rerror_rate  dst_host_srv_rerror_rate  \\\n",
       "0                      0.00                  1.00                      1.00   \n",
       "1                      0.00                  1.00                      1.00   \n",
       "2                      0.00                  0.00                      0.00   \n",
       "3                      0.00                  0.00                      0.00   \n",
       "4                      0.00                  0.83                      0.71   \n",
       "5                      0.00                  0.00                      0.00   \n",
       "6                      0.00                  0.72                      0.04   \n",
       "7                      0.01                  0.02                      0.02   \n",
       "8                      0.00                  0.00                      0.00   \n",
       "9                      0.00                  0.00                      0.00   \n",
       "\n",
       "          label  difficulty_level  \n",
       "0       neptune                21  \n",
       "1       neptune                21  \n",
       "2        normal                21  \n",
       "3         saint                15  \n",
       "4         mscan                11  \n",
       "5        normal                21  \n",
       "6        normal                21  \n",
       "7  guess_passwd                15  \n",
       "8        normal                21  \n",
       "9  guess_passwd                 7  \n",
       "\n",
       "[10 rows x 43 columns]"
      ]
     },
     "execution_count": 4,
     "metadata": {},
     "output_type": "execute_result"
    }
   ],
   "source": [
    "#upload the test data\n",
    "path_test='C:\\\\Users\\\\Jovana\\\\PycharmProjects\\\\neural_network_DNN\\\\include\\\\KDDTest+.txt'\n",
    "test_data=pd.read_csv(path_test,header=None, names=column_names)\n",
    "# View the test data\n",
    "test_data.head(10)"
   ]
  },
  {
   "cell_type": "code",
   "execution_count": 5,
   "metadata": {
    "pycharm": {
     "name": "#%%\n"
    }
   },
   "outputs": [
    {
     "data": {
      "text/html": [
       "<div>\n",
       "<style scoped>\n",
       "    .dataframe tbody tr th:only-of-type {\n",
       "        vertical-align: middle;\n",
       "    }\n",
       "\n",
       "    .dataframe tbody tr th {\n",
       "        vertical-align: top;\n",
       "    }\n",
       "\n",
       "    .dataframe thead th {\n",
       "        text-align: right;\n",
       "    }\n",
       "</style>\n",
       "<table border=\"1\" class=\"dataframe\">\n",
       "  <thead>\n",
       "    <tr style=\"text-align: right;\">\n",
       "      <th></th>\n",
       "      <th>duration</th>\n",
       "      <th>src_bytes</th>\n",
       "      <th>dst_bytes</th>\n",
       "      <th>land</th>\n",
       "      <th>wrong_fragment</th>\n",
       "      <th>urgent</th>\n",
       "      <th>hot</th>\n",
       "      <th>num_failed_logins</th>\n",
       "      <th>logged_in</th>\n",
       "      <th>num_compromised</th>\n",
       "      <th>...</th>\n",
       "      <th>dst_host_srv_count</th>\n",
       "      <th>dst_host_same_srv_rate</th>\n",
       "      <th>dst_host_diff_srv_rate</th>\n",
       "      <th>dst_host_same_src_port_rate</th>\n",
       "      <th>dst_host_srv_diff_host_rate</th>\n",
       "      <th>dst_host_serror_rate</th>\n",
       "      <th>dst_host_srv_serror_rate</th>\n",
       "      <th>dst_host_rerror_rate</th>\n",
       "      <th>dst_host_srv_rerror_rate</th>\n",
       "      <th>difficulty_level</th>\n",
       "    </tr>\n",
       "  </thead>\n",
       "  <tbody>\n",
       "    <tr>\n",
       "      <th>count</th>\n",
       "      <td>125973.00000</td>\n",
       "      <td>1.259730e+05</td>\n",
       "      <td>1.259730e+05</td>\n",
       "      <td>125973.000000</td>\n",
       "      <td>125973.000000</td>\n",
       "      <td>125973.000000</td>\n",
       "      <td>125973.000000</td>\n",
       "      <td>125973.000000</td>\n",
       "      <td>125973.000000</td>\n",
       "      <td>125973.000000</td>\n",
       "      <td>...</td>\n",
       "      <td>125973.000000</td>\n",
       "      <td>125973.000000</td>\n",
       "      <td>125973.000000</td>\n",
       "      <td>125973.000000</td>\n",
       "      <td>125973.000000</td>\n",
       "      <td>125973.000000</td>\n",
       "      <td>125973.000000</td>\n",
       "      <td>125973.000000</td>\n",
       "      <td>125973.000000</td>\n",
       "      <td>125973.000000</td>\n",
       "    </tr>\n",
       "    <tr>\n",
       "      <th>mean</th>\n",
       "      <td>287.14465</td>\n",
       "      <td>4.556674e+04</td>\n",
       "      <td>1.977911e+04</td>\n",
       "      <td>0.000198</td>\n",
       "      <td>0.022687</td>\n",
       "      <td>0.000111</td>\n",
       "      <td>0.204409</td>\n",
       "      <td>0.001222</td>\n",
       "      <td>0.395736</td>\n",
       "      <td>0.279250</td>\n",
       "      <td>...</td>\n",
       "      <td>115.653005</td>\n",
       "      <td>0.521242</td>\n",
       "      <td>0.082951</td>\n",
       "      <td>0.148379</td>\n",
       "      <td>0.032542</td>\n",
       "      <td>0.284452</td>\n",
       "      <td>0.278485</td>\n",
       "      <td>0.118832</td>\n",
       "      <td>0.120240</td>\n",
       "      <td>19.504060</td>\n",
       "    </tr>\n",
       "    <tr>\n",
       "      <th>std</th>\n",
       "      <td>2604.51531</td>\n",
       "      <td>5.870331e+06</td>\n",
       "      <td>4.021269e+06</td>\n",
       "      <td>0.014086</td>\n",
       "      <td>0.253530</td>\n",
       "      <td>0.014366</td>\n",
       "      <td>2.149968</td>\n",
       "      <td>0.045239</td>\n",
       "      <td>0.489010</td>\n",
       "      <td>23.942042</td>\n",
       "      <td>...</td>\n",
       "      <td>110.702741</td>\n",
       "      <td>0.448949</td>\n",
       "      <td>0.188922</td>\n",
       "      <td>0.308997</td>\n",
       "      <td>0.112564</td>\n",
       "      <td>0.444784</td>\n",
       "      <td>0.445669</td>\n",
       "      <td>0.306557</td>\n",
       "      <td>0.319459</td>\n",
       "      <td>2.291503</td>\n",
       "    </tr>\n",
       "    <tr>\n",
       "      <th>min</th>\n",
       "      <td>0.00000</td>\n",
       "      <td>0.000000e+00</td>\n",
       "      <td>0.000000e+00</td>\n",
       "      <td>0.000000</td>\n",
       "      <td>0.000000</td>\n",
       "      <td>0.000000</td>\n",
       "      <td>0.000000</td>\n",
       "      <td>0.000000</td>\n",
       "      <td>0.000000</td>\n",
       "      <td>0.000000</td>\n",
       "      <td>...</td>\n",
       "      <td>0.000000</td>\n",
       "      <td>0.000000</td>\n",
       "      <td>0.000000</td>\n",
       "      <td>0.000000</td>\n",
       "      <td>0.000000</td>\n",
       "      <td>0.000000</td>\n",
       "      <td>0.000000</td>\n",
       "      <td>0.000000</td>\n",
       "      <td>0.000000</td>\n",
       "      <td>0.000000</td>\n",
       "    </tr>\n",
       "    <tr>\n",
       "      <th>25%</th>\n",
       "      <td>0.00000</td>\n",
       "      <td>0.000000e+00</td>\n",
       "      <td>0.000000e+00</td>\n",
       "      <td>0.000000</td>\n",
       "      <td>0.000000</td>\n",
       "      <td>0.000000</td>\n",
       "      <td>0.000000</td>\n",
       "      <td>0.000000</td>\n",
       "      <td>0.000000</td>\n",
       "      <td>0.000000</td>\n",
       "      <td>...</td>\n",
       "      <td>10.000000</td>\n",
       "      <td>0.050000</td>\n",
       "      <td>0.000000</td>\n",
       "      <td>0.000000</td>\n",
       "      <td>0.000000</td>\n",
       "      <td>0.000000</td>\n",
       "      <td>0.000000</td>\n",
       "      <td>0.000000</td>\n",
       "      <td>0.000000</td>\n",
       "      <td>18.000000</td>\n",
       "    </tr>\n",
       "    <tr>\n",
       "      <th>50%</th>\n",
       "      <td>0.00000</td>\n",
       "      <td>4.400000e+01</td>\n",
       "      <td>0.000000e+00</td>\n",
       "      <td>0.000000</td>\n",
       "      <td>0.000000</td>\n",
       "      <td>0.000000</td>\n",
       "      <td>0.000000</td>\n",
       "      <td>0.000000</td>\n",
       "      <td>0.000000</td>\n",
       "      <td>0.000000</td>\n",
       "      <td>...</td>\n",
       "      <td>63.000000</td>\n",
       "      <td>0.510000</td>\n",
       "      <td>0.020000</td>\n",
       "      <td>0.000000</td>\n",
       "      <td>0.000000</td>\n",
       "      <td>0.000000</td>\n",
       "      <td>0.000000</td>\n",
       "      <td>0.000000</td>\n",
       "      <td>0.000000</td>\n",
       "      <td>20.000000</td>\n",
       "    </tr>\n",
       "    <tr>\n",
       "      <th>75%</th>\n",
       "      <td>0.00000</td>\n",
       "      <td>2.760000e+02</td>\n",
       "      <td>5.160000e+02</td>\n",
       "      <td>0.000000</td>\n",
       "      <td>0.000000</td>\n",
       "      <td>0.000000</td>\n",
       "      <td>0.000000</td>\n",
       "      <td>0.000000</td>\n",
       "      <td>1.000000</td>\n",
       "      <td>0.000000</td>\n",
       "      <td>...</td>\n",
       "      <td>255.000000</td>\n",
       "      <td>1.000000</td>\n",
       "      <td>0.070000</td>\n",
       "      <td>0.060000</td>\n",
       "      <td>0.020000</td>\n",
       "      <td>1.000000</td>\n",
       "      <td>1.000000</td>\n",
       "      <td>0.000000</td>\n",
       "      <td>0.000000</td>\n",
       "      <td>21.000000</td>\n",
       "    </tr>\n",
       "    <tr>\n",
       "      <th>max</th>\n",
       "      <td>42908.00000</td>\n",
       "      <td>1.379964e+09</td>\n",
       "      <td>1.309937e+09</td>\n",
       "      <td>1.000000</td>\n",
       "      <td>3.000000</td>\n",
       "      <td>3.000000</td>\n",
       "      <td>77.000000</td>\n",
       "      <td>5.000000</td>\n",
       "      <td>1.000000</td>\n",
       "      <td>7479.000000</td>\n",
       "      <td>...</td>\n",
       "      <td>255.000000</td>\n",
       "      <td>1.000000</td>\n",
       "      <td>1.000000</td>\n",
       "      <td>1.000000</td>\n",
       "      <td>1.000000</td>\n",
       "      <td>1.000000</td>\n",
       "      <td>1.000000</td>\n",
       "      <td>1.000000</td>\n",
       "      <td>1.000000</td>\n",
       "      <td>21.000000</td>\n",
       "    </tr>\n",
       "  </tbody>\n",
       "</table>\n",
       "<p>8 rows × 39 columns</p>\n",
       "</div>"
      ],
      "text/plain": [
       "           duration     src_bytes     dst_bytes           land  \\\n",
       "count  125973.00000  1.259730e+05  1.259730e+05  125973.000000   \n",
       "mean      287.14465  4.556674e+04  1.977911e+04       0.000198   \n",
       "std      2604.51531  5.870331e+06  4.021269e+06       0.014086   \n",
       "min         0.00000  0.000000e+00  0.000000e+00       0.000000   \n",
       "25%         0.00000  0.000000e+00  0.000000e+00       0.000000   \n",
       "50%         0.00000  4.400000e+01  0.000000e+00       0.000000   \n",
       "75%         0.00000  2.760000e+02  5.160000e+02       0.000000   \n",
       "max     42908.00000  1.379964e+09  1.309937e+09       1.000000   \n",
       "\n",
       "       wrong_fragment         urgent            hot  num_failed_logins  \\\n",
       "count   125973.000000  125973.000000  125973.000000      125973.000000   \n",
       "mean         0.022687       0.000111       0.204409           0.001222   \n",
       "std          0.253530       0.014366       2.149968           0.045239   \n",
       "min          0.000000       0.000000       0.000000           0.000000   \n",
       "25%          0.000000       0.000000       0.000000           0.000000   \n",
       "50%          0.000000       0.000000       0.000000           0.000000   \n",
       "75%          0.000000       0.000000       0.000000           0.000000   \n",
       "max          3.000000       3.000000      77.000000           5.000000   \n",
       "\n",
       "           logged_in  num_compromised  ...  dst_host_srv_count  \\\n",
       "count  125973.000000    125973.000000  ...       125973.000000   \n",
       "mean        0.395736         0.279250  ...          115.653005   \n",
       "std         0.489010        23.942042  ...          110.702741   \n",
       "min         0.000000         0.000000  ...            0.000000   \n",
       "25%         0.000000         0.000000  ...           10.000000   \n",
       "50%         0.000000         0.000000  ...           63.000000   \n",
       "75%         1.000000         0.000000  ...          255.000000   \n",
       "max         1.000000      7479.000000  ...          255.000000   \n",
       "\n",
       "       dst_host_same_srv_rate  dst_host_diff_srv_rate  \\\n",
       "count           125973.000000           125973.000000   \n",
       "mean                 0.521242                0.082951   \n",
       "std                  0.448949                0.188922   \n",
       "min                  0.000000                0.000000   \n",
       "25%                  0.050000                0.000000   \n",
       "50%                  0.510000                0.020000   \n",
       "75%                  1.000000                0.070000   \n",
       "max                  1.000000                1.000000   \n",
       "\n",
       "       dst_host_same_src_port_rate  dst_host_srv_diff_host_rate  \\\n",
       "count                125973.000000                125973.000000   \n",
       "mean                      0.148379                     0.032542   \n",
       "std                       0.308997                     0.112564   \n",
       "min                       0.000000                     0.000000   \n",
       "25%                       0.000000                     0.000000   \n",
       "50%                       0.000000                     0.000000   \n",
       "75%                       0.060000                     0.020000   \n",
       "max                       1.000000                     1.000000   \n",
       "\n",
       "       dst_host_serror_rate  dst_host_srv_serror_rate  dst_host_rerror_rate  \\\n",
       "count         125973.000000             125973.000000         125973.000000   \n",
       "mean               0.284452                  0.278485              0.118832   \n",
       "std                0.444784                  0.445669              0.306557   \n",
       "min                0.000000                  0.000000              0.000000   \n",
       "25%                0.000000                  0.000000              0.000000   \n",
       "50%                0.000000                  0.000000              0.000000   \n",
       "75%                1.000000                  1.000000              0.000000   \n",
       "max                1.000000                  1.000000              1.000000   \n",
       "\n",
       "       dst_host_srv_rerror_rate  difficulty_level  \n",
       "count             125973.000000     125973.000000  \n",
       "mean                   0.120240         19.504060  \n",
       "std                    0.319459          2.291503  \n",
       "min                    0.000000          0.000000  \n",
       "25%                    0.000000         18.000000  \n",
       "50%                    0.000000         20.000000  \n",
       "75%                    0.000000         21.000000  \n",
       "max                    1.000000         21.000000  \n",
       "\n",
       "[8 rows x 39 columns]"
      ]
     },
     "execution_count": 5,
     "metadata": {},
     "output_type": "execute_result"
    }
   ],
   "source": [
    "# see the statistical summary\n",
    "train_data.describe()"
   ]
  },
  {
   "cell_type": "code",
   "execution_count": 6,
   "metadata": {
    "pycharm": {
     "name": "#%%\n"
    }
   },
   "outputs": [
    {
     "name": "stdout",
     "output_type": "stream",
     "text": [
      "duration    0\n",
      "dtype: int64\n",
      "protocol_type    0\n",
      "dtype: int64\n",
      "service    0\n",
      "dtype: int64\n",
      "flag    0\n",
      "dtype: int64\n",
      "src_bytes    0\n",
      "dtype: int64\n",
      "dst_bytes    0\n",
      "dtype: int64\n",
      "land    0\n",
      "dtype: int64\n",
      "wrong_fragment    0\n",
      "dtype: int64\n",
      "urgent    0\n",
      "dtype: int64\n",
      "hot    0\n",
      "dtype: int64\n",
      "num_failed_logins    0\n",
      "dtype: int64\n",
      "logged_in    0\n",
      "dtype: int64\n",
      "num_compromised    0\n",
      "dtype: int64\n",
      "root_shell    0\n",
      "dtype: int64\n",
      "su_attempted    0\n",
      "dtype: int64\n",
      "num_root    0\n",
      "dtype: int64\n",
      "num_file_creations    0\n",
      "dtype: int64\n",
      "num_shells    0\n",
      "dtype: int64\n",
      "num_access_files    0\n",
      "dtype: int64\n",
      "num_outbound_cmds    0\n",
      "dtype: int64\n",
      "is_host_login    0\n",
      "dtype: int64\n",
      "is_guest_login    0\n",
      "dtype: int64\n",
      "count    0\n",
      "dtype: int64\n",
      "srv_count    0\n",
      "dtype: int64\n",
      "serror_rate    0\n",
      "dtype: int64\n",
      "srv_serror_rate    0\n",
      "dtype: int64\n",
      "rerror_rate    0\n",
      "dtype: int64\n",
      "srv_rerror_rate    0\n",
      "dtype: int64\n",
      "same_srv_rate    0\n",
      "dtype: int64\n",
      "diff_srv_rate    0\n",
      "dtype: int64\n",
      "srv_diff_host_rate    0\n",
      "dtype: int64\n",
      "dst_host_count    0\n",
      "dtype: int64\n",
      "dst_host_srv_count    0\n",
      "dtype: int64\n",
      "dst_host_same_srv_rate    0\n",
      "dtype: int64\n",
      "dst_host_diff_srv_rate    0\n",
      "dtype: int64\n",
      "dst_host_same_src_port_rate    0\n",
      "dtype: int64\n",
      "dst_host_srv_diff_host_rate    0\n",
      "dtype: int64\n",
      "dst_host_serror_rate    0\n",
      "dtype: int64\n",
      "dst_host_srv_serror_rate    0\n",
      "dtype: int64\n",
      "dst_host_rerror_rate    0\n",
      "dtype: int64\n",
      "dst_host_srv_rerror_rate    0\n",
      "dtype: int64\n",
      "label    0\n",
      "dtype: int64\n",
      "difficulty_level    0\n",
      "dtype: int64\n",
      "duration    0\n",
      "dtype: int64\n",
      "protocol_type    0\n",
      "dtype: int64\n",
      "service    0\n",
      "dtype: int64\n",
      "flag    0\n",
      "dtype: int64\n",
      "src_bytes    0\n",
      "dtype: int64\n",
      "dst_bytes    0\n",
      "dtype: int64\n",
      "land    0\n",
      "dtype: int64\n",
      "wrong_fragment    0\n",
      "dtype: int64\n",
      "urgent    0\n",
      "dtype: int64\n",
      "hot    0\n",
      "dtype: int64\n",
      "num_failed_logins    0\n",
      "dtype: int64\n",
      "logged_in    0\n",
      "dtype: int64\n",
      "num_compromised    0\n",
      "dtype: int64\n",
      "root_shell    0\n",
      "dtype: int64\n",
      "su_attempted    0\n",
      "dtype: int64\n",
      "num_root    0\n",
      "dtype: int64\n",
      "num_file_creations    0\n",
      "dtype: int64\n",
      "num_shells    0\n",
      "dtype: int64\n",
      "num_access_files    0\n",
      "dtype: int64\n",
      "num_outbound_cmds    0\n",
      "dtype: int64\n",
      "is_host_login    0\n",
      "dtype: int64\n",
      "is_guest_login    0\n",
      "dtype: int64\n",
      "count    0\n",
      "dtype: int64\n",
      "srv_count    0\n",
      "dtype: int64\n",
      "serror_rate    0\n",
      "dtype: int64\n",
      "srv_serror_rate    0\n",
      "dtype: int64\n",
      "rerror_rate    0\n",
      "dtype: int64\n",
      "srv_rerror_rate    0\n",
      "dtype: int64\n",
      "same_srv_rate    0\n",
      "dtype: int64\n",
      "diff_srv_rate    0\n",
      "dtype: int64\n",
      "srv_diff_host_rate    0\n",
      "dtype: int64\n",
      "dst_host_count    0\n",
      "dtype: int64\n",
      "dst_host_srv_count    0\n",
      "dtype: int64\n",
      "dst_host_same_srv_rate    0\n",
      "dtype: int64\n",
      "dst_host_diff_srv_rate    0\n",
      "dtype: int64\n",
      "dst_host_same_src_port_rate    0\n",
      "dtype: int64\n",
      "dst_host_srv_diff_host_rate    0\n",
      "dtype: int64\n",
      "dst_host_serror_rate    0\n",
      "dtype: int64\n",
      "dst_host_srv_serror_rate    0\n",
      "dtype: int64\n",
      "dst_host_rerror_rate    0\n",
      "dtype: int64\n",
      "dst_host_srv_rerror_rate    0\n",
      "dtype: int64\n",
      "label    0\n",
      "dtype: int64\n",
      "difficulty_level    0\n",
      "dtype: int64\n"
     ]
    }
   ],
   "source": [
    "# check for missing values\n",
    "for i in train_data.columns:\n",
    "    print(train_data[[i]].isnull().sum())\n",
    "\n",
    "for i in test_data.columns:\n",
    "    print(test_data[[i]].isnull().sum())"
   ]
  },
  {
   "cell_type": "code",
   "execution_count": 7,
   "metadata": {
    "pycharm": {
     "name": "#%%\n"
    }
   },
   "outputs": [
    {
     "data": {
      "text/plain": [
       "normal    67343\n",
       "Dos       45927\n",
       "Probe     11656\n",
       "R2L         995\n",
       "U2R          52\n",
       "Name: label, dtype: int64"
      ]
     },
     "execution_count": 7,
     "metadata": {},
     "output_type": "execute_result"
    }
   ],
   "source": [
    "# There are no missing values, we can proceed with changing attack labels to their classes\n",
    "def change_label(df):\n",
    "    df.label.replace(\n",
    "        ['apache2', 'back', 'land', 'neptune', 'mailbomb', 'pod', 'processtable', 'smurf', 'teardrop', 'udpstorm',\n",
    "         'worm'], 'Dos', inplace=True)\n",
    "    df.label.replace(['ftp_write', 'guess_passwd', 'httptunnel', 'imap', 'multihop', 'named', 'phf', 'sendmail',\n",
    "                      'snmpgetattack', 'snmpguess', 'spy', 'warezclient', 'warezmaster', 'xlock', 'xsnoop'], 'R2L',\n",
    "                     inplace=True)\n",
    "    df.label.replace(['ipsweep', 'mscan', 'nmap', 'portsweep', 'saint', 'satan'], 'Probe', inplace=True)\n",
    "    df.label.replace(['buffer_overflow', 'loadmodule', 'perl', 'ps', 'rootkit', 'sqlattack', 'xterm'], 'U2R',\n",
    "                     inplace=True)\n",
    "\n",
    "\n",
    "# calling change_label() function\n",
    "change_label(train_data)\n",
    "change_label(test_data)\n",
    "\n",
    "#show the result for train dataset\n",
    "train_data.label.value_counts()\n"
   ]
  },
  {
   "cell_type": "code",
   "execution_count": 8,
   "metadata": {
    "pycharm": {
     "name": "#%%\n"
    }
   },
   "outputs": [
    {
     "data": {
      "text/plain": [
       "normal    9711\n",
       "Dos       7460\n",
       "R2L       2885\n",
       "Probe     2421\n",
       "U2R         67\n",
       "Name: label, dtype: int64"
      ]
     },
     "execution_count": 8,
     "metadata": {},
     "output_type": "execute_result"
    }
   ],
   "source": [
    "# show the result for test dataset\n",
    "test_data.label.value_counts()"
   ]
  },
  {
   "cell_type": "code",
   "execution_count": 9,
   "metadata": {
    "pycharm": {
     "name": "#%%\n"
    }
   },
   "outputs": [
    {
     "data": {
      "text/html": [
       "<div>\n",
       "<style scoped>\n",
       "    .dataframe tbody tr th:only-of-type {\n",
       "        vertical-align: middle;\n",
       "    }\n",
       "\n",
       "    .dataframe tbody tr th {\n",
       "        vertical-align: top;\n",
       "    }\n",
       "\n",
       "    .dataframe thead th {\n",
       "        text-align: right;\n",
       "    }\n",
       "</style>\n",
       "<table border=\"1\" class=\"dataframe\">\n",
       "  <thead>\n",
       "    <tr style=\"text-align: right;\">\n",
       "      <th></th>\n",
       "      <th>protocol_type</th>\n",
       "      <th>service</th>\n",
       "      <th>flag</th>\n",
       "    </tr>\n",
       "  </thead>\n",
       "  <tbody>\n",
       "    <tr>\n",
       "      <th>0</th>\n",
       "      <td>tcp</td>\n",
       "      <td>private</td>\n",
       "      <td>REJ</td>\n",
       "    </tr>\n",
       "    <tr>\n",
       "      <th>1</th>\n",
       "      <td>tcp</td>\n",
       "      <td>private</td>\n",
       "      <td>REJ</td>\n",
       "    </tr>\n",
       "    <tr>\n",
       "      <th>2</th>\n",
       "      <td>tcp</td>\n",
       "      <td>ftp_data</td>\n",
       "      <td>SF</td>\n",
       "    </tr>\n",
       "    <tr>\n",
       "      <th>3</th>\n",
       "      <td>icmp</td>\n",
       "      <td>eco_i</td>\n",
       "      <td>SF</td>\n",
       "    </tr>\n",
       "    <tr>\n",
       "      <th>4</th>\n",
       "      <td>tcp</td>\n",
       "      <td>telnet</td>\n",
       "      <td>RSTO</td>\n",
       "    </tr>\n",
       "  </tbody>\n",
       "</table>\n",
       "</div>"
      ],
      "text/plain": [
       "  protocol_type   service  flag\n",
       "0           tcp   private   REJ\n",
       "1           tcp   private   REJ\n",
       "2           tcp  ftp_data    SF\n",
       "3          icmp     eco_i    SF\n",
       "4           tcp    telnet  RSTO"
      ]
     },
     "execution_count": 9,
     "metadata": {},
     "output_type": "execute_result"
    }
   ],
   "source": [
    "# convert categorical attrs to numerical using One-hot-encoder\n",
    "categorical_columns = ['protocol_type','service','flag']\n",
    "from sklearn.preprocessing import LabelEncoder, OneHotEncoder\n",
    "train_categorical_columns_values= train_data[categorical_columns]\n",
    "test_categorical_columns_values= test_data[categorical_columns]\n",
    "test_categorical_columns_values.head()"
   ]
  },
  {
   "cell_type": "code",
   "execution_count": 10,
   "metadata": {
    "pycharm": {
     "name": "#%%\n"
    }
   },
   "outputs": [
    {
     "data": {
      "text/html": [
       "<div>\n",
       "<style scoped>\n",
       "    .dataframe tbody tr th:only-of-type {\n",
       "        vertical-align: middle;\n",
       "    }\n",
       "\n",
       "    .dataframe tbody tr th {\n",
       "        vertical-align: top;\n",
       "    }\n",
       "\n",
       "    .dataframe thead th {\n",
       "        text-align: right;\n",
       "    }\n",
       "</style>\n",
       "<table border=\"1\" class=\"dataframe\">\n",
       "  <thead>\n",
       "    <tr style=\"text-align: right;\">\n",
       "      <th></th>\n",
       "      <th>protocol_type</th>\n",
       "      <th>service</th>\n",
       "      <th>flag</th>\n",
       "    </tr>\n",
       "  </thead>\n",
       "  <tbody>\n",
       "    <tr>\n",
       "      <th>0</th>\n",
       "      <td>tcp</td>\n",
       "      <td>ftp_data</td>\n",
       "      <td>SF</td>\n",
       "    </tr>\n",
       "    <tr>\n",
       "      <th>1</th>\n",
       "      <td>udp</td>\n",
       "      <td>other</td>\n",
       "      <td>SF</td>\n",
       "    </tr>\n",
       "    <tr>\n",
       "      <th>2</th>\n",
       "      <td>tcp</td>\n",
       "      <td>private</td>\n",
       "      <td>S0</td>\n",
       "    </tr>\n",
       "    <tr>\n",
       "      <th>3</th>\n",
       "      <td>tcp</td>\n",
       "      <td>http</td>\n",
       "      <td>SF</td>\n",
       "    </tr>\n",
       "    <tr>\n",
       "      <th>4</th>\n",
       "      <td>tcp</td>\n",
       "      <td>http</td>\n",
       "      <td>SF</td>\n",
       "    </tr>\n",
       "  </tbody>\n",
       "</table>\n",
       "</div>"
      ],
      "text/plain": [
       "  protocol_type   service flag\n",
       "0           tcp  ftp_data   SF\n",
       "1           udp     other   SF\n",
       "2           tcp   private   S0\n",
       "3           tcp      http   SF\n",
       "4           tcp      http   SF"
      ]
     },
     "execution_count": 10,
     "metadata": {},
     "output_type": "execute_result"
    }
   ],
   "source": [
    "train_categorical_columns_values.head()"
   ]
  },
  {
   "cell_type": "code",
   "execution_count": 11,
   "metadata": {
    "pycharm": {
     "name": "#%%\n"
    }
   },
   "outputs": [
    {
     "data": {
      "text/plain": [
       "['protocol_type_icmp', 'protocol_type_tcp', 'protocol_type_udp']"
      ]
     },
     "execution_count": 11,
     "metadata": {},
     "output_type": "execute_result"
    }
   ],
   "source": [
    "# now we make columns for each sub-category in protocol_type\n",
    "protocol_cat = sorted(train_data['protocol_type'].unique())\n",
    "stringP = 'protocol_type_'\n",
    "protocol_col = [stringP + c for c in protocol_cat]\n",
    "protocol_col"
   ]
  },
  {
   "cell_type": "code",
   "execution_count": 12,
   "metadata": {
    "pycharm": {
     "name": "#%%\n"
    }
   },
   "outputs": [
    {
     "data": {
      "text/plain": [
       "['service_IRC',\n",
       " 'service_X11',\n",
       " 'service_Z39_50',\n",
       " 'service_aol',\n",
       " 'service_auth',\n",
       " 'service_bgp',\n",
       " 'service_courier',\n",
       " 'service_csnet_ns',\n",
       " 'service_ctf',\n",
       " 'service_daytime',\n",
       " 'service_discard',\n",
       " 'service_domain',\n",
       " 'service_domain_u',\n",
       " 'service_echo',\n",
       " 'service_eco_i',\n",
       " 'service_ecr_i',\n",
       " 'service_efs',\n",
       " 'service_exec',\n",
       " 'service_finger',\n",
       " 'service_ftp',\n",
       " 'service_ftp_data',\n",
       " 'service_gopher',\n",
       " 'service_harvest',\n",
       " 'service_hostnames',\n",
       " 'service_http',\n",
       " 'service_http_2784',\n",
       " 'service_http_443',\n",
       " 'service_http_8001',\n",
       " 'service_imap4',\n",
       " 'service_iso_tsap',\n",
       " 'service_klogin',\n",
       " 'service_kshell',\n",
       " 'service_ldap',\n",
       " 'service_link',\n",
       " 'service_login',\n",
       " 'service_mtp',\n",
       " 'service_name',\n",
       " 'service_netbios_dgm',\n",
       " 'service_netbios_ns',\n",
       " 'service_netbios_ssn',\n",
       " 'service_netstat',\n",
       " 'service_nnsp',\n",
       " 'service_nntp',\n",
       " 'service_ntp_u',\n",
       " 'service_other',\n",
       " 'service_pm_dump',\n",
       " 'service_pop_2',\n",
       " 'service_pop_3',\n",
       " 'service_printer',\n",
       " 'service_private',\n",
       " 'service_red_i',\n",
       " 'service_remote_job',\n",
       " 'service_rje',\n",
       " 'service_shell',\n",
       " 'service_smtp',\n",
       " 'service_sql_net',\n",
       " 'service_ssh',\n",
       " 'service_sunrpc',\n",
       " 'service_supdup',\n",
       " 'service_systat',\n",
       " 'service_telnet',\n",
       " 'service_tftp_u',\n",
       " 'service_tim_i',\n",
       " 'service_time',\n",
       " 'service_urh_i',\n",
       " 'service_urp_i',\n",
       " 'service_uucp',\n",
       " 'service_uucp_path',\n",
       " 'service_vmnet',\n",
       " 'service_whois']"
      ]
     },
     "execution_count": 12,
     "metadata": {},
     "output_type": "execute_result"
    }
   ],
   "source": [
    "# create columns for each sub category in service\n",
    "service_cat = sorted(train_data['service'].unique())\n",
    "stringS = 'service_'\n",
    "service_col = [stringS + c for c in service_cat]\n",
    "service_col"
   ]
  },
  {
   "cell_type": "code",
   "execution_count": 13,
   "metadata": {
    "pycharm": {
     "name": "#%%\n"
    }
   },
   "outputs": [
    {
     "data": {
      "text/plain": [
       "['flag_OTH',\n",
       " 'flag_REJ',\n",
       " 'flag_RSTO',\n",
       " 'flag_RSTOS0',\n",
       " 'flag_RSTR',\n",
       " 'flag_S0',\n",
       " 'flag_S1',\n",
       " 'flag_S2',\n",
       " 'flag_S3',\n",
       " 'flag_SF',\n",
       " 'flag_SH']"
      ]
     },
     "execution_count": 13,
     "metadata": {},
     "output_type": "execute_result"
    }
   ],
   "source": [
    "# create columns for each sub category in flag\n",
    "flag_cat = sorted(train_data['flag'].unique())\n",
    "stringF = 'flag_'\n",
    "flag_col = [stringF + c for c in flag_cat]\n",
    "flag_col"
   ]
  },
  {
   "cell_type": "code",
   "execution_count": 14,
   "metadata": {
    "pycharm": {
     "name": "#%%\n"
    }
   },
   "outputs": [
    {
     "name": "stdout",
     "output_type": "stream",
     "text": [
      "['protocol_type_icmp', 'protocol_type_tcp', 'protocol_type_udp', 'service_IRC', 'service_X11', 'service_Z39_50', 'service_aol', 'service_auth', 'service_bgp', 'service_courier', 'service_csnet_ns', 'service_ctf', 'service_daytime', 'service_discard', 'service_domain', 'service_domain_u', 'service_echo', 'service_eco_i', 'service_ecr_i', 'service_efs', 'service_exec', 'service_finger', 'service_ftp', 'service_ftp_data', 'service_gopher', 'service_harvest', 'service_hostnames', 'service_http', 'service_http_2784', 'service_http_443', 'service_http_8001', 'service_imap4', 'service_iso_tsap', 'service_klogin', 'service_kshell', 'service_ldap', 'service_link', 'service_login', 'service_mtp', 'service_name', 'service_netbios_dgm', 'service_netbios_ns', 'service_netbios_ssn', 'service_netstat', 'service_nnsp', 'service_nntp', 'service_ntp_u', 'service_other', 'service_pm_dump', 'service_pop_2', 'service_pop_3', 'service_printer', 'service_private', 'service_red_i', 'service_remote_job', 'service_rje', 'service_shell', 'service_smtp', 'service_sql_net', 'service_ssh', 'service_sunrpc', 'service_supdup', 'service_systat', 'service_telnet', 'service_tftp_u', 'service_tim_i', 'service_time', 'service_urh_i', 'service_urp_i', 'service_uucp', 'service_uucp_path', 'service_vmnet', 'service_whois', 'flag_OTH', 'flag_REJ', 'flag_RSTO', 'flag_RSTOS0', 'flag_RSTR', 'flag_S0', 'flag_S1', 'flag_S2', 'flag_S3', 'flag_SF', 'flag_SH']\n"
     ]
    }
   ],
   "source": [
    "#Take the test set and create column for test set but since only the service category has different number of sub categories so we may need to do it only for service columns\n",
    "service_test=  sorted(test_data['service'].unique())\n",
    "service_col_test = [stringS + c for c in service_test]\n",
    "train_cat_col = protocol_col+service_col+flag_col\n",
    "print(train_cat_col)"
   ]
  },
  {
   "cell_type": "code",
   "execution_count": 15,
   "metadata": {
    "pycharm": {
     "name": "#%%\n"
    }
   },
   "outputs": [
    {
     "data": {
      "text/html": [
       "<div>\n",
       "<style scoped>\n",
       "    .dataframe tbody tr th:only-of-type {\n",
       "        vertical-align: middle;\n",
       "    }\n",
       "\n",
       "    .dataframe tbody tr th {\n",
       "        vertical-align: top;\n",
       "    }\n",
       "\n",
       "    .dataframe thead th {\n",
       "        text-align: right;\n",
       "    }\n",
       "</style>\n",
       "<table border=\"1\" class=\"dataframe\">\n",
       "  <thead>\n",
       "    <tr style=\"text-align: right;\">\n",
       "      <th></th>\n",
       "      <th>protocol_type</th>\n",
       "      <th>service</th>\n",
       "      <th>flag</th>\n",
       "    </tr>\n",
       "  </thead>\n",
       "  <tbody>\n",
       "    <tr>\n",
       "      <th>0</th>\n",
       "      <td>1</td>\n",
       "      <td>20</td>\n",
       "      <td>9</td>\n",
       "    </tr>\n",
       "    <tr>\n",
       "      <th>1</th>\n",
       "      <td>2</td>\n",
       "      <td>44</td>\n",
       "      <td>9</td>\n",
       "    </tr>\n",
       "    <tr>\n",
       "      <th>2</th>\n",
       "      <td>1</td>\n",
       "      <td>49</td>\n",
       "      <td>5</td>\n",
       "    </tr>\n",
       "    <tr>\n",
       "      <th>3</th>\n",
       "      <td>1</td>\n",
       "      <td>24</td>\n",
       "      <td>9</td>\n",
       "    </tr>\n",
       "    <tr>\n",
       "      <th>4</th>\n",
       "      <td>1</td>\n",
       "      <td>24</td>\n",
       "      <td>9</td>\n",
       "    </tr>\n",
       "  </tbody>\n",
       "</table>\n",
       "</div>"
      ],
      "text/plain": [
       "   protocol_type  service  flag\n",
       "0              1       20     9\n",
       "1              2       44     9\n",
       "2              1       49     5\n",
       "3              1       24     9\n",
       "4              1       24     9"
      ]
     },
     "execution_count": 15,
     "metadata": {},
     "output_type": "execute_result"
    }
   ],
   "source": [
    "test_cat_col= protocol_col+service_col_test+flag_col\n",
    "#Transform the categorical features into numbers using LabelEncoder()\n",
    "\n",
    "labelenc = LabelEncoder()\n",
    "train_enc = train_categorical_columns_values.apply(labelenc.fit_transform)\n",
    "test_enc= test_categorical_columns_values.apply(labelenc.fit_transform)\n",
    "train_enc.head()"
   ]
  },
  {
   "cell_type": "code",
   "execution_count": 16,
   "metadata": {
    "pycharm": {
     "name": "#%%\n"
    }
   },
   "outputs": [],
   "source": [
    "onehotenc = OneHotEncoder()\n",
    "train_onehot = onehotenc.fit_transform(train_enc)"
   ]
  },
  {
   "cell_type": "code",
   "execution_count": 17,
   "metadata": {
    "pycharm": {
     "name": "#%%\n"
    }
   },
   "outputs": [
    {
     "data": {
      "text/html": [
       "<div>\n",
       "<style scoped>\n",
       "    .dataframe tbody tr th:only-of-type {\n",
       "        vertical-align: middle;\n",
       "    }\n",
       "\n",
       "    .dataframe tbody tr th {\n",
       "        vertical-align: top;\n",
       "    }\n",
       "\n",
       "    .dataframe thead th {\n",
       "        text-align: right;\n",
       "    }\n",
       "</style>\n",
       "<table border=\"1\" class=\"dataframe\">\n",
       "  <thead>\n",
       "    <tr style=\"text-align: right;\">\n",
       "      <th></th>\n",
       "      <th>protocol_type_icmp</th>\n",
       "      <th>protocol_type_tcp</th>\n",
       "      <th>protocol_type_udp</th>\n",
       "      <th>service_IRC</th>\n",
       "      <th>service_X11</th>\n",
       "      <th>service_Z39_50</th>\n",
       "      <th>service_auth</th>\n",
       "      <th>service_bgp</th>\n",
       "      <th>service_courier</th>\n",
       "      <th>service_csnet_ns</th>\n",
       "      <th>...</th>\n",
       "      <th>flag_REJ</th>\n",
       "      <th>flag_RSTO</th>\n",
       "      <th>flag_RSTOS0</th>\n",
       "      <th>flag_RSTR</th>\n",
       "      <th>flag_S0</th>\n",
       "      <th>flag_S1</th>\n",
       "      <th>flag_S2</th>\n",
       "      <th>flag_S3</th>\n",
       "      <th>flag_SF</th>\n",
       "      <th>flag_SH</th>\n",
       "    </tr>\n",
       "  </thead>\n",
       "  <tbody>\n",
       "    <tr>\n",
       "      <th>0</th>\n",
       "      <td>0.0</td>\n",
       "      <td>1.0</td>\n",
       "      <td>0.0</td>\n",
       "      <td>0.0</td>\n",
       "      <td>0.0</td>\n",
       "      <td>0.0</td>\n",
       "      <td>0.0</td>\n",
       "      <td>0.0</td>\n",
       "      <td>0.0</td>\n",
       "      <td>0.0</td>\n",
       "      <td>...</td>\n",
       "      <td>1.0</td>\n",
       "      <td>0.0</td>\n",
       "      <td>0.0</td>\n",
       "      <td>0.0</td>\n",
       "      <td>0.0</td>\n",
       "      <td>0.0</td>\n",
       "      <td>0.0</td>\n",
       "      <td>0.0</td>\n",
       "      <td>0.0</td>\n",
       "      <td>0.0</td>\n",
       "    </tr>\n",
       "    <tr>\n",
       "      <th>1</th>\n",
       "      <td>0.0</td>\n",
       "      <td>1.0</td>\n",
       "      <td>0.0</td>\n",
       "      <td>0.0</td>\n",
       "      <td>0.0</td>\n",
       "      <td>0.0</td>\n",
       "      <td>0.0</td>\n",
       "      <td>0.0</td>\n",
       "      <td>0.0</td>\n",
       "      <td>0.0</td>\n",
       "      <td>...</td>\n",
       "      <td>1.0</td>\n",
       "      <td>0.0</td>\n",
       "      <td>0.0</td>\n",
       "      <td>0.0</td>\n",
       "      <td>0.0</td>\n",
       "      <td>0.0</td>\n",
       "      <td>0.0</td>\n",
       "      <td>0.0</td>\n",
       "      <td>0.0</td>\n",
       "      <td>0.0</td>\n",
       "    </tr>\n",
       "    <tr>\n",
       "      <th>2</th>\n",
       "      <td>0.0</td>\n",
       "      <td>1.0</td>\n",
       "      <td>0.0</td>\n",
       "      <td>0.0</td>\n",
       "      <td>0.0</td>\n",
       "      <td>0.0</td>\n",
       "      <td>0.0</td>\n",
       "      <td>0.0</td>\n",
       "      <td>0.0</td>\n",
       "      <td>0.0</td>\n",
       "      <td>...</td>\n",
       "      <td>0.0</td>\n",
       "      <td>0.0</td>\n",
       "      <td>0.0</td>\n",
       "      <td>0.0</td>\n",
       "      <td>0.0</td>\n",
       "      <td>0.0</td>\n",
       "      <td>0.0</td>\n",
       "      <td>0.0</td>\n",
       "      <td>1.0</td>\n",
       "      <td>0.0</td>\n",
       "    </tr>\n",
       "    <tr>\n",
       "      <th>3</th>\n",
       "      <td>1.0</td>\n",
       "      <td>0.0</td>\n",
       "      <td>0.0</td>\n",
       "      <td>0.0</td>\n",
       "      <td>0.0</td>\n",
       "      <td>0.0</td>\n",
       "      <td>0.0</td>\n",
       "      <td>0.0</td>\n",
       "      <td>0.0</td>\n",
       "      <td>0.0</td>\n",
       "      <td>...</td>\n",
       "      <td>0.0</td>\n",
       "      <td>0.0</td>\n",
       "      <td>0.0</td>\n",
       "      <td>0.0</td>\n",
       "      <td>0.0</td>\n",
       "      <td>0.0</td>\n",
       "      <td>0.0</td>\n",
       "      <td>0.0</td>\n",
       "      <td>1.0</td>\n",
       "      <td>0.0</td>\n",
       "    </tr>\n",
       "    <tr>\n",
       "      <th>4</th>\n",
       "      <td>0.0</td>\n",
       "      <td>1.0</td>\n",
       "      <td>0.0</td>\n",
       "      <td>0.0</td>\n",
       "      <td>0.0</td>\n",
       "      <td>0.0</td>\n",
       "      <td>0.0</td>\n",
       "      <td>0.0</td>\n",
       "      <td>0.0</td>\n",
       "      <td>0.0</td>\n",
       "      <td>...</td>\n",
       "      <td>0.0</td>\n",
       "      <td>1.0</td>\n",
       "      <td>0.0</td>\n",
       "      <td>0.0</td>\n",
       "      <td>0.0</td>\n",
       "      <td>0.0</td>\n",
       "      <td>0.0</td>\n",
       "      <td>0.0</td>\n",
       "      <td>0.0</td>\n",
       "      <td>0.0</td>\n",
       "    </tr>\n",
       "  </tbody>\n",
       "</table>\n",
       "<p>5 rows × 78 columns</p>\n",
       "</div>"
      ],
      "text/plain": [
       "   protocol_type_icmp  protocol_type_tcp  protocol_type_udp  service_IRC  \\\n",
       "0                 0.0                1.0                0.0          0.0   \n",
       "1                 0.0                1.0                0.0          0.0   \n",
       "2                 0.0                1.0                0.0          0.0   \n",
       "3                 1.0                0.0                0.0          0.0   \n",
       "4                 0.0                1.0                0.0          0.0   \n",
       "\n",
       "   service_X11  service_Z39_50  service_auth  service_bgp  service_courier  \\\n",
       "0          0.0             0.0           0.0          0.0              0.0   \n",
       "1          0.0             0.0           0.0          0.0              0.0   \n",
       "2          0.0             0.0           0.0          0.0              0.0   \n",
       "3          0.0             0.0           0.0          0.0              0.0   \n",
       "4          0.0             0.0           0.0          0.0              0.0   \n",
       "\n",
       "   service_csnet_ns  ...  flag_REJ  flag_RSTO  flag_RSTOS0  flag_RSTR  \\\n",
       "0               0.0  ...       1.0        0.0          0.0        0.0   \n",
       "1               0.0  ...       1.0        0.0          0.0        0.0   \n",
       "2               0.0  ...       0.0        0.0          0.0        0.0   \n",
       "3               0.0  ...       0.0        0.0          0.0        0.0   \n",
       "4               0.0  ...       0.0        1.0          0.0        0.0   \n",
       "\n",
       "   flag_S0  flag_S1  flag_S2  flag_S3  flag_SF  flag_SH  \n",
       "0      0.0      0.0      0.0      0.0      0.0      0.0  \n",
       "1      0.0      0.0      0.0      0.0      0.0      0.0  \n",
       "2      0.0      0.0      0.0      0.0      1.0      0.0  \n",
       "3      0.0      0.0      0.0      0.0      1.0      0.0  \n",
       "4      0.0      0.0      0.0      0.0      0.0      0.0  \n",
       "\n",
       "[5 rows x 78 columns]"
      ]
     },
     "execution_count": 17,
     "metadata": {},
     "output_type": "execute_result"
    }
   ],
   "source": [
    "test_onehot= onehotenc.fit_transform(test_categorical_columns_values)\n",
    "test_enc= pd.DataFrame(test_onehot.toarray(), columns= test_cat_col)\n",
    "test_enc.head()"
   ]
  },
  {
   "cell_type": "code",
   "execution_count": 18,
   "metadata": {
    "pycharm": {
     "name": "#%%\n"
    }
   },
   "outputs": [
    {
     "data": {
      "text/html": [
       "<div>\n",
       "<style scoped>\n",
       "    .dataframe tbody tr th:only-of-type {\n",
       "        vertical-align: middle;\n",
       "    }\n",
       "\n",
       "    .dataframe tbody tr th {\n",
       "        vertical-align: top;\n",
       "    }\n",
       "\n",
       "    .dataframe thead th {\n",
       "        text-align: right;\n",
       "    }\n",
       "</style>\n",
       "<table border=\"1\" class=\"dataframe\">\n",
       "  <thead>\n",
       "    <tr style=\"text-align: right;\">\n",
       "      <th></th>\n",
       "      <th>protocol_type_icmp</th>\n",
       "      <th>protocol_type_tcp</th>\n",
       "      <th>protocol_type_udp</th>\n",
       "      <th>service_IRC</th>\n",
       "      <th>service_X11</th>\n",
       "      <th>service_Z39_50</th>\n",
       "      <th>service_aol</th>\n",
       "      <th>service_auth</th>\n",
       "      <th>service_bgp</th>\n",
       "      <th>service_courier</th>\n",
       "      <th>...</th>\n",
       "      <th>flag_REJ</th>\n",
       "      <th>flag_RSTO</th>\n",
       "      <th>flag_RSTOS0</th>\n",
       "      <th>flag_RSTR</th>\n",
       "      <th>flag_S0</th>\n",
       "      <th>flag_S1</th>\n",
       "      <th>flag_S2</th>\n",
       "      <th>flag_S3</th>\n",
       "      <th>flag_SF</th>\n",
       "      <th>flag_SH</th>\n",
       "    </tr>\n",
       "  </thead>\n",
       "  <tbody>\n",
       "    <tr>\n",
       "      <th>0</th>\n",
       "      <td>0.0</td>\n",
       "      <td>1.0</td>\n",
       "      <td>0.0</td>\n",
       "      <td>0.0</td>\n",
       "      <td>0.0</td>\n",
       "      <td>0.0</td>\n",
       "      <td>0.0</td>\n",
       "      <td>0.0</td>\n",
       "      <td>0.0</td>\n",
       "      <td>0.0</td>\n",
       "      <td>...</td>\n",
       "      <td>0.0</td>\n",
       "      <td>0.0</td>\n",
       "      <td>0.0</td>\n",
       "      <td>0.0</td>\n",
       "      <td>0.0</td>\n",
       "      <td>0.0</td>\n",
       "      <td>0.0</td>\n",
       "      <td>0.0</td>\n",
       "      <td>1.0</td>\n",
       "      <td>0.0</td>\n",
       "    </tr>\n",
       "    <tr>\n",
       "      <th>1</th>\n",
       "      <td>0.0</td>\n",
       "      <td>0.0</td>\n",
       "      <td>1.0</td>\n",
       "      <td>0.0</td>\n",
       "      <td>0.0</td>\n",
       "      <td>0.0</td>\n",
       "      <td>0.0</td>\n",
       "      <td>0.0</td>\n",
       "      <td>0.0</td>\n",
       "      <td>0.0</td>\n",
       "      <td>...</td>\n",
       "      <td>0.0</td>\n",
       "      <td>0.0</td>\n",
       "      <td>0.0</td>\n",
       "      <td>0.0</td>\n",
       "      <td>0.0</td>\n",
       "      <td>0.0</td>\n",
       "      <td>0.0</td>\n",
       "      <td>0.0</td>\n",
       "      <td>1.0</td>\n",
       "      <td>0.0</td>\n",
       "    </tr>\n",
       "    <tr>\n",
       "      <th>2</th>\n",
       "      <td>0.0</td>\n",
       "      <td>1.0</td>\n",
       "      <td>0.0</td>\n",
       "      <td>0.0</td>\n",
       "      <td>0.0</td>\n",
       "      <td>0.0</td>\n",
       "      <td>0.0</td>\n",
       "      <td>0.0</td>\n",
       "      <td>0.0</td>\n",
       "      <td>0.0</td>\n",
       "      <td>...</td>\n",
       "      <td>0.0</td>\n",
       "      <td>0.0</td>\n",
       "      <td>0.0</td>\n",
       "      <td>0.0</td>\n",
       "      <td>1.0</td>\n",
       "      <td>0.0</td>\n",
       "      <td>0.0</td>\n",
       "      <td>0.0</td>\n",
       "      <td>0.0</td>\n",
       "      <td>0.0</td>\n",
       "    </tr>\n",
       "    <tr>\n",
       "      <th>3</th>\n",
       "      <td>0.0</td>\n",
       "      <td>1.0</td>\n",
       "      <td>0.0</td>\n",
       "      <td>0.0</td>\n",
       "      <td>0.0</td>\n",
       "      <td>0.0</td>\n",
       "      <td>0.0</td>\n",
       "      <td>0.0</td>\n",
       "      <td>0.0</td>\n",
       "      <td>0.0</td>\n",
       "      <td>...</td>\n",
       "      <td>0.0</td>\n",
       "      <td>0.0</td>\n",
       "      <td>0.0</td>\n",
       "      <td>0.0</td>\n",
       "      <td>0.0</td>\n",
       "      <td>0.0</td>\n",
       "      <td>0.0</td>\n",
       "      <td>0.0</td>\n",
       "      <td>1.0</td>\n",
       "      <td>0.0</td>\n",
       "    </tr>\n",
       "    <tr>\n",
       "      <th>4</th>\n",
       "      <td>0.0</td>\n",
       "      <td>1.0</td>\n",
       "      <td>0.0</td>\n",
       "      <td>0.0</td>\n",
       "      <td>0.0</td>\n",
       "      <td>0.0</td>\n",
       "      <td>0.0</td>\n",
       "      <td>0.0</td>\n",
       "      <td>0.0</td>\n",
       "      <td>0.0</td>\n",
       "      <td>...</td>\n",
       "      <td>0.0</td>\n",
       "      <td>0.0</td>\n",
       "      <td>0.0</td>\n",
       "      <td>0.0</td>\n",
       "      <td>0.0</td>\n",
       "      <td>0.0</td>\n",
       "      <td>0.0</td>\n",
       "      <td>0.0</td>\n",
       "      <td>1.0</td>\n",
       "      <td>0.0</td>\n",
       "    </tr>\n",
       "  </tbody>\n",
       "</table>\n",
       "<p>5 rows × 84 columns</p>\n",
       "</div>"
      ],
      "text/plain": [
       "   protocol_type_icmp  protocol_type_tcp  protocol_type_udp  service_IRC  \\\n",
       "0                 0.0                1.0                0.0          0.0   \n",
       "1                 0.0                0.0                1.0          0.0   \n",
       "2                 0.0                1.0                0.0          0.0   \n",
       "3                 0.0                1.0                0.0          0.0   \n",
       "4                 0.0                1.0                0.0          0.0   \n",
       "\n",
       "   service_X11  service_Z39_50  service_aol  service_auth  service_bgp  \\\n",
       "0          0.0             0.0          0.0           0.0          0.0   \n",
       "1          0.0             0.0          0.0           0.0          0.0   \n",
       "2          0.0             0.0          0.0           0.0          0.0   \n",
       "3          0.0             0.0          0.0           0.0          0.0   \n",
       "4          0.0             0.0          0.0           0.0          0.0   \n",
       "\n",
       "   service_courier  ...  flag_REJ  flag_RSTO  flag_RSTOS0  flag_RSTR  flag_S0  \\\n",
       "0              0.0  ...       0.0        0.0          0.0        0.0      0.0   \n",
       "1              0.0  ...       0.0        0.0          0.0        0.0      0.0   \n",
       "2              0.0  ...       0.0        0.0          0.0        0.0      1.0   \n",
       "3              0.0  ...       0.0        0.0          0.0        0.0      0.0   \n",
       "4              0.0  ...       0.0        0.0          0.0        0.0      0.0   \n",
       "\n",
       "   flag_S1  flag_S2  flag_S3  flag_SF  flag_SH  \n",
       "0      0.0      0.0      0.0      1.0      0.0  \n",
       "1      0.0      0.0      0.0      1.0      0.0  \n",
       "2      0.0      0.0      0.0      0.0      0.0  \n",
       "3      0.0      0.0      0.0      1.0      0.0  \n",
       "4      0.0      0.0      0.0      1.0      0.0  \n",
       "\n",
       "[5 rows x 84 columns]"
      ]
     },
     "execution_count": 18,
     "metadata": {},
     "output_type": "execute_result"
    }
   ],
   "source": [
    "train_enc=pd.DataFrame(train_onehot.toarray(),columns=train_cat_col)\n",
    "train_enc.head()"
   ]
  },
  {
   "cell_type": "code",
   "execution_count": 19,
   "metadata": {
    "pycharm": {
     "name": "#%%\n"
    }
   },
   "outputs": [
    {
     "data": {
      "text/plain": [
       "['http_2784', 'aol', 'red_i', 'http_8001', 'harvest', 'urh_i']"
      ]
     },
     "execution_count": 19,
     "metadata": {},
     "output_type": "execute_result"
    }
   ],
   "source": [
    "#Add 6 missing columns in service from train set to the training dataset\n",
    "trainservice= train_data['service'].tolist()\n",
    "testservice = test_data['service'].tolist()\n",
    "#find the missing columns\n",
    "diff = list(set(trainservice) - set(testservice))\n",
    "#print the missing columns\n",
    "diff"
   ]
  },
  {
   "cell_type": "code",
   "execution_count": 20,
   "metadata": {
    "pycharm": {
     "name": "#%%\n"
    }
   },
   "outputs": [
    {
     "data": {
      "text/plain": [
       "['service_http_2784',\n",
       " 'service_aol',\n",
       " 'service_red_i',\n",
       " 'service_http_8001',\n",
       " 'service_harvest',\n",
       " 'service_urh_i']"
      ]
     },
     "execution_count": 20,
     "metadata": {},
     "output_type": "execute_result"
    }
   ],
   "source": [
    "# now add these columns to test data\n",
    "string4= 'service_'\n",
    "diff= [string4 + x for x in diff]\n",
    "diff"
   ]
  },
  {
   "cell_type": "code",
   "execution_count": 21,
   "metadata": {
    "pycharm": {
     "name": "#%%\n"
    }
   },
   "outputs": [
    {
     "data": {
      "text/html": [
       "<div>\n",
       "<style scoped>\n",
       "    .dataframe tbody tr th:only-of-type {\n",
       "        vertical-align: middle;\n",
       "    }\n",
       "\n",
       "    .dataframe tbody tr th {\n",
       "        vertical-align: top;\n",
       "    }\n",
       "\n",
       "    .dataframe thead th {\n",
       "        text-align: right;\n",
       "    }\n",
       "</style>\n",
       "<table border=\"1\" class=\"dataframe\">\n",
       "  <thead>\n",
       "    <tr style=\"text-align: right;\">\n",
       "      <th></th>\n",
       "      <th>protocol_type_icmp</th>\n",
       "      <th>protocol_type_tcp</th>\n",
       "      <th>protocol_type_udp</th>\n",
       "      <th>service_IRC</th>\n",
       "      <th>service_X11</th>\n",
       "      <th>service_Z39_50</th>\n",
       "      <th>service_auth</th>\n",
       "      <th>service_bgp</th>\n",
       "      <th>service_courier</th>\n",
       "      <th>service_csnet_ns</th>\n",
       "      <th>...</th>\n",
       "      <th>flag_S2</th>\n",
       "      <th>flag_S3</th>\n",
       "      <th>flag_SF</th>\n",
       "      <th>flag_SH</th>\n",
       "      <th>service_http_2784</th>\n",
       "      <th>service_aol</th>\n",
       "      <th>service_red_i</th>\n",
       "      <th>service_http_8001</th>\n",
       "      <th>service_harvest</th>\n",
       "      <th>service_urh_i</th>\n",
       "    </tr>\n",
       "  </thead>\n",
       "  <tbody>\n",
       "    <tr>\n",
       "      <th>0</th>\n",
       "      <td>0.0</td>\n",
       "      <td>1.0</td>\n",
       "      <td>0.0</td>\n",
       "      <td>0.0</td>\n",
       "      <td>0.0</td>\n",
       "      <td>0.0</td>\n",
       "      <td>0.0</td>\n",
       "      <td>0.0</td>\n",
       "      <td>0.0</td>\n",
       "      <td>0.0</td>\n",
       "      <td>...</td>\n",
       "      <td>0.0</td>\n",
       "      <td>0.0</td>\n",
       "      <td>0.0</td>\n",
       "      <td>0.0</td>\n",
       "      <td>0</td>\n",
       "      <td>0</td>\n",
       "      <td>0</td>\n",
       "      <td>0</td>\n",
       "      <td>0</td>\n",
       "      <td>0</td>\n",
       "    </tr>\n",
       "    <tr>\n",
       "      <th>1</th>\n",
       "      <td>0.0</td>\n",
       "      <td>1.0</td>\n",
       "      <td>0.0</td>\n",
       "      <td>0.0</td>\n",
       "      <td>0.0</td>\n",
       "      <td>0.0</td>\n",
       "      <td>0.0</td>\n",
       "      <td>0.0</td>\n",
       "      <td>0.0</td>\n",
       "      <td>0.0</td>\n",
       "      <td>...</td>\n",
       "      <td>0.0</td>\n",
       "      <td>0.0</td>\n",
       "      <td>0.0</td>\n",
       "      <td>0.0</td>\n",
       "      <td>0</td>\n",
       "      <td>0</td>\n",
       "      <td>0</td>\n",
       "      <td>0</td>\n",
       "      <td>0</td>\n",
       "      <td>0</td>\n",
       "    </tr>\n",
       "    <tr>\n",
       "      <th>2</th>\n",
       "      <td>0.0</td>\n",
       "      <td>1.0</td>\n",
       "      <td>0.0</td>\n",
       "      <td>0.0</td>\n",
       "      <td>0.0</td>\n",
       "      <td>0.0</td>\n",
       "      <td>0.0</td>\n",
       "      <td>0.0</td>\n",
       "      <td>0.0</td>\n",
       "      <td>0.0</td>\n",
       "      <td>...</td>\n",
       "      <td>0.0</td>\n",
       "      <td>0.0</td>\n",
       "      <td>1.0</td>\n",
       "      <td>0.0</td>\n",
       "      <td>0</td>\n",
       "      <td>0</td>\n",
       "      <td>0</td>\n",
       "      <td>0</td>\n",
       "      <td>0</td>\n",
       "      <td>0</td>\n",
       "    </tr>\n",
       "    <tr>\n",
       "      <th>3</th>\n",
       "      <td>1.0</td>\n",
       "      <td>0.0</td>\n",
       "      <td>0.0</td>\n",
       "      <td>0.0</td>\n",
       "      <td>0.0</td>\n",
       "      <td>0.0</td>\n",
       "      <td>0.0</td>\n",
       "      <td>0.0</td>\n",
       "      <td>0.0</td>\n",
       "      <td>0.0</td>\n",
       "      <td>...</td>\n",
       "      <td>0.0</td>\n",
       "      <td>0.0</td>\n",
       "      <td>1.0</td>\n",
       "      <td>0.0</td>\n",
       "      <td>0</td>\n",
       "      <td>0</td>\n",
       "      <td>0</td>\n",
       "      <td>0</td>\n",
       "      <td>0</td>\n",
       "      <td>0</td>\n",
       "    </tr>\n",
       "    <tr>\n",
       "      <th>4</th>\n",
       "      <td>0.0</td>\n",
       "      <td>1.0</td>\n",
       "      <td>0.0</td>\n",
       "      <td>0.0</td>\n",
       "      <td>0.0</td>\n",
       "      <td>0.0</td>\n",
       "      <td>0.0</td>\n",
       "      <td>0.0</td>\n",
       "      <td>0.0</td>\n",
       "      <td>0.0</td>\n",
       "      <td>...</td>\n",
       "      <td>0.0</td>\n",
       "      <td>0.0</td>\n",
       "      <td>0.0</td>\n",
       "      <td>0.0</td>\n",
       "      <td>0</td>\n",
       "      <td>0</td>\n",
       "      <td>0</td>\n",
       "      <td>0</td>\n",
       "      <td>0</td>\n",
       "      <td>0</td>\n",
       "    </tr>\n",
       "  </tbody>\n",
       "</table>\n",
       "<p>5 rows × 84 columns</p>\n",
       "</div>"
      ],
      "text/plain": [
       "   protocol_type_icmp  protocol_type_tcp  protocol_type_udp  service_IRC  \\\n",
       "0                 0.0                1.0                0.0          0.0   \n",
       "1                 0.0                1.0                0.0          0.0   \n",
       "2                 0.0                1.0                0.0          0.0   \n",
       "3                 1.0                0.0                0.0          0.0   \n",
       "4                 0.0                1.0                0.0          0.0   \n",
       "\n",
       "   service_X11  service_Z39_50  service_auth  service_bgp  service_courier  \\\n",
       "0          0.0             0.0           0.0          0.0              0.0   \n",
       "1          0.0             0.0           0.0          0.0              0.0   \n",
       "2          0.0             0.0           0.0          0.0              0.0   \n",
       "3          0.0             0.0           0.0          0.0              0.0   \n",
       "4          0.0             0.0           0.0          0.0              0.0   \n",
       "\n",
       "   service_csnet_ns  ...  flag_S2  flag_S3  flag_SF  flag_SH  \\\n",
       "0               0.0  ...      0.0      0.0      0.0      0.0   \n",
       "1               0.0  ...      0.0      0.0      0.0      0.0   \n",
       "2               0.0  ...      0.0      0.0      1.0      0.0   \n",
       "3               0.0  ...      0.0      0.0      1.0      0.0   \n",
       "4               0.0  ...      0.0      0.0      0.0      0.0   \n",
       "\n",
       "   service_http_2784  service_aol  service_red_i  service_http_8001  \\\n",
       "0                  0            0              0                  0   \n",
       "1                  0            0              0                  0   \n",
       "2                  0            0              0                  0   \n",
       "3                  0            0              0                  0   \n",
       "4                  0            0              0                  0   \n",
       "\n",
       "   service_harvest  service_urh_i  \n",
       "0                0              0  \n",
       "1                0              0  \n",
       "2                0              0  \n",
       "3                0              0  \n",
       "4                0              0  \n",
       "\n",
       "[5 rows x 84 columns]"
      ]
     },
     "execution_count": 21,
     "metadata": {},
     "output_type": "execute_result"
    }
   ],
   "source": [
    "for col in diff:\n",
    "    test_enc[col]=0\n",
    "# lets view the test data\n",
    "test_enc.head()"
   ]
  },
  {
   "cell_type": "code",
   "execution_count": 22,
   "metadata": {
    "pycharm": {
     "name": "#%%\n"
    }
   },
   "outputs": [
    {
     "data": {
      "text/plain": [
       "(125973, 84)"
      ]
     },
     "execution_count": 22,
     "metadata": {},
     "output_type": "execute_result"
    }
   ],
   "source": [
    "train_enc.shape"
   ]
  },
  {
   "cell_type": "code",
   "execution_count": 23,
   "metadata": {
    "pycharm": {
     "name": "#%%\n"
    }
   },
   "outputs": [
    {
     "data": {
      "text/plain": [
       "(22544, 84)"
      ]
     },
     "execution_count": 23,
     "metadata": {},
     "output_type": "execute_result"
    }
   ],
   "source": [
    "test_enc.shape"
   ]
  },
  {
   "cell_type": "code",
   "execution_count": 24,
   "metadata": {
    "pycharm": {
     "name": "#%%\n"
    }
   },
   "outputs": [
    {
     "data": {
      "text/html": [
       "<div>\n",
       "<style scoped>\n",
       "    .dataframe tbody tr th:only-of-type {\n",
       "        vertical-align: middle;\n",
       "    }\n",
       "\n",
       "    .dataframe tbody tr th {\n",
       "        vertical-align: top;\n",
       "    }\n",
       "\n",
       "    .dataframe thead th {\n",
       "        text-align: right;\n",
       "    }\n",
       "</style>\n",
       "<table border=\"1\" class=\"dataframe\">\n",
       "  <thead>\n",
       "    <tr style=\"text-align: right;\">\n",
       "      <th></th>\n",
       "      <th>duration</th>\n",
       "      <th>protocol_type</th>\n",
       "      <th>service</th>\n",
       "      <th>flag</th>\n",
       "      <th>src_bytes</th>\n",
       "      <th>dst_bytes</th>\n",
       "      <th>land</th>\n",
       "      <th>wrong_fragment</th>\n",
       "      <th>urgent</th>\n",
       "      <th>hot</th>\n",
       "      <th>...</th>\n",
       "      <th>flag_REJ</th>\n",
       "      <th>flag_RSTO</th>\n",
       "      <th>flag_RSTOS0</th>\n",
       "      <th>flag_RSTR</th>\n",
       "      <th>flag_S0</th>\n",
       "      <th>flag_S1</th>\n",
       "      <th>flag_S2</th>\n",
       "      <th>flag_S3</th>\n",
       "      <th>flag_SF</th>\n",
       "      <th>flag_SH</th>\n",
       "    </tr>\n",
       "  </thead>\n",
       "  <tbody>\n",
       "    <tr>\n",
       "      <th>0</th>\n",
       "      <td>0</td>\n",
       "      <td>tcp</td>\n",
       "      <td>ftp_data</td>\n",
       "      <td>SF</td>\n",
       "      <td>491</td>\n",
       "      <td>0</td>\n",
       "      <td>0</td>\n",
       "      <td>0</td>\n",
       "      <td>0</td>\n",
       "      <td>0</td>\n",
       "      <td>...</td>\n",
       "      <td>0.0</td>\n",
       "      <td>0.0</td>\n",
       "      <td>0.0</td>\n",
       "      <td>0.0</td>\n",
       "      <td>0.0</td>\n",
       "      <td>0.0</td>\n",
       "      <td>0.0</td>\n",
       "      <td>0.0</td>\n",
       "      <td>1.0</td>\n",
       "      <td>0.0</td>\n",
       "    </tr>\n",
       "    <tr>\n",
       "      <th>1</th>\n",
       "      <td>0</td>\n",
       "      <td>udp</td>\n",
       "      <td>other</td>\n",
       "      <td>SF</td>\n",
       "      <td>146</td>\n",
       "      <td>0</td>\n",
       "      <td>0</td>\n",
       "      <td>0</td>\n",
       "      <td>0</td>\n",
       "      <td>0</td>\n",
       "      <td>...</td>\n",
       "      <td>0.0</td>\n",
       "      <td>0.0</td>\n",
       "      <td>0.0</td>\n",
       "      <td>0.0</td>\n",
       "      <td>0.0</td>\n",
       "      <td>0.0</td>\n",
       "      <td>0.0</td>\n",
       "      <td>0.0</td>\n",
       "      <td>1.0</td>\n",
       "      <td>0.0</td>\n",
       "    </tr>\n",
       "    <tr>\n",
       "      <th>2</th>\n",
       "      <td>0</td>\n",
       "      <td>tcp</td>\n",
       "      <td>private</td>\n",
       "      <td>S0</td>\n",
       "      <td>0</td>\n",
       "      <td>0</td>\n",
       "      <td>0</td>\n",
       "      <td>0</td>\n",
       "      <td>0</td>\n",
       "      <td>0</td>\n",
       "      <td>...</td>\n",
       "      <td>0.0</td>\n",
       "      <td>0.0</td>\n",
       "      <td>0.0</td>\n",
       "      <td>0.0</td>\n",
       "      <td>1.0</td>\n",
       "      <td>0.0</td>\n",
       "      <td>0.0</td>\n",
       "      <td>0.0</td>\n",
       "      <td>0.0</td>\n",
       "      <td>0.0</td>\n",
       "    </tr>\n",
       "    <tr>\n",
       "      <th>3</th>\n",
       "      <td>0</td>\n",
       "      <td>tcp</td>\n",
       "      <td>http</td>\n",
       "      <td>SF</td>\n",
       "      <td>232</td>\n",
       "      <td>8153</td>\n",
       "      <td>0</td>\n",
       "      <td>0</td>\n",
       "      <td>0</td>\n",
       "      <td>0</td>\n",
       "      <td>...</td>\n",
       "      <td>0.0</td>\n",
       "      <td>0.0</td>\n",
       "      <td>0.0</td>\n",
       "      <td>0.0</td>\n",
       "      <td>0.0</td>\n",
       "      <td>0.0</td>\n",
       "      <td>0.0</td>\n",
       "      <td>0.0</td>\n",
       "      <td>1.0</td>\n",
       "      <td>0.0</td>\n",
       "    </tr>\n",
       "    <tr>\n",
       "      <th>4</th>\n",
       "      <td>0</td>\n",
       "      <td>tcp</td>\n",
       "      <td>http</td>\n",
       "      <td>SF</td>\n",
       "      <td>199</td>\n",
       "      <td>420</td>\n",
       "      <td>0</td>\n",
       "      <td>0</td>\n",
       "      <td>0</td>\n",
       "      <td>0</td>\n",
       "      <td>...</td>\n",
       "      <td>0.0</td>\n",
       "      <td>0.0</td>\n",
       "      <td>0.0</td>\n",
       "      <td>0.0</td>\n",
       "      <td>0.0</td>\n",
       "      <td>0.0</td>\n",
       "      <td>0.0</td>\n",
       "      <td>0.0</td>\n",
       "      <td>1.0</td>\n",
       "      <td>0.0</td>\n",
       "    </tr>\n",
       "  </tbody>\n",
       "</table>\n",
       "<p>5 rows × 127 columns</p>\n",
       "</div>"
      ],
      "text/plain": [
       "   duration protocol_type   service flag  src_bytes  dst_bytes  land  \\\n",
       "0         0           tcp  ftp_data   SF        491          0     0   \n",
       "1         0           udp     other   SF        146          0     0   \n",
       "2         0           tcp   private   S0          0          0     0   \n",
       "3         0           tcp      http   SF        232       8153     0   \n",
       "4         0           tcp      http   SF        199        420     0   \n",
       "\n",
       "   wrong_fragment  urgent  hot  ...  flag_REJ  flag_RSTO  flag_RSTOS0  \\\n",
       "0               0       0    0  ...       0.0        0.0          0.0   \n",
       "1               0       0    0  ...       0.0        0.0          0.0   \n",
       "2               0       0    0  ...       0.0        0.0          0.0   \n",
       "3               0       0    0  ...       0.0        0.0          0.0   \n",
       "4               0       0    0  ...       0.0        0.0          0.0   \n",
       "\n",
       "   flag_RSTR  flag_S0  flag_S1  flag_S2  flag_S3  flag_SF  flag_SH  \n",
       "0        0.0      0.0      0.0      0.0      0.0      1.0      0.0  \n",
       "1        0.0      0.0      0.0      0.0      0.0      1.0      0.0  \n",
       "2        0.0      1.0      0.0      0.0      0.0      0.0      0.0  \n",
       "3        0.0      0.0      0.0      0.0      0.0      1.0      0.0  \n",
       "4        0.0      0.0      0.0      0.0      0.0      1.0      0.0  \n",
       "\n",
       "[5 rows x 127 columns]"
      ]
     },
     "execution_count": 24,
     "metadata": {},
     "output_type": "execute_result"
    }
   ],
   "source": [
    "#Now join the new columns to the actual dataset. So we will add the encoded new columns from categorical columns to the non-categorical dataset and drop the categorical columns from our dataset\n",
    "#join the new columns in train data\n",
    "new_train=train_data.join(train_enc)\n",
    "new_train.head()"
   ]
  },
  {
   "cell_type": "code",
   "execution_count": 25,
   "metadata": {
    "pycharm": {
     "name": "#%%\n"
    }
   },
   "outputs": [],
   "source": [
    "#drop the categorical columns from train data\n",
    "new_train.drop('flag', axis=1, inplace=True)\n",
    "new_train.drop('service', axis=1, inplace=True)\n",
    "new_train.drop('protocol_type', axis=1, inplace=True)"
   ]
  },
  {
   "cell_type": "code",
   "execution_count": 26,
   "metadata": {
    "pycharm": {
     "name": "#%%\n"
    }
   },
   "outputs": [
    {
     "data": {
      "text/html": [
       "<div>\n",
       "<style scoped>\n",
       "    .dataframe tbody tr th:only-of-type {\n",
       "        vertical-align: middle;\n",
       "    }\n",
       "\n",
       "    .dataframe tbody tr th {\n",
       "        vertical-align: top;\n",
       "    }\n",
       "\n",
       "    .dataframe thead th {\n",
       "        text-align: right;\n",
       "    }\n",
       "</style>\n",
       "<table border=\"1\" class=\"dataframe\">\n",
       "  <thead>\n",
       "    <tr style=\"text-align: right;\">\n",
       "      <th></th>\n",
       "      <th>duration</th>\n",
       "      <th>protocol_type</th>\n",
       "      <th>service</th>\n",
       "      <th>flag</th>\n",
       "      <th>src_bytes</th>\n",
       "      <th>dst_bytes</th>\n",
       "      <th>land</th>\n",
       "      <th>wrong_fragment</th>\n",
       "      <th>urgent</th>\n",
       "      <th>hot</th>\n",
       "      <th>...</th>\n",
       "      <th>flag_S2</th>\n",
       "      <th>flag_S3</th>\n",
       "      <th>flag_SF</th>\n",
       "      <th>flag_SH</th>\n",
       "      <th>service_http_2784</th>\n",
       "      <th>service_aol</th>\n",
       "      <th>service_red_i</th>\n",
       "      <th>service_http_8001</th>\n",
       "      <th>service_harvest</th>\n",
       "      <th>service_urh_i</th>\n",
       "    </tr>\n",
       "  </thead>\n",
       "  <tbody>\n",
       "    <tr>\n",
       "      <th>0</th>\n",
       "      <td>0</td>\n",
       "      <td>tcp</td>\n",
       "      <td>private</td>\n",
       "      <td>REJ</td>\n",
       "      <td>0</td>\n",
       "      <td>0</td>\n",
       "      <td>0</td>\n",
       "      <td>0</td>\n",
       "      <td>0</td>\n",
       "      <td>0</td>\n",
       "      <td>...</td>\n",
       "      <td>0.0</td>\n",
       "      <td>0.0</td>\n",
       "      <td>0.0</td>\n",
       "      <td>0.0</td>\n",
       "      <td>0</td>\n",
       "      <td>0</td>\n",
       "      <td>0</td>\n",
       "      <td>0</td>\n",
       "      <td>0</td>\n",
       "      <td>0</td>\n",
       "    </tr>\n",
       "    <tr>\n",
       "      <th>1</th>\n",
       "      <td>0</td>\n",
       "      <td>tcp</td>\n",
       "      <td>private</td>\n",
       "      <td>REJ</td>\n",
       "      <td>0</td>\n",
       "      <td>0</td>\n",
       "      <td>0</td>\n",
       "      <td>0</td>\n",
       "      <td>0</td>\n",
       "      <td>0</td>\n",
       "      <td>...</td>\n",
       "      <td>0.0</td>\n",
       "      <td>0.0</td>\n",
       "      <td>0.0</td>\n",
       "      <td>0.0</td>\n",
       "      <td>0</td>\n",
       "      <td>0</td>\n",
       "      <td>0</td>\n",
       "      <td>0</td>\n",
       "      <td>0</td>\n",
       "      <td>0</td>\n",
       "    </tr>\n",
       "    <tr>\n",
       "      <th>2</th>\n",
       "      <td>2</td>\n",
       "      <td>tcp</td>\n",
       "      <td>ftp_data</td>\n",
       "      <td>SF</td>\n",
       "      <td>12983</td>\n",
       "      <td>0</td>\n",
       "      <td>0</td>\n",
       "      <td>0</td>\n",
       "      <td>0</td>\n",
       "      <td>0</td>\n",
       "      <td>...</td>\n",
       "      <td>0.0</td>\n",
       "      <td>0.0</td>\n",
       "      <td>1.0</td>\n",
       "      <td>0.0</td>\n",
       "      <td>0</td>\n",
       "      <td>0</td>\n",
       "      <td>0</td>\n",
       "      <td>0</td>\n",
       "      <td>0</td>\n",
       "      <td>0</td>\n",
       "    </tr>\n",
       "    <tr>\n",
       "      <th>3</th>\n",
       "      <td>0</td>\n",
       "      <td>icmp</td>\n",
       "      <td>eco_i</td>\n",
       "      <td>SF</td>\n",
       "      <td>20</td>\n",
       "      <td>0</td>\n",
       "      <td>0</td>\n",
       "      <td>0</td>\n",
       "      <td>0</td>\n",
       "      <td>0</td>\n",
       "      <td>...</td>\n",
       "      <td>0.0</td>\n",
       "      <td>0.0</td>\n",
       "      <td>1.0</td>\n",
       "      <td>0.0</td>\n",
       "      <td>0</td>\n",
       "      <td>0</td>\n",
       "      <td>0</td>\n",
       "      <td>0</td>\n",
       "      <td>0</td>\n",
       "      <td>0</td>\n",
       "    </tr>\n",
       "    <tr>\n",
       "      <th>4</th>\n",
       "      <td>1</td>\n",
       "      <td>tcp</td>\n",
       "      <td>telnet</td>\n",
       "      <td>RSTO</td>\n",
       "      <td>0</td>\n",
       "      <td>15</td>\n",
       "      <td>0</td>\n",
       "      <td>0</td>\n",
       "      <td>0</td>\n",
       "      <td>0</td>\n",
       "      <td>...</td>\n",
       "      <td>0.0</td>\n",
       "      <td>0.0</td>\n",
       "      <td>0.0</td>\n",
       "      <td>0.0</td>\n",
       "      <td>0</td>\n",
       "      <td>0</td>\n",
       "      <td>0</td>\n",
       "      <td>0</td>\n",
       "      <td>0</td>\n",
       "      <td>0</td>\n",
       "    </tr>\n",
       "  </tbody>\n",
       "</table>\n",
       "<p>5 rows × 127 columns</p>\n",
       "</div>"
      ],
      "text/plain": [
       "   duration protocol_type   service  flag  src_bytes  dst_bytes  land  \\\n",
       "0         0           tcp   private   REJ          0          0     0   \n",
       "1         0           tcp   private   REJ          0          0     0   \n",
       "2         2           tcp  ftp_data    SF      12983          0     0   \n",
       "3         0          icmp     eco_i    SF         20          0     0   \n",
       "4         1           tcp    telnet  RSTO          0         15     0   \n",
       "\n",
       "   wrong_fragment  urgent  hot  ...  flag_S2  flag_S3  flag_SF  flag_SH  \\\n",
       "0               0       0    0  ...      0.0      0.0      0.0      0.0   \n",
       "1               0       0    0  ...      0.0      0.0      0.0      0.0   \n",
       "2               0       0    0  ...      0.0      0.0      1.0      0.0   \n",
       "3               0       0    0  ...      0.0      0.0      1.0      0.0   \n",
       "4               0       0    0  ...      0.0      0.0      0.0      0.0   \n",
       "\n",
       "   service_http_2784  service_aol  service_red_i  service_http_8001  \\\n",
       "0                  0            0              0                  0   \n",
       "1                  0            0              0                  0   \n",
       "2                  0            0              0                  0   \n",
       "3                  0            0              0                  0   \n",
       "4                  0            0              0                  0   \n",
       "\n",
       "   service_harvest  service_urh_i  \n",
       "0                0              0  \n",
       "1                0              0  \n",
       "2                0              0  \n",
       "3                0              0  \n",
       "4                0              0  \n",
       "\n",
       "[5 rows x 127 columns]"
      ]
     },
     "execution_count": 26,
     "metadata": {},
     "output_type": "execute_result"
    }
   ],
   "source": [
    "# join the new columns in test data\n",
    "new_test= test_data.join(test_enc)\n",
    "new_test.head()"
   ]
  },
  {
   "cell_type": "code",
   "execution_count": 27,
   "metadata": {
    "pycharm": {
     "name": "#%%\n"
    }
   },
   "outputs": [
    {
     "data": {
      "text/html": [
       "<div>\n",
       "<style scoped>\n",
       "    .dataframe tbody tr th:only-of-type {\n",
       "        vertical-align: middle;\n",
       "    }\n",
       "\n",
       "    .dataframe tbody tr th {\n",
       "        vertical-align: top;\n",
       "    }\n",
       "\n",
       "    .dataframe thead th {\n",
       "        text-align: right;\n",
       "    }\n",
       "</style>\n",
       "<table border=\"1\" class=\"dataframe\">\n",
       "  <thead>\n",
       "    <tr style=\"text-align: right;\">\n",
       "      <th></th>\n",
       "      <th>duration</th>\n",
       "      <th>src_bytes</th>\n",
       "      <th>dst_bytes</th>\n",
       "      <th>land</th>\n",
       "      <th>wrong_fragment</th>\n",
       "      <th>urgent</th>\n",
       "      <th>hot</th>\n",
       "      <th>num_failed_logins</th>\n",
       "      <th>logged_in</th>\n",
       "      <th>num_compromised</th>\n",
       "      <th>...</th>\n",
       "      <th>flag_S2</th>\n",
       "      <th>flag_S3</th>\n",
       "      <th>flag_SF</th>\n",
       "      <th>flag_SH</th>\n",
       "      <th>service_http_2784</th>\n",
       "      <th>service_aol</th>\n",
       "      <th>service_red_i</th>\n",
       "      <th>service_http_8001</th>\n",
       "      <th>service_harvest</th>\n",
       "      <th>service_urh_i</th>\n",
       "    </tr>\n",
       "  </thead>\n",
       "  <tbody>\n",
       "    <tr>\n",
       "      <th>0</th>\n",
       "      <td>0</td>\n",
       "      <td>0</td>\n",
       "      <td>0</td>\n",
       "      <td>0</td>\n",
       "      <td>0</td>\n",
       "      <td>0</td>\n",
       "      <td>0</td>\n",
       "      <td>0</td>\n",
       "      <td>0</td>\n",
       "      <td>0</td>\n",
       "      <td>...</td>\n",
       "      <td>0.0</td>\n",
       "      <td>0.0</td>\n",
       "      <td>0.0</td>\n",
       "      <td>0.0</td>\n",
       "      <td>0</td>\n",
       "      <td>0</td>\n",
       "      <td>0</td>\n",
       "      <td>0</td>\n",
       "      <td>0</td>\n",
       "      <td>0</td>\n",
       "    </tr>\n",
       "    <tr>\n",
       "      <th>1</th>\n",
       "      <td>0</td>\n",
       "      <td>0</td>\n",
       "      <td>0</td>\n",
       "      <td>0</td>\n",
       "      <td>0</td>\n",
       "      <td>0</td>\n",
       "      <td>0</td>\n",
       "      <td>0</td>\n",
       "      <td>0</td>\n",
       "      <td>0</td>\n",
       "      <td>...</td>\n",
       "      <td>0.0</td>\n",
       "      <td>0.0</td>\n",
       "      <td>0.0</td>\n",
       "      <td>0.0</td>\n",
       "      <td>0</td>\n",
       "      <td>0</td>\n",
       "      <td>0</td>\n",
       "      <td>0</td>\n",
       "      <td>0</td>\n",
       "      <td>0</td>\n",
       "    </tr>\n",
       "    <tr>\n",
       "      <th>2</th>\n",
       "      <td>2</td>\n",
       "      <td>12983</td>\n",
       "      <td>0</td>\n",
       "      <td>0</td>\n",
       "      <td>0</td>\n",
       "      <td>0</td>\n",
       "      <td>0</td>\n",
       "      <td>0</td>\n",
       "      <td>0</td>\n",
       "      <td>0</td>\n",
       "      <td>...</td>\n",
       "      <td>0.0</td>\n",
       "      <td>0.0</td>\n",
       "      <td>1.0</td>\n",
       "      <td>0.0</td>\n",
       "      <td>0</td>\n",
       "      <td>0</td>\n",
       "      <td>0</td>\n",
       "      <td>0</td>\n",
       "      <td>0</td>\n",
       "      <td>0</td>\n",
       "    </tr>\n",
       "    <tr>\n",
       "      <th>3</th>\n",
       "      <td>0</td>\n",
       "      <td>20</td>\n",
       "      <td>0</td>\n",
       "      <td>0</td>\n",
       "      <td>0</td>\n",
       "      <td>0</td>\n",
       "      <td>0</td>\n",
       "      <td>0</td>\n",
       "      <td>0</td>\n",
       "      <td>0</td>\n",
       "      <td>...</td>\n",
       "      <td>0.0</td>\n",
       "      <td>0.0</td>\n",
       "      <td>1.0</td>\n",
       "      <td>0.0</td>\n",
       "      <td>0</td>\n",
       "      <td>0</td>\n",
       "      <td>0</td>\n",
       "      <td>0</td>\n",
       "      <td>0</td>\n",
       "      <td>0</td>\n",
       "    </tr>\n",
       "    <tr>\n",
       "      <th>4</th>\n",
       "      <td>1</td>\n",
       "      <td>0</td>\n",
       "      <td>15</td>\n",
       "      <td>0</td>\n",
       "      <td>0</td>\n",
       "      <td>0</td>\n",
       "      <td>0</td>\n",
       "      <td>0</td>\n",
       "      <td>0</td>\n",
       "      <td>0</td>\n",
       "      <td>...</td>\n",
       "      <td>0.0</td>\n",
       "      <td>0.0</td>\n",
       "      <td>0.0</td>\n",
       "      <td>0.0</td>\n",
       "      <td>0</td>\n",
       "      <td>0</td>\n",
       "      <td>0</td>\n",
       "      <td>0</td>\n",
       "      <td>0</td>\n",
       "      <td>0</td>\n",
       "    </tr>\n",
       "  </tbody>\n",
       "</table>\n",
       "<p>5 rows × 124 columns</p>\n",
       "</div>"
      ],
      "text/plain": [
       "   duration  src_bytes  dst_bytes  land  wrong_fragment  urgent  hot  \\\n",
       "0         0          0          0     0               0       0    0   \n",
       "1         0          0          0     0               0       0    0   \n",
       "2         2      12983          0     0               0       0    0   \n",
       "3         0         20          0     0               0       0    0   \n",
       "4         1          0         15     0               0       0    0   \n",
       "\n",
       "   num_failed_logins  logged_in  num_compromised  ...  flag_S2  flag_S3  \\\n",
       "0                  0          0                0  ...      0.0      0.0   \n",
       "1                  0          0                0  ...      0.0      0.0   \n",
       "2                  0          0                0  ...      0.0      0.0   \n",
       "3                  0          0                0  ...      0.0      0.0   \n",
       "4                  0          0                0  ...      0.0      0.0   \n",
       "\n",
       "   flag_SF  flag_SH  service_http_2784  service_aol  service_red_i  \\\n",
       "0      0.0      0.0                  0            0              0   \n",
       "1      0.0      0.0                  0            0              0   \n",
       "2      1.0      0.0                  0            0              0   \n",
       "3      1.0      0.0                  0            0              0   \n",
       "4      0.0      0.0                  0            0              0   \n",
       "\n",
       "   service_http_8001  service_harvest  service_urh_i  \n",
       "0                  0                0              0  \n",
       "1                  0                0              0  \n",
       "2                  0                0              0  \n",
       "3                  0                0              0  \n",
       "4                  0                0              0  \n",
       "\n",
       "[5 rows x 124 columns]"
      ]
     },
     "execution_count": 27,
     "metadata": {},
     "output_type": "execute_result"
    }
   ],
   "source": [
    "#drop the categorical columns from test data\n",
    "new_test.drop('flag', axis=1, inplace=True)\n",
    "new_test.drop('service', axis=1, inplace=True)\n",
    "new_test.drop('protocol_type', axis=1, inplace=True)\n",
    "new_test.head()"
   ]
  },
  {
   "cell_type": "code",
   "execution_count": 28,
   "metadata": {
    "pycharm": {
     "name": "#%%\n"
    }
   },
   "outputs": [
    {
     "data": {
      "text/plain": [
       "0    0\n",
       "1    0\n",
       "2    1\n",
       "3    0\n",
       "4    0\n",
       "Name: label, dtype: int64"
      ]
     },
     "execution_count": 28,
     "metadata": {},
     "output_type": "execute_result"
    }
   ],
   "source": [
    "# Now we have to do one-hot-encoding also for the label\n",
    "# This will vary based on the type of classification we will do, multiclass or binary. For multiclass we have 4 different labels, for binary we have 2 (normal and abnormal)\n",
    "# First we do binary so let's make a binary dataset\n",
    "train_label = train_data['label']\n",
    "train_label_bin = train_label.replace({'normal':0, 'Dos':1, 'R2L':1, 'Probe':1,'U2R':1})\n",
    "train_label_bin.head()"
   ]
  },
  {
   "cell_type": "code",
   "execution_count": 29,
   "metadata": {
    "pycharm": {
     "name": "#%%\n"
    }
   },
   "outputs": [
    {
     "data": {
      "text/plain": [
       "0    1\n",
       "1    1\n",
       "2    0\n",
       "3    1\n",
       "4    1\n",
       "Name: label, dtype: int64"
      ]
     },
     "execution_count": 29,
     "metadata": {},
     "output_type": "execute_result"
    }
   ],
   "source": [
    "test_label= test_data['label']\n",
    "test_label_bin=test_label.replace({'normal':0, 'Dos':1, 'R2L':1, 'Probe':1,'U2R':1})\n",
    "test_label_bin.head()"
   ]
  },
  {
   "cell_type": "code",
   "execution_count": 30,
   "metadata": {
    "pycharm": {
     "name": "#%%\n"
    }
   },
   "outputs": [],
   "source": [
    "#change the class columns in train and test data\n",
    "new_train['label']=train_label_bin\n",
    "new_test['label']=test_label_bin"
   ]
  },
  {
   "cell_type": "code",
   "execution_count": 31,
   "metadata": {
    "pycharm": {
     "name": "#%%\n"
    }
   },
   "outputs": [
    {
     "data": {
      "text/plain": [
       "Index(['duration', 'src_bytes', 'dst_bytes', 'land', 'wrong_fragment',\n",
       "       'urgent', 'hot', 'num_failed_logins', 'logged_in', 'num_compromised',\n",
       "       ...\n",
       "       'flag_REJ', 'flag_RSTO', 'flag_RSTOS0', 'flag_RSTR', 'flag_S0',\n",
       "       'flag_S1', 'flag_S2', 'flag_S3', 'flag_SF', 'flag_SH'],\n",
       "      dtype='object', length=124)"
      ]
     },
     "execution_count": 31,
     "metadata": {},
     "output_type": "execute_result"
    }
   ],
   "source": [
    "new_train.columns"
   ]
  },
  {
   "cell_type": "code",
   "execution_count": 32,
   "metadata": {
    "pycharm": {
     "name": "#%%\n"
    }
   },
   "outputs": [
    {
     "data": {
      "text/plain": [
       "Index(['duration', 'src_bytes', 'dst_bytes', 'land', 'wrong_fragment',\n",
       "       'urgent', 'hot', 'num_failed_logins', 'logged_in', 'num_compromised',\n",
       "       ...\n",
       "       'flag_S2', 'flag_S3', 'flag_SF', 'flag_SH', 'service_http_2784',\n",
       "       'service_aol', 'service_red_i', 'service_http_8001', 'service_harvest',\n",
       "       'service_urh_i'],\n",
       "      dtype='object', length=124)"
      ]
     },
     "execution_count": 32,
     "metadata": {},
     "output_type": "execute_result"
    }
   ],
   "source": [
    "new_test.columns"
   ]
  },
  {
   "cell_type": "code",
   "execution_count": 33,
   "metadata": {
    "pycharm": {
     "name": "#%%\n"
    }
   },
   "outputs": [
    {
     "name": "stderr",
     "output_type": "stream",
     "text": [
      "C:\\Users\\Jovana\\AppData\\Local\\Temp/ipykernel_13576/2362199497.py:2: FutureWarning: In a future version of pandas all arguments of DataFrame.drop except for the argument 'labels' will be keyword-only\n",
      "  train_X = new_train.drop('label',1)\n"
     ]
    },
    {
     "data": {
      "text/plain": [
       "(125973, 123)"
      ]
     },
     "execution_count": 33,
     "metadata": {},
     "output_type": "execute_result"
    }
   ],
   "source": [
    "#Now first split the dataset into inputs and labels, X and Y for training\n",
    "train_X = new_train.drop('label',1)\n",
    "train_X.shape"
   ]
  },
  {
   "cell_type": "code",
   "execution_count": 34,
   "metadata": {
    "pycharm": {
     "name": "#%%\n"
    }
   },
   "outputs": [
    {
     "name": "stderr",
     "output_type": "stream",
     "text": [
      "C:\\Users\\Jovana\\AppData\\Local\\Temp/ipykernel_13576/2777526677.py:2: FutureWarning: In a future version of pandas all arguments of DataFrame.drop except for the argument 'labels' will be keyword-only\n",
      "  test_X=new_test.drop('label',1)\n"
     ]
    },
    {
     "data": {
      "text/plain": [
       "array([1, 0], dtype=int64)"
      ]
     },
     "execution_count": 34,
     "metadata": {},
     "output_type": "execute_result"
    }
   ],
   "source": [
    "train_Y =new_train['label']\n",
    "test_X=new_test.drop('label',1)\n",
    "test_Y=new_test['label']\n",
    "test_Y.unique()"
   ]
  },
  {
   "cell_type": "code",
   "execution_count": 35,
   "metadata": {
    "pycharm": {
     "name": "#%%\n"
    }
   },
   "outputs": [],
   "source": [
    "#save the list of columns of train data\n",
    "traincol=list(train_X)"
   ]
  },
  {
   "cell_type": "code",
   "execution_count": 36,
   "metadata": {
    "pycharm": {
     "name": "#%%\n"
    }
   },
   "outputs": [
    {
     "data": {
      "text/plain": [
       "['duration',\n",
       " 'src_bytes',\n",
       " 'dst_bytes',\n",
       " 'land',\n",
       " 'wrong_fragment',\n",
       " 'urgent',\n",
       " 'hot',\n",
       " 'num_failed_logins',\n",
       " 'logged_in',\n",
       " 'num_compromised',\n",
       " 'root_shell',\n",
       " 'su_attempted',\n",
       " 'num_root',\n",
       " 'num_file_creations',\n",
       " 'num_shells',\n",
       " 'num_access_files',\n",
       " 'num_outbound_cmds',\n",
       " 'is_host_login',\n",
       " 'is_guest_login',\n",
       " 'count',\n",
       " 'srv_count',\n",
       " 'serror_rate',\n",
       " 'srv_serror_rate',\n",
       " 'rerror_rate',\n",
       " 'srv_rerror_rate',\n",
       " 'same_srv_rate',\n",
       " 'diff_srv_rate',\n",
       " 'srv_diff_host_rate',\n",
       " 'dst_host_count',\n",
       " 'dst_host_srv_count',\n",
       " 'dst_host_same_srv_rate',\n",
       " 'dst_host_diff_srv_rate',\n",
       " 'dst_host_same_src_port_rate',\n",
       " 'dst_host_srv_diff_host_rate',\n",
       " 'dst_host_serror_rate',\n",
       " 'dst_host_srv_serror_rate',\n",
       " 'dst_host_rerror_rate',\n",
       " 'dst_host_srv_rerror_rate',\n",
       " 'difficulty_level',\n",
       " 'protocol_type_icmp',\n",
       " 'protocol_type_tcp',\n",
       " 'protocol_type_udp',\n",
       " 'service_IRC',\n",
       " 'service_X11',\n",
       " 'service_Z39_50',\n",
       " 'service_aol',\n",
       " 'service_auth',\n",
       " 'service_bgp',\n",
       " 'service_courier',\n",
       " 'service_csnet_ns',\n",
       " 'service_ctf',\n",
       " 'service_daytime',\n",
       " 'service_discard',\n",
       " 'service_domain',\n",
       " 'service_domain_u',\n",
       " 'service_echo',\n",
       " 'service_eco_i',\n",
       " 'service_ecr_i',\n",
       " 'service_efs',\n",
       " 'service_exec',\n",
       " 'service_finger',\n",
       " 'service_ftp',\n",
       " 'service_ftp_data',\n",
       " 'service_gopher',\n",
       " 'service_harvest',\n",
       " 'service_hostnames',\n",
       " 'service_http',\n",
       " 'service_http_2784',\n",
       " 'service_http_443',\n",
       " 'service_http_8001',\n",
       " 'service_imap4',\n",
       " 'service_iso_tsap',\n",
       " 'service_klogin',\n",
       " 'service_kshell',\n",
       " 'service_ldap',\n",
       " 'service_link',\n",
       " 'service_login',\n",
       " 'service_mtp',\n",
       " 'service_name',\n",
       " 'service_netbios_dgm',\n",
       " 'service_netbios_ns',\n",
       " 'service_netbios_ssn',\n",
       " 'service_netstat',\n",
       " 'service_nnsp',\n",
       " 'service_nntp',\n",
       " 'service_ntp_u',\n",
       " 'service_other',\n",
       " 'service_pm_dump',\n",
       " 'service_pop_2',\n",
       " 'service_pop_3',\n",
       " 'service_printer',\n",
       " 'service_private',\n",
       " 'service_red_i',\n",
       " 'service_remote_job',\n",
       " 'service_rje',\n",
       " 'service_shell',\n",
       " 'service_smtp',\n",
       " 'service_sql_net',\n",
       " 'service_ssh',\n",
       " 'service_sunrpc',\n",
       " 'service_supdup',\n",
       " 'service_systat',\n",
       " 'service_telnet',\n",
       " 'service_tftp_u',\n",
       " 'service_tim_i',\n",
       " 'service_time',\n",
       " 'service_urh_i',\n",
       " 'service_urp_i',\n",
       " 'service_uucp',\n",
       " 'service_uucp_path',\n",
       " 'service_vmnet',\n",
       " 'service_whois',\n",
       " 'flag_OTH',\n",
       " 'flag_REJ',\n",
       " 'flag_RSTO',\n",
       " 'flag_RSTOS0',\n",
       " 'flag_RSTR',\n",
       " 'flag_S0',\n",
       " 'flag_S1',\n",
       " 'flag_S2',\n",
       " 'flag_S3',\n",
       " 'flag_SF',\n",
       " 'flag_SH']"
      ]
     },
     "execution_count": 36,
     "metadata": {},
     "output_type": "execute_result"
    }
   ],
   "source": [
    "traincol"
   ]
  },
  {
   "cell_type": "code",
   "execution_count": 37,
   "metadata": {
    "pycharm": {
     "name": "#%%\n"
    }
   },
   "outputs": [
    {
     "data": {
      "text/plain": [
       "['duration',\n",
       " 'src_bytes',\n",
       " 'dst_bytes',\n",
       " 'land',\n",
       " 'wrong_fragment',\n",
       " 'urgent',\n",
       " 'hot',\n",
       " 'num_failed_logins',\n",
       " 'logged_in',\n",
       " 'num_compromised',\n",
       " 'root_shell',\n",
       " 'su_attempted',\n",
       " 'num_root',\n",
       " 'num_file_creations',\n",
       " 'num_shells',\n",
       " 'num_access_files',\n",
       " 'num_outbound_cmds',\n",
       " 'is_host_login',\n",
       " 'is_guest_login',\n",
       " 'count',\n",
       " 'srv_count',\n",
       " 'serror_rate',\n",
       " 'srv_serror_rate',\n",
       " 'rerror_rate',\n",
       " 'srv_rerror_rate',\n",
       " 'same_srv_rate',\n",
       " 'diff_srv_rate',\n",
       " 'srv_diff_host_rate',\n",
       " 'dst_host_count',\n",
       " 'dst_host_srv_count',\n",
       " 'dst_host_same_srv_rate',\n",
       " 'dst_host_diff_srv_rate',\n",
       " 'dst_host_same_src_port_rate',\n",
       " 'dst_host_srv_diff_host_rate',\n",
       " 'dst_host_serror_rate',\n",
       " 'dst_host_srv_serror_rate',\n",
       " 'dst_host_rerror_rate',\n",
       " 'dst_host_srv_rerror_rate',\n",
       " 'difficulty_level',\n",
       " 'protocol_type_icmp',\n",
       " 'protocol_type_tcp',\n",
       " 'protocol_type_udp',\n",
       " 'service_IRC',\n",
       " 'service_X11',\n",
       " 'service_Z39_50',\n",
       " 'service_auth',\n",
       " 'service_bgp',\n",
       " 'service_courier',\n",
       " 'service_csnet_ns',\n",
       " 'service_ctf',\n",
       " 'service_daytime',\n",
       " 'service_discard',\n",
       " 'service_domain',\n",
       " 'service_domain_u',\n",
       " 'service_echo',\n",
       " 'service_eco_i',\n",
       " 'service_ecr_i',\n",
       " 'service_efs',\n",
       " 'service_exec',\n",
       " 'service_finger',\n",
       " 'service_ftp',\n",
       " 'service_ftp_data',\n",
       " 'service_gopher',\n",
       " 'service_hostnames',\n",
       " 'service_http',\n",
       " 'service_http_443',\n",
       " 'service_imap4',\n",
       " 'service_iso_tsap',\n",
       " 'service_klogin',\n",
       " 'service_kshell',\n",
       " 'service_ldap',\n",
       " 'service_link',\n",
       " 'service_login',\n",
       " 'service_mtp',\n",
       " 'service_name',\n",
       " 'service_netbios_dgm',\n",
       " 'service_netbios_ns',\n",
       " 'service_netbios_ssn',\n",
       " 'service_netstat',\n",
       " 'service_nnsp',\n",
       " 'service_nntp',\n",
       " 'service_ntp_u',\n",
       " 'service_other',\n",
       " 'service_pm_dump',\n",
       " 'service_pop_2',\n",
       " 'service_pop_3',\n",
       " 'service_printer',\n",
       " 'service_private',\n",
       " 'service_remote_job',\n",
       " 'service_rje',\n",
       " 'service_shell',\n",
       " 'service_smtp',\n",
       " 'service_sql_net',\n",
       " 'service_ssh',\n",
       " 'service_sunrpc',\n",
       " 'service_supdup',\n",
       " 'service_systat',\n",
       " 'service_telnet',\n",
       " 'service_tftp_u',\n",
       " 'service_tim_i',\n",
       " 'service_time',\n",
       " 'service_urp_i',\n",
       " 'service_uucp',\n",
       " 'service_uucp_path',\n",
       " 'service_vmnet',\n",
       " 'service_whois',\n",
       " 'flag_OTH',\n",
       " 'flag_REJ',\n",
       " 'flag_RSTO',\n",
       " 'flag_RSTOS0',\n",
       " 'flag_RSTR',\n",
       " 'flag_S0',\n",
       " 'flag_S1',\n",
       " 'flag_S2',\n",
       " 'flag_S3',\n",
       " 'flag_SF',\n",
       " 'flag_SH',\n",
       " 'service_http_2784',\n",
       " 'service_aol',\n",
       " 'service_red_i',\n",
       " 'service_http_8001',\n",
       " 'service_harvest',\n",
       " 'service_urh_i']"
      ]
     },
     "execution_count": 37,
     "metadata": {},
     "output_type": "execute_result"
    }
   ],
   "source": [
    "# columns of test data\n",
    "testcol=list(test_X)\n",
    "testcol"
   ]
  },
  {
   "cell_type": "code",
   "execution_count": 38,
   "metadata": {
    "pycharm": {
     "name": "#%%\n"
    }
   },
   "outputs": [],
   "source": [
    "# Now we normalize the data\n",
    "from sklearn import preprocessing\n",
    "min_max_train = preprocessing.MinMaxScaler().fit(train_X)\n",
    "min_max_test = preprocessing.MinMaxScaler().fit(test_X)\n",
    "#transform the data\n",
    "train_X = min_max_train.transform(train_X)\n",
    "test_X = min_max_test.transform(test_X)"
   ]
  },
  {
   "cell_type": "code",
   "execution_count": 39,
   "metadata": {
    "pycharm": {
     "name": "#%%\n"
    }
   },
   "outputs": [
    {
     "data": {
      "text/plain": [
       "{'divide': 'warn', 'over': 'warn', 'under': 'ignore', 'invalid': 'warn'}"
      ]
     },
     "execution_count": 39,
     "metadata": {},
     "output_type": "execute_result"
    }
   ],
   "source": [
    "#Now that our datasets are normalized and numerical, we can do feature selection\n",
    "#We need only the features that are highly dependent on the response variable i.e the output label. We can choose any apropriate feature selection method. In this case, we have chosen Univariate Feature selection method using ANOVA F-Test and Recursive Feature Elimination (RFE) for Feature Ranking. ANOVA means Analysis of Variance.\n",
    "\n",
    "#It is important to find the 'Variance' of the Feature. The variance means how much the feature impacts the response variable. If the variance is low, it means the feature doesnt have any impact on the response and vice-versa.\n",
    "\n",
    "from sklearn.feature_selection import SelectPercentile, f_classif\n",
    "# set to ignore divide and invalid error\n",
    "np.seterr(divide='ignore', invalid='ignore')"
   ]
  },
  {
   "cell_type": "code",
   "execution_count": 40,
   "metadata": {
    "pycharm": {
     "name": "#%%\n"
    }
   },
   "outputs": [
    {
     "name": "stderr",
     "output_type": "stream",
     "text": [
      "C:\\Users\\Jovana\\miniconda3\\envs\\neural_network_DNN\\lib\\site-packages\\sklearn\\feature_selection\\_univariate_selection.py:112: UserWarning: Features [16] are constant.\n",
      "  warnings.warn(\"Features %s are constant.\" % constant_features_idx, UserWarning)\n"
     ]
    }
   ],
   "source": [
    "feature_select = SelectPercentile(f_classif, percentile=10)\n",
    "train_X_new = feature_select.fit_transform(train_X, train_Y)"
   ]
  },
  {
   "cell_type": "code",
   "execution_count": 41,
   "metadata": {
    "pycharm": {
     "name": "#%%\n"
    }
   },
   "outputs": [
    {
     "data": {
      "text/plain": [
       "(125973, 13)"
      ]
     },
     "execution_count": 41,
     "metadata": {},
     "output_type": "execute_result"
    }
   ],
   "source": [
    "train_X_new.shape"
   ]
  },
  {
   "cell_type": "code",
   "execution_count": 42,
   "metadata": {
    "pycharm": {
     "name": "#%%\n"
    }
   },
   "outputs": [],
   "source": [
    "#Only 13 features were selected with this test\n",
    "#Now we have to get them\n",
    "features = feature_select.get_support()"
   ]
  },
  {
   "cell_type": "code",
   "execution_count": 43,
   "metadata": {
    "pycharm": {
     "name": "#%%\n"
    }
   },
   "outputs": [
    {
     "data": {
      "text/plain": [
       "['logged_in',\n",
       " 'count',\n",
       " 'serror_rate',\n",
       " 'srv_serror_rate',\n",
       " 'same_srv_rate',\n",
       " 'dst_host_srv_count',\n",
       " 'dst_host_same_srv_rate',\n",
       " 'dst_host_serror_rate',\n",
       " 'dst_host_srv_serror_rate',\n",
       " 'service_http',\n",
       " 'service_private',\n",
       " 'flag_S0',\n",
       " 'flag_SF']"
      ]
     },
     "execution_count": 43,
     "metadata": {},
     "output_type": "execute_result"
    }
   ],
   "source": [
    "newFeatures_index = [ i for i, x in enumerate(features) if x]\n",
    "newFeature_name = list (traincol[i] for i in newFeatures_index )\n",
    "# Print the features selected\n",
    "newFeature_name"
   ]
  },
  {
   "cell_type": "code",
   "execution_count": 44,
   "metadata": {
    "pycharm": {
     "name": "#%%\n"
    }
   },
   "outputs": [
    {
     "name": "stdout",
     "output_type": "stream",
     "text": [
      "Fitting estimator with 13 features.\n",
      "Fitting estimator with 3 features.\n"
     ]
    },
    {
     "data": {
      "text/plain": [
       "RFE(estimator=LogisticRegression(), n_features_to_select=1, step=10, verbose=5)"
      ]
     },
     "execution_count": 44,
     "metadata": {},
     "output_type": "execute_result"
    }
   ],
   "source": [
    "#Apply Recursive Feature Elimination\n",
    "#The Recursive Feature Elimination (RFE) selects the features by recursively considering smaller and smaller sets of features and rank them as per importance from previously selected. It depends on the classifier chosen. First the estimator or classifier gets trained on the intial set of features and importance of each feature is obtained through coeff_ attribute or featureimportances attribute. The least important features are pruned from current set of features.\n",
    "from sklearn.feature_selection import RFE\n",
    "# import different classifiers\n",
    "from sklearn.linear_model import LogisticRegression\n",
    "rfe_selector = RFE(estimator=LogisticRegression(), n_features_to_select=1, step=10, verbose=5)\n",
    "# rank the features selected by ANNOVA F-TEst\n",
    "rfe_selector.fit(train_X_new, train_Y)"
   ]
  },
  {
   "cell_type": "code",
   "execution_count": 45,
   "metadata": {
    "pycharm": {
     "name": "#%%\n"
    }
   },
   "outputs": [
    {
     "name": "stdout",
     "output_type": "stream",
     "text": [
      "[(1, 'count'), (2, 'dst_host_same_srv_rate'), (2, 'dst_host_srv_count'), (3, 'dst_host_serror_rate'), (3, 'dst_host_srv_serror_rate'), (3, 'flag_S0'), (3, 'flag_SF'), (3, 'logged_in'), (3, 'same_srv_rate'), (3, 'serror_rate'), (3, 'service_http'), (3, 'service_private'), (3, 'srv_serror_rate')]\n"
     ]
    }
   ],
   "source": [
    "print (sorted(zip(map(lambda x: round(x, 4), rfe_selector.ranking_), newFeature_name)))"
   ]
  },
  {
   "cell_type": "code",
   "execution_count": 46,
   "metadata": {
    "pycharm": {
     "name": "#%%\n"
    }
   },
   "outputs": [
    {
     "data": {
      "text/plain": [
       "RFE(estimator=DecisionTreeClassifier(), n_features_to_select=1)"
      ]
     },
     "execution_count": 46,
     "metadata": {},
     "output_type": "execute_result"
    }
   ],
   "source": [
    "# use Decision Tree as estimator to rank the features\n",
    "from sklearn.tree import DecisionTreeClassifier\n",
    "rfe_selector_dt = RFE(estimator=DecisionTreeClassifier(), n_features_to_select=1)\n",
    "rfe_selector_dt.fit(train_X_new, train_Y)"
   ]
  },
  {
   "cell_type": "code",
   "execution_count": 47,
   "metadata": {
    "pycharm": {
     "name": "#%%\n"
    }
   },
   "outputs": [
    {
     "name": "stdout",
     "output_type": "stream",
     "text": [
      "[(1, 'flag_SF'), (2, 'dst_host_same_srv_rate'), (3, 'count'), (4, 'logged_in'), (5, 'dst_host_srv_count'), (6, 'service_private'), (7, 'dst_host_serror_rate'), (8, 'dst_host_srv_serror_rate'), (9, 'same_srv_rate'), (10, 'serror_rate'), (11, 'service_http'), (12, 'srv_serror_rate'), (13, 'flag_S0')]\n"
     ]
    }
   ],
   "source": [
    "print (sorted(zip(map(lambda x: round(x, 4), rfe_selector_dt.ranking_), newFeature_name)))"
   ]
  },
  {
   "cell_type": "code",
   "execution_count": 48,
   "metadata": {
    "pycharm": {
     "name": "#%%\n"
    }
   },
   "outputs": [
    {
     "data": {
      "text/plain": [
       "(125973, 13)"
      ]
     },
     "execution_count": 48,
     "metadata": {},
     "output_type": "execute_result"
    }
   ],
   "source": [
    "#Now we have this dataset that we will use to train the model for binary classification, it has the 13 features that were selected\n",
    "train_X_new.shape"
   ]
  },
  {
   "cell_type": "code",
   "execution_count": 49,
   "metadata": {
    "pycharm": {
     "name": "#%%\n"
    }
   },
   "outputs": [
    {
     "data": {
      "text/plain": [
       "(22544, 13)"
      ]
     },
     "execution_count": 49,
     "metadata": {},
     "output_type": "execute_result"
    }
   ],
   "source": [
    "# Lets make also the test set with those 13 features so we can do the analysis of the model later\n",
    "test_new_X = test_X[:,newFeatures_index]\n",
    "test_new_X.shape"
   ]
  },
  {
   "cell_type": "code",
   "execution_count": 50,
   "metadata": {
    "pycharm": {
     "name": "#%%\n"
    }
   },
   "outputs": [],
   "source": [
    "# Let's build the model now\n",
    "# Using keras to build the model with tensorflow as the backend\n",
    "import tensorflow as tf\n",
    "from tensorflow import keras\n",
    "from keras.models import Sequential\n",
    "from keras.layers import Dense\n",
    "from keras.layers.advanced_activations import PReLU"
   ]
  },
  {
   "cell_type": "code",
   "execution_count": 51,
   "metadata": {
    "pycharm": {
     "name": "#%%\n"
    }
   },
   "outputs": [
    {
     "name": "stdout",
     "output_type": "stream",
     "text": [
      "Epoch 1/50\n",
      "1260/1260 [==============================] - 1s 1ms/step - loss: 0.0347 - accuracy: 0.9887\n",
      "Epoch 2/50\n",
      "1260/1260 [==============================] - 1s 1ms/step - loss: 0.0102 - accuracy: 0.9963\n",
      "Epoch 3/50\n",
      "1260/1260 [==============================] - 1s 1ms/step - loss: 0.0078 - accuracy: 0.9972\n",
      "Epoch 4/50\n",
      "1260/1260 [==============================] - 1s 1ms/step - loss: 0.0065 - accuracy: 0.9975\n",
      "Epoch 5/50\n",
      "1260/1260 [==============================] - 1s 991us/step - loss: 0.0052 - accuracy: 0.9980\n",
      "Epoch 6/50\n",
      "1260/1260 [==============================] - 1s 1ms/step - loss: 0.0045 - accuracy: 0.9983\n",
      "Epoch 7/50\n",
      "1260/1260 [==============================] - 1s 1ms/step - loss: 0.0040 - accuracy: 0.9984\n",
      "Epoch 8/50\n",
      "1260/1260 [==============================] - 1s 1ms/step - loss: 0.0038 - accuracy: 0.9985\n",
      "Epoch 9/50\n",
      "1260/1260 [==============================] - 1s 993us/step - loss: 0.0032 - accuracy: 0.9987\n",
      "Epoch 10/50\n",
      "1260/1260 [==============================] - 1s 1ms/step - loss: 0.0034 - accuracy: 0.9987\n",
      "Epoch 11/50\n",
      "1260/1260 [==============================] - 1s 1ms/step - loss: 0.0030 - accuracy: 0.9988\n",
      "Epoch 12/50\n",
      "1260/1260 [==============================] - 1s 1ms/step - loss: 0.0027 - accuracy: 0.9989\n",
      "Epoch 13/50\n",
      "1260/1260 [==============================] - 1s 979us/step - loss: 0.0030 - accuracy: 0.9988\n",
      "Epoch 14/50\n",
      "1260/1260 [==============================] - 1s 1ms/step - loss: 0.0025 - accuracy: 0.9990\n",
      "Epoch 15/50\n",
      "1260/1260 [==============================] - 1s 1ms/step - loss: 0.0025 - accuracy: 0.9990\n",
      "Epoch 16/50\n",
      "1260/1260 [==============================] - 1s 1ms/step - loss: 0.0024 - accuracy: 0.9991\n",
      "Epoch 17/50\n",
      "1260/1260 [==============================] - 1s 1ms/step - loss: 0.0022 - accuracy: 0.9992\n",
      "Epoch 18/50\n",
      "1260/1260 [==============================] - 1s 996us/step - loss: 0.0025 - accuracy: 0.9991\n",
      "Epoch 19/50\n",
      "1260/1260 [==============================] - 1s 1ms/step - loss: 0.0021 - accuracy: 0.9992\n",
      "Epoch 20/50\n",
      "1260/1260 [==============================] - 1s 989us/step - loss: 0.0020 - accuracy: 0.9992\n",
      "Epoch 21/50\n",
      "1260/1260 [==============================] - 1s 1ms/step - loss: 0.0022 - accuracy: 0.9992\n",
      "Epoch 22/50\n",
      "1260/1260 [==============================] - 1s 992us/step - loss: 0.0019 - accuracy: 0.9993\n",
      "Epoch 23/50\n",
      "1260/1260 [==============================] - 1s 1ms/step - loss: 0.0021 - accuracy: 0.9991\n",
      "Epoch 24/50\n",
      "1260/1260 [==============================] - 1s 969us/step - loss: 0.0018 - accuracy: 0.9993\n",
      "Epoch 25/50\n",
      "1260/1260 [==============================] - 1s 1ms/step - loss: 0.0018 - accuracy: 0.9993\n",
      "Epoch 26/50\n",
      "1260/1260 [==============================] - 1s 1ms/step - loss: 0.0017 - accuracy: 0.9993\n",
      "Epoch 27/50\n",
      "1260/1260 [==============================] - 1s 1ms/step - loss: 0.0023 - accuracy: 0.9991\n",
      "Epoch 28/50\n",
      "1260/1260 [==============================] - 1s 995us/step - loss: 0.0018 - accuracy: 0.9993\n",
      "Epoch 29/50\n",
      "1260/1260 [==============================] - 1s 1ms/step - loss: 0.0015 - accuracy: 0.9994\n",
      "Epoch 30/50\n",
      "1260/1260 [==============================] - 1s 1ms/step - loss: 0.0024 - accuracy: 0.9990\n",
      "Epoch 31/50\n",
      "1260/1260 [==============================] - 1s 1ms/step - loss: 0.0017 - accuracy: 0.9993\n",
      "Epoch 32/50\n",
      "1260/1260 [==============================] - 1s 1ms/step - loss: 0.0016 - accuracy: 0.9993\n",
      "Epoch 33/50\n",
      "1260/1260 [==============================] - 1s 1ms/step - loss: 0.0017 - accuracy: 0.9994\n",
      "Epoch 34/50\n",
      "1260/1260 [==============================] - 1s 1ms/step - loss: 0.0014 - accuracy: 0.9994\n",
      "Epoch 35/50\n",
      "1260/1260 [==============================] - 1s 1ms/step - loss: 0.0019 - accuracy: 0.9992\n",
      "Epoch 36/50\n",
      "1260/1260 [==============================] - 1s 1ms/step - loss: 0.0019 - accuracy: 0.9993\n",
      "Epoch 37/50\n",
      "1260/1260 [==============================] - 1s 1ms/step - loss: 0.0014 - accuracy: 0.9994\n",
      "Epoch 38/50\n",
      "1260/1260 [==============================] - 2s 1ms/step - loss: 0.0015 - accuracy: 0.9994\n",
      "Epoch 39/50\n",
      "1260/1260 [==============================] - 2s 1ms/step - loss: 0.0015 - accuracy: 0.9993\n",
      "Epoch 40/50\n",
      "1260/1260 [==============================] - 1s 978us/step - loss: 0.0018 - accuracy: 0.9993\n",
      "Epoch 41/50\n",
      "1260/1260 [==============================] - 1s 1ms/step - loss: 0.0014 - accuracy: 0.9994\n",
      "Epoch 42/50\n",
      "1260/1260 [==============================] - 1s 1ms/step - loss: 0.0018 - accuracy: 0.9994\n",
      "Epoch 43/50\n",
      "1260/1260 [==============================] - 1s 1ms/step - loss: 0.0014 - accuracy: 0.9994\n",
      "Epoch 44/50\n",
      "1260/1260 [==============================] - 1s 1ms/step - loss: 0.0015 - accuracy: 0.9993\n",
      "Epoch 45/50\n",
      "1260/1260 [==============================] - 1s 1ms/step - loss: 0.0015 - accuracy: 0.9995\n",
      "Epoch 46/50\n",
      "1260/1260 [==============================] - 1s 1ms/step - loss: 0.0014 - accuracy: 0.9995\n",
      "Epoch 47/50\n",
      "1260/1260 [==============================] - 1s 1ms/step - loss: 0.0013 - accuracy: 0.9995\n",
      "Epoch 48/50\n",
      "1260/1260 [==============================] - 1s 1ms/step - loss: 0.0014 - accuracy: 0.9995\n",
      "Epoch 49/50\n",
      "1260/1260 [==============================] - 1s 978us/step - loss: 0.0014 - accuracy: 0.9994\n",
      "Epoch 50/50\n",
      "1260/1260 [==============================] - 1s 966us/step - loss: 0.0016 - accuracy: 0.9994\n"
     ]
    },
    {
     "data": {
      "text/plain": [
       "<tensorflow.python.keras.callbacks.History at 0x22e2991e610>"
      ]
     },
     "execution_count": 51,
     "metadata": {},
     "output_type": "execute_result"
    }
   ],
   "source": [
    "\n",
    "#this one really works\n",
    "model = Sequential()\n",
    "# define the NN architecture and activation function\n",
    "act = PReLU(alpha_initializer='zeros', weights=None)\n",
    "model.add(Dense(128, input_dim=123, activation='relu'))\n",
    "model.add(Dense(64,activation='relu'))\n",
    "model.add(Dense(32, activation='relu'))\n",
    "model.add(Dense(1, activation='sigmoid'))\n",
    "#compile the keras model\n",
    "model.compile(loss='binary_crossentropy', optimizer='adam', metrics= ['accuracy'])\n",
    "# fit keras model on the datset (all features)\n",
    "model.fit(train_X, train_Y, epochs= 50, batch_size= 100)"
   ]
  },
  {
   "cell_type": "code",
   "execution_count": 114,
   "metadata": {
    "pycharm": {
     "name": "#%%\n"
    }
   },
   "outputs": [
    {
     "name": "stdout",
     "output_type": "stream",
     "text": [
      "accuracy: 99.93%\n"
     ]
    }
   ],
   "source": [
    "#training accuracy\n",
    "train_acc = model.evaluate(train_X, train_Y, verbose=0)\n",
    "print(\"%s: %.2f%%\" % (model.metrics_names[1], train_acc[1]*100))"
   ]
  },
  {
   "cell_type": "code",
   "execution_count": 53,
   "metadata": {
    "pycharm": {
     "name": "#%%\n"
    }
   },
   "outputs": [],
   "source": [
    "#calculate the test accuracy using evaluate function\n",
    "test_acc = model.evaluate(test_X, test_Y, verbose=0)"
   ]
  },
  {
   "cell_type": "code",
   "execution_count": 54,
   "metadata": {
    "pycharm": {
     "name": "#%%\n"
    }
   },
   "outputs": [
    {
     "name": "stdout",
     "output_type": "stream",
     "text": [
      "accuracy: 84.47%\n"
     ]
    }
   ],
   "source": [
    "print(\"%s: %.2f%%\" % (model.metrics_names[1], test_acc[1]*100))"
   ]
  },
  {
   "cell_type": "code",
   "execution_count": 55,
   "metadata": {
    "pycharm": {
     "name": "#%%\n"
    }
   },
   "outputs": [
    {
     "name": "stdout",
     "output_type": "stream",
     "text": [
      "WARNING:tensorflow:From C:\\Users\\Jovana\\AppData\\Local\\Temp/ipykernel_13576/3107246686.py:4: Sequential.predict_classes (from tensorflow.python.keras.engine.sequential) is deprecated and will be removed after 2021-01-01.\n",
      "Instructions for updating:\n",
      "Please use instead:* `np.argmax(model.predict(x), axis=-1)`,   if your model does multi-class classification   (e.g. if it uses a `softmax` last-layer activation).* `(model.predict(x) > 0.5).astype(\"int32\")`,   if your model does binary classification   (e.g. if it uses a `sigmoid` last-layer activation).\n"
     ]
    },
    {
     "data": {
      "text/plain": [
       "0.8446593328601846"
      ]
     },
     "execution_count": 55,
     "metadata": {},
     "output_type": "execute_result"
    }
   ],
   "source": [
    "from sklearn.metrics import accuracy_score\n",
    "\n",
    "# or find the prediction accuracy using predict_classes (same as test accuracy)\n",
    "y_pred = model.predict_classes(test_X)\n",
    "pred_accuracy = accuracy_score(test_Y, y_pred)\n",
    "pred_accuracy"
   ]
  },
  {
   "cell_type": "code",
   "execution_count": 56,
   "metadata": {
    "pycharm": {
     "name": "#%%\n"
    }
   },
   "outputs": [
    {
     "name": "stdout",
     "output_type": "stream",
     "text": [
      "Precision : 0.913645\n"
     ]
    }
   ],
   "source": [
    "from sklearn.metrics import precision_score, recall_score, f1_score, roc_auc_score\n",
    "# Precision\n",
    "precision = precision_score(test_Y, y_pred)\n",
    "print('Precision : %f'% precision)"
   ]
  },
  {
   "cell_type": "code",
   "execution_count": 57,
   "metadata": {
    "pycharm": {
     "name": "#%%\n"
    }
   },
   "outputs": [
    {
     "name": "stdout",
     "output_type": "stream",
     "text": [
      "Recall: 0.803008\n"
     ]
    }
   ],
   "source": [
    "# Recall\n",
    "recall = recall_score(test_Y, y_pred)\n",
    "print('Recall: %f' % recall)"
   ]
  },
  {
   "cell_type": "code",
   "execution_count": 58,
   "metadata": {
    "pycharm": {
     "name": "#%%\n"
    }
   },
   "outputs": [
    {
     "name": "stdout",
     "output_type": "stream",
     "text": [
      "F1 score: 0.854761\n"
     ]
    }
   ],
   "source": [
    "# f1-score\n",
    "f1 = f1_score(test_Y, y_pred)\n",
    "print('F1 score: %f' % f1)"
   ]
  },
  {
   "cell_type": "code",
   "execution_count": 59,
   "metadata": {
    "pycharm": {
     "name": "#%%\n"
    }
   },
   "outputs": [
    {
     "name": "stdout",
     "output_type": "stream",
     "text": [
      "ROC_AUC Score: 0.851355\n"
     ]
    }
   ],
   "source": [
    "roc = roc_auc_score(test_Y, y_pred)\n",
    "print('ROC_AUC Score: %f' % roc)"
   ]
  },
  {
   "cell_type": "code",
   "execution_count": 60,
   "metadata": {
    "pycharm": {
     "name": "#%%\n"
    }
   },
   "outputs": [
    {
     "name": "stdout",
     "output_type": "stream",
     "text": [
      "[[ 8737   974]\n",
      " [ 2528 10305]]\n"
     ]
    }
   ],
   "source": [
    "from sklearn.metrics import confusion_matrix\n",
    "\n",
    "# confusion matrix\n",
    "confusionmatrix = confusion_matrix(test_Y, y_pred)\n",
    "print(confusionmatrix)"
   ]
  },
  {
   "cell_type": "code",
   "execution_count": 61,
   "metadata": {
    "pycharm": {
     "name": "#%%\n"
    }
   },
   "outputs": [
    {
     "name": "stdout",
     "output_type": "stream",
     "text": [
      "Epoch 1/50\n",
      "1260/1260 [==============================] - 2s 1ms/step - loss: 0.0233 - accuracy: 0.9923\n",
      "Epoch 2/50\n",
      "1260/1260 [==============================] - 1s 1ms/step - loss: 0.0109 - accuracy: 0.9960\n",
      "Epoch 3/50\n",
      "1260/1260 [==============================] - 1s 1ms/step - loss: 0.0088 - accuracy: 0.9967\n",
      "Epoch 4/50\n",
      "1260/1260 [==============================] - 1s 1ms/step - loss: 0.0078 - accuracy: 0.9971\n",
      "Epoch 5/50\n",
      "1260/1260 [==============================] - 1s 1ms/step - loss: 0.0068 - accuracy: 0.9973\n",
      "Epoch 6/50\n",
      "1260/1260 [==============================] - 1s 1ms/step - loss: 0.0068 - accuracy: 0.9975\n",
      "Epoch 7/50\n",
      "1260/1260 [==============================] - 1s 1ms/step - loss: 0.0061 - accuracy: 0.9977\n",
      "Epoch 8/50\n",
      "1260/1260 [==============================] - 2s 1ms/step - loss: 0.0054 - accuracy: 0.9980\n",
      "Epoch 9/50\n",
      "1260/1260 [==============================] - 2s 1ms/step - loss: 0.0053 - accuracy: 0.9981\n",
      "Epoch 10/50\n",
      "1260/1260 [==============================] - 2s 1ms/step - loss: 0.0049 - accuracy: 0.9982\n",
      "Epoch 11/50\n",
      "1260/1260 [==============================] - 1s 1ms/step - loss: 0.0045 - accuracy: 0.9984\n",
      "Epoch 12/50\n",
      "1260/1260 [==============================] - 1s 1ms/step - loss: 0.0042 - accuracy: 0.9985\n",
      "Epoch 13/50\n",
      "1260/1260 [==============================] - 1s 1ms/step - loss: 0.0041 - accuracy: 0.9985\n",
      "Epoch 14/50\n",
      "1260/1260 [==============================] - 1s 1ms/step - loss: 0.0042 - accuracy: 0.9984\n",
      "Epoch 15/50\n",
      "1260/1260 [==============================] - 1s 1ms/step - loss: 0.0035 - accuracy: 0.9987\n",
      "Epoch 16/50\n",
      "1260/1260 [==============================] - 2s 1ms/step - loss: 0.0040 - accuracy: 0.9984\n",
      "Epoch 17/50\n",
      "1260/1260 [==============================] - 1s 1ms/step - loss: 0.0038 - accuracy: 0.9986\n",
      "Epoch 18/50\n",
      "1260/1260 [==============================] - 1s 1ms/step - loss: 0.0032 - accuracy: 0.9988\n",
      "Epoch 19/50\n",
      "1260/1260 [==============================] - 1s 1ms/step - loss: 0.0033 - accuracy: 0.9987\n",
      "Epoch 20/50\n",
      "1260/1260 [==============================] - 1s 1ms/step - loss: 0.0033 - accuracy: 0.9987\n",
      "Epoch 21/50\n",
      "1260/1260 [==============================] - 1s 1ms/step - loss: 0.0030 - accuracy: 0.9988\n",
      "Epoch 22/50\n",
      "1260/1260 [==============================] - 1s 1ms/step - loss: 0.0026 - accuracy: 0.9991\n",
      "Epoch 23/50\n",
      "1260/1260 [==============================] - 1s 1ms/step - loss: 0.0030 - accuracy: 0.9988\n",
      "Epoch 24/50\n",
      "1260/1260 [==============================] - 1s 1ms/step - loss: 0.0030 - accuracy: 0.9988\n",
      "Epoch 25/50\n",
      "1260/1260 [==============================] - 1s 1ms/step - loss: 0.0030 - accuracy: 0.9990\n",
      "Epoch 26/50\n",
      "1260/1260 [==============================] - 1s 1ms/step - loss: 0.0031 - accuracy: 0.9989\n",
      "Epoch 27/50\n",
      "1260/1260 [==============================] - 1s 1ms/step - loss: 0.0028 - accuracy: 0.9989\n",
      "Epoch 28/50\n",
      "1260/1260 [==============================] - 1s 1ms/step - loss: 0.0026 - accuracy: 0.9990\n",
      "Epoch 29/50\n",
      "1260/1260 [==============================] - 2s 1ms/step - loss: 0.0025 - accuracy: 0.9991\n",
      "Epoch 30/50\n",
      "1260/1260 [==============================] - 1s 1ms/step - loss: 0.0023 - accuracy: 0.9991\n",
      "Epoch 31/50\n",
      "1260/1260 [==============================] - 2s 1ms/step - loss: 0.0024 - accuracy: 0.9990\n",
      "Epoch 32/50\n",
      "1260/1260 [==============================] - 2s 1ms/step - loss: 0.0024 - accuracy: 0.9990\n",
      "Epoch 33/50\n",
      "1260/1260 [==============================] - 2s 1ms/step - loss: 0.0026 - accuracy: 0.9990\n",
      "Epoch 34/50\n",
      "1260/1260 [==============================] - 2s 1ms/step - loss: 0.0022 - accuracy: 0.9991\n",
      "Epoch 35/50\n",
      "1260/1260 [==============================] - 2s 1ms/step - loss: 0.0025 - accuracy: 0.9990\n",
      "Epoch 36/50\n",
      "1260/1260 [==============================] - 2s 1ms/step - loss: 0.0020 - accuracy: 0.9992\n",
      "Epoch 37/50\n",
      "1260/1260 [==============================] - 2s 1ms/step - loss: 0.0022 - accuracy: 0.9992\n",
      "Epoch 38/50\n",
      "1260/1260 [==============================] - 2s 1ms/step - loss: 0.0024 - accuracy: 0.9991\n",
      "Epoch 39/50\n",
      "1260/1260 [==============================] - 2s 1ms/step - loss: 0.0022 - accuracy: 0.9991\n",
      "Epoch 40/50\n",
      "1260/1260 [==============================] - 2s 1ms/step - loss: 0.0020 - accuracy: 0.9992\n",
      "Epoch 41/50\n",
      "1260/1260 [==============================] - 2s 1ms/step - loss: 0.0021 - accuracy: 0.9992\n",
      "Epoch 42/50\n",
      "1260/1260 [==============================] - 2s 1ms/step - loss: 0.0022 - accuracy: 0.9992\n",
      "Epoch 43/50\n",
      "1260/1260 [==============================] - 2s 1ms/step - loss: 0.0020 - accuracy: 0.9992\n",
      "Epoch 44/50\n",
      "1260/1260 [==============================] - 2s 1ms/step - loss: 0.0022 - accuracy: 0.9990\n",
      "Epoch 45/50\n",
      "1260/1260 [==============================] - 1s 1ms/step - loss: 0.0021 - accuracy: 0.9992\n",
      "Epoch 46/50\n",
      "1260/1260 [==============================] - 1s 1ms/step - loss: 0.0021 - accuracy: 0.9992\n",
      "Epoch 47/50\n",
      "1260/1260 [==============================] - 1s 1ms/step - loss: 0.0021 - accuracy: 0.9992\n",
      "Epoch 48/50\n",
      "1260/1260 [==============================] - 1s 1ms/step - loss: 0.0022 - accuracy: 0.9992\n",
      "Epoch 49/50\n",
      "1260/1260 [==============================] - 2s 1ms/step - loss: 0.0019 - accuracy: 0.9992\n",
      "Epoch 50/50\n",
      "1260/1260 [==============================] - 2s 1ms/step - loss: 0.0018 - accuracy: 0.9993\n"
     ]
    },
    {
     "data": {
      "text/plain": [
       "<tensorflow.python.keras.callbacks.History at 0x22e2b121580>"
      ]
     },
     "execution_count": 61,
     "metadata": {},
     "output_type": "execute_result"
    }
   ],
   "source": [
    "from tensorflow.python.keras.layers import Activation, Dropout\n",
    "from keras.optimizers import SGD\n",
    "train_X_1=train_X\n",
    "model1 = Sequential()\n",
    "# define the NN architecture and activation function\n",
    "\n",
    "model1.add(Dense(128, input_dim=123))\n",
    "model1.add(Activation(act))\n",
    "model1.add(Dense(64))\n",
    "model1.add(Activation('relu'))\n",
    "model1.add(Dense(31))\n",
    "model1.add(Activation('relu'))\n",
    "model1.add(Dense(1))\n",
    "model1.add(Activation('sigmoid'))\n",
    "\n",
    "sgd =SGD(lr=0.1, decay=1e-6, momentum=0.9, nesterov=True)\n",
    "model1.compile(loss='binary_crossentropy', optimizer=sgd, metrics= ['accuracy'])\n",
    "model1.fit(train_X_1, train_Y, epochs=50, batch_size=100)"
   ]
  },
  {
   "cell_type": "code",
   "execution_count": 115,
   "metadata": {
    "pycharm": {
     "name": "#%%\n"
    }
   },
   "outputs": [
    {
     "name": "stdout",
     "output_type": "stream",
     "text": [
      "accuracy: 99.86%\n"
     ]
    }
   ],
   "source": [
    "#training accuracy\n",
    "train_acc1 = model1.evaluate(train_X_1, train_Y, verbose=0)\n",
    "print(\"%s: %.2f%%\" % (model1.metrics_names[1], train_acc1[1]*100))"
   ]
  },
  {
   "cell_type": "code",
   "execution_count": 63,
   "metadata": {
    "pycharm": {
     "name": "#%%\n"
    }
   },
   "outputs": [
    {
     "name": "stdout",
     "output_type": "stream",
     "text": [
      "accuracy: 82.39%\n"
     ]
    }
   ],
   "source": [
    "#calculate the test accuracy using evaluate function\n",
    "test_acc1 = model1.evaluate(test_X, test_Y, verbose=0)\n",
    "print(\"%s: %.2f%%\" % (model1.metrics_names[1], test_acc1[1] * 100))"
   ]
  },
  {
   "cell_type": "code",
   "execution_count": 64,
   "metadata": {
    "pycharm": {
     "name": "#%%\n"
    }
   },
   "outputs": [
    {
     "data": {
      "text/plain": [
       "0.8238999290276792"
      ]
     },
     "execution_count": 64,
     "metadata": {},
     "output_type": "execute_result"
    }
   ],
   "source": [
    "# or find the prediction accuracy using predict_classes (same as test accuracy)\n",
    "y_pred1 = model1.predict_classes(test_X)\n",
    "pred_accuracy1 = accuracy_score(test_Y, y_pred1)\n",
    "pred_accuracy1"
   ]
  },
  {
   "cell_type": "code",
   "execution_count": 65,
   "metadata": {
    "pycharm": {
     "name": "#%%\n"
    }
   },
   "outputs": [
    {
     "name": "stdout",
     "output_type": "stream",
     "text": [
      "Precision : 0.930368\n"
     ]
    }
   ],
   "source": [
    "# Precision\n",
    "precision1 = precision_score(test_Y, y_pred1)\n",
    "print('Precision : %f'% precision1)"
   ]
  },
  {
   "cell_type": "code",
   "execution_count": 66,
   "metadata": {
    "pycharm": {
     "name": "#%%\n"
    }
   },
   "outputs": [
    {
     "name": "stdout",
     "output_type": "stream",
     "text": [
      "Recall: 0.746513\n"
     ]
    }
   ],
   "source": [
    "# Recall\n",
    "recall1 = recall_score(test_Y, y_pred1)\n",
    "print('Recall: %f' % recall1)"
   ]
  },
  {
   "cell_type": "code",
   "execution_count": 67,
   "metadata": {
    "pycharm": {
     "name": "#%%\n"
    }
   },
   "outputs": [
    {
     "name": "stdout",
     "output_type": "stream",
     "text": [
      "F1 score: 0.828361\n"
     ]
    }
   ],
   "source": [
    "# f1-score\n",
    "f1_1 = f1_score(test_Y, y_pred1)\n",
    "print('F1 score: %f' % f1_1)"
   ]
  },
  {
   "cell_type": "code",
   "execution_count": 68,
   "metadata": {
    "pycharm": {
     "name": "#%%\n"
    }
   },
   "outputs": [
    {
     "name": "stdout",
     "output_type": "stream",
     "text": [
      "ROC_AUC Score: 0.836340\n"
     ]
    }
   ],
   "source": [
    "roc1 = roc_auc_score(test_Y, y_pred1)\n",
    "print('ROC_AUC Score: %f' % roc1)"
   ]
  },
  {
   "cell_type": "code",
   "execution_count": 69,
   "metadata": {
    "pycharm": {
     "name": "#%%\n"
    }
   },
   "outputs": [
    {
     "name": "stdout",
     "output_type": "stream",
     "text": [
      "[[8994  717]\n",
      " [3253 9580]]\n"
     ]
    }
   ],
   "source": [
    "# confusion matrix\n",
    "confusionmatrix1 = confusion_matrix(test_Y, y_pred1)\n",
    "print(confusionmatrix1)"
   ]
  },
  {
   "cell_type": "code",
   "execution_count": 89,
   "metadata": {
    "pycharm": {
     "name": "#%%\n"
    }
   },
   "outputs": [
    {
     "name": "stdout",
     "output_type": "stream",
     "text": [
      "Epoch 1/50\n",
      "1260/1260 [==============================] - 1s 1ms/step - loss: 0.1314 - accuracy: 0.9532\n",
      "Epoch 2/50\n",
      "1260/1260 [==============================] - 1s 1ms/step - loss: 0.1154 - accuracy: 0.9585\n",
      "Epoch 3/50\n",
      "1260/1260 [==============================] - 1s 1ms/step - loss: 0.1118 - accuracy: 0.9601\n",
      "Epoch 4/50\n",
      "1260/1260 [==============================] - 1s 1ms/step - loss: 0.1101 - accuracy: 0.9605\n",
      "Epoch 5/50\n",
      "1260/1260 [==============================] - 1s 1ms/step - loss: 0.1084 - accuracy: 0.9614\n",
      "Epoch 6/50\n",
      "1260/1260 [==============================] - 1s 1ms/step - loss: 0.1075 - accuracy: 0.9616\n",
      "Epoch 7/50\n",
      "1260/1260 [==============================] - 1s 1ms/step - loss: 0.1059 - accuracy: 0.9626\n",
      "Epoch 8/50\n",
      "1260/1260 [==============================] - 1s 1ms/step - loss: 0.1053 - accuracy: 0.9625\n",
      "Epoch 9/50\n",
      "1260/1260 [==============================] - 1s 1ms/step - loss: 0.1040 - accuracy: 0.9628\n",
      "Epoch 10/50\n",
      "1260/1260 [==============================] - 1s 1ms/step - loss: 0.1032 - accuracy: 0.9631\n",
      "Epoch 11/50\n",
      "1260/1260 [==============================] - 1s 1ms/step - loss: 0.1029 - accuracy: 0.9633\n",
      "Epoch 12/50\n",
      "1260/1260 [==============================] - 2s 1ms/step - loss: 0.1021 - accuracy: 0.9638\n",
      "Epoch 13/50\n",
      "1260/1260 [==============================] - 1s 1ms/step - loss: 0.1009 - accuracy: 0.9641\n",
      "Epoch 14/50\n",
      "1260/1260 [==============================] - 1s 1ms/step - loss: 0.1007 - accuracy: 0.9644\n",
      "Epoch 15/50\n",
      "1260/1260 [==============================] - 1s 1ms/step - loss: 0.1002 - accuracy: 0.9643\n",
      "Epoch 16/50\n",
      "1260/1260 [==============================] - 1s 1ms/step - loss: 0.0998 - accuracy: 0.9645\n",
      "Epoch 17/50\n",
      "1260/1260 [==============================] - 2s 1ms/step - loss: 0.0988 - accuracy: 0.9650\n",
      "Epoch 18/50\n",
      "1260/1260 [==============================] - 1s 1ms/step - loss: 0.0985 - accuracy: 0.9652\n",
      "Epoch 19/50\n",
      "1260/1260 [==============================] - 1s 1ms/step - loss: 0.0980 - accuracy: 0.9650\n",
      "Epoch 20/50\n",
      "1260/1260 [==============================] - 1s 1ms/step - loss: 0.0980 - accuracy: 0.9649\n",
      "Epoch 21/50\n",
      "1260/1260 [==============================] - 1s 1ms/step - loss: 0.0968 - accuracy: 0.9654\n",
      "Epoch 22/50\n",
      "1260/1260 [==============================] - 1s 1ms/step - loss: 0.0970 - accuracy: 0.9653\n",
      "Epoch 23/50\n",
      "1260/1260 [==============================] - 1s 1ms/step - loss: 0.0967 - accuracy: 0.9653\n",
      "Epoch 24/50\n",
      "1260/1260 [==============================] - 1s 1ms/step - loss: 0.0959 - accuracy: 0.9656\n",
      "Epoch 25/50\n",
      "1260/1260 [==============================] - 1s 1ms/step - loss: 0.0962 - accuracy: 0.9657\n",
      "Epoch 26/50\n",
      "1260/1260 [==============================] - 1s 1ms/step - loss: 0.0953 - accuracy: 0.9656\n",
      "Epoch 27/50\n",
      "1260/1260 [==============================] - 1s 1ms/step - loss: 0.0952 - accuracy: 0.9663\n",
      "Epoch 28/50\n",
      "1260/1260 [==============================] - 1s 1ms/step - loss: 0.0942 - accuracy: 0.9660\n",
      "Epoch 29/50\n",
      "1260/1260 [==============================] - 1s 1ms/step - loss: 0.0942 - accuracy: 0.9663\n",
      "Epoch 30/50\n",
      "1260/1260 [==============================] - 1s 1ms/step - loss: 0.0944 - accuracy: 0.9663\n",
      "Epoch 31/50\n",
      "1260/1260 [==============================] - 1s 1ms/step - loss: 0.0941 - accuracy: 0.9667\n",
      "Epoch 32/50\n",
      "1260/1260 [==============================] - 1s 1ms/step - loss: 0.0949 - accuracy: 0.9661\n",
      "Epoch 33/50\n",
      "1260/1260 [==============================] - 1s 1ms/step - loss: 0.0936 - accuracy: 0.9665\n",
      "Epoch 34/50\n",
      "1260/1260 [==============================] - 1s 1ms/step - loss: 0.0928 - accuracy: 0.9666\n",
      "Epoch 35/50\n",
      "1260/1260 [==============================] - 1s 1ms/step - loss: 0.0936 - accuracy: 0.9667\n",
      "Epoch 36/50\n",
      "1260/1260 [==============================] - 1s 1ms/step - loss: 0.0937 - accuracy: 0.9663\n",
      "Epoch 37/50\n",
      "1260/1260 [==============================] - 1s 1ms/step - loss: 0.0924 - accuracy: 0.9668\n",
      "Epoch 38/50\n",
      "1260/1260 [==============================] - 1s 1ms/step - loss: 0.0924 - accuracy: 0.9668\n",
      "Epoch 39/50\n",
      "1260/1260 [==============================] - 1s 1ms/step - loss: 0.0928 - accuracy: 0.9665\n",
      "Epoch 40/50\n",
      "1260/1260 [==============================] - 1s 1ms/step - loss: 0.0918 - accuracy: 0.9674\n",
      "Epoch 41/50\n",
      "1260/1260 [==============================] - 1s 1ms/step - loss: 0.0928 - accuracy: 0.9670\n",
      "Epoch 42/50\n",
      "1260/1260 [==============================] - 1s 1ms/step - loss: 0.0924 - accuracy: 0.9668\n",
      "Epoch 43/50\n",
      "1260/1260 [==============================] - 1s 1ms/step - loss: 0.0918 - accuracy: 0.9672\n",
      "Epoch 44/50\n",
      "1260/1260 [==============================] - 1s 1ms/step - loss: 0.0915 - accuracy: 0.9673\n",
      "Epoch 45/50\n",
      "1260/1260 [==============================] - 1s 1ms/step - loss: 0.0923 - accuracy: 0.9665\n",
      "Epoch 46/50\n",
      "1260/1260 [==============================] - 1s 1ms/step - loss: 0.0916 - accuracy: 0.9673\n",
      "Epoch 47/50\n",
      "1260/1260 [==============================] - 1s 1ms/step - loss: 0.0909 - accuracy: 0.9677\n",
      "Epoch 48/50\n",
      "1260/1260 [==============================] - 1s 1ms/step - loss: 0.0918 - accuracy: 0.9673\n",
      "Epoch 49/50\n",
      "1260/1260 [==============================] - 1s 1ms/step - loss: 0.0907 - accuracy: 0.9672\n",
      "Epoch 50/50\n",
      "1260/1260 [==============================] - 1s 1ms/step - loss: 0.0905 - accuracy: 0.9677\n"
     ]
    },
    {
     "data": {
      "text/plain": [
       "<tensorflow.python.keras.callbacks.History at 0x22e2921bc40>"
      ]
     },
     "execution_count": 89,
     "metadata": {},
     "output_type": "execute_result"
    }
   ],
   "source": [
    "#lets try with the 13 attrs\n",
    "model2 = Sequential()\n",
    "# define the NN architecture and activation function\n",
    "\n",
    "model2.add(Dense(128, input_dim=13))\n",
    "model2.add(Activation(act))\n",
    "model2.add(Dense(64))\n",
    "model2.add(Activation('relu'))\n",
    "model2.add(Dense(32))\n",
    "model2.add(Activation('relu'))\n",
    "model2.add(Dense(1))\n",
    "model2.add(Activation('sigmoid'))\n",
    "\n",
    "sgd =SGD(lr=0.1, decay=1e-6, momentum=0.9, nesterov=True)\n",
    "model2.compile(loss='binary_crossentropy', optimizer=sgd, metrics= ['accuracy'])\n",
    "model2.fit(train_X_new, train_Y, epochs=50, batch_size=100)"
   ]
  },
  {
   "cell_type": "code",
   "execution_count": 113,
   "metadata": {
    "pycharm": {
     "name": "#%%\n"
    }
   },
   "outputs": [
    {
     "name": "stdout",
     "output_type": "stream",
     "text": [
      "accuracy: 96.01%\n"
     ]
    }
   ],
   "source": [
    "#training accuracy\n",
    "train_acc2 = model2.evaluate(train_X_new, train_Y, verbose=0)\n",
    "print(\"%s: %.2f%%\" % (model2.metrics_names[1], train_acc2[1]*100))"
   ]
  },
  {
   "cell_type": "code",
   "execution_count": 91,
   "metadata": {
    "pycharm": {
     "name": "#%%\n"
    }
   },
   "outputs": [
    {
     "name": "stdout",
     "output_type": "stream",
     "text": [
      "accuracy: 71.59%\n"
     ]
    }
   ],
   "source": [
    "#calculate the test accuracy using evaluate function\n",
    "test_acc2 = model2.evaluate(test_new_X, test_Y, verbose=0)\n",
    "print(\"%s: %.2f%%\" % (model2.metrics_names[1], test_acc2[1] * 100))"
   ]
  },
  {
   "cell_type": "code",
   "execution_count": 92,
   "metadata": {
    "pycharm": {
     "name": "#%%\n"
    }
   },
   "outputs": [
    {
     "data": {
      "text/plain": [
       "0.7159332860184529"
      ]
     },
     "execution_count": 92,
     "metadata": {},
     "output_type": "execute_result"
    }
   ],
   "source": [
    "# or find the prediction accuracy using predict_classes (same as test accuracy)\n",
    "y_pred2 = model2.predict_classes(test_new_X)\n",
    "pred_accuracy2 = accuracy_score(test_Y, y_pred2)\n",
    "pred_accuracy2"
   ]
  },
  {
   "cell_type": "code",
   "execution_count": 93,
   "metadata": {
    "pycharm": {
     "name": "#%%\n"
    }
   },
   "outputs": [
    {
     "name": "stdout",
     "output_type": "stream",
     "text": [
      "Precision : 0.829726\n"
     ]
    }
   ],
   "source": [
    "# Precision\n",
    "precision2 = precision_score(test_Y, y_pred2)\n",
    "print('Precision : %f'% precision2)"
   ]
  },
  {
   "cell_type": "code",
   "execution_count": 94,
   "metadata": {
    "pycharm": {
     "name": "#%%\n"
    }
   },
   "outputs": [
    {
     "name": "stdout",
     "output_type": "stream",
     "text": [
      "Recall: 0.630328\n"
     ]
    }
   ],
   "source": [
    "# Recall\n",
    "recall2 = recall_score(test_Y, y_pred2)\n",
    "print('Recall: %f' % recall2)"
   ]
  },
  {
   "cell_type": "code",
   "execution_count": 95,
   "metadata": {
    "pycharm": {
     "name": "#%%\n"
    }
   },
   "outputs": [
    {
     "name": "stdout",
     "output_type": "stream",
     "text": [
      "F1 score: 0.716411\n"
     ]
    }
   ],
   "source": [
    "# f1-score\n",
    "f1_2 = f1_score(test_Y, y_pred2)\n",
    "print('F1 score: %f' % f1_2)"
   ]
  },
  {
   "cell_type": "code",
   "execution_count": 96,
   "metadata": {
    "pycharm": {
     "name": "#%%\n"
    }
   },
   "outputs": [
    {
     "name": "stdout",
     "output_type": "stream",
     "text": [
      "ROC_AUC Score: 0.729694\n"
     ]
    }
   ],
   "source": [
    "roc2 = roc_auc_score(test_Y, y_pred2)\n",
    "print('ROC_AUC Score: %f' % roc2)"
   ]
  },
  {
   "cell_type": "code",
   "execution_count": 97,
   "metadata": {
    "pycharm": {
     "name": "#%%\n"
    }
   },
   "outputs": [
    {
     "name": "stdout",
     "output_type": "stream",
     "text": [
      "[[8051 1660]\n",
      " [4744 8089]]\n"
     ]
    }
   ],
   "source": [
    "# confusion matrix\n",
    "confusionmatrix2 = confusion_matrix(test_Y, y_pred2)\n",
    "print(confusionmatrix2)"
   ]
  },
  {
   "cell_type": "code",
   "execution_count": 79,
   "metadata": {
    "pycharm": {
     "name": "#%%\n"
    }
   },
   "outputs": [],
   "source": [
    "#onaj prvi sa svim features mi je bolje odradio"
   ]
  },
  {
   "cell_type": "code",
   "execution_count": 154,
   "metadata": {
    "pycharm": {
     "name": "#%%\n"
    }
   },
   "outputs": [
    {
     "name": "stdout",
     "output_type": "stream",
     "text": [
      "Epoch 1/35\n",
      "1260/1260 [==============================] - 1s 1ms/step - loss: 0.1344 - accuracy: 0.9523\n",
      "Epoch 2/35\n",
      "1260/1260 [==============================] - 1s 1ms/step - loss: 0.1168 - accuracy: 0.9581\n",
      "Epoch 3/35\n",
      "1260/1260 [==============================] - 1s 1ms/step - loss: 0.1133 - accuracy: 0.9595\n",
      "Epoch 4/35\n",
      "1260/1260 [==============================] - 1s 1ms/step - loss: 0.1111 - accuracy: 0.9605\n",
      "Epoch 5/35\n",
      "1260/1260 [==============================] - 1s 1ms/step - loss: 0.1090 - accuracy: 0.9605\n",
      "Epoch 6/35\n",
      "1260/1260 [==============================] - 1s 1ms/step - loss: 0.1079 - accuracy: 0.9615\n",
      "Epoch 7/35\n",
      "1260/1260 [==============================] - 1s 1ms/step - loss: 0.1070 - accuracy: 0.9622\n",
      "Epoch 8/35\n",
      "1260/1260 [==============================] - 1s 1ms/step - loss: 0.1056 - accuracy: 0.9620\n",
      "Epoch 9/35\n",
      "1260/1260 [==============================] - 1s 1ms/step - loss: 0.1052 - accuracy: 0.9620\n",
      "Epoch 10/35\n",
      "1260/1260 [==============================] - 1s 1ms/step - loss: 0.1041 - accuracy: 0.9629\n",
      "Epoch 11/35\n",
      "1260/1260 [==============================] - 2s 1ms/step - loss: 0.1032 - accuracy: 0.9633\n",
      "Epoch 12/35\n",
      "1260/1260 [==============================] - 1s 1ms/step - loss: 0.1026 - accuracy: 0.9632\n",
      "Epoch 13/35\n",
      "1260/1260 [==============================] - 1s 1ms/step - loss: 0.1021 - accuracy: 0.9634\n",
      "Epoch 14/35\n",
      "1260/1260 [==============================] - 2s 1ms/step - loss: 0.1012 - accuracy: 0.9637\n",
      "Epoch 15/35\n",
      "1260/1260 [==============================] - 2s 1ms/step - loss: 0.1009 - accuracy: 0.9637\n",
      "Epoch 16/35\n",
      "1260/1260 [==============================] - 1s 1ms/step - loss: 0.1003 - accuracy: 0.9640\n",
      "Epoch 17/35\n",
      "1260/1260 [==============================] - 1s 1ms/step - loss: 0.1003 - accuracy: 0.9640\n",
      "Epoch 18/35\n",
      "1260/1260 [==============================] - 1s 1ms/step - loss: 0.1001 - accuracy: 0.9642\n",
      "Epoch 19/35\n",
      "1260/1260 [==============================] - 1s 1ms/step - loss: 0.0991 - accuracy: 0.9648\n",
      "Epoch 20/35\n",
      "1260/1260 [==============================] - 1s 1ms/step - loss: 0.0985 - accuracy: 0.9649\n",
      "Epoch 21/35\n",
      "1260/1260 [==============================] - 2s 1ms/step - loss: 0.0991 - accuracy: 0.9641\n",
      "Epoch 22/35\n",
      "1260/1260 [==============================] - 2s 1ms/step - loss: 0.0983 - accuracy: 0.9648\n",
      "Epoch 23/35\n",
      "1260/1260 [==============================] - 1s 1ms/step - loss: 0.0973 - accuracy: 0.9650\n",
      "Epoch 24/35\n",
      "1260/1260 [==============================] - 2s 1ms/step - loss: 0.0971 - accuracy: 0.9655\n",
      "Epoch 25/35\n",
      "1260/1260 [==============================] - 2s 1ms/step - loss: 0.0970 - accuracy: 0.9651\n",
      "Epoch 26/35\n",
      "1260/1260 [==============================] - 1s 1ms/step - loss: 0.0966 - accuracy: 0.9655\n",
      "Epoch 27/35\n",
      "1260/1260 [==============================] - 1s 1ms/step - loss: 0.0967 - accuracy: 0.9654\n",
      "Epoch 28/35\n",
      "1260/1260 [==============================] - 1s 1ms/step - loss: 0.0964 - accuracy: 0.9655\n",
      "Epoch 29/35\n",
      "1260/1260 [==============================] - 1s 1ms/step - loss: 0.0960 - accuracy: 0.9657\n",
      "Epoch 30/35\n",
      "1260/1260 [==============================] - 1s 1ms/step - loss: 0.0957 - accuracy: 0.9655\n",
      "Epoch 31/35\n",
      "1260/1260 [==============================] - 1s 1ms/step - loss: 0.0944 - accuracy: 0.9663\n",
      "Epoch 32/35\n",
      "1260/1260 [==============================] - 1s 1ms/step - loss: 0.0956 - accuracy: 0.9657\n",
      "Epoch 33/35\n",
      "1260/1260 [==============================] - 1s 1ms/step - loss: 0.0948 - accuracy: 0.9659\n",
      "Epoch 34/35\n",
      "1260/1260 [==============================] - 2s 1ms/step - loss: 0.0947 - accuracy: 0.9661\n",
      "Epoch 35/35\n",
      "1260/1260 [==============================] - 2s 2ms/step - loss: 0.0938 - accuracy: 0.9661\n"
     ]
    },
    {
     "data": {
      "text/plain": [
       "<tensorflow.python.keras.callbacks.History at 0x22e332e6dc0>"
      ]
     },
     "execution_count": 154,
     "metadata": {},
     "output_type": "execute_result"
    }
   ],
   "source": [
    "model3 = Sequential()\n",
    "# define the NN architecture and activation function\n",
    "act2 = PReLU(alpha_initializer='zeros', weights=None)\n",
    "model3.add(Dense(64, input_dim=13))\n",
    "model3.add(Activation(act2))\n",
    "model3.add(Dense(64))\n",
    "model3.add(Activation(act2))\n",
    "model3.add(Dense(64))\n",
    "model3.add(Activation(act2))\n",
    "model3.add(Dense(1))\n",
    "model3.add(Activation('sigmoid'))\n",
    "\n",
    "sgd =SGD(lr=0.1, decay=1e-6, momentum=0.9, nesterov=True)\n",
    "model3.compile(loss='binary_crossentropy', optimizer=sgd, metrics= ['accuracy'])\n",
    "model3.fit(train_X_new, train_Y, epochs=35, batch_size=100)"
   ]
  },
  {
   "cell_type": "code",
   "execution_count": 155,
   "metadata": {
    "pycharm": {
     "name": "#%%\n"
    }
   },
   "outputs": [
    {
     "name": "stdout",
     "output_type": "stream",
     "text": [
      "accuracy: 96.66%\n"
     ]
    }
   ],
   "source": [
    "#training accuracy\n",
    "train_acc3 = model3.evaluate(train_X_new, train_Y, verbose=0)\n",
    "print(\"%s: %.2f%%\" % (model3.metrics_names[1], train_acc3[1]*100))"
   ]
  },
  {
   "cell_type": "code",
   "execution_count": 156,
   "metadata": {
    "pycharm": {
     "name": "#%%\n"
    }
   },
   "outputs": [
    {
     "name": "stdout",
     "output_type": "stream",
     "text": [
      "accuracy: 70.65%\n"
     ]
    }
   ],
   "source": [
    "#calculate the test accuracy using evaluate function\n",
    "test_acc3 = model3.evaluate(test_new_X, test_Y, verbose=0)\n",
    "print(\"%s: %.2f%%\" % (model3.metrics_names[1], test_acc3[1] * 100))"
   ]
  },
  {
   "cell_type": "code",
   "execution_count": 157,
   "metadata": {
    "pycharm": {
     "name": "#%%\n"
    }
   },
   "outputs": [
    {
     "data": {
      "text/plain": [
       "0.7065294535131299"
      ]
     },
     "execution_count": 157,
     "metadata": {},
     "output_type": "execute_result"
    }
   ],
   "source": [
    "# or find the prediction accuracy using predict_classes (same as test accuracy)\n",
    "y_pred3 = model3.predict_classes(test_new_X)\n",
    "pred_accuracy3 = accuracy_score(test_Y, y_pred3)\n",
    "pred_accuracy3"
   ]
  },
  {
   "cell_type": "code",
   "execution_count": 158,
   "metadata": {
    "pycharm": {
     "name": "#%%\n"
    }
   },
   "outputs": [
    {
     "name": "stdout",
     "output_type": "stream",
     "text": [
      "Precision : 0.834643\n"
     ]
    }
   ],
   "source": [
    "# Precision\n",
    "precision3 = precision_score(test_Y, y_pred3)\n",
    "print('Precision : %f'% precision3)"
   ]
  },
  {
   "cell_type": "code",
   "execution_count": 159,
   "metadata": {
    "pycharm": {
     "name": "#%%\n"
    }
   },
   "outputs": [
    {
     "name": "stdout",
     "output_type": "stream",
     "text": [
      "Recall: 0.604146\n"
     ]
    }
   ],
   "source": [
    "# Recall\n",
    "recall3 = recall_score(test_Y, y_pred3)\n",
    "print('Recall: %f' % recall3)"
   ]
  },
  {
   "cell_type": "code",
   "execution_count": 160,
   "metadata": {
    "pycharm": {
     "name": "#%%\n"
    }
   },
   "outputs": [
    {
     "name": "stdout",
     "output_type": "stream",
     "text": [
      "F1 score: 0.700931\n"
     ]
    }
   ],
   "source": [
    "# f1-score\n",
    "f1_3 = f1_score(test_Y, y_pred3)\n",
    "print('F1 score: %f' % f1_3)"
   ]
  },
  {
   "cell_type": "code",
   "execution_count": 161,
   "metadata": {
    "pycharm": {
     "name": "#%%\n"
    }
   },
   "outputs": [
    {
     "name": "stdout",
     "output_type": "stream",
     "text": [
      "ROC_AUC Score: 0.722987\n"
     ]
    }
   ],
   "source": [
    "roc3 = roc_auc_score(test_Y, y_pred3)\n",
    "print('ROC_AUC Score: %f' % roc3)"
   ]
  },
  {
   "cell_type": "code",
   "execution_count": 162,
   "metadata": {
    "pycharm": {
     "name": "#%%\n"
    }
   },
   "outputs": [
    {
     "name": "stdout",
     "output_type": "stream",
     "text": [
      "[[8175 1536]\n",
      " [5080 7753]]\n"
     ]
    }
   ],
   "source": [
    "# confusion matrix\n",
    "confusionmatrix3 = confusion_matrix(test_Y, y_pred3)\n",
    "print(confusionmatrix3)"
   ]
  },
  {
   "cell_type": "code",
   "execution_count": 4,
   "metadata": {
    "pycharm": {
     "name": "#%%\n"
    }
   },
   "outputs": [
    {
     "ename": "NameError",
     "evalue": "name 'train_X' is not defined",
     "output_type": "error",
     "traceback": [
      "\u001b[1;31m---------------------------------------------------------------------------\u001b[0m",
      "\u001b[1;31mNameError\u001b[0m                                 Traceback (most recent call last)",
      "\u001b[1;32m~\\AppData\\Local\\Temp/ipykernel_14244/4109011112.py\u001b[0m in \u001b[0;36m<module>\u001b[1;34m\u001b[0m\n\u001b[0;32m     21\u001b[0m \u001b[0msgd\u001b[0m \u001b[1;33m=\u001b[0m\u001b[0mSGD\u001b[0m\u001b[1;33m(\u001b[0m\u001b[0mlr\u001b[0m\u001b[1;33m=\u001b[0m\u001b[1;36m0.1\u001b[0m\u001b[1;33m,\u001b[0m \u001b[0mdecay\u001b[0m\u001b[1;33m=\u001b[0m\u001b[1;36m1e-6\u001b[0m\u001b[1;33m,\u001b[0m \u001b[0mmomentum\u001b[0m\u001b[1;33m=\u001b[0m\u001b[1;36m0.9\u001b[0m\u001b[1;33m,\u001b[0m \u001b[0mnesterov\u001b[0m\u001b[1;33m=\u001b[0m\u001b[1;32mTrue\u001b[0m\u001b[1;33m)\u001b[0m\u001b[1;33m\u001b[0m\u001b[1;33m\u001b[0m\u001b[0m\n\u001b[0;32m     22\u001b[0m \u001b[0mmodel4\u001b[0m\u001b[1;33m.\u001b[0m\u001b[0mcompile\u001b[0m\u001b[1;33m(\u001b[0m\u001b[0mloss\u001b[0m\u001b[1;33m=\u001b[0m\u001b[1;34m'binary_crossentropy'\u001b[0m\u001b[1;33m,\u001b[0m \u001b[0moptimizer\u001b[0m\u001b[1;33m=\u001b[0m\u001b[0msgd\u001b[0m\u001b[1;33m,\u001b[0m \u001b[0mmetrics\u001b[0m\u001b[1;33m=\u001b[0m \u001b[1;33m[\u001b[0m\u001b[1;34m'accuracy'\u001b[0m\u001b[1;33m]\u001b[0m\u001b[1;33m)\u001b[0m\u001b[1;33m\u001b[0m\u001b[1;33m\u001b[0m\u001b[0m\n\u001b[1;32m---> 23\u001b[1;33m \u001b[0mmodel4\u001b[0m\u001b[1;33m.\u001b[0m\u001b[0mfit\u001b[0m\u001b[1;33m(\u001b[0m\u001b[0mtrain_X\u001b[0m\u001b[1;33m,\u001b[0m \u001b[0mtrain_Y\u001b[0m\u001b[1;33m,\u001b[0m \u001b[0mepochs\u001b[0m\u001b[1;33m=\u001b[0m\u001b[1;36m50\u001b[0m\u001b[1;33m,\u001b[0m \u001b[0mbatch_size\u001b[0m\u001b[1;33m=\u001b[0m\u001b[1;36m100\u001b[0m\u001b[1;33m)\u001b[0m\u001b[1;33m\u001b[0m\u001b[1;33m\u001b[0m\u001b[0m\n\u001b[0m",
      "\u001b[1;31mNameError\u001b[0m: name 'train_X' is not defined"
     ]
    }
   ],
   "source": [
    "from tensorflow.python.keras.layers import Activation\n",
    "from keras.optimizers import SGD\n",
    "from keras.models import Sequential\n",
    "from keras.layers import Dense\n",
    "from keras.layers.advanced_activations import PReLU\n",
    "act4 = PReLU(alpha_initializer='zeros', weights=None)\n",
    "model4 = Sequential()\n",
    "# define the NN architecture and activation function\n",
    "\n",
    "model4.add(Dense(248, input_dim=123))\n",
    "model4.add(Activation(act4))\n",
    "model4.add(Dense(124))\n",
    "model4.add(Activation('relu'))\n",
    "model4.add(Dense(64))\n",
    "model4.add(Activation('relu'))\n",
    "model4.add(Dense(32))\n",
    "model4.add(Activation('relu'))\n",
    "model4.add(Dense(1))\n",
    "model4.add(Activation('sigmoid'))\n",
    "\n",
    "sgd =SGD(lr=0.1, decay=1e-6, momentum=0.9, nesterov=True)\n",
    "model4.compile(loss='binary_crossentropy', optimizer=sgd, metrics= ['accuracy'])\n",
    "model4.fit(train_X, train_Y, epochs=50, batch_size=100)"
   ]
  },
  {
   "cell_type": "code",
   "execution_count": null,
   "metadata": {
    "pycharm": {
     "name": "#%%\n"
    }
   },
   "outputs": [],
   "source": []
  }
 ],
 "metadata": {
  "kernelspec": {
   "display_name": "Python 3 (ipykernel)",
   "language": "python",
   "name": "python3"
  },
  "language_info": {
   "codemirror_mode": {
    "name": "ipython",
    "version": 3
   },
   "file_extension": ".py",
   "mimetype": "text/x-python",
   "name": "python",
   "nbconvert_exporter": "python",
   "pygments_lexer": "ipython3",
   "version": "3.8.12"
  }
 },
 "nbformat": 4,
 "nbformat_minor": 1
}
