{
 "cells": [
  {
   "cell_type": "code",
   "execution_count": 1,
   "metadata": {
    "collapsed": true
   },
   "outputs": [
    {
     "data": {
      "text/plain": "   duration protocol_type   service flag  src_bytes  dst_bytes  land  \\\n0         0           tcp  ftp_data   SF        491          0     0   \n1         0           udp     other   SF        146          0     0   \n2         0           tcp   private   S0          0          0     0   \n3         0           tcp      http   SF        232       8153     0   \n4         0           tcp      http   SF        199        420     0   \n\n   wrong_fragment  urgent  hot  num_failed_logins  logged_in  num_compromised  \\\n0               0       0    0                  0          0                0   \n1               0       0    0                  0          0                0   \n2               0       0    0                  0          0                0   \n3               0       0    0                  0          1                0   \n4               0       0    0                  0          1                0   \n\n   root_shell  su_attempted  num_root  num_file_creations  num_shells  \\\n0           0             0         0                   0           0   \n1           0             0         0                   0           0   \n2           0             0         0                   0           0   \n3           0             0         0                   0           0   \n4           0             0         0                   0           0   \n\n   num_access_files  num_outbound_cmds  is_host_login  is_guest_login  count  \\\n0                 0                  0              0               0      2   \n1                 0                  0              0               0     13   \n2                 0                  0              0               0    123   \n3                 0                  0              0               0      5   \n4                 0                  0              0               0     30   \n\n   srv_count  serror_rate  srv_serror_rate  rerror_rate  srv_rerror_rate  \\\n0          2          0.0              0.0          0.0              0.0   \n1          1          0.0              0.0          0.0              0.0   \n2          6          1.0              1.0          0.0              0.0   \n3          5          0.2              0.2          0.0              0.0   \n4         32          0.0              0.0          0.0              0.0   \n\n   same_srv_rate  diff_srv_rate  srv_diff_host_rate  dst_host_count  \\\n0           1.00           0.00                0.00             150   \n1           0.08           0.15                0.00             255   \n2           0.05           0.07                0.00             255   \n3           1.00           0.00                0.00              30   \n4           1.00           0.00                0.09             255   \n\n   dst_host_srv_count  dst_host_same_srv_rate  dst_host_diff_srv_rate  \\\n0                  25                    0.17                    0.03   \n1                   1                    0.00                    0.60   \n2                  26                    0.10                    0.05   \n3                 255                    1.00                    0.00   \n4                 255                    1.00                    0.00   \n\n   dst_host_same_src_port_rate  dst_host_srv_diff_host_rate  \\\n0                         0.17                         0.00   \n1                         0.88                         0.00   \n2                         0.00                         0.00   \n3                         0.03                         0.04   \n4                         0.00                         0.00   \n\n   dst_host_serror_rate  dst_host_srv_serror_rate  dst_host_rerror_rate  \\\n0                  0.00                      0.00                  0.05   \n1                  0.00                      0.00                  0.00   \n2                  1.00                      1.00                  0.00   \n3                  0.03                      0.01                  0.00   \n4                  0.00                      0.00                  0.00   \n\n   dst_host_srv_rerror_rate    label  difficulty_level  \n0                      0.00   normal                20  \n1                      0.00   normal                15  \n2                      0.00  neptune                19  \n3                      0.01   normal                21  \n4                      0.00   normal                21  ",
      "text/html": "<div>\n<style scoped>\n    .dataframe tbody tr th:only-of-type {\n        vertical-align: middle;\n    }\n\n    .dataframe tbody tr th {\n        vertical-align: top;\n    }\n\n    .dataframe thead th {\n        text-align: right;\n    }\n</style>\n<table border=\"1\" class=\"dataframe\">\n  <thead>\n    <tr style=\"text-align: right;\">\n      <th></th>\n      <th>duration</th>\n      <th>protocol_type</th>\n      <th>service</th>\n      <th>flag</th>\n      <th>src_bytes</th>\n      <th>dst_bytes</th>\n      <th>land</th>\n      <th>wrong_fragment</th>\n      <th>urgent</th>\n      <th>hot</th>\n      <th>num_failed_logins</th>\n      <th>logged_in</th>\n      <th>num_compromised</th>\n      <th>root_shell</th>\n      <th>su_attempted</th>\n      <th>num_root</th>\n      <th>num_file_creations</th>\n      <th>num_shells</th>\n      <th>num_access_files</th>\n      <th>num_outbound_cmds</th>\n      <th>is_host_login</th>\n      <th>is_guest_login</th>\n      <th>count</th>\n      <th>srv_count</th>\n      <th>serror_rate</th>\n      <th>srv_serror_rate</th>\n      <th>rerror_rate</th>\n      <th>srv_rerror_rate</th>\n      <th>same_srv_rate</th>\n      <th>diff_srv_rate</th>\n      <th>srv_diff_host_rate</th>\n      <th>dst_host_count</th>\n      <th>dst_host_srv_count</th>\n      <th>dst_host_same_srv_rate</th>\n      <th>dst_host_diff_srv_rate</th>\n      <th>dst_host_same_src_port_rate</th>\n      <th>dst_host_srv_diff_host_rate</th>\n      <th>dst_host_serror_rate</th>\n      <th>dst_host_srv_serror_rate</th>\n      <th>dst_host_rerror_rate</th>\n      <th>dst_host_srv_rerror_rate</th>\n      <th>label</th>\n      <th>difficulty_level</th>\n    </tr>\n  </thead>\n  <tbody>\n    <tr>\n      <th>0</th>\n      <td>0</td>\n      <td>tcp</td>\n      <td>ftp_data</td>\n      <td>SF</td>\n      <td>491</td>\n      <td>0</td>\n      <td>0</td>\n      <td>0</td>\n      <td>0</td>\n      <td>0</td>\n      <td>0</td>\n      <td>0</td>\n      <td>0</td>\n      <td>0</td>\n      <td>0</td>\n      <td>0</td>\n      <td>0</td>\n      <td>0</td>\n      <td>0</td>\n      <td>0</td>\n      <td>0</td>\n      <td>0</td>\n      <td>2</td>\n      <td>2</td>\n      <td>0.0</td>\n      <td>0.0</td>\n      <td>0.0</td>\n      <td>0.0</td>\n      <td>1.00</td>\n      <td>0.00</td>\n      <td>0.00</td>\n      <td>150</td>\n      <td>25</td>\n      <td>0.17</td>\n      <td>0.03</td>\n      <td>0.17</td>\n      <td>0.00</td>\n      <td>0.00</td>\n      <td>0.00</td>\n      <td>0.05</td>\n      <td>0.00</td>\n      <td>normal</td>\n      <td>20</td>\n    </tr>\n    <tr>\n      <th>1</th>\n      <td>0</td>\n      <td>udp</td>\n      <td>other</td>\n      <td>SF</td>\n      <td>146</td>\n      <td>0</td>\n      <td>0</td>\n      <td>0</td>\n      <td>0</td>\n      <td>0</td>\n      <td>0</td>\n      <td>0</td>\n      <td>0</td>\n      <td>0</td>\n      <td>0</td>\n      <td>0</td>\n      <td>0</td>\n      <td>0</td>\n      <td>0</td>\n      <td>0</td>\n      <td>0</td>\n      <td>0</td>\n      <td>13</td>\n      <td>1</td>\n      <td>0.0</td>\n      <td>0.0</td>\n      <td>0.0</td>\n      <td>0.0</td>\n      <td>0.08</td>\n      <td>0.15</td>\n      <td>0.00</td>\n      <td>255</td>\n      <td>1</td>\n      <td>0.00</td>\n      <td>0.60</td>\n      <td>0.88</td>\n      <td>0.00</td>\n      <td>0.00</td>\n      <td>0.00</td>\n      <td>0.00</td>\n      <td>0.00</td>\n      <td>normal</td>\n      <td>15</td>\n    </tr>\n    <tr>\n      <th>2</th>\n      <td>0</td>\n      <td>tcp</td>\n      <td>private</td>\n      <td>S0</td>\n      <td>0</td>\n      <td>0</td>\n      <td>0</td>\n      <td>0</td>\n      <td>0</td>\n      <td>0</td>\n      <td>0</td>\n      <td>0</td>\n      <td>0</td>\n      <td>0</td>\n      <td>0</td>\n      <td>0</td>\n      <td>0</td>\n      <td>0</td>\n      <td>0</td>\n      <td>0</td>\n      <td>0</td>\n      <td>0</td>\n      <td>123</td>\n      <td>6</td>\n      <td>1.0</td>\n      <td>1.0</td>\n      <td>0.0</td>\n      <td>0.0</td>\n      <td>0.05</td>\n      <td>0.07</td>\n      <td>0.00</td>\n      <td>255</td>\n      <td>26</td>\n      <td>0.10</td>\n      <td>0.05</td>\n      <td>0.00</td>\n      <td>0.00</td>\n      <td>1.00</td>\n      <td>1.00</td>\n      <td>0.00</td>\n      <td>0.00</td>\n      <td>neptune</td>\n      <td>19</td>\n    </tr>\n    <tr>\n      <th>3</th>\n      <td>0</td>\n      <td>tcp</td>\n      <td>http</td>\n      <td>SF</td>\n      <td>232</td>\n      <td>8153</td>\n      <td>0</td>\n      <td>0</td>\n      <td>0</td>\n      <td>0</td>\n      <td>0</td>\n      <td>1</td>\n      <td>0</td>\n      <td>0</td>\n      <td>0</td>\n      <td>0</td>\n      <td>0</td>\n      <td>0</td>\n      <td>0</td>\n      <td>0</td>\n      <td>0</td>\n      <td>0</td>\n      <td>5</td>\n      <td>5</td>\n      <td>0.2</td>\n      <td>0.2</td>\n      <td>0.0</td>\n      <td>0.0</td>\n      <td>1.00</td>\n      <td>0.00</td>\n      <td>0.00</td>\n      <td>30</td>\n      <td>255</td>\n      <td>1.00</td>\n      <td>0.00</td>\n      <td>0.03</td>\n      <td>0.04</td>\n      <td>0.03</td>\n      <td>0.01</td>\n      <td>0.00</td>\n      <td>0.01</td>\n      <td>normal</td>\n      <td>21</td>\n    </tr>\n    <tr>\n      <th>4</th>\n      <td>0</td>\n      <td>tcp</td>\n      <td>http</td>\n      <td>SF</td>\n      <td>199</td>\n      <td>420</td>\n      <td>0</td>\n      <td>0</td>\n      <td>0</td>\n      <td>0</td>\n      <td>0</td>\n      <td>1</td>\n      <td>0</td>\n      <td>0</td>\n      <td>0</td>\n      <td>0</td>\n      <td>0</td>\n      <td>0</td>\n      <td>0</td>\n      <td>0</td>\n      <td>0</td>\n      <td>0</td>\n      <td>30</td>\n      <td>32</td>\n      <td>0.0</td>\n      <td>0.0</td>\n      <td>0.0</td>\n      <td>0.0</td>\n      <td>1.00</td>\n      <td>0.00</td>\n      <td>0.09</td>\n      <td>255</td>\n      <td>255</td>\n      <td>1.00</td>\n      <td>0.00</td>\n      <td>0.00</td>\n      <td>0.00</td>\n      <td>0.00</td>\n      <td>0.00</td>\n      <td>0.00</td>\n      <td>0.00</td>\n      <td>normal</td>\n      <td>21</td>\n    </tr>\n  </tbody>\n</table>\n</div>"
     },
     "execution_count": 1,
     "metadata": {},
     "output_type": "execute_result"
    }
   ],
   "source": [
    "from pycaret.classification import *\n",
    "import numpy as np\n",
    "import pandas as pd\n",
    "import tensorflow as tf\n",
    "\n",
    "column_names = [\"duration\", \"protocol_type\", \"service\", \"flag\", \"src_bytes\", \"dst_bytes\", \"land\",\n",
    "                \"wrong_fragment\", \"urgent\", \"hot\", \"num_failed_logins\", \"logged_in\", \"num_compromised\",\n",
    "                \"root_shell\", \"su_attempted\", \"num_root\", \"num_file_creations\", \"num_shells\", \"num_access_files\",\n",
    "                \"num_outbound_cmds\", \"is_host_login\", \"is_guest_login\", \"count\", \"srv_count\", \"serror_rate\",\n",
    "                \"srv_serror_rate\", \"rerror_rate\", \"srv_rerror_rate\", \"same_srv_rate\", \"diff_srv_rate\",\n",
    "                \"srv_diff_host_rate\", \"dst_host_count\", \"dst_host_srv_count\", \"dst_host_same_srv_rate\",\n",
    "                \"dst_host_diff_srv_rate\", \"dst_host_same_src_port_rate\", \"dst_host_srv_diff_host_rate\",\n",
    "                \"dst_host_serror_rate\", \"dst_host_srv_serror_rate\", \"dst_host_rerror_rate\",\n",
    "                \"dst_host_srv_rerror_rate\", \"label\", \"difficulty_level\"]\n",
    "path = 'C:\\\\Users\\\\Jovana\\\\PycharmProjects\\\\neural_network_DNN\\\\include\\\\KDDTrain+.txt'\n",
    "path2 = 'C:\\\\Users\\\\Jovana\\\\PycharmProjects\\\\neural_network_DNN\\\\include\\\\KDDTest+.txt'\n",
    "\n",
    "ds_train = pd.read_csv(path, header=None, names=column_names)\n",
    "ds_test = pd.read_csv(path2, header=None, names=column_names)\n",
    "ds = pd.concat([ds_train, ds_test], axis=0)\n",
    "ds.head()"
   ]
  },
  {
   "cell_type": "code",
   "execution_count": 2,
   "outputs": [
    {
     "data": {
      "text/plain": "       duration protocol_type   service flag  src_bytes  dst_bytes  land  \\\n0             0           tcp  ftp_data   SF        491          0     0   \n1             0           udp     other   SF        146          0     0   \n2             0           tcp   private   S0          0          0     0   \n3             0           tcp      http   SF        232       8153     0   \n4             0           tcp      http   SF        199        420     0   \n...         ...           ...       ...  ...        ...        ...   ...   \n22539         0           tcp      smtp   SF        794        333     0   \n22540         0           tcp      http   SF        317        938     0   \n22541         0           tcp      http   SF      54540       8314     0   \n22542         0           udp  domain_u   SF         42         42     0   \n22543         0           tcp    sunrpc  REJ          0          0     0   \n\n       wrong_fragment  urgent  hot  num_failed_logins  logged_in  \\\n0                   0       0    0                  0          0   \n1                   0       0    0                  0          0   \n2                   0       0    0                  0          0   \n3                   0       0    0                  0          1   \n4                   0       0    0                  0          1   \n...               ...     ...  ...                ...        ...   \n22539               0       0    0                  0          1   \n22540               0       0    0                  0          1   \n22541               0       0    2                  0          1   \n22542               0       0    0                  0          0   \n22543               0       0    0                  0          0   \n\n       num_compromised  root_shell  su_attempted  num_root  \\\n0                    0           0             0         0   \n1                    0           0             0         0   \n2                    0           0             0         0   \n3                    0           0             0         0   \n4                    0           0             0         0   \n...                ...         ...           ...       ...   \n22539                0           0             0         0   \n22540                0           0             0         0   \n22541                1           0             0         0   \n22542                0           0             0         0   \n22543                0           0             0         0   \n\n       num_file_creations  num_shells  num_access_files  num_outbound_cmds  \\\n0                       0           0                 0                  0   \n1                       0           0                 0                  0   \n2                       0           0                 0                  0   \n3                       0           0                 0                  0   \n4                       0           0                 0                  0   \n...                   ...         ...               ...                ...   \n22539                   0           0                 0                  0   \n22540                   0           0                 0                  0   \n22541                   0           0                 0                  0   \n22542                   0           0                 0                  0   \n22543                   0           0                 0                  0   \n\n       is_host_login  is_guest_login  count  srv_count  serror_rate  \\\n0                  0               0      2          2          0.0   \n1                  0               0     13          1          0.0   \n2                  0               0    123          6          1.0   \n3                  0               0      5          5          0.2   \n4                  0               0     30         32          0.0   \n...              ...             ...    ...        ...          ...   \n22539              0               0      1          1          0.0   \n22540              0               0      2         11          0.0   \n22541              0               0      5         10          0.0   \n22542              0               0      4          6          0.0   \n22543              0               0      4         10          0.0   \n\n       srv_serror_rate  rerror_rate  srv_rerror_rate  same_srv_rate  \\\n0                  0.0          0.0              0.0           1.00   \n1                  0.0          0.0              0.0           0.08   \n2                  1.0          0.0              0.0           0.05   \n3                  0.2          0.0              0.0           1.00   \n4                  0.0          0.0              0.0           1.00   \n...                ...          ...              ...            ...   \n22539              0.0          0.0              0.0           1.00   \n22540              0.0          0.0              0.0           1.00   \n22541              0.0          0.0              0.0           1.00   \n22542              0.0          0.0              0.0           1.00   \n22543              0.0          1.0              1.0           0.25   \n\n       diff_srv_rate  srv_diff_host_rate  dst_host_count  dst_host_srv_count  \\\n0               0.00                0.00             150                  25   \n1               0.15                0.00             255                   1   \n2               0.07                0.00             255                  26   \n3               0.00                0.00              30                 255   \n4               0.00                0.09             255                 255   \n...              ...                 ...             ...                 ...   \n22539           0.00                0.00             100                 141   \n22540           0.00                0.18             197                 255   \n22541           0.00                0.20             255                 255   \n22542           0.00                0.33             255                 252   \n22543           1.00                1.00             255                  21   \n\n       dst_host_same_srv_rate  dst_host_diff_srv_rate  \\\n0                        0.17                    0.03   \n1                        0.00                    0.60   \n2                        0.10                    0.05   \n3                        1.00                    0.00   \n4                        1.00                    0.00   \n...                       ...                     ...   \n22539                    0.72                    0.06   \n22540                    1.00                    0.00   \n22541                    1.00                    0.00   \n22542                    0.99                    0.01   \n22543                    0.08                    0.03   \n\n       dst_host_same_src_port_rate  dst_host_srv_diff_host_rate  \\\n0                             0.17                         0.00   \n1                             0.88                         0.00   \n2                             0.00                         0.00   \n3                             0.03                         0.04   \n4                             0.00                         0.00   \n...                            ...                          ...   \n22539                         0.01                         0.01   \n22540                         0.01                         0.01   \n22541                         0.00                         0.00   \n22542                         0.00                         0.00   \n22543                         0.00                         0.00   \n\n       dst_host_serror_rate  dst_host_srv_serror_rate  dst_host_rerror_rate  \\\n0                      0.00                      0.00                  0.05   \n1                      0.00                      0.00                  0.00   \n2                      1.00                      1.00                  0.00   \n3                      0.03                      0.01                  0.00   \n4                      0.00                      0.00                  0.00   \n...                     ...                       ...                   ...   \n22539                  0.01                      0.00                  0.00   \n22540                  0.01                      0.00                  0.00   \n22541                  0.00                      0.00                  0.07   \n22542                  0.00                      0.00                  0.00   \n22543                  0.00                      0.00                  0.44   \n\n       dst_host_srv_rerror_rate   label  \n0                          0.00  normal  \n1                          0.00  normal  \n2                          0.00  attack  \n3                          0.01  normal  \n4                          0.00  normal  \n...                         ...     ...  \n22539                      0.00  normal  \n22540                      0.00  normal  \n22541                      0.07  attack  \n22542                      0.00  normal  \n22543                      1.00  attack  \n\n[148517 rows x 42 columns]",
      "text/html": "<div>\n<style scoped>\n    .dataframe tbody tr th:only-of-type {\n        vertical-align: middle;\n    }\n\n    .dataframe tbody tr th {\n        vertical-align: top;\n    }\n\n    .dataframe thead th {\n        text-align: right;\n    }\n</style>\n<table border=\"1\" class=\"dataframe\">\n  <thead>\n    <tr style=\"text-align: right;\">\n      <th></th>\n      <th>duration</th>\n      <th>protocol_type</th>\n      <th>service</th>\n      <th>flag</th>\n      <th>src_bytes</th>\n      <th>dst_bytes</th>\n      <th>land</th>\n      <th>wrong_fragment</th>\n      <th>urgent</th>\n      <th>hot</th>\n      <th>num_failed_logins</th>\n      <th>logged_in</th>\n      <th>num_compromised</th>\n      <th>root_shell</th>\n      <th>su_attempted</th>\n      <th>num_root</th>\n      <th>num_file_creations</th>\n      <th>num_shells</th>\n      <th>num_access_files</th>\n      <th>num_outbound_cmds</th>\n      <th>is_host_login</th>\n      <th>is_guest_login</th>\n      <th>count</th>\n      <th>srv_count</th>\n      <th>serror_rate</th>\n      <th>srv_serror_rate</th>\n      <th>rerror_rate</th>\n      <th>srv_rerror_rate</th>\n      <th>same_srv_rate</th>\n      <th>diff_srv_rate</th>\n      <th>srv_diff_host_rate</th>\n      <th>dst_host_count</th>\n      <th>dst_host_srv_count</th>\n      <th>dst_host_same_srv_rate</th>\n      <th>dst_host_diff_srv_rate</th>\n      <th>dst_host_same_src_port_rate</th>\n      <th>dst_host_srv_diff_host_rate</th>\n      <th>dst_host_serror_rate</th>\n      <th>dst_host_srv_serror_rate</th>\n      <th>dst_host_rerror_rate</th>\n      <th>dst_host_srv_rerror_rate</th>\n      <th>label</th>\n    </tr>\n  </thead>\n  <tbody>\n    <tr>\n      <th>0</th>\n      <td>0</td>\n      <td>tcp</td>\n      <td>ftp_data</td>\n      <td>SF</td>\n      <td>491</td>\n      <td>0</td>\n      <td>0</td>\n      <td>0</td>\n      <td>0</td>\n      <td>0</td>\n      <td>0</td>\n      <td>0</td>\n      <td>0</td>\n      <td>0</td>\n      <td>0</td>\n      <td>0</td>\n      <td>0</td>\n      <td>0</td>\n      <td>0</td>\n      <td>0</td>\n      <td>0</td>\n      <td>0</td>\n      <td>2</td>\n      <td>2</td>\n      <td>0.0</td>\n      <td>0.0</td>\n      <td>0.0</td>\n      <td>0.0</td>\n      <td>1.00</td>\n      <td>0.00</td>\n      <td>0.00</td>\n      <td>150</td>\n      <td>25</td>\n      <td>0.17</td>\n      <td>0.03</td>\n      <td>0.17</td>\n      <td>0.00</td>\n      <td>0.00</td>\n      <td>0.00</td>\n      <td>0.05</td>\n      <td>0.00</td>\n      <td>normal</td>\n    </tr>\n    <tr>\n      <th>1</th>\n      <td>0</td>\n      <td>udp</td>\n      <td>other</td>\n      <td>SF</td>\n      <td>146</td>\n      <td>0</td>\n      <td>0</td>\n      <td>0</td>\n      <td>0</td>\n      <td>0</td>\n      <td>0</td>\n      <td>0</td>\n      <td>0</td>\n      <td>0</td>\n      <td>0</td>\n      <td>0</td>\n      <td>0</td>\n      <td>0</td>\n      <td>0</td>\n      <td>0</td>\n      <td>0</td>\n      <td>0</td>\n      <td>13</td>\n      <td>1</td>\n      <td>0.0</td>\n      <td>0.0</td>\n      <td>0.0</td>\n      <td>0.0</td>\n      <td>0.08</td>\n      <td>0.15</td>\n      <td>0.00</td>\n      <td>255</td>\n      <td>1</td>\n      <td>0.00</td>\n      <td>0.60</td>\n      <td>0.88</td>\n      <td>0.00</td>\n      <td>0.00</td>\n      <td>0.00</td>\n      <td>0.00</td>\n      <td>0.00</td>\n      <td>normal</td>\n    </tr>\n    <tr>\n      <th>2</th>\n      <td>0</td>\n      <td>tcp</td>\n      <td>private</td>\n      <td>S0</td>\n      <td>0</td>\n      <td>0</td>\n      <td>0</td>\n      <td>0</td>\n      <td>0</td>\n      <td>0</td>\n      <td>0</td>\n      <td>0</td>\n      <td>0</td>\n      <td>0</td>\n      <td>0</td>\n      <td>0</td>\n      <td>0</td>\n      <td>0</td>\n      <td>0</td>\n      <td>0</td>\n      <td>0</td>\n      <td>0</td>\n      <td>123</td>\n      <td>6</td>\n      <td>1.0</td>\n      <td>1.0</td>\n      <td>0.0</td>\n      <td>0.0</td>\n      <td>0.05</td>\n      <td>0.07</td>\n      <td>0.00</td>\n      <td>255</td>\n      <td>26</td>\n      <td>0.10</td>\n      <td>0.05</td>\n      <td>0.00</td>\n      <td>0.00</td>\n      <td>1.00</td>\n      <td>1.00</td>\n      <td>0.00</td>\n      <td>0.00</td>\n      <td>attack</td>\n    </tr>\n    <tr>\n      <th>3</th>\n      <td>0</td>\n      <td>tcp</td>\n      <td>http</td>\n      <td>SF</td>\n      <td>232</td>\n      <td>8153</td>\n      <td>0</td>\n      <td>0</td>\n      <td>0</td>\n      <td>0</td>\n      <td>0</td>\n      <td>1</td>\n      <td>0</td>\n      <td>0</td>\n      <td>0</td>\n      <td>0</td>\n      <td>0</td>\n      <td>0</td>\n      <td>0</td>\n      <td>0</td>\n      <td>0</td>\n      <td>0</td>\n      <td>5</td>\n      <td>5</td>\n      <td>0.2</td>\n      <td>0.2</td>\n      <td>0.0</td>\n      <td>0.0</td>\n      <td>1.00</td>\n      <td>0.00</td>\n      <td>0.00</td>\n      <td>30</td>\n      <td>255</td>\n      <td>1.00</td>\n      <td>0.00</td>\n      <td>0.03</td>\n      <td>0.04</td>\n      <td>0.03</td>\n      <td>0.01</td>\n      <td>0.00</td>\n      <td>0.01</td>\n      <td>normal</td>\n    </tr>\n    <tr>\n      <th>4</th>\n      <td>0</td>\n      <td>tcp</td>\n      <td>http</td>\n      <td>SF</td>\n      <td>199</td>\n      <td>420</td>\n      <td>0</td>\n      <td>0</td>\n      <td>0</td>\n      <td>0</td>\n      <td>0</td>\n      <td>1</td>\n      <td>0</td>\n      <td>0</td>\n      <td>0</td>\n      <td>0</td>\n      <td>0</td>\n      <td>0</td>\n      <td>0</td>\n      <td>0</td>\n      <td>0</td>\n      <td>0</td>\n      <td>30</td>\n      <td>32</td>\n      <td>0.0</td>\n      <td>0.0</td>\n      <td>0.0</td>\n      <td>0.0</td>\n      <td>1.00</td>\n      <td>0.00</td>\n      <td>0.09</td>\n      <td>255</td>\n      <td>255</td>\n      <td>1.00</td>\n      <td>0.00</td>\n      <td>0.00</td>\n      <td>0.00</td>\n      <td>0.00</td>\n      <td>0.00</td>\n      <td>0.00</td>\n      <td>0.00</td>\n      <td>normal</td>\n    </tr>\n    <tr>\n      <th>...</th>\n      <td>...</td>\n      <td>...</td>\n      <td>...</td>\n      <td>...</td>\n      <td>...</td>\n      <td>...</td>\n      <td>...</td>\n      <td>...</td>\n      <td>...</td>\n      <td>...</td>\n      <td>...</td>\n      <td>...</td>\n      <td>...</td>\n      <td>...</td>\n      <td>...</td>\n      <td>...</td>\n      <td>...</td>\n      <td>...</td>\n      <td>...</td>\n      <td>...</td>\n      <td>...</td>\n      <td>...</td>\n      <td>...</td>\n      <td>...</td>\n      <td>...</td>\n      <td>...</td>\n      <td>...</td>\n      <td>...</td>\n      <td>...</td>\n      <td>...</td>\n      <td>...</td>\n      <td>...</td>\n      <td>...</td>\n      <td>...</td>\n      <td>...</td>\n      <td>...</td>\n      <td>...</td>\n      <td>...</td>\n      <td>...</td>\n      <td>...</td>\n      <td>...</td>\n      <td>...</td>\n    </tr>\n    <tr>\n      <th>22539</th>\n      <td>0</td>\n      <td>tcp</td>\n      <td>smtp</td>\n      <td>SF</td>\n      <td>794</td>\n      <td>333</td>\n      <td>0</td>\n      <td>0</td>\n      <td>0</td>\n      <td>0</td>\n      <td>0</td>\n      <td>1</td>\n      <td>0</td>\n      <td>0</td>\n      <td>0</td>\n      <td>0</td>\n      <td>0</td>\n      <td>0</td>\n      <td>0</td>\n      <td>0</td>\n      <td>0</td>\n      <td>0</td>\n      <td>1</td>\n      <td>1</td>\n      <td>0.0</td>\n      <td>0.0</td>\n      <td>0.0</td>\n      <td>0.0</td>\n      <td>1.00</td>\n      <td>0.00</td>\n      <td>0.00</td>\n      <td>100</td>\n      <td>141</td>\n      <td>0.72</td>\n      <td>0.06</td>\n      <td>0.01</td>\n      <td>0.01</td>\n      <td>0.01</td>\n      <td>0.00</td>\n      <td>0.00</td>\n      <td>0.00</td>\n      <td>normal</td>\n    </tr>\n    <tr>\n      <th>22540</th>\n      <td>0</td>\n      <td>tcp</td>\n      <td>http</td>\n      <td>SF</td>\n      <td>317</td>\n      <td>938</td>\n      <td>0</td>\n      <td>0</td>\n      <td>0</td>\n      <td>0</td>\n      <td>0</td>\n      <td>1</td>\n      <td>0</td>\n      <td>0</td>\n      <td>0</td>\n      <td>0</td>\n      <td>0</td>\n      <td>0</td>\n      <td>0</td>\n      <td>0</td>\n      <td>0</td>\n      <td>0</td>\n      <td>2</td>\n      <td>11</td>\n      <td>0.0</td>\n      <td>0.0</td>\n      <td>0.0</td>\n      <td>0.0</td>\n      <td>1.00</td>\n      <td>0.00</td>\n      <td>0.18</td>\n      <td>197</td>\n      <td>255</td>\n      <td>1.00</td>\n      <td>0.00</td>\n      <td>0.01</td>\n      <td>0.01</td>\n      <td>0.01</td>\n      <td>0.00</td>\n      <td>0.00</td>\n      <td>0.00</td>\n      <td>normal</td>\n    </tr>\n    <tr>\n      <th>22541</th>\n      <td>0</td>\n      <td>tcp</td>\n      <td>http</td>\n      <td>SF</td>\n      <td>54540</td>\n      <td>8314</td>\n      <td>0</td>\n      <td>0</td>\n      <td>0</td>\n      <td>2</td>\n      <td>0</td>\n      <td>1</td>\n      <td>1</td>\n      <td>0</td>\n      <td>0</td>\n      <td>0</td>\n      <td>0</td>\n      <td>0</td>\n      <td>0</td>\n      <td>0</td>\n      <td>0</td>\n      <td>0</td>\n      <td>5</td>\n      <td>10</td>\n      <td>0.0</td>\n      <td>0.0</td>\n      <td>0.0</td>\n      <td>0.0</td>\n      <td>1.00</td>\n      <td>0.00</td>\n      <td>0.20</td>\n      <td>255</td>\n      <td>255</td>\n      <td>1.00</td>\n      <td>0.00</td>\n      <td>0.00</td>\n      <td>0.00</td>\n      <td>0.00</td>\n      <td>0.00</td>\n      <td>0.07</td>\n      <td>0.07</td>\n      <td>attack</td>\n    </tr>\n    <tr>\n      <th>22542</th>\n      <td>0</td>\n      <td>udp</td>\n      <td>domain_u</td>\n      <td>SF</td>\n      <td>42</td>\n      <td>42</td>\n      <td>0</td>\n      <td>0</td>\n      <td>0</td>\n      <td>0</td>\n      <td>0</td>\n      <td>0</td>\n      <td>0</td>\n      <td>0</td>\n      <td>0</td>\n      <td>0</td>\n      <td>0</td>\n      <td>0</td>\n      <td>0</td>\n      <td>0</td>\n      <td>0</td>\n      <td>0</td>\n      <td>4</td>\n      <td>6</td>\n      <td>0.0</td>\n      <td>0.0</td>\n      <td>0.0</td>\n      <td>0.0</td>\n      <td>1.00</td>\n      <td>0.00</td>\n      <td>0.33</td>\n      <td>255</td>\n      <td>252</td>\n      <td>0.99</td>\n      <td>0.01</td>\n      <td>0.00</td>\n      <td>0.00</td>\n      <td>0.00</td>\n      <td>0.00</td>\n      <td>0.00</td>\n      <td>0.00</td>\n      <td>normal</td>\n    </tr>\n    <tr>\n      <th>22543</th>\n      <td>0</td>\n      <td>tcp</td>\n      <td>sunrpc</td>\n      <td>REJ</td>\n      <td>0</td>\n      <td>0</td>\n      <td>0</td>\n      <td>0</td>\n      <td>0</td>\n      <td>0</td>\n      <td>0</td>\n      <td>0</td>\n      <td>0</td>\n      <td>0</td>\n      <td>0</td>\n      <td>0</td>\n      <td>0</td>\n      <td>0</td>\n      <td>0</td>\n      <td>0</td>\n      <td>0</td>\n      <td>0</td>\n      <td>4</td>\n      <td>10</td>\n      <td>0.0</td>\n      <td>0.0</td>\n      <td>1.0</td>\n      <td>1.0</td>\n      <td>0.25</td>\n      <td>1.00</td>\n      <td>1.00</td>\n      <td>255</td>\n      <td>21</td>\n      <td>0.08</td>\n      <td>0.03</td>\n      <td>0.00</td>\n      <td>0.00</td>\n      <td>0.00</td>\n      <td>0.00</td>\n      <td>0.44</td>\n      <td>1.00</td>\n      <td>attack</td>\n    </tr>\n  </tbody>\n</table>\n<p>148517 rows × 42 columns</p>\n</div>"
     },
     "execution_count": 2,
     "metadata": {},
     "output_type": "execute_result"
    }
   ],
   "source": [
    "ds.loc[(ds.label != 'normal'), 'label'] = 'attack'\n",
    "ds = ds.drop('difficulty_level', axis=1)\n",
    "ds"
   ],
   "metadata": {
    "collapsed": false,
    "pycharm": {
     "name": "#%%\n"
    }
   }
  },
  {
   "cell_type": "code",
   "execution_count": 3,
   "outputs": [
    {
     "data": {
      "text/plain": "<pandas.io.formats.style.Styler at 0x1d2cc7ba1f0>",
      "text/html": "<style type=\"text/css\">\n#T_2ad17_row29_col1, #T_2ad17_row51_col1, #T_2ad17_row56_col1 {\n  background-color: lightgreen;\n}\n</style>\n<table id=\"T_2ad17_\">\n  <thead>\n    <tr>\n      <th class=\"blank level0\" >&nbsp;</th>\n      <th class=\"col_heading level0 col0\" >Description</th>\n      <th class=\"col_heading level0 col1\" >Value</th>\n    </tr>\n  </thead>\n  <tbody>\n    <tr>\n      <th id=\"T_2ad17_level0_row0\" class=\"row_heading level0 row0\" >0</th>\n      <td id=\"T_2ad17_row0_col0\" class=\"data row0 col0\" >session_id</td>\n      <td id=\"T_2ad17_row0_col1\" class=\"data row0 col1\" >3307</td>\n    </tr>\n    <tr>\n      <th id=\"T_2ad17_level0_row1\" class=\"row_heading level0 row1\" >1</th>\n      <td id=\"T_2ad17_row1_col0\" class=\"data row1 col0\" >Target</td>\n      <td id=\"T_2ad17_row1_col1\" class=\"data row1 col1\" >label</td>\n    </tr>\n    <tr>\n      <th id=\"T_2ad17_level0_row2\" class=\"row_heading level0 row2\" >2</th>\n      <td id=\"T_2ad17_row2_col0\" class=\"data row2 col0\" >Target Type</td>\n      <td id=\"T_2ad17_row2_col1\" class=\"data row2 col1\" >Binary</td>\n    </tr>\n    <tr>\n      <th id=\"T_2ad17_level0_row3\" class=\"row_heading level0 row3\" >3</th>\n      <td id=\"T_2ad17_row3_col0\" class=\"data row3 col0\" >Label Encoded</td>\n      <td id=\"T_2ad17_row3_col1\" class=\"data row3 col1\" >attack: 0, normal: 1</td>\n    </tr>\n    <tr>\n      <th id=\"T_2ad17_level0_row4\" class=\"row_heading level0 row4\" >4</th>\n      <td id=\"T_2ad17_row4_col0\" class=\"data row4 col0\" >Original Data</td>\n      <td id=\"T_2ad17_row4_col1\" class=\"data row4 col1\" >(148517, 42)</td>\n    </tr>\n    <tr>\n      <th id=\"T_2ad17_level0_row5\" class=\"row_heading level0 row5\" >5</th>\n      <td id=\"T_2ad17_row5_col0\" class=\"data row5 col0\" >Missing Values</td>\n      <td id=\"T_2ad17_row5_col1\" class=\"data row5 col1\" >False</td>\n    </tr>\n    <tr>\n      <th id=\"T_2ad17_level0_row6\" class=\"row_heading level0 row6\" >6</th>\n      <td id=\"T_2ad17_row6_col0\" class=\"data row6 col0\" >Numeric Features</td>\n      <td id=\"T_2ad17_row6_col1\" class=\"data row6 col1\" >26</td>\n    </tr>\n    <tr>\n      <th id=\"T_2ad17_level0_row7\" class=\"row_heading level0 row7\" >7</th>\n      <td id=\"T_2ad17_row7_col0\" class=\"data row7 col0\" >Categorical Features</td>\n      <td id=\"T_2ad17_row7_col1\" class=\"data row7 col1\" >15</td>\n    </tr>\n    <tr>\n      <th id=\"T_2ad17_level0_row8\" class=\"row_heading level0 row8\" >8</th>\n      <td id=\"T_2ad17_row8_col0\" class=\"data row8 col0\" >Ordinal Features</td>\n      <td id=\"T_2ad17_row8_col1\" class=\"data row8 col1\" >False</td>\n    </tr>\n    <tr>\n      <th id=\"T_2ad17_level0_row9\" class=\"row_heading level0 row9\" >9</th>\n      <td id=\"T_2ad17_row9_col0\" class=\"data row9 col0\" >High Cardinality Features</td>\n      <td id=\"T_2ad17_row9_col1\" class=\"data row9 col1\" >False</td>\n    </tr>\n    <tr>\n      <th id=\"T_2ad17_level0_row10\" class=\"row_heading level0 row10\" >10</th>\n      <td id=\"T_2ad17_row10_col0\" class=\"data row10 col0\" >High Cardinality Method</td>\n      <td id=\"T_2ad17_row10_col1\" class=\"data row10 col1\" >None</td>\n    </tr>\n    <tr>\n      <th id=\"T_2ad17_level0_row11\" class=\"row_heading level0 row11\" >11</th>\n      <td id=\"T_2ad17_row11_col0\" class=\"data row11 col0\" >Transformed Train Set</td>\n      <td id=\"T_2ad17_row11_col1\" class=\"data row11 col1\" >(118813, 41)</td>\n    </tr>\n    <tr>\n      <th id=\"T_2ad17_level0_row12\" class=\"row_heading level0 row12\" >12</th>\n      <td id=\"T_2ad17_row12_col0\" class=\"data row12 col0\" >Transformed Test Set</td>\n      <td id=\"T_2ad17_row12_col1\" class=\"data row12 col1\" >(29704, 41)</td>\n    </tr>\n    <tr>\n      <th id=\"T_2ad17_level0_row13\" class=\"row_heading level0 row13\" >13</th>\n      <td id=\"T_2ad17_row13_col0\" class=\"data row13 col0\" >Shuffle Train-Test</td>\n      <td id=\"T_2ad17_row13_col1\" class=\"data row13 col1\" >True</td>\n    </tr>\n    <tr>\n      <th id=\"T_2ad17_level0_row14\" class=\"row_heading level0 row14\" >14</th>\n      <td id=\"T_2ad17_row14_col0\" class=\"data row14 col0\" >Stratify Train-Test</td>\n      <td id=\"T_2ad17_row14_col1\" class=\"data row14 col1\" >False</td>\n    </tr>\n    <tr>\n      <th id=\"T_2ad17_level0_row15\" class=\"row_heading level0 row15\" >15</th>\n      <td id=\"T_2ad17_row15_col0\" class=\"data row15 col0\" >Fold Generator</td>\n      <td id=\"T_2ad17_row15_col1\" class=\"data row15 col1\" >StratifiedKFold</td>\n    </tr>\n    <tr>\n      <th id=\"T_2ad17_level0_row16\" class=\"row_heading level0 row16\" >16</th>\n      <td id=\"T_2ad17_row16_col0\" class=\"data row16 col0\" >Fold Number</td>\n      <td id=\"T_2ad17_row16_col1\" class=\"data row16 col1\" >10</td>\n    </tr>\n    <tr>\n      <th id=\"T_2ad17_level0_row17\" class=\"row_heading level0 row17\" >17</th>\n      <td id=\"T_2ad17_row17_col0\" class=\"data row17 col0\" >CPU Jobs</td>\n      <td id=\"T_2ad17_row17_col1\" class=\"data row17 col1\" >-1</td>\n    </tr>\n    <tr>\n      <th id=\"T_2ad17_level0_row18\" class=\"row_heading level0 row18\" >18</th>\n      <td id=\"T_2ad17_row18_col0\" class=\"data row18 col0\" >Use GPU</td>\n      <td id=\"T_2ad17_row18_col1\" class=\"data row18 col1\" >False</td>\n    </tr>\n    <tr>\n      <th id=\"T_2ad17_level0_row19\" class=\"row_heading level0 row19\" >19</th>\n      <td id=\"T_2ad17_row19_col0\" class=\"data row19 col0\" >Log Experiment</td>\n      <td id=\"T_2ad17_row19_col1\" class=\"data row19 col1\" >False</td>\n    </tr>\n    <tr>\n      <th id=\"T_2ad17_level0_row20\" class=\"row_heading level0 row20\" >20</th>\n      <td id=\"T_2ad17_row20_col0\" class=\"data row20 col0\" >Experiment Name</td>\n      <td id=\"T_2ad17_row20_col1\" class=\"data row20 col1\" >clf-default-name</td>\n    </tr>\n    <tr>\n      <th id=\"T_2ad17_level0_row21\" class=\"row_heading level0 row21\" >21</th>\n      <td id=\"T_2ad17_row21_col0\" class=\"data row21 col0\" >USI</td>\n      <td id=\"T_2ad17_row21_col1\" class=\"data row21 col1\" >766a</td>\n    </tr>\n    <tr>\n      <th id=\"T_2ad17_level0_row22\" class=\"row_heading level0 row22\" >22</th>\n      <td id=\"T_2ad17_row22_col0\" class=\"data row22 col0\" >Imputation Type</td>\n      <td id=\"T_2ad17_row22_col1\" class=\"data row22 col1\" >simple</td>\n    </tr>\n    <tr>\n      <th id=\"T_2ad17_level0_row23\" class=\"row_heading level0 row23\" >23</th>\n      <td id=\"T_2ad17_row23_col0\" class=\"data row23 col0\" >Iterative Imputation Iteration</td>\n      <td id=\"T_2ad17_row23_col1\" class=\"data row23 col1\" >None</td>\n    </tr>\n    <tr>\n      <th id=\"T_2ad17_level0_row24\" class=\"row_heading level0 row24\" >24</th>\n      <td id=\"T_2ad17_row24_col0\" class=\"data row24 col0\" >Numeric Imputer</td>\n      <td id=\"T_2ad17_row24_col1\" class=\"data row24 col1\" >mean</td>\n    </tr>\n    <tr>\n      <th id=\"T_2ad17_level0_row25\" class=\"row_heading level0 row25\" >25</th>\n      <td id=\"T_2ad17_row25_col0\" class=\"data row25 col0\" >Iterative Imputation Numeric Model</td>\n      <td id=\"T_2ad17_row25_col1\" class=\"data row25 col1\" >None</td>\n    </tr>\n    <tr>\n      <th id=\"T_2ad17_level0_row26\" class=\"row_heading level0 row26\" >26</th>\n      <td id=\"T_2ad17_row26_col0\" class=\"data row26 col0\" >Categorical Imputer</td>\n      <td id=\"T_2ad17_row26_col1\" class=\"data row26 col1\" >constant</td>\n    </tr>\n    <tr>\n      <th id=\"T_2ad17_level0_row27\" class=\"row_heading level0 row27\" >27</th>\n      <td id=\"T_2ad17_row27_col0\" class=\"data row27 col0\" >Iterative Imputation Categorical Model</td>\n      <td id=\"T_2ad17_row27_col1\" class=\"data row27 col1\" >None</td>\n    </tr>\n    <tr>\n      <th id=\"T_2ad17_level0_row28\" class=\"row_heading level0 row28\" >28</th>\n      <td id=\"T_2ad17_row28_col0\" class=\"data row28 col0\" >Unknown Categoricals Handling</td>\n      <td id=\"T_2ad17_row28_col1\" class=\"data row28 col1\" >least_frequent</td>\n    </tr>\n    <tr>\n      <th id=\"T_2ad17_level0_row29\" class=\"row_heading level0 row29\" >29</th>\n      <td id=\"T_2ad17_row29_col0\" class=\"data row29 col0\" >Normalize</td>\n      <td id=\"T_2ad17_row29_col1\" class=\"data row29 col1\" >True</td>\n    </tr>\n    <tr>\n      <th id=\"T_2ad17_level0_row30\" class=\"row_heading level0 row30\" >30</th>\n      <td id=\"T_2ad17_row30_col0\" class=\"data row30 col0\" >Normalize Method</td>\n      <td id=\"T_2ad17_row30_col1\" class=\"data row30 col1\" >minmax</td>\n    </tr>\n    <tr>\n      <th id=\"T_2ad17_level0_row31\" class=\"row_heading level0 row31\" >31</th>\n      <td id=\"T_2ad17_row31_col0\" class=\"data row31 col0\" >Transformation</td>\n      <td id=\"T_2ad17_row31_col1\" class=\"data row31 col1\" >False</td>\n    </tr>\n    <tr>\n      <th id=\"T_2ad17_level0_row32\" class=\"row_heading level0 row32\" >32</th>\n      <td id=\"T_2ad17_row32_col0\" class=\"data row32 col0\" >Transformation Method</td>\n      <td id=\"T_2ad17_row32_col1\" class=\"data row32 col1\" >None</td>\n    </tr>\n    <tr>\n      <th id=\"T_2ad17_level0_row33\" class=\"row_heading level0 row33\" >33</th>\n      <td id=\"T_2ad17_row33_col0\" class=\"data row33 col0\" >PCA</td>\n      <td id=\"T_2ad17_row33_col1\" class=\"data row33 col1\" >False</td>\n    </tr>\n    <tr>\n      <th id=\"T_2ad17_level0_row34\" class=\"row_heading level0 row34\" >34</th>\n      <td id=\"T_2ad17_row34_col0\" class=\"data row34 col0\" >PCA Method</td>\n      <td id=\"T_2ad17_row34_col1\" class=\"data row34 col1\" >None</td>\n    </tr>\n    <tr>\n      <th id=\"T_2ad17_level0_row35\" class=\"row_heading level0 row35\" >35</th>\n      <td id=\"T_2ad17_row35_col0\" class=\"data row35 col0\" >PCA Components</td>\n      <td id=\"T_2ad17_row35_col1\" class=\"data row35 col1\" >None</td>\n    </tr>\n    <tr>\n      <th id=\"T_2ad17_level0_row36\" class=\"row_heading level0 row36\" >36</th>\n      <td id=\"T_2ad17_row36_col0\" class=\"data row36 col0\" >Ignore Low Variance</td>\n      <td id=\"T_2ad17_row36_col1\" class=\"data row36 col1\" >False</td>\n    </tr>\n    <tr>\n      <th id=\"T_2ad17_level0_row37\" class=\"row_heading level0 row37\" >37</th>\n      <td id=\"T_2ad17_row37_col0\" class=\"data row37 col0\" >Combine Rare Levels</td>\n      <td id=\"T_2ad17_row37_col1\" class=\"data row37 col1\" >False</td>\n    </tr>\n    <tr>\n      <th id=\"T_2ad17_level0_row38\" class=\"row_heading level0 row38\" >38</th>\n      <td id=\"T_2ad17_row38_col0\" class=\"data row38 col0\" >Rare Level Threshold</td>\n      <td id=\"T_2ad17_row38_col1\" class=\"data row38 col1\" >None</td>\n    </tr>\n    <tr>\n      <th id=\"T_2ad17_level0_row39\" class=\"row_heading level0 row39\" >39</th>\n      <td id=\"T_2ad17_row39_col0\" class=\"data row39 col0\" >Numeric Binning</td>\n      <td id=\"T_2ad17_row39_col1\" class=\"data row39 col1\" >False</td>\n    </tr>\n    <tr>\n      <th id=\"T_2ad17_level0_row40\" class=\"row_heading level0 row40\" >40</th>\n      <td id=\"T_2ad17_row40_col0\" class=\"data row40 col0\" >Remove Outliers</td>\n      <td id=\"T_2ad17_row40_col1\" class=\"data row40 col1\" >False</td>\n    </tr>\n    <tr>\n      <th id=\"T_2ad17_level0_row41\" class=\"row_heading level0 row41\" >41</th>\n      <td id=\"T_2ad17_row41_col0\" class=\"data row41 col0\" >Outliers Threshold</td>\n      <td id=\"T_2ad17_row41_col1\" class=\"data row41 col1\" >None</td>\n    </tr>\n    <tr>\n      <th id=\"T_2ad17_level0_row42\" class=\"row_heading level0 row42\" >42</th>\n      <td id=\"T_2ad17_row42_col0\" class=\"data row42 col0\" >Remove Multicollinearity</td>\n      <td id=\"T_2ad17_row42_col1\" class=\"data row42 col1\" >False</td>\n    </tr>\n    <tr>\n      <th id=\"T_2ad17_level0_row43\" class=\"row_heading level0 row43\" >43</th>\n      <td id=\"T_2ad17_row43_col0\" class=\"data row43 col0\" >Multicollinearity Threshold</td>\n      <td id=\"T_2ad17_row43_col1\" class=\"data row43 col1\" >None</td>\n    </tr>\n    <tr>\n      <th id=\"T_2ad17_level0_row44\" class=\"row_heading level0 row44\" >44</th>\n      <td id=\"T_2ad17_row44_col0\" class=\"data row44 col0\" >Clustering</td>\n      <td id=\"T_2ad17_row44_col1\" class=\"data row44 col1\" >False</td>\n    </tr>\n    <tr>\n      <th id=\"T_2ad17_level0_row45\" class=\"row_heading level0 row45\" >45</th>\n      <td id=\"T_2ad17_row45_col0\" class=\"data row45 col0\" >Clustering Iteration</td>\n      <td id=\"T_2ad17_row45_col1\" class=\"data row45 col1\" >None</td>\n    </tr>\n    <tr>\n      <th id=\"T_2ad17_level0_row46\" class=\"row_heading level0 row46\" >46</th>\n      <td id=\"T_2ad17_row46_col0\" class=\"data row46 col0\" >Polynomial Features</td>\n      <td id=\"T_2ad17_row46_col1\" class=\"data row46 col1\" >False</td>\n    </tr>\n    <tr>\n      <th id=\"T_2ad17_level0_row47\" class=\"row_heading level0 row47\" >47</th>\n      <td id=\"T_2ad17_row47_col0\" class=\"data row47 col0\" >Polynomial Degree</td>\n      <td id=\"T_2ad17_row47_col1\" class=\"data row47 col1\" >None</td>\n    </tr>\n    <tr>\n      <th id=\"T_2ad17_level0_row48\" class=\"row_heading level0 row48\" >48</th>\n      <td id=\"T_2ad17_row48_col0\" class=\"data row48 col0\" >Trignometry Features</td>\n      <td id=\"T_2ad17_row48_col1\" class=\"data row48 col1\" >False</td>\n    </tr>\n    <tr>\n      <th id=\"T_2ad17_level0_row49\" class=\"row_heading level0 row49\" >49</th>\n      <td id=\"T_2ad17_row49_col0\" class=\"data row49 col0\" >Polynomial Threshold</td>\n      <td id=\"T_2ad17_row49_col1\" class=\"data row49 col1\" >None</td>\n    </tr>\n    <tr>\n      <th id=\"T_2ad17_level0_row50\" class=\"row_heading level0 row50\" >50</th>\n      <td id=\"T_2ad17_row50_col0\" class=\"data row50 col0\" >Group Features</td>\n      <td id=\"T_2ad17_row50_col1\" class=\"data row50 col1\" >False</td>\n    </tr>\n    <tr>\n      <th id=\"T_2ad17_level0_row51\" class=\"row_heading level0 row51\" >51</th>\n      <td id=\"T_2ad17_row51_col0\" class=\"data row51 col0\" >Feature Selection</td>\n      <td id=\"T_2ad17_row51_col1\" class=\"data row51 col1\" >True</td>\n    </tr>\n    <tr>\n      <th id=\"T_2ad17_level0_row52\" class=\"row_heading level0 row52\" >52</th>\n      <td id=\"T_2ad17_row52_col0\" class=\"data row52 col0\" >Features Selection Threshold</td>\n      <td id=\"T_2ad17_row52_col1\" class=\"data row52 col1\" >0.200000</td>\n    </tr>\n    <tr>\n      <th id=\"T_2ad17_level0_row53\" class=\"row_heading level0 row53\" >53</th>\n      <td id=\"T_2ad17_row53_col0\" class=\"data row53 col0\" >Feature Interaction</td>\n      <td id=\"T_2ad17_row53_col1\" class=\"data row53 col1\" >False</td>\n    </tr>\n    <tr>\n      <th id=\"T_2ad17_level0_row54\" class=\"row_heading level0 row54\" >54</th>\n      <td id=\"T_2ad17_row54_col0\" class=\"data row54 col0\" >Feature Ratio</td>\n      <td id=\"T_2ad17_row54_col1\" class=\"data row54 col1\" >False</td>\n    </tr>\n    <tr>\n      <th id=\"T_2ad17_level0_row55\" class=\"row_heading level0 row55\" >55</th>\n      <td id=\"T_2ad17_row55_col0\" class=\"data row55 col0\" >Interaction Threshold</td>\n      <td id=\"T_2ad17_row55_col1\" class=\"data row55 col1\" >None</td>\n    </tr>\n    <tr>\n      <th id=\"T_2ad17_level0_row56\" class=\"row_heading level0 row56\" >56</th>\n      <td id=\"T_2ad17_row56_col0\" class=\"data row56 col0\" >Fix Imbalance</td>\n      <td id=\"T_2ad17_row56_col1\" class=\"data row56 col1\" >True</td>\n    </tr>\n    <tr>\n      <th id=\"T_2ad17_level0_row57\" class=\"row_heading level0 row57\" >57</th>\n      <td id=\"T_2ad17_row57_col0\" class=\"data row57 col0\" >Fix Imbalance Method</td>\n      <td id=\"T_2ad17_row57_col1\" class=\"data row57 col1\" >SMOTE</td>\n    </tr>\n  </tbody>\n</table>\n"
     },
     "metadata": {},
     "output_type": "display_data"
    }
   ],
   "source": [
    "dsp_tr=setup(data = ds,\n",
    "             target = 'label',train_size=0.8,\n",
    "             numeric_imputation = 'mean',\n",
    "             categorical_features = ['protocol_type','service','flag'],\n",
    "             normalize=True,normalize_method='minmax',\n",
    "             feature_selection=True,feature_selection_threshold=0.2,\n",
    "             silent = True, fold_shuffle=True, fix_imbalance=True)"
   ],
   "metadata": {
    "collapsed": false,
    "pycharm": {
     "name": "#%%\n"
    }
   }
  },
  {
   "cell_type": "code",
   "execution_count": 4,
   "outputs": [],
   "source": [
    "X_train=get_config('X_train')\n",
    "Y_train = get_config('y_train')\n",
    "Y_test = get_config('y_test')\n",
    "X_test = get_config('X_test')"
   ],
   "metadata": {
    "collapsed": false,
    "pycharm": {
     "name": "#%%\n"
    }
   }
  },
  {
   "cell_type": "code",
   "execution_count": 5,
   "outputs": [
    {
     "data": {
      "text/plain": "121155    0\n91224     1\n13982     1\n57594     0\n26210     1\n         ..\n17426     0\n53046     0\n10486     1\n81521     1\n102867    0\nName: label, Length: 118813, dtype: int32"
     },
     "execution_count": 5,
     "metadata": {},
     "output_type": "execute_result"
    }
   ],
   "source": [
    "Y_train"
   ],
   "metadata": {
    "collapsed": false,
    "pycharm": {
     "name": "#%%\n"
    }
   }
  },
  {
   "cell_type": "code",
   "execution_count": 8,
   "outputs": [],
   "source": [
    "Y_train=Y_train.replace({0:1,1:0})"
   ],
   "metadata": {
    "collapsed": false,
    "pycharm": {
     "name": "#%%\n"
    }
   }
  },
  {
   "cell_type": "code",
   "execution_count": 9,
   "outputs": [
    {
     "data": {
      "text/plain": "121155    1\n91224     0\n13982     0\n57594     1\n26210     0\n         ..\n17426     1\n53046     1\n10486     0\n81521     0\n102867    1\nName: label, Length: 118813, dtype: int64"
     },
     "execution_count": 9,
     "metadata": {},
     "output_type": "execute_result"
    }
   ],
   "source": [
    "Y_train"
   ],
   "metadata": {
    "collapsed": false,
    "pycharm": {
     "name": "#%%\n"
    }
   }
  },
  {
   "cell_type": "code",
   "execution_count": 11,
   "outputs": [
    {
     "data": {
      "text/plain": "34114     0\n102251    1\n60383     1\n92282     1\n106659    0\n         ..\n103491    1\n102838    0\n19354     1\n10941     1\n9642      1\nName: label, Length: 29704, dtype: int64"
     },
     "execution_count": 11,
     "metadata": {},
     "output_type": "execute_result"
    }
   ],
   "source": [
    "Y_test"
   ],
   "metadata": {
    "collapsed": false,
    "pycharm": {
     "name": "#%%\n"
    }
   }
  },
  {
   "cell_type": "code",
   "execution_count": 12,
   "outputs": [],
   "source": [
    "Y_test=Y_test.replace({0:1,1:0})"
   ],
   "metadata": {
    "collapsed": false,
    "pycharm": {
     "name": "#%%\n"
    }
   }
  },
  {
   "cell_type": "code",
   "execution_count": 13,
   "outputs": [
    {
     "data": {
      "text/plain": "34114     1\n102251    0\n60383     0\n92282     0\n106659    1\n         ..\n103491    0\n102838    1\n19354     0\n10941     0\n9642      0\nName: label, Length: 29704, dtype: int64"
     },
     "execution_count": 13,
     "metadata": {},
     "output_type": "execute_result"
    }
   ],
   "source": [
    "Y_test"
   ],
   "metadata": {
    "collapsed": false,
    "pycharm": {
     "name": "#%%\n"
    }
   }
  },
  {
   "cell_type": "code",
   "execution_count": 15,
   "outputs": [
    {
     "name": "stdout",
     "output_type": "stream",
     "text": [
      "Epoch 1/100\n",
      "1857/1857 [==============================] - 6s 3ms/step - loss: 0.1136 - accuracy: 0.9584 - val_loss: 0.0769 - val_accuracy: 0.9705\n",
      "Epoch 2/100\n",
      "1857/1857 [==============================] - 7s 4ms/step - loss: 0.0731 - accuracy: 0.9731 - val_loss: 0.0667 - val_accuracy: 0.9745\n",
      "Epoch 3/100\n",
      "1857/1857 [==============================] - 6s 3ms/step - loss: 0.0661 - accuracy: 0.9750 - val_loss: 0.0929 - val_accuracy: 0.9731\n",
      "Epoch 4/100\n",
      "1857/1857 [==============================] - 6s 3ms/step - loss: 0.0614 - accuracy: 0.9768 - val_loss: 0.0582 - val_accuracy: 0.9787\n",
      "Epoch 5/100\n",
      "1857/1857 [==============================] - 6s 3ms/step - loss: 0.0579 - accuracy: 0.9778 - val_loss: 0.0557 - val_accuracy: 0.9792\n",
      "Epoch 6/100\n",
      "1857/1857 [==============================] - 6s 3ms/step - loss: 0.0552 - accuracy: 0.9787 - val_loss: 0.0512 - val_accuracy: 0.9805\n",
      "Epoch 7/100\n",
      "1857/1857 [==============================] - 6s 3ms/step - loss: 0.0529 - accuracy: 0.9795 - val_loss: 0.0516 - val_accuracy: 0.9798\n",
      "Epoch 8/100\n",
      "1857/1857 [==============================] - 6s 3ms/step - loss: 0.0514 - accuracy: 0.9802 - val_loss: 0.0500 - val_accuracy: 0.9807\n",
      "Epoch 9/100\n",
      "1857/1857 [==============================] - 6s 3ms/step - loss: 0.0506 - accuracy: 0.9804 - val_loss: 0.0618 - val_accuracy: 0.9776\n",
      "Epoch 10/100\n",
      "1857/1857 [==============================] - 6s 3ms/step - loss: 0.0493 - accuracy: 0.9810 - val_loss: 0.0437 - val_accuracy: 0.9835\n",
      "Epoch 11/100\n",
      "1857/1857 [==============================] - 6s 3ms/step - loss: 0.0473 - accuracy: 0.9817 - val_loss: 0.0492 - val_accuracy: 0.9799\n",
      "Epoch 12/100\n",
      "1857/1857 [==============================] - 6s 3ms/step - loss: 0.0465 - accuracy: 0.9823 - val_loss: 0.0432 - val_accuracy: 0.9839\n",
      "Epoch 13/100\n",
      "1857/1857 [==============================] - 6s 3ms/step - loss: 0.0451 - accuracy: 0.9823 - val_loss: 0.0437 - val_accuracy: 0.9831\n",
      "Epoch 14/100\n",
      "1857/1857 [==============================] - 6s 3ms/step - loss: 0.0439 - accuracy: 0.9826 - val_loss: 0.0719 - val_accuracy: 0.9772\n",
      "Epoch 15/100\n",
      "1857/1857 [==============================] - 6s 3ms/step - loss: 0.0431 - accuracy: 0.9831 - val_loss: 0.0480 - val_accuracy: 0.9806\n",
      "Epoch 16/100\n",
      "1857/1857 [==============================] - 6s 3ms/step - loss: 0.0421 - accuracy: 0.9837 - val_loss: 0.0410 - val_accuracy: 0.9843\n",
      "Epoch 17/100\n",
      "1857/1857 [==============================] - 6s 3ms/step - loss: 0.0412 - accuracy: 0.9836 - val_loss: 0.0400 - val_accuracy: 0.9856\n",
      "Epoch 18/100\n",
      "1857/1857 [==============================] - 6s 3ms/step - loss: 0.0405 - accuracy: 0.9839 - val_loss: 0.0424 - val_accuracy: 0.9852\n",
      "Epoch 19/100\n",
      "1857/1857 [==============================] - 6s 3ms/step - loss: 0.0405 - accuracy: 0.9846 - val_loss: 0.0418 - val_accuracy: 0.9834\n",
      "Epoch 20/100\n",
      "1857/1857 [==============================] - 6s 3ms/step - loss: 0.0403 - accuracy: 0.9847 - val_loss: 0.0553 - val_accuracy: 0.9831\n",
      "Epoch 21/100\n",
      "1857/1857 [==============================] - 6s 3ms/step - loss: 0.0394 - accuracy: 0.9848 - val_loss: 0.0431 - val_accuracy: 0.9845\n",
      "Epoch 22/100\n",
      "1857/1857 [==============================] - 6s 3ms/step - loss: 0.0382 - accuracy: 0.9856 - val_loss: 0.0386 - val_accuracy: 0.9861\n",
      "Epoch 23/100\n",
      "1857/1857 [==============================] - 6s 3ms/step - loss: 0.0381 - accuracy: 0.9851 - val_loss: 0.0432 - val_accuracy: 0.9855\n",
      "Epoch 24/100\n",
      "1857/1857 [==============================] - 7s 4ms/step - loss: 0.0371 - accuracy: 0.9856 - val_loss: 0.0383 - val_accuracy: 0.9855\n",
      "Epoch 25/100\n",
      "1857/1857 [==============================] - 7s 4ms/step - loss: 0.0367 - accuracy: 0.9856 - val_loss: 0.0403 - val_accuracy: 0.9844\n",
      "Epoch 26/100\n",
      "1857/1857 [==============================] - 6s 3ms/step - loss: 0.0365 - accuracy: 0.9860 - val_loss: 0.0358 - val_accuracy: 0.9874\n",
      "Epoch 27/100\n",
      "1857/1857 [==============================] - 6s 3ms/step - loss: 0.0356 - accuracy: 0.9860 - val_loss: 0.0353 - val_accuracy: 0.9872\n",
      "Epoch 28/100\n",
      "1857/1857 [==============================] - 6s 3ms/step - loss: 0.0350 - accuracy: 0.9864 - val_loss: 0.0403 - val_accuracy: 0.9853\n",
      "Epoch 29/100\n",
      "1857/1857 [==============================] - 7s 4ms/step - loss: 0.0344 - accuracy: 0.9869 - val_loss: 0.0354 - val_accuracy: 0.9868\n",
      "Epoch 30/100\n",
      "1857/1857 [==============================] - 6s 3ms/step - loss: 0.0346 - accuracy: 0.9865 - val_loss: 0.0344 - val_accuracy: 0.9877\n",
      "Epoch 31/100\n",
      "1857/1857 [==============================] - 6s 3ms/step - loss: 0.0343 - accuracy: 0.9870 - val_loss: 0.0344 - val_accuracy: 0.9880\n",
      "Epoch 32/100\n",
      "1857/1857 [==============================] - 6s 3ms/step - loss: 0.0342 - accuracy: 0.9867 - val_loss: 0.0337 - val_accuracy: 0.9885\n",
      "Epoch 33/100\n",
      "1857/1857 [==============================] - 6s 3ms/step - loss: 0.0338 - accuracy: 0.9869 - val_loss: 0.0543 - val_accuracy: 0.9818\n",
      "Epoch 34/100\n",
      "1857/1857 [==============================] - 6s 3ms/step - loss: 0.0329 - accuracy: 0.9872 - val_loss: 0.0339 - val_accuracy: 0.9869\n",
      "Epoch 35/100\n",
      "1857/1857 [==============================] - 6s 3ms/step - loss: 0.0326 - accuracy: 0.9874 - val_loss: 0.0387 - val_accuracy: 0.9846\n",
      "Epoch 36/100\n",
      "1857/1857 [==============================] - 6s 3ms/step - loss: 0.0327 - accuracy: 0.9875 - val_loss: 0.0343 - val_accuracy: 0.9880\n",
      "Epoch 37/100\n",
      "1857/1857 [==============================] - 6s 3ms/step - loss: 0.0323 - accuracy: 0.9877 - val_loss: 0.0337 - val_accuracy: 0.9878\n"
     ]
    },
    {
     "data": {
      "text/plain": "<tensorflow.python.keras.callbacks.History at 0x1d2cbb455b0>"
     },
     "execution_count": 15,
     "metadata": {},
     "output_type": "execute_result"
    }
   ],
   "source": [
    "from tensorflow.python.keras.layers import Activation\n",
    "from keras.optimizers import SGD\n",
    "from keras.models import Sequential\n",
    "from keras.layers import Dense\n",
    "from keras.layers.advanced_activations import PReLU\n",
    "from keras.layers import Dropout\n",
    "from keras.callbacks import EarlyStopping\n",
    "act2 = PReLU(alpha_initializer='zeros', weights=None)\n",
    "model2 = Sequential()\n",
    "# define the NN architecture and activation function\n",
    "\n",
    "model2.add(Dense(496, input_dim=41, activation=Activation(act2)))\n",
    "model2.add(Dropout(0.1))\n",
    "model2.add(Dense(248, activation='relu'))\n",
    "model2.add(Dropout(0.1))\n",
    "model2.add(Dense(124, activation='relu'))\n",
    "model2.add(Dropout(0.1))\n",
    "model2.add(Dense(62, activation='relu'))\n",
    "model2.add(Dropout(0.1))\n",
    "model2.add(Dense(1))\n",
    "model2.add(Activation('sigmoid'))\n",
    "\n",
    "sgd =SGD(lr=0.01, decay=1e-6, momentum=0.9, nesterov=True)\n",
    "model2.compile(loss='binary_crossentropy', optimizer=sgd, metrics= ['accuracy'])\n",
    "es = EarlyStopping(monitor='val_accuracy', mode='max', min_delta=0.0001,patience=5) ## early stopping\n",
    "model2.fit(X_train, Y_train, validation_data=(X_test, Y_test), epochs=100, batch_size=64, callbacks=[es])"
   ],
   "metadata": {
    "collapsed": false,
    "pycharm": {
     "name": "#%%\n"
    }
   }
  },
  {
   "cell_type": "code",
   "execution_count": 16,
   "outputs": [
    {
     "name": "stdout",
     "output_type": "stream",
     "text": [
      "accuracy: 98.94%\n"
     ]
    }
   ],
   "source": [
    "#training accuracy\n",
    "train_acc2 = model2.evaluate(X_train, Y_train, verbose=0)\n",
    "print(\"%s: %.2f%%\" % (model2.metrics_names[1], train_acc2[1]*100))"
   ],
   "metadata": {
    "collapsed": false,
    "pycharm": {
     "name": "#%%\n"
    }
   }
  },
  {
   "cell_type": "code",
   "execution_count": 17,
   "outputs": [
    {
     "name": "stdout",
     "output_type": "stream",
     "text": [
      "accuracy: 98.78%\n"
     ]
    }
   ],
   "source": [
    "#calculate the test accuracy using evaluate function\n",
    "test_acc2 = model2.evaluate(X_test, Y_test, verbose=0)\n",
    "print(\"%s: %.2f%%\" % (model2.metrics_names[1], test_acc2[1] * 100))"
   ],
   "metadata": {
    "collapsed": false,
    "pycharm": {
     "name": "#%%\n"
    }
   }
  },
  {
   "cell_type": "code",
   "execution_count": 18,
   "outputs": [
    {
     "name": "stdout",
     "output_type": "stream",
     "text": [
      "WARNING:tensorflow:From C:\\Users\\Jovana\\AppData\\Local\\Temp/ipykernel_24812/77600060.py:3: Sequential.predict_classes (from tensorflow.python.keras.engine.sequential) is deprecated and will be removed after 2021-01-01.\n",
      "Instructions for updating:\n",
      "Please use instead:* `np.argmax(model.predict(x), axis=-1)`,   if your model does multi-class classification   (e.g. if it uses a `softmax` last-layer activation).* `(model.predict(x) > 0.5).astype(\"int32\")`,   if your model does binary classification   (e.g. if it uses a `sigmoid` last-layer activation).\n"
     ]
    },
    {
     "data": {
      "text/plain": "0.9878130891462429"
     },
     "execution_count": 18,
     "metadata": {},
     "output_type": "execute_result"
    }
   ],
   "source": [
    "from sklearn.metrics import accuracy_score\n",
    "# or find the prediction accuracy using predict_classes (same as test accuracy)\n",
    "y_pred2 = model2.predict_classes(X_test)\n",
    "pred_accuracy2 = accuracy_score(Y_test, y_pred2)\n",
    "pred_accuracy2"
   ],
   "metadata": {
    "collapsed": false,
    "pycharm": {
     "name": "#%%\n"
    }
   }
  },
  {
   "cell_type": "code",
   "execution_count": 19,
   "outputs": [
    {
     "name": "stdout",
     "output_type": "stream",
     "text": [
      "Precision : 0.985040\n"
     ]
    }
   ],
   "source": [
    "from sklearn.metrics import precision_score, recall_score, f1_score, roc_auc_score\n",
    "# Precision\n",
    "precision = precision_score(Y_test, y_pred2)\n",
    "print('Precision : %f'% precision)"
   ],
   "metadata": {
    "collapsed": false,
    "pycharm": {
     "name": "#%%\n"
    }
   }
  },
  {
   "cell_type": "code",
   "execution_count": 20,
   "outputs": [
    {
     "name": "stdout",
     "output_type": "stream",
     "text": [
      "Recall: 0.989723\n"
     ]
    }
   ],
   "source": [
    "# Recall\n",
    "recall = recall_score(Y_test, y_pred2)\n",
    "print('Recall: %f' % recall)"
   ],
   "metadata": {
    "collapsed": false,
    "pycharm": {
     "name": "#%%\n"
    }
   }
  },
  {
   "cell_type": "code",
   "execution_count": 21,
   "outputs": [
    {
     "name": "stdout",
     "output_type": "stream",
     "text": [
      "F1 score: 0.987376\n"
     ]
    }
   ],
   "source": [
    "# f1-score\n",
    "f1 = f1_score(Y_test, y_pred2)\n",
    "print('F1 score: %f' % f1)"
   ],
   "metadata": {
    "collapsed": false,
    "pycharm": {
     "name": "#%%\n"
    }
   }
  },
  {
   "cell_type": "code",
   "execution_count": 22,
   "outputs": [
    {
     "name": "stdout",
     "output_type": "stream",
     "text": [
      "ROC_AUC Score: 0.987881\n"
     ]
    }
   ],
   "source": [
    "#TPR=0.9897\n",
    "#FPR=0.0140\n",
    "\n",
    "roc = roc_auc_score(Y_test, y_pred2)\n",
    "print('ROC_AUC Score: %f' % roc)"
   ],
   "metadata": {
    "collapsed": false,
    "pycharm": {
     "name": "#%%\n"
    }
   }
  },
  {
   "cell_type": "code",
   "execution_count": 23,
   "outputs": [
    {
     "name": "stdout",
     "output_type": "stream",
     "text": [
      "[[15185   215]\n",
      " [  147 14157]]\n"
     ]
    }
   ],
   "source": [
    "from sklearn.metrics import confusion_matrix\n",
    "\n",
    "# confusion matrix\n",
    "confusionmatrix = confusion_matrix(Y_test, y_pred2)\n",
    "print(confusionmatrix)"
   ],
   "metadata": {
    "collapsed": false,
    "pycharm": {
     "name": "#%%\n"
    }
   }
  },
  {
   "cell_type": "code",
   "execution_count": 24,
   "outputs": [
    {
     "data": {
      "text/plain": "(15185, 215, 147, 14157)"
     },
     "execution_count": 24,
     "metadata": {},
     "output_type": "execute_result"
    }
   ],
   "source": [
    "tn, fp, fn, tp = confusionmatrix.ravel()\n",
    "(tn, fp, fn, tp)\n",
    "#FPR= 1.4%\n",
    "#FNR= 1.03%"
   ],
   "metadata": {
    "collapsed": false,
    "pycharm": {
     "name": "#%%\n"
    }
   }
  },
  {
   "cell_type": "code",
   "execution_count": 62,
   "outputs": [
    {
     "data": {
      "text/plain": "array([0.96354657, 1.03932014])"
     },
     "execution_count": 62,
     "metadata": {},
     "output_type": "execute_result"
    }
   ],
   "source": [
    "#we have 147 false negatives, want to go lower\n",
    "#next experiment is trying with the class weights\n",
    "from sklearn.utils import compute_class_weight\n",
    "weights=compute_class_weight('balanced',[0,1], Y_train)\n",
    "weights\n"
   ],
   "metadata": {
    "collapsed": false,
    "pycharm": {
     "name": "#%%\n"
    }
   }
  },
  {
   "cell_type": "code",
   "execution_count": 67,
   "outputs": [
    {
     "name": "stdout",
     "output_type": "stream",
     "text": [
      "Epoch 1/100\n",
      "1857/1857 [==============================] - 7s 4ms/step - loss: 0.1517 - accuracy: 0.9564 - val_loss: 0.0719 - val_accuracy: 0.9737\n",
      "Epoch 2/100\n",
      "1857/1857 [==============================] - 6s 3ms/step - loss: 0.1051 - accuracy: 0.9710 - val_loss: 0.0649 - val_accuracy: 0.9762\n",
      "Epoch 3/100\n",
      "1857/1857 [==============================] - 6s 3ms/step - loss: 0.0940 - accuracy: 0.9734 - val_loss: 0.0660 - val_accuracy: 0.9744\n",
      "Epoch 4/100\n",
      "1857/1857 [==============================] - 6s 3ms/step - loss: 0.0882 - accuracy: 0.9750 - val_loss: 0.0678 - val_accuracy: 0.9745\n",
      "Epoch 5/100\n",
      "1857/1857 [==============================] - 6s 3ms/step - loss: 0.0848 - accuracy: 0.9757 - val_loss: 0.0558 - val_accuracy: 0.9776\n",
      "Epoch 6/100\n",
      "1857/1857 [==============================] - 6s 3ms/step - loss: 0.0807 - accuracy: 0.9769 - val_loss: 0.0568 - val_accuracy: 0.9761\n",
      "Epoch 7/100\n",
      "1857/1857 [==============================] - 7s 4ms/step - loss: 0.0772 - accuracy: 0.9777 - val_loss: 0.0509 - val_accuracy: 0.9800\n",
      "Epoch 8/100\n",
      "1857/1857 [==============================] - 6s 3ms/step - loss: 0.0751 - accuracy: 0.9783 - val_loss: 0.0538 - val_accuracy: 0.9794\n",
      "Epoch 9/100\n",
      "1857/1857 [==============================] - 6s 3ms/step - loss: 0.0739 - accuracy: 0.9787 - val_loss: 0.0514 - val_accuracy: 0.9798\n",
      "Epoch 10/100\n",
      "1857/1857 [==============================] - 6s 3ms/step - loss: 0.0705 - accuracy: 0.9797 - val_loss: 0.0451 - val_accuracy: 0.9838\n",
      "Epoch 11/100\n",
      "1857/1857 [==============================] - 6s 3ms/step - loss: 0.0681 - accuracy: 0.9803 - val_loss: 0.0455 - val_accuracy: 0.9829\n",
      "Epoch 12/100\n",
      "1857/1857 [==============================] - 7s 4ms/step - loss: 0.0674 - accuracy: 0.9801 - val_loss: 0.0549 - val_accuracy: 0.9811\n",
      "Epoch 13/100\n",
      "1857/1857 [==============================] - 6s 3ms/step - loss: 0.0658 - accuracy: 0.9811 - val_loss: 0.0442 - val_accuracy: 0.9833\n",
      "Epoch 14/100\n",
      "1857/1857 [==============================] - 6s 3ms/step - loss: 0.0634 - accuracy: 0.9816 - val_loss: 0.0449 - val_accuracy: 0.9827\n",
      "Epoch 15/100\n",
      "1857/1857 [==============================] - 7s 4ms/step - loss: 0.0625 - accuracy: 0.9820 - val_loss: 0.0401 - val_accuracy: 0.9862\n",
      "Epoch 16/100\n",
      "1857/1857 [==============================] - 6s 3ms/step - loss: 0.0607 - accuracy: 0.9821 - val_loss: 0.0443 - val_accuracy: 0.9838\n",
      "Epoch 17/100\n",
      "1857/1857 [==============================] - 6s 3ms/step - loss: 0.0595 - accuracy: 0.9828 - val_loss: 0.0445 - val_accuracy: 0.9840\n",
      "Epoch 18/100\n",
      "1857/1857 [==============================] - 6s 3ms/step - loss: 0.0585 - accuracy: 0.9831 - val_loss: 0.0750 - val_accuracy: 0.9740\n",
      "Epoch 19/100\n",
      "1857/1857 [==============================] - 6s 3ms/step - loss: 0.0577 - accuracy: 0.9831 - val_loss: 0.0433 - val_accuracy: 0.9846\n",
      "Epoch 20/100\n",
      "1857/1857 [==============================] - 6s 3ms/step - loss: 0.0564 - accuracy: 0.9832 - val_loss: 0.0446 - val_accuracy: 0.9835\n"
     ]
    },
    {
     "data": {
      "text/plain": "<tensorflow.python.keras.callbacks.History at 0x1d2ccdf8850>"
     },
     "execution_count": 67,
     "metadata": {},
     "output_type": "execute_result"
    }
   ],
   "source": [
    "act3 = PReLU(alpha_initializer='zeros', weights=None)\n",
    "model3 = Sequential()\n",
    "# define the NN architecture and activation function\n",
    "model3.add(Dense(496, input_dim=41, activation=Activation(act3)))\n",
    "model3.add(Dropout(0.1))\n",
    "model3.add(Dense(248, activation='relu'))\n",
    "model3.add(Dropout(0.1))\n",
    "model3.add(Dense(124, activation='relu'))\n",
    "model3.add(Dropout(0.1))\n",
    "model3.add(Dense(62, activation='relu'))\n",
    "model3.add(Dropout(0.1))\n",
    "model3.add(Dense(1))\n",
    "model3.add(Activation('sigmoid'))\n",
    "\n",
    "sgd =SGD(lr=0.01, decay=1e-6, momentum=0.9, nesterov=True)\n",
    "model3.compile(loss='binary_crossentropy', optimizer=sgd, metrics= ['accuracy'])\n",
    "es = EarlyStopping(monitor='val_accuracy', mode='max', min_delta=0.0001,patience=5) ## early stopping\n",
    "model3.fit(X_train, Y_train, validation_data=(X_test, Y_test), epochs=100, batch_size=64, callbacks=[es], class_weight={0:1,1:2})"
   ],
   "metadata": {
    "collapsed": false,
    "pycharm": {
     "name": "#%%\n"
    }
   }
  },
  {
   "cell_type": "code",
   "execution_count": 68,
   "outputs": [],
   "source": [
    "y_pred3 = model3.predict_classes(X_test)\n",
    "#recall= 99.2%\n",
    "#precision = 97.42%\n",
    "#F1 score = 98.3%\n",
    "#ROC = 98.38%\n",
    "#FPR = 2.44%"
   ],
   "metadata": {
    "collapsed": false,
    "pycharm": {
     "name": "#%%\n"
    }
   }
  },
  {
   "cell_type": "code",
   "execution_count": 69,
   "outputs": [
    {
     "name": "stdout",
     "output_type": "stream",
     "text": [
      "[[15024   376]\n",
      " [  115 14189]]\n"
     ]
    }
   ],
   "source": [
    "confusionmatrix2 = confusion_matrix(Y_test, y_pred3)\n",
    "print(confusionmatrix2)"
   ],
   "metadata": {
    "collapsed": false,
    "pycharm": {
     "name": "#%%\n"
    }
   }
  },
  {
   "cell_type": "code",
   "execution_count": 70,
   "outputs": [
    {
     "data": {
      "text/plain": "(15024, 376, 115, 14189)"
     },
     "execution_count": 70,
     "metadata": {},
     "output_type": "execute_result"
    }
   ],
   "source": [
    "tn2, fp2, fn2, tp2 = confusionmatrix2.ravel()\n",
    "(tn2, fp2, fn2, tp2)\n",
    "#FNR=0.8%"
   ],
   "metadata": {
    "collapsed": false,
    "pycharm": {
     "name": "#%%\n"
    }
   }
  },
  {
   "cell_type": "code",
   "execution_count": 71,
   "outputs": [],
   "source": [
    "#we decreased a bit, let's try for multiclass now with this method\n",
    "ds_multi = pd.concat([ds_train, ds_test], axis=0)\n",
    "ds_multi = ds_multi.drop('difficulty_level', axis=1)\n",
    "\n",
    "\n",
    "def change_label(df):\n",
    "    df.label.replace(\n",
    "        ['apache2', 'back', 'land', 'neptune', 'mailbomb', 'pod', 'processtable', 'smurf', 'teardrop', 'udpstorm',\n",
    "         'worm'], 'Dos', inplace=True)\n",
    "    df.label.replace(['ftp_write', 'guess_passwd', 'httptunnel', 'imap', 'multihop', 'named', 'phf', 'sendmail',\n",
    "                      'snmpgetattack', 'snmpguess', 'spy', 'warezclient', 'warezmaster', 'xlock', 'xsnoop'], 'R2L',\n",
    "                     inplace=True)\n",
    "    df.label.replace(['ipsweep', 'mscan', 'nmap', 'portsweep', 'saint', 'satan'], 'Probe', inplace=True)\n",
    "    df.label.replace(['buffer_overflow', 'loadmodule', 'perl', 'ps', 'rootkit', 'sqlattack', 'xterm'], 'U2R',\n",
    "                     inplace=True)\n",
    "\n",
    "\n",
    "# calling change_label() function\n",
    "change_label(ds_multi)"
   ],
   "metadata": {
    "collapsed": false,
    "pycharm": {
     "name": "#%%\n"
    }
   }
  },
  {
   "cell_type": "code",
   "execution_count": 72,
   "outputs": [
    {
     "data": {
      "text/plain": "<pandas.io.formats.style.Styler at 0x1d281af14f0>",
      "text/html": "<style type=\"text/css\">\n#T_72730_row29_col1, #T_72730_row51_col1, #T_72730_row56_col1 {\n  background-color: lightgreen;\n}\n</style>\n<table id=\"T_72730_\">\n  <thead>\n    <tr>\n      <th class=\"blank level0\" >&nbsp;</th>\n      <th class=\"col_heading level0 col0\" >Description</th>\n      <th class=\"col_heading level0 col1\" >Value</th>\n    </tr>\n  </thead>\n  <tbody>\n    <tr>\n      <th id=\"T_72730_level0_row0\" class=\"row_heading level0 row0\" >0</th>\n      <td id=\"T_72730_row0_col0\" class=\"data row0 col0\" >session_id</td>\n      <td id=\"T_72730_row0_col1\" class=\"data row0 col1\" >391</td>\n    </tr>\n    <tr>\n      <th id=\"T_72730_level0_row1\" class=\"row_heading level0 row1\" >1</th>\n      <td id=\"T_72730_row1_col0\" class=\"data row1 col0\" >Target</td>\n      <td id=\"T_72730_row1_col1\" class=\"data row1 col1\" >label</td>\n    </tr>\n    <tr>\n      <th id=\"T_72730_level0_row2\" class=\"row_heading level0 row2\" >2</th>\n      <td id=\"T_72730_row2_col0\" class=\"data row2 col0\" >Target Type</td>\n      <td id=\"T_72730_row2_col1\" class=\"data row2 col1\" >Multiclass</td>\n    </tr>\n    <tr>\n      <th id=\"T_72730_level0_row3\" class=\"row_heading level0 row3\" >3</th>\n      <td id=\"T_72730_row3_col0\" class=\"data row3 col0\" >Label Encoded</td>\n      <td id=\"T_72730_row3_col1\" class=\"data row3 col1\" >Dos: 0, Probe: 1, R2L: 2, U2R: 3, normal: 4</td>\n    </tr>\n    <tr>\n      <th id=\"T_72730_level0_row4\" class=\"row_heading level0 row4\" >4</th>\n      <td id=\"T_72730_row4_col0\" class=\"data row4 col0\" >Original Data</td>\n      <td id=\"T_72730_row4_col1\" class=\"data row4 col1\" >(148517, 42)</td>\n    </tr>\n    <tr>\n      <th id=\"T_72730_level0_row5\" class=\"row_heading level0 row5\" >5</th>\n      <td id=\"T_72730_row5_col0\" class=\"data row5 col0\" >Missing Values</td>\n      <td id=\"T_72730_row5_col1\" class=\"data row5 col1\" >False</td>\n    </tr>\n    <tr>\n      <th id=\"T_72730_level0_row6\" class=\"row_heading level0 row6\" >6</th>\n      <td id=\"T_72730_row6_col0\" class=\"data row6 col0\" >Numeric Features</td>\n      <td id=\"T_72730_row6_col1\" class=\"data row6 col1\" >26</td>\n    </tr>\n    <tr>\n      <th id=\"T_72730_level0_row7\" class=\"row_heading level0 row7\" >7</th>\n      <td id=\"T_72730_row7_col0\" class=\"data row7 col0\" >Categorical Features</td>\n      <td id=\"T_72730_row7_col1\" class=\"data row7 col1\" >15</td>\n    </tr>\n    <tr>\n      <th id=\"T_72730_level0_row8\" class=\"row_heading level0 row8\" >8</th>\n      <td id=\"T_72730_row8_col0\" class=\"data row8 col0\" >Ordinal Features</td>\n      <td id=\"T_72730_row8_col1\" class=\"data row8 col1\" >False</td>\n    </tr>\n    <tr>\n      <th id=\"T_72730_level0_row9\" class=\"row_heading level0 row9\" >9</th>\n      <td id=\"T_72730_row9_col0\" class=\"data row9 col0\" >High Cardinality Features</td>\n      <td id=\"T_72730_row9_col1\" class=\"data row9 col1\" >False</td>\n    </tr>\n    <tr>\n      <th id=\"T_72730_level0_row10\" class=\"row_heading level0 row10\" >10</th>\n      <td id=\"T_72730_row10_col0\" class=\"data row10 col0\" >High Cardinality Method</td>\n      <td id=\"T_72730_row10_col1\" class=\"data row10 col1\" >None</td>\n    </tr>\n    <tr>\n      <th id=\"T_72730_level0_row11\" class=\"row_heading level0 row11\" >11</th>\n      <td id=\"T_72730_row11_col0\" class=\"data row11 col0\" >Transformed Train Set</td>\n      <td id=\"T_72730_row11_col1\" class=\"data row11 col1\" >(118813, 38)</td>\n    </tr>\n    <tr>\n      <th id=\"T_72730_level0_row12\" class=\"row_heading level0 row12\" >12</th>\n      <td id=\"T_72730_row12_col0\" class=\"data row12 col0\" >Transformed Test Set</td>\n      <td id=\"T_72730_row12_col1\" class=\"data row12 col1\" >(29704, 38)</td>\n    </tr>\n    <tr>\n      <th id=\"T_72730_level0_row13\" class=\"row_heading level0 row13\" >13</th>\n      <td id=\"T_72730_row13_col0\" class=\"data row13 col0\" >Shuffle Train-Test</td>\n      <td id=\"T_72730_row13_col1\" class=\"data row13 col1\" >True</td>\n    </tr>\n    <tr>\n      <th id=\"T_72730_level0_row14\" class=\"row_heading level0 row14\" >14</th>\n      <td id=\"T_72730_row14_col0\" class=\"data row14 col0\" >Stratify Train-Test</td>\n      <td id=\"T_72730_row14_col1\" class=\"data row14 col1\" >False</td>\n    </tr>\n    <tr>\n      <th id=\"T_72730_level0_row15\" class=\"row_heading level0 row15\" >15</th>\n      <td id=\"T_72730_row15_col0\" class=\"data row15 col0\" >Fold Generator</td>\n      <td id=\"T_72730_row15_col1\" class=\"data row15 col1\" >StratifiedKFold</td>\n    </tr>\n    <tr>\n      <th id=\"T_72730_level0_row16\" class=\"row_heading level0 row16\" >16</th>\n      <td id=\"T_72730_row16_col0\" class=\"data row16 col0\" >Fold Number</td>\n      <td id=\"T_72730_row16_col1\" class=\"data row16 col1\" >10</td>\n    </tr>\n    <tr>\n      <th id=\"T_72730_level0_row17\" class=\"row_heading level0 row17\" >17</th>\n      <td id=\"T_72730_row17_col0\" class=\"data row17 col0\" >CPU Jobs</td>\n      <td id=\"T_72730_row17_col1\" class=\"data row17 col1\" >-1</td>\n    </tr>\n    <tr>\n      <th id=\"T_72730_level0_row18\" class=\"row_heading level0 row18\" >18</th>\n      <td id=\"T_72730_row18_col0\" class=\"data row18 col0\" >Use GPU</td>\n      <td id=\"T_72730_row18_col1\" class=\"data row18 col1\" >False</td>\n    </tr>\n    <tr>\n      <th id=\"T_72730_level0_row19\" class=\"row_heading level0 row19\" >19</th>\n      <td id=\"T_72730_row19_col0\" class=\"data row19 col0\" >Log Experiment</td>\n      <td id=\"T_72730_row19_col1\" class=\"data row19 col1\" >False</td>\n    </tr>\n    <tr>\n      <th id=\"T_72730_level0_row20\" class=\"row_heading level0 row20\" >20</th>\n      <td id=\"T_72730_row20_col0\" class=\"data row20 col0\" >Experiment Name</td>\n      <td id=\"T_72730_row20_col1\" class=\"data row20 col1\" >clf-default-name</td>\n    </tr>\n    <tr>\n      <th id=\"T_72730_level0_row21\" class=\"row_heading level0 row21\" >21</th>\n      <td id=\"T_72730_row21_col0\" class=\"data row21 col0\" >USI</td>\n      <td id=\"T_72730_row21_col1\" class=\"data row21 col1\" >bd14</td>\n    </tr>\n    <tr>\n      <th id=\"T_72730_level0_row22\" class=\"row_heading level0 row22\" >22</th>\n      <td id=\"T_72730_row22_col0\" class=\"data row22 col0\" >Imputation Type</td>\n      <td id=\"T_72730_row22_col1\" class=\"data row22 col1\" >simple</td>\n    </tr>\n    <tr>\n      <th id=\"T_72730_level0_row23\" class=\"row_heading level0 row23\" >23</th>\n      <td id=\"T_72730_row23_col0\" class=\"data row23 col0\" >Iterative Imputation Iteration</td>\n      <td id=\"T_72730_row23_col1\" class=\"data row23 col1\" >None</td>\n    </tr>\n    <tr>\n      <th id=\"T_72730_level0_row24\" class=\"row_heading level0 row24\" >24</th>\n      <td id=\"T_72730_row24_col0\" class=\"data row24 col0\" >Numeric Imputer</td>\n      <td id=\"T_72730_row24_col1\" class=\"data row24 col1\" >mean</td>\n    </tr>\n    <tr>\n      <th id=\"T_72730_level0_row25\" class=\"row_heading level0 row25\" >25</th>\n      <td id=\"T_72730_row25_col0\" class=\"data row25 col0\" >Iterative Imputation Numeric Model</td>\n      <td id=\"T_72730_row25_col1\" class=\"data row25 col1\" >None</td>\n    </tr>\n    <tr>\n      <th id=\"T_72730_level0_row26\" class=\"row_heading level0 row26\" >26</th>\n      <td id=\"T_72730_row26_col0\" class=\"data row26 col0\" >Categorical Imputer</td>\n      <td id=\"T_72730_row26_col1\" class=\"data row26 col1\" >constant</td>\n    </tr>\n    <tr>\n      <th id=\"T_72730_level0_row27\" class=\"row_heading level0 row27\" >27</th>\n      <td id=\"T_72730_row27_col0\" class=\"data row27 col0\" >Iterative Imputation Categorical Model</td>\n      <td id=\"T_72730_row27_col1\" class=\"data row27 col1\" >None</td>\n    </tr>\n    <tr>\n      <th id=\"T_72730_level0_row28\" class=\"row_heading level0 row28\" >28</th>\n      <td id=\"T_72730_row28_col0\" class=\"data row28 col0\" >Unknown Categoricals Handling</td>\n      <td id=\"T_72730_row28_col1\" class=\"data row28 col1\" >least_frequent</td>\n    </tr>\n    <tr>\n      <th id=\"T_72730_level0_row29\" class=\"row_heading level0 row29\" >29</th>\n      <td id=\"T_72730_row29_col0\" class=\"data row29 col0\" >Normalize</td>\n      <td id=\"T_72730_row29_col1\" class=\"data row29 col1\" >True</td>\n    </tr>\n    <tr>\n      <th id=\"T_72730_level0_row30\" class=\"row_heading level0 row30\" >30</th>\n      <td id=\"T_72730_row30_col0\" class=\"data row30 col0\" >Normalize Method</td>\n      <td id=\"T_72730_row30_col1\" class=\"data row30 col1\" >minmax</td>\n    </tr>\n    <tr>\n      <th id=\"T_72730_level0_row31\" class=\"row_heading level0 row31\" >31</th>\n      <td id=\"T_72730_row31_col0\" class=\"data row31 col0\" >Transformation</td>\n      <td id=\"T_72730_row31_col1\" class=\"data row31 col1\" >False</td>\n    </tr>\n    <tr>\n      <th id=\"T_72730_level0_row32\" class=\"row_heading level0 row32\" >32</th>\n      <td id=\"T_72730_row32_col0\" class=\"data row32 col0\" >Transformation Method</td>\n      <td id=\"T_72730_row32_col1\" class=\"data row32 col1\" >None</td>\n    </tr>\n    <tr>\n      <th id=\"T_72730_level0_row33\" class=\"row_heading level0 row33\" >33</th>\n      <td id=\"T_72730_row33_col0\" class=\"data row33 col0\" >PCA</td>\n      <td id=\"T_72730_row33_col1\" class=\"data row33 col1\" >False</td>\n    </tr>\n    <tr>\n      <th id=\"T_72730_level0_row34\" class=\"row_heading level0 row34\" >34</th>\n      <td id=\"T_72730_row34_col0\" class=\"data row34 col0\" >PCA Method</td>\n      <td id=\"T_72730_row34_col1\" class=\"data row34 col1\" >None</td>\n    </tr>\n    <tr>\n      <th id=\"T_72730_level0_row35\" class=\"row_heading level0 row35\" >35</th>\n      <td id=\"T_72730_row35_col0\" class=\"data row35 col0\" >PCA Components</td>\n      <td id=\"T_72730_row35_col1\" class=\"data row35 col1\" >None</td>\n    </tr>\n    <tr>\n      <th id=\"T_72730_level0_row36\" class=\"row_heading level0 row36\" >36</th>\n      <td id=\"T_72730_row36_col0\" class=\"data row36 col0\" >Ignore Low Variance</td>\n      <td id=\"T_72730_row36_col1\" class=\"data row36 col1\" >False</td>\n    </tr>\n    <tr>\n      <th id=\"T_72730_level0_row37\" class=\"row_heading level0 row37\" >37</th>\n      <td id=\"T_72730_row37_col0\" class=\"data row37 col0\" >Combine Rare Levels</td>\n      <td id=\"T_72730_row37_col1\" class=\"data row37 col1\" >False</td>\n    </tr>\n    <tr>\n      <th id=\"T_72730_level0_row38\" class=\"row_heading level0 row38\" >38</th>\n      <td id=\"T_72730_row38_col0\" class=\"data row38 col0\" >Rare Level Threshold</td>\n      <td id=\"T_72730_row38_col1\" class=\"data row38 col1\" >None</td>\n    </tr>\n    <tr>\n      <th id=\"T_72730_level0_row39\" class=\"row_heading level0 row39\" >39</th>\n      <td id=\"T_72730_row39_col0\" class=\"data row39 col0\" >Numeric Binning</td>\n      <td id=\"T_72730_row39_col1\" class=\"data row39 col1\" >False</td>\n    </tr>\n    <tr>\n      <th id=\"T_72730_level0_row40\" class=\"row_heading level0 row40\" >40</th>\n      <td id=\"T_72730_row40_col0\" class=\"data row40 col0\" >Remove Outliers</td>\n      <td id=\"T_72730_row40_col1\" class=\"data row40 col1\" >False</td>\n    </tr>\n    <tr>\n      <th id=\"T_72730_level0_row41\" class=\"row_heading level0 row41\" >41</th>\n      <td id=\"T_72730_row41_col0\" class=\"data row41 col0\" >Outliers Threshold</td>\n      <td id=\"T_72730_row41_col1\" class=\"data row41 col1\" >None</td>\n    </tr>\n    <tr>\n      <th id=\"T_72730_level0_row42\" class=\"row_heading level0 row42\" >42</th>\n      <td id=\"T_72730_row42_col0\" class=\"data row42 col0\" >Remove Multicollinearity</td>\n      <td id=\"T_72730_row42_col1\" class=\"data row42 col1\" >False</td>\n    </tr>\n    <tr>\n      <th id=\"T_72730_level0_row43\" class=\"row_heading level0 row43\" >43</th>\n      <td id=\"T_72730_row43_col0\" class=\"data row43 col0\" >Multicollinearity Threshold</td>\n      <td id=\"T_72730_row43_col1\" class=\"data row43 col1\" >None</td>\n    </tr>\n    <tr>\n      <th id=\"T_72730_level0_row44\" class=\"row_heading level0 row44\" >44</th>\n      <td id=\"T_72730_row44_col0\" class=\"data row44 col0\" >Clustering</td>\n      <td id=\"T_72730_row44_col1\" class=\"data row44 col1\" >False</td>\n    </tr>\n    <tr>\n      <th id=\"T_72730_level0_row45\" class=\"row_heading level0 row45\" >45</th>\n      <td id=\"T_72730_row45_col0\" class=\"data row45 col0\" >Clustering Iteration</td>\n      <td id=\"T_72730_row45_col1\" class=\"data row45 col1\" >None</td>\n    </tr>\n    <tr>\n      <th id=\"T_72730_level0_row46\" class=\"row_heading level0 row46\" >46</th>\n      <td id=\"T_72730_row46_col0\" class=\"data row46 col0\" >Polynomial Features</td>\n      <td id=\"T_72730_row46_col1\" class=\"data row46 col1\" >False</td>\n    </tr>\n    <tr>\n      <th id=\"T_72730_level0_row47\" class=\"row_heading level0 row47\" >47</th>\n      <td id=\"T_72730_row47_col0\" class=\"data row47 col0\" >Polynomial Degree</td>\n      <td id=\"T_72730_row47_col1\" class=\"data row47 col1\" >None</td>\n    </tr>\n    <tr>\n      <th id=\"T_72730_level0_row48\" class=\"row_heading level0 row48\" >48</th>\n      <td id=\"T_72730_row48_col0\" class=\"data row48 col0\" >Trignometry Features</td>\n      <td id=\"T_72730_row48_col1\" class=\"data row48 col1\" >False</td>\n    </tr>\n    <tr>\n      <th id=\"T_72730_level0_row49\" class=\"row_heading level0 row49\" >49</th>\n      <td id=\"T_72730_row49_col0\" class=\"data row49 col0\" >Polynomial Threshold</td>\n      <td id=\"T_72730_row49_col1\" class=\"data row49 col1\" >None</td>\n    </tr>\n    <tr>\n      <th id=\"T_72730_level0_row50\" class=\"row_heading level0 row50\" >50</th>\n      <td id=\"T_72730_row50_col0\" class=\"data row50 col0\" >Group Features</td>\n      <td id=\"T_72730_row50_col1\" class=\"data row50 col1\" >False</td>\n    </tr>\n    <tr>\n      <th id=\"T_72730_level0_row51\" class=\"row_heading level0 row51\" >51</th>\n      <td id=\"T_72730_row51_col0\" class=\"data row51 col0\" >Feature Selection</td>\n      <td id=\"T_72730_row51_col1\" class=\"data row51 col1\" >True</td>\n    </tr>\n    <tr>\n      <th id=\"T_72730_level0_row52\" class=\"row_heading level0 row52\" >52</th>\n      <td id=\"T_72730_row52_col0\" class=\"data row52 col0\" >Features Selection Threshold</td>\n      <td id=\"T_72730_row52_col1\" class=\"data row52 col1\" >0.200000</td>\n    </tr>\n    <tr>\n      <th id=\"T_72730_level0_row53\" class=\"row_heading level0 row53\" >53</th>\n      <td id=\"T_72730_row53_col0\" class=\"data row53 col0\" >Feature Interaction</td>\n      <td id=\"T_72730_row53_col1\" class=\"data row53 col1\" >False</td>\n    </tr>\n    <tr>\n      <th id=\"T_72730_level0_row54\" class=\"row_heading level0 row54\" >54</th>\n      <td id=\"T_72730_row54_col0\" class=\"data row54 col0\" >Feature Ratio</td>\n      <td id=\"T_72730_row54_col1\" class=\"data row54 col1\" >False</td>\n    </tr>\n    <tr>\n      <th id=\"T_72730_level0_row55\" class=\"row_heading level0 row55\" >55</th>\n      <td id=\"T_72730_row55_col0\" class=\"data row55 col0\" >Interaction Threshold</td>\n      <td id=\"T_72730_row55_col1\" class=\"data row55 col1\" >None</td>\n    </tr>\n    <tr>\n      <th id=\"T_72730_level0_row56\" class=\"row_heading level0 row56\" >56</th>\n      <td id=\"T_72730_row56_col0\" class=\"data row56 col0\" >Fix Imbalance</td>\n      <td id=\"T_72730_row56_col1\" class=\"data row56 col1\" >True</td>\n    </tr>\n    <tr>\n      <th id=\"T_72730_level0_row57\" class=\"row_heading level0 row57\" >57</th>\n      <td id=\"T_72730_row57_col0\" class=\"data row57 col0\" >Fix Imbalance Method</td>\n      <td id=\"T_72730_row57_col1\" class=\"data row57 col1\" >SMOTE</td>\n    </tr>\n  </tbody>\n</table>\n"
     },
     "metadata": {},
     "output_type": "display_data"
    }
   ],
   "source": [
    "#first only with smote\n",
    "dsp_tr_multi=setup(data = ds_multi,\n",
    "             target = 'label',train_size=0.8,\n",
    "             numeric_imputation = 'mean',\n",
    "             categorical_features = ['protocol_type','service','flag'],\n",
    "             normalize=True,normalize_method='minmax',\n",
    "             feature_selection=True,feature_selection_threshold=0.2,\n",
    "             silent = True, fold_shuffle=True,fix_imbalance=True)"
   ],
   "metadata": {
    "collapsed": false,
    "pycharm": {
     "name": "#%%\n"
    }
   }
  },
  {
   "cell_type": "code",
   "execution_count": 73,
   "outputs": [],
   "source": [
    "X_train_multi=get_config('X_train')\n",
    "X_test_multi = get_config('X_test')\n",
    "Y_train_multi = get_config('y_train')\n",
    "Y_test_multi = get_config('y_test')"
   ],
   "metadata": {
    "collapsed": false,
    "pycharm": {
     "name": "#%%\n"
    }
   }
  },
  {
   "cell_type": "code",
   "execution_count": 75,
   "outputs": [
    {
     "name": "stdout",
     "output_type": "stream",
     "text": [
      "Epoch 1/100\n",
      "1857/1857 [==============================] - 6s 3ms/step - loss: 0.1660 - accuracy: 0.9488 - val_loss: 0.0937 - val_accuracy: 0.9691\n",
      "Epoch 2/100\n",
      "1857/1857 [==============================] - 6s 3ms/step - loss: 0.0944 - accuracy: 0.9684 - val_loss: 0.0878 - val_accuracy: 0.9719\n",
      "Epoch 3/100\n",
      "1857/1857 [==============================] - 6s 3ms/step - loss: 0.0833 - accuracy: 0.9717 - val_loss: 0.0837 - val_accuracy: 0.9747\n",
      "Epoch 4/100\n",
      "1857/1857 [==============================] - 6s 3ms/step - loss: 0.0767 - accuracy: 0.9737 - val_loss: 0.0809 - val_accuracy: 0.9750\n",
      "Epoch 5/100\n",
      "1857/1857 [==============================] - 6s 3ms/step - loss: 0.0728 - accuracy: 0.9745 - val_loss: 0.0682 - val_accuracy: 0.9769\n",
      "Epoch 6/100\n",
      "1857/1857 [==============================] - 6s 3ms/step - loss: 0.0690 - accuracy: 0.9754 - val_loss: 0.0618 - val_accuracy: 0.9789\n",
      "Epoch 7/100\n",
      "1857/1857 [==============================] - 6s 3ms/step - loss: 0.0655 - accuracy: 0.9766 - val_loss: 0.0577 - val_accuracy: 0.9792\n",
      "Epoch 8/100\n",
      "1857/1857 [==============================] - 6s 3ms/step - loss: 0.0635 - accuracy: 0.9770 - val_loss: 0.0578 - val_accuracy: 0.9788\n",
      "Epoch 9/100\n",
      "1857/1857 [==============================] - 6s 3ms/step - loss: 0.0611 - accuracy: 0.9779 - val_loss: 0.0558 - val_accuracy: 0.9799\n",
      "Epoch 10/100\n",
      "1857/1857 [==============================] - 6s 3ms/step - loss: 0.0587 - accuracy: 0.9786 - val_loss: 0.0528 - val_accuracy: 0.9802\n",
      "Epoch 11/100\n",
      "1857/1857 [==============================] - 6s 3ms/step - loss: 0.0567 - accuracy: 0.9789 - val_loss: 0.0581 - val_accuracy: 0.9789\n",
      "Epoch 12/100\n",
      "1857/1857 [==============================] - 6s 3ms/step - loss: 0.0550 - accuracy: 0.9800 - val_loss: 0.0506 - val_accuracy: 0.9824\n",
      "Epoch 13/100\n",
      "1857/1857 [==============================] - 6s 3ms/step - loss: 0.0537 - accuracy: 0.9804 - val_loss: 0.0536 - val_accuracy: 0.9814\n",
      "Epoch 14/100\n",
      "1857/1857 [==============================] - 6s 3ms/step - loss: 0.0522 - accuracy: 0.9806 - val_loss: 0.0481 - val_accuracy: 0.9838\n",
      "Epoch 15/100\n",
      "1857/1857 [==============================] - 6s 3ms/step - loss: 0.0518 - accuracy: 0.9809 - val_loss: 0.0511 - val_accuracy: 0.9823\n",
      "Epoch 16/100\n",
      "1857/1857 [==============================] - 6s 3ms/step - loss: 0.0498 - accuracy: 0.9816 - val_loss: 0.0498 - val_accuracy: 0.9837\n",
      "Epoch 17/100\n",
      "1857/1857 [==============================] - 6s 3ms/step - loss: 0.0491 - accuracy: 0.9819 - val_loss: 0.0481 - val_accuracy: 0.9825\n",
      "Epoch 18/100\n",
      "1857/1857 [==============================] - 6s 3ms/step - loss: 0.0486 - accuracy: 0.9821 - val_loss: 0.0491 - val_accuracy: 0.9835\n",
      "Epoch 19/100\n",
      "1857/1857 [==============================] - 6s 3ms/step - loss: 0.0466 - accuracy: 0.9827 - val_loss: 0.0488 - val_accuracy: 0.9821\n"
     ]
    },
    {
     "data": {
      "text/plain": "<tensorflow.python.keras.callbacks.History at 0x1d28393bd00>"
     },
     "execution_count": 75,
     "metadata": {},
     "output_type": "execute_result"
    }
   ],
   "source": [
    "#now model for multiclass\n",
    "\n",
    "act3 = PReLU(alpha_initializer='zeros', weights=None)\n",
    "model3 = Sequential()\n",
    "# define the NN architecture and activation function\n",
    "\n",
    "model3.add(Dense(496, input_dim=38, activation=Activation(act3)))\n",
    "model3.add(Dropout(0.1))\n",
    "model3.add(Dense(248, activation='relu'))\n",
    "model3.add(Dropout(0.1))\n",
    "model3.add(Dense(124, activation='relu'))\n",
    "model3.add(Dropout(0.1))\n",
    "model3.add(Dense(62, activation='relu'))\n",
    "model3.add(Dropout(0.1))\n",
    "model3.add(Dense(5))\n",
    "model3.add(Activation('softmax'))\n",
    "\n",
    "sgd =SGD(lr=0.01, decay=1e-6, momentum=0.9, nesterov=True)\n",
    "model3.compile(loss='sparse_categorical_crossentropy', optimizer=sgd, metrics= ['accuracy'])\n",
    "es = EarlyStopping(monitor='val_accuracy', mode='max', min_delta=0.0001,patience=5) ## early stopping\n",
    "model3.fit(X_train_multi, Y_train_multi, validation_data=(X_test_multi, Y_test_multi), epochs=100, batch_size=64, callbacks=[es])"
   ],
   "metadata": {
    "collapsed": false,
    "pycharm": {
     "name": "#%%\n"
    }
   }
  },
  {
   "cell_type": "code",
   "execution_count": 76,
   "outputs": [
    {
     "name": "stdout",
     "output_type": "stream",
     "text": [
      "accuracy: 98.33%\n"
     ]
    }
   ],
   "source": [
    "#training accuracy\n",
    "train_acc4 = model3.evaluate(X_train_multi, Y_train_multi, verbose=0)\n",
    "print(\"%s: %.2f%%\" % (model3.metrics_names[1], train_acc4[1]*100))"
   ],
   "metadata": {
    "collapsed": false,
    "pycharm": {
     "name": "#%%\n"
    }
   }
  },
  {
   "cell_type": "code",
   "execution_count": 77,
   "outputs": [
    {
     "name": "stdout",
     "output_type": "stream",
     "text": [
      "accuracy: 98.21%\n"
     ]
    }
   ],
   "source": [
    "#calculate the test accuracy using evaluate function\n",
    "test_acc4 = model3.evaluate(X_test_multi, Y_test_multi, verbose=0)\n",
    "print(\"%s: %.2f%%\" % (model3.metrics_names[1], test_acc4[1] * 100))"
   ],
   "metadata": {
    "collapsed": false,
    "pycharm": {
     "name": "#%%\n"
    }
   }
  },
  {
   "cell_type": "code",
   "execution_count": 78,
   "outputs": [
    {
     "data": {
      "text/plain": "0.9820899542149205"
     },
     "execution_count": 78,
     "metadata": {},
     "output_type": "execute_result"
    }
   ],
   "source": [
    "y_pred4 = model3.predict_classes(X_test_multi)\n",
    "pred_accuracy4 = accuracy_score(Y_test_multi, y_pred4)\n",
    "pred_accuracy4"
   ],
   "metadata": {
    "collapsed": false,
    "pycharm": {
     "name": "#%%\n"
    }
   }
  },
  {
   "cell_type": "code",
   "execution_count": 79,
   "outputs": [
    {
     "name": "stdout",
     "output_type": "stream",
     "text": [
      "Precision : 0.982090\n"
     ]
    }
   ],
   "source": [
    "# Precision\n",
    "precision4 = precision_score(Y_test_multi, y_pred4, average='micro')\n",
    "print('Precision : %f'% precision4)"
   ],
   "metadata": {
    "collapsed": false,
    "pycharm": {
     "name": "#%%\n"
    }
   }
  },
  {
   "cell_type": "code",
   "execution_count": 80,
   "outputs": [
    {
     "name": "stdout",
     "output_type": "stream",
     "text": [
      "[[10621     8     2     0    30]\n",
      " [    2  2809     4     0    28]\n",
      " [    0     2   678     0   122]\n",
      " [    0     0     4     5    15]\n",
      " [   44    68   202     1 15059]]\n"
     ]
    }
   ],
   "source": [
    "# confusion matrix\n",
    "confusionmatrix4 = confusion_matrix(Y_test_multi, y_pred4)\n",
    "print(confusionmatrix4)"
   ],
   "metadata": {
    "collapsed": false,
    "pycharm": {
     "name": "#%%\n"
    }
   }
  },
  {
   "cell_type": "code",
   "execution_count": 81,
   "outputs": [
    {
     "name": "stdout",
     "output_type": "stream",
     "text": [
      "              precision    recall  f1-score   support\n",
      "\n",
      "         DoS       1.00      1.00      1.00     10661\n",
      "       Probe       0.97      0.99      0.98      2843\n",
      "         R2L       0.76      0.85      0.80       802\n",
      "         U2R       0.83      0.21      0.33        24\n",
      "      Normal       0.99      0.98      0.98     15374\n",
      "\n",
      "    accuracy                           0.98     29704\n",
      "   macro avg       0.91      0.80      0.82     29704\n",
      "weighted avg       0.98      0.98      0.98     29704\n",
      "\n"
     ]
    }
   ],
   "source": [
    "from sklearn.metrics import classification_report\n",
    "target_names=['DoS','Probe','R2L','U2R','Normal']\n",
    "print(classification_report(Y_test_multi, y_pred4, target_names=target_names))"
   ],
   "metadata": {
    "collapsed": false,
    "pycharm": {
     "name": "#%%\n"
    }
   }
  },
  {
   "cell_type": "code",
   "execution_count": 82,
   "outputs": [
    {
     "data": {
      "text/plain": "array([  0.55616252,   2.11523945,   7.72014295, 250.13263158,\n         0.38525616])"
     },
     "execution_count": 82,
     "metadata": {},
     "output_type": "execute_result"
    }
   ],
   "source": [
    "#now this AND class weights\n",
    "weights_multi=compute_class_weight('balanced',[0,1,2,3,4], Y_train_multi)\n",
    "weights_multi"
   ],
   "metadata": {
    "collapsed": false,
    "pycharm": {
     "name": "#%%\n"
    }
   }
  },
  {
   "cell_type": "code",
   "execution_count": 87,
   "outputs": [
    {
     "name": "stdout",
     "output_type": "stream",
     "text": [
      "Epoch 1/100\n",
      "1857/1857 [==============================] - 7s 4ms/step - loss: 0.2504 - accuracy: 0.8891 - val_loss: 0.2170 - val_accuracy: 0.9115\n",
      "Epoch 2/100\n",
      "1857/1857 [==============================] - 6s 3ms/step - loss: 0.1646 - accuracy: 0.9265 - val_loss: 0.1559 - val_accuracy: 0.9430\n",
      "Epoch 3/100\n",
      "1857/1857 [==============================] - 6s 3ms/step - loss: 0.1485 - accuracy: 0.9331 - val_loss: 0.2173 - val_accuracy: 0.9252\n",
      "Epoch 4/100\n",
      "1857/1857 [==============================] - 6s 3ms/step - loss: 0.1382 - accuracy: 0.9375 - val_loss: 0.1850 - val_accuracy: 0.9220\n",
      "Epoch 5/100\n",
      "1857/1857 [==============================] - 7s 4ms/step - loss: 0.1303 - accuracy: 0.9385 - val_loss: 0.1226 - val_accuracy: 0.9550\n",
      "Epoch 6/100\n",
      "1857/1857 [==============================] - 6s 3ms/step - loss: 0.1266 - accuracy: 0.9411 - val_loss: 0.1275 - val_accuracy: 0.9499\n",
      "Epoch 7/100\n",
      "1857/1857 [==============================] - 6s 3ms/step - loss: 0.1249 - accuracy: 0.9411 - val_loss: 0.1059 - val_accuracy: 0.9585\n",
      "Epoch 8/100\n",
      "1857/1857 [==============================] - 6s 3ms/step - loss: 0.1197 - accuracy: 0.9431 - val_loss: 0.1327 - val_accuracy: 0.9497\n",
      "Epoch 9/100\n",
      "1857/1857 [==============================] - 6s 3ms/step - loss: 0.1171 - accuracy: 0.9443 - val_loss: 0.1372 - val_accuracy: 0.9490\n",
      "Epoch 10/100\n",
      "1857/1857 [==============================] - 6s 3ms/step - loss: 0.1142 - accuracy: 0.9456 - val_loss: 0.1371 - val_accuracy: 0.9406\n",
      "Epoch 11/100\n",
      "1857/1857 [==============================] - 6s 3ms/step - loss: 0.1089 - accuracy: 0.9501 - val_loss: 0.1167 - val_accuracy: 0.9533\n",
      "Epoch 12/100\n",
      "1857/1857 [==============================] - 6s 3ms/step - loss: 0.1088 - accuracy: 0.9480 - val_loss: 0.1230 - val_accuracy: 0.9479\n"
     ]
    },
    {
     "data": {
      "text/plain": "<tensorflow.python.keras.callbacks.History at 0x1d2c1115400>"
     },
     "execution_count": 87,
     "metadata": {},
     "output_type": "execute_result"
    }
   ],
   "source": [
    "act5 = PReLU(alpha_initializer='zeros', weights=None)\n",
    "model5 = Sequential()\n",
    "# define the NN architecture and activation function\n",
    "\n",
    "model5.add(Dense(496, input_dim=38, activation=Activation(act3)))\n",
    "model5.add(Dropout(0.1))\n",
    "model5.add(Dense(248, activation='relu'))\n",
    "model5.add(Dropout(0.1))\n",
    "model5.add(Dense(124, activation='relu'))\n",
    "model5.add(Dropout(0.1))\n",
    "model5.add(Dense(62, activation='relu'))\n",
    "model5.add(Dropout(0.1))\n",
    "model5.add(Dense(5))\n",
    "model5.add(Activation('softmax'))\n",
    "\n",
    "sgd =SGD(lr=0.01, decay=1e-6, momentum=0.9, nesterov=True)\n",
    "model5.compile(loss='sparse_categorical_crossentropy', optimizer=sgd, metrics= ['accuracy'])\n",
    "es = EarlyStopping(monitor='val_accuracy', mode='max', min_delta=0.0001,patience=5) ## early stopping\n",
    "model5.fit(X_train_multi, Y_train_multi, validation_data=(X_test_multi, Y_test_multi), epochs=100, batch_size=64, callbacks=[es], class_weight={0:0.556163,1:2.115239,2:7.720143,3:25.132632,4:0.385256})"
   ],
   "metadata": {
    "collapsed": false,
    "pycharm": {
     "name": "#%%\n"
    }
   }
  },
  {
   "cell_type": "code",
   "execution_count": 88,
   "outputs": [],
   "source": [
    "y_pred5 = model5.predict_classes(X_test_multi)"
   ],
   "metadata": {
    "collapsed": false,
    "pycharm": {
     "name": "#%%\n"
    }
   }
  },
  {
   "cell_type": "code",
   "execution_count": 89,
   "outputs": [
    {
     "name": "stdout",
     "output_type": "stream",
     "text": [
      "[[10538    14    19     0    90]\n",
      " [    3  2830     6     0     4]\n",
      " [    1     4   766     2    29]\n",
      " [    0     0    14     9     1]\n",
      " [  124   167  1054    17 14012]]\n"
     ]
    }
   ],
   "source": [
    "# confusion matrix\n",
    "confusionmatrix5 = confusion_matrix(Y_test_multi, y_pred5)\n",
    "print(confusionmatrix5)"
   ],
   "metadata": {
    "collapsed": false,
    "pycharm": {
     "name": "#%%\n"
    }
   }
  },
  {
   "cell_type": "code",
   "execution_count": 90,
   "outputs": [
    {
     "name": "stdout",
     "output_type": "stream",
     "text": [
      "              precision    recall  f1-score   support\n",
      "\n",
      "         DoS       0.99      0.99      0.99     10661\n",
      "       Probe       0.94      1.00      0.97      2843\n",
      "         R2L       0.41      0.96      0.58       802\n",
      "         U2R       0.32      0.38      0.35        24\n",
      "      Normal       0.99      0.91      0.95     15374\n",
      "\n",
      "    accuracy                           0.95     29704\n",
      "   macro avg       0.73      0.85      0.77     29704\n",
      "weighted avg       0.97      0.95      0.95     29704\n",
      "\n"
     ]
    }
   ],
   "source": [
    "print(classification_report(Y_test_multi, y_pred5, target_names=target_names))"
   ],
   "metadata": {
    "collapsed": false,
    "pycharm": {
     "name": "#%%\n"
    }
   }
  },
  {
   "cell_type": "code",
   "execution_count": null,
   "outputs": [],
   "source": [],
   "metadata": {
    "collapsed": false,
    "pycharm": {
     "name": "#%%\n"
    }
   }
  }
 ],
 "metadata": {
  "kernelspec": {
   "display_name": "Python 3",
   "language": "python",
   "name": "python3"
  },
  "language_info": {
   "codemirror_mode": {
    "name": "ipython",
    "version": 2
   },
   "file_extension": ".py",
   "mimetype": "text/x-python",
   "name": "python",
   "nbconvert_exporter": "python",
   "pygments_lexer": "ipython2",
   "version": "2.7.6"
  }
 },
 "nbformat": 4,
 "nbformat_minor": 0
}