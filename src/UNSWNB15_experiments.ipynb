{
 "cells": [
  {
   "cell_type": "code",
   "execution_count": 1,
   "metadata": {
    "collapsed": true
   },
   "outputs": [
    {
     "data": {
      "text/plain": "          id       dur proto service state  spkts  dpkts  sbytes  dbytes  \\\n0          1  0.121478   tcp       -   FIN      6      4     258     172   \n1          2  0.649902   tcp       -   FIN     14     38     734   42014   \n2          3  1.623129   tcp       -   FIN      8     16     364   13186   \n3          4  1.681642   tcp     ftp   FIN     12     12     628     770   \n4          5  0.449454   tcp       -   FIN     10      6     534     268   \n...      ...       ...   ...     ...   ...    ...    ...     ...     ...   \n82327  82328  0.000005   udp       -   INT      2      0     104       0   \n82328  82329  1.106101   tcp       -   FIN     20      8   18062     354   \n82329  82330  0.000000   arp       -   INT      1      0      46       0   \n82330  82331  0.000000   arp       -   INT      1      0      46       0   \n82331  82332  0.000009   udp       -   INT      2      0     104       0   \n\n                rate  sttl  dttl         sload          dload  sloss  dloss  \\\n0          74.087490   252   254  1.415894e+04    8495.365234      0      0   \n1          78.473372    62   252  8.395112e+03  503571.312500      2     17   \n2          14.170161    62   252  1.572272e+03   60929.230470      1      6   \n3          13.677108    62   252  2.740179e+03    3358.622070      1      3   \n4          33.373826   254   252  8.561499e+03    3987.059814      2      1   \n...              ...   ...   ...           ...            ...    ...    ...   \n82327  200000.005100   254     0  8.320000e+07       0.000000      0      0   \n82328      24.410067   254   252  1.241044e+05    2242.109863      7      1   \n82329       0.000000     0     0  0.000000e+00       0.000000      0      0   \n82330       0.000000     0     0  0.000000e+00       0.000000      0      0   \n82331  111111.107200   254     0  4.622222e+07       0.000000      0      0   \n\n             sinpkt      dinpkt          sjit          djit  swin       stcpb  \\\n0         24.295600    8.375000     30.177547     11.830604   255   621772692   \n1         49.915000   15.432865     61.426934   1387.778330   255  1417884146   \n2        231.875571  102.737203  17179.586860  11420.926230   255  2116150707   \n3        152.876547   90.235726    259.080172   4991.784669   255  1107119177   \n4         47.750333   75.659602   2415.837634    115.807000   255  2436137549   \n...             ...         ...           ...           ...   ...         ...   \n82327      0.005000    0.000000      0.000000      0.000000     0           0   \n82328     55.880051  143.700000   4798.130981    190.980813   255  1072535109   \n82329  60000.720000    0.000000      0.000000      0.000000     0           0   \n82330  60000.732000    0.000000     10.954518      0.000000     0           0   \n82331      0.009000    0.000000      0.000000      0.000000     0           0   \n\n            dtcpb  dwin    tcprtt    synack    ackdat  smean  dmean  \\\n0      2202533631   255  0.000000  0.000000  0.000000     43     43   \n1      3077387971   255  0.000000  0.000000  0.000000     52   1106   \n2      2963114973   255  0.111897  0.061458  0.050439     46    824   \n3      1047442890   255  0.000000  0.000000  0.000000     52     64   \n4      1977154190   255  0.128381  0.071147  0.057234     53     45   \n...           ...   ...       ...       ...       ...    ...    ...   \n82327           0     0  0.000000  0.000000  0.000000     52      0   \n82328  3284291478   255  0.173208  0.100191  0.073017    903     44   \n82329           0     0  0.000000  0.000000  0.000000     46      0   \n82330           0     0  0.000000  0.000000  0.000000     46      0   \n82331           0     0  0.000000  0.000000  0.000000     52      0   \n\n       trans_depth  response_body_len  ct_srv_src  ct_state_ttl  ct_dst_ltm  \\\n0                0                  0           1             0           1   \n1                0                  0          43             1           1   \n2                0                  0           7             1           2   \n3                0                  0           1             1           2   \n4                0                  0          43             1           2   \n...            ...                ...         ...           ...         ...   \n82327            0                  0           1             2           2   \n82328            0                  0           1             1           2   \n82329            0                  0           1             2           1   \n82330            0                  0           1             2           1   \n82331            0                  0           1             2           1   \n\n       ct_src_dport_ltm  ct_dst_sport_ltm  ct_dst_src_ltm  is_ftp_login  \\\n0                     1                 1               1             0   \n1                     1                 1               2             0   \n2                     1                 1               3             0   \n3                     1                 1               3             1   \n4                     2                 1              40             0   \n...                 ...               ...             ...           ...   \n82327                 1                 1               2             0   \n82328                 1                 1               1             0   \n82329                 1                 1               1             0   \n82330                 1                 1               1             0   \n82331                 1                 1               1             0   \n\n       ct_ftp_cmd  ct_flw_http_mthd  ct_src_ltm  ct_srv_dst  is_sm_ips_ports  \\\n0               0                 0           1           1                0   \n1               0                 0           1           6                0   \n2               0                 0           2           6                0   \n3               1                 0           2           1                0   \n4               0                 0           2          39                0   \n...           ...               ...         ...         ...              ...   \n82327           0                 0           2           1                0   \n82328           0                 0           3           2                0   \n82329           0                 0           1           1                1   \n82330           0                 0           1           1                1   \n82331           0                 0           1           1                0   \n\n      attack_cat  label  \n0         Normal      0  \n1         Normal      0  \n2         Normal      0  \n3         Normal      0  \n4         Normal      0  \n...          ...    ...  \n82327     Normal      0  \n82328     Normal      0  \n82329     Normal      0  \n82330     Normal      0  \n82331     Normal      0  \n\n[257673 rows x 45 columns]",
      "text/html": "<div>\n<style scoped>\n    .dataframe tbody tr th:only-of-type {\n        vertical-align: middle;\n    }\n\n    .dataframe tbody tr th {\n        vertical-align: top;\n    }\n\n    .dataframe thead th {\n        text-align: right;\n    }\n</style>\n<table border=\"1\" class=\"dataframe\">\n  <thead>\n    <tr style=\"text-align: right;\">\n      <th></th>\n      <th>id</th>\n      <th>dur</th>\n      <th>proto</th>\n      <th>service</th>\n      <th>state</th>\n      <th>spkts</th>\n      <th>dpkts</th>\n      <th>sbytes</th>\n      <th>dbytes</th>\n      <th>rate</th>\n      <th>sttl</th>\n      <th>dttl</th>\n      <th>sload</th>\n      <th>dload</th>\n      <th>sloss</th>\n      <th>dloss</th>\n      <th>sinpkt</th>\n      <th>dinpkt</th>\n      <th>sjit</th>\n      <th>djit</th>\n      <th>swin</th>\n      <th>stcpb</th>\n      <th>dtcpb</th>\n      <th>dwin</th>\n      <th>tcprtt</th>\n      <th>synack</th>\n      <th>ackdat</th>\n      <th>smean</th>\n      <th>dmean</th>\n      <th>trans_depth</th>\n      <th>response_body_len</th>\n      <th>ct_srv_src</th>\n      <th>ct_state_ttl</th>\n      <th>ct_dst_ltm</th>\n      <th>ct_src_dport_ltm</th>\n      <th>ct_dst_sport_ltm</th>\n      <th>ct_dst_src_ltm</th>\n      <th>is_ftp_login</th>\n      <th>ct_ftp_cmd</th>\n      <th>ct_flw_http_mthd</th>\n      <th>ct_src_ltm</th>\n      <th>ct_srv_dst</th>\n      <th>is_sm_ips_ports</th>\n      <th>attack_cat</th>\n      <th>label</th>\n    </tr>\n  </thead>\n  <tbody>\n    <tr>\n      <th>0</th>\n      <td>1</td>\n      <td>0.121478</td>\n      <td>tcp</td>\n      <td>-</td>\n      <td>FIN</td>\n      <td>6</td>\n      <td>4</td>\n      <td>258</td>\n      <td>172</td>\n      <td>74.087490</td>\n      <td>252</td>\n      <td>254</td>\n      <td>1.415894e+04</td>\n      <td>8495.365234</td>\n      <td>0</td>\n      <td>0</td>\n      <td>24.295600</td>\n      <td>8.375000</td>\n      <td>30.177547</td>\n      <td>11.830604</td>\n      <td>255</td>\n      <td>621772692</td>\n      <td>2202533631</td>\n      <td>255</td>\n      <td>0.000000</td>\n      <td>0.000000</td>\n      <td>0.000000</td>\n      <td>43</td>\n      <td>43</td>\n      <td>0</td>\n      <td>0</td>\n      <td>1</td>\n      <td>0</td>\n      <td>1</td>\n      <td>1</td>\n      <td>1</td>\n      <td>1</td>\n      <td>0</td>\n      <td>0</td>\n      <td>0</td>\n      <td>1</td>\n      <td>1</td>\n      <td>0</td>\n      <td>Normal</td>\n      <td>0</td>\n    </tr>\n    <tr>\n      <th>1</th>\n      <td>2</td>\n      <td>0.649902</td>\n      <td>tcp</td>\n      <td>-</td>\n      <td>FIN</td>\n      <td>14</td>\n      <td>38</td>\n      <td>734</td>\n      <td>42014</td>\n      <td>78.473372</td>\n      <td>62</td>\n      <td>252</td>\n      <td>8.395112e+03</td>\n      <td>503571.312500</td>\n      <td>2</td>\n      <td>17</td>\n      <td>49.915000</td>\n      <td>15.432865</td>\n      <td>61.426934</td>\n      <td>1387.778330</td>\n      <td>255</td>\n      <td>1417884146</td>\n      <td>3077387971</td>\n      <td>255</td>\n      <td>0.000000</td>\n      <td>0.000000</td>\n      <td>0.000000</td>\n      <td>52</td>\n      <td>1106</td>\n      <td>0</td>\n      <td>0</td>\n      <td>43</td>\n      <td>1</td>\n      <td>1</td>\n      <td>1</td>\n      <td>1</td>\n      <td>2</td>\n      <td>0</td>\n      <td>0</td>\n      <td>0</td>\n      <td>1</td>\n      <td>6</td>\n      <td>0</td>\n      <td>Normal</td>\n      <td>0</td>\n    </tr>\n    <tr>\n      <th>2</th>\n      <td>3</td>\n      <td>1.623129</td>\n      <td>tcp</td>\n      <td>-</td>\n      <td>FIN</td>\n      <td>8</td>\n      <td>16</td>\n      <td>364</td>\n      <td>13186</td>\n      <td>14.170161</td>\n      <td>62</td>\n      <td>252</td>\n      <td>1.572272e+03</td>\n      <td>60929.230470</td>\n      <td>1</td>\n      <td>6</td>\n      <td>231.875571</td>\n      <td>102.737203</td>\n      <td>17179.586860</td>\n      <td>11420.926230</td>\n      <td>255</td>\n      <td>2116150707</td>\n      <td>2963114973</td>\n      <td>255</td>\n      <td>0.111897</td>\n      <td>0.061458</td>\n      <td>0.050439</td>\n      <td>46</td>\n      <td>824</td>\n      <td>0</td>\n      <td>0</td>\n      <td>7</td>\n      <td>1</td>\n      <td>2</td>\n      <td>1</td>\n      <td>1</td>\n      <td>3</td>\n      <td>0</td>\n      <td>0</td>\n      <td>0</td>\n      <td>2</td>\n      <td>6</td>\n      <td>0</td>\n      <td>Normal</td>\n      <td>0</td>\n    </tr>\n    <tr>\n      <th>3</th>\n      <td>4</td>\n      <td>1.681642</td>\n      <td>tcp</td>\n      <td>ftp</td>\n      <td>FIN</td>\n      <td>12</td>\n      <td>12</td>\n      <td>628</td>\n      <td>770</td>\n      <td>13.677108</td>\n      <td>62</td>\n      <td>252</td>\n      <td>2.740179e+03</td>\n      <td>3358.622070</td>\n      <td>1</td>\n      <td>3</td>\n      <td>152.876547</td>\n      <td>90.235726</td>\n      <td>259.080172</td>\n      <td>4991.784669</td>\n      <td>255</td>\n      <td>1107119177</td>\n      <td>1047442890</td>\n      <td>255</td>\n      <td>0.000000</td>\n      <td>0.000000</td>\n      <td>0.000000</td>\n      <td>52</td>\n      <td>64</td>\n      <td>0</td>\n      <td>0</td>\n      <td>1</td>\n      <td>1</td>\n      <td>2</td>\n      <td>1</td>\n      <td>1</td>\n      <td>3</td>\n      <td>1</td>\n      <td>1</td>\n      <td>0</td>\n      <td>2</td>\n      <td>1</td>\n      <td>0</td>\n      <td>Normal</td>\n      <td>0</td>\n    </tr>\n    <tr>\n      <th>4</th>\n      <td>5</td>\n      <td>0.449454</td>\n      <td>tcp</td>\n      <td>-</td>\n      <td>FIN</td>\n      <td>10</td>\n      <td>6</td>\n      <td>534</td>\n      <td>268</td>\n      <td>33.373826</td>\n      <td>254</td>\n      <td>252</td>\n      <td>8.561499e+03</td>\n      <td>3987.059814</td>\n      <td>2</td>\n      <td>1</td>\n      <td>47.750333</td>\n      <td>75.659602</td>\n      <td>2415.837634</td>\n      <td>115.807000</td>\n      <td>255</td>\n      <td>2436137549</td>\n      <td>1977154190</td>\n      <td>255</td>\n      <td>0.128381</td>\n      <td>0.071147</td>\n      <td>0.057234</td>\n      <td>53</td>\n      <td>45</td>\n      <td>0</td>\n      <td>0</td>\n      <td>43</td>\n      <td>1</td>\n      <td>2</td>\n      <td>2</td>\n      <td>1</td>\n      <td>40</td>\n      <td>0</td>\n      <td>0</td>\n      <td>0</td>\n      <td>2</td>\n      <td>39</td>\n      <td>0</td>\n      <td>Normal</td>\n      <td>0</td>\n    </tr>\n    <tr>\n      <th>...</th>\n      <td>...</td>\n      <td>...</td>\n      <td>...</td>\n      <td>...</td>\n      <td>...</td>\n      <td>...</td>\n      <td>...</td>\n      <td>...</td>\n      <td>...</td>\n      <td>...</td>\n      <td>...</td>\n      <td>...</td>\n      <td>...</td>\n      <td>...</td>\n      <td>...</td>\n      <td>...</td>\n      <td>...</td>\n      <td>...</td>\n      <td>...</td>\n      <td>...</td>\n      <td>...</td>\n      <td>...</td>\n      <td>...</td>\n      <td>...</td>\n      <td>...</td>\n      <td>...</td>\n      <td>...</td>\n      <td>...</td>\n      <td>...</td>\n      <td>...</td>\n      <td>...</td>\n      <td>...</td>\n      <td>...</td>\n      <td>...</td>\n      <td>...</td>\n      <td>...</td>\n      <td>...</td>\n      <td>...</td>\n      <td>...</td>\n      <td>...</td>\n      <td>...</td>\n      <td>...</td>\n      <td>...</td>\n      <td>...</td>\n      <td>...</td>\n    </tr>\n    <tr>\n      <th>82327</th>\n      <td>82328</td>\n      <td>0.000005</td>\n      <td>udp</td>\n      <td>-</td>\n      <td>INT</td>\n      <td>2</td>\n      <td>0</td>\n      <td>104</td>\n      <td>0</td>\n      <td>200000.005100</td>\n      <td>254</td>\n      <td>0</td>\n      <td>8.320000e+07</td>\n      <td>0.000000</td>\n      <td>0</td>\n      <td>0</td>\n      <td>0.005000</td>\n      <td>0.000000</td>\n      <td>0.000000</td>\n      <td>0.000000</td>\n      <td>0</td>\n      <td>0</td>\n      <td>0</td>\n      <td>0</td>\n      <td>0.000000</td>\n      <td>0.000000</td>\n      <td>0.000000</td>\n      <td>52</td>\n      <td>0</td>\n      <td>0</td>\n      <td>0</td>\n      <td>1</td>\n      <td>2</td>\n      <td>2</td>\n      <td>1</td>\n      <td>1</td>\n      <td>2</td>\n      <td>0</td>\n      <td>0</td>\n      <td>0</td>\n      <td>2</td>\n      <td>1</td>\n      <td>0</td>\n      <td>Normal</td>\n      <td>0</td>\n    </tr>\n    <tr>\n      <th>82328</th>\n      <td>82329</td>\n      <td>1.106101</td>\n      <td>tcp</td>\n      <td>-</td>\n      <td>FIN</td>\n      <td>20</td>\n      <td>8</td>\n      <td>18062</td>\n      <td>354</td>\n      <td>24.410067</td>\n      <td>254</td>\n      <td>252</td>\n      <td>1.241044e+05</td>\n      <td>2242.109863</td>\n      <td>7</td>\n      <td>1</td>\n      <td>55.880051</td>\n      <td>143.700000</td>\n      <td>4798.130981</td>\n      <td>190.980813</td>\n      <td>255</td>\n      <td>1072535109</td>\n      <td>3284291478</td>\n      <td>255</td>\n      <td>0.173208</td>\n      <td>0.100191</td>\n      <td>0.073017</td>\n      <td>903</td>\n      <td>44</td>\n      <td>0</td>\n      <td>0</td>\n      <td>1</td>\n      <td>1</td>\n      <td>2</td>\n      <td>1</td>\n      <td>1</td>\n      <td>1</td>\n      <td>0</td>\n      <td>0</td>\n      <td>0</td>\n      <td>3</td>\n      <td>2</td>\n      <td>0</td>\n      <td>Normal</td>\n      <td>0</td>\n    </tr>\n    <tr>\n      <th>82329</th>\n      <td>82330</td>\n      <td>0.000000</td>\n      <td>arp</td>\n      <td>-</td>\n      <td>INT</td>\n      <td>1</td>\n      <td>0</td>\n      <td>46</td>\n      <td>0</td>\n      <td>0.000000</td>\n      <td>0</td>\n      <td>0</td>\n      <td>0.000000e+00</td>\n      <td>0.000000</td>\n      <td>0</td>\n      <td>0</td>\n      <td>60000.720000</td>\n      <td>0.000000</td>\n      <td>0.000000</td>\n      <td>0.000000</td>\n      <td>0</td>\n      <td>0</td>\n      <td>0</td>\n      <td>0</td>\n      <td>0.000000</td>\n      <td>0.000000</td>\n      <td>0.000000</td>\n      <td>46</td>\n      <td>0</td>\n      <td>0</td>\n      <td>0</td>\n      <td>1</td>\n      <td>2</td>\n      <td>1</td>\n      <td>1</td>\n      <td>1</td>\n      <td>1</td>\n      <td>0</td>\n      <td>0</td>\n      <td>0</td>\n      <td>1</td>\n      <td>1</td>\n      <td>1</td>\n      <td>Normal</td>\n      <td>0</td>\n    </tr>\n    <tr>\n      <th>82330</th>\n      <td>82331</td>\n      <td>0.000000</td>\n      <td>arp</td>\n      <td>-</td>\n      <td>INT</td>\n      <td>1</td>\n      <td>0</td>\n      <td>46</td>\n      <td>0</td>\n      <td>0.000000</td>\n      <td>0</td>\n      <td>0</td>\n      <td>0.000000e+00</td>\n      <td>0.000000</td>\n      <td>0</td>\n      <td>0</td>\n      <td>60000.732000</td>\n      <td>0.000000</td>\n      <td>10.954518</td>\n      <td>0.000000</td>\n      <td>0</td>\n      <td>0</td>\n      <td>0</td>\n      <td>0</td>\n      <td>0.000000</td>\n      <td>0.000000</td>\n      <td>0.000000</td>\n      <td>46</td>\n      <td>0</td>\n      <td>0</td>\n      <td>0</td>\n      <td>1</td>\n      <td>2</td>\n      <td>1</td>\n      <td>1</td>\n      <td>1</td>\n      <td>1</td>\n      <td>0</td>\n      <td>0</td>\n      <td>0</td>\n      <td>1</td>\n      <td>1</td>\n      <td>1</td>\n      <td>Normal</td>\n      <td>0</td>\n    </tr>\n    <tr>\n      <th>82331</th>\n      <td>82332</td>\n      <td>0.000009</td>\n      <td>udp</td>\n      <td>-</td>\n      <td>INT</td>\n      <td>2</td>\n      <td>0</td>\n      <td>104</td>\n      <td>0</td>\n      <td>111111.107200</td>\n      <td>254</td>\n      <td>0</td>\n      <td>4.622222e+07</td>\n      <td>0.000000</td>\n      <td>0</td>\n      <td>0</td>\n      <td>0.009000</td>\n      <td>0.000000</td>\n      <td>0.000000</td>\n      <td>0.000000</td>\n      <td>0</td>\n      <td>0</td>\n      <td>0</td>\n      <td>0</td>\n      <td>0.000000</td>\n      <td>0.000000</td>\n      <td>0.000000</td>\n      <td>52</td>\n      <td>0</td>\n      <td>0</td>\n      <td>0</td>\n      <td>1</td>\n      <td>2</td>\n      <td>1</td>\n      <td>1</td>\n      <td>1</td>\n      <td>1</td>\n      <td>0</td>\n      <td>0</td>\n      <td>0</td>\n      <td>1</td>\n      <td>1</td>\n      <td>0</td>\n      <td>Normal</td>\n      <td>0</td>\n    </tr>\n  </tbody>\n</table>\n<p>257673 rows × 45 columns</p>\n</div>"
     },
     "execution_count": 1,
     "metadata": {},
     "output_type": "execute_result"
    }
   ],
   "source": [
    "import math\n",
    "\n",
    "from pycaret.classification import *\n",
    "import numpy as np\n",
    "import pandas as pd\n",
    "import tensorflow as tf\n",
    "\n",
    "#importing datasets\n",
    "#I will be using the two smaller datasets provided for training and testing (explain why I used these in the thesis)\n",
    "pathTesting = 'C:\\\\Users\\\\Jovana\\\\PycharmProjects\\\\neural_network_DNN\\\\include\\\\UNSW-NB15\\\\UNSW_NB15_testing-set.csv'\n",
    "pathTraining= 'C:\\\\Users\\\\Jovana\\\\PycharmProjects\\\\neural_network_DNN\\\\include\\\\UNSW-NB15\\\\UNSW_NB15_training-set.csv'\n",
    "\n",
    "ds_train=pd.read_csv(pathTraining)\n",
    "ds_test=pd.read_csv(pathTesting)\n",
    "\n",
    "ds=pd.concat([ds_train,ds_test], axis=0)\n",
    "ds"
   ]
  },
  {
   "cell_type": "code",
   "execution_count": 2,
   "outputs": [
    {
     "data": {
      "text/plain": "          id       dur proto    service state  spkts  dpkts  sbytes  dbytes  \\\n0          1  0.121478   tcp  undefined   FIN      6      4     258     172   \n1          2  0.649902   tcp  undefined   FIN     14     38     734   42014   \n2          3  1.623129   tcp  undefined   FIN      8     16     364   13186   \n3          4  1.681642   tcp        ftp   FIN     12     12     628     770   \n4          5  0.449454   tcp  undefined   FIN     10      6     534     268   \n...      ...       ...   ...        ...   ...    ...    ...     ...     ...   \n82327  82328  0.000005   udp  undefined   INT      2      0     104       0   \n82328  82329  1.106101   tcp  undefined   FIN     20      8   18062     354   \n82329  82330  0.000000   arp  undefined   INT      1      0      46       0   \n82330  82331  0.000000   arp  undefined   INT      1      0      46       0   \n82331  82332  0.000009   udp  undefined   INT      2      0     104       0   \n\n                rate  sttl  dttl         sload          dload  sloss  dloss  \\\n0          74.087490   252   254  1.415894e+04    8495.365234      0      0   \n1          78.473372    62   252  8.395112e+03  503571.312500      2     17   \n2          14.170161    62   252  1.572272e+03   60929.230470      1      6   \n3          13.677108    62   252  2.740179e+03    3358.622070      1      3   \n4          33.373826   254   252  8.561499e+03    3987.059814      2      1   \n...              ...   ...   ...           ...            ...    ...    ...   \n82327  200000.005100   254     0  8.320000e+07       0.000000      0      0   \n82328      24.410067   254   252  1.241044e+05    2242.109863      7      1   \n82329       0.000000     0     0  0.000000e+00       0.000000      0      0   \n82330       0.000000     0     0  0.000000e+00       0.000000      0      0   \n82331  111111.107200   254     0  4.622222e+07       0.000000      0      0   \n\n             sinpkt      dinpkt          sjit          djit  swin       stcpb  \\\n0         24.295600    8.375000     30.177547     11.830604   255   621772692   \n1         49.915000   15.432865     61.426934   1387.778330   255  1417884146   \n2        231.875571  102.737203  17179.586860  11420.926230   255  2116150707   \n3        152.876547   90.235726    259.080172   4991.784669   255  1107119177   \n4         47.750333   75.659602   2415.837634    115.807000   255  2436137549   \n...             ...         ...           ...           ...   ...         ...   \n82327      0.005000    0.000000      0.000000      0.000000     0           0   \n82328     55.880051  143.700000   4798.130981    190.980813   255  1072535109   \n82329  60000.720000    0.000000      0.000000      0.000000     0           0   \n82330  60000.732000    0.000000     10.954518      0.000000     0           0   \n82331      0.009000    0.000000      0.000000      0.000000     0           0   \n\n            dtcpb  dwin    tcprtt    synack    ackdat  smean  dmean  \\\n0      2202533631   255  0.000000  0.000000  0.000000     43     43   \n1      3077387971   255  0.000000  0.000000  0.000000     52   1106   \n2      2963114973   255  0.111897  0.061458  0.050439     46    824   \n3      1047442890   255  0.000000  0.000000  0.000000     52     64   \n4      1977154190   255  0.128381  0.071147  0.057234     53     45   \n...           ...   ...       ...       ...       ...    ...    ...   \n82327           0     0  0.000000  0.000000  0.000000     52      0   \n82328  3284291478   255  0.173208  0.100191  0.073017    903     44   \n82329           0     0  0.000000  0.000000  0.000000     46      0   \n82330           0     0  0.000000  0.000000  0.000000     46      0   \n82331           0     0  0.000000  0.000000  0.000000     52      0   \n\n       trans_depth  response_body_len  ct_srv_src  ct_state_ttl  ct_dst_ltm  \\\n0                0                  0           1             0           1   \n1                0                  0          43             1           1   \n2                0                  0           7             1           2   \n3                0                  0           1             1           2   \n4                0                  0          43             1           2   \n...            ...                ...         ...           ...         ...   \n82327            0                  0           1             2           2   \n82328            0                  0           1             1           2   \n82329            0                  0           1             2           1   \n82330            0                  0           1             2           1   \n82331            0                  0           1             2           1   \n\n       ct_src_dport_ltm  ct_dst_sport_ltm  ct_dst_src_ltm  is_ftp_login  \\\n0                     1                 1               1             0   \n1                     1                 1               2             0   \n2                     1                 1               3             0   \n3                     1                 1               3             1   \n4                     2                 1              40             0   \n...                 ...               ...             ...           ...   \n82327                 1                 1               2             0   \n82328                 1                 1               1             0   \n82329                 1                 1               1             0   \n82330                 1                 1               1             0   \n82331                 1                 1               1             0   \n\n       ct_ftp_cmd  ct_flw_http_mthd  ct_src_ltm  ct_srv_dst  is_sm_ips_ports  \\\n0               0                 0           1           1                0   \n1               0                 0           1           6                0   \n2               0                 0           2           6                0   \n3               1                 0           2           1                0   \n4               0                 0           2          39                0   \n...           ...               ...         ...         ...              ...   \n82327           0                 0           2           1                0   \n82328           0                 0           3           2                0   \n82329           0                 0           1           1                1   \n82330           0                 0           1           1                1   \n82331           0                 0           1           1                0   \n\n      attack_cat   label  \n0         Normal  normal  \n1         Normal  normal  \n2         Normal  normal  \n3         Normal  normal  \n4         Normal  normal  \n...          ...     ...  \n82327     Normal  normal  \n82328     Normal  normal  \n82329     Normal  normal  \n82330     Normal  normal  \n82331     Normal  normal  \n\n[257673 rows x 45 columns]",
      "text/html": "<div>\n<style scoped>\n    .dataframe tbody tr th:only-of-type {\n        vertical-align: middle;\n    }\n\n    .dataframe tbody tr th {\n        vertical-align: top;\n    }\n\n    .dataframe thead th {\n        text-align: right;\n    }\n</style>\n<table border=\"1\" class=\"dataframe\">\n  <thead>\n    <tr style=\"text-align: right;\">\n      <th></th>\n      <th>id</th>\n      <th>dur</th>\n      <th>proto</th>\n      <th>service</th>\n      <th>state</th>\n      <th>spkts</th>\n      <th>dpkts</th>\n      <th>sbytes</th>\n      <th>dbytes</th>\n      <th>rate</th>\n      <th>sttl</th>\n      <th>dttl</th>\n      <th>sload</th>\n      <th>dload</th>\n      <th>sloss</th>\n      <th>dloss</th>\n      <th>sinpkt</th>\n      <th>dinpkt</th>\n      <th>sjit</th>\n      <th>djit</th>\n      <th>swin</th>\n      <th>stcpb</th>\n      <th>dtcpb</th>\n      <th>dwin</th>\n      <th>tcprtt</th>\n      <th>synack</th>\n      <th>ackdat</th>\n      <th>smean</th>\n      <th>dmean</th>\n      <th>trans_depth</th>\n      <th>response_body_len</th>\n      <th>ct_srv_src</th>\n      <th>ct_state_ttl</th>\n      <th>ct_dst_ltm</th>\n      <th>ct_src_dport_ltm</th>\n      <th>ct_dst_sport_ltm</th>\n      <th>ct_dst_src_ltm</th>\n      <th>is_ftp_login</th>\n      <th>ct_ftp_cmd</th>\n      <th>ct_flw_http_mthd</th>\n      <th>ct_src_ltm</th>\n      <th>ct_srv_dst</th>\n      <th>is_sm_ips_ports</th>\n      <th>attack_cat</th>\n      <th>label</th>\n    </tr>\n  </thead>\n  <tbody>\n    <tr>\n      <th>0</th>\n      <td>1</td>\n      <td>0.121478</td>\n      <td>tcp</td>\n      <td>undefined</td>\n      <td>FIN</td>\n      <td>6</td>\n      <td>4</td>\n      <td>258</td>\n      <td>172</td>\n      <td>74.087490</td>\n      <td>252</td>\n      <td>254</td>\n      <td>1.415894e+04</td>\n      <td>8495.365234</td>\n      <td>0</td>\n      <td>0</td>\n      <td>24.295600</td>\n      <td>8.375000</td>\n      <td>30.177547</td>\n      <td>11.830604</td>\n      <td>255</td>\n      <td>621772692</td>\n      <td>2202533631</td>\n      <td>255</td>\n      <td>0.000000</td>\n      <td>0.000000</td>\n      <td>0.000000</td>\n      <td>43</td>\n      <td>43</td>\n      <td>0</td>\n      <td>0</td>\n      <td>1</td>\n      <td>0</td>\n      <td>1</td>\n      <td>1</td>\n      <td>1</td>\n      <td>1</td>\n      <td>0</td>\n      <td>0</td>\n      <td>0</td>\n      <td>1</td>\n      <td>1</td>\n      <td>0</td>\n      <td>Normal</td>\n      <td>normal</td>\n    </tr>\n    <tr>\n      <th>1</th>\n      <td>2</td>\n      <td>0.649902</td>\n      <td>tcp</td>\n      <td>undefined</td>\n      <td>FIN</td>\n      <td>14</td>\n      <td>38</td>\n      <td>734</td>\n      <td>42014</td>\n      <td>78.473372</td>\n      <td>62</td>\n      <td>252</td>\n      <td>8.395112e+03</td>\n      <td>503571.312500</td>\n      <td>2</td>\n      <td>17</td>\n      <td>49.915000</td>\n      <td>15.432865</td>\n      <td>61.426934</td>\n      <td>1387.778330</td>\n      <td>255</td>\n      <td>1417884146</td>\n      <td>3077387971</td>\n      <td>255</td>\n      <td>0.000000</td>\n      <td>0.000000</td>\n      <td>0.000000</td>\n      <td>52</td>\n      <td>1106</td>\n      <td>0</td>\n      <td>0</td>\n      <td>43</td>\n      <td>1</td>\n      <td>1</td>\n      <td>1</td>\n      <td>1</td>\n      <td>2</td>\n      <td>0</td>\n      <td>0</td>\n      <td>0</td>\n      <td>1</td>\n      <td>6</td>\n      <td>0</td>\n      <td>Normal</td>\n      <td>normal</td>\n    </tr>\n    <tr>\n      <th>2</th>\n      <td>3</td>\n      <td>1.623129</td>\n      <td>tcp</td>\n      <td>undefined</td>\n      <td>FIN</td>\n      <td>8</td>\n      <td>16</td>\n      <td>364</td>\n      <td>13186</td>\n      <td>14.170161</td>\n      <td>62</td>\n      <td>252</td>\n      <td>1.572272e+03</td>\n      <td>60929.230470</td>\n      <td>1</td>\n      <td>6</td>\n      <td>231.875571</td>\n      <td>102.737203</td>\n      <td>17179.586860</td>\n      <td>11420.926230</td>\n      <td>255</td>\n      <td>2116150707</td>\n      <td>2963114973</td>\n      <td>255</td>\n      <td>0.111897</td>\n      <td>0.061458</td>\n      <td>0.050439</td>\n      <td>46</td>\n      <td>824</td>\n      <td>0</td>\n      <td>0</td>\n      <td>7</td>\n      <td>1</td>\n      <td>2</td>\n      <td>1</td>\n      <td>1</td>\n      <td>3</td>\n      <td>0</td>\n      <td>0</td>\n      <td>0</td>\n      <td>2</td>\n      <td>6</td>\n      <td>0</td>\n      <td>Normal</td>\n      <td>normal</td>\n    </tr>\n    <tr>\n      <th>3</th>\n      <td>4</td>\n      <td>1.681642</td>\n      <td>tcp</td>\n      <td>ftp</td>\n      <td>FIN</td>\n      <td>12</td>\n      <td>12</td>\n      <td>628</td>\n      <td>770</td>\n      <td>13.677108</td>\n      <td>62</td>\n      <td>252</td>\n      <td>2.740179e+03</td>\n      <td>3358.622070</td>\n      <td>1</td>\n      <td>3</td>\n      <td>152.876547</td>\n      <td>90.235726</td>\n      <td>259.080172</td>\n      <td>4991.784669</td>\n      <td>255</td>\n      <td>1107119177</td>\n      <td>1047442890</td>\n      <td>255</td>\n      <td>0.000000</td>\n      <td>0.000000</td>\n      <td>0.000000</td>\n      <td>52</td>\n      <td>64</td>\n      <td>0</td>\n      <td>0</td>\n      <td>1</td>\n      <td>1</td>\n      <td>2</td>\n      <td>1</td>\n      <td>1</td>\n      <td>3</td>\n      <td>1</td>\n      <td>1</td>\n      <td>0</td>\n      <td>2</td>\n      <td>1</td>\n      <td>0</td>\n      <td>Normal</td>\n      <td>normal</td>\n    </tr>\n    <tr>\n      <th>4</th>\n      <td>5</td>\n      <td>0.449454</td>\n      <td>tcp</td>\n      <td>undefined</td>\n      <td>FIN</td>\n      <td>10</td>\n      <td>6</td>\n      <td>534</td>\n      <td>268</td>\n      <td>33.373826</td>\n      <td>254</td>\n      <td>252</td>\n      <td>8.561499e+03</td>\n      <td>3987.059814</td>\n      <td>2</td>\n      <td>1</td>\n      <td>47.750333</td>\n      <td>75.659602</td>\n      <td>2415.837634</td>\n      <td>115.807000</td>\n      <td>255</td>\n      <td>2436137549</td>\n      <td>1977154190</td>\n      <td>255</td>\n      <td>0.128381</td>\n      <td>0.071147</td>\n      <td>0.057234</td>\n      <td>53</td>\n      <td>45</td>\n      <td>0</td>\n      <td>0</td>\n      <td>43</td>\n      <td>1</td>\n      <td>2</td>\n      <td>2</td>\n      <td>1</td>\n      <td>40</td>\n      <td>0</td>\n      <td>0</td>\n      <td>0</td>\n      <td>2</td>\n      <td>39</td>\n      <td>0</td>\n      <td>Normal</td>\n      <td>normal</td>\n    </tr>\n    <tr>\n      <th>...</th>\n      <td>...</td>\n      <td>...</td>\n      <td>...</td>\n      <td>...</td>\n      <td>...</td>\n      <td>...</td>\n      <td>...</td>\n      <td>...</td>\n      <td>...</td>\n      <td>...</td>\n      <td>...</td>\n      <td>...</td>\n      <td>...</td>\n      <td>...</td>\n      <td>...</td>\n      <td>...</td>\n      <td>...</td>\n      <td>...</td>\n      <td>...</td>\n      <td>...</td>\n      <td>...</td>\n      <td>...</td>\n      <td>...</td>\n      <td>...</td>\n      <td>...</td>\n      <td>...</td>\n      <td>...</td>\n      <td>...</td>\n      <td>...</td>\n      <td>...</td>\n      <td>...</td>\n      <td>...</td>\n      <td>...</td>\n      <td>...</td>\n      <td>...</td>\n      <td>...</td>\n      <td>...</td>\n      <td>...</td>\n      <td>...</td>\n      <td>...</td>\n      <td>...</td>\n      <td>...</td>\n      <td>...</td>\n      <td>...</td>\n      <td>...</td>\n    </tr>\n    <tr>\n      <th>82327</th>\n      <td>82328</td>\n      <td>0.000005</td>\n      <td>udp</td>\n      <td>undefined</td>\n      <td>INT</td>\n      <td>2</td>\n      <td>0</td>\n      <td>104</td>\n      <td>0</td>\n      <td>200000.005100</td>\n      <td>254</td>\n      <td>0</td>\n      <td>8.320000e+07</td>\n      <td>0.000000</td>\n      <td>0</td>\n      <td>0</td>\n      <td>0.005000</td>\n      <td>0.000000</td>\n      <td>0.000000</td>\n      <td>0.000000</td>\n      <td>0</td>\n      <td>0</td>\n      <td>0</td>\n      <td>0</td>\n      <td>0.000000</td>\n      <td>0.000000</td>\n      <td>0.000000</td>\n      <td>52</td>\n      <td>0</td>\n      <td>0</td>\n      <td>0</td>\n      <td>1</td>\n      <td>2</td>\n      <td>2</td>\n      <td>1</td>\n      <td>1</td>\n      <td>2</td>\n      <td>0</td>\n      <td>0</td>\n      <td>0</td>\n      <td>2</td>\n      <td>1</td>\n      <td>0</td>\n      <td>Normal</td>\n      <td>normal</td>\n    </tr>\n    <tr>\n      <th>82328</th>\n      <td>82329</td>\n      <td>1.106101</td>\n      <td>tcp</td>\n      <td>undefined</td>\n      <td>FIN</td>\n      <td>20</td>\n      <td>8</td>\n      <td>18062</td>\n      <td>354</td>\n      <td>24.410067</td>\n      <td>254</td>\n      <td>252</td>\n      <td>1.241044e+05</td>\n      <td>2242.109863</td>\n      <td>7</td>\n      <td>1</td>\n      <td>55.880051</td>\n      <td>143.700000</td>\n      <td>4798.130981</td>\n      <td>190.980813</td>\n      <td>255</td>\n      <td>1072535109</td>\n      <td>3284291478</td>\n      <td>255</td>\n      <td>0.173208</td>\n      <td>0.100191</td>\n      <td>0.073017</td>\n      <td>903</td>\n      <td>44</td>\n      <td>0</td>\n      <td>0</td>\n      <td>1</td>\n      <td>1</td>\n      <td>2</td>\n      <td>1</td>\n      <td>1</td>\n      <td>1</td>\n      <td>0</td>\n      <td>0</td>\n      <td>0</td>\n      <td>3</td>\n      <td>2</td>\n      <td>0</td>\n      <td>Normal</td>\n      <td>normal</td>\n    </tr>\n    <tr>\n      <th>82329</th>\n      <td>82330</td>\n      <td>0.000000</td>\n      <td>arp</td>\n      <td>undefined</td>\n      <td>INT</td>\n      <td>1</td>\n      <td>0</td>\n      <td>46</td>\n      <td>0</td>\n      <td>0.000000</td>\n      <td>0</td>\n      <td>0</td>\n      <td>0.000000e+00</td>\n      <td>0.000000</td>\n      <td>0</td>\n      <td>0</td>\n      <td>60000.720000</td>\n      <td>0.000000</td>\n      <td>0.000000</td>\n      <td>0.000000</td>\n      <td>0</td>\n      <td>0</td>\n      <td>0</td>\n      <td>0</td>\n      <td>0.000000</td>\n      <td>0.000000</td>\n      <td>0.000000</td>\n      <td>46</td>\n      <td>0</td>\n      <td>0</td>\n      <td>0</td>\n      <td>1</td>\n      <td>2</td>\n      <td>1</td>\n      <td>1</td>\n      <td>1</td>\n      <td>1</td>\n      <td>0</td>\n      <td>0</td>\n      <td>0</td>\n      <td>1</td>\n      <td>1</td>\n      <td>1</td>\n      <td>Normal</td>\n      <td>normal</td>\n    </tr>\n    <tr>\n      <th>82330</th>\n      <td>82331</td>\n      <td>0.000000</td>\n      <td>arp</td>\n      <td>undefined</td>\n      <td>INT</td>\n      <td>1</td>\n      <td>0</td>\n      <td>46</td>\n      <td>0</td>\n      <td>0.000000</td>\n      <td>0</td>\n      <td>0</td>\n      <td>0.000000e+00</td>\n      <td>0.000000</td>\n      <td>0</td>\n      <td>0</td>\n      <td>60000.732000</td>\n      <td>0.000000</td>\n      <td>10.954518</td>\n      <td>0.000000</td>\n      <td>0</td>\n      <td>0</td>\n      <td>0</td>\n      <td>0</td>\n      <td>0.000000</td>\n      <td>0.000000</td>\n      <td>0.000000</td>\n      <td>46</td>\n      <td>0</td>\n      <td>0</td>\n      <td>0</td>\n      <td>1</td>\n      <td>2</td>\n      <td>1</td>\n      <td>1</td>\n      <td>1</td>\n      <td>1</td>\n      <td>0</td>\n      <td>0</td>\n      <td>0</td>\n      <td>1</td>\n      <td>1</td>\n      <td>1</td>\n      <td>Normal</td>\n      <td>normal</td>\n    </tr>\n    <tr>\n      <th>82331</th>\n      <td>82332</td>\n      <td>0.000009</td>\n      <td>udp</td>\n      <td>undefined</td>\n      <td>INT</td>\n      <td>2</td>\n      <td>0</td>\n      <td>104</td>\n      <td>0</td>\n      <td>111111.107200</td>\n      <td>254</td>\n      <td>0</td>\n      <td>4.622222e+07</td>\n      <td>0.000000</td>\n      <td>0</td>\n      <td>0</td>\n      <td>0.009000</td>\n      <td>0.000000</td>\n      <td>0.000000</td>\n      <td>0.000000</td>\n      <td>0</td>\n      <td>0</td>\n      <td>0</td>\n      <td>0</td>\n      <td>0.000000</td>\n      <td>0.000000</td>\n      <td>0.000000</td>\n      <td>52</td>\n      <td>0</td>\n      <td>0</td>\n      <td>0</td>\n      <td>1</td>\n      <td>2</td>\n      <td>1</td>\n      <td>1</td>\n      <td>1</td>\n      <td>1</td>\n      <td>0</td>\n      <td>0</td>\n      <td>0</td>\n      <td>1</td>\n      <td>1</td>\n      <td>0</td>\n      <td>Normal</td>\n      <td>normal</td>\n    </tr>\n  </tbody>\n</table>\n<p>257673 rows × 45 columns</p>\n</div>"
     },
     "execution_count": 2,
     "metadata": {},
     "output_type": "execute_result"
    }
   ],
   "source": [
    "#there are no missing values, the feature 'service' has - where there is no service, rename it to 'undefined'\n",
    "ds['service'].replace('-', 'undefined', inplace=True)\n",
    "ds['label'].replace(1, 'attack', inplace=True)\n",
    "ds['label'].replace(0, 'normal', inplace=True)\n",
    "ds"
   ],
   "metadata": {
    "collapsed": false,
    "pycharm": {
     "name": "#%%\n"
    }
   }
  },
  {
   "cell_type": "code",
   "execution_count": 3,
   "outputs": [
    {
     "data": {
      "text/plain": "array(['tcp', 'udp', 'arp', 'ospf', 'icmp', 'igmp', 'rtp', 'ddp',\n       'ipv6-frag', 'cftp', 'wsn', 'pvp', 'wb-expak', 'mtp', 'pri-enc',\n       'sat-mon', 'cphb', 'sun-nd', 'iso-ip', 'xtp', 'il', 'unas',\n       'mfe-nsp', '3pc', 'ipv6-route', 'idrp', 'bna', 'swipe',\n       'kryptolan', 'cpnx', 'rsvp', 'wb-mon', 'vmtp', 'ib', 'dgp',\n       'eigrp', 'ax.25', 'gmtp', 'pnni', 'sep', 'pgm', 'idpr-cmtp',\n       'zero', 'rvd', 'mobile', 'narp', 'fc', 'pipe', 'ipcomp', 'ipv6-no',\n       'sat-expak', 'ipv6-opts', 'snp', 'ipcv', 'br-sat-mon', 'ttp',\n       'tcf', 'nsfnet-igp', 'sprite-rpc', 'aes-sp3-d', 'sccopmce', 'sctp',\n       'qnx', 'scps', 'etherip', 'aris', 'pim', 'compaq-peer', 'vrrp',\n       'iatp', 'stp', 'l2tp', 'srp', 'sm', 'isis', 'smp', 'fire', 'ptp',\n       'crtp', 'sps', 'merit-inp', 'idpr', 'skip', 'any', 'larp', 'ipip',\n       'micp', 'encap', 'ifmp', 'tp++', 'a/n', 'ipv6', 'i-nlsp',\n       'ipx-n-ip', 'sdrp', 'tlsp', 'gre', 'mhrp', 'ddx', 'ippc', 'visa',\n       'secure-vmtp', 'uti', 'vines', 'crudp', 'iplt', 'ggp', 'ip',\n       'ipnip', 'st2', 'argus', 'bbn-rcc', 'egp', 'emcon', 'igp', 'nvp',\n       'pup', 'xnet', 'chaos', 'mux', 'dcn', 'hmp', 'prm', 'trunk-1',\n       'xns-idp', 'leaf-1', 'leaf-2', 'rdp', 'irtp', 'iso-tp4', 'netblt',\n       'trunk-2', 'cbt'], dtype=object)"
     },
     "execution_count": 3,
     "metadata": {},
     "output_type": "execute_result"
    }
   ],
   "source": [
    "pd.unique(ds.proto.values)"
   ],
   "metadata": {
    "collapsed": false,
    "pycharm": {
     "name": "#%%\n"
    }
   }
  },
  {
   "cell_type": "code",
   "execution_count": 4,
   "outputs": [],
   "source": [
    "#drop the id column\n",
    "ds = ds.drop('id', axis=1)\n",
    "#first binary classification, for that we will drop the attack cat\n",
    "ds_binary = ds.drop('attack_cat', axis=1)"
   ],
   "metadata": {
    "collapsed": false,
    "pycharm": {
     "name": "#%%\n"
    }
   }
  },
  {
   "cell_type": "code",
   "execution_count": 5,
   "outputs": [
    {
     "data": {
      "text/plain": "<pandas.io.formats.style.Styler at 0x1bcdca52d60>",
      "text/html": "<style type=\"text/css\">\n#T_d9b15_row29_col1, #T_d9b15_row51_col1 {\n  background-color: lightgreen;\n}\n</style>\n<table id=\"T_d9b15_\">\n  <thead>\n    <tr>\n      <th class=\"blank level0\" >&nbsp;</th>\n      <th class=\"col_heading level0 col0\" >Description</th>\n      <th class=\"col_heading level0 col1\" >Value</th>\n    </tr>\n  </thead>\n  <tbody>\n    <tr>\n      <th id=\"T_d9b15_level0_row0\" class=\"row_heading level0 row0\" >0</th>\n      <td id=\"T_d9b15_row0_col0\" class=\"data row0 col0\" >session_id</td>\n      <td id=\"T_d9b15_row0_col1\" class=\"data row0 col1\" >6499</td>\n    </tr>\n    <tr>\n      <th id=\"T_d9b15_level0_row1\" class=\"row_heading level0 row1\" >1</th>\n      <td id=\"T_d9b15_row1_col0\" class=\"data row1 col0\" >Target</td>\n      <td id=\"T_d9b15_row1_col1\" class=\"data row1 col1\" >label</td>\n    </tr>\n    <tr>\n      <th id=\"T_d9b15_level0_row2\" class=\"row_heading level0 row2\" >2</th>\n      <td id=\"T_d9b15_row2_col0\" class=\"data row2 col0\" >Target Type</td>\n      <td id=\"T_d9b15_row2_col1\" class=\"data row2 col1\" >Binary</td>\n    </tr>\n    <tr>\n      <th id=\"T_d9b15_level0_row3\" class=\"row_heading level0 row3\" >3</th>\n      <td id=\"T_d9b15_row3_col0\" class=\"data row3 col0\" >Label Encoded</td>\n      <td id=\"T_d9b15_row3_col1\" class=\"data row3 col1\" >attack: 0, normal: 1</td>\n    </tr>\n    <tr>\n      <th id=\"T_d9b15_level0_row4\" class=\"row_heading level0 row4\" >4</th>\n      <td id=\"T_d9b15_row4_col0\" class=\"data row4 col0\" >Original Data</td>\n      <td id=\"T_d9b15_row4_col1\" class=\"data row4 col1\" >(257673, 43)</td>\n    </tr>\n    <tr>\n      <th id=\"T_d9b15_level0_row5\" class=\"row_heading level0 row5\" >5</th>\n      <td id=\"T_d9b15_row5_col0\" class=\"data row5 col0\" >Missing Values</td>\n      <td id=\"T_d9b15_row5_col1\" class=\"data row5 col1\" >False</td>\n    </tr>\n    <tr>\n      <th id=\"T_d9b15_level0_row6\" class=\"row_heading level0 row6\" >6</th>\n      <td id=\"T_d9b15_row6_col0\" class=\"data row6 col0\" >Numeric Features</td>\n      <td id=\"T_d9b15_row6_col1\" class=\"data row6 col1\" >39</td>\n    </tr>\n    <tr>\n      <th id=\"T_d9b15_level0_row7\" class=\"row_heading level0 row7\" >7</th>\n      <td id=\"T_d9b15_row7_col0\" class=\"data row7 col0\" >Categorical Features</td>\n      <td id=\"T_d9b15_row7_col1\" class=\"data row7 col1\" >3</td>\n    </tr>\n    <tr>\n      <th id=\"T_d9b15_level0_row8\" class=\"row_heading level0 row8\" >8</th>\n      <td id=\"T_d9b15_row8_col0\" class=\"data row8 col0\" >Ordinal Features</td>\n      <td id=\"T_d9b15_row8_col1\" class=\"data row8 col1\" >False</td>\n    </tr>\n    <tr>\n      <th id=\"T_d9b15_level0_row9\" class=\"row_heading level0 row9\" >9</th>\n      <td id=\"T_d9b15_row9_col0\" class=\"data row9 col0\" >High Cardinality Features</td>\n      <td id=\"T_d9b15_row9_col1\" class=\"data row9 col1\" >False</td>\n    </tr>\n    <tr>\n      <th id=\"T_d9b15_level0_row10\" class=\"row_heading level0 row10\" >10</th>\n      <td id=\"T_d9b15_row10_col0\" class=\"data row10 col0\" >High Cardinality Method</td>\n      <td id=\"T_d9b15_row10_col1\" class=\"data row10 col1\" >None</td>\n    </tr>\n    <tr>\n      <th id=\"T_d9b15_level0_row11\" class=\"row_heading level0 row11\" >11</th>\n      <td id=\"T_d9b15_row11_col0\" class=\"data row11 col0\" >Transformed Train Set</td>\n      <td id=\"T_d9b15_row11_col1\" class=\"data row11 col1\" >(206138, 52)</td>\n    </tr>\n    <tr>\n      <th id=\"T_d9b15_level0_row12\" class=\"row_heading level0 row12\" >12</th>\n      <td id=\"T_d9b15_row12_col0\" class=\"data row12 col0\" >Transformed Test Set</td>\n      <td id=\"T_d9b15_row12_col1\" class=\"data row12 col1\" >(51535, 52)</td>\n    </tr>\n    <tr>\n      <th id=\"T_d9b15_level0_row13\" class=\"row_heading level0 row13\" >13</th>\n      <td id=\"T_d9b15_row13_col0\" class=\"data row13 col0\" >Shuffle Train-Test</td>\n      <td id=\"T_d9b15_row13_col1\" class=\"data row13 col1\" >True</td>\n    </tr>\n    <tr>\n      <th id=\"T_d9b15_level0_row14\" class=\"row_heading level0 row14\" >14</th>\n      <td id=\"T_d9b15_row14_col0\" class=\"data row14 col0\" >Stratify Train-Test</td>\n      <td id=\"T_d9b15_row14_col1\" class=\"data row14 col1\" >False</td>\n    </tr>\n    <tr>\n      <th id=\"T_d9b15_level0_row15\" class=\"row_heading level0 row15\" >15</th>\n      <td id=\"T_d9b15_row15_col0\" class=\"data row15 col0\" >Fold Generator</td>\n      <td id=\"T_d9b15_row15_col1\" class=\"data row15 col1\" >StratifiedKFold</td>\n    </tr>\n    <tr>\n      <th id=\"T_d9b15_level0_row16\" class=\"row_heading level0 row16\" >16</th>\n      <td id=\"T_d9b15_row16_col0\" class=\"data row16 col0\" >Fold Number</td>\n      <td id=\"T_d9b15_row16_col1\" class=\"data row16 col1\" >10</td>\n    </tr>\n    <tr>\n      <th id=\"T_d9b15_level0_row17\" class=\"row_heading level0 row17\" >17</th>\n      <td id=\"T_d9b15_row17_col0\" class=\"data row17 col0\" >CPU Jobs</td>\n      <td id=\"T_d9b15_row17_col1\" class=\"data row17 col1\" >-1</td>\n    </tr>\n    <tr>\n      <th id=\"T_d9b15_level0_row18\" class=\"row_heading level0 row18\" >18</th>\n      <td id=\"T_d9b15_row18_col0\" class=\"data row18 col0\" >Use GPU</td>\n      <td id=\"T_d9b15_row18_col1\" class=\"data row18 col1\" >False</td>\n    </tr>\n    <tr>\n      <th id=\"T_d9b15_level0_row19\" class=\"row_heading level0 row19\" >19</th>\n      <td id=\"T_d9b15_row19_col0\" class=\"data row19 col0\" >Log Experiment</td>\n      <td id=\"T_d9b15_row19_col1\" class=\"data row19 col1\" >False</td>\n    </tr>\n    <tr>\n      <th id=\"T_d9b15_level0_row20\" class=\"row_heading level0 row20\" >20</th>\n      <td id=\"T_d9b15_row20_col0\" class=\"data row20 col0\" >Experiment Name</td>\n      <td id=\"T_d9b15_row20_col1\" class=\"data row20 col1\" >clf-default-name</td>\n    </tr>\n    <tr>\n      <th id=\"T_d9b15_level0_row21\" class=\"row_heading level0 row21\" >21</th>\n      <td id=\"T_d9b15_row21_col0\" class=\"data row21 col0\" >USI</td>\n      <td id=\"T_d9b15_row21_col1\" class=\"data row21 col1\" >0deb</td>\n    </tr>\n    <tr>\n      <th id=\"T_d9b15_level0_row22\" class=\"row_heading level0 row22\" >22</th>\n      <td id=\"T_d9b15_row22_col0\" class=\"data row22 col0\" >Imputation Type</td>\n      <td id=\"T_d9b15_row22_col1\" class=\"data row22 col1\" >simple</td>\n    </tr>\n    <tr>\n      <th id=\"T_d9b15_level0_row23\" class=\"row_heading level0 row23\" >23</th>\n      <td id=\"T_d9b15_row23_col0\" class=\"data row23 col0\" >Iterative Imputation Iteration</td>\n      <td id=\"T_d9b15_row23_col1\" class=\"data row23 col1\" >None</td>\n    </tr>\n    <tr>\n      <th id=\"T_d9b15_level0_row24\" class=\"row_heading level0 row24\" >24</th>\n      <td id=\"T_d9b15_row24_col0\" class=\"data row24 col0\" >Numeric Imputer</td>\n      <td id=\"T_d9b15_row24_col1\" class=\"data row24 col1\" >mean</td>\n    </tr>\n    <tr>\n      <th id=\"T_d9b15_level0_row25\" class=\"row_heading level0 row25\" >25</th>\n      <td id=\"T_d9b15_row25_col0\" class=\"data row25 col0\" >Iterative Imputation Numeric Model</td>\n      <td id=\"T_d9b15_row25_col1\" class=\"data row25 col1\" >None</td>\n    </tr>\n    <tr>\n      <th id=\"T_d9b15_level0_row26\" class=\"row_heading level0 row26\" >26</th>\n      <td id=\"T_d9b15_row26_col0\" class=\"data row26 col0\" >Categorical Imputer</td>\n      <td id=\"T_d9b15_row26_col1\" class=\"data row26 col1\" >constant</td>\n    </tr>\n    <tr>\n      <th id=\"T_d9b15_level0_row27\" class=\"row_heading level0 row27\" >27</th>\n      <td id=\"T_d9b15_row27_col0\" class=\"data row27 col0\" >Iterative Imputation Categorical Model</td>\n      <td id=\"T_d9b15_row27_col1\" class=\"data row27 col1\" >None</td>\n    </tr>\n    <tr>\n      <th id=\"T_d9b15_level0_row28\" class=\"row_heading level0 row28\" >28</th>\n      <td id=\"T_d9b15_row28_col0\" class=\"data row28 col0\" >Unknown Categoricals Handling</td>\n      <td id=\"T_d9b15_row28_col1\" class=\"data row28 col1\" >least_frequent</td>\n    </tr>\n    <tr>\n      <th id=\"T_d9b15_level0_row29\" class=\"row_heading level0 row29\" >29</th>\n      <td id=\"T_d9b15_row29_col0\" class=\"data row29 col0\" >Normalize</td>\n      <td id=\"T_d9b15_row29_col1\" class=\"data row29 col1\" >True</td>\n    </tr>\n    <tr>\n      <th id=\"T_d9b15_level0_row30\" class=\"row_heading level0 row30\" >30</th>\n      <td id=\"T_d9b15_row30_col0\" class=\"data row30 col0\" >Normalize Method</td>\n      <td id=\"T_d9b15_row30_col1\" class=\"data row30 col1\" >minmax</td>\n    </tr>\n    <tr>\n      <th id=\"T_d9b15_level0_row31\" class=\"row_heading level0 row31\" >31</th>\n      <td id=\"T_d9b15_row31_col0\" class=\"data row31 col0\" >Transformation</td>\n      <td id=\"T_d9b15_row31_col1\" class=\"data row31 col1\" >False</td>\n    </tr>\n    <tr>\n      <th id=\"T_d9b15_level0_row32\" class=\"row_heading level0 row32\" >32</th>\n      <td id=\"T_d9b15_row32_col0\" class=\"data row32 col0\" >Transformation Method</td>\n      <td id=\"T_d9b15_row32_col1\" class=\"data row32 col1\" >None</td>\n    </tr>\n    <tr>\n      <th id=\"T_d9b15_level0_row33\" class=\"row_heading level0 row33\" >33</th>\n      <td id=\"T_d9b15_row33_col0\" class=\"data row33 col0\" >PCA</td>\n      <td id=\"T_d9b15_row33_col1\" class=\"data row33 col1\" >False</td>\n    </tr>\n    <tr>\n      <th id=\"T_d9b15_level0_row34\" class=\"row_heading level0 row34\" >34</th>\n      <td id=\"T_d9b15_row34_col0\" class=\"data row34 col0\" >PCA Method</td>\n      <td id=\"T_d9b15_row34_col1\" class=\"data row34 col1\" >None</td>\n    </tr>\n    <tr>\n      <th id=\"T_d9b15_level0_row35\" class=\"row_heading level0 row35\" >35</th>\n      <td id=\"T_d9b15_row35_col0\" class=\"data row35 col0\" >PCA Components</td>\n      <td id=\"T_d9b15_row35_col1\" class=\"data row35 col1\" >None</td>\n    </tr>\n    <tr>\n      <th id=\"T_d9b15_level0_row36\" class=\"row_heading level0 row36\" >36</th>\n      <td id=\"T_d9b15_row36_col0\" class=\"data row36 col0\" >Ignore Low Variance</td>\n      <td id=\"T_d9b15_row36_col1\" class=\"data row36 col1\" >False</td>\n    </tr>\n    <tr>\n      <th id=\"T_d9b15_level0_row37\" class=\"row_heading level0 row37\" >37</th>\n      <td id=\"T_d9b15_row37_col0\" class=\"data row37 col0\" >Combine Rare Levels</td>\n      <td id=\"T_d9b15_row37_col1\" class=\"data row37 col1\" >False</td>\n    </tr>\n    <tr>\n      <th id=\"T_d9b15_level0_row38\" class=\"row_heading level0 row38\" >38</th>\n      <td id=\"T_d9b15_row38_col0\" class=\"data row38 col0\" >Rare Level Threshold</td>\n      <td id=\"T_d9b15_row38_col1\" class=\"data row38 col1\" >None</td>\n    </tr>\n    <tr>\n      <th id=\"T_d9b15_level0_row39\" class=\"row_heading level0 row39\" >39</th>\n      <td id=\"T_d9b15_row39_col0\" class=\"data row39 col0\" >Numeric Binning</td>\n      <td id=\"T_d9b15_row39_col1\" class=\"data row39 col1\" >False</td>\n    </tr>\n    <tr>\n      <th id=\"T_d9b15_level0_row40\" class=\"row_heading level0 row40\" >40</th>\n      <td id=\"T_d9b15_row40_col0\" class=\"data row40 col0\" >Remove Outliers</td>\n      <td id=\"T_d9b15_row40_col1\" class=\"data row40 col1\" >False</td>\n    </tr>\n    <tr>\n      <th id=\"T_d9b15_level0_row41\" class=\"row_heading level0 row41\" >41</th>\n      <td id=\"T_d9b15_row41_col0\" class=\"data row41 col0\" >Outliers Threshold</td>\n      <td id=\"T_d9b15_row41_col1\" class=\"data row41 col1\" >None</td>\n    </tr>\n    <tr>\n      <th id=\"T_d9b15_level0_row42\" class=\"row_heading level0 row42\" >42</th>\n      <td id=\"T_d9b15_row42_col0\" class=\"data row42 col0\" >Remove Multicollinearity</td>\n      <td id=\"T_d9b15_row42_col1\" class=\"data row42 col1\" >False</td>\n    </tr>\n    <tr>\n      <th id=\"T_d9b15_level0_row43\" class=\"row_heading level0 row43\" >43</th>\n      <td id=\"T_d9b15_row43_col0\" class=\"data row43 col0\" >Multicollinearity Threshold</td>\n      <td id=\"T_d9b15_row43_col1\" class=\"data row43 col1\" >None</td>\n    </tr>\n    <tr>\n      <th id=\"T_d9b15_level0_row44\" class=\"row_heading level0 row44\" >44</th>\n      <td id=\"T_d9b15_row44_col0\" class=\"data row44 col0\" >Clustering</td>\n      <td id=\"T_d9b15_row44_col1\" class=\"data row44 col1\" >False</td>\n    </tr>\n    <tr>\n      <th id=\"T_d9b15_level0_row45\" class=\"row_heading level0 row45\" >45</th>\n      <td id=\"T_d9b15_row45_col0\" class=\"data row45 col0\" >Clustering Iteration</td>\n      <td id=\"T_d9b15_row45_col1\" class=\"data row45 col1\" >None</td>\n    </tr>\n    <tr>\n      <th id=\"T_d9b15_level0_row46\" class=\"row_heading level0 row46\" >46</th>\n      <td id=\"T_d9b15_row46_col0\" class=\"data row46 col0\" >Polynomial Features</td>\n      <td id=\"T_d9b15_row46_col1\" class=\"data row46 col1\" >False</td>\n    </tr>\n    <tr>\n      <th id=\"T_d9b15_level0_row47\" class=\"row_heading level0 row47\" >47</th>\n      <td id=\"T_d9b15_row47_col0\" class=\"data row47 col0\" >Polynomial Degree</td>\n      <td id=\"T_d9b15_row47_col1\" class=\"data row47 col1\" >None</td>\n    </tr>\n    <tr>\n      <th id=\"T_d9b15_level0_row48\" class=\"row_heading level0 row48\" >48</th>\n      <td id=\"T_d9b15_row48_col0\" class=\"data row48 col0\" >Trignometry Features</td>\n      <td id=\"T_d9b15_row48_col1\" class=\"data row48 col1\" >False</td>\n    </tr>\n    <tr>\n      <th id=\"T_d9b15_level0_row49\" class=\"row_heading level0 row49\" >49</th>\n      <td id=\"T_d9b15_row49_col0\" class=\"data row49 col0\" >Polynomial Threshold</td>\n      <td id=\"T_d9b15_row49_col1\" class=\"data row49 col1\" >None</td>\n    </tr>\n    <tr>\n      <th id=\"T_d9b15_level0_row50\" class=\"row_heading level0 row50\" >50</th>\n      <td id=\"T_d9b15_row50_col0\" class=\"data row50 col0\" >Group Features</td>\n      <td id=\"T_d9b15_row50_col1\" class=\"data row50 col1\" >False</td>\n    </tr>\n    <tr>\n      <th id=\"T_d9b15_level0_row51\" class=\"row_heading level0 row51\" >51</th>\n      <td id=\"T_d9b15_row51_col0\" class=\"data row51 col0\" >Feature Selection</td>\n      <td id=\"T_d9b15_row51_col1\" class=\"data row51 col1\" >True</td>\n    </tr>\n    <tr>\n      <th id=\"T_d9b15_level0_row52\" class=\"row_heading level0 row52\" >52</th>\n      <td id=\"T_d9b15_row52_col0\" class=\"data row52 col0\" >Features Selection Threshold</td>\n      <td id=\"T_d9b15_row52_col1\" class=\"data row52 col1\" >0.200000</td>\n    </tr>\n    <tr>\n      <th id=\"T_d9b15_level0_row53\" class=\"row_heading level0 row53\" >53</th>\n      <td id=\"T_d9b15_row53_col0\" class=\"data row53 col0\" >Feature Interaction</td>\n      <td id=\"T_d9b15_row53_col1\" class=\"data row53 col1\" >False</td>\n    </tr>\n    <tr>\n      <th id=\"T_d9b15_level0_row54\" class=\"row_heading level0 row54\" >54</th>\n      <td id=\"T_d9b15_row54_col0\" class=\"data row54 col0\" >Feature Ratio</td>\n      <td id=\"T_d9b15_row54_col1\" class=\"data row54 col1\" >False</td>\n    </tr>\n    <tr>\n      <th id=\"T_d9b15_level0_row55\" class=\"row_heading level0 row55\" >55</th>\n      <td id=\"T_d9b15_row55_col0\" class=\"data row55 col0\" >Interaction Threshold</td>\n      <td id=\"T_d9b15_row55_col1\" class=\"data row55 col1\" >None</td>\n    </tr>\n    <tr>\n      <th id=\"T_d9b15_level0_row56\" class=\"row_heading level0 row56\" >56</th>\n      <td id=\"T_d9b15_row56_col0\" class=\"data row56 col0\" >Fix Imbalance</td>\n      <td id=\"T_d9b15_row56_col1\" class=\"data row56 col1\" >False</td>\n    </tr>\n    <tr>\n      <th id=\"T_d9b15_level0_row57\" class=\"row_heading level0 row57\" >57</th>\n      <td id=\"T_d9b15_row57_col0\" class=\"data row57 col0\" >Fix Imbalance Method</td>\n      <td id=\"T_d9b15_row57_col1\" class=\"data row57 col1\" >SMOTE</td>\n    </tr>\n  </tbody>\n</table>\n"
     },
     "metadata": {},
     "output_type": "display_data"
    }
   ],
   "source": [
    "#first normal without smote or anything\n",
    "dsp_tr_binary=setup(data = ds_binary,\n",
    "             target = 'label',train_size=0.8,\n",
    "             numeric_imputation = 'mean',\n",
    "             categorical_features = ['proto','service','state'],\n",
    "             numeric_features=['dur','spkts','dpkts','sbytes','dbytes','rate','sttl','dttl','sload','dload','sloss','dloss','sinpkt','dinpkt','sjit','djit','swin','stcpb','dtcpb','dwin','tcprtt','synack','ackdat','smean','dmean','trans_depth','response_body_len','ct_srv_src','ct_state_ttl','ct_dst_ltm','ct_src_dport_ltm','ct_dst_sport_ltm',\n",
    "                               'ct_dst_src_ltm','is_ftp_login','ct_ftp_cmd','ct_flw_http_mthd','ct_src_ltm','ct_srv_dst','is_sm_ips_ports'],\n",
    "             normalize=True,normalize_method='minmax',\n",
    "             feature_selection=True,feature_selection_threshold=0.2,\n",
    "             silent = True, fold_shuffle=True)"
   ],
   "metadata": {
    "collapsed": false,
    "pycharm": {
     "name": "#%%\n"
    }
   }
  },
  {
   "cell_type": "code",
   "execution_count": 6,
   "outputs": [],
   "source": [
    "X_train_bin=get_config('X_train')\n",
    "X_test_bin=get_config('X_test')\n",
    "Y_train_bin=get_config('y_train')\n",
    "Y_test_bin=get_config('y_test')"
   ],
   "metadata": {
    "collapsed": false,
    "pycharm": {
     "name": "#%%\n"
    }
   }
  },
  {
   "cell_type": "code",
   "execution_count": 16,
   "outputs": [
    {
     "data": {
      "text/plain": "17340     1\n114826    1\n96988     0\n146949    0\n125551    0\n         ..\n37873     1\n17587     0\n136826    0\n66308     0\n859       0\nName: label, Length: 206138, dtype: int32"
     },
     "execution_count": 16,
     "metadata": {},
     "output_type": "execute_result"
    }
   ],
   "source": [
    "Y_train_bin"
   ],
   "metadata": {
    "collapsed": false,
    "pycharm": {
     "name": "#%%\n"
    }
   }
  },
  {
   "cell_type": "code",
   "execution_count": 17,
   "outputs": [],
   "source": [
    "#reverse 1 and 0\n",
    "Y_train_bin=Y_train_bin.replace({0:1,1:0})"
   ],
   "metadata": {
    "collapsed": false,
    "pycharm": {
     "name": "#%%\n"
    }
   }
  },
  {
   "cell_type": "code",
   "execution_count": 18,
   "outputs": [
    {
     "data": {
      "text/plain": "17340     0\n114826    0\n96988     1\n146949    1\n125551    1\n         ..\n37873     0\n17587     1\n136826    1\n66308     1\n859       1\nName: label, Length: 206138, dtype: int64"
     },
     "execution_count": 18,
     "metadata": {},
     "output_type": "execute_result"
    }
   ],
   "source": [
    "Y_train_bin"
   ],
   "metadata": {
    "collapsed": false,
    "pycharm": {
     "name": "#%%\n"
    }
   }
  },
  {
   "cell_type": "code",
   "execution_count": 19,
   "outputs": [],
   "source": [
    "Y_test_bin=Y_test_bin.replace({0:1,1:0})"
   ],
   "metadata": {
    "collapsed": false,
    "pycharm": {
     "name": "#%%\n"
    }
   }
  },
  {
   "cell_type": "code",
   "execution_count": 21,
   "outputs": [
    {
     "data": {
      "text/plain": "136799    1\n57666     1\n78136     0\n51229     1\n6822      1\n         ..\n32538     0\n29521     0\n46088     0\n133452    1\n86469     1\nName: label, Length: 51535, dtype: int64"
     },
     "execution_count": 21,
     "metadata": {},
     "output_type": "execute_result"
    }
   ],
   "source": [
    "Y_test_bin"
   ],
   "metadata": {
    "collapsed": false,
    "pycharm": {
     "name": "#%%\n"
    }
   }
  },
  {
   "cell_type": "code",
   "execution_count": 20,
   "outputs": [
    {
     "name": "stdout",
     "output_type": "stream",
     "text": [
      "Epoch 1/100\n",
      "3221/3221 [==============================] - 10s 3ms/step - loss: 0.1977 - accuracy: 0.8948 - val_loss: 0.1718 - val_accuracy: 0.9079\n",
      "Epoch 2/100\n",
      "3221/3221 [==============================] - 11s 3ms/step - loss: 0.1720 - accuracy: 0.9055 - val_loss: 0.1636 - val_accuracy: 0.9110\n",
      "Epoch 3/100\n",
      "3221/3221 [==============================] - 11s 3ms/step - loss: 0.1683 - accuracy: 0.9081 - val_loss: 0.1669 - val_accuracy: 0.9071\n",
      "Epoch 4/100\n",
      "3221/3221 [==============================] - 10s 3ms/step - loss: 0.1663 - accuracy: 0.9091 - val_loss: 0.1571 - val_accuracy: 0.9160\n",
      "Epoch 5/100\n",
      "3221/3221 [==============================] - 11s 3ms/step - loss: 0.1648 - accuracy: 0.9104 - val_loss: 0.1583 - val_accuracy: 0.9144\n",
      "Epoch 6/100\n",
      "3221/3221 [==============================] - 11s 3ms/step - loss: 0.1634 - accuracy: 0.9116 - val_loss: 0.1570 - val_accuracy: 0.9134\n",
      "Epoch 7/100\n",
      "3221/3221 [==============================] - 11s 3ms/step - loss: 0.1625 - accuracy: 0.9121 - val_loss: 0.1529 - val_accuracy: 0.9173\n",
      "Epoch 8/100\n",
      "3221/3221 [==============================] - 11s 3ms/step - loss: 0.1611 - accuracy: 0.9132 - val_loss: 0.1515 - val_accuracy: 0.9188\n",
      "Epoch 9/100\n",
      "3221/3221 [==============================] - 11s 3ms/step - loss: 0.1599 - accuracy: 0.9152 - val_loss: 0.1534 - val_accuracy: 0.9209\n",
      "Epoch 10/100\n",
      "3221/3221 [==============================] - 11s 3ms/step - loss: 0.1587 - accuracy: 0.9156 - val_loss: 0.1575 - val_accuracy: 0.9147\n",
      "Epoch 11/100\n",
      "3221/3221 [==============================] - 10s 3ms/step - loss: 0.1581 - accuracy: 0.9165 - val_loss: 0.1503 - val_accuracy: 0.9218\n",
      "Epoch 12/100\n",
      "3221/3221 [==============================] - 11s 3ms/step - loss: 0.1567 - accuracy: 0.9182 - val_loss: 0.1485 - val_accuracy: 0.9237\n",
      "Epoch 13/100\n",
      "3221/3221 [==============================] - 11s 3ms/step - loss: 0.1557 - accuracy: 0.9183 - val_loss: 0.1489 - val_accuracy: 0.9229\n",
      "Epoch 14/100\n",
      "3221/3221 [==============================] - 11s 3ms/step - loss: 0.1548 - accuracy: 0.9192 - val_loss: 0.1490 - val_accuracy: 0.9221\n",
      "Epoch 15/100\n",
      "3221/3221 [==============================] - 11s 3ms/step - loss: 0.1540 - accuracy: 0.9199 - val_loss: 0.1502 - val_accuracy: 0.9252\n",
      "Epoch 16/100\n",
      "3221/3221 [==============================] - 11s 3ms/step - loss: 0.1530 - accuracy: 0.9202 - val_loss: 0.1511 - val_accuracy: 0.9219\n",
      "Epoch 17/100\n",
      "3221/3221 [==============================] - 11s 3ms/step - loss: 0.1524 - accuracy: 0.9208 - val_loss: 0.1476 - val_accuracy: 0.9252\n",
      "Epoch 18/100\n",
      "3221/3221 [==============================] - 11s 3ms/step - loss: 0.1517 - accuracy: 0.9209 - val_loss: 0.1441 - val_accuracy: 0.9249\n",
      "Epoch 19/100\n",
      "3221/3221 [==============================] - 11s 3ms/step - loss: 0.1513 - accuracy: 0.9214 - val_loss: 0.1448 - val_accuracy: 0.9269\n",
      "Epoch 20/100\n",
      "3221/3221 [==============================] - 10s 3ms/step - loss: 0.1507 - accuracy: 0.9214 - val_loss: 0.1471 - val_accuracy: 0.9245\n",
      "Epoch 21/100\n",
      "3221/3221 [==============================] - 11s 4ms/step - loss: 0.1499 - accuracy: 0.9226 - val_loss: 0.1440 - val_accuracy: 0.9243\n",
      "Epoch 22/100\n",
      "3221/3221 [==============================] - 12s 4ms/step - loss: 0.1497 - accuracy: 0.9218 - val_loss: 0.1420 - val_accuracy: 0.9272\n",
      "Epoch 23/100\n",
      "3221/3221 [==============================] - 10s 3ms/step - loss: 0.1494 - accuracy: 0.9226 - val_loss: 0.1436 - val_accuracy: 0.9237\n",
      "Epoch 24/100\n",
      "3221/3221 [==============================] - 10s 3ms/step - loss: 0.1483 - accuracy: 0.9234 - val_loss: 0.1413 - val_accuracy: 0.9280\n",
      "Epoch 25/100\n",
      "3221/3221 [==============================] - 11s 3ms/step - loss: 0.1482 - accuracy: 0.9235 - val_loss: 0.1476 - val_accuracy: 0.9240\n",
      "Epoch 26/100\n",
      "3221/3221 [==============================] - 10s 3ms/step - loss: 0.1477 - accuracy: 0.9235 - val_loss: 0.1430 - val_accuracy: 0.9243\n",
      "Epoch 27/100\n",
      "3221/3221 [==============================] - 10s 3ms/step - loss: 0.1475 - accuracy: 0.9231 - val_loss: 0.1496 - val_accuracy: 0.9220\n",
      "Epoch 28/100\n",
      "3221/3221 [==============================] - 10s 3ms/step - loss: 0.1472 - accuracy: 0.9239 - val_loss: 0.1439 - val_accuracy: 0.9274\n",
      "Epoch 29/100\n",
      "3221/3221 [==============================] - 11s 3ms/step - loss: 0.1472 - accuracy: 0.9237 - val_loss: 0.1419 - val_accuracy: 0.9254\n"
     ]
    },
    {
     "data": {
      "text/plain": "<tensorflow.python.keras.callbacks.History at 0x1bcb076cd00>"
     },
     "execution_count": 20,
     "metadata": {},
     "output_type": "execute_result"
    }
   ],
   "source": [
    "#now we make and test the neural networks\n",
    "from tensorflow.python.keras.layers import Activation\n",
    "from keras.optimizers import SGD\n",
    "from keras.models import Sequential\n",
    "from keras.layers import Dense\n",
    "from keras.layers.advanced_activations import PReLU\n",
    "from keras.layers import Dropout\n",
    "from keras.callbacks import EarlyStopping\n",
    "act2 = PReLU(alpha_initializer='zeros', weights=None)\n",
    "model2 = Sequential()\n",
    "# define the NN architecture and activation function\n",
    "\n",
    "model2.add(Dense(496, input_dim=52, activation=Activation(act2)))\n",
    "model2.add(Dropout(0.1))\n",
    "model2.add(Dense(248, activation='relu'))\n",
    "model2.add(Dropout(0.1))\n",
    "model2.add(Dense(124, activation='relu'))\n",
    "model2.add(Dropout(0.1))\n",
    "model2.add(Dense(62, activation='relu'))\n",
    "model2.add(Dropout(0.1))\n",
    "model2.add(Dense(1))\n",
    "model2.add(Activation('sigmoid'))\n",
    "\n",
    "sgd =SGD(lr=0.01, decay=1e-6, momentum=0.9, nesterov=True)\n",
    "model2.compile(loss='binary_crossentropy', optimizer=sgd, metrics= ['accuracy'])\n",
    "es = EarlyStopping(monitor='val_accuracy', mode='max', min_delta=0.0001,patience=5) ## early stopping\n",
    "model2.fit(X_train_bin, Y_train_bin, validation_data=(X_test_bin, Y_test_bin), epochs=100, batch_size=64, callbacks=[es])"
   ],
   "metadata": {
    "collapsed": false,
    "pycharm": {
     "name": "#%%\n"
    }
   }
  },
  {
   "cell_type": "code",
   "execution_count": 22,
   "outputs": [
    {
     "data": {
      "text/plain": "0.9254099155913457"
     },
     "execution_count": 22,
     "metadata": {},
     "output_type": "execute_result"
    }
   ],
   "source": [
    "from sklearn.metrics import accuracy_score\n",
    "# or find the prediction accuracy using predict_classes (same as test accuracy)\n",
    "y_pred2 = model2.predict_classes(X_test_bin)\n",
    "pred_accuracy2 = accuracy_score(Y_test_bin, y_pred2)\n",
    "pred_accuracy2"
   ],
   "metadata": {
    "collapsed": false,
    "pycharm": {
     "name": "#%%\n"
    }
   }
  },
  {
   "cell_type": "code",
   "execution_count": 23,
   "outputs": [
    {
     "name": "stdout",
     "output_type": "stream",
     "text": [
      "Precision : 0.944497\n"
     ]
    }
   ],
   "source": [
    "from sklearn.metrics import precision_score, recall_score, f1_score, roc_auc_score\n",
    "# Precision\n",
    "precision = precision_score(Y_test_bin, y_pred2)\n",
    "print('Precision : %f'% precision)"
   ],
   "metadata": {
    "collapsed": false,
    "pycharm": {
     "name": "#%%\n"
    }
   }
  },
  {
   "cell_type": "code",
   "execution_count": 24,
   "outputs": [
    {
     "name": "stdout",
     "output_type": "stream",
     "text": [
      "Recall: 0.938115\n"
     ]
    }
   ],
   "source": [
    "# Recall\n",
    "recall = recall_score(Y_test_bin, y_pred2)\n",
    "print('Recall: %f' % recall)"
   ],
   "metadata": {
    "collapsed": false,
    "pycharm": {
     "name": "#%%\n"
    }
   }
  },
  {
   "cell_type": "code",
   "execution_count": 25,
   "outputs": [
    {
     "name": "stdout",
     "output_type": "stream",
     "text": [
      "F1 score: 0.941295\n"
     ]
    }
   ],
   "source": [
    "# f1-score\n",
    "f1 = f1_score(Y_test_bin, y_pred2)\n",
    "print('F1 score: %f' % f1)"
   ],
   "metadata": {
    "collapsed": false,
    "pycharm": {
     "name": "#%%\n"
    }
   }
  },
  {
   "cell_type": "code",
   "execution_count": 13,
   "outputs": [
    {
     "name": "stdout",
     "output_type": "stream",
     "text": [
      "ROC_AUC Score: 0.923796\n"
     ]
    }
   ],
   "source": [
    "roc = roc_auc_score(Y_test_bin, y_pred2)\n",
    "print('ROC_AUC Score: %f' % roc)"
   ],
   "metadata": {
    "collapsed": false,
    "pycharm": {
     "name": "#%%\n"
    }
   }
  },
  {
   "cell_type": "code",
   "execution_count": 26,
   "outputs": [
    {
     "name": "stdout",
     "output_type": "stream",
     "text": [
      "[[16873  1811]\n",
      " [ 2033 30818]]\n"
     ]
    }
   ],
   "source": [
    "from sklearn.metrics import confusion_matrix\n",
    "\n",
    "# confusion matrix\n",
    "confusionmatrix = confusion_matrix(Y_test_bin, y_pred2)\n",
    "print(confusionmatrix)"
   ],
   "metadata": {
    "collapsed": false,
    "pycharm": {
     "name": "#%%\n"
    }
   }
  },
  {
   "cell_type": "code",
   "execution_count": 27,
   "outputs": [
    {
     "data": {
      "text/plain": "(16873, 1811, 2033, 30818)"
     },
     "execution_count": 27,
     "metadata": {},
     "output_type": "execute_result"
    }
   ],
   "source": [
    "tn, fp, fn, tp = confusionmatrix.ravel()\n",
    "(tn, fp, fn, tp)"
   ],
   "metadata": {
    "collapsed": false,
    "pycharm": {
     "name": "#%%\n"
    }
   }
  },
  {
   "cell_type": "code",
   "execution_count": 28,
   "outputs": [
    {
     "data": {
      "text/plain": "17340     0\n114826    0\n96988     1\n146949    1\n125551    1\n         ..\n37873     0\n17587     1\n136826    1\n66308     1\n859       1\nName: label, Length: 206138, dtype: int64"
     },
     "execution_count": 28,
     "metadata": {},
     "output_type": "execute_result"
    }
   ],
   "source": [
    "Y_train_bin"
   ],
   "metadata": {
    "collapsed": false,
    "pycharm": {
     "name": "#%%\n"
    }
   }
  },
  {
   "cell_type": "code",
   "execution_count": 29,
   "outputs": [
    {
     "data": {
      "text/plain": "136799    1\n57666     1\n78136     0\n51229     1\n6822      1\n         ..\n32538     0\n29521     0\n46088     0\n133452    1\n86469     1\nName: label, Length: 51535, dtype: int64"
     },
     "execution_count": 29,
     "metadata": {},
     "output_type": "execute_result"
    }
   ],
   "source": [
    "Y_test_bin"
   ],
   "metadata": {
    "collapsed": false,
    "pycharm": {
     "name": "#%%\n"
    }
   }
  },
  {
   "cell_type": "code",
   "execution_count": 47,
   "outputs": [
    {
     "data": {
      "text/plain": "Index(['srcip', 'sport', 'dstip', 'dsport', 'proto', 'state', 'dur', 'sbytes',\n       'dbytes', 'sttl', 'dttl', 'sloss', 'dloss', 'service', 'Sload', 'Dload',\n       'Spkts', 'Dpkts', 'swin', 'dwin', 'stcpb', 'dtcpb', 'smeansz',\n       'dmeansz', 'trans_depth', 'res_bdy_len', 'Sjit', 'Djit', 'Stime',\n       'Ltime', 'Sintpkt', 'Dintpkt', 'tcprtt', 'synack', 'ackdat',\n       'is_sm_ips_ports', 'ct_state_ttl', 'ct_flw_http_mthd', 'is_ftp_login',\n       'ct_ftp_cmd', 'ct_srv_src', 'ct_srv_dst', 'ct_dst_ltm', 'ct_src_ ltm',\n       'ct_src_dport_ltm', 'ct_dst_sport_ltm', 'ct_dst_src_ltm', 'attack_cat',\n       'label'],\n      dtype='object')"
     },
     "execution_count": 47,
     "metadata": {},
     "output_type": "execute_result"
    }
   ],
   "source": [
    "# I should try with the full dataset\n",
    "### FULL DATASET ###\n",
    "path1=\"D:\\\\Master Thesis Datasets\\\\UNSW-NB15 Source-Files\\\\UNSW-NB15 - CSV Files\\\\UNSW-NB15_1.csv\"\n",
    "path2=\"D:\\\\Master Thesis Datasets\\\\UNSW-NB15 Source-Files\\\\UNSW-NB15 - CSV Files\\\\UNSW-NB15_2.csv\"\n",
    "path3=\"D:\\\\Master Thesis Datasets\\\\UNSW-NB15 Source-Files\\\\UNSW-NB15 - CSV Files\\\\UNSW-NB15_3.csv\"\n",
    "path4=\"D:\\\\Master Thesis Datasets\\\\UNSW-NB15 Source-Files\\\\UNSW-NB15 - CSV Files\\\\UNSW-NB15_4.csv\"\n",
    "columns = ['srcip','sport','dstip','dsport','proto','state','dur','sbytes','dbytes','sttl','dttl','sloss','dloss',\n",
    "                   'service','Sload','Dload','Spkts','Dpkts','swin','dwin','stcpb','dtcpb','smeansz','dmeansz','trans_depth',\n",
    "                   'res_bdy_len','Sjit','Djit','Stime','Ltime','Sintpkt','Dintpkt','tcprtt','synack','ackdat','is_sm_ips_ports',\n",
    "                   'ct_state_ttl','ct_flw_http_mthd','is_ftp_login','ct_ftp_cmd','ct_srv_src','ct_srv_dst','ct_dst_ltm','ct_src_ ltm',\n",
    "                   'ct_src_dport_ltm','ct_dst_sport_ltm','ct_dst_src_ltm','attack_cat','label']\n",
    "\n",
    "ds1=pd.read_csv(path1)\n",
    "ds1.columns=columns\n",
    "ds2=pd.read_csv(path2)\n",
    "ds2.columns=columns\n",
    "ds3=pd.read_csv(path3)\n",
    "ds3.columns=columns\n",
    "ds4=pd.read_csv(path4)\n",
    "ds4.columns=columns\n",
    "ds_full=pd.concat([ds1,ds2,ds3,ds4], axis=0)\n",
    "ds_full.columns"
   ],
   "metadata": {
    "collapsed": false,
    "pycharm": {
     "name": "#%%\n"
    }
   }
  },
  {
   "cell_type": "code",
   "execution_count": 48,
   "outputs": [],
   "source": [
    "ds_full.to_csv(\"D:\\\\Master Thesis Datasets\\\\UNSW-NB15 Source-Files\\\\UNSW-NB15 - CSV Files\\\\FULL.csv\")"
   ],
   "metadata": {
    "collapsed": false,
    "pycharm": {
     "name": "#%%\n"
    }
   }
  },
  {
   "cell_type": "code",
   "execution_count": 2,
   "outputs": [
    {
     "data": {
      "text/plain": "         Unnamed: 0         srcip  sport           dstip dsport proto state  \\\n0                 0    59.166.0.0  33661   149.171.126.9   1024   udp   CON   \n1                 1    59.166.0.6   1464   149.171.126.7     53   udp   CON   \n2                 2    59.166.0.5   3593   149.171.126.5     53   udp   CON   \n3                 3    59.166.0.3  49664   149.171.126.0     53   udp   CON   \n4                 4    59.166.0.0  32119   149.171.126.9    111   udp   CON   \n...             ...           ...    ...             ...    ...   ...   ...   \n2540038      440038    59.166.0.5  33094   149.171.126.7  43433   tcp   FIN   \n2540039      440039    59.166.0.7  20848   149.171.126.4     21   tcp   CON   \n2540040      440040    59.166.0.3  21511   149.171.126.9     21   tcp   CON   \n2540041      440041    59.166.0.9  35433   149.171.126.0     80   tcp   CON   \n2540042      440042  175.45.176.0  17293  149.171.126.17    110   tcp   CON   \n\n              dur  sbytes  dbytes  sttl  dttl  sloss  dloss   service  \\\n0        0.036133     528     304    31    29      0      0         -   \n1        0.001119     146     178    31    29      0      0       dns   \n2        0.001209     132     164    31    29      0      0       dns   \n3        0.001169     146     178    31    29      0      0       dns   \n4        0.078339     568     312    31    29      0      0         -   \n...           ...     ...     ...   ...   ...    ...    ...       ...   \n2540038  0.087306     320    1828    31    29      1      2  ftp-data   \n2540039  0.365058     456     346    31    29      2      2       ftp   \n2540040  6.335154    1802    2088    31    29      7      9       ftp   \n2540041  2.200934    3498  166054    31    29      2     57      http   \n2540042  0.942984     574     676    62   252      5      6      pop3   \n\n                 Sload          Dload  Spkts  Dpkts  swin  dwin       stcpb  \\\n0         87676.085940   50480.171880      4      4     0     0           0   \n1        521894.531300  636282.375000      2      2     0     0           0   \n2        436724.562500  542597.187500      2      2     0     0           0   \n3        499572.250000  609067.562500      2      2     0     0           0   \n4         43503.234380   23896.142580      4      4     0     0           0   \n...                ...            ...    ...    ...   ...   ...         ...   \n2540038   24465.671880  146610.765600      6      8   255   255  4035116044   \n2540039    8743.816406    6333.240234      8      6   255   255  1529727621   \n2540040    2204.839844    2549.582764     32     30   255   255   497208793   \n2540041   12496.513670  598375.062500     58    116   255   255  1289728069   \n2540042    4470.913574    5259.898438     12     12   255   255  3026824982   \n\n              dtcpb  smeansz  dmeansz  trans_depth  res_bdy_len          Sjit  \\\n0                 0      132       76            0            0      9.891010   \n1                 0       73       89            0            0      0.000000   \n2                 0       66       82            0            0      0.000000   \n3                 0       73       89            0            0      0.000000   \n4                 0      142       78            0            0     29.682221   \n...             ...      ...      ...          ...          ...           ...   \n2540038   222196311       53      229            0            0   1221.136547   \n2540039   185369967       57       58            0            0   3961.093354   \n2540040   889904111       56       70            0            0  13233.728560   \n2540041  3436097151       60     1432            1        79745   2868.893137   \n2540042  3748412468       48       56            0            0   3903.523582   \n\n                Djit       Stime       Ltime     Sintpkt     Dintpkt  \\\n0          10.682733  1421927414  1421927414    7.005000    7.564333   \n1           0.000000  1421927414  1421927414    0.017000    0.013000   \n2           0.000000  1421927414  1421927414    0.043000    0.014000   \n3           0.000000  1421927414  1421927414    0.005000    0.003000   \n4          34.370340  1421927414  1421927414   21.003000   24.315000   \n...              ...         ...         ...         ...         ...   \n2540038    30.096029  1424262068  1424262069   17.394400   12.405143   \n2540039   129.038367  1424262068  1424262069   51.976999   72.915602   \n2540040   379.052750  1424262062  1424262069  204.359814  214.372375   \n2540041  1951.035944  1424262067  1424262069   38.609700   19.133826   \n2540042    95.650531  1424262068  1424262069   79.714089   80.827180   \n\n           tcprtt    synack    ackdat  is_sm_ips_ports  ct_state_ttl  \\\n0        0.000000  0.000000  0.000000                0             0   \n1        0.000000  0.000000  0.000000                0             0   \n2        0.000000  0.000000  0.000000                0             0   \n3        0.000000  0.000000  0.000000                0             0   \n4        0.000000  0.000000  0.000000                0             0   \n...           ...       ...       ...              ...           ...   \n2540038  0.000608  0.000468  0.000140                0             0   \n2540039  0.000609  0.000477  0.000132                0             0   \n2540040  0.000617  0.000485  0.000132                0             0   \n2540041  0.000680  0.000541  0.000139                0             0   \n2540042  0.139446  0.053884  0.085562                0             3   \n\n         ct_flw_http_mthd  is_ftp_login ct_ftp_cmd  ct_srv_src  ct_srv_dst  \\\n0                     0.0           0.0          0           2           4   \n1                     0.0           0.0          0          12           8   \n2                     0.0           0.0          0           6           9   \n3                     0.0           0.0          0           7           9   \n4                     0.0           0.0          0           2           4   \n...                   ...           ...        ...         ...         ...   \n2540038               NaN           NaN                      1           2   \n2540039               NaN           2.0          2           2           2   \n2540040               NaN           2.0          2           2           2   \n2540041               2.0           NaN                      1           1   \n2540042               NaN           NaN                      1           1   \n\n         ct_dst_ltm  ct_src_ ltm  ct_src_dport_ltm  ct_dst_sport_ltm  \\\n0                 2            3                 1                 1   \n1                 1            2                 2                 1   \n2                 1            1                 1                 1   \n3                 1            1                 1                 1   \n4                 2            3                 1                 1   \n...             ...          ...               ...               ...   \n2540038           3            3                 1                 1   \n2540039           2            2                 2                 2   \n2540040           4            2                 2                 2   \n2540041           2            4                 2                 2   \n2540042           2            4                 2                 2   \n\n         ct_dst_src_ltm attack_cat  label  \n0                     2        NaN      0  \n1                     1        NaN      0  \n2                     1        NaN      0  \n3                     1        NaN      0  \n4                     2        NaN      0  \n...                 ...        ...    ...  \n2540038               3        NaN      0  \n2540039               2        NaN      0  \n2540040               2        NaN      0  \n2540041               2        NaN      0  \n2540042               2   Exploits      1  \n\n[2540043 rows x 50 columns]",
      "text/html": "<div>\n<style scoped>\n    .dataframe tbody tr th:only-of-type {\n        vertical-align: middle;\n    }\n\n    .dataframe tbody tr th {\n        vertical-align: top;\n    }\n\n    .dataframe thead th {\n        text-align: right;\n    }\n</style>\n<table border=\"1\" class=\"dataframe\">\n  <thead>\n    <tr style=\"text-align: right;\">\n      <th></th>\n      <th>Unnamed: 0</th>\n      <th>srcip</th>\n      <th>sport</th>\n      <th>dstip</th>\n      <th>dsport</th>\n      <th>proto</th>\n      <th>state</th>\n      <th>dur</th>\n      <th>sbytes</th>\n      <th>dbytes</th>\n      <th>sttl</th>\n      <th>dttl</th>\n      <th>sloss</th>\n      <th>dloss</th>\n      <th>service</th>\n      <th>Sload</th>\n      <th>Dload</th>\n      <th>Spkts</th>\n      <th>Dpkts</th>\n      <th>swin</th>\n      <th>dwin</th>\n      <th>stcpb</th>\n      <th>dtcpb</th>\n      <th>smeansz</th>\n      <th>dmeansz</th>\n      <th>trans_depth</th>\n      <th>res_bdy_len</th>\n      <th>Sjit</th>\n      <th>Djit</th>\n      <th>Stime</th>\n      <th>Ltime</th>\n      <th>Sintpkt</th>\n      <th>Dintpkt</th>\n      <th>tcprtt</th>\n      <th>synack</th>\n      <th>ackdat</th>\n      <th>is_sm_ips_ports</th>\n      <th>ct_state_ttl</th>\n      <th>ct_flw_http_mthd</th>\n      <th>is_ftp_login</th>\n      <th>ct_ftp_cmd</th>\n      <th>ct_srv_src</th>\n      <th>ct_srv_dst</th>\n      <th>ct_dst_ltm</th>\n      <th>ct_src_ ltm</th>\n      <th>ct_src_dport_ltm</th>\n      <th>ct_dst_sport_ltm</th>\n      <th>ct_dst_src_ltm</th>\n      <th>attack_cat</th>\n      <th>label</th>\n    </tr>\n  </thead>\n  <tbody>\n    <tr>\n      <th>0</th>\n      <td>0</td>\n      <td>59.166.0.0</td>\n      <td>33661</td>\n      <td>149.171.126.9</td>\n      <td>1024</td>\n      <td>udp</td>\n      <td>CON</td>\n      <td>0.036133</td>\n      <td>528</td>\n      <td>304</td>\n      <td>31</td>\n      <td>29</td>\n      <td>0</td>\n      <td>0</td>\n      <td>-</td>\n      <td>87676.085940</td>\n      <td>50480.171880</td>\n      <td>4</td>\n      <td>4</td>\n      <td>0</td>\n      <td>0</td>\n      <td>0</td>\n      <td>0</td>\n      <td>132</td>\n      <td>76</td>\n      <td>0</td>\n      <td>0</td>\n      <td>9.891010</td>\n      <td>10.682733</td>\n      <td>1421927414</td>\n      <td>1421927414</td>\n      <td>7.005000</td>\n      <td>7.564333</td>\n      <td>0.000000</td>\n      <td>0.000000</td>\n      <td>0.000000</td>\n      <td>0</td>\n      <td>0</td>\n      <td>0.0</td>\n      <td>0.0</td>\n      <td>0</td>\n      <td>2</td>\n      <td>4</td>\n      <td>2</td>\n      <td>3</td>\n      <td>1</td>\n      <td>1</td>\n      <td>2</td>\n      <td>NaN</td>\n      <td>0</td>\n    </tr>\n    <tr>\n      <th>1</th>\n      <td>1</td>\n      <td>59.166.0.6</td>\n      <td>1464</td>\n      <td>149.171.126.7</td>\n      <td>53</td>\n      <td>udp</td>\n      <td>CON</td>\n      <td>0.001119</td>\n      <td>146</td>\n      <td>178</td>\n      <td>31</td>\n      <td>29</td>\n      <td>0</td>\n      <td>0</td>\n      <td>dns</td>\n      <td>521894.531300</td>\n      <td>636282.375000</td>\n      <td>2</td>\n      <td>2</td>\n      <td>0</td>\n      <td>0</td>\n      <td>0</td>\n      <td>0</td>\n      <td>73</td>\n      <td>89</td>\n      <td>0</td>\n      <td>0</td>\n      <td>0.000000</td>\n      <td>0.000000</td>\n      <td>1421927414</td>\n      <td>1421927414</td>\n      <td>0.017000</td>\n      <td>0.013000</td>\n      <td>0.000000</td>\n      <td>0.000000</td>\n      <td>0.000000</td>\n      <td>0</td>\n      <td>0</td>\n      <td>0.0</td>\n      <td>0.0</td>\n      <td>0</td>\n      <td>12</td>\n      <td>8</td>\n      <td>1</td>\n      <td>2</td>\n      <td>2</td>\n      <td>1</td>\n      <td>1</td>\n      <td>NaN</td>\n      <td>0</td>\n    </tr>\n    <tr>\n      <th>2</th>\n      <td>2</td>\n      <td>59.166.0.5</td>\n      <td>3593</td>\n      <td>149.171.126.5</td>\n      <td>53</td>\n      <td>udp</td>\n      <td>CON</td>\n      <td>0.001209</td>\n      <td>132</td>\n      <td>164</td>\n      <td>31</td>\n      <td>29</td>\n      <td>0</td>\n      <td>0</td>\n      <td>dns</td>\n      <td>436724.562500</td>\n      <td>542597.187500</td>\n      <td>2</td>\n      <td>2</td>\n      <td>0</td>\n      <td>0</td>\n      <td>0</td>\n      <td>0</td>\n      <td>66</td>\n      <td>82</td>\n      <td>0</td>\n      <td>0</td>\n      <td>0.000000</td>\n      <td>0.000000</td>\n      <td>1421927414</td>\n      <td>1421927414</td>\n      <td>0.043000</td>\n      <td>0.014000</td>\n      <td>0.000000</td>\n      <td>0.000000</td>\n      <td>0.000000</td>\n      <td>0</td>\n      <td>0</td>\n      <td>0.0</td>\n      <td>0.0</td>\n      <td>0</td>\n      <td>6</td>\n      <td>9</td>\n      <td>1</td>\n      <td>1</td>\n      <td>1</td>\n      <td>1</td>\n      <td>1</td>\n      <td>NaN</td>\n      <td>0</td>\n    </tr>\n    <tr>\n      <th>3</th>\n      <td>3</td>\n      <td>59.166.0.3</td>\n      <td>49664</td>\n      <td>149.171.126.0</td>\n      <td>53</td>\n      <td>udp</td>\n      <td>CON</td>\n      <td>0.001169</td>\n      <td>146</td>\n      <td>178</td>\n      <td>31</td>\n      <td>29</td>\n      <td>0</td>\n      <td>0</td>\n      <td>dns</td>\n      <td>499572.250000</td>\n      <td>609067.562500</td>\n      <td>2</td>\n      <td>2</td>\n      <td>0</td>\n      <td>0</td>\n      <td>0</td>\n      <td>0</td>\n      <td>73</td>\n      <td>89</td>\n      <td>0</td>\n      <td>0</td>\n      <td>0.000000</td>\n      <td>0.000000</td>\n      <td>1421927414</td>\n      <td>1421927414</td>\n      <td>0.005000</td>\n      <td>0.003000</td>\n      <td>0.000000</td>\n      <td>0.000000</td>\n      <td>0.000000</td>\n      <td>0</td>\n      <td>0</td>\n      <td>0.0</td>\n      <td>0.0</td>\n      <td>0</td>\n      <td>7</td>\n      <td>9</td>\n      <td>1</td>\n      <td>1</td>\n      <td>1</td>\n      <td>1</td>\n      <td>1</td>\n      <td>NaN</td>\n      <td>0</td>\n    </tr>\n    <tr>\n      <th>4</th>\n      <td>4</td>\n      <td>59.166.0.0</td>\n      <td>32119</td>\n      <td>149.171.126.9</td>\n      <td>111</td>\n      <td>udp</td>\n      <td>CON</td>\n      <td>0.078339</td>\n      <td>568</td>\n      <td>312</td>\n      <td>31</td>\n      <td>29</td>\n      <td>0</td>\n      <td>0</td>\n      <td>-</td>\n      <td>43503.234380</td>\n      <td>23896.142580</td>\n      <td>4</td>\n      <td>4</td>\n      <td>0</td>\n      <td>0</td>\n      <td>0</td>\n      <td>0</td>\n      <td>142</td>\n      <td>78</td>\n      <td>0</td>\n      <td>0</td>\n      <td>29.682221</td>\n      <td>34.370340</td>\n      <td>1421927414</td>\n      <td>1421927414</td>\n      <td>21.003000</td>\n      <td>24.315000</td>\n      <td>0.000000</td>\n      <td>0.000000</td>\n      <td>0.000000</td>\n      <td>0</td>\n      <td>0</td>\n      <td>0.0</td>\n      <td>0.0</td>\n      <td>0</td>\n      <td>2</td>\n      <td>4</td>\n      <td>2</td>\n      <td>3</td>\n      <td>1</td>\n      <td>1</td>\n      <td>2</td>\n      <td>NaN</td>\n      <td>0</td>\n    </tr>\n    <tr>\n      <th>...</th>\n      <td>...</td>\n      <td>...</td>\n      <td>...</td>\n      <td>...</td>\n      <td>...</td>\n      <td>...</td>\n      <td>...</td>\n      <td>...</td>\n      <td>...</td>\n      <td>...</td>\n      <td>...</td>\n      <td>...</td>\n      <td>...</td>\n      <td>...</td>\n      <td>...</td>\n      <td>...</td>\n      <td>...</td>\n      <td>...</td>\n      <td>...</td>\n      <td>...</td>\n      <td>...</td>\n      <td>...</td>\n      <td>...</td>\n      <td>...</td>\n      <td>...</td>\n      <td>...</td>\n      <td>...</td>\n      <td>...</td>\n      <td>...</td>\n      <td>...</td>\n      <td>...</td>\n      <td>...</td>\n      <td>...</td>\n      <td>...</td>\n      <td>...</td>\n      <td>...</td>\n      <td>...</td>\n      <td>...</td>\n      <td>...</td>\n      <td>...</td>\n      <td>...</td>\n      <td>...</td>\n      <td>...</td>\n      <td>...</td>\n      <td>...</td>\n      <td>...</td>\n      <td>...</td>\n      <td>...</td>\n      <td>...</td>\n      <td>...</td>\n    </tr>\n    <tr>\n      <th>2540038</th>\n      <td>440038</td>\n      <td>59.166.0.5</td>\n      <td>33094</td>\n      <td>149.171.126.7</td>\n      <td>43433</td>\n      <td>tcp</td>\n      <td>FIN</td>\n      <td>0.087306</td>\n      <td>320</td>\n      <td>1828</td>\n      <td>31</td>\n      <td>29</td>\n      <td>1</td>\n      <td>2</td>\n      <td>ftp-data</td>\n      <td>24465.671880</td>\n      <td>146610.765600</td>\n      <td>6</td>\n      <td>8</td>\n      <td>255</td>\n      <td>255</td>\n      <td>4035116044</td>\n      <td>222196311</td>\n      <td>53</td>\n      <td>229</td>\n      <td>0</td>\n      <td>0</td>\n      <td>1221.136547</td>\n      <td>30.096029</td>\n      <td>1424262068</td>\n      <td>1424262069</td>\n      <td>17.394400</td>\n      <td>12.405143</td>\n      <td>0.000608</td>\n      <td>0.000468</td>\n      <td>0.000140</td>\n      <td>0</td>\n      <td>0</td>\n      <td>NaN</td>\n      <td>NaN</td>\n      <td></td>\n      <td>1</td>\n      <td>2</td>\n      <td>3</td>\n      <td>3</td>\n      <td>1</td>\n      <td>1</td>\n      <td>3</td>\n      <td>NaN</td>\n      <td>0</td>\n    </tr>\n    <tr>\n      <th>2540039</th>\n      <td>440039</td>\n      <td>59.166.0.7</td>\n      <td>20848</td>\n      <td>149.171.126.4</td>\n      <td>21</td>\n      <td>tcp</td>\n      <td>CON</td>\n      <td>0.365058</td>\n      <td>456</td>\n      <td>346</td>\n      <td>31</td>\n      <td>29</td>\n      <td>2</td>\n      <td>2</td>\n      <td>ftp</td>\n      <td>8743.816406</td>\n      <td>6333.240234</td>\n      <td>8</td>\n      <td>6</td>\n      <td>255</td>\n      <td>255</td>\n      <td>1529727621</td>\n      <td>185369967</td>\n      <td>57</td>\n      <td>58</td>\n      <td>0</td>\n      <td>0</td>\n      <td>3961.093354</td>\n      <td>129.038367</td>\n      <td>1424262068</td>\n      <td>1424262069</td>\n      <td>51.976999</td>\n      <td>72.915602</td>\n      <td>0.000609</td>\n      <td>0.000477</td>\n      <td>0.000132</td>\n      <td>0</td>\n      <td>0</td>\n      <td>NaN</td>\n      <td>2.0</td>\n      <td>2</td>\n      <td>2</td>\n      <td>2</td>\n      <td>2</td>\n      <td>2</td>\n      <td>2</td>\n      <td>2</td>\n      <td>2</td>\n      <td>NaN</td>\n      <td>0</td>\n    </tr>\n    <tr>\n      <th>2540040</th>\n      <td>440040</td>\n      <td>59.166.0.3</td>\n      <td>21511</td>\n      <td>149.171.126.9</td>\n      <td>21</td>\n      <td>tcp</td>\n      <td>CON</td>\n      <td>6.335154</td>\n      <td>1802</td>\n      <td>2088</td>\n      <td>31</td>\n      <td>29</td>\n      <td>7</td>\n      <td>9</td>\n      <td>ftp</td>\n      <td>2204.839844</td>\n      <td>2549.582764</td>\n      <td>32</td>\n      <td>30</td>\n      <td>255</td>\n      <td>255</td>\n      <td>497208793</td>\n      <td>889904111</td>\n      <td>56</td>\n      <td>70</td>\n      <td>0</td>\n      <td>0</td>\n      <td>13233.728560</td>\n      <td>379.052750</td>\n      <td>1424262062</td>\n      <td>1424262069</td>\n      <td>204.359814</td>\n      <td>214.372375</td>\n      <td>0.000617</td>\n      <td>0.000485</td>\n      <td>0.000132</td>\n      <td>0</td>\n      <td>0</td>\n      <td>NaN</td>\n      <td>2.0</td>\n      <td>2</td>\n      <td>2</td>\n      <td>2</td>\n      <td>4</td>\n      <td>2</td>\n      <td>2</td>\n      <td>2</td>\n      <td>2</td>\n      <td>NaN</td>\n      <td>0</td>\n    </tr>\n    <tr>\n      <th>2540041</th>\n      <td>440041</td>\n      <td>59.166.0.9</td>\n      <td>35433</td>\n      <td>149.171.126.0</td>\n      <td>80</td>\n      <td>tcp</td>\n      <td>CON</td>\n      <td>2.200934</td>\n      <td>3498</td>\n      <td>166054</td>\n      <td>31</td>\n      <td>29</td>\n      <td>2</td>\n      <td>57</td>\n      <td>http</td>\n      <td>12496.513670</td>\n      <td>598375.062500</td>\n      <td>58</td>\n      <td>116</td>\n      <td>255</td>\n      <td>255</td>\n      <td>1289728069</td>\n      <td>3436097151</td>\n      <td>60</td>\n      <td>1432</td>\n      <td>1</td>\n      <td>79745</td>\n      <td>2868.893137</td>\n      <td>1951.035944</td>\n      <td>1424262067</td>\n      <td>1424262069</td>\n      <td>38.609700</td>\n      <td>19.133826</td>\n      <td>0.000680</td>\n      <td>0.000541</td>\n      <td>0.000139</td>\n      <td>0</td>\n      <td>0</td>\n      <td>2.0</td>\n      <td>NaN</td>\n      <td></td>\n      <td>1</td>\n      <td>1</td>\n      <td>2</td>\n      <td>4</td>\n      <td>2</td>\n      <td>2</td>\n      <td>2</td>\n      <td>NaN</td>\n      <td>0</td>\n    </tr>\n    <tr>\n      <th>2540042</th>\n      <td>440042</td>\n      <td>175.45.176.0</td>\n      <td>17293</td>\n      <td>149.171.126.17</td>\n      <td>110</td>\n      <td>tcp</td>\n      <td>CON</td>\n      <td>0.942984</td>\n      <td>574</td>\n      <td>676</td>\n      <td>62</td>\n      <td>252</td>\n      <td>5</td>\n      <td>6</td>\n      <td>pop3</td>\n      <td>4470.913574</td>\n      <td>5259.898438</td>\n      <td>12</td>\n      <td>12</td>\n      <td>255</td>\n      <td>255</td>\n      <td>3026824982</td>\n      <td>3748412468</td>\n      <td>48</td>\n      <td>56</td>\n      <td>0</td>\n      <td>0</td>\n      <td>3903.523582</td>\n      <td>95.650531</td>\n      <td>1424262068</td>\n      <td>1424262069</td>\n      <td>79.714089</td>\n      <td>80.827180</td>\n      <td>0.139446</td>\n      <td>0.053884</td>\n      <td>0.085562</td>\n      <td>0</td>\n      <td>3</td>\n      <td>NaN</td>\n      <td>NaN</td>\n      <td></td>\n      <td>1</td>\n      <td>1</td>\n      <td>2</td>\n      <td>4</td>\n      <td>2</td>\n      <td>2</td>\n      <td>2</td>\n      <td>Exploits</td>\n      <td>1</td>\n    </tr>\n  </tbody>\n</table>\n<p>2540043 rows × 50 columns</p>\n</div>"
     },
     "execution_count": 2,
     "metadata": {},
     "output_type": "execute_result"
    }
   ],
   "source": [
    "import math\n",
    "\n",
    "from pycaret.classification import *\n",
    "import numpy as np\n",
    "import pandas as pd\n",
    "import tensorflow as tf\n",
    "ds_full=pd.read_csv(\"D:\\\\Master Thesis Datasets\\\\UNSW-NB15 Source-Files\\\\UNSW-NB15 - CSV Files\\\\FULL.csv\")\n",
    "ds_full"
   ],
   "metadata": {
    "collapsed": false,
    "pycharm": {
     "name": "#%%\n"
    }
   }
  },
  {
   "cell_type": "code",
   "execution_count": 3,
   "outputs": [
    {
     "data": {
      "text/plain": "                srcip  sport           dstip dsport proto state       dur  \\\n0          59.166.0.0  33661   149.171.126.9   1024   udp   CON  0.036133   \n1          59.166.0.6   1464   149.171.126.7     53   udp   CON  0.001119   \n2          59.166.0.5   3593   149.171.126.5     53   udp   CON  0.001209   \n3          59.166.0.3  49664   149.171.126.0     53   udp   CON  0.001169   \n4          59.166.0.0  32119   149.171.126.9    111   udp   CON  0.078339   \n...               ...    ...             ...    ...   ...   ...       ...   \n2540038    59.166.0.5  33094   149.171.126.7  43433   tcp   FIN  0.087306   \n2540039    59.166.0.7  20848   149.171.126.4     21   tcp   CON  0.365058   \n2540040    59.166.0.3  21511   149.171.126.9     21   tcp   CON  6.335154   \n2540041    59.166.0.9  35433   149.171.126.0     80   tcp   CON  2.200934   \n2540042  175.45.176.0  17293  149.171.126.17    110   tcp   CON  0.942984   \n\n         sbytes  dbytes  sttl  dttl  sloss  dloss   service          Sload  \\\n0           528     304    31    29      0      0         -   87676.085940   \n1           146     178    31    29      0      0       dns  521894.531300   \n2           132     164    31    29      0      0       dns  436724.562500   \n3           146     178    31    29      0      0       dns  499572.250000   \n4           568     312    31    29      0      0         -   43503.234380   \n...         ...     ...   ...   ...    ...    ...       ...            ...   \n2540038     320    1828    31    29      1      2  ftp-data   24465.671880   \n2540039     456     346    31    29      2      2       ftp    8743.816406   \n2540040    1802    2088    31    29      7      9       ftp    2204.839844   \n2540041    3498  166054    31    29      2     57      http   12496.513670   \n2540042     574     676    62   252      5      6      pop3    4470.913574   \n\n                 Dload  Spkts  Dpkts  swin  dwin       stcpb       dtcpb  \\\n0         50480.171880      4      4     0     0           0           0   \n1        636282.375000      2      2     0     0           0           0   \n2        542597.187500      2      2     0     0           0           0   \n3        609067.562500      2      2     0     0           0           0   \n4         23896.142580      4      4     0     0           0           0   \n...                ...    ...    ...   ...   ...         ...         ...   \n2540038  146610.765600      6      8   255   255  4035116044   222196311   \n2540039    6333.240234      8      6   255   255  1529727621   185369967   \n2540040    2549.582764     32     30   255   255   497208793   889904111   \n2540041  598375.062500     58    116   255   255  1289728069  3436097151   \n2540042    5259.898438     12     12   255   255  3026824982  3748412468   \n\n         smeansz  dmeansz  trans_depth  res_bdy_len          Sjit  \\\n0            132       76            0            0      9.891010   \n1             73       89            0            0      0.000000   \n2             66       82            0            0      0.000000   \n3             73       89            0            0      0.000000   \n4            142       78            0            0     29.682221   \n...          ...      ...          ...          ...           ...   \n2540038       53      229            0            0   1221.136547   \n2540039       57       58            0            0   3961.093354   \n2540040       56       70            0            0  13233.728560   \n2540041       60     1432            1        79745   2868.893137   \n2540042       48       56            0            0   3903.523582   \n\n                Djit       Stime       Ltime     Sintpkt     Dintpkt  \\\n0          10.682733  1421927414  1421927414    7.005000    7.564333   \n1           0.000000  1421927414  1421927414    0.017000    0.013000   \n2           0.000000  1421927414  1421927414    0.043000    0.014000   \n3           0.000000  1421927414  1421927414    0.005000    0.003000   \n4          34.370340  1421927414  1421927414   21.003000   24.315000   \n...              ...         ...         ...         ...         ...   \n2540038    30.096029  1424262068  1424262069   17.394400   12.405143   \n2540039   129.038367  1424262068  1424262069   51.976999   72.915602   \n2540040   379.052750  1424262062  1424262069  204.359814  214.372375   \n2540041  1951.035944  1424262067  1424262069   38.609700   19.133826   \n2540042    95.650531  1424262068  1424262069   79.714089   80.827180   \n\n           tcprtt    synack    ackdat  is_sm_ips_ports  ct_state_ttl  \\\n0        0.000000  0.000000  0.000000                0             0   \n1        0.000000  0.000000  0.000000                0             0   \n2        0.000000  0.000000  0.000000                0             0   \n3        0.000000  0.000000  0.000000                0             0   \n4        0.000000  0.000000  0.000000                0             0   \n...           ...       ...       ...              ...           ...   \n2540038  0.000608  0.000468  0.000140                0             0   \n2540039  0.000609  0.000477  0.000132                0             0   \n2540040  0.000617  0.000485  0.000132                0             0   \n2540041  0.000680  0.000541  0.000139                0             0   \n2540042  0.139446  0.053884  0.085562                0             3   \n\n         ct_flw_http_mthd  is_ftp_login ct_ftp_cmd  ct_srv_src  ct_srv_dst  \\\n0                     0.0           0.0          0           2           4   \n1                     0.0           0.0          0          12           8   \n2                     0.0           0.0          0           6           9   \n3                     0.0           0.0          0           7           9   \n4                     0.0           0.0          0           2           4   \n...                   ...           ...        ...         ...         ...   \n2540038               NaN           NaN                      1           2   \n2540039               NaN           2.0          2           2           2   \n2540040               NaN           2.0          2           2           2   \n2540041               2.0           NaN                      1           1   \n2540042               NaN           NaN                      1           1   \n\n         ct_dst_ltm  ct_src_ ltm  ct_src_dport_ltm  ct_dst_sport_ltm  \\\n0                 2            3                 1                 1   \n1                 1            2                 2                 1   \n2                 1            1                 1                 1   \n3                 1            1                 1                 1   \n4                 2            3                 1                 1   \n...             ...          ...               ...               ...   \n2540038           3            3                 1                 1   \n2540039           2            2                 2                 2   \n2540040           4            2                 2                 2   \n2540041           2            4                 2                 2   \n2540042           2            4                 2                 2   \n\n         ct_dst_src_ltm attack_cat  label  \n0                     2        NaN      0  \n1                     1        NaN      0  \n2                     1        NaN      0  \n3                     1        NaN      0  \n4                     2        NaN      0  \n...                 ...        ...    ...  \n2540038               3        NaN      0  \n2540039               2        NaN      0  \n2540040               2        NaN      0  \n2540041               2        NaN      0  \n2540042               2   Exploits      1  \n\n[2540043 rows x 49 columns]",
      "text/html": "<div>\n<style scoped>\n    .dataframe tbody tr th:only-of-type {\n        vertical-align: middle;\n    }\n\n    .dataframe tbody tr th {\n        vertical-align: top;\n    }\n\n    .dataframe thead th {\n        text-align: right;\n    }\n</style>\n<table border=\"1\" class=\"dataframe\">\n  <thead>\n    <tr style=\"text-align: right;\">\n      <th></th>\n      <th>srcip</th>\n      <th>sport</th>\n      <th>dstip</th>\n      <th>dsport</th>\n      <th>proto</th>\n      <th>state</th>\n      <th>dur</th>\n      <th>sbytes</th>\n      <th>dbytes</th>\n      <th>sttl</th>\n      <th>dttl</th>\n      <th>sloss</th>\n      <th>dloss</th>\n      <th>service</th>\n      <th>Sload</th>\n      <th>Dload</th>\n      <th>Spkts</th>\n      <th>Dpkts</th>\n      <th>swin</th>\n      <th>dwin</th>\n      <th>stcpb</th>\n      <th>dtcpb</th>\n      <th>smeansz</th>\n      <th>dmeansz</th>\n      <th>trans_depth</th>\n      <th>res_bdy_len</th>\n      <th>Sjit</th>\n      <th>Djit</th>\n      <th>Stime</th>\n      <th>Ltime</th>\n      <th>Sintpkt</th>\n      <th>Dintpkt</th>\n      <th>tcprtt</th>\n      <th>synack</th>\n      <th>ackdat</th>\n      <th>is_sm_ips_ports</th>\n      <th>ct_state_ttl</th>\n      <th>ct_flw_http_mthd</th>\n      <th>is_ftp_login</th>\n      <th>ct_ftp_cmd</th>\n      <th>ct_srv_src</th>\n      <th>ct_srv_dst</th>\n      <th>ct_dst_ltm</th>\n      <th>ct_src_ ltm</th>\n      <th>ct_src_dport_ltm</th>\n      <th>ct_dst_sport_ltm</th>\n      <th>ct_dst_src_ltm</th>\n      <th>attack_cat</th>\n      <th>label</th>\n    </tr>\n  </thead>\n  <tbody>\n    <tr>\n      <th>0</th>\n      <td>59.166.0.0</td>\n      <td>33661</td>\n      <td>149.171.126.9</td>\n      <td>1024</td>\n      <td>udp</td>\n      <td>CON</td>\n      <td>0.036133</td>\n      <td>528</td>\n      <td>304</td>\n      <td>31</td>\n      <td>29</td>\n      <td>0</td>\n      <td>0</td>\n      <td>-</td>\n      <td>87676.085940</td>\n      <td>50480.171880</td>\n      <td>4</td>\n      <td>4</td>\n      <td>0</td>\n      <td>0</td>\n      <td>0</td>\n      <td>0</td>\n      <td>132</td>\n      <td>76</td>\n      <td>0</td>\n      <td>0</td>\n      <td>9.891010</td>\n      <td>10.682733</td>\n      <td>1421927414</td>\n      <td>1421927414</td>\n      <td>7.005000</td>\n      <td>7.564333</td>\n      <td>0.000000</td>\n      <td>0.000000</td>\n      <td>0.000000</td>\n      <td>0</td>\n      <td>0</td>\n      <td>0.0</td>\n      <td>0.0</td>\n      <td>0</td>\n      <td>2</td>\n      <td>4</td>\n      <td>2</td>\n      <td>3</td>\n      <td>1</td>\n      <td>1</td>\n      <td>2</td>\n      <td>NaN</td>\n      <td>0</td>\n    </tr>\n    <tr>\n      <th>1</th>\n      <td>59.166.0.6</td>\n      <td>1464</td>\n      <td>149.171.126.7</td>\n      <td>53</td>\n      <td>udp</td>\n      <td>CON</td>\n      <td>0.001119</td>\n      <td>146</td>\n      <td>178</td>\n      <td>31</td>\n      <td>29</td>\n      <td>0</td>\n      <td>0</td>\n      <td>dns</td>\n      <td>521894.531300</td>\n      <td>636282.375000</td>\n      <td>2</td>\n      <td>2</td>\n      <td>0</td>\n      <td>0</td>\n      <td>0</td>\n      <td>0</td>\n      <td>73</td>\n      <td>89</td>\n      <td>0</td>\n      <td>0</td>\n      <td>0.000000</td>\n      <td>0.000000</td>\n      <td>1421927414</td>\n      <td>1421927414</td>\n      <td>0.017000</td>\n      <td>0.013000</td>\n      <td>0.000000</td>\n      <td>0.000000</td>\n      <td>0.000000</td>\n      <td>0</td>\n      <td>0</td>\n      <td>0.0</td>\n      <td>0.0</td>\n      <td>0</td>\n      <td>12</td>\n      <td>8</td>\n      <td>1</td>\n      <td>2</td>\n      <td>2</td>\n      <td>1</td>\n      <td>1</td>\n      <td>NaN</td>\n      <td>0</td>\n    </tr>\n    <tr>\n      <th>2</th>\n      <td>59.166.0.5</td>\n      <td>3593</td>\n      <td>149.171.126.5</td>\n      <td>53</td>\n      <td>udp</td>\n      <td>CON</td>\n      <td>0.001209</td>\n      <td>132</td>\n      <td>164</td>\n      <td>31</td>\n      <td>29</td>\n      <td>0</td>\n      <td>0</td>\n      <td>dns</td>\n      <td>436724.562500</td>\n      <td>542597.187500</td>\n      <td>2</td>\n      <td>2</td>\n      <td>0</td>\n      <td>0</td>\n      <td>0</td>\n      <td>0</td>\n      <td>66</td>\n      <td>82</td>\n      <td>0</td>\n      <td>0</td>\n      <td>0.000000</td>\n      <td>0.000000</td>\n      <td>1421927414</td>\n      <td>1421927414</td>\n      <td>0.043000</td>\n      <td>0.014000</td>\n      <td>0.000000</td>\n      <td>0.000000</td>\n      <td>0.000000</td>\n      <td>0</td>\n      <td>0</td>\n      <td>0.0</td>\n      <td>0.0</td>\n      <td>0</td>\n      <td>6</td>\n      <td>9</td>\n      <td>1</td>\n      <td>1</td>\n      <td>1</td>\n      <td>1</td>\n      <td>1</td>\n      <td>NaN</td>\n      <td>0</td>\n    </tr>\n    <tr>\n      <th>3</th>\n      <td>59.166.0.3</td>\n      <td>49664</td>\n      <td>149.171.126.0</td>\n      <td>53</td>\n      <td>udp</td>\n      <td>CON</td>\n      <td>0.001169</td>\n      <td>146</td>\n      <td>178</td>\n      <td>31</td>\n      <td>29</td>\n      <td>0</td>\n      <td>0</td>\n      <td>dns</td>\n      <td>499572.250000</td>\n      <td>609067.562500</td>\n      <td>2</td>\n      <td>2</td>\n      <td>0</td>\n      <td>0</td>\n      <td>0</td>\n      <td>0</td>\n      <td>73</td>\n      <td>89</td>\n      <td>0</td>\n      <td>0</td>\n      <td>0.000000</td>\n      <td>0.000000</td>\n      <td>1421927414</td>\n      <td>1421927414</td>\n      <td>0.005000</td>\n      <td>0.003000</td>\n      <td>0.000000</td>\n      <td>0.000000</td>\n      <td>0.000000</td>\n      <td>0</td>\n      <td>0</td>\n      <td>0.0</td>\n      <td>0.0</td>\n      <td>0</td>\n      <td>7</td>\n      <td>9</td>\n      <td>1</td>\n      <td>1</td>\n      <td>1</td>\n      <td>1</td>\n      <td>1</td>\n      <td>NaN</td>\n      <td>0</td>\n    </tr>\n    <tr>\n      <th>4</th>\n      <td>59.166.0.0</td>\n      <td>32119</td>\n      <td>149.171.126.9</td>\n      <td>111</td>\n      <td>udp</td>\n      <td>CON</td>\n      <td>0.078339</td>\n      <td>568</td>\n      <td>312</td>\n      <td>31</td>\n      <td>29</td>\n      <td>0</td>\n      <td>0</td>\n      <td>-</td>\n      <td>43503.234380</td>\n      <td>23896.142580</td>\n      <td>4</td>\n      <td>4</td>\n      <td>0</td>\n      <td>0</td>\n      <td>0</td>\n      <td>0</td>\n      <td>142</td>\n      <td>78</td>\n      <td>0</td>\n      <td>0</td>\n      <td>29.682221</td>\n      <td>34.370340</td>\n      <td>1421927414</td>\n      <td>1421927414</td>\n      <td>21.003000</td>\n      <td>24.315000</td>\n      <td>0.000000</td>\n      <td>0.000000</td>\n      <td>0.000000</td>\n      <td>0</td>\n      <td>0</td>\n      <td>0.0</td>\n      <td>0.0</td>\n      <td>0</td>\n      <td>2</td>\n      <td>4</td>\n      <td>2</td>\n      <td>3</td>\n      <td>1</td>\n      <td>1</td>\n      <td>2</td>\n      <td>NaN</td>\n      <td>0</td>\n    </tr>\n    <tr>\n      <th>...</th>\n      <td>...</td>\n      <td>...</td>\n      <td>...</td>\n      <td>...</td>\n      <td>...</td>\n      <td>...</td>\n      <td>...</td>\n      <td>...</td>\n      <td>...</td>\n      <td>...</td>\n      <td>...</td>\n      <td>...</td>\n      <td>...</td>\n      <td>...</td>\n      <td>...</td>\n      <td>...</td>\n      <td>...</td>\n      <td>...</td>\n      <td>...</td>\n      <td>...</td>\n      <td>...</td>\n      <td>...</td>\n      <td>...</td>\n      <td>...</td>\n      <td>...</td>\n      <td>...</td>\n      <td>...</td>\n      <td>...</td>\n      <td>...</td>\n      <td>...</td>\n      <td>...</td>\n      <td>...</td>\n      <td>...</td>\n      <td>...</td>\n      <td>...</td>\n      <td>...</td>\n      <td>...</td>\n      <td>...</td>\n      <td>...</td>\n      <td>...</td>\n      <td>...</td>\n      <td>...</td>\n      <td>...</td>\n      <td>...</td>\n      <td>...</td>\n      <td>...</td>\n      <td>...</td>\n      <td>...</td>\n      <td>...</td>\n    </tr>\n    <tr>\n      <th>2540038</th>\n      <td>59.166.0.5</td>\n      <td>33094</td>\n      <td>149.171.126.7</td>\n      <td>43433</td>\n      <td>tcp</td>\n      <td>FIN</td>\n      <td>0.087306</td>\n      <td>320</td>\n      <td>1828</td>\n      <td>31</td>\n      <td>29</td>\n      <td>1</td>\n      <td>2</td>\n      <td>ftp-data</td>\n      <td>24465.671880</td>\n      <td>146610.765600</td>\n      <td>6</td>\n      <td>8</td>\n      <td>255</td>\n      <td>255</td>\n      <td>4035116044</td>\n      <td>222196311</td>\n      <td>53</td>\n      <td>229</td>\n      <td>0</td>\n      <td>0</td>\n      <td>1221.136547</td>\n      <td>30.096029</td>\n      <td>1424262068</td>\n      <td>1424262069</td>\n      <td>17.394400</td>\n      <td>12.405143</td>\n      <td>0.000608</td>\n      <td>0.000468</td>\n      <td>0.000140</td>\n      <td>0</td>\n      <td>0</td>\n      <td>NaN</td>\n      <td>NaN</td>\n      <td></td>\n      <td>1</td>\n      <td>2</td>\n      <td>3</td>\n      <td>3</td>\n      <td>1</td>\n      <td>1</td>\n      <td>3</td>\n      <td>NaN</td>\n      <td>0</td>\n    </tr>\n    <tr>\n      <th>2540039</th>\n      <td>59.166.0.7</td>\n      <td>20848</td>\n      <td>149.171.126.4</td>\n      <td>21</td>\n      <td>tcp</td>\n      <td>CON</td>\n      <td>0.365058</td>\n      <td>456</td>\n      <td>346</td>\n      <td>31</td>\n      <td>29</td>\n      <td>2</td>\n      <td>2</td>\n      <td>ftp</td>\n      <td>8743.816406</td>\n      <td>6333.240234</td>\n      <td>8</td>\n      <td>6</td>\n      <td>255</td>\n      <td>255</td>\n      <td>1529727621</td>\n      <td>185369967</td>\n      <td>57</td>\n      <td>58</td>\n      <td>0</td>\n      <td>0</td>\n      <td>3961.093354</td>\n      <td>129.038367</td>\n      <td>1424262068</td>\n      <td>1424262069</td>\n      <td>51.976999</td>\n      <td>72.915602</td>\n      <td>0.000609</td>\n      <td>0.000477</td>\n      <td>0.000132</td>\n      <td>0</td>\n      <td>0</td>\n      <td>NaN</td>\n      <td>2.0</td>\n      <td>2</td>\n      <td>2</td>\n      <td>2</td>\n      <td>2</td>\n      <td>2</td>\n      <td>2</td>\n      <td>2</td>\n      <td>2</td>\n      <td>NaN</td>\n      <td>0</td>\n    </tr>\n    <tr>\n      <th>2540040</th>\n      <td>59.166.0.3</td>\n      <td>21511</td>\n      <td>149.171.126.9</td>\n      <td>21</td>\n      <td>tcp</td>\n      <td>CON</td>\n      <td>6.335154</td>\n      <td>1802</td>\n      <td>2088</td>\n      <td>31</td>\n      <td>29</td>\n      <td>7</td>\n      <td>9</td>\n      <td>ftp</td>\n      <td>2204.839844</td>\n      <td>2549.582764</td>\n      <td>32</td>\n      <td>30</td>\n      <td>255</td>\n      <td>255</td>\n      <td>497208793</td>\n      <td>889904111</td>\n      <td>56</td>\n      <td>70</td>\n      <td>0</td>\n      <td>0</td>\n      <td>13233.728560</td>\n      <td>379.052750</td>\n      <td>1424262062</td>\n      <td>1424262069</td>\n      <td>204.359814</td>\n      <td>214.372375</td>\n      <td>0.000617</td>\n      <td>0.000485</td>\n      <td>0.000132</td>\n      <td>0</td>\n      <td>0</td>\n      <td>NaN</td>\n      <td>2.0</td>\n      <td>2</td>\n      <td>2</td>\n      <td>2</td>\n      <td>4</td>\n      <td>2</td>\n      <td>2</td>\n      <td>2</td>\n      <td>2</td>\n      <td>NaN</td>\n      <td>0</td>\n    </tr>\n    <tr>\n      <th>2540041</th>\n      <td>59.166.0.9</td>\n      <td>35433</td>\n      <td>149.171.126.0</td>\n      <td>80</td>\n      <td>tcp</td>\n      <td>CON</td>\n      <td>2.200934</td>\n      <td>3498</td>\n      <td>166054</td>\n      <td>31</td>\n      <td>29</td>\n      <td>2</td>\n      <td>57</td>\n      <td>http</td>\n      <td>12496.513670</td>\n      <td>598375.062500</td>\n      <td>58</td>\n      <td>116</td>\n      <td>255</td>\n      <td>255</td>\n      <td>1289728069</td>\n      <td>3436097151</td>\n      <td>60</td>\n      <td>1432</td>\n      <td>1</td>\n      <td>79745</td>\n      <td>2868.893137</td>\n      <td>1951.035944</td>\n      <td>1424262067</td>\n      <td>1424262069</td>\n      <td>38.609700</td>\n      <td>19.133826</td>\n      <td>0.000680</td>\n      <td>0.000541</td>\n      <td>0.000139</td>\n      <td>0</td>\n      <td>0</td>\n      <td>2.0</td>\n      <td>NaN</td>\n      <td></td>\n      <td>1</td>\n      <td>1</td>\n      <td>2</td>\n      <td>4</td>\n      <td>2</td>\n      <td>2</td>\n      <td>2</td>\n      <td>NaN</td>\n      <td>0</td>\n    </tr>\n    <tr>\n      <th>2540042</th>\n      <td>175.45.176.0</td>\n      <td>17293</td>\n      <td>149.171.126.17</td>\n      <td>110</td>\n      <td>tcp</td>\n      <td>CON</td>\n      <td>0.942984</td>\n      <td>574</td>\n      <td>676</td>\n      <td>62</td>\n      <td>252</td>\n      <td>5</td>\n      <td>6</td>\n      <td>pop3</td>\n      <td>4470.913574</td>\n      <td>5259.898438</td>\n      <td>12</td>\n      <td>12</td>\n      <td>255</td>\n      <td>255</td>\n      <td>3026824982</td>\n      <td>3748412468</td>\n      <td>48</td>\n      <td>56</td>\n      <td>0</td>\n      <td>0</td>\n      <td>3903.523582</td>\n      <td>95.650531</td>\n      <td>1424262068</td>\n      <td>1424262069</td>\n      <td>79.714089</td>\n      <td>80.827180</td>\n      <td>0.139446</td>\n      <td>0.053884</td>\n      <td>0.085562</td>\n      <td>0</td>\n      <td>3</td>\n      <td>NaN</td>\n      <td>NaN</td>\n      <td></td>\n      <td>1</td>\n      <td>1</td>\n      <td>2</td>\n      <td>4</td>\n      <td>2</td>\n      <td>2</td>\n      <td>2</td>\n      <td>Exploits</td>\n      <td>1</td>\n    </tr>\n  </tbody>\n</table>\n<p>2540043 rows × 49 columns</p>\n</div>"
     },
     "execution_count": 3,
     "metadata": {},
     "output_type": "execute_result"
    }
   ],
   "source": [
    "ds_full.drop(columns=\"Unnamed: 0\",inplace=True)\n",
    "ds_full"
   ],
   "metadata": {
    "collapsed": false,
    "pycharm": {
     "name": "#%%\n"
    }
   }
  },
  {
   "cell_type": "code",
   "execution_count": 4,
   "outputs": [
    {
     "data": {
      "text/plain": "480625"
     },
     "execution_count": 4,
     "metadata": {},
     "output_type": "execute_result"
    }
   ],
   "source": [
    "# see how many duplicates\n",
    "ds_full.duplicated().sum()"
   ],
   "metadata": {
    "collapsed": false,
    "pycharm": {
     "name": "#%%\n"
    }
   }
  },
  {
   "cell_type": "code",
   "execution_count": 5,
   "outputs": [
    {
     "data": {
      "text/plain": "                srcip  sport           dstip dsport proto state       dur  \\\n0          59.166.0.0  33661   149.171.126.9   1024   udp   CON  0.036133   \n1          59.166.0.6   1464   149.171.126.7     53   udp   CON  0.001119   \n2          59.166.0.5   3593   149.171.126.5     53   udp   CON  0.001209   \n3          59.166.0.3  49664   149.171.126.0     53   udp   CON  0.001169   \n4          59.166.0.0  32119   149.171.126.9    111   udp   CON  0.078339   \n...               ...    ...             ...    ...   ...   ...       ...   \n2540035    59.166.0.1  38606   149.171.126.9     80   tcp   CON  0.564998   \n2540037    59.166.0.1  38606   149.171.126.9     80   tcp   CON  0.564998   \n2540038    59.166.0.5  33094   149.171.126.7  43433   tcp   FIN  0.087306   \n2540041    59.166.0.9  35433   149.171.126.0     80   tcp   CON  2.200934   \n2540042  175.45.176.0  17293  149.171.126.17    110   tcp   CON  0.942984   \n\n         sbytes  dbytes  sttl  dttl  sloss  dloss   service          Sload  \\\n0           528     304    31    29      0      0         -   87676.085940   \n1           146     178    31    29      0      0       dns  521894.531300   \n2           132     164    31    29      0      0       dns  436724.562500   \n3           146     178    31    29      0      0       dns  499572.250000   \n4           568     312    31    29      0      0         -   43503.234380   \n...         ...     ...   ...   ...    ...    ...       ...            ...   \n2540035   14106  772406    31    29      2    262      http  198981.250000   \n2540037   14106  772406    31    29      2    262         -  198981.250000   \n2540038     320    1828    31    29      1      2  ftp-data   24465.671880   \n2540041    3498  166054    31    29      2     57      http   12496.513670   \n2540042     574     676    62   252      5      6      pop3    4470.913574   \n\n                Dload  Spkts  Dpkts  swin  dwin       stcpb       dtcpb  \\\n0        5.048017e+04      4      4     0     0           0           0   \n1        6.362824e+05      2      2     0     0           0           0   \n2        5.425972e+05      2      2     0     0           0           0   \n3        6.090676e+05      2      2     0     0           0           0   \n4        2.389614e+04      4      4     0     0           0           0   \n...               ...    ...    ...   ...   ...         ...         ...   \n2540035  1.091598e+07    262    526   255   255   162243658   163257853   \n2540037  1.091598e+07    262    526   255   255   162243658   163257853   \n2540038  1.466108e+05      6      8   255   255  4035116044   222196311   \n2540041  5.983751e+05     58    116   255   255  1289728069  3436097151   \n2540042  5.259898e+03     12     12   255   255  3026824982  3748412468   \n\n         smeansz  dmeansz  trans_depth  res_bdy_len         Sjit         Djit  \\\n0            132       76            0            0     9.891010    10.682733   \n1             73       89            0            0     0.000000     0.000000   \n2             66       82            0            0     0.000000     0.000000   \n3             73       89            0            0     0.000000     0.000000   \n4            142       78            0            0    29.682221    34.370340   \n...          ...      ...          ...          ...          ...          ...   \n2540035       54     1468            1       372266   116.321921    69.874077   \n2540037       54     1468            1       372266   116.321921    69.874077   \n2540038       53      229            0            0  1221.136547    30.096029   \n2540041       60     1432            1        79745  2868.893137  1951.035944   \n2540042       48       56            0            0  3903.523582    95.650531   \n\n              Stime       Ltime    Sintpkt    Dintpkt    tcprtt    synack  \\\n0        1421927414  1421927414   7.005000   7.564333  0.000000  0.000000   \n1        1421927414  1421927414   0.017000   0.013000  0.000000  0.000000   \n2        1421927414  1421927414   0.043000   0.014000  0.000000  0.000000   \n3        1421927414  1421927414   0.005000   0.003000  0.000000  0.000000   \n4        1421927414  1421927414  21.003000  24.315000  0.000000  0.000000   \n...             ...         ...        ...        ...       ...       ...   \n2540035  1424262068  1424262069   2.123130   1.075171  0.000669  0.000530   \n2540037  1424262068  1424262069   2.123130   1.075171  0.000669  0.000530   \n2540038  1424262068  1424262069  17.394400  12.405143  0.000608  0.000468   \n2540041  1424262067  1424262069  38.609700  19.133826  0.000680  0.000541   \n2540042  1424262068  1424262069  79.714089  80.827180  0.139446  0.053884   \n\n           ackdat  is_sm_ips_ports  ct_state_ttl  ct_flw_http_mthd  \\\n0        0.000000                0             0               0.0   \n1        0.000000                0             0               0.0   \n2        0.000000                0             0               0.0   \n3        0.000000                0             0               0.0   \n4        0.000000                0             0               0.0   \n...           ...              ...           ...               ...   \n2540035  0.000139                0             0               2.0   \n2540037  0.000139                0             0               2.0   \n2540038  0.000140                0             0               NaN   \n2540041  0.000139                0             0               2.0   \n2540042  0.085562                0             3               NaN   \n\n         is_ftp_login ct_ftp_cmd  ct_srv_src  ct_srv_dst  ct_dst_ltm  \\\n0                 0.0          0           2           4           2   \n1                 0.0          0          12           8           1   \n2                 0.0          0           6           9           1   \n3                 0.0          0           7           9           1   \n4                 0.0          0           2           4           2   \n...               ...        ...         ...         ...         ...   \n2540035           NaN                      1           1           4   \n2540037           NaN                      2           1           4   \n2540038           NaN                      1           2           3   \n2540041           NaN                      1           1           2   \n2540042           NaN                      1           1           2   \n\n         ct_src_ ltm  ct_src_dport_ltm  ct_dst_sport_ltm  ct_dst_src_ltm  \\\n0                  3                 1                 1               2   \n1                  2                 2                 1               1   \n2                  1                 1                 1               1   \n3                  1                 1                 1               1   \n4                  3                 1                 1               2   \n...              ...               ...               ...             ...   \n2540035            2                 2                 2               2   \n2540037            2                 2                 2               2   \n2540038            3                 1                 1               3   \n2540041            4                 2                 2               2   \n2540042            4                 2                 2               2   \n\n        attack_cat  label  \n0              NaN      0  \n1              NaN      0  \n2              NaN      0  \n3              NaN      0  \n4              NaN      0  \n...            ...    ...  \n2540035        NaN      0  \n2540037        NaN      0  \n2540038        NaN      0  \n2540041        NaN      0  \n2540042   Exploits      1  \n\n[2059418 rows x 49 columns]",
      "text/html": "<div>\n<style scoped>\n    .dataframe tbody tr th:only-of-type {\n        vertical-align: middle;\n    }\n\n    .dataframe tbody tr th {\n        vertical-align: top;\n    }\n\n    .dataframe thead th {\n        text-align: right;\n    }\n</style>\n<table border=\"1\" class=\"dataframe\">\n  <thead>\n    <tr style=\"text-align: right;\">\n      <th></th>\n      <th>srcip</th>\n      <th>sport</th>\n      <th>dstip</th>\n      <th>dsport</th>\n      <th>proto</th>\n      <th>state</th>\n      <th>dur</th>\n      <th>sbytes</th>\n      <th>dbytes</th>\n      <th>sttl</th>\n      <th>dttl</th>\n      <th>sloss</th>\n      <th>dloss</th>\n      <th>service</th>\n      <th>Sload</th>\n      <th>Dload</th>\n      <th>Spkts</th>\n      <th>Dpkts</th>\n      <th>swin</th>\n      <th>dwin</th>\n      <th>stcpb</th>\n      <th>dtcpb</th>\n      <th>smeansz</th>\n      <th>dmeansz</th>\n      <th>trans_depth</th>\n      <th>res_bdy_len</th>\n      <th>Sjit</th>\n      <th>Djit</th>\n      <th>Stime</th>\n      <th>Ltime</th>\n      <th>Sintpkt</th>\n      <th>Dintpkt</th>\n      <th>tcprtt</th>\n      <th>synack</th>\n      <th>ackdat</th>\n      <th>is_sm_ips_ports</th>\n      <th>ct_state_ttl</th>\n      <th>ct_flw_http_mthd</th>\n      <th>is_ftp_login</th>\n      <th>ct_ftp_cmd</th>\n      <th>ct_srv_src</th>\n      <th>ct_srv_dst</th>\n      <th>ct_dst_ltm</th>\n      <th>ct_src_ ltm</th>\n      <th>ct_src_dport_ltm</th>\n      <th>ct_dst_sport_ltm</th>\n      <th>ct_dst_src_ltm</th>\n      <th>attack_cat</th>\n      <th>label</th>\n    </tr>\n  </thead>\n  <tbody>\n    <tr>\n      <th>0</th>\n      <td>59.166.0.0</td>\n      <td>33661</td>\n      <td>149.171.126.9</td>\n      <td>1024</td>\n      <td>udp</td>\n      <td>CON</td>\n      <td>0.036133</td>\n      <td>528</td>\n      <td>304</td>\n      <td>31</td>\n      <td>29</td>\n      <td>0</td>\n      <td>0</td>\n      <td>-</td>\n      <td>87676.085940</td>\n      <td>5.048017e+04</td>\n      <td>4</td>\n      <td>4</td>\n      <td>0</td>\n      <td>0</td>\n      <td>0</td>\n      <td>0</td>\n      <td>132</td>\n      <td>76</td>\n      <td>0</td>\n      <td>0</td>\n      <td>9.891010</td>\n      <td>10.682733</td>\n      <td>1421927414</td>\n      <td>1421927414</td>\n      <td>7.005000</td>\n      <td>7.564333</td>\n      <td>0.000000</td>\n      <td>0.000000</td>\n      <td>0.000000</td>\n      <td>0</td>\n      <td>0</td>\n      <td>0.0</td>\n      <td>0.0</td>\n      <td>0</td>\n      <td>2</td>\n      <td>4</td>\n      <td>2</td>\n      <td>3</td>\n      <td>1</td>\n      <td>1</td>\n      <td>2</td>\n      <td>NaN</td>\n      <td>0</td>\n    </tr>\n    <tr>\n      <th>1</th>\n      <td>59.166.0.6</td>\n      <td>1464</td>\n      <td>149.171.126.7</td>\n      <td>53</td>\n      <td>udp</td>\n      <td>CON</td>\n      <td>0.001119</td>\n      <td>146</td>\n      <td>178</td>\n      <td>31</td>\n      <td>29</td>\n      <td>0</td>\n      <td>0</td>\n      <td>dns</td>\n      <td>521894.531300</td>\n      <td>6.362824e+05</td>\n      <td>2</td>\n      <td>2</td>\n      <td>0</td>\n      <td>0</td>\n      <td>0</td>\n      <td>0</td>\n      <td>73</td>\n      <td>89</td>\n      <td>0</td>\n      <td>0</td>\n      <td>0.000000</td>\n      <td>0.000000</td>\n      <td>1421927414</td>\n      <td>1421927414</td>\n      <td>0.017000</td>\n      <td>0.013000</td>\n      <td>0.000000</td>\n      <td>0.000000</td>\n      <td>0.000000</td>\n      <td>0</td>\n      <td>0</td>\n      <td>0.0</td>\n      <td>0.0</td>\n      <td>0</td>\n      <td>12</td>\n      <td>8</td>\n      <td>1</td>\n      <td>2</td>\n      <td>2</td>\n      <td>1</td>\n      <td>1</td>\n      <td>NaN</td>\n      <td>0</td>\n    </tr>\n    <tr>\n      <th>2</th>\n      <td>59.166.0.5</td>\n      <td>3593</td>\n      <td>149.171.126.5</td>\n      <td>53</td>\n      <td>udp</td>\n      <td>CON</td>\n      <td>0.001209</td>\n      <td>132</td>\n      <td>164</td>\n      <td>31</td>\n      <td>29</td>\n      <td>0</td>\n      <td>0</td>\n      <td>dns</td>\n      <td>436724.562500</td>\n      <td>5.425972e+05</td>\n      <td>2</td>\n      <td>2</td>\n      <td>0</td>\n      <td>0</td>\n      <td>0</td>\n      <td>0</td>\n      <td>66</td>\n      <td>82</td>\n      <td>0</td>\n      <td>0</td>\n      <td>0.000000</td>\n      <td>0.000000</td>\n      <td>1421927414</td>\n      <td>1421927414</td>\n      <td>0.043000</td>\n      <td>0.014000</td>\n      <td>0.000000</td>\n      <td>0.000000</td>\n      <td>0.000000</td>\n      <td>0</td>\n      <td>0</td>\n      <td>0.0</td>\n      <td>0.0</td>\n      <td>0</td>\n      <td>6</td>\n      <td>9</td>\n      <td>1</td>\n      <td>1</td>\n      <td>1</td>\n      <td>1</td>\n      <td>1</td>\n      <td>NaN</td>\n      <td>0</td>\n    </tr>\n    <tr>\n      <th>3</th>\n      <td>59.166.0.3</td>\n      <td>49664</td>\n      <td>149.171.126.0</td>\n      <td>53</td>\n      <td>udp</td>\n      <td>CON</td>\n      <td>0.001169</td>\n      <td>146</td>\n      <td>178</td>\n      <td>31</td>\n      <td>29</td>\n      <td>0</td>\n      <td>0</td>\n      <td>dns</td>\n      <td>499572.250000</td>\n      <td>6.090676e+05</td>\n      <td>2</td>\n      <td>2</td>\n      <td>0</td>\n      <td>0</td>\n      <td>0</td>\n      <td>0</td>\n      <td>73</td>\n      <td>89</td>\n      <td>0</td>\n      <td>0</td>\n      <td>0.000000</td>\n      <td>0.000000</td>\n      <td>1421927414</td>\n      <td>1421927414</td>\n      <td>0.005000</td>\n      <td>0.003000</td>\n      <td>0.000000</td>\n      <td>0.000000</td>\n      <td>0.000000</td>\n      <td>0</td>\n      <td>0</td>\n      <td>0.0</td>\n      <td>0.0</td>\n      <td>0</td>\n      <td>7</td>\n      <td>9</td>\n      <td>1</td>\n      <td>1</td>\n      <td>1</td>\n      <td>1</td>\n      <td>1</td>\n      <td>NaN</td>\n      <td>0</td>\n    </tr>\n    <tr>\n      <th>4</th>\n      <td>59.166.0.0</td>\n      <td>32119</td>\n      <td>149.171.126.9</td>\n      <td>111</td>\n      <td>udp</td>\n      <td>CON</td>\n      <td>0.078339</td>\n      <td>568</td>\n      <td>312</td>\n      <td>31</td>\n      <td>29</td>\n      <td>0</td>\n      <td>0</td>\n      <td>-</td>\n      <td>43503.234380</td>\n      <td>2.389614e+04</td>\n      <td>4</td>\n      <td>4</td>\n      <td>0</td>\n      <td>0</td>\n      <td>0</td>\n      <td>0</td>\n      <td>142</td>\n      <td>78</td>\n      <td>0</td>\n      <td>0</td>\n      <td>29.682221</td>\n      <td>34.370340</td>\n      <td>1421927414</td>\n      <td>1421927414</td>\n      <td>21.003000</td>\n      <td>24.315000</td>\n      <td>0.000000</td>\n      <td>0.000000</td>\n      <td>0.000000</td>\n      <td>0</td>\n      <td>0</td>\n      <td>0.0</td>\n      <td>0.0</td>\n      <td>0</td>\n      <td>2</td>\n      <td>4</td>\n      <td>2</td>\n      <td>3</td>\n      <td>1</td>\n      <td>1</td>\n      <td>2</td>\n      <td>NaN</td>\n      <td>0</td>\n    </tr>\n    <tr>\n      <th>...</th>\n      <td>...</td>\n      <td>...</td>\n      <td>...</td>\n      <td>...</td>\n      <td>...</td>\n      <td>...</td>\n      <td>...</td>\n      <td>...</td>\n      <td>...</td>\n      <td>...</td>\n      <td>...</td>\n      <td>...</td>\n      <td>...</td>\n      <td>...</td>\n      <td>...</td>\n      <td>...</td>\n      <td>...</td>\n      <td>...</td>\n      <td>...</td>\n      <td>...</td>\n      <td>...</td>\n      <td>...</td>\n      <td>...</td>\n      <td>...</td>\n      <td>...</td>\n      <td>...</td>\n      <td>...</td>\n      <td>...</td>\n      <td>...</td>\n      <td>...</td>\n      <td>...</td>\n      <td>...</td>\n      <td>...</td>\n      <td>...</td>\n      <td>...</td>\n      <td>...</td>\n      <td>...</td>\n      <td>...</td>\n      <td>...</td>\n      <td>...</td>\n      <td>...</td>\n      <td>...</td>\n      <td>...</td>\n      <td>...</td>\n      <td>...</td>\n      <td>...</td>\n      <td>...</td>\n      <td>...</td>\n      <td>...</td>\n    </tr>\n    <tr>\n      <th>2540035</th>\n      <td>59.166.0.1</td>\n      <td>38606</td>\n      <td>149.171.126.9</td>\n      <td>80</td>\n      <td>tcp</td>\n      <td>CON</td>\n      <td>0.564998</td>\n      <td>14106</td>\n      <td>772406</td>\n      <td>31</td>\n      <td>29</td>\n      <td>2</td>\n      <td>262</td>\n      <td>http</td>\n      <td>198981.250000</td>\n      <td>1.091598e+07</td>\n      <td>262</td>\n      <td>526</td>\n      <td>255</td>\n      <td>255</td>\n      <td>162243658</td>\n      <td>163257853</td>\n      <td>54</td>\n      <td>1468</td>\n      <td>1</td>\n      <td>372266</td>\n      <td>116.321921</td>\n      <td>69.874077</td>\n      <td>1424262068</td>\n      <td>1424262069</td>\n      <td>2.123130</td>\n      <td>1.075171</td>\n      <td>0.000669</td>\n      <td>0.000530</td>\n      <td>0.000139</td>\n      <td>0</td>\n      <td>0</td>\n      <td>2.0</td>\n      <td>NaN</td>\n      <td></td>\n      <td>1</td>\n      <td>1</td>\n      <td>4</td>\n      <td>2</td>\n      <td>2</td>\n      <td>2</td>\n      <td>2</td>\n      <td>NaN</td>\n      <td>0</td>\n    </tr>\n    <tr>\n      <th>2540037</th>\n      <td>59.166.0.1</td>\n      <td>38606</td>\n      <td>149.171.126.9</td>\n      <td>80</td>\n      <td>tcp</td>\n      <td>CON</td>\n      <td>0.564998</td>\n      <td>14106</td>\n      <td>772406</td>\n      <td>31</td>\n      <td>29</td>\n      <td>2</td>\n      <td>262</td>\n      <td>-</td>\n      <td>198981.250000</td>\n      <td>1.091598e+07</td>\n      <td>262</td>\n      <td>526</td>\n      <td>255</td>\n      <td>255</td>\n      <td>162243658</td>\n      <td>163257853</td>\n      <td>54</td>\n      <td>1468</td>\n      <td>1</td>\n      <td>372266</td>\n      <td>116.321921</td>\n      <td>69.874077</td>\n      <td>1424262068</td>\n      <td>1424262069</td>\n      <td>2.123130</td>\n      <td>1.075171</td>\n      <td>0.000669</td>\n      <td>0.000530</td>\n      <td>0.000139</td>\n      <td>0</td>\n      <td>0</td>\n      <td>2.0</td>\n      <td>NaN</td>\n      <td></td>\n      <td>2</td>\n      <td>1</td>\n      <td>4</td>\n      <td>2</td>\n      <td>2</td>\n      <td>2</td>\n      <td>2</td>\n      <td>NaN</td>\n      <td>0</td>\n    </tr>\n    <tr>\n      <th>2540038</th>\n      <td>59.166.0.5</td>\n      <td>33094</td>\n      <td>149.171.126.7</td>\n      <td>43433</td>\n      <td>tcp</td>\n      <td>FIN</td>\n      <td>0.087306</td>\n      <td>320</td>\n      <td>1828</td>\n      <td>31</td>\n      <td>29</td>\n      <td>1</td>\n      <td>2</td>\n      <td>ftp-data</td>\n      <td>24465.671880</td>\n      <td>1.466108e+05</td>\n      <td>6</td>\n      <td>8</td>\n      <td>255</td>\n      <td>255</td>\n      <td>4035116044</td>\n      <td>222196311</td>\n      <td>53</td>\n      <td>229</td>\n      <td>0</td>\n      <td>0</td>\n      <td>1221.136547</td>\n      <td>30.096029</td>\n      <td>1424262068</td>\n      <td>1424262069</td>\n      <td>17.394400</td>\n      <td>12.405143</td>\n      <td>0.000608</td>\n      <td>0.000468</td>\n      <td>0.000140</td>\n      <td>0</td>\n      <td>0</td>\n      <td>NaN</td>\n      <td>NaN</td>\n      <td></td>\n      <td>1</td>\n      <td>2</td>\n      <td>3</td>\n      <td>3</td>\n      <td>1</td>\n      <td>1</td>\n      <td>3</td>\n      <td>NaN</td>\n      <td>0</td>\n    </tr>\n    <tr>\n      <th>2540041</th>\n      <td>59.166.0.9</td>\n      <td>35433</td>\n      <td>149.171.126.0</td>\n      <td>80</td>\n      <td>tcp</td>\n      <td>CON</td>\n      <td>2.200934</td>\n      <td>3498</td>\n      <td>166054</td>\n      <td>31</td>\n      <td>29</td>\n      <td>2</td>\n      <td>57</td>\n      <td>http</td>\n      <td>12496.513670</td>\n      <td>5.983751e+05</td>\n      <td>58</td>\n      <td>116</td>\n      <td>255</td>\n      <td>255</td>\n      <td>1289728069</td>\n      <td>3436097151</td>\n      <td>60</td>\n      <td>1432</td>\n      <td>1</td>\n      <td>79745</td>\n      <td>2868.893137</td>\n      <td>1951.035944</td>\n      <td>1424262067</td>\n      <td>1424262069</td>\n      <td>38.609700</td>\n      <td>19.133826</td>\n      <td>0.000680</td>\n      <td>0.000541</td>\n      <td>0.000139</td>\n      <td>0</td>\n      <td>0</td>\n      <td>2.0</td>\n      <td>NaN</td>\n      <td></td>\n      <td>1</td>\n      <td>1</td>\n      <td>2</td>\n      <td>4</td>\n      <td>2</td>\n      <td>2</td>\n      <td>2</td>\n      <td>NaN</td>\n      <td>0</td>\n    </tr>\n    <tr>\n      <th>2540042</th>\n      <td>175.45.176.0</td>\n      <td>17293</td>\n      <td>149.171.126.17</td>\n      <td>110</td>\n      <td>tcp</td>\n      <td>CON</td>\n      <td>0.942984</td>\n      <td>574</td>\n      <td>676</td>\n      <td>62</td>\n      <td>252</td>\n      <td>5</td>\n      <td>6</td>\n      <td>pop3</td>\n      <td>4470.913574</td>\n      <td>5.259898e+03</td>\n      <td>12</td>\n      <td>12</td>\n      <td>255</td>\n      <td>255</td>\n      <td>3026824982</td>\n      <td>3748412468</td>\n      <td>48</td>\n      <td>56</td>\n      <td>0</td>\n      <td>0</td>\n      <td>3903.523582</td>\n      <td>95.650531</td>\n      <td>1424262068</td>\n      <td>1424262069</td>\n      <td>79.714089</td>\n      <td>80.827180</td>\n      <td>0.139446</td>\n      <td>0.053884</td>\n      <td>0.085562</td>\n      <td>0</td>\n      <td>3</td>\n      <td>NaN</td>\n      <td>NaN</td>\n      <td></td>\n      <td>1</td>\n      <td>1</td>\n      <td>2</td>\n      <td>4</td>\n      <td>2</td>\n      <td>2</td>\n      <td>2</td>\n      <td>Exploits</td>\n      <td>1</td>\n    </tr>\n  </tbody>\n</table>\n<p>2059418 rows × 49 columns</p>\n</div>"
     },
     "execution_count": 5,
     "metadata": {},
     "output_type": "execute_result"
    }
   ],
   "source": [
    "#remove these duplicates\n",
    "ds_full_new=ds_full.drop_duplicates()\n",
    "ds_full_new"
   ],
   "metadata": {
    "collapsed": false,
    "pycharm": {
     "name": "#%%\n"
    }
   }
  },
  {
   "cell_type": "code",
   "execution_count": 6,
   "outputs": [],
   "source": [
    "# replace \"-\" with \"undefined\"\n",
    "ds_full_new['service'].replace('-','undefined',inplace=True)"
   ],
   "metadata": {
    "collapsed": false,
    "pycharm": {
     "name": "#%%\n"
    }
   }
  },
  {
   "cell_type": "code",
   "execution_count": 7,
   "outputs": [
    {
     "data": {
      "text/plain": "                srcip  sport           dstip dsport proto state       dur  \\\n0          59.166.0.0  33661   149.171.126.9   1024   udp   CON  0.036133   \n1          59.166.0.6   1464   149.171.126.7     53   udp   CON  0.001119   \n2          59.166.0.5   3593   149.171.126.5     53   udp   CON  0.001209   \n3          59.166.0.3  49664   149.171.126.0     53   udp   CON  0.001169   \n4          59.166.0.0  32119   149.171.126.9    111   udp   CON  0.078339   \n...               ...    ...             ...    ...   ...   ...       ...   \n2540035    59.166.0.1  38606   149.171.126.9     80   tcp   CON  0.564998   \n2540037    59.166.0.1  38606   149.171.126.9     80   tcp   CON  0.564998   \n2540038    59.166.0.5  33094   149.171.126.7  43433   tcp   FIN  0.087306   \n2540041    59.166.0.9  35433   149.171.126.0     80   tcp   CON  2.200934   \n2540042  175.45.176.0  17293  149.171.126.17    110   tcp   CON  0.942984   \n\n         sbytes  dbytes  sttl  dttl  sloss  dloss    service          Sload  \\\n0           528     304    31    29      0      0  undefined   87676.085940   \n1           146     178    31    29      0      0        dns  521894.531300   \n2           132     164    31    29      0      0        dns  436724.562500   \n3           146     178    31    29      0      0        dns  499572.250000   \n4           568     312    31    29      0      0  undefined   43503.234380   \n...         ...     ...   ...   ...    ...    ...        ...            ...   \n2540035   14106  772406    31    29      2    262       http  198981.250000   \n2540037   14106  772406    31    29      2    262  undefined  198981.250000   \n2540038     320    1828    31    29      1      2   ftp-data   24465.671880   \n2540041    3498  166054    31    29      2     57       http   12496.513670   \n2540042     574     676    62   252      5      6       pop3    4470.913574   \n\n                Dload  Spkts  Dpkts  swin  dwin       stcpb       dtcpb  \\\n0        5.048017e+04      4      4     0     0           0           0   \n1        6.362824e+05      2      2     0     0           0           0   \n2        5.425972e+05      2      2     0     0           0           0   \n3        6.090676e+05      2      2     0     0           0           0   \n4        2.389614e+04      4      4     0     0           0           0   \n...               ...    ...    ...   ...   ...         ...         ...   \n2540035  1.091598e+07    262    526   255   255   162243658   163257853   \n2540037  1.091598e+07    262    526   255   255   162243658   163257853   \n2540038  1.466108e+05      6      8   255   255  4035116044   222196311   \n2540041  5.983751e+05     58    116   255   255  1289728069  3436097151   \n2540042  5.259898e+03     12     12   255   255  3026824982  3748412468   \n\n         smeansz  dmeansz  trans_depth  res_bdy_len         Sjit         Djit  \\\n0            132       76            0            0     9.891010    10.682733   \n1             73       89            0            0     0.000000     0.000000   \n2             66       82            0            0     0.000000     0.000000   \n3             73       89            0            0     0.000000     0.000000   \n4            142       78            0            0    29.682221    34.370340   \n...          ...      ...          ...          ...          ...          ...   \n2540035       54     1468            1       372266   116.321921    69.874077   \n2540037       54     1468            1       372266   116.321921    69.874077   \n2540038       53      229            0            0  1221.136547    30.096029   \n2540041       60     1432            1        79745  2868.893137  1951.035944   \n2540042       48       56            0            0  3903.523582    95.650531   \n\n              Stime       Ltime    Sintpkt    Dintpkt    tcprtt    synack  \\\n0        1421927414  1421927414   7.005000   7.564333  0.000000  0.000000   \n1        1421927414  1421927414   0.017000   0.013000  0.000000  0.000000   \n2        1421927414  1421927414   0.043000   0.014000  0.000000  0.000000   \n3        1421927414  1421927414   0.005000   0.003000  0.000000  0.000000   \n4        1421927414  1421927414  21.003000  24.315000  0.000000  0.000000   \n...             ...         ...        ...        ...       ...       ...   \n2540035  1424262068  1424262069   2.123130   1.075171  0.000669  0.000530   \n2540037  1424262068  1424262069   2.123130   1.075171  0.000669  0.000530   \n2540038  1424262068  1424262069  17.394400  12.405143  0.000608  0.000468   \n2540041  1424262067  1424262069  38.609700  19.133826  0.000680  0.000541   \n2540042  1424262068  1424262069  79.714089  80.827180  0.139446  0.053884   \n\n           ackdat  is_sm_ips_ports  ct_state_ttl  ct_flw_http_mthd  \\\n0        0.000000                0             0               0.0   \n1        0.000000                0             0               0.0   \n2        0.000000                0             0               0.0   \n3        0.000000                0             0               0.0   \n4        0.000000                0             0               0.0   \n...           ...              ...           ...               ...   \n2540035  0.000139                0             0               2.0   \n2540037  0.000139                0             0               2.0   \n2540038  0.000140                0             0               NaN   \n2540041  0.000139                0             0               2.0   \n2540042  0.085562                0             3               NaN   \n\n         is_ftp_login ct_ftp_cmd  ct_srv_src  ct_srv_dst  ct_dst_ltm  \\\n0                 0.0          0           2           4           2   \n1                 0.0          0          12           8           1   \n2                 0.0          0           6           9           1   \n3                 0.0          0           7           9           1   \n4                 0.0          0           2           4           2   \n...               ...        ...         ...         ...         ...   \n2540035           NaN                      1           1           4   \n2540037           NaN                      2           1           4   \n2540038           NaN                      1           2           3   \n2540041           NaN                      1           1           2   \n2540042           NaN                      1           1           2   \n\n         ct_src_ ltm  ct_src_dport_ltm  ct_dst_sport_ltm  ct_dst_src_ltm  \\\n0                  3                 1                 1               2   \n1                  2                 2                 1               1   \n2                  1                 1                 1               1   \n3                  1                 1                 1               1   \n4                  3                 1                 1               2   \n...              ...               ...               ...             ...   \n2540035            2                 2                 2               2   \n2540037            2                 2                 2               2   \n2540038            3                 1                 1               3   \n2540041            4                 2                 2               2   \n2540042            4                 2                 2               2   \n\n        attack_cat  label  \n0              NaN      0  \n1              NaN      0  \n2              NaN      0  \n3              NaN      0  \n4              NaN      0  \n...            ...    ...  \n2540035        NaN      0  \n2540037        NaN      0  \n2540038        NaN      0  \n2540041        NaN      0  \n2540042   Exploits      1  \n\n[2059418 rows x 49 columns]",
      "text/html": "<div>\n<style scoped>\n    .dataframe tbody tr th:only-of-type {\n        vertical-align: middle;\n    }\n\n    .dataframe tbody tr th {\n        vertical-align: top;\n    }\n\n    .dataframe thead th {\n        text-align: right;\n    }\n</style>\n<table border=\"1\" class=\"dataframe\">\n  <thead>\n    <tr style=\"text-align: right;\">\n      <th></th>\n      <th>srcip</th>\n      <th>sport</th>\n      <th>dstip</th>\n      <th>dsport</th>\n      <th>proto</th>\n      <th>state</th>\n      <th>dur</th>\n      <th>sbytes</th>\n      <th>dbytes</th>\n      <th>sttl</th>\n      <th>dttl</th>\n      <th>sloss</th>\n      <th>dloss</th>\n      <th>service</th>\n      <th>Sload</th>\n      <th>Dload</th>\n      <th>Spkts</th>\n      <th>Dpkts</th>\n      <th>swin</th>\n      <th>dwin</th>\n      <th>stcpb</th>\n      <th>dtcpb</th>\n      <th>smeansz</th>\n      <th>dmeansz</th>\n      <th>trans_depth</th>\n      <th>res_bdy_len</th>\n      <th>Sjit</th>\n      <th>Djit</th>\n      <th>Stime</th>\n      <th>Ltime</th>\n      <th>Sintpkt</th>\n      <th>Dintpkt</th>\n      <th>tcprtt</th>\n      <th>synack</th>\n      <th>ackdat</th>\n      <th>is_sm_ips_ports</th>\n      <th>ct_state_ttl</th>\n      <th>ct_flw_http_mthd</th>\n      <th>is_ftp_login</th>\n      <th>ct_ftp_cmd</th>\n      <th>ct_srv_src</th>\n      <th>ct_srv_dst</th>\n      <th>ct_dst_ltm</th>\n      <th>ct_src_ ltm</th>\n      <th>ct_src_dport_ltm</th>\n      <th>ct_dst_sport_ltm</th>\n      <th>ct_dst_src_ltm</th>\n      <th>attack_cat</th>\n      <th>label</th>\n    </tr>\n  </thead>\n  <tbody>\n    <tr>\n      <th>0</th>\n      <td>59.166.0.0</td>\n      <td>33661</td>\n      <td>149.171.126.9</td>\n      <td>1024</td>\n      <td>udp</td>\n      <td>CON</td>\n      <td>0.036133</td>\n      <td>528</td>\n      <td>304</td>\n      <td>31</td>\n      <td>29</td>\n      <td>0</td>\n      <td>0</td>\n      <td>undefined</td>\n      <td>87676.085940</td>\n      <td>5.048017e+04</td>\n      <td>4</td>\n      <td>4</td>\n      <td>0</td>\n      <td>0</td>\n      <td>0</td>\n      <td>0</td>\n      <td>132</td>\n      <td>76</td>\n      <td>0</td>\n      <td>0</td>\n      <td>9.891010</td>\n      <td>10.682733</td>\n      <td>1421927414</td>\n      <td>1421927414</td>\n      <td>7.005000</td>\n      <td>7.564333</td>\n      <td>0.000000</td>\n      <td>0.000000</td>\n      <td>0.000000</td>\n      <td>0</td>\n      <td>0</td>\n      <td>0.0</td>\n      <td>0.0</td>\n      <td>0</td>\n      <td>2</td>\n      <td>4</td>\n      <td>2</td>\n      <td>3</td>\n      <td>1</td>\n      <td>1</td>\n      <td>2</td>\n      <td>NaN</td>\n      <td>0</td>\n    </tr>\n    <tr>\n      <th>1</th>\n      <td>59.166.0.6</td>\n      <td>1464</td>\n      <td>149.171.126.7</td>\n      <td>53</td>\n      <td>udp</td>\n      <td>CON</td>\n      <td>0.001119</td>\n      <td>146</td>\n      <td>178</td>\n      <td>31</td>\n      <td>29</td>\n      <td>0</td>\n      <td>0</td>\n      <td>dns</td>\n      <td>521894.531300</td>\n      <td>6.362824e+05</td>\n      <td>2</td>\n      <td>2</td>\n      <td>0</td>\n      <td>0</td>\n      <td>0</td>\n      <td>0</td>\n      <td>73</td>\n      <td>89</td>\n      <td>0</td>\n      <td>0</td>\n      <td>0.000000</td>\n      <td>0.000000</td>\n      <td>1421927414</td>\n      <td>1421927414</td>\n      <td>0.017000</td>\n      <td>0.013000</td>\n      <td>0.000000</td>\n      <td>0.000000</td>\n      <td>0.000000</td>\n      <td>0</td>\n      <td>0</td>\n      <td>0.0</td>\n      <td>0.0</td>\n      <td>0</td>\n      <td>12</td>\n      <td>8</td>\n      <td>1</td>\n      <td>2</td>\n      <td>2</td>\n      <td>1</td>\n      <td>1</td>\n      <td>NaN</td>\n      <td>0</td>\n    </tr>\n    <tr>\n      <th>2</th>\n      <td>59.166.0.5</td>\n      <td>3593</td>\n      <td>149.171.126.5</td>\n      <td>53</td>\n      <td>udp</td>\n      <td>CON</td>\n      <td>0.001209</td>\n      <td>132</td>\n      <td>164</td>\n      <td>31</td>\n      <td>29</td>\n      <td>0</td>\n      <td>0</td>\n      <td>dns</td>\n      <td>436724.562500</td>\n      <td>5.425972e+05</td>\n      <td>2</td>\n      <td>2</td>\n      <td>0</td>\n      <td>0</td>\n      <td>0</td>\n      <td>0</td>\n      <td>66</td>\n      <td>82</td>\n      <td>0</td>\n      <td>0</td>\n      <td>0.000000</td>\n      <td>0.000000</td>\n      <td>1421927414</td>\n      <td>1421927414</td>\n      <td>0.043000</td>\n      <td>0.014000</td>\n      <td>0.000000</td>\n      <td>0.000000</td>\n      <td>0.000000</td>\n      <td>0</td>\n      <td>0</td>\n      <td>0.0</td>\n      <td>0.0</td>\n      <td>0</td>\n      <td>6</td>\n      <td>9</td>\n      <td>1</td>\n      <td>1</td>\n      <td>1</td>\n      <td>1</td>\n      <td>1</td>\n      <td>NaN</td>\n      <td>0</td>\n    </tr>\n    <tr>\n      <th>3</th>\n      <td>59.166.0.3</td>\n      <td>49664</td>\n      <td>149.171.126.0</td>\n      <td>53</td>\n      <td>udp</td>\n      <td>CON</td>\n      <td>0.001169</td>\n      <td>146</td>\n      <td>178</td>\n      <td>31</td>\n      <td>29</td>\n      <td>0</td>\n      <td>0</td>\n      <td>dns</td>\n      <td>499572.250000</td>\n      <td>6.090676e+05</td>\n      <td>2</td>\n      <td>2</td>\n      <td>0</td>\n      <td>0</td>\n      <td>0</td>\n      <td>0</td>\n      <td>73</td>\n      <td>89</td>\n      <td>0</td>\n      <td>0</td>\n      <td>0.000000</td>\n      <td>0.000000</td>\n      <td>1421927414</td>\n      <td>1421927414</td>\n      <td>0.005000</td>\n      <td>0.003000</td>\n      <td>0.000000</td>\n      <td>0.000000</td>\n      <td>0.000000</td>\n      <td>0</td>\n      <td>0</td>\n      <td>0.0</td>\n      <td>0.0</td>\n      <td>0</td>\n      <td>7</td>\n      <td>9</td>\n      <td>1</td>\n      <td>1</td>\n      <td>1</td>\n      <td>1</td>\n      <td>1</td>\n      <td>NaN</td>\n      <td>0</td>\n    </tr>\n    <tr>\n      <th>4</th>\n      <td>59.166.0.0</td>\n      <td>32119</td>\n      <td>149.171.126.9</td>\n      <td>111</td>\n      <td>udp</td>\n      <td>CON</td>\n      <td>0.078339</td>\n      <td>568</td>\n      <td>312</td>\n      <td>31</td>\n      <td>29</td>\n      <td>0</td>\n      <td>0</td>\n      <td>undefined</td>\n      <td>43503.234380</td>\n      <td>2.389614e+04</td>\n      <td>4</td>\n      <td>4</td>\n      <td>0</td>\n      <td>0</td>\n      <td>0</td>\n      <td>0</td>\n      <td>142</td>\n      <td>78</td>\n      <td>0</td>\n      <td>0</td>\n      <td>29.682221</td>\n      <td>34.370340</td>\n      <td>1421927414</td>\n      <td>1421927414</td>\n      <td>21.003000</td>\n      <td>24.315000</td>\n      <td>0.000000</td>\n      <td>0.000000</td>\n      <td>0.000000</td>\n      <td>0</td>\n      <td>0</td>\n      <td>0.0</td>\n      <td>0.0</td>\n      <td>0</td>\n      <td>2</td>\n      <td>4</td>\n      <td>2</td>\n      <td>3</td>\n      <td>1</td>\n      <td>1</td>\n      <td>2</td>\n      <td>NaN</td>\n      <td>0</td>\n    </tr>\n    <tr>\n      <th>...</th>\n      <td>...</td>\n      <td>...</td>\n      <td>...</td>\n      <td>...</td>\n      <td>...</td>\n      <td>...</td>\n      <td>...</td>\n      <td>...</td>\n      <td>...</td>\n      <td>...</td>\n      <td>...</td>\n      <td>...</td>\n      <td>...</td>\n      <td>...</td>\n      <td>...</td>\n      <td>...</td>\n      <td>...</td>\n      <td>...</td>\n      <td>...</td>\n      <td>...</td>\n      <td>...</td>\n      <td>...</td>\n      <td>...</td>\n      <td>...</td>\n      <td>...</td>\n      <td>...</td>\n      <td>...</td>\n      <td>...</td>\n      <td>...</td>\n      <td>...</td>\n      <td>...</td>\n      <td>...</td>\n      <td>...</td>\n      <td>...</td>\n      <td>...</td>\n      <td>...</td>\n      <td>...</td>\n      <td>...</td>\n      <td>...</td>\n      <td>...</td>\n      <td>...</td>\n      <td>...</td>\n      <td>...</td>\n      <td>...</td>\n      <td>...</td>\n      <td>...</td>\n      <td>...</td>\n      <td>...</td>\n      <td>...</td>\n    </tr>\n    <tr>\n      <th>2540035</th>\n      <td>59.166.0.1</td>\n      <td>38606</td>\n      <td>149.171.126.9</td>\n      <td>80</td>\n      <td>tcp</td>\n      <td>CON</td>\n      <td>0.564998</td>\n      <td>14106</td>\n      <td>772406</td>\n      <td>31</td>\n      <td>29</td>\n      <td>2</td>\n      <td>262</td>\n      <td>http</td>\n      <td>198981.250000</td>\n      <td>1.091598e+07</td>\n      <td>262</td>\n      <td>526</td>\n      <td>255</td>\n      <td>255</td>\n      <td>162243658</td>\n      <td>163257853</td>\n      <td>54</td>\n      <td>1468</td>\n      <td>1</td>\n      <td>372266</td>\n      <td>116.321921</td>\n      <td>69.874077</td>\n      <td>1424262068</td>\n      <td>1424262069</td>\n      <td>2.123130</td>\n      <td>1.075171</td>\n      <td>0.000669</td>\n      <td>0.000530</td>\n      <td>0.000139</td>\n      <td>0</td>\n      <td>0</td>\n      <td>2.0</td>\n      <td>NaN</td>\n      <td></td>\n      <td>1</td>\n      <td>1</td>\n      <td>4</td>\n      <td>2</td>\n      <td>2</td>\n      <td>2</td>\n      <td>2</td>\n      <td>NaN</td>\n      <td>0</td>\n    </tr>\n    <tr>\n      <th>2540037</th>\n      <td>59.166.0.1</td>\n      <td>38606</td>\n      <td>149.171.126.9</td>\n      <td>80</td>\n      <td>tcp</td>\n      <td>CON</td>\n      <td>0.564998</td>\n      <td>14106</td>\n      <td>772406</td>\n      <td>31</td>\n      <td>29</td>\n      <td>2</td>\n      <td>262</td>\n      <td>undefined</td>\n      <td>198981.250000</td>\n      <td>1.091598e+07</td>\n      <td>262</td>\n      <td>526</td>\n      <td>255</td>\n      <td>255</td>\n      <td>162243658</td>\n      <td>163257853</td>\n      <td>54</td>\n      <td>1468</td>\n      <td>1</td>\n      <td>372266</td>\n      <td>116.321921</td>\n      <td>69.874077</td>\n      <td>1424262068</td>\n      <td>1424262069</td>\n      <td>2.123130</td>\n      <td>1.075171</td>\n      <td>0.000669</td>\n      <td>0.000530</td>\n      <td>0.000139</td>\n      <td>0</td>\n      <td>0</td>\n      <td>2.0</td>\n      <td>NaN</td>\n      <td></td>\n      <td>2</td>\n      <td>1</td>\n      <td>4</td>\n      <td>2</td>\n      <td>2</td>\n      <td>2</td>\n      <td>2</td>\n      <td>NaN</td>\n      <td>0</td>\n    </tr>\n    <tr>\n      <th>2540038</th>\n      <td>59.166.0.5</td>\n      <td>33094</td>\n      <td>149.171.126.7</td>\n      <td>43433</td>\n      <td>tcp</td>\n      <td>FIN</td>\n      <td>0.087306</td>\n      <td>320</td>\n      <td>1828</td>\n      <td>31</td>\n      <td>29</td>\n      <td>1</td>\n      <td>2</td>\n      <td>ftp-data</td>\n      <td>24465.671880</td>\n      <td>1.466108e+05</td>\n      <td>6</td>\n      <td>8</td>\n      <td>255</td>\n      <td>255</td>\n      <td>4035116044</td>\n      <td>222196311</td>\n      <td>53</td>\n      <td>229</td>\n      <td>0</td>\n      <td>0</td>\n      <td>1221.136547</td>\n      <td>30.096029</td>\n      <td>1424262068</td>\n      <td>1424262069</td>\n      <td>17.394400</td>\n      <td>12.405143</td>\n      <td>0.000608</td>\n      <td>0.000468</td>\n      <td>0.000140</td>\n      <td>0</td>\n      <td>0</td>\n      <td>NaN</td>\n      <td>NaN</td>\n      <td></td>\n      <td>1</td>\n      <td>2</td>\n      <td>3</td>\n      <td>3</td>\n      <td>1</td>\n      <td>1</td>\n      <td>3</td>\n      <td>NaN</td>\n      <td>0</td>\n    </tr>\n    <tr>\n      <th>2540041</th>\n      <td>59.166.0.9</td>\n      <td>35433</td>\n      <td>149.171.126.0</td>\n      <td>80</td>\n      <td>tcp</td>\n      <td>CON</td>\n      <td>2.200934</td>\n      <td>3498</td>\n      <td>166054</td>\n      <td>31</td>\n      <td>29</td>\n      <td>2</td>\n      <td>57</td>\n      <td>http</td>\n      <td>12496.513670</td>\n      <td>5.983751e+05</td>\n      <td>58</td>\n      <td>116</td>\n      <td>255</td>\n      <td>255</td>\n      <td>1289728069</td>\n      <td>3436097151</td>\n      <td>60</td>\n      <td>1432</td>\n      <td>1</td>\n      <td>79745</td>\n      <td>2868.893137</td>\n      <td>1951.035944</td>\n      <td>1424262067</td>\n      <td>1424262069</td>\n      <td>38.609700</td>\n      <td>19.133826</td>\n      <td>0.000680</td>\n      <td>0.000541</td>\n      <td>0.000139</td>\n      <td>0</td>\n      <td>0</td>\n      <td>2.0</td>\n      <td>NaN</td>\n      <td></td>\n      <td>1</td>\n      <td>1</td>\n      <td>2</td>\n      <td>4</td>\n      <td>2</td>\n      <td>2</td>\n      <td>2</td>\n      <td>NaN</td>\n      <td>0</td>\n    </tr>\n    <tr>\n      <th>2540042</th>\n      <td>175.45.176.0</td>\n      <td>17293</td>\n      <td>149.171.126.17</td>\n      <td>110</td>\n      <td>tcp</td>\n      <td>CON</td>\n      <td>0.942984</td>\n      <td>574</td>\n      <td>676</td>\n      <td>62</td>\n      <td>252</td>\n      <td>5</td>\n      <td>6</td>\n      <td>pop3</td>\n      <td>4470.913574</td>\n      <td>5.259898e+03</td>\n      <td>12</td>\n      <td>12</td>\n      <td>255</td>\n      <td>255</td>\n      <td>3026824982</td>\n      <td>3748412468</td>\n      <td>48</td>\n      <td>56</td>\n      <td>0</td>\n      <td>0</td>\n      <td>3903.523582</td>\n      <td>95.650531</td>\n      <td>1424262068</td>\n      <td>1424262069</td>\n      <td>79.714089</td>\n      <td>80.827180</td>\n      <td>0.139446</td>\n      <td>0.053884</td>\n      <td>0.085562</td>\n      <td>0</td>\n      <td>3</td>\n      <td>NaN</td>\n      <td>NaN</td>\n      <td></td>\n      <td>1</td>\n      <td>1</td>\n      <td>2</td>\n      <td>4</td>\n      <td>2</td>\n      <td>2</td>\n      <td>2</td>\n      <td>Exploits</td>\n      <td>1</td>\n    </tr>\n  </tbody>\n</table>\n<p>2059418 rows × 49 columns</p>\n</div>"
     },
     "execution_count": 7,
     "metadata": {},
     "output_type": "execute_result"
    }
   ],
   "source": [
    "ds_full_new"
   ],
   "metadata": {
    "collapsed": false,
    "pycharm": {
     "name": "#%%\n"
    }
   }
  },
  {
   "cell_type": "code",
   "execution_count": 8,
   "outputs": [],
   "source": [
    "#change NaN to Normal\n",
    "import math\n",
    "ds_full_new['attack_cat'].replace(math.nan,'Normal',inplace=True)"
   ],
   "metadata": {
    "collapsed": false,
    "pycharm": {
     "name": "#%%\n"
    }
   }
  },
  {
   "cell_type": "code",
   "execution_count": 9,
   "outputs": [
    {
     "data": {
      "text/plain": "                srcip  sport           dstip dsport proto state       dur  \\\n0          59.166.0.0  33661   149.171.126.9   1024   udp   CON  0.036133   \n1          59.166.0.6   1464   149.171.126.7     53   udp   CON  0.001119   \n2          59.166.0.5   3593   149.171.126.5     53   udp   CON  0.001209   \n3          59.166.0.3  49664   149.171.126.0     53   udp   CON  0.001169   \n4          59.166.0.0  32119   149.171.126.9    111   udp   CON  0.078339   \n...               ...    ...             ...    ...   ...   ...       ...   \n2540035    59.166.0.1  38606   149.171.126.9     80   tcp   CON  0.564998   \n2540037    59.166.0.1  38606   149.171.126.9     80   tcp   CON  0.564998   \n2540038    59.166.0.5  33094   149.171.126.7  43433   tcp   FIN  0.087306   \n2540041    59.166.0.9  35433   149.171.126.0     80   tcp   CON  2.200934   \n2540042  175.45.176.0  17293  149.171.126.17    110   tcp   CON  0.942984   \n\n         sbytes  dbytes  sttl  dttl  sloss  dloss    service          Sload  \\\n0           528     304    31    29      0      0  undefined   87676.085940   \n1           146     178    31    29      0      0        dns  521894.531300   \n2           132     164    31    29      0      0        dns  436724.562500   \n3           146     178    31    29      0      0        dns  499572.250000   \n4           568     312    31    29      0      0  undefined   43503.234380   \n...         ...     ...   ...   ...    ...    ...        ...            ...   \n2540035   14106  772406    31    29      2    262       http  198981.250000   \n2540037   14106  772406    31    29      2    262  undefined  198981.250000   \n2540038     320    1828    31    29      1      2   ftp-data   24465.671880   \n2540041    3498  166054    31    29      2     57       http   12496.513670   \n2540042     574     676    62   252      5      6       pop3    4470.913574   \n\n                Dload  Spkts  Dpkts  swin  dwin       stcpb       dtcpb  \\\n0        5.048017e+04      4      4     0     0           0           0   \n1        6.362824e+05      2      2     0     0           0           0   \n2        5.425972e+05      2      2     0     0           0           0   \n3        6.090676e+05      2      2     0     0           0           0   \n4        2.389614e+04      4      4     0     0           0           0   \n...               ...    ...    ...   ...   ...         ...         ...   \n2540035  1.091598e+07    262    526   255   255   162243658   163257853   \n2540037  1.091598e+07    262    526   255   255   162243658   163257853   \n2540038  1.466108e+05      6      8   255   255  4035116044   222196311   \n2540041  5.983751e+05     58    116   255   255  1289728069  3436097151   \n2540042  5.259898e+03     12     12   255   255  3026824982  3748412468   \n\n         smeansz  dmeansz  trans_depth  res_bdy_len         Sjit         Djit  \\\n0            132       76            0            0     9.891010    10.682733   \n1             73       89            0            0     0.000000     0.000000   \n2             66       82            0            0     0.000000     0.000000   \n3             73       89            0            0     0.000000     0.000000   \n4            142       78            0            0    29.682221    34.370340   \n...          ...      ...          ...          ...          ...          ...   \n2540035       54     1468            1       372266   116.321921    69.874077   \n2540037       54     1468            1       372266   116.321921    69.874077   \n2540038       53      229            0            0  1221.136547    30.096029   \n2540041       60     1432            1        79745  2868.893137  1951.035944   \n2540042       48       56            0            0  3903.523582    95.650531   \n\n              Stime       Ltime    Sintpkt    Dintpkt    tcprtt    synack  \\\n0        1421927414  1421927414   7.005000   7.564333  0.000000  0.000000   \n1        1421927414  1421927414   0.017000   0.013000  0.000000  0.000000   \n2        1421927414  1421927414   0.043000   0.014000  0.000000  0.000000   \n3        1421927414  1421927414   0.005000   0.003000  0.000000  0.000000   \n4        1421927414  1421927414  21.003000  24.315000  0.000000  0.000000   \n...             ...         ...        ...        ...       ...       ...   \n2540035  1424262068  1424262069   2.123130   1.075171  0.000669  0.000530   \n2540037  1424262068  1424262069   2.123130   1.075171  0.000669  0.000530   \n2540038  1424262068  1424262069  17.394400  12.405143  0.000608  0.000468   \n2540041  1424262067  1424262069  38.609700  19.133826  0.000680  0.000541   \n2540042  1424262068  1424262069  79.714089  80.827180  0.139446  0.053884   \n\n           ackdat  is_sm_ips_ports  ct_state_ttl  ct_flw_http_mthd  \\\n0        0.000000                0             0               0.0   \n1        0.000000                0             0               0.0   \n2        0.000000                0             0               0.0   \n3        0.000000                0             0               0.0   \n4        0.000000                0             0               0.0   \n...           ...              ...           ...               ...   \n2540035  0.000139                0             0               2.0   \n2540037  0.000139                0             0               2.0   \n2540038  0.000140                0             0               NaN   \n2540041  0.000139                0             0               2.0   \n2540042  0.085562                0             3               NaN   \n\n         is_ftp_login ct_ftp_cmd  ct_srv_src  ct_srv_dst  ct_dst_ltm  \\\n0                 0.0          0           2           4           2   \n1                 0.0          0          12           8           1   \n2                 0.0          0           6           9           1   \n3                 0.0          0           7           9           1   \n4                 0.0          0           2           4           2   \n...               ...        ...         ...         ...         ...   \n2540035           NaN                      1           1           4   \n2540037           NaN                      2           1           4   \n2540038           NaN                      1           2           3   \n2540041           NaN                      1           1           2   \n2540042           NaN                      1           1           2   \n\n         ct_src_ ltm  ct_src_dport_ltm  ct_dst_sport_ltm  ct_dst_src_ltm  \\\n0                  3                 1                 1               2   \n1                  2                 2                 1               1   \n2                  1                 1                 1               1   \n3                  1                 1                 1               1   \n4                  3                 1                 1               2   \n...              ...               ...               ...             ...   \n2540035            2                 2                 2               2   \n2540037            2                 2                 2               2   \n2540038            3                 1                 1               3   \n2540041            4                 2                 2               2   \n2540042            4                 2                 2               2   \n\n        attack_cat  label  \n0           Normal      0  \n1           Normal      0  \n2           Normal      0  \n3           Normal      0  \n4           Normal      0  \n...            ...    ...  \n2540035     Normal      0  \n2540037     Normal      0  \n2540038     Normal      0  \n2540041     Normal      0  \n2540042   Exploits      1  \n\n[2059418 rows x 49 columns]",
      "text/html": "<div>\n<style scoped>\n    .dataframe tbody tr th:only-of-type {\n        vertical-align: middle;\n    }\n\n    .dataframe tbody tr th {\n        vertical-align: top;\n    }\n\n    .dataframe thead th {\n        text-align: right;\n    }\n</style>\n<table border=\"1\" class=\"dataframe\">\n  <thead>\n    <tr style=\"text-align: right;\">\n      <th></th>\n      <th>srcip</th>\n      <th>sport</th>\n      <th>dstip</th>\n      <th>dsport</th>\n      <th>proto</th>\n      <th>state</th>\n      <th>dur</th>\n      <th>sbytes</th>\n      <th>dbytes</th>\n      <th>sttl</th>\n      <th>dttl</th>\n      <th>sloss</th>\n      <th>dloss</th>\n      <th>service</th>\n      <th>Sload</th>\n      <th>Dload</th>\n      <th>Spkts</th>\n      <th>Dpkts</th>\n      <th>swin</th>\n      <th>dwin</th>\n      <th>stcpb</th>\n      <th>dtcpb</th>\n      <th>smeansz</th>\n      <th>dmeansz</th>\n      <th>trans_depth</th>\n      <th>res_bdy_len</th>\n      <th>Sjit</th>\n      <th>Djit</th>\n      <th>Stime</th>\n      <th>Ltime</th>\n      <th>Sintpkt</th>\n      <th>Dintpkt</th>\n      <th>tcprtt</th>\n      <th>synack</th>\n      <th>ackdat</th>\n      <th>is_sm_ips_ports</th>\n      <th>ct_state_ttl</th>\n      <th>ct_flw_http_mthd</th>\n      <th>is_ftp_login</th>\n      <th>ct_ftp_cmd</th>\n      <th>ct_srv_src</th>\n      <th>ct_srv_dst</th>\n      <th>ct_dst_ltm</th>\n      <th>ct_src_ ltm</th>\n      <th>ct_src_dport_ltm</th>\n      <th>ct_dst_sport_ltm</th>\n      <th>ct_dst_src_ltm</th>\n      <th>attack_cat</th>\n      <th>label</th>\n    </tr>\n  </thead>\n  <tbody>\n    <tr>\n      <th>0</th>\n      <td>59.166.0.0</td>\n      <td>33661</td>\n      <td>149.171.126.9</td>\n      <td>1024</td>\n      <td>udp</td>\n      <td>CON</td>\n      <td>0.036133</td>\n      <td>528</td>\n      <td>304</td>\n      <td>31</td>\n      <td>29</td>\n      <td>0</td>\n      <td>0</td>\n      <td>undefined</td>\n      <td>87676.085940</td>\n      <td>5.048017e+04</td>\n      <td>4</td>\n      <td>4</td>\n      <td>0</td>\n      <td>0</td>\n      <td>0</td>\n      <td>0</td>\n      <td>132</td>\n      <td>76</td>\n      <td>0</td>\n      <td>0</td>\n      <td>9.891010</td>\n      <td>10.682733</td>\n      <td>1421927414</td>\n      <td>1421927414</td>\n      <td>7.005000</td>\n      <td>7.564333</td>\n      <td>0.000000</td>\n      <td>0.000000</td>\n      <td>0.000000</td>\n      <td>0</td>\n      <td>0</td>\n      <td>0.0</td>\n      <td>0.0</td>\n      <td>0</td>\n      <td>2</td>\n      <td>4</td>\n      <td>2</td>\n      <td>3</td>\n      <td>1</td>\n      <td>1</td>\n      <td>2</td>\n      <td>Normal</td>\n      <td>0</td>\n    </tr>\n    <tr>\n      <th>1</th>\n      <td>59.166.0.6</td>\n      <td>1464</td>\n      <td>149.171.126.7</td>\n      <td>53</td>\n      <td>udp</td>\n      <td>CON</td>\n      <td>0.001119</td>\n      <td>146</td>\n      <td>178</td>\n      <td>31</td>\n      <td>29</td>\n      <td>0</td>\n      <td>0</td>\n      <td>dns</td>\n      <td>521894.531300</td>\n      <td>6.362824e+05</td>\n      <td>2</td>\n      <td>2</td>\n      <td>0</td>\n      <td>0</td>\n      <td>0</td>\n      <td>0</td>\n      <td>73</td>\n      <td>89</td>\n      <td>0</td>\n      <td>0</td>\n      <td>0.000000</td>\n      <td>0.000000</td>\n      <td>1421927414</td>\n      <td>1421927414</td>\n      <td>0.017000</td>\n      <td>0.013000</td>\n      <td>0.000000</td>\n      <td>0.000000</td>\n      <td>0.000000</td>\n      <td>0</td>\n      <td>0</td>\n      <td>0.0</td>\n      <td>0.0</td>\n      <td>0</td>\n      <td>12</td>\n      <td>8</td>\n      <td>1</td>\n      <td>2</td>\n      <td>2</td>\n      <td>1</td>\n      <td>1</td>\n      <td>Normal</td>\n      <td>0</td>\n    </tr>\n    <tr>\n      <th>2</th>\n      <td>59.166.0.5</td>\n      <td>3593</td>\n      <td>149.171.126.5</td>\n      <td>53</td>\n      <td>udp</td>\n      <td>CON</td>\n      <td>0.001209</td>\n      <td>132</td>\n      <td>164</td>\n      <td>31</td>\n      <td>29</td>\n      <td>0</td>\n      <td>0</td>\n      <td>dns</td>\n      <td>436724.562500</td>\n      <td>5.425972e+05</td>\n      <td>2</td>\n      <td>2</td>\n      <td>0</td>\n      <td>0</td>\n      <td>0</td>\n      <td>0</td>\n      <td>66</td>\n      <td>82</td>\n      <td>0</td>\n      <td>0</td>\n      <td>0.000000</td>\n      <td>0.000000</td>\n      <td>1421927414</td>\n      <td>1421927414</td>\n      <td>0.043000</td>\n      <td>0.014000</td>\n      <td>0.000000</td>\n      <td>0.000000</td>\n      <td>0.000000</td>\n      <td>0</td>\n      <td>0</td>\n      <td>0.0</td>\n      <td>0.0</td>\n      <td>0</td>\n      <td>6</td>\n      <td>9</td>\n      <td>1</td>\n      <td>1</td>\n      <td>1</td>\n      <td>1</td>\n      <td>1</td>\n      <td>Normal</td>\n      <td>0</td>\n    </tr>\n    <tr>\n      <th>3</th>\n      <td>59.166.0.3</td>\n      <td>49664</td>\n      <td>149.171.126.0</td>\n      <td>53</td>\n      <td>udp</td>\n      <td>CON</td>\n      <td>0.001169</td>\n      <td>146</td>\n      <td>178</td>\n      <td>31</td>\n      <td>29</td>\n      <td>0</td>\n      <td>0</td>\n      <td>dns</td>\n      <td>499572.250000</td>\n      <td>6.090676e+05</td>\n      <td>2</td>\n      <td>2</td>\n      <td>0</td>\n      <td>0</td>\n      <td>0</td>\n      <td>0</td>\n      <td>73</td>\n      <td>89</td>\n      <td>0</td>\n      <td>0</td>\n      <td>0.000000</td>\n      <td>0.000000</td>\n      <td>1421927414</td>\n      <td>1421927414</td>\n      <td>0.005000</td>\n      <td>0.003000</td>\n      <td>0.000000</td>\n      <td>0.000000</td>\n      <td>0.000000</td>\n      <td>0</td>\n      <td>0</td>\n      <td>0.0</td>\n      <td>0.0</td>\n      <td>0</td>\n      <td>7</td>\n      <td>9</td>\n      <td>1</td>\n      <td>1</td>\n      <td>1</td>\n      <td>1</td>\n      <td>1</td>\n      <td>Normal</td>\n      <td>0</td>\n    </tr>\n    <tr>\n      <th>4</th>\n      <td>59.166.0.0</td>\n      <td>32119</td>\n      <td>149.171.126.9</td>\n      <td>111</td>\n      <td>udp</td>\n      <td>CON</td>\n      <td>0.078339</td>\n      <td>568</td>\n      <td>312</td>\n      <td>31</td>\n      <td>29</td>\n      <td>0</td>\n      <td>0</td>\n      <td>undefined</td>\n      <td>43503.234380</td>\n      <td>2.389614e+04</td>\n      <td>4</td>\n      <td>4</td>\n      <td>0</td>\n      <td>0</td>\n      <td>0</td>\n      <td>0</td>\n      <td>142</td>\n      <td>78</td>\n      <td>0</td>\n      <td>0</td>\n      <td>29.682221</td>\n      <td>34.370340</td>\n      <td>1421927414</td>\n      <td>1421927414</td>\n      <td>21.003000</td>\n      <td>24.315000</td>\n      <td>0.000000</td>\n      <td>0.000000</td>\n      <td>0.000000</td>\n      <td>0</td>\n      <td>0</td>\n      <td>0.0</td>\n      <td>0.0</td>\n      <td>0</td>\n      <td>2</td>\n      <td>4</td>\n      <td>2</td>\n      <td>3</td>\n      <td>1</td>\n      <td>1</td>\n      <td>2</td>\n      <td>Normal</td>\n      <td>0</td>\n    </tr>\n    <tr>\n      <th>...</th>\n      <td>...</td>\n      <td>...</td>\n      <td>...</td>\n      <td>...</td>\n      <td>...</td>\n      <td>...</td>\n      <td>...</td>\n      <td>...</td>\n      <td>...</td>\n      <td>...</td>\n      <td>...</td>\n      <td>...</td>\n      <td>...</td>\n      <td>...</td>\n      <td>...</td>\n      <td>...</td>\n      <td>...</td>\n      <td>...</td>\n      <td>...</td>\n      <td>...</td>\n      <td>...</td>\n      <td>...</td>\n      <td>...</td>\n      <td>...</td>\n      <td>...</td>\n      <td>...</td>\n      <td>...</td>\n      <td>...</td>\n      <td>...</td>\n      <td>...</td>\n      <td>...</td>\n      <td>...</td>\n      <td>...</td>\n      <td>...</td>\n      <td>...</td>\n      <td>...</td>\n      <td>...</td>\n      <td>...</td>\n      <td>...</td>\n      <td>...</td>\n      <td>...</td>\n      <td>...</td>\n      <td>...</td>\n      <td>...</td>\n      <td>...</td>\n      <td>...</td>\n      <td>...</td>\n      <td>...</td>\n      <td>...</td>\n    </tr>\n    <tr>\n      <th>2540035</th>\n      <td>59.166.0.1</td>\n      <td>38606</td>\n      <td>149.171.126.9</td>\n      <td>80</td>\n      <td>tcp</td>\n      <td>CON</td>\n      <td>0.564998</td>\n      <td>14106</td>\n      <td>772406</td>\n      <td>31</td>\n      <td>29</td>\n      <td>2</td>\n      <td>262</td>\n      <td>http</td>\n      <td>198981.250000</td>\n      <td>1.091598e+07</td>\n      <td>262</td>\n      <td>526</td>\n      <td>255</td>\n      <td>255</td>\n      <td>162243658</td>\n      <td>163257853</td>\n      <td>54</td>\n      <td>1468</td>\n      <td>1</td>\n      <td>372266</td>\n      <td>116.321921</td>\n      <td>69.874077</td>\n      <td>1424262068</td>\n      <td>1424262069</td>\n      <td>2.123130</td>\n      <td>1.075171</td>\n      <td>0.000669</td>\n      <td>0.000530</td>\n      <td>0.000139</td>\n      <td>0</td>\n      <td>0</td>\n      <td>2.0</td>\n      <td>NaN</td>\n      <td></td>\n      <td>1</td>\n      <td>1</td>\n      <td>4</td>\n      <td>2</td>\n      <td>2</td>\n      <td>2</td>\n      <td>2</td>\n      <td>Normal</td>\n      <td>0</td>\n    </tr>\n    <tr>\n      <th>2540037</th>\n      <td>59.166.0.1</td>\n      <td>38606</td>\n      <td>149.171.126.9</td>\n      <td>80</td>\n      <td>tcp</td>\n      <td>CON</td>\n      <td>0.564998</td>\n      <td>14106</td>\n      <td>772406</td>\n      <td>31</td>\n      <td>29</td>\n      <td>2</td>\n      <td>262</td>\n      <td>undefined</td>\n      <td>198981.250000</td>\n      <td>1.091598e+07</td>\n      <td>262</td>\n      <td>526</td>\n      <td>255</td>\n      <td>255</td>\n      <td>162243658</td>\n      <td>163257853</td>\n      <td>54</td>\n      <td>1468</td>\n      <td>1</td>\n      <td>372266</td>\n      <td>116.321921</td>\n      <td>69.874077</td>\n      <td>1424262068</td>\n      <td>1424262069</td>\n      <td>2.123130</td>\n      <td>1.075171</td>\n      <td>0.000669</td>\n      <td>0.000530</td>\n      <td>0.000139</td>\n      <td>0</td>\n      <td>0</td>\n      <td>2.0</td>\n      <td>NaN</td>\n      <td></td>\n      <td>2</td>\n      <td>1</td>\n      <td>4</td>\n      <td>2</td>\n      <td>2</td>\n      <td>2</td>\n      <td>2</td>\n      <td>Normal</td>\n      <td>0</td>\n    </tr>\n    <tr>\n      <th>2540038</th>\n      <td>59.166.0.5</td>\n      <td>33094</td>\n      <td>149.171.126.7</td>\n      <td>43433</td>\n      <td>tcp</td>\n      <td>FIN</td>\n      <td>0.087306</td>\n      <td>320</td>\n      <td>1828</td>\n      <td>31</td>\n      <td>29</td>\n      <td>1</td>\n      <td>2</td>\n      <td>ftp-data</td>\n      <td>24465.671880</td>\n      <td>1.466108e+05</td>\n      <td>6</td>\n      <td>8</td>\n      <td>255</td>\n      <td>255</td>\n      <td>4035116044</td>\n      <td>222196311</td>\n      <td>53</td>\n      <td>229</td>\n      <td>0</td>\n      <td>0</td>\n      <td>1221.136547</td>\n      <td>30.096029</td>\n      <td>1424262068</td>\n      <td>1424262069</td>\n      <td>17.394400</td>\n      <td>12.405143</td>\n      <td>0.000608</td>\n      <td>0.000468</td>\n      <td>0.000140</td>\n      <td>0</td>\n      <td>0</td>\n      <td>NaN</td>\n      <td>NaN</td>\n      <td></td>\n      <td>1</td>\n      <td>2</td>\n      <td>3</td>\n      <td>3</td>\n      <td>1</td>\n      <td>1</td>\n      <td>3</td>\n      <td>Normal</td>\n      <td>0</td>\n    </tr>\n    <tr>\n      <th>2540041</th>\n      <td>59.166.0.9</td>\n      <td>35433</td>\n      <td>149.171.126.0</td>\n      <td>80</td>\n      <td>tcp</td>\n      <td>CON</td>\n      <td>2.200934</td>\n      <td>3498</td>\n      <td>166054</td>\n      <td>31</td>\n      <td>29</td>\n      <td>2</td>\n      <td>57</td>\n      <td>http</td>\n      <td>12496.513670</td>\n      <td>5.983751e+05</td>\n      <td>58</td>\n      <td>116</td>\n      <td>255</td>\n      <td>255</td>\n      <td>1289728069</td>\n      <td>3436097151</td>\n      <td>60</td>\n      <td>1432</td>\n      <td>1</td>\n      <td>79745</td>\n      <td>2868.893137</td>\n      <td>1951.035944</td>\n      <td>1424262067</td>\n      <td>1424262069</td>\n      <td>38.609700</td>\n      <td>19.133826</td>\n      <td>0.000680</td>\n      <td>0.000541</td>\n      <td>0.000139</td>\n      <td>0</td>\n      <td>0</td>\n      <td>2.0</td>\n      <td>NaN</td>\n      <td></td>\n      <td>1</td>\n      <td>1</td>\n      <td>2</td>\n      <td>4</td>\n      <td>2</td>\n      <td>2</td>\n      <td>2</td>\n      <td>Normal</td>\n      <td>0</td>\n    </tr>\n    <tr>\n      <th>2540042</th>\n      <td>175.45.176.0</td>\n      <td>17293</td>\n      <td>149.171.126.17</td>\n      <td>110</td>\n      <td>tcp</td>\n      <td>CON</td>\n      <td>0.942984</td>\n      <td>574</td>\n      <td>676</td>\n      <td>62</td>\n      <td>252</td>\n      <td>5</td>\n      <td>6</td>\n      <td>pop3</td>\n      <td>4470.913574</td>\n      <td>5.259898e+03</td>\n      <td>12</td>\n      <td>12</td>\n      <td>255</td>\n      <td>255</td>\n      <td>3026824982</td>\n      <td>3748412468</td>\n      <td>48</td>\n      <td>56</td>\n      <td>0</td>\n      <td>0</td>\n      <td>3903.523582</td>\n      <td>95.650531</td>\n      <td>1424262068</td>\n      <td>1424262069</td>\n      <td>79.714089</td>\n      <td>80.827180</td>\n      <td>0.139446</td>\n      <td>0.053884</td>\n      <td>0.085562</td>\n      <td>0</td>\n      <td>3</td>\n      <td>NaN</td>\n      <td>NaN</td>\n      <td></td>\n      <td>1</td>\n      <td>1</td>\n      <td>2</td>\n      <td>4</td>\n      <td>2</td>\n      <td>2</td>\n      <td>2</td>\n      <td>Exploits</td>\n      <td>1</td>\n    </tr>\n  </tbody>\n</table>\n<p>2059418 rows × 49 columns</p>\n</div>"
     },
     "execution_count": 9,
     "metadata": {},
     "output_type": "execute_result"
    }
   ],
   "source": [
    "ds_full_new"
   ],
   "metadata": {
    "collapsed": false,
    "pycharm": {
     "name": "#%%\n"
    }
   }
  },
  {
   "cell_type": "code",
   "execution_count": 10,
   "outputs": [
    {
     "data": {
      "text/plain": "         sport dsport proto state       dur  sbytes  dbytes  sttl  dttl  \\\n0        33661   1024   udp   CON  0.036133     528     304    31    29   \n1         1464     53   udp   CON  0.001119     146     178    31    29   \n2         3593     53   udp   CON  0.001209     132     164    31    29   \n3        49664     53   udp   CON  0.001169     146     178    31    29   \n4        32119    111   udp   CON  0.078339     568     312    31    29   \n...        ...    ...   ...   ...       ...     ...     ...   ...   ...   \n2540035  38606     80   tcp   CON  0.564998   14106  772406    31    29   \n2540037  38606     80   tcp   CON  0.564998   14106  772406    31    29   \n2540038  33094  43433   tcp   FIN  0.087306     320    1828    31    29   \n2540041  35433     80   tcp   CON  2.200934    3498  166054    31    29   \n2540042  17293    110   tcp   CON  0.942984     574     676    62   252   \n\n         sloss  dloss    service          Sload         Dload  Spkts  Dpkts  \\\n0            0      0  undefined   87676.085940  5.048017e+04      4      4   \n1            0      0        dns  521894.531300  6.362824e+05      2      2   \n2            0      0        dns  436724.562500  5.425972e+05      2      2   \n3            0      0        dns  499572.250000  6.090676e+05      2      2   \n4            0      0  undefined   43503.234380  2.389614e+04      4      4   \n...        ...    ...        ...            ...           ...    ...    ...   \n2540035      2    262       http  198981.250000  1.091598e+07    262    526   \n2540037      2    262  undefined  198981.250000  1.091598e+07    262    526   \n2540038      1      2   ftp-data   24465.671880  1.466108e+05      6      8   \n2540041      2     57       http   12496.513670  5.983751e+05     58    116   \n2540042      5      6       pop3    4470.913574  5.259898e+03     12     12   \n\n         swin  dwin       stcpb       dtcpb  smeansz  dmeansz  trans_depth  \\\n0           0     0           0           0      132       76            0   \n1           0     0           0           0       73       89            0   \n2           0     0           0           0       66       82            0   \n3           0     0           0           0       73       89            0   \n4           0     0           0           0      142       78            0   \n...       ...   ...         ...         ...      ...      ...          ...   \n2540035   255   255   162243658   163257853       54     1468            1   \n2540037   255   255   162243658   163257853       54     1468            1   \n2540038   255   255  4035116044   222196311       53      229            0   \n2540041   255   255  1289728069  3436097151       60     1432            1   \n2540042   255   255  3026824982  3748412468       48       56            0   \n\n         res_bdy_len         Sjit         Djit       Stime       Ltime  \\\n0                  0     9.891010    10.682733  1421927414  1421927414   \n1                  0     0.000000     0.000000  1421927414  1421927414   \n2                  0     0.000000     0.000000  1421927414  1421927414   \n3                  0     0.000000     0.000000  1421927414  1421927414   \n4                  0    29.682221    34.370340  1421927414  1421927414   \n...              ...          ...          ...         ...         ...   \n2540035       372266   116.321921    69.874077  1424262068  1424262069   \n2540037       372266   116.321921    69.874077  1424262068  1424262069   \n2540038            0  1221.136547    30.096029  1424262068  1424262069   \n2540041        79745  2868.893137  1951.035944  1424262067  1424262069   \n2540042            0  3903.523582    95.650531  1424262068  1424262069   \n\n           Sintpkt    Dintpkt    tcprtt    synack    ackdat  is_sm_ips_ports  \\\n0         7.005000   7.564333  0.000000  0.000000  0.000000                0   \n1         0.017000   0.013000  0.000000  0.000000  0.000000                0   \n2         0.043000   0.014000  0.000000  0.000000  0.000000                0   \n3         0.005000   0.003000  0.000000  0.000000  0.000000                0   \n4        21.003000  24.315000  0.000000  0.000000  0.000000                0   \n...            ...        ...       ...       ...       ...              ...   \n2540035   2.123130   1.075171  0.000669  0.000530  0.000139                0   \n2540037   2.123130   1.075171  0.000669  0.000530  0.000139                0   \n2540038  17.394400  12.405143  0.000608  0.000468  0.000140                0   \n2540041  38.609700  19.133826  0.000680  0.000541  0.000139                0   \n2540042  79.714089  80.827180  0.139446  0.053884  0.085562                0   \n\n         ct_state_ttl  ct_flw_http_mthd  is_ftp_login ct_ftp_cmd  ct_srv_src  \\\n0                   0               0.0           0.0          0           2   \n1                   0               0.0           0.0          0          12   \n2                   0               0.0           0.0          0           6   \n3                   0               0.0           0.0          0           7   \n4                   0               0.0           0.0          0           2   \n...               ...               ...           ...        ...         ...   \n2540035             0               2.0           NaN                      1   \n2540037             0               2.0           NaN                      2   \n2540038             0               NaN           NaN                      1   \n2540041             0               2.0           NaN                      1   \n2540042             3               NaN           NaN                      1   \n\n         ct_srv_dst  ct_dst_ltm  ct_src_ ltm  ct_src_dport_ltm  \\\n0                 4           2            3                 1   \n1                 8           1            2                 2   \n2                 9           1            1                 1   \n3                 9           1            1                 1   \n4                 4           2            3                 1   \n...             ...         ...          ...               ...   \n2540035           1           4            2                 2   \n2540037           1           4            2                 2   \n2540038           2           3            3                 1   \n2540041           1           2            4                 2   \n2540042           1           2            4                 2   \n\n         ct_dst_sport_ltm  ct_dst_src_ltm attack_cat  label  \n0                       1               2     Normal      0  \n1                       1               1     Normal      0  \n2                       1               1     Normal      0  \n3                       1               1     Normal      0  \n4                       1               2     Normal      0  \n...                   ...             ...        ...    ...  \n2540035                 2               2     Normal      0  \n2540037                 2               2     Normal      0  \n2540038                 1               3     Normal      0  \n2540041                 2               2     Normal      0  \n2540042                 2               2   Exploits      1  \n\n[2059418 rows x 47 columns]",
      "text/html": "<div>\n<style scoped>\n    .dataframe tbody tr th:only-of-type {\n        vertical-align: middle;\n    }\n\n    .dataframe tbody tr th {\n        vertical-align: top;\n    }\n\n    .dataframe thead th {\n        text-align: right;\n    }\n</style>\n<table border=\"1\" class=\"dataframe\">\n  <thead>\n    <tr style=\"text-align: right;\">\n      <th></th>\n      <th>sport</th>\n      <th>dsport</th>\n      <th>proto</th>\n      <th>state</th>\n      <th>dur</th>\n      <th>sbytes</th>\n      <th>dbytes</th>\n      <th>sttl</th>\n      <th>dttl</th>\n      <th>sloss</th>\n      <th>dloss</th>\n      <th>service</th>\n      <th>Sload</th>\n      <th>Dload</th>\n      <th>Spkts</th>\n      <th>Dpkts</th>\n      <th>swin</th>\n      <th>dwin</th>\n      <th>stcpb</th>\n      <th>dtcpb</th>\n      <th>smeansz</th>\n      <th>dmeansz</th>\n      <th>trans_depth</th>\n      <th>res_bdy_len</th>\n      <th>Sjit</th>\n      <th>Djit</th>\n      <th>Stime</th>\n      <th>Ltime</th>\n      <th>Sintpkt</th>\n      <th>Dintpkt</th>\n      <th>tcprtt</th>\n      <th>synack</th>\n      <th>ackdat</th>\n      <th>is_sm_ips_ports</th>\n      <th>ct_state_ttl</th>\n      <th>ct_flw_http_mthd</th>\n      <th>is_ftp_login</th>\n      <th>ct_ftp_cmd</th>\n      <th>ct_srv_src</th>\n      <th>ct_srv_dst</th>\n      <th>ct_dst_ltm</th>\n      <th>ct_src_ ltm</th>\n      <th>ct_src_dport_ltm</th>\n      <th>ct_dst_sport_ltm</th>\n      <th>ct_dst_src_ltm</th>\n      <th>attack_cat</th>\n      <th>label</th>\n    </tr>\n  </thead>\n  <tbody>\n    <tr>\n      <th>0</th>\n      <td>33661</td>\n      <td>1024</td>\n      <td>udp</td>\n      <td>CON</td>\n      <td>0.036133</td>\n      <td>528</td>\n      <td>304</td>\n      <td>31</td>\n      <td>29</td>\n      <td>0</td>\n      <td>0</td>\n      <td>undefined</td>\n      <td>87676.085940</td>\n      <td>5.048017e+04</td>\n      <td>4</td>\n      <td>4</td>\n      <td>0</td>\n      <td>0</td>\n      <td>0</td>\n      <td>0</td>\n      <td>132</td>\n      <td>76</td>\n      <td>0</td>\n      <td>0</td>\n      <td>9.891010</td>\n      <td>10.682733</td>\n      <td>1421927414</td>\n      <td>1421927414</td>\n      <td>7.005000</td>\n      <td>7.564333</td>\n      <td>0.000000</td>\n      <td>0.000000</td>\n      <td>0.000000</td>\n      <td>0</td>\n      <td>0</td>\n      <td>0.0</td>\n      <td>0.0</td>\n      <td>0</td>\n      <td>2</td>\n      <td>4</td>\n      <td>2</td>\n      <td>3</td>\n      <td>1</td>\n      <td>1</td>\n      <td>2</td>\n      <td>Normal</td>\n      <td>0</td>\n    </tr>\n    <tr>\n      <th>1</th>\n      <td>1464</td>\n      <td>53</td>\n      <td>udp</td>\n      <td>CON</td>\n      <td>0.001119</td>\n      <td>146</td>\n      <td>178</td>\n      <td>31</td>\n      <td>29</td>\n      <td>0</td>\n      <td>0</td>\n      <td>dns</td>\n      <td>521894.531300</td>\n      <td>6.362824e+05</td>\n      <td>2</td>\n      <td>2</td>\n      <td>0</td>\n      <td>0</td>\n      <td>0</td>\n      <td>0</td>\n      <td>73</td>\n      <td>89</td>\n      <td>0</td>\n      <td>0</td>\n      <td>0.000000</td>\n      <td>0.000000</td>\n      <td>1421927414</td>\n      <td>1421927414</td>\n      <td>0.017000</td>\n      <td>0.013000</td>\n      <td>0.000000</td>\n      <td>0.000000</td>\n      <td>0.000000</td>\n      <td>0</td>\n      <td>0</td>\n      <td>0.0</td>\n      <td>0.0</td>\n      <td>0</td>\n      <td>12</td>\n      <td>8</td>\n      <td>1</td>\n      <td>2</td>\n      <td>2</td>\n      <td>1</td>\n      <td>1</td>\n      <td>Normal</td>\n      <td>0</td>\n    </tr>\n    <tr>\n      <th>2</th>\n      <td>3593</td>\n      <td>53</td>\n      <td>udp</td>\n      <td>CON</td>\n      <td>0.001209</td>\n      <td>132</td>\n      <td>164</td>\n      <td>31</td>\n      <td>29</td>\n      <td>0</td>\n      <td>0</td>\n      <td>dns</td>\n      <td>436724.562500</td>\n      <td>5.425972e+05</td>\n      <td>2</td>\n      <td>2</td>\n      <td>0</td>\n      <td>0</td>\n      <td>0</td>\n      <td>0</td>\n      <td>66</td>\n      <td>82</td>\n      <td>0</td>\n      <td>0</td>\n      <td>0.000000</td>\n      <td>0.000000</td>\n      <td>1421927414</td>\n      <td>1421927414</td>\n      <td>0.043000</td>\n      <td>0.014000</td>\n      <td>0.000000</td>\n      <td>0.000000</td>\n      <td>0.000000</td>\n      <td>0</td>\n      <td>0</td>\n      <td>0.0</td>\n      <td>0.0</td>\n      <td>0</td>\n      <td>6</td>\n      <td>9</td>\n      <td>1</td>\n      <td>1</td>\n      <td>1</td>\n      <td>1</td>\n      <td>1</td>\n      <td>Normal</td>\n      <td>0</td>\n    </tr>\n    <tr>\n      <th>3</th>\n      <td>49664</td>\n      <td>53</td>\n      <td>udp</td>\n      <td>CON</td>\n      <td>0.001169</td>\n      <td>146</td>\n      <td>178</td>\n      <td>31</td>\n      <td>29</td>\n      <td>0</td>\n      <td>0</td>\n      <td>dns</td>\n      <td>499572.250000</td>\n      <td>6.090676e+05</td>\n      <td>2</td>\n      <td>2</td>\n      <td>0</td>\n      <td>0</td>\n      <td>0</td>\n      <td>0</td>\n      <td>73</td>\n      <td>89</td>\n      <td>0</td>\n      <td>0</td>\n      <td>0.000000</td>\n      <td>0.000000</td>\n      <td>1421927414</td>\n      <td>1421927414</td>\n      <td>0.005000</td>\n      <td>0.003000</td>\n      <td>0.000000</td>\n      <td>0.000000</td>\n      <td>0.000000</td>\n      <td>0</td>\n      <td>0</td>\n      <td>0.0</td>\n      <td>0.0</td>\n      <td>0</td>\n      <td>7</td>\n      <td>9</td>\n      <td>1</td>\n      <td>1</td>\n      <td>1</td>\n      <td>1</td>\n      <td>1</td>\n      <td>Normal</td>\n      <td>0</td>\n    </tr>\n    <tr>\n      <th>4</th>\n      <td>32119</td>\n      <td>111</td>\n      <td>udp</td>\n      <td>CON</td>\n      <td>0.078339</td>\n      <td>568</td>\n      <td>312</td>\n      <td>31</td>\n      <td>29</td>\n      <td>0</td>\n      <td>0</td>\n      <td>undefined</td>\n      <td>43503.234380</td>\n      <td>2.389614e+04</td>\n      <td>4</td>\n      <td>4</td>\n      <td>0</td>\n      <td>0</td>\n      <td>0</td>\n      <td>0</td>\n      <td>142</td>\n      <td>78</td>\n      <td>0</td>\n      <td>0</td>\n      <td>29.682221</td>\n      <td>34.370340</td>\n      <td>1421927414</td>\n      <td>1421927414</td>\n      <td>21.003000</td>\n      <td>24.315000</td>\n      <td>0.000000</td>\n      <td>0.000000</td>\n      <td>0.000000</td>\n      <td>0</td>\n      <td>0</td>\n      <td>0.0</td>\n      <td>0.0</td>\n      <td>0</td>\n      <td>2</td>\n      <td>4</td>\n      <td>2</td>\n      <td>3</td>\n      <td>1</td>\n      <td>1</td>\n      <td>2</td>\n      <td>Normal</td>\n      <td>0</td>\n    </tr>\n    <tr>\n      <th>...</th>\n      <td>...</td>\n      <td>...</td>\n      <td>...</td>\n      <td>...</td>\n      <td>...</td>\n      <td>...</td>\n      <td>...</td>\n      <td>...</td>\n      <td>...</td>\n      <td>...</td>\n      <td>...</td>\n      <td>...</td>\n      <td>...</td>\n      <td>...</td>\n      <td>...</td>\n      <td>...</td>\n      <td>...</td>\n      <td>...</td>\n      <td>...</td>\n      <td>...</td>\n      <td>...</td>\n      <td>...</td>\n      <td>...</td>\n      <td>...</td>\n      <td>...</td>\n      <td>...</td>\n      <td>...</td>\n      <td>...</td>\n      <td>...</td>\n      <td>...</td>\n      <td>...</td>\n      <td>...</td>\n      <td>...</td>\n      <td>...</td>\n      <td>...</td>\n      <td>...</td>\n      <td>...</td>\n      <td>...</td>\n      <td>...</td>\n      <td>...</td>\n      <td>...</td>\n      <td>...</td>\n      <td>...</td>\n      <td>...</td>\n      <td>...</td>\n      <td>...</td>\n      <td>...</td>\n    </tr>\n    <tr>\n      <th>2540035</th>\n      <td>38606</td>\n      <td>80</td>\n      <td>tcp</td>\n      <td>CON</td>\n      <td>0.564998</td>\n      <td>14106</td>\n      <td>772406</td>\n      <td>31</td>\n      <td>29</td>\n      <td>2</td>\n      <td>262</td>\n      <td>http</td>\n      <td>198981.250000</td>\n      <td>1.091598e+07</td>\n      <td>262</td>\n      <td>526</td>\n      <td>255</td>\n      <td>255</td>\n      <td>162243658</td>\n      <td>163257853</td>\n      <td>54</td>\n      <td>1468</td>\n      <td>1</td>\n      <td>372266</td>\n      <td>116.321921</td>\n      <td>69.874077</td>\n      <td>1424262068</td>\n      <td>1424262069</td>\n      <td>2.123130</td>\n      <td>1.075171</td>\n      <td>0.000669</td>\n      <td>0.000530</td>\n      <td>0.000139</td>\n      <td>0</td>\n      <td>0</td>\n      <td>2.0</td>\n      <td>NaN</td>\n      <td></td>\n      <td>1</td>\n      <td>1</td>\n      <td>4</td>\n      <td>2</td>\n      <td>2</td>\n      <td>2</td>\n      <td>2</td>\n      <td>Normal</td>\n      <td>0</td>\n    </tr>\n    <tr>\n      <th>2540037</th>\n      <td>38606</td>\n      <td>80</td>\n      <td>tcp</td>\n      <td>CON</td>\n      <td>0.564998</td>\n      <td>14106</td>\n      <td>772406</td>\n      <td>31</td>\n      <td>29</td>\n      <td>2</td>\n      <td>262</td>\n      <td>undefined</td>\n      <td>198981.250000</td>\n      <td>1.091598e+07</td>\n      <td>262</td>\n      <td>526</td>\n      <td>255</td>\n      <td>255</td>\n      <td>162243658</td>\n      <td>163257853</td>\n      <td>54</td>\n      <td>1468</td>\n      <td>1</td>\n      <td>372266</td>\n      <td>116.321921</td>\n      <td>69.874077</td>\n      <td>1424262068</td>\n      <td>1424262069</td>\n      <td>2.123130</td>\n      <td>1.075171</td>\n      <td>0.000669</td>\n      <td>0.000530</td>\n      <td>0.000139</td>\n      <td>0</td>\n      <td>0</td>\n      <td>2.0</td>\n      <td>NaN</td>\n      <td></td>\n      <td>2</td>\n      <td>1</td>\n      <td>4</td>\n      <td>2</td>\n      <td>2</td>\n      <td>2</td>\n      <td>2</td>\n      <td>Normal</td>\n      <td>0</td>\n    </tr>\n    <tr>\n      <th>2540038</th>\n      <td>33094</td>\n      <td>43433</td>\n      <td>tcp</td>\n      <td>FIN</td>\n      <td>0.087306</td>\n      <td>320</td>\n      <td>1828</td>\n      <td>31</td>\n      <td>29</td>\n      <td>1</td>\n      <td>2</td>\n      <td>ftp-data</td>\n      <td>24465.671880</td>\n      <td>1.466108e+05</td>\n      <td>6</td>\n      <td>8</td>\n      <td>255</td>\n      <td>255</td>\n      <td>4035116044</td>\n      <td>222196311</td>\n      <td>53</td>\n      <td>229</td>\n      <td>0</td>\n      <td>0</td>\n      <td>1221.136547</td>\n      <td>30.096029</td>\n      <td>1424262068</td>\n      <td>1424262069</td>\n      <td>17.394400</td>\n      <td>12.405143</td>\n      <td>0.000608</td>\n      <td>0.000468</td>\n      <td>0.000140</td>\n      <td>0</td>\n      <td>0</td>\n      <td>NaN</td>\n      <td>NaN</td>\n      <td></td>\n      <td>1</td>\n      <td>2</td>\n      <td>3</td>\n      <td>3</td>\n      <td>1</td>\n      <td>1</td>\n      <td>3</td>\n      <td>Normal</td>\n      <td>0</td>\n    </tr>\n    <tr>\n      <th>2540041</th>\n      <td>35433</td>\n      <td>80</td>\n      <td>tcp</td>\n      <td>CON</td>\n      <td>2.200934</td>\n      <td>3498</td>\n      <td>166054</td>\n      <td>31</td>\n      <td>29</td>\n      <td>2</td>\n      <td>57</td>\n      <td>http</td>\n      <td>12496.513670</td>\n      <td>5.983751e+05</td>\n      <td>58</td>\n      <td>116</td>\n      <td>255</td>\n      <td>255</td>\n      <td>1289728069</td>\n      <td>3436097151</td>\n      <td>60</td>\n      <td>1432</td>\n      <td>1</td>\n      <td>79745</td>\n      <td>2868.893137</td>\n      <td>1951.035944</td>\n      <td>1424262067</td>\n      <td>1424262069</td>\n      <td>38.609700</td>\n      <td>19.133826</td>\n      <td>0.000680</td>\n      <td>0.000541</td>\n      <td>0.000139</td>\n      <td>0</td>\n      <td>0</td>\n      <td>2.0</td>\n      <td>NaN</td>\n      <td></td>\n      <td>1</td>\n      <td>1</td>\n      <td>2</td>\n      <td>4</td>\n      <td>2</td>\n      <td>2</td>\n      <td>2</td>\n      <td>Normal</td>\n      <td>0</td>\n    </tr>\n    <tr>\n      <th>2540042</th>\n      <td>17293</td>\n      <td>110</td>\n      <td>tcp</td>\n      <td>CON</td>\n      <td>0.942984</td>\n      <td>574</td>\n      <td>676</td>\n      <td>62</td>\n      <td>252</td>\n      <td>5</td>\n      <td>6</td>\n      <td>pop3</td>\n      <td>4470.913574</td>\n      <td>5.259898e+03</td>\n      <td>12</td>\n      <td>12</td>\n      <td>255</td>\n      <td>255</td>\n      <td>3026824982</td>\n      <td>3748412468</td>\n      <td>48</td>\n      <td>56</td>\n      <td>0</td>\n      <td>0</td>\n      <td>3903.523582</td>\n      <td>95.650531</td>\n      <td>1424262068</td>\n      <td>1424262069</td>\n      <td>79.714089</td>\n      <td>80.827180</td>\n      <td>0.139446</td>\n      <td>0.053884</td>\n      <td>0.085562</td>\n      <td>0</td>\n      <td>3</td>\n      <td>NaN</td>\n      <td>NaN</td>\n      <td></td>\n      <td>1</td>\n      <td>1</td>\n      <td>2</td>\n      <td>4</td>\n      <td>2</td>\n      <td>2</td>\n      <td>2</td>\n      <td>Exploits</td>\n      <td>1</td>\n    </tr>\n  </tbody>\n</table>\n<p>2059418 rows × 47 columns</p>\n</div>"
     },
     "execution_count": 10,
     "metadata": {},
     "output_type": "execute_result"
    }
   ],
   "source": [
    "#Ignore source IP, destination IP and attack category (for binary) features when training and testing the model.\n",
    "# drop source IP and destination IP\n",
    "ds_full_new.drop(columns=['srcip','dstip'],inplace=True)\n",
    "ds_full_new"
   ],
   "metadata": {
    "collapsed": false,
    "pycharm": {
     "name": "#%%\n"
    }
   }
  },
  {
   "cell_type": "code",
   "execution_count": 11,
   "outputs": [
    {
     "data": {
      "text/plain": "         sport dsport proto state       dur  sbytes  dbytes  sttl  dttl  \\\n0        33661   1024   udp   CON  0.036133     528     304    31    29   \n1         1464     53   udp   CON  0.001119     146     178    31    29   \n2         3593     53   udp   CON  0.001209     132     164    31    29   \n3        49664     53   udp   CON  0.001169     146     178    31    29   \n4        32119    111   udp   CON  0.078339     568     312    31    29   \n...        ...    ...   ...   ...       ...     ...     ...   ...   ...   \n2540035  38606     80   tcp   CON  0.564998   14106  772406    31    29   \n2540037  38606     80   tcp   CON  0.564998   14106  772406    31    29   \n2540038  33094  43433   tcp   FIN  0.087306     320    1828    31    29   \n2540041  35433     80   tcp   CON  2.200934    3498  166054    31    29   \n2540042  17293    110   tcp   CON  0.942984     574     676    62   252   \n\n         sloss  dloss    service          Sload         Dload  Spkts  Dpkts  \\\n0            0      0  undefined   87676.085940  5.048017e+04      4      4   \n1            0      0        dns  521894.531300  6.362824e+05      2      2   \n2            0      0        dns  436724.562500  5.425972e+05      2      2   \n3            0      0        dns  499572.250000  6.090676e+05      2      2   \n4            0      0  undefined   43503.234380  2.389614e+04      4      4   \n...        ...    ...        ...            ...           ...    ...    ...   \n2540035      2    262       http  198981.250000  1.091598e+07    262    526   \n2540037      2    262  undefined  198981.250000  1.091598e+07    262    526   \n2540038      1      2   ftp-data   24465.671880  1.466108e+05      6      8   \n2540041      2     57       http   12496.513670  5.983751e+05     58    116   \n2540042      5      6       pop3    4470.913574  5.259898e+03     12     12   \n\n         swin  dwin       stcpb       dtcpb  smeansz  dmeansz  trans_depth  \\\n0           0     0           0           0      132       76            0   \n1           0     0           0           0       73       89            0   \n2           0     0           0           0       66       82            0   \n3           0     0           0           0       73       89            0   \n4           0     0           0           0      142       78            0   \n...       ...   ...         ...         ...      ...      ...          ...   \n2540035   255   255   162243658   163257853       54     1468            1   \n2540037   255   255   162243658   163257853       54     1468            1   \n2540038   255   255  4035116044   222196311       53      229            0   \n2540041   255   255  1289728069  3436097151       60     1432            1   \n2540042   255   255  3026824982  3748412468       48       56            0   \n\n         res_bdy_len         Sjit         Djit       Stime       Ltime  \\\n0                  0     9.891010    10.682733  1421927414  1421927414   \n1                  0     0.000000     0.000000  1421927414  1421927414   \n2                  0     0.000000     0.000000  1421927414  1421927414   \n3                  0     0.000000     0.000000  1421927414  1421927414   \n4                  0    29.682221    34.370340  1421927414  1421927414   \n...              ...          ...          ...         ...         ...   \n2540035       372266   116.321921    69.874077  1424262068  1424262069   \n2540037       372266   116.321921    69.874077  1424262068  1424262069   \n2540038            0  1221.136547    30.096029  1424262068  1424262069   \n2540041        79745  2868.893137  1951.035944  1424262067  1424262069   \n2540042            0  3903.523582    95.650531  1424262068  1424262069   \n\n           Sintpkt    Dintpkt    tcprtt    synack    ackdat  is_sm_ips_ports  \\\n0         7.005000   7.564333  0.000000  0.000000  0.000000                0   \n1         0.017000   0.013000  0.000000  0.000000  0.000000                0   \n2         0.043000   0.014000  0.000000  0.000000  0.000000                0   \n3         0.005000   0.003000  0.000000  0.000000  0.000000                0   \n4        21.003000  24.315000  0.000000  0.000000  0.000000                0   \n...            ...        ...       ...       ...       ...              ...   \n2540035   2.123130   1.075171  0.000669  0.000530  0.000139                0   \n2540037   2.123130   1.075171  0.000669  0.000530  0.000139                0   \n2540038  17.394400  12.405143  0.000608  0.000468  0.000140                0   \n2540041  38.609700  19.133826  0.000680  0.000541  0.000139                0   \n2540042  79.714089  80.827180  0.139446  0.053884  0.085562                0   \n\n         ct_state_ttl  ct_flw_http_mthd  is_ftp_login ct_ftp_cmd  ct_srv_src  \\\n0                   0               0.0           0.0          0           2   \n1                   0               0.0           0.0          0          12   \n2                   0               0.0           0.0          0           6   \n3                   0               0.0           0.0          0           7   \n4                   0               0.0           0.0          0           2   \n...               ...               ...           ...        ...         ...   \n2540035             0               2.0           NaN                      1   \n2540037             0               2.0           NaN                      2   \n2540038             0               NaN           NaN                      1   \n2540041             0               2.0           NaN                      1   \n2540042             3               NaN           NaN                      1   \n\n         ct_srv_dst  ct_dst_ltm  ct_src_ ltm  ct_src_dport_ltm  \\\n0                 4           2            3                 1   \n1                 8           1            2                 2   \n2                 9           1            1                 1   \n3                 9           1            1                 1   \n4                 4           2            3                 1   \n...             ...         ...          ...               ...   \n2540035           1           4            2                 2   \n2540037           1           4            2                 2   \n2540038           2           3            3                 1   \n2540041           1           2            4                 2   \n2540042           1           2            4                 2   \n\n         ct_dst_sport_ltm  ct_dst_src_ltm  label  \n0                       1               2      0  \n1                       1               1      0  \n2                       1               1      0  \n3                       1               1      0  \n4                       1               2      0  \n...                   ...             ...    ...  \n2540035                 2               2      0  \n2540037                 2               2      0  \n2540038                 1               3      0  \n2540041                 2               2      0  \n2540042                 2               2      1  \n\n[2059418 rows x 46 columns]",
      "text/html": "<div>\n<style scoped>\n    .dataframe tbody tr th:only-of-type {\n        vertical-align: middle;\n    }\n\n    .dataframe tbody tr th {\n        vertical-align: top;\n    }\n\n    .dataframe thead th {\n        text-align: right;\n    }\n</style>\n<table border=\"1\" class=\"dataframe\">\n  <thead>\n    <tr style=\"text-align: right;\">\n      <th></th>\n      <th>sport</th>\n      <th>dsport</th>\n      <th>proto</th>\n      <th>state</th>\n      <th>dur</th>\n      <th>sbytes</th>\n      <th>dbytes</th>\n      <th>sttl</th>\n      <th>dttl</th>\n      <th>sloss</th>\n      <th>dloss</th>\n      <th>service</th>\n      <th>Sload</th>\n      <th>Dload</th>\n      <th>Spkts</th>\n      <th>Dpkts</th>\n      <th>swin</th>\n      <th>dwin</th>\n      <th>stcpb</th>\n      <th>dtcpb</th>\n      <th>smeansz</th>\n      <th>dmeansz</th>\n      <th>trans_depth</th>\n      <th>res_bdy_len</th>\n      <th>Sjit</th>\n      <th>Djit</th>\n      <th>Stime</th>\n      <th>Ltime</th>\n      <th>Sintpkt</th>\n      <th>Dintpkt</th>\n      <th>tcprtt</th>\n      <th>synack</th>\n      <th>ackdat</th>\n      <th>is_sm_ips_ports</th>\n      <th>ct_state_ttl</th>\n      <th>ct_flw_http_mthd</th>\n      <th>is_ftp_login</th>\n      <th>ct_ftp_cmd</th>\n      <th>ct_srv_src</th>\n      <th>ct_srv_dst</th>\n      <th>ct_dst_ltm</th>\n      <th>ct_src_ ltm</th>\n      <th>ct_src_dport_ltm</th>\n      <th>ct_dst_sport_ltm</th>\n      <th>ct_dst_src_ltm</th>\n      <th>label</th>\n    </tr>\n  </thead>\n  <tbody>\n    <tr>\n      <th>0</th>\n      <td>33661</td>\n      <td>1024</td>\n      <td>udp</td>\n      <td>CON</td>\n      <td>0.036133</td>\n      <td>528</td>\n      <td>304</td>\n      <td>31</td>\n      <td>29</td>\n      <td>0</td>\n      <td>0</td>\n      <td>undefined</td>\n      <td>87676.085940</td>\n      <td>5.048017e+04</td>\n      <td>4</td>\n      <td>4</td>\n      <td>0</td>\n      <td>0</td>\n      <td>0</td>\n      <td>0</td>\n      <td>132</td>\n      <td>76</td>\n      <td>0</td>\n      <td>0</td>\n      <td>9.891010</td>\n      <td>10.682733</td>\n      <td>1421927414</td>\n      <td>1421927414</td>\n      <td>7.005000</td>\n      <td>7.564333</td>\n      <td>0.000000</td>\n      <td>0.000000</td>\n      <td>0.000000</td>\n      <td>0</td>\n      <td>0</td>\n      <td>0.0</td>\n      <td>0.0</td>\n      <td>0</td>\n      <td>2</td>\n      <td>4</td>\n      <td>2</td>\n      <td>3</td>\n      <td>1</td>\n      <td>1</td>\n      <td>2</td>\n      <td>0</td>\n    </tr>\n    <tr>\n      <th>1</th>\n      <td>1464</td>\n      <td>53</td>\n      <td>udp</td>\n      <td>CON</td>\n      <td>0.001119</td>\n      <td>146</td>\n      <td>178</td>\n      <td>31</td>\n      <td>29</td>\n      <td>0</td>\n      <td>0</td>\n      <td>dns</td>\n      <td>521894.531300</td>\n      <td>6.362824e+05</td>\n      <td>2</td>\n      <td>2</td>\n      <td>0</td>\n      <td>0</td>\n      <td>0</td>\n      <td>0</td>\n      <td>73</td>\n      <td>89</td>\n      <td>0</td>\n      <td>0</td>\n      <td>0.000000</td>\n      <td>0.000000</td>\n      <td>1421927414</td>\n      <td>1421927414</td>\n      <td>0.017000</td>\n      <td>0.013000</td>\n      <td>0.000000</td>\n      <td>0.000000</td>\n      <td>0.000000</td>\n      <td>0</td>\n      <td>0</td>\n      <td>0.0</td>\n      <td>0.0</td>\n      <td>0</td>\n      <td>12</td>\n      <td>8</td>\n      <td>1</td>\n      <td>2</td>\n      <td>2</td>\n      <td>1</td>\n      <td>1</td>\n      <td>0</td>\n    </tr>\n    <tr>\n      <th>2</th>\n      <td>3593</td>\n      <td>53</td>\n      <td>udp</td>\n      <td>CON</td>\n      <td>0.001209</td>\n      <td>132</td>\n      <td>164</td>\n      <td>31</td>\n      <td>29</td>\n      <td>0</td>\n      <td>0</td>\n      <td>dns</td>\n      <td>436724.562500</td>\n      <td>5.425972e+05</td>\n      <td>2</td>\n      <td>2</td>\n      <td>0</td>\n      <td>0</td>\n      <td>0</td>\n      <td>0</td>\n      <td>66</td>\n      <td>82</td>\n      <td>0</td>\n      <td>0</td>\n      <td>0.000000</td>\n      <td>0.000000</td>\n      <td>1421927414</td>\n      <td>1421927414</td>\n      <td>0.043000</td>\n      <td>0.014000</td>\n      <td>0.000000</td>\n      <td>0.000000</td>\n      <td>0.000000</td>\n      <td>0</td>\n      <td>0</td>\n      <td>0.0</td>\n      <td>0.0</td>\n      <td>0</td>\n      <td>6</td>\n      <td>9</td>\n      <td>1</td>\n      <td>1</td>\n      <td>1</td>\n      <td>1</td>\n      <td>1</td>\n      <td>0</td>\n    </tr>\n    <tr>\n      <th>3</th>\n      <td>49664</td>\n      <td>53</td>\n      <td>udp</td>\n      <td>CON</td>\n      <td>0.001169</td>\n      <td>146</td>\n      <td>178</td>\n      <td>31</td>\n      <td>29</td>\n      <td>0</td>\n      <td>0</td>\n      <td>dns</td>\n      <td>499572.250000</td>\n      <td>6.090676e+05</td>\n      <td>2</td>\n      <td>2</td>\n      <td>0</td>\n      <td>0</td>\n      <td>0</td>\n      <td>0</td>\n      <td>73</td>\n      <td>89</td>\n      <td>0</td>\n      <td>0</td>\n      <td>0.000000</td>\n      <td>0.000000</td>\n      <td>1421927414</td>\n      <td>1421927414</td>\n      <td>0.005000</td>\n      <td>0.003000</td>\n      <td>0.000000</td>\n      <td>0.000000</td>\n      <td>0.000000</td>\n      <td>0</td>\n      <td>0</td>\n      <td>0.0</td>\n      <td>0.0</td>\n      <td>0</td>\n      <td>7</td>\n      <td>9</td>\n      <td>1</td>\n      <td>1</td>\n      <td>1</td>\n      <td>1</td>\n      <td>1</td>\n      <td>0</td>\n    </tr>\n    <tr>\n      <th>4</th>\n      <td>32119</td>\n      <td>111</td>\n      <td>udp</td>\n      <td>CON</td>\n      <td>0.078339</td>\n      <td>568</td>\n      <td>312</td>\n      <td>31</td>\n      <td>29</td>\n      <td>0</td>\n      <td>0</td>\n      <td>undefined</td>\n      <td>43503.234380</td>\n      <td>2.389614e+04</td>\n      <td>4</td>\n      <td>4</td>\n      <td>0</td>\n      <td>0</td>\n      <td>0</td>\n      <td>0</td>\n      <td>142</td>\n      <td>78</td>\n      <td>0</td>\n      <td>0</td>\n      <td>29.682221</td>\n      <td>34.370340</td>\n      <td>1421927414</td>\n      <td>1421927414</td>\n      <td>21.003000</td>\n      <td>24.315000</td>\n      <td>0.000000</td>\n      <td>0.000000</td>\n      <td>0.000000</td>\n      <td>0</td>\n      <td>0</td>\n      <td>0.0</td>\n      <td>0.0</td>\n      <td>0</td>\n      <td>2</td>\n      <td>4</td>\n      <td>2</td>\n      <td>3</td>\n      <td>1</td>\n      <td>1</td>\n      <td>2</td>\n      <td>0</td>\n    </tr>\n    <tr>\n      <th>...</th>\n      <td>...</td>\n      <td>...</td>\n      <td>...</td>\n      <td>...</td>\n      <td>...</td>\n      <td>...</td>\n      <td>...</td>\n      <td>...</td>\n      <td>...</td>\n      <td>...</td>\n      <td>...</td>\n      <td>...</td>\n      <td>...</td>\n      <td>...</td>\n      <td>...</td>\n      <td>...</td>\n      <td>...</td>\n      <td>...</td>\n      <td>...</td>\n      <td>...</td>\n      <td>...</td>\n      <td>...</td>\n      <td>...</td>\n      <td>...</td>\n      <td>...</td>\n      <td>...</td>\n      <td>...</td>\n      <td>...</td>\n      <td>...</td>\n      <td>...</td>\n      <td>...</td>\n      <td>...</td>\n      <td>...</td>\n      <td>...</td>\n      <td>...</td>\n      <td>...</td>\n      <td>...</td>\n      <td>...</td>\n      <td>...</td>\n      <td>...</td>\n      <td>...</td>\n      <td>...</td>\n      <td>...</td>\n      <td>...</td>\n      <td>...</td>\n      <td>...</td>\n    </tr>\n    <tr>\n      <th>2540035</th>\n      <td>38606</td>\n      <td>80</td>\n      <td>tcp</td>\n      <td>CON</td>\n      <td>0.564998</td>\n      <td>14106</td>\n      <td>772406</td>\n      <td>31</td>\n      <td>29</td>\n      <td>2</td>\n      <td>262</td>\n      <td>http</td>\n      <td>198981.250000</td>\n      <td>1.091598e+07</td>\n      <td>262</td>\n      <td>526</td>\n      <td>255</td>\n      <td>255</td>\n      <td>162243658</td>\n      <td>163257853</td>\n      <td>54</td>\n      <td>1468</td>\n      <td>1</td>\n      <td>372266</td>\n      <td>116.321921</td>\n      <td>69.874077</td>\n      <td>1424262068</td>\n      <td>1424262069</td>\n      <td>2.123130</td>\n      <td>1.075171</td>\n      <td>0.000669</td>\n      <td>0.000530</td>\n      <td>0.000139</td>\n      <td>0</td>\n      <td>0</td>\n      <td>2.0</td>\n      <td>NaN</td>\n      <td></td>\n      <td>1</td>\n      <td>1</td>\n      <td>4</td>\n      <td>2</td>\n      <td>2</td>\n      <td>2</td>\n      <td>2</td>\n      <td>0</td>\n    </tr>\n    <tr>\n      <th>2540037</th>\n      <td>38606</td>\n      <td>80</td>\n      <td>tcp</td>\n      <td>CON</td>\n      <td>0.564998</td>\n      <td>14106</td>\n      <td>772406</td>\n      <td>31</td>\n      <td>29</td>\n      <td>2</td>\n      <td>262</td>\n      <td>undefined</td>\n      <td>198981.250000</td>\n      <td>1.091598e+07</td>\n      <td>262</td>\n      <td>526</td>\n      <td>255</td>\n      <td>255</td>\n      <td>162243658</td>\n      <td>163257853</td>\n      <td>54</td>\n      <td>1468</td>\n      <td>1</td>\n      <td>372266</td>\n      <td>116.321921</td>\n      <td>69.874077</td>\n      <td>1424262068</td>\n      <td>1424262069</td>\n      <td>2.123130</td>\n      <td>1.075171</td>\n      <td>0.000669</td>\n      <td>0.000530</td>\n      <td>0.000139</td>\n      <td>0</td>\n      <td>0</td>\n      <td>2.0</td>\n      <td>NaN</td>\n      <td></td>\n      <td>2</td>\n      <td>1</td>\n      <td>4</td>\n      <td>2</td>\n      <td>2</td>\n      <td>2</td>\n      <td>2</td>\n      <td>0</td>\n    </tr>\n    <tr>\n      <th>2540038</th>\n      <td>33094</td>\n      <td>43433</td>\n      <td>tcp</td>\n      <td>FIN</td>\n      <td>0.087306</td>\n      <td>320</td>\n      <td>1828</td>\n      <td>31</td>\n      <td>29</td>\n      <td>1</td>\n      <td>2</td>\n      <td>ftp-data</td>\n      <td>24465.671880</td>\n      <td>1.466108e+05</td>\n      <td>6</td>\n      <td>8</td>\n      <td>255</td>\n      <td>255</td>\n      <td>4035116044</td>\n      <td>222196311</td>\n      <td>53</td>\n      <td>229</td>\n      <td>0</td>\n      <td>0</td>\n      <td>1221.136547</td>\n      <td>30.096029</td>\n      <td>1424262068</td>\n      <td>1424262069</td>\n      <td>17.394400</td>\n      <td>12.405143</td>\n      <td>0.000608</td>\n      <td>0.000468</td>\n      <td>0.000140</td>\n      <td>0</td>\n      <td>0</td>\n      <td>NaN</td>\n      <td>NaN</td>\n      <td></td>\n      <td>1</td>\n      <td>2</td>\n      <td>3</td>\n      <td>3</td>\n      <td>1</td>\n      <td>1</td>\n      <td>3</td>\n      <td>0</td>\n    </tr>\n    <tr>\n      <th>2540041</th>\n      <td>35433</td>\n      <td>80</td>\n      <td>tcp</td>\n      <td>CON</td>\n      <td>2.200934</td>\n      <td>3498</td>\n      <td>166054</td>\n      <td>31</td>\n      <td>29</td>\n      <td>2</td>\n      <td>57</td>\n      <td>http</td>\n      <td>12496.513670</td>\n      <td>5.983751e+05</td>\n      <td>58</td>\n      <td>116</td>\n      <td>255</td>\n      <td>255</td>\n      <td>1289728069</td>\n      <td>3436097151</td>\n      <td>60</td>\n      <td>1432</td>\n      <td>1</td>\n      <td>79745</td>\n      <td>2868.893137</td>\n      <td>1951.035944</td>\n      <td>1424262067</td>\n      <td>1424262069</td>\n      <td>38.609700</td>\n      <td>19.133826</td>\n      <td>0.000680</td>\n      <td>0.000541</td>\n      <td>0.000139</td>\n      <td>0</td>\n      <td>0</td>\n      <td>2.0</td>\n      <td>NaN</td>\n      <td></td>\n      <td>1</td>\n      <td>1</td>\n      <td>2</td>\n      <td>4</td>\n      <td>2</td>\n      <td>2</td>\n      <td>2</td>\n      <td>0</td>\n    </tr>\n    <tr>\n      <th>2540042</th>\n      <td>17293</td>\n      <td>110</td>\n      <td>tcp</td>\n      <td>CON</td>\n      <td>0.942984</td>\n      <td>574</td>\n      <td>676</td>\n      <td>62</td>\n      <td>252</td>\n      <td>5</td>\n      <td>6</td>\n      <td>pop3</td>\n      <td>4470.913574</td>\n      <td>5.259898e+03</td>\n      <td>12</td>\n      <td>12</td>\n      <td>255</td>\n      <td>255</td>\n      <td>3026824982</td>\n      <td>3748412468</td>\n      <td>48</td>\n      <td>56</td>\n      <td>0</td>\n      <td>0</td>\n      <td>3903.523582</td>\n      <td>95.650531</td>\n      <td>1424262068</td>\n      <td>1424262069</td>\n      <td>79.714089</td>\n      <td>80.827180</td>\n      <td>0.139446</td>\n      <td>0.053884</td>\n      <td>0.085562</td>\n      <td>0</td>\n      <td>3</td>\n      <td>NaN</td>\n      <td>NaN</td>\n      <td></td>\n      <td>1</td>\n      <td>1</td>\n      <td>2</td>\n      <td>4</td>\n      <td>2</td>\n      <td>2</td>\n      <td>2</td>\n      <td>1</td>\n    </tr>\n  </tbody>\n</table>\n<p>2059418 rows × 46 columns</p>\n</div>"
     },
     "execution_count": 11,
     "metadata": {},
     "output_type": "execute_result"
    }
   ],
   "source": [
    "#binary without the attack_cat\n",
    "ds_full_binary=ds_full_new.drop(columns='attack_cat')\n",
    "ds_full_binary"
   ],
   "metadata": {
    "collapsed": false,
    "pycharm": {
     "name": "#%%\n"
    }
   }
  },
  {
   "cell_type": "code",
   "execution_count": 12,
   "outputs": [],
   "source": [
    "#0 is normal, 1 is attack\n",
    "#make the multiclass now\n",
    "ds_full_multiclass=ds_full_new.drop(columns='label')"
   ],
   "metadata": {
    "collapsed": false,
    "pycharm": {
     "name": "#%%\n"
    }
   }
  },
  {
   "cell_type": "code",
   "execution_count": 13,
   "outputs": [
    {
     "data": {
      "text/plain": "         sport dsport proto state       dur  sbytes  dbytes  sttl  dttl  \\\n0        33661   1024   udp   CON  0.036133     528     304    31    29   \n1         1464     53   udp   CON  0.001119     146     178    31    29   \n2         3593     53   udp   CON  0.001209     132     164    31    29   \n3        49664     53   udp   CON  0.001169     146     178    31    29   \n4        32119    111   udp   CON  0.078339     568     312    31    29   \n...        ...    ...   ...   ...       ...     ...     ...   ...   ...   \n2540035  38606     80   tcp   CON  0.564998   14106  772406    31    29   \n2540037  38606     80   tcp   CON  0.564998   14106  772406    31    29   \n2540038  33094  43433   tcp   FIN  0.087306     320    1828    31    29   \n2540041  35433     80   tcp   CON  2.200934    3498  166054    31    29   \n2540042  17293    110   tcp   CON  0.942984     574     676    62   252   \n\n         sloss  dloss    service          Sload         Dload  Spkts  Dpkts  \\\n0            0      0  undefined   87676.085940  5.048017e+04      4      4   \n1            0      0        dns  521894.531300  6.362824e+05      2      2   \n2            0      0        dns  436724.562500  5.425972e+05      2      2   \n3            0      0        dns  499572.250000  6.090676e+05      2      2   \n4            0      0  undefined   43503.234380  2.389614e+04      4      4   \n...        ...    ...        ...            ...           ...    ...    ...   \n2540035      2    262       http  198981.250000  1.091598e+07    262    526   \n2540037      2    262  undefined  198981.250000  1.091598e+07    262    526   \n2540038      1      2   ftp-data   24465.671880  1.466108e+05      6      8   \n2540041      2     57       http   12496.513670  5.983751e+05     58    116   \n2540042      5      6       pop3    4470.913574  5.259898e+03     12     12   \n\n         swin  dwin       stcpb       dtcpb  smeansz  dmeansz  trans_depth  \\\n0           0     0           0           0      132       76            0   \n1           0     0           0           0       73       89            0   \n2           0     0           0           0       66       82            0   \n3           0     0           0           0       73       89            0   \n4           0     0           0           0      142       78            0   \n...       ...   ...         ...         ...      ...      ...          ...   \n2540035   255   255   162243658   163257853       54     1468            1   \n2540037   255   255   162243658   163257853       54     1468            1   \n2540038   255   255  4035116044   222196311       53      229            0   \n2540041   255   255  1289728069  3436097151       60     1432            1   \n2540042   255   255  3026824982  3748412468       48       56            0   \n\n         res_bdy_len         Sjit         Djit       Stime       Ltime  \\\n0                  0     9.891010    10.682733  1421927414  1421927414   \n1                  0     0.000000     0.000000  1421927414  1421927414   \n2                  0     0.000000     0.000000  1421927414  1421927414   \n3                  0     0.000000     0.000000  1421927414  1421927414   \n4                  0    29.682221    34.370340  1421927414  1421927414   \n...              ...          ...          ...         ...         ...   \n2540035       372266   116.321921    69.874077  1424262068  1424262069   \n2540037       372266   116.321921    69.874077  1424262068  1424262069   \n2540038            0  1221.136547    30.096029  1424262068  1424262069   \n2540041        79745  2868.893137  1951.035944  1424262067  1424262069   \n2540042            0  3903.523582    95.650531  1424262068  1424262069   \n\n           Sintpkt    Dintpkt    tcprtt    synack    ackdat  is_sm_ips_ports  \\\n0         7.005000   7.564333  0.000000  0.000000  0.000000                0   \n1         0.017000   0.013000  0.000000  0.000000  0.000000                0   \n2         0.043000   0.014000  0.000000  0.000000  0.000000                0   \n3         0.005000   0.003000  0.000000  0.000000  0.000000                0   \n4        21.003000  24.315000  0.000000  0.000000  0.000000                0   \n...            ...        ...       ...       ...       ...              ...   \n2540035   2.123130   1.075171  0.000669  0.000530  0.000139                0   \n2540037   2.123130   1.075171  0.000669  0.000530  0.000139                0   \n2540038  17.394400  12.405143  0.000608  0.000468  0.000140                0   \n2540041  38.609700  19.133826  0.000680  0.000541  0.000139                0   \n2540042  79.714089  80.827180  0.139446  0.053884  0.085562                0   \n\n         ct_state_ttl  ct_flw_http_mthd  is_ftp_login ct_ftp_cmd  ct_srv_src  \\\n0                   0               0.0           0.0          0           2   \n1                   0               0.0           0.0          0          12   \n2                   0               0.0           0.0          0           6   \n3                   0               0.0           0.0          0           7   \n4                   0               0.0           0.0          0           2   \n...               ...               ...           ...        ...         ...   \n2540035             0               2.0           NaN                      1   \n2540037             0               2.0           NaN                      2   \n2540038             0               NaN           NaN                      1   \n2540041             0               2.0           NaN                      1   \n2540042             3               NaN           NaN                      1   \n\n         ct_srv_dst  ct_dst_ltm  ct_src_ ltm  ct_src_dport_ltm  \\\n0                 4           2            3                 1   \n1                 8           1            2                 2   \n2                 9           1            1                 1   \n3                 9           1            1                 1   \n4                 4           2            3                 1   \n...             ...         ...          ...               ...   \n2540035           1           4            2                 2   \n2540037           1           4            2                 2   \n2540038           2           3            3                 1   \n2540041           1           2            4                 2   \n2540042           1           2            4                 2   \n\n         ct_dst_sport_ltm  ct_dst_src_ltm attack_cat  \n0                       1               2     Normal  \n1                       1               1     Normal  \n2                       1               1     Normal  \n3                       1               1     Normal  \n4                       1               2     Normal  \n...                   ...             ...        ...  \n2540035                 2               2     Normal  \n2540037                 2               2     Normal  \n2540038                 1               3     Normal  \n2540041                 2               2     Normal  \n2540042                 2               2   Exploits  \n\n[2059418 rows x 46 columns]",
      "text/html": "<div>\n<style scoped>\n    .dataframe tbody tr th:only-of-type {\n        vertical-align: middle;\n    }\n\n    .dataframe tbody tr th {\n        vertical-align: top;\n    }\n\n    .dataframe thead th {\n        text-align: right;\n    }\n</style>\n<table border=\"1\" class=\"dataframe\">\n  <thead>\n    <tr style=\"text-align: right;\">\n      <th></th>\n      <th>sport</th>\n      <th>dsport</th>\n      <th>proto</th>\n      <th>state</th>\n      <th>dur</th>\n      <th>sbytes</th>\n      <th>dbytes</th>\n      <th>sttl</th>\n      <th>dttl</th>\n      <th>sloss</th>\n      <th>dloss</th>\n      <th>service</th>\n      <th>Sload</th>\n      <th>Dload</th>\n      <th>Spkts</th>\n      <th>Dpkts</th>\n      <th>swin</th>\n      <th>dwin</th>\n      <th>stcpb</th>\n      <th>dtcpb</th>\n      <th>smeansz</th>\n      <th>dmeansz</th>\n      <th>trans_depth</th>\n      <th>res_bdy_len</th>\n      <th>Sjit</th>\n      <th>Djit</th>\n      <th>Stime</th>\n      <th>Ltime</th>\n      <th>Sintpkt</th>\n      <th>Dintpkt</th>\n      <th>tcprtt</th>\n      <th>synack</th>\n      <th>ackdat</th>\n      <th>is_sm_ips_ports</th>\n      <th>ct_state_ttl</th>\n      <th>ct_flw_http_mthd</th>\n      <th>is_ftp_login</th>\n      <th>ct_ftp_cmd</th>\n      <th>ct_srv_src</th>\n      <th>ct_srv_dst</th>\n      <th>ct_dst_ltm</th>\n      <th>ct_src_ ltm</th>\n      <th>ct_src_dport_ltm</th>\n      <th>ct_dst_sport_ltm</th>\n      <th>ct_dst_src_ltm</th>\n      <th>attack_cat</th>\n    </tr>\n  </thead>\n  <tbody>\n    <tr>\n      <th>0</th>\n      <td>33661</td>\n      <td>1024</td>\n      <td>udp</td>\n      <td>CON</td>\n      <td>0.036133</td>\n      <td>528</td>\n      <td>304</td>\n      <td>31</td>\n      <td>29</td>\n      <td>0</td>\n      <td>0</td>\n      <td>undefined</td>\n      <td>87676.085940</td>\n      <td>5.048017e+04</td>\n      <td>4</td>\n      <td>4</td>\n      <td>0</td>\n      <td>0</td>\n      <td>0</td>\n      <td>0</td>\n      <td>132</td>\n      <td>76</td>\n      <td>0</td>\n      <td>0</td>\n      <td>9.891010</td>\n      <td>10.682733</td>\n      <td>1421927414</td>\n      <td>1421927414</td>\n      <td>7.005000</td>\n      <td>7.564333</td>\n      <td>0.000000</td>\n      <td>0.000000</td>\n      <td>0.000000</td>\n      <td>0</td>\n      <td>0</td>\n      <td>0.0</td>\n      <td>0.0</td>\n      <td>0</td>\n      <td>2</td>\n      <td>4</td>\n      <td>2</td>\n      <td>3</td>\n      <td>1</td>\n      <td>1</td>\n      <td>2</td>\n      <td>Normal</td>\n    </tr>\n    <tr>\n      <th>1</th>\n      <td>1464</td>\n      <td>53</td>\n      <td>udp</td>\n      <td>CON</td>\n      <td>0.001119</td>\n      <td>146</td>\n      <td>178</td>\n      <td>31</td>\n      <td>29</td>\n      <td>0</td>\n      <td>0</td>\n      <td>dns</td>\n      <td>521894.531300</td>\n      <td>6.362824e+05</td>\n      <td>2</td>\n      <td>2</td>\n      <td>0</td>\n      <td>0</td>\n      <td>0</td>\n      <td>0</td>\n      <td>73</td>\n      <td>89</td>\n      <td>0</td>\n      <td>0</td>\n      <td>0.000000</td>\n      <td>0.000000</td>\n      <td>1421927414</td>\n      <td>1421927414</td>\n      <td>0.017000</td>\n      <td>0.013000</td>\n      <td>0.000000</td>\n      <td>0.000000</td>\n      <td>0.000000</td>\n      <td>0</td>\n      <td>0</td>\n      <td>0.0</td>\n      <td>0.0</td>\n      <td>0</td>\n      <td>12</td>\n      <td>8</td>\n      <td>1</td>\n      <td>2</td>\n      <td>2</td>\n      <td>1</td>\n      <td>1</td>\n      <td>Normal</td>\n    </tr>\n    <tr>\n      <th>2</th>\n      <td>3593</td>\n      <td>53</td>\n      <td>udp</td>\n      <td>CON</td>\n      <td>0.001209</td>\n      <td>132</td>\n      <td>164</td>\n      <td>31</td>\n      <td>29</td>\n      <td>0</td>\n      <td>0</td>\n      <td>dns</td>\n      <td>436724.562500</td>\n      <td>5.425972e+05</td>\n      <td>2</td>\n      <td>2</td>\n      <td>0</td>\n      <td>0</td>\n      <td>0</td>\n      <td>0</td>\n      <td>66</td>\n      <td>82</td>\n      <td>0</td>\n      <td>0</td>\n      <td>0.000000</td>\n      <td>0.000000</td>\n      <td>1421927414</td>\n      <td>1421927414</td>\n      <td>0.043000</td>\n      <td>0.014000</td>\n      <td>0.000000</td>\n      <td>0.000000</td>\n      <td>0.000000</td>\n      <td>0</td>\n      <td>0</td>\n      <td>0.0</td>\n      <td>0.0</td>\n      <td>0</td>\n      <td>6</td>\n      <td>9</td>\n      <td>1</td>\n      <td>1</td>\n      <td>1</td>\n      <td>1</td>\n      <td>1</td>\n      <td>Normal</td>\n    </tr>\n    <tr>\n      <th>3</th>\n      <td>49664</td>\n      <td>53</td>\n      <td>udp</td>\n      <td>CON</td>\n      <td>0.001169</td>\n      <td>146</td>\n      <td>178</td>\n      <td>31</td>\n      <td>29</td>\n      <td>0</td>\n      <td>0</td>\n      <td>dns</td>\n      <td>499572.250000</td>\n      <td>6.090676e+05</td>\n      <td>2</td>\n      <td>2</td>\n      <td>0</td>\n      <td>0</td>\n      <td>0</td>\n      <td>0</td>\n      <td>73</td>\n      <td>89</td>\n      <td>0</td>\n      <td>0</td>\n      <td>0.000000</td>\n      <td>0.000000</td>\n      <td>1421927414</td>\n      <td>1421927414</td>\n      <td>0.005000</td>\n      <td>0.003000</td>\n      <td>0.000000</td>\n      <td>0.000000</td>\n      <td>0.000000</td>\n      <td>0</td>\n      <td>0</td>\n      <td>0.0</td>\n      <td>0.0</td>\n      <td>0</td>\n      <td>7</td>\n      <td>9</td>\n      <td>1</td>\n      <td>1</td>\n      <td>1</td>\n      <td>1</td>\n      <td>1</td>\n      <td>Normal</td>\n    </tr>\n    <tr>\n      <th>4</th>\n      <td>32119</td>\n      <td>111</td>\n      <td>udp</td>\n      <td>CON</td>\n      <td>0.078339</td>\n      <td>568</td>\n      <td>312</td>\n      <td>31</td>\n      <td>29</td>\n      <td>0</td>\n      <td>0</td>\n      <td>undefined</td>\n      <td>43503.234380</td>\n      <td>2.389614e+04</td>\n      <td>4</td>\n      <td>4</td>\n      <td>0</td>\n      <td>0</td>\n      <td>0</td>\n      <td>0</td>\n      <td>142</td>\n      <td>78</td>\n      <td>0</td>\n      <td>0</td>\n      <td>29.682221</td>\n      <td>34.370340</td>\n      <td>1421927414</td>\n      <td>1421927414</td>\n      <td>21.003000</td>\n      <td>24.315000</td>\n      <td>0.000000</td>\n      <td>0.000000</td>\n      <td>0.000000</td>\n      <td>0</td>\n      <td>0</td>\n      <td>0.0</td>\n      <td>0.0</td>\n      <td>0</td>\n      <td>2</td>\n      <td>4</td>\n      <td>2</td>\n      <td>3</td>\n      <td>1</td>\n      <td>1</td>\n      <td>2</td>\n      <td>Normal</td>\n    </tr>\n    <tr>\n      <th>...</th>\n      <td>...</td>\n      <td>...</td>\n      <td>...</td>\n      <td>...</td>\n      <td>...</td>\n      <td>...</td>\n      <td>...</td>\n      <td>...</td>\n      <td>...</td>\n      <td>...</td>\n      <td>...</td>\n      <td>...</td>\n      <td>...</td>\n      <td>...</td>\n      <td>...</td>\n      <td>...</td>\n      <td>...</td>\n      <td>...</td>\n      <td>...</td>\n      <td>...</td>\n      <td>...</td>\n      <td>...</td>\n      <td>...</td>\n      <td>...</td>\n      <td>...</td>\n      <td>...</td>\n      <td>...</td>\n      <td>...</td>\n      <td>...</td>\n      <td>...</td>\n      <td>...</td>\n      <td>...</td>\n      <td>...</td>\n      <td>...</td>\n      <td>...</td>\n      <td>...</td>\n      <td>...</td>\n      <td>...</td>\n      <td>...</td>\n      <td>...</td>\n      <td>...</td>\n      <td>...</td>\n      <td>...</td>\n      <td>...</td>\n      <td>...</td>\n      <td>...</td>\n    </tr>\n    <tr>\n      <th>2540035</th>\n      <td>38606</td>\n      <td>80</td>\n      <td>tcp</td>\n      <td>CON</td>\n      <td>0.564998</td>\n      <td>14106</td>\n      <td>772406</td>\n      <td>31</td>\n      <td>29</td>\n      <td>2</td>\n      <td>262</td>\n      <td>http</td>\n      <td>198981.250000</td>\n      <td>1.091598e+07</td>\n      <td>262</td>\n      <td>526</td>\n      <td>255</td>\n      <td>255</td>\n      <td>162243658</td>\n      <td>163257853</td>\n      <td>54</td>\n      <td>1468</td>\n      <td>1</td>\n      <td>372266</td>\n      <td>116.321921</td>\n      <td>69.874077</td>\n      <td>1424262068</td>\n      <td>1424262069</td>\n      <td>2.123130</td>\n      <td>1.075171</td>\n      <td>0.000669</td>\n      <td>0.000530</td>\n      <td>0.000139</td>\n      <td>0</td>\n      <td>0</td>\n      <td>2.0</td>\n      <td>NaN</td>\n      <td></td>\n      <td>1</td>\n      <td>1</td>\n      <td>4</td>\n      <td>2</td>\n      <td>2</td>\n      <td>2</td>\n      <td>2</td>\n      <td>Normal</td>\n    </tr>\n    <tr>\n      <th>2540037</th>\n      <td>38606</td>\n      <td>80</td>\n      <td>tcp</td>\n      <td>CON</td>\n      <td>0.564998</td>\n      <td>14106</td>\n      <td>772406</td>\n      <td>31</td>\n      <td>29</td>\n      <td>2</td>\n      <td>262</td>\n      <td>undefined</td>\n      <td>198981.250000</td>\n      <td>1.091598e+07</td>\n      <td>262</td>\n      <td>526</td>\n      <td>255</td>\n      <td>255</td>\n      <td>162243658</td>\n      <td>163257853</td>\n      <td>54</td>\n      <td>1468</td>\n      <td>1</td>\n      <td>372266</td>\n      <td>116.321921</td>\n      <td>69.874077</td>\n      <td>1424262068</td>\n      <td>1424262069</td>\n      <td>2.123130</td>\n      <td>1.075171</td>\n      <td>0.000669</td>\n      <td>0.000530</td>\n      <td>0.000139</td>\n      <td>0</td>\n      <td>0</td>\n      <td>2.0</td>\n      <td>NaN</td>\n      <td></td>\n      <td>2</td>\n      <td>1</td>\n      <td>4</td>\n      <td>2</td>\n      <td>2</td>\n      <td>2</td>\n      <td>2</td>\n      <td>Normal</td>\n    </tr>\n    <tr>\n      <th>2540038</th>\n      <td>33094</td>\n      <td>43433</td>\n      <td>tcp</td>\n      <td>FIN</td>\n      <td>0.087306</td>\n      <td>320</td>\n      <td>1828</td>\n      <td>31</td>\n      <td>29</td>\n      <td>1</td>\n      <td>2</td>\n      <td>ftp-data</td>\n      <td>24465.671880</td>\n      <td>1.466108e+05</td>\n      <td>6</td>\n      <td>8</td>\n      <td>255</td>\n      <td>255</td>\n      <td>4035116044</td>\n      <td>222196311</td>\n      <td>53</td>\n      <td>229</td>\n      <td>0</td>\n      <td>0</td>\n      <td>1221.136547</td>\n      <td>30.096029</td>\n      <td>1424262068</td>\n      <td>1424262069</td>\n      <td>17.394400</td>\n      <td>12.405143</td>\n      <td>0.000608</td>\n      <td>0.000468</td>\n      <td>0.000140</td>\n      <td>0</td>\n      <td>0</td>\n      <td>NaN</td>\n      <td>NaN</td>\n      <td></td>\n      <td>1</td>\n      <td>2</td>\n      <td>3</td>\n      <td>3</td>\n      <td>1</td>\n      <td>1</td>\n      <td>3</td>\n      <td>Normal</td>\n    </tr>\n    <tr>\n      <th>2540041</th>\n      <td>35433</td>\n      <td>80</td>\n      <td>tcp</td>\n      <td>CON</td>\n      <td>2.200934</td>\n      <td>3498</td>\n      <td>166054</td>\n      <td>31</td>\n      <td>29</td>\n      <td>2</td>\n      <td>57</td>\n      <td>http</td>\n      <td>12496.513670</td>\n      <td>5.983751e+05</td>\n      <td>58</td>\n      <td>116</td>\n      <td>255</td>\n      <td>255</td>\n      <td>1289728069</td>\n      <td>3436097151</td>\n      <td>60</td>\n      <td>1432</td>\n      <td>1</td>\n      <td>79745</td>\n      <td>2868.893137</td>\n      <td>1951.035944</td>\n      <td>1424262067</td>\n      <td>1424262069</td>\n      <td>38.609700</td>\n      <td>19.133826</td>\n      <td>0.000680</td>\n      <td>0.000541</td>\n      <td>0.000139</td>\n      <td>0</td>\n      <td>0</td>\n      <td>2.0</td>\n      <td>NaN</td>\n      <td></td>\n      <td>1</td>\n      <td>1</td>\n      <td>2</td>\n      <td>4</td>\n      <td>2</td>\n      <td>2</td>\n      <td>2</td>\n      <td>Normal</td>\n    </tr>\n    <tr>\n      <th>2540042</th>\n      <td>17293</td>\n      <td>110</td>\n      <td>tcp</td>\n      <td>CON</td>\n      <td>0.942984</td>\n      <td>574</td>\n      <td>676</td>\n      <td>62</td>\n      <td>252</td>\n      <td>5</td>\n      <td>6</td>\n      <td>pop3</td>\n      <td>4470.913574</td>\n      <td>5.259898e+03</td>\n      <td>12</td>\n      <td>12</td>\n      <td>255</td>\n      <td>255</td>\n      <td>3026824982</td>\n      <td>3748412468</td>\n      <td>48</td>\n      <td>56</td>\n      <td>0</td>\n      <td>0</td>\n      <td>3903.523582</td>\n      <td>95.650531</td>\n      <td>1424262068</td>\n      <td>1424262069</td>\n      <td>79.714089</td>\n      <td>80.827180</td>\n      <td>0.139446</td>\n      <td>0.053884</td>\n      <td>0.085562</td>\n      <td>0</td>\n      <td>3</td>\n      <td>NaN</td>\n      <td>NaN</td>\n      <td></td>\n      <td>1</td>\n      <td>1</td>\n      <td>2</td>\n      <td>4</td>\n      <td>2</td>\n      <td>2</td>\n      <td>2</td>\n      <td>Exploits</td>\n    </tr>\n  </tbody>\n</table>\n<p>2059418 rows × 46 columns</p>\n</div>"
     },
     "execution_count": 13,
     "metadata": {},
     "output_type": "execute_result"
    }
   ],
   "source": [
    "ds_full_multiclass"
   ],
   "metadata": {
    "collapsed": false,
    "pycharm": {
     "name": "#%%\n"
    }
   }
  },
  {
   "cell_type": "code",
   "execution_count": 14,
   "outputs": [
    {
     "data": {
      "text/plain": "Normal              1959772\nExploits              27600\nGeneric               25378\n Fuzzers              17804\n Reconnaissance       11617\nDoS                    5665\n Fuzzers               3991\nAnalysis               2185\nReconnaissance         1740\nBackdoor               1684\n Shellcode             1288\nBackdoors               300\nShellcode               223\nWorms                   171\ndtype: int64"
     },
     "execution_count": 14,
     "metadata": {},
     "output_type": "execute_result"
    }
   ],
   "source": [
    "pd.value_counts(ds_full_multiclass.attack_cat.values)"
   ],
   "metadata": {
    "collapsed": false,
    "pycharm": {
     "name": "#%%\n"
    }
   }
  },
  {
   "cell_type": "code",
   "execution_count": 15,
   "outputs": [],
   "source": [
    "#there are some typos, have to fix\n",
    "ds_full_multiclass['attack_cat']=ds_full_multiclass['attack_cat'].str.strip()"
   ],
   "metadata": {
    "collapsed": false,
    "pycharm": {
     "name": "#%%\n"
    }
   }
  },
  {
   "cell_type": "code",
   "execution_count": 16,
   "outputs": [
    {
     "data": {
      "text/plain": "Normal            1959772\nExploits            27600\nGeneric             25378\nFuzzers             21795\nReconnaissance      13357\nDoS                  5665\nAnalysis             2185\nBackdoor             1684\nShellcode            1511\nBackdoors             300\nWorms                 171\ndtype: int64"
     },
     "execution_count": 16,
     "metadata": {},
     "output_type": "execute_result"
    }
   ],
   "source": [
    "pd.value_counts(ds_full_multiclass.attack_cat.values)"
   ],
   "metadata": {
    "collapsed": false,
    "pycharm": {
     "name": "#%%\n"
    }
   }
  },
  {
   "cell_type": "code",
   "execution_count": 17,
   "outputs": [
    {
     "data": {
      "text/plain": "Normal            1959772\nExploits            27600\nGeneric             25378\nFuzzers             21795\nReconnaissance      13357\nDoS                  5665\nAnalysis             2185\nBackdoor             1984\nShellcode            1511\nWorms                 171\ndtype: int64"
     },
     "execution_count": 17,
     "metadata": {},
     "output_type": "execute_result"
    }
   ],
   "source": [
    "ds_full_multiclass['attack_cat'].replace('Backdoors','Backdoor',inplace=True)\n",
    "pd.value_counts(ds_full_multiclass.attack_cat.values)"
   ],
   "metadata": {
    "collapsed": false,
    "pycharm": {
     "name": "#%%\n"
    }
   }
  },
  {
   "cell_type": "code",
   "execution_count": 18,
   "outputs": [
    {
     "data": {
      "text/plain": "array(['Normal', 'Exploits', 'Reconnaissance', 'DoS', 'Generic',\n       'Shellcode', 'Fuzzers', 'Worms', 'Backdoor', 'Analysis'],\n      dtype=object)"
     },
     "execution_count": 18,
     "metadata": {},
     "output_type": "execute_result"
    }
   ],
   "source": [
    "pd.unique(ds_full_multiclass.attack_cat)"
   ],
   "metadata": {
    "collapsed": false,
    "pycharm": {
     "name": "#%%\n"
    }
   }
  },
  {
   "cell_type": "code",
   "execution_count": 65,
   "outputs": [
    {
     "name": "stdout",
     "output_type": "stream",
     "text": [
      "         sport dsport proto state    service ct_ftp_cmd\n",
      "0        33661   1024   udp   CON  undefined          0\n",
      "1         1464     53   udp   CON        dns          0\n",
      "2         3593     53   udp   CON        dns          0\n",
      "3        49664     53   udp   CON        dns          0\n",
      "4        32119    111   udp   CON  undefined          0\n",
      "...        ...    ...   ...   ...        ...        ...\n",
      "2540035  38606     80   tcp   CON       http           \n",
      "2540037  38606     80   tcp   CON  undefined           \n",
      "2540038  33094  43433   tcp   FIN   ftp-data           \n",
      "2540041  35433     80   tcp   CON       http           \n",
      "2540042  17293    110   tcp   CON       pop3           \n",
      "\n",
      "[2059418 rows x 6 columns]\n"
     ]
    }
   ],
   "source": [
    "#now we should remove whitespaces everywhere\n",
    "ds_full_binary.isnull().sum()"
   ],
   "metadata": {
    "collapsed": false,
    "pycharm": {
     "name": "#%%\n"
    }
   }
  },
  {
   "cell_type": "code",
   "execution_count": 72,
   "outputs": [
    {
     "data": {
      "text/plain": "array(['0', 1, 6, 2, 4, 8, 5, 3, '1', '2', '4'], dtype=object)"
     },
     "execution_count": 72,
     "metadata": {},
     "output_type": "execute_result"
    }
   ],
   "source": [
    "pd.unique(ds_full_binary.ct_ftp_cmd)"
   ],
   "metadata": {
    "collapsed": false,
    "pycharm": {
     "name": "#%%\n"
    }
   }
  },
  {
   "cell_type": "code",
   "execution_count": 71,
   "outputs": [],
   "source": [
    "ds_full_binary['ct_ftp_cmd'].replace(1, '1',inplace=True)"
   ],
   "metadata": {
    "collapsed": false,
    "pycharm": {
     "name": "#%%\n"
    }
   }
  },
  {
   "cell_type": "code",
   "execution_count": 73,
   "outputs": [
    {
     "data": {
      "text/plain": "<pandas.io.formats.style.Styler at 0x2939fce95b0>",
      "text/html": "<style type=\"text/css\">\n#T_81f4c_row29_col1, #T_81f4c_row51_col1 {\n  background-color: lightgreen;\n}\n</style>\n<table id=\"T_81f4c_\">\n  <thead>\n    <tr>\n      <th class=\"blank level0\" >&nbsp;</th>\n      <th class=\"col_heading level0 col0\" >Description</th>\n      <th class=\"col_heading level0 col1\" >Value</th>\n    </tr>\n  </thead>\n  <tbody>\n    <tr>\n      <th id=\"T_81f4c_level0_row0\" class=\"row_heading level0 row0\" >0</th>\n      <td id=\"T_81f4c_row0_col0\" class=\"data row0 col0\" >session_id</td>\n      <td id=\"T_81f4c_row0_col1\" class=\"data row0 col1\" >264</td>\n    </tr>\n    <tr>\n      <th id=\"T_81f4c_level0_row1\" class=\"row_heading level0 row1\" >1</th>\n      <td id=\"T_81f4c_row1_col0\" class=\"data row1 col0\" >Target</td>\n      <td id=\"T_81f4c_row1_col1\" class=\"data row1 col1\" >label</td>\n    </tr>\n    <tr>\n      <th id=\"T_81f4c_level0_row2\" class=\"row_heading level0 row2\" >2</th>\n      <td id=\"T_81f4c_row2_col0\" class=\"data row2 col0\" >Target Type</td>\n      <td id=\"T_81f4c_row2_col1\" class=\"data row2 col1\" >Binary</td>\n    </tr>\n    <tr>\n      <th id=\"T_81f4c_level0_row3\" class=\"row_heading level0 row3\" >3</th>\n      <td id=\"T_81f4c_row3_col0\" class=\"data row3 col0\" >Label Encoded</td>\n      <td id=\"T_81f4c_row3_col1\" class=\"data row3 col1\" >0: 0, 1: 1</td>\n    </tr>\n    <tr>\n      <th id=\"T_81f4c_level0_row4\" class=\"row_heading level0 row4\" >4</th>\n      <td id=\"T_81f4c_row4_col0\" class=\"data row4 col0\" >Original Data</td>\n      <td id=\"T_81f4c_row4_col1\" class=\"data row4 col1\" >(2059418, 46)</td>\n    </tr>\n    <tr>\n      <th id=\"T_81f4c_level0_row5\" class=\"row_heading level0 row5\" >5</th>\n      <td id=\"T_81f4c_row5_col0\" class=\"data row5 col0\" >Missing Values</td>\n      <td id=\"T_81f4c_row5_col1\" class=\"data row5 col1\" >False</td>\n    </tr>\n    <tr>\n      <th id=\"T_81f4c_level0_row6\" class=\"row_heading level0 row6\" >6</th>\n      <td id=\"T_81f4c_row6_col0\" class=\"data row6 col0\" >Numeric Features</td>\n      <td id=\"T_81f4c_row6_col1\" class=\"data row6 col1\" >38</td>\n    </tr>\n    <tr>\n      <th id=\"T_81f4c_level0_row7\" class=\"row_heading level0 row7\" >7</th>\n      <td id=\"T_81f4c_row7_col0\" class=\"data row7 col0\" >Categorical Features</td>\n      <td id=\"T_81f4c_row7_col1\" class=\"data row7 col1\" >3</td>\n    </tr>\n    <tr>\n      <th id=\"T_81f4c_level0_row8\" class=\"row_heading level0 row8\" >8</th>\n      <td id=\"T_81f4c_row8_col0\" class=\"data row8 col0\" >Ordinal Features</td>\n      <td id=\"T_81f4c_row8_col1\" class=\"data row8 col1\" >False</td>\n    </tr>\n    <tr>\n      <th id=\"T_81f4c_level0_row9\" class=\"row_heading level0 row9\" >9</th>\n      <td id=\"T_81f4c_row9_col0\" class=\"data row9 col0\" >High Cardinality Features</td>\n      <td id=\"T_81f4c_row9_col1\" class=\"data row9 col1\" >False</td>\n    </tr>\n    <tr>\n      <th id=\"T_81f4c_level0_row10\" class=\"row_heading level0 row10\" >10</th>\n      <td id=\"T_81f4c_row10_col0\" class=\"data row10 col0\" >High Cardinality Method</td>\n      <td id=\"T_81f4c_row10_col1\" class=\"data row10 col1\" >None</td>\n    </tr>\n    <tr>\n      <th id=\"T_81f4c_level0_row11\" class=\"row_heading level0 row11\" >11</th>\n      <td id=\"T_81f4c_row11_col0\" class=\"data row11 col0\" >Transformed Train Set</td>\n      <td id=\"T_81f4c_row11_col1\" class=\"data row11 col1\" >(1647534, 54)</td>\n    </tr>\n    <tr>\n      <th id=\"T_81f4c_level0_row12\" class=\"row_heading level0 row12\" >12</th>\n      <td id=\"T_81f4c_row12_col0\" class=\"data row12 col0\" >Transformed Test Set</td>\n      <td id=\"T_81f4c_row12_col1\" class=\"data row12 col1\" >(411884, 54)</td>\n    </tr>\n    <tr>\n      <th id=\"T_81f4c_level0_row13\" class=\"row_heading level0 row13\" >13</th>\n      <td id=\"T_81f4c_row13_col0\" class=\"data row13 col0\" >Shuffle Train-Test</td>\n      <td id=\"T_81f4c_row13_col1\" class=\"data row13 col1\" >True</td>\n    </tr>\n    <tr>\n      <th id=\"T_81f4c_level0_row14\" class=\"row_heading level0 row14\" >14</th>\n      <td id=\"T_81f4c_row14_col0\" class=\"data row14 col0\" >Stratify Train-Test</td>\n      <td id=\"T_81f4c_row14_col1\" class=\"data row14 col1\" >False</td>\n    </tr>\n    <tr>\n      <th id=\"T_81f4c_level0_row15\" class=\"row_heading level0 row15\" >15</th>\n      <td id=\"T_81f4c_row15_col0\" class=\"data row15 col0\" >Fold Generator</td>\n      <td id=\"T_81f4c_row15_col1\" class=\"data row15 col1\" >StratifiedKFold</td>\n    </tr>\n    <tr>\n      <th id=\"T_81f4c_level0_row16\" class=\"row_heading level0 row16\" >16</th>\n      <td id=\"T_81f4c_row16_col0\" class=\"data row16 col0\" >Fold Number</td>\n      <td id=\"T_81f4c_row16_col1\" class=\"data row16 col1\" >10</td>\n    </tr>\n    <tr>\n      <th id=\"T_81f4c_level0_row17\" class=\"row_heading level0 row17\" >17</th>\n      <td id=\"T_81f4c_row17_col0\" class=\"data row17 col0\" >CPU Jobs</td>\n      <td id=\"T_81f4c_row17_col1\" class=\"data row17 col1\" >-1</td>\n    </tr>\n    <tr>\n      <th id=\"T_81f4c_level0_row18\" class=\"row_heading level0 row18\" >18</th>\n      <td id=\"T_81f4c_row18_col0\" class=\"data row18 col0\" >Use GPU</td>\n      <td id=\"T_81f4c_row18_col1\" class=\"data row18 col1\" >False</td>\n    </tr>\n    <tr>\n      <th id=\"T_81f4c_level0_row19\" class=\"row_heading level0 row19\" >19</th>\n      <td id=\"T_81f4c_row19_col0\" class=\"data row19 col0\" >Log Experiment</td>\n      <td id=\"T_81f4c_row19_col1\" class=\"data row19 col1\" >False</td>\n    </tr>\n    <tr>\n      <th id=\"T_81f4c_level0_row20\" class=\"row_heading level0 row20\" >20</th>\n      <td id=\"T_81f4c_row20_col0\" class=\"data row20 col0\" >Experiment Name</td>\n      <td id=\"T_81f4c_row20_col1\" class=\"data row20 col1\" >clf-default-name</td>\n    </tr>\n    <tr>\n      <th id=\"T_81f4c_level0_row21\" class=\"row_heading level0 row21\" >21</th>\n      <td id=\"T_81f4c_row21_col0\" class=\"data row21 col0\" >USI</td>\n      <td id=\"T_81f4c_row21_col1\" class=\"data row21 col1\" >3000</td>\n    </tr>\n    <tr>\n      <th id=\"T_81f4c_level0_row22\" class=\"row_heading level0 row22\" >22</th>\n      <td id=\"T_81f4c_row22_col0\" class=\"data row22 col0\" >Imputation Type</td>\n      <td id=\"T_81f4c_row22_col1\" class=\"data row22 col1\" >simple</td>\n    </tr>\n    <tr>\n      <th id=\"T_81f4c_level0_row23\" class=\"row_heading level0 row23\" >23</th>\n      <td id=\"T_81f4c_row23_col0\" class=\"data row23 col0\" >Iterative Imputation Iteration</td>\n      <td id=\"T_81f4c_row23_col1\" class=\"data row23 col1\" >None</td>\n    </tr>\n    <tr>\n      <th id=\"T_81f4c_level0_row24\" class=\"row_heading level0 row24\" >24</th>\n      <td id=\"T_81f4c_row24_col0\" class=\"data row24 col0\" >Numeric Imputer</td>\n      <td id=\"T_81f4c_row24_col1\" class=\"data row24 col1\" >mean</td>\n    </tr>\n    <tr>\n      <th id=\"T_81f4c_level0_row25\" class=\"row_heading level0 row25\" >25</th>\n      <td id=\"T_81f4c_row25_col0\" class=\"data row25 col0\" >Iterative Imputation Numeric Model</td>\n      <td id=\"T_81f4c_row25_col1\" class=\"data row25 col1\" >None</td>\n    </tr>\n    <tr>\n      <th id=\"T_81f4c_level0_row26\" class=\"row_heading level0 row26\" >26</th>\n      <td id=\"T_81f4c_row26_col0\" class=\"data row26 col0\" >Categorical Imputer</td>\n      <td id=\"T_81f4c_row26_col1\" class=\"data row26 col1\" >constant</td>\n    </tr>\n    <tr>\n      <th id=\"T_81f4c_level0_row27\" class=\"row_heading level0 row27\" >27</th>\n      <td id=\"T_81f4c_row27_col0\" class=\"data row27 col0\" >Iterative Imputation Categorical Model</td>\n      <td id=\"T_81f4c_row27_col1\" class=\"data row27 col1\" >None</td>\n    </tr>\n    <tr>\n      <th id=\"T_81f4c_level0_row28\" class=\"row_heading level0 row28\" >28</th>\n      <td id=\"T_81f4c_row28_col0\" class=\"data row28 col0\" >Unknown Categoricals Handling</td>\n      <td id=\"T_81f4c_row28_col1\" class=\"data row28 col1\" >least_frequent</td>\n    </tr>\n    <tr>\n      <th id=\"T_81f4c_level0_row29\" class=\"row_heading level0 row29\" >29</th>\n      <td id=\"T_81f4c_row29_col0\" class=\"data row29 col0\" >Normalize</td>\n      <td id=\"T_81f4c_row29_col1\" class=\"data row29 col1\" >True</td>\n    </tr>\n    <tr>\n      <th id=\"T_81f4c_level0_row30\" class=\"row_heading level0 row30\" >30</th>\n      <td id=\"T_81f4c_row30_col0\" class=\"data row30 col0\" >Normalize Method</td>\n      <td id=\"T_81f4c_row30_col1\" class=\"data row30 col1\" >minmax</td>\n    </tr>\n    <tr>\n      <th id=\"T_81f4c_level0_row31\" class=\"row_heading level0 row31\" >31</th>\n      <td id=\"T_81f4c_row31_col0\" class=\"data row31 col0\" >Transformation</td>\n      <td id=\"T_81f4c_row31_col1\" class=\"data row31 col1\" >False</td>\n    </tr>\n    <tr>\n      <th id=\"T_81f4c_level0_row32\" class=\"row_heading level0 row32\" >32</th>\n      <td id=\"T_81f4c_row32_col0\" class=\"data row32 col0\" >Transformation Method</td>\n      <td id=\"T_81f4c_row32_col1\" class=\"data row32 col1\" >None</td>\n    </tr>\n    <tr>\n      <th id=\"T_81f4c_level0_row33\" class=\"row_heading level0 row33\" >33</th>\n      <td id=\"T_81f4c_row33_col0\" class=\"data row33 col0\" >PCA</td>\n      <td id=\"T_81f4c_row33_col1\" class=\"data row33 col1\" >False</td>\n    </tr>\n    <tr>\n      <th id=\"T_81f4c_level0_row34\" class=\"row_heading level0 row34\" >34</th>\n      <td id=\"T_81f4c_row34_col0\" class=\"data row34 col0\" >PCA Method</td>\n      <td id=\"T_81f4c_row34_col1\" class=\"data row34 col1\" >None</td>\n    </tr>\n    <tr>\n      <th id=\"T_81f4c_level0_row35\" class=\"row_heading level0 row35\" >35</th>\n      <td id=\"T_81f4c_row35_col0\" class=\"data row35 col0\" >PCA Components</td>\n      <td id=\"T_81f4c_row35_col1\" class=\"data row35 col1\" >None</td>\n    </tr>\n    <tr>\n      <th id=\"T_81f4c_level0_row36\" class=\"row_heading level0 row36\" >36</th>\n      <td id=\"T_81f4c_row36_col0\" class=\"data row36 col0\" >Ignore Low Variance</td>\n      <td id=\"T_81f4c_row36_col1\" class=\"data row36 col1\" >False</td>\n    </tr>\n    <tr>\n      <th id=\"T_81f4c_level0_row37\" class=\"row_heading level0 row37\" >37</th>\n      <td id=\"T_81f4c_row37_col0\" class=\"data row37 col0\" >Combine Rare Levels</td>\n      <td id=\"T_81f4c_row37_col1\" class=\"data row37 col1\" >False</td>\n    </tr>\n    <tr>\n      <th id=\"T_81f4c_level0_row38\" class=\"row_heading level0 row38\" >38</th>\n      <td id=\"T_81f4c_row38_col0\" class=\"data row38 col0\" >Rare Level Threshold</td>\n      <td id=\"T_81f4c_row38_col1\" class=\"data row38 col1\" >None</td>\n    </tr>\n    <tr>\n      <th id=\"T_81f4c_level0_row39\" class=\"row_heading level0 row39\" >39</th>\n      <td id=\"T_81f4c_row39_col0\" class=\"data row39 col0\" >Numeric Binning</td>\n      <td id=\"T_81f4c_row39_col1\" class=\"data row39 col1\" >False</td>\n    </tr>\n    <tr>\n      <th id=\"T_81f4c_level0_row40\" class=\"row_heading level0 row40\" >40</th>\n      <td id=\"T_81f4c_row40_col0\" class=\"data row40 col0\" >Remove Outliers</td>\n      <td id=\"T_81f4c_row40_col1\" class=\"data row40 col1\" >False</td>\n    </tr>\n    <tr>\n      <th id=\"T_81f4c_level0_row41\" class=\"row_heading level0 row41\" >41</th>\n      <td id=\"T_81f4c_row41_col0\" class=\"data row41 col0\" >Outliers Threshold</td>\n      <td id=\"T_81f4c_row41_col1\" class=\"data row41 col1\" >None</td>\n    </tr>\n    <tr>\n      <th id=\"T_81f4c_level0_row42\" class=\"row_heading level0 row42\" >42</th>\n      <td id=\"T_81f4c_row42_col0\" class=\"data row42 col0\" >Remove Multicollinearity</td>\n      <td id=\"T_81f4c_row42_col1\" class=\"data row42 col1\" >False</td>\n    </tr>\n    <tr>\n      <th id=\"T_81f4c_level0_row43\" class=\"row_heading level0 row43\" >43</th>\n      <td id=\"T_81f4c_row43_col0\" class=\"data row43 col0\" >Multicollinearity Threshold</td>\n      <td id=\"T_81f4c_row43_col1\" class=\"data row43 col1\" >None</td>\n    </tr>\n    <tr>\n      <th id=\"T_81f4c_level0_row44\" class=\"row_heading level0 row44\" >44</th>\n      <td id=\"T_81f4c_row44_col0\" class=\"data row44 col0\" >Clustering</td>\n      <td id=\"T_81f4c_row44_col1\" class=\"data row44 col1\" >False</td>\n    </tr>\n    <tr>\n      <th id=\"T_81f4c_level0_row45\" class=\"row_heading level0 row45\" >45</th>\n      <td id=\"T_81f4c_row45_col0\" class=\"data row45 col0\" >Clustering Iteration</td>\n      <td id=\"T_81f4c_row45_col1\" class=\"data row45 col1\" >None</td>\n    </tr>\n    <tr>\n      <th id=\"T_81f4c_level0_row46\" class=\"row_heading level0 row46\" >46</th>\n      <td id=\"T_81f4c_row46_col0\" class=\"data row46 col0\" >Polynomial Features</td>\n      <td id=\"T_81f4c_row46_col1\" class=\"data row46 col1\" >False</td>\n    </tr>\n    <tr>\n      <th id=\"T_81f4c_level0_row47\" class=\"row_heading level0 row47\" >47</th>\n      <td id=\"T_81f4c_row47_col0\" class=\"data row47 col0\" >Polynomial Degree</td>\n      <td id=\"T_81f4c_row47_col1\" class=\"data row47 col1\" >None</td>\n    </tr>\n    <tr>\n      <th id=\"T_81f4c_level0_row48\" class=\"row_heading level0 row48\" >48</th>\n      <td id=\"T_81f4c_row48_col0\" class=\"data row48 col0\" >Trignometry Features</td>\n      <td id=\"T_81f4c_row48_col1\" class=\"data row48 col1\" >False</td>\n    </tr>\n    <tr>\n      <th id=\"T_81f4c_level0_row49\" class=\"row_heading level0 row49\" >49</th>\n      <td id=\"T_81f4c_row49_col0\" class=\"data row49 col0\" >Polynomial Threshold</td>\n      <td id=\"T_81f4c_row49_col1\" class=\"data row49 col1\" >None</td>\n    </tr>\n    <tr>\n      <th id=\"T_81f4c_level0_row50\" class=\"row_heading level0 row50\" >50</th>\n      <td id=\"T_81f4c_row50_col0\" class=\"data row50 col0\" >Group Features</td>\n      <td id=\"T_81f4c_row50_col1\" class=\"data row50 col1\" >False</td>\n    </tr>\n    <tr>\n      <th id=\"T_81f4c_level0_row51\" class=\"row_heading level0 row51\" >51</th>\n      <td id=\"T_81f4c_row51_col0\" class=\"data row51 col0\" >Feature Selection</td>\n      <td id=\"T_81f4c_row51_col1\" class=\"data row51 col1\" >True</td>\n    </tr>\n    <tr>\n      <th id=\"T_81f4c_level0_row52\" class=\"row_heading level0 row52\" >52</th>\n      <td id=\"T_81f4c_row52_col0\" class=\"data row52 col0\" >Features Selection Threshold</td>\n      <td id=\"T_81f4c_row52_col1\" class=\"data row52 col1\" >0.200000</td>\n    </tr>\n    <tr>\n      <th id=\"T_81f4c_level0_row53\" class=\"row_heading level0 row53\" >53</th>\n      <td id=\"T_81f4c_row53_col0\" class=\"data row53 col0\" >Feature Interaction</td>\n      <td id=\"T_81f4c_row53_col1\" class=\"data row53 col1\" >False</td>\n    </tr>\n    <tr>\n      <th id=\"T_81f4c_level0_row54\" class=\"row_heading level0 row54\" >54</th>\n      <td id=\"T_81f4c_row54_col0\" class=\"data row54 col0\" >Feature Ratio</td>\n      <td id=\"T_81f4c_row54_col1\" class=\"data row54 col1\" >False</td>\n    </tr>\n    <tr>\n      <th id=\"T_81f4c_level0_row55\" class=\"row_heading level0 row55\" >55</th>\n      <td id=\"T_81f4c_row55_col0\" class=\"data row55 col0\" >Interaction Threshold</td>\n      <td id=\"T_81f4c_row55_col1\" class=\"data row55 col1\" >None</td>\n    </tr>\n    <tr>\n      <th id=\"T_81f4c_level0_row56\" class=\"row_heading level0 row56\" >56</th>\n      <td id=\"T_81f4c_row56_col0\" class=\"data row56 col0\" >Fix Imbalance</td>\n      <td id=\"T_81f4c_row56_col1\" class=\"data row56 col1\" >False</td>\n    </tr>\n    <tr>\n      <th id=\"T_81f4c_level0_row57\" class=\"row_heading level0 row57\" >57</th>\n      <td id=\"T_81f4c_row57_col0\" class=\"data row57 col0\" >Fix Imbalance Method</td>\n      <td id=\"T_81f4c_row57_col1\" class=\"data row57 col1\" >SMOTE</td>\n    </tr>\n  </tbody>\n</table>\n"
     },
     "metadata": {},
     "output_type": "display_data"
    }
   ],
   "source": [
    "dsp_tr_binary_full=setup(data = ds_full_binary,\n",
    "             target = 'label',train_size=0.8,\n",
    "             numeric_imputation = 'mean',\n",
    "             categorical_features = ['proto','service','state'],\n",
    "             numeric_features=['dur','Spkts','Dpkts','sbytes','dbytes','sttl','dttl','Sload','Dload','sloss','dloss','Sintpkt','Dintpkt','Sjit','Djit','swin','stcpb','dtcpb','dwin','tcprtt','synack','ackdat','smeansz','dmeansz','trans_depth','res_bdy_len','ct_srv_src','ct_state_ttl','ct_dst_ltm','ct_src_dport_ltm','ct_dst_sport_ltm',\n",
    "                               'ct_dst_src_ltm','is_ftp_login','ct_ftp_cmd','ct_flw_http_mthd','ct_src_ ltm','ct_srv_dst','is_sm_ips_ports'],\n",
    "                ignore_features=['dsport','sport','Stime','Ltime'],\n",
    "             normalize=True,normalize_method='minmax',\n",
    "             feature_selection=True,feature_selection_threshold=0.2,\n",
    "             silent = True, fold_shuffle=True)"
   ],
   "metadata": {
    "collapsed": false,
    "pycharm": {
     "name": "#%%\n"
    }
   }
  },
  {
   "cell_type": "code",
   "execution_count": 74,
   "outputs": [],
   "source": [
    "X_train_bin_full=get_config('X_train')\n",
    "X_test_bin_full = get_config('X_test')\n",
    "Y_train_bin_full = get_config('y_train')\n",
    "Y_test_bin_full = get_config('y_test')"
   ],
   "metadata": {
    "collapsed": false,
    "pycharm": {
     "name": "#%%\n"
    }
   }
  },
  {
   "cell_type": "code",
   "execution_count": 75,
   "outputs": [
    {
     "data": {
      "text/plain": "Index(['proto_udp', 'state_CON', 'service_dns', 'dloss', 'ct_srv_src',\n       'ct_dst_sport_ltm', 'proto_unas', 'ackdat', 'Dpkts', 'ct_flw_http_mthd',\n       'is_sm_ips_ports', 'stcpb', 'service_undefined', 'state_REQ',\n       'proto_sctp', 'proto_ospf', 'trans_depth', 'Dload', 'sloss',\n       'state_INT', 'dur', 'res_bdy_len', 'sbytes', 'service_ssl', 'dbytes',\n       'ct_dst_src_ltm', 'sttl', 'ct_state_ttl', 'dmeansz', 'ct_srv_dst',\n       'dttl', 'service_dhcp', 'service_ssh', 'tcprtt', 'state_RST',\n       'proto_any', 'Sjit', 'Spkts', 'proto_igmp', 'ct_dst_ltm', 'Djit',\n       'Sload', 'synack', 'ct_src_ ltm', 'Sintpkt', 'dtcpb', 'state_FIN',\n       'ct_src_dport_ltm', 'service_ftp-data', 'Dintpkt', 'service_pop3',\n       'proto_tcp', 'service_http', 'smeansz'],\n      dtype='object')"
     },
     "execution_count": 75,
     "metadata": {},
     "output_type": "execute_result"
    }
   ],
   "source": [
    "X_train_bin_full.columns"
   ],
   "metadata": {
    "collapsed": false,
    "pycharm": {
     "name": "#%%\n"
    }
   }
  },
  {
   "cell_type": "code",
   "execution_count": 79,
   "outputs": [
    {
     "name": "stdout",
     "output_type": "stream",
     "text": [
      "Epoch 1/100\n",
      "25743/25743 [==============================] - 85s 3ms/step - loss: 0.0267 - accuracy: 0.9858 - val_loss: 0.0222 - val_accuracy: 0.9881\n",
      "Epoch 2/100\n",
      "25743/25743 [==============================] - 83s 3ms/step - loss: 0.0229 - accuracy: 0.9874 - val_loss: 0.0215 - val_accuracy: 0.9884\n",
      "Epoch 3/100\n",
      "25743/25743 [==============================] - 85s 3ms/step - loss: 0.0223 - accuracy: 0.9878 - val_loss: 0.0221 - val_accuracy: 0.9881\n",
      "Epoch 4/100\n",
      "25743/25743 [==============================] - 82s 3ms/step - loss: 0.0219 - accuracy: 0.9881 - val_loss: 0.0213 - val_accuracy: 0.9886\n",
      "Epoch 5/100\n",
      "25743/25743 [==============================] - 83s 3ms/step - loss: 0.0217 - accuracy: 0.9882 - val_loss: 0.0212 - val_accuracy: 0.9885\n",
      "Epoch 6/100\n",
      "25743/25743 [==============================] - 83s 3ms/step - loss: 0.0216 - accuracy: 0.9883 - val_loss: 0.0205 - val_accuracy: 0.9888\n",
      "Epoch 7/100\n",
      "25743/25743 [==============================] - 81s 3ms/step - loss: 0.0215 - accuracy: 0.9883 - val_loss: 0.0205 - val_accuracy: 0.9887\n",
      "Epoch 8/100\n",
      "25743/25743 [==============================] - 82s 3ms/step - loss: 0.0213 - accuracy: 0.9884 - val_loss: 0.0207 - val_accuracy: 0.9888\n",
      "Epoch 9/100\n",
      "25743/25743 [==============================] - 82s 3ms/step - loss: 0.0212 - accuracy: 0.9885 - val_loss: 0.0203 - val_accuracy: 0.9885\n",
      "Epoch 10/100\n",
      "25743/25743 [==============================] - 82s 3ms/step - loss: 0.0211 - accuracy: 0.9885 - val_loss: 0.0201 - val_accuracy: 0.9888\n",
      "Epoch 11/100\n",
      "25743/25743 [==============================] - 82s 3ms/step - loss: 0.0210 - accuracy: 0.9886 - val_loss: 0.0199 - val_accuracy: 0.9891\n",
      "Epoch 12/100\n",
      "25743/25743 [==============================] - 82s 3ms/step - loss: 0.0209 - accuracy: 0.9886 - val_loss: 0.0198 - val_accuracy: 0.9892\n",
      "Epoch 13/100\n",
      "25743/25743 [==============================] - 82s 3ms/step - loss: 0.0208 - accuracy: 0.9887 - val_loss: 0.0200 - val_accuracy: 0.9891\n",
      "Epoch 14/100\n",
      "25743/25743 [==============================] - 82s 3ms/step - loss: 0.0208 - accuracy: 0.9886 - val_loss: 0.0200 - val_accuracy: 0.9890\n",
      "Epoch 15/100\n",
      "25743/25743 [==============================] - 81s 3ms/step - loss: 0.0207 - accuracy: 0.9888 - val_loss: 0.0199 - val_accuracy: 0.9890\n",
      "Epoch 16/100\n",
      "25743/25743 [==============================] - 82s 3ms/step - loss: 0.0206 - accuracy: 0.9889 - val_loss: 0.0199 - val_accuracy: 0.9891\n",
      "Epoch 17/100\n",
      "25743/25743 [==============================] - 81s 3ms/step - loss: 0.0206 - accuracy: 0.9889 - val_loss: 0.0198 - val_accuracy: 0.9891\n"
     ]
    },
    {
     "data": {
      "text/plain": "<tensorflow.python.keras.callbacks.History at 0x291c823ed30>"
     },
     "execution_count": 79,
     "metadata": {},
     "output_type": "execute_result"
    }
   ],
   "source": [
    "from tensorflow.python.keras.layers import Activation\n",
    "from keras.optimizers import SGD\n",
    "from keras.models import Sequential\n",
    "from keras.layers import Dense\n",
    "from keras.layers.advanced_activations import PReLU\n",
    "from keras.layers import Dropout\n",
    "from keras.callbacks import EarlyStopping\n",
    "act11 = PReLU(alpha_initializer='zeros', weights=None)\n",
    "model11 = Sequential()\n",
    "# define the NN architecture and activation function\n",
    "\n",
    "model11.add(Dense(496, input_dim=54, activation=Activation(act11)))\n",
    "model11.add(Dropout(0.1))\n",
    "model11.add(Dense(248, activation='relu'))\n",
    "model11.add(Dropout(0.1))\n",
    "model11.add(Dense(124, activation='relu'))\n",
    "model11.add(Dropout(0.1))\n",
    "model11.add(Dense(62, activation='relu'))\n",
    "model11.add(Dropout(0.1))\n",
    "model11.add(Dense(1))\n",
    "model11.add(Activation('sigmoid'))\n",
    "\n",
    "sgd =SGD(lr=0.01, decay=1e-6, momentum=0.9, nesterov=True)\n",
    "model11.compile(loss='binary_crossentropy', optimizer=sgd, metrics= ['accuracy'])\n",
    "es = EarlyStopping(monitor='val_accuracy', mode='max', min_delta=0.0001,patience=5) ## early stopping\n",
    "model11.fit(X_train_bin_full, Y_train_bin_full, validation_data=(X_test_bin_full, Y_test_bin_full), epochs=100, batch_size=64, callbacks=[es])"
   ],
   "metadata": {
    "collapsed": false,
    "pycharm": {
     "name": "#%%\n"
    }
   }
  },
  {
   "cell_type": "code",
   "execution_count": 81,
   "outputs": [
    {
     "name": "stdout",
     "output_type": "stream",
     "text": [
      "accuracy: 98.88%\n"
     ]
    }
   ],
   "source": [
    "#training accuracy\n",
    "train_acc11 = model11.evaluate(X_train_bin_full, Y_train_bin_full, verbose=0)\n",
    "print(\"%s: %.2f%%\" % (model11.metrics_names[1], train_acc11[1]*100))"
   ],
   "metadata": {
    "collapsed": false,
    "pycharm": {
     "name": "#%%\n"
    }
   }
  },
  {
   "cell_type": "code",
   "execution_count": 83,
   "outputs": [
    {
     "name": "stdout",
     "output_type": "stream",
     "text": [
      "accuracy: 98.91%\n"
     ]
    }
   ],
   "source": [
    "#calculate the test accuracy using evaluate function\n",
    "test_acc11 = model11.evaluate(X_test_bin_full, Y_test_bin_full, verbose=0)\n",
    "print(\"%s: %.2f%%\" % (model11.metrics_names[1], test_acc11[1] * 100))"
   ],
   "metadata": {
    "collapsed": false,
    "pycharm": {
     "name": "#%%\n"
    }
   }
  },
  {
   "cell_type": "code",
   "execution_count": 84,
   "outputs": [
    {
     "name": "stdout",
     "output_type": "stream",
     "text": [
      "WARNING:tensorflow:From C:\\Users\\Jovana\\AppData\\Local\\Temp/ipykernel_22148/677317774.py:3: Sequential.predict_classes (from tensorflow.python.keras.engine.sequential) is deprecated and will be removed after 2021-01-01.\n",
      "Instructions for updating:\n",
      "Please use instead:* `np.argmax(model.predict(x), axis=-1)`,   if your model does multi-class classification   (e.g. if it uses a `softmax` last-layer activation).* `(model.predict(x) > 0.5).astype(\"int32\")`,   if your model does binary classification   (e.g. if it uses a `sigmoid` last-layer activation).\n"
     ]
    },
    {
     "data": {
      "text/plain": "0.9890964446300414"
     },
     "execution_count": 84,
     "metadata": {},
     "output_type": "execute_result"
    }
   ],
   "source": [
    "from sklearn.metrics import accuracy_score\n",
    "# or find the prediction accuracy using predict_classes (same as test accuracy)\n",
    "y_pred11 = model11.predict_classes(X_test_bin_full)\n",
    "pred_accuracy11 = accuracy_score(Y_test_bin_full, y_pred11)\n",
    "pred_accuracy11"
   ],
   "metadata": {
    "collapsed": false,
    "pycharm": {
     "name": "#%%\n"
    }
   }
  },
  {
   "cell_type": "code",
   "execution_count": 85,
   "outputs": [
    {
     "name": "stdout",
     "output_type": "stream",
     "text": [
      "Precision : 0.856173\n"
     ]
    }
   ],
   "source": [
    "from sklearn.metrics import precision_score, recall_score, f1_score, roc_auc_score\n",
    "# Precision\n",
    "precision11 = precision_score(Y_test_bin_full, y_pred11)\n",
    "print('Precision : %f'% precision11)"
   ],
   "metadata": {
    "collapsed": false,
    "pycharm": {
     "name": "#%%\n"
    }
   }
  },
  {
   "cell_type": "code",
   "execution_count": 86,
   "outputs": [
    {
     "name": "stdout",
     "output_type": "stream",
     "text": [
      "Recall: 0.929430\n"
     ]
    }
   ],
   "source": [
    "# Recall\n",
    "recall11 = recall_score(Y_test_bin_full, y_pred11)\n",
    "print('Recall: %f' % recall11)"
   ],
   "metadata": {
    "collapsed": false,
    "pycharm": {
     "name": "#%%\n"
    }
   }
  },
  {
   "cell_type": "code",
   "execution_count": 87,
   "outputs": [
    {
     "name": "stdout",
     "output_type": "stream",
     "text": [
      "F1 score: 0.891299\n"
     ]
    }
   ],
   "source": [
    "# f1-score\n",
    "f1_11 = f1_score(Y_test_bin_full, y_pred11)\n",
    "print('F1 score: %f' % f1_11)"
   ],
   "metadata": {
    "collapsed": false,
    "pycharm": {
     "name": "#%%\n"
    }
   }
  },
  {
   "cell_type": "code",
   "execution_count": 88,
   "outputs": [
    {
     "name": "stdout",
     "output_type": "stream",
     "text": [
      "ROC_AUC Score: 0.960770\n"
     ]
    }
   ],
   "source": [
    "roc11 = roc_auc_score(Y_test_bin_full, y_pred11)\n",
    "print('ROC_AUC Score: %f' % roc11)"
   ],
   "metadata": {
    "collapsed": false,
    "pycharm": {
     "name": "#%%\n"
    }
   }
  },
  {
   "cell_type": "code",
   "execution_count": 89,
   "outputs": [
    {
     "name": "stdout",
     "output_type": "stream",
     "text": [
      "[[388981   3093]\n",
      " [  1398  18412]]\n"
     ]
    }
   ],
   "source": [
    "from sklearn.metrics import confusion_matrix\n",
    "\n",
    "# confusion matrix\n",
    "confusionmatrix11 = confusion_matrix(Y_test_bin_full, y_pred11)\n",
    "print(confusionmatrix11)"
   ],
   "metadata": {
    "collapsed": false,
    "pycharm": {
     "name": "#%%\n"
    }
   }
  },
  {
   "cell_type": "code",
   "execution_count": 90,
   "outputs": [
    {
     "data": {
      "text/plain": "(388981, 3093, 1398, 18412)"
     },
     "execution_count": 90,
     "metadata": {},
     "output_type": "execute_result"
    }
   ],
   "source": [
    "tn11, fp11, fn11, tp11 = confusionmatrix11.ravel()\n",
    "(tn11, fp11, fn11, tp11)"
   ],
   "metadata": {
    "collapsed": false,
    "pycharm": {
     "name": "#%%\n"
    }
   }
  },
  {
   "cell_type": "code",
   "execution_count": 93,
   "outputs": [],
   "source": [
    "#false positive rate\n",
    "FPR11=fp11/(fp11+tn11)"
   ],
   "metadata": {
    "collapsed": false,
    "pycharm": {
     "name": "#%%\n"
    }
   }
  },
  {
   "cell_type": "code",
   "execution_count": 98,
   "outputs": [
    {
     "data": {
      "text/plain": "0.7888816907012451"
     },
     "execution_count": 98,
     "metadata": {},
     "output_type": "execute_result"
    }
   ],
   "source": [
    "FPR11*100"
   ],
   "metadata": {
    "collapsed": false,
    "pycharm": {
     "name": "#%%\n"
    }
   }
  },
  {
   "cell_type": "code",
   "execution_count": 99,
   "outputs": [
    {
     "data": {
      "text/plain": "7.057041898031298"
     },
     "execution_count": 99,
     "metadata": {},
     "output_type": "execute_result"
    }
   ],
   "source": [
    "FNR11 = fn11/(tp11+fn11)\n",
    "FNR11*100"
   ],
   "metadata": {
    "collapsed": false,
    "pycharm": {
     "name": "#%%\n"
    }
   }
  },
  {
   "cell_type": "code",
   "execution_count": 91,
   "outputs": [
    {
     "data": {
      "text/plain": "array([ 0.52546281, 10.31823989])"
     },
     "execution_count": 91,
     "metadata": {},
     "output_type": "execute_result"
    }
   ],
   "source": [
    "#now make the FN number smaller\n",
    "from sklearn.utils import compute_class_weight\n",
    "weights=compute_class_weight('balanced',[0,1], Y_train_bin_full)\n",
    "weights"
   ],
   "metadata": {
    "collapsed": false,
    "pycharm": {
     "name": "#%%\n"
    }
   }
  },
  {
   "cell_type": "code",
   "execution_count": 92,
   "outputs": [
    {
     "name": "stdout",
     "output_type": "stream",
     "text": [
      "Epoch 1/100\n",
      "25743/25743 [==============================] - 87s 3ms/step - loss: 0.0400 - accuracy: 0.9855 - val_loss: 0.0262 - val_accuracy: 0.9860\n",
      "Epoch 2/100\n",
      "25743/25743 [==============================] - 85s 3ms/step - loss: 0.0355 - accuracy: 0.9858 - val_loss: 0.0243 - val_accuracy: 0.9861\n",
      "Epoch 3/100\n",
      "25743/25743 [==============================] - 85s 3ms/step - loss: 0.0348 - accuracy: 0.9859 - val_loss: 0.0243 - val_accuracy: 0.9861\n",
      "Epoch 4/100\n",
      "25743/25743 [==============================] - 85s 3ms/step - loss: 0.0342 - accuracy: 0.9859 - val_loss: 0.0265 - val_accuracy: 0.9861\n",
      "Epoch 5/100\n",
      "25743/25743 [==============================] - 85s 3ms/step - loss: 0.0340 - accuracy: 0.9860 - val_loss: 0.0264 - val_accuracy: 0.9861\n",
      "Epoch 6/100\n",
      "25743/25743 [==============================] - 85s 3ms/step - loss: 0.0338 - accuracy: 0.9861 - val_loss: 0.0246 - val_accuracy: 0.9864\n",
      "Epoch 7/100\n",
      "25743/25743 [==============================] - 89s 3ms/step - loss: 0.0336 - accuracy: 0.9861 - val_loss: 0.0266 - val_accuracy: 0.9861\n",
      "Epoch 8/100\n",
      "25743/25743 [==============================] - 87s 3ms/step - loss: 0.0335 - accuracy: 0.9862 - val_loss: 0.0254 - val_accuracy: 0.9861\n",
      "Epoch 9/100\n",
      "25743/25743 [==============================] - 83s 3ms/step - loss: 0.0333 - accuracy: 0.9862 - val_loss: 0.0247 - val_accuracy: 0.9864\n",
      "Epoch 10/100\n",
      "25743/25743 [==============================] - 84s 3ms/step - loss: 0.0332 - accuracy: 0.9862 - val_loss: 0.0246 - val_accuracy: 0.9864\n",
      "Epoch 11/100\n",
      "25743/25743 [==============================] - 87s 3ms/step - loss: 0.0331 - accuracy: 0.9861 - val_loss: 0.0229 - val_accuracy: 0.9868\n",
      "Epoch 12/100\n",
      "25743/25743 [==============================] - 86s 3ms/step - loss: 0.0329 - accuracy: 0.9863 - val_loss: 0.0226 - val_accuracy: 0.9871\n",
      "Epoch 13/100\n",
      "25743/25743 [==============================] - 109s 4ms/step - loss: 0.0329 - accuracy: 0.9862 - val_loss: 0.0224 - val_accuracy: 0.9867\n",
      "Epoch 14/100\n",
      "25743/25743 [==============================] - 130s 5ms/step - loss: 0.0328 - accuracy: 0.9863 - val_loss: 0.0231 - val_accuracy: 0.9867\n",
      "Epoch 15/100\n",
      "25743/25743 [==============================] - 130s 5ms/step - loss: 0.0327 - accuracy: 0.9863 - val_loss: 0.0225 - val_accuracy: 0.9866\n",
      "Epoch 16/100\n",
      "25743/25743 [==============================] - 126s 5ms/step - loss: 0.0327 - accuracy: 0.9863 - val_loss: 0.0222 - val_accuracy: 0.9868\n",
      "Epoch 17/100\n",
      "25743/25743 [==============================] - 126s 5ms/step - loss: 0.0326 - accuracy: 0.9864 - val_loss: 0.0239 - val_accuracy: 0.9867\n"
     ]
    },
    {
     "data": {
      "text/plain": "<tensorflow.python.keras.callbacks.History at 0x291c8e008e0>"
     },
     "execution_count": 92,
     "metadata": {},
     "output_type": "execute_result"
    }
   ],
   "source": [
    "act12 = PReLU(alpha_initializer='zeros', weights=None)\n",
    "model12 = Sequential()\n",
    "# define the NN architecture and activation function\n",
    "\n",
    "model12.add(Dense(496, input_dim=54, activation=Activation(act12)))\n",
    "model12.add(Dropout(0.1))\n",
    "model12.add(Dense(248, activation='relu'))\n",
    "model12.add(Dropout(0.1))\n",
    "model12.add(Dense(124, activation='relu'))\n",
    "model12.add(Dropout(0.1))\n",
    "model12.add(Dense(62, activation='relu'))\n",
    "model12.add(Dropout(0.1))\n",
    "model12.add(Dense(1))\n",
    "model12.add(Activation('sigmoid'))\n",
    "\n",
    "sgd =SGD(lr=0.01, decay=1e-6, momentum=0.9, nesterov=True)\n",
    "model12.compile(loss='binary_crossentropy', optimizer=sgd, metrics= ['accuracy'])\n",
    "es = EarlyStopping(monitor='val_accuracy', mode='max', min_delta=0.0001,patience=5) ## early stopping\n",
    "model12.fit(X_train_bin_full, Y_train_bin_full, validation_data=(X_test_bin_full, Y_test_bin_full), epochs=100, batch_size=64, callbacks=[es],class_weight={0:1,1:3})"
   ],
   "metadata": {
    "collapsed": false,
    "pycharm": {
     "name": "#%%\n"
    }
   }
  },
  {
   "cell_type": "code",
   "execution_count": 100,
   "outputs": [
    {
     "name": "stdout",
     "output_type": "stream",
     "text": [
      "[[386715   5359]\n",
      " [   113  19697]]\n"
     ]
    }
   ],
   "source": [
    "y_pred12 = model12.predict_classes(X_test_bin_full)\n",
    "confusionmatrix12 = confusion_matrix(Y_test_bin_full, y_pred12)\n",
    "print(confusionmatrix12)"
   ],
   "metadata": {
    "collapsed": false,
    "pycharm": {
     "name": "#%%\n"
    }
   }
  },
  {
   "cell_type": "code",
   "execution_count": 101,
   "outputs": [
    {
     "data": {
      "text/plain": "(386715, 5359, 113, 19697)"
     },
     "execution_count": 101,
     "metadata": {},
     "output_type": "execute_result"
    }
   ],
   "source": [
    "tn12, fp12, fn12, tp12 = confusionmatrix12.ravel()\n",
    "(tn12, fp12, fn12, tp12)"
   ],
   "metadata": {
    "collapsed": false,
    "pycharm": {
     "name": "#%%\n"
    }
   }
  },
  {
   "cell_type": "code",
   "execution_count": 102,
   "outputs": [
    {
     "data": {
      "text/plain": "1.3668338119844723"
     },
     "execution_count": 102,
     "metadata": {},
     "output_type": "execute_result"
    }
   ],
   "source": [
    "#VERY GOOD\n",
    "#false positive rate\n",
    "FPR12 = fp12 / (fp12 + tn12)\n",
    "FPR12 * 100"
   ],
   "metadata": {
    "collapsed": false,
    "pycharm": {
     "name": "#%%\n"
    }
   }
  },
  {
   "cell_type": "code",
   "execution_count": 103,
   "outputs": [
    {
     "data": {
      "text/plain": "0.5704189803129732"
     },
     "execution_count": 103,
     "metadata": {},
     "output_type": "execute_result"
    }
   ],
   "source": [
    "FNR12 = fn12/(tp12+fn12)\n",
    "FNR12*100"
   ],
   "metadata": {
    "collapsed": false,
    "pycharm": {
     "name": "#%%\n"
    }
   }
  },
  {
   "cell_type": "code",
   "execution_count": null,
   "outputs": [],
   "source": [],
   "metadata": {
    "collapsed": false,
    "pycharm": {
     "name": "#%%\n"
    }
   }
  }
 ],
 "metadata": {
  "kernelspec": {
   "display_name": "Python 3",
   "language": "python",
   "name": "python3"
  },
  "language_info": {
   "codemirror_mode": {
    "name": "ipython",
    "version": 2
   },
   "file_extension": ".py",
   "mimetype": "text/x-python",
   "name": "python",
   "nbconvert_exporter": "python",
   "pygments_lexer": "ipython2",
   "version": "2.7.6"
  }
 },
 "nbformat": 4,
 "nbformat_minor": 0
}