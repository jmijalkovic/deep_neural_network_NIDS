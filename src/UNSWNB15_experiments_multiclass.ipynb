{
 "cells": [
  {
   "cell_type": "code",
   "execution_count": 1,
   "metadata": {
    "collapsed": true
   },
   "outputs": [
    {
     "data": {
      "text/plain": "         Unnamed: 0         srcip  sport           dstip dsport proto state  \\\n0                 0    59.166.0.0  33661   149.171.126.9   1024   udp   CON   \n1                 1    59.166.0.6   1464   149.171.126.7     53   udp   CON   \n2                 2    59.166.0.5   3593   149.171.126.5     53   udp   CON   \n3                 3    59.166.0.3  49664   149.171.126.0     53   udp   CON   \n4                 4    59.166.0.0  32119   149.171.126.9    111   udp   CON   \n...             ...           ...    ...             ...    ...   ...   ...   \n2540038      440038    59.166.0.5  33094   149.171.126.7  43433   tcp   FIN   \n2540039      440039    59.166.0.7  20848   149.171.126.4     21   tcp   CON   \n2540040      440040    59.166.0.3  21511   149.171.126.9     21   tcp   CON   \n2540041      440041    59.166.0.9  35433   149.171.126.0     80   tcp   CON   \n2540042      440042  175.45.176.0  17293  149.171.126.17    110   tcp   CON   \n\n              dur  sbytes  dbytes  sttl  dttl  sloss  dloss   service  \\\n0        0.036133     528     304    31    29      0      0         -   \n1        0.001119     146     178    31    29      0      0       dns   \n2        0.001209     132     164    31    29      0      0       dns   \n3        0.001169     146     178    31    29      0      0       dns   \n4        0.078339     568     312    31    29      0      0         -   \n...           ...     ...     ...   ...   ...    ...    ...       ...   \n2540038  0.087306     320    1828    31    29      1      2  ftp-data   \n2540039  0.365058     456     346    31    29      2      2       ftp   \n2540040  6.335154    1802    2088    31    29      7      9       ftp   \n2540041  2.200934    3498  166054    31    29      2     57      http   \n2540042  0.942984     574     676    62   252      5      6      pop3   \n\n                 Sload          Dload  Spkts  Dpkts  swin  dwin       stcpb  \\\n0         87676.085940   50480.171880      4      4     0     0           0   \n1        521894.531300  636282.375000      2      2     0     0           0   \n2        436724.562500  542597.187500      2      2     0     0           0   \n3        499572.250000  609067.562500      2      2     0     0           0   \n4         43503.234380   23896.142580      4      4     0     0           0   \n...                ...            ...    ...    ...   ...   ...         ...   \n2540038   24465.671880  146610.765600      6      8   255   255  4035116044   \n2540039    8743.816406    6333.240234      8      6   255   255  1529727621   \n2540040    2204.839844    2549.582764     32     30   255   255   497208793   \n2540041   12496.513670  598375.062500     58    116   255   255  1289728069   \n2540042    4470.913574    5259.898438     12     12   255   255  3026824982   \n\n              dtcpb  smeansz  dmeansz  trans_depth  res_bdy_len          Sjit  \\\n0                 0      132       76            0            0      9.891010   \n1                 0       73       89            0            0      0.000000   \n2                 0       66       82            0            0      0.000000   \n3                 0       73       89            0            0      0.000000   \n4                 0      142       78            0            0     29.682221   \n...             ...      ...      ...          ...          ...           ...   \n2540038   222196311       53      229            0            0   1221.136547   \n2540039   185369967       57       58            0            0   3961.093354   \n2540040   889904111       56       70            0            0  13233.728560   \n2540041  3436097151       60     1432            1        79745   2868.893137   \n2540042  3748412468       48       56            0            0   3903.523582   \n\n                Djit       Stime       Ltime     Sintpkt     Dintpkt  \\\n0          10.682733  1421927414  1421927414    7.005000    7.564333   \n1           0.000000  1421927414  1421927414    0.017000    0.013000   \n2           0.000000  1421927414  1421927414    0.043000    0.014000   \n3           0.000000  1421927414  1421927414    0.005000    0.003000   \n4          34.370340  1421927414  1421927414   21.003000   24.315000   \n...              ...         ...         ...         ...         ...   \n2540038    30.096029  1424262068  1424262069   17.394400   12.405143   \n2540039   129.038367  1424262068  1424262069   51.976999   72.915602   \n2540040   379.052750  1424262062  1424262069  204.359814  214.372375   \n2540041  1951.035944  1424262067  1424262069   38.609700   19.133826   \n2540042    95.650531  1424262068  1424262069   79.714089   80.827180   \n\n           tcprtt    synack    ackdat  is_sm_ips_ports  ct_state_ttl  \\\n0        0.000000  0.000000  0.000000                0             0   \n1        0.000000  0.000000  0.000000                0             0   \n2        0.000000  0.000000  0.000000                0             0   \n3        0.000000  0.000000  0.000000                0             0   \n4        0.000000  0.000000  0.000000                0             0   \n...           ...       ...       ...              ...           ...   \n2540038  0.000608  0.000468  0.000140                0             0   \n2540039  0.000609  0.000477  0.000132                0             0   \n2540040  0.000617  0.000485  0.000132                0             0   \n2540041  0.000680  0.000541  0.000139                0             0   \n2540042  0.139446  0.053884  0.085562                0             3   \n\n         ct_flw_http_mthd  is_ftp_login ct_ftp_cmd  ct_srv_src  ct_srv_dst  \\\n0                     0.0           0.0          0           2           4   \n1                     0.0           0.0          0          12           8   \n2                     0.0           0.0          0           6           9   \n3                     0.0           0.0          0           7           9   \n4                     0.0           0.0          0           2           4   \n...                   ...           ...        ...         ...         ...   \n2540038               NaN           NaN                      1           2   \n2540039               NaN           2.0          2           2           2   \n2540040               NaN           2.0          2           2           2   \n2540041               2.0           NaN                      1           1   \n2540042               NaN           NaN                      1           1   \n\n         ct_dst_ltm  ct_src_ ltm  ct_src_dport_ltm  ct_dst_sport_ltm  \\\n0                 2            3                 1                 1   \n1                 1            2                 2                 1   \n2                 1            1                 1                 1   \n3                 1            1                 1                 1   \n4                 2            3                 1                 1   \n...             ...          ...               ...               ...   \n2540038           3            3                 1                 1   \n2540039           2            2                 2                 2   \n2540040           4            2                 2                 2   \n2540041           2            4                 2                 2   \n2540042           2            4                 2                 2   \n\n         ct_dst_src_ltm attack_cat  label  \n0                     2        NaN      0  \n1                     1        NaN      0  \n2                     1        NaN      0  \n3                     1        NaN      0  \n4                     2        NaN      0  \n...                 ...        ...    ...  \n2540038               3        NaN      0  \n2540039               2        NaN      0  \n2540040               2        NaN      0  \n2540041               2        NaN      0  \n2540042               2   Exploits      1  \n\n[2540043 rows x 50 columns]",
      "text/html": "<div>\n<style scoped>\n    .dataframe tbody tr th:only-of-type {\n        vertical-align: middle;\n    }\n\n    .dataframe tbody tr th {\n        vertical-align: top;\n    }\n\n    .dataframe thead th {\n        text-align: right;\n    }\n</style>\n<table border=\"1\" class=\"dataframe\">\n  <thead>\n    <tr style=\"text-align: right;\">\n      <th></th>\n      <th>Unnamed: 0</th>\n      <th>srcip</th>\n      <th>sport</th>\n      <th>dstip</th>\n      <th>dsport</th>\n      <th>proto</th>\n      <th>state</th>\n      <th>dur</th>\n      <th>sbytes</th>\n      <th>dbytes</th>\n      <th>sttl</th>\n      <th>dttl</th>\n      <th>sloss</th>\n      <th>dloss</th>\n      <th>service</th>\n      <th>Sload</th>\n      <th>Dload</th>\n      <th>Spkts</th>\n      <th>Dpkts</th>\n      <th>swin</th>\n      <th>dwin</th>\n      <th>stcpb</th>\n      <th>dtcpb</th>\n      <th>smeansz</th>\n      <th>dmeansz</th>\n      <th>trans_depth</th>\n      <th>res_bdy_len</th>\n      <th>Sjit</th>\n      <th>Djit</th>\n      <th>Stime</th>\n      <th>Ltime</th>\n      <th>Sintpkt</th>\n      <th>Dintpkt</th>\n      <th>tcprtt</th>\n      <th>synack</th>\n      <th>ackdat</th>\n      <th>is_sm_ips_ports</th>\n      <th>ct_state_ttl</th>\n      <th>ct_flw_http_mthd</th>\n      <th>is_ftp_login</th>\n      <th>ct_ftp_cmd</th>\n      <th>ct_srv_src</th>\n      <th>ct_srv_dst</th>\n      <th>ct_dst_ltm</th>\n      <th>ct_src_ ltm</th>\n      <th>ct_src_dport_ltm</th>\n      <th>ct_dst_sport_ltm</th>\n      <th>ct_dst_src_ltm</th>\n      <th>attack_cat</th>\n      <th>label</th>\n    </tr>\n  </thead>\n  <tbody>\n    <tr>\n      <th>0</th>\n      <td>0</td>\n      <td>59.166.0.0</td>\n      <td>33661</td>\n      <td>149.171.126.9</td>\n      <td>1024</td>\n      <td>udp</td>\n      <td>CON</td>\n      <td>0.036133</td>\n      <td>528</td>\n      <td>304</td>\n      <td>31</td>\n      <td>29</td>\n      <td>0</td>\n      <td>0</td>\n      <td>-</td>\n      <td>87676.085940</td>\n      <td>50480.171880</td>\n      <td>4</td>\n      <td>4</td>\n      <td>0</td>\n      <td>0</td>\n      <td>0</td>\n      <td>0</td>\n      <td>132</td>\n      <td>76</td>\n      <td>0</td>\n      <td>0</td>\n      <td>9.891010</td>\n      <td>10.682733</td>\n      <td>1421927414</td>\n      <td>1421927414</td>\n      <td>7.005000</td>\n      <td>7.564333</td>\n      <td>0.000000</td>\n      <td>0.000000</td>\n      <td>0.000000</td>\n      <td>0</td>\n      <td>0</td>\n      <td>0.0</td>\n      <td>0.0</td>\n      <td>0</td>\n      <td>2</td>\n      <td>4</td>\n      <td>2</td>\n      <td>3</td>\n      <td>1</td>\n      <td>1</td>\n      <td>2</td>\n      <td>NaN</td>\n      <td>0</td>\n    </tr>\n    <tr>\n      <th>1</th>\n      <td>1</td>\n      <td>59.166.0.6</td>\n      <td>1464</td>\n      <td>149.171.126.7</td>\n      <td>53</td>\n      <td>udp</td>\n      <td>CON</td>\n      <td>0.001119</td>\n      <td>146</td>\n      <td>178</td>\n      <td>31</td>\n      <td>29</td>\n      <td>0</td>\n      <td>0</td>\n      <td>dns</td>\n      <td>521894.531300</td>\n      <td>636282.375000</td>\n      <td>2</td>\n      <td>2</td>\n      <td>0</td>\n      <td>0</td>\n      <td>0</td>\n      <td>0</td>\n      <td>73</td>\n      <td>89</td>\n      <td>0</td>\n      <td>0</td>\n      <td>0.000000</td>\n      <td>0.000000</td>\n      <td>1421927414</td>\n      <td>1421927414</td>\n      <td>0.017000</td>\n      <td>0.013000</td>\n      <td>0.000000</td>\n      <td>0.000000</td>\n      <td>0.000000</td>\n      <td>0</td>\n      <td>0</td>\n      <td>0.0</td>\n      <td>0.0</td>\n      <td>0</td>\n      <td>12</td>\n      <td>8</td>\n      <td>1</td>\n      <td>2</td>\n      <td>2</td>\n      <td>1</td>\n      <td>1</td>\n      <td>NaN</td>\n      <td>0</td>\n    </tr>\n    <tr>\n      <th>2</th>\n      <td>2</td>\n      <td>59.166.0.5</td>\n      <td>3593</td>\n      <td>149.171.126.5</td>\n      <td>53</td>\n      <td>udp</td>\n      <td>CON</td>\n      <td>0.001209</td>\n      <td>132</td>\n      <td>164</td>\n      <td>31</td>\n      <td>29</td>\n      <td>0</td>\n      <td>0</td>\n      <td>dns</td>\n      <td>436724.562500</td>\n      <td>542597.187500</td>\n      <td>2</td>\n      <td>2</td>\n      <td>0</td>\n      <td>0</td>\n      <td>0</td>\n      <td>0</td>\n      <td>66</td>\n      <td>82</td>\n      <td>0</td>\n      <td>0</td>\n      <td>0.000000</td>\n      <td>0.000000</td>\n      <td>1421927414</td>\n      <td>1421927414</td>\n      <td>0.043000</td>\n      <td>0.014000</td>\n      <td>0.000000</td>\n      <td>0.000000</td>\n      <td>0.000000</td>\n      <td>0</td>\n      <td>0</td>\n      <td>0.0</td>\n      <td>0.0</td>\n      <td>0</td>\n      <td>6</td>\n      <td>9</td>\n      <td>1</td>\n      <td>1</td>\n      <td>1</td>\n      <td>1</td>\n      <td>1</td>\n      <td>NaN</td>\n      <td>0</td>\n    </tr>\n    <tr>\n      <th>3</th>\n      <td>3</td>\n      <td>59.166.0.3</td>\n      <td>49664</td>\n      <td>149.171.126.0</td>\n      <td>53</td>\n      <td>udp</td>\n      <td>CON</td>\n      <td>0.001169</td>\n      <td>146</td>\n      <td>178</td>\n      <td>31</td>\n      <td>29</td>\n      <td>0</td>\n      <td>0</td>\n      <td>dns</td>\n      <td>499572.250000</td>\n      <td>609067.562500</td>\n      <td>2</td>\n      <td>2</td>\n      <td>0</td>\n      <td>0</td>\n      <td>0</td>\n      <td>0</td>\n      <td>73</td>\n      <td>89</td>\n      <td>0</td>\n      <td>0</td>\n      <td>0.000000</td>\n      <td>0.000000</td>\n      <td>1421927414</td>\n      <td>1421927414</td>\n      <td>0.005000</td>\n      <td>0.003000</td>\n      <td>0.000000</td>\n      <td>0.000000</td>\n      <td>0.000000</td>\n      <td>0</td>\n      <td>0</td>\n      <td>0.0</td>\n      <td>0.0</td>\n      <td>0</td>\n      <td>7</td>\n      <td>9</td>\n      <td>1</td>\n      <td>1</td>\n      <td>1</td>\n      <td>1</td>\n      <td>1</td>\n      <td>NaN</td>\n      <td>0</td>\n    </tr>\n    <tr>\n      <th>4</th>\n      <td>4</td>\n      <td>59.166.0.0</td>\n      <td>32119</td>\n      <td>149.171.126.9</td>\n      <td>111</td>\n      <td>udp</td>\n      <td>CON</td>\n      <td>0.078339</td>\n      <td>568</td>\n      <td>312</td>\n      <td>31</td>\n      <td>29</td>\n      <td>0</td>\n      <td>0</td>\n      <td>-</td>\n      <td>43503.234380</td>\n      <td>23896.142580</td>\n      <td>4</td>\n      <td>4</td>\n      <td>0</td>\n      <td>0</td>\n      <td>0</td>\n      <td>0</td>\n      <td>142</td>\n      <td>78</td>\n      <td>0</td>\n      <td>0</td>\n      <td>29.682221</td>\n      <td>34.370340</td>\n      <td>1421927414</td>\n      <td>1421927414</td>\n      <td>21.003000</td>\n      <td>24.315000</td>\n      <td>0.000000</td>\n      <td>0.000000</td>\n      <td>0.000000</td>\n      <td>0</td>\n      <td>0</td>\n      <td>0.0</td>\n      <td>0.0</td>\n      <td>0</td>\n      <td>2</td>\n      <td>4</td>\n      <td>2</td>\n      <td>3</td>\n      <td>1</td>\n      <td>1</td>\n      <td>2</td>\n      <td>NaN</td>\n      <td>0</td>\n    </tr>\n    <tr>\n      <th>...</th>\n      <td>...</td>\n      <td>...</td>\n      <td>...</td>\n      <td>...</td>\n      <td>...</td>\n      <td>...</td>\n      <td>...</td>\n      <td>...</td>\n      <td>...</td>\n      <td>...</td>\n      <td>...</td>\n      <td>...</td>\n      <td>...</td>\n      <td>...</td>\n      <td>...</td>\n      <td>...</td>\n      <td>...</td>\n      <td>...</td>\n      <td>...</td>\n      <td>...</td>\n      <td>...</td>\n      <td>...</td>\n      <td>...</td>\n      <td>...</td>\n      <td>...</td>\n      <td>...</td>\n      <td>...</td>\n      <td>...</td>\n      <td>...</td>\n      <td>...</td>\n      <td>...</td>\n      <td>...</td>\n      <td>...</td>\n      <td>...</td>\n      <td>...</td>\n      <td>...</td>\n      <td>...</td>\n      <td>...</td>\n      <td>...</td>\n      <td>...</td>\n      <td>...</td>\n      <td>...</td>\n      <td>...</td>\n      <td>...</td>\n      <td>...</td>\n      <td>...</td>\n      <td>...</td>\n      <td>...</td>\n      <td>...</td>\n      <td>...</td>\n    </tr>\n    <tr>\n      <th>2540038</th>\n      <td>440038</td>\n      <td>59.166.0.5</td>\n      <td>33094</td>\n      <td>149.171.126.7</td>\n      <td>43433</td>\n      <td>tcp</td>\n      <td>FIN</td>\n      <td>0.087306</td>\n      <td>320</td>\n      <td>1828</td>\n      <td>31</td>\n      <td>29</td>\n      <td>1</td>\n      <td>2</td>\n      <td>ftp-data</td>\n      <td>24465.671880</td>\n      <td>146610.765600</td>\n      <td>6</td>\n      <td>8</td>\n      <td>255</td>\n      <td>255</td>\n      <td>4035116044</td>\n      <td>222196311</td>\n      <td>53</td>\n      <td>229</td>\n      <td>0</td>\n      <td>0</td>\n      <td>1221.136547</td>\n      <td>30.096029</td>\n      <td>1424262068</td>\n      <td>1424262069</td>\n      <td>17.394400</td>\n      <td>12.405143</td>\n      <td>0.000608</td>\n      <td>0.000468</td>\n      <td>0.000140</td>\n      <td>0</td>\n      <td>0</td>\n      <td>NaN</td>\n      <td>NaN</td>\n      <td></td>\n      <td>1</td>\n      <td>2</td>\n      <td>3</td>\n      <td>3</td>\n      <td>1</td>\n      <td>1</td>\n      <td>3</td>\n      <td>NaN</td>\n      <td>0</td>\n    </tr>\n    <tr>\n      <th>2540039</th>\n      <td>440039</td>\n      <td>59.166.0.7</td>\n      <td>20848</td>\n      <td>149.171.126.4</td>\n      <td>21</td>\n      <td>tcp</td>\n      <td>CON</td>\n      <td>0.365058</td>\n      <td>456</td>\n      <td>346</td>\n      <td>31</td>\n      <td>29</td>\n      <td>2</td>\n      <td>2</td>\n      <td>ftp</td>\n      <td>8743.816406</td>\n      <td>6333.240234</td>\n      <td>8</td>\n      <td>6</td>\n      <td>255</td>\n      <td>255</td>\n      <td>1529727621</td>\n      <td>185369967</td>\n      <td>57</td>\n      <td>58</td>\n      <td>0</td>\n      <td>0</td>\n      <td>3961.093354</td>\n      <td>129.038367</td>\n      <td>1424262068</td>\n      <td>1424262069</td>\n      <td>51.976999</td>\n      <td>72.915602</td>\n      <td>0.000609</td>\n      <td>0.000477</td>\n      <td>0.000132</td>\n      <td>0</td>\n      <td>0</td>\n      <td>NaN</td>\n      <td>2.0</td>\n      <td>2</td>\n      <td>2</td>\n      <td>2</td>\n      <td>2</td>\n      <td>2</td>\n      <td>2</td>\n      <td>2</td>\n      <td>2</td>\n      <td>NaN</td>\n      <td>0</td>\n    </tr>\n    <tr>\n      <th>2540040</th>\n      <td>440040</td>\n      <td>59.166.0.3</td>\n      <td>21511</td>\n      <td>149.171.126.9</td>\n      <td>21</td>\n      <td>tcp</td>\n      <td>CON</td>\n      <td>6.335154</td>\n      <td>1802</td>\n      <td>2088</td>\n      <td>31</td>\n      <td>29</td>\n      <td>7</td>\n      <td>9</td>\n      <td>ftp</td>\n      <td>2204.839844</td>\n      <td>2549.582764</td>\n      <td>32</td>\n      <td>30</td>\n      <td>255</td>\n      <td>255</td>\n      <td>497208793</td>\n      <td>889904111</td>\n      <td>56</td>\n      <td>70</td>\n      <td>0</td>\n      <td>0</td>\n      <td>13233.728560</td>\n      <td>379.052750</td>\n      <td>1424262062</td>\n      <td>1424262069</td>\n      <td>204.359814</td>\n      <td>214.372375</td>\n      <td>0.000617</td>\n      <td>0.000485</td>\n      <td>0.000132</td>\n      <td>0</td>\n      <td>0</td>\n      <td>NaN</td>\n      <td>2.0</td>\n      <td>2</td>\n      <td>2</td>\n      <td>2</td>\n      <td>4</td>\n      <td>2</td>\n      <td>2</td>\n      <td>2</td>\n      <td>2</td>\n      <td>NaN</td>\n      <td>0</td>\n    </tr>\n    <tr>\n      <th>2540041</th>\n      <td>440041</td>\n      <td>59.166.0.9</td>\n      <td>35433</td>\n      <td>149.171.126.0</td>\n      <td>80</td>\n      <td>tcp</td>\n      <td>CON</td>\n      <td>2.200934</td>\n      <td>3498</td>\n      <td>166054</td>\n      <td>31</td>\n      <td>29</td>\n      <td>2</td>\n      <td>57</td>\n      <td>http</td>\n      <td>12496.513670</td>\n      <td>598375.062500</td>\n      <td>58</td>\n      <td>116</td>\n      <td>255</td>\n      <td>255</td>\n      <td>1289728069</td>\n      <td>3436097151</td>\n      <td>60</td>\n      <td>1432</td>\n      <td>1</td>\n      <td>79745</td>\n      <td>2868.893137</td>\n      <td>1951.035944</td>\n      <td>1424262067</td>\n      <td>1424262069</td>\n      <td>38.609700</td>\n      <td>19.133826</td>\n      <td>0.000680</td>\n      <td>0.000541</td>\n      <td>0.000139</td>\n      <td>0</td>\n      <td>0</td>\n      <td>2.0</td>\n      <td>NaN</td>\n      <td></td>\n      <td>1</td>\n      <td>1</td>\n      <td>2</td>\n      <td>4</td>\n      <td>2</td>\n      <td>2</td>\n      <td>2</td>\n      <td>NaN</td>\n      <td>0</td>\n    </tr>\n    <tr>\n      <th>2540042</th>\n      <td>440042</td>\n      <td>175.45.176.0</td>\n      <td>17293</td>\n      <td>149.171.126.17</td>\n      <td>110</td>\n      <td>tcp</td>\n      <td>CON</td>\n      <td>0.942984</td>\n      <td>574</td>\n      <td>676</td>\n      <td>62</td>\n      <td>252</td>\n      <td>5</td>\n      <td>6</td>\n      <td>pop3</td>\n      <td>4470.913574</td>\n      <td>5259.898438</td>\n      <td>12</td>\n      <td>12</td>\n      <td>255</td>\n      <td>255</td>\n      <td>3026824982</td>\n      <td>3748412468</td>\n      <td>48</td>\n      <td>56</td>\n      <td>0</td>\n      <td>0</td>\n      <td>3903.523582</td>\n      <td>95.650531</td>\n      <td>1424262068</td>\n      <td>1424262069</td>\n      <td>79.714089</td>\n      <td>80.827180</td>\n      <td>0.139446</td>\n      <td>0.053884</td>\n      <td>0.085562</td>\n      <td>0</td>\n      <td>3</td>\n      <td>NaN</td>\n      <td>NaN</td>\n      <td></td>\n      <td>1</td>\n      <td>1</td>\n      <td>2</td>\n      <td>4</td>\n      <td>2</td>\n      <td>2</td>\n      <td>2</td>\n      <td>Exploits</td>\n      <td>1</td>\n    </tr>\n  </tbody>\n</table>\n<p>2540043 rows × 50 columns</p>\n</div>"
     },
     "execution_count": 1,
     "metadata": {},
     "output_type": "execute_result"
    }
   ],
   "source": [
    "import math\n",
    "\n",
    "from pycaret.classification import *\n",
    "import numpy as np\n",
    "import pandas as pd\n",
    "import tensorflow as tf\n",
    "ds_full=pd.read_csv(\"D:\\\\Master Thesis Datasets\\\\UNSW-NB15 Source-Files\\\\UNSW-NB15 - CSV Files\\\\FULL.csv\")\n",
    "ds_full"
   ]
  },
  {
   "cell_type": "code",
   "execution_count": 2,
   "outputs": [
    {
     "data": {
      "text/plain": "                srcip  sport           dstip dsport proto state       dur  \\\n0          59.166.0.0  33661   149.171.126.9   1024   udp   CON  0.036133   \n1          59.166.0.6   1464   149.171.126.7     53   udp   CON  0.001119   \n2          59.166.0.5   3593   149.171.126.5     53   udp   CON  0.001209   \n3          59.166.0.3  49664   149.171.126.0     53   udp   CON  0.001169   \n4          59.166.0.0  32119   149.171.126.9    111   udp   CON  0.078339   \n...               ...    ...             ...    ...   ...   ...       ...   \n2540038    59.166.0.5  33094   149.171.126.7  43433   tcp   FIN  0.087306   \n2540039    59.166.0.7  20848   149.171.126.4     21   tcp   CON  0.365058   \n2540040    59.166.0.3  21511   149.171.126.9     21   tcp   CON  6.335154   \n2540041    59.166.0.9  35433   149.171.126.0     80   tcp   CON  2.200934   \n2540042  175.45.176.0  17293  149.171.126.17    110   tcp   CON  0.942984   \n\n         sbytes  dbytes  sttl  dttl  sloss  dloss   service          Sload  \\\n0           528     304    31    29      0      0         -   87676.085940   \n1           146     178    31    29      0      0       dns  521894.531300   \n2           132     164    31    29      0      0       dns  436724.562500   \n3           146     178    31    29      0      0       dns  499572.250000   \n4           568     312    31    29      0      0         -   43503.234380   \n...         ...     ...   ...   ...    ...    ...       ...            ...   \n2540038     320    1828    31    29      1      2  ftp-data   24465.671880   \n2540039     456     346    31    29      2      2       ftp    8743.816406   \n2540040    1802    2088    31    29      7      9       ftp    2204.839844   \n2540041    3498  166054    31    29      2     57      http   12496.513670   \n2540042     574     676    62   252      5      6      pop3    4470.913574   \n\n                 Dload  Spkts  Dpkts  swin  dwin       stcpb       dtcpb  \\\n0         50480.171880      4      4     0     0           0           0   \n1        636282.375000      2      2     0     0           0           0   \n2        542597.187500      2      2     0     0           0           0   \n3        609067.562500      2      2     0     0           0           0   \n4         23896.142580      4      4     0     0           0           0   \n...                ...    ...    ...   ...   ...         ...         ...   \n2540038  146610.765600      6      8   255   255  4035116044   222196311   \n2540039    6333.240234      8      6   255   255  1529727621   185369967   \n2540040    2549.582764     32     30   255   255   497208793   889904111   \n2540041  598375.062500     58    116   255   255  1289728069  3436097151   \n2540042    5259.898438     12     12   255   255  3026824982  3748412468   \n\n         smeansz  dmeansz  trans_depth  res_bdy_len          Sjit  \\\n0            132       76            0            0      9.891010   \n1             73       89            0            0      0.000000   \n2             66       82            0            0      0.000000   \n3             73       89            0            0      0.000000   \n4            142       78            0            0     29.682221   \n...          ...      ...          ...          ...           ...   \n2540038       53      229            0            0   1221.136547   \n2540039       57       58            0            0   3961.093354   \n2540040       56       70            0            0  13233.728560   \n2540041       60     1432            1        79745   2868.893137   \n2540042       48       56            0            0   3903.523582   \n\n                Djit       Stime       Ltime     Sintpkt     Dintpkt  \\\n0          10.682733  1421927414  1421927414    7.005000    7.564333   \n1           0.000000  1421927414  1421927414    0.017000    0.013000   \n2           0.000000  1421927414  1421927414    0.043000    0.014000   \n3           0.000000  1421927414  1421927414    0.005000    0.003000   \n4          34.370340  1421927414  1421927414   21.003000   24.315000   \n...              ...         ...         ...         ...         ...   \n2540038    30.096029  1424262068  1424262069   17.394400   12.405143   \n2540039   129.038367  1424262068  1424262069   51.976999   72.915602   \n2540040   379.052750  1424262062  1424262069  204.359814  214.372375   \n2540041  1951.035944  1424262067  1424262069   38.609700   19.133826   \n2540042    95.650531  1424262068  1424262069   79.714089   80.827180   \n\n           tcprtt    synack    ackdat  is_sm_ips_ports  ct_state_ttl  \\\n0        0.000000  0.000000  0.000000                0             0   \n1        0.000000  0.000000  0.000000                0             0   \n2        0.000000  0.000000  0.000000                0             0   \n3        0.000000  0.000000  0.000000                0             0   \n4        0.000000  0.000000  0.000000                0             0   \n...           ...       ...       ...              ...           ...   \n2540038  0.000608  0.000468  0.000140                0             0   \n2540039  0.000609  0.000477  0.000132                0             0   \n2540040  0.000617  0.000485  0.000132                0             0   \n2540041  0.000680  0.000541  0.000139                0             0   \n2540042  0.139446  0.053884  0.085562                0             3   \n\n         ct_flw_http_mthd  is_ftp_login ct_ftp_cmd  ct_srv_src  ct_srv_dst  \\\n0                     0.0           0.0          0           2           4   \n1                     0.0           0.0          0          12           8   \n2                     0.0           0.0          0           6           9   \n3                     0.0           0.0          0           7           9   \n4                     0.0           0.0          0           2           4   \n...                   ...           ...        ...         ...         ...   \n2540038               NaN           NaN                      1           2   \n2540039               NaN           2.0          2           2           2   \n2540040               NaN           2.0          2           2           2   \n2540041               2.0           NaN                      1           1   \n2540042               NaN           NaN                      1           1   \n\n         ct_dst_ltm  ct_src_ ltm  ct_src_dport_ltm  ct_dst_sport_ltm  \\\n0                 2            3                 1                 1   \n1                 1            2                 2                 1   \n2                 1            1                 1                 1   \n3                 1            1                 1                 1   \n4                 2            3                 1                 1   \n...             ...          ...               ...               ...   \n2540038           3            3                 1                 1   \n2540039           2            2                 2                 2   \n2540040           4            2                 2                 2   \n2540041           2            4                 2                 2   \n2540042           2            4                 2                 2   \n\n         ct_dst_src_ltm attack_cat  label  \n0                     2        NaN      0  \n1                     1        NaN      0  \n2                     1        NaN      0  \n3                     1        NaN      0  \n4                     2        NaN      0  \n...                 ...        ...    ...  \n2540038               3        NaN      0  \n2540039               2        NaN      0  \n2540040               2        NaN      0  \n2540041               2        NaN      0  \n2540042               2   Exploits      1  \n\n[2540043 rows x 49 columns]",
      "text/html": "<div>\n<style scoped>\n    .dataframe tbody tr th:only-of-type {\n        vertical-align: middle;\n    }\n\n    .dataframe tbody tr th {\n        vertical-align: top;\n    }\n\n    .dataframe thead th {\n        text-align: right;\n    }\n</style>\n<table border=\"1\" class=\"dataframe\">\n  <thead>\n    <tr style=\"text-align: right;\">\n      <th></th>\n      <th>srcip</th>\n      <th>sport</th>\n      <th>dstip</th>\n      <th>dsport</th>\n      <th>proto</th>\n      <th>state</th>\n      <th>dur</th>\n      <th>sbytes</th>\n      <th>dbytes</th>\n      <th>sttl</th>\n      <th>dttl</th>\n      <th>sloss</th>\n      <th>dloss</th>\n      <th>service</th>\n      <th>Sload</th>\n      <th>Dload</th>\n      <th>Spkts</th>\n      <th>Dpkts</th>\n      <th>swin</th>\n      <th>dwin</th>\n      <th>stcpb</th>\n      <th>dtcpb</th>\n      <th>smeansz</th>\n      <th>dmeansz</th>\n      <th>trans_depth</th>\n      <th>res_bdy_len</th>\n      <th>Sjit</th>\n      <th>Djit</th>\n      <th>Stime</th>\n      <th>Ltime</th>\n      <th>Sintpkt</th>\n      <th>Dintpkt</th>\n      <th>tcprtt</th>\n      <th>synack</th>\n      <th>ackdat</th>\n      <th>is_sm_ips_ports</th>\n      <th>ct_state_ttl</th>\n      <th>ct_flw_http_mthd</th>\n      <th>is_ftp_login</th>\n      <th>ct_ftp_cmd</th>\n      <th>ct_srv_src</th>\n      <th>ct_srv_dst</th>\n      <th>ct_dst_ltm</th>\n      <th>ct_src_ ltm</th>\n      <th>ct_src_dport_ltm</th>\n      <th>ct_dst_sport_ltm</th>\n      <th>ct_dst_src_ltm</th>\n      <th>attack_cat</th>\n      <th>label</th>\n    </tr>\n  </thead>\n  <tbody>\n    <tr>\n      <th>0</th>\n      <td>59.166.0.0</td>\n      <td>33661</td>\n      <td>149.171.126.9</td>\n      <td>1024</td>\n      <td>udp</td>\n      <td>CON</td>\n      <td>0.036133</td>\n      <td>528</td>\n      <td>304</td>\n      <td>31</td>\n      <td>29</td>\n      <td>0</td>\n      <td>0</td>\n      <td>-</td>\n      <td>87676.085940</td>\n      <td>50480.171880</td>\n      <td>4</td>\n      <td>4</td>\n      <td>0</td>\n      <td>0</td>\n      <td>0</td>\n      <td>0</td>\n      <td>132</td>\n      <td>76</td>\n      <td>0</td>\n      <td>0</td>\n      <td>9.891010</td>\n      <td>10.682733</td>\n      <td>1421927414</td>\n      <td>1421927414</td>\n      <td>7.005000</td>\n      <td>7.564333</td>\n      <td>0.000000</td>\n      <td>0.000000</td>\n      <td>0.000000</td>\n      <td>0</td>\n      <td>0</td>\n      <td>0.0</td>\n      <td>0.0</td>\n      <td>0</td>\n      <td>2</td>\n      <td>4</td>\n      <td>2</td>\n      <td>3</td>\n      <td>1</td>\n      <td>1</td>\n      <td>2</td>\n      <td>NaN</td>\n      <td>0</td>\n    </tr>\n    <tr>\n      <th>1</th>\n      <td>59.166.0.6</td>\n      <td>1464</td>\n      <td>149.171.126.7</td>\n      <td>53</td>\n      <td>udp</td>\n      <td>CON</td>\n      <td>0.001119</td>\n      <td>146</td>\n      <td>178</td>\n      <td>31</td>\n      <td>29</td>\n      <td>0</td>\n      <td>0</td>\n      <td>dns</td>\n      <td>521894.531300</td>\n      <td>636282.375000</td>\n      <td>2</td>\n      <td>2</td>\n      <td>0</td>\n      <td>0</td>\n      <td>0</td>\n      <td>0</td>\n      <td>73</td>\n      <td>89</td>\n      <td>0</td>\n      <td>0</td>\n      <td>0.000000</td>\n      <td>0.000000</td>\n      <td>1421927414</td>\n      <td>1421927414</td>\n      <td>0.017000</td>\n      <td>0.013000</td>\n      <td>0.000000</td>\n      <td>0.000000</td>\n      <td>0.000000</td>\n      <td>0</td>\n      <td>0</td>\n      <td>0.0</td>\n      <td>0.0</td>\n      <td>0</td>\n      <td>12</td>\n      <td>8</td>\n      <td>1</td>\n      <td>2</td>\n      <td>2</td>\n      <td>1</td>\n      <td>1</td>\n      <td>NaN</td>\n      <td>0</td>\n    </tr>\n    <tr>\n      <th>2</th>\n      <td>59.166.0.5</td>\n      <td>3593</td>\n      <td>149.171.126.5</td>\n      <td>53</td>\n      <td>udp</td>\n      <td>CON</td>\n      <td>0.001209</td>\n      <td>132</td>\n      <td>164</td>\n      <td>31</td>\n      <td>29</td>\n      <td>0</td>\n      <td>0</td>\n      <td>dns</td>\n      <td>436724.562500</td>\n      <td>542597.187500</td>\n      <td>2</td>\n      <td>2</td>\n      <td>0</td>\n      <td>0</td>\n      <td>0</td>\n      <td>0</td>\n      <td>66</td>\n      <td>82</td>\n      <td>0</td>\n      <td>0</td>\n      <td>0.000000</td>\n      <td>0.000000</td>\n      <td>1421927414</td>\n      <td>1421927414</td>\n      <td>0.043000</td>\n      <td>0.014000</td>\n      <td>0.000000</td>\n      <td>0.000000</td>\n      <td>0.000000</td>\n      <td>0</td>\n      <td>0</td>\n      <td>0.0</td>\n      <td>0.0</td>\n      <td>0</td>\n      <td>6</td>\n      <td>9</td>\n      <td>1</td>\n      <td>1</td>\n      <td>1</td>\n      <td>1</td>\n      <td>1</td>\n      <td>NaN</td>\n      <td>0</td>\n    </tr>\n    <tr>\n      <th>3</th>\n      <td>59.166.0.3</td>\n      <td>49664</td>\n      <td>149.171.126.0</td>\n      <td>53</td>\n      <td>udp</td>\n      <td>CON</td>\n      <td>0.001169</td>\n      <td>146</td>\n      <td>178</td>\n      <td>31</td>\n      <td>29</td>\n      <td>0</td>\n      <td>0</td>\n      <td>dns</td>\n      <td>499572.250000</td>\n      <td>609067.562500</td>\n      <td>2</td>\n      <td>2</td>\n      <td>0</td>\n      <td>0</td>\n      <td>0</td>\n      <td>0</td>\n      <td>73</td>\n      <td>89</td>\n      <td>0</td>\n      <td>0</td>\n      <td>0.000000</td>\n      <td>0.000000</td>\n      <td>1421927414</td>\n      <td>1421927414</td>\n      <td>0.005000</td>\n      <td>0.003000</td>\n      <td>0.000000</td>\n      <td>0.000000</td>\n      <td>0.000000</td>\n      <td>0</td>\n      <td>0</td>\n      <td>0.0</td>\n      <td>0.0</td>\n      <td>0</td>\n      <td>7</td>\n      <td>9</td>\n      <td>1</td>\n      <td>1</td>\n      <td>1</td>\n      <td>1</td>\n      <td>1</td>\n      <td>NaN</td>\n      <td>0</td>\n    </tr>\n    <tr>\n      <th>4</th>\n      <td>59.166.0.0</td>\n      <td>32119</td>\n      <td>149.171.126.9</td>\n      <td>111</td>\n      <td>udp</td>\n      <td>CON</td>\n      <td>0.078339</td>\n      <td>568</td>\n      <td>312</td>\n      <td>31</td>\n      <td>29</td>\n      <td>0</td>\n      <td>0</td>\n      <td>-</td>\n      <td>43503.234380</td>\n      <td>23896.142580</td>\n      <td>4</td>\n      <td>4</td>\n      <td>0</td>\n      <td>0</td>\n      <td>0</td>\n      <td>0</td>\n      <td>142</td>\n      <td>78</td>\n      <td>0</td>\n      <td>0</td>\n      <td>29.682221</td>\n      <td>34.370340</td>\n      <td>1421927414</td>\n      <td>1421927414</td>\n      <td>21.003000</td>\n      <td>24.315000</td>\n      <td>0.000000</td>\n      <td>0.000000</td>\n      <td>0.000000</td>\n      <td>0</td>\n      <td>0</td>\n      <td>0.0</td>\n      <td>0.0</td>\n      <td>0</td>\n      <td>2</td>\n      <td>4</td>\n      <td>2</td>\n      <td>3</td>\n      <td>1</td>\n      <td>1</td>\n      <td>2</td>\n      <td>NaN</td>\n      <td>0</td>\n    </tr>\n    <tr>\n      <th>...</th>\n      <td>...</td>\n      <td>...</td>\n      <td>...</td>\n      <td>...</td>\n      <td>...</td>\n      <td>...</td>\n      <td>...</td>\n      <td>...</td>\n      <td>...</td>\n      <td>...</td>\n      <td>...</td>\n      <td>...</td>\n      <td>...</td>\n      <td>...</td>\n      <td>...</td>\n      <td>...</td>\n      <td>...</td>\n      <td>...</td>\n      <td>...</td>\n      <td>...</td>\n      <td>...</td>\n      <td>...</td>\n      <td>...</td>\n      <td>...</td>\n      <td>...</td>\n      <td>...</td>\n      <td>...</td>\n      <td>...</td>\n      <td>...</td>\n      <td>...</td>\n      <td>...</td>\n      <td>...</td>\n      <td>...</td>\n      <td>...</td>\n      <td>...</td>\n      <td>...</td>\n      <td>...</td>\n      <td>...</td>\n      <td>...</td>\n      <td>...</td>\n      <td>...</td>\n      <td>...</td>\n      <td>...</td>\n      <td>...</td>\n      <td>...</td>\n      <td>...</td>\n      <td>...</td>\n      <td>...</td>\n      <td>...</td>\n    </tr>\n    <tr>\n      <th>2540038</th>\n      <td>59.166.0.5</td>\n      <td>33094</td>\n      <td>149.171.126.7</td>\n      <td>43433</td>\n      <td>tcp</td>\n      <td>FIN</td>\n      <td>0.087306</td>\n      <td>320</td>\n      <td>1828</td>\n      <td>31</td>\n      <td>29</td>\n      <td>1</td>\n      <td>2</td>\n      <td>ftp-data</td>\n      <td>24465.671880</td>\n      <td>146610.765600</td>\n      <td>6</td>\n      <td>8</td>\n      <td>255</td>\n      <td>255</td>\n      <td>4035116044</td>\n      <td>222196311</td>\n      <td>53</td>\n      <td>229</td>\n      <td>0</td>\n      <td>0</td>\n      <td>1221.136547</td>\n      <td>30.096029</td>\n      <td>1424262068</td>\n      <td>1424262069</td>\n      <td>17.394400</td>\n      <td>12.405143</td>\n      <td>0.000608</td>\n      <td>0.000468</td>\n      <td>0.000140</td>\n      <td>0</td>\n      <td>0</td>\n      <td>NaN</td>\n      <td>NaN</td>\n      <td></td>\n      <td>1</td>\n      <td>2</td>\n      <td>3</td>\n      <td>3</td>\n      <td>1</td>\n      <td>1</td>\n      <td>3</td>\n      <td>NaN</td>\n      <td>0</td>\n    </tr>\n    <tr>\n      <th>2540039</th>\n      <td>59.166.0.7</td>\n      <td>20848</td>\n      <td>149.171.126.4</td>\n      <td>21</td>\n      <td>tcp</td>\n      <td>CON</td>\n      <td>0.365058</td>\n      <td>456</td>\n      <td>346</td>\n      <td>31</td>\n      <td>29</td>\n      <td>2</td>\n      <td>2</td>\n      <td>ftp</td>\n      <td>8743.816406</td>\n      <td>6333.240234</td>\n      <td>8</td>\n      <td>6</td>\n      <td>255</td>\n      <td>255</td>\n      <td>1529727621</td>\n      <td>185369967</td>\n      <td>57</td>\n      <td>58</td>\n      <td>0</td>\n      <td>0</td>\n      <td>3961.093354</td>\n      <td>129.038367</td>\n      <td>1424262068</td>\n      <td>1424262069</td>\n      <td>51.976999</td>\n      <td>72.915602</td>\n      <td>0.000609</td>\n      <td>0.000477</td>\n      <td>0.000132</td>\n      <td>0</td>\n      <td>0</td>\n      <td>NaN</td>\n      <td>2.0</td>\n      <td>2</td>\n      <td>2</td>\n      <td>2</td>\n      <td>2</td>\n      <td>2</td>\n      <td>2</td>\n      <td>2</td>\n      <td>2</td>\n      <td>NaN</td>\n      <td>0</td>\n    </tr>\n    <tr>\n      <th>2540040</th>\n      <td>59.166.0.3</td>\n      <td>21511</td>\n      <td>149.171.126.9</td>\n      <td>21</td>\n      <td>tcp</td>\n      <td>CON</td>\n      <td>6.335154</td>\n      <td>1802</td>\n      <td>2088</td>\n      <td>31</td>\n      <td>29</td>\n      <td>7</td>\n      <td>9</td>\n      <td>ftp</td>\n      <td>2204.839844</td>\n      <td>2549.582764</td>\n      <td>32</td>\n      <td>30</td>\n      <td>255</td>\n      <td>255</td>\n      <td>497208793</td>\n      <td>889904111</td>\n      <td>56</td>\n      <td>70</td>\n      <td>0</td>\n      <td>0</td>\n      <td>13233.728560</td>\n      <td>379.052750</td>\n      <td>1424262062</td>\n      <td>1424262069</td>\n      <td>204.359814</td>\n      <td>214.372375</td>\n      <td>0.000617</td>\n      <td>0.000485</td>\n      <td>0.000132</td>\n      <td>0</td>\n      <td>0</td>\n      <td>NaN</td>\n      <td>2.0</td>\n      <td>2</td>\n      <td>2</td>\n      <td>2</td>\n      <td>4</td>\n      <td>2</td>\n      <td>2</td>\n      <td>2</td>\n      <td>2</td>\n      <td>NaN</td>\n      <td>0</td>\n    </tr>\n    <tr>\n      <th>2540041</th>\n      <td>59.166.0.9</td>\n      <td>35433</td>\n      <td>149.171.126.0</td>\n      <td>80</td>\n      <td>tcp</td>\n      <td>CON</td>\n      <td>2.200934</td>\n      <td>3498</td>\n      <td>166054</td>\n      <td>31</td>\n      <td>29</td>\n      <td>2</td>\n      <td>57</td>\n      <td>http</td>\n      <td>12496.513670</td>\n      <td>598375.062500</td>\n      <td>58</td>\n      <td>116</td>\n      <td>255</td>\n      <td>255</td>\n      <td>1289728069</td>\n      <td>3436097151</td>\n      <td>60</td>\n      <td>1432</td>\n      <td>1</td>\n      <td>79745</td>\n      <td>2868.893137</td>\n      <td>1951.035944</td>\n      <td>1424262067</td>\n      <td>1424262069</td>\n      <td>38.609700</td>\n      <td>19.133826</td>\n      <td>0.000680</td>\n      <td>0.000541</td>\n      <td>0.000139</td>\n      <td>0</td>\n      <td>0</td>\n      <td>2.0</td>\n      <td>NaN</td>\n      <td></td>\n      <td>1</td>\n      <td>1</td>\n      <td>2</td>\n      <td>4</td>\n      <td>2</td>\n      <td>2</td>\n      <td>2</td>\n      <td>NaN</td>\n      <td>0</td>\n    </tr>\n    <tr>\n      <th>2540042</th>\n      <td>175.45.176.0</td>\n      <td>17293</td>\n      <td>149.171.126.17</td>\n      <td>110</td>\n      <td>tcp</td>\n      <td>CON</td>\n      <td>0.942984</td>\n      <td>574</td>\n      <td>676</td>\n      <td>62</td>\n      <td>252</td>\n      <td>5</td>\n      <td>6</td>\n      <td>pop3</td>\n      <td>4470.913574</td>\n      <td>5259.898438</td>\n      <td>12</td>\n      <td>12</td>\n      <td>255</td>\n      <td>255</td>\n      <td>3026824982</td>\n      <td>3748412468</td>\n      <td>48</td>\n      <td>56</td>\n      <td>0</td>\n      <td>0</td>\n      <td>3903.523582</td>\n      <td>95.650531</td>\n      <td>1424262068</td>\n      <td>1424262069</td>\n      <td>79.714089</td>\n      <td>80.827180</td>\n      <td>0.139446</td>\n      <td>0.053884</td>\n      <td>0.085562</td>\n      <td>0</td>\n      <td>3</td>\n      <td>NaN</td>\n      <td>NaN</td>\n      <td></td>\n      <td>1</td>\n      <td>1</td>\n      <td>2</td>\n      <td>4</td>\n      <td>2</td>\n      <td>2</td>\n      <td>2</td>\n      <td>Exploits</td>\n      <td>1</td>\n    </tr>\n  </tbody>\n</table>\n<p>2540043 rows × 49 columns</p>\n</div>"
     },
     "execution_count": 2,
     "metadata": {},
     "output_type": "execute_result"
    }
   ],
   "source": [
    "ds_full.drop(columns=\"Unnamed: 0\",inplace=True)\n",
    "ds_full"
   ],
   "metadata": {
    "collapsed": false,
    "pycharm": {
     "name": "#%%\n"
    }
   }
  },
  {
   "cell_type": "code",
   "execution_count": 3,
   "outputs": [
    {
     "data": {
      "text/plain": "480625"
     },
     "execution_count": 3,
     "metadata": {},
     "output_type": "execute_result"
    }
   ],
   "source": [
    "# see how many duplicates\n",
    "ds_full.duplicated().sum()"
   ],
   "metadata": {
    "collapsed": false,
    "pycharm": {
     "name": "#%%\n"
    }
   }
  },
  {
   "cell_type": "code",
   "execution_count": 4,
   "outputs": [
    {
     "data": {
      "text/plain": "                srcip  sport           dstip dsport proto state       dur  \\\n0          59.166.0.0  33661   149.171.126.9   1024   udp   CON  0.036133   \n1          59.166.0.6   1464   149.171.126.7     53   udp   CON  0.001119   \n2          59.166.0.5   3593   149.171.126.5     53   udp   CON  0.001209   \n3          59.166.0.3  49664   149.171.126.0     53   udp   CON  0.001169   \n4          59.166.0.0  32119   149.171.126.9    111   udp   CON  0.078339   \n...               ...    ...             ...    ...   ...   ...       ...   \n2540035    59.166.0.1  38606   149.171.126.9     80   tcp   CON  0.564998   \n2540037    59.166.0.1  38606   149.171.126.9     80   tcp   CON  0.564998   \n2540038    59.166.0.5  33094   149.171.126.7  43433   tcp   FIN  0.087306   \n2540041    59.166.0.9  35433   149.171.126.0     80   tcp   CON  2.200934   \n2540042  175.45.176.0  17293  149.171.126.17    110   tcp   CON  0.942984   \n\n         sbytes  dbytes  sttl  dttl  sloss  dloss   service          Sload  \\\n0           528     304    31    29      0      0         -   87676.085940   \n1           146     178    31    29      0      0       dns  521894.531300   \n2           132     164    31    29      0      0       dns  436724.562500   \n3           146     178    31    29      0      0       dns  499572.250000   \n4           568     312    31    29      0      0         -   43503.234380   \n...         ...     ...   ...   ...    ...    ...       ...            ...   \n2540035   14106  772406    31    29      2    262      http  198981.250000   \n2540037   14106  772406    31    29      2    262         -  198981.250000   \n2540038     320    1828    31    29      1      2  ftp-data   24465.671880   \n2540041    3498  166054    31    29      2     57      http   12496.513670   \n2540042     574     676    62   252      5      6      pop3    4470.913574   \n\n                Dload  Spkts  Dpkts  swin  dwin       stcpb       dtcpb  \\\n0        5.048017e+04      4      4     0     0           0           0   \n1        6.362824e+05      2      2     0     0           0           0   \n2        5.425972e+05      2      2     0     0           0           0   \n3        6.090676e+05      2      2     0     0           0           0   \n4        2.389614e+04      4      4     0     0           0           0   \n...               ...    ...    ...   ...   ...         ...         ...   \n2540035  1.091598e+07    262    526   255   255   162243658   163257853   \n2540037  1.091598e+07    262    526   255   255   162243658   163257853   \n2540038  1.466108e+05      6      8   255   255  4035116044   222196311   \n2540041  5.983751e+05     58    116   255   255  1289728069  3436097151   \n2540042  5.259898e+03     12     12   255   255  3026824982  3748412468   \n\n         smeansz  dmeansz  trans_depth  res_bdy_len         Sjit         Djit  \\\n0            132       76            0            0     9.891010    10.682733   \n1             73       89            0            0     0.000000     0.000000   \n2             66       82            0            0     0.000000     0.000000   \n3             73       89            0            0     0.000000     0.000000   \n4            142       78            0            0    29.682221    34.370340   \n...          ...      ...          ...          ...          ...          ...   \n2540035       54     1468            1       372266   116.321921    69.874077   \n2540037       54     1468            1       372266   116.321921    69.874077   \n2540038       53      229            0            0  1221.136547    30.096029   \n2540041       60     1432            1        79745  2868.893137  1951.035944   \n2540042       48       56            0            0  3903.523582    95.650531   \n\n              Stime       Ltime    Sintpkt    Dintpkt    tcprtt    synack  \\\n0        1421927414  1421927414   7.005000   7.564333  0.000000  0.000000   \n1        1421927414  1421927414   0.017000   0.013000  0.000000  0.000000   \n2        1421927414  1421927414   0.043000   0.014000  0.000000  0.000000   \n3        1421927414  1421927414   0.005000   0.003000  0.000000  0.000000   \n4        1421927414  1421927414  21.003000  24.315000  0.000000  0.000000   \n...             ...         ...        ...        ...       ...       ...   \n2540035  1424262068  1424262069   2.123130   1.075171  0.000669  0.000530   \n2540037  1424262068  1424262069   2.123130   1.075171  0.000669  0.000530   \n2540038  1424262068  1424262069  17.394400  12.405143  0.000608  0.000468   \n2540041  1424262067  1424262069  38.609700  19.133826  0.000680  0.000541   \n2540042  1424262068  1424262069  79.714089  80.827180  0.139446  0.053884   \n\n           ackdat  is_sm_ips_ports  ct_state_ttl  ct_flw_http_mthd  \\\n0        0.000000                0             0               0.0   \n1        0.000000                0             0               0.0   \n2        0.000000                0             0               0.0   \n3        0.000000                0             0               0.0   \n4        0.000000                0             0               0.0   \n...           ...              ...           ...               ...   \n2540035  0.000139                0             0               2.0   \n2540037  0.000139                0             0               2.0   \n2540038  0.000140                0             0               NaN   \n2540041  0.000139                0             0               2.0   \n2540042  0.085562                0             3               NaN   \n\n         is_ftp_login ct_ftp_cmd  ct_srv_src  ct_srv_dst  ct_dst_ltm  \\\n0                 0.0          0           2           4           2   \n1                 0.0          0          12           8           1   \n2                 0.0          0           6           9           1   \n3                 0.0          0           7           9           1   \n4                 0.0          0           2           4           2   \n...               ...        ...         ...         ...         ...   \n2540035           NaN                      1           1           4   \n2540037           NaN                      2           1           4   \n2540038           NaN                      1           2           3   \n2540041           NaN                      1           1           2   \n2540042           NaN                      1           1           2   \n\n         ct_src_ ltm  ct_src_dport_ltm  ct_dst_sport_ltm  ct_dst_src_ltm  \\\n0                  3                 1                 1               2   \n1                  2                 2                 1               1   \n2                  1                 1                 1               1   \n3                  1                 1                 1               1   \n4                  3                 1                 1               2   \n...              ...               ...               ...             ...   \n2540035            2                 2                 2               2   \n2540037            2                 2                 2               2   \n2540038            3                 1                 1               3   \n2540041            4                 2                 2               2   \n2540042            4                 2                 2               2   \n\n        attack_cat  label  \n0              NaN      0  \n1              NaN      0  \n2              NaN      0  \n3              NaN      0  \n4              NaN      0  \n...            ...    ...  \n2540035        NaN      0  \n2540037        NaN      0  \n2540038        NaN      0  \n2540041        NaN      0  \n2540042   Exploits      1  \n\n[2059418 rows x 49 columns]",
      "text/html": "<div>\n<style scoped>\n    .dataframe tbody tr th:only-of-type {\n        vertical-align: middle;\n    }\n\n    .dataframe tbody tr th {\n        vertical-align: top;\n    }\n\n    .dataframe thead th {\n        text-align: right;\n    }\n</style>\n<table border=\"1\" class=\"dataframe\">\n  <thead>\n    <tr style=\"text-align: right;\">\n      <th></th>\n      <th>srcip</th>\n      <th>sport</th>\n      <th>dstip</th>\n      <th>dsport</th>\n      <th>proto</th>\n      <th>state</th>\n      <th>dur</th>\n      <th>sbytes</th>\n      <th>dbytes</th>\n      <th>sttl</th>\n      <th>dttl</th>\n      <th>sloss</th>\n      <th>dloss</th>\n      <th>service</th>\n      <th>Sload</th>\n      <th>Dload</th>\n      <th>Spkts</th>\n      <th>Dpkts</th>\n      <th>swin</th>\n      <th>dwin</th>\n      <th>stcpb</th>\n      <th>dtcpb</th>\n      <th>smeansz</th>\n      <th>dmeansz</th>\n      <th>trans_depth</th>\n      <th>res_bdy_len</th>\n      <th>Sjit</th>\n      <th>Djit</th>\n      <th>Stime</th>\n      <th>Ltime</th>\n      <th>Sintpkt</th>\n      <th>Dintpkt</th>\n      <th>tcprtt</th>\n      <th>synack</th>\n      <th>ackdat</th>\n      <th>is_sm_ips_ports</th>\n      <th>ct_state_ttl</th>\n      <th>ct_flw_http_mthd</th>\n      <th>is_ftp_login</th>\n      <th>ct_ftp_cmd</th>\n      <th>ct_srv_src</th>\n      <th>ct_srv_dst</th>\n      <th>ct_dst_ltm</th>\n      <th>ct_src_ ltm</th>\n      <th>ct_src_dport_ltm</th>\n      <th>ct_dst_sport_ltm</th>\n      <th>ct_dst_src_ltm</th>\n      <th>attack_cat</th>\n      <th>label</th>\n    </tr>\n  </thead>\n  <tbody>\n    <tr>\n      <th>0</th>\n      <td>59.166.0.0</td>\n      <td>33661</td>\n      <td>149.171.126.9</td>\n      <td>1024</td>\n      <td>udp</td>\n      <td>CON</td>\n      <td>0.036133</td>\n      <td>528</td>\n      <td>304</td>\n      <td>31</td>\n      <td>29</td>\n      <td>0</td>\n      <td>0</td>\n      <td>-</td>\n      <td>87676.085940</td>\n      <td>5.048017e+04</td>\n      <td>4</td>\n      <td>4</td>\n      <td>0</td>\n      <td>0</td>\n      <td>0</td>\n      <td>0</td>\n      <td>132</td>\n      <td>76</td>\n      <td>0</td>\n      <td>0</td>\n      <td>9.891010</td>\n      <td>10.682733</td>\n      <td>1421927414</td>\n      <td>1421927414</td>\n      <td>7.005000</td>\n      <td>7.564333</td>\n      <td>0.000000</td>\n      <td>0.000000</td>\n      <td>0.000000</td>\n      <td>0</td>\n      <td>0</td>\n      <td>0.0</td>\n      <td>0.0</td>\n      <td>0</td>\n      <td>2</td>\n      <td>4</td>\n      <td>2</td>\n      <td>3</td>\n      <td>1</td>\n      <td>1</td>\n      <td>2</td>\n      <td>NaN</td>\n      <td>0</td>\n    </tr>\n    <tr>\n      <th>1</th>\n      <td>59.166.0.6</td>\n      <td>1464</td>\n      <td>149.171.126.7</td>\n      <td>53</td>\n      <td>udp</td>\n      <td>CON</td>\n      <td>0.001119</td>\n      <td>146</td>\n      <td>178</td>\n      <td>31</td>\n      <td>29</td>\n      <td>0</td>\n      <td>0</td>\n      <td>dns</td>\n      <td>521894.531300</td>\n      <td>6.362824e+05</td>\n      <td>2</td>\n      <td>2</td>\n      <td>0</td>\n      <td>0</td>\n      <td>0</td>\n      <td>0</td>\n      <td>73</td>\n      <td>89</td>\n      <td>0</td>\n      <td>0</td>\n      <td>0.000000</td>\n      <td>0.000000</td>\n      <td>1421927414</td>\n      <td>1421927414</td>\n      <td>0.017000</td>\n      <td>0.013000</td>\n      <td>0.000000</td>\n      <td>0.000000</td>\n      <td>0.000000</td>\n      <td>0</td>\n      <td>0</td>\n      <td>0.0</td>\n      <td>0.0</td>\n      <td>0</td>\n      <td>12</td>\n      <td>8</td>\n      <td>1</td>\n      <td>2</td>\n      <td>2</td>\n      <td>1</td>\n      <td>1</td>\n      <td>NaN</td>\n      <td>0</td>\n    </tr>\n    <tr>\n      <th>2</th>\n      <td>59.166.0.5</td>\n      <td>3593</td>\n      <td>149.171.126.5</td>\n      <td>53</td>\n      <td>udp</td>\n      <td>CON</td>\n      <td>0.001209</td>\n      <td>132</td>\n      <td>164</td>\n      <td>31</td>\n      <td>29</td>\n      <td>0</td>\n      <td>0</td>\n      <td>dns</td>\n      <td>436724.562500</td>\n      <td>5.425972e+05</td>\n      <td>2</td>\n      <td>2</td>\n      <td>0</td>\n      <td>0</td>\n      <td>0</td>\n      <td>0</td>\n      <td>66</td>\n      <td>82</td>\n      <td>0</td>\n      <td>0</td>\n      <td>0.000000</td>\n      <td>0.000000</td>\n      <td>1421927414</td>\n      <td>1421927414</td>\n      <td>0.043000</td>\n      <td>0.014000</td>\n      <td>0.000000</td>\n      <td>0.000000</td>\n      <td>0.000000</td>\n      <td>0</td>\n      <td>0</td>\n      <td>0.0</td>\n      <td>0.0</td>\n      <td>0</td>\n      <td>6</td>\n      <td>9</td>\n      <td>1</td>\n      <td>1</td>\n      <td>1</td>\n      <td>1</td>\n      <td>1</td>\n      <td>NaN</td>\n      <td>0</td>\n    </tr>\n    <tr>\n      <th>3</th>\n      <td>59.166.0.3</td>\n      <td>49664</td>\n      <td>149.171.126.0</td>\n      <td>53</td>\n      <td>udp</td>\n      <td>CON</td>\n      <td>0.001169</td>\n      <td>146</td>\n      <td>178</td>\n      <td>31</td>\n      <td>29</td>\n      <td>0</td>\n      <td>0</td>\n      <td>dns</td>\n      <td>499572.250000</td>\n      <td>6.090676e+05</td>\n      <td>2</td>\n      <td>2</td>\n      <td>0</td>\n      <td>0</td>\n      <td>0</td>\n      <td>0</td>\n      <td>73</td>\n      <td>89</td>\n      <td>0</td>\n      <td>0</td>\n      <td>0.000000</td>\n      <td>0.000000</td>\n      <td>1421927414</td>\n      <td>1421927414</td>\n      <td>0.005000</td>\n      <td>0.003000</td>\n      <td>0.000000</td>\n      <td>0.000000</td>\n      <td>0.000000</td>\n      <td>0</td>\n      <td>0</td>\n      <td>0.0</td>\n      <td>0.0</td>\n      <td>0</td>\n      <td>7</td>\n      <td>9</td>\n      <td>1</td>\n      <td>1</td>\n      <td>1</td>\n      <td>1</td>\n      <td>1</td>\n      <td>NaN</td>\n      <td>0</td>\n    </tr>\n    <tr>\n      <th>4</th>\n      <td>59.166.0.0</td>\n      <td>32119</td>\n      <td>149.171.126.9</td>\n      <td>111</td>\n      <td>udp</td>\n      <td>CON</td>\n      <td>0.078339</td>\n      <td>568</td>\n      <td>312</td>\n      <td>31</td>\n      <td>29</td>\n      <td>0</td>\n      <td>0</td>\n      <td>-</td>\n      <td>43503.234380</td>\n      <td>2.389614e+04</td>\n      <td>4</td>\n      <td>4</td>\n      <td>0</td>\n      <td>0</td>\n      <td>0</td>\n      <td>0</td>\n      <td>142</td>\n      <td>78</td>\n      <td>0</td>\n      <td>0</td>\n      <td>29.682221</td>\n      <td>34.370340</td>\n      <td>1421927414</td>\n      <td>1421927414</td>\n      <td>21.003000</td>\n      <td>24.315000</td>\n      <td>0.000000</td>\n      <td>0.000000</td>\n      <td>0.000000</td>\n      <td>0</td>\n      <td>0</td>\n      <td>0.0</td>\n      <td>0.0</td>\n      <td>0</td>\n      <td>2</td>\n      <td>4</td>\n      <td>2</td>\n      <td>3</td>\n      <td>1</td>\n      <td>1</td>\n      <td>2</td>\n      <td>NaN</td>\n      <td>0</td>\n    </tr>\n    <tr>\n      <th>...</th>\n      <td>...</td>\n      <td>...</td>\n      <td>...</td>\n      <td>...</td>\n      <td>...</td>\n      <td>...</td>\n      <td>...</td>\n      <td>...</td>\n      <td>...</td>\n      <td>...</td>\n      <td>...</td>\n      <td>...</td>\n      <td>...</td>\n      <td>...</td>\n      <td>...</td>\n      <td>...</td>\n      <td>...</td>\n      <td>...</td>\n      <td>...</td>\n      <td>...</td>\n      <td>...</td>\n      <td>...</td>\n      <td>...</td>\n      <td>...</td>\n      <td>...</td>\n      <td>...</td>\n      <td>...</td>\n      <td>...</td>\n      <td>...</td>\n      <td>...</td>\n      <td>...</td>\n      <td>...</td>\n      <td>...</td>\n      <td>...</td>\n      <td>...</td>\n      <td>...</td>\n      <td>...</td>\n      <td>...</td>\n      <td>...</td>\n      <td>...</td>\n      <td>...</td>\n      <td>...</td>\n      <td>...</td>\n      <td>...</td>\n      <td>...</td>\n      <td>...</td>\n      <td>...</td>\n      <td>...</td>\n      <td>...</td>\n    </tr>\n    <tr>\n      <th>2540035</th>\n      <td>59.166.0.1</td>\n      <td>38606</td>\n      <td>149.171.126.9</td>\n      <td>80</td>\n      <td>tcp</td>\n      <td>CON</td>\n      <td>0.564998</td>\n      <td>14106</td>\n      <td>772406</td>\n      <td>31</td>\n      <td>29</td>\n      <td>2</td>\n      <td>262</td>\n      <td>http</td>\n      <td>198981.250000</td>\n      <td>1.091598e+07</td>\n      <td>262</td>\n      <td>526</td>\n      <td>255</td>\n      <td>255</td>\n      <td>162243658</td>\n      <td>163257853</td>\n      <td>54</td>\n      <td>1468</td>\n      <td>1</td>\n      <td>372266</td>\n      <td>116.321921</td>\n      <td>69.874077</td>\n      <td>1424262068</td>\n      <td>1424262069</td>\n      <td>2.123130</td>\n      <td>1.075171</td>\n      <td>0.000669</td>\n      <td>0.000530</td>\n      <td>0.000139</td>\n      <td>0</td>\n      <td>0</td>\n      <td>2.0</td>\n      <td>NaN</td>\n      <td></td>\n      <td>1</td>\n      <td>1</td>\n      <td>4</td>\n      <td>2</td>\n      <td>2</td>\n      <td>2</td>\n      <td>2</td>\n      <td>NaN</td>\n      <td>0</td>\n    </tr>\n    <tr>\n      <th>2540037</th>\n      <td>59.166.0.1</td>\n      <td>38606</td>\n      <td>149.171.126.9</td>\n      <td>80</td>\n      <td>tcp</td>\n      <td>CON</td>\n      <td>0.564998</td>\n      <td>14106</td>\n      <td>772406</td>\n      <td>31</td>\n      <td>29</td>\n      <td>2</td>\n      <td>262</td>\n      <td>-</td>\n      <td>198981.250000</td>\n      <td>1.091598e+07</td>\n      <td>262</td>\n      <td>526</td>\n      <td>255</td>\n      <td>255</td>\n      <td>162243658</td>\n      <td>163257853</td>\n      <td>54</td>\n      <td>1468</td>\n      <td>1</td>\n      <td>372266</td>\n      <td>116.321921</td>\n      <td>69.874077</td>\n      <td>1424262068</td>\n      <td>1424262069</td>\n      <td>2.123130</td>\n      <td>1.075171</td>\n      <td>0.000669</td>\n      <td>0.000530</td>\n      <td>0.000139</td>\n      <td>0</td>\n      <td>0</td>\n      <td>2.0</td>\n      <td>NaN</td>\n      <td></td>\n      <td>2</td>\n      <td>1</td>\n      <td>4</td>\n      <td>2</td>\n      <td>2</td>\n      <td>2</td>\n      <td>2</td>\n      <td>NaN</td>\n      <td>0</td>\n    </tr>\n    <tr>\n      <th>2540038</th>\n      <td>59.166.0.5</td>\n      <td>33094</td>\n      <td>149.171.126.7</td>\n      <td>43433</td>\n      <td>tcp</td>\n      <td>FIN</td>\n      <td>0.087306</td>\n      <td>320</td>\n      <td>1828</td>\n      <td>31</td>\n      <td>29</td>\n      <td>1</td>\n      <td>2</td>\n      <td>ftp-data</td>\n      <td>24465.671880</td>\n      <td>1.466108e+05</td>\n      <td>6</td>\n      <td>8</td>\n      <td>255</td>\n      <td>255</td>\n      <td>4035116044</td>\n      <td>222196311</td>\n      <td>53</td>\n      <td>229</td>\n      <td>0</td>\n      <td>0</td>\n      <td>1221.136547</td>\n      <td>30.096029</td>\n      <td>1424262068</td>\n      <td>1424262069</td>\n      <td>17.394400</td>\n      <td>12.405143</td>\n      <td>0.000608</td>\n      <td>0.000468</td>\n      <td>0.000140</td>\n      <td>0</td>\n      <td>0</td>\n      <td>NaN</td>\n      <td>NaN</td>\n      <td></td>\n      <td>1</td>\n      <td>2</td>\n      <td>3</td>\n      <td>3</td>\n      <td>1</td>\n      <td>1</td>\n      <td>3</td>\n      <td>NaN</td>\n      <td>0</td>\n    </tr>\n    <tr>\n      <th>2540041</th>\n      <td>59.166.0.9</td>\n      <td>35433</td>\n      <td>149.171.126.0</td>\n      <td>80</td>\n      <td>tcp</td>\n      <td>CON</td>\n      <td>2.200934</td>\n      <td>3498</td>\n      <td>166054</td>\n      <td>31</td>\n      <td>29</td>\n      <td>2</td>\n      <td>57</td>\n      <td>http</td>\n      <td>12496.513670</td>\n      <td>5.983751e+05</td>\n      <td>58</td>\n      <td>116</td>\n      <td>255</td>\n      <td>255</td>\n      <td>1289728069</td>\n      <td>3436097151</td>\n      <td>60</td>\n      <td>1432</td>\n      <td>1</td>\n      <td>79745</td>\n      <td>2868.893137</td>\n      <td>1951.035944</td>\n      <td>1424262067</td>\n      <td>1424262069</td>\n      <td>38.609700</td>\n      <td>19.133826</td>\n      <td>0.000680</td>\n      <td>0.000541</td>\n      <td>0.000139</td>\n      <td>0</td>\n      <td>0</td>\n      <td>2.0</td>\n      <td>NaN</td>\n      <td></td>\n      <td>1</td>\n      <td>1</td>\n      <td>2</td>\n      <td>4</td>\n      <td>2</td>\n      <td>2</td>\n      <td>2</td>\n      <td>NaN</td>\n      <td>0</td>\n    </tr>\n    <tr>\n      <th>2540042</th>\n      <td>175.45.176.0</td>\n      <td>17293</td>\n      <td>149.171.126.17</td>\n      <td>110</td>\n      <td>tcp</td>\n      <td>CON</td>\n      <td>0.942984</td>\n      <td>574</td>\n      <td>676</td>\n      <td>62</td>\n      <td>252</td>\n      <td>5</td>\n      <td>6</td>\n      <td>pop3</td>\n      <td>4470.913574</td>\n      <td>5.259898e+03</td>\n      <td>12</td>\n      <td>12</td>\n      <td>255</td>\n      <td>255</td>\n      <td>3026824982</td>\n      <td>3748412468</td>\n      <td>48</td>\n      <td>56</td>\n      <td>0</td>\n      <td>0</td>\n      <td>3903.523582</td>\n      <td>95.650531</td>\n      <td>1424262068</td>\n      <td>1424262069</td>\n      <td>79.714089</td>\n      <td>80.827180</td>\n      <td>0.139446</td>\n      <td>0.053884</td>\n      <td>0.085562</td>\n      <td>0</td>\n      <td>3</td>\n      <td>NaN</td>\n      <td>NaN</td>\n      <td></td>\n      <td>1</td>\n      <td>1</td>\n      <td>2</td>\n      <td>4</td>\n      <td>2</td>\n      <td>2</td>\n      <td>2</td>\n      <td>Exploits</td>\n      <td>1</td>\n    </tr>\n  </tbody>\n</table>\n<p>2059418 rows × 49 columns</p>\n</div>"
     },
     "execution_count": 4,
     "metadata": {},
     "output_type": "execute_result"
    }
   ],
   "source": [
    "#remove these duplicates\n",
    "ds_full_new=ds_full.drop_duplicates()\n",
    "ds_full_new"
   ],
   "metadata": {
    "collapsed": false,
    "pycharm": {
     "name": "#%%\n"
    }
   }
  },
  {
   "cell_type": "code",
   "execution_count": 5,
   "outputs": [
    {
     "data": {
      "text/plain": "                srcip  sport           dstip dsport proto state       dur  \\\n0          59.166.0.0  33661   149.171.126.9   1024   udp   CON  0.036133   \n1          59.166.0.6   1464   149.171.126.7     53   udp   CON  0.001119   \n2          59.166.0.5   3593   149.171.126.5     53   udp   CON  0.001209   \n3          59.166.0.3  49664   149.171.126.0     53   udp   CON  0.001169   \n4          59.166.0.0  32119   149.171.126.9    111   udp   CON  0.078339   \n...               ...    ...             ...    ...   ...   ...       ...   \n2540035    59.166.0.1  38606   149.171.126.9     80   tcp   CON  0.564998   \n2540037    59.166.0.1  38606   149.171.126.9     80   tcp   CON  0.564998   \n2540038    59.166.0.5  33094   149.171.126.7  43433   tcp   FIN  0.087306   \n2540041    59.166.0.9  35433   149.171.126.0     80   tcp   CON  2.200934   \n2540042  175.45.176.0  17293  149.171.126.17    110   tcp   CON  0.942984   \n\n         sbytes  dbytes  sttl  dttl  sloss  dloss    service          Sload  \\\n0           528     304    31    29      0      0  undefined   87676.085940   \n1           146     178    31    29      0      0        dns  521894.531300   \n2           132     164    31    29      0      0        dns  436724.562500   \n3           146     178    31    29      0      0        dns  499572.250000   \n4           568     312    31    29      0      0  undefined   43503.234380   \n...         ...     ...   ...   ...    ...    ...        ...            ...   \n2540035   14106  772406    31    29      2    262       http  198981.250000   \n2540037   14106  772406    31    29      2    262  undefined  198981.250000   \n2540038     320    1828    31    29      1      2   ftp-data   24465.671880   \n2540041    3498  166054    31    29      2     57       http   12496.513670   \n2540042     574     676    62   252      5      6       pop3    4470.913574   \n\n                Dload  Spkts  Dpkts  swin  dwin       stcpb       dtcpb  \\\n0        5.048017e+04      4      4     0     0           0           0   \n1        6.362824e+05      2      2     0     0           0           0   \n2        5.425972e+05      2      2     0     0           0           0   \n3        6.090676e+05      2      2     0     0           0           0   \n4        2.389614e+04      4      4     0     0           0           0   \n...               ...    ...    ...   ...   ...         ...         ...   \n2540035  1.091598e+07    262    526   255   255   162243658   163257853   \n2540037  1.091598e+07    262    526   255   255   162243658   163257853   \n2540038  1.466108e+05      6      8   255   255  4035116044   222196311   \n2540041  5.983751e+05     58    116   255   255  1289728069  3436097151   \n2540042  5.259898e+03     12     12   255   255  3026824982  3748412468   \n\n         smeansz  dmeansz  trans_depth  res_bdy_len         Sjit         Djit  \\\n0            132       76            0            0     9.891010    10.682733   \n1             73       89            0            0     0.000000     0.000000   \n2             66       82            0            0     0.000000     0.000000   \n3             73       89            0            0     0.000000     0.000000   \n4            142       78            0            0    29.682221    34.370340   \n...          ...      ...          ...          ...          ...          ...   \n2540035       54     1468            1       372266   116.321921    69.874077   \n2540037       54     1468            1       372266   116.321921    69.874077   \n2540038       53      229            0            0  1221.136547    30.096029   \n2540041       60     1432            1        79745  2868.893137  1951.035944   \n2540042       48       56            0            0  3903.523582    95.650531   \n\n              Stime       Ltime    Sintpkt    Dintpkt    tcprtt    synack  \\\n0        1421927414  1421927414   7.005000   7.564333  0.000000  0.000000   \n1        1421927414  1421927414   0.017000   0.013000  0.000000  0.000000   \n2        1421927414  1421927414   0.043000   0.014000  0.000000  0.000000   \n3        1421927414  1421927414   0.005000   0.003000  0.000000  0.000000   \n4        1421927414  1421927414  21.003000  24.315000  0.000000  0.000000   \n...             ...         ...        ...        ...       ...       ...   \n2540035  1424262068  1424262069   2.123130   1.075171  0.000669  0.000530   \n2540037  1424262068  1424262069   2.123130   1.075171  0.000669  0.000530   \n2540038  1424262068  1424262069  17.394400  12.405143  0.000608  0.000468   \n2540041  1424262067  1424262069  38.609700  19.133826  0.000680  0.000541   \n2540042  1424262068  1424262069  79.714089  80.827180  0.139446  0.053884   \n\n           ackdat  is_sm_ips_ports  ct_state_ttl  ct_flw_http_mthd  \\\n0        0.000000                0             0               0.0   \n1        0.000000                0             0               0.0   \n2        0.000000                0             0               0.0   \n3        0.000000                0             0               0.0   \n4        0.000000                0             0               0.0   \n...           ...              ...           ...               ...   \n2540035  0.000139                0             0               2.0   \n2540037  0.000139                0             0               2.0   \n2540038  0.000140                0             0               NaN   \n2540041  0.000139                0             0               2.0   \n2540042  0.085562                0             3               NaN   \n\n         is_ftp_login ct_ftp_cmd  ct_srv_src  ct_srv_dst  ct_dst_ltm  \\\n0                 0.0          0           2           4           2   \n1                 0.0          0          12           8           1   \n2                 0.0          0           6           9           1   \n3                 0.0          0           7           9           1   \n4                 0.0          0           2           4           2   \n...               ...        ...         ...         ...         ...   \n2540035           NaN                      1           1           4   \n2540037           NaN                      2           1           4   \n2540038           NaN                      1           2           3   \n2540041           NaN                      1           1           2   \n2540042           NaN                      1           1           2   \n\n         ct_src_ ltm  ct_src_dport_ltm  ct_dst_sport_ltm  ct_dst_src_ltm  \\\n0                  3                 1                 1               2   \n1                  2                 2                 1               1   \n2                  1                 1                 1               1   \n3                  1                 1                 1               1   \n4                  3                 1                 1               2   \n...              ...               ...               ...             ...   \n2540035            2                 2                 2               2   \n2540037            2                 2                 2               2   \n2540038            3                 1                 1               3   \n2540041            4                 2                 2               2   \n2540042            4                 2                 2               2   \n\n        attack_cat  label  \n0              NaN      0  \n1              NaN      0  \n2              NaN      0  \n3              NaN      0  \n4              NaN      0  \n...            ...    ...  \n2540035        NaN      0  \n2540037        NaN      0  \n2540038        NaN      0  \n2540041        NaN      0  \n2540042   Exploits      1  \n\n[2059418 rows x 49 columns]",
      "text/html": "<div>\n<style scoped>\n    .dataframe tbody tr th:only-of-type {\n        vertical-align: middle;\n    }\n\n    .dataframe tbody tr th {\n        vertical-align: top;\n    }\n\n    .dataframe thead th {\n        text-align: right;\n    }\n</style>\n<table border=\"1\" class=\"dataframe\">\n  <thead>\n    <tr style=\"text-align: right;\">\n      <th></th>\n      <th>srcip</th>\n      <th>sport</th>\n      <th>dstip</th>\n      <th>dsport</th>\n      <th>proto</th>\n      <th>state</th>\n      <th>dur</th>\n      <th>sbytes</th>\n      <th>dbytes</th>\n      <th>sttl</th>\n      <th>dttl</th>\n      <th>sloss</th>\n      <th>dloss</th>\n      <th>service</th>\n      <th>Sload</th>\n      <th>Dload</th>\n      <th>Spkts</th>\n      <th>Dpkts</th>\n      <th>swin</th>\n      <th>dwin</th>\n      <th>stcpb</th>\n      <th>dtcpb</th>\n      <th>smeansz</th>\n      <th>dmeansz</th>\n      <th>trans_depth</th>\n      <th>res_bdy_len</th>\n      <th>Sjit</th>\n      <th>Djit</th>\n      <th>Stime</th>\n      <th>Ltime</th>\n      <th>Sintpkt</th>\n      <th>Dintpkt</th>\n      <th>tcprtt</th>\n      <th>synack</th>\n      <th>ackdat</th>\n      <th>is_sm_ips_ports</th>\n      <th>ct_state_ttl</th>\n      <th>ct_flw_http_mthd</th>\n      <th>is_ftp_login</th>\n      <th>ct_ftp_cmd</th>\n      <th>ct_srv_src</th>\n      <th>ct_srv_dst</th>\n      <th>ct_dst_ltm</th>\n      <th>ct_src_ ltm</th>\n      <th>ct_src_dport_ltm</th>\n      <th>ct_dst_sport_ltm</th>\n      <th>ct_dst_src_ltm</th>\n      <th>attack_cat</th>\n      <th>label</th>\n    </tr>\n  </thead>\n  <tbody>\n    <tr>\n      <th>0</th>\n      <td>59.166.0.0</td>\n      <td>33661</td>\n      <td>149.171.126.9</td>\n      <td>1024</td>\n      <td>udp</td>\n      <td>CON</td>\n      <td>0.036133</td>\n      <td>528</td>\n      <td>304</td>\n      <td>31</td>\n      <td>29</td>\n      <td>0</td>\n      <td>0</td>\n      <td>undefined</td>\n      <td>87676.085940</td>\n      <td>5.048017e+04</td>\n      <td>4</td>\n      <td>4</td>\n      <td>0</td>\n      <td>0</td>\n      <td>0</td>\n      <td>0</td>\n      <td>132</td>\n      <td>76</td>\n      <td>0</td>\n      <td>0</td>\n      <td>9.891010</td>\n      <td>10.682733</td>\n      <td>1421927414</td>\n      <td>1421927414</td>\n      <td>7.005000</td>\n      <td>7.564333</td>\n      <td>0.000000</td>\n      <td>0.000000</td>\n      <td>0.000000</td>\n      <td>0</td>\n      <td>0</td>\n      <td>0.0</td>\n      <td>0.0</td>\n      <td>0</td>\n      <td>2</td>\n      <td>4</td>\n      <td>2</td>\n      <td>3</td>\n      <td>1</td>\n      <td>1</td>\n      <td>2</td>\n      <td>NaN</td>\n      <td>0</td>\n    </tr>\n    <tr>\n      <th>1</th>\n      <td>59.166.0.6</td>\n      <td>1464</td>\n      <td>149.171.126.7</td>\n      <td>53</td>\n      <td>udp</td>\n      <td>CON</td>\n      <td>0.001119</td>\n      <td>146</td>\n      <td>178</td>\n      <td>31</td>\n      <td>29</td>\n      <td>0</td>\n      <td>0</td>\n      <td>dns</td>\n      <td>521894.531300</td>\n      <td>6.362824e+05</td>\n      <td>2</td>\n      <td>2</td>\n      <td>0</td>\n      <td>0</td>\n      <td>0</td>\n      <td>0</td>\n      <td>73</td>\n      <td>89</td>\n      <td>0</td>\n      <td>0</td>\n      <td>0.000000</td>\n      <td>0.000000</td>\n      <td>1421927414</td>\n      <td>1421927414</td>\n      <td>0.017000</td>\n      <td>0.013000</td>\n      <td>0.000000</td>\n      <td>0.000000</td>\n      <td>0.000000</td>\n      <td>0</td>\n      <td>0</td>\n      <td>0.0</td>\n      <td>0.0</td>\n      <td>0</td>\n      <td>12</td>\n      <td>8</td>\n      <td>1</td>\n      <td>2</td>\n      <td>2</td>\n      <td>1</td>\n      <td>1</td>\n      <td>NaN</td>\n      <td>0</td>\n    </tr>\n    <tr>\n      <th>2</th>\n      <td>59.166.0.5</td>\n      <td>3593</td>\n      <td>149.171.126.5</td>\n      <td>53</td>\n      <td>udp</td>\n      <td>CON</td>\n      <td>0.001209</td>\n      <td>132</td>\n      <td>164</td>\n      <td>31</td>\n      <td>29</td>\n      <td>0</td>\n      <td>0</td>\n      <td>dns</td>\n      <td>436724.562500</td>\n      <td>5.425972e+05</td>\n      <td>2</td>\n      <td>2</td>\n      <td>0</td>\n      <td>0</td>\n      <td>0</td>\n      <td>0</td>\n      <td>66</td>\n      <td>82</td>\n      <td>0</td>\n      <td>0</td>\n      <td>0.000000</td>\n      <td>0.000000</td>\n      <td>1421927414</td>\n      <td>1421927414</td>\n      <td>0.043000</td>\n      <td>0.014000</td>\n      <td>0.000000</td>\n      <td>0.000000</td>\n      <td>0.000000</td>\n      <td>0</td>\n      <td>0</td>\n      <td>0.0</td>\n      <td>0.0</td>\n      <td>0</td>\n      <td>6</td>\n      <td>9</td>\n      <td>1</td>\n      <td>1</td>\n      <td>1</td>\n      <td>1</td>\n      <td>1</td>\n      <td>NaN</td>\n      <td>0</td>\n    </tr>\n    <tr>\n      <th>3</th>\n      <td>59.166.0.3</td>\n      <td>49664</td>\n      <td>149.171.126.0</td>\n      <td>53</td>\n      <td>udp</td>\n      <td>CON</td>\n      <td>0.001169</td>\n      <td>146</td>\n      <td>178</td>\n      <td>31</td>\n      <td>29</td>\n      <td>0</td>\n      <td>0</td>\n      <td>dns</td>\n      <td>499572.250000</td>\n      <td>6.090676e+05</td>\n      <td>2</td>\n      <td>2</td>\n      <td>0</td>\n      <td>0</td>\n      <td>0</td>\n      <td>0</td>\n      <td>73</td>\n      <td>89</td>\n      <td>0</td>\n      <td>0</td>\n      <td>0.000000</td>\n      <td>0.000000</td>\n      <td>1421927414</td>\n      <td>1421927414</td>\n      <td>0.005000</td>\n      <td>0.003000</td>\n      <td>0.000000</td>\n      <td>0.000000</td>\n      <td>0.000000</td>\n      <td>0</td>\n      <td>0</td>\n      <td>0.0</td>\n      <td>0.0</td>\n      <td>0</td>\n      <td>7</td>\n      <td>9</td>\n      <td>1</td>\n      <td>1</td>\n      <td>1</td>\n      <td>1</td>\n      <td>1</td>\n      <td>NaN</td>\n      <td>0</td>\n    </tr>\n    <tr>\n      <th>4</th>\n      <td>59.166.0.0</td>\n      <td>32119</td>\n      <td>149.171.126.9</td>\n      <td>111</td>\n      <td>udp</td>\n      <td>CON</td>\n      <td>0.078339</td>\n      <td>568</td>\n      <td>312</td>\n      <td>31</td>\n      <td>29</td>\n      <td>0</td>\n      <td>0</td>\n      <td>undefined</td>\n      <td>43503.234380</td>\n      <td>2.389614e+04</td>\n      <td>4</td>\n      <td>4</td>\n      <td>0</td>\n      <td>0</td>\n      <td>0</td>\n      <td>0</td>\n      <td>142</td>\n      <td>78</td>\n      <td>0</td>\n      <td>0</td>\n      <td>29.682221</td>\n      <td>34.370340</td>\n      <td>1421927414</td>\n      <td>1421927414</td>\n      <td>21.003000</td>\n      <td>24.315000</td>\n      <td>0.000000</td>\n      <td>0.000000</td>\n      <td>0.000000</td>\n      <td>0</td>\n      <td>0</td>\n      <td>0.0</td>\n      <td>0.0</td>\n      <td>0</td>\n      <td>2</td>\n      <td>4</td>\n      <td>2</td>\n      <td>3</td>\n      <td>1</td>\n      <td>1</td>\n      <td>2</td>\n      <td>NaN</td>\n      <td>0</td>\n    </tr>\n    <tr>\n      <th>...</th>\n      <td>...</td>\n      <td>...</td>\n      <td>...</td>\n      <td>...</td>\n      <td>...</td>\n      <td>...</td>\n      <td>...</td>\n      <td>...</td>\n      <td>...</td>\n      <td>...</td>\n      <td>...</td>\n      <td>...</td>\n      <td>...</td>\n      <td>...</td>\n      <td>...</td>\n      <td>...</td>\n      <td>...</td>\n      <td>...</td>\n      <td>...</td>\n      <td>...</td>\n      <td>...</td>\n      <td>...</td>\n      <td>...</td>\n      <td>...</td>\n      <td>...</td>\n      <td>...</td>\n      <td>...</td>\n      <td>...</td>\n      <td>...</td>\n      <td>...</td>\n      <td>...</td>\n      <td>...</td>\n      <td>...</td>\n      <td>...</td>\n      <td>...</td>\n      <td>...</td>\n      <td>...</td>\n      <td>...</td>\n      <td>...</td>\n      <td>...</td>\n      <td>...</td>\n      <td>...</td>\n      <td>...</td>\n      <td>...</td>\n      <td>...</td>\n      <td>...</td>\n      <td>...</td>\n      <td>...</td>\n      <td>...</td>\n    </tr>\n    <tr>\n      <th>2540035</th>\n      <td>59.166.0.1</td>\n      <td>38606</td>\n      <td>149.171.126.9</td>\n      <td>80</td>\n      <td>tcp</td>\n      <td>CON</td>\n      <td>0.564998</td>\n      <td>14106</td>\n      <td>772406</td>\n      <td>31</td>\n      <td>29</td>\n      <td>2</td>\n      <td>262</td>\n      <td>http</td>\n      <td>198981.250000</td>\n      <td>1.091598e+07</td>\n      <td>262</td>\n      <td>526</td>\n      <td>255</td>\n      <td>255</td>\n      <td>162243658</td>\n      <td>163257853</td>\n      <td>54</td>\n      <td>1468</td>\n      <td>1</td>\n      <td>372266</td>\n      <td>116.321921</td>\n      <td>69.874077</td>\n      <td>1424262068</td>\n      <td>1424262069</td>\n      <td>2.123130</td>\n      <td>1.075171</td>\n      <td>0.000669</td>\n      <td>0.000530</td>\n      <td>0.000139</td>\n      <td>0</td>\n      <td>0</td>\n      <td>2.0</td>\n      <td>NaN</td>\n      <td></td>\n      <td>1</td>\n      <td>1</td>\n      <td>4</td>\n      <td>2</td>\n      <td>2</td>\n      <td>2</td>\n      <td>2</td>\n      <td>NaN</td>\n      <td>0</td>\n    </tr>\n    <tr>\n      <th>2540037</th>\n      <td>59.166.0.1</td>\n      <td>38606</td>\n      <td>149.171.126.9</td>\n      <td>80</td>\n      <td>tcp</td>\n      <td>CON</td>\n      <td>0.564998</td>\n      <td>14106</td>\n      <td>772406</td>\n      <td>31</td>\n      <td>29</td>\n      <td>2</td>\n      <td>262</td>\n      <td>undefined</td>\n      <td>198981.250000</td>\n      <td>1.091598e+07</td>\n      <td>262</td>\n      <td>526</td>\n      <td>255</td>\n      <td>255</td>\n      <td>162243658</td>\n      <td>163257853</td>\n      <td>54</td>\n      <td>1468</td>\n      <td>1</td>\n      <td>372266</td>\n      <td>116.321921</td>\n      <td>69.874077</td>\n      <td>1424262068</td>\n      <td>1424262069</td>\n      <td>2.123130</td>\n      <td>1.075171</td>\n      <td>0.000669</td>\n      <td>0.000530</td>\n      <td>0.000139</td>\n      <td>0</td>\n      <td>0</td>\n      <td>2.0</td>\n      <td>NaN</td>\n      <td></td>\n      <td>2</td>\n      <td>1</td>\n      <td>4</td>\n      <td>2</td>\n      <td>2</td>\n      <td>2</td>\n      <td>2</td>\n      <td>NaN</td>\n      <td>0</td>\n    </tr>\n    <tr>\n      <th>2540038</th>\n      <td>59.166.0.5</td>\n      <td>33094</td>\n      <td>149.171.126.7</td>\n      <td>43433</td>\n      <td>tcp</td>\n      <td>FIN</td>\n      <td>0.087306</td>\n      <td>320</td>\n      <td>1828</td>\n      <td>31</td>\n      <td>29</td>\n      <td>1</td>\n      <td>2</td>\n      <td>ftp-data</td>\n      <td>24465.671880</td>\n      <td>1.466108e+05</td>\n      <td>6</td>\n      <td>8</td>\n      <td>255</td>\n      <td>255</td>\n      <td>4035116044</td>\n      <td>222196311</td>\n      <td>53</td>\n      <td>229</td>\n      <td>0</td>\n      <td>0</td>\n      <td>1221.136547</td>\n      <td>30.096029</td>\n      <td>1424262068</td>\n      <td>1424262069</td>\n      <td>17.394400</td>\n      <td>12.405143</td>\n      <td>0.000608</td>\n      <td>0.000468</td>\n      <td>0.000140</td>\n      <td>0</td>\n      <td>0</td>\n      <td>NaN</td>\n      <td>NaN</td>\n      <td></td>\n      <td>1</td>\n      <td>2</td>\n      <td>3</td>\n      <td>3</td>\n      <td>1</td>\n      <td>1</td>\n      <td>3</td>\n      <td>NaN</td>\n      <td>0</td>\n    </tr>\n    <tr>\n      <th>2540041</th>\n      <td>59.166.0.9</td>\n      <td>35433</td>\n      <td>149.171.126.0</td>\n      <td>80</td>\n      <td>tcp</td>\n      <td>CON</td>\n      <td>2.200934</td>\n      <td>3498</td>\n      <td>166054</td>\n      <td>31</td>\n      <td>29</td>\n      <td>2</td>\n      <td>57</td>\n      <td>http</td>\n      <td>12496.513670</td>\n      <td>5.983751e+05</td>\n      <td>58</td>\n      <td>116</td>\n      <td>255</td>\n      <td>255</td>\n      <td>1289728069</td>\n      <td>3436097151</td>\n      <td>60</td>\n      <td>1432</td>\n      <td>1</td>\n      <td>79745</td>\n      <td>2868.893137</td>\n      <td>1951.035944</td>\n      <td>1424262067</td>\n      <td>1424262069</td>\n      <td>38.609700</td>\n      <td>19.133826</td>\n      <td>0.000680</td>\n      <td>0.000541</td>\n      <td>0.000139</td>\n      <td>0</td>\n      <td>0</td>\n      <td>2.0</td>\n      <td>NaN</td>\n      <td></td>\n      <td>1</td>\n      <td>1</td>\n      <td>2</td>\n      <td>4</td>\n      <td>2</td>\n      <td>2</td>\n      <td>2</td>\n      <td>NaN</td>\n      <td>0</td>\n    </tr>\n    <tr>\n      <th>2540042</th>\n      <td>175.45.176.0</td>\n      <td>17293</td>\n      <td>149.171.126.17</td>\n      <td>110</td>\n      <td>tcp</td>\n      <td>CON</td>\n      <td>0.942984</td>\n      <td>574</td>\n      <td>676</td>\n      <td>62</td>\n      <td>252</td>\n      <td>5</td>\n      <td>6</td>\n      <td>pop3</td>\n      <td>4470.913574</td>\n      <td>5.259898e+03</td>\n      <td>12</td>\n      <td>12</td>\n      <td>255</td>\n      <td>255</td>\n      <td>3026824982</td>\n      <td>3748412468</td>\n      <td>48</td>\n      <td>56</td>\n      <td>0</td>\n      <td>0</td>\n      <td>3903.523582</td>\n      <td>95.650531</td>\n      <td>1424262068</td>\n      <td>1424262069</td>\n      <td>79.714089</td>\n      <td>80.827180</td>\n      <td>0.139446</td>\n      <td>0.053884</td>\n      <td>0.085562</td>\n      <td>0</td>\n      <td>3</td>\n      <td>NaN</td>\n      <td>NaN</td>\n      <td></td>\n      <td>1</td>\n      <td>1</td>\n      <td>2</td>\n      <td>4</td>\n      <td>2</td>\n      <td>2</td>\n      <td>2</td>\n      <td>Exploits</td>\n      <td>1</td>\n    </tr>\n  </tbody>\n</table>\n<p>2059418 rows × 49 columns</p>\n</div>"
     },
     "execution_count": 5,
     "metadata": {},
     "output_type": "execute_result"
    }
   ],
   "source": [
    "# replace \"-\" with \"undefined\"\n",
    "ds_full_new['service'].replace('-', 'undefined', inplace=True)\n",
    "ds_full_new"
   ],
   "metadata": {
    "collapsed": false,
    "pycharm": {
     "name": "#%%\n"
    }
   }
  },
  {
   "cell_type": "code",
   "execution_count": 6,
   "outputs": [],
   "source": [
    "#change NaN to Normal\n",
    "import math\n",
    "ds_full_new['attack_cat'].replace(math.nan,'Normal',inplace=True)"
   ],
   "metadata": {
    "collapsed": false,
    "pycharm": {
     "name": "#%%\n"
    }
   }
  },
  {
   "cell_type": "code",
   "execution_count": 7,
   "outputs": [
    {
     "data": {
      "text/plain": "         sport dsport proto state       dur  sbytes  dbytes  sttl  dttl  \\\n0        33661   1024   udp   CON  0.036133     528     304    31    29   \n1         1464     53   udp   CON  0.001119     146     178    31    29   \n2         3593     53   udp   CON  0.001209     132     164    31    29   \n3        49664     53   udp   CON  0.001169     146     178    31    29   \n4        32119    111   udp   CON  0.078339     568     312    31    29   \n...        ...    ...   ...   ...       ...     ...     ...   ...   ...   \n2540035  38606     80   tcp   CON  0.564998   14106  772406    31    29   \n2540037  38606     80   tcp   CON  0.564998   14106  772406    31    29   \n2540038  33094  43433   tcp   FIN  0.087306     320    1828    31    29   \n2540041  35433     80   tcp   CON  2.200934    3498  166054    31    29   \n2540042  17293    110   tcp   CON  0.942984     574     676    62   252   \n\n         sloss  dloss    service          Sload         Dload  Spkts  Dpkts  \\\n0            0      0  undefined   87676.085940  5.048017e+04      4      4   \n1            0      0        dns  521894.531300  6.362824e+05      2      2   \n2            0      0        dns  436724.562500  5.425972e+05      2      2   \n3            0      0        dns  499572.250000  6.090676e+05      2      2   \n4            0      0  undefined   43503.234380  2.389614e+04      4      4   \n...        ...    ...        ...            ...           ...    ...    ...   \n2540035      2    262       http  198981.250000  1.091598e+07    262    526   \n2540037      2    262  undefined  198981.250000  1.091598e+07    262    526   \n2540038      1      2   ftp-data   24465.671880  1.466108e+05      6      8   \n2540041      2     57       http   12496.513670  5.983751e+05     58    116   \n2540042      5      6       pop3    4470.913574  5.259898e+03     12     12   \n\n         swin  dwin       stcpb       dtcpb  smeansz  dmeansz  trans_depth  \\\n0           0     0           0           0      132       76            0   \n1           0     0           0           0       73       89            0   \n2           0     0           0           0       66       82            0   \n3           0     0           0           0       73       89            0   \n4           0     0           0           0      142       78            0   \n...       ...   ...         ...         ...      ...      ...          ...   \n2540035   255   255   162243658   163257853       54     1468            1   \n2540037   255   255   162243658   163257853       54     1468            1   \n2540038   255   255  4035116044   222196311       53      229            0   \n2540041   255   255  1289728069  3436097151       60     1432            1   \n2540042   255   255  3026824982  3748412468       48       56            0   \n\n         res_bdy_len         Sjit         Djit       Stime       Ltime  \\\n0                  0     9.891010    10.682733  1421927414  1421927414   \n1                  0     0.000000     0.000000  1421927414  1421927414   \n2                  0     0.000000     0.000000  1421927414  1421927414   \n3                  0     0.000000     0.000000  1421927414  1421927414   \n4                  0    29.682221    34.370340  1421927414  1421927414   \n...              ...          ...          ...         ...         ...   \n2540035       372266   116.321921    69.874077  1424262068  1424262069   \n2540037       372266   116.321921    69.874077  1424262068  1424262069   \n2540038            0  1221.136547    30.096029  1424262068  1424262069   \n2540041        79745  2868.893137  1951.035944  1424262067  1424262069   \n2540042            0  3903.523582    95.650531  1424262068  1424262069   \n\n           Sintpkt    Dintpkt    tcprtt    synack    ackdat  is_sm_ips_ports  \\\n0         7.005000   7.564333  0.000000  0.000000  0.000000                0   \n1         0.017000   0.013000  0.000000  0.000000  0.000000                0   \n2         0.043000   0.014000  0.000000  0.000000  0.000000                0   \n3         0.005000   0.003000  0.000000  0.000000  0.000000                0   \n4        21.003000  24.315000  0.000000  0.000000  0.000000                0   \n...            ...        ...       ...       ...       ...              ...   \n2540035   2.123130   1.075171  0.000669  0.000530  0.000139                0   \n2540037   2.123130   1.075171  0.000669  0.000530  0.000139                0   \n2540038  17.394400  12.405143  0.000608  0.000468  0.000140                0   \n2540041  38.609700  19.133826  0.000680  0.000541  0.000139                0   \n2540042  79.714089  80.827180  0.139446  0.053884  0.085562                0   \n\n         ct_state_ttl  ct_flw_http_mthd  is_ftp_login ct_ftp_cmd  ct_srv_src  \\\n0                   0               0.0           0.0          0           2   \n1                   0               0.0           0.0          0          12   \n2                   0               0.0           0.0          0           6   \n3                   0               0.0           0.0          0           7   \n4                   0               0.0           0.0          0           2   \n...               ...               ...           ...        ...         ...   \n2540035             0               2.0           NaN                      1   \n2540037             0               2.0           NaN                      2   \n2540038             0               NaN           NaN                      1   \n2540041             0               2.0           NaN                      1   \n2540042             3               NaN           NaN                      1   \n\n         ct_srv_dst  ct_dst_ltm  ct_src_ ltm  ct_src_dport_ltm  \\\n0                 4           2            3                 1   \n1                 8           1            2                 2   \n2                 9           1            1                 1   \n3                 9           1            1                 1   \n4                 4           2            3                 1   \n...             ...         ...          ...               ...   \n2540035           1           4            2                 2   \n2540037           1           4            2                 2   \n2540038           2           3            3                 1   \n2540041           1           2            4                 2   \n2540042           1           2            4                 2   \n\n         ct_dst_sport_ltm  ct_dst_src_ltm attack_cat  label  \n0                       1               2     Normal      0  \n1                       1               1     Normal      0  \n2                       1               1     Normal      0  \n3                       1               1     Normal      0  \n4                       1               2     Normal      0  \n...                   ...             ...        ...    ...  \n2540035                 2               2     Normal      0  \n2540037                 2               2     Normal      0  \n2540038                 1               3     Normal      0  \n2540041                 2               2     Normal      0  \n2540042                 2               2   Exploits      1  \n\n[2059418 rows x 47 columns]",
      "text/html": "<div>\n<style scoped>\n    .dataframe tbody tr th:only-of-type {\n        vertical-align: middle;\n    }\n\n    .dataframe tbody tr th {\n        vertical-align: top;\n    }\n\n    .dataframe thead th {\n        text-align: right;\n    }\n</style>\n<table border=\"1\" class=\"dataframe\">\n  <thead>\n    <tr style=\"text-align: right;\">\n      <th></th>\n      <th>sport</th>\n      <th>dsport</th>\n      <th>proto</th>\n      <th>state</th>\n      <th>dur</th>\n      <th>sbytes</th>\n      <th>dbytes</th>\n      <th>sttl</th>\n      <th>dttl</th>\n      <th>sloss</th>\n      <th>dloss</th>\n      <th>service</th>\n      <th>Sload</th>\n      <th>Dload</th>\n      <th>Spkts</th>\n      <th>Dpkts</th>\n      <th>swin</th>\n      <th>dwin</th>\n      <th>stcpb</th>\n      <th>dtcpb</th>\n      <th>smeansz</th>\n      <th>dmeansz</th>\n      <th>trans_depth</th>\n      <th>res_bdy_len</th>\n      <th>Sjit</th>\n      <th>Djit</th>\n      <th>Stime</th>\n      <th>Ltime</th>\n      <th>Sintpkt</th>\n      <th>Dintpkt</th>\n      <th>tcprtt</th>\n      <th>synack</th>\n      <th>ackdat</th>\n      <th>is_sm_ips_ports</th>\n      <th>ct_state_ttl</th>\n      <th>ct_flw_http_mthd</th>\n      <th>is_ftp_login</th>\n      <th>ct_ftp_cmd</th>\n      <th>ct_srv_src</th>\n      <th>ct_srv_dst</th>\n      <th>ct_dst_ltm</th>\n      <th>ct_src_ ltm</th>\n      <th>ct_src_dport_ltm</th>\n      <th>ct_dst_sport_ltm</th>\n      <th>ct_dst_src_ltm</th>\n      <th>attack_cat</th>\n      <th>label</th>\n    </tr>\n  </thead>\n  <tbody>\n    <tr>\n      <th>0</th>\n      <td>33661</td>\n      <td>1024</td>\n      <td>udp</td>\n      <td>CON</td>\n      <td>0.036133</td>\n      <td>528</td>\n      <td>304</td>\n      <td>31</td>\n      <td>29</td>\n      <td>0</td>\n      <td>0</td>\n      <td>undefined</td>\n      <td>87676.085940</td>\n      <td>5.048017e+04</td>\n      <td>4</td>\n      <td>4</td>\n      <td>0</td>\n      <td>0</td>\n      <td>0</td>\n      <td>0</td>\n      <td>132</td>\n      <td>76</td>\n      <td>0</td>\n      <td>0</td>\n      <td>9.891010</td>\n      <td>10.682733</td>\n      <td>1421927414</td>\n      <td>1421927414</td>\n      <td>7.005000</td>\n      <td>7.564333</td>\n      <td>0.000000</td>\n      <td>0.000000</td>\n      <td>0.000000</td>\n      <td>0</td>\n      <td>0</td>\n      <td>0.0</td>\n      <td>0.0</td>\n      <td>0</td>\n      <td>2</td>\n      <td>4</td>\n      <td>2</td>\n      <td>3</td>\n      <td>1</td>\n      <td>1</td>\n      <td>2</td>\n      <td>Normal</td>\n      <td>0</td>\n    </tr>\n    <tr>\n      <th>1</th>\n      <td>1464</td>\n      <td>53</td>\n      <td>udp</td>\n      <td>CON</td>\n      <td>0.001119</td>\n      <td>146</td>\n      <td>178</td>\n      <td>31</td>\n      <td>29</td>\n      <td>0</td>\n      <td>0</td>\n      <td>dns</td>\n      <td>521894.531300</td>\n      <td>6.362824e+05</td>\n      <td>2</td>\n      <td>2</td>\n      <td>0</td>\n      <td>0</td>\n      <td>0</td>\n      <td>0</td>\n      <td>73</td>\n      <td>89</td>\n      <td>0</td>\n      <td>0</td>\n      <td>0.000000</td>\n      <td>0.000000</td>\n      <td>1421927414</td>\n      <td>1421927414</td>\n      <td>0.017000</td>\n      <td>0.013000</td>\n      <td>0.000000</td>\n      <td>0.000000</td>\n      <td>0.000000</td>\n      <td>0</td>\n      <td>0</td>\n      <td>0.0</td>\n      <td>0.0</td>\n      <td>0</td>\n      <td>12</td>\n      <td>8</td>\n      <td>1</td>\n      <td>2</td>\n      <td>2</td>\n      <td>1</td>\n      <td>1</td>\n      <td>Normal</td>\n      <td>0</td>\n    </tr>\n    <tr>\n      <th>2</th>\n      <td>3593</td>\n      <td>53</td>\n      <td>udp</td>\n      <td>CON</td>\n      <td>0.001209</td>\n      <td>132</td>\n      <td>164</td>\n      <td>31</td>\n      <td>29</td>\n      <td>0</td>\n      <td>0</td>\n      <td>dns</td>\n      <td>436724.562500</td>\n      <td>5.425972e+05</td>\n      <td>2</td>\n      <td>2</td>\n      <td>0</td>\n      <td>0</td>\n      <td>0</td>\n      <td>0</td>\n      <td>66</td>\n      <td>82</td>\n      <td>0</td>\n      <td>0</td>\n      <td>0.000000</td>\n      <td>0.000000</td>\n      <td>1421927414</td>\n      <td>1421927414</td>\n      <td>0.043000</td>\n      <td>0.014000</td>\n      <td>0.000000</td>\n      <td>0.000000</td>\n      <td>0.000000</td>\n      <td>0</td>\n      <td>0</td>\n      <td>0.0</td>\n      <td>0.0</td>\n      <td>0</td>\n      <td>6</td>\n      <td>9</td>\n      <td>1</td>\n      <td>1</td>\n      <td>1</td>\n      <td>1</td>\n      <td>1</td>\n      <td>Normal</td>\n      <td>0</td>\n    </tr>\n    <tr>\n      <th>3</th>\n      <td>49664</td>\n      <td>53</td>\n      <td>udp</td>\n      <td>CON</td>\n      <td>0.001169</td>\n      <td>146</td>\n      <td>178</td>\n      <td>31</td>\n      <td>29</td>\n      <td>0</td>\n      <td>0</td>\n      <td>dns</td>\n      <td>499572.250000</td>\n      <td>6.090676e+05</td>\n      <td>2</td>\n      <td>2</td>\n      <td>0</td>\n      <td>0</td>\n      <td>0</td>\n      <td>0</td>\n      <td>73</td>\n      <td>89</td>\n      <td>0</td>\n      <td>0</td>\n      <td>0.000000</td>\n      <td>0.000000</td>\n      <td>1421927414</td>\n      <td>1421927414</td>\n      <td>0.005000</td>\n      <td>0.003000</td>\n      <td>0.000000</td>\n      <td>0.000000</td>\n      <td>0.000000</td>\n      <td>0</td>\n      <td>0</td>\n      <td>0.0</td>\n      <td>0.0</td>\n      <td>0</td>\n      <td>7</td>\n      <td>9</td>\n      <td>1</td>\n      <td>1</td>\n      <td>1</td>\n      <td>1</td>\n      <td>1</td>\n      <td>Normal</td>\n      <td>0</td>\n    </tr>\n    <tr>\n      <th>4</th>\n      <td>32119</td>\n      <td>111</td>\n      <td>udp</td>\n      <td>CON</td>\n      <td>0.078339</td>\n      <td>568</td>\n      <td>312</td>\n      <td>31</td>\n      <td>29</td>\n      <td>0</td>\n      <td>0</td>\n      <td>undefined</td>\n      <td>43503.234380</td>\n      <td>2.389614e+04</td>\n      <td>4</td>\n      <td>4</td>\n      <td>0</td>\n      <td>0</td>\n      <td>0</td>\n      <td>0</td>\n      <td>142</td>\n      <td>78</td>\n      <td>0</td>\n      <td>0</td>\n      <td>29.682221</td>\n      <td>34.370340</td>\n      <td>1421927414</td>\n      <td>1421927414</td>\n      <td>21.003000</td>\n      <td>24.315000</td>\n      <td>0.000000</td>\n      <td>0.000000</td>\n      <td>0.000000</td>\n      <td>0</td>\n      <td>0</td>\n      <td>0.0</td>\n      <td>0.0</td>\n      <td>0</td>\n      <td>2</td>\n      <td>4</td>\n      <td>2</td>\n      <td>3</td>\n      <td>1</td>\n      <td>1</td>\n      <td>2</td>\n      <td>Normal</td>\n      <td>0</td>\n    </tr>\n    <tr>\n      <th>...</th>\n      <td>...</td>\n      <td>...</td>\n      <td>...</td>\n      <td>...</td>\n      <td>...</td>\n      <td>...</td>\n      <td>...</td>\n      <td>...</td>\n      <td>...</td>\n      <td>...</td>\n      <td>...</td>\n      <td>...</td>\n      <td>...</td>\n      <td>...</td>\n      <td>...</td>\n      <td>...</td>\n      <td>...</td>\n      <td>...</td>\n      <td>...</td>\n      <td>...</td>\n      <td>...</td>\n      <td>...</td>\n      <td>...</td>\n      <td>...</td>\n      <td>...</td>\n      <td>...</td>\n      <td>...</td>\n      <td>...</td>\n      <td>...</td>\n      <td>...</td>\n      <td>...</td>\n      <td>...</td>\n      <td>...</td>\n      <td>...</td>\n      <td>...</td>\n      <td>...</td>\n      <td>...</td>\n      <td>...</td>\n      <td>...</td>\n      <td>...</td>\n      <td>...</td>\n      <td>...</td>\n      <td>...</td>\n      <td>...</td>\n      <td>...</td>\n      <td>...</td>\n      <td>...</td>\n    </tr>\n    <tr>\n      <th>2540035</th>\n      <td>38606</td>\n      <td>80</td>\n      <td>tcp</td>\n      <td>CON</td>\n      <td>0.564998</td>\n      <td>14106</td>\n      <td>772406</td>\n      <td>31</td>\n      <td>29</td>\n      <td>2</td>\n      <td>262</td>\n      <td>http</td>\n      <td>198981.250000</td>\n      <td>1.091598e+07</td>\n      <td>262</td>\n      <td>526</td>\n      <td>255</td>\n      <td>255</td>\n      <td>162243658</td>\n      <td>163257853</td>\n      <td>54</td>\n      <td>1468</td>\n      <td>1</td>\n      <td>372266</td>\n      <td>116.321921</td>\n      <td>69.874077</td>\n      <td>1424262068</td>\n      <td>1424262069</td>\n      <td>2.123130</td>\n      <td>1.075171</td>\n      <td>0.000669</td>\n      <td>0.000530</td>\n      <td>0.000139</td>\n      <td>0</td>\n      <td>0</td>\n      <td>2.0</td>\n      <td>NaN</td>\n      <td></td>\n      <td>1</td>\n      <td>1</td>\n      <td>4</td>\n      <td>2</td>\n      <td>2</td>\n      <td>2</td>\n      <td>2</td>\n      <td>Normal</td>\n      <td>0</td>\n    </tr>\n    <tr>\n      <th>2540037</th>\n      <td>38606</td>\n      <td>80</td>\n      <td>tcp</td>\n      <td>CON</td>\n      <td>0.564998</td>\n      <td>14106</td>\n      <td>772406</td>\n      <td>31</td>\n      <td>29</td>\n      <td>2</td>\n      <td>262</td>\n      <td>undefined</td>\n      <td>198981.250000</td>\n      <td>1.091598e+07</td>\n      <td>262</td>\n      <td>526</td>\n      <td>255</td>\n      <td>255</td>\n      <td>162243658</td>\n      <td>163257853</td>\n      <td>54</td>\n      <td>1468</td>\n      <td>1</td>\n      <td>372266</td>\n      <td>116.321921</td>\n      <td>69.874077</td>\n      <td>1424262068</td>\n      <td>1424262069</td>\n      <td>2.123130</td>\n      <td>1.075171</td>\n      <td>0.000669</td>\n      <td>0.000530</td>\n      <td>0.000139</td>\n      <td>0</td>\n      <td>0</td>\n      <td>2.0</td>\n      <td>NaN</td>\n      <td></td>\n      <td>2</td>\n      <td>1</td>\n      <td>4</td>\n      <td>2</td>\n      <td>2</td>\n      <td>2</td>\n      <td>2</td>\n      <td>Normal</td>\n      <td>0</td>\n    </tr>\n    <tr>\n      <th>2540038</th>\n      <td>33094</td>\n      <td>43433</td>\n      <td>tcp</td>\n      <td>FIN</td>\n      <td>0.087306</td>\n      <td>320</td>\n      <td>1828</td>\n      <td>31</td>\n      <td>29</td>\n      <td>1</td>\n      <td>2</td>\n      <td>ftp-data</td>\n      <td>24465.671880</td>\n      <td>1.466108e+05</td>\n      <td>6</td>\n      <td>8</td>\n      <td>255</td>\n      <td>255</td>\n      <td>4035116044</td>\n      <td>222196311</td>\n      <td>53</td>\n      <td>229</td>\n      <td>0</td>\n      <td>0</td>\n      <td>1221.136547</td>\n      <td>30.096029</td>\n      <td>1424262068</td>\n      <td>1424262069</td>\n      <td>17.394400</td>\n      <td>12.405143</td>\n      <td>0.000608</td>\n      <td>0.000468</td>\n      <td>0.000140</td>\n      <td>0</td>\n      <td>0</td>\n      <td>NaN</td>\n      <td>NaN</td>\n      <td></td>\n      <td>1</td>\n      <td>2</td>\n      <td>3</td>\n      <td>3</td>\n      <td>1</td>\n      <td>1</td>\n      <td>3</td>\n      <td>Normal</td>\n      <td>0</td>\n    </tr>\n    <tr>\n      <th>2540041</th>\n      <td>35433</td>\n      <td>80</td>\n      <td>tcp</td>\n      <td>CON</td>\n      <td>2.200934</td>\n      <td>3498</td>\n      <td>166054</td>\n      <td>31</td>\n      <td>29</td>\n      <td>2</td>\n      <td>57</td>\n      <td>http</td>\n      <td>12496.513670</td>\n      <td>5.983751e+05</td>\n      <td>58</td>\n      <td>116</td>\n      <td>255</td>\n      <td>255</td>\n      <td>1289728069</td>\n      <td>3436097151</td>\n      <td>60</td>\n      <td>1432</td>\n      <td>1</td>\n      <td>79745</td>\n      <td>2868.893137</td>\n      <td>1951.035944</td>\n      <td>1424262067</td>\n      <td>1424262069</td>\n      <td>38.609700</td>\n      <td>19.133826</td>\n      <td>0.000680</td>\n      <td>0.000541</td>\n      <td>0.000139</td>\n      <td>0</td>\n      <td>0</td>\n      <td>2.0</td>\n      <td>NaN</td>\n      <td></td>\n      <td>1</td>\n      <td>1</td>\n      <td>2</td>\n      <td>4</td>\n      <td>2</td>\n      <td>2</td>\n      <td>2</td>\n      <td>Normal</td>\n      <td>0</td>\n    </tr>\n    <tr>\n      <th>2540042</th>\n      <td>17293</td>\n      <td>110</td>\n      <td>tcp</td>\n      <td>CON</td>\n      <td>0.942984</td>\n      <td>574</td>\n      <td>676</td>\n      <td>62</td>\n      <td>252</td>\n      <td>5</td>\n      <td>6</td>\n      <td>pop3</td>\n      <td>4470.913574</td>\n      <td>5.259898e+03</td>\n      <td>12</td>\n      <td>12</td>\n      <td>255</td>\n      <td>255</td>\n      <td>3026824982</td>\n      <td>3748412468</td>\n      <td>48</td>\n      <td>56</td>\n      <td>0</td>\n      <td>0</td>\n      <td>3903.523582</td>\n      <td>95.650531</td>\n      <td>1424262068</td>\n      <td>1424262069</td>\n      <td>79.714089</td>\n      <td>80.827180</td>\n      <td>0.139446</td>\n      <td>0.053884</td>\n      <td>0.085562</td>\n      <td>0</td>\n      <td>3</td>\n      <td>NaN</td>\n      <td>NaN</td>\n      <td></td>\n      <td>1</td>\n      <td>1</td>\n      <td>2</td>\n      <td>4</td>\n      <td>2</td>\n      <td>2</td>\n      <td>2</td>\n      <td>Exploits</td>\n      <td>1</td>\n    </tr>\n  </tbody>\n</table>\n<p>2059418 rows × 47 columns</p>\n</div>"
     },
     "execution_count": 7,
     "metadata": {},
     "output_type": "execute_result"
    }
   ],
   "source": [
    "#Ignore source IP, destination IP and attack category (for binary) features when training and testing the model.\n",
    "# drop source IP and destination IP\n",
    "ds_full_new.drop(columns=['srcip','dstip'],inplace=True)\n",
    "ds_full_new"
   ],
   "metadata": {
    "collapsed": false,
    "pycharm": {
     "name": "#%%\n"
    }
   }
  },
  {
   "cell_type": "code",
   "execution_count": 8,
   "outputs": [
    {
     "data": {
      "text/plain": "         sport dsport proto state       dur  sbytes  dbytes  sttl  dttl  \\\n0        33661   1024   udp   CON  0.036133     528     304    31    29   \n1         1464     53   udp   CON  0.001119     146     178    31    29   \n2         3593     53   udp   CON  0.001209     132     164    31    29   \n3        49664     53   udp   CON  0.001169     146     178    31    29   \n4        32119    111   udp   CON  0.078339     568     312    31    29   \n...        ...    ...   ...   ...       ...     ...     ...   ...   ...   \n2540035  38606     80   tcp   CON  0.564998   14106  772406    31    29   \n2540037  38606     80   tcp   CON  0.564998   14106  772406    31    29   \n2540038  33094  43433   tcp   FIN  0.087306     320    1828    31    29   \n2540041  35433     80   tcp   CON  2.200934    3498  166054    31    29   \n2540042  17293    110   tcp   CON  0.942984     574     676    62   252   \n\n         sloss  dloss    service          Sload         Dload  Spkts  Dpkts  \\\n0            0      0  undefined   87676.085940  5.048017e+04      4      4   \n1            0      0        dns  521894.531300  6.362824e+05      2      2   \n2            0      0        dns  436724.562500  5.425972e+05      2      2   \n3            0      0        dns  499572.250000  6.090676e+05      2      2   \n4            0      0  undefined   43503.234380  2.389614e+04      4      4   \n...        ...    ...        ...            ...           ...    ...    ...   \n2540035      2    262       http  198981.250000  1.091598e+07    262    526   \n2540037      2    262  undefined  198981.250000  1.091598e+07    262    526   \n2540038      1      2   ftp-data   24465.671880  1.466108e+05      6      8   \n2540041      2     57       http   12496.513670  5.983751e+05     58    116   \n2540042      5      6       pop3    4470.913574  5.259898e+03     12     12   \n\n         swin  dwin       stcpb       dtcpb  smeansz  dmeansz  trans_depth  \\\n0           0     0           0           0      132       76            0   \n1           0     0           0           0       73       89            0   \n2           0     0           0           0       66       82            0   \n3           0     0           0           0       73       89            0   \n4           0     0           0           0      142       78            0   \n...       ...   ...         ...         ...      ...      ...          ...   \n2540035   255   255   162243658   163257853       54     1468            1   \n2540037   255   255   162243658   163257853       54     1468            1   \n2540038   255   255  4035116044   222196311       53      229            0   \n2540041   255   255  1289728069  3436097151       60     1432            1   \n2540042   255   255  3026824982  3748412468       48       56            0   \n\n         res_bdy_len         Sjit         Djit       Stime       Ltime  \\\n0                  0     9.891010    10.682733  1421927414  1421927414   \n1                  0     0.000000     0.000000  1421927414  1421927414   \n2                  0     0.000000     0.000000  1421927414  1421927414   \n3                  0     0.000000     0.000000  1421927414  1421927414   \n4                  0    29.682221    34.370340  1421927414  1421927414   \n...              ...          ...          ...         ...         ...   \n2540035       372266   116.321921    69.874077  1424262068  1424262069   \n2540037       372266   116.321921    69.874077  1424262068  1424262069   \n2540038            0  1221.136547    30.096029  1424262068  1424262069   \n2540041        79745  2868.893137  1951.035944  1424262067  1424262069   \n2540042            0  3903.523582    95.650531  1424262068  1424262069   \n\n           Sintpkt    Dintpkt    tcprtt    synack    ackdat  is_sm_ips_ports  \\\n0         7.005000   7.564333  0.000000  0.000000  0.000000                0   \n1         0.017000   0.013000  0.000000  0.000000  0.000000                0   \n2         0.043000   0.014000  0.000000  0.000000  0.000000                0   \n3         0.005000   0.003000  0.000000  0.000000  0.000000                0   \n4        21.003000  24.315000  0.000000  0.000000  0.000000                0   \n...            ...        ...       ...       ...       ...              ...   \n2540035   2.123130   1.075171  0.000669  0.000530  0.000139                0   \n2540037   2.123130   1.075171  0.000669  0.000530  0.000139                0   \n2540038  17.394400  12.405143  0.000608  0.000468  0.000140                0   \n2540041  38.609700  19.133826  0.000680  0.000541  0.000139                0   \n2540042  79.714089  80.827180  0.139446  0.053884  0.085562                0   \n\n         ct_state_ttl  ct_flw_http_mthd  is_ftp_login ct_ftp_cmd  ct_srv_src  \\\n0                   0               0.0           0.0          0           2   \n1                   0               0.0           0.0          0          12   \n2                   0               0.0           0.0          0           6   \n3                   0               0.0           0.0          0           7   \n4                   0               0.0           0.0          0           2   \n...               ...               ...           ...        ...         ...   \n2540035             0               2.0           NaN                      1   \n2540037             0               2.0           NaN                      2   \n2540038             0               NaN           NaN                      1   \n2540041             0               2.0           NaN                      1   \n2540042             3               NaN           NaN                      1   \n\n         ct_srv_dst  ct_dst_ltm  ct_src_ ltm  ct_src_dport_ltm  \\\n0                 4           2            3                 1   \n1                 8           1            2                 2   \n2                 9           1            1                 1   \n3                 9           1            1                 1   \n4                 4           2            3                 1   \n...             ...         ...          ...               ...   \n2540035           1           4            2                 2   \n2540037           1           4            2                 2   \n2540038           2           3            3                 1   \n2540041           1           2            4                 2   \n2540042           1           2            4                 2   \n\n         ct_dst_sport_ltm  ct_dst_src_ltm attack_cat  \n0                       1               2     Normal  \n1                       1               1     Normal  \n2                       1               1     Normal  \n3                       1               1     Normal  \n4                       1               2     Normal  \n...                   ...             ...        ...  \n2540035                 2               2     Normal  \n2540037                 2               2     Normal  \n2540038                 1               3     Normal  \n2540041                 2               2     Normal  \n2540042                 2               2   Exploits  \n\n[2059418 rows x 46 columns]",
      "text/html": "<div>\n<style scoped>\n    .dataframe tbody tr th:only-of-type {\n        vertical-align: middle;\n    }\n\n    .dataframe tbody tr th {\n        vertical-align: top;\n    }\n\n    .dataframe thead th {\n        text-align: right;\n    }\n</style>\n<table border=\"1\" class=\"dataframe\">\n  <thead>\n    <tr style=\"text-align: right;\">\n      <th></th>\n      <th>sport</th>\n      <th>dsport</th>\n      <th>proto</th>\n      <th>state</th>\n      <th>dur</th>\n      <th>sbytes</th>\n      <th>dbytes</th>\n      <th>sttl</th>\n      <th>dttl</th>\n      <th>sloss</th>\n      <th>dloss</th>\n      <th>service</th>\n      <th>Sload</th>\n      <th>Dload</th>\n      <th>Spkts</th>\n      <th>Dpkts</th>\n      <th>swin</th>\n      <th>dwin</th>\n      <th>stcpb</th>\n      <th>dtcpb</th>\n      <th>smeansz</th>\n      <th>dmeansz</th>\n      <th>trans_depth</th>\n      <th>res_bdy_len</th>\n      <th>Sjit</th>\n      <th>Djit</th>\n      <th>Stime</th>\n      <th>Ltime</th>\n      <th>Sintpkt</th>\n      <th>Dintpkt</th>\n      <th>tcprtt</th>\n      <th>synack</th>\n      <th>ackdat</th>\n      <th>is_sm_ips_ports</th>\n      <th>ct_state_ttl</th>\n      <th>ct_flw_http_mthd</th>\n      <th>is_ftp_login</th>\n      <th>ct_ftp_cmd</th>\n      <th>ct_srv_src</th>\n      <th>ct_srv_dst</th>\n      <th>ct_dst_ltm</th>\n      <th>ct_src_ ltm</th>\n      <th>ct_src_dport_ltm</th>\n      <th>ct_dst_sport_ltm</th>\n      <th>ct_dst_src_ltm</th>\n      <th>attack_cat</th>\n    </tr>\n  </thead>\n  <tbody>\n    <tr>\n      <th>0</th>\n      <td>33661</td>\n      <td>1024</td>\n      <td>udp</td>\n      <td>CON</td>\n      <td>0.036133</td>\n      <td>528</td>\n      <td>304</td>\n      <td>31</td>\n      <td>29</td>\n      <td>0</td>\n      <td>0</td>\n      <td>undefined</td>\n      <td>87676.085940</td>\n      <td>5.048017e+04</td>\n      <td>4</td>\n      <td>4</td>\n      <td>0</td>\n      <td>0</td>\n      <td>0</td>\n      <td>0</td>\n      <td>132</td>\n      <td>76</td>\n      <td>0</td>\n      <td>0</td>\n      <td>9.891010</td>\n      <td>10.682733</td>\n      <td>1421927414</td>\n      <td>1421927414</td>\n      <td>7.005000</td>\n      <td>7.564333</td>\n      <td>0.000000</td>\n      <td>0.000000</td>\n      <td>0.000000</td>\n      <td>0</td>\n      <td>0</td>\n      <td>0.0</td>\n      <td>0.0</td>\n      <td>0</td>\n      <td>2</td>\n      <td>4</td>\n      <td>2</td>\n      <td>3</td>\n      <td>1</td>\n      <td>1</td>\n      <td>2</td>\n      <td>Normal</td>\n    </tr>\n    <tr>\n      <th>1</th>\n      <td>1464</td>\n      <td>53</td>\n      <td>udp</td>\n      <td>CON</td>\n      <td>0.001119</td>\n      <td>146</td>\n      <td>178</td>\n      <td>31</td>\n      <td>29</td>\n      <td>0</td>\n      <td>0</td>\n      <td>dns</td>\n      <td>521894.531300</td>\n      <td>6.362824e+05</td>\n      <td>2</td>\n      <td>2</td>\n      <td>0</td>\n      <td>0</td>\n      <td>0</td>\n      <td>0</td>\n      <td>73</td>\n      <td>89</td>\n      <td>0</td>\n      <td>0</td>\n      <td>0.000000</td>\n      <td>0.000000</td>\n      <td>1421927414</td>\n      <td>1421927414</td>\n      <td>0.017000</td>\n      <td>0.013000</td>\n      <td>0.000000</td>\n      <td>0.000000</td>\n      <td>0.000000</td>\n      <td>0</td>\n      <td>0</td>\n      <td>0.0</td>\n      <td>0.0</td>\n      <td>0</td>\n      <td>12</td>\n      <td>8</td>\n      <td>1</td>\n      <td>2</td>\n      <td>2</td>\n      <td>1</td>\n      <td>1</td>\n      <td>Normal</td>\n    </tr>\n    <tr>\n      <th>2</th>\n      <td>3593</td>\n      <td>53</td>\n      <td>udp</td>\n      <td>CON</td>\n      <td>0.001209</td>\n      <td>132</td>\n      <td>164</td>\n      <td>31</td>\n      <td>29</td>\n      <td>0</td>\n      <td>0</td>\n      <td>dns</td>\n      <td>436724.562500</td>\n      <td>5.425972e+05</td>\n      <td>2</td>\n      <td>2</td>\n      <td>0</td>\n      <td>0</td>\n      <td>0</td>\n      <td>0</td>\n      <td>66</td>\n      <td>82</td>\n      <td>0</td>\n      <td>0</td>\n      <td>0.000000</td>\n      <td>0.000000</td>\n      <td>1421927414</td>\n      <td>1421927414</td>\n      <td>0.043000</td>\n      <td>0.014000</td>\n      <td>0.000000</td>\n      <td>0.000000</td>\n      <td>0.000000</td>\n      <td>0</td>\n      <td>0</td>\n      <td>0.0</td>\n      <td>0.0</td>\n      <td>0</td>\n      <td>6</td>\n      <td>9</td>\n      <td>1</td>\n      <td>1</td>\n      <td>1</td>\n      <td>1</td>\n      <td>1</td>\n      <td>Normal</td>\n    </tr>\n    <tr>\n      <th>3</th>\n      <td>49664</td>\n      <td>53</td>\n      <td>udp</td>\n      <td>CON</td>\n      <td>0.001169</td>\n      <td>146</td>\n      <td>178</td>\n      <td>31</td>\n      <td>29</td>\n      <td>0</td>\n      <td>0</td>\n      <td>dns</td>\n      <td>499572.250000</td>\n      <td>6.090676e+05</td>\n      <td>2</td>\n      <td>2</td>\n      <td>0</td>\n      <td>0</td>\n      <td>0</td>\n      <td>0</td>\n      <td>73</td>\n      <td>89</td>\n      <td>0</td>\n      <td>0</td>\n      <td>0.000000</td>\n      <td>0.000000</td>\n      <td>1421927414</td>\n      <td>1421927414</td>\n      <td>0.005000</td>\n      <td>0.003000</td>\n      <td>0.000000</td>\n      <td>0.000000</td>\n      <td>0.000000</td>\n      <td>0</td>\n      <td>0</td>\n      <td>0.0</td>\n      <td>0.0</td>\n      <td>0</td>\n      <td>7</td>\n      <td>9</td>\n      <td>1</td>\n      <td>1</td>\n      <td>1</td>\n      <td>1</td>\n      <td>1</td>\n      <td>Normal</td>\n    </tr>\n    <tr>\n      <th>4</th>\n      <td>32119</td>\n      <td>111</td>\n      <td>udp</td>\n      <td>CON</td>\n      <td>0.078339</td>\n      <td>568</td>\n      <td>312</td>\n      <td>31</td>\n      <td>29</td>\n      <td>0</td>\n      <td>0</td>\n      <td>undefined</td>\n      <td>43503.234380</td>\n      <td>2.389614e+04</td>\n      <td>4</td>\n      <td>4</td>\n      <td>0</td>\n      <td>0</td>\n      <td>0</td>\n      <td>0</td>\n      <td>142</td>\n      <td>78</td>\n      <td>0</td>\n      <td>0</td>\n      <td>29.682221</td>\n      <td>34.370340</td>\n      <td>1421927414</td>\n      <td>1421927414</td>\n      <td>21.003000</td>\n      <td>24.315000</td>\n      <td>0.000000</td>\n      <td>0.000000</td>\n      <td>0.000000</td>\n      <td>0</td>\n      <td>0</td>\n      <td>0.0</td>\n      <td>0.0</td>\n      <td>0</td>\n      <td>2</td>\n      <td>4</td>\n      <td>2</td>\n      <td>3</td>\n      <td>1</td>\n      <td>1</td>\n      <td>2</td>\n      <td>Normal</td>\n    </tr>\n    <tr>\n      <th>...</th>\n      <td>...</td>\n      <td>...</td>\n      <td>...</td>\n      <td>...</td>\n      <td>...</td>\n      <td>...</td>\n      <td>...</td>\n      <td>...</td>\n      <td>...</td>\n      <td>...</td>\n      <td>...</td>\n      <td>...</td>\n      <td>...</td>\n      <td>...</td>\n      <td>...</td>\n      <td>...</td>\n      <td>...</td>\n      <td>...</td>\n      <td>...</td>\n      <td>...</td>\n      <td>...</td>\n      <td>...</td>\n      <td>...</td>\n      <td>...</td>\n      <td>...</td>\n      <td>...</td>\n      <td>...</td>\n      <td>...</td>\n      <td>...</td>\n      <td>...</td>\n      <td>...</td>\n      <td>...</td>\n      <td>...</td>\n      <td>...</td>\n      <td>...</td>\n      <td>...</td>\n      <td>...</td>\n      <td>...</td>\n      <td>...</td>\n      <td>...</td>\n      <td>...</td>\n      <td>...</td>\n      <td>...</td>\n      <td>...</td>\n      <td>...</td>\n      <td>...</td>\n    </tr>\n    <tr>\n      <th>2540035</th>\n      <td>38606</td>\n      <td>80</td>\n      <td>tcp</td>\n      <td>CON</td>\n      <td>0.564998</td>\n      <td>14106</td>\n      <td>772406</td>\n      <td>31</td>\n      <td>29</td>\n      <td>2</td>\n      <td>262</td>\n      <td>http</td>\n      <td>198981.250000</td>\n      <td>1.091598e+07</td>\n      <td>262</td>\n      <td>526</td>\n      <td>255</td>\n      <td>255</td>\n      <td>162243658</td>\n      <td>163257853</td>\n      <td>54</td>\n      <td>1468</td>\n      <td>1</td>\n      <td>372266</td>\n      <td>116.321921</td>\n      <td>69.874077</td>\n      <td>1424262068</td>\n      <td>1424262069</td>\n      <td>2.123130</td>\n      <td>1.075171</td>\n      <td>0.000669</td>\n      <td>0.000530</td>\n      <td>0.000139</td>\n      <td>0</td>\n      <td>0</td>\n      <td>2.0</td>\n      <td>NaN</td>\n      <td></td>\n      <td>1</td>\n      <td>1</td>\n      <td>4</td>\n      <td>2</td>\n      <td>2</td>\n      <td>2</td>\n      <td>2</td>\n      <td>Normal</td>\n    </tr>\n    <tr>\n      <th>2540037</th>\n      <td>38606</td>\n      <td>80</td>\n      <td>tcp</td>\n      <td>CON</td>\n      <td>0.564998</td>\n      <td>14106</td>\n      <td>772406</td>\n      <td>31</td>\n      <td>29</td>\n      <td>2</td>\n      <td>262</td>\n      <td>undefined</td>\n      <td>198981.250000</td>\n      <td>1.091598e+07</td>\n      <td>262</td>\n      <td>526</td>\n      <td>255</td>\n      <td>255</td>\n      <td>162243658</td>\n      <td>163257853</td>\n      <td>54</td>\n      <td>1468</td>\n      <td>1</td>\n      <td>372266</td>\n      <td>116.321921</td>\n      <td>69.874077</td>\n      <td>1424262068</td>\n      <td>1424262069</td>\n      <td>2.123130</td>\n      <td>1.075171</td>\n      <td>0.000669</td>\n      <td>0.000530</td>\n      <td>0.000139</td>\n      <td>0</td>\n      <td>0</td>\n      <td>2.0</td>\n      <td>NaN</td>\n      <td></td>\n      <td>2</td>\n      <td>1</td>\n      <td>4</td>\n      <td>2</td>\n      <td>2</td>\n      <td>2</td>\n      <td>2</td>\n      <td>Normal</td>\n    </tr>\n    <tr>\n      <th>2540038</th>\n      <td>33094</td>\n      <td>43433</td>\n      <td>tcp</td>\n      <td>FIN</td>\n      <td>0.087306</td>\n      <td>320</td>\n      <td>1828</td>\n      <td>31</td>\n      <td>29</td>\n      <td>1</td>\n      <td>2</td>\n      <td>ftp-data</td>\n      <td>24465.671880</td>\n      <td>1.466108e+05</td>\n      <td>6</td>\n      <td>8</td>\n      <td>255</td>\n      <td>255</td>\n      <td>4035116044</td>\n      <td>222196311</td>\n      <td>53</td>\n      <td>229</td>\n      <td>0</td>\n      <td>0</td>\n      <td>1221.136547</td>\n      <td>30.096029</td>\n      <td>1424262068</td>\n      <td>1424262069</td>\n      <td>17.394400</td>\n      <td>12.405143</td>\n      <td>0.000608</td>\n      <td>0.000468</td>\n      <td>0.000140</td>\n      <td>0</td>\n      <td>0</td>\n      <td>NaN</td>\n      <td>NaN</td>\n      <td></td>\n      <td>1</td>\n      <td>2</td>\n      <td>3</td>\n      <td>3</td>\n      <td>1</td>\n      <td>1</td>\n      <td>3</td>\n      <td>Normal</td>\n    </tr>\n    <tr>\n      <th>2540041</th>\n      <td>35433</td>\n      <td>80</td>\n      <td>tcp</td>\n      <td>CON</td>\n      <td>2.200934</td>\n      <td>3498</td>\n      <td>166054</td>\n      <td>31</td>\n      <td>29</td>\n      <td>2</td>\n      <td>57</td>\n      <td>http</td>\n      <td>12496.513670</td>\n      <td>5.983751e+05</td>\n      <td>58</td>\n      <td>116</td>\n      <td>255</td>\n      <td>255</td>\n      <td>1289728069</td>\n      <td>3436097151</td>\n      <td>60</td>\n      <td>1432</td>\n      <td>1</td>\n      <td>79745</td>\n      <td>2868.893137</td>\n      <td>1951.035944</td>\n      <td>1424262067</td>\n      <td>1424262069</td>\n      <td>38.609700</td>\n      <td>19.133826</td>\n      <td>0.000680</td>\n      <td>0.000541</td>\n      <td>0.000139</td>\n      <td>0</td>\n      <td>0</td>\n      <td>2.0</td>\n      <td>NaN</td>\n      <td></td>\n      <td>1</td>\n      <td>1</td>\n      <td>2</td>\n      <td>4</td>\n      <td>2</td>\n      <td>2</td>\n      <td>2</td>\n      <td>Normal</td>\n    </tr>\n    <tr>\n      <th>2540042</th>\n      <td>17293</td>\n      <td>110</td>\n      <td>tcp</td>\n      <td>CON</td>\n      <td>0.942984</td>\n      <td>574</td>\n      <td>676</td>\n      <td>62</td>\n      <td>252</td>\n      <td>5</td>\n      <td>6</td>\n      <td>pop3</td>\n      <td>4470.913574</td>\n      <td>5.259898e+03</td>\n      <td>12</td>\n      <td>12</td>\n      <td>255</td>\n      <td>255</td>\n      <td>3026824982</td>\n      <td>3748412468</td>\n      <td>48</td>\n      <td>56</td>\n      <td>0</td>\n      <td>0</td>\n      <td>3903.523582</td>\n      <td>95.650531</td>\n      <td>1424262068</td>\n      <td>1424262069</td>\n      <td>79.714089</td>\n      <td>80.827180</td>\n      <td>0.139446</td>\n      <td>0.053884</td>\n      <td>0.085562</td>\n      <td>0</td>\n      <td>3</td>\n      <td>NaN</td>\n      <td>NaN</td>\n      <td></td>\n      <td>1</td>\n      <td>1</td>\n      <td>2</td>\n      <td>4</td>\n      <td>2</td>\n      <td>2</td>\n      <td>2</td>\n      <td>Exploits</td>\n    </tr>\n  </tbody>\n</table>\n<p>2059418 rows × 46 columns</p>\n</div>"
     },
     "execution_count": 8,
     "metadata": {},
     "output_type": "execute_result"
    }
   ],
   "source": [
    "#make the multiclass now\n",
    "ds_full_multiclass=ds_full_new.drop(columns='label')\n",
    "ds_full_multiclass"
   ],
   "metadata": {
    "collapsed": false,
    "pycharm": {
     "name": "#%%\n"
    }
   }
  },
  {
   "cell_type": "code",
   "execution_count": 9,
   "outputs": [
    {
     "data": {
      "text/plain": "Normal              1959772\nExploits              27600\nGeneric               25378\n Fuzzers              17804\n Reconnaissance       11617\nDoS                    5665\n Fuzzers               3991\nAnalysis               2185\nReconnaissance         1740\nBackdoor               1684\n Shellcode             1288\nBackdoors               300\nShellcode               223\nWorms                   171\ndtype: int64"
     },
     "execution_count": 9,
     "metadata": {},
     "output_type": "execute_result"
    }
   ],
   "source": [
    "pd.value_counts(ds_full_multiclass.attack_cat.values)"
   ],
   "metadata": {
    "collapsed": false,
    "pycharm": {
     "name": "#%%\n"
    }
   }
  },
  {
   "cell_type": "code",
   "execution_count": 10,
   "outputs": [
    {
     "data": {
      "text/plain": "Normal            1959772\nExploits            27600\nGeneric             25378\nFuzzers             21795\nReconnaissance      13357\nDoS                  5665\nAnalysis             2185\nBackdoor             1684\nShellcode            1511\nBackdoors             300\nWorms                 171\ndtype: int64"
     },
     "execution_count": 10,
     "metadata": {},
     "output_type": "execute_result"
    }
   ],
   "source": [
    "#there are some typos, have to fix\n",
    "ds_full_multiclass['attack_cat'] = ds_full_multiclass['attack_cat'].str.strip()\n",
    "pd.value_counts(ds_full_multiclass.attack_cat.values)"
   ],
   "metadata": {
    "collapsed": false,
    "pycharm": {
     "name": "#%%\n"
    }
   }
  },
  {
   "cell_type": "code",
   "execution_count": 11,
   "outputs": [
    {
     "data": {
      "text/plain": "Normal            1959772\nExploits            27600\nGeneric             25378\nFuzzers             21795\nReconnaissance      13357\nDoS                  5665\nAnalysis             2185\nBackdoor             1984\nShellcode            1511\nWorms                 171\ndtype: int64"
     },
     "execution_count": 11,
     "metadata": {},
     "output_type": "execute_result"
    }
   ],
   "source": [
    "ds_full_multiclass['attack_cat'].replace('Backdoors','Backdoor',inplace=True)\n",
    "pd.value_counts(ds_full_multiclass.attack_cat.values)"
   ],
   "metadata": {
    "collapsed": false,
    "pycharm": {
     "name": "#%%\n"
    }
   }
  },
  {
   "cell_type": "code",
   "execution_count": 12,
   "outputs": [
    {
     "data": {
      "text/plain": "array(['Normal', 'Exploits', 'Reconnaissance', 'DoS', 'Generic',\n       'Shellcode', 'Fuzzers', 'Worms', 'Backdoor', 'Analysis'],\n      dtype=object)"
     },
     "execution_count": 12,
     "metadata": {},
     "output_type": "execute_result"
    }
   ],
   "source": [
    "pd.unique(ds_full_multiclass.attack_cat)"
   ],
   "metadata": {
    "collapsed": false,
    "pycharm": {
     "name": "#%%\n"
    }
   }
  },
  {
   "cell_type": "code",
   "execution_count": 13,
   "outputs": [
    {
     "data": {
      "text/plain": "sport                     0\ndsport                    0\nproto                     0\nstate                     0\ndur                       0\nsbytes                    0\ndbytes                    0\nsttl                      0\ndttl                      0\nsloss                     0\ndloss                     0\nservice                   0\nSload                     0\nDload                     0\nSpkts                     0\nDpkts                     0\nswin                      0\ndwin                      0\nstcpb                     0\ndtcpb                     0\nsmeansz                   0\ndmeansz                   0\ntrans_depth               0\nres_bdy_len               0\nSjit                      0\nDjit                      0\nStime                     0\nLtime                     0\nSintpkt                   0\nDintpkt                   0\ntcprtt                    0\nsynack                    0\nackdat                    0\nis_sm_ips_ports           0\nct_state_ttl              0\nct_flw_http_mthd     933604\nis_ftp_login        1014166\nct_ftp_cmd                0\nct_srv_src                0\nct_srv_dst                0\nct_dst_ltm                0\nct_src_ ltm               0\nct_src_dport_ltm          0\nct_dst_sport_ltm          0\nct_dst_src_ltm            0\nattack_cat                0\ndtype: int64"
     },
     "execution_count": 13,
     "metadata": {},
     "output_type": "execute_result"
    }
   ],
   "source": [
    "#now we should remove whitespaces everywhere\n",
    "ds_full_multiclass.isnull().sum()"
   ],
   "metadata": {
    "collapsed": false,
    "pycharm": {
     "name": "#%%\n"
    }
   }
  },
  {
   "cell_type": "code",
   "execution_count": 16,
   "outputs": [
    {
     "data": {
      "text/plain": "array([ 0.,  1.,  2.,  4., 14.,  8.,  6., 12., 10.,  3.,  5., 36.,  9.,\n       16., 25., 30.])"
     },
     "execution_count": 16,
     "metadata": {},
     "output_type": "execute_result"
    }
   ],
   "source": [
    "pd.unique(ds_full_multiclass.ct_flw_http_mthd)"
   ],
   "metadata": {
    "collapsed": false,
    "pycharm": {
     "name": "#%%\n"
    }
   }
  },
  {
   "cell_type": "code",
   "execution_count": 15,
   "outputs": [],
   "source": [
    "ds_full_multiclass['ct_flw_http_mthd'].replace(math.nan, float(0),inplace=True)"
   ],
   "metadata": {
    "collapsed": false,
    "pycharm": {
     "name": "#%%\n"
    }
   }
  },
  {
   "cell_type": "code",
   "execution_count": 19,
   "outputs": [
    {
     "data": {
      "text/plain": "array([0., 1., 2., 4.])"
     },
     "execution_count": 19,
     "metadata": {},
     "output_type": "execute_result"
    }
   ],
   "source": [
    "pd.unique(ds_full_multiclass.is_ftp_login)"
   ],
   "metadata": {
    "collapsed": false,
    "pycharm": {
     "name": "#%%\n"
    }
   }
  },
  {
   "cell_type": "code",
   "execution_count": 18,
   "outputs": [],
   "source": [
    "ds_full_multiclass['is_ftp_login'].replace(math.nan, float(0),inplace=True)"
   ],
   "metadata": {
    "collapsed": false,
    "pycharm": {
     "name": "#%%\n"
    }
   }
  },
  {
   "cell_type": "code",
   "execution_count": 24,
   "outputs": [
    {
     "data": {
      "text/plain": "array(['0', 1, 6, 2, 4, 8, 5, 3, '1', '2', '4'], dtype=object)"
     },
     "execution_count": 24,
     "metadata": {},
     "output_type": "execute_result"
    }
   ],
   "source": [
    "pd.unique(ds_full_multiclass.ct_ftp_cmd)"
   ],
   "metadata": {
    "collapsed": false,
    "pycharm": {
     "name": "#%%\n"
    }
   }
  },
  {
   "cell_type": "code",
   "execution_count": 23,
   "outputs": [],
   "source": [
    "ds_full_multiclass['ct_ftp_cmd'].replace(0, '0',inplace=True)"
   ],
   "metadata": {
    "collapsed": false,
    "pycharm": {
     "name": "#%%\n"
    }
   }
  },
  {
   "cell_type": "code",
   "execution_count": 25,
   "outputs": [
    {
     "data": {
      "text/plain": "<pandas.io.formats.style.Styler at 0x2bc8afc7ca0>",
      "text/html": "<style type=\"text/css\">\n#T_87d0e_row29_col1, #T_87d0e_row51_col1 {\n  background-color: lightgreen;\n}\n</style>\n<table id=\"T_87d0e_\">\n  <thead>\n    <tr>\n      <th class=\"blank level0\" >&nbsp;</th>\n      <th class=\"col_heading level0 col0\" >Description</th>\n      <th class=\"col_heading level0 col1\" >Value</th>\n    </tr>\n  </thead>\n  <tbody>\n    <tr>\n      <th id=\"T_87d0e_level0_row0\" class=\"row_heading level0 row0\" >0</th>\n      <td id=\"T_87d0e_row0_col0\" class=\"data row0 col0\" >session_id</td>\n      <td id=\"T_87d0e_row0_col1\" class=\"data row0 col1\" >3765</td>\n    </tr>\n    <tr>\n      <th id=\"T_87d0e_level0_row1\" class=\"row_heading level0 row1\" >1</th>\n      <td id=\"T_87d0e_row1_col0\" class=\"data row1 col0\" >Target</td>\n      <td id=\"T_87d0e_row1_col1\" class=\"data row1 col1\" >attack_cat</td>\n    </tr>\n    <tr>\n      <th id=\"T_87d0e_level0_row2\" class=\"row_heading level0 row2\" >2</th>\n      <td id=\"T_87d0e_row2_col0\" class=\"data row2 col0\" >Target Type</td>\n      <td id=\"T_87d0e_row2_col1\" class=\"data row2 col1\" >Multiclass</td>\n    </tr>\n    <tr>\n      <th id=\"T_87d0e_level0_row3\" class=\"row_heading level0 row3\" >3</th>\n      <td id=\"T_87d0e_row3_col0\" class=\"data row3 col0\" >Label Encoded</td>\n      <td id=\"T_87d0e_row3_col1\" class=\"data row3 col1\" >Analysis: 0, Backdoor: 1, DoS: 2, Exploits: 3, Fuzzers: 4, Generic: 5, Normal: 6, Reconnaissance: 7, Shellcode: 8, Worms: 9</td>\n    </tr>\n    <tr>\n      <th id=\"T_87d0e_level0_row4\" class=\"row_heading level0 row4\" >4</th>\n      <td id=\"T_87d0e_row4_col0\" class=\"data row4 col0\" >Original Data</td>\n      <td id=\"T_87d0e_row4_col1\" class=\"data row4 col1\" >(2059418, 46)</td>\n    </tr>\n    <tr>\n      <th id=\"T_87d0e_level0_row5\" class=\"row_heading level0 row5\" >5</th>\n      <td id=\"T_87d0e_row5_col0\" class=\"data row5 col0\" >Missing Values</td>\n      <td id=\"T_87d0e_row5_col1\" class=\"data row5 col1\" >False</td>\n    </tr>\n    <tr>\n      <th id=\"T_87d0e_level0_row6\" class=\"row_heading level0 row6\" >6</th>\n      <td id=\"T_87d0e_row6_col0\" class=\"data row6 col0\" >Numeric Features</td>\n      <td id=\"T_87d0e_row6_col1\" class=\"data row6 col1\" >38</td>\n    </tr>\n    <tr>\n      <th id=\"T_87d0e_level0_row7\" class=\"row_heading level0 row7\" >7</th>\n      <td id=\"T_87d0e_row7_col0\" class=\"data row7 col0\" >Categorical Features</td>\n      <td id=\"T_87d0e_row7_col1\" class=\"data row7 col1\" >3</td>\n    </tr>\n    <tr>\n      <th id=\"T_87d0e_level0_row8\" class=\"row_heading level0 row8\" >8</th>\n      <td id=\"T_87d0e_row8_col0\" class=\"data row8 col0\" >Ordinal Features</td>\n      <td id=\"T_87d0e_row8_col1\" class=\"data row8 col1\" >False</td>\n    </tr>\n    <tr>\n      <th id=\"T_87d0e_level0_row9\" class=\"row_heading level0 row9\" >9</th>\n      <td id=\"T_87d0e_row9_col0\" class=\"data row9 col0\" >High Cardinality Features</td>\n      <td id=\"T_87d0e_row9_col1\" class=\"data row9 col1\" >False</td>\n    </tr>\n    <tr>\n      <th id=\"T_87d0e_level0_row10\" class=\"row_heading level0 row10\" >10</th>\n      <td id=\"T_87d0e_row10_col0\" class=\"data row10 col0\" >High Cardinality Method</td>\n      <td id=\"T_87d0e_row10_col1\" class=\"data row10 col1\" >None</td>\n    </tr>\n    <tr>\n      <th id=\"T_87d0e_level0_row11\" class=\"row_heading level0 row11\" >11</th>\n      <td id=\"T_87d0e_row11_col0\" class=\"data row11 col0\" >Transformed Train Set</td>\n      <td id=\"T_87d0e_row11_col1\" class=\"data row11 col1\" >(1647534, 42)</td>\n    </tr>\n    <tr>\n      <th id=\"T_87d0e_level0_row12\" class=\"row_heading level0 row12\" >12</th>\n      <td id=\"T_87d0e_row12_col0\" class=\"data row12 col0\" >Transformed Test Set</td>\n      <td id=\"T_87d0e_row12_col1\" class=\"data row12 col1\" >(411884, 42)</td>\n    </tr>\n    <tr>\n      <th id=\"T_87d0e_level0_row13\" class=\"row_heading level0 row13\" >13</th>\n      <td id=\"T_87d0e_row13_col0\" class=\"data row13 col0\" >Shuffle Train-Test</td>\n      <td id=\"T_87d0e_row13_col1\" class=\"data row13 col1\" >True</td>\n    </tr>\n    <tr>\n      <th id=\"T_87d0e_level0_row14\" class=\"row_heading level0 row14\" >14</th>\n      <td id=\"T_87d0e_row14_col0\" class=\"data row14 col0\" >Stratify Train-Test</td>\n      <td id=\"T_87d0e_row14_col1\" class=\"data row14 col1\" >False</td>\n    </tr>\n    <tr>\n      <th id=\"T_87d0e_level0_row15\" class=\"row_heading level0 row15\" >15</th>\n      <td id=\"T_87d0e_row15_col0\" class=\"data row15 col0\" >Fold Generator</td>\n      <td id=\"T_87d0e_row15_col1\" class=\"data row15 col1\" >StratifiedKFold</td>\n    </tr>\n    <tr>\n      <th id=\"T_87d0e_level0_row16\" class=\"row_heading level0 row16\" >16</th>\n      <td id=\"T_87d0e_row16_col0\" class=\"data row16 col0\" >Fold Number</td>\n      <td id=\"T_87d0e_row16_col1\" class=\"data row16 col1\" >10</td>\n    </tr>\n    <tr>\n      <th id=\"T_87d0e_level0_row17\" class=\"row_heading level0 row17\" >17</th>\n      <td id=\"T_87d0e_row17_col0\" class=\"data row17 col0\" >CPU Jobs</td>\n      <td id=\"T_87d0e_row17_col1\" class=\"data row17 col1\" >-1</td>\n    </tr>\n    <tr>\n      <th id=\"T_87d0e_level0_row18\" class=\"row_heading level0 row18\" >18</th>\n      <td id=\"T_87d0e_row18_col0\" class=\"data row18 col0\" >Use GPU</td>\n      <td id=\"T_87d0e_row18_col1\" class=\"data row18 col1\" >False</td>\n    </tr>\n    <tr>\n      <th id=\"T_87d0e_level0_row19\" class=\"row_heading level0 row19\" >19</th>\n      <td id=\"T_87d0e_row19_col0\" class=\"data row19 col0\" >Log Experiment</td>\n      <td id=\"T_87d0e_row19_col1\" class=\"data row19 col1\" >False</td>\n    </tr>\n    <tr>\n      <th id=\"T_87d0e_level0_row20\" class=\"row_heading level0 row20\" >20</th>\n      <td id=\"T_87d0e_row20_col0\" class=\"data row20 col0\" >Experiment Name</td>\n      <td id=\"T_87d0e_row20_col1\" class=\"data row20 col1\" >clf-default-name</td>\n    </tr>\n    <tr>\n      <th id=\"T_87d0e_level0_row21\" class=\"row_heading level0 row21\" >21</th>\n      <td id=\"T_87d0e_row21_col0\" class=\"data row21 col0\" >USI</td>\n      <td id=\"T_87d0e_row21_col1\" class=\"data row21 col1\" >b583</td>\n    </tr>\n    <tr>\n      <th id=\"T_87d0e_level0_row22\" class=\"row_heading level0 row22\" >22</th>\n      <td id=\"T_87d0e_row22_col0\" class=\"data row22 col0\" >Imputation Type</td>\n      <td id=\"T_87d0e_row22_col1\" class=\"data row22 col1\" >simple</td>\n    </tr>\n    <tr>\n      <th id=\"T_87d0e_level0_row23\" class=\"row_heading level0 row23\" >23</th>\n      <td id=\"T_87d0e_row23_col0\" class=\"data row23 col0\" >Iterative Imputation Iteration</td>\n      <td id=\"T_87d0e_row23_col1\" class=\"data row23 col1\" >None</td>\n    </tr>\n    <tr>\n      <th id=\"T_87d0e_level0_row24\" class=\"row_heading level0 row24\" >24</th>\n      <td id=\"T_87d0e_row24_col0\" class=\"data row24 col0\" >Numeric Imputer</td>\n      <td id=\"T_87d0e_row24_col1\" class=\"data row24 col1\" >mean</td>\n    </tr>\n    <tr>\n      <th id=\"T_87d0e_level0_row25\" class=\"row_heading level0 row25\" >25</th>\n      <td id=\"T_87d0e_row25_col0\" class=\"data row25 col0\" >Iterative Imputation Numeric Model</td>\n      <td id=\"T_87d0e_row25_col1\" class=\"data row25 col1\" >None</td>\n    </tr>\n    <tr>\n      <th id=\"T_87d0e_level0_row26\" class=\"row_heading level0 row26\" >26</th>\n      <td id=\"T_87d0e_row26_col0\" class=\"data row26 col0\" >Categorical Imputer</td>\n      <td id=\"T_87d0e_row26_col1\" class=\"data row26 col1\" >constant</td>\n    </tr>\n    <tr>\n      <th id=\"T_87d0e_level0_row27\" class=\"row_heading level0 row27\" >27</th>\n      <td id=\"T_87d0e_row27_col0\" class=\"data row27 col0\" >Iterative Imputation Categorical Model</td>\n      <td id=\"T_87d0e_row27_col1\" class=\"data row27 col1\" >None</td>\n    </tr>\n    <tr>\n      <th id=\"T_87d0e_level0_row28\" class=\"row_heading level0 row28\" >28</th>\n      <td id=\"T_87d0e_row28_col0\" class=\"data row28 col0\" >Unknown Categoricals Handling</td>\n      <td id=\"T_87d0e_row28_col1\" class=\"data row28 col1\" >least_frequent</td>\n    </tr>\n    <tr>\n      <th id=\"T_87d0e_level0_row29\" class=\"row_heading level0 row29\" >29</th>\n      <td id=\"T_87d0e_row29_col0\" class=\"data row29 col0\" >Normalize</td>\n      <td id=\"T_87d0e_row29_col1\" class=\"data row29 col1\" >True</td>\n    </tr>\n    <tr>\n      <th id=\"T_87d0e_level0_row30\" class=\"row_heading level0 row30\" >30</th>\n      <td id=\"T_87d0e_row30_col0\" class=\"data row30 col0\" >Normalize Method</td>\n      <td id=\"T_87d0e_row30_col1\" class=\"data row30 col1\" >minmax</td>\n    </tr>\n    <tr>\n      <th id=\"T_87d0e_level0_row31\" class=\"row_heading level0 row31\" >31</th>\n      <td id=\"T_87d0e_row31_col0\" class=\"data row31 col0\" >Transformation</td>\n      <td id=\"T_87d0e_row31_col1\" class=\"data row31 col1\" >False</td>\n    </tr>\n    <tr>\n      <th id=\"T_87d0e_level0_row32\" class=\"row_heading level0 row32\" >32</th>\n      <td id=\"T_87d0e_row32_col0\" class=\"data row32 col0\" >Transformation Method</td>\n      <td id=\"T_87d0e_row32_col1\" class=\"data row32 col1\" >None</td>\n    </tr>\n    <tr>\n      <th id=\"T_87d0e_level0_row33\" class=\"row_heading level0 row33\" >33</th>\n      <td id=\"T_87d0e_row33_col0\" class=\"data row33 col0\" >PCA</td>\n      <td id=\"T_87d0e_row33_col1\" class=\"data row33 col1\" >False</td>\n    </tr>\n    <tr>\n      <th id=\"T_87d0e_level0_row34\" class=\"row_heading level0 row34\" >34</th>\n      <td id=\"T_87d0e_row34_col0\" class=\"data row34 col0\" >PCA Method</td>\n      <td id=\"T_87d0e_row34_col1\" class=\"data row34 col1\" >None</td>\n    </tr>\n    <tr>\n      <th id=\"T_87d0e_level0_row35\" class=\"row_heading level0 row35\" >35</th>\n      <td id=\"T_87d0e_row35_col0\" class=\"data row35 col0\" >PCA Components</td>\n      <td id=\"T_87d0e_row35_col1\" class=\"data row35 col1\" >None</td>\n    </tr>\n    <tr>\n      <th id=\"T_87d0e_level0_row36\" class=\"row_heading level0 row36\" >36</th>\n      <td id=\"T_87d0e_row36_col0\" class=\"data row36 col0\" >Ignore Low Variance</td>\n      <td id=\"T_87d0e_row36_col1\" class=\"data row36 col1\" >False</td>\n    </tr>\n    <tr>\n      <th id=\"T_87d0e_level0_row37\" class=\"row_heading level0 row37\" >37</th>\n      <td id=\"T_87d0e_row37_col0\" class=\"data row37 col0\" >Combine Rare Levels</td>\n      <td id=\"T_87d0e_row37_col1\" class=\"data row37 col1\" >False</td>\n    </tr>\n    <tr>\n      <th id=\"T_87d0e_level0_row38\" class=\"row_heading level0 row38\" >38</th>\n      <td id=\"T_87d0e_row38_col0\" class=\"data row38 col0\" >Rare Level Threshold</td>\n      <td id=\"T_87d0e_row38_col1\" class=\"data row38 col1\" >None</td>\n    </tr>\n    <tr>\n      <th id=\"T_87d0e_level0_row39\" class=\"row_heading level0 row39\" >39</th>\n      <td id=\"T_87d0e_row39_col0\" class=\"data row39 col0\" >Numeric Binning</td>\n      <td id=\"T_87d0e_row39_col1\" class=\"data row39 col1\" >False</td>\n    </tr>\n    <tr>\n      <th id=\"T_87d0e_level0_row40\" class=\"row_heading level0 row40\" >40</th>\n      <td id=\"T_87d0e_row40_col0\" class=\"data row40 col0\" >Remove Outliers</td>\n      <td id=\"T_87d0e_row40_col1\" class=\"data row40 col1\" >False</td>\n    </tr>\n    <tr>\n      <th id=\"T_87d0e_level0_row41\" class=\"row_heading level0 row41\" >41</th>\n      <td id=\"T_87d0e_row41_col0\" class=\"data row41 col0\" >Outliers Threshold</td>\n      <td id=\"T_87d0e_row41_col1\" class=\"data row41 col1\" >None</td>\n    </tr>\n    <tr>\n      <th id=\"T_87d0e_level0_row42\" class=\"row_heading level0 row42\" >42</th>\n      <td id=\"T_87d0e_row42_col0\" class=\"data row42 col0\" >Remove Multicollinearity</td>\n      <td id=\"T_87d0e_row42_col1\" class=\"data row42 col1\" >False</td>\n    </tr>\n    <tr>\n      <th id=\"T_87d0e_level0_row43\" class=\"row_heading level0 row43\" >43</th>\n      <td id=\"T_87d0e_row43_col0\" class=\"data row43 col0\" >Multicollinearity Threshold</td>\n      <td id=\"T_87d0e_row43_col1\" class=\"data row43 col1\" >None</td>\n    </tr>\n    <tr>\n      <th id=\"T_87d0e_level0_row44\" class=\"row_heading level0 row44\" >44</th>\n      <td id=\"T_87d0e_row44_col0\" class=\"data row44 col0\" >Clustering</td>\n      <td id=\"T_87d0e_row44_col1\" class=\"data row44 col1\" >False</td>\n    </tr>\n    <tr>\n      <th id=\"T_87d0e_level0_row45\" class=\"row_heading level0 row45\" >45</th>\n      <td id=\"T_87d0e_row45_col0\" class=\"data row45 col0\" >Clustering Iteration</td>\n      <td id=\"T_87d0e_row45_col1\" class=\"data row45 col1\" >None</td>\n    </tr>\n    <tr>\n      <th id=\"T_87d0e_level0_row46\" class=\"row_heading level0 row46\" >46</th>\n      <td id=\"T_87d0e_row46_col0\" class=\"data row46 col0\" >Polynomial Features</td>\n      <td id=\"T_87d0e_row46_col1\" class=\"data row46 col1\" >False</td>\n    </tr>\n    <tr>\n      <th id=\"T_87d0e_level0_row47\" class=\"row_heading level0 row47\" >47</th>\n      <td id=\"T_87d0e_row47_col0\" class=\"data row47 col0\" >Polynomial Degree</td>\n      <td id=\"T_87d0e_row47_col1\" class=\"data row47 col1\" >None</td>\n    </tr>\n    <tr>\n      <th id=\"T_87d0e_level0_row48\" class=\"row_heading level0 row48\" >48</th>\n      <td id=\"T_87d0e_row48_col0\" class=\"data row48 col0\" >Trignometry Features</td>\n      <td id=\"T_87d0e_row48_col1\" class=\"data row48 col1\" >False</td>\n    </tr>\n    <tr>\n      <th id=\"T_87d0e_level0_row49\" class=\"row_heading level0 row49\" >49</th>\n      <td id=\"T_87d0e_row49_col0\" class=\"data row49 col0\" >Polynomial Threshold</td>\n      <td id=\"T_87d0e_row49_col1\" class=\"data row49 col1\" >None</td>\n    </tr>\n    <tr>\n      <th id=\"T_87d0e_level0_row50\" class=\"row_heading level0 row50\" >50</th>\n      <td id=\"T_87d0e_row50_col0\" class=\"data row50 col0\" >Group Features</td>\n      <td id=\"T_87d0e_row50_col1\" class=\"data row50 col1\" >False</td>\n    </tr>\n    <tr>\n      <th id=\"T_87d0e_level0_row51\" class=\"row_heading level0 row51\" >51</th>\n      <td id=\"T_87d0e_row51_col0\" class=\"data row51 col0\" >Feature Selection</td>\n      <td id=\"T_87d0e_row51_col1\" class=\"data row51 col1\" >True</td>\n    </tr>\n    <tr>\n      <th id=\"T_87d0e_level0_row52\" class=\"row_heading level0 row52\" >52</th>\n      <td id=\"T_87d0e_row52_col0\" class=\"data row52 col0\" >Features Selection Threshold</td>\n      <td id=\"T_87d0e_row52_col1\" class=\"data row52 col1\" >0.200000</td>\n    </tr>\n    <tr>\n      <th id=\"T_87d0e_level0_row53\" class=\"row_heading level0 row53\" >53</th>\n      <td id=\"T_87d0e_row53_col0\" class=\"data row53 col0\" >Feature Interaction</td>\n      <td id=\"T_87d0e_row53_col1\" class=\"data row53 col1\" >False</td>\n    </tr>\n    <tr>\n      <th id=\"T_87d0e_level0_row54\" class=\"row_heading level0 row54\" >54</th>\n      <td id=\"T_87d0e_row54_col0\" class=\"data row54 col0\" >Feature Ratio</td>\n      <td id=\"T_87d0e_row54_col1\" class=\"data row54 col1\" >False</td>\n    </tr>\n    <tr>\n      <th id=\"T_87d0e_level0_row55\" class=\"row_heading level0 row55\" >55</th>\n      <td id=\"T_87d0e_row55_col0\" class=\"data row55 col0\" >Interaction Threshold</td>\n      <td id=\"T_87d0e_row55_col1\" class=\"data row55 col1\" >None</td>\n    </tr>\n    <tr>\n      <th id=\"T_87d0e_level0_row56\" class=\"row_heading level0 row56\" >56</th>\n      <td id=\"T_87d0e_row56_col0\" class=\"data row56 col0\" >Fix Imbalance</td>\n      <td id=\"T_87d0e_row56_col1\" class=\"data row56 col1\" >False</td>\n    </tr>\n    <tr>\n      <th id=\"T_87d0e_level0_row57\" class=\"row_heading level0 row57\" >57</th>\n      <td id=\"T_87d0e_row57_col0\" class=\"data row57 col0\" >Fix Imbalance Method</td>\n      <td id=\"T_87d0e_row57_col1\" class=\"data row57 col1\" >SMOTE</td>\n    </tr>\n  </tbody>\n</table>\n"
     },
     "metadata": {},
     "output_type": "display_data"
    }
   ],
   "source": [
    "dsp_tr_multiclass_full=setup(data = ds_full_multiclass,\n",
    "             target = 'attack_cat',train_size=0.8,\n",
    "             numeric_imputation = 'mean',\n",
    "             categorical_features = ['proto','service','state'],\n",
    "             numeric_features=['dur','Spkts','Dpkts','sbytes','dbytes','sttl','dttl','Sload','Dload','sloss','dloss','Sintpkt','Dintpkt','Sjit','Djit','swin','stcpb','dtcpb','dwin','tcprtt','synack','ackdat','smeansz','dmeansz','trans_depth','res_bdy_len','ct_srv_src','ct_state_ttl','ct_dst_ltm','ct_src_dport_ltm','ct_dst_sport_ltm',\n",
    "                               'ct_dst_src_ltm','is_ftp_login','ct_ftp_cmd','ct_flw_http_mthd','ct_src_ ltm','ct_srv_dst','is_sm_ips_ports'],\n",
    "                ignore_features=['dsport','sport','Stime','Ltime'],\n",
    "             normalize=True,normalize_method='minmax',\n",
    "             feature_selection=True,feature_selection_threshold=0.2,\n",
    "             silent = True, fold_shuffle=True)"
   ],
   "metadata": {
    "collapsed": false,
    "pycharm": {
     "name": "#%%\n"
    }
   }
  },
  {
   "cell_type": "code",
   "execution_count": 26,
   "outputs": [],
   "source": [
    "X_train_mul_full=get_config('X_train')\n",
    "X_test_mul_full = get_config('X_test')\n",
    "Y_train_mul_full = get_config('y_train')\n",
    "Y_test_mul_full = get_config('y_test')"
   ],
   "metadata": {
    "collapsed": false,
    "pycharm": {
     "name": "#%%\n"
    }
   }
  },
  {
   "cell_type": "code",
   "execution_count": 27,
   "outputs": [
    {
     "name": "stdout",
     "output_type": "stream",
     "text": [
      "Epoch 1/100\n",
      "25743/25743 [==============================] - 85s 3ms/step - loss: 0.0766 - accuracy: 0.9710 - val_loss: 0.0679 - val_accuracy: 0.9721\n",
      "Epoch 2/100\n",
      "25743/25743 [==============================] - 82s 3ms/step - loss: 0.0649 - accuracy: 0.9739 - val_loss: 0.0621 - val_accuracy: 0.9750\n",
      "Epoch 3/100\n",
      "25743/25743 [==============================] - 83s 3ms/step - loss: 0.0628 - accuracy: 0.9745 - val_loss: 0.0619 - val_accuracy: 0.9744\n",
      "Epoch 4/100\n",
      "25743/25743 [==============================] - 80s 3ms/step - loss: 0.0615 - accuracy: 0.9750 - val_loss: 0.0592 - val_accuracy: 0.9759\n",
      "Epoch 5/100\n",
      "25743/25743 [==============================] - 81s 3ms/step - loss: 0.0606 - accuracy: 0.9752 - val_loss: 0.0587 - val_accuracy: 0.9759\n",
      "Epoch 6/100\n",
      "25743/25743 [==============================] - 81s 3ms/step - loss: 0.0597 - accuracy: 0.9756 - val_loss: 0.0594 - val_accuracy: 0.9761\n",
      "Epoch 7/100\n",
      "25743/25743 [==============================] - 79s 3ms/step - loss: 0.0591 - accuracy: 0.9759 - val_loss: 0.0597 - val_accuracy: 0.9756\n",
      "Epoch 8/100\n",
      "25743/25743 [==============================] - 80s 3ms/step - loss: 0.0585 - accuracy: 0.9762 - val_loss: 0.0570 - val_accuracy: 0.9767\n",
      "Epoch 9/100\n",
      "25743/25743 [==============================] - 81s 3ms/step - loss: 0.0580 - accuracy: 0.9765 - val_loss: 0.0593 - val_accuracy: 0.9760\n",
      "Epoch 10/100\n",
      "25743/25743 [==============================] - 82s 3ms/step - loss: 0.0576 - accuracy: 0.9766 - val_loss: 0.0562 - val_accuracy: 0.9775\n",
      "Epoch 11/100\n",
      "25743/25743 [==============================] - 81s 3ms/step - loss: 0.0570 - accuracy: 0.9768 - val_loss: 0.0555 - val_accuracy: 0.9774\n",
      "Epoch 12/100\n",
      "25743/25743 [==============================] - 83s 3ms/step - loss: 0.0567 - accuracy: 0.9770 - val_loss: 0.0553 - val_accuracy: 0.9776\n",
      "Epoch 13/100\n",
      "25743/25743 [==============================] - 82s 3ms/step - loss: 0.0563 - accuracy: 0.9771 - val_loss: 0.0551 - val_accuracy: 0.9776\n",
      "Epoch 14/100\n",
      "25743/25743 [==============================] - 81s 3ms/step - loss: 0.0560 - accuracy: 0.9773 - val_loss: 0.0542 - val_accuracy: 0.9780\n",
      "Epoch 15/100\n",
      "25743/25743 [==============================] - 93s 4ms/step - loss: 0.0557 - accuracy: 0.9774 - val_loss: 0.0545 - val_accuracy: 0.9778\n",
      "Epoch 16/100\n",
      "25743/25743 [==============================] - 133s 5ms/step - loss: 0.0554 - accuracy: 0.9775 - val_loss: 0.0535 - val_accuracy: 0.9783\n",
      "Epoch 17/100\n",
      "25743/25743 [==============================] - 137s 5ms/step - loss: 0.0552 - accuracy: 0.9775 - val_loss: 0.0541 - val_accuracy: 0.9778\n",
      "Epoch 18/100\n",
      "25743/25743 [==============================] - 127s 5ms/step - loss: 0.0548 - accuracy: 0.9777 - val_loss: 0.0531 - val_accuracy: 0.9785\n",
      "Epoch 19/100\n",
      "25743/25743 [==============================] - 125s 5ms/step - loss: 0.0548 - accuracy: 0.9777 - val_loss: 0.0534 - val_accuracy: 0.9784\n",
      "Epoch 20/100\n",
      "25743/25743 [==============================] - 125s 5ms/step - loss: 0.0545 - accuracy: 0.9778 - val_loss: 0.0527 - val_accuracy: 0.9786\n",
      "Epoch 21/100\n",
      "25743/25743 [==============================] - 132s 5ms/step - loss: 0.0541 - accuracy: 0.9780 - val_loss: 0.0533 - val_accuracy: 0.9785\n",
      "Epoch 22/100\n",
      "25743/25743 [==============================] - 131s 5ms/step - loss: 0.0540 - accuracy: 0.9780 - val_loss: 0.0524 - val_accuracy: 0.9787\n",
      "Epoch 23/100\n",
      "25743/25743 [==============================] - 129s 5ms/step - loss: 0.0539 - accuracy: 0.9781 - val_loss: 0.0526 - val_accuracy: 0.9787\n",
      "Epoch 24/100\n",
      "25743/25743 [==============================] - 123s 5ms/step - loss: 0.0536 - accuracy: 0.9782 - val_loss: 0.0531 - val_accuracy: 0.9780\n",
      "Epoch 25/100\n",
      "25743/25743 [==============================] - 121s 5ms/step - loss: 0.0534 - accuracy: 0.9782 - val_loss: 0.0531 - val_accuracy: 0.9783\n",
      "Epoch 26/100\n",
      "25743/25743 [==============================] - 122s 5ms/step - loss: 0.0534 - accuracy: 0.9783 - val_loss: 0.0526 - val_accuracy: 0.9785\n",
      "Epoch 27/100\n",
      "25743/25743 [==============================] - 122s 5ms/step - loss: 0.0531 - accuracy: 0.9783 - val_loss: 0.0517 - val_accuracy: 0.9787\n",
      "Epoch 28/100\n",
      "25743/25743 [==============================] - 126s 5ms/step - loss: 0.0530 - accuracy: 0.9784 - val_loss: 0.0514 - val_accuracy: 0.9791\n",
      "Epoch 29/100\n",
      "25743/25743 [==============================] - 124s 5ms/step - loss: 0.0529 - accuracy: 0.9784 - val_loss: 0.0519 - val_accuracy: 0.9787\n",
      "Epoch 30/100\n",
      "25743/25743 [==============================] - 123s 5ms/step - loss: 0.0527 - accuracy: 0.9785 - val_loss: 0.0510 - val_accuracy: 0.9789\n",
      "Epoch 31/100\n",
      "25743/25743 [==============================] - 121s 5ms/step - loss: 0.0525 - accuracy: 0.9785 - val_loss: 0.0523 - val_accuracy: 0.9781\n",
      "Epoch 32/100\n",
      "25743/25743 [==============================] - 120s 5ms/step - loss: 0.0524 - accuracy: 0.9786 - val_loss: 0.0516 - val_accuracy: 0.9788\n",
      "Epoch 33/100\n",
      "25743/25743 [==============================] - 121s 5ms/step - loss: 0.0522 - accuracy: 0.9787 - val_loss: 0.0505 - val_accuracy: 0.9793\n",
      "Epoch 34/100\n",
      "25743/25743 [==============================] - 119s 5ms/step - loss: 0.0521 - accuracy: 0.9787 - val_loss: 0.0508 - val_accuracy: 0.9791\n",
      "Epoch 35/100\n",
      "25743/25743 [==============================] - 121s 5ms/step - loss: 0.0519 - accuracy: 0.9788 - val_loss: 0.0508 - val_accuracy: 0.9790\n",
      "Epoch 36/100\n",
      "25743/25743 [==============================] - 120s 5ms/step - loss: 0.0518 - accuracy: 0.9787 - val_loss: 0.0503 - val_accuracy: 0.9791\n",
      "Epoch 37/100\n",
      "25743/25743 [==============================] - 121s 5ms/step - loss: 0.0516 - accuracy: 0.9789 - val_loss: 0.0502 - val_accuracy: 0.9792\n",
      "Epoch 38/100\n",
      "25743/25743 [==============================] - 130s 5ms/step - loss: 0.0516 - accuracy: 0.9789 - val_loss: 0.0503 - val_accuracy: 0.9793\n"
     ]
    },
    {
     "data": {
      "text/plain": "<tensorflow.python.keras.callbacks.History at 0x2bc8b92a3d0>"
     },
     "execution_count": 27,
     "metadata": {},
     "output_type": "execute_result"
    }
   ],
   "source": [
    "from tensorflow.python.keras.layers import Activation\n",
    "from keras.optimizers import SGD\n",
    "from keras.models import Sequential\n",
    "from keras.layers import Dense\n",
    "from keras.layers.advanced_activations import PReLU\n",
    "from keras.layers import Dropout\n",
    "from keras.callbacks import EarlyStopping\n",
    "act11 = PReLU(alpha_initializer='zeros', weights=None)\n",
    "model11 = Sequential()\n",
    "# define the NN architecture and activation function\n",
    "\n",
    "model11.add(Dense(496, input_dim=42, activation=Activation(act11)))\n",
    "model11.add(Dropout(0.1))\n",
    "model11.add(Dense(248, activation='relu'))\n",
    "model11.add(Dropout(0.1))\n",
    "model11.add(Dense(124, activation='relu'))\n",
    "model11.add(Dropout(0.1))\n",
    "model11.add(Dense(62, activation='relu'))\n",
    "model11.add(Dropout(0.1))\n",
    "model11.add(Dense(10))\n",
    "model11.add(Activation('softmax'))\n",
    "\n",
    "sgd =SGD(lr=0.01, decay=1e-6, momentum=0.9, nesterov=True)\n",
    "model11.compile(loss='sparse_categorical_crossentropy', optimizer=sgd, metrics= ['accuracy'])\n",
    "es = EarlyStopping(monitor='val_accuracy', mode='max', min_delta=0.0001,patience=5) ## early stopping\n",
    "model11.fit(X_train_mul_full, Y_train_mul_full, validation_data=(X_test_mul_full, Y_test_mul_full), epochs=100, batch_size=64, callbacks=[es])"
   ],
   "metadata": {
    "collapsed": false,
    "pycharm": {
     "name": "#%%\n"
    }
   }
  },
  {
   "cell_type": "code",
   "execution_count": 28,
   "outputs": [
    {
     "name": "stdout",
     "output_type": "stream",
     "text": [
      "WARNING:tensorflow:From C:\\Users\\Jovana\\AppData\\Local\\Temp/ipykernel_22572/2404175136.py:4: Sequential.predict_classes (from tensorflow.python.keras.engine.sequential) is deprecated and will be removed after 2021-01-01.\n",
      "Instructions for updating:\n",
      "Please use instead:* `np.argmax(model.predict(x), axis=-1)`,   if your model does multi-class classification   (e.g. if it uses a `softmax` last-layer activation).* `(model.predict(x) > 0.5).astype(\"int32\")`,   if your model does binary classification   (e.g. if it uses a `sigmoid` last-layer activation).\n",
      "[[     3      0      4     14    320      0     75      8      0      0]\n",
      " [     0      3      5     19    308      3     19     50      0      0]\n",
      " [     0      3     53    455    379     59     74     77      9      0]\n",
      " [     0      1     21   4302    487     98    270    426     19      0]\n",
      " [     0      0      3     85   2006     30   1982    151     17      0]\n",
      " [     1      0      8    373    356   4275     41     45      4      0]\n",
      " [     0      0      5    239    877     32 390420    224     13      0]\n",
      " [     0      0      4     80    329      7    133   2220      0      0]\n",
      " [     0      0      0     30     16      4     43    146     86      0]\n",
      " [     0      0      0     19      5      7      2      0      2      0]]\n"
     ]
    }
   ],
   "source": [
    "from sklearn.metrics import confusion_matrix\n",
    "\n",
    "# confusion matrix\n",
    "y_pred11 = model11.predict_classes(X_test_mul_full)\n",
    "confusionmatrix11 = confusion_matrix(Y_test_mul_full, y_pred11)\n",
    "print(confusionmatrix11)"
   ],
   "metadata": {
    "collapsed": false,
    "pycharm": {
     "name": "#%%\n"
    }
   }
  },
  {
   "cell_type": "code",
   "execution_count": 29,
   "outputs": [
    {
     "name": "stdout",
     "output_type": "stream",
     "text": [
      "                 precision    recall  f1-score   support\n",
      "\n",
      "       Analysis       0.75      0.01      0.01       424\n",
      "       Backdoor       0.43      0.01      0.01       407\n",
      "            DoS       0.51      0.05      0.09      1109\n",
      "       Exploits       0.77      0.76      0.77      5624\n",
      "        Fuzzers       0.39      0.47      0.43      4274\n",
      "        Generic       0.95      0.84      0.89      5103\n",
      "         Normal       0.99      1.00      0.99    391810\n",
      "Recconnaissanse       0.66      0.80      0.73      2773\n",
      "      Shellcode       0.57      0.26      0.36       325\n",
      "          Worms       0.00      0.00      0.00        35\n",
      "\n",
      "       accuracy                           0.98    411884\n",
      "      macro avg       0.60      0.42      0.43    411884\n",
      "   weighted avg       0.98      0.98      0.98    411884\n",
      "\n"
     ]
    }
   ],
   "source": [
    "from sklearn.metrics import classification_report, multilabel_confusion_matrix\n",
    "target_names=['Analysis','Backdoor','DoS','Exploits','Fuzzers','Generic','Normal','Recconnaissanse','Shellcode','Worms']\n",
    "print(classification_report(Y_test_mul_full, y_pred11, target_names=target_names))"
   ],
   "metadata": {
    "collapsed": false,
    "pycharm": {
     "name": "#%%\n"
    }
   }
  },
  {
   "cell_type": "code",
   "execution_count": 32,
   "outputs": [
    {
     "name": "stdout",
     "output_type": "stream",
     "text": [
      "[[[411459      1]\n",
      "  [   421      3]]\n",
      "\n",
      " [[411473      4]\n",
      "  [   404      3]]\n",
      "\n",
      " [[410725     50]\n",
      "  [  1056     53]]\n",
      "\n",
      " [[404946   1314]\n",
      "  [  1322   4302]]\n",
      "\n",
      " [[404533   3077]\n",
      "  [  2268   2006]]\n",
      "\n",
      " [[406541    240]\n",
      "  [   828   4275]]\n",
      "\n",
      " [[ 17435   2639]\n",
      "  [  1390 390420]]\n",
      "\n",
      " [[407984   1127]\n",
      "  [   553   2220]]\n",
      "\n",
      " [[411495     64]\n",
      "  [   239     86]]\n",
      "\n",
      " [[411849      0]\n",
      "  [    35      0]]]\n"
     ]
    }
   ],
   "source": [
    "from sklearn.metrics import multilabel_confusion_matrix\n",
    "multilabel_matrix = multilabel_confusion_matrix(Y_test_mul_full, y_pred11)\n",
    "print(multilabel_matrix)"
   ],
   "metadata": {
    "collapsed": false,
    "pycharm": {
     "name": "#%%\n"
    }
   }
  },
  {
   "cell_type": "code",
   "execution_count": 34,
   "outputs": [
    {
     "data": {
      "text/plain": "array([9.35567291e+01, 1.04472670e+02, 3.61618525e+01, 7.49696942e+00,\n       9.40319616e+00, 8.12593835e+00, 1.05074868e-01, 1.55662698e+01,\n       1.38915177e+02, 1.21142206e+03])"
     },
     "execution_count": 34,
     "metadata": {},
     "output_type": "execute_result"
    }
   ],
   "source": [
    "from sklearn.utils import compute_class_weight\n",
    "weights_multi=compute_class_weight('balanced',[0,1,2,3,4,5,6,7,8,9], Y_train_mul_full)\n",
    "weights_multi"
   ],
   "metadata": {
    "collapsed": false,
    "pycharm": {
     "name": "#%%\n"
    }
   }
  },
  {
   "cell_type": "code",
   "execution_count": 41,
   "outputs": [
    {
     "name": "stdout",
     "output_type": "stream",
     "text": [
      "Epoch 1/100\n",
      "25743/25743 [==============================] - 81s 3ms/step - loss: 0.2623 - accuracy: 0.9681 - val_loss: 0.0717 - val_accuracy: 0.9704\n",
      "Epoch 2/100\n",
      "25743/25743 [==============================] - 85s 3ms/step - loss: 0.2378 - accuracy: 0.9697 - val_loss: 0.0709 - val_accuracy: 0.9705\n",
      "Epoch 3/100\n",
      "25743/25743 [==============================] - 86s 3ms/step - loss: 0.2305 - accuracy: 0.9704 - val_loss: 0.0694 - val_accuracy: 0.9716\n",
      "Epoch 4/100\n",
      "25743/25743 [==============================] - 82s 3ms/step - loss: 0.2252 - accuracy: 0.9708 - val_loss: 0.0658 - val_accuracy: 0.9717\n",
      "Epoch 5/100\n",
      "25743/25743 [==============================] - 81s 3ms/step - loss: 0.2220 - accuracy: 0.9710 - val_loss: 0.0672 - val_accuracy: 0.9721\n",
      "Epoch 6/100\n",
      "25743/25743 [==============================] - 82s 3ms/step - loss: 0.2195 - accuracy: 0.9712 - val_loss: 0.0650 - val_accuracy: 0.9722\n",
      "Epoch 7/100\n",
      "25743/25743 [==============================] - 82s 3ms/step - loss: 0.2171 - accuracy: 0.9714 - val_loss: 0.0657 - val_accuracy: 0.9717\n",
      "Epoch 8/100\n",
      "25743/25743 [==============================] - 82s 3ms/step - loss: 0.2152 - accuracy: 0.9715 - val_loss: 0.0663 - val_accuracy: 0.9726\n",
      "Epoch 9/100\n",
      "25743/25743 [==============================] - 81s 3ms/step - loss: 0.2127 - accuracy: 0.9719 - val_loss: 0.0613 - val_accuracy: 0.9726\n",
      "Epoch 10/100\n",
      "25743/25743 [==============================] - 81s 3ms/step - loss: 0.2119 - accuracy: 0.9718 - val_loss: 0.0639 - val_accuracy: 0.9724\n",
      "Epoch 11/100\n",
      "25743/25743 [==============================] - 89s 3ms/step - loss: 0.2102 - accuracy: 0.9720 - val_loss: 0.0628 - val_accuracy: 0.9721\n",
      "Epoch 12/100\n",
      "25743/25743 [==============================] - 127s 5ms/step - loss: 0.2095 - accuracy: 0.9721 - val_loss: 0.0659 - val_accuracy: 0.9727\n",
      "Epoch 13/100\n",
      "25743/25743 [==============================] - 133s 5ms/step - loss: 0.2073 - accuracy: 0.9722 - val_loss: 0.0624 - val_accuracy: 0.9729\n",
      "Epoch 14/100\n",
      "25743/25743 [==============================] - 129s 5ms/step - loss: 0.2077 - accuracy: 0.9722 - val_loss: 0.0653 - val_accuracy: 0.9724\n",
      "Epoch 15/100\n",
      "25743/25743 [==============================] - 132s 5ms/step - loss: 0.2054 - accuracy: 0.9723 - val_loss: 0.0615 - val_accuracy: 0.9736\n",
      "Epoch 16/100\n",
      "25743/25743 [==============================] - 127s 5ms/step - loss: 0.2055 - accuracy: 0.9722 - val_loss: 0.0664 - val_accuracy: 0.9710\n",
      "Epoch 17/100\n",
      "25743/25743 [==============================] - 129s 5ms/step - loss: 0.2039 - accuracy: 0.9725 - val_loss: 0.0631 - val_accuracy: 0.9727\n",
      "Epoch 18/100\n",
      "25743/25743 [==============================] - 122s 5ms/step - loss: 0.2026 - accuracy: 0.9725 - val_loss: 0.0684 - val_accuracy: 0.9709\n",
      "Epoch 19/100\n",
      "25743/25743 [==============================] - 123s 5ms/step - loss: 0.2025 - accuracy: 0.9725 - val_loss: 0.0600 - val_accuracy: 0.9735\n",
      "Epoch 20/100\n",
      "25743/25743 [==============================] - 124s 5ms/step - loss: 0.2017 - accuracy: 0.9725 - val_loss: 0.0627 - val_accuracy: 0.9735\n"
     ]
    },
    {
     "data": {
      "text/plain": "<tensorflow.python.keras.callbacks.History at 0x2bccd4cb400>"
     },
     "execution_count": 41,
     "metadata": {},
     "output_type": "execute_result"
    }
   ],
   "source": [
    "act12 = PReLU(alpha_initializer='zeros', weights=None)\n",
    "model12 = Sequential()\n",
    "# define the NN architecture and activation function\n",
    "\n",
    "model12.add(Dense(496, input_dim=42, activation=Activation(act12)))\n",
    "model12.add(Dropout(0.1))\n",
    "model12.add(Dense(248, activation='relu'))\n",
    "model12.add(Dropout(0.1))\n",
    "model12.add(Dense(124, activation='relu'))\n",
    "model12.add(Dropout(0.1))\n",
    "model12.add(Dense(62, activation='relu'))\n",
    "model12.add(Dropout(0.1))\n",
    "model12.add(Dense(10))\n",
    "model12.add(Activation('softmax'))\n",
    "\n",
    "sgd =SGD(lr=0.01, decay=1e-6, momentum=0.9, nesterov=True)\n",
    "model12.compile(loss='sparse_categorical_crossentropy', optimizer=sgd, metrics= ['accuracy'])\n",
    "es = EarlyStopping(monitor='val_accuracy', mode='max', min_delta=0.0001,patience=5) ## early stopping\n",
    "model12.fit(X_train_mul_full, Y_train_mul_full, validation_data=(X_test_mul_full, Y_test_mul_full), epochs=100, batch_size=64, callbacks=[es], class_weight={0:9,1:10,2:5,3:3,4:3.5,5:3,6:1,7:4,8:15,9:20})"
   ],
   "metadata": {
    "collapsed": false,
    "pycharm": {
     "name": "#%%\n"
    }
   }
  },
  {
   "cell_type": "code",
   "execution_count": 42,
   "outputs": [
    {
     "name": "stdout",
     "output_type": "stream",
     "text": [
      "[[    23    330      4     24      0      0     43      0      0      0]\n",
      " [     0    333      1     14     12      1      0     41      4      1]\n",
      " [     2    378    112    438     48     23      5     73     29      1]\n",
      " [     8    401     68   4301    214     67     40    402    109     14]\n",
      " [     1    385      8    239   3171     40     29    330     71      0]\n",
      " [     2    329     80    368     57   4183      1     49     23     11]\n",
      " [   111     12     23    532   3913     38 386497    583    100      1]\n",
      " [     1    344      4     73     93      5      1   2232     20      0]\n",
      " [     0      0      0     21     25      5      0    150    124      0]\n",
      " [     0      0      0     25      1      0      0      0      2      7]]\n"
     ]
    }
   ],
   "source": [
    "y_pred12 = model12.predict_classes(X_test_mul_full)\n",
    "confusionmatrix12 = confusion_matrix(Y_test_mul_full, y_pred12)\n",
    "print(confusionmatrix12)"
   ],
   "metadata": {
    "collapsed": false,
    "pycharm": {
     "name": "#%%\n"
    }
   }
  },
  {
   "cell_type": "markdown",
   "source": [],
   "metadata": {
    "collapsed": false
   }
  },
  {
   "cell_type": "code",
   "execution_count": 43,
   "outputs": [
    {
     "name": "stdout",
     "output_type": "stream",
     "text": [
      "                 precision    recall  f1-score   support\n",
      "\n",
      "       Analysis       0.16      0.05      0.08       424\n",
      "       Backdoor       0.13      0.82      0.23       407\n",
      "            DoS       0.37      0.10      0.16      1109\n",
      "       Exploits       0.71      0.76      0.74      5624\n",
      "        Fuzzers       0.42      0.74      0.54      4274\n",
      "        Generic       0.96      0.82      0.88      5103\n",
      "         Normal       1.00      0.99      0.99    391810\n",
      "Recconnaissanse       0.58      0.80      0.67      2773\n",
      "      Shellcode       0.26      0.38      0.31       325\n",
      "          Worms       0.20      0.20      0.20        35\n",
      "\n",
      "       accuracy                           0.97    411884\n",
      "      macro avg       0.48      0.57      0.48    411884\n",
      "   weighted avg       0.98      0.97      0.98    411884\n",
      "\n"
     ]
    }
   ],
   "source": [
    "print(classification_report(Y_test_mul_full, y_pred12, target_names=target_names))"
   ],
   "metadata": {
    "collapsed": false,
    "pycharm": {
     "name": "#%%\n"
    }
   }
  },
  {
   "cell_type": "code",
   "execution_count": null,
   "outputs": [],
   "source": [],
   "metadata": {
    "collapsed": false,
    "pycharm": {
     "name": "#%%\n"
    }
   }
  }
 ],
 "metadata": {
  "kernelspec": {
   "display_name": "Python 3",
   "language": "python",
   "name": "python3"
  },
  "language_info": {
   "codemirror_mode": {
    "name": "ipython",
    "version": 2
   },
   "file_extension": ".py",
   "mimetype": "text/x-python",
   "name": "python",
   "nbconvert_exporter": "python",
   "pygments_lexer": "ipython2",
   "version": "2.7.6"
  }
 },
 "nbformat": 4,
 "nbformat_minor": 0
}