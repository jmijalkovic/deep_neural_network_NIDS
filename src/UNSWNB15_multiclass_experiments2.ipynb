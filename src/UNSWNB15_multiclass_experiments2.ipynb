{
 "cells": [
  {
   "cell_type": "code",
   "execution_count": 1,
   "metadata": {
    "collapsed": true
   },
   "outputs": [
    {
     "data": {
      "text/plain": "         Unnamed: 0         srcip  sport           dstip dsport proto state  \\\n0                 0    59.166.0.0  33661   149.171.126.9   1024   udp   CON   \n1                 1    59.166.0.6   1464   149.171.126.7     53   udp   CON   \n2                 2    59.166.0.5   3593   149.171.126.5     53   udp   CON   \n3                 3    59.166.0.3  49664   149.171.126.0     53   udp   CON   \n4                 4    59.166.0.0  32119   149.171.126.9    111   udp   CON   \n...             ...           ...    ...             ...    ...   ...   ...   \n2540038      440038    59.166.0.5  33094   149.171.126.7  43433   tcp   FIN   \n2540039      440039    59.166.0.7  20848   149.171.126.4     21   tcp   CON   \n2540040      440040    59.166.0.3  21511   149.171.126.9     21   tcp   CON   \n2540041      440041    59.166.0.9  35433   149.171.126.0     80   tcp   CON   \n2540042      440042  175.45.176.0  17293  149.171.126.17    110   tcp   CON   \n\n              dur  sbytes  dbytes  sttl  dttl  sloss  dloss   service  \\\n0        0.036133     528     304    31    29      0      0         -   \n1        0.001119     146     178    31    29      0      0       dns   \n2        0.001209     132     164    31    29      0      0       dns   \n3        0.001169     146     178    31    29      0      0       dns   \n4        0.078339     568     312    31    29      0      0         -   \n...           ...     ...     ...   ...   ...    ...    ...       ...   \n2540038  0.087306     320    1828    31    29      1      2  ftp-data   \n2540039  0.365058     456     346    31    29      2      2       ftp   \n2540040  6.335154    1802    2088    31    29      7      9       ftp   \n2540041  2.200934    3498  166054    31    29      2     57      http   \n2540042  0.942984     574     676    62   252      5      6      pop3   \n\n                 Sload          Dload  Spkts  Dpkts  swin  dwin       stcpb  \\\n0         87676.085940   50480.171880      4      4     0     0           0   \n1        521894.531300  636282.375000      2      2     0     0           0   \n2        436724.562500  542597.187500      2      2     0     0           0   \n3        499572.250000  609067.562500      2      2     0     0           0   \n4         43503.234380   23896.142580      4      4     0     0           0   \n...                ...            ...    ...    ...   ...   ...         ...   \n2540038   24465.671880  146610.765600      6      8   255   255  4035116044   \n2540039    8743.816406    6333.240234      8      6   255   255  1529727621   \n2540040    2204.839844    2549.582764     32     30   255   255   497208793   \n2540041   12496.513670  598375.062500     58    116   255   255  1289728069   \n2540042    4470.913574    5259.898438     12     12   255   255  3026824982   \n\n              dtcpb  smeansz  dmeansz  trans_depth  res_bdy_len          Sjit  \\\n0                 0      132       76            0            0      9.891010   \n1                 0       73       89            0            0      0.000000   \n2                 0       66       82            0            0      0.000000   \n3                 0       73       89            0            0      0.000000   \n4                 0      142       78            0            0     29.682221   \n...             ...      ...      ...          ...          ...           ...   \n2540038   222196311       53      229            0            0   1221.136547   \n2540039   185369967       57       58            0            0   3961.093354   \n2540040   889904111       56       70            0            0  13233.728560   \n2540041  3436097151       60     1432            1        79745   2868.893137   \n2540042  3748412468       48       56            0            0   3903.523582   \n\n                Djit       Stime       Ltime     Sintpkt     Dintpkt  \\\n0          10.682733  1421927414  1421927414    7.005000    7.564333   \n1           0.000000  1421927414  1421927414    0.017000    0.013000   \n2           0.000000  1421927414  1421927414    0.043000    0.014000   \n3           0.000000  1421927414  1421927414    0.005000    0.003000   \n4          34.370340  1421927414  1421927414   21.003000   24.315000   \n...              ...         ...         ...         ...         ...   \n2540038    30.096029  1424262068  1424262069   17.394400   12.405143   \n2540039   129.038367  1424262068  1424262069   51.976999   72.915602   \n2540040   379.052750  1424262062  1424262069  204.359814  214.372375   \n2540041  1951.035944  1424262067  1424262069   38.609700   19.133826   \n2540042    95.650531  1424262068  1424262069   79.714089   80.827180   \n\n           tcprtt    synack    ackdat  is_sm_ips_ports  ct_state_ttl  \\\n0        0.000000  0.000000  0.000000                0             0   \n1        0.000000  0.000000  0.000000                0             0   \n2        0.000000  0.000000  0.000000                0             0   \n3        0.000000  0.000000  0.000000                0             0   \n4        0.000000  0.000000  0.000000                0             0   \n...           ...       ...       ...              ...           ...   \n2540038  0.000608  0.000468  0.000140                0             0   \n2540039  0.000609  0.000477  0.000132                0             0   \n2540040  0.000617  0.000485  0.000132                0             0   \n2540041  0.000680  0.000541  0.000139                0             0   \n2540042  0.139446  0.053884  0.085562                0             3   \n\n         ct_flw_http_mthd  is_ftp_login ct_ftp_cmd  ct_srv_src  ct_srv_dst  \\\n0                     0.0           0.0          0           2           4   \n1                     0.0           0.0          0          12           8   \n2                     0.0           0.0          0           6           9   \n3                     0.0           0.0          0           7           9   \n4                     0.0           0.0          0           2           4   \n...                   ...           ...        ...         ...         ...   \n2540038               NaN           NaN                      1           2   \n2540039               NaN           2.0          2           2           2   \n2540040               NaN           2.0          2           2           2   \n2540041               2.0           NaN                      1           1   \n2540042               NaN           NaN                      1           1   \n\n         ct_dst_ltm  ct_src_ ltm  ct_src_dport_ltm  ct_dst_sport_ltm  \\\n0                 2            3                 1                 1   \n1                 1            2                 2                 1   \n2                 1            1                 1                 1   \n3                 1            1                 1                 1   \n4                 2            3                 1                 1   \n...             ...          ...               ...               ...   \n2540038           3            3                 1                 1   \n2540039           2            2                 2                 2   \n2540040           4            2                 2                 2   \n2540041           2            4                 2                 2   \n2540042           2            4                 2                 2   \n\n         ct_dst_src_ltm attack_cat  label  \n0                     2        NaN      0  \n1                     1        NaN      0  \n2                     1        NaN      0  \n3                     1        NaN      0  \n4                     2        NaN      0  \n...                 ...        ...    ...  \n2540038               3        NaN      0  \n2540039               2        NaN      0  \n2540040               2        NaN      0  \n2540041               2        NaN      0  \n2540042               2   Exploits      1  \n\n[2540043 rows x 50 columns]",
      "text/html": "<div>\n<style scoped>\n    .dataframe tbody tr th:only-of-type {\n        vertical-align: middle;\n    }\n\n    .dataframe tbody tr th {\n        vertical-align: top;\n    }\n\n    .dataframe thead th {\n        text-align: right;\n    }\n</style>\n<table border=\"1\" class=\"dataframe\">\n  <thead>\n    <tr style=\"text-align: right;\">\n      <th></th>\n      <th>Unnamed: 0</th>\n      <th>srcip</th>\n      <th>sport</th>\n      <th>dstip</th>\n      <th>dsport</th>\n      <th>proto</th>\n      <th>state</th>\n      <th>dur</th>\n      <th>sbytes</th>\n      <th>dbytes</th>\n      <th>sttl</th>\n      <th>dttl</th>\n      <th>sloss</th>\n      <th>dloss</th>\n      <th>service</th>\n      <th>Sload</th>\n      <th>Dload</th>\n      <th>Spkts</th>\n      <th>Dpkts</th>\n      <th>swin</th>\n      <th>dwin</th>\n      <th>stcpb</th>\n      <th>dtcpb</th>\n      <th>smeansz</th>\n      <th>dmeansz</th>\n      <th>trans_depth</th>\n      <th>res_bdy_len</th>\n      <th>Sjit</th>\n      <th>Djit</th>\n      <th>Stime</th>\n      <th>Ltime</th>\n      <th>Sintpkt</th>\n      <th>Dintpkt</th>\n      <th>tcprtt</th>\n      <th>synack</th>\n      <th>ackdat</th>\n      <th>is_sm_ips_ports</th>\n      <th>ct_state_ttl</th>\n      <th>ct_flw_http_mthd</th>\n      <th>is_ftp_login</th>\n      <th>ct_ftp_cmd</th>\n      <th>ct_srv_src</th>\n      <th>ct_srv_dst</th>\n      <th>ct_dst_ltm</th>\n      <th>ct_src_ ltm</th>\n      <th>ct_src_dport_ltm</th>\n      <th>ct_dst_sport_ltm</th>\n      <th>ct_dst_src_ltm</th>\n      <th>attack_cat</th>\n      <th>label</th>\n    </tr>\n  </thead>\n  <tbody>\n    <tr>\n      <th>0</th>\n      <td>0</td>\n      <td>59.166.0.0</td>\n      <td>33661</td>\n      <td>149.171.126.9</td>\n      <td>1024</td>\n      <td>udp</td>\n      <td>CON</td>\n      <td>0.036133</td>\n      <td>528</td>\n      <td>304</td>\n      <td>31</td>\n      <td>29</td>\n      <td>0</td>\n      <td>0</td>\n      <td>-</td>\n      <td>87676.085940</td>\n      <td>50480.171880</td>\n      <td>4</td>\n      <td>4</td>\n      <td>0</td>\n      <td>0</td>\n      <td>0</td>\n      <td>0</td>\n      <td>132</td>\n      <td>76</td>\n      <td>0</td>\n      <td>0</td>\n      <td>9.891010</td>\n      <td>10.682733</td>\n      <td>1421927414</td>\n      <td>1421927414</td>\n      <td>7.005000</td>\n      <td>7.564333</td>\n      <td>0.000000</td>\n      <td>0.000000</td>\n      <td>0.000000</td>\n      <td>0</td>\n      <td>0</td>\n      <td>0.0</td>\n      <td>0.0</td>\n      <td>0</td>\n      <td>2</td>\n      <td>4</td>\n      <td>2</td>\n      <td>3</td>\n      <td>1</td>\n      <td>1</td>\n      <td>2</td>\n      <td>NaN</td>\n      <td>0</td>\n    </tr>\n    <tr>\n      <th>1</th>\n      <td>1</td>\n      <td>59.166.0.6</td>\n      <td>1464</td>\n      <td>149.171.126.7</td>\n      <td>53</td>\n      <td>udp</td>\n      <td>CON</td>\n      <td>0.001119</td>\n      <td>146</td>\n      <td>178</td>\n      <td>31</td>\n      <td>29</td>\n      <td>0</td>\n      <td>0</td>\n      <td>dns</td>\n      <td>521894.531300</td>\n      <td>636282.375000</td>\n      <td>2</td>\n      <td>2</td>\n      <td>0</td>\n      <td>0</td>\n      <td>0</td>\n      <td>0</td>\n      <td>73</td>\n      <td>89</td>\n      <td>0</td>\n      <td>0</td>\n      <td>0.000000</td>\n      <td>0.000000</td>\n      <td>1421927414</td>\n      <td>1421927414</td>\n      <td>0.017000</td>\n      <td>0.013000</td>\n      <td>0.000000</td>\n      <td>0.000000</td>\n      <td>0.000000</td>\n      <td>0</td>\n      <td>0</td>\n      <td>0.0</td>\n      <td>0.0</td>\n      <td>0</td>\n      <td>12</td>\n      <td>8</td>\n      <td>1</td>\n      <td>2</td>\n      <td>2</td>\n      <td>1</td>\n      <td>1</td>\n      <td>NaN</td>\n      <td>0</td>\n    </tr>\n    <tr>\n      <th>2</th>\n      <td>2</td>\n      <td>59.166.0.5</td>\n      <td>3593</td>\n      <td>149.171.126.5</td>\n      <td>53</td>\n      <td>udp</td>\n      <td>CON</td>\n      <td>0.001209</td>\n      <td>132</td>\n      <td>164</td>\n      <td>31</td>\n      <td>29</td>\n      <td>0</td>\n      <td>0</td>\n      <td>dns</td>\n      <td>436724.562500</td>\n      <td>542597.187500</td>\n      <td>2</td>\n      <td>2</td>\n      <td>0</td>\n      <td>0</td>\n      <td>0</td>\n      <td>0</td>\n      <td>66</td>\n      <td>82</td>\n      <td>0</td>\n      <td>0</td>\n      <td>0.000000</td>\n      <td>0.000000</td>\n      <td>1421927414</td>\n      <td>1421927414</td>\n      <td>0.043000</td>\n      <td>0.014000</td>\n      <td>0.000000</td>\n      <td>0.000000</td>\n      <td>0.000000</td>\n      <td>0</td>\n      <td>0</td>\n      <td>0.0</td>\n      <td>0.0</td>\n      <td>0</td>\n      <td>6</td>\n      <td>9</td>\n      <td>1</td>\n      <td>1</td>\n      <td>1</td>\n      <td>1</td>\n      <td>1</td>\n      <td>NaN</td>\n      <td>0</td>\n    </tr>\n    <tr>\n      <th>3</th>\n      <td>3</td>\n      <td>59.166.0.3</td>\n      <td>49664</td>\n      <td>149.171.126.0</td>\n      <td>53</td>\n      <td>udp</td>\n      <td>CON</td>\n      <td>0.001169</td>\n      <td>146</td>\n      <td>178</td>\n      <td>31</td>\n      <td>29</td>\n      <td>0</td>\n      <td>0</td>\n      <td>dns</td>\n      <td>499572.250000</td>\n      <td>609067.562500</td>\n      <td>2</td>\n      <td>2</td>\n      <td>0</td>\n      <td>0</td>\n      <td>0</td>\n      <td>0</td>\n      <td>73</td>\n      <td>89</td>\n      <td>0</td>\n      <td>0</td>\n      <td>0.000000</td>\n      <td>0.000000</td>\n      <td>1421927414</td>\n      <td>1421927414</td>\n      <td>0.005000</td>\n      <td>0.003000</td>\n      <td>0.000000</td>\n      <td>0.000000</td>\n      <td>0.000000</td>\n      <td>0</td>\n      <td>0</td>\n      <td>0.0</td>\n      <td>0.0</td>\n      <td>0</td>\n      <td>7</td>\n      <td>9</td>\n      <td>1</td>\n      <td>1</td>\n      <td>1</td>\n      <td>1</td>\n      <td>1</td>\n      <td>NaN</td>\n      <td>0</td>\n    </tr>\n    <tr>\n      <th>4</th>\n      <td>4</td>\n      <td>59.166.0.0</td>\n      <td>32119</td>\n      <td>149.171.126.9</td>\n      <td>111</td>\n      <td>udp</td>\n      <td>CON</td>\n      <td>0.078339</td>\n      <td>568</td>\n      <td>312</td>\n      <td>31</td>\n      <td>29</td>\n      <td>0</td>\n      <td>0</td>\n      <td>-</td>\n      <td>43503.234380</td>\n      <td>23896.142580</td>\n      <td>4</td>\n      <td>4</td>\n      <td>0</td>\n      <td>0</td>\n      <td>0</td>\n      <td>0</td>\n      <td>142</td>\n      <td>78</td>\n      <td>0</td>\n      <td>0</td>\n      <td>29.682221</td>\n      <td>34.370340</td>\n      <td>1421927414</td>\n      <td>1421927414</td>\n      <td>21.003000</td>\n      <td>24.315000</td>\n      <td>0.000000</td>\n      <td>0.000000</td>\n      <td>0.000000</td>\n      <td>0</td>\n      <td>0</td>\n      <td>0.0</td>\n      <td>0.0</td>\n      <td>0</td>\n      <td>2</td>\n      <td>4</td>\n      <td>2</td>\n      <td>3</td>\n      <td>1</td>\n      <td>1</td>\n      <td>2</td>\n      <td>NaN</td>\n      <td>0</td>\n    </tr>\n    <tr>\n      <th>...</th>\n      <td>...</td>\n      <td>...</td>\n      <td>...</td>\n      <td>...</td>\n      <td>...</td>\n      <td>...</td>\n      <td>...</td>\n      <td>...</td>\n      <td>...</td>\n      <td>...</td>\n      <td>...</td>\n      <td>...</td>\n      <td>...</td>\n      <td>...</td>\n      <td>...</td>\n      <td>...</td>\n      <td>...</td>\n      <td>...</td>\n      <td>...</td>\n      <td>...</td>\n      <td>...</td>\n      <td>...</td>\n      <td>...</td>\n      <td>...</td>\n      <td>...</td>\n      <td>...</td>\n      <td>...</td>\n      <td>...</td>\n      <td>...</td>\n      <td>...</td>\n      <td>...</td>\n      <td>...</td>\n      <td>...</td>\n      <td>...</td>\n      <td>...</td>\n      <td>...</td>\n      <td>...</td>\n      <td>...</td>\n      <td>...</td>\n      <td>...</td>\n      <td>...</td>\n      <td>...</td>\n      <td>...</td>\n      <td>...</td>\n      <td>...</td>\n      <td>...</td>\n      <td>...</td>\n      <td>...</td>\n      <td>...</td>\n      <td>...</td>\n    </tr>\n    <tr>\n      <th>2540038</th>\n      <td>440038</td>\n      <td>59.166.0.5</td>\n      <td>33094</td>\n      <td>149.171.126.7</td>\n      <td>43433</td>\n      <td>tcp</td>\n      <td>FIN</td>\n      <td>0.087306</td>\n      <td>320</td>\n      <td>1828</td>\n      <td>31</td>\n      <td>29</td>\n      <td>1</td>\n      <td>2</td>\n      <td>ftp-data</td>\n      <td>24465.671880</td>\n      <td>146610.765600</td>\n      <td>6</td>\n      <td>8</td>\n      <td>255</td>\n      <td>255</td>\n      <td>4035116044</td>\n      <td>222196311</td>\n      <td>53</td>\n      <td>229</td>\n      <td>0</td>\n      <td>0</td>\n      <td>1221.136547</td>\n      <td>30.096029</td>\n      <td>1424262068</td>\n      <td>1424262069</td>\n      <td>17.394400</td>\n      <td>12.405143</td>\n      <td>0.000608</td>\n      <td>0.000468</td>\n      <td>0.000140</td>\n      <td>0</td>\n      <td>0</td>\n      <td>NaN</td>\n      <td>NaN</td>\n      <td></td>\n      <td>1</td>\n      <td>2</td>\n      <td>3</td>\n      <td>3</td>\n      <td>1</td>\n      <td>1</td>\n      <td>3</td>\n      <td>NaN</td>\n      <td>0</td>\n    </tr>\n    <tr>\n      <th>2540039</th>\n      <td>440039</td>\n      <td>59.166.0.7</td>\n      <td>20848</td>\n      <td>149.171.126.4</td>\n      <td>21</td>\n      <td>tcp</td>\n      <td>CON</td>\n      <td>0.365058</td>\n      <td>456</td>\n      <td>346</td>\n      <td>31</td>\n      <td>29</td>\n      <td>2</td>\n      <td>2</td>\n      <td>ftp</td>\n      <td>8743.816406</td>\n      <td>6333.240234</td>\n      <td>8</td>\n      <td>6</td>\n      <td>255</td>\n      <td>255</td>\n      <td>1529727621</td>\n      <td>185369967</td>\n      <td>57</td>\n      <td>58</td>\n      <td>0</td>\n      <td>0</td>\n      <td>3961.093354</td>\n      <td>129.038367</td>\n      <td>1424262068</td>\n      <td>1424262069</td>\n      <td>51.976999</td>\n      <td>72.915602</td>\n      <td>0.000609</td>\n      <td>0.000477</td>\n      <td>0.000132</td>\n      <td>0</td>\n      <td>0</td>\n      <td>NaN</td>\n      <td>2.0</td>\n      <td>2</td>\n      <td>2</td>\n      <td>2</td>\n      <td>2</td>\n      <td>2</td>\n      <td>2</td>\n      <td>2</td>\n      <td>2</td>\n      <td>NaN</td>\n      <td>0</td>\n    </tr>\n    <tr>\n      <th>2540040</th>\n      <td>440040</td>\n      <td>59.166.0.3</td>\n      <td>21511</td>\n      <td>149.171.126.9</td>\n      <td>21</td>\n      <td>tcp</td>\n      <td>CON</td>\n      <td>6.335154</td>\n      <td>1802</td>\n      <td>2088</td>\n      <td>31</td>\n      <td>29</td>\n      <td>7</td>\n      <td>9</td>\n      <td>ftp</td>\n      <td>2204.839844</td>\n      <td>2549.582764</td>\n      <td>32</td>\n      <td>30</td>\n      <td>255</td>\n      <td>255</td>\n      <td>497208793</td>\n      <td>889904111</td>\n      <td>56</td>\n      <td>70</td>\n      <td>0</td>\n      <td>0</td>\n      <td>13233.728560</td>\n      <td>379.052750</td>\n      <td>1424262062</td>\n      <td>1424262069</td>\n      <td>204.359814</td>\n      <td>214.372375</td>\n      <td>0.000617</td>\n      <td>0.000485</td>\n      <td>0.000132</td>\n      <td>0</td>\n      <td>0</td>\n      <td>NaN</td>\n      <td>2.0</td>\n      <td>2</td>\n      <td>2</td>\n      <td>2</td>\n      <td>4</td>\n      <td>2</td>\n      <td>2</td>\n      <td>2</td>\n      <td>2</td>\n      <td>NaN</td>\n      <td>0</td>\n    </tr>\n    <tr>\n      <th>2540041</th>\n      <td>440041</td>\n      <td>59.166.0.9</td>\n      <td>35433</td>\n      <td>149.171.126.0</td>\n      <td>80</td>\n      <td>tcp</td>\n      <td>CON</td>\n      <td>2.200934</td>\n      <td>3498</td>\n      <td>166054</td>\n      <td>31</td>\n      <td>29</td>\n      <td>2</td>\n      <td>57</td>\n      <td>http</td>\n      <td>12496.513670</td>\n      <td>598375.062500</td>\n      <td>58</td>\n      <td>116</td>\n      <td>255</td>\n      <td>255</td>\n      <td>1289728069</td>\n      <td>3436097151</td>\n      <td>60</td>\n      <td>1432</td>\n      <td>1</td>\n      <td>79745</td>\n      <td>2868.893137</td>\n      <td>1951.035944</td>\n      <td>1424262067</td>\n      <td>1424262069</td>\n      <td>38.609700</td>\n      <td>19.133826</td>\n      <td>0.000680</td>\n      <td>0.000541</td>\n      <td>0.000139</td>\n      <td>0</td>\n      <td>0</td>\n      <td>2.0</td>\n      <td>NaN</td>\n      <td></td>\n      <td>1</td>\n      <td>1</td>\n      <td>2</td>\n      <td>4</td>\n      <td>2</td>\n      <td>2</td>\n      <td>2</td>\n      <td>NaN</td>\n      <td>0</td>\n    </tr>\n    <tr>\n      <th>2540042</th>\n      <td>440042</td>\n      <td>175.45.176.0</td>\n      <td>17293</td>\n      <td>149.171.126.17</td>\n      <td>110</td>\n      <td>tcp</td>\n      <td>CON</td>\n      <td>0.942984</td>\n      <td>574</td>\n      <td>676</td>\n      <td>62</td>\n      <td>252</td>\n      <td>5</td>\n      <td>6</td>\n      <td>pop3</td>\n      <td>4470.913574</td>\n      <td>5259.898438</td>\n      <td>12</td>\n      <td>12</td>\n      <td>255</td>\n      <td>255</td>\n      <td>3026824982</td>\n      <td>3748412468</td>\n      <td>48</td>\n      <td>56</td>\n      <td>0</td>\n      <td>0</td>\n      <td>3903.523582</td>\n      <td>95.650531</td>\n      <td>1424262068</td>\n      <td>1424262069</td>\n      <td>79.714089</td>\n      <td>80.827180</td>\n      <td>0.139446</td>\n      <td>0.053884</td>\n      <td>0.085562</td>\n      <td>0</td>\n      <td>3</td>\n      <td>NaN</td>\n      <td>NaN</td>\n      <td></td>\n      <td>1</td>\n      <td>1</td>\n      <td>2</td>\n      <td>4</td>\n      <td>2</td>\n      <td>2</td>\n      <td>2</td>\n      <td>Exploits</td>\n      <td>1</td>\n    </tr>\n  </tbody>\n</table>\n<p>2540043 rows × 50 columns</p>\n</div>"
     },
     "execution_count": 1,
     "metadata": {},
     "output_type": "execute_result"
    }
   ],
   "source": [
    "from pycaret.classification import *\n",
    "import numpy as np\n",
    "import pandas as pd\n",
    "import tensorflow as tf\n",
    "\n",
    "#we will be using a full dataset, so our splitting will be done, and we will have 3 experiments\n",
    "ds_full=pd.read_csv(\"D:\\\\Master Thesis Datasets\\\\UNSW-NB15 Source-Files\\\\UNSW-NB15 - CSV Files\\\\FULL.csv\")\n",
    "ds_full"
   ]
  },
  {
   "cell_type": "code",
   "execution_count": 2,
   "outputs": [
    {
     "data": {
      "text/plain": "                srcip  sport           dstip dsport proto state       dur  \\\n0          59.166.0.0  33661   149.171.126.9   1024   udp   CON  0.036133   \n1          59.166.0.6   1464   149.171.126.7     53   udp   CON  0.001119   \n2          59.166.0.5   3593   149.171.126.5     53   udp   CON  0.001209   \n3          59.166.0.3  49664   149.171.126.0     53   udp   CON  0.001169   \n4          59.166.0.0  32119   149.171.126.9    111   udp   CON  0.078339   \n...               ...    ...             ...    ...   ...   ...       ...   \n2540038    59.166.0.5  33094   149.171.126.7  43433   tcp   FIN  0.087306   \n2540039    59.166.0.7  20848   149.171.126.4     21   tcp   CON  0.365058   \n2540040    59.166.0.3  21511   149.171.126.9     21   tcp   CON  6.335154   \n2540041    59.166.0.9  35433   149.171.126.0     80   tcp   CON  2.200934   \n2540042  175.45.176.0  17293  149.171.126.17    110   tcp   CON  0.942984   \n\n         sbytes  dbytes  sttl  dttl  sloss  dloss   service          Sload  \\\n0           528     304    31    29      0      0         -   87676.085940   \n1           146     178    31    29      0      0       dns  521894.531300   \n2           132     164    31    29      0      0       dns  436724.562500   \n3           146     178    31    29      0      0       dns  499572.250000   \n4           568     312    31    29      0      0         -   43503.234380   \n...         ...     ...   ...   ...    ...    ...       ...            ...   \n2540038     320    1828    31    29      1      2  ftp-data   24465.671880   \n2540039     456     346    31    29      2      2       ftp    8743.816406   \n2540040    1802    2088    31    29      7      9       ftp    2204.839844   \n2540041    3498  166054    31    29      2     57      http   12496.513670   \n2540042     574     676    62   252      5      6      pop3    4470.913574   \n\n                 Dload  Spkts  Dpkts  swin  dwin       stcpb       dtcpb  \\\n0         50480.171880      4      4     0     0           0           0   \n1        636282.375000      2      2     0     0           0           0   \n2        542597.187500      2      2     0     0           0           0   \n3        609067.562500      2      2     0     0           0           0   \n4         23896.142580      4      4     0     0           0           0   \n...                ...    ...    ...   ...   ...         ...         ...   \n2540038  146610.765600      6      8   255   255  4035116044   222196311   \n2540039    6333.240234      8      6   255   255  1529727621   185369967   \n2540040    2549.582764     32     30   255   255   497208793   889904111   \n2540041  598375.062500     58    116   255   255  1289728069  3436097151   \n2540042    5259.898438     12     12   255   255  3026824982  3748412468   \n\n         smeansz  dmeansz  trans_depth  res_bdy_len          Sjit  \\\n0            132       76            0            0      9.891010   \n1             73       89            0            0      0.000000   \n2             66       82            0            0      0.000000   \n3             73       89            0            0      0.000000   \n4            142       78            0            0     29.682221   \n...          ...      ...          ...          ...           ...   \n2540038       53      229            0            0   1221.136547   \n2540039       57       58            0            0   3961.093354   \n2540040       56       70            0            0  13233.728560   \n2540041       60     1432            1        79745   2868.893137   \n2540042       48       56            0            0   3903.523582   \n\n                Djit       Stime       Ltime     Sintpkt     Dintpkt  \\\n0          10.682733  1421927414  1421927414    7.005000    7.564333   \n1           0.000000  1421927414  1421927414    0.017000    0.013000   \n2           0.000000  1421927414  1421927414    0.043000    0.014000   \n3           0.000000  1421927414  1421927414    0.005000    0.003000   \n4          34.370340  1421927414  1421927414   21.003000   24.315000   \n...              ...         ...         ...         ...         ...   \n2540038    30.096029  1424262068  1424262069   17.394400   12.405143   \n2540039   129.038367  1424262068  1424262069   51.976999   72.915602   \n2540040   379.052750  1424262062  1424262069  204.359814  214.372375   \n2540041  1951.035944  1424262067  1424262069   38.609700   19.133826   \n2540042    95.650531  1424262068  1424262069   79.714089   80.827180   \n\n           tcprtt    synack    ackdat  is_sm_ips_ports  ct_state_ttl  \\\n0        0.000000  0.000000  0.000000                0             0   \n1        0.000000  0.000000  0.000000                0             0   \n2        0.000000  0.000000  0.000000                0             0   \n3        0.000000  0.000000  0.000000                0             0   \n4        0.000000  0.000000  0.000000                0             0   \n...           ...       ...       ...              ...           ...   \n2540038  0.000608  0.000468  0.000140                0             0   \n2540039  0.000609  0.000477  0.000132                0             0   \n2540040  0.000617  0.000485  0.000132                0             0   \n2540041  0.000680  0.000541  0.000139                0             0   \n2540042  0.139446  0.053884  0.085562                0             3   \n\n         ct_flw_http_mthd  is_ftp_login ct_ftp_cmd  ct_srv_src  ct_srv_dst  \\\n0                     0.0           0.0          0           2           4   \n1                     0.0           0.0          0          12           8   \n2                     0.0           0.0          0           6           9   \n3                     0.0           0.0          0           7           9   \n4                     0.0           0.0          0           2           4   \n...                   ...           ...        ...         ...         ...   \n2540038               NaN           NaN                      1           2   \n2540039               NaN           2.0          2           2           2   \n2540040               NaN           2.0          2           2           2   \n2540041               2.0           NaN                      1           1   \n2540042               NaN           NaN                      1           1   \n\n         ct_dst_ltm  ct_src_ ltm  ct_src_dport_ltm  ct_dst_sport_ltm  \\\n0                 2            3                 1                 1   \n1                 1            2                 2                 1   \n2                 1            1                 1                 1   \n3                 1            1                 1                 1   \n4                 2            3                 1                 1   \n...             ...          ...               ...               ...   \n2540038           3            3                 1                 1   \n2540039           2            2                 2                 2   \n2540040           4            2                 2                 2   \n2540041           2            4                 2                 2   \n2540042           2            4                 2                 2   \n\n         ct_dst_src_ltm attack_cat  label  \n0                     2        NaN      0  \n1                     1        NaN      0  \n2                     1        NaN      0  \n3                     1        NaN      0  \n4                     2        NaN      0  \n...                 ...        ...    ...  \n2540038               3        NaN      0  \n2540039               2        NaN      0  \n2540040               2        NaN      0  \n2540041               2        NaN      0  \n2540042               2   Exploits      1  \n\n[2540043 rows x 49 columns]",
      "text/html": "<div>\n<style scoped>\n    .dataframe tbody tr th:only-of-type {\n        vertical-align: middle;\n    }\n\n    .dataframe tbody tr th {\n        vertical-align: top;\n    }\n\n    .dataframe thead th {\n        text-align: right;\n    }\n</style>\n<table border=\"1\" class=\"dataframe\">\n  <thead>\n    <tr style=\"text-align: right;\">\n      <th></th>\n      <th>srcip</th>\n      <th>sport</th>\n      <th>dstip</th>\n      <th>dsport</th>\n      <th>proto</th>\n      <th>state</th>\n      <th>dur</th>\n      <th>sbytes</th>\n      <th>dbytes</th>\n      <th>sttl</th>\n      <th>dttl</th>\n      <th>sloss</th>\n      <th>dloss</th>\n      <th>service</th>\n      <th>Sload</th>\n      <th>Dload</th>\n      <th>Spkts</th>\n      <th>Dpkts</th>\n      <th>swin</th>\n      <th>dwin</th>\n      <th>stcpb</th>\n      <th>dtcpb</th>\n      <th>smeansz</th>\n      <th>dmeansz</th>\n      <th>trans_depth</th>\n      <th>res_bdy_len</th>\n      <th>Sjit</th>\n      <th>Djit</th>\n      <th>Stime</th>\n      <th>Ltime</th>\n      <th>Sintpkt</th>\n      <th>Dintpkt</th>\n      <th>tcprtt</th>\n      <th>synack</th>\n      <th>ackdat</th>\n      <th>is_sm_ips_ports</th>\n      <th>ct_state_ttl</th>\n      <th>ct_flw_http_mthd</th>\n      <th>is_ftp_login</th>\n      <th>ct_ftp_cmd</th>\n      <th>ct_srv_src</th>\n      <th>ct_srv_dst</th>\n      <th>ct_dst_ltm</th>\n      <th>ct_src_ ltm</th>\n      <th>ct_src_dport_ltm</th>\n      <th>ct_dst_sport_ltm</th>\n      <th>ct_dst_src_ltm</th>\n      <th>attack_cat</th>\n      <th>label</th>\n    </tr>\n  </thead>\n  <tbody>\n    <tr>\n      <th>0</th>\n      <td>59.166.0.0</td>\n      <td>33661</td>\n      <td>149.171.126.9</td>\n      <td>1024</td>\n      <td>udp</td>\n      <td>CON</td>\n      <td>0.036133</td>\n      <td>528</td>\n      <td>304</td>\n      <td>31</td>\n      <td>29</td>\n      <td>0</td>\n      <td>0</td>\n      <td>-</td>\n      <td>87676.085940</td>\n      <td>50480.171880</td>\n      <td>4</td>\n      <td>4</td>\n      <td>0</td>\n      <td>0</td>\n      <td>0</td>\n      <td>0</td>\n      <td>132</td>\n      <td>76</td>\n      <td>0</td>\n      <td>0</td>\n      <td>9.891010</td>\n      <td>10.682733</td>\n      <td>1421927414</td>\n      <td>1421927414</td>\n      <td>7.005000</td>\n      <td>7.564333</td>\n      <td>0.000000</td>\n      <td>0.000000</td>\n      <td>0.000000</td>\n      <td>0</td>\n      <td>0</td>\n      <td>0.0</td>\n      <td>0.0</td>\n      <td>0</td>\n      <td>2</td>\n      <td>4</td>\n      <td>2</td>\n      <td>3</td>\n      <td>1</td>\n      <td>1</td>\n      <td>2</td>\n      <td>NaN</td>\n      <td>0</td>\n    </tr>\n    <tr>\n      <th>1</th>\n      <td>59.166.0.6</td>\n      <td>1464</td>\n      <td>149.171.126.7</td>\n      <td>53</td>\n      <td>udp</td>\n      <td>CON</td>\n      <td>0.001119</td>\n      <td>146</td>\n      <td>178</td>\n      <td>31</td>\n      <td>29</td>\n      <td>0</td>\n      <td>0</td>\n      <td>dns</td>\n      <td>521894.531300</td>\n      <td>636282.375000</td>\n      <td>2</td>\n      <td>2</td>\n      <td>0</td>\n      <td>0</td>\n      <td>0</td>\n      <td>0</td>\n      <td>73</td>\n      <td>89</td>\n      <td>0</td>\n      <td>0</td>\n      <td>0.000000</td>\n      <td>0.000000</td>\n      <td>1421927414</td>\n      <td>1421927414</td>\n      <td>0.017000</td>\n      <td>0.013000</td>\n      <td>0.000000</td>\n      <td>0.000000</td>\n      <td>0.000000</td>\n      <td>0</td>\n      <td>0</td>\n      <td>0.0</td>\n      <td>0.0</td>\n      <td>0</td>\n      <td>12</td>\n      <td>8</td>\n      <td>1</td>\n      <td>2</td>\n      <td>2</td>\n      <td>1</td>\n      <td>1</td>\n      <td>NaN</td>\n      <td>0</td>\n    </tr>\n    <tr>\n      <th>2</th>\n      <td>59.166.0.5</td>\n      <td>3593</td>\n      <td>149.171.126.5</td>\n      <td>53</td>\n      <td>udp</td>\n      <td>CON</td>\n      <td>0.001209</td>\n      <td>132</td>\n      <td>164</td>\n      <td>31</td>\n      <td>29</td>\n      <td>0</td>\n      <td>0</td>\n      <td>dns</td>\n      <td>436724.562500</td>\n      <td>542597.187500</td>\n      <td>2</td>\n      <td>2</td>\n      <td>0</td>\n      <td>0</td>\n      <td>0</td>\n      <td>0</td>\n      <td>66</td>\n      <td>82</td>\n      <td>0</td>\n      <td>0</td>\n      <td>0.000000</td>\n      <td>0.000000</td>\n      <td>1421927414</td>\n      <td>1421927414</td>\n      <td>0.043000</td>\n      <td>0.014000</td>\n      <td>0.000000</td>\n      <td>0.000000</td>\n      <td>0.000000</td>\n      <td>0</td>\n      <td>0</td>\n      <td>0.0</td>\n      <td>0.0</td>\n      <td>0</td>\n      <td>6</td>\n      <td>9</td>\n      <td>1</td>\n      <td>1</td>\n      <td>1</td>\n      <td>1</td>\n      <td>1</td>\n      <td>NaN</td>\n      <td>0</td>\n    </tr>\n    <tr>\n      <th>3</th>\n      <td>59.166.0.3</td>\n      <td>49664</td>\n      <td>149.171.126.0</td>\n      <td>53</td>\n      <td>udp</td>\n      <td>CON</td>\n      <td>0.001169</td>\n      <td>146</td>\n      <td>178</td>\n      <td>31</td>\n      <td>29</td>\n      <td>0</td>\n      <td>0</td>\n      <td>dns</td>\n      <td>499572.250000</td>\n      <td>609067.562500</td>\n      <td>2</td>\n      <td>2</td>\n      <td>0</td>\n      <td>0</td>\n      <td>0</td>\n      <td>0</td>\n      <td>73</td>\n      <td>89</td>\n      <td>0</td>\n      <td>0</td>\n      <td>0.000000</td>\n      <td>0.000000</td>\n      <td>1421927414</td>\n      <td>1421927414</td>\n      <td>0.005000</td>\n      <td>0.003000</td>\n      <td>0.000000</td>\n      <td>0.000000</td>\n      <td>0.000000</td>\n      <td>0</td>\n      <td>0</td>\n      <td>0.0</td>\n      <td>0.0</td>\n      <td>0</td>\n      <td>7</td>\n      <td>9</td>\n      <td>1</td>\n      <td>1</td>\n      <td>1</td>\n      <td>1</td>\n      <td>1</td>\n      <td>NaN</td>\n      <td>0</td>\n    </tr>\n    <tr>\n      <th>4</th>\n      <td>59.166.0.0</td>\n      <td>32119</td>\n      <td>149.171.126.9</td>\n      <td>111</td>\n      <td>udp</td>\n      <td>CON</td>\n      <td>0.078339</td>\n      <td>568</td>\n      <td>312</td>\n      <td>31</td>\n      <td>29</td>\n      <td>0</td>\n      <td>0</td>\n      <td>-</td>\n      <td>43503.234380</td>\n      <td>23896.142580</td>\n      <td>4</td>\n      <td>4</td>\n      <td>0</td>\n      <td>0</td>\n      <td>0</td>\n      <td>0</td>\n      <td>142</td>\n      <td>78</td>\n      <td>0</td>\n      <td>0</td>\n      <td>29.682221</td>\n      <td>34.370340</td>\n      <td>1421927414</td>\n      <td>1421927414</td>\n      <td>21.003000</td>\n      <td>24.315000</td>\n      <td>0.000000</td>\n      <td>0.000000</td>\n      <td>0.000000</td>\n      <td>0</td>\n      <td>0</td>\n      <td>0.0</td>\n      <td>0.0</td>\n      <td>0</td>\n      <td>2</td>\n      <td>4</td>\n      <td>2</td>\n      <td>3</td>\n      <td>1</td>\n      <td>1</td>\n      <td>2</td>\n      <td>NaN</td>\n      <td>0</td>\n    </tr>\n    <tr>\n      <th>...</th>\n      <td>...</td>\n      <td>...</td>\n      <td>...</td>\n      <td>...</td>\n      <td>...</td>\n      <td>...</td>\n      <td>...</td>\n      <td>...</td>\n      <td>...</td>\n      <td>...</td>\n      <td>...</td>\n      <td>...</td>\n      <td>...</td>\n      <td>...</td>\n      <td>...</td>\n      <td>...</td>\n      <td>...</td>\n      <td>...</td>\n      <td>...</td>\n      <td>...</td>\n      <td>...</td>\n      <td>...</td>\n      <td>...</td>\n      <td>...</td>\n      <td>...</td>\n      <td>...</td>\n      <td>...</td>\n      <td>...</td>\n      <td>...</td>\n      <td>...</td>\n      <td>...</td>\n      <td>...</td>\n      <td>...</td>\n      <td>...</td>\n      <td>...</td>\n      <td>...</td>\n      <td>...</td>\n      <td>...</td>\n      <td>...</td>\n      <td>...</td>\n      <td>...</td>\n      <td>...</td>\n      <td>...</td>\n      <td>...</td>\n      <td>...</td>\n      <td>...</td>\n      <td>...</td>\n      <td>...</td>\n      <td>...</td>\n    </tr>\n    <tr>\n      <th>2540038</th>\n      <td>59.166.0.5</td>\n      <td>33094</td>\n      <td>149.171.126.7</td>\n      <td>43433</td>\n      <td>tcp</td>\n      <td>FIN</td>\n      <td>0.087306</td>\n      <td>320</td>\n      <td>1828</td>\n      <td>31</td>\n      <td>29</td>\n      <td>1</td>\n      <td>2</td>\n      <td>ftp-data</td>\n      <td>24465.671880</td>\n      <td>146610.765600</td>\n      <td>6</td>\n      <td>8</td>\n      <td>255</td>\n      <td>255</td>\n      <td>4035116044</td>\n      <td>222196311</td>\n      <td>53</td>\n      <td>229</td>\n      <td>0</td>\n      <td>0</td>\n      <td>1221.136547</td>\n      <td>30.096029</td>\n      <td>1424262068</td>\n      <td>1424262069</td>\n      <td>17.394400</td>\n      <td>12.405143</td>\n      <td>0.000608</td>\n      <td>0.000468</td>\n      <td>0.000140</td>\n      <td>0</td>\n      <td>0</td>\n      <td>NaN</td>\n      <td>NaN</td>\n      <td></td>\n      <td>1</td>\n      <td>2</td>\n      <td>3</td>\n      <td>3</td>\n      <td>1</td>\n      <td>1</td>\n      <td>3</td>\n      <td>NaN</td>\n      <td>0</td>\n    </tr>\n    <tr>\n      <th>2540039</th>\n      <td>59.166.0.7</td>\n      <td>20848</td>\n      <td>149.171.126.4</td>\n      <td>21</td>\n      <td>tcp</td>\n      <td>CON</td>\n      <td>0.365058</td>\n      <td>456</td>\n      <td>346</td>\n      <td>31</td>\n      <td>29</td>\n      <td>2</td>\n      <td>2</td>\n      <td>ftp</td>\n      <td>8743.816406</td>\n      <td>6333.240234</td>\n      <td>8</td>\n      <td>6</td>\n      <td>255</td>\n      <td>255</td>\n      <td>1529727621</td>\n      <td>185369967</td>\n      <td>57</td>\n      <td>58</td>\n      <td>0</td>\n      <td>0</td>\n      <td>3961.093354</td>\n      <td>129.038367</td>\n      <td>1424262068</td>\n      <td>1424262069</td>\n      <td>51.976999</td>\n      <td>72.915602</td>\n      <td>0.000609</td>\n      <td>0.000477</td>\n      <td>0.000132</td>\n      <td>0</td>\n      <td>0</td>\n      <td>NaN</td>\n      <td>2.0</td>\n      <td>2</td>\n      <td>2</td>\n      <td>2</td>\n      <td>2</td>\n      <td>2</td>\n      <td>2</td>\n      <td>2</td>\n      <td>2</td>\n      <td>NaN</td>\n      <td>0</td>\n    </tr>\n    <tr>\n      <th>2540040</th>\n      <td>59.166.0.3</td>\n      <td>21511</td>\n      <td>149.171.126.9</td>\n      <td>21</td>\n      <td>tcp</td>\n      <td>CON</td>\n      <td>6.335154</td>\n      <td>1802</td>\n      <td>2088</td>\n      <td>31</td>\n      <td>29</td>\n      <td>7</td>\n      <td>9</td>\n      <td>ftp</td>\n      <td>2204.839844</td>\n      <td>2549.582764</td>\n      <td>32</td>\n      <td>30</td>\n      <td>255</td>\n      <td>255</td>\n      <td>497208793</td>\n      <td>889904111</td>\n      <td>56</td>\n      <td>70</td>\n      <td>0</td>\n      <td>0</td>\n      <td>13233.728560</td>\n      <td>379.052750</td>\n      <td>1424262062</td>\n      <td>1424262069</td>\n      <td>204.359814</td>\n      <td>214.372375</td>\n      <td>0.000617</td>\n      <td>0.000485</td>\n      <td>0.000132</td>\n      <td>0</td>\n      <td>0</td>\n      <td>NaN</td>\n      <td>2.0</td>\n      <td>2</td>\n      <td>2</td>\n      <td>2</td>\n      <td>4</td>\n      <td>2</td>\n      <td>2</td>\n      <td>2</td>\n      <td>2</td>\n      <td>NaN</td>\n      <td>0</td>\n    </tr>\n    <tr>\n      <th>2540041</th>\n      <td>59.166.0.9</td>\n      <td>35433</td>\n      <td>149.171.126.0</td>\n      <td>80</td>\n      <td>tcp</td>\n      <td>CON</td>\n      <td>2.200934</td>\n      <td>3498</td>\n      <td>166054</td>\n      <td>31</td>\n      <td>29</td>\n      <td>2</td>\n      <td>57</td>\n      <td>http</td>\n      <td>12496.513670</td>\n      <td>598375.062500</td>\n      <td>58</td>\n      <td>116</td>\n      <td>255</td>\n      <td>255</td>\n      <td>1289728069</td>\n      <td>3436097151</td>\n      <td>60</td>\n      <td>1432</td>\n      <td>1</td>\n      <td>79745</td>\n      <td>2868.893137</td>\n      <td>1951.035944</td>\n      <td>1424262067</td>\n      <td>1424262069</td>\n      <td>38.609700</td>\n      <td>19.133826</td>\n      <td>0.000680</td>\n      <td>0.000541</td>\n      <td>0.000139</td>\n      <td>0</td>\n      <td>0</td>\n      <td>2.0</td>\n      <td>NaN</td>\n      <td></td>\n      <td>1</td>\n      <td>1</td>\n      <td>2</td>\n      <td>4</td>\n      <td>2</td>\n      <td>2</td>\n      <td>2</td>\n      <td>NaN</td>\n      <td>0</td>\n    </tr>\n    <tr>\n      <th>2540042</th>\n      <td>175.45.176.0</td>\n      <td>17293</td>\n      <td>149.171.126.17</td>\n      <td>110</td>\n      <td>tcp</td>\n      <td>CON</td>\n      <td>0.942984</td>\n      <td>574</td>\n      <td>676</td>\n      <td>62</td>\n      <td>252</td>\n      <td>5</td>\n      <td>6</td>\n      <td>pop3</td>\n      <td>4470.913574</td>\n      <td>5259.898438</td>\n      <td>12</td>\n      <td>12</td>\n      <td>255</td>\n      <td>255</td>\n      <td>3026824982</td>\n      <td>3748412468</td>\n      <td>48</td>\n      <td>56</td>\n      <td>0</td>\n      <td>0</td>\n      <td>3903.523582</td>\n      <td>95.650531</td>\n      <td>1424262068</td>\n      <td>1424262069</td>\n      <td>79.714089</td>\n      <td>80.827180</td>\n      <td>0.139446</td>\n      <td>0.053884</td>\n      <td>0.085562</td>\n      <td>0</td>\n      <td>3</td>\n      <td>NaN</td>\n      <td>NaN</td>\n      <td></td>\n      <td>1</td>\n      <td>1</td>\n      <td>2</td>\n      <td>4</td>\n      <td>2</td>\n      <td>2</td>\n      <td>2</td>\n      <td>Exploits</td>\n      <td>1</td>\n    </tr>\n  </tbody>\n</table>\n<p>2540043 rows × 49 columns</p>\n</div>"
     },
     "execution_count": 2,
     "metadata": {},
     "output_type": "execute_result"
    }
   ],
   "source": [
    "ds_full.drop(columns=\"Unnamed: 0\",inplace=True)\n",
    "ds_full"
   ],
   "metadata": {
    "collapsed": false,
    "pycharm": {
     "name": "#%%\n"
    }
   }
  },
  {
   "cell_type": "code",
   "execution_count": 3,
   "outputs": [
    {
     "data": {
      "text/plain": "                srcip  sport           dstip dsport proto state       dur  \\\n0          59.166.0.0  33661   149.171.126.9   1024   udp   CON  0.036133   \n1          59.166.0.6   1464   149.171.126.7     53   udp   CON  0.001119   \n2          59.166.0.5   3593   149.171.126.5     53   udp   CON  0.001209   \n3          59.166.0.3  49664   149.171.126.0     53   udp   CON  0.001169   \n4          59.166.0.0  32119   149.171.126.9    111   udp   CON  0.078339   \n...               ...    ...             ...    ...   ...   ...       ...   \n2540035    59.166.0.1  38606   149.171.126.9     80   tcp   CON  0.564998   \n2540037    59.166.0.1  38606   149.171.126.9     80   tcp   CON  0.564998   \n2540038    59.166.0.5  33094   149.171.126.7  43433   tcp   FIN  0.087306   \n2540041    59.166.0.9  35433   149.171.126.0     80   tcp   CON  2.200934   \n2540042  175.45.176.0  17293  149.171.126.17    110   tcp   CON  0.942984   \n\n         sbytes  dbytes  sttl  dttl  sloss  dloss   service          Sload  \\\n0           528     304    31    29      0      0         -   87676.085940   \n1           146     178    31    29      0      0       dns  521894.531300   \n2           132     164    31    29      0      0       dns  436724.562500   \n3           146     178    31    29      0      0       dns  499572.250000   \n4           568     312    31    29      0      0         -   43503.234380   \n...         ...     ...   ...   ...    ...    ...       ...            ...   \n2540035   14106  772406    31    29      2    262      http  198981.250000   \n2540037   14106  772406    31    29      2    262         -  198981.250000   \n2540038     320    1828    31    29      1      2  ftp-data   24465.671880   \n2540041    3498  166054    31    29      2     57      http   12496.513670   \n2540042     574     676    62   252      5      6      pop3    4470.913574   \n\n                Dload  Spkts  Dpkts  swin  dwin       stcpb       dtcpb  \\\n0        5.048017e+04      4      4     0     0           0           0   \n1        6.362824e+05      2      2     0     0           0           0   \n2        5.425972e+05      2      2     0     0           0           0   \n3        6.090676e+05      2      2     0     0           0           0   \n4        2.389614e+04      4      4     0     0           0           0   \n...               ...    ...    ...   ...   ...         ...         ...   \n2540035  1.091598e+07    262    526   255   255   162243658   163257853   \n2540037  1.091598e+07    262    526   255   255   162243658   163257853   \n2540038  1.466108e+05      6      8   255   255  4035116044   222196311   \n2540041  5.983751e+05     58    116   255   255  1289728069  3436097151   \n2540042  5.259898e+03     12     12   255   255  3026824982  3748412468   \n\n         smeansz  dmeansz  trans_depth  res_bdy_len         Sjit         Djit  \\\n0            132       76            0            0     9.891010    10.682733   \n1             73       89            0            0     0.000000     0.000000   \n2             66       82            0            0     0.000000     0.000000   \n3             73       89            0            0     0.000000     0.000000   \n4            142       78            0            0    29.682221    34.370340   \n...          ...      ...          ...          ...          ...          ...   \n2540035       54     1468            1       372266   116.321921    69.874077   \n2540037       54     1468            1       372266   116.321921    69.874077   \n2540038       53      229            0            0  1221.136547    30.096029   \n2540041       60     1432            1        79745  2868.893137  1951.035944   \n2540042       48       56            0            0  3903.523582    95.650531   \n\n              Stime       Ltime    Sintpkt    Dintpkt    tcprtt    synack  \\\n0        1421927414  1421927414   7.005000   7.564333  0.000000  0.000000   \n1        1421927414  1421927414   0.017000   0.013000  0.000000  0.000000   \n2        1421927414  1421927414   0.043000   0.014000  0.000000  0.000000   \n3        1421927414  1421927414   0.005000   0.003000  0.000000  0.000000   \n4        1421927414  1421927414  21.003000  24.315000  0.000000  0.000000   \n...             ...         ...        ...        ...       ...       ...   \n2540035  1424262068  1424262069   2.123130   1.075171  0.000669  0.000530   \n2540037  1424262068  1424262069   2.123130   1.075171  0.000669  0.000530   \n2540038  1424262068  1424262069  17.394400  12.405143  0.000608  0.000468   \n2540041  1424262067  1424262069  38.609700  19.133826  0.000680  0.000541   \n2540042  1424262068  1424262069  79.714089  80.827180  0.139446  0.053884   \n\n           ackdat  is_sm_ips_ports  ct_state_ttl  ct_flw_http_mthd  \\\n0        0.000000                0             0               0.0   \n1        0.000000                0             0               0.0   \n2        0.000000                0             0               0.0   \n3        0.000000                0             0               0.0   \n4        0.000000                0             0               0.0   \n...           ...              ...           ...               ...   \n2540035  0.000139                0             0               2.0   \n2540037  0.000139                0             0               2.0   \n2540038  0.000140                0             0               NaN   \n2540041  0.000139                0             0               2.0   \n2540042  0.085562                0             3               NaN   \n\n         is_ftp_login ct_ftp_cmd  ct_srv_src  ct_srv_dst  ct_dst_ltm  \\\n0                 0.0          0           2           4           2   \n1                 0.0          0          12           8           1   \n2                 0.0          0           6           9           1   \n3                 0.0          0           7           9           1   \n4                 0.0          0           2           4           2   \n...               ...        ...         ...         ...         ...   \n2540035           NaN                      1           1           4   \n2540037           NaN                      2           1           4   \n2540038           NaN                      1           2           3   \n2540041           NaN                      1           1           2   \n2540042           NaN                      1           1           2   \n\n         ct_src_ ltm  ct_src_dport_ltm  ct_dst_sport_ltm  ct_dst_src_ltm  \\\n0                  3                 1                 1               2   \n1                  2                 2                 1               1   \n2                  1                 1                 1               1   \n3                  1                 1                 1               1   \n4                  3                 1                 1               2   \n...              ...               ...               ...             ...   \n2540035            2                 2                 2               2   \n2540037            2                 2                 2               2   \n2540038            3                 1                 1               3   \n2540041            4                 2                 2               2   \n2540042            4                 2                 2               2   \n\n        attack_cat  label  \n0              NaN      0  \n1              NaN      0  \n2              NaN      0  \n3              NaN      0  \n4              NaN      0  \n...            ...    ...  \n2540035        NaN      0  \n2540037        NaN      0  \n2540038        NaN      0  \n2540041        NaN      0  \n2540042   Exploits      1  \n\n[2059418 rows x 49 columns]",
      "text/html": "<div>\n<style scoped>\n    .dataframe tbody tr th:only-of-type {\n        vertical-align: middle;\n    }\n\n    .dataframe tbody tr th {\n        vertical-align: top;\n    }\n\n    .dataframe thead th {\n        text-align: right;\n    }\n</style>\n<table border=\"1\" class=\"dataframe\">\n  <thead>\n    <tr style=\"text-align: right;\">\n      <th></th>\n      <th>srcip</th>\n      <th>sport</th>\n      <th>dstip</th>\n      <th>dsport</th>\n      <th>proto</th>\n      <th>state</th>\n      <th>dur</th>\n      <th>sbytes</th>\n      <th>dbytes</th>\n      <th>sttl</th>\n      <th>dttl</th>\n      <th>sloss</th>\n      <th>dloss</th>\n      <th>service</th>\n      <th>Sload</th>\n      <th>Dload</th>\n      <th>Spkts</th>\n      <th>Dpkts</th>\n      <th>swin</th>\n      <th>dwin</th>\n      <th>stcpb</th>\n      <th>dtcpb</th>\n      <th>smeansz</th>\n      <th>dmeansz</th>\n      <th>trans_depth</th>\n      <th>res_bdy_len</th>\n      <th>Sjit</th>\n      <th>Djit</th>\n      <th>Stime</th>\n      <th>Ltime</th>\n      <th>Sintpkt</th>\n      <th>Dintpkt</th>\n      <th>tcprtt</th>\n      <th>synack</th>\n      <th>ackdat</th>\n      <th>is_sm_ips_ports</th>\n      <th>ct_state_ttl</th>\n      <th>ct_flw_http_mthd</th>\n      <th>is_ftp_login</th>\n      <th>ct_ftp_cmd</th>\n      <th>ct_srv_src</th>\n      <th>ct_srv_dst</th>\n      <th>ct_dst_ltm</th>\n      <th>ct_src_ ltm</th>\n      <th>ct_src_dport_ltm</th>\n      <th>ct_dst_sport_ltm</th>\n      <th>ct_dst_src_ltm</th>\n      <th>attack_cat</th>\n      <th>label</th>\n    </tr>\n  </thead>\n  <tbody>\n    <tr>\n      <th>0</th>\n      <td>59.166.0.0</td>\n      <td>33661</td>\n      <td>149.171.126.9</td>\n      <td>1024</td>\n      <td>udp</td>\n      <td>CON</td>\n      <td>0.036133</td>\n      <td>528</td>\n      <td>304</td>\n      <td>31</td>\n      <td>29</td>\n      <td>0</td>\n      <td>0</td>\n      <td>-</td>\n      <td>87676.085940</td>\n      <td>5.048017e+04</td>\n      <td>4</td>\n      <td>4</td>\n      <td>0</td>\n      <td>0</td>\n      <td>0</td>\n      <td>0</td>\n      <td>132</td>\n      <td>76</td>\n      <td>0</td>\n      <td>0</td>\n      <td>9.891010</td>\n      <td>10.682733</td>\n      <td>1421927414</td>\n      <td>1421927414</td>\n      <td>7.005000</td>\n      <td>7.564333</td>\n      <td>0.000000</td>\n      <td>0.000000</td>\n      <td>0.000000</td>\n      <td>0</td>\n      <td>0</td>\n      <td>0.0</td>\n      <td>0.0</td>\n      <td>0</td>\n      <td>2</td>\n      <td>4</td>\n      <td>2</td>\n      <td>3</td>\n      <td>1</td>\n      <td>1</td>\n      <td>2</td>\n      <td>NaN</td>\n      <td>0</td>\n    </tr>\n    <tr>\n      <th>1</th>\n      <td>59.166.0.6</td>\n      <td>1464</td>\n      <td>149.171.126.7</td>\n      <td>53</td>\n      <td>udp</td>\n      <td>CON</td>\n      <td>0.001119</td>\n      <td>146</td>\n      <td>178</td>\n      <td>31</td>\n      <td>29</td>\n      <td>0</td>\n      <td>0</td>\n      <td>dns</td>\n      <td>521894.531300</td>\n      <td>6.362824e+05</td>\n      <td>2</td>\n      <td>2</td>\n      <td>0</td>\n      <td>0</td>\n      <td>0</td>\n      <td>0</td>\n      <td>73</td>\n      <td>89</td>\n      <td>0</td>\n      <td>0</td>\n      <td>0.000000</td>\n      <td>0.000000</td>\n      <td>1421927414</td>\n      <td>1421927414</td>\n      <td>0.017000</td>\n      <td>0.013000</td>\n      <td>0.000000</td>\n      <td>0.000000</td>\n      <td>0.000000</td>\n      <td>0</td>\n      <td>0</td>\n      <td>0.0</td>\n      <td>0.0</td>\n      <td>0</td>\n      <td>12</td>\n      <td>8</td>\n      <td>1</td>\n      <td>2</td>\n      <td>2</td>\n      <td>1</td>\n      <td>1</td>\n      <td>NaN</td>\n      <td>0</td>\n    </tr>\n    <tr>\n      <th>2</th>\n      <td>59.166.0.5</td>\n      <td>3593</td>\n      <td>149.171.126.5</td>\n      <td>53</td>\n      <td>udp</td>\n      <td>CON</td>\n      <td>0.001209</td>\n      <td>132</td>\n      <td>164</td>\n      <td>31</td>\n      <td>29</td>\n      <td>0</td>\n      <td>0</td>\n      <td>dns</td>\n      <td>436724.562500</td>\n      <td>5.425972e+05</td>\n      <td>2</td>\n      <td>2</td>\n      <td>0</td>\n      <td>0</td>\n      <td>0</td>\n      <td>0</td>\n      <td>66</td>\n      <td>82</td>\n      <td>0</td>\n      <td>0</td>\n      <td>0.000000</td>\n      <td>0.000000</td>\n      <td>1421927414</td>\n      <td>1421927414</td>\n      <td>0.043000</td>\n      <td>0.014000</td>\n      <td>0.000000</td>\n      <td>0.000000</td>\n      <td>0.000000</td>\n      <td>0</td>\n      <td>0</td>\n      <td>0.0</td>\n      <td>0.0</td>\n      <td>0</td>\n      <td>6</td>\n      <td>9</td>\n      <td>1</td>\n      <td>1</td>\n      <td>1</td>\n      <td>1</td>\n      <td>1</td>\n      <td>NaN</td>\n      <td>0</td>\n    </tr>\n    <tr>\n      <th>3</th>\n      <td>59.166.0.3</td>\n      <td>49664</td>\n      <td>149.171.126.0</td>\n      <td>53</td>\n      <td>udp</td>\n      <td>CON</td>\n      <td>0.001169</td>\n      <td>146</td>\n      <td>178</td>\n      <td>31</td>\n      <td>29</td>\n      <td>0</td>\n      <td>0</td>\n      <td>dns</td>\n      <td>499572.250000</td>\n      <td>6.090676e+05</td>\n      <td>2</td>\n      <td>2</td>\n      <td>0</td>\n      <td>0</td>\n      <td>0</td>\n      <td>0</td>\n      <td>73</td>\n      <td>89</td>\n      <td>0</td>\n      <td>0</td>\n      <td>0.000000</td>\n      <td>0.000000</td>\n      <td>1421927414</td>\n      <td>1421927414</td>\n      <td>0.005000</td>\n      <td>0.003000</td>\n      <td>0.000000</td>\n      <td>0.000000</td>\n      <td>0.000000</td>\n      <td>0</td>\n      <td>0</td>\n      <td>0.0</td>\n      <td>0.0</td>\n      <td>0</td>\n      <td>7</td>\n      <td>9</td>\n      <td>1</td>\n      <td>1</td>\n      <td>1</td>\n      <td>1</td>\n      <td>1</td>\n      <td>NaN</td>\n      <td>0</td>\n    </tr>\n    <tr>\n      <th>4</th>\n      <td>59.166.0.0</td>\n      <td>32119</td>\n      <td>149.171.126.9</td>\n      <td>111</td>\n      <td>udp</td>\n      <td>CON</td>\n      <td>0.078339</td>\n      <td>568</td>\n      <td>312</td>\n      <td>31</td>\n      <td>29</td>\n      <td>0</td>\n      <td>0</td>\n      <td>-</td>\n      <td>43503.234380</td>\n      <td>2.389614e+04</td>\n      <td>4</td>\n      <td>4</td>\n      <td>0</td>\n      <td>0</td>\n      <td>0</td>\n      <td>0</td>\n      <td>142</td>\n      <td>78</td>\n      <td>0</td>\n      <td>0</td>\n      <td>29.682221</td>\n      <td>34.370340</td>\n      <td>1421927414</td>\n      <td>1421927414</td>\n      <td>21.003000</td>\n      <td>24.315000</td>\n      <td>0.000000</td>\n      <td>0.000000</td>\n      <td>0.000000</td>\n      <td>0</td>\n      <td>0</td>\n      <td>0.0</td>\n      <td>0.0</td>\n      <td>0</td>\n      <td>2</td>\n      <td>4</td>\n      <td>2</td>\n      <td>3</td>\n      <td>1</td>\n      <td>1</td>\n      <td>2</td>\n      <td>NaN</td>\n      <td>0</td>\n    </tr>\n    <tr>\n      <th>...</th>\n      <td>...</td>\n      <td>...</td>\n      <td>...</td>\n      <td>...</td>\n      <td>...</td>\n      <td>...</td>\n      <td>...</td>\n      <td>...</td>\n      <td>...</td>\n      <td>...</td>\n      <td>...</td>\n      <td>...</td>\n      <td>...</td>\n      <td>...</td>\n      <td>...</td>\n      <td>...</td>\n      <td>...</td>\n      <td>...</td>\n      <td>...</td>\n      <td>...</td>\n      <td>...</td>\n      <td>...</td>\n      <td>...</td>\n      <td>...</td>\n      <td>...</td>\n      <td>...</td>\n      <td>...</td>\n      <td>...</td>\n      <td>...</td>\n      <td>...</td>\n      <td>...</td>\n      <td>...</td>\n      <td>...</td>\n      <td>...</td>\n      <td>...</td>\n      <td>...</td>\n      <td>...</td>\n      <td>...</td>\n      <td>...</td>\n      <td>...</td>\n      <td>...</td>\n      <td>...</td>\n      <td>...</td>\n      <td>...</td>\n      <td>...</td>\n      <td>...</td>\n      <td>...</td>\n      <td>...</td>\n      <td>...</td>\n    </tr>\n    <tr>\n      <th>2540035</th>\n      <td>59.166.0.1</td>\n      <td>38606</td>\n      <td>149.171.126.9</td>\n      <td>80</td>\n      <td>tcp</td>\n      <td>CON</td>\n      <td>0.564998</td>\n      <td>14106</td>\n      <td>772406</td>\n      <td>31</td>\n      <td>29</td>\n      <td>2</td>\n      <td>262</td>\n      <td>http</td>\n      <td>198981.250000</td>\n      <td>1.091598e+07</td>\n      <td>262</td>\n      <td>526</td>\n      <td>255</td>\n      <td>255</td>\n      <td>162243658</td>\n      <td>163257853</td>\n      <td>54</td>\n      <td>1468</td>\n      <td>1</td>\n      <td>372266</td>\n      <td>116.321921</td>\n      <td>69.874077</td>\n      <td>1424262068</td>\n      <td>1424262069</td>\n      <td>2.123130</td>\n      <td>1.075171</td>\n      <td>0.000669</td>\n      <td>0.000530</td>\n      <td>0.000139</td>\n      <td>0</td>\n      <td>0</td>\n      <td>2.0</td>\n      <td>NaN</td>\n      <td></td>\n      <td>1</td>\n      <td>1</td>\n      <td>4</td>\n      <td>2</td>\n      <td>2</td>\n      <td>2</td>\n      <td>2</td>\n      <td>NaN</td>\n      <td>0</td>\n    </tr>\n    <tr>\n      <th>2540037</th>\n      <td>59.166.0.1</td>\n      <td>38606</td>\n      <td>149.171.126.9</td>\n      <td>80</td>\n      <td>tcp</td>\n      <td>CON</td>\n      <td>0.564998</td>\n      <td>14106</td>\n      <td>772406</td>\n      <td>31</td>\n      <td>29</td>\n      <td>2</td>\n      <td>262</td>\n      <td>-</td>\n      <td>198981.250000</td>\n      <td>1.091598e+07</td>\n      <td>262</td>\n      <td>526</td>\n      <td>255</td>\n      <td>255</td>\n      <td>162243658</td>\n      <td>163257853</td>\n      <td>54</td>\n      <td>1468</td>\n      <td>1</td>\n      <td>372266</td>\n      <td>116.321921</td>\n      <td>69.874077</td>\n      <td>1424262068</td>\n      <td>1424262069</td>\n      <td>2.123130</td>\n      <td>1.075171</td>\n      <td>0.000669</td>\n      <td>0.000530</td>\n      <td>0.000139</td>\n      <td>0</td>\n      <td>0</td>\n      <td>2.0</td>\n      <td>NaN</td>\n      <td></td>\n      <td>2</td>\n      <td>1</td>\n      <td>4</td>\n      <td>2</td>\n      <td>2</td>\n      <td>2</td>\n      <td>2</td>\n      <td>NaN</td>\n      <td>0</td>\n    </tr>\n    <tr>\n      <th>2540038</th>\n      <td>59.166.0.5</td>\n      <td>33094</td>\n      <td>149.171.126.7</td>\n      <td>43433</td>\n      <td>tcp</td>\n      <td>FIN</td>\n      <td>0.087306</td>\n      <td>320</td>\n      <td>1828</td>\n      <td>31</td>\n      <td>29</td>\n      <td>1</td>\n      <td>2</td>\n      <td>ftp-data</td>\n      <td>24465.671880</td>\n      <td>1.466108e+05</td>\n      <td>6</td>\n      <td>8</td>\n      <td>255</td>\n      <td>255</td>\n      <td>4035116044</td>\n      <td>222196311</td>\n      <td>53</td>\n      <td>229</td>\n      <td>0</td>\n      <td>0</td>\n      <td>1221.136547</td>\n      <td>30.096029</td>\n      <td>1424262068</td>\n      <td>1424262069</td>\n      <td>17.394400</td>\n      <td>12.405143</td>\n      <td>0.000608</td>\n      <td>0.000468</td>\n      <td>0.000140</td>\n      <td>0</td>\n      <td>0</td>\n      <td>NaN</td>\n      <td>NaN</td>\n      <td></td>\n      <td>1</td>\n      <td>2</td>\n      <td>3</td>\n      <td>3</td>\n      <td>1</td>\n      <td>1</td>\n      <td>3</td>\n      <td>NaN</td>\n      <td>0</td>\n    </tr>\n    <tr>\n      <th>2540041</th>\n      <td>59.166.0.9</td>\n      <td>35433</td>\n      <td>149.171.126.0</td>\n      <td>80</td>\n      <td>tcp</td>\n      <td>CON</td>\n      <td>2.200934</td>\n      <td>3498</td>\n      <td>166054</td>\n      <td>31</td>\n      <td>29</td>\n      <td>2</td>\n      <td>57</td>\n      <td>http</td>\n      <td>12496.513670</td>\n      <td>5.983751e+05</td>\n      <td>58</td>\n      <td>116</td>\n      <td>255</td>\n      <td>255</td>\n      <td>1289728069</td>\n      <td>3436097151</td>\n      <td>60</td>\n      <td>1432</td>\n      <td>1</td>\n      <td>79745</td>\n      <td>2868.893137</td>\n      <td>1951.035944</td>\n      <td>1424262067</td>\n      <td>1424262069</td>\n      <td>38.609700</td>\n      <td>19.133826</td>\n      <td>0.000680</td>\n      <td>0.000541</td>\n      <td>0.000139</td>\n      <td>0</td>\n      <td>0</td>\n      <td>2.0</td>\n      <td>NaN</td>\n      <td></td>\n      <td>1</td>\n      <td>1</td>\n      <td>2</td>\n      <td>4</td>\n      <td>2</td>\n      <td>2</td>\n      <td>2</td>\n      <td>NaN</td>\n      <td>0</td>\n    </tr>\n    <tr>\n      <th>2540042</th>\n      <td>175.45.176.0</td>\n      <td>17293</td>\n      <td>149.171.126.17</td>\n      <td>110</td>\n      <td>tcp</td>\n      <td>CON</td>\n      <td>0.942984</td>\n      <td>574</td>\n      <td>676</td>\n      <td>62</td>\n      <td>252</td>\n      <td>5</td>\n      <td>6</td>\n      <td>pop3</td>\n      <td>4470.913574</td>\n      <td>5.259898e+03</td>\n      <td>12</td>\n      <td>12</td>\n      <td>255</td>\n      <td>255</td>\n      <td>3026824982</td>\n      <td>3748412468</td>\n      <td>48</td>\n      <td>56</td>\n      <td>0</td>\n      <td>0</td>\n      <td>3903.523582</td>\n      <td>95.650531</td>\n      <td>1424262068</td>\n      <td>1424262069</td>\n      <td>79.714089</td>\n      <td>80.827180</td>\n      <td>0.139446</td>\n      <td>0.053884</td>\n      <td>0.085562</td>\n      <td>0</td>\n      <td>3</td>\n      <td>NaN</td>\n      <td>NaN</td>\n      <td></td>\n      <td>1</td>\n      <td>1</td>\n      <td>2</td>\n      <td>4</td>\n      <td>2</td>\n      <td>2</td>\n      <td>2</td>\n      <td>Exploits</td>\n      <td>1</td>\n    </tr>\n  </tbody>\n</table>\n<p>2059418 rows × 49 columns</p>\n</div>"
     },
     "execution_count": 3,
     "metadata": {},
     "output_type": "execute_result"
    }
   ],
   "source": [
    "# see how many duplicates\n",
    "ds_full.duplicated().sum()\n",
    "#remove these duplicates\n",
    "ds_full_new = ds_full.drop_duplicates()\n",
    "ds_full_new"
   ],
   "metadata": {
    "collapsed": false,
    "pycharm": {
     "name": "#%%\n"
    }
   }
  },
  {
   "cell_type": "code",
   "execution_count": 4,
   "outputs": [
    {
     "data": {
      "text/plain": "                srcip  sport           dstip dsport proto state       dur  \\\n0          59.166.0.0  33661   149.171.126.9   1024   udp   CON  0.036133   \n1          59.166.0.6   1464   149.171.126.7     53   udp   CON  0.001119   \n2          59.166.0.5   3593   149.171.126.5     53   udp   CON  0.001209   \n3          59.166.0.3  49664   149.171.126.0     53   udp   CON  0.001169   \n4          59.166.0.0  32119   149.171.126.9    111   udp   CON  0.078339   \n...               ...    ...             ...    ...   ...   ...       ...   \n2540035    59.166.0.1  38606   149.171.126.9     80   tcp   CON  0.564998   \n2540037    59.166.0.1  38606   149.171.126.9     80   tcp   CON  0.564998   \n2540038    59.166.0.5  33094   149.171.126.7  43433   tcp   FIN  0.087306   \n2540041    59.166.0.9  35433   149.171.126.0     80   tcp   CON  2.200934   \n2540042  175.45.176.0  17293  149.171.126.17    110   tcp   CON  0.942984   \n\n         sbytes  dbytes  sttl  dttl  sloss  dloss    service          Sload  \\\n0           528     304    31    29      0      0  undefined   87676.085940   \n1           146     178    31    29      0      0        dns  521894.531300   \n2           132     164    31    29      0      0        dns  436724.562500   \n3           146     178    31    29      0      0        dns  499572.250000   \n4           568     312    31    29      0      0  undefined   43503.234380   \n...         ...     ...   ...   ...    ...    ...        ...            ...   \n2540035   14106  772406    31    29      2    262       http  198981.250000   \n2540037   14106  772406    31    29      2    262  undefined  198981.250000   \n2540038     320    1828    31    29      1      2   ftp-data   24465.671880   \n2540041    3498  166054    31    29      2     57       http   12496.513670   \n2540042     574     676    62   252      5      6       pop3    4470.913574   \n\n                Dload  Spkts  Dpkts  swin  dwin       stcpb       dtcpb  \\\n0        5.048017e+04      4      4     0     0           0           0   \n1        6.362824e+05      2      2     0     0           0           0   \n2        5.425972e+05      2      2     0     0           0           0   \n3        6.090676e+05      2      2     0     0           0           0   \n4        2.389614e+04      4      4     0     0           0           0   \n...               ...    ...    ...   ...   ...         ...         ...   \n2540035  1.091598e+07    262    526   255   255   162243658   163257853   \n2540037  1.091598e+07    262    526   255   255   162243658   163257853   \n2540038  1.466108e+05      6      8   255   255  4035116044   222196311   \n2540041  5.983751e+05     58    116   255   255  1289728069  3436097151   \n2540042  5.259898e+03     12     12   255   255  3026824982  3748412468   \n\n         smeansz  dmeansz  trans_depth  res_bdy_len         Sjit         Djit  \\\n0            132       76            0            0     9.891010    10.682733   \n1             73       89            0            0     0.000000     0.000000   \n2             66       82            0            0     0.000000     0.000000   \n3             73       89            0            0     0.000000     0.000000   \n4            142       78            0            0    29.682221    34.370340   \n...          ...      ...          ...          ...          ...          ...   \n2540035       54     1468            1       372266   116.321921    69.874077   \n2540037       54     1468            1       372266   116.321921    69.874077   \n2540038       53      229            0            0  1221.136547    30.096029   \n2540041       60     1432            1        79745  2868.893137  1951.035944   \n2540042       48       56            0            0  3903.523582    95.650531   \n\n              Stime       Ltime    Sintpkt    Dintpkt    tcprtt    synack  \\\n0        1421927414  1421927414   7.005000   7.564333  0.000000  0.000000   \n1        1421927414  1421927414   0.017000   0.013000  0.000000  0.000000   \n2        1421927414  1421927414   0.043000   0.014000  0.000000  0.000000   \n3        1421927414  1421927414   0.005000   0.003000  0.000000  0.000000   \n4        1421927414  1421927414  21.003000  24.315000  0.000000  0.000000   \n...             ...         ...        ...        ...       ...       ...   \n2540035  1424262068  1424262069   2.123130   1.075171  0.000669  0.000530   \n2540037  1424262068  1424262069   2.123130   1.075171  0.000669  0.000530   \n2540038  1424262068  1424262069  17.394400  12.405143  0.000608  0.000468   \n2540041  1424262067  1424262069  38.609700  19.133826  0.000680  0.000541   \n2540042  1424262068  1424262069  79.714089  80.827180  0.139446  0.053884   \n\n           ackdat  is_sm_ips_ports  ct_state_ttl  ct_flw_http_mthd  \\\n0        0.000000                0             0               0.0   \n1        0.000000                0             0               0.0   \n2        0.000000                0             0               0.0   \n3        0.000000                0             0               0.0   \n4        0.000000                0             0               0.0   \n...           ...              ...           ...               ...   \n2540035  0.000139                0             0               2.0   \n2540037  0.000139                0             0               2.0   \n2540038  0.000140                0             0               NaN   \n2540041  0.000139                0             0               2.0   \n2540042  0.085562                0             3               NaN   \n\n         is_ftp_login ct_ftp_cmd  ct_srv_src  ct_srv_dst  ct_dst_ltm  \\\n0                 0.0          0           2           4           2   \n1                 0.0          0          12           8           1   \n2                 0.0          0           6           9           1   \n3                 0.0          0           7           9           1   \n4                 0.0          0           2           4           2   \n...               ...        ...         ...         ...         ...   \n2540035           NaN                      1           1           4   \n2540037           NaN                      2           1           4   \n2540038           NaN                      1           2           3   \n2540041           NaN                      1           1           2   \n2540042           NaN                      1           1           2   \n\n         ct_src_ ltm  ct_src_dport_ltm  ct_dst_sport_ltm  ct_dst_src_ltm  \\\n0                  3                 1                 1               2   \n1                  2                 2                 1               1   \n2                  1                 1                 1               1   \n3                  1                 1                 1               1   \n4                  3                 1                 1               2   \n...              ...               ...               ...             ...   \n2540035            2                 2                 2               2   \n2540037            2                 2                 2               2   \n2540038            3                 1                 1               3   \n2540041            4                 2                 2               2   \n2540042            4                 2                 2               2   \n\n        attack_cat  label  \n0              NaN      0  \n1              NaN      0  \n2              NaN      0  \n3              NaN      0  \n4              NaN      0  \n...            ...    ...  \n2540035        NaN      0  \n2540037        NaN      0  \n2540038        NaN      0  \n2540041        NaN      0  \n2540042   Exploits      1  \n\n[2059418 rows x 49 columns]",
      "text/html": "<div>\n<style scoped>\n    .dataframe tbody tr th:only-of-type {\n        vertical-align: middle;\n    }\n\n    .dataframe tbody tr th {\n        vertical-align: top;\n    }\n\n    .dataframe thead th {\n        text-align: right;\n    }\n</style>\n<table border=\"1\" class=\"dataframe\">\n  <thead>\n    <tr style=\"text-align: right;\">\n      <th></th>\n      <th>srcip</th>\n      <th>sport</th>\n      <th>dstip</th>\n      <th>dsport</th>\n      <th>proto</th>\n      <th>state</th>\n      <th>dur</th>\n      <th>sbytes</th>\n      <th>dbytes</th>\n      <th>sttl</th>\n      <th>dttl</th>\n      <th>sloss</th>\n      <th>dloss</th>\n      <th>service</th>\n      <th>Sload</th>\n      <th>Dload</th>\n      <th>Spkts</th>\n      <th>Dpkts</th>\n      <th>swin</th>\n      <th>dwin</th>\n      <th>stcpb</th>\n      <th>dtcpb</th>\n      <th>smeansz</th>\n      <th>dmeansz</th>\n      <th>trans_depth</th>\n      <th>res_bdy_len</th>\n      <th>Sjit</th>\n      <th>Djit</th>\n      <th>Stime</th>\n      <th>Ltime</th>\n      <th>Sintpkt</th>\n      <th>Dintpkt</th>\n      <th>tcprtt</th>\n      <th>synack</th>\n      <th>ackdat</th>\n      <th>is_sm_ips_ports</th>\n      <th>ct_state_ttl</th>\n      <th>ct_flw_http_mthd</th>\n      <th>is_ftp_login</th>\n      <th>ct_ftp_cmd</th>\n      <th>ct_srv_src</th>\n      <th>ct_srv_dst</th>\n      <th>ct_dst_ltm</th>\n      <th>ct_src_ ltm</th>\n      <th>ct_src_dport_ltm</th>\n      <th>ct_dst_sport_ltm</th>\n      <th>ct_dst_src_ltm</th>\n      <th>attack_cat</th>\n      <th>label</th>\n    </tr>\n  </thead>\n  <tbody>\n    <tr>\n      <th>0</th>\n      <td>59.166.0.0</td>\n      <td>33661</td>\n      <td>149.171.126.9</td>\n      <td>1024</td>\n      <td>udp</td>\n      <td>CON</td>\n      <td>0.036133</td>\n      <td>528</td>\n      <td>304</td>\n      <td>31</td>\n      <td>29</td>\n      <td>0</td>\n      <td>0</td>\n      <td>undefined</td>\n      <td>87676.085940</td>\n      <td>5.048017e+04</td>\n      <td>4</td>\n      <td>4</td>\n      <td>0</td>\n      <td>0</td>\n      <td>0</td>\n      <td>0</td>\n      <td>132</td>\n      <td>76</td>\n      <td>0</td>\n      <td>0</td>\n      <td>9.891010</td>\n      <td>10.682733</td>\n      <td>1421927414</td>\n      <td>1421927414</td>\n      <td>7.005000</td>\n      <td>7.564333</td>\n      <td>0.000000</td>\n      <td>0.000000</td>\n      <td>0.000000</td>\n      <td>0</td>\n      <td>0</td>\n      <td>0.0</td>\n      <td>0.0</td>\n      <td>0</td>\n      <td>2</td>\n      <td>4</td>\n      <td>2</td>\n      <td>3</td>\n      <td>1</td>\n      <td>1</td>\n      <td>2</td>\n      <td>NaN</td>\n      <td>0</td>\n    </tr>\n    <tr>\n      <th>1</th>\n      <td>59.166.0.6</td>\n      <td>1464</td>\n      <td>149.171.126.7</td>\n      <td>53</td>\n      <td>udp</td>\n      <td>CON</td>\n      <td>0.001119</td>\n      <td>146</td>\n      <td>178</td>\n      <td>31</td>\n      <td>29</td>\n      <td>0</td>\n      <td>0</td>\n      <td>dns</td>\n      <td>521894.531300</td>\n      <td>6.362824e+05</td>\n      <td>2</td>\n      <td>2</td>\n      <td>0</td>\n      <td>0</td>\n      <td>0</td>\n      <td>0</td>\n      <td>73</td>\n      <td>89</td>\n      <td>0</td>\n      <td>0</td>\n      <td>0.000000</td>\n      <td>0.000000</td>\n      <td>1421927414</td>\n      <td>1421927414</td>\n      <td>0.017000</td>\n      <td>0.013000</td>\n      <td>0.000000</td>\n      <td>0.000000</td>\n      <td>0.000000</td>\n      <td>0</td>\n      <td>0</td>\n      <td>0.0</td>\n      <td>0.0</td>\n      <td>0</td>\n      <td>12</td>\n      <td>8</td>\n      <td>1</td>\n      <td>2</td>\n      <td>2</td>\n      <td>1</td>\n      <td>1</td>\n      <td>NaN</td>\n      <td>0</td>\n    </tr>\n    <tr>\n      <th>2</th>\n      <td>59.166.0.5</td>\n      <td>3593</td>\n      <td>149.171.126.5</td>\n      <td>53</td>\n      <td>udp</td>\n      <td>CON</td>\n      <td>0.001209</td>\n      <td>132</td>\n      <td>164</td>\n      <td>31</td>\n      <td>29</td>\n      <td>0</td>\n      <td>0</td>\n      <td>dns</td>\n      <td>436724.562500</td>\n      <td>5.425972e+05</td>\n      <td>2</td>\n      <td>2</td>\n      <td>0</td>\n      <td>0</td>\n      <td>0</td>\n      <td>0</td>\n      <td>66</td>\n      <td>82</td>\n      <td>0</td>\n      <td>0</td>\n      <td>0.000000</td>\n      <td>0.000000</td>\n      <td>1421927414</td>\n      <td>1421927414</td>\n      <td>0.043000</td>\n      <td>0.014000</td>\n      <td>0.000000</td>\n      <td>0.000000</td>\n      <td>0.000000</td>\n      <td>0</td>\n      <td>0</td>\n      <td>0.0</td>\n      <td>0.0</td>\n      <td>0</td>\n      <td>6</td>\n      <td>9</td>\n      <td>1</td>\n      <td>1</td>\n      <td>1</td>\n      <td>1</td>\n      <td>1</td>\n      <td>NaN</td>\n      <td>0</td>\n    </tr>\n    <tr>\n      <th>3</th>\n      <td>59.166.0.3</td>\n      <td>49664</td>\n      <td>149.171.126.0</td>\n      <td>53</td>\n      <td>udp</td>\n      <td>CON</td>\n      <td>0.001169</td>\n      <td>146</td>\n      <td>178</td>\n      <td>31</td>\n      <td>29</td>\n      <td>0</td>\n      <td>0</td>\n      <td>dns</td>\n      <td>499572.250000</td>\n      <td>6.090676e+05</td>\n      <td>2</td>\n      <td>2</td>\n      <td>0</td>\n      <td>0</td>\n      <td>0</td>\n      <td>0</td>\n      <td>73</td>\n      <td>89</td>\n      <td>0</td>\n      <td>0</td>\n      <td>0.000000</td>\n      <td>0.000000</td>\n      <td>1421927414</td>\n      <td>1421927414</td>\n      <td>0.005000</td>\n      <td>0.003000</td>\n      <td>0.000000</td>\n      <td>0.000000</td>\n      <td>0.000000</td>\n      <td>0</td>\n      <td>0</td>\n      <td>0.0</td>\n      <td>0.0</td>\n      <td>0</td>\n      <td>7</td>\n      <td>9</td>\n      <td>1</td>\n      <td>1</td>\n      <td>1</td>\n      <td>1</td>\n      <td>1</td>\n      <td>NaN</td>\n      <td>0</td>\n    </tr>\n    <tr>\n      <th>4</th>\n      <td>59.166.0.0</td>\n      <td>32119</td>\n      <td>149.171.126.9</td>\n      <td>111</td>\n      <td>udp</td>\n      <td>CON</td>\n      <td>0.078339</td>\n      <td>568</td>\n      <td>312</td>\n      <td>31</td>\n      <td>29</td>\n      <td>0</td>\n      <td>0</td>\n      <td>undefined</td>\n      <td>43503.234380</td>\n      <td>2.389614e+04</td>\n      <td>4</td>\n      <td>4</td>\n      <td>0</td>\n      <td>0</td>\n      <td>0</td>\n      <td>0</td>\n      <td>142</td>\n      <td>78</td>\n      <td>0</td>\n      <td>0</td>\n      <td>29.682221</td>\n      <td>34.370340</td>\n      <td>1421927414</td>\n      <td>1421927414</td>\n      <td>21.003000</td>\n      <td>24.315000</td>\n      <td>0.000000</td>\n      <td>0.000000</td>\n      <td>0.000000</td>\n      <td>0</td>\n      <td>0</td>\n      <td>0.0</td>\n      <td>0.0</td>\n      <td>0</td>\n      <td>2</td>\n      <td>4</td>\n      <td>2</td>\n      <td>3</td>\n      <td>1</td>\n      <td>1</td>\n      <td>2</td>\n      <td>NaN</td>\n      <td>0</td>\n    </tr>\n    <tr>\n      <th>...</th>\n      <td>...</td>\n      <td>...</td>\n      <td>...</td>\n      <td>...</td>\n      <td>...</td>\n      <td>...</td>\n      <td>...</td>\n      <td>...</td>\n      <td>...</td>\n      <td>...</td>\n      <td>...</td>\n      <td>...</td>\n      <td>...</td>\n      <td>...</td>\n      <td>...</td>\n      <td>...</td>\n      <td>...</td>\n      <td>...</td>\n      <td>...</td>\n      <td>...</td>\n      <td>...</td>\n      <td>...</td>\n      <td>...</td>\n      <td>...</td>\n      <td>...</td>\n      <td>...</td>\n      <td>...</td>\n      <td>...</td>\n      <td>...</td>\n      <td>...</td>\n      <td>...</td>\n      <td>...</td>\n      <td>...</td>\n      <td>...</td>\n      <td>...</td>\n      <td>...</td>\n      <td>...</td>\n      <td>...</td>\n      <td>...</td>\n      <td>...</td>\n      <td>...</td>\n      <td>...</td>\n      <td>...</td>\n      <td>...</td>\n      <td>...</td>\n      <td>...</td>\n      <td>...</td>\n      <td>...</td>\n      <td>...</td>\n    </tr>\n    <tr>\n      <th>2540035</th>\n      <td>59.166.0.1</td>\n      <td>38606</td>\n      <td>149.171.126.9</td>\n      <td>80</td>\n      <td>tcp</td>\n      <td>CON</td>\n      <td>0.564998</td>\n      <td>14106</td>\n      <td>772406</td>\n      <td>31</td>\n      <td>29</td>\n      <td>2</td>\n      <td>262</td>\n      <td>http</td>\n      <td>198981.250000</td>\n      <td>1.091598e+07</td>\n      <td>262</td>\n      <td>526</td>\n      <td>255</td>\n      <td>255</td>\n      <td>162243658</td>\n      <td>163257853</td>\n      <td>54</td>\n      <td>1468</td>\n      <td>1</td>\n      <td>372266</td>\n      <td>116.321921</td>\n      <td>69.874077</td>\n      <td>1424262068</td>\n      <td>1424262069</td>\n      <td>2.123130</td>\n      <td>1.075171</td>\n      <td>0.000669</td>\n      <td>0.000530</td>\n      <td>0.000139</td>\n      <td>0</td>\n      <td>0</td>\n      <td>2.0</td>\n      <td>NaN</td>\n      <td></td>\n      <td>1</td>\n      <td>1</td>\n      <td>4</td>\n      <td>2</td>\n      <td>2</td>\n      <td>2</td>\n      <td>2</td>\n      <td>NaN</td>\n      <td>0</td>\n    </tr>\n    <tr>\n      <th>2540037</th>\n      <td>59.166.0.1</td>\n      <td>38606</td>\n      <td>149.171.126.9</td>\n      <td>80</td>\n      <td>tcp</td>\n      <td>CON</td>\n      <td>0.564998</td>\n      <td>14106</td>\n      <td>772406</td>\n      <td>31</td>\n      <td>29</td>\n      <td>2</td>\n      <td>262</td>\n      <td>undefined</td>\n      <td>198981.250000</td>\n      <td>1.091598e+07</td>\n      <td>262</td>\n      <td>526</td>\n      <td>255</td>\n      <td>255</td>\n      <td>162243658</td>\n      <td>163257853</td>\n      <td>54</td>\n      <td>1468</td>\n      <td>1</td>\n      <td>372266</td>\n      <td>116.321921</td>\n      <td>69.874077</td>\n      <td>1424262068</td>\n      <td>1424262069</td>\n      <td>2.123130</td>\n      <td>1.075171</td>\n      <td>0.000669</td>\n      <td>0.000530</td>\n      <td>0.000139</td>\n      <td>0</td>\n      <td>0</td>\n      <td>2.0</td>\n      <td>NaN</td>\n      <td></td>\n      <td>2</td>\n      <td>1</td>\n      <td>4</td>\n      <td>2</td>\n      <td>2</td>\n      <td>2</td>\n      <td>2</td>\n      <td>NaN</td>\n      <td>0</td>\n    </tr>\n    <tr>\n      <th>2540038</th>\n      <td>59.166.0.5</td>\n      <td>33094</td>\n      <td>149.171.126.7</td>\n      <td>43433</td>\n      <td>tcp</td>\n      <td>FIN</td>\n      <td>0.087306</td>\n      <td>320</td>\n      <td>1828</td>\n      <td>31</td>\n      <td>29</td>\n      <td>1</td>\n      <td>2</td>\n      <td>ftp-data</td>\n      <td>24465.671880</td>\n      <td>1.466108e+05</td>\n      <td>6</td>\n      <td>8</td>\n      <td>255</td>\n      <td>255</td>\n      <td>4035116044</td>\n      <td>222196311</td>\n      <td>53</td>\n      <td>229</td>\n      <td>0</td>\n      <td>0</td>\n      <td>1221.136547</td>\n      <td>30.096029</td>\n      <td>1424262068</td>\n      <td>1424262069</td>\n      <td>17.394400</td>\n      <td>12.405143</td>\n      <td>0.000608</td>\n      <td>0.000468</td>\n      <td>0.000140</td>\n      <td>0</td>\n      <td>0</td>\n      <td>NaN</td>\n      <td>NaN</td>\n      <td></td>\n      <td>1</td>\n      <td>2</td>\n      <td>3</td>\n      <td>3</td>\n      <td>1</td>\n      <td>1</td>\n      <td>3</td>\n      <td>NaN</td>\n      <td>0</td>\n    </tr>\n    <tr>\n      <th>2540041</th>\n      <td>59.166.0.9</td>\n      <td>35433</td>\n      <td>149.171.126.0</td>\n      <td>80</td>\n      <td>tcp</td>\n      <td>CON</td>\n      <td>2.200934</td>\n      <td>3498</td>\n      <td>166054</td>\n      <td>31</td>\n      <td>29</td>\n      <td>2</td>\n      <td>57</td>\n      <td>http</td>\n      <td>12496.513670</td>\n      <td>5.983751e+05</td>\n      <td>58</td>\n      <td>116</td>\n      <td>255</td>\n      <td>255</td>\n      <td>1289728069</td>\n      <td>3436097151</td>\n      <td>60</td>\n      <td>1432</td>\n      <td>1</td>\n      <td>79745</td>\n      <td>2868.893137</td>\n      <td>1951.035944</td>\n      <td>1424262067</td>\n      <td>1424262069</td>\n      <td>38.609700</td>\n      <td>19.133826</td>\n      <td>0.000680</td>\n      <td>0.000541</td>\n      <td>0.000139</td>\n      <td>0</td>\n      <td>0</td>\n      <td>2.0</td>\n      <td>NaN</td>\n      <td></td>\n      <td>1</td>\n      <td>1</td>\n      <td>2</td>\n      <td>4</td>\n      <td>2</td>\n      <td>2</td>\n      <td>2</td>\n      <td>NaN</td>\n      <td>0</td>\n    </tr>\n    <tr>\n      <th>2540042</th>\n      <td>175.45.176.0</td>\n      <td>17293</td>\n      <td>149.171.126.17</td>\n      <td>110</td>\n      <td>tcp</td>\n      <td>CON</td>\n      <td>0.942984</td>\n      <td>574</td>\n      <td>676</td>\n      <td>62</td>\n      <td>252</td>\n      <td>5</td>\n      <td>6</td>\n      <td>pop3</td>\n      <td>4470.913574</td>\n      <td>5.259898e+03</td>\n      <td>12</td>\n      <td>12</td>\n      <td>255</td>\n      <td>255</td>\n      <td>3026824982</td>\n      <td>3748412468</td>\n      <td>48</td>\n      <td>56</td>\n      <td>0</td>\n      <td>0</td>\n      <td>3903.523582</td>\n      <td>95.650531</td>\n      <td>1424262068</td>\n      <td>1424262069</td>\n      <td>79.714089</td>\n      <td>80.827180</td>\n      <td>0.139446</td>\n      <td>0.053884</td>\n      <td>0.085562</td>\n      <td>0</td>\n      <td>3</td>\n      <td>NaN</td>\n      <td>NaN</td>\n      <td></td>\n      <td>1</td>\n      <td>1</td>\n      <td>2</td>\n      <td>4</td>\n      <td>2</td>\n      <td>2</td>\n      <td>2</td>\n      <td>Exploits</td>\n      <td>1</td>\n    </tr>\n  </tbody>\n</table>\n<p>2059418 rows × 49 columns</p>\n</div>"
     },
     "execution_count": 4,
     "metadata": {},
     "output_type": "execute_result"
    }
   ],
   "source": [
    "# replace \"-\" with \"undefined\"\n",
    "ds_full_new['service'].replace('-', 'undefined', inplace=True)\n",
    "ds_full_new"
   ],
   "metadata": {
    "collapsed": false,
    "pycharm": {
     "name": "#%%\n"
    }
   }
  },
  {
   "cell_type": "code",
   "execution_count": 5,
   "outputs": [
    {
     "data": {
      "text/plain": "                srcip  sport           dstip dsport proto state       dur  \\\n0          59.166.0.0  33661   149.171.126.9   1024   udp   CON  0.036133   \n1          59.166.0.6   1464   149.171.126.7     53   udp   CON  0.001119   \n2          59.166.0.5   3593   149.171.126.5     53   udp   CON  0.001209   \n3          59.166.0.3  49664   149.171.126.0     53   udp   CON  0.001169   \n4          59.166.0.0  32119   149.171.126.9    111   udp   CON  0.078339   \n...               ...    ...             ...    ...   ...   ...       ...   \n2540035    59.166.0.1  38606   149.171.126.9     80   tcp   CON  0.564998   \n2540037    59.166.0.1  38606   149.171.126.9     80   tcp   CON  0.564998   \n2540038    59.166.0.5  33094   149.171.126.7  43433   tcp   FIN  0.087306   \n2540041    59.166.0.9  35433   149.171.126.0     80   tcp   CON  2.200934   \n2540042  175.45.176.0  17293  149.171.126.17    110   tcp   CON  0.942984   \n\n         sbytes  dbytes  sttl  dttl  sloss  dloss    service          Sload  \\\n0           528     304    31    29      0      0  undefined   87676.085940   \n1           146     178    31    29      0      0        dns  521894.531300   \n2           132     164    31    29      0      0        dns  436724.562500   \n3           146     178    31    29      0      0        dns  499572.250000   \n4           568     312    31    29      0      0  undefined   43503.234380   \n...         ...     ...   ...   ...    ...    ...        ...            ...   \n2540035   14106  772406    31    29      2    262       http  198981.250000   \n2540037   14106  772406    31    29      2    262  undefined  198981.250000   \n2540038     320    1828    31    29      1      2   ftp-data   24465.671880   \n2540041    3498  166054    31    29      2     57       http   12496.513670   \n2540042     574     676    62   252      5      6       pop3    4470.913574   \n\n                Dload  Spkts  Dpkts  swin  dwin       stcpb       dtcpb  \\\n0        5.048017e+04      4      4     0     0           0           0   \n1        6.362824e+05      2      2     0     0           0           0   \n2        5.425972e+05      2      2     0     0           0           0   \n3        6.090676e+05      2      2     0     0           0           0   \n4        2.389614e+04      4      4     0     0           0           0   \n...               ...    ...    ...   ...   ...         ...         ...   \n2540035  1.091598e+07    262    526   255   255   162243658   163257853   \n2540037  1.091598e+07    262    526   255   255   162243658   163257853   \n2540038  1.466108e+05      6      8   255   255  4035116044   222196311   \n2540041  5.983751e+05     58    116   255   255  1289728069  3436097151   \n2540042  5.259898e+03     12     12   255   255  3026824982  3748412468   \n\n         smeansz  dmeansz  trans_depth  res_bdy_len         Sjit         Djit  \\\n0            132       76            0            0     9.891010    10.682733   \n1             73       89            0            0     0.000000     0.000000   \n2             66       82            0            0     0.000000     0.000000   \n3             73       89            0            0     0.000000     0.000000   \n4            142       78            0            0    29.682221    34.370340   \n...          ...      ...          ...          ...          ...          ...   \n2540035       54     1468            1       372266   116.321921    69.874077   \n2540037       54     1468            1       372266   116.321921    69.874077   \n2540038       53      229            0            0  1221.136547    30.096029   \n2540041       60     1432            1        79745  2868.893137  1951.035944   \n2540042       48       56            0            0  3903.523582    95.650531   \n\n              Stime       Ltime    Sintpkt    Dintpkt    tcprtt    synack  \\\n0        1421927414  1421927414   7.005000   7.564333  0.000000  0.000000   \n1        1421927414  1421927414   0.017000   0.013000  0.000000  0.000000   \n2        1421927414  1421927414   0.043000   0.014000  0.000000  0.000000   \n3        1421927414  1421927414   0.005000   0.003000  0.000000  0.000000   \n4        1421927414  1421927414  21.003000  24.315000  0.000000  0.000000   \n...             ...         ...        ...        ...       ...       ...   \n2540035  1424262068  1424262069   2.123130   1.075171  0.000669  0.000530   \n2540037  1424262068  1424262069   2.123130   1.075171  0.000669  0.000530   \n2540038  1424262068  1424262069  17.394400  12.405143  0.000608  0.000468   \n2540041  1424262067  1424262069  38.609700  19.133826  0.000680  0.000541   \n2540042  1424262068  1424262069  79.714089  80.827180  0.139446  0.053884   \n\n           ackdat  is_sm_ips_ports  ct_state_ttl  ct_flw_http_mthd  \\\n0        0.000000                0             0               0.0   \n1        0.000000                0             0               0.0   \n2        0.000000                0             0               0.0   \n3        0.000000                0             0               0.0   \n4        0.000000                0             0               0.0   \n...           ...              ...           ...               ...   \n2540035  0.000139                0             0               2.0   \n2540037  0.000139                0             0               2.0   \n2540038  0.000140                0             0               NaN   \n2540041  0.000139                0             0               2.0   \n2540042  0.085562                0             3               NaN   \n\n         is_ftp_login ct_ftp_cmd  ct_srv_src  ct_srv_dst  ct_dst_ltm  \\\n0                 0.0          0           2           4           2   \n1                 0.0          0          12           8           1   \n2                 0.0          0           6           9           1   \n3                 0.0          0           7           9           1   \n4                 0.0          0           2           4           2   \n...               ...        ...         ...         ...         ...   \n2540035           NaN                      1           1           4   \n2540037           NaN                      2           1           4   \n2540038           NaN                      1           2           3   \n2540041           NaN                      1           1           2   \n2540042           NaN                      1           1           2   \n\n         ct_src_ ltm  ct_src_dport_ltm  ct_dst_sport_ltm  ct_dst_src_ltm  \\\n0                  3                 1                 1               2   \n1                  2                 2                 1               1   \n2                  1                 1                 1               1   \n3                  1                 1                 1               1   \n4                  3                 1                 1               2   \n...              ...               ...               ...             ...   \n2540035            2                 2                 2               2   \n2540037            2                 2                 2               2   \n2540038            3                 1                 1               3   \n2540041            4                 2                 2               2   \n2540042            4                 2                 2               2   \n\n        attack_cat  label  \n0           Normal      0  \n1           Normal      0  \n2           Normal      0  \n3           Normal      0  \n4           Normal      0  \n...            ...    ...  \n2540035     Normal      0  \n2540037     Normal      0  \n2540038     Normal      0  \n2540041     Normal      0  \n2540042   Exploits      1  \n\n[2059418 rows x 49 columns]",
      "text/html": "<div>\n<style scoped>\n    .dataframe tbody tr th:only-of-type {\n        vertical-align: middle;\n    }\n\n    .dataframe tbody tr th {\n        vertical-align: top;\n    }\n\n    .dataframe thead th {\n        text-align: right;\n    }\n</style>\n<table border=\"1\" class=\"dataframe\">\n  <thead>\n    <tr style=\"text-align: right;\">\n      <th></th>\n      <th>srcip</th>\n      <th>sport</th>\n      <th>dstip</th>\n      <th>dsport</th>\n      <th>proto</th>\n      <th>state</th>\n      <th>dur</th>\n      <th>sbytes</th>\n      <th>dbytes</th>\n      <th>sttl</th>\n      <th>dttl</th>\n      <th>sloss</th>\n      <th>dloss</th>\n      <th>service</th>\n      <th>Sload</th>\n      <th>Dload</th>\n      <th>Spkts</th>\n      <th>Dpkts</th>\n      <th>swin</th>\n      <th>dwin</th>\n      <th>stcpb</th>\n      <th>dtcpb</th>\n      <th>smeansz</th>\n      <th>dmeansz</th>\n      <th>trans_depth</th>\n      <th>res_bdy_len</th>\n      <th>Sjit</th>\n      <th>Djit</th>\n      <th>Stime</th>\n      <th>Ltime</th>\n      <th>Sintpkt</th>\n      <th>Dintpkt</th>\n      <th>tcprtt</th>\n      <th>synack</th>\n      <th>ackdat</th>\n      <th>is_sm_ips_ports</th>\n      <th>ct_state_ttl</th>\n      <th>ct_flw_http_mthd</th>\n      <th>is_ftp_login</th>\n      <th>ct_ftp_cmd</th>\n      <th>ct_srv_src</th>\n      <th>ct_srv_dst</th>\n      <th>ct_dst_ltm</th>\n      <th>ct_src_ ltm</th>\n      <th>ct_src_dport_ltm</th>\n      <th>ct_dst_sport_ltm</th>\n      <th>ct_dst_src_ltm</th>\n      <th>attack_cat</th>\n      <th>label</th>\n    </tr>\n  </thead>\n  <tbody>\n    <tr>\n      <th>0</th>\n      <td>59.166.0.0</td>\n      <td>33661</td>\n      <td>149.171.126.9</td>\n      <td>1024</td>\n      <td>udp</td>\n      <td>CON</td>\n      <td>0.036133</td>\n      <td>528</td>\n      <td>304</td>\n      <td>31</td>\n      <td>29</td>\n      <td>0</td>\n      <td>0</td>\n      <td>undefined</td>\n      <td>87676.085940</td>\n      <td>5.048017e+04</td>\n      <td>4</td>\n      <td>4</td>\n      <td>0</td>\n      <td>0</td>\n      <td>0</td>\n      <td>0</td>\n      <td>132</td>\n      <td>76</td>\n      <td>0</td>\n      <td>0</td>\n      <td>9.891010</td>\n      <td>10.682733</td>\n      <td>1421927414</td>\n      <td>1421927414</td>\n      <td>7.005000</td>\n      <td>7.564333</td>\n      <td>0.000000</td>\n      <td>0.000000</td>\n      <td>0.000000</td>\n      <td>0</td>\n      <td>0</td>\n      <td>0.0</td>\n      <td>0.0</td>\n      <td>0</td>\n      <td>2</td>\n      <td>4</td>\n      <td>2</td>\n      <td>3</td>\n      <td>1</td>\n      <td>1</td>\n      <td>2</td>\n      <td>Normal</td>\n      <td>0</td>\n    </tr>\n    <tr>\n      <th>1</th>\n      <td>59.166.0.6</td>\n      <td>1464</td>\n      <td>149.171.126.7</td>\n      <td>53</td>\n      <td>udp</td>\n      <td>CON</td>\n      <td>0.001119</td>\n      <td>146</td>\n      <td>178</td>\n      <td>31</td>\n      <td>29</td>\n      <td>0</td>\n      <td>0</td>\n      <td>dns</td>\n      <td>521894.531300</td>\n      <td>6.362824e+05</td>\n      <td>2</td>\n      <td>2</td>\n      <td>0</td>\n      <td>0</td>\n      <td>0</td>\n      <td>0</td>\n      <td>73</td>\n      <td>89</td>\n      <td>0</td>\n      <td>0</td>\n      <td>0.000000</td>\n      <td>0.000000</td>\n      <td>1421927414</td>\n      <td>1421927414</td>\n      <td>0.017000</td>\n      <td>0.013000</td>\n      <td>0.000000</td>\n      <td>0.000000</td>\n      <td>0.000000</td>\n      <td>0</td>\n      <td>0</td>\n      <td>0.0</td>\n      <td>0.0</td>\n      <td>0</td>\n      <td>12</td>\n      <td>8</td>\n      <td>1</td>\n      <td>2</td>\n      <td>2</td>\n      <td>1</td>\n      <td>1</td>\n      <td>Normal</td>\n      <td>0</td>\n    </tr>\n    <tr>\n      <th>2</th>\n      <td>59.166.0.5</td>\n      <td>3593</td>\n      <td>149.171.126.5</td>\n      <td>53</td>\n      <td>udp</td>\n      <td>CON</td>\n      <td>0.001209</td>\n      <td>132</td>\n      <td>164</td>\n      <td>31</td>\n      <td>29</td>\n      <td>0</td>\n      <td>0</td>\n      <td>dns</td>\n      <td>436724.562500</td>\n      <td>5.425972e+05</td>\n      <td>2</td>\n      <td>2</td>\n      <td>0</td>\n      <td>0</td>\n      <td>0</td>\n      <td>0</td>\n      <td>66</td>\n      <td>82</td>\n      <td>0</td>\n      <td>0</td>\n      <td>0.000000</td>\n      <td>0.000000</td>\n      <td>1421927414</td>\n      <td>1421927414</td>\n      <td>0.043000</td>\n      <td>0.014000</td>\n      <td>0.000000</td>\n      <td>0.000000</td>\n      <td>0.000000</td>\n      <td>0</td>\n      <td>0</td>\n      <td>0.0</td>\n      <td>0.0</td>\n      <td>0</td>\n      <td>6</td>\n      <td>9</td>\n      <td>1</td>\n      <td>1</td>\n      <td>1</td>\n      <td>1</td>\n      <td>1</td>\n      <td>Normal</td>\n      <td>0</td>\n    </tr>\n    <tr>\n      <th>3</th>\n      <td>59.166.0.3</td>\n      <td>49664</td>\n      <td>149.171.126.0</td>\n      <td>53</td>\n      <td>udp</td>\n      <td>CON</td>\n      <td>0.001169</td>\n      <td>146</td>\n      <td>178</td>\n      <td>31</td>\n      <td>29</td>\n      <td>0</td>\n      <td>0</td>\n      <td>dns</td>\n      <td>499572.250000</td>\n      <td>6.090676e+05</td>\n      <td>2</td>\n      <td>2</td>\n      <td>0</td>\n      <td>0</td>\n      <td>0</td>\n      <td>0</td>\n      <td>73</td>\n      <td>89</td>\n      <td>0</td>\n      <td>0</td>\n      <td>0.000000</td>\n      <td>0.000000</td>\n      <td>1421927414</td>\n      <td>1421927414</td>\n      <td>0.005000</td>\n      <td>0.003000</td>\n      <td>0.000000</td>\n      <td>0.000000</td>\n      <td>0.000000</td>\n      <td>0</td>\n      <td>0</td>\n      <td>0.0</td>\n      <td>0.0</td>\n      <td>0</td>\n      <td>7</td>\n      <td>9</td>\n      <td>1</td>\n      <td>1</td>\n      <td>1</td>\n      <td>1</td>\n      <td>1</td>\n      <td>Normal</td>\n      <td>0</td>\n    </tr>\n    <tr>\n      <th>4</th>\n      <td>59.166.0.0</td>\n      <td>32119</td>\n      <td>149.171.126.9</td>\n      <td>111</td>\n      <td>udp</td>\n      <td>CON</td>\n      <td>0.078339</td>\n      <td>568</td>\n      <td>312</td>\n      <td>31</td>\n      <td>29</td>\n      <td>0</td>\n      <td>0</td>\n      <td>undefined</td>\n      <td>43503.234380</td>\n      <td>2.389614e+04</td>\n      <td>4</td>\n      <td>4</td>\n      <td>0</td>\n      <td>0</td>\n      <td>0</td>\n      <td>0</td>\n      <td>142</td>\n      <td>78</td>\n      <td>0</td>\n      <td>0</td>\n      <td>29.682221</td>\n      <td>34.370340</td>\n      <td>1421927414</td>\n      <td>1421927414</td>\n      <td>21.003000</td>\n      <td>24.315000</td>\n      <td>0.000000</td>\n      <td>0.000000</td>\n      <td>0.000000</td>\n      <td>0</td>\n      <td>0</td>\n      <td>0.0</td>\n      <td>0.0</td>\n      <td>0</td>\n      <td>2</td>\n      <td>4</td>\n      <td>2</td>\n      <td>3</td>\n      <td>1</td>\n      <td>1</td>\n      <td>2</td>\n      <td>Normal</td>\n      <td>0</td>\n    </tr>\n    <tr>\n      <th>...</th>\n      <td>...</td>\n      <td>...</td>\n      <td>...</td>\n      <td>...</td>\n      <td>...</td>\n      <td>...</td>\n      <td>...</td>\n      <td>...</td>\n      <td>...</td>\n      <td>...</td>\n      <td>...</td>\n      <td>...</td>\n      <td>...</td>\n      <td>...</td>\n      <td>...</td>\n      <td>...</td>\n      <td>...</td>\n      <td>...</td>\n      <td>...</td>\n      <td>...</td>\n      <td>...</td>\n      <td>...</td>\n      <td>...</td>\n      <td>...</td>\n      <td>...</td>\n      <td>...</td>\n      <td>...</td>\n      <td>...</td>\n      <td>...</td>\n      <td>...</td>\n      <td>...</td>\n      <td>...</td>\n      <td>...</td>\n      <td>...</td>\n      <td>...</td>\n      <td>...</td>\n      <td>...</td>\n      <td>...</td>\n      <td>...</td>\n      <td>...</td>\n      <td>...</td>\n      <td>...</td>\n      <td>...</td>\n      <td>...</td>\n      <td>...</td>\n      <td>...</td>\n      <td>...</td>\n      <td>...</td>\n      <td>...</td>\n    </tr>\n    <tr>\n      <th>2540035</th>\n      <td>59.166.0.1</td>\n      <td>38606</td>\n      <td>149.171.126.9</td>\n      <td>80</td>\n      <td>tcp</td>\n      <td>CON</td>\n      <td>0.564998</td>\n      <td>14106</td>\n      <td>772406</td>\n      <td>31</td>\n      <td>29</td>\n      <td>2</td>\n      <td>262</td>\n      <td>http</td>\n      <td>198981.250000</td>\n      <td>1.091598e+07</td>\n      <td>262</td>\n      <td>526</td>\n      <td>255</td>\n      <td>255</td>\n      <td>162243658</td>\n      <td>163257853</td>\n      <td>54</td>\n      <td>1468</td>\n      <td>1</td>\n      <td>372266</td>\n      <td>116.321921</td>\n      <td>69.874077</td>\n      <td>1424262068</td>\n      <td>1424262069</td>\n      <td>2.123130</td>\n      <td>1.075171</td>\n      <td>0.000669</td>\n      <td>0.000530</td>\n      <td>0.000139</td>\n      <td>0</td>\n      <td>0</td>\n      <td>2.0</td>\n      <td>NaN</td>\n      <td></td>\n      <td>1</td>\n      <td>1</td>\n      <td>4</td>\n      <td>2</td>\n      <td>2</td>\n      <td>2</td>\n      <td>2</td>\n      <td>Normal</td>\n      <td>0</td>\n    </tr>\n    <tr>\n      <th>2540037</th>\n      <td>59.166.0.1</td>\n      <td>38606</td>\n      <td>149.171.126.9</td>\n      <td>80</td>\n      <td>tcp</td>\n      <td>CON</td>\n      <td>0.564998</td>\n      <td>14106</td>\n      <td>772406</td>\n      <td>31</td>\n      <td>29</td>\n      <td>2</td>\n      <td>262</td>\n      <td>undefined</td>\n      <td>198981.250000</td>\n      <td>1.091598e+07</td>\n      <td>262</td>\n      <td>526</td>\n      <td>255</td>\n      <td>255</td>\n      <td>162243658</td>\n      <td>163257853</td>\n      <td>54</td>\n      <td>1468</td>\n      <td>1</td>\n      <td>372266</td>\n      <td>116.321921</td>\n      <td>69.874077</td>\n      <td>1424262068</td>\n      <td>1424262069</td>\n      <td>2.123130</td>\n      <td>1.075171</td>\n      <td>0.000669</td>\n      <td>0.000530</td>\n      <td>0.000139</td>\n      <td>0</td>\n      <td>0</td>\n      <td>2.0</td>\n      <td>NaN</td>\n      <td></td>\n      <td>2</td>\n      <td>1</td>\n      <td>4</td>\n      <td>2</td>\n      <td>2</td>\n      <td>2</td>\n      <td>2</td>\n      <td>Normal</td>\n      <td>0</td>\n    </tr>\n    <tr>\n      <th>2540038</th>\n      <td>59.166.0.5</td>\n      <td>33094</td>\n      <td>149.171.126.7</td>\n      <td>43433</td>\n      <td>tcp</td>\n      <td>FIN</td>\n      <td>0.087306</td>\n      <td>320</td>\n      <td>1828</td>\n      <td>31</td>\n      <td>29</td>\n      <td>1</td>\n      <td>2</td>\n      <td>ftp-data</td>\n      <td>24465.671880</td>\n      <td>1.466108e+05</td>\n      <td>6</td>\n      <td>8</td>\n      <td>255</td>\n      <td>255</td>\n      <td>4035116044</td>\n      <td>222196311</td>\n      <td>53</td>\n      <td>229</td>\n      <td>0</td>\n      <td>0</td>\n      <td>1221.136547</td>\n      <td>30.096029</td>\n      <td>1424262068</td>\n      <td>1424262069</td>\n      <td>17.394400</td>\n      <td>12.405143</td>\n      <td>0.000608</td>\n      <td>0.000468</td>\n      <td>0.000140</td>\n      <td>0</td>\n      <td>0</td>\n      <td>NaN</td>\n      <td>NaN</td>\n      <td></td>\n      <td>1</td>\n      <td>2</td>\n      <td>3</td>\n      <td>3</td>\n      <td>1</td>\n      <td>1</td>\n      <td>3</td>\n      <td>Normal</td>\n      <td>0</td>\n    </tr>\n    <tr>\n      <th>2540041</th>\n      <td>59.166.0.9</td>\n      <td>35433</td>\n      <td>149.171.126.0</td>\n      <td>80</td>\n      <td>tcp</td>\n      <td>CON</td>\n      <td>2.200934</td>\n      <td>3498</td>\n      <td>166054</td>\n      <td>31</td>\n      <td>29</td>\n      <td>2</td>\n      <td>57</td>\n      <td>http</td>\n      <td>12496.513670</td>\n      <td>5.983751e+05</td>\n      <td>58</td>\n      <td>116</td>\n      <td>255</td>\n      <td>255</td>\n      <td>1289728069</td>\n      <td>3436097151</td>\n      <td>60</td>\n      <td>1432</td>\n      <td>1</td>\n      <td>79745</td>\n      <td>2868.893137</td>\n      <td>1951.035944</td>\n      <td>1424262067</td>\n      <td>1424262069</td>\n      <td>38.609700</td>\n      <td>19.133826</td>\n      <td>0.000680</td>\n      <td>0.000541</td>\n      <td>0.000139</td>\n      <td>0</td>\n      <td>0</td>\n      <td>2.0</td>\n      <td>NaN</td>\n      <td></td>\n      <td>1</td>\n      <td>1</td>\n      <td>2</td>\n      <td>4</td>\n      <td>2</td>\n      <td>2</td>\n      <td>2</td>\n      <td>Normal</td>\n      <td>0</td>\n    </tr>\n    <tr>\n      <th>2540042</th>\n      <td>175.45.176.0</td>\n      <td>17293</td>\n      <td>149.171.126.17</td>\n      <td>110</td>\n      <td>tcp</td>\n      <td>CON</td>\n      <td>0.942984</td>\n      <td>574</td>\n      <td>676</td>\n      <td>62</td>\n      <td>252</td>\n      <td>5</td>\n      <td>6</td>\n      <td>pop3</td>\n      <td>4470.913574</td>\n      <td>5.259898e+03</td>\n      <td>12</td>\n      <td>12</td>\n      <td>255</td>\n      <td>255</td>\n      <td>3026824982</td>\n      <td>3748412468</td>\n      <td>48</td>\n      <td>56</td>\n      <td>0</td>\n      <td>0</td>\n      <td>3903.523582</td>\n      <td>95.650531</td>\n      <td>1424262068</td>\n      <td>1424262069</td>\n      <td>79.714089</td>\n      <td>80.827180</td>\n      <td>0.139446</td>\n      <td>0.053884</td>\n      <td>0.085562</td>\n      <td>0</td>\n      <td>3</td>\n      <td>NaN</td>\n      <td>NaN</td>\n      <td></td>\n      <td>1</td>\n      <td>1</td>\n      <td>2</td>\n      <td>4</td>\n      <td>2</td>\n      <td>2</td>\n      <td>2</td>\n      <td>Exploits</td>\n      <td>1</td>\n    </tr>\n  </tbody>\n</table>\n<p>2059418 rows × 49 columns</p>\n</div>"
     },
     "execution_count": 5,
     "metadata": {},
     "output_type": "execute_result"
    }
   ],
   "source": [
    "#change NaN to Normal\n",
    "import math\n",
    "\n",
    "ds_full_new['attack_cat'].replace(math.nan, 'Normal', inplace=True)\n",
    "ds_full_new"
   ],
   "metadata": {
    "collapsed": false,
    "pycharm": {
     "name": "#%%\n"
    }
   }
  },
  {
   "cell_type": "code",
   "execution_count": 6,
   "outputs": [
    {
     "data": {
      "text/plain": "         sport dsport proto state       dur  sbytes  dbytes  sttl  dttl  \\\n0        33661   1024   udp   CON  0.036133     528     304    31    29   \n1         1464     53   udp   CON  0.001119     146     178    31    29   \n2         3593     53   udp   CON  0.001209     132     164    31    29   \n3        49664     53   udp   CON  0.001169     146     178    31    29   \n4        32119    111   udp   CON  0.078339     568     312    31    29   \n...        ...    ...   ...   ...       ...     ...     ...   ...   ...   \n2540035  38606     80   tcp   CON  0.564998   14106  772406    31    29   \n2540037  38606     80   tcp   CON  0.564998   14106  772406    31    29   \n2540038  33094  43433   tcp   FIN  0.087306     320    1828    31    29   \n2540041  35433     80   tcp   CON  2.200934    3498  166054    31    29   \n2540042  17293    110   tcp   CON  0.942984     574     676    62   252   \n\n         sloss  dloss    service          Sload         Dload  Spkts  Dpkts  \\\n0            0      0  undefined   87676.085940  5.048017e+04      4      4   \n1            0      0        dns  521894.531300  6.362824e+05      2      2   \n2            0      0        dns  436724.562500  5.425972e+05      2      2   \n3            0      0        dns  499572.250000  6.090676e+05      2      2   \n4            0      0  undefined   43503.234380  2.389614e+04      4      4   \n...        ...    ...        ...            ...           ...    ...    ...   \n2540035      2    262       http  198981.250000  1.091598e+07    262    526   \n2540037      2    262  undefined  198981.250000  1.091598e+07    262    526   \n2540038      1      2   ftp-data   24465.671880  1.466108e+05      6      8   \n2540041      2     57       http   12496.513670  5.983751e+05     58    116   \n2540042      5      6       pop3    4470.913574  5.259898e+03     12     12   \n\n         swin  dwin       stcpb       dtcpb  smeansz  dmeansz  trans_depth  \\\n0           0     0           0           0      132       76            0   \n1           0     0           0           0       73       89            0   \n2           0     0           0           0       66       82            0   \n3           0     0           0           0       73       89            0   \n4           0     0           0           0      142       78            0   \n...       ...   ...         ...         ...      ...      ...          ...   \n2540035   255   255   162243658   163257853       54     1468            1   \n2540037   255   255   162243658   163257853       54     1468            1   \n2540038   255   255  4035116044   222196311       53      229            0   \n2540041   255   255  1289728069  3436097151       60     1432            1   \n2540042   255   255  3026824982  3748412468       48       56            0   \n\n         res_bdy_len         Sjit         Djit       Stime       Ltime  \\\n0                  0     9.891010    10.682733  1421927414  1421927414   \n1                  0     0.000000     0.000000  1421927414  1421927414   \n2                  0     0.000000     0.000000  1421927414  1421927414   \n3                  0     0.000000     0.000000  1421927414  1421927414   \n4                  0    29.682221    34.370340  1421927414  1421927414   \n...              ...          ...          ...         ...         ...   \n2540035       372266   116.321921    69.874077  1424262068  1424262069   \n2540037       372266   116.321921    69.874077  1424262068  1424262069   \n2540038            0  1221.136547    30.096029  1424262068  1424262069   \n2540041        79745  2868.893137  1951.035944  1424262067  1424262069   \n2540042            0  3903.523582    95.650531  1424262068  1424262069   \n\n           Sintpkt    Dintpkt    tcprtt    synack    ackdat  is_sm_ips_ports  \\\n0         7.005000   7.564333  0.000000  0.000000  0.000000                0   \n1         0.017000   0.013000  0.000000  0.000000  0.000000                0   \n2         0.043000   0.014000  0.000000  0.000000  0.000000                0   \n3         0.005000   0.003000  0.000000  0.000000  0.000000                0   \n4        21.003000  24.315000  0.000000  0.000000  0.000000                0   \n...            ...        ...       ...       ...       ...              ...   \n2540035   2.123130   1.075171  0.000669  0.000530  0.000139                0   \n2540037   2.123130   1.075171  0.000669  0.000530  0.000139                0   \n2540038  17.394400  12.405143  0.000608  0.000468  0.000140                0   \n2540041  38.609700  19.133826  0.000680  0.000541  0.000139                0   \n2540042  79.714089  80.827180  0.139446  0.053884  0.085562                0   \n\n         ct_state_ttl  ct_flw_http_mthd  is_ftp_login ct_ftp_cmd  ct_srv_src  \\\n0                   0               0.0           0.0          0           2   \n1                   0               0.0           0.0          0          12   \n2                   0               0.0           0.0          0           6   \n3                   0               0.0           0.0          0           7   \n4                   0               0.0           0.0          0           2   \n...               ...               ...           ...        ...         ...   \n2540035             0               2.0           NaN                      1   \n2540037             0               2.0           NaN                      2   \n2540038             0               NaN           NaN                      1   \n2540041             0               2.0           NaN                      1   \n2540042             3               NaN           NaN                      1   \n\n         ct_srv_dst  ct_dst_ltm  ct_src_ ltm  ct_src_dport_ltm  \\\n0                 4           2            3                 1   \n1                 8           1            2                 2   \n2                 9           1            1                 1   \n3                 9           1            1                 1   \n4                 4           2            3                 1   \n...             ...         ...          ...               ...   \n2540035           1           4            2                 2   \n2540037           1           4            2                 2   \n2540038           2           3            3                 1   \n2540041           1           2            4                 2   \n2540042           1           2            4                 2   \n\n         ct_dst_sport_ltm  ct_dst_src_ltm attack_cat  label  \n0                       1               2     Normal      0  \n1                       1               1     Normal      0  \n2                       1               1     Normal      0  \n3                       1               1     Normal      0  \n4                       1               2     Normal      0  \n...                   ...             ...        ...    ...  \n2540035                 2               2     Normal      0  \n2540037                 2               2     Normal      0  \n2540038                 1               3     Normal      0  \n2540041                 2               2     Normal      0  \n2540042                 2               2   Exploits      1  \n\n[2059418 rows x 47 columns]",
      "text/html": "<div>\n<style scoped>\n    .dataframe tbody tr th:only-of-type {\n        vertical-align: middle;\n    }\n\n    .dataframe tbody tr th {\n        vertical-align: top;\n    }\n\n    .dataframe thead th {\n        text-align: right;\n    }\n</style>\n<table border=\"1\" class=\"dataframe\">\n  <thead>\n    <tr style=\"text-align: right;\">\n      <th></th>\n      <th>sport</th>\n      <th>dsport</th>\n      <th>proto</th>\n      <th>state</th>\n      <th>dur</th>\n      <th>sbytes</th>\n      <th>dbytes</th>\n      <th>sttl</th>\n      <th>dttl</th>\n      <th>sloss</th>\n      <th>dloss</th>\n      <th>service</th>\n      <th>Sload</th>\n      <th>Dload</th>\n      <th>Spkts</th>\n      <th>Dpkts</th>\n      <th>swin</th>\n      <th>dwin</th>\n      <th>stcpb</th>\n      <th>dtcpb</th>\n      <th>smeansz</th>\n      <th>dmeansz</th>\n      <th>trans_depth</th>\n      <th>res_bdy_len</th>\n      <th>Sjit</th>\n      <th>Djit</th>\n      <th>Stime</th>\n      <th>Ltime</th>\n      <th>Sintpkt</th>\n      <th>Dintpkt</th>\n      <th>tcprtt</th>\n      <th>synack</th>\n      <th>ackdat</th>\n      <th>is_sm_ips_ports</th>\n      <th>ct_state_ttl</th>\n      <th>ct_flw_http_mthd</th>\n      <th>is_ftp_login</th>\n      <th>ct_ftp_cmd</th>\n      <th>ct_srv_src</th>\n      <th>ct_srv_dst</th>\n      <th>ct_dst_ltm</th>\n      <th>ct_src_ ltm</th>\n      <th>ct_src_dport_ltm</th>\n      <th>ct_dst_sport_ltm</th>\n      <th>ct_dst_src_ltm</th>\n      <th>attack_cat</th>\n      <th>label</th>\n    </tr>\n  </thead>\n  <tbody>\n    <tr>\n      <th>0</th>\n      <td>33661</td>\n      <td>1024</td>\n      <td>udp</td>\n      <td>CON</td>\n      <td>0.036133</td>\n      <td>528</td>\n      <td>304</td>\n      <td>31</td>\n      <td>29</td>\n      <td>0</td>\n      <td>0</td>\n      <td>undefined</td>\n      <td>87676.085940</td>\n      <td>5.048017e+04</td>\n      <td>4</td>\n      <td>4</td>\n      <td>0</td>\n      <td>0</td>\n      <td>0</td>\n      <td>0</td>\n      <td>132</td>\n      <td>76</td>\n      <td>0</td>\n      <td>0</td>\n      <td>9.891010</td>\n      <td>10.682733</td>\n      <td>1421927414</td>\n      <td>1421927414</td>\n      <td>7.005000</td>\n      <td>7.564333</td>\n      <td>0.000000</td>\n      <td>0.000000</td>\n      <td>0.000000</td>\n      <td>0</td>\n      <td>0</td>\n      <td>0.0</td>\n      <td>0.0</td>\n      <td>0</td>\n      <td>2</td>\n      <td>4</td>\n      <td>2</td>\n      <td>3</td>\n      <td>1</td>\n      <td>1</td>\n      <td>2</td>\n      <td>Normal</td>\n      <td>0</td>\n    </tr>\n    <tr>\n      <th>1</th>\n      <td>1464</td>\n      <td>53</td>\n      <td>udp</td>\n      <td>CON</td>\n      <td>0.001119</td>\n      <td>146</td>\n      <td>178</td>\n      <td>31</td>\n      <td>29</td>\n      <td>0</td>\n      <td>0</td>\n      <td>dns</td>\n      <td>521894.531300</td>\n      <td>6.362824e+05</td>\n      <td>2</td>\n      <td>2</td>\n      <td>0</td>\n      <td>0</td>\n      <td>0</td>\n      <td>0</td>\n      <td>73</td>\n      <td>89</td>\n      <td>0</td>\n      <td>0</td>\n      <td>0.000000</td>\n      <td>0.000000</td>\n      <td>1421927414</td>\n      <td>1421927414</td>\n      <td>0.017000</td>\n      <td>0.013000</td>\n      <td>0.000000</td>\n      <td>0.000000</td>\n      <td>0.000000</td>\n      <td>0</td>\n      <td>0</td>\n      <td>0.0</td>\n      <td>0.0</td>\n      <td>0</td>\n      <td>12</td>\n      <td>8</td>\n      <td>1</td>\n      <td>2</td>\n      <td>2</td>\n      <td>1</td>\n      <td>1</td>\n      <td>Normal</td>\n      <td>0</td>\n    </tr>\n    <tr>\n      <th>2</th>\n      <td>3593</td>\n      <td>53</td>\n      <td>udp</td>\n      <td>CON</td>\n      <td>0.001209</td>\n      <td>132</td>\n      <td>164</td>\n      <td>31</td>\n      <td>29</td>\n      <td>0</td>\n      <td>0</td>\n      <td>dns</td>\n      <td>436724.562500</td>\n      <td>5.425972e+05</td>\n      <td>2</td>\n      <td>2</td>\n      <td>0</td>\n      <td>0</td>\n      <td>0</td>\n      <td>0</td>\n      <td>66</td>\n      <td>82</td>\n      <td>0</td>\n      <td>0</td>\n      <td>0.000000</td>\n      <td>0.000000</td>\n      <td>1421927414</td>\n      <td>1421927414</td>\n      <td>0.043000</td>\n      <td>0.014000</td>\n      <td>0.000000</td>\n      <td>0.000000</td>\n      <td>0.000000</td>\n      <td>0</td>\n      <td>0</td>\n      <td>0.0</td>\n      <td>0.0</td>\n      <td>0</td>\n      <td>6</td>\n      <td>9</td>\n      <td>1</td>\n      <td>1</td>\n      <td>1</td>\n      <td>1</td>\n      <td>1</td>\n      <td>Normal</td>\n      <td>0</td>\n    </tr>\n    <tr>\n      <th>3</th>\n      <td>49664</td>\n      <td>53</td>\n      <td>udp</td>\n      <td>CON</td>\n      <td>0.001169</td>\n      <td>146</td>\n      <td>178</td>\n      <td>31</td>\n      <td>29</td>\n      <td>0</td>\n      <td>0</td>\n      <td>dns</td>\n      <td>499572.250000</td>\n      <td>6.090676e+05</td>\n      <td>2</td>\n      <td>2</td>\n      <td>0</td>\n      <td>0</td>\n      <td>0</td>\n      <td>0</td>\n      <td>73</td>\n      <td>89</td>\n      <td>0</td>\n      <td>0</td>\n      <td>0.000000</td>\n      <td>0.000000</td>\n      <td>1421927414</td>\n      <td>1421927414</td>\n      <td>0.005000</td>\n      <td>0.003000</td>\n      <td>0.000000</td>\n      <td>0.000000</td>\n      <td>0.000000</td>\n      <td>0</td>\n      <td>0</td>\n      <td>0.0</td>\n      <td>0.0</td>\n      <td>0</td>\n      <td>7</td>\n      <td>9</td>\n      <td>1</td>\n      <td>1</td>\n      <td>1</td>\n      <td>1</td>\n      <td>1</td>\n      <td>Normal</td>\n      <td>0</td>\n    </tr>\n    <tr>\n      <th>4</th>\n      <td>32119</td>\n      <td>111</td>\n      <td>udp</td>\n      <td>CON</td>\n      <td>0.078339</td>\n      <td>568</td>\n      <td>312</td>\n      <td>31</td>\n      <td>29</td>\n      <td>0</td>\n      <td>0</td>\n      <td>undefined</td>\n      <td>43503.234380</td>\n      <td>2.389614e+04</td>\n      <td>4</td>\n      <td>4</td>\n      <td>0</td>\n      <td>0</td>\n      <td>0</td>\n      <td>0</td>\n      <td>142</td>\n      <td>78</td>\n      <td>0</td>\n      <td>0</td>\n      <td>29.682221</td>\n      <td>34.370340</td>\n      <td>1421927414</td>\n      <td>1421927414</td>\n      <td>21.003000</td>\n      <td>24.315000</td>\n      <td>0.000000</td>\n      <td>0.000000</td>\n      <td>0.000000</td>\n      <td>0</td>\n      <td>0</td>\n      <td>0.0</td>\n      <td>0.0</td>\n      <td>0</td>\n      <td>2</td>\n      <td>4</td>\n      <td>2</td>\n      <td>3</td>\n      <td>1</td>\n      <td>1</td>\n      <td>2</td>\n      <td>Normal</td>\n      <td>0</td>\n    </tr>\n    <tr>\n      <th>...</th>\n      <td>...</td>\n      <td>...</td>\n      <td>...</td>\n      <td>...</td>\n      <td>...</td>\n      <td>...</td>\n      <td>...</td>\n      <td>...</td>\n      <td>...</td>\n      <td>...</td>\n      <td>...</td>\n      <td>...</td>\n      <td>...</td>\n      <td>...</td>\n      <td>...</td>\n      <td>...</td>\n      <td>...</td>\n      <td>...</td>\n      <td>...</td>\n      <td>...</td>\n      <td>...</td>\n      <td>...</td>\n      <td>...</td>\n      <td>...</td>\n      <td>...</td>\n      <td>...</td>\n      <td>...</td>\n      <td>...</td>\n      <td>...</td>\n      <td>...</td>\n      <td>...</td>\n      <td>...</td>\n      <td>...</td>\n      <td>...</td>\n      <td>...</td>\n      <td>...</td>\n      <td>...</td>\n      <td>...</td>\n      <td>...</td>\n      <td>...</td>\n      <td>...</td>\n      <td>...</td>\n      <td>...</td>\n      <td>...</td>\n      <td>...</td>\n      <td>...</td>\n      <td>...</td>\n    </tr>\n    <tr>\n      <th>2540035</th>\n      <td>38606</td>\n      <td>80</td>\n      <td>tcp</td>\n      <td>CON</td>\n      <td>0.564998</td>\n      <td>14106</td>\n      <td>772406</td>\n      <td>31</td>\n      <td>29</td>\n      <td>2</td>\n      <td>262</td>\n      <td>http</td>\n      <td>198981.250000</td>\n      <td>1.091598e+07</td>\n      <td>262</td>\n      <td>526</td>\n      <td>255</td>\n      <td>255</td>\n      <td>162243658</td>\n      <td>163257853</td>\n      <td>54</td>\n      <td>1468</td>\n      <td>1</td>\n      <td>372266</td>\n      <td>116.321921</td>\n      <td>69.874077</td>\n      <td>1424262068</td>\n      <td>1424262069</td>\n      <td>2.123130</td>\n      <td>1.075171</td>\n      <td>0.000669</td>\n      <td>0.000530</td>\n      <td>0.000139</td>\n      <td>0</td>\n      <td>0</td>\n      <td>2.0</td>\n      <td>NaN</td>\n      <td></td>\n      <td>1</td>\n      <td>1</td>\n      <td>4</td>\n      <td>2</td>\n      <td>2</td>\n      <td>2</td>\n      <td>2</td>\n      <td>Normal</td>\n      <td>0</td>\n    </tr>\n    <tr>\n      <th>2540037</th>\n      <td>38606</td>\n      <td>80</td>\n      <td>tcp</td>\n      <td>CON</td>\n      <td>0.564998</td>\n      <td>14106</td>\n      <td>772406</td>\n      <td>31</td>\n      <td>29</td>\n      <td>2</td>\n      <td>262</td>\n      <td>undefined</td>\n      <td>198981.250000</td>\n      <td>1.091598e+07</td>\n      <td>262</td>\n      <td>526</td>\n      <td>255</td>\n      <td>255</td>\n      <td>162243658</td>\n      <td>163257853</td>\n      <td>54</td>\n      <td>1468</td>\n      <td>1</td>\n      <td>372266</td>\n      <td>116.321921</td>\n      <td>69.874077</td>\n      <td>1424262068</td>\n      <td>1424262069</td>\n      <td>2.123130</td>\n      <td>1.075171</td>\n      <td>0.000669</td>\n      <td>0.000530</td>\n      <td>0.000139</td>\n      <td>0</td>\n      <td>0</td>\n      <td>2.0</td>\n      <td>NaN</td>\n      <td></td>\n      <td>2</td>\n      <td>1</td>\n      <td>4</td>\n      <td>2</td>\n      <td>2</td>\n      <td>2</td>\n      <td>2</td>\n      <td>Normal</td>\n      <td>0</td>\n    </tr>\n    <tr>\n      <th>2540038</th>\n      <td>33094</td>\n      <td>43433</td>\n      <td>tcp</td>\n      <td>FIN</td>\n      <td>0.087306</td>\n      <td>320</td>\n      <td>1828</td>\n      <td>31</td>\n      <td>29</td>\n      <td>1</td>\n      <td>2</td>\n      <td>ftp-data</td>\n      <td>24465.671880</td>\n      <td>1.466108e+05</td>\n      <td>6</td>\n      <td>8</td>\n      <td>255</td>\n      <td>255</td>\n      <td>4035116044</td>\n      <td>222196311</td>\n      <td>53</td>\n      <td>229</td>\n      <td>0</td>\n      <td>0</td>\n      <td>1221.136547</td>\n      <td>30.096029</td>\n      <td>1424262068</td>\n      <td>1424262069</td>\n      <td>17.394400</td>\n      <td>12.405143</td>\n      <td>0.000608</td>\n      <td>0.000468</td>\n      <td>0.000140</td>\n      <td>0</td>\n      <td>0</td>\n      <td>NaN</td>\n      <td>NaN</td>\n      <td></td>\n      <td>1</td>\n      <td>2</td>\n      <td>3</td>\n      <td>3</td>\n      <td>1</td>\n      <td>1</td>\n      <td>3</td>\n      <td>Normal</td>\n      <td>0</td>\n    </tr>\n    <tr>\n      <th>2540041</th>\n      <td>35433</td>\n      <td>80</td>\n      <td>tcp</td>\n      <td>CON</td>\n      <td>2.200934</td>\n      <td>3498</td>\n      <td>166054</td>\n      <td>31</td>\n      <td>29</td>\n      <td>2</td>\n      <td>57</td>\n      <td>http</td>\n      <td>12496.513670</td>\n      <td>5.983751e+05</td>\n      <td>58</td>\n      <td>116</td>\n      <td>255</td>\n      <td>255</td>\n      <td>1289728069</td>\n      <td>3436097151</td>\n      <td>60</td>\n      <td>1432</td>\n      <td>1</td>\n      <td>79745</td>\n      <td>2868.893137</td>\n      <td>1951.035944</td>\n      <td>1424262067</td>\n      <td>1424262069</td>\n      <td>38.609700</td>\n      <td>19.133826</td>\n      <td>0.000680</td>\n      <td>0.000541</td>\n      <td>0.000139</td>\n      <td>0</td>\n      <td>0</td>\n      <td>2.0</td>\n      <td>NaN</td>\n      <td></td>\n      <td>1</td>\n      <td>1</td>\n      <td>2</td>\n      <td>4</td>\n      <td>2</td>\n      <td>2</td>\n      <td>2</td>\n      <td>Normal</td>\n      <td>0</td>\n    </tr>\n    <tr>\n      <th>2540042</th>\n      <td>17293</td>\n      <td>110</td>\n      <td>tcp</td>\n      <td>CON</td>\n      <td>0.942984</td>\n      <td>574</td>\n      <td>676</td>\n      <td>62</td>\n      <td>252</td>\n      <td>5</td>\n      <td>6</td>\n      <td>pop3</td>\n      <td>4470.913574</td>\n      <td>5.259898e+03</td>\n      <td>12</td>\n      <td>12</td>\n      <td>255</td>\n      <td>255</td>\n      <td>3026824982</td>\n      <td>3748412468</td>\n      <td>48</td>\n      <td>56</td>\n      <td>0</td>\n      <td>0</td>\n      <td>3903.523582</td>\n      <td>95.650531</td>\n      <td>1424262068</td>\n      <td>1424262069</td>\n      <td>79.714089</td>\n      <td>80.827180</td>\n      <td>0.139446</td>\n      <td>0.053884</td>\n      <td>0.085562</td>\n      <td>0</td>\n      <td>3</td>\n      <td>NaN</td>\n      <td>NaN</td>\n      <td></td>\n      <td>1</td>\n      <td>1</td>\n      <td>2</td>\n      <td>4</td>\n      <td>2</td>\n      <td>2</td>\n      <td>2</td>\n      <td>Exploits</td>\n      <td>1</td>\n    </tr>\n  </tbody>\n</table>\n<p>2059418 rows × 47 columns</p>\n</div>"
     },
     "execution_count": 6,
     "metadata": {},
     "output_type": "execute_result"
    }
   ],
   "source": [
    "# drop source IP and destination IP\n",
    "ds_full_new.drop(columns=['srcip','dstip'],inplace=True)\n",
    "ds_full_new"
   ],
   "metadata": {
    "collapsed": false,
    "pycharm": {
     "name": "#%%\n"
    }
   }
  },
  {
   "cell_type": "code",
   "execution_count": 7,
   "outputs": [
    {
     "data": {
      "text/plain": "         sport dsport proto state       dur  sbytes  dbytes  sttl  dttl  \\\n0        33661   1024   udp   CON  0.036133     528     304    31    29   \n1         1464     53   udp   CON  0.001119     146     178    31    29   \n2         3593     53   udp   CON  0.001209     132     164    31    29   \n3        49664     53   udp   CON  0.001169     146     178    31    29   \n4        32119    111   udp   CON  0.078339     568     312    31    29   \n...        ...    ...   ...   ...       ...     ...     ...   ...   ...   \n2540035  38606     80   tcp   CON  0.564998   14106  772406    31    29   \n2540037  38606     80   tcp   CON  0.564998   14106  772406    31    29   \n2540038  33094  43433   tcp   FIN  0.087306     320    1828    31    29   \n2540041  35433     80   tcp   CON  2.200934    3498  166054    31    29   \n2540042  17293    110   tcp   CON  0.942984     574     676    62   252   \n\n         sloss  dloss    service          Sload         Dload  Spkts  Dpkts  \\\n0            0      0  undefined   87676.085940  5.048017e+04      4      4   \n1            0      0        dns  521894.531300  6.362824e+05      2      2   \n2            0      0        dns  436724.562500  5.425972e+05      2      2   \n3            0      0        dns  499572.250000  6.090676e+05      2      2   \n4            0      0  undefined   43503.234380  2.389614e+04      4      4   \n...        ...    ...        ...            ...           ...    ...    ...   \n2540035      2    262       http  198981.250000  1.091598e+07    262    526   \n2540037      2    262  undefined  198981.250000  1.091598e+07    262    526   \n2540038      1      2   ftp-data   24465.671880  1.466108e+05      6      8   \n2540041      2     57       http   12496.513670  5.983751e+05     58    116   \n2540042      5      6       pop3    4470.913574  5.259898e+03     12     12   \n\n         swin  dwin       stcpb       dtcpb  smeansz  dmeansz  trans_depth  \\\n0           0     0           0           0      132       76            0   \n1           0     0           0           0       73       89            0   \n2           0     0           0           0       66       82            0   \n3           0     0           0           0       73       89            0   \n4           0     0           0           0      142       78            0   \n...       ...   ...         ...         ...      ...      ...          ...   \n2540035   255   255   162243658   163257853       54     1468            1   \n2540037   255   255   162243658   163257853       54     1468            1   \n2540038   255   255  4035116044   222196311       53      229            0   \n2540041   255   255  1289728069  3436097151       60     1432            1   \n2540042   255   255  3026824982  3748412468       48       56            0   \n\n         res_bdy_len         Sjit         Djit       Stime       Ltime  \\\n0                  0     9.891010    10.682733  1421927414  1421927414   \n1                  0     0.000000     0.000000  1421927414  1421927414   \n2                  0     0.000000     0.000000  1421927414  1421927414   \n3                  0     0.000000     0.000000  1421927414  1421927414   \n4                  0    29.682221    34.370340  1421927414  1421927414   \n...              ...          ...          ...         ...         ...   \n2540035       372266   116.321921    69.874077  1424262068  1424262069   \n2540037       372266   116.321921    69.874077  1424262068  1424262069   \n2540038            0  1221.136547    30.096029  1424262068  1424262069   \n2540041        79745  2868.893137  1951.035944  1424262067  1424262069   \n2540042            0  3903.523582    95.650531  1424262068  1424262069   \n\n           Sintpkt    Dintpkt    tcprtt    synack    ackdat  is_sm_ips_ports  \\\n0         7.005000   7.564333  0.000000  0.000000  0.000000                0   \n1         0.017000   0.013000  0.000000  0.000000  0.000000                0   \n2         0.043000   0.014000  0.000000  0.000000  0.000000                0   \n3         0.005000   0.003000  0.000000  0.000000  0.000000                0   \n4        21.003000  24.315000  0.000000  0.000000  0.000000                0   \n...            ...        ...       ...       ...       ...              ...   \n2540035   2.123130   1.075171  0.000669  0.000530  0.000139                0   \n2540037   2.123130   1.075171  0.000669  0.000530  0.000139                0   \n2540038  17.394400  12.405143  0.000608  0.000468  0.000140                0   \n2540041  38.609700  19.133826  0.000680  0.000541  0.000139                0   \n2540042  79.714089  80.827180  0.139446  0.053884  0.085562                0   \n\n         ct_state_ttl  ct_flw_http_mthd  is_ftp_login ct_ftp_cmd  ct_srv_src  \\\n0                   0               0.0           0.0          0           2   \n1                   0               0.0           0.0          0          12   \n2                   0               0.0           0.0          0           6   \n3                   0               0.0           0.0          0           7   \n4                   0               0.0           0.0          0           2   \n...               ...               ...           ...        ...         ...   \n2540035             0               2.0           NaN                      1   \n2540037             0               2.0           NaN                      2   \n2540038             0               NaN           NaN                      1   \n2540041             0               2.0           NaN                      1   \n2540042             3               NaN           NaN                      1   \n\n         ct_srv_dst  ct_dst_ltm  ct_src_ ltm  ct_src_dport_ltm  \\\n0                 4           2            3                 1   \n1                 8           1            2                 2   \n2                 9           1            1                 1   \n3                 9           1            1                 1   \n4                 4           2            3                 1   \n...             ...         ...          ...               ...   \n2540035           1           4            2                 2   \n2540037           1           4            2                 2   \n2540038           2           3            3                 1   \n2540041           1           2            4                 2   \n2540042           1           2            4                 2   \n\n         ct_dst_sport_ltm  ct_dst_src_ltm attack_cat  \n0                       1               2     Normal  \n1                       1               1     Normal  \n2                       1               1     Normal  \n3                       1               1     Normal  \n4                       1               2     Normal  \n...                   ...             ...        ...  \n2540035                 2               2     Normal  \n2540037                 2               2     Normal  \n2540038                 1               3     Normal  \n2540041                 2               2     Normal  \n2540042                 2               2   Exploits  \n\n[2059418 rows x 46 columns]",
      "text/html": "<div>\n<style scoped>\n    .dataframe tbody tr th:only-of-type {\n        vertical-align: middle;\n    }\n\n    .dataframe tbody tr th {\n        vertical-align: top;\n    }\n\n    .dataframe thead th {\n        text-align: right;\n    }\n</style>\n<table border=\"1\" class=\"dataframe\">\n  <thead>\n    <tr style=\"text-align: right;\">\n      <th></th>\n      <th>sport</th>\n      <th>dsport</th>\n      <th>proto</th>\n      <th>state</th>\n      <th>dur</th>\n      <th>sbytes</th>\n      <th>dbytes</th>\n      <th>sttl</th>\n      <th>dttl</th>\n      <th>sloss</th>\n      <th>dloss</th>\n      <th>service</th>\n      <th>Sload</th>\n      <th>Dload</th>\n      <th>Spkts</th>\n      <th>Dpkts</th>\n      <th>swin</th>\n      <th>dwin</th>\n      <th>stcpb</th>\n      <th>dtcpb</th>\n      <th>smeansz</th>\n      <th>dmeansz</th>\n      <th>trans_depth</th>\n      <th>res_bdy_len</th>\n      <th>Sjit</th>\n      <th>Djit</th>\n      <th>Stime</th>\n      <th>Ltime</th>\n      <th>Sintpkt</th>\n      <th>Dintpkt</th>\n      <th>tcprtt</th>\n      <th>synack</th>\n      <th>ackdat</th>\n      <th>is_sm_ips_ports</th>\n      <th>ct_state_ttl</th>\n      <th>ct_flw_http_mthd</th>\n      <th>is_ftp_login</th>\n      <th>ct_ftp_cmd</th>\n      <th>ct_srv_src</th>\n      <th>ct_srv_dst</th>\n      <th>ct_dst_ltm</th>\n      <th>ct_src_ ltm</th>\n      <th>ct_src_dport_ltm</th>\n      <th>ct_dst_sport_ltm</th>\n      <th>ct_dst_src_ltm</th>\n      <th>attack_cat</th>\n    </tr>\n  </thead>\n  <tbody>\n    <tr>\n      <th>0</th>\n      <td>33661</td>\n      <td>1024</td>\n      <td>udp</td>\n      <td>CON</td>\n      <td>0.036133</td>\n      <td>528</td>\n      <td>304</td>\n      <td>31</td>\n      <td>29</td>\n      <td>0</td>\n      <td>0</td>\n      <td>undefined</td>\n      <td>87676.085940</td>\n      <td>5.048017e+04</td>\n      <td>4</td>\n      <td>4</td>\n      <td>0</td>\n      <td>0</td>\n      <td>0</td>\n      <td>0</td>\n      <td>132</td>\n      <td>76</td>\n      <td>0</td>\n      <td>0</td>\n      <td>9.891010</td>\n      <td>10.682733</td>\n      <td>1421927414</td>\n      <td>1421927414</td>\n      <td>7.005000</td>\n      <td>7.564333</td>\n      <td>0.000000</td>\n      <td>0.000000</td>\n      <td>0.000000</td>\n      <td>0</td>\n      <td>0</td>\n      <td>0.0</td>\n      <td>0.0</td>\n      <td>0</td>\n      <td>2</td>\n      <td>4</td>\n      <td>2</td>\n      <td>3</td>\n      <td>1</td>\n      <td>1</td>\n      <td>2</td>\n      <td>Normal</td>\n    </tr>\n    <tr>\n      <th>1</th>\n      <td>1464</td>\n      <td>53</td>\n      <td>udp</td>\n      <td>CON</td>\n      <td>0.001119</td>\n      <td>146</td>\n      <td>178</td>\n      <td>31</td>\n      <td>29</td>\n      <td>0</td>\n      <td>0</td>\n      <td>dns</td>\n      <td>521894.531300</td>\n      <td>6.362824e+05</td>\n      <td>2</td>\n      <td>2</td>\n      <td>0</td>\n      <td>0</td>\n      <td>0</td>\n      <td>0</td>\n      <td>73</td>\n      <td>89</td>\n      <td>0</td>\n      <td>0</td>\n      <td>0.000000</td>\n      <td>0.000000</td>\n      <td>1421927414</td>\n      <td>1421927414</td>\n      <td>0.017000</td>\n      <td>0.013000</td>\n      <td>0.000000</td>\n      <td>0.000000</td>\n      <td>0.000000</td>\n      <td>0</td>\n      <td>0</td>\n      <td>0.0</td>\n      <td>0.0</td>\n      <td>0</td>\n      <td>12</td>\n      <td>8</td>\n      <td>1</td>\n      <td>2</td>\n      <td>2</td>\n      <td>1</td>\n      <td>1</td>\n      <td>Normal</td>\n    </tr>\n    <tr>\n      <th>2</th>\n      <td>3593</td>\n      <td>53</td>\n      <td>udp</td>\n      <td>CON</td>\n      <td>0.001209</td>\n      <td>132</td>\n      <td>164</td>\n      <td>31</td>\n      <td>29</td>\n      <td>0</td>\n      <td>0</td>\n      <td>dns</td>\n      <td>436724.562500</td>\n      <td>5.425972e+05</td>\n      <td>2</td>\n      <td>2</td>\n      <td>0</td>\n      <td>0</td>\n      <td>0</td>\n      <td>0</td>\n      <td>66</td>\n      <td>82</td>\n      <td>0</td>\n      <td>0</td>\n      <td>0.000000</td>\n      <td>0.000000</td>\n      <td>1421927414</td>\n      <td>1421927414</td>\n      <td>0.043000</td>\n      <td>0.014000</td>\n      <td>0.000000</td>\n      <td>0.000000</td>\n      <td>0.000000</td>\n      <td>0</td>\n      <td>0</td>\n      <td>0.0</td>\n      <td>0.0</td>\n      <td>0</td>\n      <td>6</td>\n      <td>9</td>\n      <td>1</td>\n      <td>1</td>\n      <td>1</td>\n      <td>1</td>\n      <td>1</td>\n      <td>Normal</td>\n    </tr>\n    <tr>\n      <th>3</th>\n      <td>49664</td>\n      <td>53</td>\n      <td>udp</td>\n      <td>CON</td>\n      <td>0.001169</td>\n      <td>146</td>\n      <td>178</td>\n      <td>31</td>\n      <td>29</td>\n      <td>0</td>\n      <td>0</td>\n      <td>dns</td>\n      <td>499572.250000</td>\n      <td>6.090676e+05</td>\n      <td>2</td>\n      <td>2</td>\n      <td>0</td>\n      <td>0</td>\n      <td>0</td>\n      <td>0</td>\n      <td>73</td>\n      <td>89</td>\n      <td>0</td>\n      <td>0</td>\n      <td>0.000000</td>\n      <td>0.000000</td>\n      <td>1421927414</td>\n      <td>1421927414</td>\n      <td>0.005000</td>\n      <td>0.003000</td>\n      <td>0.000000</td>\n      <td>0.000000</td>\n      <td>0.000000</td>\n      <td>0</td>\n      <td>0</td>\n      <td>0.0</td>\n      <td>0.0</td>\n      <td>0</td>\n      <td>7</td>\n      <td>9</td>\n      <td>1</td>\n      <td>1</td>\n      <td>1</td>\n      <td>1</td>\n      <td>1</td>\n      <td>Normal</td>\n    </tr>\n    <tr>\n      <th>4</th>\n      <td>32119</td>\n      <td>111</td>\n      <td>udp</td>\n      <td>CON</td>\n      <td>0.078339</td>\n      <td>568</td>\n      <td>312</td>\n      <td>31</td>\n      <td>29</td>\n      <td>0</td>\n      <td>0</td>\n      <td>undefined</td>\n      <td>43503.234380</td>\n      <td>2.389614e+04</td>\n      <td>4</td>\n      <td>4</td>\n      <td>0</td>\n      <td>0</td>\n      <td>0</td>\n      <td>0</td>\n      <td>142</td>\n      <td>78</td>\n      <td>0</td>\n      <td>0</td>\n      <td>29.682221</td>\n      <td>34.370340</td>\n      <td>1421927414</td>\n      <td>1421927414</td>\n      <td>21.003000</td>\n      <td>24.315000</td>\n      <td>0.000000</td>\n      <td>0.000000</td>\n      <td>0.000000</td>\n      <td>0</td>\n      <td>0</td>\n      <td>0.0</td>\n      <td>0.0</td>\n      <td>0</td>\n      <td>2</td>\n      <td>4</td>\n      <td>2</td>\n      <td>3</td>\n      <td>1</td>\n      <td>1</td>\n      <td>2</td>\n      <td>Normal</td>\n    </tr>\n    <tr>\n      <th>...</th>\n      <td>...</td>\n      <td>...</td>\n      <td>...</td>\n      <td>...</td>\n      <td>...</td>\n      <td>...</td>\n      <td>...</td>\n      <td>...</td>\n      <td>...</td>\n      <td>...</td>\n      <td>...</td>\n      <td>...</td>\n      <td>...</td>\n      <td>...</td>\n      <td>...</td>\n      <td>...</td>\n      <td>...</td>\n      <td>...</td>\n      <td>...</td>\n      <td>...</td>\n      <td>...</td>\n      <td>...</td>\n      <td>...</td>\n      <td>...</td>\n      <td>...</td>\n      <td>...</td>\n      <td>...</td>\n      <td>...</td>\n      <td>...</td>\n      <td>...</td>\n      <td>...</td>\n      <td>...</td>\n      <td>...</td>\n      <td>...</td>\n      <td>...</td>\n      <td>...</td>\n      <td>...</td>\n      <td>...</td>\n      <td>...</td>\n      <td>...</td>\n      <td>...</td>\n      <td>...</td>\n      <td>...</td>\n      <td>...</td>\n      <td>...</td>\n      <td>...</td>\n    </tr>\n    <tr>\n      <th>2540035</th>\n      <td>38606</td>\n      <td>80</td>\n      <td>tcp</td>\n      <td>CON</td>\n      <td>0.564998</td>\n      <td>14106</td>\n      <td>772406</td>\n      <td>31</td>\n      <td>29</td>\n      <td>2</td>\n      <td>262</td>\n      <td>http</td>\n      <td>198981.250000</td>\n      <td>1.091598e+07</td>\n      <td>262</td>\n      <td>526</td>\n      <td>255</td>\n      <td>255</td>\n      <td>162243658</td>\n      <td>163257853</td>\n      <td>54</td>\n      <td>1468</td>\n      <td>1</td>\n      <td>372266</td>\n      <td>116.321921</td>\n      <td>69.874077</td>\n      <td>1424262068</td>\n      <td>1424262069</td>\n      <td>2.123130</td>\n      <td>1.075171</td>\n      <td>0.000669</td>\n      <td>0.000530</td>\n      <td>0.000139</td>\n      <td>0</td>\n      <td>0</td>\n      <td>2.0</td>\n      <td>NaN</td>\n      <td></td>\n      <td>1</td>\n      <td>1</td>\n      <td>4</td>\n      <td>2</td>\n      <td>2</td>\n      <td>2</td>\n      <td>2</td>\n      <td>Normal</td>\n    </tr>\n    <tr>\n      <th>2540037</th>\n      <td>38606</td>\n      <td>80</td>\n      <td>tcp</td>\n      <td>CON</td>\n      <td>0.564998</td>\n      <td>14106</td>\n      <td>772406</td>\n      <td>31</td>\n      <td>29</td>\n      <td>2</td>\n      <td>262</td>\n      <td>undefined</td>\n      <td>198981.250000</td>\n      <td>1.091598e+07</td>\n      <td>262</td>\n      <td>526</td>\n      <td>255</td>\n      <td>255</td>\n      <td>162243658</td>\n      <td>163257853</td>\n      <td>54</td>\n      <td>1468</td>\n      <td>1</td>\n      <td>372266</td>\n      <td>116.321921</td>\n      <td>69.874077</td>\n      <td>1424262068</td>\n      <td>1424262069</td>\n      <td>2.123130</td>\n      <td>1.075171</td>\n      <td>0.000669</td>\n      <td>0.000530</td>\n      <td>0.000139</td>\n      <td>0</td>\n      <td>0</td>\n      <td>2.0</td>\n      <td>NaN</td>\n      <td></td>\n      <td>2</td>\n      <td>1</td>\n      <td>4</td>\n      <td>2</td>\n      <td>2</td>\n      <td>2</td>\n      <td>2</td>\n      <td>Normal</td>\n    </tr>\n    <tr>\n      <th>2540038</th>\n      <td>33094</td>\n      <td>43433</td>\n      <td>tcp</td>\n      <td>FIN</td>\n      <td>0.087306</td>\n      <td>320</td>\n      <td>1828</td>\n      <td>31</td>\n      <td>29</td>\n      <td>1</td>\n      <td>2</td>\n      <td>ftp-data</td>\n      <td>24465.671880</td>\n      <td>1.466108e+05</td>\n      <td>6</td>\n      <td>8</td>\n      <td>255</td>\n      <td>255</td>\n      <td>4035116044</td>\n      <td>222196311</td>\n      <td>53</td>\n      <td>229</td>\n      <td>0</td>\n      <td>0</td>\n      <td>1221.136547</td>\n      <td>30.096029</td>\n      <td>1424262068</td>\n      <td>1424262069</td>\n      <td>17.394400</td>\n      <td>12.405143</td>\n      <td>0.000608</td>\n      <td>0.000468</td>\n      <td>0.000140</td>\n      <td>0</td>\n      <td>0</td>\n      <td>NaN</td>\n      <td>NaN</td>\n      <td></td>\n      <td>1</td>\n      <td>2</td>\n      <td>3</td>\n      <td>3</td>\n      <td>1</td>\n      <td>1</td>\n      <td>3</td>\n      <td>Normal</td>\n    </tr>\n    <tr>\n      <th>2540041</th>\n      <td>35433</td>\n      <td>80</td>\n      <td>tcp</td>\n      <td>CON</td>\n      <td>2.200934</td>\n      <td>3498</td>\n      <td>166054</td>\n      <td>31</td>\n      <td>29</td>\n      <td>2</td>\n      <td>57</td>\n      <td>http</td>\n      <td>12496.513670</td>\n      <td>5.983751e+05</td>\n      <td>58</td>\n      <td>116</td>\n      <td>255</td>\n      <td>255</td>\n      <td>1289728069</td>\n      <td>3436097151</td>\n      <td>60</td>\n      <td>1432</td>\n      <td>1</td>\n      <td>79745</td>\n      <td>2868.893137</td>\n      <td>1951.035944</td>\n      <td>1424262067</td>\n      <td>1424262069</td>\n      <td>38.609700</td>\n      <td>19.133826</td>\n      <td>0.000680</td>\n      <td>0.000541</td>\n      <td>0.000139</td>\n      <td>0</td>\n      <td>0</td>\n      <td>2.0</td>\n      <td>NaN</td>\n      <td></td>\n      <td>1</td>\n      <td>1</td>\n      <td>2</td>\n      <td>4</td>\n      <td>2</td>\n      <td>2</td>\n      <td>2</td>\n      <td>Normal</td>\n    </tr>\n    <tr>\n      <th>2540042</th>\n      <td>17293</td>\n      <td>110</td>\n      <td>tcp</td>\n      <td>CON</td>\n      <td>0.942984</td>\n      <td>574</td>\n      <td>676</td>\n      <td>62</td>\n      <td>252</td>\n      <td>5</td>\n      <td>6</td>\n      <td>pop3</td>\n      <td>4470.913574</td>\n      <td>5.259898e+03</td>\n      <td>12</td>\n      <td>12</td>\n      <td>255</td>\n      <td>255</td>\n      <td>3026824982</td>\n      <td>3748412468</td>\n      <td>48</td>\n      <td>56</td>\n      <td>0</td>\n      <td>0</td>\n      <td>3903.523582</td>\n      <td>95.650531</td>\n      <td>1424262068</td>\n      <td>1424262069</td>\n      <td>79.714089</td>\n      <td>80.827180</td>\n      <td>0.139446</td>\n      <td>0.053884</td>\n      <td>0.085562</td>\n      <td>0</td>\n      <td>3</td>\n      <td>NaN</td>\n      <td>NaN</td>\n      <td></td>\n      <td>1</td>\n      <td>1</td>\n      <td>2</td>\n      <td>4</td>\n      <td>2</td>\n      <td>2</td>\n      <td>2</td>\n      <td>Exploits</td>\n    </tr>\n  </tbody>\n</table>\n<p>2059418 rows × 46 columns</p>\n</div>"
     },
     "execution_count": 7,
     "metadata": {},
     "output_type": "execute_result"
    }
   ],
   "source": [
    "#make the multiclass now\n",
    "ds_full_multiclass = ds_full_new.drop(columns='label')\n",
    "ds_full_multiclass"
   ],
   "metadata": {
    "collapsed": false,
    "pycharm": {
     "name": "#%%\n"
    }
   }
  },
  {
   "cell_type": "code",
   "execution_count": 8,
   "outputs": [
    {
     "data": {
      "text/plain": "Normal              1959772\nExploits              27600\nGeneric               25378\n Fuzzers              17804\n Reconnaissance       11617\nDoS                    5665\n Fuzzers               3991\nAnalysis               2185\nReconnaissance         1740\nBackdoor               1684\n Shellcode             1288\nBackdoors               300\nShellcode               223\nWorms                   171\ndtype: int64"
     },
     "execution_count": 8,
     "metadata": {},
     "output_type": "execute_result"
    }
   ],
   "source": [
    "pd.value_counts(ds_full_multiclass.attack_cat.values)"
   ],
   "metadata": {
    "collapsed": false,
    "pycharm": {
     "name": "#%%\n"
    }
   }
  },
  {
   "cell_type": "code",
   "execution_count": 9,
   "outputs": [
    {
     "data": {
      "text/plain": "Normal            1959772\nExploits            27600\nGeneric             25378\nFuzzers             21795\nReconnaissance      13357\nDoS                  5665\nAnalysis             2185\nBackdoor             1684\nShellcode            1511\nBackdoors             300\nWorms                 171\ndtype: int64"
     },
     "execution_count": 9,
     "metadata": {},
     "output_type": "execute_result"
    }
   ],
   "source": [
    "#there are some typos, have to fix\n",
    "ds_full_multiclass['attack_cat'] = ds_full_multiclass['attack_cat'].str.strip()\n",
    "pd.value_counts(ds_full_multiclass.attack_cat.values)"
   ],
   "metadata": {
    "collapsed": false,
    "pycharm": {
     "name": "#%%\n"
    }
   }
  },
  {
   "cell_type": "code",
   "execution_count": 10,
   "outputs": [
    {
     "data": {
      "text/plain": "Normal            1959772\nExploits            27600\nGeneric             25378\nFuzzers             21795\nReconnaissance      13357\nDoS                  5665\nAnalysis             2185\nBackdoor             1984\nShellcode            1511\nWorms                 171\ndtype: int64"
     },
     "execution_count": 10,
     "metadata": {},
     "output_type": "execute_result"
    }
   ],
   "source": [
    "ds_full_multiclass['attack_cat'].replace('Backdoors','Backdoor',inplace=True)\n",
    "pd.value_counts(ds_full_multiclass.attack_cat.values)"
   ],
   "metadata": {
    "collapsed": false,
    "pycharm": {
     "name": "#%%\n"
    }
   }
  },
  {
   "cell_type": "code",
   "execution_count": 11,
   "outputs": [
    {
     "data": {
      "text/plain": "array(['Normal', 'Exploits', 'Reconnaissance', 'DoS', 'Generic',\n       'Shellcode', 'Fuzzers', 'Worms', 'Backdoor', 'Analysis'],\n      dtype=object)"
     },
     "execution_count": 11,
     "metadata": {},
     "output_type": "execute_result"
    }
   ],
   "source": [
    "pd.unique(ds_full_multiclass.attack_cat)"
   ],
   "metadata": {
    "collapsed": false,
    "pycharm": {
     "name": "#%%\n"
    }
   }
  },
  {
   "cell_type": "code",
   "execution_count": 13,
   "outputs": [
    {
     "data": {
      "text/plain": "sport                     0\ndsport                    0\nproto                     0\nstate                     0\ndur                       0\nsbytes                    0\ndbytes                    0\nsttl                      0\ndttl                      0\nsloss                     0\ndloss                     0\nservice                   0\nSload                     0\nDload                     0\nSpkts                     0\nDpkts                     0\nswin                      0\ndwin                      0\nstcpb                     0\ndtcpb                     0\nsmeansz                   0\ndmeansz                   0\ntrans_depth               0\nres_bdy_len               0\nSjit                      0\nDjit                      0\nStime                     0\nLtime                     0\nSintpkt                   0\nDintpkt                   0\ntcprtt                    0\nsynack                    0\nackdat                    0\nis_sm_ips_ports           0\nct_state_ttl              0\nct_flw_http_mthd     933604\nis_ftp_login        1014166\nct_ftp_cmd                0\nct_srv_src                0\nct_srv_dst                0\nct_dst_ltm                0\nct_src_ ltm               0\nct_src_dport_ltm          0\nct_dst_sport_ltm          0\nct_dst_src_ltm            0\nattack_cat                0\ndtype: int64"
     },
     "execution_count": 13,
     "metadata": {},
     "output_type": "execute_result"
    }
   ],
   "source": [
    "#now we should remove whitespaces everywhere\n",
    "ds_full_multiclass.isnull().sum()"
   ],
   "metadata": {
    "collapsed": false,
    "pycharm": {
     "name": "#%%\n"
    }
   }
  },
  {
   "cell_type": "code",
   "execution_count": 16,
   "outputs": [
    {
     "data": {
      "text/plain": "array([ 0.,  1.,  2.,  4., 14.,  8.,  6., 12., 10.,  3.,  5., 36.,  9.,\n       16., 25., 30.])"
     },
     "execution_count": 16,
     "metadata": {},
     "output_type": "execute_result"
    }
   ],
   "source": [
    "pd.unique(ds_full_multiclass.ct_flw_http_mthd)"
   ],
   "metadata": {
    "collapsed": false,
    "pycharm": {
     "name": "#%%\n"
    }
   }
  },
  {
   "cell_type": "code",
   "execution_count": 15,
   "outputs": [],
   "source": [
    "ds_full_multiclass['ct_flw_http_mthd'].replace(math.nan, float(0),inplace=True)"
   ],
   "metadata": {
    "collapsed": false,
    "pycharm": {
     "name": "#%%\n"
    }
   }
  },
  {
   "cell_type": "code",
   "execution_count": 19,
   "outputs": [
    {
     "data": {
      "text/plain": "array([0., 1., 2., 4.])"
     },
     "execution_count": 19,
     "metadata": {},
     "output_type": "execute_result"
    }
   ],
   "source": [
    "pd.unique(ds_full_multiclass.is_ftp_login)"
   ],
   "metadata": {
    "collapsed": false,
    "pycharm": {
     "name": "#%%\n"
    }
   }
  },
  {
   "cell_type": "code",
   "execution_count": 18,
   "outputs": [],
   "source": [
    "ds_full_multiclass['is_ftp_login'].replace(math.nan, float(0),inplace=True)"
   ],
   "metadata": {
    "collapsed": false,
    "pycharm": {
     "name": "#%%\n"
    }
   }
  },
  {
   "cell_type": "code",
   "execution_count": 22,
   "outputs": [
    {
     "data": {
      "text/plain": "array(['0', '1', 6, '2', '4', 8, 5, '3'], dtype=object)"
     },
     "execution_count": 22,
     "metadata": {},
     "output_type": "execute_result"
    }
   ],
   "source": [
    "pd.unique(ds_full_multiclass.ct_ftp_cmd)"
   ],
   "metadata": {
    "collapsed": false,
    "pycharm": {
     "name": "#%%\n"
    }
   }
  },
  {
   "cell_type": "code",
   "execution_count": 21,
   "outputs": [],
   "source": [
    "ds_full_multiclass['ct_ftp_cmd'].replace(0, '0', inplace=True)\n",
    "ds_full_multiclass['ct_ftp_cmd'].replace(' ', '0', inplace=True)\n",
    "ds_full_multiclass['ct_ftp_cmd'].replace(1, '1', inplace=True)\n",
    "ds_full_multiclass['ct_ftp_cmd'].replace(2, '2', inplace=True)\n",
    "ds_full_multiclass['ct_ftp_cmd'].replace(3, '3', inplace=True)\n",
    "ds_full_multiclass['ct_ftp_cmd'].replace(4, '4', inplace=True)"
   ],
   "metadata": {
    "collapsed": false,
    "pycharm": {
     "name": "#%%\n"
    }
   }
  },
  {
   "cell_type": "code",
   "execution_count": 23,
   "outputs": [
    {
     "data": {
      "text/plain": "<pandas.io.formats.style.Styler at 0x2e9625fc7c0>",
      "text/html": "<style type=\"text/css\">\n#T_62038_row29_col1 {\n  background-color: lightgreen;\n}\n</style>\n<table id=\"T_62038_\">\n  <thead>\n    <tr>\n      <th class=\"blank level0\" >&nbsp;</th>\n      <th class=\"col_heading level0 col0\" >Description</th>\n      <th class=\"col_heading level0 col1\" >Value</th>\n    </tr>\n  </thead>\n  <tbody>\n    <tr>\n      <th id=\"T_62038_level0_row0\" class=\"row_heading level0 row0\" >0</th>\n      <td id=\"T_62038_row0_col0\" class=\"data row0 col0\" >session_id</td>\n      <td id=\"T_62038_row0_col1\" class=\"data row0 col1\" >1621</td>\n    </tr>\n    <tr>\n      <th id=\"T_62038_level0_row1\" class=\"row_heading level0 row1\" >1</th>\n      <td id=\"T_62038_row1_col0\" class=\"data row1 col0\" >Target</td>\n      <td id=\"T_62038_row1_col1\" class=\"data row1 col1\" >attack_cat</td>\n    </tr>\n    <tr>\n      <th id=\"T_62038_level0_row2\" class=\"row_heading level0 row2\" >2</th>\n      <td id=\"T_62038_row2_col0\" class=\"data row2 col0\" >Target Type</td>\n      <td id=\"T_62038_row2_col1\" class=\"data row2 col1\" >Multiclass</td>\n    </tr>\n    <tr>\n      <th id=\"T_62038_level0_row3\" class=\"row_heading level0 row3\" >3</th>\n      <td id=\"T_62038_row3_col0\" class=\"data row3 col0\" >Label Encoded</td>\n      <td id=\"T_62038_row3_col1\" class=\"data row3 col1\" >Analysis: 0, Backdoor: 1, DoS: 2, Exploits: 3, Fuzzers: 4, Generic: 5, Normal: 6, Reconnaissance: 7, Shellcode: 8, Worms: 9</td>\n    </tr>\n    <tr>\n      <th id=\"T_62038_level0_row4\" class=\"row_heading level0 row4\" >4</th>\n      <td id=\"T_62038_row4_col0\" class=\"data row4 col0\" >Original Data</td>\n      <td id=\"T_62038_row4_col1\" class=\"data row4 col1\" >(2059418, 46)</td>\n    </tr>\n    <tr>\n      <th id=\"T_62038_level0_row5\" class=\"row_heading level0 row5\" >5</th>\n      <td id=\"T_62038_row5_col0\" class=\"data row5 col0\" >Missing Values</td>\n      <td id=\"T_62038_row5_col1\" class=\"data row5 col1\" >False</td>\n    </tr>\n    <tr>\n      <th id=\"T_62038_level0_row6\" class=\"row_heading level0 row6\" >6</th>\n      <td id=\"T_62038_row6_col0\" class=\"data row6 col0\" >Numeric Features</td>\n      <td id=\"T_62038_row6_col1\" class=\"data row6 col1\" >38</td>\n    </tr>\n    <tr>\n      <th id=\"T_62038_level0_row7\" class=\"row_heading level0 row7\" >7</th>\n      <td id=\"T_62038_row7_col0\" class=\"data row7 col0\" >Categorical Features</td>\n      <td id=\"T_62038_row7_col1\" class=\"data row7 col1\" >3</td>\n    </tr>\n    <tr>\n      <th id=\"T_62038_level0_row8\" class=\"row_heading level0 row8\" >8</th>\n      <td id=\"T_62038_row8_col0\" class=\"data row8 col0\" >Ordinal Features</td>\n      <td id=\"T_62038_row8_col1\" class=\"data row8 col1\" >False</td>\n    </tr>\n    <tr>\n      <th id=\"T_62038_level0_row9\" class=\"row_heading level0 row9\" >9</th>\n      <td id=\"T_62038_row9_col0\" class=\"data row9 col0\" >High Cardinality Features</td>\n      <td id=\"T_62038_row9_col1\" class=\"data row9 col1\" >False</td>\n    </tr>\n    <tr>\n      <th id=\"T_62038_level0_row10\" class=\"row_heading level0 row10\" >10</th>\n      <td id=\"T_62038_row10_col0\" class=\"data row10 col0\" >High Cardinality Method</td>\n      <td id=\"T_62038_row10_col1\" class=\"data row10 col1\" >None</td>\n    </tr>\n    <tr>\n      <th id=\"T_62038_level0_row11\" class=\"row_heading level0 row11\" >11</th>\n      <td id=\"T_62038_row11_col0\" class=\"data row11 col0\" >Transformed Train Set</td>\n      <td id=\"T_62038_row11_col1\" class=\"data row11 col1\" >(1647534, 200)</td>\n    </tr>\n    <tr>\n      <th id=\"T_62038_level0_row12\" class=\"row_heading level0 row12\" >12</th>\n      <td id=\"T_62038_row12_col0\" class=\"data row12 col0\" >Transformed Test Set</td>\n      <td id=\"T_62038_row12_col1\" class=\"data row12 col1\" >(411884, 200)</td>\n    </tr>\n    <tr>\n      <th id=\"T_62038_level0_row13\" class=\"row_heading level0 row13\" >13</th>\n      <td id=\"T_62038_row13_col0\" class=\"data row13 col0\" >Shuffle Train-Test</td>\n      <td id=\"T_62038_row13_col1\" class=\"data row13 col1\" >True</td>\n    </tr>\n    <tr>\n      <th id=\"T_62038_level0_row14\" class=\"row_heading level0 row14\" >14</th>\n      <td id=\"T_62038_row14_col0\" class=\"data row14 col0\" >Stratify Train-Test</td>\n      <td id=\"T_62038_row14_col1\" class=\"data row14 col1\" >False</td>\n    </tr>\n    <tr>\n      <th id=\"T_62038_level0_row15\" class=\"row_heading level0 row15\" >15</th>\n      <td id=\"T_62038_row15_col0\" class=\"data row15 col0\" >Fold Generator</td>\n      <td id=\"T_62038_row15_col1\" class=\"data row15 col1\" >StratifiedKFold</td>\n    </tr>\n    <tr>\n      <th id=\"T_62038_level0_row16\" class=\"row_heading level0 row16\" >16</th>\n      <td id=\"T_62038_row16_col0\" class=\"data row16 col0\" >Fold Number</td>\n      <td id=\"T_62038_row16_col1\" class=\"data row16 col1\" >10</td>\n    </tr>\n    <tr>\n      <th id=\"T_62038_level0_row17\" class=\"row_heading level0 row17\" >17</th>\n      <td id=\"T_62038_row17_col0\" class=\"data row17 col0\" >CPU Jobs</td>\n      <td id=\"T_62038_row17_col1\" class=\"data row17 col1\" >-1</td>\n    </tr>\n    <tr>\n      <th id=\"T_62038_level0_row18\" class=\"row_heading level0 row18\" >18</th>\n      <td id=\"T_62038_row18_col0\" class=\"data row18 col0\" >Use GPU</td>\n      <td id=\"T_62038_row18_col1\" class=\"data row18 col1\" >False</td>\n    </tr>\n    <tr>\n      <th id=\"T_62038_level0_row19\" class=\"row_heading level0 row19\" >19</th>\n      <td id=\"T_62038_row19_col0\" class=\"data row19 col0\" >Log Experiment</td>\n      <td id=\"T_62038_row19_col1\" class=\"data row19 col1\" >False</td>\n    </tr>\n    <tr>\n      <th id=\"T_62038_level0_row20\" class=\"row_heading level0 row20\" >20</th>\n      <td id=\"T_62038_row20_col0\" class=\"data row20 col0\" >Experiment Name</td>\n      <td id=\"T_62038_row20_col1\" class=\"data row20 col1\" >clf-default-name</td>\n    </tr>\n    <tr>\n      <th id=\"T_62038_level0_row21\" class=\"row_heading level0 row21\" >21</th>\n      <td id=\"T_62038_row21_col0\" class=\"data row21 col0\" >USI</td>\n      <td id=\"T_62038_row21_col1\" class=\"data row21 col1\" >b565</td>\n    </tr>\n    <tr>\n      <th id=\"T_62038_level0_row22\" class=\"row_heading level0 row22\" >22</th>\n      <td id=\"T_62038_row22_col0\" class=\"data row22 col0\" >Imputation Type</td>\n      <td id=\"T_62038_row22_col1\" class=\"data row22 col1\" >simple</td>\n    </tr>\n    <tr>\n      <th id=\"T_62038_level0_row23\" class=\"row_heading level0 row23\" >23</th>\n      <td id=\"T_62038_row23_col0\" class=\"data row23 col0\" >Iterative Imputation Iteration</td>\n      <td id=\"T_62038_row23_col1\" class=\"data row23 col1\" >None</td>\n    </tr>\n    <tr>\n      <th id=\"T_62038_level0_row24\" class=\"row_heading level0 row24\" >24</th>\n      <td id=\"T_62038_row24_col0\" class=\"data row24 col0\" >Numeric Imputer</td>\n      <td id=\"T_62038_row24_col1\" class=\"data row24 col1\" >mean</td>\n    </tr>\n    <tr>\n      <th id=\"T_62038_level0_row25\" class=\"row_heading level0 row25\" >25</th>\n      <td id=\"T_62038_row25_col0\" class=\"data row25 col0\" >Iterative Imputation Numeric Model</td>\n      <td id=\"T_62038_row25_col1\" class=\"data row25 col1\" >None</td>\n    </tr>\n    <tr>\n      <th id=\"T_62038_level0_row26\" class=\"row_heading level0 row26\" >26</th>\n      <td id=\"T_62038_row26_col0\" class=\"data row26 col0\" >Categorical Imputer</td>\n      <td id=\"T_62038_row26_col1\" class=\"data row26 col1\" >constant</td>\n    </tr>\n    <tr>\n      <th id=\"T_62038_level0_row27\" class=\"row_heading level0 row27\" >27</th>\n      <td id=\"T_62038_row27_col0\" class=\"data row27 col0\" >Iterative Imputation Categorical Model</td>\n      <td id=\"T_62038_row27_col1\" class=\"data row27 col1\" >None</td>\n    </tr>\n    <tr>\n      <th id=\"T_62038_level0_row28\" class=\"row_heading level0 row28\" >28</th>\n      <td id=\"T_62038_row28_col0\" class=\"data row28 col0\" >Unknown Categoricals Handling</td>\n      <td id=\"T_62038_row28_col1\" class=\"data row28 col1\" >least_frequent</td>\n    </tr>\n    <tr>\n      <th id=\"T_62038_level0_row29\" class=\"row_heading level0 row29\" >29</th>\n      <td id=\"T_62038_row29_col0\" class=\"data row29 col0\" >Normalize</td>\n      <td id=\"T_62038_row29_col1\" class=\"data row29 col1\" >True</td>\n    </tr>\n    <tr>\n      <th id=\"T_62038_level0_row30\" class=\"row_heading level0 row30\" >30</th>\n      <td id=\"T_62038_row30_col0\" class=\"data row30 col0\" >Normalize Method</td>\n      <td id=\"T_62038_row30_col1\" class=\"data row30 col1\" >minmax</td>\n    </tr>\n    <tr>\n      <th id=\"T_62038_level0_row31\" class=\"row_heading level0 row31\" >31</th>\n      <td id=\"T_62038_row31_col0\" class=\"data row31 col0\" >Transformation</td>\n      <td id=\"T_62038_row31_col1\" class=\"data row31 col1\" >False</td>\n    </tr>\n    <tr>\n      <th id=\"T_62038_level0_row32\" class=\"row_heading level0 row32\" >32</th>\n      <td id=\"T_62038_row32_col0\" class=\"data row32 col0\" >Transformation Method</td>\n      <td id=\"T_62038_row32_col1\" class=\"data row32 col1\" >None</td>\n    </tr>\n    <tr>\n      <th id=\"T_62038_level0_row33\" class=\"row_heading level0 row33\" >33</th>\n      <td id=\"T_62038_row33_col0\" class=\"data row33 col0\" >PCA</td>\n      <td id=\"T_62038_row33_col1\" class=\"data row33 col1\" >False</td>\n    </tr>\n    <tr>\n      <th id=\"T_62038_level0_row34\" class=\"row_heading level0 row34\" >34</th>\n      <td id=\"T_62038_row34_col0\" class=\"data row34 col0\" >PCA Method</td>\n      <td id=\"T_62038_row34_col1\" class=\"data row34 col1\" >None</td>\n    </tr>\n    <tr>\n      <th id=\"T_62038_level0_row35\" class=\"row_heading level0 row35\" >35</th>\n      <td id=\"T_62038_row35_col0\" class=\"data row35 col0\" >PCA Components</td>\n      <td id=\"T_62038_row35_col1\" class=\"data row35 col1\" >None</td>\n    </tr>\n    <tr>\n      <th id=\"T_62038_level0_row36\" class=\"row_heading level0 row36\" >36</th>\n      <td id=\"T_62038_row36_col0\" class=\"data row36 col0\" >Ignore Low Variance</td>\n      <td id=\"T_62038_row36_col1\" class=\"data row36 col1\" >False</td>\n    </tr>\n    <tr>\n      <th id=\"T_62038_level0_row37\" class=\"row_heading level0 row37\" >37</th>\n      <td id=\"T_62038_row37_col0\" class=\"data row37 col0\" >Combine Rare Levels</td>\n      <td id=\"T_62038_row37_col1\" class=\"data row37 col1\" >False</td>\n    </tr>\n    <tr>\n      <th id=\"T_62038_level0_row38\" class=\"row_heading level0 row38\" >38</th>\n      <td id=\"T_62038_row38_col0\" class=\"data row38 col0\" >Rare Level Threshold</td>\n      <td id=\"T_62038_row38_col1\" class=\"data row38 col1\" >None</td>\n    </tr>\n    <tr>\n      <th id=\"T_62038_level0_row39\" class=\"row_heading level0 row39\" >39</th>\n      <td id=\"T_62038_row39_col0\" class=\"data row39 col0\" >Numeric Binning</td>\n      <td id=\"T_62038_row39_col1\" class=\"data row39 col1\" >False</td>\n    </tr>\n    <tr>\n      <th id=\"T_62038_level0_row40\" class=\"row_heading level0 row40\" >40</th>\n      <td id=\"T_62038_row40_col0\" class=\"data row40 col0\" >Remove Outliers</td>\n      <td id=\"T_62038_row40_col1\" class=\"data row40 col1\" >False</td>\n    </tr>\n    <tr>\n      <th id=\"T_62038_level0_row41\" class=\"row_heading level0 row41\" >41</th>\n      <td id=\"T_62038_row41_col0\" class=\"data row41 col0\" >Outliers Threshold</td>\n      <td id=\"T_62038_row41_col1\" class=\"data row41 col1\" >None</td>\n    </tr>\n    <tr>\n      <th id=\"T_62038_level0_row42\" class=\"row_heading level0 row42\" >42</th>\n      <td id=\"T_62038_row42_col0\" class=\"data row42 col0\" >Remove Multicollinearity</td>\n      <td id=\"T_62038_row42_col1\" class=\"data row42 col1\" >False</td>\n    </tr>\n    <tr>\n      <th id=\"T_62038_level0_row43\" class=\"row_heading level0 row43\" >43</th>\n      <td id=\"T_62038_row43_col0\" class=\"data row43 col0\" >Multicollinearity Threshold</td>\n      <td id=\"T_62038_row43_col1\" class=\"data row43 col1\" >None</td>\n    </tr>\n    <tr>\n      <th id=\"T_62038_level0_row44\" class=\"row_heading level0 row44\" >44</th>\n      <td id=\"T_62038_row44_col0\" class=\"data row44 col0\" >Clustering</td>\n      <td id=\"T_62038_row44_col1\" class=\"data row44 col1\" >False</td>\n    </tr>\n    <tr>\n      <th id=\"T_62038_level0_row45\" class=\"row_heading level0 row45\" >45</th>\n      <td id=\"T_62038_row45_col0\" class=\"data row45 col0\" >Clustering Iteration</td>\n      <td id=\"T_62038_row45_col1\" class=\"data row45 col1\" >None</td>\n    </tr>\n    <tr>\n      <th id=\"T_62038_level0_row46\" class=\"row_heading level0 row46\" >46</th>\n      <td id=\"T_62038_row46_col0\" class=\"data row46 col0\" >Polynomial Features</td>\n      <td id=\"T_62038_row46_col1\" class=\"data row46 col1\" >False</td>\n    </tr>\n    <tr>\n      <th id=\"T_62038_level0_row47\" class=\"row_heading level0 row47\" >47</th>\n      <td id=\"T_62038_row47_col0\" class=\"data row47 col0\" >Polynomial Degree</td>\n      <td id=\"T_62038_row47_col1\" class=\"data row47 col1\" >None</td>\n    </tr>\n    <tr>\n      <th id=\"T_62038_level0_row48\" class=\"row_heading level0 row48\" >48</th>\n      <td id=\"T_62038_row48_col0\" class=\"data row48 col0\" >Trignometry Features</td>\n      <td id=\"T_62038_row48_col1\" class=\"data row48 col1\" >False</td>\n    </tr>\n    <tr>\n      <th id=\"T_62038_level0_row49\" class=\"row_heading level0 row49\" >49</th>\n      <td id=\"T_62038_row49_col0\" class=\"data row49 col0\" >Polynomial Threshold</td>\n      <td id=\"T_62038_row49_col1\" class=\"data row49 col1\" >None</td>\n    </tr>\n    <tr>\n      <th id=\"T_62038_level0_row50\" class=\"row_heading level0 row50\" >50</th>\n      <td id=\"T_62038_row50_col0\" class=\"data row50 col0\" >Group Features</td>\n      <td id=\"T_62038_row50_col1\" class=\"data row50 col1\" >False</td>\n    </tr>\n    <tr>\n      <th id=\"T_62038_level0_row51\" class=\"row_heading level0 row51\" >51</th>\n      <td id=\"T_62038_row51_col0\" class=\"data row51 col0\" >Feature Selection</td>\n      <td id=\"T_62038_row51_col1\" class=\"data row51 col1\" >False</td>\n    </tr>\n    <tr>\n      <th id=\"T_62038_level0_row52\" class=\"row_heading level0 row52\" >52</th>\n      <td id=\"T_62038_row52_col0\" class=\"data row52 col0\" >Features Selection Threshold</td>\n      <td id=\"T_62038_row52_col1\" class=\"data row52 col1\" >None</td>\n    </tr>\n    <tr>\n      <th id=\"T_62038_level0_row53\" class=\"row_heading level0 row53\" >53</th>\n      <td id=\"T_62038_row53_col0\" class=\"data row53 col0\" >Feature Interaction</td>\n      <td id=\"T_62038_row53_col1\" class=\"data row53 col1\" >False</td>\n    </tr>\n    <tr>\n      <th id=\"T_62038_level0_row54\" class=\"row_heading level0 row54\" >54</th>\n      <td id=\"T_62038_row54_col0\" class=\"data row54 col0\" >Feature Ratio</td>\n      <td id=\"T_62038_row54_col1\" class=\"data row54 col1\" >False</td>\n    </tr>\n    <tr>\n      <th id=\"T_62038_level0_row55\" class=\"row_heading level0 row55\" >55</th>\n      <td id=\"T_62038_row55_col0\" class=\"data row55 col0\" >Interaction Threshold</td>\n      <td id=\"T_62038_row55_col1\" class=\"data row55 col1\" >None</td>\n    </tr>\n    <tr>\n      <th id=\"T_62038_level0_row56\" class=\"row_heading level0 row56\" >56</th>\n      <td id=\"T_62038_row56_col0\" class=\"data row56 col0\" >Fix Imbalance</td>\n      <td id=\"T_62038_row56_col1\" class=\"data row56 col1\" >False</td>\n    </tr>\n    <tr>\n      <th id=\"T_62038_level0_row57\" class=\"row_heading level0 row57\" >57</th>\n      <td id=\"T_62038_row57_col0\" class=\"data row57 col0\" >Fix Imbalance Method</td>\n      <td id=\"T_62038_row57_col1\" class=\"data row57 col1\" >SMOTE</td>\n    </tr>\n  </tbody>\n</table>\n"
     },
     "metadata": {},
     "output_type": "display_data"
    }
   ],
   "source": [
    "#now the multiclass dataset is ready, but we need to make the starting columns\n",
    "dsp_tr_multiclass_full=setup(data = ds_full_multiclass,\n",
    "             target = 'attack_cat',train_size=0.8,\n",
    "             numeric_imputation = 'mean',\n",
    "             categorical_features = ['proto','service','state'],\n",
    "             numeric_features=['dur','Spkts','Dpkts','sbytes','dbytes','sttl','dttl','Sload','Dload','sloss','dloss','Sintpkt','Dintpkt','Sjit','Djit','swin','stcpb','dtcpb','dwin','tcprtt','synack','ackdat','smeansz','dmeansz','trans_depth','res_bdy_len','ct_srv_src','ct_state_ttl','ct_dst_ltm','ct_src_dport_ltm','ct_dst_sport_ltm',\n",
    "                               'ct_dst_src_ltm','is_ftp_login','ct_ftp_cmd','ct_flw_http_mthd','ct_src_ ltm','ct_srv_dst','is_sm_ips_ports'],\n",
    "                ignore_features=['dsport','sport','Stime','Ltime'],\n",
    "             normalize=True,normalize_method='minmax',\n",
    "             silent = True, fold_shuffle=True)"
   ],
   "metadata": {
    "collapsed": false,
    "pycharm": {
     "name": "#%%\n"
    }
   }
  },
  {
   "cell_type": "code",
   "execution_count": 24,
   "outputs": [],
   "source": [
    "X_train_mul_full=get_config('X_train')\n",
    "X_test_mul_full = get_config('X_test')\n",
    "Y_train_mul_full = get_config('y_train')\n",
    "Y_test_mul_full = get_config('y_test')"
   ],
   "metadata": {
    "collapsed": false,
    "pycharm": {
     "name": "#%%\n"
    }
   }
  },
  {
   "cell_type": "code",
   "execution_count": 25,
   "outputs": [
    {
     "data": {
      "text/plain": "                  dur    sbytes    dbytes      sttl      dttl     sloss  \\\n2263443  5.361550e-07  0.000042  0.000021  0.121569  0.114173  0.000000   \n1125914  1.310069e-05  0.000287  0.003922  0.121569  0.114173  0.001374   \n1919486  2.370759e-06  0.000113  0.000112  0.121569  0.114173  0.000785   \n936364   1.358881e-06  0.000178  0.001325  0.121569  0.114173  0.001374   \n688887   1.144796e-04  0.000116  0.000694  0.121569  0.114173  0.000589   \n...               ...       ...       ...       ...       ...       ...   \n218903   1.222311e-07  0.000011  0.000012  0.121569  0.114173  0.000000   \n869288   2.059719e-06  0.000113  0.000112  0.121569  0.114173  0.000785   \n330374   2.422314e-06  0.000202  0.001971  0.121569  0.114173  0.001374   \n2516421  8.588404e-05  0.000184  0.000018  0.996078  0.992126  0.000392   \n1667398  1.198411e-07  0.000011  0.000012  0.121569  0.114173  0.000000   \n\n            dloss     Sload     Dload     Spkts  ...  service_ftp-data  \\\n2263443  0.000000  0.000121  0.006185  0.000392  ...               0.0   \n1125914  0.004923  0.000045  0.062869  0.006471  ...               0.0   \n1919486  0.000729  0.000093  0.009527  0.001569  ...               0.0   \n936364   0.002371  0.000266  0.202685  0.003725  ...               0.0   \n688887   0.000912  0.000002  0.001220  0.001176  ...               0.0   \n...           ...       ...       ...       ...  ...               ...   \n218903   0.000000  0.000091  0.010590  0.000196  ...               0.0   \n869288   0.000729  0.000107  0.010966  0.001569  ...               0.0   \n330374   0.002918  0.000170  0.169706  0.004314  ...               0.0   \n2516421  0.000182  0.000004  0.000038  0.000980  ...               0.0   \n1667398  0.000000  0.000093  0.010801  0.000196  ...               0.0   \n\n         service_http  service_irc  service_pop3  service_radius  \\\n2263443           0.0          0.0           0.0             0.0   \n1125914           0.0          0.0           0.0             0.0   \n1919486           0.0          0.0           0.0             0.0   \n936364            0.0          0.0           0.0             0.0   \n688887            0.0          0.0           0.0             0.0   \n...               ...          ...           ...             ...   \n218903            0.0          0.0           0.0             0.0   \n869288            0.0          0.0           0.0             0.0   \n330374            0.0          0.0           0.0             0.0   \n2516421           0.0          0.0           0.0             0.0   \n1667398           0.0          0.0           0.0             0.0   \n\n         service_smtp  service_snmp  service_ssh  service_ssl  \\\n2263443           0.0           0.0          0.0          0.0   \n1125914           0.0           0.0          0.0          0.0   \n1919486           0.0           0.0          0.0          0.0   \n936364            0.0           0.0          0.0          0.0   \n688887            0.0           0.0          0.0          0.0   \n...               ...           ...          ...          ...   \n218903            0.0           0.0          0.0          0.0   \n869288            0.0           0.0          0.0          0.0   \n330374            0.0           0.0          0.0          0.0   \n2516421           0.0           0.0          0.0          0.0   \n1667398           0.0           0.0          0.0          0.0   \n\n         service_undefined  \n2263443                1.0  \n1125914                1.0  \n1919486                1.0  \n936364                 1.0  \n688887                 1.0  \n...                    ...  \n218903                 0.0  \n869288                 1.0  \n330374                 1.0  \n2516421                1.0  \n1667398                0.0  \n\n[1647534 rows x 200 columns]",
      "text/html": "<div>\n<style scoped>\n    .dataframe tbody tr th:only-of-type {\n        vertical-align: middle;\n    }\n\n    .dataframe tbody tr th {\n        vertical-align: top;\n    }\n\n    .dataframe thead th {\n        text-align: right;\n    }\n</style>\n<table border=\"1\" class=\"dataframe\">\n  <thead>\n    <tr style=\"text-align: right;\">\n      <th></th>\n      <th>dur</th>\n      <th>sbytes</th>\n      <th>dbytes</th>\n      <th>sttl</th>\n      <th>dttl</th>\n      <th>sloss</th>\n      <th>dloss</th>\n      <th>Sload</th>\n      <th>Dload</th>\n      <th>Spkts</th>\n      <th>...</th>\n      <th>service_ftp-data</th>\n      <th>service_http</th>\n      <th>service_irc</th>\n      <th>service_pop3</th>\n      <th>service_radius</th>\n      <th>service_smtp</th>\n      <th>service_snmp</th>\n      <th>service_ssh</th>\n      <th>service_ssl</th>\n      <th>service_undefined</th>\n    </tr>\n  </thead>\n  <tbody>\n    <tr>\n      <th>2263443</th>\n      <td>5.361550e-07</td>\n      <td>0.000042</td>\n      <td>0.000021</td>\n      <td>0.121569</td>\n      <td>0.114173</td>\n      <td>0.000000</td>\n      <td>0.000000</td>\n      <td>0.000121</td>\n      <td>0.006185</td>\n      <td>0.000392</td>\n      <td>...</td>\n      <td>0.0</td>\n      <td>0.0</td>\n      <td>0.0</td>\n      <td>0.0</td>\n      <td>0.0</td>\n      <td>0.0</td>\n      <td>0.0</td>\n      <td>0.0</td>\n      <td>0.0</td>\n      <td>1.0</td>\n    </tr>\n    <tr>\n      <th>1125914</th>\n      <td>1.310069e-05</td>\n      <td>0.000287</td>\n      <td>0.003922</td>\n      <td>0.121569</td>\n      <td>0.114173</td>\n      <td>0.001374</td>\n      <td>0.004923</td>\n      <td>0.000045</td>\n      <td>0.062869</td>\n      <td>0.006471</td>\n      <td>...</td>\n      <td>0.0</td>\n      <td>0.0</td>\n      <td>0.0</td>\n      <td>0.0</td>\n      <td>0.0</td>\n      <td>0.0</td>\n      <td>0.0</td>\n      <td>0.0</td>\n      <td>0.0</td>\n      <td>1.0</td>\n    </tr>\n    <tr>\n      <th>1919486</th>\n      <td>2.370759e-06</td>\n      <td>0.000113</td>\n      <td>0.000112</td>\n      <td>0.121569</td>\n      <td>0.114173</td>\n      <td>0.000785</td>\n      <td>0.000729</td>\n      <td>0.000093</td>\n      <td>0.009527</td>\n      <td>0.001569</td>\n      <td>...</td>\n      <td>0.0</td>\n      <td>0.0</td>\n      <td>0.0</td>\n      <td>0.0</td>\n      <td>0.0</td>\n      <td>0.0</td>\n      <td>0.0</td>\n      <td>0.0</td>\n      <td>0.0</td>\n      <td>1.0</td>\n    </tr>\n    <tr>\n      <th>936364</th>\n      <td>1.358881e-06</td>\n      <td>0.000178</td>\n      <td>0.001325</td>\n      <td>0.121569</td>\n      <td>0.114173</td>\n      <td>0.001374</td>\n      <td>0.002371</td>\n      <td>0.000266</td>\n      <td>0.202685</td>\n      <td>0.003725</td>\n      <td>...</td>\n      <td>0.0</td>\n      <td>0.0</td>\n      <td>0.0</td>\n      <td>0.0</td>\n      <td>0.0</td>\n      <td>0.0</td>\n      <td>0.0</td>\n      <td>0.0</td>\n      <td>0.0</td>\n      <td>1.0</td>\n    </tr>\n    <tr>\n      <th>688887</th>\n      <td>1.144796e-04</td>\n      <td>0.000116</td>\n      <td>0.000694</td>\n      <td>0.121569</td>\n      <td>0.114173</td>\n      <td>0.000589</td>\n      <td>0.000912</td>\n      <td>0.000002</td>\n      <td>0.001220</td>\n      <td>0.001176</td>\n      <td>...</td>\n      <td>0.0</td>\n      <td>0.0</td>\n      <td>0.0</td>\n      <td>0.0</td>\n      <td>0.0</td>\n      <td>0.0</td>\n      <td>0.0</td>\n      <td>0.0</td>\n      <td>0.0</td>\n      <td>1.0</td>\n    </tr>\n    <tr>\n      <th>...</th>\n      <td>...</td>\n      <td>...</td>\n      <td>...</td>\n      <td>...</td>\n      <td>...</td>\n      <td>...</td>\n      <td>...</td>\n      <td>...</td>\n      <td>...</td>\n      <td>...</td>\n      <td>...</td>\n      <td>...</td>\n      <td>...</td>\n      <td>...</td>\n      <td>...</td>\n      <td>...</td>\n      <td>...</td>\n      <td>...</td>\n      <td>...</td>\n      <td>...</td>\n      <td>...</td>\n    </tr>\n    <tr>\n      <th>218903</th>\n      <td>1.222311e-07</td>\n      <td>0.000011</td>\n      <td>0.000012</td>\n      <td>0.121569</td>\n      <td>0.114173</td>\n      <td>0.000000</td>\n      <td>0.000000</td>\n      <td>0.000091</td>\n      <td>0.010590</td>\n      <td>0.000196</td>\n      <td>...</td>\n      <td>0.0</td>\n      <td>0.0</td>\n      <td>0.0</td>\n      <td>0.0</td>\n      <td>0.0</td>\n      <td>0.0</td>\n      <td>0.0</td>\n      <td>0.0</td>\n      <td>0.0</td>\n      <td>0.0</td>\n    </tr>\n    <tr>\n      <th>869288</th>\n      <td>2.059719e-06</td>\n      <td>0.000113</td>\n      <td>0.000112</td>\n      <td>0.121569</td>\n      <td>0.114173</td>\n      <td>0.000785</td>\n      <td>0.000729</td>\n      <td>0.000107</td>\n      <td>0.010966</td>\n      <td>0.001569</td>\n      <td>...</td>\n      <td>0.0</td>\n      <td>0.0</td>\n      <td>0.0</td>\n      <td>0.0</td>\n      <td>0.0</td>\n      <td>0.0</td>\n      <td>0.0</td>\n      <td>0.0</td>\n      <td>0.0</td>\n      <td>1.0</td>\n    </tr>\n    <tr>\n      <th>330374</th>\n      <td>2.422314e-06</td>\n      <td>0.000202</td>\n      <td>0.001971</td>\n      <td>0.121569</td>\n      <td>0.114173</td>\n      <td>0.001374</td>\n      <td>0.002918</td>\n      <td>0.000170</td>\n      <td>0.169706</td>\n      <td>0.004314</td>\n      <td>...</td>\n      <td>0.0</td>\n      <td>0.0</td>\n      <td>0.0</td>\n      <td>0.0</td>\n      <td>0.0</td>\n      <td>0.0</td>\n      <td>0.0</td>\n      <td>0.0</td>\n      <td>0.0</td>\n      <td>1.0</td>\n    </tr>\n    <tr>\n      <th>2516421</th>\n      <td>8.588404e-05</td>\n      <td>0.000184</td>\n      <td>0.000018</td>\n      <td>0.996078</td>\n      <td>0.992126</td>\n      <td>0.000392</td>\n      <td>0.000182</td>\n      <td>0.000004</td>\n      <td>0.000038</td>\n      <td>0.000980</td>\n      <td>...</td>\n      <td>0.0</td>\n      <td>0.0</td>\n      <td>0.0</td>\n      <td>0.0</td>\n      <td>0.0</td>\n      <td>0.0</td>\n      <td>0.0</td>\n      <td>0.0</td>\n      <td>0.0</td>\n      <td>1.0</td>\n    </tr>\n    <tr>\n      <th>1667398</th>\n      <td>1.198411e-07</td>\n      <td>0.000011</td>\n      <td>0.000012</td>\n      <td>0.121569</td>\n      <td>0.114173</td>\n      <td>0.000000</td>\n      <td>0.000000</td>\n      <td>0.000093</td>\n      <td>0.010801</td>\n      <td>0.000196</td>\n      <td>...</td>\n      <td>0.0</td>\n      <td>0.0</td>\n      <td>0.0</td>\n      <td>0.0</td>\n      <td>0.0</td>\n      <td>0.0</td>\n      <td>0.0</td>\n      <td>0.0</td>\n      <td>0.0</td>\n      <td>0.0</td>\n    </tr>\n  </tbody>\n</table>\n<p>1647534 rows × 200 columns</p>\n</div>"
     },
     "execution_count": 25,
     "metadata": {},
     "output_type": "execute_result"
    }
   ],
   "source": [
    "X_train_mul_full"
   ],
   "metadata": {
    "collapsed": false,
    "pycharm": {
     "name": "#%%\n"
    }
   }
  },
  {
   "cell_type": "code",
   "execution_count": 26,
   "outputs": [
    {
     "data": {
      "text/plain": "2263443    6\n1125914    6\n1919486    6\n936364     6\n688887     6\n          ..\n218903     6\n869288     6\n330374     6\n2516421    6\n1667398    6\nName: attack_cat, Length: 1647534, dtype: int32"
     },
     "execution_count": 26,
     "metadata": {},
     "output_type": "execute_result"
    }
   ],
   "source": [
    "Y_train_mul_full"
   ],
   "metadata": {
    "collapsed": false,
    "pycharm": {
     "name": "#%%\n"
    }
   }
  },
  {
   "cell_type": "code",
   "execution_count": 27,
   "outputs": [
    {
     "name": "stdout",
     "output_type": "stream",
     "text": [
      "Epoch 1/100\n",
      "25743/25743 [==============================] - 91s 4ms/step - loss: 0.0762 - accuracy: 0.9708 - val_loss: 0.0641 - val_accuracy: 0.9741\n",
      "Epoch 2/100\n",
      "25743/25743 [==============================] - 93s 4ms/step - loss: 0.0649 - accuracy: 0.9739 - val_loss: 0.0624 - val_accuracy: 0.9745\n",
      "Epoch 3/100\n",
      "25743/25743 [==============================] - 88s 3ms/step - loss: 0.0628 - accuracy: 0.9745 - val_loss: 0.0600 - val_accuracy: 0.9755\n",
      "Epoch 4/100\n",
      "25743/25743 [==============================] - 86s 3ms/step - loss: 0.0615 - accuracy: 0.9749 - val_loss: 0.0612 - val_accuracy: 0.9745\n",
      "Epoch 5/100\n",
      "25743/25743 [==============================] - 85s 3ms/step - loss: 0.0606 - accuracy: 0.9752 - val_loss: 0.0598 - val_accuracy: 0.9752\n",
      "Epoch 6/100\n",
      "25743/25743 [==============================] - 85s 3ms/step - loss: 0.0597 - accuracy: 0.9755 - val_loss: 0.0589 - val_accuracy: 0.9757\n",
      "Epoch 7/100\n",
      "25743/25743 [==============================] - 85s 3ms/step - loss: 0.0593 - accuracy: 0.9756 - val_loss: 0.0573 - val_accuracy: 0.9758\n",
      "Epoch 8/100\n",
      "25743/25743 [==============================] - 86s 3ms/step - loss: 0.0586 - accuracy: 0.9759 - val_loss: 0.0600 - val_accuracy: 0.9756\n",
      "Epoch 9/100\n",
      "25743/25743 [==============================] - 86s 3ms/step - loss: 0.0582 - accuracy: 0.9760 - val_loss: 0.0558 - val_accuracy: 0.9764\n",
      "Epoch 10/100\n",
      "25743/25743 [==============================] - 86s 3ms/step - loss: 0.0576 - accuracy: 0.9763 - val_loss: 0.0561 - val_accuracy: 0.9767\n",
      "Epoch 11/100\n",
      "25743/25743 [==============================] - 86s 3ms/step - loss: 0.0573 - accuracy: 0.9765 - val_loss: 0.0547 - val_accuracy: 0.9777\n",
      "Epoch 12/100\n",
      "25743/25743 [==============================] - 86s 3ms/step - loss: 0.0567 - accuracy: 0.9768 - val_loss: 0.0555 - val_accuracy: 0.9768\n",
      "Epoch 13/100\n",
      "25743/25743 [==============================] - 86s 3ms/step - loss: 0.0564 - accuracy: 0.9770 - val_loss: 0.0552 - val_accuracy: 0.9770\n",
      "Epoch 14/100\n",
      "25743/25743 [==============================] - 85s 3ms/step - loss: 0.0561 - accuracy: 0.9771 - val_loss: 0.0536 - val_accuracy: 0.9779\n",
      "Epoch 15/100\n",
      "25743/25743 [==============================] - 86s 3ms/step - loss: 0.0557 - accuracy: 0.9772 - val_loss: 0.0558 - val_accuracy: 0.9778\n",
      "Epoch 16/100\n",
      "25743/25743 [==============================] - 86s 3ms/step - loss: 0.0553 - accuracy: 0.9775 - val_loss: 0.0574 - val_accuracy: 0.9766\n",
      "Epoch 17/100\n",
      "25743/25743 [==============================] - 86s 3ms/step - loss: 0.0550 - accuracy: 0.9775 - val_loss: 0.0536 - val_accuracy: 0.9781\n",
      "Epoch 18/100\n",
      "25743/25743 [==============================] - 86s 3ms/step - loss: 0.0547 - accuracy: 0.9777 - val_loss: 0.0534 - val_accuracy: 0.9781\n",
      "Epoch 19/100\n",
      "25743/25743 [==============================] - 86s 3ms/step - loss: 0.0544 - accuracy: 0.9778 - val_loss: 0.0542 - val_accuracy: 0.9780\n",
      "Epoch 20/100\n",
      "25743/25743 [==============================] - 86s 3ms/step - loss: 0.0543 - accuracy: 0.9778 - val_loss: 0.0524 - val_accuracy: 0.9784\n",
      "Epoch 21/100\n",
      "25743/25743 [==============================] - 88s 3ms/step - loss: 0.0540 - accuracy: 0.9779 - val_loss: 0.0522 - val_accuracy: 0.9785\n",
      "Epoch 22/100\n",
      "25743/25743 [==============================] - 90s 3ms/step - loss: 0.0537 - accuracy: 0.9780 - val_loss: 0.0526 - val_accuracy: 0.9785\n",
      "Epoch 23/100\n",
      "25743/25743 [==============================] - 92s 4ms/step - loss: 0.0535 - accuracy: 0.9780 - val_loss: 0.0521 - val_accuracy: 0.9786\n",
      "Epoch 24/100\n",
      "25743/25743 [==============================] - 91s 4ms/step - loss: 0.0533 - accuracy: 0.9782 - val_loss: 0.0518 - val_accuracy: 0.9787\n",
      "Epoch 25/100\n",
      "25743/25743 [==============================] - 91s 4ms/step - loss: 0.0531 - accuracy: 0.9783 - val_loss: 0.0512 - val_accuracy: 0.9789\n",
      "Epoch 26/100\n",
      "25743/25743 [==============================] - 92s 4ms/step - loss: 0.0529 - accuracy: 0.9782 - val_loss: 0.0515 - val_accuracy: 0.9789\n",
      "Epoch 27/100\n",
      "25743/25743 [==============================] - 90s 3ms/step - loss: 0.0528 - accuracy: 0.9784 - val_loss: 0.0510 - val_accuracy: 0.9788\n",
      "Epoch 28/100\n",
      "25743/25743 [==============================] - 86s 3ms/step - loss: 0.0526 - accuracy: 0.9784 - val_loss: 0.0516 - val_accuracy: 0.9785\n",
      "Epoch 29/100\n",
      "25743/25743 [==============================] - 86s 3ms/step - loss: 0.0525 - accuracy: 0.9785 - val_loss: 0.0523 - val_accuracy: 0.9783\n",
      "Epoch 30/100\n",
      "25743/25743 [==============================] - 89s 3ms/step - loss: 0.0523 - accuracy: 0.9785 - val_loss: 0.0509 - val_accuracy: 0.9787\n"
     ]
    },
    {
     "data": {
      "text/plain": "<tensorflow.python.keras.callbacks.History at 0x2e84cc89b20>"
     },
     "execution_count": 27,
     "metadata": {},
     "output_type": "execute_result"
    }
   ],
   "source": [
    "from tensorflow.python.keras.layers import Activation\n",
    "from keras.optimizers import SGD\n",
    "from keras.models import Sequential\n",
    "from keras.layers import Dense\n",
    "from keras.layers.advanced_activations import PReLU\n",
    "from keras.layers import Dropout\n",
    "from keras.callbacks import EarlyStopping\n",
    "act1 = PReLU(alpha_initializer='zeros', weights=None)\n",
    "model1 = Sequential()\n",
    "# define the NN architecture and activation function\n",
    "\n",
    "model1.add(Dense(496, input_dim=200, activation=Activation(act1)))\n",
    "model1.add(Dropout(0.1))\n",
    "model1.add(Dense(248, activation='relu'))\n",
    "model1.add(Dropout(0.1))\n",
    "model1.add(Dense(124, activation='relu'))\n",
    "model1.add(Dropout(0.1))\n",
    "model1.add(Dense(62, activation='relu'))\n",
    "model1.add(Dropout(0.1))\n",
    "model1.add(Dense(10))\n",
    "model1.add(Activation('softmax'))\n",
    "\n",
    "sgd =SGD(lr=0.01, decay=1e-6, momentum=0.9, nesterov=True)\n",
    "model1.compile(loss='sparse_categorical_crossentropy', optimizer=sgd, metrics= ['accuracy'])\n",
    "es = EarlyStopping(monitor='val_accuracy', mode='max', min_delta=0.0001,patience=5) ## early stopping\n",
    "model1.fit(X_train_mul_full, Y_train_mul_full, validation_data=(X_test_mul_full, Y_test_mul_full), epochs=100, batch_size=64, callbacks=[es])"
   ],
   "metadata": {
    "collapsed": false,
    "pycharm": {
     "name": "#%%\n"
    }
   }
  },
  {
   "cell_type": "code",
   "execution_count": 28,
   "outputs": [
    {
     "name": "stdout",
     "output_type": "stream",
     "text": [
      "accuracy: 97.91%\n",
      "accuracy: 97.87%\n"
     ]
    }
   ],
   "source": [
    "#training accuracy\n",
    "train_acc1 = model1.evaluate(X_train_mul_full, Y_train_mul_full, verbose=0)\n",
    "print(\"%s: %.2f%%\" % (model1.metrics_names[1], train_acc1[1] * 100))\n",
    "#calculate the test accuracy using evaluate function\n",
    "test_acc1 = model1.evaluate(X_test_mul_full, Y_test_mul_full, verbose=0)\n",
    "print(\"%s: %.2f%%\" % (model1.metrics_names[1], test_acc1[1] * 100))"
   ],
   "metadata": {
    "collapsed": false,
    "pycharm": {
     "name": "#%%\n"
    }
   }
  },
  {
   "cell_type": "code",
   "execution_count": 29,
   "outputs": [
    {
     "name": "stdout",
     "output_type": "stream",
     "text": [
      "WARNING:tensorflow:From C:\\Users\\Jovana\\AppData\\Local\\Temp/ipykernel_10872/771358018.py:3: Sequential.predict_classes (from tensorflow.python.keras.engine.sequential) is deprecated and will be removed after 2021-01-01.\n",
      "Instructions for updating:\n",
      "Please use instead:* `np.argmax(model.predict(x), axis=-1)`,   if your model does multi-class classification   (e.g. if it uses a `softmax` last-layer activation).* `(model.predict(x) > 0.5).astype(\"int32\")`,   if your model does binary classification   (e.g. if it uses a `sigmoid` last-layer activation).\n"
     ]
    },
    {
     "data": {
      "text/plain": "0.9787488710413612"
     },
     "execution_count": 29,
     "metadata": {},
     "output_type": "execute_result"
    }
   ],
   "source": [
    "from sklearn.metrics import accuracy_score\n",
    "from sklearn.metrics import precision_score, recall_score, f1_score, roc_auc_score\n",
    "y_pred1 = model1.predict_classes(X_test_mul_full)\n",
    "pred_accuracy1 = accuracy_score(Y_test_mul_full, y_pred1)\n",
    "pred_accuracy1"
   ],
   "metadata": {
    "collapsed": false,
    "pycharm": {
     "name": "#%%\n"
    }
   }
  },
  {
   "cell_type": "code",
   "execution_count": 30,
   "outputs": [
    {
     "name": "stdout",
     "output_type": "stream",
     "text": [
      "Precision : 0.975495\n",
      "Recall: 0.978749\n",
      "F1 score: 0.976460\n"
     ]
    }
   ],
   "source": [
    "# Precision\n",
    "precision1 = precision_score(Y_test_mul_full, y_pred1, average='weighted')\n",
    "print('Precision : %f' % precision1)\n",
    "#recall\n",
    "recall1 = recall_score(Y_test_mul_full, y_pred1, average='weighted')\n",
    "print('Recall: %f' % recall1)\n",
    "# f1-score\n",
    "f1_1 = f1_score(Y_test_mul_full, y_pred1, average='weighted')\n",
    "print('F1 score: %f' % f1_1)"
   ],
   "metadata": {
    "collapsed": false,
    "pycharm": {
     "name": "#%%\n"
    }
   }
  },
  {
   "cell_type": "code",
   "execution_count": 31,
   "outputs": [
    {
     "name": "stdout",
     "output_type": "stream",
     "text": [
      "[[     7     20      4     25    310      0     89      0      0      0]\n",
      " [     8     11     10     49    261      3     11     41      0      0]\n",
      " [     9      8     28    496    359     53     62     62     15      0]\n",
      " [     9     21     21   4232    459     70    345    427     12      0]\n",
      " [    11     20      2    127   1560     20   2536    123     12      0]\n",
      " [     0      0      6    406    356   4175     52     38      5      0]\n",
      " [     0      0      0    190    540     11 390912    180     13      0]\n",
      " [     0      0      1    102    309      4    172   2122      0      0]\n",
      " [     0      0      0     22     20      4     34    140     84      0]\n",
      " [     0      0      0     27      3      5      2      1      0      0]]\n"
     ]
    }
   ],
   "source": [
    "from sklearn.metrics import confusion_matrix\n",
    "# confusion matrix\n",
    "confusionmatrix1 = confusion_matrix(Y_test_mul_full, y_pred1)\n",
    "print(confusionmatrix1)"
   ],
   "metadata": {
    "collapsed": false,
    "pycharm": {
     "name": "#%%\n"
    }
   }
  },
  {
   "cell_type": "code",
   "execution_count": 32,
   "outputs": [
    {
     "name": "stdout",
     "output_type": "stream",
     "text": [
      "                 precision    recall  f1-score   support\n",
      "\n",
      "       Analysis       0.16      0.02      0.03       455\n",
      "       Backdoor       0.14      0.03      0.05       394\n",
      "            DoS       0.39      0.03      0.05      1092\n",
      "       Exploits       0.75      0.76      0.75      5596\n",
      "        Fuzzers       0.37      0.35      0.36      4411\n",
      "        Generic       0.96      0.83      0.89      5038\n",
      "         Normal       0.99      1.00      0.99    391846\n",
      "Recconnaissanse       0.68      0.78      0.73      2710\n",
      "      Shellcode       0.60      0.28      0.38       304\n",
      "          Worms       0.00      0.00      0.00        38\n",
      "\n",
      "       accuracy                           0.98    411884\n",
      "      macro avg       0.50      0.41      0.42    411884\n",
      "   weighted avg       0.98      0.98      0.98    411884\n",
      "\n"
     ]
    }
   ],
   "source": [
    "from sklearn.metrics import classification_report\n",
    "target_names=['Analysis','Backdoor','DoS','Exploits','Fuzzers','Generic','Normal','Recconnaissanse','Shellcode','Worms']\n",
    "print(classification_report(Y_test_mul_full, y_pred1, target_names=target_names))"
   ],
   "metadata": {
    "collapsed": false,
    "pycharm": {
     "name": "#%%\n"
    }
   }
  },
  {
   "cell_type": "code",
   "execution_count": 33,
   "outputs": [
    {
     "name": "stdout",
     "output_type": "stream",
     "text": [
      "ROC AUC score: 0.998671\n"
     ]
    }
   ],
   "source": [
    "roc1 = roc_auc_score(Y_test_mul_full, model1.predict(X_test_mul_full), average='weighted', multi_class='ovr')\n",
    "print('ROC AUC score: %f' % roc1)"
   ],
   "metadata": {
    "collapsed": false,
    "pycharm": {
     "name": "#%%\n"
    }
   }
  },
  {
   "cell_type": "code",
   "execution_count": 34,
   "outputs": [],
   "source": [
    "#FNR= 16.48%"
   ],
   "metadata": {
    "collapsed": false,
    "pycharm": {
     "name": "#%%\n"
    }
   }
  },
  {
   "cell_type": "code",
   "execution_count": 3,
   "outputs": [
    {
     "data": {
      "text/plain": "<pandas.io.formats.style.Styler at 0x20e8d593310>",
      "text/html": "<style type=\"text/css\">\n#T_ad5f6_row29_col1, #T_ad5f6_row51_col1 {\n  background-color: lightgreen;\n}\n</style>\n<table id=\"T_ad5f6_\">\n  <thead>\n    <tr>\n      <th class=\"blank level0\" >&nbsp;</th>\n      <th class=\"col_heading level0 col0\" >Description</th>\n      <th class=\"col_heading level0 col1\" >Value</th>\n    </tr>\n  </thead>\n  <tbody>\n    <tr>\n      <th id=\"T_ad5f6_level0_row0\" class=\"row_heading level0 row0\" >0</th>\n      <td id=\"T_ad5f6_row0_col0\" class=\"data row0 col0\" >session_id</td>\n      <td id=\"T_ad5f6_row0_col1\" class=\"data row0 col1\" >4068</td>\n    </tr>\n    <tr>\n      <th id=\"T_ad5f6_level0_row1\" class=\"row_heading level0 row1\" >1</th>\n      <td id=\"T_ad5f6_row1_col0\" class=\"data row1 col0\" >Target</td>\n      <td id=\"T_ad5f6_row1_col1\" class=\"data row1 col1\" >attack_cat</td>\n    </tr>\n    <tr>\n      <th id=\"T_ad5f6_level0_row2\" class=\"row_heading level0 row2\" >2</th>\n      <td id=\"T_ad5f6_row2_col0\" class=\"data row2 col0\" >Target Type</td>\n      <td id=\"T_ad5f6_row2_col1\" class=\"data row2 col1\" >Multiclass</td>\n    </tr>\n    <tr>\n      <th id=\"T_ad5f6_level0_row3\" class=\"row_heading level0 row3\" >3</th>\n      <td id=\"T_ad5f6_row3_col0\" class=\"data row3 col0\" >Label Encoded</td>\n      <td id=\"T_ad5f6_row3_col1\" class=\"data row3 col1\" >Analysis: 0, Backdoor: 1, DoS: 2, Exploits: 3, Fuzzers: 4, Generic: 5, Normal: 6, Reconnaissance: 7, Shellcode: 8, Worms: 9</td>\n    </tr>\n    <tr>\n      <th id=\"T_ad5f6_level0_row4\" class=\"row_heading level0 row4\" >4</th>\n      <td id=\"T_ad5f6_row4_col0\" class=\"data row4 col0\" >Original Data</td>\n      <td id=\"T_ad5f6_row4_col1\" class=\"data row4 col1\" >(2059418, 46)</td>\n    </tr>\n    <tr>\n      <th id=\"T_ad5f6_level0_row5\" class=\"row_heading level0 row5\" >5</th>\n      <td id=\"T_ad5f6_row5_col0\" class=\"data row5 col0\" >Missing Values</td>\n      <td id=\"T_ad5f6_row5_col1\" class=\"data row5 col1\" >False</td>\n    </tr>\n    <tr>\n      <th id=\"T_ad5f6_level0_row6\" class=\"row_heading level0 row6\" >6</th>\n      <td id=\"T_ad5f6_row6_col0\" class=\"data row6 col0\" >Numeric Features</td>\n      <td id=\"T_ad5f6_row6_col1\" class=\"data row6 col1\" >38</td>\n    </tr>\n    <tr>\n      <th id=\"T_ad5f6_level0_row7\" class=\"row_heading level0 row7\" >7</th>\n      <td id=\"T_ad5f6_row7_col0\" class=\"data row7 col0\" >Categorical Features</td>\n      <td id=\"T_ad5f6_row7_col1\" class=\"data row7 col1\" >3</td>\n    </tr>\n    <tr>\n      <th id=\"T_ad5f6_level0_row8\" class=\"row_heading level0 row8\" >8</th>\n      <td id=\"T_ad5f6_row8_col0\" class=\"data row8 col0\" >Ordinal Features</td>\n      <td id=\"T_ad5f6_row8_col1\" class=\"data row8 col1\" >False</td>\n    </tr>\n    <tr>\n      <th id=\"T_ad5f6_level0_row9\" class=\"row_heading level0 row9\" >9</th>\n      <td id=\"T_ad5f6_row9_col0\" class=\"data row9 col0\" >High Cardinality Features</td>\n      <td id=\"T_ad5f6_row9_col1\" class=\"data row9 col1\" >False</td>\n    </tr>\n    <tr>\n      <th id=\"T_ad5f6_level0_row10\" class=\"row_heading level0 row10\" >10</th>\n      <td id=\"T_ad5f6_row10_col0\" class=\"data row10 col0\" >High Cardinality Method</td>\n      <td id=\"T_ad5f6_row10_col1\" class=\"data row10 col1\" >None</td>\n    </tr>\n    <tr>\n      <th id=\"T_ad5f6_level0_row11\" class=\"row_heading level0 row11\" >11</th>\n      <td id=\"T_ad5f6_row11_col0\" class=\"data row11 col0\" >Transformed Train Set</td>\n      <td id=\"T_ad5f6_row11_col1\" class=\"data row11 col1\" >(1647534, 44)</td>\n    </tr>\n    <tr>\n      <th id=\"T_ad5f6_level0_row12\" class=\"row_heading level0 row12\" >12</th>\n      <td id=\"T_ad5f6_row12_col0\" class=\"data row12 col0\" >Transformed Test Set</td>\n      <td id=\"T_ad5f6_row12_col1\" class=\"data row12 col1\" >(411884, 44)</td>\n    </tr>\n    <tr>\n      <th id=\"T_ad5f6_level0_row13\" class=\"row_heading level0 row13\" >13</th>\n      <td id=\"T_ad5f6_row13_col0\" class=\"data row13 col0\" >Shuffle Train-Test</td>\n      <td id=\"T_ad5f6_row13_col1\" class=\"data row13 col1\" >True</td>\n    </tr>\n    <tr>\n      <th id=\"T_ad5f6_level0_row14\" class=\"row_heading level0 row14\" >14</th>\n      <td id=\"T_ad5f6_row14_col0\" class=\"data row14 col0\" >Stratify Train-Test</td>\n      <td id=\"T_ad5f6_row14_col1\" class=\"data row14 col1\" >False</td>\n    </tr>\n    <tr>\n      <th id=\"T_ad5f6_level0_row15\" class=\"row_heading level0 row15\" >15</th>\n      <td id=\"T_ad5f6_row15_col0\" class=\"data row15 col0\" >Fold Generator</td>\n      <td id=\"T_ad5f6_row15_col1\" class=\"data row15 col1\" >StratifiedKFold</td>\n    </tr>\n    <tr>\n      <th id=\"T_ad5f6_level0_row16\" class=\"row_heading level0 row16\" >16</th>\n      <td id=\"T_ad5f6_row16_col0\" class=\"data row16 col0\" >Fold Number</td>\n      <td id=\"T_ad5f6_row16_col1\" class=\"data row16 col1\" >10</td>\n    </tr>\n    <tr>\n      <th id=\"T_ad5f6_level0_row17\" class=\"row_heading level0 row17\" >17</th>\n      <td id=\"T_ad5f6_row17_col0\" class=\"data row17 col0\" >CPU Jobs</td>\n      <td id=\"T_ad5f6_row17_col1\" class=\"data row17 col1\" >-1</td>\n    </tr>\n    <tr>\n      <th id=\"T_ad5f6_level0_row18\" class=\"row_heading level0 row18\" >18</th>\n      <td id=\"T_ad5f6_row18_col0\" class=\"data row18 col0\" >Use GPU</td>\n      <td id=\"T_ad5f6_row18_col1\" class=\"data row18 col1\" >False</td>\n    </tr>\n    <tr>\n      <th id=\"T_ad5f6_level0_row19\" class=\"row_heading level0 row19\" >19</th>\n      <td id=\"T_ad5f6_row19_col0\" class=\"data row19 col0\" >Log Experiment</td>\n      <td id=\"T_ad5f6_row19_col1\" class=\"data row19 col1\" >False</td>\n    </tr>\n    <tr>\n      <th id=\"T_ad5f6_level0_row20\" class=\"row_heading level0 row20\" >20</th>\n      <td id=\"T_ad5f6_row20_col0\" class=\"data row20 col0\" >Experiment Name</td>\n      <td id=\"T_ad5f6_row20_col1\" class=\"data row20 col1\" >clf-default-name</td>\n    </tr>\n    <tr>\n      <th id=\"T_ad5f6_level0_row21\" class=\"row_heading level0 row21\" >21</th>\n      <td id=\"T_ad5f6_row21_col0\" class=\"data row21 col0\" >USI</td>\n      <td id=\"T_ad5f6_row21_col1\" class=\"data row21 col1\" >1576</td>\n    </tr>\n    <tr>\n      <th id=\"T_ad5f6_level0_row22\" class=\"row_heading level0 row22\" >22</th>\n      <td id=\"T_ad5f6_row22_col0\" class=\"data row22 col0\" >Imputation Type</td>\n      <td id=\"T_ad5f6_row22_col1\" class=\"data row22 col1\" >simple</td>\n    </tr>\n    <tr>\n      <th id=\"T_ad5f6_level0_row23\" class=\"row_heading level0 row23\" >23</th>\n      <td id=\"T_ad5f6_row23_col0\" class=\"data row23 col0\" >Iterative Imputation Iteration</td>\n      <td id=\"T_ad5f6_row23_col1\" class=\"data row23 col1\" >None</td>\n    </tr>\n    <tr>\n      <th id=\"T_ad5f6_level0_row24\" class=\"row_heading level0 row24\" >24</th>\n      <td id=\"T_ad5f6_row24_col0\" class=\"data row24 col0\" >Numeric Imputer</td>\n      <td id=\"T_ad5f6_row24_col1\" class=\"data row24 col1\" >mean</td>\n    </tr>\n    <tr>\n      <th id=\"T_ad5f6_level0_row25\" class=\"row_heading level0 row25\" >25</th>\n      <td id=\"T_ad5f6_row25_col0\" class=\"data row25 col0\" >Iterative Imputation Numeric Model</td>\n      <td id=\"T_ad5f6_row25_col1\" class=\"data row25 col1\" >None</td>\n    </tr>\n    <tr>\n      <th id=\"T_ad5f6_level0_row26\" class=\"row_heading level0 row26\" >26</th>\n      <td id=\"T_ad5f6_row26_col0\" class=\"data row26 col0\" >Categorical Imputer</td>\n      <td id=\"T_ad5f6_row26_col1\" class=\"data row26 col1\" >constant</td>\n    </tr>\n    <tr>\n      <th id=\"T_ad5f6_level0_row27\" class=\"row_heading level0 row27\" >27</th>\n      <td id=\"T_ad5f6_row27_col0\" class=\"data row27 col0\" >Iterative Imputation Categorical Model</td>\n      <td id=\"T_ad5f6_row27_col1\" class=\"data row27 col1\" >None</td>\n    </tr>\n    <tr>\n      <th id=\"T_ad5f6_level0_row28\" class=\"row_heading level0 row28\" >28</th>\n      <td id=\"T_ad5f6_row28_col0\" class=\"data row28 col0\" >Unknown Categoricals Handling</td>\n      <td id=\"T_ad5f6_row28_col1\" class=\"data row28 col1\" >least_frequent</td>\n    </tr>\n    <tr>\n      <th id=\"T_ad5f6_level0_row29\" class=\"row_heading level0 row29\" >29</th>\n      <td id=\"T_ad5f6_row29_col0\" class=\"data row29 col0\" >Normalize</td>\n      <td id=\"T_ad5f6_row29_col1\" class=\"data row29 col1\" >True</td>\n    </tr>\n    <tr>\n      <th id=\"T_ad5f6_level0_row30\" class=\"row_heading level0 row30\" >30</th>\n      <td id=\"T_ad5f6_row30_col0\" class=\"data row30 col0\" >Normalize Method</td>\n      <td id=\"T_ad5f6_row30_col1\" class=\"data row30 col1\" >minmax</td>\n    </tr>\n    <tr>\n      <th id=\"T_ad5f6_level0_row31\" class=\"row_heading level0 row31\" >31</th>\n      <td id=\"T_ad5f6_row31_col0\" class=\"data row31 col0\" >Transformation</td>\n      <td id=\"T_ad5f6_row31_col1\" class=\"data row31 col1\" >False</td>\n    </tr>\n    <tr>\n      <th id=\"T_ad5f6_level0_row32\" class=\"row_heading level0 row32\" >32</th>\n      <td id=\"T_ad5f6_row32_col0\" class=\"data row32 col0\" >Transformation Method</td>\n      <td id=\"T_ad5f6_row32_col1\" class=\"data row32 col1\" >None</td>\n    </tr>\n    <tr>\n      <th id=\"T_ad5f6_level0_row33\" class=\"row_heading level0 row33\" >33</th>\n      <td id=\"T_ad5f6_row33_col0\" class=\"data row33 col0\" >PCA</td>\n      <td id=\"T_ad5f6_row33_col1\" class=\"data row33 col1\" >False</td>\n    </tr>\n    <tr>\n      <th id=\"T_ad5f6_level0_row34\" class=\"row_heading level0 row34\" >34</th>\n      <td id=\"T_ad5f6_row34_col0\" class=\"data row34 col0\" >PCA Method</td>\n      <td id=\"T_ad5f6_row34_col1\" class=\"data row34 col1\" >None</td>\n    </tr>\n    <tr>\n      <th id=\"T_ad5f6_level0_row35\" class=\"row_heading level0 row35\" >35</th>\n      <td id=\"T_ad5f6_row35_col0\" class=\"data row35 col0\" >PCA Components</td>\n      <td id=\"T_ad5f6_row35_col1\" class=\"data row35 col1\" >None</td>\n    </tr>\n    <tr>\n      <th id=\"T_ad5f6_level0_row36\" class=\"row_heading level0 row36\" >36</th>\n      <td id=\"T_ad5f6_row36_col0\" class=\"data row36 col0\" >Ignore Low Variance</td>\n      <td id=\"T_ad5f6_row36_col1\" class=\"data row36 col1\" >False</td>\n    </tr>\n    <tr>\n      <th id=\"T_ad5f6_level0_row37\" class=\"row_heading level0 row37\" >37</th>\n      <td id=\"T_ad5f6_row37_col0\" class=\"data row37 col0\" >Combine Rare Levels</td>\n      <td id=\"T_ad5f6_row37_col1\" class=\"data row37 col1\" >False</td>\n    </tr>\n    <tr>\n      <th id=\"T_ad5f6_level0_row38\" class=\"row_heading level0 row38\" >38</th>\n      <td id=\"T_ad5f6_row38_col0\" class=\"data row38 col0\" >Rare Level Threshold</td>\n      <td id=\"T_ad5f6_row38_col1\" class=\"data row38 col1\" >None</td>\n    </tr>\n    <tr>\n      <th id=\"T_ad5f6_level0_row39\" class=\"row_heading level0 row39\" >39</th>\n      <td id=\"T_ad5f6_row39_col0\" class=\"data row39 col0\" >Numeric Binning</td>\n      <td id=\"T_ad5f6_row39_col1\" class=\"data row39 col1\" >False</td>\n    </tr>\n    <tr>\n      <th id=\"T_ad5f6_level0_row40\" class=\"row_heading level0 row40\" >40</th>\n      <td id=\"T_ad5f6_row40_col0\" class=\"data row40 col0\" >Remove Outliers</td>\n      <td id=\"T_ad5f6_row40_col1\" class=\"data row40 col1\" >False</td>\n    </tr>\n    <tr>\n      <th id=\"T_ad5f6_level0_row41\" class=\"row_heading level0 row41\" >41</th>\n      <td id=\"T_ad5f6_row41_col0\" class=\"data row41 col0\" >Outliers Threshold</td>\n      <td id=\"T_ad5f6_row41_col1\" class=\"data row41 col1\" >None</td>\n    </tr>\n    <tr>\n      <th id=\"T_ad5f6_level0_row42\" class=\"row_heading level0 row42\" >42</th>\n      <td id=\"T_ad5f6_row42_col0\" class=\"data row42 col0\" >Remove Multicollinearity</td>\n      <td id=\"T_ad5f6_row42_col1\" class=\"data row42 col1\" >False</td>\n    </tr>\n    <tr>\n      <th id=\"T_ad5f6_level0_row43\" class=\"row_heading level0 row43\" >43</th>\n      <td id=\"T_ad5f6_row43_col0\" class=\"data row43 col0\" >Multicollinearity Threshold</td>\n      <td id=\"T_ad5f6_row43_col1\" class=\"data row43 col1\" >None</td>\n    </tr>\n    <tr>\n      <th id=\"T_ad5f6_level0_row44\" class=\"row_heading level0 row44\" >44</th>\n      <td id=\"T_ad5f6_row44_col0\" class=\"data row44 col0\" >Clustering</td>\n      <td id=\"T_ad5f6_row44_col1\" class=\"data row44 col1\" >False</td>\n    </tr>\n    <tr>\n      <th id=\"T_ad5f6_level0_row45\" class=\"row_heading level0 row45\" >45</th>\n      <td id=\"T_ad5f6_row45_col0\" class=\"data row45 col0\" >Clustering Iteration</td>\n      <td id=\"T_ad5f6_row45_col1\" class=\"data row45 col1\" >None</td>\n    </tr>\n    <tr>\n      <th id=\"T_ad5f6_level0_row46\" class=\"row_heading level0 row46\" >46</th>\n      <td id=\"T_ad5f6_row46_col0\" class=\"data row46 col0\" >Polynomial Features</td>\n      <td id=\"T_ad5f6_row46_col1\" class=\"data row46 col1\" >False</td>\n    </tr>\n    <tr>\n      <th id=\"T_ad5f6_level0_row47\" class=\"row_heading level0 row47\" >47</th>\n      <td id=\"T_ad5f6_row47_col0\" class=\"data row47 col0\" >Polynomial Degree</td>\n      <td id=\"T_ad5f6_row47_col1\" class=\"data row47 col1\" >None</td>\n    </tr>\n    <tr>\n      <th id=\"T_ad5f6_level0_row48\" class=\"row_heading level0 row48\" >48</th>\n      <td id=\"T_ad5f6_row48_col0\" class=\"data row48 col0\" >Trignometry Features</td>\n      <td id=\"T_ad5f6_row48_col1\" class=\"data row48 col1\" >False</td>\n    </tr>\n    <tr>\n      <th id=\"T_ad5f6_level0_row49\" class=\"row_heading level0 row49\" >49</th>\n      <td id=\"T_ad5f6_row49_col0\" class=\"data row49 col0\" >Polynomial Threshold</td>\n      <td id=\"T_ad5f6_row49_col1\" class=\"data row49 col1\" >None</td>\n    </tr>\n    <tr>\n      <th id=\"T_ad5f6_level0_row50\" class=\"row_heading level0 row50\" >50</th>\n      <td id=\"T_ad5f6_row50_col0\" class=\"data row50 col0\" >Group Features</td>\n      <td id=\"T_ad5f6_row50_col1\" class=\"data row50 col1\" >False</td>\n    </tr>\n    <tr>\n      <th id=\"T_ad5f6_level0_row51\" class=\"row_heading level0 row51\" >51</th>\n      <td id=\"T_ad5f6_row51_col0\" class=\"data row51 col0\" >Feature Selection</td>\n      <td id=\"T_ad5f6_row51_col1\" class=\"data row51 col1\" >True</td>\n    </tr>\n    <tr>\n      <th id=\"T_ad5f6_level0_row52\" class=\"row_heading level0 row52\" >52</th>\n      <td id=\"T_ad5f6_row52_col0\" class=\"data row52 col0\" >Features Selection Threshold</td>\n      <td id=\"T_ad5f6_row52_col1\" class=\"data row52 col1\" >0.200000</td>\n    </tr>\n    <tr>\n      <th id=\"T_ad5f6_level0_row53\" class=\"row_heading level0 row53\" >53</th>\n      <td id=\"T_ad5f6_row53_col0\" class=\"data row53 col0\" >Feature Interaction</td>\n      <td id=\"T_ad5f6_row53_col1\" class=\"data row53 col1\" >False</td>\n    </tr>\n    <tr>\n      <th id=\"T_ad5f6_level0_row54\" class=\"row_heading level0 row54\" >54</th>\n      <td id=\"T_ad5f6_row54_col0\" class=\"data row54 col0\" >Feature Ratio</td>\n      <td id=\"T_ad5f6_row54_col1\" class=\"data row54 col1\" >False</td>\n    </tr>\n    <tr>\n      <th id=\"T_ad5f6_level0_row55\" class=\"row_heading level0 row55\" >55</th>\n      <td id=\"T_ad5f6_row55_col0\" class=\"data row55 col0\" >Interaction Threshold</td>\n      <td id=\"T_ad5f6_row55_col1\" class=\"data row55 col1\" >None</td>\n    </tr>\n    <tr>\n      <th id=\"T_ad5f6_level0_row56\" class=\"row_heading level0 row56\" >56</th>\n      <td id=\"T_ad5f6_row56_col0\" class=\"data row56 col0\" >Fix Imbalance</td>\n      <td id=\"T_ad5f6_row56_col1\" class=\"data row56 col1\" >False</td>\n    </tr>\n    <tr>\n      <th id=\"T_ad5f6_level0_row57\" class=\"row_heading level0 row57\" >57</th>\n      <td id=\"T_ad5f6_row57_col0\" class=\"data row57 col0\" >Fix Imbalance Method</td>\n      <td id=\"T_ad5f6_row57_col1\" class=\"data row57 col1\" >SMOTE</td>\n    </tr>\n  </tbody>\n</table>\n"
     },
     "metadata": {},
     "output_type": "display_data"
    }
   ],
   "source": [
    "#now we select features\n",
    "#now the multiclass dataset is ready, but we need to make the starting columns\n",
    "dsp_tr_multiclass_selected=setup(data = ds_full_multiclass,\n",
    "             target = 'attack_cat',train_size=0.8,\n",
    "             numeric_imputation = 'mean',\n",
    "             categorical_features = ['proto','service','state'],\n",
    "             numeric_features=['dur','Spkts','Dpkts','sbytes','dbytes','sttl','dttl','Sload','Dload','sloss','dloss','Sintpkt','Dintpkt','Sjit','Djit','swin','stcpb','dtcpb','dwin','tcprtt','synack','ackdat','smeansz','dmeansz','trans_depth','res_bdy_len','ct_srv_src','ct_state_ttl','ct_dst_ltm','ct_src_dport_ltm','ct_dst_sport_ltm',\n",
    "                               'ct_dst_src_ltm','is_ftp_login','ct_ftp_cmd','ct_flw_http_mthd','ct_src_ ltm','ct_srv_dst','is_sm_ips_ports'],\n",
    "                ignore_features=['dsport','sport','Stime','Ltime'],\n",
    "             normalize=True,normalize_method='minmax',feature_selection=True,feature_selection_threshold=0.2,\n",
    "             silent = True, fold_shuffle=True)"
   ],
   "metadata": {
    "collapsed": false,
    "pycharm": {
     "name": "#%%\n"
    }
   }
  },
  {
   "cell_type": "code",
   "execution_count": 36,
   "outputs": [],
   "source": [
    "#saving the previous datasets\n",
    "X_train_mul_full.to_csv(\"D:\\\\Master Thesis Datasets\\\\X_train_mul_full.csv\")\n",
    "Y_train_mul_full.to_csv(\"D:\\\\Master Thesis Datasets\\\\Y_train_mul_full.csv\")\n",
    "X_test_mul_full.to_csv(\"D:\\\\Master Thesis Datasets\\\\X_test_mul_full.csv\")\n",
    "Y_test_mul_full.to_csv(\"D:\\\\Master Thesis Datasets\\\\Y_test_mul_full.csv\")"
   ],
   "metadata": {
    "collapsed": false,
    "pycharm": {
     "name": "#%%\n"
    }
   }
  },
  {
   "cell_type": "markdown",
   "source": [],
   "metadata": {
    "collapsed": false
   }
  },
  {
   "cell_type": "code",
   "execution_count": 39,
   "outputs": [],
   "source": [
    "ds_full_multiclass.to_csv(\"D:\\\\Master Thesis Datasets\\\\ds_full_multiclass.csv\")"
   ],
   "metadata": {
    "collapsed": false,
    "pycharm": {
     "name": "#%%\n"
    }
   }
  },
  {
   "cell_type": "code",
   "execution_count": 2,
   "outputs": [
    {
     "data": {
      "text/plain": "         sport dsport proto state       dur  sbytes  dbytes  sttl  dttl  \\\n0        33661   1024   udp   CON  0.036133     528     304    31    29   \n1         1464     53   udp   CON  0.001119     146     178    31    29   \n2         3593     53   udp   CON  0.001209     132     164    31    29   \n3        49664     53   udp   CON  0.001169     146     178    31    29   \n4        32119    111   udp   CON  0.078339     568     312    31    29   \n...        ...    ...   ...   ...       ...     ...     ...   ...   ...   \n2540035  38606     80   tcp   CON  0.564998   14106  772406    31    29   \n2540037  38606     80   tcp   CON  0.564998   14106  772406    31    29   \n2540038  33094  43433   tcp   FIN  0.087306     320    1828    31    29   \n2540041  35433     80   tcp   CON  2.200934    3498  166054    31    29   \n2540042  17293    110   tcp   CON  0.942984     574     676    62   252   \n\n         sloss  dloss    service          Sload         Dload  Spkts  Dpkts  \\\n0            0      0  undefined   87676.085940  5.048017e+04      4      4   \n1            0      0        dns  521894.531300  6.362824e+05      2      2   \n2            0      0        dns  436724.562500  5.425972e+05      2      2   \n3            0      0        dns  499572.250000  6.090676e+05      2      2   \n4            0      0  undefined   43503.234380  2.389614e+04      4      4   \n...        ...    ...        ...            ...           ...    ...    ...   \n2540035      2    262       http  198981.250000  1.091598e+07    262    526   \n2540037      2    262  undefined  198981.250000  1.091598e+07    262    526   \n2540038      1      2   ftp-data   24465.671880  1.466108e+05      6      8   \n2540041      2     57       http   12496.513670  5.983751e+05     58    116   \n2540042      5      6       pop3    4470.913574  5.259898e+03     12     12   \n\n         swin  dwin       stcpb       dtcpb  smeansz  dmeansz  trans_depth  \\\n0           0     0           0           0      132       76            0   \n1           0     0           0           0       73       89            0   \n2           0     0           0           0       66       82            0   \n3           0     0           0           0       73       89            0   \n4           0     0           0           0      142       78            0   \n...       ...   ...         ...         ...      ...      ...          ...   \n2540035   255   255   162243658   163257853       54     1468            1   \n2540037   255   255   162243658   163257853       54     1468            1   \n2540038   255   255  4035116044   222196311       53      229            0   \n2540041   255   255  1289728069  3436097151       60     1432            1   \n2540042   255   255  3026824982  3748412468       48       56            0   \n\n         res_bdy_len         Sjit         Djit       Stime       Ltime  \\\n0                  0     9.891010    10.682733  1421927414  1421927414   \n1                  0     0.000000     0.000000  1421927414  1421927414   \n2                  0     0.000000     0.000000  1421927414  1421927414   \n3                  0     0.000000     0.000000  1421927414  1421927414   \n4                  0    29.682221    34.370340  1421927414  1421927414   \n...              ...          ...          ...         ...         ...   \n2540035       372266   116.321921    69.874077  1424262068  1424262069   \n2540037       372266   116.321921    69.874077  1424262068  1424262069   \n2540038            0  1221.136547    30.096029  1424262068  1424262069   \n2540041        79745  2868.893137  1951.035944  1424262067  1424262069   \n2540042            0  3903.523582    95.650531  1424262068  1424262069   \n\n           Sintpkt    Dintpkt    tcprtt    synack    ackdat  is_sm_ips_ports  \\\n0         7.005000   7.564333  0.000000  0.000000  0.000000                0   \n1         0.017000   0.013000  0.000000  0.000000  0.000000                0   \n2         0.043000   0.014000  0.000000  0.000000  0.000000                0   \n3         0.005000   0.003000  0.000000  0.000000  0.000000                0   \n4        21.003000  24.315000  0.000000  0.000000  0.000000                0   \n...            ...        ...       ...       ...       ...              ...   \n2540035   2.123130   1.075171  0.000669  0.000530  0.000139                0   \n2540037   2.123130   1.075171  0.000669  0.000530  0.000139                0   \n2540038  17.394400  12.405143  0.000608  0.000468  0.000140                0   \n2540041  38.609700  19.133826  0.000680  0.000541  0.000139                0   \n2540042  79.714089  80.827180  0.139446  0.053884  0.085562                0   \n\n         ct_state_ttl  ct_flw_http_mthd  is_ftp_login  ct_ftp_cmd  ct_srv_src  \\\n0                   0               0.0           0.0           0           2   \n1                   0               0.0           0.0           0          12   \n2                   0               0.0           0.0           0           6   \n3                   0               0.0           0.0           0           7   \n4                   0               0.0           0.0           0           2   \n...               ...               ...           ...         ...         ...   \n2540035             0               2.0           0.0           0           1   \n2540037             0               2.0           0.0           0           2   \n2540038             0               0.0           0.0           0           1   \n2540041             0               2.0           0.0           0           1   \n2540042             3               0.0           0.0           0           1   \n\n         ct_srv_dst  ct_dst_ltm  ct_src_ ltm  ct_src_dport_ltm  \\\n0                 4           2            3                 1   \n1                 8           1            2                 2   \n2                 9           1            1                 1   \n3                 9           1            1                 1   \n4                 4           2            3                 1   \n...             ...         ...          ...               ...   \n2540035           1           4            2                 2   \n2540037           1           4            2                 2   \n2540038           2           3            3                 1   \n2540041           1           2            4                 2   \n2540042           1           2            4                 2   \n\n         ct_dst_sport_ltm  ct_dst_src_ltm attack_cat  \n0                       1               2     Normal  \n1                       1               1     Normal  \n2                       1               1     Normal  \n3                       1               1     Normal  \n4                       1               2     Normal  \n...                   ...             ...        ...  \n2540035                 2               2     Normal  \n2540037                 2               2     Normal  \n2540038                 1               3     Normal  \n2540041                 2               2     Normal  \n2540042                 2               2   Exploits  \n\n[2059418 rows x 46 columns]",
      "text/html": "<div>\n<style scoped>\n    .dataframe tbody tr th:only-of-type {\n        vertical-align: middle;\n    }\n\n    .dataframe tbody tr th {\n        vertical-align: top;\n    }\n\n    .dataframe thead th {\n        text-align: right;\n    }\n</style>\n<table border=\"1\" class=\"dataframe\">\n  <thead>\n    <tr style=\"text-align: right;\">\n      <th></th>\n      <th>sport</th>\n      <th>dsport</th>\n      <th>proto</th>\n      <th>state</th>\n      <th>dur</th>\n      <th>sbytes</th>\n      <th>dbytes</th>\n      <th>sttl</th>\n      <th>dttl</th>\n      <th>sloss</th>\n      <th>dloss</th>\n      <th>service</th>\n      <th>Sload</th>\n      <th>Dload</th>\n      <th>Spkts</th>\n      <th>Dpkts</th>\n      <th>swin</th>\n      <th>dwin</th>\n      <th>stcpb</th>\n      <th>dtcpb</th>\n      <th>smeansz</th>\n      <th>dmeansz</th>\n      <th>trans_depth</th>\n      <th>res_bdy_len</th>\n      <th>Sjit</th>\n      <th>Djit</th>\n      <th>Stime</th>\n      <th>Ltime</th>\n      <th>Sintpkt</th>\n      <th>Dintpkt</th>\n      <th>tcprtt</th>\n      <th>synack</th>\n      <th>ackdat</th>\n      <th>is_sm_ips_ports</th>\n      <th>ct_state_ttl</th>\n      <th>ct_flw_http_mthd</th>\n      <th>is_ftp_login</th>\n      <th>ct_ftp_cmd</th>\n      <th>ct_srv_src</th>\n      <th>ct_srv_dst</th>\n      <th>ct_dst_ltm</th>\n      <th>ct_src_ ltm</th>\n      <th>ct_src_dport_ltm</th>\n      <th>ct_dst_sport_ltm</th>\n      <th>ct_dst_src_ltm</th>\n      <th>attack_cat</th>\n    </tr>\n  </thead>\n  <tbody>\n    <tr>\n      <th>0</th>\n      <td>33661</td>\n      <td>1024</td>\n      <td>udp</td>\n      <td>CON</td>\n      <td>0.036133</td>\n      <td>528</td>\n      <td>304</td>\n      <td>31</td>\n      <td>29</td>\n      <td>0</td>\n      <td>0</td>\n      <td>undefined</td>\n      <td>87676.085940</td>\n      <td>5.048017e+04</td>\n      <td>4</td>\n      <td>4</td>\n      <td>0</td>\n      <td>0</td>\n      <td>0</td>\n      <td>0</td>\n      <td>132</td>\n      <td>76</td>\n      <td>0</td>\n      <td>0</td>\n      <td>9.891010</td>\n      <td>10.682733</td>\n      <td>1421927414</td>\n      <td>1421927414</td>\n      <td>7.005000</td>\n      <td>7.564333</td>\n      <td>0.000000</td>\n      <td>0.000000</td>\n      <td>0.000000</td>\n      <td>0</td>\n      <td>0</td>\n      <td>0.0</td>\n      <td>0.0</td>\n      <td>0</td>\n      <td>2</td>\n      <td>4</td>\n      <td>2</td>\n      <td>3</td>\n      <td>1</td>\n      <td>1</td>\n      <td>2</td>\n      <td>Normal</td>\n    </tr>\n    <tr>\n      <th>1</th>\n      <td>1464</td>\n      <td>53</td>\n      <td>udp</td>\n      <td>CON</td>\n      <td>0.001119</td>\n      <td>146</td>\n      <td>178</td>\n      <td>31</td>\n      <td>29</td>\n      <td>0</td>\n      <td>0</td>\n      <td>dns</td>\n      <td>521894.531300</td>\n      <td>6.362824e+05</td>\n      <td>2</td>\n      <td>2</td>\n      <td>0</td>\n      <td>0</td>\n      <td>0</td>\n      <td>0</td>\n      <td>73</td>\n      <td>89</td>\n      <td>0</td>\n      <td>0</td>\n      <td>0.000000</td>\n      <td>0.000000</td>\n      <td>1421927414</td>\n      <td>1421927414</td>\n      <td>0.017000</td>\n      <td>0.013000</td>\n      <td>0.000000</td>\n      <td>0.000000</td>\n      <td>0.000000</td>\n      <td>0</td>\n      <td>0</td>\n      <td>0.0</td>\n      <td>0.0</td>\n      <td>0</td>\n      <td>12</td>\n      <td>8</td>\n      <td>1</td>\n      <td>2</td>\n      <td>2</td>\n      <td>1</td>\n      <td>1</td>\n      <td>Normal</td>\n    </tr>\n    <tr>\n      <th>2</th>\n      <td>3593</td>\n      <td>53</td>\n      <td>udp</td>\n      <td>CON</td>\n      <td>0.001209</td>\n      <td>132</td>\n      <td>164</td>\n      <td>31</td>\n      <td>29</td>\n      <td>0</td>\n      <td>0</td>\n      <td>dns</td>\n      <td>436724.562500</td>\n      <td>5.425972e+05</td>\n      <td>2</td>\n      <td>2</td>\n      <td>0</td>\n      <td>0</td>\n      <td>0</td>\n      <td>0</td>\n      <td>66</td>\n      <td>82</td>\n      <td>0</td>\n      <td>0</td>\n      <td>0.000000</td>\n      <td>0.000000</td>\n      <td>1421927414</td>\n      <td>1421927414</td>\n      <td>0.043000</td>\n      <td>0.014000</td>\n      <td>0.000000</td>\n      <td>0.000000</td>\n      <td>0.000000</td>\n      <td>0</td>\n      <td>0</td>\n      <td>0.0</td>\n      <td>0.0</td>\n      <td>0</td>\n      <td>6</td>\n      <td>9</td>\n      <td>1</td>\n      <td>1</td>\n      <td>1</td>\n      <td>1</td>\n      <td>1</td>\n      <td>Normal</td>\n    </tr>\n    <tr>\n      <th>3</th>\n      <td>49664</td>\n      <td>53</td>\n      <td>udp</td>\n      <td>CON</td>\n      <td>0.001169</td>\n      <td>146</td>\n      <td>178</td>\n      <td>31</td>\n      <td>29</td>\n      <td>0</td>\n      <td>0</td>\n      <td>dns</td>\n      <td>499572.250000</td>\n      <td>6.090676e+05</td>\n      <td>2</td>\n      <td>2</td>\n      <td>0</td>\n      <td>0</td>\n      <td>0</td>\n      <td>0</td>\n      <td>73</td>\n      <td>89</td>\n      <td>0</td>\n      <td>0</td>\n      <td>0.000000</td>\n      <td>0.000000</td>\n      <td>1421927414</td>\n      <td>1421927414</td>\n      <td>0.005000</td>\n      <td>0.003000</td>\n      <td>0.000000</td>\n      <td>0.000000</td>\n      <td>0.000000</td>\n      <td>0</td>\n      <td>0</td>\n      <td>0.0</td>\n      <td>0.0</td>\n      <td>0</td>\n      <td>7</td>\n      <td>9</td>\n      <td>1</td>\n      <td>1</td>\n      <td>1</td>\n      <td>1</td>\n      <td>1</td>\n      <td>Normal</td>\n    </tr>\n    <tr>\n      <th>4</th>\n      <td>32119</td>\n      <td>111</td>\n      <td>udp</td>\n      <td>CON</td>\n      <td>0.078339</td>\n      <td>568</td>\n      <td>312</td>\n      <td>31</td>\n      <td>29</td>\n      <td>0</td>\n      <td>0</td>\n      <td>undefined</td>\n      <td>43503.234380</td>\n      <td>2.389614e+04</td>\n      <td>4</td>\n      <td>4</td>\n      <td>0</td>\n      <td>0</td>\n      <td>0</td>\n      <td>0</td>\n      <td>142</td>\n      <td>78</td>\n      <td>0</td>\n      <td>0</td>\n      <td>29.682221</td>\n      <td>34.370340</td>\n      <td>1421927414</td>\n      <td>1421927414</td>\n      <td>21.003000</td>\n      <td>24.315000</td>\n      <td>0.000000</td>\n      <td>0.000000</td>\n      <td>0.000000</td>\n      <td>0</td>\n      <td>0</td>\n      <td>0.0</td>\n      <td>0.0</td>\n      <td>0</td>\n      <td>2</td>\n      <td>4</td>\n      <td>2</td>\n      <td>3</td>\n      <td>1</td>\n      <td>1</td>\n      <td>2</td>\n      <td>Normal</td>\n    </tr>\n    <tr>\n      <th>...</th>\n      <td>...</td>\n      <td>...</td>\n      <td>...</td>\n      <td>...</td>\n      <td>...</td>\n      <td>...</td>\n      <td>...</td>\n      <td>...</td>\n      <td>...</td>\n      <td>...</td>\n      <td>...</td>\n      <td>...</td>\n      <td>...</td>\n      <td>...</td>\n      <td>...</td>\n      <td>...</td>\n      <td>...</td>\n      <td>...</td>\n      <td>...</td>\n      <td>...</td>\n      <td>...</td>\n      <td>...</td>\n      <td>...</td>\n      <td>...</td>\n      <td>...</td>\n      <td>...</td>\n      <td>...</td>\n      <td>...</td>\n      <td>...</td>\n      <td>...</td>\n      <td>...</td>\n      <td>...</td>\n      <td>...</td>\n      <td>...</td>\n      <td>...</td>\n      <td>...</td>\n      <td>...</td>\n      <td>...</td>\n      <td>...</td>\n      <td>...</td>\n      <td>...</td>\n      <td>...</td>\n      <td>...</td>\n      <td>...</td>\n      <td>...</td>\n      <td>...</td>\n    </tr>\n    <tr>\n      <th>2540035</th>\n      <td>38606</td>\n      <td>80</td>\n      <td>tcp</td>\n      <td>CON</td>\n      <td>0.564998</td>\n      <td>14106</td>\n      <td>772406</td>\n      <td>31</td>\n      <td>29</td>\n      <td>2</td>\n      <td>262</td>\n      <td>http</td>\n      <td>198981.250000</td>\n      <td>1.091598e+07</td>\n      <td>262</td>\n      <td>526</td>\n      <td>255</td>\n      <td>255</td>\n      <td>162243658</td>\n      <td>163257853</td>\n      <td>54</td>\n      <td>1468</td>\n      <td>1</td>\n      <td>372266</td>\n      <td>116.321921</td>\n      <td>69.874077</td>\n      <td>1424262068</td>\n      <td>1424262069</td>\n      <td>2.123130</td>\n      <td>1.075171</td>\n      <td>0.000669</td>\n      <td>0.000530</td>\n      <td>0.000139</td>\n      <td>0</td>\n      <td>0</td>\n      <td>2.0</td>\n      <td>0.0</td>\n      <td>0</td>\n      <td>1</td>\n      <td>1</td>\n      <td>4</td>\n      <td>2</td>\n      <td>2</td>\n      <td>2</td>\n      <td>2</td>\n      <td>Normal</td>\n    </tr>\n    <tr>\n      <th>2540037</th>\n      <td>38606</td>\n      <td>80</td>\n      <td>tcp</td>\n      <td>CON</td>\n      <td>0.564998</td>\n      <td>14106</td>\n      <td>772406</td>\n      <td>31</td>\n      <td>29</td>\n      <td>2</td>\n      <td>262</td>\n      <td>undefined</td>\n      <td>198981.250000</td>\n      <td>1.091598e+07</td>\n      <td>262</td>\n      <td>526</td>\n      <td>255</td>\n      <td>255</td>\n      <td>162243658</td>\n      <td>163257853</td>\n      <td>54</td>\n      <td>1468</td>\n      <td>1</td>\n      <td>372266</td>\n      <td>116.321921</td>\n      <td>69.874077</td>\n      <td>1424262068</td>\n      <td>1424262069</td>\n      <td>2.123130</td>\n      <td>1.075171</td>\n      <td>0.000669</td>\n      <td>0.000530</td>\n      <td>0.000139</td>\n      <td>0</td>\n      <td>0</td>\n      <td>2.0</td>\n      <td>0.0</td>\n      <td>0</td>\n      <td>2</td>\n      <td>1</td>\n      <td>4</td>\n      <td>2</td>\n      <td>2</td>\n      <td>2</td>\n      <td>2</td>\n      <td>Normal</td>\n    </tr>\n    <tr>\n      <th>2540038</th>\n      <td>33094</td>\n      <td>43433</td>\n      <td>tcp</td>\n      <td>FIN</td>\n      <td>0.087306</td>\n      <td>320</td>\n      <td>1828</td>\n      <td>31</td>\n      <td>29</td>\n      <td>1</td>\n      <td>2</td>\n      <td>ftp-data</td>\n      <td>24465.671880</td>\n      <td>1.466108e+05</td>\n      <td>6</td>\n      <td>8</td>\n      <td>255</td>\n      <td>255</td>\n      <td>4035116044</td>\n      <td>222196311</td>\n      <td>53</td>\n      <td>229</td>\n      <td>0</td>\n      <td>0</td>\n      <td>1221.136547</td>\n      <td>30.096029</td>\n      <td>1424262068</td>\n      <td>1424262069</td>\n      <td>17.394400</td>\n      <td>12.405143</td>\n      <td>0.000608</td>\n      <td>0.000468</td>\n      <td>0.000140</td>\n      <td>0</td>\n      <td>0</td>\n      <td>0.0</td>\n      <td>0.0</td>\n      <td>0</td>\n      <td>1</td>\n      <td>2</td>\n      <td>3</td>\n      <td>3</td>\n      <td>1</td>\n      <td>1</td>\n      <td>3</td>\n      <td>Normal</td>\n    </tr>\n    <tr>\n      <th>2540041</th>\n      <td>35433</td>\n      <td>80</td>\n      <td>tcp</td>\n      <td>CON</td>\n      <td>2.200934</td>\n      <td>3498</td>\n      <td>166054</td>\n      <td>31</td>\n      <td>29</td>\n      <td>2</td>\n      <td>57</td>\n      <td>http</td>\n      <td>12496.513670</td>\n      <td>5.983751e+05</td>\n      <td>58</td>\n      <td>116</td>\n      <td>255</td>\n      <td>255</td>\n      <td>1289728069</td>\n      <td>3436097151</td>\n      <td>60</td>\n      <td>1432</td>\n      <td>1</td>\n      <td>79745</td>\n      <td>2868.893137</td>\n      <td>1951.035944</td>\n      <td>1424262067</td>\n      <td>1424262069</td>\n      <td>38.609700</td>\n      <td>19.133826</td>\n      <td>0.000680</td>\n      <td>0.000541</td>\n      <td>0.000139</td>\n      <td>0</td>\n      <td>0</td>\n      <td>2.0</td>\n      <td>0.0</td>\n      <td>0</td>\n      <td>1</td>\n      <td>1</td>\n      <td>2</td>\n      <td>4</td>\n      <td>2</td>\n      <td>2</td>\n      <td>2</td>\n      <td>Normal</td>\n    </tr>\n    <tr>\n      <th>2540042</th>\n      <td>17293</td>\n      <td>110</td>\n      <td>tcp</td>\n      <td>CON</td>\n      <td>0.942984</td>\n      <td>574</td>\n      <td>676</td>\n      <td>62</td>\n      <td>252</td>\n      <td>5</td>\n      <td>6</td>\n      <td>pop3</td>\n      <td>4470.913574</td>\n      <td>5.259898e+03</td>\n      <td>12</td>\n      <td>12</td>\n      <td>255</td>\n      <td>255</td>\n      <td>3026824982</td>\n      <td>3748412468</td>\n      <td>48</td>\n      <td>56</td>\n      <td>0</td>\n      <td>0</td>\n      <td>3903.523582</td>\n      <td>95.650531</td>\n      <td>1424262068</td>\n      <td>1424262069</td>\n      <td>79.714089</td>\n      <td>80.827180</td>\n      <td>0.139446</td>\n      <td>0.053884</td>\n      <td>0.085562</td>\n      <td>0</td>\n      <td>3</td>\n      <td>0.0</td>\n      <td>0.0</td>\n      <td>0</td>\n      <td>1</td>\n      <td>1</td>\n      <td>2</td>\n      <td>4</td>\n      <td>2</td>\n      <td>2</td>\n      <td>2</td>\n      <td>Exploits</td>\n    </tr>\n  </tbody>\n</table>\n<p>2059418 rows × 46 columns</p>\n</div>"
     },
     "execution_count": 2,
     "metadata": {},
     "output_type": "execute_result"
    }
   ],
   "source": [
    "from pycaret.classification import *\n",
    "import numpy as np\n",
    "import pandas as pd\n",
    "import tensorflow as tf\n",
    "ds_full_multiclass=pd.read_csv(\"D:\\\\Master Thesis Datasets\\\\ds_full_multiclass.csv\",index_col=\"Unnamed: 0\")\n",
    "ds_full_multiclass"
   ],
   "metadata": {
    "collapsed": false,
    "pycharm": {
     "name": "#%%\n"
    }
   }
  },
  {
   "cell_type": "code",
   "execution_count": 4,
   "outputs": [
    {
     "data": {
      "text/plain": "Index(['service_dns', 'service_ftp-data', 'sbytes', 'Sintpkt', 'stcpb',\n       'sloss', 'trans_depth', 'state_CON', 'res_bdy_len', 'smeansz',\n       'state_INT', 'sttl', 'proto_udp', 'dmeansz', 'ct_src_dport_ltm',\n       'ct_dst_src_ltm', 'dtcpb', 'dur', 'ct_src_ ltm', 'ct_srv_src', 'tcprtt',\n       'ct_state_ttl', 'service_undefined', 'ct_dst_sport_ltm', 'Djit',\n       'dloss', 'ct_flw_http_mthd', 'service_http', 'dbytes', 'ackdat',\n       'state_FIN', 'proto_ospf', 'proto_sctp', 'Sjit', 'Sload', 'ct_dst_ltm',\n       'Spkts', 'Dintpkt', 'synack', 'Dpkts', 'ct_srv_dst', 'Dload', 'dttl',\n       'proto_unas'],\n      dtype='object')"
     },
     "execution_count": 4,
     "metadata": {},
     "output_type": "execute_result"
    }
   ],
   "source": [
    "X_train_for_columns=get_config('X_train')\n",
    "X_train_for_columns.columns"
   ],
   "metadata": {
    "collapsed": false,
    "pycharm": {
     "name": "#%%\n"
    }
   }
  },
  {
   "cell_type": "code",
   "execution_count": 5,
   "outputs": [],
   "source": [
    "X_train_mul_full=pd.read_csv(\"D:\\\\Master Thesis Datasets\\\\X_train_mul_full.csv\",index_col=\"Unnamed: 0\")\n",
    "Y_train_mul_full=pd.read_csv(\"D:\\\\Master Thesis Datasets\\\\Y_train_mul_full.csv\",index_col=\"Unnamed: 0\")\n",
    "X_test_mul_full=pd.read_csv(\"D:\\\\Master Thesis Datasets\\\\X_test_mul_full.csv\",index_col=\"Unnamed: 0\")\n",
    "Y_test_mul_full=pd.read_csv(\"D:\\\\Master Thesis Datasets\\\\Y_test_mul_full.csv\",index_col=\"Unnamed: 0\")"
   ],
   "metadata": {
    "collapsed": false,
    "pycharm": {
     "name": "#%%\n"
    }
   }
  },
  {
   "cell_type": "code",
   "execution_count": 6,
   "outputs": [],
   "source": [
    "columns_to_use=['service_dns', 'service_ftp-data', 'sbytes', 'Sintpkt', 'stcpb',\n",
    "       'sloss', 'trans_depth', 'state_CON', 'res_bdy_len', 'smeansz',\n",
    "       'state_INT', 'sttl', 'proto_udp', 'dmeansz', 'ct_src_dport_ltm',\n",
    "       'ct_dst_src_ltm', 'dtcpb', 'dur', 'ct_src_ ltm', 'ct_srv_src', 'tcprtt',\n",
    "       'ct_state_ttl', 'service_undefined', 'ct_dst_sport_ltm', 'Djit',\n",
    "       'dloss', 'ct_flw_http_mthd', 'service_http', 'dbytes', 'ackdat',\n",
    "       'state_FIN', 'proto_ospf', 'proto_sctp', 'Sjit', 'Sload', 'ct_dst_ltm',\n",
    "       'Spkts', 'Dintpkt', 'synack', 'Dpkts', 'ct_srv_dst', 'Dload', 'dttl',\n",
    "       'proto_unas']"
   ],
   "metadata": {
    "collapsed": false,
    "pycharm": {
     "name": "#%%\n"
    }
   }
  },
  {
   "cell_type": "code",
   "execution_count": 7,
   "outputs": [
    {
     "data": {
      "text/plain": "(1647534, 44)"
     },
     "execution_count": 7,
     "metadata": {},
     "output_type": "execute_result"
    }
   ],
   "source": [
    "X_train_mul_selected=X_train_mul_full[columns_to_use]\n",
    "X_train_mul_selected.shape"
   ],
   "metadata": {
    "collapsed": false,
    "pycharm": {
     "name": "#%%\n"
    }
   }
  },
  {
   "cell_type": "code",
   "execution_count": 8,
   "outputs": [
    {
     "data": {
      "text/plain": "(411884, 44)"
     },
     "execution_count": 8,
     "metadata": {},
     "output_type": "execute_result"
    }
   ],
   "source": [
    "X_test_mul_selected=X_test_mul_full[columns_to_use]\n",
    "X_test_mul_selected.shape"
   ],
   "metadata": {
    "collapsed": false,
    "pycharm": {
     "name": "#%%\n"
    }
   }
  },
  {
   "cell_type": "code",
   "execution_count": 9,
   "outputs": [
    {
     "data": {
      "text/plain": "(411884, 1)"
     },
     "execution_count": 9,
     "metadata": {},
     "output_type": "execute_result"
    }
   ],
   "source": [
    "Y_test_mul_full.shape"
   ],
   "metadata": {
    "collapsed": false,
    "pycharm": {
     "name": "#%%\n"
    }
   }
  },
  {
   "cell_type": "code",
   "execution_count": 10,
   "outputs": [
    {
     "data": {
      "text/plain": "(1647534, 1)"
     },
     "execution_count": 10,
     "metadata": {},
     "output_type": "execute_result"
    }
   ],
   "source": [
    "Y_train_mul_full.shape"
   ],
   "metadata": {
    "collapsed": false,
    "pycharm": {
     "name": "#%%\n"
    }
   }
  },
  {
   "cell_type": "code",
   "execution_count": 11,
   "outputs": [
    {
     "name": "stdout",
     "output_type": "stream",
     "text": [
      "Epoch 1/100\n",
      "25743/25743 [==============================] - 87s 3ms/step - loss: 0.0761 - accuracy: 0.9712 - val_loss: 0.0645 - val_accuracy: 0.9739\n",
      "Epoch 2/100\n",
      "25743/25743 [==============================] - 96s 4ms/step - loss: 0.0649 - accuracy: 0.9739 - val_loss: 0.0613 - val_accuracy: 0.9751\n",
      "Epoch 3/100\n",
      "25743/25743 [==============================] - 87s 3ms/step - loss: 0.0628 - accuracy: 0.9745 - val_loss: 0.0601 - val_accuracy: 0.9756\n",
      "Epoch 4/100\n",
      "25743/25743 [==============================] - 88s 3ms/step - loss: 0.0615 - accuracy: 0.9749 - val_loss: 0.0597 - val_accuracy: 0.9752\n",
      "Epoch 5/100\n",
      "25743/25743 [==============================] - 85s 3ms/step - loss: 0.0606 - accuracy: 0.9752 - val_loss: 0.0596 - val_accuracy: 0.9758\n",
      "Epoch 6/100\n",
      "25743/25743 [==============================] - 89s 3ms/step - loss: 0.0598 - accuracy: 0.9756 - val_loss: 0.0575 - val_accuracy: 0.9767\n",
      "Epoch 7/100\n",
      "25743/25743 [==============================] - 83s 3ms/step - loss: 0.0591 - accuracy: 0.9758 - val_loss: 0.0565 - val_accuracy: 0.9769\n",
      "Epoch 8/100\n",
      "25743/25743 [==============================] - 91s 4ms/step - loss: 0.0586 - accuracy: 0.9762 - val_loss: 0.0569 - val_accuracy: 0.9769\n",
      "Epoch 9/100\n",
      "25743/25743 [==============================] - 105s 4ms/step - loss: 0.0581 - accuracy: 0.9764 - val_loss: 0.0559 - val_accuracy: 0.9773\n",
      "Epoch 10/100\n",
      "25743/25743 [==============================] - 105s 4ms/step - loss: 0.0576 - accuracy: 0.9767 - val_loss: 0.0551 - val_accuracy: 0.9774\n",
      "Epoch 11/100\n",
      "25743/25743 [==============================] - 105s 4ms/step - loss: 0.0570 - accuracy: 0.9769 - val_loss: 0.0545 - val_accuracy: 0.9781\n",
      "Epoch 12/100\n",
      "25743/25743 [==============================] - 106s 4ms/step - loss: 0.0567 - accuracy: 0.9771 - val_loss: 0.0556 - val_accuracy: 0.9776\n",
      "Epoch 13/100\n",
      "25743/25743 [==============================] - 106s 4ms/step - loss: 0.0563 - accuracy: 0.9772 - val_loss: 0.0546 - val_accuracy: 0.9774\n",
      "Epoch 14/100\n",
      "25743/25743 [==============================] - 107s 4ms/step - loss: 0.0559 - accuracy: 0.9774 - val_loss: 0.0550 - val_accuracy: 0.9777\n",
      "Epoch 15/100\n",
      "25743/25743 [==============================] - 111s 4ms/step - loss: 0.0556 - accuracy: 0.9775 - val_loss: 0.0537 - val_accuracy: 0.9781\n",
      "Epoch 16/100\n",
      "25743/25743 [==============================] - 111s 4ms/step - loss: 0.0552 - accuracy: 0.9776 - val_loss: 0.0556 - val_accuracy: 0.9770\n"
     ]
    },
    {
     "data": {
      "text/plain": "<tensorflow.python.keras.callbacks.History at 0x20ec49d09d0>"
     },
     "execution_count": 11,
     "metadata": {},
     "output_type": "execute_result"
    }
   ],
   "source": [
    "#now we train using these features\n",
    "from tensorflow.python.keras.layers import Activation\n",
    "from keras.optimizers import SGD\n",
    "from keras.models import Sequential\n",
    "from keras.layers import Dense\n",
    "from keras.layers.advanced_activations import PReLU\n",
    "from keras.layers import Dropout\n",
    "from keras.callbacks import EarlyStopping\n",
    "act2 = PReLU(alpha_initializer='zeros', weights=None)\n",
    "model2 = Sequential()\n",
    "# define the NN architecture and activation function\n",
    "\n",
    "model2.add(Dense(496, input_dim=44, activation=Activation(act2)))\n",
    "model2.add(Dropout(0.1))\n",
    "model2.add(Dense(248, activation='relu'))\n",
    "model2.add(Dropout(0.1))\n",
    "model2.add(Dense(124, activation='relu'))\n",
    "model2.add(Dropout(0.1))\n",
    "model2.add(Dense(62, activation='relu'))\n",
    "model2.add(Dropout(0.1))\n",
    "model2.add(Dense(10))\n",
    "model2.add(Activation('softmax'))\n",
    "\n",
    "sgd =SGD(lr=0.01, decay=1e-6, momentum=0.9, nesterov=True)\n",
    "model2.compile(loss='sparse_categorical_crossentropy', optimizer=sgd, metrics= ['accuracy'])\n",
    "es = EarlyStopping(monitor='val_accuracy', mode='max', min_delta=0.0001,patience=5) ## early stopping\n",
    "model2.fit(X_train_mul_selected, Y_train_mul_full, validation_data=(X_test_mul_selected, Y_test_mul_full), epochs=100, batch_size=64, callbacks=[es])"
   ],
   "metadata": {
    "collapsed": false,
    "pycharm": {
     "name": "#%%\n"
    }
   }
  },
  {
   "cell_type": "code",
   "execution_count": 12,
   "outputs": [
    {
     "name": "stdout",
     "output_type": "stream",
     "text": [
      "accuracy: 97.71%\n",
      "accuracy: 97.70%\n"
     ]
    }
   ],
   "source": [
    "#training accuracy\n",
    "train_acc2 = model2.evaluate(X_train_mul_selected, Y_train_mul_full, verbose=0)\n",
    "print(\"%s: %.2f%%\" % (model2.metrics_names[1], train_acc2[1] * 100))\n",
    "#calculate the test accuracy using evaluate function\n",
    "test_acc2 = model2.evaluate(X_test_mul_selected, Y_test_mul_full, verbose=0)\n",
    "print(\"%s: %.2f%%\" % (model2.metrics_names[1], test_acc2[1] * 100))"
   ],
   "metadata": {
    "collapsed": false,
    "pycharm": {
     "name": "#%%\n"
    }
   }
  },
  {
   "cell_type": "code",
   "execution_count": 13,
   "outputs": [
    {
     "name": "stdout",
     "output_type": "stream",
     "text": [
      "WARNING:tensorflow:From C:\\Users\\Jovana\\AppData\\Local\\Temp/ipykernel_16476/48844175.py:3: Sequential.predict_classes (from tensorflow.python.keras.engine.sequential) is deprecated and will be removed after 2021-01-01.\n",
      "Instructions for updating:\n",
      "Please use instead:* `np.argmax(model.predict(x), axis=-1)`,   if your model does multi-class classification   (e.g. if it uses a `softmax` last-layer activation).* `(model.predict(x) > 0.5).astype(\"int32\")`,   if your model does binary classification   (e.g. if it uses a `sigmoid` last-layer activation).\n"
     ]
    },
    {
     "data": {
      "text/plain": "0.9769668158996222"
     },
     "execution_count": 13,
     "metadata": {},
     "output_type": "execute_result"
    }
   ],
   "source": [
    "from sklearn.metrics import accuracy_score\n",
    "from sklearn.metrics import precision_score, recall_score, f1_score, roc_auc_score\n",
    "y_pred2 = model2.predict_classes(X_test_mul_selected)\n",
    "pred_accuracy2 = accuracy_score(Y_test_mul_full, y_pred2)\n",
    "pred_accuracy2"
   ],
   "metadata": {
    "collapsed": false,
    "pycharm": {
     "name": "#%%\n"
    }
   }
  },
  {
   "cell_type": "code",
   "execution_count": 14,
   "outputs": [
    {
     "name": "stdout",
     "output_type": "stream",
     "text": [
      "Precision : 0.974396\n",
      "Recall: 0.976967\n",
      "F1 score: 0.974772\n"
     ]
    }
   ],
   "source": [
    "# Precision\n",
    "precision2 = precision_score(Y_test_mul_full, y_pred2, average='weighted')\n",
    "print('Precision : %f' % precision2)\n",
    "#recall\n",
    "recall2 = recall_score(Y_test_mul_full, y_pred2, average='weighted')\n",
    "print('Recall: %f' % recall2)\n",
    "# f1-score\n",
    "f1_2 = f1_score(Y_test_mul_full, y_pred2, average='weighted')\n",
    "print('F1 score: %f' % f1_2)"
   ],
   "metadata": {
    "collapsed": false,
    "pycharm": {
     "name": "#%%\n"
    }
   }
  },
  {
   "cell_type": "code",
   "execution_count": 15,
   "outputs": [
    {
     "name": "stdout",
     "output_type": "stream",
     "text": [
      "[[     0      0     15    167    131      0     82     60      0      0]\n",
      " [     0      0     19    138    116      6     16     99      0      0]\n",
      " [     0      0     28    625    144     62     42    173     18      0]\n",
      " [     0      0     28   4218    212    111    163    849     15      0]\n",
      " [     0      0     14    413   1346     63   2101    456     18      0]\n",
      " [     0      0      8    518    164   4186     31    125      6      0]\n",
      " [     0      0      3    393    582     47 390217    586     18      0]\n",
      " [     0      0      5    149    129      8     91   2328      0      0]\n",
      " [     0      0      0     13     17      5     17    178     74      0]\n",
      " [     0      0      0     25      0      7      0      5      1      0]]\n"
     ]
    }
   ],
   "source": [
    "from sklearn.metrics import confusion_matrix\n",
    "# confusion matrix\n",
    "confusionmatrix2 = confusion_matrix(Y_test_mul_full, y_pred2)\n",
    "print(confusionmatrix2)"
   ],
   "metadata": {
    "collapsed": false,
    "pycharm": {
     "name": "#%%\n"
    }
   }
  },
  {
   "cell_type": "code",
   "execution_count": 16,
   "outputs": [
    {
     "name": "stdout",
     "output_type": "stream",
     "text": [
      "                 precision    recall  f1-score   support\n",
      "\n",
      "       Analysis       0.00      0.00      0.00       455\n",
      "       Backdoor       0.00      0.00      0.00       394\n",
      "            DoS       0.23      0.03      0.05      1092\n",
      "       Exploits       0.63      0.75      0.69      5596\n",
      "        Fuzzers       0.47      0.31      0.37      4411\n",
      "        Generic       0.93      0.83      0.88      5038\n",
      "         Normal       0.99      1.00      0.99    391846\n",
      "Recconnaissanse       0.48      0.86      0.62      2710\n",
      "      Shellcode       0.49      0.24      0.33       304\n",
      "          Worms       0.00      0.00      0.00        38\n",
      "\n",
      "       accuracy                           0.98    411884\n",
      "      macro avg       0.42      0.40      0.39    411884\n",
      "   weighted avg       0.97      0.98      0.97    411884\n",
      "\n"
     ]
    }
   ],
   "source": [
    "from sklearn.metrics import classification_report\n",
    "target_names=['Analysis','Backdoor','DoS','Exploits','Fuzzers','Generic','Normal','Recconnaissanse','Shellcode','Worms']\n",
    "print(classification_report(Y_test_mul_full, y_pred2, target_names=target_names))"
   ],
   "metadata": {
    "collapsed": false,
    "pycharm": {
     "name": "#%%\n"
    }
   }
  },
  {
   "cell_type": "code",
   "execution_count": 17,
   "outputs": [
    {
     "name": "stdout",
     "output_type": "stream",
     "text": [
      "ROC AUC score: 0.998491\n"
     ]
    }
   ],
   "source": [
    "roc2 = roc_auc_score(Y_test_mul_full, model2.predict(X_test_mul_selected), average='weighted', multi_class='ovr')\n",
    "print('ROC AUC score: %f' % roc2)"
   ],
   "metadata": {
    "collapsed": false,
    "pycharm": {
     "name": "#%%\n"
    }
   }
  },
  {
   "cell_type": "code",
   "execution_count": 37,
   "outputs": [],
   "source": [
    "#FNR=12.69%"
   ],
   "metadata": {
    "collapsed": false,
    "pycharm": {
     "name": "#%%\n"
    }
   }
  },
  {
   "cell_type": "code",
   "execution_count": 29,
   "outputs": [
    {
     "data": {
      "text/plain": "array([9.52331792e+01, 1.03618491e+02, 3.60274218e+01, 7.48742956e+00,\n       9.47730097e+00, 8.09997050e+00, 1.05077280e-01, 1.54741617e+01,\n       1.36498260e+02, 1.23874737e+03])"
     },
     "execution_count": 29,
     "metadata": {},
     "output_type": "execute_result"
    }
   ],
   "source": [
    "from sklearn.utils import compute_class_weight\n",
    "weights_multi=compute_class_weight('balanced',np.unique(Y_train_mul_full.attack_cat), y=Y_train_mul_full.values.reshape(-1))\n",
    "weights_multi"
   ],
   "metadata": {
    "collapsed": false,
    "pycharm": {
     "name": "#%%\n"
    }
   }
  },
  {
   "cell_type": "code",
   "execution_count": 27,
   "outputs": [
    {
     "data": {
      "text/plain": "array([0, 1, 2, 3, 4, 5, 6, 7, 8, 9], dtype=int64)"
     },
     "execution_count": 27,
     "metadata": {},
     "output_type": "execute_result"
    }
   ],
   "source": [
    "np.unique(Y_train_mul_full.attack_cat)"
   ],
   "metadata": {
    "collapsed": false,
    "pycharm": {
     "name": "#%%\n"
    }
   }
  },
  {
   "cell_type": "code",
   "execution_count": 31,
   "outputs": [
    {
     "name": "stdout",
     "output_type": "stream",
     "text": [
      "Epoch 1/100\n",
      "25743/25743 [==============================] - 85s 3ms/step - loss: 0.2635 - accuracy: 0.9682 - val_loss: 0.0725 - val_accuracy: 0.9711\n",
      "Epoch 2/100\n",
      "25743/25743 [==============================] - 86s 3ms/step - loss: 0.2380 - accuracy: 0.9698 - val_loss: 0.0678 - val_accuracy: 0.9707\n",
      "Epoch 3/100\n",
      "25743/25743 [==============================] - 84s 3ms/step - loss: 0.2303 - accuracy: 0.9704 - val_loss: 0.0736 - val_accuracy: 0.9707\n",
      "Epoch 4/100\n",
      "25743/25743 [==============================] - 84s 3ms/step - loss: 0.2263 - accuracy: 0.9706 - val_loss: 0.0648 - val_accuracy: 0.9728\n",
      "Epoch 5/100\n",
      "25743/25743 [==============================] - 87s 3ms/step - loss: 0.2226 - accuracy: 0.9710 - val_loss: 0.0690 - val_accuracy: 0.9721\n",
      "Epoch 6/100\n",
      "25743/25743 [==============================] - 86s 3ms/step - loss: 0.2201 - accuracy: 0.9712 - val_loss: 0.0657 - val_accuracy: 0.9720\n",
      "Epoch 7/100\n",
      "25743/25743 [==============================] - 85s 3ms/step - loss: 0.2171 - accuracy: 0.9715 - val_loss: 0.0653 - val_accuracy: 0.9725\n",
      "Epoch 8/100\n",
      "25743/25743 [==============================] - 84s 3ms/step - loss: 0.2150 - accuracy: 0.9716 - val_loss: 0.0629 - val_accuracy: 0.9731\n",
      "Epoch 9/100\n",
      "25743/25743 [==============================] - 84s 3ms/step - loss: 0.2134 - accuracy: 0.9718 - val_loss: 0.0790 - val_accuracy: 0.9689\n",
      "Epoch 10/100\n",
      "25743/25743 [==============================] - 84s 3ms/step - loss: 0.2120 - accuracy: 0.9720 - val_loss: 0.0636 - val_accuracy: 0.9723\n",
      "Epoch 11/100\n",
      "25743/25743 [==============================] - 83s 3ms/step - loss: 0.2101 - accuracy: 0.9721 - val_loss: 0.0628 - val_accuracy: 0.9726\n",
      "Epoch 12/100\n",
      "25743/25743 [==============================] - 82s 3ms/step - loss: 0.2088 - accuracy: 0.9722 - val_loss: 0.0660 - val_accuracy: 0.9724\n",
      "Epoch 13/100\n",
      "25743/25743 [==============================] - 87s 3ms/step - loss: 0.2079 - accuracy: 0.9722 - val_loss: 0.0663 - val_accuracy: 0.9725\n"
     ]
    },
    {
     "data": {
      "text/plain": "<tensorflow.python.keras.callbacks.History at 0x20e8f69d9d0>"
     },
     "execution_count": 31,
     "metadata": {},
     "output_type": "execute_result"
    }
   ],
   "source": [
    "act3= PReLU(alpha_initializer='zeros', weights=None)\n",
    "model3 = Sequential()\n",
    "# define the NN architecture and activation function\n",
    "\n",
    "model3.add(Dense(496, input_dim=44, activation=Activation(act3)))\n",
    "model3.add(Dropout(0.1))\n",
    "model3.add(Dense(248, activation='relu'))\n",
    "model3.add(Dropout(0.1))\n",
    "model3.add(Dense(124, activation='relu'))\n",
    "model3.add(Dropout(0.1))\n",
    "model3.add(Dense(62, activation='relu'))\n",
    "model3.add(Dropout(0.1))\n",
    "model3.add(Dense(10))\n",
    "model3.add(Activation('softmax'))\n",
    "\n",
    "sgd =SGD(lr=0.01, decay=1e-6, momentum=0.9, nesterov=True)\n",
    "model3.compile(loss='sparse_categorical_crossentropy', optimizer=sgd, metrics= ['accuracy'])\n",
    "es = EarlyStopping(monitor='val_accuracy', mode='max', min_delta=0.0001,patience=5) ## early stopping\n",
    "model3.fit(X_train_mul_selected, Y_train_mul_full, validation_data=(X_test_mul_selected, Y_test_mul_full), epochs=100, batch_size=64, callbacks=[es], class_weight={0:9,1:10,2:5,3:3,4:3.5,5:3,6:1,7:4,8:15,9:20})"
   ],
   "metadata": {
    "collapsed": false,
    "pycharm": {
     "name": "#%%\n"
    }
   }
  },
  {
   "cell_type": "code",
   "execution_count": 32,
   "outputs": [
    {
     "name": "stdout",
     "output_type": "stream",
     "text": [
      "accuracy: 97.25%\n",
      "accuracy: 97.25%\n"
     ]
    }
   ],
   "source": [
    "#training accuracy\n",
    "train_acc3 = model3.evaluate(X_train_mul_selected, Y_train_mul_full, verbose=0)\n",
    "print(\"%s: %.2f%%\" % (model3.metrics_names[1], train_acc3[1] * 100))\n",
    "#calculate the test accuracy using evaluate function\n",
    "test_acc3 = model3.evaluate(X_test_mul_selected, Y_test_mul_full, verbose=0)\n",
    "print(\"%s: %.2f%%\" % (model3.metrics_names[1], test_acc3[1] * 100))"
   ],
   "metadata": {
    "collapsed": false,
    "pycharm": {
     "name": "#%%\n"
    }
   }
  },
  {
   "cell_type": "code",
   "execution_count": 33,
   "outputs": [
    {
     "data": {
      "text/plain": "0.9725262452535179"
     },
     "execution_count": 33,
     "metadata": {},
     "output_type": "execute_result"
    }
   ],
   "source": [
    "y_pred3 = model3.predict_classes(X_test_mul_selected)\n",
    "pred_accuracy3 = accuracy_score(Y_test_mul_full, y_pred3)\n",
    "pred_accuracy3"
   ],
   "metadata": {
    "collapsed": false,
    "pycharm": {
     "name": "#%%\n"
    }
   }
  },
  {
   "cell_type": "code",
   "execution_count": 34,
   "outputs": [
    {
     "name": "stdout",
     "output_type": "stream",
     "text": [
      "Precision : 0.982004\n",
      "Recall: 0.972526\n",
      "F1 score: 0.975565\n"
     ]
    }
   ],
   "source": [
    "# Precision\n",
    "precision3 = precision_score(Y_test_mul_full, y_pred3, average='weighted')\n",
    "print('Precision : %f' % precision3)\n",
    "#recall\n",
    "recall3 = recall_score(Y_test_mul_full, y_pred3, average='weighted')\n",
    "print('Recall: %f' % recall3)\n",
    "# f1-score\n",
    "f1_3 = f1_score(Y_test_mul_full, y_pred3, average='weighted')\n",
    "print('F1 score: %f' % f1_3)"
   ],
   "metadata": {
    "collapsed": false,
    "pycharm": {
     "name": "#%%\n"
    }
   }
  },
  {
   "cell_type": "code",
   "execution_count": 35,
   "outputs": [
    {
     "name": "stdout",
     "output_type": "stream",
     "text": [
      "[[    14    349      0     23      0      0     69      0      0      0]\n",
      " [     0    322      0     11      9      0      3     46      0      3]\n",
      " [     0    376     30    456     45     52     12     92     28      1]\n",
      " [     8    442     13   3964    209     73     53    682    142     10]\n",
      " [     0    387      2    202   3076    103      8    443    190      0]\n",
      " [     1    339      1    390     41   4154      6     59     32     15]\n",
      " [    38     11      6    382   3886     78 386630    684    131      0]\n",
      " [     0    323      2     12    101      6      4   2237     25      0]\n",
      " [     0      0      0      1     21      4      0    142    136      0]\n",
      " [     0      0      0     26      0      1      0      5      1      5]]\n"
     ]
    }
   ],
   "source": [
    "# confusion matrix\n",
    "confusionmatrix3 = confusion_matrix(Y_test_mul_full, y_pred3)\n",
    "print(confusionmatrix3)"
   ],
   "metadata": {
    "collapsed": false,
    "pycharm": {
     "name": "#%%\n"
    }
   }
  },
  {
   "cell_type": "code",
   "execution_count": 36,
   "outputs": [
    {
     "name": "stdout",
     "output_type": "stream",
     "text": [
      "                 precision    recall  f1-score   support\n",
      "\n",
      "       Analysis       0.23      0.03      0.05       455\n",
      "       Backdoor       0.13      0.82      0.22       394\n",
      "            DoS       0.56      0.03      0.05      1092\n",
      "       Exploits       0.73      0.71      0.72      5596\n",
      "        Fuzzers       0.42      0.70      0.52      4411\n",
      "        Generic       0.93      0.82      0.87      5038\n",
      "         Normal       1.00      0.99      0.99    391846\n",
      "Recconnaissanse       0.51      0.83      0.63      2710\n",
      "      Shellcode       0.20      0.45      0.28       304\n",
      "          Worms       0.15      0.13      0.14        38\n",
      "\n",
      "       accuracy                           0.97    411884\n",
      "      macro avg       0.48      0.55      0.45    411884\n",
      "   weighted avg       0.98      0.97      0.98    411884\n",
      "\n"
     ]
    }
   ],
   "source": [
    "target_names=['Analysis','Backdoor','DoS','Exploits','Fuzzers','Generic','Normal','Recconnaissanse','Shellcode','Worms']\n",
    "print(classification_report(Y_test_mul_full, y_pred3, target_names=target_names))"
   ],
   "metadata": {
    "collapsed": false,
    "pycharm": {
     "name": "#%%\n"
    }
   }
  },
  {
   "cell_type": "code",
   "execution_count": 38,
   "outputs": [],
   "source": [
    "#FNR=0.77%"
   ],
   "metadata": {
    "collapsed": false,
    "pycharm": {
     "name": "#%%\n"
    }
   }
  },
  {
   "cell_type": "code",
   "execution_count": 39,
   "outputs": [
    {
     "name": "stdout",
     "output_type": "stream",
     "text": [
      "ROC AUC score: 0.998345\n"
     ]
    }
   ],
   "source": [
    "roc3 = roc_auc_score(Y_test_mul_full, model3.predict(X_test_mul_selected), average='weighted', multi_class='ovr')\n",
    "print('ROC AUC score: %f' % roc3)"
   ],
   "metadata": {
    "collapsed": false,
    "pycharm": {
     "name": "#%%\n"
    }
   }
  },
  {
   "cell_type": "code",
   "execution_count": null,
   "outputs": [],
   "source": [],
   "metadata": {
    "collapsed": false,
    "pycharm": {
     "name": "#%%\n"
    }
   }
  }
 ],
 "metadata": {
  "kernelspec": {
   "display_name": "Python 3",
   "language": "python",
   "name": "python3"
  },
  "language_info": {
   "codemirror_mode": {
    "name": "ipython",
    "version": 2
   },
   "file_extension": ".py",
   "mimetype": "text/x-python",
   "name": "python",
   "nbconvert_exporter": "python",
   "pygments_lexer": "ipython2",
   "version": "2.7.6"
  }
 },
 "nbformat": 4,
 "nbformat_minor": 0
}