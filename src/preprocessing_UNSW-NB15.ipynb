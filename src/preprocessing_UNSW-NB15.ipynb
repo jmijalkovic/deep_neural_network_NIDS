{
 "cells": [
  {
   "cell_type": "code",
   "execution_count": 73,
   "metadata": {
    "collapsed": true
   },
   "outputs": [],
   "source": [
    "import numpy as np\n",
    "import pandas as pd\n",
    "import matplotlib.pyplot as plt"
   ]
  },
  {
   "cell_type": "code",
   "execution_count": 74,
   "outputs": [],
   "source": [
    "#importing datasets\n",
    "#I will be using the two smaller datasets provided for training and testing (explain why I used these in the thesis)\n",
    "pathTesting = 'C:\\\\Users\\\\Jovana\\\\PycharmProjects\\\\neural_network_DNN\\\\include\\\\UNSW-NB15\\\\UNSW_NB15_testing-set.csv'\n",
    "pathTraining= 'C:\\\\Users\\\\Jovana\\\\PycharmProjects\\\\neural_network_DNN\\\\include\\\\UNSW-NB15\\\\UNSW_NB15_training-set.csv'\n"
   ],
   "metadata": {
    "collapsed": false,
    "pycharm": {
     "name": "#%%\n"
    }
   }
  },
  {
   "cell_type": "code",
   "execution_count": 75,
   "outputs": [],
   "source": [
    "training=pd.read_csv(pathTraining)\n",
    "testing=pd.read_csv(pathTesting)"
   ],
   "metadata": {
    "collapsed": false,
    "pycharm": {
     "name": "#%%\n"
    }
   }
  },
  {
   "cell_type": "code",
   "execution_count": 76,
   "outputs": [
    {
     "data": {
      "text/plain": "<bound method DataFrame.info of             id       dur proto service state  spkts  dpkts  sbytes  dbytes  \\\n0            1  0.121478   tcp       -   FIN      6      4     258     172   \n1            2  0.649902   tcp       -   FIN     14     38     734   42014   \n2            3  1.623129   tcp       -   FIN      8     16     364   13186   \n3            4  1.681642   tcp     ftp   FIN     12     12     628     770   \n4            5  0.449454   tcp       -   FIN     10      6     534     268   \n...        ...       ...   ...     ...   ...    ...    ...     ...     ...   \n175336  175337  0.000009   udp     dns   INT      2      0     114       0   \n175337  175338  0.505762   tcp       -   FIN     10      8     620     354   \n175338  175339  0.000009   udp     dns   INT      2      0     114       0   \n175339  175340  0.000009   udp     dns   INT      2      0     114       0   \n175340  175341  0.000009   udp     dns   INT      2      0     114       0   \n\n                 rate  ...  ct_dst_sport_ltm  ct_dst_src_ltm  is_ftp_login  \\\n0           74.087490  ...                 1               1             0   \n1           78.473372  ...                 1               2             0   \n2           14.170161  ...                 1               3             0   \n3           13.677108  ...                 1               3             1   \n4           33.373826  ...                 1              40             0   \n...               ...  ...               ...             ...           ...   \n175336  111111.107200  ...                13              24             0   \n175337      33.612649  ...                 1               2             0   \n175338  111111.107200  ...                 3              13             0   \n175339  111111.107200  ...                14              30             0   \n175340  111111.107200  ...                16              30             0   \n\n        ct_ftp_cmd  ct_flw_http_mthd  ct_src_ltm  ct_srv_dst  is_sm_ips_ports  \\\n0                0                 0           1           1                0   \n1                0                 0           1           6                0   \n2                0                 0           2           6                0   \n3                1                 0           2           1                0   \n4                0                 0           2          39                0   \n...            ...               ...         ...         ...              ...   \n175336           0                 0          24          24                0   \n175337           0                 0           1           1                0   \n175338           0                 0           3          12                0   \n175339           0                 0          30          30                0   \n175340           0                 0          30          30                0   \n\n        attack_cat  label  \n0           Normal      0  \n1           Normal      0  \n2           Normal      0  \n3           Normal      0  \n4           Normal      0  \n...            ...    ...  \n175336     Generic      1  \n175337   Shellcode      1  \n175338     Generic      1  \n175339     Generic      1  \n175340     Generic      1  \n\n[175341 rows x 45 columns]>"
     },
     "execution_count": 76,
     "metadata": {},
     "output_type": "execute_result"
    }
   ],
   "source": [
    "training.info"
   ],
   "metadata": {
    "collapsed": false,
    "pycharm": {
     "name": "#%%\n"
    }
   }
  },
  {
   "cell_type": "code",
   "execution_count": 77,
   "outputs": [
    {
     "data": {
      "text/plain": "(175341, 45)"
     },
     "execution_count": 77,
     "metadata": {},
     "output_type": "execute_result"
    }
   ],
   "source": [
    "training.shape"
   ],
   "metadata": {
    "collapsed": false,
    "pycharm": {
     "name": "#%%\n"
    }
   }
  },
  {
   "cell_type": "code",
   "execution_count": 78,
   "outputs": [
    {
     "data": {
      "text/plain": "Index(['id', 'dur', 'proto', 'service', 'state', 'spkts', 'dpkts', 'sbytes',\n       'dbytes', 'rate', 'sttl', 'dttl', 'sload', 'dload', 'sloss', 'dloss',\n       'sinpkt', 'dinpkt', 'sjit', 'djit', 'swin', 'stcpb', 'dtcpb', 'dwin',\n       'tcprtt', 'synack', 'ackdat', 'smean', 'dmean', 'trans_depth',\n       'response_body_len', 'ct_srv_src', 'ct_state_ttl', 'ct_dst_ltm',\n       'ct_src_dport_ltm', 'ct_dst_sport_ltm', 'ct_dst_src_ltm',\n       'is_ftp_login', 'ct_ftp_cmd', 'ct_flw_http_mthd', 'ct_src_ltm',\n       'ct_srv_dst', 'is_sm_ips_ports', 'attack_cat', 'label'],\n      dtype='object')"
     },
     "execution_count": 78,
     "metadata": {},
     "output_type": "execute_result"
    }
   ],
   "source": [
    "training.columns"
   ],
   "metadata": {
    "collapsed": false,
    "pycharm": {
     "name": "#%%\n"
    }
   }
  },
  {
   "cell_type": "code",
   "execution_count": 79,
   "outputs": [
    {
     "data": {
      "text/plain": "id                   0\ndur                  0\nproto                0\nservice              0\nstate                0\nspkts                0\ndpkts                0\nsbytes               0\ndbytes               0\nrate                 0\nsttl                 0\ndttl                 0\nsload                0\ndload                0\nsloss                0\ndloss                0\nsinpkt               0\ndinpkt               0\nsjit                 0\ndjit                 0\nswin                 0\nstcpb                0\ndtcpb                0\ndwin                 0\ntcprtt               0\nsynack               0\nackdat               0\nsmean                0\ndmean                0\ntrans_depth          0\nresponse_body_len    0\nct_srv_src           0\nct_state_ttl         0\nct_dst_ltm           0\nct_src_dport_ltm     0\nct_dst_sport_ltm     0\nct_dst_src_ltm       0\nis_ftp_login         0\nct_ftp_cmd           0\nct_flw_http_mthd     0\nct_src_ltm           0\nct_srv_dst           0\nis_sm_ips_ports      0\nattack_cat           0\nlabel                0\ndtype: int64"
     },
     "execution_count": 79,
     "metadata": {},
     "output_type": "execute_result"
    }
   ],
   "source": [
    "# check for missing values\n",
    "training.isnull().sum()"
   ],
   "metadata": {
    "collapsed": false,
    "pycharm": {
     "name": "#%%\n"
    }
   }
  },
  {
   "cell_type": "code",
   "execution_count": 81,
   "outputs": [
    {
     "data": {
      "text/plain": "id                   0\ndur                  0\nproto                0\nservice              0\nstate                0\nspkts                0\ndpkts                0\nsbytes               0\ndbytes               0\nrate                 0\nsttl                 0\ndttl                 0\nsload                0\ndload                0\nsloss                0\ndloss                0\nsinpkt               0\ndinpkt               0\nsjit                 0\ndjit                 0\nswin                 0\nstcpb                0\ndtcpb                0\ndwin                 0\ntcprtt               0\nsynack               0\nackdat               0\nsmean                0\ndmean                0\ntrans_depth          0\nresponse_body_len    0\nct_srv_src           0\nct_state_ttl         0\nct_dst_ltm           0\nct_src_dport_ltm     0\nct_dst_sport_ltm     0\nct_dst_src_ltm       0\nis_ftp_login         0\nct_ftp_cmd           0\nct_flw_http_mthd     0\nct_src_ltm           0\nct_srv_dst           0\nis_sm_ips_ports      0\nattack_cat           0\nlabel                0\ndtype: int64"
     },
     "execution_count": 81,
     "metadata": {},
     "output_type": "execute_result"
    }
   ],
   "source": [
    "testing.isnull().sum()"
   ],
   "metadata": {
    "collapsed": false,
    "pycharm": {
     "name": "#%%\n"
    }
   }
  },
  {
   "cell_type": "code",
   "execution_count": 89,
   "outputs": [],
   "source": [
    "#there are no missing values, the feature 'service' has - where there is no service, rename it to 'undefined'\n",
    "training['service'].replace('-','undefined',inplace=True)\n",
    "testing['service'].replace('-','undefined',inplace=True)"
   ],
   "metadata": {
    "collapsed": false,
    "pycharm": {
     "name": "#%%\n"
    }
   }
  },
  {
   "cell_type": "code",
   "execution_count": 90,
   "outputs": [
    {
     "data": {
      "text/plain": "Normal            56000\nGeneric           40000\nExploits          33393\nFuzzers           18184\nDoS               12264\nReconnaissance    10491\nAnalysis           2000\nBackdoor           1746\nShellcode          1133\nWorms               130\nName: attack_cat, dtype: int64"
     },
     "execution_count": 90,
     "metadata": {},
     "output_type": "execute_result"
    }
   ],
   "source": [
    "training['attack_cat'].value_counts()"
   ],
   "metadata": {
    "collapsed": false,
    "pycharm": {
     "name": "#%%\n"
    }
   }
  },
  {
   "cell_type": "code",
   "execution_count": 91,
   "outputs": [
    {
     "data": {
      "text/plain": "Normal            37000\nGeneric           18871\nExploits          11132\nFuzzers            6062\nDoS                4089\nReconnaissance     3496\nAnalysis            677\nBackdoor            583\nShellcode           378\nWorms                44\nName: attack_cat, dtype: int64"
     },
     "execution_count": 91,
     "metadata": {},
     "output_type": "execute_result"
    }
   ],
   "source": [
    "testing['attack_cat'].value_counts()"
   ],
   "metadata": {
    "collapsed": false,
    "pycharm": {
     "name": "#%%\n"
    }
   }
  },
  {
   "cell_type": "code",
   "execution_count": 92,
   "outputs": [
    {
     "data": {
      "text/plain": "INT    82275\nFIN    77825\nCON    13152\nREQ     1991\nRST       83\nECO       12\nPAR        1\nURN        1\nno         1\nName: state, dtype: int64"
     },
     "execution_count": 92,
     "metadata": {},
     "output_type": "execute_result"
    }
   ],
   "source": [
    "training['state'].value_counts()"
   ],
   "metadata": {
    "collapsed": false,
    "pycharm": {
     "name": "#%%\n"
    }
   }
  },
  {
   "cell_type": "code",
   "execution_count": 93,
   "outputs": [
    {
     "data": {
      "text/plain": "FIN    39339\nINT    34163\nCON     6982\nREQ     1842\nACC        4\nRST        1\nCLO        1\nName: state, dtype: int64"
     },
     "execution_count": 93,
     "metadata": {},
     "output_type": "execute_result"
    }
   ],
   "source": [
    "testing['state'].value_counts()"
   ],
   "metadata": {
    "collapsed": false,
    "pycharm": {
     "name": "#%%\n"
    }
   }
  },
  {
   "cell_type": "code",
   "execution_count": 94,
   "outputs": [
    {
     "data": {
      "text/plain": "undefined    94168\ndns          47294\nhttp         18724\nsmtp          5058\nftp-data      3995\nftp           3428\nssh           1302\npop3          1105\ndhcp            94\nsnmp            80\nssl             56\nirc             25\nradius          12\nName: service, dtype: int64"
     },
     "execution_count": 94,
     "metadata": {},
     "output_type": "execute_result"
    }
   ],
   "source": [
    "training['service'].value_counts()"
   ],
   "metadata": {
    "collapsed": false,
    "pycharm": {
     "name": "#%%\n"
    }
   }
  },
  {
   "cell_type": "code",
   "execution_count": 95,
   "outputs": [
    {
     "data": {
      "text/plain": "undefined    47153\ndns          21367\nhttp          8287\nsmtp          1851\nftp           1552\nftp-data      1396\npop3           423\nssh            204\nssl             30\nsnmp            29\ndhcp            26\nradius           9\nirc              5\nName: service, dtype: int64"
     },
     "execution_count": 95,
     "metadata": {},
     "output_type": "execute_result"
    }
   ],
   "source": [
    "testing['service'].value_counts()"
   ],
   "metadata": {
    "collapsed": false,
    "pycharm": {
     "name": "#%%\n"
    }
   }
  },
  {
   "cell_type": "code",
   "execution_count": 123,
   "outputs": [
    {
     "data": {
      "text/plain": "tcp       79946\nudp       63283\nunas      12084\narp        2859\nospf       2595\n          ...  \nrdp          98\nnetblt       98\nigmp         18\nicmp         15\nrtp           1\nName: proto, Length: 133, dtype: int64"
     },
     "execution_count": 123,
     "metadata": {},
     "output_type": "execute_result"
    }
   ],
   "source": [
    "training['proto'].value_counts()"
   ],
   "metadata": {
    "collapsed": false,
    "pycharm": {
     "name": "#%%\n"
    }
   }
  },
  {
   "cell_type": "code",
   "execution_count": 122,
   "outputs": [
    {
     "data": {
      "text/plain": "tcp       79946\nudp       63283\nunas      12084\narp        2859\nospf       2595\n          ...  \nrdp          98\nnetblt       98\nigmp         18\nicmp         15\nrtp           1\nName: proto, Length: 133, dtype: int64"
     },
     "execution_count": 122,
     "metadata": {},
     "output_type": "execute_result"
    }
   ],
   "source": [
    "features = pd.read_csv('C:\\\\Users\\\\Jovana\\\\PycharmProjects\\\\neural_network_DNN\\\\include\\\\UNSW-NB15\\\\UNSW-NB15_features.csv',encoding='ISO-8859-1')"
   ],
   "metadata": {
    "collapsed": false,
    "pycharm": {
     "name": "#%%\n"
    }
   }
  },
  {
   "cell_type": "code",
   "execution_count": 140,
   "outputs": [
    {
     "ename": "KeyError",
     "evalue": "'proto'",
     "output_type": "error",
     "traceback": [
      "\u001B[1;31m---------------------------------------------------------------------------\u001B[0m",
      "\u001B[1;31mKeyError\u001B[0m                                  Traceback (most recent call last)",
      "\u001B[1;32m~\\miniconda3\\envs\\neural_network_DNN\\lib\\site-packages\\pandas\\core\\indexes\\base.py\u001B[0m in \u001B[0;36mget_loc\u001B[1;34m(self, key, method, tolerance)\u001B[0m\n\u001B[0;32m   3360\u001B[0m             \u001B[1;32mtry\u001B[0m\u001B[1;33m:\u001B[0m\u001B[1;33m\u001B[0m\u001B[1;33m\u001B[0m\u001B[0m\n\u001B[1;32m-> 3361\u001B[1;33m                 \u001B[1;32mreturn\u001B[0m \u001B[0mself\u001B[0m\u001B[1;33m.\u001B[0m\u001B[0m_engine\u001B[0m\u001B[1;33m.\u001B[0m\u001B[0mget_loc\u001B[0m\u001B[1;33m(\u001B[0m\u001B[0mcasted_key\u001B[0m\u001B[1;33m)\u001B[0m\u001B[1;33m\u001B[0m\u001B[1;33m\u001B[0m\u001B[0m\n\u001B[0m\u001B[0;32m   3362\u001B[0m             \u001B[1;32mexcept\u001B[0m \u001B[0mKeyError\u001B[0m \u001B[1;32mas\u001B[0m \u001B[0merr\u001B[0m\u001B[1;33m:\u001B[0m\u001B[1;33m\u001B[0m\u001B[1;33m\u001B[0m\u001B[0m\n",
      "\u001B[1;32m~\\miniconda3\\envs\\neural_network_DNN\\lib\\site-packages\\pandas\\_libs\\index.pyx\u001B[0m in \u001B[0;36mpandas._libs.index.IndexEngine.get_loc\u001B[1;34m()\u001B[0m\n",
      "\u001B[1;32m~\\miniconda3\\envs\\neural_network_DNN\\lib\\site-packages\\pandas\\_libs\\index.pyx\u001B[0m in \u001B[0;36mpandas._libs.index.IndexEngine.get_loc\u001B[1;34m()\u001B[0m\n",
      "\u001B[1;32mpandas\\_libs\\hashtable_class_helper.pxi\u001B[0m in \u001B[0;36mpandas._libs.hashtable.PyObjectHashTable.get_item\u001B[1;34m()\u001B[0m\n",
      "\u001B[1;32mpandas\\_libs\\hashtable_class_helper.pxi\u001B[0m in \u001B[0;36mpandas._libs.hashtable.PyObjectHashTable.get_item\u001B[1;34m()\u001B[0m\n",
      "\u001B[1;31mKeyError\u001B[0m: 'proto'",
      "\nThe above exception was the direct cause of the following exception:\n",
      "\u001B[1;31mKeyError\u001B[0m                                  Traceback (most recent call last)",
      "\u001B[1;32m~\\AppData\\Local\\Temp/ipykernel_6648/2041434540.py\u001B[0m in \u001B[0;36m<module>\u001B[1;34m\u001B[0m\n\u001B[1;32m----> 1\u001B[1;33m \u001B[0mtesting\u001B[0m\u001B[1;33m[\u001B[0m\u001B[1;34m'proto'\u001B[0m\u001B[1;33m]\u001B[0m\u001B[1;33m.\u001B[0m\u001B[0mvalue_counts\u001B[0m\u001B[1;33m(\u001B[0m\u001B[1;33m)\u001B[0m\u001B[1;33m\u001B[0m\u001B[1;33m\u001B[0m\u001B[0m\n\u001B[0m",
      "\u001B[1;32m~\\miniconda3\\envs\\neural_network_DNN\\lib\\site-packages\\pandas\\core\\frame.py\u001B[0m in \u001B[0;36m__getitem__\u001B[1;34m(self, key)\u001B[0m\n\u001B[0;32m   3456\u001B[0m             \u001B[1;32mif\u001B[0m \u001B[0mself\u001B[0m\u001B[1;33m.\u001B[0m\u001B[0mcolumns\u001B[0m\u001B[1;33m.\u001B[0m\u001B[0mnlevels\u001B[0m \u001B[1;33m>\u001B[0m \u001B[1;36m1\u001B[0m\u001B[1;33m:\u001B[0m\u001B[1;33m\u001B[0m\u001B[1;33m\u001B[0m\u001B[0m\n\u001B[0;32m   3457\u001B[0m                 \u001B[1;32mreturn\u001B[0m \u001B[0mself\u001B[0m\u001B[1;33m.\u001B[0m\u001B[0m_getitem_multilevel\u001B[0m\u001B[1;33m(\u001B[0m\u001B[0mkey\u001B[0m\u001B[1;33m)\u001B[0m\u001B[1;33m\u001B[0m\u001B[1;33m\u001B[0m\u001B[0m\n\u001B[1;32m-> 3458\u001B[1;33m             \u001B[0mindexer\u001B[0m \u001B[1;33m=\u001B[0m \u001B[0mself\u001B[0m\u001B[1;33m.\u001B[0m\u001B[0mcolumns\u001B[0m\u001B[1;33m.\u001B[0m\u001B[0mget_loc\u001B[0m\u001B[1;33m(\u001B[0m\u001B[0mkey\u001B[0m\u001B[1;33m)\u001B[0m\u001B[1;33m\u001B[0m\u001B[1;33m\u001B[0m\u001B[0m\n\u001B[0m\u001B[0;32m   3459\u001B[0m             \u001B[1;32mif\u001B[0m \u001B[0mis_integer\u001B[0m\u001B[1;33m(\u001B[0m\u001B[0mindexer\u001B[0m\u001B[1;33m)\u001B[0m\u001B[1;33m:\u001B[0m\u001B[1;33m\u001B[0m\u001B[1;33m\u001B[0m\u001B[0m\n\u001B[0;32m   3460\u001B[0m                 \u001B[0mindexer\u001B[0m \u001B[1;33m=\u001B[0m \u001B[1;33m[\u001B[0m\u001B[0mindexer\u001B[0m\u001B[1;33m]\u001B[0m\u001B[1;33m\u001B[0m\u001B[1;33m\u001B[0m\u001B[0m\n",
      "\u001B[1;32m~\\miniconda3\\envs\\neural_network_DNN\\lib\\site-packages\\pandas\\core\\indexes\\base.py\u001B[0m in \u001B[0;36mget_loc\u001B[1;34m(self, key, method, tolerance)\u001B[0m\n\u001B[0;32m   3361\u001B[0m                 \u001B[1;32mreturn\u001B[0m \u001B[0mself\u001B[0m\u001B[1;33m.\u001B[0m\u001B[0m_engine\u001B[0m\u001B[1;33m.\u001B[0m\u001B[0mget_loc\u001B[0m\u001B[1;33m(\u001B[0m\u001B[0mcasted_key\u001B[0m\u001B[1;33m)\u001B[0m\u001B[1;33m\u001B[0m\u001B[1;33m\u001B[0m\u001B[0m\n\u001B[0;32m   3362\u001B[0m             \u001B[1;32mexcept\u001B[0m \u001B[0mKeyError\u001B[0m \u001B[1;32mas\u001B[0m \u001B[0merr\u001B[0m\u001B[1;33m:\u001B[0m\u001B[1;33m\u001B[0m\u001B[1;33m\u001B[0m\u001B[0m\n\u001B[1;32m-> 3363\u001B[1;33m                 \u001B[1;32mraise\u001B[0m \u001B[0mKeyError\u001B[0m\u001B[1;33m(\u001B[0m\u001B[0mkey\u001B[0m\u001B[1;33m)\u001B[0m \u001B[1;32mfrom\u001B[0m \u001B[0merr\u001B[0m\u001B[1;33m\u001B[0m\u001B[1;33m\u001B[0m\u001B[0m\n\u001B[0m\u001B[0;32m   3364\u001B[0m \u001B[1;33m\u001B[0m\u001B[0m\n\u001B[0;32m   3365\u001B[0m         \u001B[1;32mif\u001B[0m \u001B[0mis_scalar\u001B[0m\u001B[1;33m(\u001B[0m\u001B[0mkey\u001B[0m\u001B[1;33m)\u001B[0m \u001B[1;32mand\u001B[0m \u001B[0misna\u001B[0m\u001B[1;33m(\u001B[0m\u001B[0mkey\u001B[0m\u001B[1;33m)\u001B[0m \u001B[1;32mand\u001B[0m \u001B[1;32mnot\u001B[0m \u001B[0mself\u001B[0m\u001B[1;33m.\u001B[0m\u001B[0mhasnans\u001B[0m\u001B[1;33m:\u001B[0m\u001B[1;33m\u001B[0m\u001B[1;33m\u001B[0m\u001B[0m\n",
      "\u001B[1;31mKeyError\u001B[0m: 'proto'"
     ]
    }
   ],
   "source": [
    "testing['proto'].value_counts()"
   ],
   "metadata": {
    "collapsed": false,
    "pycharm": {
     "name": "#%%\n"
    }
   }
  },
  {
   "cell_type": "code",
   "execution_count": 101,
   "outputs": [],
   "source": [
    "features['Type '] = features['Type '].str.lower()"
   ],
   "metadata": {
    "collapsed": false,
    "pycharm": {
     "name": "#%%\n"
    }
   }
  },
  {
   "cell_type": "code",
   "execution_count": 102,
   "outputs": [],
   "source": [
    "# selecting column names of all data types\n",
    "nominal_names = features['Name'][features['Type ']=='nominal']\n",
    "integer_names = features['Name'][features['Type ']=='integer']\n",
    "binary_names = features['Name'][features['Type ']=='binary']\n",
    "float_names = features['Name'][features['Type ']=='float']"
   ],
   "metadata": {
    "collapsed": false,
    "pycharm": {
     "name": "#%%\n"
    }
   }
  },
  {
   "cell_type": "code",
   "execution_count": 103,
   "outputs": [],
   "source": [
    "# selecting common column names from dataset and feature dataset\n",
    "cols = training.columns\n",
    "nominal_names = cols.intersection(nominal_names)\n",
    "integer_names = cols.intersection(integer_names)\n",
    "binary_names = cols.intersection(binary_names)\n",
    "float_names = cols.intersection(float_names)"
   ],
   "metadata": {
    "collapsed": false,
    "pycharm": {
     "name": "#%%\n"
    }
   }
  },
  {
   "cell_type": "code",
   "execution_count": 104,
   "outputs": [],
   "source": [
    "# Converting integer columns to numeric\n",
    "for c in integer_names:\n",
    "  pd.to_numeric(training[c])\n",
    "  pd.to_numeric(testing[c])"
   ],
   "metadata": {
    "collapsed": false,
    "pycharm": {
     "name": "#%%\n"
    }
   }
  },
  {
   "cell_type": "code",
   "execution_count": 107,
   "outputs": [],
   "source": [
    "# Converting binary columns to numeric\n",
    "for c in binary_names:\n",
    "  pd.to_numeric(training[c])\n",
    "  pd.to_numeric(testing[c])"
   ],
   "metadata": {
    "collapsed": false,
    "pycharm": {
     "name": "#%%\n"
    }
   }
  },
  {
   "cell_type": "code",
   "execution_count": 108,
   "outputs": [],
   "source": [
    "# Converting float columns to numeric\n",
    "for c in float_names:\n",
    "  pd.to_numeric(training[c])\n",
    "  pd.to_numeric(testing[c])"
   ],
   "metadata": {
    "collapsed": false,
    "pycharm": {
     "name": "#%%\n"
    }
   }
  },
  {
   "cell_type": "code",
   "execution_count": 110,
   "outputs": [
    {
     "name": "stdout",
     "output_type": "stream",
     "text": [
      "<class 'pandas.core.frame.DataFrame'>\n",
      "RangeIndex: 175341 entries, 0 to 175340\n",
      "Data columns (total 45 columns):\n",
      " #   Column             Non-Null Count   Dtype  \n",
      "---  ------             --------------   -----  \n",
      " 0   id                 175341 non-null  int64  \n",
      " 1   dur                175341 non-null  float64\n",
      " 2   proto              175341 non-null  object \n",
      " 3   service            175341 non-null  object \n",
      " 4   state              175341 non-null  object \n",
      " 5   spkts              175341 non-null  int64  \n",
      " 6   dpkts              175341 non-null  int64  \n",
      " 7   sbytes             175341 non-null  int64  \n",
      " 8   dbytes             175341 non-null  int64  \n",
      " 9   rate               175341 non-null  float64\n",
      " 10  sttl               175341 non-null  int64  \n",
      " 11  dttl               175341 non-null  int64  \n",
      " 12  sload              175341 non-null  float64\n",
      " 13  dload              175341 non-null  float64\n",
      " 14  sloss              175341 non-null  int64  \n",
      " 15  dloss              175341 non-null  int64  \n",
      " 16  sinpkt             175341 non-null  float64\n",
      " 17  dinpkt             175341 non-null  float64\n",
      " 18  sjit               175341 non-null  float64\n",
      " 19  djit               175341 non-null  float64\n",
      " 20  swin               175341 non-null  int64  \n",
      " 21  stcpb              175341 non-null  int64  \n",
      " 22  dtcpb              175341 non-null  int64  \n",
      " 23  dwin               175341 non-null  int64  \n",
      " 24  tcprtt             175341 non-null  float64\n",
      " 25  synack             175341 non-null  float64\n",
      " 26  ackdat             175341 non-null  float64\n",
      " 27  smean              175341 non-null  int64  \n",
      " 28  dmean              175341 non-null  int64  \n",
      " 29  trans_depth        175341 non-null  int64  \n",
      " 30  response_body_len  175341 non-null  int64  \n",
      " 31  ct_srv_src         175341 non-null  int64  \n",
      " 32  ct_state_ttl       175341 non-null  int64  \n",
      " 33  ct_dst_ltm         175341 non-null  int64  \n",
      " 34  ct_src_dport_ltm   175341 non-null  int64  \n",
      " 35  ct_dst_sport_ltm   175341 non-null  int64  \n",
      " 36  ct_dst_src_ltm     175341 non-null  int64  \n",
      " 37  is_ftp_login       175341 non-null  int64  \n",
      " 38  ct_ftp_cmd         175341 non-null  int64  \n",
      " 39  ct_flw_http_mthd   175341 non-null  int64  \n",
      " 40  ct_src_ltm         175341 non-null  int64  \n",
      " 41  ct_srv_dst         175341 non-null  int64  \n",
      " 42  is_sm_ips_ports    175341 non-null  int64  \n",
      " 43  attack_cat         175341 non-null  object \n",
      " 44  label              175341 non-null  int64  \n",
      "dtypes: float64(11), int64(30), object(4)\n",
      "memory usage: 60.2+ MB\n"
     ]
    }
   ],
   "source": [
    "training.info()"
   ],
   "metadata": {
    "collapsed": false,
    "pycharm": {
     "name": "#%%\n"
    }
   }
  },
  {
   "cell_type": "code",
   "execution_count": 111,
   "outputs": [
    {
     "name": "stdout",
     "output_type": "stream",
     "text": [
      "<class 'pandas.core.frame.DataFrame'>\n",
      "RangeIndex: 82332 entries, 0 to 82331\n",
      "Data columns (total 45 columns):\n",
      " #   Column             Non-Null Count  Dtype  \n",
      "---  ------             --------------  -----  \n",
      " 0   id                 82332 non-null  int64  \n",
      " 1   dur                82332 non-null  float64\n",
      " 2   proto              82332 non-null  object \n",
      " 3   service            82332 non-null  object \n",
      " 4   state              82332 non-null  object \n",
      " 5   spkts              82332 non-null  int64  \n",
      " 6   dpkts              82332 non-null  int64  \n",
      " 7   sbytes             82332 non-null  int64  \n",
      " 8   dbytes             82332 non-null  int64  \n",
      " 9   rate               82332 non-null  float64\n",
      " 10  sttl               82332 non-null  int64  \n",
      " 11  dttl               82332 non-null  int64  \n",
      " 12  sload              82332 non-null  float64\n",
      " 13  dload              82332 non-null  float64\n",
      " 14  sloss              82332 non-null  int64  \n",
      " 15  dloss              82332 non-null  int64  \n",
      " 16  sinpkt             82332 non-null  float64\n",
      " 17  dinpkt             82332 non-null  float64\n",
      " 18  sjit               82332 non-null  float64\n",
      " 19  djit               82332 non-null  float64\n",
      " 20  swin               82332 non-null  int64  \n",
      " 21  stcpb              82332 non-null  int64  \n",
      " 22  dtcpb              82332 non-null  int64  \n",
      " 23  dwin               82332 non-null  int64  \n",
      " 24  tcprtt             82332 non-null  float64\n",
      " 25  synack             82332 non-null  float64\n",
      " 26  ackdat             82332 non-null  float64\n",
      " 27  smean              82332 non-null  int64  \n",
      " 28  dmean              82332 non-null  int64  \n",
      " 29  trans_depth        82332 non-null  int64  \n",
      " 30  response_body_len  82332 non-null  int64  \n",
      " 31  ct_srv_src         82332 non-null  int64  \n",
      " 32  ct_state_ttl       82332 non-null  int64  \n",
      " 33  ct_dst_ltm         82332 non-null  int64  \n",
      " 34  ct_src_dport_ltm   82332 non-null  int64  \n",
      " 35  ct_dst_sport_ltm   82332 non-null  int64  \n",
      " 36  ct_dst_src_ltm     82332 non-null  int64  \n",
      " 37  is_ftp_login       82332 non-null  int64  \n",
      " 38  ct_ftp_cmd         82332 non-null  int64  \n",
      " 39  ct_flw_http_mthd   82332 non-null  int64  \n",
      " 40  ct_src_ltm         82332 non-null  int64  \n",
      " 41  ct_srv_dst         82332 non-null  int64  \n",
      " 42  is_sm_ips_ports    82332 non-null  int64  \n",
      " 43  attack_cat         82332 non-null  object \n",
      " 44  label              82332 non-null  int64  \n",
      "dtypes: float64(11), int64(30), object(4)\n",
      "memory usage: 28.3+ MB\n"
     ]
    }
   ],
   "source": [
    "testing.info()"
   ],
   "metadata": {
    "collapsed": false,
    "pycharm": {
     "name": "#%%\n"
    }
   }
  },
  {
   "cell_type": "code",
   "execution_count": 112,
   "outputs": [
    {
     "data": {
      "text/plain": "Index(['proto', 'service', 'state'], dtype='object')"
     },
     "execution_count": 112,
     "metadata": {},
     "output_type": "execute_result"
    }
   ],
   "source": [
    "#now we do one-hot encoding for the categorical ones\n",
    "num_col = training.select_dtypes(include='number').columns\n",
    "\n",
    "# selecting categorical data attributes\n",
    "cat_col = training.columns.difference(num_col)\n",
    "cat_col = cat_col[1:]\n",
    "cat_col"
   ],
   "metadata": {
    "collapsed": false,
    "pycharm": {
     "name": "#%%\n"
    }
   }
  },
  {
   "cell_type": "code",
   "execution_count": 114,
   "outputs": [
    {
     "data": {
      "text/plain": "  proto    service state\n0   tcp  undefined   FIN\n1   tcp  undefined   FIN\n2   tcp  undefined   FIN\n3   tcp        ftp   FIN\n4   tcp  undefined   FIN",
      "text/html": "<div>\n<style scoped>\n    .dataframe tbody tr th:only-of-type {\n        vertical-align: middle;\n    }\n\n    .dataframe tbody tr th {\n        vertical-align: top;\n    }\n\n    .dataframe thead th {\n        text-align: right;\n    }\n</style>\n<table border=\"1\" class=\"dataframe\">\n  <thead>\n    <tr style=\"text-align: right;\">\n      <th></th>\n      <th>proto</th>\n      <th>service</th>\n      <th>state</th>\n    </tr>\n  </thead>\n  <tbody>\n    <tr>\n      <th>0</th>\n      <td>tcp</td>\n      <td>undefined</td>\n      <td>FIN</td>\n    </tr>\n    <tr>\n      <th>1</th>\n      <td>tcp</td>\n      <td>undefined</td>\n      <td>FIN</td>\n    </tr>\n    <tr>\n      <th>2</th>\n      <td>tcp</td>\n      <td>undefined</td>\n      <td>FIN</td>\n    </tr>\n    <tr>\n      <th>3</th>\n      <td>tcp</td>\n      <td>ftp</td>\n      <td>FIN</td>\n    </tr>\n    <tr>\n      <th>4</th>\n      <td>tcp</td>\n      <td>undefined</td>\n      <td>FIN</td>\n    </tr>\n  </tbody>\n</table>\n</div>"
     },
     "execution_count": 114,
     "metadata": {},
     "output_type": "execute_result"
    }
   ],
   "source": [
    "#first for the training dataset\n",
    "# creating a dataframe with only categorical attributes\n",
    "training_data_cat = training[cat_col].copy()\n",
    "training_data_cat.head()"
   ],
   "metadata": {
    "collapsed": false,
    "pycharm": {
     "name": "#%%\n"
    }
   }
  },
  {
   "cell_type": "code",
   "execution_count": 118,
   "outputs": [],
   "source": [
    "# one-hot-encoding categorical attributes using pandas.get_dummies() function\n",
    "training_data_cat = pd.get_dummies(training_data_cat,columns=cat_col)"
   ],
   "metadata": {
    "collapsed": false,
    "pycharm": {
     "name": "#%%\n"
    }
   }
  },
  {
   "cell_type": "code",
   "execution_count": 119,
   "outputs": [
    {
     "data": {
      "text/plain": "   proto_3pc  proto_a/n  proto_aes-sp3-d  proto_any  proto_argus  proto_aris  \\\n0          0          0                0          0            0           0   \n1          0          0                0          0            0           0   \n2          0          0                0          0            0           0   \n3          0          0                0          0            0           0   \n4          0          0                0          0            0           0   \n\n   proto_arp  proto_ax.25  proto_bbn-rcc  proto_bna  ...  service_undefined  \\\n0          0            0              0          0  ...                  1   \n1          0            0              0          0  ...                  1   \n2          0            0              0          0  ...                  1   \n3          0            0              0          0  ...                  0   \n4          0            0              0          0  ...                  1   \n\n   state_CON  state_ECO  state_FIN  state_INT  state_PAR  state_REQ  \\\n0          0          0          1          0          0          0   \n1          0          0          1          0          0          0   \n2          0          0          1          0          0          0   \n3          0          0          1          0          0          0   \n4          0          0          1          0          0          0   \n\n   state_RST  state_URN  state_no  \n0          0          0         0  \n1          0          0         0  \n2          0          0         0  \n3          0          0         0  \n4          0          0         0  \n\n[5 rows x 155 columns]",
      "text/html": "<div>\n<style scoped>\n    .dataframe tbody tr th:only-of-type {\n        vertical-align: middle;\n    }\n\n    .dataframe tbody tr th {\n        vertical-align: top;\n    }\n\n    .dataframe thead th {\n        text-align: right;\n    }\n</style>\n<table border=\"1\" class=\"dataframe\">\n  <thead>\n    <tr style=\"text-align: right;\">\n      <th></th>\n      <th>proto_3pc</th>\n      <th>proto_a/n</th>\n      <th>proto_aes-sp3-d</th>\n      <th>proto_any</th>\n      <th>proto_argus</th>\n      <th>proto_aris</th>\n      <th>proto_arp</th>\n      <th>proto_ax.25</th>\n      <th>proto_bbn-rcc</th>\n      <th>proto_bna</th>\n      <th>...</th>\n      <th>service_undefined</th>\n      <th>state_CON</th>\n      <th>state_ECO</th>\n      <th>state_FIN</th>\n      <th>state_INT</th>\n      <th>state_PAR</th>\n      <th>state_REQ</th>\n      <th>state_RST</th>\n      <th>state_URN</th>\n      <th>state_no</th>\n    </tr>\n  </thead>\n  <tbody>\n    <tr>\n      <th>0</th>\n      <td>0</td>\n      <td>0</td>\n      <td>0</td>\n      <td>0</td>\n      <td>0</td>\n      <td>0</td>\n      <td>0</td>\n      <td>0</td>\n      <td>0</td>\n      <td>0</td>\n      <td>...</td>\n      <td>1</td>\n      <td>0</td>\n      <td>0</td>\n      <td>1</td>\n      <td>0</td>\n      <td>0</td>\n      <td>0</td>\n      <td>0</td>\n      <td>0</td>\n      <td>0</td>\n    </tr>\n    <tr>\n      <th>1</th>\n      <td>0</td>\n      <td>0</td>\n      <td>0</td>\n      <td>0</td>\n      <td>0</td>\n      <td>0</td>\n      <td>0</td>\n      <td>0</td>\n      <td>0</td>\n      <td>0</td>\n      <td>...</td>\n      <td>1</td>\n      <td>0</td>\n      <td>0</td>\n      <td>1</td>\n      <td>0</td>\n      <td>0</td>\n      <td>0</td>\n      <td>0</td>\n      <td>0</td>\n      <td>0</td>\n    </tr>\n    <tr>\n      <th>2</th>\n      <td>0</td>\n      <td>0</td>\n      <td>0</td>\n      <td>0</td>\n      <td>0</td>\n      <td>0</td>\n      <td>0</td>\n      <td>0</td>\n      <td>0</td>\n      <td>0</td>\n      <td>...</td>\n      <td>1</td>\n      <td>0</td>\n      <td>0</td>\n      <td>1</td>\n      <td>0</td>\n      <td>0</td>\n      <td>0</td>\n      <td>0</td>\n      <td>0</td>\n      <td>0</td>\n    </tr>\n    <tr>\n      <th>3</th>\n      <td>0</td>\n      <td>0</td>\n      <td>0</td>\n      <td>0</td>\n      <td>0</td>\n      <td>0</td>\n      <td>0</td>\n      <td>0</td>\n      <td>0</td>\n      <td>0</td>\n      <td>...</td>\n      <td>0</td>\n      <td>0</td>\n      <td>0</td>\n      <td>1</td>\n      <td>0</td>\n      <td>0</td>\n      <td>0</td>\n      <td>0</td>\n      <td>0</td>\n      <td>0</td>\n    </tr>\n    <tr>\n      <th>4</th>\n      <td>0</td>\n      <td>0</td>\n      <td>0</td>\n      <td>0</td>\n      <td>0</td>\n      <td>0</td>\n      <td>0</td>\n      <td>0</td>\n      <td>0</td>\n      <td>0</td>\n      <td>...</td>\n      <td>1</td>\n      <td>0</td>\n      <td>0</td>\n      <td>1</td>\n      <td>0</td>\n      <td>0</td>\n      <td>0</td>\n      <td>0</td>\n      <td>0</td>\n      <td>0</td>\n    </tr>\n  </tbody>\n</table>\n<p>5 rows × 155 columns</p>\n</div>"
     },
     "execution_count": 119,
     "metadata": {},
     "output_type": "execute_result"
    }
   ],
   "source": [
    "training_data_cat.head()"
   ],
   "metadata": {
    "collapsed": false,
    "pycharm": {
     "name": "#%%\n"
    }
   }
  },
  {
   "cell_type": "code",
   "execution_count": 121,
   "outputs": [
    {
     "data": {
      "text/plain": "(175341, 155)"
     },
     "execution_count": 121,
     "metadata": {},
     "output_type": "execute_result"
    }
   ],
   "source": [
    "training_data_cat.shape"
   ],
   "metadata": {
    "collapsed": false,
    "pycharm": {
     "name": "#%%\n"
    }
   }
  },
  {
   "cell_type": "code",
   "execution_count": 125,
   "outputs": [],
   "source": [
    "training = pd.concat([training, training_data_cat],axis=1)"
   ],
   "metadata": {
    "collapsed": false,
    "pycharm": {
     "name": "#%%\n"
    }
   }
  },
  {
   "cell_type": "code",
   "execution_count": 126,
   "outputs": [
    {
     "data": {
      "text/plain": "(175341, 200)"
     },
     "execution_count": 126,
     "metadata": {},
     "output_type": "execute_result"
    }
   ],
   "source": [
    "training.shape"
   ],
   "metadata": {
    "collapsed": false,
    "pycharm": {
     "name": "#%%\n"
    }
   }
  },
  {
   "cell_type": "code",
   "execution_count": 127,
   "outputs": [],
   "source": [
    "training.drop(columns=cat_col,inplace=True)"
   ],
   "metadata": {
    "collapsed": false,
    "pycharm": {
     "name": "#%%\n"
    }
   }
  },
  {
   "cell_type": "code",
   "execution_count": 128,
   "outputs": [
    {
     "data": {
      "text/plain": "(175341, 197)"
     },
     "execution_count": 128,
     "metadata": {},
     "output_type": "execute_result"
    }
   ],
   "source": [
    "training.shape"
   ],
   "metadata": {
    "collapsed": false,
    "pycharm": {
     "name": "#%%\n"
    }
   }
  },
  {
   "cell_type": "code",
   "execution_count": 129,
   "outputs": [
    {
     "data": {
      "text/plain": "  proto    service state\n0   udp  undefined   INT\n1   udp  undefined   INT\n2   udp  undefined   INT\n3   udp  undefined   INT\n4   udp  undefined   INT",
      "text/html": "<div>\n<style scoped>\n    .dataframe tbody tr th:only-of-type {\n        vertical-align: middle;\n    }\n\n    .dataframe tbody tr th {\n        vertical-align: top;\n    }\n\n    .dataframe thead th {\n        text-align: right;\n    }\n</style>\n<table border=\"1\" class=\"dataframe\">\n  <thead>\n    <tr style=\"text-align: right;\">\n      <th></th>\n      <th>proto</th>\n      <th>service</th>\n      <th>state</th>\n    </tr>\n  </thead>\n  <tbody>\n    <tr>\n      <th>0</th>\n      <td>udp</td>\n      <td>undefined</td>\n      <td>INT</td>\n    </tr>\n    <tr>\n      <th>1</th>\n      <td>udp</td>\n      <td>undefined</td>\n      <td>INT</td>\n    </tr>\n    <tr>\n      <th>2</th>\n      <td>udp</td>\n      <td>undefined</td>\n      <td>INT</td>\n    </tr>\n    <tr>\n      <th>3</th>\n      <td>udp</td>\n      <td>undefined</td>\n      <td>INT</td>\n    </tr>\n    <tr>\n      <th>4</th>\n      <td>udp</td>\n      <td>undefined</td>\n      <td>INT</td>\n    </tr>\n  </tbody>\n</table>\n</div>"
     },
     "execution_count": 129,
     "metadata": {},
     "output_type": "execute_result"
    }
   ],
   "source": [
    "#now the same for testing dataset\n",
    "# creating a dataframe with only categorical attributes\n",
    "testing_data_cat = testing[cat_col].copy()\n",
    "testing_data_cat.head()"
   ],
   "metadata": {
    "collapsed": false,
    "pycharm": {
     "name": "#%%\n"
    }
   }
  },
  {
   "cell_type": "code",
   "execution_count": 130,
   "outputs": [],
   "source": [
    "# one-hot-encoding categorical attributes using pandas.get_dummies() function\n",
    "testing_data_cat = pd.get_dummies(testing_data_cat,columns=cat_col)"
   ],
   "metadata": {
    "collapsed": false,
    "pycharm": {
     "name": "#%%\n"
    }
   }
  },
  {
   "cell_type": "code",
   "execution_count": 131,
   "outputs": [
    {
     "data": {
      "text/plain": "(82332, 151)"
     },
     "execution_count": 131,
     "metadata": {},
     "output_type": "execute_result"
    }
   ],
   "source": [
    "testing_data_cat.shape"
   ],
   "metadata": {
    "collapsed": false,
    "pycharm": {
     "name": "#%%\n"
    }
   }
  },
  {
   "cell_type": "code",
   "execution_count": 132,
   "outputs": [],
   "source": [
    "testing = pd.concat([testing, testing_data_cat],axis=1)"
   ],
   "metadata": {
    "collapsed": false,
    "pycharm": {
     "name": "#%%\n"
    }
   }
  },
  {
   "cell_type": "code",
   "execution_count": 133,
   "outputs": [
    {
     "data": {
      "text/plain": "(82332, 196)"
     },
     "execution_count": 133,
     "metadata": {},
     "output_type": "execute_result"
    }
   ],
   "source": [
    "testing.shape"
   ],
   "metadata": {
    "collapsed": false,
    "pycharm": {
     "name": "#%%\n"
    }
   }
  },
  {
   "cell_type": "code",
   "execution_count": 134,
   "outputs": [],
   "source": [
    "testing.drop(columns=cat_col,inplace=True)"
   ],
   "metadata": {
    "collapsed": false,
    "pycharm": {
     "name": "#%%\n"
    }
   }
  },
  {
   "cell_type": "code",
   "execution_count": 135,
   "outputs": [
    {
     "data": {
      "text/plain": "(82332, 193)"
     },
     "execution_count": 135,
     "metadata": {},
     "output_type": "execute_result"
    }
   ],
   "source": [
    "testing.shape"
   ],
   "metadata": {
    "collapsed": false,
    "pycharm": {
     "name": "#%%\n"
    }
   }
  },
  {
   "cell_type": "code",
   "execution_count": 137,
   "outputs": [
    {
     "data": {
      "text/plain": "['state_PAR', 'proto_icmp', 'state_ECO', 'proto_rtp', 'state_URN', 'state_no']"
     },
     "execution_count": 137,
     "metadata": {},
     "output_type": "execute_result"
    }
   ],
   "source": [
    "#now we have a difference in some columns, we have to find them\n",
    "\n",
    "train_col= training.columns.tolist()\n",
    "test_col = testing.columns.tolist()\n",
    "#find the missing columns\n",
    "diff = list(set(train_col) - set(test_col))\n",
    "#print the missing columns\n",
    "diff"
   ],
   "metadata": {
    "collapsed": false,
    "pycharm": {
     "name": "#%%\n"
    }
   }
  },
  {
   "cell_type": "code",
   "execution_count": 139,
   "outputs": [
    {
     "data": {
      "text/plain": "['state_CLO', 'state_ACC']"
     },
     "execution_count": 139,
     "metadata": {},
     "output_type": "execute_result"
    }
   ],
   "source": [
    "diff2=list(set(test_col) - set(train_col))\n",
    "diff2"
   ],
   "metadata": {
    "collapsed": false,
    "pycharm": {
     "name": "#%%\n"
    }
   }
  },
  {
   "cell_type": "code",
   "execution_count": 141,
   "outputs": [
    {
     "data": {
      "text/plain": "(175341, 199)"
     },
     "execution_count": 141,
     "metadata": {},
     "output_type": "execute_result"
    }
   ],
   "source": [
    "#in training dataset we are missing: state_CLO, state_ACC\n",
    "#in testing dataset we are missing: state_PAR, state_URN, state_no, state_ECO, proto_icmp, proto_rtp\n",
    "\n",
    "#fixing the training dataset\n",
    "for col in diff2:\n",
    "  training[col]=0\n",
    "\n",
    "training.shape"
   ],
   "metadata": {
    "collapsed": false,
    "pycharm": {
     "name": "#%%\n"
    }
   }
  },
  {
   "cell_type": "code",
   "execution_count": 142,
   "outputs": [
    {
     "data": {
      "text/plain": "(82332, 199)"
     },
     "execution_count": 142,
     "metadata": {},
     "output_type": "execute_result"
    }
   ],
   "source": [
    "#fixing the testing dataset\n",
    "\n",
    "for col in diff:\n",
    "  testing[col]=0\n",
    "\n",
    "testing.shape"
   ],
   "metadata": {
    "collapsed": false,
    "pycharm": {
     "name": "#%%\n"
    }
   }
  },
  {
   "cell_type": "code",
   "execution_count": 144,
   "outputs": [
    {
     "data": {
      "text/plain": "   id       dur  spkts  dpkts  sbytes  dbytes       rate  sttl  dttl  \\\n0   1  0.121478      6      4     258     172  74.087490   252   254   \n1   2  0.649902     14     38     734   42014  78.473372    62   252   \n2   3  1.623129      8     16     364   13186  14.170161    62   252   \n3   4  1.681642     12     12     628     770  13.677108    62   252   \n4   5  0.449454     10      6     534     268  33.373826   254   252   \n\n          sload  ...  state_ECO  state_FIN  state_INT  state_PAR  state_REQ  \\\n0  14158.942380  ...          0          1          0          0          0   \n1   8395.112305  ...          0          1          0          0          0   \n2   1572.271851  ...          0          1          0          0          0   \n3   2740.178955  ...          0          1          0          0          0   \n4   8561.499023  ...          0          1          0          0          0   \n\n   state_RST  state_URN  state_no  state_CLO  state_ACC  \n0          0          0         0          0          0  \n1          0          0         0          0          0  \n2          0          0         0          0          0  \n3          0          0         0          0          0  \n4          0          0         0          0          0  \n\n[5 rows x 199 columns]",
      "text/html": "<div>\n<style scoped>\n    .dataframe tbody tr th:only-of-type {\n        vertical-align: middle;\n    }\n\n    .dataframe tbody tr th {\n        vertical-align: top;\n    }\n\n    .dataframe thead th {\n        text-align: right;\n    }\n</style>\n<table border=\"1\" class=\"dataframe\">\n  <thead>\n    <tr style=\"text-align: right;\">\n      <th></th>\n      <th>id</th>\n      <th>dur</th>\n      <th>spkts</th>\n      <th>dpkts</th>\n      <th>sbytes</th>\n      <th>dbytes</th>\n      <th>rate</th>\n      <th>sttl</th>\n      <th>dttl</th>\n      <th>sload</th>\n      <th>...</th>\n      <th>state_ECO</th>\n      <th>state_FIN</th>\n      <th>state_INT</th>\n      <th>state_PAR</th>\n      <th>state_REQ</th>\n      <th>state_RST</th>\n      <th>state_URN</th>\n      <th>state_no</th>\n      <th>state_CLO</th>\n      <th>state_ACC</th>\n    </tr>\n  </thead>\n  <tbody>\n    <tr>\n      <th>0</th>\n      <td>1</td>\n      <td>0.121478</td>\n      <td>6</td>\n      <td>4</td>\n      <td>258</td>\n      <td>172</td>\n      <td>74.087490</td>\n      <td>252</td>\n      <td>254</td>\n      <td>14158.942380</td>\n      <td>...</td>\n      <td>0</td>\n      <td>1</td>\n      <td>0</td>\n      <td>0</td>\n      <td>0</td>\n      <td>0</td>\n      <td>0</td>\n      <td>0</td>\n      <td>0</td>\n      <td>0</td>\n    </tr>\n    <tr>\n      <th>1</th>\n      <td>2</td>\n      <td>0.649902</td>\n      <td>14</td>\n      <td>38</td>\n      <td>734</td>\n      <td>42014</td>\n      <td>78.473372</td>\n      <td>62</td>\n      <td>252</td>\n      <td>8395.112305</td>\n      <td>...</td>\n      <td>0</td>\n      <td>1</td>\n      <td>0</td>\n      <td>0</td>\n      <td>0</td>\n      <td>0</td>\n      <td>0</td>\n      <td>0</td>\n      <td>0</td>\n      <td>0</td>\n    </tr>\n    <tr>\n      <th>2</th>\n      <td>3</td>\n      <td>1.623129</td>\n      <td>8</td>\n      <td>16</td>\n      <td>364</td>\n      <td>13186</td>\n      <td>14.170161</td>\n      <td>62</td>\n      <td>252</td>\n      <td>1572.271851</td>\n      <td>...</td>\n      <td>0</td>\n      <td>1</td>\n      <td>0</td>\n      <td>0</td>\n      <td>0</td>\n      <td>0</td>\n      <td>0</td>\n      <td>0</td>\n      <td>0</td>\n      <td>0</td>\n    </tr>\n    <tr>\n      <th>3</th>\n      <td>4</td>\n      <td>1.681642</td>\n      <td>12</td>\n      <td>12</td>\n      <td>628</td>\n      <td>770</td>\n      <td>13.677108</td>\n      <td>62</td>\n      <td>252</td>\n      <td>2740.178955</td>\n      <td>...</td>\n      <td>0</td>\n      <td>1</td>\n      <td>0</td>\n      <td>0</td>\n      <td>0</td>\n      <td>0</td>\n      <td>0</td>\n      <td>0</td>\n      <td>0</td>\n      <td>0</td>\n    </tr>\n    <tr>\n      <th>4</th>\n      <td>5</td>\n      <td>0.449454</td>\n      <td>10</td>\n      <td>6</td>\n      <td>534</td>\n      <td>268</td>\n      <td>33.373826</td>\n      <td>254</td>\n      <td>252</td>\n      <td>8561.499023</td>\n      <td>...</td>\n      <td>0</td>\n      <td>1</td>\n      <td>0</td>\n      <td>0</td>\n      <td>0</td>\n      <td>0</td>\n      <td>0</td>\n      <td>0</td>\n      <td>0</td>\n      <td>0</td>\n    </tr>\n  </tbody>\n</table>\n<p>5 rows × 199 columns</p>\n</div>"
     },
     "execution_count": 144,
     "metadata": {},
     "output_type": "execute_result"
    }
   ],
   "source": [
    "training.head()"
   ],
   "metadata": {
    "collapsed": false,
    "pycharm": {
     "name": "#%%\n"
    }
   }
  },
  {
   "cell_type": "code",
   "execution_count": 145,
   "outputs": [],
   "source": [
    "#we can drop the id column since it doesn't make a difference\n",
    "training.drop('id', axis=1,inplace=True)\n",
    "testing.drop('id', axis=1,inplace=True)"
   ],
   "metadata": {
    "collapsed": false,
    "pycharm": {
     "name": "#%%\n"
    }
   }
  },
  {
   "cell_type": "code",
   "execution_count": 146,
   "outputs": [
    {
     "data": {
      "text/plain": "        dur  spkts  dpkts  sbytes  dbytes       rate  sttl  dttl  \\\n0  0.121478      6      4     258     172  74.087490   252   254   \n1  0.649902     14     38     734   42014  78.473372    62   252   \n2  1.623129      8     16     364   13186  14.170161    62   252   \n3  1.681642     12     12     628     770  13.677108    62   252   \n4  0.449454     10      6     534     268  33.373826   254   252   \n\n          sload          dload  ...  state_ECO  state_FIN  state_INT  \\\n0  14158.942380    8495.365234  ...          0          1          0   \n1   8395.112305  503571.312500  ...          0          1          0   \n2   1572.271851   60929.230470  ...          0          1          0   \n3   2740.178955    3358.622070  ...          0          1          0   \n4   8561.499023    3987.059814  ...          0          1          0   \n\n   state_PAR  state_REQ  state_RST  state_URN  state_no  state_CLO  state_ACC  \n0          0          0          0          0         0          0          0  \n1          0          0          0          0         0          0          0  \n2          0          0          0          0         0          0          0  \n3          0          0          0          0         0          0          0  \n4          0          0          0          0         0          0          0  \n\n[5 rows x 198 columns]",
      "text/html": "<div>\n<style scoped>\n    .dataframe tbody tr th:only-of-type {\n        vertical-align: middle;\n    }\n\n    .dataframe tbody tr th {\n        vertical-align: top;\n    }\n\n    .dataframe thead th {\n        text-align: right;\n    }\n</style>\n<table border=\"1\" class=\"dataframe\">\n  <thead>\n    <tr style=\"text-align: right;\">\n      <th></th>\n      <th>dur</th>\n      <th>spkts</th>\n      <th>dpkts</th>\n      <th>sbytes</th>\n      <th>dbytes</th>\n      <th>rate</th>\n      <th>sttl</th>\n      <th>dttl</th>\n      <th>sload</th>\n      <th>dload</th>\n      <th>...</th>\n      <th>state_ECO</th>\n      <th>state_FIN</th>\n      <th>state_INT</th>\n      <th>state_PAR</th>\n      <th>state_REQ</th>\n      <th>state_RST</th>\n      <th>state_URN</th>\n      <th>state_no</th>\n      <th>state_CLO</th>\n      <th>state_ACC</th>\n    </tr>\n  </thead>\n  <tbody>\n    <tr>\n      <th>0</th>\n      <td>0.121478</td>\n      <td>6</td>\n      <td>4</td>\n      <td>258</td>\n      <td>172</td>\n      <td>74.087490</td>\n      <td>252</td>\n      <td>254</td>\n      <td>14158.942380</td>\n      <td>8495.365234</td>\n      <td>...</td>\n      <td>0</td>\n      <td>1</td>\n      <td>0</td>\n      <td>0</td>\n      <td>0</td>\n      <td>0</td>\n      <td>0</td>\n      <td>0</td>\n      <td>0</td>\n      <td>0</td>\n    </tr>\n    <tr>\n      <th>1</th>\n      <td>0.649902</td>\n      <td>14</td>\n      <td>38</td>\n      <td>734</td>\n      <td>42014</td>\n      <td>78.473372</td>\n      <td>62</td>\n      <td>252</td>\n      <td>8395.112305</td>\n      <td>503571.312500</td>\n      <td>...</td>\n      <td>0</td>\n      <td>1</td>\n      <td>0</td>\n      <td>0</td>\n      <td>0</td>\n      <td>0</td>\n      <td>0</td>\n      <td>0</td>\n      <td>0</td>\n      <td>0</td>\n    </tr>\n    <tr>\n      <th>2</th>\n      <td>1.623129</td>\n      <td>8</td>\n      <td>16</td>\n      <td>364</td>\n      <td>13186</td>\n      <td>14.170161</td>\n      <td>62</td>\n      <td>252</td>\n      <td>1572.271851</td>\n      <td>60929.230470</td>\n      <td>...</td>\n      <td>0</td>\n      <td>1</td>\n      <td>0</td>\n      <td>0</td>\n      <td>0</td>\n      <td>0</td>\n      <td>0</td>\n      <td>0</td>\n      <td>0</td>\n      <td>0</td>\n    </tr>\n    <tr>\n      <th>3</th>\n      <td>1.681642</td>\n      <td>12</td>\n      <td>12</td>\n      <td>628</td>\n      <td>770</td>\n      <td>13.677108</td>\n      <td>62</td>\n      <td>252</td>\n      <td>2740.178955</td>\n      <td>3358.622070</td>\n      <td>...</td>\n      <td>0</td>\n      <td>1</td>\n      <td>0</td>\n      <td>0</td>\n      <td>0</td>\n      <td>0</td>\n      <td>0</td>\n      <td>0</td>\n      <td>0</td>\n      <td>0</td>\n    </tr>\n    <tr>\n      <th>4</th>\n      <td>0.449454</td>\n      <td>10</td>\n      <td>6</td>\n      <td>534</td>\n      <td>268</td>\n      <td>33.373826</td>\n      <td>254</td>\n      <td>252</td>\n      <td>8561.499023</td>\n      <td>3987.059814</td>\n      <td>...</td>\n      <td>0</td>\n      <td>1</td>\n      <td>0</td>\n      <td>0</td>\n      <td>0</td>\n      <td>0</td>\n      <td>0</td>\n      <td>0</td>\n      <td>0</td>\n      <td>0</td>\n    </tr>\n  </tbody>\n</table>\n<p>5 rows × 198 columns</p>\n</div>"
     },
     "execution_count": 146,
     "metadata": {},
     "output_type": "execute_result"
    }
   ],
   "source": [
    "training.head()"
   ],
   "metadata": {
    "collapsed": false,
    "pycharm": {
     "name": "#%%\n"
    }
   }
  },
  {
   "cell_type": "code",
   "execution_count": 150,
   "outputs": [
    {
     "data": {
      "text/plain": "['dur',\n 'spkts',\n 'dpkts',\n 'sbytes',\n 'dbytes',\n 'rate',\n 'sttl',\n 'dttl',\n 'sload',\n 'dload',\n 'sloss',\n 'dloss',\n 'sinpkt',\n 'dinpkt',\n 'sjit',\n 'djit',\n 'swin',\n 'stcpb',\n 'dtcpb',\n 'dwin',\n 'tcprtt',\n 'synack',\n 'ackdat',\n 'smean',\n 'dmean',\n 'trans_depth',\n 'response_body_len',\n 'ct_srv_src',\n 'ct_state_ttl',\n 'ct_dst_ltm',\n 'ct_src_dport_ltm',\n 'ct_dst_sport_ltm',\n 'ct_dst_src_ltm',\n 'is_ftp_login',\n 'ct_ftp_cmd',\n 'ct_flw_http_mthd',\n 'ct_src_ltm',\n 'ct_srv_dst',\n 'is_sm_ips_ports',\n 'proto_3pc',\n 'proto_a/n',\n 'proto_aes-sp3-d',\n 'proto_any',\n 'proto_argus',\n 'proto_aris',\n 'proto_arp',\n 'proto_ax.25',\n 'proto_bbn-rcc',\n 'proto_bna',\n 'proto_br-sat-mon',\n 'proto_cbt',\n 'proto_cftp',\n 'proto_chaos',\n 'proto_compaq-peer',\n 'proto_cphb',\n 'proto_cpnx',\n 'proto_crtp',\n 'proto_crudp',\n 'proto_dcn',\n 'proto_ddp',\n 'proto_ddx',\n 'proto_dgp',\n 'proto_egp',\n 'proto_eigrp',\n 'proto_emcon',\n 'proto_encap',\n 'proto_etherip',\n 'proto_fc',\n 'proto_fire',\n 'proto_ggp',\n 'proto_gmtp',\n 'proto_gre',\n 'proto_hmp',\n 'proto_i-nlsp',\n 'proto_iatp',\n 'proto_ib',\n 'proto_icmp',\n 'proto_idpr',\n 'proto_idpr-cmtp',\n 'proto_idrp',\n 'proto_ifmp',\n 'proto_igmp',\n 'proto_igp',\n 'proto_il',\n 'proto_ip',\n 'proto_ipcomp',\n 'proto_ipcv',\n 'proto_ipip',\n 'proto_iplt',\n 'proto_ipnip',\n 'proto_ippc',\n 'proto_ipv6',\n 'proto_ipv6-frag',\n 'proto_ipv6-no',\n 'proto_ipv6-opts',\n 'proto_ipv6-route',\n 'proto_ipx-n-ip',\n 'proto_irtp',\n 'proto_isis',\n 'proto_iso-ip',\n 'proto_iso-tp4',\n 'proto_kryptolan',\n 'proto_l2tp',\n 'proto_larp',\n 'proto_leaf-1',\n 'proto_leaf-2',\n 'proto_merit-inp',\n 'proto_mfe-nsp',\n 'proto_mhrp',\n 'proto_micp',\n 'proto_mobile',\n 'proto_mtp',\n 'proto_mux',\n 'proto_narp',\n 'proto_netblt',\n 'proto_nsfnet-igp',\n 'proto_nvp',\n 'proto_ospf',\n 'proto_pgm',\n 'proto_pim',\n 'proto_pipe',\n 'proto_pnni',\n 'proto_pri-enc',\n 'proto_prm',\n 'proto_ptp',\n 'proto_pup',\n 'proto_pvp',\n 'proto_qnx',\n 'proto_rdp',\n 'proto_rsvp',\n 'proto_rtp',\n 'proto_rvd',\n 'proto_sat-expak',\n 'proto_sat-mon',\n 'proto_sccopmce',\n 'proto_scps',\n 'proto_sctp',\n 'proto_sdrp',\n 'proto_secure-vmtp',\n 'proto_sep',\n 'proto_skip',\n 'proto_sm',\n 'proto_smp',\n 'proto_snp',\n 'proto_sprite-rpc',\n 'proto_sps',\n 'proto_srp',\n 'proto_st2',\n 'proto_stp',\n 'proto_sun-nd',\n 'proto_swipe',\n 'proto_tcf',\n 'proto_tcp',\n 'proto_tlsp',\n 'proto_tp++',\n 'proto_trunk-1',\n 'proto_trunk-2',\n 'proto_ttp',\n 'proto_udp',\n 'proto_unas',\n 'proto_uti',\n 'proto_vines',\n 'proto_visa',\n 'proto_vmtp',\n 'proto_vrrp',\n 'proto_wb-expak',\n 'proto_wb-mon',\n 'proto_wsn',\n 'proto_xnet',\n 'proto_xns-idp',\n 'proto_xtp',\n 'proto_zero',\n 'service_dhcp',\n 'service_dns',\n 'service_ftp',\n 'service_ftp-data',\n 'service_http',\n 'service_irc',\n 'service_pop3',\n 'service_radius',\n 'service_smtp',\n 'service_snmp',\n 'service_ssh',\n 'service_ssl',\n 'service_undefined',\n 'state_CON',\n 'state_ECO',\n 'state_FIN',\n 'state_INT',\n 'state_PAR',\n 'state_REQ',\n 'state_RST',\n 'state_URN',\n 'state_no',\n 'state_CLO',\n 'state_ACC']"
     },
     "execution_count": 150,
     "metadata": {},
     "output_type": "execute_result"
    }
   ],
   "source": [
    "#we still have the attack category, this will be used for multi cat\n",
    "#use minmax scaler to normalize data\n",
    "#first for training dataset\n",
    "from sklearn import preprocessing\n",
    "num_col = list(training.select_dtypes(include='number').columns)\n",
    "num_col.remove('label') #this will be separated later\n",
    "num_col"
   ],
   "metadata": {
    "collapsed": false,
    "pycharm": {
     "name": "#%%\n"
    }
   }
  },
  {
   "cell_type": "code",
   "execution_count": 151,
   "outputs": [],
   "source": [
    "minmax_scale = preprocessing.MinMaxScaler(feature_range=(0, 1))\n",
    "def normalization(df,coll):\n",
    "  for i in coll:\n",
    "    arr = df[i]\n",
    "    arr = np.array(arr)\n",
    "    df[i] = minmax_scale.fit_transform(arr.reshape(len(arr),1))\n",
    "  return df"
   ],
   "metadata": {
    "collapsed": false,
    "pycharm": {
     "name": "#%%\n"
    }
   }
  },
  {
   "cell_type": "code",
   "execution_count": 152,
   "outputs": [
    {
     "data": {
      "text/plain": "        dur  spkts  dpkts  sbytes  dbytes       rate  sttl  dttl  \\\n0  0.121478      6      4     258     172  74.087490   252   254   \n1  0.649902     14     38     734   42014  78.473372    62   252   \n2  1.623129      8     16     364   13186  14.170161    62   252   \n3  1.681642     12     12     628     770  13.677108    62   252   \n4  0.449454     10      6     534     268  33.373826   254   252   \n\n          sload          dload  ...  state_ECO  state_FIN  state_INT  \\\n0  14158.942380    8495.365234  ...          0          1          0   \n1   8395.112305  503571.312500  ...          0          1          0   \n2   1572.271851   60929.230470  ...          0          1          0   \n3   2740.178955    3358.622070  ...          0          1          0   \n4   8561.499023    3987.059814  ...          0          1          0   \n\n   state_PAR  state_REQ  state_RST  state_URN  state_no  state_CLO  state_ACC  \n0          0          0          0          0         0          0          0  \n1          0          0          0          0         0          0          0  \n2          0          0          0          0         0          0          0  \n3          0          0          0          0         0          0          0  \n4          0          0          0          0         0          0          0  \n\n[5 rows x 198 columns]",
      "text/html": "<div>\n<style scoped>\n    .dataframe tbody tr th:only-of-type {\n        vertical-align: middle;\n    }\n\n    .dataframe tbody tr th {\n        vertical-align: top;\n    }\n\n    .dataframe thead th {\n        text-align: right;\n    }\n</style>\n<table border=\"1\" class=\"dataframe\">\n  <thead>\n    <tr style=\"text-align: right;\">\n      <th></th>\n      <th>dur</th>\n      <th>spkts</th>\n      <th>dpkts</th>\n      <th>sbytes</th>\n      <th>dbytes</th>\n      <th>rate</th>\n      <th>sttl</th>\n      <th>dttl</th>\n      <th>sload</th>\n      <th>dload</th>\n      <th>...</th>\n      <th>state_ECO</th>\n      <th>state_FIN</th>\n      <th>state_INT</th>\n      <th>state_PAR</th>\n      <th>state_REQ</th>\n      <th>state_RST</th>\n      <th>state_URN</th>\n      <th>state_no</th>\n      <th>state_CLO</th>\n      <th>state_ACC</th>\n    </tr>\n  </thead>\n  <tbody>\n    <tr>\n      <th>0</th>\n      <td>0.121478</td>\n      <td>6</td>\n      <td>4</td>\n      <td>258</td>\n      <td>172</td>\n      <td>74.087490</td>\n      <td>252</td>\n      <td>254</td>\n      <td>14158.942380</td>\n      <td>8495.365234</td>\n      <td>...</td>\n      <td>0</td>\n      <td>1</td>\n      <td>0</td>\n      <td>0</td>\n      <td>0</td>\n      <td>0</td>\n      <td>0</td>\n      <td>0</td>\n      <td>0</td>\n      <td>0</td>\n    </tr>\n    <tr>\n      <th>1</th>\n      <td>0.649902</td>\n      <td>14</td>\n      <td>38</td>\n      <td>734</td>\n      <td>42014</td>\n      <td>78.473372</td>\n      <td>62</td>\n      <td>252</td>\n      <td>8395.112305</td>\n      <td>503571.312500</td>\n      <td>...</td>\n      <td>0</td>\n      <td>1</td>\n      <td>0</td>\n      <td>0</td>\n      <td>0</td>\n      <td>0</td>\n      <td>0</td>\n      <td>0</td>\n      <td>0</td>\n      <td>0</td>\n    </tr>\n    <tr>\n      <th>2</th>\n      <td>1.623129</td>\n      <td>8</td>\n      <td>16</td>\n      <td>364</td>\n      <td>13186</td>\n      <td>14.170161</td>\n      <td>62</td>\n      <td>252</td>\n      <td>1572.271851</td>\n      <td>60929.230470</td>\n      <td>...</td>\n      <td>0</td>\n      <td>1</td>\n      <td>0</td>\n      <td>0</td>\n      <td>0</td>\n      <td>0</td>\n      <td>0</td>\n      <td>0</td>\n      <td>0</td>\n      <td>0</td>\n    </tr>\n    <tr>\n      <th>3</th>\n      <td>1.681642</td>\n      <td>12</td>\n      <td>12</td>\n      <td>628</td>\n      <td>770</td>\n      <td>13.677108</td>\n      <td>62</td>\n      <td>252</td>\n      <td>2740.178955</td>\n      <td>3358.622070</td>\n      <td>...</td>\n      <td>0</td>\n      <td>1</td>\n      <td>0</td>\n      <td>0</td>\n      <td>0</td>\n      <td>0</td>\n      <td>0</td>\n      <td>0</td>\n      <td>0</td>\n      <td>0</td>\n    </tr>\n    <tr>\n      <th>4</th>\n      <td>0.449454</td>\n      <td>10</td>\n      <td>6</td>\n      <td>534</td>\n      <td>268</td>\n      <td>33.373826</td>\n      <td>254</td>\n      <td>252</td>\n      <td>8561.499023</td>\n      <td>3987.059814</td>\n      <td>...</td>\n      <td>0</td>\n      <td>1</td>\n      <td>0</td>\n      <td>0</td>\n      <td>0</td>\n      <td>0</td>\n      <td>0</td>\n      <td>0</td>\n      <td>0</td>\n      <td>0</td>\n    </tr>\n  </tbody>\n</table>\n<p>5 rows × 198 columns</p>\n</div>"
     },
     "execution_count": 152,
     "metadata": {},
     "output_type": "execute_result"
    }
   ],
   "source": [
    "# data before normalization\n",
    "training.head()"
   ],
   "metadata": {
    "collapsed": false,
    "pycharm": {
     "name": "#%%\n"
    }
   }
  },
  {
   "cell_type": "code",
   "execution_count": 153,
   "outputs": [],
   "source": [
    "# calling normalization() function\n",
    "training = normalization(training.copy(),num_col)"
   ],
   "metadata": {
    "collapsed": false,
    "pycharm": {
     "name": "#%%\n"
    }
   }
  },
  {
   "cell_type": "code",
   "execution_count": 155,
   "outputs": [
    {
     "data": {
      "text/plain": "        dur     spkts     dpkts    sbytes    dbytes      rate      sttl  \\\n0  0.002025  0.000520  0.000364  0.000018  0.000012  0.000074  0.988235   \n1  0.010832  0.001352  0.003463  0.000054  0.002867  0.000078  0.243137   \n2  0.027052  0.000728  0.001458  0.000026  0.000900  0.000014  0.243137   \n3  0.028027  0.001144  0.001093  0.000046  0.000053  0.000014  0.243137   \n4  0.007491  0.000936  0.000547  0.000039  0.000018  0.000033  0.996078   \n\n       dttl         sload     dload  ...  state_ECO  state_FIN  state_INT  \\\n0  1.000000  2.364553e-06  0.000379  ...        0.0        1.0        0.0   \n1  0.992126  1.401989e-06  0.022458  ...        0.0        1.0        0.0   \n2  0.992126  2.625704e-07  0.002717  ...        0.0        1.0        0.0   \n3  0.992126  4.576117e-07  0.000150  ...        0.0        1.0        0.0   \n4  0.992126  1.429776e-06  0.000178  ...        0.0        1.0        0.0   \n\n   state_PAR  state_REQ  state_RST  state_URN  state_no  state_CLO  state_ACC  \n0        0.0        0.0        0.0        0.0       0.0        0.0        0.0  \n1        0.0        0.0        0.0        0.0       0.0        0.0        0.0  \n2        0.0        0.0        0.0        0.0       0.0        0.0        0.0  \n3        0.0        0.0        0.0        0.0       0.0        0.0        0.0  \n4        0.0        0.0        0.0        0.0       0.0        0.0        0.0  \n\n[5 rows x 198 columns]",
      "text/html": "<div>\n<style scoped>\n    .dataframe tbody tr th:only-of-type {\n        vertical-align: middle;\n    }\n\n    .dataframe tbody tr th {\n        vertical-align: top;\n    }\n\n    .dataframe thead th {\n        text-align: right;\n    }\n</style>\n<table border=\"1\" class=\"dataframe\">\n  <thead>\n    <tr style=\"text-align: right;\">\n      <th></th>\n      <th>dur</th>\n      <th>spkts</th>\n      <th>dpkts</th>\n      <th>sbytes</th>\n      <th>dbytes</th>\n      <th>rate</th>\n      <th>sttl</th>\n      <th>dttl</th>\n      <th>sload</th>\n      <th>dload</th>\n      <th>...</th>\n      <th>state_ECO</th>\n      <th>state_FIN</th>\n      <th>state_INT</th>\n      <th>state_PAR</th>\n      <th>state_REQ</th>\n      <th>state_RST</th>\n      <th>state_URN</th>\n      <th>state_no</th>\n      <th>state_CLO</th>\n      <th>state_ACC</th>\n    </tr>\n  </thead>\n  <tbody>\n    <tr>\n      <th>0</th>\n      <td>0.002025</td>\n      <td>0.000520</td>\n      <td>0.000364</td>\n      <td>0.000018</td>\n      <td>0.000012</td>\n      <td>0.000074</td>\n      <td>0.988235</td>\n      <td>1.000000</td>\n      <td>2.364553e-06</td>\n      <td>0.000379</td>\n      <td>...</td>\n      <td>0.0</td>\n      <td>1.0</td>\n      <td>0.0</td>\n      <td>0.0</td>\n      <td>0.0</td>\n      <td>0.0</td>\n      <td>0.0</td>\n      <td>0.0</td>\n      <td>0.0</td>\n      <td>0.0</td>\n    </tr>\n    <tr>\n      <th>1</th>\n      <td>0.010832</td>\n      <td>0.001352</td>\n      <td>0.003463</td>\n      <td>0.000054</td>\n      <td>0.002867</td>\n      <td>0.000078</td>\n      <td>0.243137</td>\n      <td>0.992126</td>\n      <td>1.401989e-06</td>\n      <td>0.022458</td>\n      <td>...</td>\n      <td>0.0</td>\n      <td>1.0</td>\n      <td>0.0</td>\n      <td>0.0</td>\n      <td>0.0</td>\n      <td>0.0</td>\n      <td>0.0</td>\n      <td>0.0</td>\n      <td>0.0</td>\n      <td>0.0</td>\n    </tr>\n    <tr>\n      <th>2</th>\n      <td>0.027052</td>\n      <td>0.000728</td>\n      <td>0.001458</td>\n      <td>0.000026</td>\n      <td>0.000900</td>\n      <td>0.000014</td>\n      <td>0.243137</td>\n      <td>0.992126</td>\n      <td>2.625704e-07</td>\n      <td>0.002717</td>\n      <td>...</td>\n      <td>0.0</td>\n      <td>1.0</td>\n      <td>0.0</td>\n      <td>0.0</td>\n      <td>0.0</td>\n      <td>0.0</td>\n      <td>0.0</td>\n      <td>0.0</td>\n      <td>0.0</td>\n      <td>0.0</td>\n    </tr>\n    <tr>\n      <th>3</th>\n      <td>0.028027</td>\n      <td>0.001144</td>\n      <td>0.001093</td>\n      <td>0.000046</td>\n      <td>0.000053</td>\n      <td>0.000014</td>\n      <td>0.243137</td>\n      <td>0.992126</td>\n      <td>4.576117e-07</td>\n      <td>0.000150</td>\n      <td>...</td>\n      <td>0.0</td>\n      <td>1.0</td>\n      <td>0.0</td>\n      <td>0.0</td>\n      <td>0.0</td>\n      <td>0.0</td>\n      <td>0.0</td>\n      <td>0.0</td>\n      <td>0.0</td>\n      <td>0.0</td>\n    </tr>\n    <tr>\n      <th>4</th>\n      <td>0.007491</td>\n      <td>0.000936</td>\n      <td>0.000547</td>\n      <td>0.000039</td>\n      <td>0.000018</td>\n      <td>0.000033</td>\n      <td>0.996078</td>\n      <td>0.992126</td>\n      <td>1.429776e-06</td>\n      <td>0.000178</td>\n      <td>...</td>\n      <td>0.0</td>\n      <td>1.0</td>\n      <td>0.0</td>\n      <td>0.0</td>\n      <td>0.0</td>\n      <td>0.0</td>\n      <td>0.0</td>\n      <td>0.0</td>\n      <td>0.0</td>\n      <td>0.0</td>\n    </tr>\n  </tbody>\n</table>\n<p>5 rows × 198 columns</p>\n</div>"
     },
     "execution_count": 155,
     "metadata": {},
     "output_type": "execute_result"
    }
   ],
   "source": [
    "# data after normalization\n",
    "training.head()"
   ],
   "metadata": {
    "collapsed": false,
    "pycharm": {
     "name": "#%%\n"
    }
   }
  },
  {
   "cell_type": "code",
   "execution_count": 156,
   "outputs": [
    {
     "data": {
      "text/plain": "['dur',\n 'spkts',\n 'dpkts',\n 'sbytes',\n 'dbytes',\n 'rate',\n 'sttl',\n 'dttl',\n 'sload',\n 'dload',\n 'sloss',\n 'dloss',\n 'sinpkt',\n 'dinpkt',\n 'sjit',\n 'djit',\n 'swin',\n 'stcpb',\n 'dtcpb',\n 'dwin',\n 'tcprtt',\n 'synack',\n 'ackdat',\n 'smean',\n 'dmean',\n 'trans_depth',\n 'response_body_len',\n 'ct_srv_src',\n 'ct_state_ttl',\n 'ct_dst_ltm',\n 'ct_src_dport_ltm',\n 'ct_dst_sport_ltm',\n 'ct_dst_src_ltm',\n 'is_ftp_login',\n 'ct_ftp_cmd',\n 'ct_flw_http_mthd',\n 'ct_src_ltm',\n 'ct_srv_dst',\n 'is_sm_ips_ports',\n 'proto_3pc',\n 'proto_a/n',\n 'proto_aes-sp3-d',\n 'proto_any',\n 'proto_argus',\n 'proto_aris',\n 'proto_arp',\n 'proto_ax.25',\n 'proto_bbn-rcc',\n 'proto_bna',\n 'proto_br-sat-mon',\n 'proto_cbt',\n 'proto_cftp',\n 'proto_chaos',\n 'proto_compaq-peer',\n 'proto_cphb',\n 'proto_cpnx',\n 'proto_crtp',\n 'proto_crudp',\n 'proto_dcn',\n 'proto_ddp',\n 'proto_ddx',\n 'proto_dgp',\n 'proto_egp',\n 'proto_eigrp',\n 'proto_emcon',\n 'proto_encap',\n 'proto_etherip',\n 'proto_fc',\n 'proto_fire',\n 'proto_ggp',\n 'proto_gmtp',\n 'proto_gre',\n 'proto_hmp',\n 'proto_i-nlsp',\n 'proto_iatp',\n 'proto_ib',\n 'proto_idpr',\n 'proto_idpr-cmtp',\n 'proto_idrp',\n 'proto_ifmp',\n 'proto_igmp',\n 'proto_igp',\n 'proto_il',\n 'proto_ip',\n 'proto_ipcomp',\n 'proto_ipcv',\n 'proto_ipip',\n 'proto_iplt',\n 'proto_ipnip',\n 'proto_ippc',\n 'proto_ipv6',\n 'proto_ipv6-frag',\n 'proto_ipv6-no',\n 'proto_ipv6-opts',\n 'proto_ipv6-route',\n 'proto_ipx-n-ip',\n 'proto_irtp',\n 'proto_isis',\n 'proto_iso-ip',\n 'proto_iso-tp4',\n 'proto_kryptolan',\n 'proto_l2tp',\n 'proto_larp',\n 'proto_leaf-1',\n 'proto_leaf-2',\n 'proto_merit-inp',\n 'proto_mfe-nsp',\n 'proto_mhrp',\n 'proto_micp',\n 'proto_mobile',\n 'proto_mtp',\n 'proto_mux',\n 'proto_narp',\n 'proto_netblt',\n 'proto_nsfnet-igp',\n 'proto_nvp',\n 'proto_ospf',\n 'proto_pgm',\n 'proto_pim',\n 'proto_pipe',\n 'proto_pnni',\n 'proto_pri-enc',\n 'proto_prm',\n 'proto_ptp',\n 'proto_pup',\n 'proto_pvp',\n 'proto_qnx',\n 'proto_rdp',\n 'proto_rsvp',\n 'proto_rvd',\n 'proto_sat-expak',\n 'proto_sat-mon',\n 'proto_sccopmce',\n 'proto_scps',\n 'proto_sctp',\n 'proto_sdrp',\n 'proto_secure-vmtp',\n 'proto_sep',\n 'proto_skip',\n 'proto_sm',\n 'proto_smp',\n 'proto_snp',\n 'proto_sprite-rpc',\n 'proto_sps',\n 'proto_srp',\n 'proto_st2',\n 'proto_stp',\n 'proto_sun-nd',\n 'proto_swipe',\n 'proto_tcf',\n 'proto_tcp',\n 'proto_tlsp',\n 'proto_tp++',\n 'proto_trunk-1',\n 'proto_trunk-2',\n 'proto_ttp',\n 'proto_udp',\n 'proto_unas',\n 'proto_uti',\n 'proto_vines',\n 'proto_visa',\n 'proto_vmtp',\n 'proto_vrrp',\n 'proto_wb-expak',\n 'proto_wb-mon',\n 'proto_wsn',\n 'proto_xnet',\n 'proto_xns-idp',\n 'proto_xtp',\n 'proto_zero',\n 'service_dhcp',\n 'service_dns',\n 'service_ftp',\n 'service_ftp-data',\n 'service_http',\n 'service_irc',\n 'service_pop3',\n 'service_radius',\n 'service_smtp',\n 'service_snmp',\n 'service_ssh',\n 'service_ssl',\n 'service_undefined',\n 'state_ACC',\n 'state_CLO',\n 'state_CON',\n 'state_FIN',\n 'state_INT',\n 'state_REQ',\n 'state_RST',\n 'state_PAR',\n 'proto_icmp',\n 'state_ECO',\n 'proto_rtp',\n 'state_URN',\n 'state_no']"
     },
     "execution_count": 156,
     "metadata": {},
     "output_type": "execute_result"
    }
   ],
   "source": [
    "#now we do the same for testing dataset\n",
    "num_col_test = list(testing.select_dtypes(include='number').columns)\n",
    "num_col_test.remove('label') #this will be separated later\n",
    "num_col_test"
   ],
   "metadata": {
    "collapsed": false,
    "pycharm": {
     "name": "#%%\n"
    }
   }
  },
  {
   "cell_type": "code",
   "execution_count": 157,
   "outputs": [
    {
     "data": {
      "text/plain": "        dur  spkts  dpkts  sbytes  dbytes         rate  sttl  dttl  \\\n0  0.000011      2      0     496       0   90909.0902   254     0   \n1  0.000008      2      0    1762       0  125000.0003   254     0   \n2  0.000005      2      0    1068       0  200000.0051   254     0   \n3  0.000006      2      0     900       0  166666.6608   254     0   \n4  0.000010      2      0    2126       0  100000.0025   254     0   \n\n         sload  dload  ...  state_FIN  state_INT  state_REQ  state_RST  \\\n0  180363632.0    0.0  ...          0          1          0          0   \n1  881000000.0    0.0  ...          0          1          0          0   \n2  854400000.0    0.0  ...          0          1          0          0   \n3  600000000.0    0.0  ...          0          1          0          0   \n4  850400000.0    0.0  ...          0          1          0          0   \n\n   state_PAR  proto_icmp  state_ECO  proto_rtp  state_URN  state_no  \n0          0           0          0          0          0         0  \n1          0           0          0          0          0         0  \n2          0           0          0          0          0         0  \n3          0           0          0          0          0         0  \n4          0           0          0          0          0         0  \n\n[5 rows x 198 columns]",
      "text/html": "<div>\n<style scoped>\n    .dataframe tbody tr th:only-of-type {\n        vertical-align: middle;\n    }\n\n    .dataframe tbody tr th {\n        vertical-align: top;\n    }\n\n    .dataframe thead th {\n        text-align: right;\n    }\n</style>\n<table border=\"1\" class=\"dataframe\">\n  <thead>\n    <tr style=\"text-align: right;\">\n      <th></th>\n      <th>dur</th>\n      <th>spkts</th>\n      <th>dpkts</th>\n      <th>sbytes</th>\n      <th>dbytes</th>\n      <th>rate</th>\n      <th>sttl</th>\n      <th>dttl</th>\n      <th>sload</th>\n      <th>dload</th>\n      <th>...</th>\n      <th>state_FIN</th>\n      <th>state_INT</th>\n      <th>state_REQ</th>\n      <th>state_RST</th>\n      <th>state_PAR</th>\n      <th>proto_icmp</th>\n      <th>state_ECO</th>\n      <th>proto_rtp</th>\n      <th>state_URN</th>\n      <th>state_no</th>\n    </tr>\n  </thead>\n  <tbody>\n    <tr>\n      <th>0</th>\n      <td>0.000011</td>\n      <td>2</td>\n      <td>0</td>\n      <td>496</td>\n      <td>0</td>\n      <td>90909.0902</td>\n      <td>254</td>\n      <td>0</td>\n      <td>180363632.0</td>\n      <td>0.0</td>\n      <td>...</td>\n      <td>0</td>\n      <td>1</td>\n      <td>0</td>\n      <td>0</td>\n      <td>0</td>\n      <td>0</td>\n      <td>0</td>\n      <td>0</td>\n      <td>0</td>\n      <td>0</td>\n    </tr>\n    <tr>\n      <th>1</th>\n      <td>0.000008</td>\n      <td>2</td>\n      <td>0</td>\n      <td>1762</td>\n      <td>0</td>\n      <td>125000.0003</td>\n      <td>254</td>\n      <td>0</td>\n      <td>881000000.0</td>\n      <td>0.0</td>\n      <td>...</td>\n      <td>0</td>\n      <td>1</td>\n      <td>0</td>\n      <td>0</td>\n      <td>0</td>\n      <td>0</td>\n      <td>0</td>\n      <td>0</td>\n      <td>0</td>\n      <td>0</td>\n    </tr>\n    <tr>\n      <th>2</th>\n      <td>0.000005</td>\n      <td>2</td>\n      <td>0</td>\n      <td>1068</td>\n      <td>0</td>\n      <td>200000.0051</td>\n      <td>254</td>\n      <td>0</td>\n      <td>854400000.0</td>\n      <td>0.0</td>\n      <td>...</td>\n      <td>0</td>\n      <td>1</td>\n      <td>0</td>\n      <td>0</td>\n      <td>0</td>\n      <td>0</td>\n      <td>0</td>\n      <td>0</td>\n      <td>0</td>\n      <td>0</td>\n    </tr>\n    <tr>\n      <th>3</th>\n      <td>0.000006</td>\n      <td>2</td>\n      <td>0</td>\n      <td>900</td>\n      <td>0</td>\n      <td>166666.6608</td>\n      <td>254</td>\n      <td>0</td>\n      <td>600000000.0</td>\n      <td>0.0</td>\n      <td>...</td>\n      <td>0</td>\n      <td>1</td>\n      <td>0</td>\n      <td>0</td>\n      <td>0</td>\n      <td>0</td>\n      <td>0</td>\n      <td>0</td>\n      <td>0</td>\n      <td>0</td>\n    </tr>\n    <tr>\n      <th>4</th>\n      <td>0.000010</td>\n      <td>2</td>\n      <td>0</td>\n      <td>2126</td>\n      <td>0</td>\n      <td>100000.0025</td>\n      <td>254</td>\n      <td>0</td>\n      <td>850400000.0</td>\n      <td>0.0</td>\n      <td>...</td>\n      <td>0</td>\n      <td>1</td>\n      <td>0</td>\n      <td>0</td>\n      <td>0</td>\n      <td>0</td>\n      <td>0</td>\n      <td>0</td>\n      <td>0</td>\n      <td>0</td>\n    </tr>\n  </tbody>\n</table>\n<p>5 rows × 198 columns</p>\n</div>"
     },
     "execution_count": 157,
     "metadata": {},
     "output_type": "execute_result"
    }
   ],
   "source": [
    "# data before normalization\n",
    "testing.head()"
   ],
   "metadata": {
    "collapsed": false,
    "pycharm": {
     "name": "#%%\n"
    }
   }
  },
  {
   "cell_type": "code",
   "execution_count": 158,
   "outputs": [],
   "source": [
    "# calling normalization() function\n",
    "testing = normalization(testing.copy(),num_col_test)"
   ],
   "metadata": {
    "collapsed": false,
    "pycharm": {
     "name": "#%%\n"
    }
   }
  },
  {
   "cell_type": "code",
   "execution_count": 159,
   "outputs": [
    {
     "data": {
      "text/plain": "            dur     spkts  dpkts    sbytes  dbytes      rate      sttl  dttl  \\\n0  1.833334e-07  0.000094    0.0  0.000033     0.0  0.090909  0.996078   0.0   \n1  1.333334e-07  0.000094    0.0  0.000121     0.0  0.125000  0.996078   0.0   \n2  8.333335e-08  0.000094    0.0  0.000073     0.0  0.200000  0.996078   0.0   \n3  1.000000e-07  0.000094    0.0  0.000061     0.0  0.166667  0.996078   0.0   \n4  1.666667e-07  0.000094    0.0  0.000146     0.0  0.100000  0.996078   0.0   \n\n      sload  dload  ...  state_FIN  state_INT  state_REQ  state_RST  \\\n0  0.034238    0.0  ...        0.0        1.0        0.0        0.0   \n1  0.167236    0.0  ...        0.0        1.0        0.0        0.0   \n2  0.162187    0.0  ...        0.0        1.0        0.0        0.0   \n3  0.113895    0.0  ...        0.0        1.0        0.0        0.0   \n4  0.161427    0.0  ...        0.0        1.0        0.0        0.0   \n\n   state_PAR  proto_icmp  state_ECO  proto_rtp  state_URN  state_no  \n0        0.0         0.0        0.0        0.0        0.0       0.0  \n1        0.0         0.0        0.0        0.0        0.0       0.0  \n2        0.0         0.0        0.0        0.0        0.0       0.0  \n3        0.0         0.0        0.0        0.0        0.0       0.0  \n4        0.0         0.0        0.0        0.0        0.0       0.0  \n\n[5 rows x 198 columns]",
      "text/html": "<div>\n<style scoped>\n    .dataframe tbody tr th:only-of-type {\n        vertical-align: middle;\n    }\n\n    .dataframe tbody tr th {\n        vertical-align: top;\n    }\n\n    .dataframe thead th {\n        text-align: right;\n    }\n</style>\n<table border=\"1\" class=\"dataframe\">\n  <thead>\n    <tr style=\"text-align: right;\">\n      <th></th>\n      <th>dur</th>\n      <th>spkts</th>\n      <th>dpkts</th>\n      <th>sbytes</th>\n      <th>dbytes</th>\n      <th>rate</th>\n      <th>sttl</th>\n      <th>dttl</th>\n      <th>sload</th>\n      <th>dload</th>\n      <th>...</th>\n      <th>state_FIN</th>\n      <th>state_INT</th>\n      <th>state_REQ</th>\n      <th>state_RST</th>\n      <th>state_PAR</th>\n      <th>proto_icmp</th>\n      <th>state_ECO</th>\n      <th>proto_rtp</th>\n      <th>state_URN</th>\n      <th>state_no</th>\n    </tr>\n  </thead>\n  <tbody>\n    <tr>\n      <th>0</th>\n      <td>1.833334e-07</td>\n      <td>0.000094</td>\n      <td>0.0</td>\n      <td>0.000033</td>\n      <td>0.0</td>\n      <td>0.090909</td>\n      <td>0.996078</td>\n      <td>0.0</td>\n      <td>0.034238</td>\n      <td>0.0</td>\n      <td>...</td>\n      <td>0.0</td>\n      <td>1.0</td>\n      <td>0.0</td>\n      <td>0.0</td>\n      <td>0.0</td>\n      <td>0.0</td>\n      <td>0.0</td>\n      <td>0.0</td>\n      <td>0.0</td>\n      <td>0.0</td>\n    </tr>\n    <tr>\n      <th>1</th>\n      <td>1.333334e-07</td>\n      <td>0.000094</td>\n      <td>0.0</td>\n      <td>0.000121</td>\n      <td>0.0</td>\n      <td>0.125000</td>\n      <td>0.996078</td>\n      <td>0.0</td>\n      <td>0.167236</td>\n      <td>0.0</td>\n      <td>...</td>\n      <td>0.0</td>\n      <td>1.0</td>\n      <td>0.0</td>\n      <td>0.0</td>\n      <td>0.0</td>\n      <td>0.0</td>\n      <td>0.0</td>\n      <td>0.0</td>\n      <td>0.0</td>\n      <td>0.0</td>\n    </tr>\n    <tr>\n      <th>2</th>\n      <td>8.333335e-08</td>\n      <td>0.000094</td>\n      <td>0.0</td>\n      <td>0.000073</td>\n      <td>0.0</td>\n      <td>0.200000</td>\n      <td>0.996078</td>\n      <td>0.0</td>\n      <td>0.162187</td>\n      <td>0.0</td>\n      <td>...</td>\n      <td>0.0</td>\n      <td>1.0</td>\n      <td>0.0</td>\n      <td>0.0</td>\n      <td>0.0</td>\n      <td>0.0</td>\n      <td>0.0</td>\n      <td>0.0</td>\n      <td>0.0</td>\n      <td>0.0</td>\n    </tr>\n    <tr>\n      <th>3</th>\n      <td>1.000000e-07</td>\n      <td>0.000094</td>\n      <td>0.0</td>\n      <td>0.000061</td>\n      <td>0.0</td>\n      <td>0.166667</td>\n      <td>0.996078</td>\n      <td>0.0</td>\n      <td>0.113895</td>\n      <td>0.0</td>\n      <td>...</td>\n      <td>0.0</td>\n      <td>1.0</td>\n      <td>0.0</td>\n      <td>0.0</td>\n      <td>0.0</td>\n      <td>0.0</td>\n      <td>0.0</td>\n      <td>0.0</td>\n      <td>0.0</td>\n      <td>0.0</td>\n    </tr>\n    <tr>\n      <th>4</th>\n      <td>1.666667e-07</td>\n      <td>0.000094</td>\n      <td>0.0</td>\n      <td>0.000146</td>\n      <td>0.0</td>\n      <td>0.100000</td>\n      <td>0.996078</td>\n      <td>0.0</td>\n      <td>0.161427</td>\n      <td>0.0</td>\n      <td>...</td>\n      <td>0.0</td>\n      <td>1.0</td>\n      <td>0.0</td>\n      <td>0.0</td>\n      <td>0.0</td>\n      <td>0.0</td>\n      <td>0.0</td>\n      <td>0.0</td>\n      <td>0.0</td>\n      <td>0.0</td>\n    </tr>\n  </tbody>\n</table>\n<p>5 rows × 198 columns</p>\n</div>"
     },
     "execution_count": 159,
     "metadata": {},
     "output_type": "execute_result"
    }
   ],
   "source": [
    "# data after normalization\n",
    "testing.head()"
   ],
   "metadata": {
    "collapsed": false,
    "pycharm": {
     "name": "#%%\n"
    }
   }
  },
  {
   "cell_type": "code",
   "execution_count": 160,
   "outputs": [
    {
     "name": "stderr",
     "output_type": "stream",
     "text": [
      "C:\\Users\\Jovana\\AppData\\Local\\Temp/ipykernel_6648/3919863486.py:3: FutureWarning: In a future version of pandas all arguments of DataFrame.drop except for the argument 'labels' will be keyword-only\n",
      "  train_X = training.drop('label',1)\n"
     ]
    }
   ],
   "source": [
    "#now the data is normalized, we make binary and multiclass data splitting\n",
    "train_Y =training['label']\n",
    "train_X = training.drop('label',1)"
   ],
   "metadata": {
    "collapsed": false,
    "pycharm": {
     "name": "#%%\n"
    }
   }
  },
  {
   "cell_type": "code",
   "execution_count": 167,
   "outputs": [
    {
     "data": {
      "text/plain": "0    0\n1    0\n2    0\n3    0\n4    0\nName: label, dtype: int64"
     },
     "execution_count": 167,
     "metadata": {},
     "output_type": "execute_result"
    }
   ],
   "source": [
    "train_Y.head()"
   ],
   "metadata": {
    "collapsed": false,
    "pycharm": {
     "name": "#%%\n"
    }
   }
  },
  {
   "cell_type": "code",
   "execution_count": 168,
   "outputs": [
    {
     "data": {
      "text/plain": "(175341, 197)"
     },
     "execution_count": 168,
     "metadata": {},
     "output_type": "execute_result"
    }
   ],
   "source": [
    "train_X.shape"
   ],
   "metadata": {
    "collapsed": false,
    "pycharm": {
     "name": "#%%\n"
    }
   }
  },
  {
   "cell_type": "code",
   "execution_count": 169,
   "outputs": [
    {
     "name": "stderr",
     "output_type": "stream",
     "text": [
      "C:\\Users\\Jovana\\AppData\\Local\\Temp/ipykernel_6648/2074097035.py:2: FutureWarning: In a future version of pandas all arguments of DataFrame.drop except for the argument 'labels' will be keyword-only\n",
      "  test_X = testing.drop('label',1)\n"
     ]
    }
   ],
   "source": [
    "test_Y =testing['label']\n",
    "test_X = testing.drop('label',1)"
   ],
   "metadata": {
    "collapsed": false,
    "pycharm": {
     "name": "#%%\n"
    }
   }
  },
  {
   "cell_type": "code",
   "execution_count": 170,
   "outputs": [
    {
     "data": {
      "text/plain": "0    0\n1    0\n2    0\n3    0\n4    0\nName: label, dtype: int64"
     },
     "execution_count": 170,
     "metadata": {},
     "output_type": "execute_result"
    }
   ],
   "source": [
    "test_Y.head()"
   ],
   "metadata": {
    "collapsed": false,
    "pycharm": {
     "name": "#%%\n"
    }
   }
  },
  {
   "cell_type": "code",
   "execution_count": 171,
   "outputs": [
    {
     "data": {
      "text/plain": "(82332, 197)"
     },
     "execution_count": 171,
     "metadata": {},
     "output_type": "execute_result"
    }
   ],
   "source": [
    "test_X.shape"
   ],
   "metadata": {
    "collapsed": false,
    "pycharm": {
     "name": "#%%\n"
    }
   }
  },
  {
   "cell_type": "code",
   "execution_count": 173,
   "outputs": [
    {
     "name": "stderr",
     "output_type": "stream",
     "text": [
      "C:\\Users\\Jovana\\AppData\\Local\\Temp/ipykernel_6648/4012335.py:2: FutureWarning: In a future version of pandas all arguments of DataFrame.drop except for the argument 'labels' will be keyword-only\n",
      "  train_X_bin = train_X.drop('attack_cat',1)\n",
      "C:\\Users\\Jovana\\AppData\\Local\\Temp/ipykernel_6648/4012335.py:3: FutureWarning: In a future version of pandas all arguments of DataFrame.drop except for the argument 'labels' will be keyword-only\n",
      "  test_X_bin = test_X.drop('attack_cat',1)\n"
     ]
    }
   ],
   "source": [
    "#maybe we could remove the attack category altogether since we will need it only for the multiclass\n",
    "train_X_bin = train_X.drop('attack_cat',1)\n",
    "test_X_bin = test_X.drop('attack_cat',1)"
   ],
   "metadata": {
    "collapsed": false,
    "pycharm": {
     "name": "#%%\n"
    }
   }
  },
  {
   "cell_type": "code",
   "execution_count": 174,
   "outputs": [
    {
     "data": {
      "text/plain": "(175341, 196)"
     },
     "execution_count": 174,
     "metadata": {},
     "output_type": "execute_result"
    }
   ],
   "source": [
    "train_X_bin.shape"
   ],
   "metadata": {
    "collapsed": false,
    "pycharm": {
     "name": "#%%\n"
    }
   }
  },
  {
   "cell_type": "code",
   "execution_count": 175,
   "outputs": [
    {
     "data": {
      "text/plain": "(82332, 196)"
     },
     "execution_count": 175,
     "metadata": {},
     "output_type": "execute_result"
    }
   ],
   "source": [
    "test_X_bin.shape"
   ],
   "metadata": {
    "collapsed": false,
    "pycharm": {
     "name": "#%%\n"
    }
   }
  },
  {
   "cell_type": "code",
   "execution_count": 176,
   "outputs": [
    {
     "data": {
      "text/plain": "(175341,)"
     },
     "execution_count": 176,
     "metadata": {},
     "output_type": "execute_result"
    }
   ],
   "source": [
    "train_Y.shape"
   ],
   "metadata": {
    "collapsed": false,
    "pycharm": {
     "name": "#%%\n"
    }
   }
  },
  {
   "cell_type": "code",
   "execution_count": 177,
   "outputs": [
    {
     "data": {
      "text/plain": "(82332,)"
     },
     "execution_count": 177,
     "metadata": {},
     "output_type": "execute_result"
    }
   ],
   "source": [
    "test_Y.shape"
   ],
   "metadata": {
    "collapsed": false,
    "pycharm": {
     "name": "#%%\n"
    }
   }
  },
  {
   "cell_type": "code",
   "execution_count": 179,
   "outputs": [
    {
     "name": "stdout",
     "output_type": "stream",
     "text": [
      "Epoch 1/50\n",
      "1754/1754 [==============================] - 3s 2ms/step - loss: 0.1456 - accuracy: 0.9339\n",
      "Epoch 2/50\n",
      "1754/1754 [==============================] - 3s 1ms/step - loss: 0.1308 - accuracy: 0.9367\n",
      "Epoch 3/50\n",
      "1754/1754 [==============================] - 3s 1ms/step - loss: 0.1280 - accuracy: 0.9374\n",
      "Epoch 4/50\n",
      "1754/1754 [==============================] - 3s 1ms/step - loss: 0.1262 - accuracy: 0.9382\n",
      "Epoch 5/50\n",
      "1754/1754 [==============================] - 3s 1ms/step - loss: 0.1258 - accuracy: 0.9383\n",
      "Epoch 6/50\n",
      "1754/1754 [==============================] - 3s 1ms/step - loss: 0.1246 - accuracy: 0.9390\n",
      "Epoch 7/50\n",
      "1754/1754 [==============================] - 3s 1ms/step - loss: 0.1239 - accuracy: 0.9384\n",
      "Epoch 8/50\n",
      "1754/1754 [==============================] - 3s 2ms/step - loss: 0.1232 - accuracy: 0.9386\n",
      "Epoch 9/50\n",
      "1754/1754 [==============================] - 3s 2ms/step - loss: 0.1228 - accuracy: 0.9389\n",
      "Epoch 10/50\n",
      "1754/1754 [==============================] - 3s 2ms/step - loss: 0.1223 - accuracy: 0.9393\n",
      "Epoch 11/50\n",
      "1754/1754 [==============================] - 3s 1ms/step - loss: 0.1221 - accuracy: 0.9395\n",
      "Epoch 12/50\n",
      "1754/1754 [==============================] - 3s 1ms/step - loss: 0.1217 - accuracy: 0.9394\n",
      "Epoch 13/50\n",
      "1754/1754 [==============================] - 3s 2ms/step - loss: 0.1213 - accuracy: 0.9397\n",
      "Epoch 14/50\n",
      "1754/1754 [==============================] - 3s 1ms/step - loss: 0.1213 - accuracy: 0.9393\n",
      "Epoch 15/50\n",
      "1754/1754 [==============================] - 3s 1ms/step - loss: 0.1206 - accuracy: 0.9396\n",
      "Epoch 16/50\n",
      "1754/1754 [==============================] - 3s 1ms/step - loss: 0.1202 - accuracy: 0.9394\n",
      "Epoch 17/50\n",
      "1754/1754 [==============================] - 3s 1ms/step - loss: 0.1205 - accuracy: 0.9399\n",
      "Epoch 18/50\n",
      "1754/1754 [==============================] - 3s 1ms/step - loss: 0.1197 - accuracy: 0.9398\n",
      "Epoch 19/50\n",
      "1754/1754 [==============================] - 3s 1ms/step - loss: 0.1195 - accuracy: 0.9403\n",
      "Epoch 20/50\n",
      "1754/1754 [==============================] - 3s 1ms/step - loss: 0.1197 - accuracy: 0.9400\n",
      "Epoch 21/50\n",
      "1754/1754 [==============================] - 3s 1ms/step - loss: 0.1191 - accuracy: 0.9407\n",
      "Epoch 22/50\n",
      "1754/1754 [==============================] - 3s 1ms/step - loss: 0.1190 - accuracy: 0.9403\n",
      "Epoch 23/50\n",
      "1754/1754 [==============================] - 3s 1ms/step - loss: 0.1188 - accuracy: 0.9413\n",
      "Epoch 24/50\n",
      "1754/1754 [==============================] - 3s 1ms/step - loss: 0.1185 - accuracy: 0.9403\n",
      "Epoch 25/50\n",
      "1754/1754 [==============================] - 3s 1ms/step - loss: 0.1185 - accuracy: 0.9402\n",
      "Epoch 26/50\n",
      "1754/1754 [==============================] - 3s 1ms/step - loss: 0.1182 - accuracy: 0.9410\n",
      "Epoch 27/50\n",
      "1754/1754 [==============================] - 3s 1ms/step - loss: 0.1181 - accuracy: 0.9406\n",
      "Epoch 28/50\n",
      "1754/1754 [==============================] - 3s 1ms/step - loss: 0.1178 - accuracy: 0.9406\n",
      "Epoch 29/50\n",
      "1754/1754 [==============================] - 3s 1ms/step - loss: 0.1174 - accuracy: 0.9411\n",
      "Epoch 30/50\n",
      "1754/1754 [==============================] - 3s 1ms/step - loss: 0.1174 - accuracy: 0.9416\n",
      "Epoch 31/50\n",
      "1754/1754 [==============================] - 3s 1ms/step - loss: 0.1173 - accuracy: 0.9416\n",
      "Epoch 32/50\n",
      "1754/1754 [==============================] - 3s 1ms/step - loss: 0.1172 - accuracy: 0.9415\n",
      "Epoch 33/50\n",
      "1754/1754 [==============================] - 3s 1ms/step - loss: 0.1168 - accuracy: 0.9421\n",
      "Epoch 34/50\n",
      "1754/1754 [==============================] - 3s 1ms/step - loss: 0.1166 - accuracy: 0.9416\n",
      "Epoch 35/50\n",
      "1754/1754 [==============================] - 3s 1ms/step - loss: 0.1166 - accuracy: 0.9419\n",
      "Epoch 36/50\n",
      "1754/1754 [==============================] - 3s 2ms/step - loss: 0.1164 - accuracy: 0.9421\n",
      "Epoch 37/50\n",
      "1754/1754 [==============================] - 3s 1ms/step - loss: 0.1162 - accuracy: 0.9423\n",
      "Epoch 38/50\n",
      "1754/1754 [==============================] - 3s 1ms/step - loss: 0.1159 - accuracy: 0.9416\n",
      "Epoch 39/50\n",
      "1754/1754 [==============================] - 3s 1ms/step - loss: 0.1158 - accuracy: 0.9422\n",
      "Epoch 40/50\n",
      "1754/1754 [==============================] - 3s 2ms/step - loss: 0.1158 - accuracy: 0.9422\n",
      "Epoch 41/50\n",
      "1754/1754 [==============================] - 3s 1ms/step - loss: 0.1158 - accuracy: 0.9421\n",
      "Epoch 42/50\n",
      "1754/1754 [==============================] - 3s 2ms/step - loss: 0.1154 - accuracy: 0.9422\n",
      "Epoch 43/50\n",
      "1754/1754 [==============================] - 3s 1ms/step - loss: 0.1158 - accuracy: 0.9425\n",
      "Epoch 44/50\n",
      "1754/1754 [==============================] - 3s 1ms/step - loss: 0.1153 - accuracy: 0.9421\n",
      "Epoch 45/50\n",
      "1754/1754 [==============================] - 3s 1ms/step - loss: 0.1151 - accuracy: 0.9419\n",
      "Epoch 46/50\n",
      "1754/1754 [==============================] - 3s 1ms/step - loss: 0.1153 - accuracy: 0.9422\n",
      "Epoch 47/50\n",
      "1754/1754 [==============================] - 3s 1ms/step - loss: 0.1150 - accuracy: 0.9426\n",
      "Epoch 48/50\n",
      "1754/1754 [==============================] - 3s 1ms/step - loss: 0.1148 - accuracy: 0.9425\n",
      "Epoch 49/50\n",
      "1754/1754 [==============================] - 3s 1ms/step - loss: 0.1146 - accuracy: 0.9425\n",
      "Epoch 50/50\n",
      "1754/1754 [==============================] - 3s 1ms/step - loss: 0.1147 - accuracy: 0.9424\n"
     ]
    },
    {
     "data": {
      "text/plain": "<tensorflow.python.keras.callbacks.History at 0x27676f3b370>"
     },
     "execution_count": 179,
     "metadata": {},
     "output_type": "execute_result"
    }
   ],
   "source": [
    "#now we have the datasets ready for the binary classification\n",
    "#we have to make them for multiclass later\n",
    "#let's try a neural network now\n",
    "from tensorflow.python.keras.layers import Activation\n",
    "from keras.optimizers import SGD\n",
    "from keras.models import Sequential\n",
    "from keras.layers import Dense\n",
    "from keras.layers.advanced_activations import PReLU\n",
    "act = PReLU(alpha_initializer='zeros', weights=None)\n",
    "model = Sequential()\n",
    "# define the NN architecture and activation function\n",
    "\n",
    "model.add(Dense(248, input_dim=196))\n",
    "model.add(Activation(act))\n",
    "model.add(Dense(124))\n",
    "model.add(Activation('relu'))\n",
    "model.add(Dense(64))\n",
    "model.add(Activation('relu'))\n",
    "model.add(Dense(32))\n",
    "model.add(Activation('relu'))\n",
    "model.add(Dense(1))\n",
    "model.add(Activation('sigmoid'))\n",
    "\n",
    "sgd =SGD(lr=0.1, decay=1e-6, momentum=0.9, nesterov=True)\n",
    "model.compile(loss='binary_crossentropy', optimizer=sgd, metrics= ['accuracy'])\n",
    "model.fit(train_X_bin, train_Y, epochs=50, batch_size=100)"
   ],
   "metadata": {
    "collapsed": false,
    "pycharm": {
     "name": "#%%\n"
    }
   }
  },
  {
   "cell_type": "code",
   "execution_count": 180,
   "outputs": [
    {
     "name": "stdout",
     "output_type": "stream",
     "text": [
      "accuracy: 94.44%\n"
     ]
    }
   ],
   "source": [
    "#training accuracy\n",
    "train_acc = model.evaluate(train_X_bin, train_Y, verbose=0)\n",
    "print(\"%s: %.2f%%\" % (model.metrics_names[1], train_acc[1]*100))"
   ],
   "metadata": {
    "collapsed": false,
    "pycharm": {
     "name": "#%%\n"
    }
   }
  },
  {
   "cell_type": "code",
   "execution_count": 181,
   "outputs": [
    {
     "name": "stdout",
     "output_type": "stream",
     "text": [
      "accuracy: 75.72%\n"
     ]
    }
   ],
   "source": [
    "#calculate the test accuracy using evaluate function\n",
    "test_acc = model.evaluate(test_X_bin, test_Y, verbose=0)\n",
    "print(\"%s: %.2f%%\" % (model.metrics_names[1], test_acc[1]*100))"
   ],
   "metadata": {
    "collapsed": false,
    "pycharm": {
     "name": "#%%\n"
    }
   }
  },
  {
   "cell_type": "code",
   "execution_count": 182,
   "outputs": [
    {
     "name": "stdout",
     "output_type": "stream",
     "text": [
      "WARNING:tensorflow:From C:\\Users\\Jovana\\AppData\\Local\\Temp/ipykernel_6648/3769363601.py:4: Sequential.predict_classes (from tensorflow.python.keras.engine.sequential) is deprecated and will be removed after 2021-01-01.\n",
      "Instructions for updating:\n",
      "Please use instead:* `np.argmax(model.predict(x), axis=-1)`,   if your model does multi-class classification   (e.g. if it uses a `softmax` last-layer activation).* `(model.predict(x) > 0.5).astype(\"int32\")`,   if your model does binary classification   (e.g. if it uses a `sigmoid` last-layer activation).\n"
     ]
    },
    {
     "data": {
      "text/plain": "0.7571539620074819"
     },
     "execution_count": 182,
     "metadata": {},
     "output_type": "execute_result"
    }
   ],
   "source": [
    "from sklearn.metrics import accuracy_score\n",
    "\n",
    "# or find the prediction accuracy using predict_classes (same as test accuracy)\n",
    "y_pred = model.predict_classes(test_X_bin)\n",
    "pred_accuracy = accuracy_score(test_Y, y_pred)\n",
    "pred_accuracy"
   ],
   "metadata": {
    "collapsed": false,
    "pycharm": {
     "name": "#%%\n"
    }
   }
  },
  {
   "cell_type": "code",
   "execution_count": 183,
   "outputs": [
    {
     "name": "stdout",
     "output_type": "stream",
     "text": [
      "Precision : 0.695449\n"
     ]
    }
   ],
   "source": [
    "from sklearn.metrics import precision_score, recall_score, f1_score, roc_auc_score\n",
    "# Precision\n",
    "precision = precision_score(test_Y, y_pred)\n",
    "print('Precision : %f'% precision)"
   ],
   "metadata": {
    "collapsed": false,
    "pycharm": {
     "name": "#%%\n"
    }
   }
  },
  {
   "cell_type": "code",
   "execution_count": 184,
   "outputs": [
    {
     "name": "stdout",
     "output_type": "stream",
     "text": [
      "Recall: 0.994419\n"
     ]
    }
   ],
   "source": [
    "# Recall\n",
    "recall = recall_score(test_Y, y_pred)\n",
    "print('Recall: %f' % recall)"
   ],
   "metadata": {
    "collapsed": false,
    "pycharm": {
     "name": "#%%\n"
    }
   }
  },
  {
   "cell_type": "code",
   "execution_count": 185,
   "outputs": [
    {
     "name": "stdout",
     "output_type": "stream",
     "text": [
      "F1 score: 0.818487\n"
     ]
    }
   ],
   "source": [
    "# f1-score\n",
    "f1 = f1_score(test_Y, y_pred)\n",
    "print('F1 score: %f' % f1)"
   ],
   "metadata": {
    "collapsed": false,
    "pycharm": {
     "name": "#%%\n"
    }
   }
  },
  {
   "cell_type": "code",
   "execution_count": 186,
   "outputs": [
    {
     "name": "stdout",
     "output_type": "stream",
     "text": [
      "ROC_AUC Score: 0.730439\n"
     ]
    }
   ],
   "source": [
    "roc = roc_auc_score(test_Y, y_pred)\n",
    "print('ROC_AUC Score: %f' % roc)"
   ],
   "metadata": {
    "collapsed": false,
    "pycharm": {
     "name": "#%%\n"
    }
   }
  },
  {
   "cell_type": "code",
   "execution_count": 187,
   "outputs": [
    {
     "name": "stdout",
     "output_type": "stream",
     "text": [
      "[[17259 19741]\n",
      " [  253 45079]]\n"
     ]
    }
   ],
   "source": [
    "from sklearn.metrics import confusion_matrix\n",
    "\n",
    "# confusion matrix\n",
    "confusionmatrix = confusion_matrix(test_Y, y_pred)\n",
    "print(confusionmatrix)"
   ],
   "metadata": {
    "collapsed": false,
    "pycharm": {
     "name": "#%%\n"
    }
   }
  },
  {
   "cell_type": "code",
   "execution_count": null,
   "outputs": [],
   "source": [],
   "metadata": {
    "collapsed": false,
    "pycharm": {
     "name": "#%%\n"
    }
   }
  }
 ],
 "metadata": {
  "kernelspec": {
   "display_name": "Python 3",
   "language": "python",
   "name": "python3"
  },
  "language_info": {
   "codemirror_mode": {
    "name": "ipython",
    "version": 2
   },
   "file_extension": ".py",
   "mimetype": "text/x-python",
   "name": "python",
   "nbconvert_exporter": "python",
   "pygments_lexer": "ipython2",
   "version": "2.7.6"
  }
 },
 "nbformat": 4,
 "nbformat_minor": 0
}