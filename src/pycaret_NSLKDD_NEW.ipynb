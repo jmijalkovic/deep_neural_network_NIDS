{
 "cells": [
  {
   "cell_type": "code",
   "execution_count": 1,
   "metadata": {
    "collapsed": true
   },
   "outputs": [],
   "source": [
    "from pycaret.classification import *\n",
    "import numpy as np\n",
    "import pandas as pd\n",
    "import tensorflow as tf\n",
    "\n",
    "column_names = [\"duration\", \"protocol_type\", \"service\", \"flag\", \"src_bytes\", \"dst_bytes\", \"land\",\n",
    "                \"wrong_fragment\", \"urgent\", \"hot\", \"num_failed_logins\", \"logged_in\", \"num_compromised\",\n",
    "                \"root_shell\", \"su_attempted\", \"num_root\", \"num_file_creations\", \"num_shells\", \"num_access_files\",\n",
    "                \"num_outbound_cmds\", \"is_host_login\", \"is_guest_login\", \"count\", \"srv_count\", \"serror_rate\",\n",
    "                \"srv_serror_rate\", \"rerror_rate\", \"srv_rerror_rate\", \"same_srv_rate\", \"diff_srv_rate\",\n",
    "                \"srv_diff_host_rate\", \"dst_host_count\", \"dst_host_srv_count\", \"dst_host_same_srv_rate\",\n",
    "                \"dst_host_diff_srv_rate\", \"dst_host_same_src_port_rate\", \"dst_host_srv_diff_host_rate\",\n",
    "                \"dst_host_serror_rate\", \"dst_host_srv_serror_rate\", \"dst_host_rerror_rate\",\n",
    "                \"dst_host_srv_rerror_rate\", \"label\", \"difficulty_level\"]\n",
    "path = 'C:\\\\Users\\\\Jovana\\\\PycharmProjects\\\\neural_network_DNN\\\\include\\\\KDDTrain+.txt'\n",
    "path2= 'C:\\\\Users\\\\Jovana\\\\PycharmProjects\\\\neural_network_DNN\\\\include\\\\KDDTest+.txt'\n",
    "\n",
    "ds_train=pd.read_csv(path,header=None, names = column_names)\n",
    "ds_test=pd.read_csv(path2, header=None, names = column_names)"
   ]
  },
  {
   "cell_type": "code",
   "execution_count": 2,
   "outputs": [],
   "source": [
    "ds=pd.concat([ds_train,ds_test], axis=0)"
   ],
   "metadata": {
    "collapsed": false,
    "pycharm": {
     "name": "#%%\n"
    }
   }
  },
  {
   "cell_type": "code",
   "execution_count": 3,
   "outputs": [
    {
     "data": {
      "text/plain": "   duration protocol_type   service flag  src_bytes  dst_bytes  land  \\\n0         0           tcp  ftp_data   SF        491          0     0   \n1         0           udp     other   SF        146          0     0   \n2         0           tcp   private   S0          0          0     0   \n3         0           tcp      http   SF        232       8153     0   \n4         0           tcp      http   SF        199        420     0   \n\n   wrong_fragment  urgent  hot  num_failed_logins  logged_in  num_compromised  \\\n0               0       0    0                  0          0                0   \n1               0       0    0                  0          0                0   \n2               0       0    0                  0          0                0   \n3               0       0    0                  0          1                0   \n4               0       0    0                  0          1                0   \n\n   root_shell  su_attempted  num_root  num_file_creations  num_shells  \\\n0           0             0         0                   0           0   \n1           0             0         0                   0           0   \n2           0             0         0                   0           0   \n3           0             0         0                   0           0   \n4           0             0         0                   0           0   \n\n   num_access_files  num_outbound_cmds  is_host_login  is_guest_login  count  \\\n0                 0                  0              0               0      2   \n1                 0                  0              0               0     13   \n2                 0                  0              0               0    123   \n3                 0                  0              0               0      5   \n4                 0                  0              0               0     30   \n\n   srv_count  serror_rate  srv_serror_rate  rerror_rate  srv_rerror_rate  \\\n0          2          0.0              0.0          0.0              0.0   \n1          1          0.0              0.0          0.0              0.0   \n2          6          1.0              1.0          0.0              0.0   \n3          5          0.2              0.2          0.0              0.0   \n4         32          0.0              0.0          0.0              0.0   \n\n   same_srv_rate  diff_srv_rate  srv_diff_host_rate  dst_host_count  \\\n0           1.00           0.00                0.00             150   \n1           0.08           0.15                0.00             255   \n2           0.05           0.07                0.00             255   \n3           1.00           0.00                0.00              30   \n4           1.00           0.00                0.09             255   \n\n   dst_host_srv_count  dst_host_same_srv_rate  dst_host_diff_srv_rate  \\\n0                  25                    0.17                    0.03   \n1                   1                    0.00                    0.60   \n2                  26                    0.10                    0.05   \n3                 255                    1.00                    0.00   \n4                 255                    1.00                    0.00   \n\n   dst_host_same_src_port_rate  dst_host_srv_diff_host_rate  \\\n0                         0.17                         0.00   \n1                         0.88                         0.00   \n2                         0.00                         0.00   \n3                         0.03                         0.04   \n4                         0.00                         0.00   \n\n   dst_host_serror_rate  dst_host_srv_serror_rate  dst_host_rerror_rate  \\\n0                  0.00                      0.00                  0.05   \n1                  0.00                      0.00                  0.00   \n2                  1.00                      1.00                  0.00   \n3                  0.03                      0.01                  0.00   \n4                  0.00                      0.00                  0.00   \n\n   dst_host_srv_rerror_rate    label  difficulty_level  \n0                      0.00   normal                20  \n1                      0.00   normal                15  \n2                      0.00  neptune                19  \n3                      0.01   normal                21  \n4                      0.00   normal                21  ",
      "text/html": "<div>\n<style scoped>\n    .dataframe tbody tr th:only-of-type {\n        vertical-align: middle;\n    }\n\n    .dataframe tbody tr th {\n        vertical-align: top;\n    }\n\n    .dataframe thead th {\n        text-align: right;\n    }\n</style>\n<table border=\"1\" class=\"dataframe\">\n  <thead>\n    <tr style=\"text-align: right;\">\n      <th></th>\n      <th>duration</th>\n      <th>protocol_type</th>\n      <th>service</th>\n      <th>flag</th>\n      <th>src_bytes</th>\n      <th>dst_bytes</th>\n      <th>land</th>\n      <th>wrong_fragment</th>\n      <th>urgent</th>\n      <th>hot</th>\n      <th>num_failed_logins</th>\n      <th>logged_in</th>\n      <th>num_compromised</th>\n      <th>root_shell</th>\n      <th>su_attempted</th>\n      <th>num_root</th>\n      <th>num_file_creations</th>\n      <th>num_shells</th>\n      <th>num_access_files</th>\n      <th>num_outbound_cmds</th>\n      <th>is_host_login</th>\n      <th>is_guest_login</th>\n      <th>count</th>\n      <th>srv_count</th>\n      <th>serror_rate</th>\n      <th>srv_serror_rate</th>\n      <th>rerror_rate</th>\n      <th>srv_rerror_rate</th>\n      <th>same_srv_rate</th>\n      <th>diff_srv_rate</th>\n      <th>srv_diff_host_rate</th>\n      <th>dst_host_count</th>\n      <th>dst_host_srv_count</th>\n      <th>dst_host_same_srv_rate</th>\n      <th>dst_host_diff_srv_rate</th>\n      <th>dst_host_same_src_port_rate</th>\n      <th>dst_host_srv_diff_host_rate</th>\n      <th>dst_host_serror_rate</th>\n      <th>dst_host_srv_serror_rate</th>\n      <th>dst_host_rerror_rate</th>\n      <th>dst_host_srv_rerror_rate</th>\n      <th>label</th>\n      <th>difficulty_level</th>\n    </tr>\n  </thead>\n  <tbody>\n    <tr>\n      <th>0</th>\n      <td>0</td>\n      <td>tcp</td>\n      <td>ftp_data</td>\n      <td>SF</td>\n      <td>491</td>\n      <td>0</td>\n      <td>0</td>\n      <td>0</td>\n      <td>0</td>\n      <td>0</td>\n      <td>0</td>\n      <td>0</td>\n      <td>0</td>\n      <td>0</td>\n      <td>0</td>\n      <td>0</td>\n      <td>0</td>\n      <td>0</td>\n      <td>0</td>\n      <td>0</td>\n      <td>0</td>\n      <td>0</td>\n      <td>2</td>\n      <td>2</td>\n      <td>0.0</td>\n      <td>0.0</td>\n      <td>0.0</td>\n      <td>0.0</td>\n      <td>1.00</td>\n      <td>0.00</td>\n      <td>0.00</td>\n      <td>150</td>\n      <td>25</td>\n      <td>0.17</td>\n      <td>0.03</td>\n      <td>0.17</td>\n      <td>0.00</td>\n      <td>0.00</td>\n      <td>0.00</td>\n      <td>0.05</td>\n      <td>0.00</td>\n      <td>normal</td>\n      <td>20</td>\n    </tr>\n    <tr>\n      <th>1</th>\n      <td>0</td>\n      <td>udp</td>\n      <td>other</td>\n      <td>SF</td>\n      <td>146</td>\n      <td>0</td>\n      <td>0</td>\n      <td>0</td>\n      <td>0</td>\n      <td>0</td>\n      <td>0</td>\n      <td>0</td>\n      <td>0</td>\n      <td>0</td>\n      <td>0</td>\n      <td>0</td>\n      <td>0</td>\n      <td>0</td>\n      <td>0</td>\n      <td>0</td>\n      <td>0</td>\n      <td>0</td>\n      <td>13</td>\n      <td>1</td>\n      <td>0.0</td>\n      <td>0.0</td>\n      <td>0.0</td>\n      <td>0.0</td>\n      <td>0.08</td>\n      <td>0.15</td>\n      <td>0.00</td>\n      <td>255</td>\n      <td>1</td>\n      <td>0.00</td>\n      <td>0.60</td>\n      <td>0.88</td>\n      <td>0.00</td>\n      <td>0.00</td>\n      <td>0.00</td>\n      <td>0.00</td>\n      <td>0.00</td>\n      <td>normal</td>\n      <td>15</td>\n    </tr>\n    <tr>\n      <th>2</th>\n      <td>0</td>\n      <td>tcp</td>\n      <td>private</td>\n      <td>S0</td>\n      <td>0</td>\n      <td>0</td>\n      <td>0</td>\n      <td>0</td>\n      <td>0</td>\n      <td>0</td>\n      <td>0</td>\n      <td>0</td>\n      <td>0</td>\n      <td>0</td>\n      <td>0</td>\n      <td>0</td>\n      <td>0</td>\n      <td>0</td>\n      <td>0</td>\n      <td>0</td>\n      <td>0</td>\n      <td>0</td>\n      <td>123</td>\n      <td>6</td>\n      <td>1.0</td>\n      <td>1.0</td>\n      <td>0.0</td>\n      <td>0.0</td>\n      <td>0.05</td>\n      <td>0.07</td>\n      <td>0.00</td>\n      <td>255</td>\n      <td>26</td>\n      <td>0.10</td>\n      <td>0.05</td>\n      <td>0.00</td>\n      <td>0.00</td>\n      <td>1.00</td>\n      <td>1.00</td>\n      <td>0.00</td>\n      <td>0.00</td>\n      <td>neptune</td>\n      <td>19</td>\n    </tr>\n    <tr>\n      <th>3</th>\n      <td>0</td>\n      <td>tcp</td>\n      <td>http</td>\n      <td>SF</td>\n      <td>232</td>\n      <td>8153</td>\n      <td>0</td>\n      <td>0</td>\n      <td>0</td>\n      <td>0</td>\n      <td>0</td>\n      <td>1</td>\n      <td>0</td>\n      <td>0</td>\n      <td>0</td>\n      <td>0</td>\n      <td>0</td>\n      <td>0</td>\n      <td>0</td>\n      <td>0</td>\n      <td>0</td>\n      <td>0</td>\n      <td>5</td>\n      <td>5</td>\n      <td>0.2</td>\n      <td>0.2</td>\n      <td>0.0</td>\n      <td>0.0</td>\n      <td>1.00</td>\n      <td>0.00</td>\n      <td>0.00</td>\n      <td>30</td>\n      <td>255</td>\n      <td>1.00</td>\n      <td>0.00</td>\n      <td>0.03</td>\n      <td>0.04</td>\n      <td>0.03</td>\n      <td>0.01</td>\n      <td>0.00</td>\n      <td>0.01</td>\n      <td>normal</td>\n      <td>21</td>\n    </tr>\n    <tr>\n      <th>4</th>\n      <td>0</td>\n      <td>tcp</td>\n      <td>http</td>\n      <td>SF</td>\n      <td>199</td>\n      <td>420</td>\n      <td>0</td>\n      <td>0</td>\n      <td>0</td>\n      <td>0</td>\n      <td>0</td>\n      <td>1</td>\n      <td>0</td>\n      <td>0</td>\n      <td>0</td>\n      <td>0</td>\n      <td>0</td>\n      <td>0</td>\n      <td>0</td>\n      <td>0</td>\n      <td>0</td>\n      <td>0</td>\n      <td>30</td>\n      <td>32</td>\n      <td>0.0</td>\n      <td>0.0</td>\n      <td>0.0</td>\n      <td>0.0</td>\n      <td>1.00</td>\n      <td>0.00</td>\n      <td>0.09</td>\n      <td>255</td>\n      <td>255</td>\n      <td>1.00</td>\n      <td>0.00</td>\n      <td>0.00</td>\n      <td>0.00</td>\n      <td>0.00</td>\n      <td>0.00</td>\n      <td>0.00</td>\n      <td>0.00</td>\n      <td>normal</td>\n      <td>21</td>\n    </tr>\n  </tbody>\n</table>\n</div>"
     },
     "execution_count": 3,
     "metadata": {},
     "output_type": "execute_result"
    }
   ],
   "source": [
    "ds.head()"
   ],
   "metadata": {
    "collapsed": false,
    "pycharm": {
     "name": "#%%\n"
    }
   }
  },
  {
   "cell_type": "code",
   "execution_count": 4,
   "outputs": [
    {
     "data": {
      "text/plain": "       duration protocol_type   service flag  src_bytes  dst_bytes  land  \\\n0             0           tcp  ftp_data   SF        491          0     0   \n1             0           udp     other   SF        146          0     0   \n2             0           tcp   private   S0          0          0     0   \n3             0           tcp      http   SF        232       8153     0   \n4             0           tcp      http   SF        199        420     0   \n...         ...           ...       ...  ...        ...        ...   ...   \n22539         0           tcp      smtp   SF        794        333     0   \n22540         0           tcp      http   SF        317        938     0   \n22541         0           tcp      http   SF      54540       8314     0   \n22542         0           udp  domain_u   SF         42         42     0   \n22543         0           tcp    sunrpc  REJ          0          0     0   \n\n       wrong_fragment  urgent  hot  num_failed_logins  logged_in  \\\n0                   0       0    0                  0          0   \n1                   0       0    0                  0          0   \n2                   0       0    0                  0          0   \n3                   0       0    0                  0          1   \n4                   0       0    0                  0          1   \n...               ...     ...  ...                ...        ...   \n22539               0       0    0                  0          1   \n22540               0       0    0                  0          1   \n22541               0       0    2                  0          1   \n22542               0       0    0                  0          0   \n22543               0       0    0                  0          0   \n\n       num_compromised  root_shell  su_attempted  num_root  \\\n0                    0           0             0         0   \n1                    0           0             0         0   \n2                    0           0             0         0   \n3                    0           0             0         0   \n4                    0           0             0         0   \n...                ...         ...           ...       ...   \n22539                0           0             0         0   \n22540                0           0             0         0   \n22541                1           0             0         0   \n22542                0           0             0         0   \n22543                0           0             0         0   \n\n       num_file_creations  num_shells  num_access_files  num_outbound_cmds  \\\n0                       0           0                 0                  0   \n1                       0           0                 0                  0   \n2                       0           0                 0                  0   \n3                       0           0                 0                  0   \n4                       0           0                 0                  0   \n...                   ...         ...               ...                ...   \n22539                   0           0                 0                  0   \n22540                   0           0                 0                  0   \n22541                   0           0                 0                  0   \n22542                   0           0                 0                  0   \n22543                   0           0                 0                  0   \n\n       is_host_login  is_guest_login  count  srv_count  serror_rate  \\\n0                  0               0      2          2          0.0   \n1                  0               0     13          1          0.0   \n2                  0               0    123          6          1.0   \n3                  0               0      5          5          0.2   \n4                  0               0     30         32          0.0   \n...              ...             ...    ...        ...          ...   \n22539              0               0      1          1          0.0   \n22540              0               0      2         11          0.0   \n22541              0               0      5         10          0.0   \n22542              0               0      4          6          0.0   \n22543              0               0      4         10          0.0   \n\n       srv_serror_rate  rerror_rate  srv_rerror_rate  same_srv_rate  \\\n0                  0.0          0.0              0.0           1.00   \n1                  0.0          0.0              0.0           0.08   \n2                  1.0          0.0              0.0           0.05   \n3                  0.2          0.0              0.0           1.00   \n4                  0.0          0.0              0.0           1.00   \n...                ...          ...              ...            ...   \n22539              0.0          0.0              0.0           1.00   \n22540              0.0          0.0              0.0           1.00   \n22541              0.0          0.0              0.0           1.00   \n22542              0.0          0.0              0.0           1.00   \n22543              0.0          1.0              1.0           0.25   \n\n       diff_srv_rate  srv_diff_host_rate  dst_host_count  dst_host_srv_count  \\\n0               0.00                0.00             150                  25   \n1               0.15                0.00             255                   1   \n2               0.07                0.00             255                  26   \n3               0.00                0.00              30                 255   \n4               0.00                0.09             255                 255   \n...              ...                 ...             ...                 ...   \n22539           0.00                0.00             100                 141   \n22540           0.00                0.18             197                 255   \n22541           0.00                0.20             255                 255   \n22542           0.00                0.33             255                 252   \n22543           1.00                1.00             255                  21   \n\n       dst_host_same_srv_rate  dst_host_diff_srv_rate  \\\n0                        0.17                    0.03   \n1                        0.00                    0.60   \n2                        0.10                    0.05   \n3                        1.00                    0.00   \n4                        1.00                    0.00   \n...                       ...                     ...   \n22539                    0.72                    0.06   \n22540                    1.00                    0.00   \n22541                    1.00                    0.00   \n22542                    0.99                    0.01   \n22543                    0.08                    0.03   \n\n       dst_host_same_src_port_rate  dst_host_srv_diff_host_rate  \\\n0                             0.17                         0.00   \n1                             0.88                         0.00   \n2                             0.00                         0.00   \n3                             0.03                         0.04   \n4                             0.00                         0.00   \n...                            ...                          ...   \n22539                         0.01                         0.01   \n22540                         0.01                         0.01   \n22541                         0.00                         0.00   \n22542                         0.00                         0.00   \n22543                         0.00                         0.00   \n\n       dst_host_serror_rate  dst_host_srv_serror_rate  dst_host_rerror_rate  \\\n0                      0.00                      0.00                  0.05   \n1                      0.00                      0.00                  0.00   \n2                      1.00                      1.00                  0.00   \n3                      0.03                      0.01                  0.00   \n4                      0.00                      0.00                  0.00   \n...                     ...                       ...                   ...   \n22539                  0.01                      0.00                  0.00   \n22540                  0.01                      0.00                  0.00   \n22541                  0.00                      0.00                  0.07   \n22542                  0.00                      0.00                  0.00   \n22543                  0.00                      0.00                  0.44   \n\n       dst_host_srv_rerror_rate   label  \n0                          0.00  normal  \n1                          0.00  normal  \n2                          0.00  attack  \n3                          0.01  normal  \n4                          0.00  normal  \n...                         ...     ...  \n22539                      0.00  normal  \n22540                      0.00  normal  \n22541                      0.07  attack  \n22542                      0.00  normal  \n22543                      1.00  attack  \n\n[148517 rows x 42 columns]",
      "text/html": "<div>\n<style scoped>\n    .dataframe tbody tr th:only-of-type {\n        vertical-align: middle;\n    }\n\n    .dataframe tbody tr th {\n        vertical-align: top;\n    }\n\n    .dataframe thead th {\n        text-align: right;\n    }\n</style>\n<table border=\"1\" class=\"dataframe\">\n  <thead>\n    <tr style=\"text-align: right;\">\n      <th></th>\n      <th>duration</th>\n      <th>protocol_type</th>\n      <th>service</th>\n      <th>flag</th>\n      <th>src_bytes</th>\n      <th>dst_bytes</th>\n      <th>land</th>\n      <th>wrong_fragment</th>\n      <th>urgent</th>\n      <th>hot</th>\n      <th>num_failed_logins</th>\n      <th>logged_in</th>\n      <th>num_compromised</th>\n      <th>root_shell</th>\n      <th>su_attempted</th>\n      <th>num_root</th>\n      <th>num_file_creations</th>\n      <th>num_shells</th>\n      <th>num_access_files</th>\n      <th>num_outbound_cmds</th>\n      <th>is_host_login</th>\n      <th>is_guest_login</th>\n      <th>count</th>\n      <th>srv_count</th>\n      <th>serror_rate</th>\n      <th>srv_serror_rate</th>\n      <th>rerror_rate</th>\n      <th>srv_rerror_rate</th>\n      <th>same_srv_rate</th>\n      <th>diff_srv_rate</th>\n      <th>srv_diff_host_rate</th>\n      <th>dst_host_count</th>\n      <th>dst_host_srv_count</th>\n      <th>dst_host_same_srv_rate</th>\n      <th>dst_host_diff_srv_rate</th>\n      <th>dst_host_same_src_port_rate</th>\n      <th>dst_host_srv_diff_host_rate</th>\n      <th>dst_host_serror_rate</th>\n      <th>dst_host_srv_serror_rate</th>\n      <th>dst_host_rerror_rate</th>\n      <th>dst_host_srv_rerror_rate</th>\n      <th>label</th>\n    </tr>\n  </thead>\n  <tbody>\n    <tr>\n      <th>0</th>\n      <td>0</td>\n      <td>tcp</td>\n      <td>ftp_data</td>\n      <td>SF</td>\n      <td>491</td>\n      <td>0</td>\n      <td>0</td>\n      <td>0</td>\n      <td>0</td>\n      <td>0</td>\n      <td>0</td>\n      <td>0</td>\n      <td>0</td>\n      <td>0</td>\n      <td>0</td>\n      <td>0</td>\n      <td>0</td>\n      <td>0</td>\n      <td>0</td>\n      <td>0</td>\n      <td>0</td>\n      <td>0</td>\n      <td>2</td>\n      <td>2</td>\n      <td>0.0</td>\n      <td>0.0</td>\n      <td>0.0</td>\n      <td>0.0</td>\n      <td>1.00</td>\n      <td>0.00</td>\n      <td>0.00</td>\n      <td>150</td>\n      <td>25</td>\n      <td>0.17</td>\n      <td>0.03</td>\n      <td>0.17</td>\n      <td>0.00</td>\n      <td>0.00</td>\n      <td>0.00</td>\n      <td>0.05</td>\n      <td>0.00</td>\n      <td>normal</td>\n    </tr>\n    <tr>\n      <th>1</th>\n      <td>0</td>\n      <td>udp</td>\n      <td>other</td>\n      <td>SF</td>\n      <td>146</td>\n      <td>0</td>\n      <td>0</td>\n      <td>0</td>\n      <td>0</td>\n      <td>0</td>\n      <td>0</td>\n      <td>0</td>\n      <td>0</td>\n      <td>0</td>\n      <td>0</td>\n      <td>0</td>\n      <td>0</td>\n      <td>0</td>\n      <td>0</td>\n      <td>0</td>\n      <td>0</td>\n      <td>0</td>\n      <td>13</td>\n      <td>1</td>\n      <td>0.0</td>\n      <td>0.0</td>\n      <td>0.0</td>\n      <td>0.0</td>\n      <td>0.08</td>\n      <td>0.15</td>\n      <td>0.00</td>\n      <td>255</td>\n      <td>1</td>\n      <td>0.00</td>\n      <td>0.60</td>\n      <td>0.88</td>\n      <td>0.00</td>\n      <td>0.00</td>\n      <td>0.00</td>\n      <td>0.00</td>\n      <td>0.00</td>\n      <td>normal</td>\n    </tr>\n    <tr>\n      <th>2</th>\n      <td>0</td>\n      <td>tcp</td>\n      <td>private</td>\n      <td>S0</td>\n      <td>0</td>\n      <td>0</td>\n      <td>0</td>\n      <td>0</td>\n      <td>0</td>\n      <td>0</td>\n      <td>0</td>\n      <td>0</td>\n      <td>0</td>\n      <td>0</td>\n      <td>0</td>\n      <td>0</td>\n      <td>0</td>\n      <td>0</td>\n      <td>0</td>\n      <td>0</td>\n      <td>0</td>\n      <td>0</td>\n      <td>123</td>\n      <td>6</td>\n      <td>1.0</td>\n      <td>1.0</td>\n      <td>0.0</td>\n      <td>0.0</td>\n      <td>0.05</td>\n      <td>0.07</td>\n      <td>0.00</td>\n      <td>255</td>\n      <td>26</td>\n      <td>0.10</td>\n      <td>0.05</td>\n      <td>0.00</td>\n      <td>0.00</td>\n      <td>1.00</td>\n      <td>1.00</td>\n      <td>0.00</td>\n      <td>0.00</td>\n      <td>attack</td>\n    </tr>\n    <tr>\n      <th>3</th>\n      <td>0</td>\n      <td>tcp</td>\n      <td>http</td>\n      <td>SF</td>\n      <td>232</td>\n      <td>8153</td>\n      <td>0</td>\n      <td>0</td>\n      <td>0</td>\n      <td>0</td>\n      <td>0</td>\n      <td>1</td>\n      <td>0</td>\n      <td>0</td>\n      <td>0</td>\n      <td>0</td>\n      <td>0</td>\n      <td>0</td>\n      <td>0</td>\n      <td>0</td>\n      <td>0</td>\n      <td>0</td>\n      <td>5</td>\n      <td>5</td>\n      <td>0.2</td>\n      <td>0.2</td>\n      <td>0.0</td>\n      <td>0.0</td>\n      <td>1.00</td>\n      <td>0.00</td>\n      <td>0.00</td>\n      <td>30</td>\n      <td>255</td>\n      <td>1.00</td>\n      <td>0.00</td>\n      <td>0.03</td>\n      <td>0.04</td>\n      <td>0.03</td>\n      <td>0.01</td>\n      <td>0.00</td>\n      <td>0.01</td>\n      <td>normal</td>\n    </tr>\n    <tr>\n      <th>4</th>\n      <td>0</td>\n      <td>tcp</td>\n      <td>http</td>\n      <td>SF</td>\n      <td>199</td>\n      <td>420</td>\n      <td>0</td>\n      <td>0</td>\n      <td>0</td>\n      <td>0</td>\n      <td>0</td>\n      <td>1</td>\n      <td>0</td>\n      <td>0</td>\n      <td>0</td>\n      <td>0</td>\n      <td>0</td>\n      <td>0</td>\n      <td>0</td>\n      <td>0</td>\n      <td>0</td>\n      <td>0</td>\n      <td>30</td>\n      <td>32</td>\n      <td>0.0</td>\n      <td>0.0</td>\n      <td>0.0</td>\n      <td>0.0</td>\n      <td>1.00</td>\n      <td>0.00</td>\n      <td>0.09</td>\n      <td>255</td>\n      <td>255</td>\n      <td>1.00</td>\n      <td>0.00</td>\n      <td>0.00</td>\n      <td>0.00</td>\n      <td>0.00</td>\n      <td>0.00</td>\n      <td>0.00</td>\n      <td>0.00</td>\n      <td>normal</td>\n    </tr>\n    <tr>\n      <th>...</th>\n      <td>...</td>\n      <td>...</td>\n      <td>...</td>\n      <td>...</td>\n      <td>...</td>\n      <td>...</td>\n      <td>...</td>\n      <td>...</td>\n      <td>...</td>\n      <td>...</td>\n      <td>...</td>\n      <td>...</td>\n      <td>...</td>\n      <td>...</td>\n      <td>...</td>\n      <td>...</td>\n      <td>...</td>\n      <td>...</td>\n      <td>...</td>\n      <td>...</td>\n      <td>...</td>\n      <td>...</td>\n      <td>...</td>\n      <td>...</td>\n      <td>...</td>\n      <td>...</td>\n      <td>...</td>\n      <td>...</td>\n      <td>...</td>\n      <td>...</td>\n      <td>...</td>\n      <td>...</td>\n      <td>...</td>\n      <td>...</td>\n      <td>...</td>\n      <td>...</td>\n      <td>...</td>\n      <td>...</td>\n      <td>...</td>\n      <td>...</td>\n      <td>...</td>\n      <td>...</td>\n    </tr>\n    <tr>\n      <th>22539</th>\n      <td>0</td>\n      <td>tcp</td>\n      <td>smtp</td>\n      <td>SF</td>\n      <td>794</td>\n      <td>333</td>\n      <td>0</td>\n      <td>0</td>\n      <td>0</td>\n      <td>0</td>\n      <td>0</td>\n      <td>1</td>\n      <td>0</td>\n      <td>0</td>\n      <td>0</td>\n      <td>0</td>\n      <td>0</td>\n      <td>0</td>\n      <td>0</td>\n      <td>0</td>\n      <td>0</td>\n      <td>0</td>\n      <td>1</td>\n      <td>1</td>\n      <td>0.0</td>\n      <td>0.0</td>\n      <td>0.0</td>\n      <td>0.0</td>\n      <td>1.00</td>\n      <td>0.00</td>\n      <td>0.00</td>\n      <td>100</td>\n      <td>141</td>\n      <td>0.72</td>\n      <td>0.06</td>\n      <td>0.01</td>\n      <td>0.01</td>\n      <td>0.01</td>\n      <td>0.00</td>\n      <td>0.00</td>\n      <td>0.00</td>\n      <td>normal</td>\n    </tr>\n    <tr>\n      <th>22540</th>\n      <td>0</td>\n      <td>tcp</td>\n      <td>http</td>\n      <td>SF</td>\n      <td>317</td>\n      <td>938</td>\n      <td>0</td>\n      <td>0</td>\n      <td>0</td>\n      <td>0</td>\n      <td>0</td>\n      <td>1</td>\n      <td>0</td>\n      <td>0</td>\n      <td>0</td>\n      <td>0</td>\n      <td>0</td>\n      <td>0</td>\n      <td>0</td>\n      <td>0</td>\n      <td>0</td>\n      <td>0</td>\n      <td>2</td>\n      <td>11</td>\n      <td>0.0</td>\n      <td>0.0</td>\n      <td>0.0</td>\n      <td>0.0</td>\n      <td>1.00</td>\n      <td>0.00</td>\n      <td>0.18</td>\n      <td>197</td>\n      <td>255</td>\n      <td>1.00</td>\n      <td>0.00</td>\n      <td>0.01</td>\n      <td>0.01</td>\n      <td>0.01</td>\n      <td>0.00</td>\n      <td>0.00</td>\n      <td>0.00</td>\n      <td>normal</td>\n    </tr>\n    <tr>\n      <th>22541</th>\n      <td>0</td>\n      <td>tcp</td>\n      <td>http</td>\n      <td>SF</td>\n      <td>54540</td>\n      <td>8314</td>\n      <td>0</td>\n      <td>0</td>\n      <td>0</td>\n      <td>2</td>\n      <td>0</td>\n      <td>1</td>\n      <td>1</td>\n      <td>0</td>\n      <td>0</td>\n      <td>0</td>\n      <td>0</td>\n      <td>0</td>\n      <td>0</td>\n      <td>0</td>\n      <td>0</td>\n      <td>0</td>\n      <td>5</td>\n      <td>10</td>\n      <td>0.0</td>\n      <td>0.0</td>\n      <td>0.0</td>\n      <td>0.0</td>\n      <td>1.00</td>\n      <td>0.00</td>\n      <td>0.20</td>\n      <td>255</td>\n      <td>255</td>\n      <td>1.00</td>\n      <td>0.00</td>\n      <td>0.00</td>\n      <td>0.00</td>\n      <td>0.00</td>\n      <td>0.00</td>\n      <td>0.07</td>\n      <td>0.07</td>\n      <td>attack</td>\n    </tr>\n    <tr>\n      <th>22542</th>\n      <td>0</td>\n      <td>udp</td>\n      <td>domain_u</td>\n      <td>SF</td>\n      <td>42</td>\n      <td>42</td>\n      <td>0</td>\n      <td>0</td>\n      <td>0</td>\n      <td>0</td>\n      <td>0</td>\n      <td>0</td>\n      <td>0</td>\n      <td>0</td>\n      <td>0</td>\n      <td>0</td>\n      <td>0</td>\n      <td>0</td>\n      <td>0</td>\n      <td>0</td>\n      <td>0</td>\n      <td>0</td>\n      <td>4</td>\n      <td>6</td>\n      <td>0.0</td>\n      <td>0.0</td>\n      <td>0.0</td>\n      <td>0.0</td>\n      <td>1.00</td>\n      <td>0.00</td>\n      <td>0.33</td>\n      <td>255</td>\n      <td>252</td>\n      <td>0.99</td>\n      <td>0.01</td>\n      <td>0.00</td>\n      <td>0.00</td>\n      <td>0.00</td>\n      <td>0.00</td>\n      <td>0.00</td>\n      <td>0.00</td>\n      <td>normal</td>\n    </tr>\n    <tr>\n      <th>22543</th>\n      <td>0</td>\n      <td>tcp</td>\n      <td>sunrpc</td>\n      <td>REJ</td>\n      <td>0</td>\n      <td>0</td>\n      <td>0</td>\n      <td>0</td>\n      <td>0</td>\n      <td>0</td>\n      <td>0</td>\n      <td>0</td>\n      <td>0</td>\n      <td>0</td>\n      <td>0</td>\n      <td>0</td>\n      <td>0</td>\n      <td>0</td>\n      <td>0</td>\n      <td>0</td>\n      <td>0</td>\n      <td>0</td>\n      <td>4</td>\n      <td>10</td>\n      <td>0.0</td>\n      <td>0.0</td>\n      <td>1.0</td>\n      <td>1.0</td>\n      <td>0.25</td>\n      <td>1.00</td>\n      <td>1.00</td>\n      <td>255</td>\n      <td>21</td>\n      <td>0.08</td>\n      <td>0.03</td>\n      <td>0.00</td>\n      <td>0.00</td>\n      <td>0.00</td>\n      <td>0.00</td>\n      <td>0.44</td>\n      <td>1.00</td>\n      <td>attack</td>\n    </tr>\n  </tbody>\n</table>\n<p>148517 rows × 42 columns</p>\n</div>"
     },
     "execution_count": 4,
     "metadata": {},
     "output_type": "execute_result"
    }
   ],
   "source": [
    "ds.loc[(ds.label != 'normal'), 'label'] = 'attack'\n",
    "ds = ds.drop('difficulty_level', axis=1)\n",
    "ds"
   ],
   "metadata": {
    "collapsed": false,
    "pycharm": {
     "name": "#%%\n"
    }
   }
  },
  {
   "cell_type": "code",
   "execution_count": 6,
   "outputs": [
    {
     "data": {
      "text/plain": "<pandas.io.formats.style.Styler at 0x1f394863790>",
      "text/html": "<style type=\"text/css\">\n#T_f6e2e_row29_col1, #T_f6e2e_row51_col1, #T_f6e2e_row56_col1 {\n  background-color: lightgreen;\n}\n</style>\n<table id=\"T_f6e2e_\">\n  <thead>\n    <tr>\n      <th class=\"blank level0\" >&nbsp;</th>\n      <th class=\"col_heading level0 col0\" >Description</th>\n      <th class=\"col_heading level0 col1\" >Value</th>\n    </tr>\n  </thead>\n  <tbody>\n    <tr>\n      <th id=\"T_f6e2e_level0_row0\" class=\"row_heading level0 row0\" >0</th>\n      <td id=\"T_f6e2e_row0_col0\" class=\"data row0 col0\" >session_id</td>\n      <td id=\"T_f6e2e_row0_col1\" class=\"data row0 col1\" >3230</td>\n    </tr>\n    <tr>\n      <th id=\"T_f6e2e_level0_row1\" class=\"row_heading level0 row1\" >1</th>\n      <td id=\"T_f6e2e_row1_col0\" class=\"data row1 col0\" >Target</td>\n      <td id=\"T_f6e2e_row1_col1\" class=\"data row1 col1\" >label</td>\n    </tr>\n    <tr>\n      <th id=\"T_f6e2e_level0_row2\" class=\"row_heading level0 row2\" >2</th>\n      <td id=\"T_f6e2e_row2_col0\" class=\"data row2 col0\" >Target Type</td>\n      <td id=\"T_f6e2e_row2_col1\" class=\"data row2 col1\" >Binary</td>\n    </tr>\n    <tr>\n      <th id=\"T_f6e2e_level0_row3\" class=\"row_heading level0 row3\" >3</th>\n      <td id=\"T_f6e2e_row3_col0\" class=\"data row3 col0\" >Label Encoded</td>\n      <td id=\"T_f6e2e_row3_col1\" class=\"data row3 col1\" >attack: 0, normal: 1</td>\n    </tr>\n    <tr>\n      <th id=\"T_f6e2e_level0_row4\" class=\"row_heading level0 row4\" >4</th>\n      <td id=\"T_f6e2e_row4_col0\" class=\"data row4 col0\" >Original Data</td>\n      <td id=\"T_f6e2e_row4_col1\" class=\"data row4 col1\" >(148517, 42)</td>\n    </tr>\n    <tr>\n      <th id=\"T_f6e2e_level0_row5\" class=\"row_heading level0 row5\" >5</th>\n      <td id=\"T_f6e2e_row5_col0\" class=\"data row5 col0\" >Missing Values</td>\n      <td id=\"T_f6e2e_row5_col1\" class=\"data row5 col1\" >False</td>\n    </tr>\n    <tr>\n      <th id=\"T_f6e2e_level0_row6\" class=\"row_heading level0 row6\" >6</th>\n      <td id=\"T_f6e2e_row6_col0\" class=\"data row6 col0\" >Numeric Features</td>\n      <td id=\"T_f6e2e_row6_col1\" class=\"data row6 col1\" >26</td>\n    </tr>\n    <tr>\n      <th id=\"T_f6e2e_level0_row7\" class=\"row_heading level0 row7\" >7</th>\n      <td id=\"T_f6e2e_row7_col0\" class=\"data row7 col0\" >Categorical Features</td>\n      <td id=\"T_f6e2e_row7_col1\" class=\"data row7 col1\" >15</td>\n    </tr>\n    <tr>\n      <th id=\"T_f6e2e_level0_row8\" class=\"row_heading level0 row8\" >8</th>\n      <td id=\"T_f6e2e_row8_col0\" class=\"data row8 col0\" >Ordinal Features</td>\n      <td id=\"T_f6e2e_row8_col1\" class=\"data row8 col1\" >False</td>\n    </tr>\n    <tr>\n      <th id=\"T_f6e2e_level0_row9\" class=\"row_heading level0 row9\" >9</th>\n      <td id=\"T_f6e2e_row9_col0\" class=\"data row9 col0\" >High Cardinality Features</td>\n      <td id=\"T_f6e2e_row9_col1\" class=\"data row9 col1\" >False</td>\n    </tr>\n    <tr>\n      <th id=\"T_f6e2e_level0_row10\" class=\"row_heading level0 row10\" >10</th>\n      <td id=\"T_f6e2e_row10_col0\" class=\"data row10 col0\" >High Cardinality Method</td>\n      <td id=\"T_f6e2e_row10_col1\" class=\"data row10 col1\" >None</td>\n    </tr>\n    <tr>\n      <th id=\"T_f6e2e_level0_row11\" class=\"row_heading level0 row11\" >11</th>\n      <td id=\"T_f6e2e_row11_col0\" class=\"data row11 col0\" >Transformed Train Set</td>\n      <td id=\"T_f6e2e_row11_col1\" class=\"data row11 col1\" >(118813, 40)</td>\n    </tr>\n    <tr>\n      <th id=\"T_f6e2e_level0_row12\" class=\"row_heading level0 row12\" >12</th>\n      <td id=\"T_f6e2e_row12_col0\" class=\"data row12 col0\" >Transformed Test Set</td>\n      <td id=\"T_f6e2e_row12_col1\" class=\"data row12 col1\" >(29704, 40)</td>\n    </tr>\n    <tr>\n      <th id=\"T_f6e2e_level0_row13\" class=\"row_heading level0 row13\" >13</th>\n      <td id=\"T_f6e2e_row13_col0\" class=\"data row13 col0\" >Shuffle Train-Test</td>\n      <td id=\"T_f6e2e_row13_col1\" class=\"data row13 col1\" >True</td>\n    </tr>\n    <tr>\n      <th id=\"T_f6e2e_level0_row14\" class=\"row_heading level0 row14\" >14</th>\n      <td id=\"T_f6e2e_row14_col0\" class=\"data row14 col0\" >Stratify Train-Test</td>\n      <td id=\"T_f6e2e_row14_col1\" class=\"data row14 col1\" >False</td>\n    </tr>\n    <tr>\n      <th id=\"T_f6e2e_level0_row15\" class=\"row_heading level0 row15\" >15</th>\n      <td id=\"T_f6e2e_row15_col0\" class=\"data row15 col0\" >Fold Generator</td>\n      <td id=\"T_f6e2e_row15_col1\" class=\"data row15 col1\" >StratifiedKFold</td>\n    </tr>\n    <tr>\n      <th id=\"T_f6e2e_level0_row16\" class=\"row_heading level0 row16\" >16</th>\n      <td id=\"T_f6e2e_row16_col0\" class=\"data row16 col0\" >Fold Number</td>\n      <td id=\"T_f6e2e_row16_col1\" class=\"data row16 col1\" >10</td>\n    </tr>\n    <tr>\n      <th id=\"T_f6e2e_level0_row17\" class=\"row_heading level0 row17\" >17</th>\n      <td id=\"T_f6e2e_row17_col0\" class=\"data row17 col0\" >CPU Jobs</td>\n      <td id=\"T_f6e2e_row17_col1\" class=\"data row17 col1\" >-1</td>\n    </tr>\n    <tr>\n      <th id=\"T_f6e2e_level0_row18\" class=\"row_heading level0 row18\" >18</th>\n      <td id=\"T_f6e2e_row18_col0\" class=\"data row18 col0\" >Use GPU</td>\n      <td id=\"T_f6e2e_row18_col1\" class=\"data row18 col1\" >False</td>\n    </tr>\n    <tr>\n      <th id=\"T_f6e2e_level0_row19\" class=\"row_heading level0 row19\" >19</th>\n      <td id=\"T_f6e2e_row19_col0\" class=\"data row19 col0\" >Log Experiment</td>\n      <td id=\"T_f6e2e_row19_col1\" class=\"data row19 col1\" >False</td>\n    </tr>\n    <tr>\n      <th id=\"T_f6e2e_level0_row20\" class=\"row_heading level0 row20\" >20</th>\n      <td id=\"T_f6e2e_row20_col0\" class=\"data row20 col0\" >Experiment Name</td>\n      <td id=\"T_f6e2e_row20_col1\" class=\"data row20 col1\" >clf-default-name</td>\n    </tr>\n    <tr>\n      <th id=\"T_f6e2e_level0_row21\" class=\"row_heading level0 row21\" >21</th>\n      <td id=\"T_f6e2e_row21_col0\" class=\"data row21 col0\" >USI</td>\n      <td id=\"T_f6e2e_row21_col1\" class=\"data row21 col1\" >79c2</td>\n    </tr>\n    <tr>\n      <th id=\"T_f6e2e_level0_row22\" class=\"row_heading level0 row22\" >22</th>\n      <td id=\"T_f6e2e_row22_col0\" class=\"data row22 col0\" >Imputation Type</td>\n      <td id=\"T_f6e2e_row22_col1\" class=\"data row22 col1\" >simple</td>\n    </tr>\n    <tr>\n      <th id=\"T_f6e2e_level0_row23\" class=\"row_heading level0 row23\" >23</th>\n      <td id=\"T_f6e2e_row23_col0\" class=\"data row23 col0\" >Iterative Imputation Iteration</td>\n      <td id=\"T_f6e2e_row23_col1\" class=\"data row23 col1\" >None</td>\n    </tr>\n    <tr>\n      <th id=\"T_f6e2e_level0_row24\" class=\"row_heading level0 row24\" >24</th>\n      <td id=\"T_f6e2e_row24_col0\" class=\"data row24 col0\" >Numeric Imputer</td>\n      <td id=\"T_f6e2e_row24_col1\" class=\"data row24 col1\" >mean</td>\n    </tr>\n    <tr>\n      <th id=\"T_f6e2e_level0_row25\" class=\"row_heading level0 row25\" >25</th>\n      <td id=\"T_f6e2e_row25_col0\" class=\"data row25 col0\" >Iterative Imputation Numeric Model</td>\n      <td id=\"T_f6e2e_row25_col1\" class=\"data row25 col1\" >None</td>\n    </tr>\n    <tr>\n      <th id=\"T_f6e2e_level0_row26\" class=\"row_heading level0 row26\" >26</th>\n      <td id=\"T_f6e2e_row26_col0\" class=\"data row26 col0\" >Categorical Imputer</td>\n      <td id=\"T_f6e2e_row26_col1\" class=\"data row26 col1\" >constant</td>\n    </tr>\n    <tr>\n      <th id=\"T_f6e2e_level0_row27\" class=\"row_heading level0 row27\" >27</th>\n      <td id=\"T_f6e2e_row27_col0\" class=\"data row27 col0\" >Iterative Imputation Categorical Model</td>\n      <td id=\"T_f6e2e_row27_col1\" class=\"data row27 col1\" >None</td>\n    </tr>\n    <tr>\n      <th id=\"T_f6e2e_level0_row28\" class=\"row_heading level0 row28\" >28</th>\n      <td id=\"T_f6e2e_row28_col0\" class=\"data row28 col0\" >Unknown Categoricals Handling</td>\n      <td id=\"T_f6e2e_row28_col1\" class=\"data row28 col1\" >least_frequent</td>\n    </tr>\n    <tr>\n      <th id=\"T_f6e2e_level0_row29\" class=\"row_heading level0 row29\" >29</th>\n      <td id=\"T_f6e2e_row29_col0\" class=\"data row29 col0\" >Normalize</td>\n      <td id=\"T_f6e2e_row29_col1\" class=\"data row29 col1\" >True</td>\n    </tr>\n    <tr>\n      <th id=\"T_f6e2e_level0_row30\" class=\"row_heading level0 row30\" >30</th>\n      <td id=\"T_f6e2e_row30_col0\" class=\"data row30 col0\" >Normalize Method</td>\n      <td id=\"T_f6e2e_row30_col1\" class=\"data row30 col1\" >minmax</td>\n    </tr>\n    <tr>\n      <th id=\"T_f6e2e_level0_row31\" class=\"row_heading level0 row31\" >31</th>\n      <td id=\"T_f6e2e_row31_col0\" class=\"data row31 col0\" >Transformation</td>\n      <td id=\"T_f6e2e_row31_col1\" class=\"data row31 col1\" >False</td>\n    </tr>\n    <tr>\n      <th id=\"T_f6e2e_level0_row32\" class=\"row_heading level0 row32\" >32</th>\n      <td id=\"T_f6e2e_row32_col0\" class=\"data row32 col0\" >Transformation Method</td>\n      <td id=\"T_f6e2e_row32_col1\" class=\"data row32 col1\" >None</td>\n    </tr>\n    <tr>\n      <th id=\"T_f6e2e_level0_row33\" class=\"row_heading level0 row33\" >33</th>\n      <td id=\"T_f6e2e_row33_col0\" class=\"data row33 col0\" >PCA</td>\n      <td id=\"T_f6e2e_row33_col1\" class=\"data row33 col1\" >False</td>\n    </tr>\n    <tr>\n      <th id=\"T_f6e2e_level0_row34\" class=\"row_heading level0 row34\" >34</th>\n      <td id=\"T_f6e2e_row34_col0\" class=\"data row34 col0\" >PCA Method</td>\n      <td id=\"T_f6e2e_row34_col1\" class=\"data row34 col1\" >None</td>\n    </tr>\n    <tr>\n      <th id=\"T_f6e2e_level0_row35\" class=\"row_heading level0 row35\" >35</th>\n      <td id=\"T_f6e2e_row35_col0\" class=\"data row35 col0\" >PCA Components</td>\n      <td id=\"T_f6e2e_row35_col1\" class=\"data row35 col1\" >None</td>\n    </tr>\n    <tr>\n      <th id=\"T_f6e2e_level0_row36\" class=\"row_heading level0 row36\" >36</th>\n      <td id=\"T_f6e2e_row36_col0\" class=\"data row36 col0\" >Ignore Low Variance</td>\n      <td id=\"T_f6e2e_row36_col1\" class=\"data row36 col1\" >False</td>\n    </tr>\n    <tr>\n      <th id=\"T_f6e2e_level0_row37\" class=\"row_heading level0 row37\" >37</th>\n      <td id=\"T_f6e2e_row37_col0\" class=\"data row37 col0\" >Combine Rare Levels</td>\n      <td id=\"T_f6e2e_row37_col1\" class=\"data row37 col1\" >False</td>\n    </tr>\n    <tr>\n      <th id=\"T_f6e2e_level0_row38\" class=\"row_heading level0 row38\" >38</th>\n      <td id=\"T_f6e2e_row38_col0\" class=\"data row38 col0\" >Rare Level Threshold</td>\n      <td id=\"T_f6e2e_row38_col1\" class=\"data row38 col1\" >None</td>\n    </tr>\n    <tr>\n      <th id=\"T_f6e2e_level0_row39\" class=\"row_heading level0 row39\" >39</th>\n      <td id=\"T_f6e2e_row39_col0\" class=\"data row39 col0\" >Numeric Binning</td>\n      <td id=\"T_f6e2e_row39_col1\" class=\"data row39 col1\" >False</td>\n    </tr>\n    <tr>\n      <th id=\"T_f6e2e_level0_row40\" class=\"row_heading level0 row40\" >40</th>\n      <td id=\"T_f6e2e_row40_col0\" class=\"data row40 col0\" >Remove Outliers</td>\n      <td id=\"T_f6e2e_row40_col1\" class=\"data row40 col1\" >False</td>\n    </tr>\n    <tr>\n      <th id=\"T_f6e2e_level0_row41\" class=\"row_heading level0 row41\" >41</th>\n      <td id=\"T_f6e2e_row41_col0\" class=\"data row41 col0\" >Outliers Threshold</td>\n      <td id=\"T_f6e2e_row41_col1\" class=\"data row41 col1\" >None</td>\n    </tr>\n    <tr>\n      <th id=\"T_f6e2e_level0_row42\" class=\"row_heading level0 row42\" >42</th>\n      <td id=\"T_f6e2e_row42_col0\" class=\"data row42 col0\" >Remove Multicollinearity</td>\n      <td id=\"T_f6e2e_row42_col1\" class=\"data row42 col1\" >False</td>\n    </tr>\n    <tr>\n      <th id=\"T_f6e2e_level0_row43\" class=\"row_heading level0 row43\" >43</th>\n      <td id=\"T_f6e2e_row43_col0\" class=\"data row43 col0\" >Multicollinearity Threshold</td>\n      <td id=\"T_f6e2e_row43_col1\" class=\"data row43 col1\" >None</td>\n    </tr>\n    <tr>\n      <th id=\"T_f6e2e_level0_row44\" class=\"row_heading level0 row44\" >44</th>\n      <td id=\"T_f6e2e_row44_col0\" class=\"data row44 col0\" >Clustering</td>\n      <td id=\"T_f6e2e_row44_col1\" class=\"data row44 col1\" >False</td>\n    </tr>\n    <tr>\n      <th id=\"T_f6e2e_level0_row45\" class=\"row_heading level0 row45\" >45</th>\n      <td id=\"T_f6e2e_row45_col0\" class=\"data row45 col0\" >Clustering Iteration</td>\n      <td id=\"T_f6e2e_row45_col1\" class=\"data row45 col1\" >None</td>\n    </tr>\n    <tr>\n      <th id=\"T_f6e2e_level0_row46\" class=\"row_heading level0 row46\" >46</th>\n      <td id=\"T_f6e2e_row46_col0\" class=\"data row46 col0\" >Polynomial Features</td>\n      <td id=\"T_f6e2e_row46_col1\" class=\"data row46 col1\" >False</td>\n    </tr>\n    <tr>\n      <th id=\"T_f6e2e_level0_row47\" class=\"row_heading level0 row47\" >47</th>\n      <td id=\"T_f6e2e_row47_col0\" class=\"data row47 col0\" >Polynomial Degree</td>\n      <td id=\"T_f6e2e_row47_col1\" class=\"data row47 col1\" >None</td>\n    </tr>\n    <tr>\n      <th id=\"T_f6e2e_level0_row48\" class=\"row_heading level0 row48\" >48</th>\n      <td id=\"T_f6e2e_row48_col0\" class=\"data row48 col0\" >Trignometry Features</td>\n      <td id=\"T_f6e2e_row48_col1\" class=\"data row48 col1\" >False</td>\n    </tr>\n    <tr>\n      <th id=\"T_f6e2e_level0_row49\" class=\"row_heading level0 row49\" >49</th>\n      <td id=\"T_f6e2e_row49_col0\" class=\"data row49 col0\" >Polynomial Threshold</td>\n      <td id=\"T_f6e2e_row49_col1\" class=\"data row49 col1\" >None</td>\n    </tr>\n    <tr>\n      <th id=\"T_f6e2e_level0_row50\" class=\"row_heading level0 row50\" >50</th>\n      <td id=\"T_f6e2e_row50_col0\" class=\"data row50 col0\" >Group Features</td>\n      <td id=\"T_f6e2e_row50_col1\" class=\"data row50 col1\" >False</td>\n    </tr>\n    <tr>\n      <th id=\"T_f6e2e_level0_row51\" class=\"row_heading level0 row51\" >51</th>\n      <td id=\"T_f6e2e_row51_col0\" class=\"data row51 col0\" >Feature Selection</td>\n      <td id=\"T_f6e2e_row51_col1\" class=\"data row51 col1\" >True</td>\n    </tr>\n    <tr>\n      <th id=\"T_f6e2e_level0_row52\" class=\"row_heading level0 row52\" >52</th>\n      <td id=\"T_f6e2e_row52_col0\" class=\"data row52 col0\" >Features Selection Threshold</td>\n      <td id=\"T_f6e2e_row52_col1\" class=\"data row52 col1\" >0.200000</td>\n    </tr>\n    <tr>\n      <th id=\"T_f6e2e_level0_row53\" class=\"row_heading level0 row53\" >53</th>\n      <td id=\"T_f6e2e_row53_col0\" class=\"data row53 col0\" >Feature Interaction</td>\n      <td id=\"T_f6e2e_row53_col1\" class=\"data row53 col1\" >False</td>\n    </tr>\n    <tr>\n      <th id=\"T_f6e2e_level0_row54\" class=\"row_heading level0 row54\" >54</th>\n      <td id=\"T_f6e2e_row54_col0\" class=\"data row54 col0\" >Feature Ratio</td>\n      <td id=\"T_f6e2e_row54_col1\" class=\"data row54 col1\" >False</td>\n    </tr>\n    <tr>\n      <th id=\"T_f6e2e_level0_row55\" class=\"row_heading level0 row55\" >55</th>\n      <td id=\"T_f6e2e_row55_col0\" class=\"data row55 col0\" >Interaction Threshold</td>\n      <td id=\"T_f6e2e_row55_col1\" class=\"data row55 col1\" >None</td>\n    </tr>\n    <tr>\n      <th id=\"T_f6e2e_level0_row56\" class=\"row_heading level0 row56\" >56</th>\n      <td id=\"T_f6e2e_row56_col0\" class=\"data row56 col0\" >Fix Imbalance</td>\n      <td id=\"T_f6e2e_row56_col1\" class=\"data row56 col1\" >True</td>\n    </tr>\n    <tr>\n      <th id=\"T_f6e2e_level0_row57\" class=\"row_heading level0 row57\" >57</th>\n      <td id=\"T_f6e2e_row57_col0\" class=\"data row57 col0\" >Fix Imbalance Method</td>\n      <td id=\"T_f6e2e_row57_col1\" class=\"data row57 col1\" >SMOTE</td>\n    </tr>\n  </tbody>\n</table>\n"
     },
     "metadata": {},
     "output_type": "display_data"
    }
   ],
   "source": [
    "dsp_tr=setup(data = ds,\n",
    "             target = 'label',train_size=0.8,\n",
    "             numeric_imputation = 'mean',\n",
    "             categorical_features = ['protocol_type','service','flag'],\n",
    "             normalize=True,normalize_method='minmax',\n",
    "             feature_selection=True,feature_selection_threshold=0.2,\n",
    "             silent = True, fold_shuffle=True, fix_imbalance=True)"
   ],
   "metadata": {
    "collapsed": false,
    "pycharm": {
     "name": "#%%\n"
    }
   }
  },
  {
   "cell_type": "code",
   "execution_count": 53,
   "outputs": [],
   "source": [
    "X_train=get_config('X_train')\n",
    "Y_train = get_config('y_train')\n",
    "Y_test = get_config('y_test')\n",
    "X_test = get_config('X_test')"
   ],
   "metadata": {
    "collapsed": false,
    "pycharm": {
     "name": "#%%\n"
    }
   }
  },
  {
   "cell_type": "code",
   "execution_count": 9,
   "outputs": [
    {
     "name": "stdout",
     "output_type": "stream",
     "text": [
      "Epoch 1/100\n",
      "1857/1857 [==============================] - 6s 3ms/step - loss: 0.1130 - accuracy: 0.9589 - val_loss: 0.0725 - val_accuracy: 0.9727\n",
      "Epoch 2/100\n",
      "1857/1857 [==============================] - 6s 3ms/step - loss: 0.0743 - accuracy: 0.9725 - val_loss: 0.0657 - val_accuracy: 0.9750\n",
      "Epoch 3/100\n",
      "1857/1857 [==============================] - 6s 3ms/step - loss: 0.0663 - accuracy: 0.9754 - val_loss: 0.0705 - val_accuracy: 0.9754\n",
      "Epoch 4/100\n",
      "1857/1857 [==============================] - 6s 3ms/step - loss: 0.0619 - accuracy: 0.9769 - val_loss: 0.0570 - val_accuracy: 0.9770\n",
      "Epoch 5/100\n",
      "1857/1857 [==============================] - 6s 3ms/step - loss: 0.0587 - accuracy: 0.9774 - val_loss: 0.0663 - val_accuracy: 0.9755\n",
      "Epoch 6/100\n",
      "1857/1857 [==============================] - 6s 3ms/step - loss: 0.0561 - accuracy: 0.9787 - val_loss: 0.0477 - val_accuracy: 0.9816\n",
      "Epoch 7/100\n",
      "1857/1857 [==============================] - 6s 3ms/step - loss: 0.0538 - accuracy: 0.9790 - val_loss: 0.0578 - val_accuracy: 0.9796\n",
      "Epoch 8/100\n",
      "1857/1857 [==============================] - 6s 3ms/step - loss: 0.0517 - accuracy: 0.9802 - val_loss: 0.0478 - val_accuracy: 0.9817\n",
      "Epoch 9/100\n",
      "1857/1857 [==============================] - 6s 3ms/step - loss: 0.0498 - accuracy: 0.9805 - val_loss: 0.0563 - val_accuracy: 0.9786\n",
      "Epoch 10/100\n",
      "1857/1857 [==============================] - 6s 3ms/step - loss: 0.0484 - accuracy: 0.9810 - val_loss: 0.0526 - val_accuracy: 0.9789\n",
      "Epoch 11/100\n",
      "1857/1857 [==============================] - 6s 3ms/step - loss: 0.0472 - accuracy: 0.9815 - val_loss: 0.0543 - val_accuracy: 0.9807\n",
      "Epoch 12/100\n",
      "1857/1857 [==============================] - 6s 3ms/step - loss: 0.0459 - accuracy: 0.9826 - val_loss: 0.0580 - val_accuracy: 0.9785\n",
      "Epoch 13/100\n",
      "1857/1857 [==============================] - 6s 3ms/step - loss: 0.0444 - accuracy: 0.9826 - val_loss: 0.0473 - val_accuracy: 0.9830\n",
      "Epoch 14/100\n",
      "1857/1857 [==============================] - 6s 3ms/step - loss: 0.0432 - accuracy: 0.9833 - val_loss: 0.0437 - val_accuracy: 0.9830\n",
      "Epoch 15/100\n",
      "1857/1857 [==============================] - 7s 4ms/step - loss: 0.0425 - accuracy: 0.9839 - val_loss: 0.0398 - val_accuracy: 0.9844\n",
      "Epoch 16/100\n",
      "1857/1857 [==============================] - 6s 3ms/step - loss: 0.0417 - accuracy: 0.9839 - val_loss: 0.0448 - val_accuracy: 0.9828\n",
      "Epoch 17/100\n",
      "1857/1857 [==============================] - 6s 3ms/step - loss: 0.0417 - accuracy: 0.9843 - val_loss: 0.0425 - val_accuracy: 0.9821\n",
      "Epoch 18/100\n",
      "1857/1857 [==============================] - 6s 3ms/step - loss: 0.0408 - accuracy: 0.9845 - val_loss: 0.0463 - val_accuracy: 0.9813\n",
      "Epoch 19/100\n",
      "1857/1857 [==============================] - 6s 3ms/step - loss: 0.0398 - accuracy: 0.9847 - val_loss: 0.0441 - val_accuracy: 0.9852\n",
      "Epoch 20/100\n",
      "1857/1857 [==============================] - 6s 3ms/step - loss: 0.0389 - accuracy: 0.9852 - val_loss: 0.0464 - val_accuracy: 0.9806\n",
      "Epoch 21/100\n",
      "1857/1857 [==============================] - 6s 3ms/step - loss: 0.0394 - accuracy: 0.9849 - val_loss: 0.0380 - val_accuracy: 0.9852\n",
      "Epoch 22/100\n",
      "1857/1857 [==============================] - 6s 3ms/step - loss: 0.0384 - accuracy: 0.9853 - val_loss: 0.0373 - val_accuracy: 0.9863\n",
      "Epoch 23/100\n",
      "1857/1857 [==============================] - 6s 3ms/step - loss: 0.0375 - accuracy: 0.9857 - val_loss: 0.0383 - val_accuracy: 0.9855\n",
      "Epoch 24/100\n",
      "1857/1857 [==============================] - 6s 3ms/step - loss: 0.0365 - accuracy: 0.9858 - val_loss: 0.0491 - val_accuracy: 0.9829\n",
      "Epoch 25/100\n",
      "1857/1857 [==============================] - 6s 3ms/step - loss: 0.0358 - accuracy: 0.9860 - val_loss: 0.0441 - val_accuracy: 0.9826\n",
      "Epoch 26/100\n",
      "1857/1857 [==============================] - 7s 4ms/step - loss: 0.0364 - accuracy: 0.9864 - val_loss: 0.0363 - val_accuracy: 0.9857\n",
      "Epoch 27/100\n",
      "1857/1857 [==============================] - 6s 3ms/step - loss: 0.0354 - accuracy: 0.9865 - val_loss: 0.0369 - val_accuracy: 0.9860\n"
     ]
    },
    {
     "data": {
      "text/plain": "<tensorflow.python.keras.callbacks.History at 0x1f3951ca520>"
     },
     "execution_count": 9,
     "metadata": {},
     "output_type": "execute_result"
    }
   ],
   "source": [
    "from tensorflow.python.keras.layers import Activation\n",
    "from keras.optimizers import SGD\n",
    "from keras.models import Sequential\n",
    "from keras.layers import Dense\n",
    "from keras.layers.advanced_activations import PReLU\n",
    "from keras.layers import Dropout\n",
    "from keras.callbacks import EarlyStopping\n",
    "act2 = PReLU(alpha_initializer='zeros', weights=None)\n",
    "model2 = Sequential()\n",
    "# define the NN architecture and activation function\n",
    "\n",
    "model2.add(Dense(496, input_dim=40, activation=Activation(act2)))\n",
    "model2.add(Dropout(0.1))\n",
    "model2.add(Dense(248, activation='relu'))\n",
    "model2.add(Dropout(0.1))\n",
    "model2.add(Dense(124, activation='relu'))\n",
    "model2.add(Dropout(0.1))\n",
    "model2.add(Dense(62, activation='relu'))\n",
    "model2.add(Dropout(0.1))\n",
    "model2.add(Dense(1))\n",
    "model2.add(Activation('sigmoid'))\n",
    "\n",
    "sgd =SGD(lr=0.01, decay=1e-6, momentum=0.9, nesterov=True)\n",
    "model2.compile(loss='binary_crossentropy', optimizer=sgd, metrics= ['accuracy'])\n",
    "es = EarlyStopping(monitor='val_accuracy', mode='max', min_delta=0.0001,patience=5) ## early stopping\n",
    "model2.fit(X_train, Y_train, validation_data=(X_test, Y_test), epochs=100, batch_size=64, callbacks=[es])"
   ],
   "metadata": {
    "collapsed": false,
    "pycharm": {
     "name": "#%%\n"
    }
   }
  },
  {
   "cell_type": "code",
   "execution_count": 10,
   "outputs": [
    {
     "name": "stdout",
     "output_type": "stream",
     "text": [
      "accuracy: 98.70%\n"
     ]
    }
   ],
   "source": [
    "#training accuracy\n",
    "train_acc2 = model2.evaluate(X_train, Y_train, verbose=0)\n",
    "print(\"%s: %.2f%%\" % (model2.metrics_names[1], train_acc2[1]*100))"
   ],
   "metadata": {
    "collapsed": false,
    "pycharm": {
     "name": "#%%\n"
    }
   }
  },
  {
   "cell_type": "code",
   "execution_count": 11,
   "outputs": [
    {
     "name": "stdout",
     "output_type": "stream",
     "text": [
      "accuracy: 98.60%\n"
     ]
    }
   ],
   "source": [
    "#calculate the test accuracy using evaluate function\n",
    "test_acc2 = model2.evaluate(X_test, Y_test, verbose=0)\n",
    "print(\"%s: %.2f%%\" % (model2.metrics_names[1], test_acc2[1] * 100))"
   ],
   "metadata": {
    "collapsed": false,
    "pycharm": {
     "name": "#%%\n"
    }
   }
  },
  {
   "cell_type": "code",
   "execution_count": 12,
   "outputs": [
    {
     "name": "stdout",
     "output_type": "stream",
     "text": [
      "WARNING:tensorflow:From C:\\Users\\Jovana\\AppData\\Local\\Temp/ipykernel_25284/77600060.py:3: Sequential.predict_classes (from tensorflow.python.keras.engine.sequential) is deprecated and will be removed after 2021-01-01.\n",
      "Instructions for updating:\n",
      "Please use instead:* `np.argmax(model.predict(x), axis=-1)`,   if your model does multi-class classification   (e.g. if it uses a `softmax` last-layer activation).* `(model.predict(x) > 0.5).astype(\"int32\")`,   if your model does binary classification   (e.g. if it uses a `sigmoid` last-layer activation).\n"
     ]
    },
    {
     "data": {
      "text/plain": "0.9860288176676542"
     },
     "execution_count": 12,
     "metadata": {},
     "output_type": "execute_result"
    }
   ],
   "source": [
    "from sklearn.metrics import accuracy_score\n",
    "# or find the prediction accuracy using predict_classes (same as test accuracy)\n",
    "y_pred2 = model2.predict_classes(X_test)\n",
    "pred_accuracy2 = accuracy_score(Y_test, y_pred2)\n",
    "pred_accuracy2"
   ],
   "metadata": {
    "collapsed": false,
    "pycharm": {
     "name": "#%%\n"
    }
   }
  },
  {
   "cell_type": "code",
   "execution_count": 13,
   "outputs": [
    {
     "name": "stdout",
     "output_type": "stream",
     "text": [
      "Precision : 0.987729\n"
     ]
    }
   ],
   "source": [
    "from sklearn.metrics import precision_score, recall_score, f1_score, roc_auc_score\n",
    "# Precision\n",
    "precision = precision_score(Y_test, y_pred2)\n",
    "print('Precision : %f'% precision)"
   ],
   "metadata": {
    "collapsed": false,
    "pycharm": {
     "name": "#%%\n"
    }
   }
  },
  {
   "cell_type": "code",
   "execution_count": 14,
   "outputs": [
    {
     "name": "stdout",
     "output_type": "stream",
     "text": [
      "Recall: 0.985502\n"
     ]
    }
   ],
   "source": [
    "# Recall\n",
    "recall = recall_score(Y_test, y_pred2)\n",
    "print('Recall: %f' % recall)"
   ],
   "metadata": {
    "collapsed": false,
    "pycharm": {
     "name": "#%%\n"
    }
   }
  },
  {
   "cell_type": "code",
   "execution_count": 15,
   "outputs": [
    {
     "name": "stdout",
     "output_type": "stream",
     "text": [
      "F1 score: 0.986614\n"
     ]
    }
   ],
   "source": [
    "# f1-score\n",
    "f1 = f1_score(Y_test, y_pred2)\n",
    "print('F1 score: %f' % f1)"
   ],
   "metadata": {
    "collapsed": false,
    "pycharm": {
     "name": "#%%\n"
    }
   }
  },
  {
   "cell_type": "code",
   "execution_count": 16,
   "outputs": [
    {
     "name": "stdout",
     "output_type": "stream",
     "text": [
      "ROC_AUC Score: 0.986054\n"
     ]
    }
   ],
   "source": [
    "roc = roc_auc_score(Y_test, y_pred2)\n",
    "print('ROC_AUC Score: %f' % roc)"
   ],
   "metadata": {
    "collapsed": false,
    "pycharm": {
     "name": "#%%\n"
    }
   }
  },
  {
   "cell_type": "code",
   "execution_count": 17,
   "outputs": [
    {
     "name": "stdout",
     "output_type": "stream",
     "text": [
      "[[13995   190]\n",
      " [  225 15294]]\n"
     ]
    }
   ],
   "source": [
    "from sklearn.metrics import confusion_matrix\n",
    "\n",
    "# confusion matrix\n",
    "confusionmatrix = confusion_matrix(Y_test, y_pred2)\n",
    "print(confusionmatrix)"
   ],
   "metadata": {
    "collapsed": false,
    "pycharm": {
     "name": "#%%\n"
    }
   }
  },
  {
   "cell_type": "code",
   "execution_count": 19,
   "outputs": [
    {
     "data": {
      "text/plain": "(13995, 190, 225, 15294)"
     },
     "execution_count": 19,
     "metadata": {},
     "output_type": "execute_result"
    }
   ],
   "source": [
    "tn, fp, fn, tp = confusionmatrix.ravel()\n",
    "(tn, fp, fn, tp)"
   ],
   "metadata": {
    "collapsed": false,
    "pycharm": {
     "name": "#%%\n"
    }
   }
  },
  {
   "cell_type": "code",
   "execution_count": null,
   "outputs": [],
   "source": [],
   "metadata": {
    "collapsed": false,
    "pycharm": {
     "name": "#%%\n"
    }
   }
  }
 ],
 "metadata": {
  "kernelspec": {
   "display_name": "Python 3",
   "language": "python",
   "name": "python3"
  },
  "language_info": {
   "codemirror_mode": {
    "name": "ipython",
    "version": 2
   },
   "file_extension": ".py",
   "mimetype": "text/x-python",
   "name": "python",
   "nbconvert_exporter": "python",
   "pygments_lexer": "ipython2",
   "version": "2.7.6"
  }
 },
 "nbformat": 4,
 "nbformat_minor": 0
}