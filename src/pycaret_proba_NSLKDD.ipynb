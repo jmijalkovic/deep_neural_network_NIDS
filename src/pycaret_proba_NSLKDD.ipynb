{
 "cells": [
  {
   "cell_type": "code",
   "execution_count": 1,
   "metadata": {
    "collapsed": true
   },
   "outputs": [],
   "source": [
    "from pycaret.classification import *\n",
    "import numpy as np\n",
    "import pandas as pd\n",
    "import tensorflow as tf\n",
    "\n",
    "column_names = [\"duration\", \"protocol_type\", \"service\", \"flag\", \"src_bytes\", \"dst_bytes\", \"land\",\n",
    "                \"wrong_fragment\", \"urgent\", \"hot\", \"num_failed_logins\", \"logged_in\", \"num_compromised\",\n",
    "                \"root_shell\", \"su_attempted\", \"num_root\", \"num_file_creations\", \"num_shells\", \"num_access_files\",\n",
    "                \"num_outbound_cmds\", \"is_host_login\", \"is_guest_login\", \"count\", \"srv_count\", \"serror_rate\",\n",
    "                \"srv_serror_rate\", \"rerror_rate\", \"srv_rerror_rate\", \"same_srv_rate\", \"diff_srv_rate\",\n",
    "                \"srv_diff_host_rate\", \"dst_host_count\", \"dst_host_srv_count\", \"dst_host_same_srv_rate\",\n",
    "                \"dst_host_diff_srv_rate\", \"dst_host_same_src_port_rate\", \"dst_host_srv_diff_host_rate\",\n",
    "                \"dst_host_serror_rate\", \"dst_host_srv_serror_rate\", \"dst_host_rerror_rate\",\n",
    "                \"dst_host_srv_rerror_rate\", \"label\", \"difficulty_level\"]\n",
    "path = 'C:\\\\Users\\\\Jovana\\\\PycharmProjects\\\\neural_network_DNN\\\\include\\\\KDDTrain+.txt'\n",
    "path2= 'C:\\\\Users\\\\Jovana\\\\PycharmProjects\\\\neural_network_DNN\\\\include\\\\KDDTest+.txt'\n",
    "\n",
    "ds_train=pd.read_csv(path,header=None, names = column_names)\n",
    "ds_test=pd.read_csv(path2, header=None, names = column_names)"
   ]
  },
  {
   "cell_type": "code",
   "execution_count": 2,
   "outputs": [],
   "source": [
    "ds=pd.concat([ds_train,ds_test], axis=0)"
   ],
   "metadata": {
    "collapsed": false,
    "pycharm": {
     "name": "#%%\n"
    }
   }
  },
  {
   "cell_type": "code",
   "execution_count": 3,
   "outputs": [
    {
     "data": {
      "text/plain": "   duration protocol_type   service flag  src_bytes  dst_bytes  land  \\\n0         0           tcp  ftp_data   SF        491          0     0   \n1         0           udp     other   SF        146          0     0   \n2         0           tcp   private   S0          0          0     0   \n3         0           tcp      http   SF        232       8153     0   \n4         0           tcp      http   SF        199        420     0   \n\n   wrong_fragment  urgent  hot  num_failed_logins  logged_in  num_compromised  \\\n0               0       0    0                  0          0                0   \n1               0       0    0                  0          0                0   \n2               0       0    0                  0          0                0   \n3               0       0    0                  0          1                0   \n4               0       0    0                  0          1                0   \n\n   root_shell  su_attempted  num_root  num_file_creations  num_shells  \\\n0           0             0         0                   0           0   \n1           0             0         0                   0           0   \n2           0             0         0                   0           0   \n3           0             0         0                   0           0   \n4           0             0         0                   0           0   \n\n   num_access_files  num_outbound_cmds  is_host_login  is_guest_login  count  \\\n0                 0                  0              0               0      2   \n1                 0                  0              0               0     13   \n2                 0                  0              0               0    123   \n3                 0                  0              0               0      5   \n4                 0                  0              0               0     30   \n\n   srv_count  serror_rate  srv_serror_rate  rerror_rate  srv_rerror_rate  \\\n0          2          0.0              0.0          0.0              0.0   \n1          1          0.0              0.0          0.0              0.0   \n2          6          1.0              1.0          0.0              0.0   \n3          5          0.2              0.2          0.0              0.0   \n4         32          0.0              0.0          0.0              0.0   \n\n   same_srv_rate  diff_srv_rate  srv_diff_host_rate  dst_host_count  \\\n0           1.00           0.00                0.00             150   \n1           0.08           0.15                0.00             255   \n2           0.05           0.07                0.00             255   \n3           1.00           0.00                0.00              30   \n4           1.00           0.00                0.09             255   \n\n   dst_host_srv_count  dst_host_same_srv_rate  dst_host_diff_srv_rate  \\\n0                  25                    0.17                    0.03   \n1                   1                    0.00                    0.60   \n2                  26                    0.10                    0.05   \n3                 255                    1.00                    0.00   \n4                 255                    1.00                    0.00   \n\n   dst_host_same_src_port_rate  dst_host_srv_diff_host_rate  \\\n0                         0.17                         0.00   \n1                         0.88                         0.00   \n2                         0.00                         0.00   \n3                         0.03                         0.04   \n4                         0.00                         0.00   \n\n   dst_host_serror_rate  dst_host_srv_serror_rate  dst_host_rerror_rate  \\\n0                  0.00                      0.00                  0.05   \n1                  0.00                      0.00                  0.00   \n2                  1.00                      1.00                  0.00   \n3                  0.03                      0.01                  0.00   \n4                  0.00                      0.00                  0.00   \n\n   dst_host_srv_rerror_rate    label  difficulty_level  \n0                      0.00   normal                20  \n1                      0.00   normal                15  \n2                      0.00  neptune                19  \n3                      0.01   normal                21  \n4                      0.00   normal                21  ",
      "text/html": "<div>\n<style scoped>\n    .dataframe tbody tr th:only-of-type {\n        vertical-align: middle;\n    }\n\n    .dataframe tbody tr th {\n        vertical-align: top;\n    }\n\n    .dataframe thead th {\n        text-align: right;\n    }\n</style>\n<table border=\"1\" class=\"dataframe\">\n  <thead>\n    <tr style=\"text-align: right;\">\n      <th></th>\n      <th>duration</th>\n      <th>protocol_type</th>\n      <th>service</th>\n      <th>flag</th>\n      <th>src_bytes</th>\n      <th>dst_bytes</th>\n      <th>land</th>\n      <th>wrong_fragment</th>\n      <th>urgent</th>\n      <th>hot</th>\n      <th>num_failed_logins</th>\n      <th>logged_in</th>\n      <th>num_compromised</th>\n      <th>root_shell</th>\n      <th>su_attempted</th>\n      <th>num_root</th>\n      <th>num_file_creations</th>\n      <th>num_shells</th>\n      <th>num_access_files</th>\n      <th>num_outbound_cmds</th>\n      <th>is_host_login</th>\n      <th>is_guest_login</th>\n      <th>count</th>\n      <th>srv_count</th>\n      <th>serror_rate</th>\n      <th>srv_serror_rate</th>\n      <th>rerror_rate</th>\n      <th>srv_rerror_rate</th>\n      <th>same_srv_rate</th>\n      <th>diff_srv_rate</th>\n      <th>srv_diff_host_rate</th>\n      <th>dst_host_count</th>\n      <th>dst_host_srv_count</th>\n      <th>dst_host_same_srv_rate</th>\n      <th>dst_host_diff_srv_rate</th>\n      <th>dst_host_same_src_port_rate</th>\n      <th>dst_host_srv_diff_host_rate</th>\n      <th>dst_host_serror_rate</th>\n      <th>dst_host_srv_serror_rate</th>\n      <th>dst_host_rerror_rate</th>\n      <th>dst_host_srv_rerror_rate</th>\n      <th>label</th>\n      <th>difficulty_level</th>\n    </tr>\n  </thead>\n  <tbody>\n    <tr>\n      <th>0</th>\n      <td>0</td>\n      <td>tcp</td>\n      <td>ftp_data</td>\n      <td>SF</td>\n      <td>491</td>\n      <td>0</td>\n      <td>0</td>\n      <td>0</td>\n      <td>0</td>\n      <td>0</td>\n      <td>0</td>\n      <td>0</td>\n      <td>0</td>\n      <td>0</td>\n      <td>0</td>\n      <td>0</td>\n      <td>0</td>\n      <td>0</td>\n      <td>0</td>\n      <td>0</td>\n      <td>0</td>\n      <td>0</td>\n      <td>2</td>\n      <td>2</td>\n      <td>0.0</td>\n      <td>0.0</td>\n      <td>0.0</td>\n      <td>0.0</td>\n      <td>1.00</td>\n      <td>0.00</td>\n      <td>0.00</td>\n      <td>150</td>\n      <td>25</td>\n      <td>0.17</td>\n      <td>0.03</td>\n      <td>0.17</td>\n      <td>0.00</td>\n      <td>0.00</td>\n      <td>0.00</td>\n      <td>0.05</td>\n      <td>0.00</td>\n      <td>normal</td>\n      <td>20</td>\n    </tr>\n    <tr>\n      <th>1</th>\n      <td>0</td>\n      <td>udp</td>\n      <td>other</td>\n      <td>SF</td>\n      <td>146</td>\n      <td>0</td>\n      <td>0</td>\n      <td>0</td>\n      <td>0</td>\n      <td>0</td>\n      <td>0</td>\n      <td>0</td>\n      <td>0</td>\n      <td>0</td>\n      <td>0</td>\n      <td>0</td>\n      <td>0</td>\n      <td>0</td>\n      <td>0</td>\n      <td>0</td>\n      <td>0</td>\n      <td>0</td>\n      <td>13</td>\n      <td>1</td>\n      <td>0.0</td>\n      <td>0.0</td>\n      <td>0.0</td>\n      <td>0.0</td>\n      <td>0.08</td>\n      <td>0.15</td>\n      <td>0.00</td>\n      <td>255</td>\n      <td>1</td>\n      <td>0.00</td>\n      <td>0.60</td>\n      <td>0.88</td>\n      <td>0.00</td>\n      <td>0.00</td>\n      <td>0.00</td>\n      <td>0.00</td>\n      <td>0.00</td>\n      <td>normal</td>\n      <td>15</td>\n    </tr>\n    <tr>\n      <th>2</th>\n      <td>0</td>\n      <td>tcp</td>\n      <td>private</td>\n      <td>S0</td>\n      <td>0</td>\n      <td>0</td>\n      <td>0</td>\n      <td>0</td>\n      <td>0</td>\n      <td>0</td>\n      <td>0</td>\n      <td>0</td>\n      <td>0</td>\n      <td>0</td>\n      <td>0</td>\n      <td>0</td>\n      <td>0</td>\n      <td>0</td>\n      <td>0</td>\n      <td>0</td>\n      <td>0</td>\n      <td>0</td>\n      <td>123</td>\n      <td>6</td>\n      <td>1.0</td>\n      <td>1.0</td>\n      <td>0.0</td>\n      <td>0.0</td>\n      <td>0.05</td>\n      <td>0.07</td>\n      <td>0.00</td>\n      <td>255</td>\n      <td>26</td>\n      <td>0.10</td>\n      <td>0.05</td>\n      <td>0.00</td>\n      <td>0.00</td>\n      <td>1.00</td>\n      <td>1.00</td>\n      <td>0.00</td>\n      <td>0.00</td>\n      <td>neptune</td>\n      <td>19</td>\n    </tr>\n    <tr>\n      <th>3</th>\n      <td>0</td>\n      <td>tcp</td>\n      <td>http</td>\n      <td>SF</td>\n      <td>232</td>\n      <td>8153</td>\n      <td>0</td>\n      <td>0</td>\n      <td>0</td>\n      <td>0</td>\n      <td>0</td>\n      <td>1</td>\n      <td>0</td>\n      <td>0</td>\n      <td>0</td>\n      <td>0</td>\n      <td>0</td>\n      <td>0</td>\n      <td>0</td>\n      <td>0</td>\n      <td>0</td>\n      <td>0</td>\n      <td>5</td>\n      <td>5</td>\n      <td>0.2</td>\n      <td>0.2</td>\n      <td>0.0</td>\n      <td>0.0</td>\n      <td>1.00</td>\n      <td>0.00</td>\n      <td>0.00</td>\n      <td>30</td>\n      <td>255</td>\n      <td>1.00</td>\n      <td>0.00</td>\n      <td>0.03</td>\n      <td>0.04</td>\n      <td>0.03</td>\n      <td>0.01</td>\n      <td>0.00</td>\n      <td>0.01</td>\n      <td>normal</td>\n      <td>21</td>\n    </tr>\n    <tr>\n      <th>4</th>\n      <td>0</td>\n      <td>tcp</td>\n      <td>http</td>\n      <td>SF</td>\n      <td>199</td>\n      <td>420</td>\n      <td>0</td>\n      <td>0</td>\n      <td>0</td>\n      <td>0</td>\n      <td>0</td>\n      <td>1</td>\n      <td>0</td>\n      <td>0</td>\n      <td>0</td>\n      <td>0</td>\n      <td>0</td>\n      <td>0</td>\n      <td>0</td>\n      <td>0</td>\n      <td>0</td>\n      <td>0</td>\n      <td>30</td>\n      <td>32</td>\n      <td>0.0</td>\n      <td>0.0</td>\n      <td>0.0</td>\n      <td>0.0</td>\n      <td>1.00</td>\n      <td>0.00</td>\n      <td>0.09</td>\n      <td>255</td>\n      <td>255</td>\n      <td>1.00</td>\n      <td>0.00</td>\n      <td>0.00</td>\n      <td>0.00</td>\n      <td>0.00</td>\n      <td>0.00</td>\n      <td>0.00</td>\n      <td>0.00</td>\n      <td>normal</td>\n      <td>21</td>\n    </tr>\n  </tbody>\n</table>\n</div>"
     },
     "execution_count": 3,
     "metadata": {},
     "output_type": "execute_result"
    }
   ],
   "source": [
    "ds.head()"
   ],
   "metadata": {
    "collapsed": false,
    "pycharm": {
     "name": "#%%\n"
    }
   }
  },
  {
   "cell_type": "code",
   "execution_count": 4,
   "outputs": [],
   "source": [
    "ds.loc[(ds.label != 'normal'),'label']='attack'"
   ],
   "metadata": {
    "collapsed": false,
    "pycharm": {
     "name": "#%%\n"
    }
   }
  },
  {
   "cell_type": "code",
   "execution_count": 5,
   "outputs": [],
   "source": [
    "ds=ds.drop('difficulty_level',axis=1)"
   ],
   "metadata": {
    "collapsed": false,
    "pycharm": {
     "name": "#%%\n"
    }
   }
  },
  {
   "cell_type": "code",
   "execution_count": 6,
   "outputs": [
    {
     "data": {
      "text/plain": "       duration protocol_type   service flag  src_bytes  dst_bytes  land  \\\n0             0           tcp  ftp_data   SF        491          0     0   \n1             0           udp     other   SF        146          0     0   \n2             0           tcp   private   S0          0          0     0   \n3             0           tcp      http   SF        232       8153     0   \n4             0           tcp      http   SF        199        420     0   \n...         ...           ...       ...  ...        ...        ...   ...   \n22539         0           tcp      smtp   SF        794        333     0   \n22540         0           tcp      http   SF        317        938     0   \n22541         0           tcp      http   SF      54540       8314     0   \n22542         0           udp  domain_u   SF         42         42     0   \n22543         0           tcp    sunrpc  REJ          0          0     0   \n\n       wrong_fragment  urgent  hot  num_failed_logins  logged_in  \\\n0                   0       0    0                  0          0   \n1                   0       0    0                  0          0   \n2                   0       0    0                  0          0   \n3                   0       0    0                  0          1   \n4                   0       0    0                  0          1   \n...               ...     ...  ...                ...        ...   \n22539               0       0    0                  0          1   \n22540               0       0    0                  0          1   \n22541               0       0    2                  0          1   \n22542               0       0    0                  0          0   \n22543               0       0    0                  0          0   \n\n       num_compromised  root_shell  su_attempted  num_root  \\\n0                    0           0             0         0   \n1                    0           0             0         0   \n2                    0           0             0         0   \n3                    0           0             0         0   \n4                    0           0             0         0   \n...                ...         ...           ...       ...   \n22539                0           0             0         0   \n22540                0           0             0         0   \n22541                1           0             0         0   \n22542                0           0             0         0   \n22543                0           0             0         0   \n\n       num_file_creations  num_shells  num_access_files  num_outbound_cmds  \\\n0                       0           0                 0                  0   \n1                       0           0                 0                  0   \n2                       0           0                 0                  0   \n3                       0           0                 0                  0   \n4                       0           0                 0                  0   \n...                   ...         ...               ...                ...   \n22539                   0           0                 0                  0   \n22540                   0           0                 0                  0   \n22541                   0           0                 0                  0   \n22542                   0           0                 0                  0   \n22543                   0           0                 0                  0   \n\n       is_host_login  is_guest_login  count  srv_count  serror_rate  \\\n0                  0               0      2          2          0.0   \n1                  0               0     13          1          0.0   \n2                  0               0    123          6          1.0   \n3                  0               0      5          5          0.2   \n4                  0               0     30         32          0.0   \n...              ...             ...    ...        ...          ...   \n22539              0               0      1          1          0.0   \n22540              0               0      2         11          0.0   \n22541              0               0      5         10          0.0   \n22542              0               0      4          6          0.0   \n22543              0               0      4         10          0.0   \n\n       srv_serror_rate  rerror_rate  srv_rerror_rate  same_srv_rate  \\\n0                  0.0          0.0              0.0           1.00   \n1                  0.0          0.0              0.0           0.08   \n2                  1.0          0.0              0.0           0.05   \n3                  0.2          0.0              0.0           1.00   \n4                  0.0          0.0              0.0           1.00   \n...                ...          ...              ...            ...   \n22539              0.0          0.0              0.0           1.00   \n22540              0.0          0.0              0.0           1.00   \n22541              0.0          0.0              0.0           1.00   \n22542              0.0          0.0              0.0           1.00   \n22543              0.0          1.0              1.0           0.25   \n\n       diff_srv_rate  srv_diff_host_rate  dst_host_count  dst_host_srv_count  \\\n0               0.00                0.00             150                  25   \n1               0.15                0.00             255                   1   \n2               0.07                0.00             255                  26   \n3               0.00                0.00              30                 255   \n4               0.00                0.09             255                 255   \n...              ...                 ...             ...                 ...   \n22539           0.00                0.00             100                 141   \n22540           0.00                0.18             197                 255   \n22541           0.00                0.20             255                 255   \n22542           0.00                0.33             255                 252   \n22543           1.00                1.00             255                  21   \n\n       dst_host_same_srv_rate  dst_host_diff_srv_rate  \\\n0                        0.17                    0.03   \n1                        0.00                    0.60   \n2                        0.10                    0.05   \n3                        1.00                    0.00   \n4                        1.00                    0.00   \n...                       ...                     ...   \n22539                    0.72                    0.06   \n22540                    1.00                    0.00   \n22541                    1.00                    0.00   \n22542                    0.99                    0.01   \n22543                    0.08                    0.03   \n\n       dst_host_same_src_port_rate  dst_host_srv_diff_host_rate  \\\n0                             0.17                         0.00   \n1                             0.88                         0.00   \n2                             0.00                         0.00   \n3                             0.03                         0.04   \n4                             0.00                         0.00   \n...                            ...                          ...   \n22539                         0.01                         0.01   \n22540                         0.01                         0.01   \n22541                         0.00                         0.00   \n22542                         0.00                         0.00   \n22543                         0.00                         0.00   \n\n       dst_host_serror_rate  dst_host_srv_serror_rate  dst_host_rerror_rate  \\\n0                      0.00                      0.00                  0.05   \n1                      0.00                      0.00                  0.00   \n2                      1.00                      1.00                  0.00   \n3                      0.03                      0.01                  0.00   \n4                      0.00                      0.00                  0.00   \n...                     ...                       ...                   ...   \n22539                  0.01                      0.00                  0.00   \n22540                  0.01                      0.00                  0.00   \n22541                  0.00                      0.00                  0.07   \n22542                  0.00                      0.00                  0.00   \n22543                  0.00                      0.00                  0.44   \n\n       dst_host_srv_rerror_rate   label  \n0                          0.00  normal  \n1                          0.00  normal  \n2                          0.00  attack  \n3                          0.01  normal  \n4                          0.00  normal  \n...                         ...     ...  \n22539                      0.00  normal  \n22540                      0.00  normal  \n22541                      0.07  attack  \n22542                      0.00  normal  \n22543                      1.00  attack  \n\n[148517 rows x 42 columns]",
      "text/html": "<div>\n<style scoped>\n    .dataframe tbody tr th:only-of-type {\n        vertical-align: middle;\n    }\n\n    .dataframe tbody tr th {\n        vertical-align: top;\n    }\n\n    .dataframe thead th {\n        text-align: right;\n    }\n</style>\n<table border=\"1\" class=\"dataframe\">\n  <thead>\n    <tr style=\"text-align: right;\">\n      <th></th>\n      <th>duration</th>\n      <th>protocol_type</th>\n      <th>service</th>\n      <th>flag</th>\n      <th>src_bytes</th>\n      <th>dst_bytes</th>\n      <th>land</th>\n      <th>wrong_fragment</th>\n      <th>urgent</th>\n      <th>hot</th>\n      <th>num_failed_logins</th>\n      <th>logged_in</th>\n      <th>num_compromised</th>\n      <th>root_shell</th>\n      <th>su_attempted</th>\n      <th>num_root</th>\n      <th>num_file_creations</th>\n      <th>num_shells</th>\n      <th>num_access_files</th>\n      <th>num_outbound_cmds</th>\n      <th>is_host_login</th>\n      <th>is_guest_login</th>\n      <th>count</th>\n      <th>srv_count</th>\n      <th>serror_rate</th>\n      <th>srv_serror_rate</th>\n      <th>rerror_rate</th>\n      <th>srv_rerror_rate</th>\n      <th>same_srv_rate</th>\n      <th>diff_srv_rate</th>\n      <th>srv_diff_host_rate</th>\n      <th>dst_host_count</th>\n      <th>dst_host_srv_count</th>\n      <th>dst_host_same_srv_rate</th>\n      <th>dst_host_diff_srv_rate</th>\n      <th>dst_host_same_src_port_rate</th>\n      <th>dst_host_srv_diff_host_rate</th>\n      <th>dst_host_serror_rate</th>\n      <th>dst_host_srv_serror_rate</th>\n      <th>dst_host_rerror_rate</th>\n      <th>dst_host_srv_rerror_rate</th>\n      <th>label</th>\n    </tr>\n  </thead>\n  <tbody>\n    <tr>\n      <th>0</th>\n      <td>0</td>\n      <td>tcp</td>\n      <td>ftp_data</td>\n      <td>SF</td>\n      <td>491</td>\n      <td>0</td>\n      <td>0</td>\n      <td>0</td>\n      <td>0</td>\n      <td>0</td>\n      <td>0</td>\n      <td>0</td>\n      <td>0</td>\n      <td>0</td>\n      <td>0</td>\n      <td>0</td>\n      <td>0</td>\n      <td>0</td>\n      <td>0</td>\n      <td>0</td>\n      <td>0</td>\n      <td>0</td>\n      <td>2</td>\n      <td>2</td>\n      <td>0.0</td>\n      <td>0.0</td>\n      <td>0.0</td>\n      <td>0.0</td>\n      <td>1.00</td>\n      <td>0.00</td>\n      <td>0.00</td>\n      <td>150</td>\n      <td>25</td>\n      <td>0.17</td>\n      <td>0.03</td>\n      <td>0.17</td>\n      <td>0.00</td>\n      <td>0.00</td>\n      <td>0.00</td>\n      <td>0.05</td>\n      <td>0.00</td>\n      <td>normal</td>\n    </tr>\n    <tr>\n      <th>1</th>\n      <td>0</td>\n      <td>udp</td>\n      <td>other</td>\n      <td>SF</td>\n      <td>146</td>\n      <td>0</td>\n      <td>0</td>\n      <td>0</td>\n      <td>0</td>\n      <td>0</td>\n      <td>0</td>\n      <td>0</td>\n      <td>0</td>\n      <td>0</td>\n      <td>0</td>\n      <td>0</td>\n      <td>0</td>\n      <td>0</td>\n      <td>0</td>\n      <td>0</td>\n      <td>0</td>\n      <td>0</td>\n      <td>13</td>\n      <td>1</td>\n      <td>0.0</td>\n      <td>0.0</td>\n      <td>0.0</td>\n      <td>0.0</td>\n      <td>0.08</td>\n      <td>0.15</td>\n      <td>0.00</td>\n      <td>255</td>\n      <td>1</td>\n      <td>0.00</td>\n      <td>0.60</td>\n      <td>0.88</td>\n      <td>0.00</td>\n      <td>0.00</td>\n      <td>0.00</td>\n      <td>0.00</td>\n      <td>0.00</td>\n      <td>normal</td>\n    </tr>\n    <tr>\n      <th>2</th>\n      <td>0</td>\n      <td>tcp</td>\n      <td>private</td>\n      <td>S0</td>\n      <td>0</td>\n      <td>0</td>\n      <td>0</td>\n      <td>0</td>\n      <td>0</td>\n      <td>0</td>\n      <td>0</td>\n      <td>0</td>\n      <td>0</td>\n      <td>0</td>\n      <td>0</td>\n      <td>0</td>\n      <td>0</td>\n      <td>0</td>\n      <td>0</td>\n      <td>0</td>\n      <td>0</td>\n      <td>0</td>\n      <td>123</td>\n      <td>6</td>\n      <td>1.0</td>\n      <td>1.0</td>\n      <td>0.0</td>\n      <td>0.0</td>\n      <td>0.05</td>\n      <td>0.07</td>\n      <td>0.00</td>\n      <td>255</td>\n      <td>26</td>\n      <td>0.10</td>\n      <td>0.05</td>\n      <td>0.00</td>\n      <td>0.00</td>\n      <td>1.00</td>\n      <td>1.00</td>\n      <td>0.00</td>\n      <td>0.00</td>\n      <td>attack</td>\n    </tr>\n    <tr>\n      <th>3</th>\n      <td>0</td>\n      <td>tcp</td>\n      <td>http</td>\n      <td>SF</td>\n      <td>232</td>\n      <td>8153</td>\n      <td>0</td>\n      <td>0</td>\n      <td>0</td>\n      <td>0</td>\n      <td>0</td>\n      <td>1</td>\n      <td>0</td>\n      <td>0</td>\n      <td>0</td>\n      <td>0</td>\n      <td>0</td>\n      <td>0</td>\n      <td>0</td>\n      <td>0</td>\n      <td>0</td>\n      <td>0</td>\n      <td>5</td>\n      <td>5</td>\n      <td>0.2</td>\n      <td>0.2</td>\n      <td>0.0</td>\n      <td>0.0</td>\n      <td>1.00</td>\n      <td>0.00</td>\n      <td>0.00</td>\n      <td>30</td>\n      <td>255</td>\n      <td>1.00</td>\n      <td>0.00</td>\n      <td>0.03</td>\n      <td>0.04</td>\n      <td>0.03</td>\n      <td>0.01</td>\n      <td>0.00</td>\n      <td>0.01</td>\n      <td>normal</td>\n    </tr>\n    <tr>\n      <th>4</th>\n      <td>0</td>\n      <td>tcp</td>\n      <td>http</td>\n      <td>SF</td>\n      <td>199</td>\n      <td>420</td>\n      <td>0</td>\n      <td>0</td>\n      <td>0</td>\n      <td>0</td>\n      <td>0</td>\n      <td>1</td>\n      <td>0</td>\n      <td>0</td>\n      <td>0</td>\n      <td>0</td>\n      <td>0</td>\n      <td>0</td>\n      <td>0</td>\n      <td>0</td>\n      <td>0</td>\n      <td>0</td>\n      <td>30</td>\n      <td>32</td>\n      <td>0.0</td>\n      <td>0.0</td>\n      <td>0.0</td>\n      <td>0.0</td>\n      <td>1.00</td>\n      <td>0.00</td>\n      <td>0.09</td>\n      <td>255</td>\n      <td>255</td>\n      <td>1.00</td>\n      <td>0.00</td>\n      <td>0.00</td>\n      <td>0.00</td>\n      <td>0.00</td>\n      <td>0.00</td>\n      <td>0.00</td>\n      <td>0.00</td>\n      <td>normal</td>\n    </tr>\n    <tr>\n      <th>...</th>\n      <td>...</td>\n      <td>...</td>\n      <td>...</td>\n      <td>...</td>\n      <td>...</td>\n      <td>...</td>\n      <td>...</td>\n      <td>...</td>\n      <td>...</td>\n      <td>...</td>\n      <td>...</td>\n      <td>...</td>\n      <td>...</td>\n      <td>...</td>\n      <td>...</td>\n      <td>...</td>\n      <td>...</td>\n      <td>...</td>\n      <td>...</td>\n      <td>...</td>\n      <td>...</td>\n      <td>...</td>\n      <td>...</td>\n      <td>...</td>\n      <td>...</td>\n      <td>...</td>\n      <td>...</td>\n      <td>...</td>\n      <td>...</td>\n      <td>...</td>\n      <td>...</td>\n      <td>...</td>\n      <td>...</td>\n      <td>...</td>\n      <td>...</td>\n      <td>...</td>\n      <td>...</td>\n      <td>...</td>\n      <td>...</td>\n      <td>...</td>\n      <td>...</td>\n      <td>...</td>\n    </tr>\n    <tr>\n      <th>22539</th>\n      <td>0</td>\n      <td>tcp</td>\n      <td>smtp</td>\n      <td>SF</td>\n      <td>794</td>\n      <td>333</td>\n      <td>0</td>\n      <td>0</td>\n      <td>0</td>\n      <td>0</td>\n      <td>0</td>\n      <td>1</td>\n      <td>0</td>\n      <td>0</td>\n      <td>0</td>\n      <td>0</td>\n      <td>0</td>\n      <td>0</td>\n      <td>0</td>\n      <td>0</td>\n      <td>0</td>\n      <td>0</td>\n      <td>1</td>\n      <td>1</td>\n      <td>0.0</td>\n      <td>0.0</td>\n      <td>0.0</td>\n      <td>0.0</td>\n      <td>1.00</td>\n      <td>0.00</td>\n      <td>0.00</td>\n      <td>100</td>\n      <td>141</td>\n      <td>0.72</td>\n      <td>0.06</td>\n      <td>0.01</td>\n      <td>0.01</td>\n      <td>0.01</td>\n      <td>0.00</td>\n      <td>0.00</td>\n      <td>0.00</td>\n      <td>normal</td>\n    </tr>\n    <tr>\n      <th>22540</th>\n      <td>0</td>\n      <td>tcp</td>\n      <td>http</td>\n      <td>SF</td>\n      <td>317</td>\n      <td>938</td>\n      <td>0</td>\n      <td>0</td>\n      <td>0</td>\n      <td>0</td>\n      <td>0</td>\n      <td>1</td>\n      <td>0</td>\n      <td>0</td>\n      <td>0</td>\n      <td>0</td>\n      <td>0</td>\n      <td>0</td>\n      <td>0</td>\n      <td>0</td>\n      <td>0</td>\n      <td>0</td>\n      <td>2</td>\n      <td>11</td>\n      <td>0.0</td>\n      <td>0.0</td>\n      <td>0.0</td>\n      <td>0.0</td>\n      <td>1.00</td>\n      <td>0.00</td>\n      <td>0.18</td>\n      <td>197</td>\n      <td>255</td>\n      <td>1.00</td>\n      <td>0.00</td>\n      <td>0.01</td>\n      <td>0.01</td>\n      <td>0.01</td>\n      <td>0.00</td>\n      <td>0.00</td>\n      <td>0.00</td>\n      <td>normal</td>\n    </tr>\n    <tr>\n      <th>22541</th>\n      <td>0</td>\n      <td>tcp</td>\n      <td>http</td>\n      <td>SF</td>\n      <td>54540</td>\n      <td>8314</td>\n      <td>0</td>\n      <td>0</td>\n      <td>0</td>\n      <td>2</td>\n      <td>0</td>\n      <td>1</td>\n      <td>1</td>\n      <td>0</td>\n      <td>0</td>\n      <td>0</td>\n      <td>0</td>\n      <td>0</td>\n      <td>0</td>\n      <td>0</td>\n      <td>0</td>\n      <td>0</td>\n      <td>5</td>\n      <td>10</td>\n      <td>0.0</td>\n      <td>0.0</td>\n      <td>0.0</td>\n      <td>0.0</td>\n      <td>1.00</td>\n      <td>0.00</td>\n      <td>0.20</td>\n      <td>255</td>\n      <td>255</td>\n      <td>1.00</td>\n      <td>0.00</td>\n      <td>0.00</td>\n      <td>0.00</td>\n      <td>0.00</td>\n      <td>0.00</td>\n      <td>0.07</td>\n      <td>0.07</td>\n      <td>attack</td>\n    </tr>\n    <tr>\n      <th>22542</th>\n      <td>0</td>\n      <td>udp</td>\n      <td>domain_u</td>\n      <td>SF</td>\n      <td>42</td>\n      <td>42</td>\n      <td>0</td>\n      <td>0</td>\n      <td>0</td>\n      <td>0</td>\n      <td>0</td>\n      <td>0</td>\n      <td>0</td>\n      <td>0</td>\n      <td>0</td>\n      <td>0</td>\n      <td>0</td>\n      <td>0</td>\n      <td>0</td>\n      <td>0</td>\n      <td>0</td>\n      <td>0</td>\n      <td>4</td>\n      <td>6</td>\n      <td>0.0</td>\n      <td>0.0</td>\n      <td>0.0</td>\n      <td>0.0</td>\n      <td>1.00</td>\n      <td>0.00</td>\n      <td>0.33</td>\n      <td>255</td>\n      <td>252</td>\n      <td>0.99</td>\n      <td>0.01</td>\n      <td>0.00</td>\n      <td>0.00</td>\n      <td>0.00</td>\n      <td>0.00</td>\n      <td>0.00</td>\n      <td>0.00</td>\n      <td>normal</td>\n    </tr>\n    <tr>\n      <th>22543</th>\n      <td>0</td>\n      <td>tcp</td>\n      <td>sunrpc</td>\n      <td>REJ</td>\n      <td>0</td>\n      <td>0</td>\n      <td>0</td>\n      <td>0</td>\n      <td>0</td>\n      <td>0</td>\n      <td>0</td>\n      <td>0</td>\n      <td>0</td>\n      <td>0</td>\n      <td>0</td>\n      <td>0</td>\n      <td>0</td>\n      <td>0</td>\n      <td>0</td>\n      <td>0</td>\n      <td>0</td>\n      <td>0</td>\n      <td>4</td>\n      <td>10</td>\n      <td>0.0</td>\n      <td>0.0</td>\n      <td>1.0</td>\n      <td>1.0</td>\n      <td>0.25</td>\n      <td>1.00</td>\n      <td>1.00</td>\n      <td>255</td>\n      <td>21</td>\n      <td>0.08</td>\n      <td>0.03</td>\n      <td>0.00</td>\n      <td>0.00</td>\n      <td>0.00</td>\n      <td>0.00</td>\n      <td>0.44</td>\n      <td>1.00</td>\n      <td>attack</td>\n    </tr>\n  </tbody>\n</table>\n<p>148517 rows × 42 columns</p>\n</div>"
     },
     "execution_count": 6,
     "metadata": {},
     "output_type": "execute_result"
    }
   ],
   "source": [
    "ds"
   ],
   "metadata": {
    "collapsed": false,
    "pycharm": {
     "name": "#%%\n"
    }
   }
  },
  {
   "cell_type": "code",
   "execution_count": 8,
   "outputs": [
    {
     "data": {
      "text/plain": "<pandas.io.formats.style.Styler at 0x244f4117220>",
      "text/html": "<style type=\"text/css\">\n#T_af7fd_row29_col1, #T_af7fd_row51_col1 {\n  background-color: lightgreen;\n}\n</style>\n<table id=\"T_af7fd_\">\n  <thead>\n    <tr>\n      <th class=\"blank level0\" >&nbsp;</th>\n      <th class=\"col_heading level0 col0\" >Description</th>\n      <th class=\"col_heading level0 col1\" >Value</th>\n    </tr>\n  </thead>\n  <tbody>\n    <tr>\n      <th id=\"T_af7fd_level0_row0\" class=\"row_heading level0 row0\" >0</th>\n      <td id=\"T_af7fd_row0_col0\" class=\"data row0 col0\" >session_id</td>\n      <td id=\"T_af7fd_row0_col1\" class=\"data row0 col1\" >1928</td>\n    </tr>\n    <tr>\n      <th id=\"T_af7fd_level0_row1\" class=\"row_heading level0 row1\" >1</th>\n      <td id=\"T_af7fd_row1_col0\" class=\"data row1 col0\" >Target</td>\n      <td id=\"T_af7fd_row1_col1\" class=\"data row1 col1\" >label</td>\n    </tr>\n    <tr>\n      <th id=\"T_af7fd_level0_row2\" class=\"row_heading level0 row2\" >2</th>\n      <td id=\"T_af7fd_row2_col0\" class=\"data row2 col0\" >Target Type</td>\n      <td id=\"T_af7fd_row2_col1\" class=\"data row2 col1\" >Binary</td>\n    </tr>\n    <tr>\n      <th id=\"T_af7fd_level0_row3\" class=\"row_heading level0 row3\" >3</th>\n      <td id=\"T_af7fd_row3_col0\" class=\"data row3 col0\" >Label Encoded</td>\n      <td id=\"T_af7fd_row3_col1\" class=\"data row3 col1\" >attack: 0, normal: 1</td>\n    </tr>\n    <tr>\n      <th id=\"T_af7fd_level0_row4\" class=\"row_heading level0 row4\" >4</th>\n      <td id=\"T_af7fd_row4_col0\" class=\"data row4 col0\" >Original Data</td>\n      <td id=\"T_af7fd_row4_col1\" class=\"data row4 col1\" >(148517, 42)</td>\n    </tr>\n    <tr>\n      <th id=\"T_af7fd_level0_row5\" class=\"row_heading level0 row5\" >5</th>\n      <td id=\"T_af7fd_row5_col0\" class=\"data row5 col0\" >Missing Values</td>\n      <td id=\"T_af7fd_row5_col1\" class=\"data row5 col1\" >False</td>\n    </tr>\n    <tr>\n      <th id=\"T_af7fd_level0_row6\" class=\"row_heading level0 row6\" >6</th>\n      <td id=\"T_af7fd_row6_col0\" class=\"data row6 col0\" >Numeric Features</td>\n      <td id=\"T_af7fd_row6_col1\" class=\"data row6 col1\" >26</td>\n    </tr>\n    <tr>\n      <th id=\"T_af7fd_level0_row7\" class=\"row_heading level0 row7\" >7</th>\n      <td id=\"T_af7fd_row7_col0\" class=\"data row7 col0\" >Categorical Features</td>\n      <td id=\"T_af7fd_row7_col1\" class=\"data row7 col1\" >15</td>\n    </tr>\n    <tr>\n      <th id=\"T_af7fd_level0_row8\" class=\"row_heading level0 row8\" >8</th>\n      <td id=\"T_af7fd_row8_col0\" class=\"data row8 col0\" >Ordinal Features</td>\n      <td id=\"T_af7fd_row8_col1\" class=\"data row8 col1\" >False</td>\n    </tr>\n    <tr>\n      <th id=\"T_af7fd_level0_row9\" class=\"row_heading level0 row9\" >9</th>\n      <td id=\"T_af7fd_row9_col0\" class=\"data row9 col0\" >High Cardinality Features</td>\n      <td id=\"T_af7fd_row9_col1\" class=\"data row9 col1\" >False</td>\n    </tr>\n    <tr>\n      <th id=\"T_af7fd_level0_row10\" class=\"row_heading level0 row10\" >10</th>\n      <td id=\"T_af7fd_row10_col0\" class=\"data row10 col0\" >High Cardinality Method</td>\n      <td id=\"T_af7fd_row10_col1\" class=\"data row10 col1\" >None</td>\n    </tr>\n    <tr>\n      <th id=\"T_af7fd_level0_row11\" class=\"row_heading level0 row11\" >11</th>\n      <td id=\"T_af7fd_row11_col0\" class=\"data row11 col0\" >Transformed Train Set</td>\n      <td id=\"T_af7fd_row11_col1\" class=\"data row11 col1\" >(118813, 41)</td>\n    </tr>\n    <tr>\n      <th id=\"T_af7fd_level0_row12\" class=\"row_heading level0 row12\" >12</th>\n      <td id=\"T_af7fd_row12_col0\" class=\"data row12 col0\" >Transformed Test Set</td>\n      <td id=\"T_af7fd_row12_col1\" class=\"data row12 col1\" >(29704, 41)</td>\n    </tr>\n    <tr>\n      <th id=\"T_af7fd_level0_row13\" class=\"row_heading level0 row13\" >13</th>\n      <td id=\"T_af7fd_row13_col0\" class=\"data row13 col0\" >Shuffle Train-Test</td>\n      <td id=\"T_af7fd_row13_col1\" class=\"data row13 col1\" >True</td>\n    </tr>\n    <tr>\n      <th id=\"T_af7fd_level0_row14\" class=\"row_heading level0 row14\" >14</th>\n      <td id=\"T_af7fd_row14_col0\" class=\"data row14 col0\" >Stratify Train-Test</td>\n      <td id=\"T_af7fd_row14_col1\" class=\"data row14 col1\" >False</td>\n    </tr>\n    <tr>\n      <th id=\"T_af7fd_level0_row15\" class=\"row_heading level0 row15\" >15</th>\n      <td id=\"T_af7fd_row15_col0\" class=\"data row15 col0\" >Fold Generator</td>\n      <td id=\"T_af7fd_row15_col1\" class=\"data row15 col1\" >StratifiedKFold</td>\n    </tr>\n    <tr>\n      <th id=\"T_af7fd_level0_row16\" class=\"row_heading level0 row16\" >16</th>\n      <td id=\"T_af7fd_row16_col0\" class=\"data row16 col0\" >Fold Number</td>\n      <td id=\"T_af7fd_row16_col1\" class=\"data row16 col1\" >10</td>\n    </tr>\n    <tr>\n      <th id=\"T_af7fd_level0_row17\" class=\"row_heading level0 row17\" >17</th>\n      <td id=\"T_af7fd_row17_col0\" class=\"data row17 col0\" >CPU Jobs</td>\n      <td id=\"T_af7fd_row17_col1\" class=\"data row17 col1\" >-1</td>\n    </tr>\n    <tr>\n      <th id=\"T_af7fd_level0_row18\" class=\"row_heading level0 row18\" >18</th>\n      <td id=\"T_af7fd_row18_col0\" class=\"data row18 col0\" >Use GPU</td>\n      <td id=\"T_af7fd_row18_col1\" class=\"data row18 col1\" >False</td>\n    </tr>\n    <tr>\n      <th id=\"T_af7fd_level0_row19\" class=\"row_heading level0 row19\" >19</th>\n      <td id=\"T_af7fd_row19_col0\" class=\"data row19 col0\" >Log Experiment</td>\n      <td id=\"T_af7fd_row19_col1\" class=\"data row19 col1\" >False</td>\n    </tr>\n    <tr>\n      <th id=\"T_af7fd_level0_row20\" class=\"row_heading level0 row20\" >20</th>\n      <td id=\"T_af7fd_row20_col0\" class=\"data row20 col0\" >Experiment Name</td>\n      <td id=\"T_af7fd_row20_col1\" class=\"data row20 col1\" >clf-default-name</td>\n    </tr>\n    <tr>\n      <th id=\"T_af7fd_level0_row21\" class=\"row_heading level0 row21\" >21</th>\n      <td id=\"T_af7fd_row21_col0\" class=\"data row21 col0\" >USI</td>\n      <td id=\"T_af7fd_row21_col1\" class=\"data row21 col1\" >9638</td>\n    </tr>\n    <tr>\n      <th id=\"T_af7fd_level0_row22\" class=\"row_heading level0 row22\" >22</th>\n      <td id=\"T_af7fd_row22_col0\" class=\"data row22 col0\" >Imputation Type</td>\n      <td id=\"T_af7fd_row22_col1\" class=\"data row22 col1\" >simple</td>\n    </tr>\n    <tr>\n      <th id=\"T_af7fd_level0_row23\" class=\"row_heading level0 row23\" >23</th>\n      <td id=\"T_af7fd_row23_col0\" class=\"data row23 col0\" >Iterative Imputation Iteration</td>\n      <td id=\"T_af7fd_row23_col1\" class=\"data row23 col1\" >None</td>\n    </tr>\n    <tr>\n      <th id=\"T_af7fd_level0_row24\" class=\"row_heading level0 row24\" >24</th>\n      <td id=\"T_af7fd_row24_col0\" class=\"data row24 col0\" >Numeric Imputer</td>\n      <td id=\"T_af7fd_row24_col1\" class=\"data row24 col1\" >mean</td>\n    </tr>\n    <tr>\n      <th id=\"T_af7fd_level0_row25\" class=\"row_heading level0 row25\" >25</th>\n      <td id=\"T_af7fd_row25_col0\" class=\"data row25 col0\" >Iterative Imputation Numeric Model</td>\n      <td id=\"T_af7fd_row25_col1\" class=\"data row25 col1\" >None</td>\n    </tr>\n    <tr>\n      <th id=\"T_af7fd_level0_row26\" class=\"row_heading level0 row26\" >26</th>\n      <td id=\"T_af7fd_row26_col0\" class=\"data row26 col0\" >Categorical Imputer</td>\n      <td id=\"T_af7fd_row26_col1\" class=\"data row26 col1\" >constant</td>\n    </tr>\n    <tr>\n      <th id=\"T_af7fd_level0_row27\" class=\"row_heading level0 row27\" >27</th>\n      <td id=\"T_af7fd_row27_col0\" class=\"data row27 col0\" >Iterative Imputation Categorical Model</td>\n      <td id=\"T_af7fd_row27_col1\" class=\"data row27 col1\" >None</td>\n    </tr>\n    <tr>\n      <th id=\"T_af7fd_level0_row28\" class=\"row_heading level0 row28\" >28</th>\n      <td id=\"T_af7fd_row28_col0\" class=\"data row28 col0\" >Unknown Categoricals Handling</td>\n      <td id=\"T_af7fd_row28_col1\" class=\"data row28 col1\" >least_frequent</td>\n    </tr>\n    <tr>\n      <th id=\"T_af7fd_level0_row29\" class=\"row_heading level0 row29\" >29</th>\n      <td id=\"T_af7fd_row29_col0\" class=\"data row29 col0\" >Normalize</td>\n      <td id=\"T_af7fd_row29_col1\" class=\"data row29 col1\" >True</td>\n    </tr>\n    <tr>\n      <th id=\"T_af7fd_level0_row30\" class=\"row_heading level0 row30\" >30</th>\n      <td id=\"T_af7fd_row30_col0\" class=\"data row30 col0\" >Normalize Method</td>\n      <td id=\"T_af7fd_row30_col1\" class=\"data row30 col1\" >minmax</td>\n    </tr>\n    <tr>\n      <th id=\"T_af7fd_level0_row31\" class=\"row_heading level0 row31\" >31</th>\n      <td id=\"T_af7fd_row31_col0\" class=\"data row31 col0\" >Transformation</td>\n      <td id=\"T_af7fd_row31_col1\" class=\"data row31 col1\" >False</td>\n    </tr>\n    <tr>\n      <th id=\"T_af7fd_level0_row32\" class=\"row_heading level0 row32\" >32</th>\n      <td id=\"T_af7fd_row32_col0\" class=\"data row32 col0\" >Transformation Method</td>\n      <td id=\"T_af7fd_row32_col1\" class=\"data row32 col1\" >None</td>\n    </tr>\n    <tr>\n      <th id=\"T_af7fd_level0_row33\" class=\"row_heading level0 row33\" >33</th>\n      <td id=\"T_af7fd_row33_col0\" class=\"data row33 col0\" >PCA</td>\n      <td id=\"T_af7fd_row33_col1\" class=\"data row33 col1\" >False</td>\n    </tr>\n    <tr>\n      <th id=\"T_af7fd_level0_row34\" class=\"row_heading level0 row34\" >34</th>\n      <td id=\"T_af7fd_row34_col0\" class=\"data row34 col0\" >PCA Method</td>\n      <td id=\"T_af7fd_row34_col1\" class=\"data row34 col1\" >None</td>\n    </tr>\n    <tr>\n      <th id=\"T_af7fd_level0_row35\" class=\"row_heading level0 row35\" >35</th>\n      <td id=\"T_af7fd_row35_col0\" class=\"data row35 col0\" >PCA Components</td>\n      <td id=\"T_af7fd_row35_col1\" class=\"data row35 col1\" >None</td>\n    </tr>\n    <tr>\n      <th id=\"T_af7fd_level0_row36\" class=\"row_heading level0 row36\" >36</th>\n      <td id=\"T_af7fd_row36_col0\" class=\"data row36 col0\" >Ignore Low Variance</td>\n      <td id=\"T_af7fd_row36_col1\" class=\"data row36 col1\" >False</td>\n    </tr>\n    <tr>\n      <th id=\"T_af7fd_level0_row37\" class=\"row_heading level0 row37\" >37</th>\n      <td id=\"T_af7fd_row37_col0\" class=\"data row37 col0\" >Combine Rare Levels</td>\n      <td id=\"T_af7fd_row37_col1\" class=\"data row37 col1\" >False</td>\n    </tr>\n    <tr>\n      <th id=\"T_af7fd_level0_row38\" class=\"row_heading level0 row38\" >38</th>\n      <td id=\"T_af7fd_row38_col0\" class=\"data row38 col0\" >Rare Level Threshold</td>\n      <td id=\"T_af7fd_row38_col1\" class=\"data row38 col1\" >None</td>\n    </tr>\n    <tr>\n      <th id=\"T_af7fd_level0_row39\" class=\"row_heading level0 row39\" >39</th>\n      <td id=\"T_af7fd_row39_col0\" class=\"data row39 col0\" >Numeric Binning</td>\n      <td id=\"T_af7fd_row39_col1\" class=\"data row39 col1\" >False</td>\n    </tr>\n    <tr>\n      <th id=\"T_af7fd_level0_row40\" class=\"row_heading level0 row40\" >40</th>\n      <td id=\"T_af7fd_row40_col0\" class=\"data row40 col0\" >Remove Outliers</td>\n      <td id=\"T_af7fd_row40_col1\" class=\"data row40 col1\" >False</td>\n    </tr>\n    <tr>\n      <th id=\"T_af7fd_level0_row41\" class=\"row_heading level0 row41\" >41</th>\n      <td id=\"T_af7fd_row41_col0\" class=\"data row41 col0\" >Outliers Threshold</td>\n      <td id=\"T_af7fd_row41_col1\" class=\"data row41 col1\" >None</td>\n    </tr>\n    <tr>\n      <th id=\"T_af7fd_level0_row42\" class=\"row_heading level0 row42\" >42</th>\n      <td id=\"T_af7fd_row42_col0\" class=\"data row42 col0\" >Remove Multicollinearity</td>\n      <td id=\"T_af7fd_row42_col1\" class=\"data row42 col1\" >False</td>\n    </tr>\n    <tr>\n      <th id=\"T_af7fd_level0_row43\" class=\"row_heading level0 row43\" >43</th>\n      <td id=\"T_af7fd_row43_col0\" class=\"data row43 col0\" >Multicollinearity Threshold</td>\n      <td id=\"T_af7fd_row43_col1\" class=\"data row43 col1\" >None</td>\n    </tr>\n    <tr>\n      <th id=\"T_af7fd_level0_row44\" class=\"row_heading level0 row44\" >44</th>\n      <td id=\"T_af7fd_row44_col0\" class=\"data row44 col0\" >Clustering</td>\n      <td id=\"T_af7fd_row44_col1\" class=\"data row44 col1\" >False</td>\n    </tr>\n    <tr>\n      <th id=\"T_af7fd_level0_row45\" class=\"row_heading level0 row45\" >45</th>\n      <td id=\"T_af7fd_row45_col0\" class=\"data row45 col0\" >Clustering Iteration</td>\n      <td id=\"T_af7fd_row45_col1\" class=\"data row45 col1\" >None</td>\n    </tr>\n    <tr>\n      <th id=\"T_af7fd_level0_row46\" class=\"row_heading level0 row46\" >46</th>\n      <td id=\"T_af7fd_row46_col0\" class=\"data row46 col0\" >Polynomial Features</td>\n      <td id=\"T_af7fd_row46_col1\" class=\"data row46 col1\" >False</td>\n    </tr>\n    <tr>\n      <th id=\"T_af7fd_level0_row47\" class=\"row_heading level0 row47\" >47</th>\n      <td id=\"T_af7fd_row47_col0\" class=\"data row47 col0\" >Polynomial Degree</td>\n      <td id=\"T_af7fd_row47_col1\" class=\"data row47 col1\" >None</td>\n    </tr>\n    <tr>\n      <th id=\"T_af7fd_level0_row48\" class=\"row_heading level0 row48\" >48</th>\n      <td id=\"T_af7fd_row48_col0\" class=\"data row48 col0\" >Trignometry Features</td>\n      <td id=\"T_af7fd_row48_col1\" class=\"data row48 col1\" >False</td>\n    </tr>\n    <tr>\n      <th id=\"T_af7fd_level0_row49\" class=\"row_heading level0 row49\" >49</th>\n      <td id=\"T_af7fd_row49_col0\" class=\"data row49 col0\" >Polynomial Threshold</td>\n      <td id=\"T_af7fd_row49_col1\" class=\"data row49 col1\" >None</td>\n    </tr>\n    <tr>\n      <th id=\"T_af7fd_level0_row50\" class=\"row_heading level0 row50\" >50</th>\n      <td id=\"T_af7fd_row50_col0\" class=\"data row50 col0\" >Group Features</td>\n      <td id=\"T_af7fd_row50_col1\" class=\"data row50 col1\" >False</td>\n    </tr>\n    <tr>\n      <th id=\"T_af7fd_level0_row51\" class=\"row_heading level0 row51\" >51</th>\n      <td id=\"T_af7fd_row51_col0\" class=\"data row51 col0\" >Feature Selection</td>\n      <td id=\"T_af7fd_row51_col1\" class=\"data row51 col1\" >True</td>\n    </tr>\n    <tr>\n      <th id=\"T_af7fd_level0_row52\" class=\"row_heading level0 row52\" >52</th>\n      <td id=\"T_af7fd_row52_col0\" class=\"data row52 col0\" >Features Selection Threshold</td>\n      <td id=\"T_af7fd_row52_col1\" class=\"data row52 col1\" >0.200000</td>\n    </tr>\n    <tr>\n      <th id=\"T_af7fd_level0_row53\" class=\"row_heading level0 row53\" >53</th>\n      <td id=\"T_af7fd_row53_col0\" class=\"data row53 col0\" >Feature Interaction</td>\n      <td id=\"T_af7fd_row53_col1\" class=\"data row53 col1\" >False</td>\n    </tr>\n    <tr>\n      <th id=\"T_af7fd_level0_row54\" class=\"row_heading level0 row54\" >54</th>\n      <td id=\"T_af7fd_row54_col0\" class=\"data row54 col0\" >Feature Ratio</td>\n      <td id=\"T_af7fd_row54_col1\" class=\"data row54 col1\" >False</td>\n    </tr>\n    <tr>\n      <th id=\"T_af7fd_level0_row55\" class=\"row_heading level0 row55\" >55</th>\n      <td id=\"T_af7fd_row55_col0\" class=\"data row55 col0\" >Interaction Threshold</td>\n      <td id=\"T_af7fd_row55_col1\" class=\"data row55 col1\" >None</td>\n    </tr>\n    <tr>\n      <th id=\"T_af7fd_level0_row56\" class=\"row_heading level0 row56\" >56</th>\n      <td id=\"T_af7fd_row56_col0\" class=\"data row56 col0\" >Fix Imbalance</td>\n      <td id=\"T_af7fd_row56_col1\" class=\"data row56 col1\" >False</td>\n    </tr>\n    <tr>\n      <th id=\"T_af7fd_level0_row57\" class=\"row_heading level0 row57\" >57</th>\n      <td id=\"T_af7fd_row57_col0\" class=\"data row57 col0\" >Fix Imbalance Method</td>\n      <td id=\"T_af7fd_row57_col1\" class=\"data row57 col1\" >SMOTE</td>\n    </tr>\n  </tbody>\n</table>\n"
     },
     "metadata": {},
     "output_type": "display_data"
    }
   ],
   "source": [
    "dsp_tr=setup(data = ds,\n",
    "             target = 'label',train_size=0.8,\n",
    "             numeric_imputation = 'mean',\n",
    "             categorical_features = ['protocol_type','service','flag'],\n",
    "             normalize=True,normalize_method='minmax',\n",
    "             feature_selection=True,feature_selection_threshold=0.2,\n",
    "             silent = True, fold_shuffle=True)"
   ],
   "metadata": {
    "collapsed": false,
    "pycharm": {
     "name": "#%%\n"
    }
   }
  },
  {
   "cell_type": "code",
   "execution_count": 19,
   "outputs": [
    {
     "data": {
      "text/plain": "'0.23.2'"
     },
     "execution_count": 19,
     "metadata": {},
     "output_type": "execute_result"
    }
   ],
   "source": [
    "import sklearn\n",
    "sklearn.__version__"
   ],
   "metadata": {
    "collapsed": false,
    "pycharm": {
     "name": "#%%\n"
    }
   }
  },
  {
   "cell_type": "code",
   "execution_count": 23,
   "outputs": [],
   "source": [
    "X_train=get_config('X_train')"
   ],
   "metadata": {
    "collapsed": false,
    "pycharm": {
     "name": "#%%\n"
    }
   }
  },
  {
   "cell_type": "code",
   "execution_count": 24,
   "outputs": [
    {
     "data": {
      "text/plain": "           count  srv_serror_rate  service_smtp  logged_in_1     src_bytes  \\\n55017   0.440313              1.0           0.0          0.0  0.000000e+00   \n22397   0.001957              0.0           0.0          0.0  6.304513e-08   \n7837    0.557730              0.0           0.0          0.0  0.000000e+00   \n63593   0.001957              0.0           0.0          0.0  5.420432e-07   \n58717   0.142857              0.0           0.0          0.0  3.260955e-08   \n...          ...              ...           ...          ...           ...   \n120779  0.583170              0.0           0.0          0.0  3.333420e-08   \n8869    0.003914              0.0           0.0          1.0  1.681203e-07   \n75861   0.001957              0.0           0.0          0.0  0.000000e+00   \n109183  0.563601              1.0           0.0          0.0  0.000000e+00   \n96709   0.563601              0.0           0.0          0.0  0.000000e+00   \n\n        service_ecr_i  service_ftp_data  service_private  \\\n55017             0.0               0.0              0.0   \n22397             0.0               0.0              0.0   \n7837              0.0               0.0              1.0   \n63593             0.0               1.0              0.0   \n58717             0.0               0.0              0.0   \n...               ...               ...              ...   \n120779            0.0               0.0              0.0   \n8869              0.0               0.0              0.0   \n75861             0.0               0.0              1.0   \n109183            0.0               0.0              1.0   \n96709             0.0               0.0              1.0   \n\n        dst_host_same_src_port_rate  protocol_type_udp  ...  duration  \\\n55017                          0.00                0.0  ...  0.000000   \n22397                          0.00                0.0  ...  0.001116   \n7837                           0.00                0.0  ...  0.000000   \n63593                          0.02                0.0  ...  0.000000   \n58717                          0.00                1.0  ...  0.000000   \n...                             ...                ...  ...       ...   \n120779                         0.00                1.0  ...  0.000000   \n8869                           0.03                0.0  ...  0.000000   \n75861                          0.04                0.0  ...  0.000000   \n109183                         0.00                0.0  ...  0.000000   \n96709                          0.00                0.0  ...  0.000000   \n\n        same_srv_rate  flag_REJ  srv_diff_host_rate  srv_count  rerror_rate  \\\n55017            0.09       0.0                0.00   0.041096         0.00   \n22397            1.00       0.0                0.00   0.001957         0.00   \n7837             0.00       1.0                0.00   0.001957         0.84   \n63593            1.00       0.0                0.00   0.001957         0.00   \n58717            1.00       0.0                0.01   0.301370         0.00   \n...               ...       ...                 ...        ...          ...   \n120779           1.00       0.0                0.00   0.583170         0.00   \n8869             1.00       0.0                0.67   0.005871         0.00   \n75861            1.00       0.0                0.00   0.001957         1.00   \n109183           0.05       0.0                0.00   0.025440         0.00   \n96709            0.00       1.0                0.00   0.001957         0.88   \n\n        flag_SF  serror_rate  protocol_type_tcp  dst_host_srv_rerror_rate  \n55017       0.0         1.00                1.0                       0.0  \n22397       1.0         0.00                1.0                       0.0  \n7837        0.0         0.15                1.0                       1.0  \n63593       1.0         0.00                1.0                       0.0  \n58717       1.0         0.00                0.0                       0.0  \n...         ...          ...                ...                       ...  \n120779      1.0         0.00                0.0                       0.0  \n8869        1.0         0.00                1.0                       0.0  \n75861       0.0         0.00                1.0                       1.0  \n109183      0.0         1.00                1.0                       0.0  \n96709       0.0         0.07                1.0                       1.0  \n\n[118813 rows x 41 columns]",
      "text/html": "<div>\n<style scoped>\n    .dataframe tbody tr th:only-of-type {\n        vertical-align: middle;\n    }\n\n    .dataframe tbody tr th {\n        vertical-align: top;\n    }\n\n    .dataframe thead th {\n        text-align: right;\n    }\n</style>\n<table border=\"1\" class=\"dataframe\">\n  <thead>\n    <tr style=\"text-align: right;\">\n      <th></th>\n      <th>count</th>\n      <th>srv_serror_rate</th>\n      <th>service_smtp</th>\n      <th>logged_in_1</th>\n      <th>src_bytes</th>\n      <th>service_ecr_i</th>\n      <th>service_ftp_data</th>\n      <th>service_private</th>\n      <th>dst_host_same_src_port_rate</th>\n      <th>protocol_type_udp</th>\n      <th>...</th>\n      <th>duration</th>\n      <th>same_srv_rate</th>\n      <th>flag_REJ</th>\n      <th>srv_diff_host_rate</th>\n      <th>srv_count</th>\n      <th>rerror_rate</th>\n      <th>flag_SF</th>\n      <th>serror_rate</th>\n      <th>protocol_type_tcp</th>\n      <th>dst_host_srv_rerror_rate</th>\n    </tr>\n  </thead>\n  <tbody>\n    <tr>\n      <th>55017</th>\n      <td>0.440313</td>\n      <td>1.0</td>\n      <td>0.0</td>\n      <td>0.0</td>\n      <td>0.000000e+00</td>\n      <td>0.0</td>\n      <td>0.0</td>\n      <td>0.0</td>\n      <td>0.00</td>\n      <td>0.0</td>\n      <td>...</td>\n      <td>0.000000</td>\n      <td>0.09</td>\n      <td>0.0</td>\n      <td>0.00</td>\n      <td>0.041096</td>\n      <td>0.00</td>\n      <td>0.0</td>\n      <td>1.00</td>\n      <td>1.0</td>\n      <td>0.0</td>\n    </tr>\n    <tr>\n      <th>22397</th>\n      <td>0.001957</td>\n      <td>0.0</td>\n      <td>0.0</td>\n      <td>0.0</td>\n      <td>6.304513e-08</td>\n      <td>0.0</td>\n      <td>0.0</td>\n      <td>0.0</td>\n      <td>0.00</td>\n      <td>0.0</td>\n      <td>...</td>\n      <td>0.001116</td>\n      <td>1.00</td>\n      <td>0.0</td>\n      <td>0.00</td>\n      <td>0.001957</td>\n      <td>0.00</td>\n      <td>1.0</td>\n      <td>0.00</td>\n      <td>1.0</td>\n      <td>0.0</td>\n    </tr>\n    <tr>\n      <th>7837</th>\n      <td>0.557730</td>\n      <td>0.0</td>\n      <td>0.0</td>\n      <td>0.0</td>\n      <td>0.000000e+00</td>\n      <td>0.0</td>\n      <td>0.0</td>\n      <td>1.0</td>\n      <td>0.00</td>\n      <td>0.0</td>\n      <td>...</td>\n      <td>0.000000</td>\n      <td>0.00</td>\n      <td>1.0</td>\n      <td>0.00</td>\n      <td>0.001957</td>\n      <td>0.84</td>\n      <td>0.0</td>\n      <td>0.15</td>\n      <td>1.0</td>\n      <td>1.0</td>\n    </tr>\n    <tr>\n      <th>63593</th>\n      <td>0.001957</td>\n      <td>0.0</td>\n      <td>0.0</td>\n      <td>0.0</td>\n      <td>5.420432e-07</td>\n      <td>0.0</td>\n      <td>1.0</td>\n      <td>0.0</td>\n      <td>0.02</td>\n      <td>0.0</td>\n      <td>...</td>\n      <td>0.000000</td>\n      <td>1.00</td>\n      <td>0.0</td>\n      <td>0.00</td>\n      <td>0.001957</td>\n      <td>0.00</td>\n      <td>1.0</td>\n      <td>0.00</td>\n      <td>1.0</td>\n      <td>0.0</td>\n    </tr>\n    <tr>\n      <th>58717</th>\n      <td>0.142857</td>\n      <td>0.0</td>\n      <td>0.0</td>\n      <td>0.0</td>\n      <td>3.260955e-08</td>\n      <td>0.0</td>\n      <td>0.0</td>\n      <td>0.0</td>\n      <td>0.00</td>\n      <td>1.0</td>\n      <td>...</td>\n      <td>0.000000</td>\n      <td>1.00</td>\n      <td>0.0</td>\n      <td>0.01</td>\n      <td>0.301370</td>\n      <td>0.00</td>\n      <td>1.0</td>\n      <td>0.00</td>\n      <td>0.0</td>\n      <td>0.0</td>\n    </tr>\n    <tr>\n      <th>...</th>\n      <td>...</td>\n      <td>...</td>\n      <td>...</td>\n      <td>...</td>\n      <td>...</td>\n      <td>...</td>\n      <td>...</td>\n      <td>...</td>\n      <td>...</td>\n      <td>...</td>\n      <td>...</td>\n      <td>...</td>\n      <td>...</td>\n      <td>...</td>\n      <td>...</td>\n      <td>...</td>\n      <td>...</td>\n      <td>...</td>\n      <td>...</td>\n      <td>...</td>\n      <td>...</td>\n    </tr>\n    <tr>\n      <th>120779</th>\n      <td>0.583170</td>\n      <td>0.0</td>\n      <td>0.0</td>\n      <td>0.0</td>\n      <td>3.333420e-08</td>\n      <td>0.0</td>\n      <td>0.0</td>\n      <td>0.0</td>\n      <td>0.00</td>\n      <td>1.0</td>\n      <td>...</td>\n      <td>0.000000</td>\n      <td>1.00</td>\n      <td>0.0</td>\n      <td>0.00</td>\n      <td>0.583170</td>\n      <td>0.00</td>\n      <td>1.0</td>\n      <td>0.00</td>\n      <td>0.0</td>\n      <td>0.0</td>\n    </tr>\n    <tr>\n      <th>8869</th>\n      <td>0.003914</td>\n      <td>0.0</td>\n      <td>0.0</td>\n      <td>1.0</td>\n      <td>1.681203e-07</td>\n      <td>0.0</td>\n      <td>0.0</td>\n      <td>0.0</td>\n      <td>0.03</td>\n      <td>0.0</td>\n      <td>...</td>\n      <td>0.000000</td>\n      <td>1.00</td>\n      <td>0.0</td>\n      <td>0.67</td>\n      <td>0.005871</td>\n      <td>0.00</td>\n      <td>1.0</td>\n      <td>0.00</td>\n      <td>1.0</td>\n      <td>0.0</td>\n    </tr>\n    <tr>\n      <th>75861</th>\n      <td>0.001957</td>\n      <td>0.0</td>\n      <td>0.0</td>\n      <td>0.0</td>\n      <td>0.000000e+00</td>\n      <td>0.0</td>\n      <td>0.0</td>\n      <td>1.0</td>\n      <td>0.04</td>\n      <td>0.0</td>\n      <td>...</td>\n      <td>0.000000</td>\n      <td>1.00</td>\n      <td>0.0</td>\n      <td>0.00</td>\n      <td>0.001957</td>\n      <td>1.00</td>\n      <td>0.0</td>\n      <td>0.00</td>\n      <td>1.0</td>\n      <td>1.0</td>\n    </tr>\n    <tr>\n      <th>109183</th>\n      <td>0.563601</td>\n      <td>1.0</td>\n      <td>0.0</td>\n      <td>0.0</td>\n      <td>0.000000e+00</td>\n      <td>0.0</td>\n      <td>0.0</td>\n      <td>1.0</td>\n      <td>0.00</td>\n      <td>0.0</td>\n      <td>...</td>\n      <td>0.000000</td>\n      <td>0.05</td>\n      <td>0.0</td>\n      <td>0.00</td>\n      <td>0.025440</td>\n      <td>0.00</td>\n      <td>0.0</td>\n      <td>1.00</td>\n      <td>1.0</td>\n      <td>0.0</td>\n    </tr>\n    <tr>\n      <th>96709</th>\n      <td>0.563601</td>\n      <td>0.0</td>\n      <td>0.0</td>\n      <td>0.0</td>\n      <td>0.000000e+00</td>\n      <td>0.0</td>\n      <td>0.0</td>\n      <td>1.0</td>\n      <td>0.00</td>\n      <td>0.0</td>\n      <td>...</td>\n      <td>0.000000</td>\n      <td>0.00</td>\n      <td>1.0</td>\n      <td>0.00</td>\n      <td>0.001957</td>\n      <td>0.88</td>\n      <td>0.0</td>\n      <td>0.07</td>\n      <td>1.0</td>\n      <td>1.0</td>\n    </tr>\n  </tbody>\n</table>\n<p>118813 rows × 41 columns</p>\n</div>"
     },
     "execution_count": 24,
     "metadata": {},
     "output_type": "execute_result"
    }
   ],
   "source": [
    "X_train"
   ],
   "metadata": {
    "collapsed": false,
    "pycharm": {
     "name": "#%%\n"
    }
   }
  },
  {
   "cell_type": "code",
   "execution_count": 26,
   "outputs": [],
   "source": [
    "Y_train=get_config('y_train')"
   ],
   "metadata": {
    "collapsed": false,
    "pycharm": {
     "name": "#%%\n"
    }
   }
  },
  {
   "cell_type": "code",
   "execution_count": 27,
   "outputs": [],
   "source": [
    "Y_test=get_config('y_test')"
   ],
   "metadata": {
    "collapsed": false,
    "pycharm": {
     "name": "#%%\n"
    }
   }
  },
  {
   "cell_type": "code",
   "execution_count": 28,
   "outputs": [],
   "source": [
    "X_test=get_config('X_test')"
   ],
   "metadata": {
    "collapsed": false,
    "pycharm": {
     "name": "#%%\n"
    }
   }
  },
  {
   "cell_type": "code",
   "execution_count": 30,
   "outputs": [
    {
     "name": "stdout",
     "output_type": "stream",
     "text": [
      "Epoch 1/100\n",
      "1857/1857 [==============================] - 6s 3ms/step - loss: 0.1105 - accuracy: 0.9605 - val_loss: 0.0753 - val_accuracy: 0.9715\n",
      "Epoch 2/100\n",
      "1857/1857 [==============================] - 6s 3ms/step - loss: 0.0730 - accuracy: 0.9734 - val_loss: 0.0690 - val_accuracy: 0.9752\n",
      "Epoch 3/100\n",
      "1857/1857 [==============================] - 6s 3ms/step - loss: 0.0669 - accuracy: 0.9750 - val_loss: 0.0670 - val_accuracy: 0.9734\n",
      "Epoch 4/100\n",
      "1857/1857 [==============================] - 6s 3ms/step - loss: 0.0624 - accuracy: 0.9767 - val_loss: 0.0565 - val_accuracy: 0.9793\n",
      "Epoch 5/100\n",
      "1857/1857 [==============================] - 6s 3ms/step - loss: 0.0595 - accuracy: 0.9775 - val_loss: 0.0633 - val_accuracy: 0.9766\n",
      "Epoch 6/100\n",
      "1857/1857 [==============================] - 6s 3ms/step - loss: 0.0566 - accuracy: 0.9787 - val_loss: 0.0534 - val_accuracy: 0.9794\n",
      "Epoch 7/100\n",
      "1857/1857 [==============================] - 6s 3ms/step - loss: 0.0546 - accuracy: 0.9792 - val_loss: 0.0521 - val_accuracy: 0.9786\n",
      "Epoch 8/100\n",
      "1857/1857 [==============================] - 6s 3ms/step - loss: 0.0525 - accuracy: 0.9800 - val_loss: 0.0471 - val_accuracy: 0.9822\n",
      "Epoch 9/100\n",
      "1857/1857 [==============================] - 6s 3ms/step - loss: 0.0511 - accuracy: 0.9806 - val_loss: 0.0461 - val_accuracy: 0.9810\n",
      "Epoch 10/100\n",
      "1857/1857 [==============================] - 6s 3ms/step - loss: 0.0506 - accuracy: 0.9809 - val_loss: 0.0635 - val_accuracy: 0.9798\n",
      "Epoch 11/100\n",
      "1857/1857 [==============================] - 6s 3ms/step - loss: 0.0487 - accuracy: 0.9812 - val_loss: 0.0468 - val_accuracy: 0.9816\n",
      "Epoch 12/100\n",
      "1857/1857 [==============================] - 6s 3ms/step - loss: 0.0468 - accuracy: 0.9819 - val_loss: 0.0506 - val_accuracy: 0.9820\n",
      "Epoch 13/100\n",
      "1857/1857 [==============================] - 6s 3ms/step - loss: 0.0464 - accuracy: 0.9818 - val_loss: 0.0418 - val_accuracy: 0.9839\n",
      "Epoch 14/100\n",
      "1857/1857 [==============================] - 6s 3ms/step - loss: 0.0450 - accuracy: 0.9825 - val_loss: 0.0408 - val_accuracy: 0.9847\n",
      "Epoch 15/100\n",
      "1857/1857 [==============================] - 6s 3ms/step - loss: 0.0443 - accuracy: 0.9832 - val_loss: 0.0527 - val_accuracy: 0.9810\n",
      "Epoch 16/100\n",
      "1857/1857 [==============================] - 6s 3ms/step - loss: 0.0438 - accuracy: 0.9834 - val_loss: 0.0446 - val_accuracy: 0.9822\n",
      "Epoch 17/100\n",
      "1857/1857 [==============================] - 6s 3ms/step - loss: 0.0428 - accuracy: 0.9834 - val_loss: 0.0415 - val_accuracy: 0.9829\n",
      "Epoch 18/100\n",
      "1857/1857 [==============================] - 6s 3ms/step - loss: 0.0427 - accuracy: 0.9837 - val_loss: 0.0432 - val_accuracy: 0.9838\n",
      "Epoch 19/100\n",
      "1857/1857 [==============================] - 6s 3ms/step - loss: 0.0416 - accuracy: 0.9836 - val_loss: 0.0494 - val_accuracy: 0.9827\n"
     ]
    },
    {
     "data": {
      "text/plain": "<tensorflow.python.keras.callbacks.History at 0x2448ab4de50>"
     },
     "execution_count": 30,
     "metadata": {},
     "output_type": "execute_result"
    }
   ],
   "source": [
    "#now we make and test the neural networks\n",
    "from tensorflow.python.keras.layers import Activation\n",
    "from keras.optimizers import SGD\n",
    "from keras.models import Sequential\n",
    "from keras.layers import Dense\n",
    "from keras.layers.advanced_activations import PReLU\n",
    "from keras.layers import Dropout\n",
    "from keras.callbacks import EarlyStopping\n",
    "act2 = PReLU(alpha_initializer='zeros', weights=None)\n",
    "model2 = Sequential()\n",
    "# define the NN architecture and activation function\n",
    "\n",
    "model2.add(Dense(496, input_dim=41, activation=Activation(act2)))\n",
    "model2.add(Dropout(0.1))\n",
    "model2.add(Dense(248, activation='relu'))\n",
    "model2.add(Dropout(0.1))\n",
    "model2.add(Dense(124, activation='relu'))\n",
    "model2.add(Dropout(0.1))\n",
    "model2.add(Dense(62, activation='relu'))\n",
    "model2.add(Dropout(0.1))\n",
    "model2.add(Dense(1))\n",
    "model2.add(Activation('sigmoid'))\n",
    "\n",
    "sgd =SGD(lr=0.01, decay=1e-6, momentum=0.9, nesterov=True)\n",
    "model2.compile(loss='binary_crossentropy', optimizer=sgd, metrics= ['accuracy'])\n",
    "es = EarlyStopping(monitor='val_accuracy', mode='max', min_delta=0.0001,patience=5) ## early stopping\n",
    "model2.fit(X_train, Y_train, validation_data=(X_test, Y_test), epochs=100, batch_size=64, callbacks=[es])"
   ],
   "metadata": {
    "collapsed": false,
    "pycharm": {
     "name": "#%%\n"
    }
   }
  },
  {
   "cell_type": "code",
   "execution_count": 32,
   "outputs": [
    {
     "name": "stdout",
     "output_type": "stream",
     "text": [
      "accuracy: 98.44%\n"
     ]
    }
   ],
   "source": [
    "#training accuracy\n",
    "train_acc2 = model2.evaluate(X_train, Y_train, verbose=0)\n",
    "print(\"%s: %.2f%%\" % (model2.metrics_names[1], train_acc2[1]*100))"
   ],
   "metadata": {
    "collapsed": false,
    "pycharm": {
     "name": "#%%\n"
    }
   }
  },
  {
   "cell_type": "code",
   "execution_count": 33,
   "outputs": [
    {
     "name": "stdout",
     "output_type": "stream",
     "text": [
      "accuracy: 98.27%\n"
     ]
    }
   ],
   "source": [
    "#calculate the test accuracy using evaluate function\n",
    "test_acc2 = model2.evaluate(X_test, Y_test, verbose=0)\n",
    "print(\"%s: %.2f%%\" % (model2.metrics_names[1], test_acc2[1] * 100))"
   ],
   "metadata": {
    "collapsed": false,
    "pycharm": {
     "name": "#%%\n"
    }
   }
  },
  {
   "cell_type": "code",
   "execution_count": 34,
   "outputs": [
    {
     "name": "stdout",
     "output_type": "stream",
     "text": [
      "WARNING:tensorflow:From C:\\Users\\Jovana\\AppData\\Local\\Temp/ipykernel_11188/77600060.py:3: Sequential.predict_classes (from tensorflow.python.keras.engine.sequential) is deprecated and will be removed after 2021-01-01.\n",
      "Instructions for updating:\n",
      "Please use instead:* `np.argmax(model.predict(x), axis=-1)`,   if your model does multi-class classification   (e.g. if it uses a `softmax` last-layer activation).* `(model.predict(x) > 0.5).astype(\"int32\")`,   if your model does binary classification   (e.g. if it uses a `sigmoid` last-layer activation).\n"
     ]
    },
    {
     "data": {
      "text/plain": "0.9826959332076488"
     },
     "execution_count": 34,
     "metadata": {},
     "output_type": "execute_result"
    }
   ],
   "source": [
    "from sklearn.metrics import accuracy_score\n",
    "# or find the prediction accuracy using predict_classes (same as test accuracy)\n",
    "y_pred2 = model2.predict_classes(X_test)\n",
    "pred_accuracy2 = accuracy_score(Y_test, y_pred2)\n",
    "pred_accuracy2"
   ],
   "metadata": {
    "collapsed": false,
    "pycharm": {
     "name": "#%%\n"
    }
   }
  },
  {
   "cell_type": "code",
   "execution_count": 35,
   "outputs": [
    {
     "name": "stdout",
     "output_type": "stream",
     "text": [
      "Precision : 0.984476\n"
     ]
    }
   ],
   "source": [
    "from sklearn.metrics import precision_score, recall_score, f1_score, roc_auc_score\n",
    "# Precision\n",
    "precision = precision_score(Y_test, y_pred2)\n",
    "print('Precision : %f'% precision)"
   ],
   "metadata": {
    "collapsed": false,
    "pycharm": {
     "name": "#%%\n"
    }
   }
  },
  {
   "cell_type": "code",
   "execution_count": 36,
   "outputs": [
    {
     "name": "stdout",
     "output_type": "stream",
     "text": [
      "Recall: 0.982042\n"
     ]
    }
   ],
   "source": [
    "# Recall\n",
    "recall = recall_score(Y_test, y_pred2)\n",
    "print('Recall: %f' % recall)"
   ],
   "metadata": {
    "collapsed": false,
    "pycharm": {
     "name": "#%%\n"
    }
   }
  },
  {
   "cell_type": "code",
   "execution_count": 37,
   "outputs": [
    {
     "name": "stdout",
     "output_type": "stream",
     "text": [
      "F1 score: 0.983257\n"
     ]
    }
   ],
   "source": [
    "# f1-score\n",
    "f1 = f1_score(Y_test, y_pred2)\n",
    "print('F1 score: %f' % f1)"
   ],
   "metadata": {
    "collapsed": false,
    "pycharm": {
     "name": "#%%\n"
    }
   }
  },
  {
   "cell_type": "code",
   "execution_count": 38,
   "outputs": [
    {
     "name": "stdout",
     "output_type": "stream",
     "text": [
      "ROC_AUC Score: 0.982720\n"
     ]
    }
   ],
   "source": [
    "roc = roc_auc_score(Y_test, y_pred2)\n",
    "print('ROC_AUC Score: %f' % roc)"
   ],
   "metadata": {
    "collapsed": false,
    "pycharm": {
     "name": "#%%\n"
    }
   }
  },
  {
   "cell_type": "code",
   "execution_count": 40,
   "outputs": [
    {
     "name": "stdout",
     "output_type": "stream",
     "text": [
      "[[14097   238]\n",
      " [  276 15093]]\n"
     ]
    }
   ],
   "source": [
    "from sklearn.metrics import confusion_matrix\n",
    "\n",
    "# confusion matrix\n",
    "confusionmatrix = confusion_matrix(Y_test, y_pred2)\n",
    "print(confusionmatrix)"
   ],
   "metadata": {
    "collapsed": false,
    "pycharm": {
     "name": "#%%\n"
    }
   }
  },
  {
   "cell_type": "code",
   "execution_count": 41,
   "outputs": [],
   "source": [
    "model2.save(\"pycaret_model_NSLKDD_binary.h5\")"
   ],
   "metadata": {
    "collapsed": false,
    "pycharm": {
     "name": "#%%\n"
    }
   }
  },
  {
   "cell_type": "code",
   "execution_count": 43,
   "outputs": [
    {
     "data": {
      "text/plain": "['count',\n 'srv_serror_rate',\n 'service_smtp',\n 'logged_in_1',\n 'src_bytes',\n 'service_ecr_i',\n 'service_ftp_data',\n 'service_private',\n 'dst_host_same_src_port_rate',\n 'protocol_type_udp',\n 'service_http',\n 'dst_host_count',\n 'flag_RSTR',\n 'dst_host_srv_count',\n 'service_pop_3',\n 'dst_host_serror_rate',\n 'hot',\n 'dst_host_same_srv_rate',\n 'dst_host_srv_diff_host_rate',\n 'flag_S0',\n 'service_finger',\n 'protocol_type_icmp',\n 'service_domain_u',\n 'srv_rerror_rate',\n 'dst_host_diff_srv_rate',\n 'dst_host_srv_serror_rate',\n 'service_eco_i',\n 'dst_bytes',\n 'dst_host_rerror_rate',\n 'num_failed_logins_1',\n 'diff_srv_rate',\n 'duration',\n 'same_srv_rate',\n 'flag_REJ',\n 'srv_diff_host_rate',\n 'srv_count',\n 'rerror_rate',\n 'flag_SF',\n 'serror_rate',\n 'protocol_type_tcp',\n 'dst_host_srv_rerror_rate']"
     },
     "execution_count": 43,
     "metadata": {},
     "output_type": "execute_result"
    }
   ],
   "source": [
    "list(X_train)"
   ],
   "metadata": {
    "collapsed": false,
    "pycharm": {
     "name": "#%%\n"
    }
   }
  },
  {
   "cell_type": "code",
   "execution_count": 44,
   "outputs": [],
   "source": [
    "#now let's try multiclass\n",
    "ds_multi=pd.concat([ds_train,ds_test], axis=0)"
   ],
   "metadata": {
    "collapsed": false,
    "pycharm": {
     "name": "#%%\n"
    }
   }
  },
  {
   "cell_type": "code",
   "execution_count": 47,
   "outputs": [],
   "source": [
    "ds_multi=ds_multi.drop('difficulty_level',axis=1)"
   ],
   "metadata": {
    "collapsed": false,
    "pycharm": {
     "name": "#%%\n"
    }
   }
  },
  {
   "cell_type": "code",
   "execution_count": 49,
   "outputs": [],
   "source": [
    "def change_label(df):\n",
    "    df.label.replace(\n",
    "        ['apache2', 'back', 'land', 'neptune', 'mailbomb', 'pod', 'processtable', 'smurf', 'teardrop', 'udpstorm',\n",
    "         'worm'], 'Dos', inplace=True)\n",
    "    df.label.replace(['ftp_write', 'guess_passwd', 'httptunnel', 'imap', 'multihop', 'named', 'phf', 'sendmail',\n",
    "                      'snmpgetattack', 'snmpguess', 'spy', 'warezclient', 'warezmaster', 'xlock', 'xsnoop'], 'R2L',\n",
    "                     inplace=True)\n",
    "    df.label.replace(['ipsweep', 'mscan', 'nmap', 'portsweep', 'saint', 'satan'], 'Probe', inplace=True)\n",
    "    df.label.replace(['buffer_overflow', 'loadmodule', 'perl', 'ps', 'rootkit', 'sqlattack', 'xterm'], 'U2R',\n",
    "                     inplace=True)\n",
    "\n",
    "\n",
    "# calling change_label() function\n",
    "change_label(ds_multi)"
   ],
   "metadata": {
    "collapsed": false,
    "pycharm": {
     "name": "#%%\n"
    }
   }
  },
  {
   "cell_type": "code",
   "execution_count": 52,
   "outputs": [
    {
     "data": {
      "text/plain": "<pandas.io.formats.style.Styler at 0x244813b23a0>",
      "text/html": "<style type=\"text/css\">\n#T_effa5_row29_col1, #T_effa5_row51_col1 {\n  background-color: lightgreen;\n}\n</style>\n<table id=\"T_effa5_\">\n  <thead>\n    <tr>\n      <th class=\"blank level0\" >&nbsp;</th>\n      <th class=\"col_heading level0 col0\" >Description</th>\n      <th class=\"col_heading level0 col1\" >Value</th>\n    </tr>\n  </thead>\n  <tbody>\n    <tr>\n      <th id=\"T_effa5_level0_row0\" class=\"row_heading level0 row0\" >0</th>\n      <td id=\"T_effa5_row0_col0\" class=\"data row0 col0\" >session_id</td>\n      <td id=\"T_effa5_row0_col1\" class=\"data row0 col1\" >303</td>\n    </tr>\n    <tr>\n      <th id=\"T_effa5_level0_row1\" class=\"row_heading level0 row1\" >1</th>\n      <td id=\"T_effa5_row1_col0\" class=\"data row1 col0\" >Target</td>\n      <td id=\"T_effa5_row1_col1\" class=\"data row1 col1\" >label</td>\n    </tr>\n    <tr>\n      <th id=\"T_effa5_level0_row2\" class=\"row_heading level0 row2\" >2</th>\n      <td id=\"T_effa5_row2_col0\" class=\"data row2 col0\" >Target Type</td>\n      <td id=\"T_effa5_row2_col1\" class=\"data row2 col1\" >Multiclass</td>\n    </tr>\n    <tr>\n      <th id=\"T_effa5_level0_row3\" class=\"row_heading level0 row3\" >3</th>\n      <td id=\"T_effa5_row3_col0\" class=\"data row3 col0\" >Label Encoded</td>\n      <td id=\"T_effa5_row3_col1\" class=\"data row3 col1\" >Dos: 0, Probe: 1, R2L: 2, U2R: 3, normal: 4</td>\n    </tr>\n    <tr>\n      <th id=\"T_effa5_level0_row4\" class=\"row_heading level0 row4\" >4</th>\n      <td id=\"T_effa5_row4_col0\" class=\"data row4 col0\" >Original Data</td>\n      <td id=\"T_effa5_row4_col1\" class=\"data row4 col1\" >(148517, 42)</td>\n    </tr>\n    <tr>\n      <th id=\"T_effa5_level0_row5\" class=\"row_heading level0 row5\" >5</th>\n      <td id=\"T_effa5_row5_col0\" class=\"data row5 col0\" >Missing Values</td>\n      <td id=\"T_effa5_row5_col1\" class=\"data row5 col1\" >False</td>\n    </tr>\n    <tr>\n      <th id=\"T_effa5_level0_row6\" class=\"row_heading level0 row6\" >6</th>\n      <td id=\"T_effa5_row6_col0\" class=\"data row6 col0\" >Numeric Features</td>\n      <td id=\"T_effa5_row6_col1\" class=\"data row6 col1\" >26</td>\n    </tr>\n    <tr>\n      <th id=\"T_effa5_level0_row7\" class=\"row_heading level0 row7\" >7</th>\n      <td id=\"T_effa5_row7_col0\" class=\"data row7 col0\" >Categorical Features</td>\n      <td id=\"T_effa5_row7_col1\" class=\"data row7 col1\" >15</td>\n    </tr>\n    <tr>\n      <th id=\"T_effa5_level0_row8\" class=\"row_heading level0 row8\" >8</th>\n      <td id=\"T_effa5_row8_col0\" class=\"data row8 col0\" >Ordinal Features</td>\n      <td id=\"T_effa5_row8_col1\" class=\"data row8 col1\" >False</td>\n    </tr>\n    <tr>\n      <th id=\"T_effa5_level0_row9\" class=\"row_heading level0 row9\" >9</th>\n      <td id=\"T_effa5_row9_col0\" class=\"data row9 col0\" >High Cardinality Features</td>\n      <td id=\"T_effa5_row9_col1\" class=\"data row9 col1\" >False</td>\n    </tr>\n    <tr>\n      <th id=\"T_effa5_level0_row10\" class=\"row_heading level0 row10\" >10</th>\n      <td id=\"T_effa5_row10_col0\" class=\"data row10 col0\" >High Cardinality Method</td>\n      <td id=\"T_effa5_row10_col1\" class=\"data row10 col1\" >None</td>\n    </tr>\n    <tr>\n      <th id=\"T_effa5_level0_row11\" class=\"row_heading level0 row11\" >11</th>\n      <td id=\"T_effa5_row11_col0\" class=\"data row11 col0\" >Transformed Train Set</td>\n      <td id=\"T_effa5_row11_col1\" class=\"data row11 col1\" >(118813, 39)</td>\n    </tr>\n    <tr>\n      <th id=\"T_effa5_level0_row12\" class=\"row_heading level0 row12\" >12</th>\n      <td id=\"T_effa5_row12_col0\" class=\"data row12 col0\" >Transformed Test Set</td>\n      <td id=\"T_effa5_row12_col1\" class=\"data row12 col1\" >(29704, 39)</td>\n    </tr>\n    <tr>\n      <th id=\"T_effa5_level0_row13\" class=\"row_heading level0 row13\" >13</th>\n      <td id=\"T_effa5_row13_col0\" class=\"data row13 col0\" >Shuffle Train-Test</td>\n      <td id=\"T_effa5_row13_col1\" class=\"data row13 col1\" >True</td>\n    </tr>\n    <tr>\n      <th id=\"T_effa5_level0_row14\" class=\"row_heading level0 row14\" >14</th>\n      <td id=\"T_effa5_row14_col0\" class=\"data row14 col0\" >Stratify Train-Test</td>\n      <td id=\"T_effa5_row14_col1\" class=\"data row14 col1\" >False</td>\n    </tr>\n    <tr>\n      <th id=\"T_effa5_level0_row15\" class=\"row_heading level0 row15\" >15</th>\n      <td id=\"T_effa5_row15_col0\" class=\"data row15 col0\" >Fold Generator</td>\n      <td id=\"T_effa5_row15_col1\" class=\"data row15 col1\" >StratifiedKFold</td>\n    </tr>\n    <tr>\n      <th id=\"T_effa5_level0_row16\" class=\"row_heading level0 row16\" >16</th>\n      <td id=\"T_effa5_row16_col0\" class=\"data row16 col0\" >Fold Number</td>\n      <td id=\"T_effa5_row16_col1\" class=\"data row16 col1\" >10</td>\n    </tr>\n    <tr>\n      <th id=\"T_effa5_level0_row17\" class=\"row_heading level0 row17\" >17</th>\n      <td id=\"T_effa5_row17_col0\" class=\"data row17 col0\" >CPU Jobs</td>\n      <td id=\"T_effa5_row17_col1\" class=\"data row17 col1\" >-1</td>\n    </tr>\n    <tr>\n      <th id=\"T_effa5_level0_row18\" class=\"row_heading level0 row18\" >18</th>\n      <td id=\"T_effa5_row18_col0\" class=\"data row18 col0\" >Use GPU</td>\n      <td id=\"T_effa5_row18_col1\" class=\"data row18 col1\" >False</td>\n    </tr>\n    <tr>\n      <th id=\"T_effa5_level0_row19\" class=\"row_heading level0 row19\" >19</th>\n      <td id=\"T_effa5_row19_col0\" class=\"data row19 col0\" >Log Experiment</td>\n      <td id=\"T_effa5_row19_col1\" class=\"data row19 col1\" >False</td>\n    </tr>\n    <tr>\n      <th id=\"T_effa5_level0_row20\" class=\"row_heading level0 row20\" >20</th>\n      <td id=\"T_effa5_row20_col0\" class=\"data row20 col0\" >Experiment Name</td>\n      <td id=\"T_effa5_row20_col1\" class=\"data row20 col1\" >clf-default-name</td>\n    </tr>\n    <tr>\n      <th id=\"T_effa5_level0_row21\" class=\"row_heading level0 row21\" >21</th>\n      <td id=\"T_effa5_row21_col0\" class=\"data row21 col0\" >USI</td>\n      <td id=\"T_effa5_row21_col1\" class=\"data row21 col1\" >6927</td>\n    </tr>\n    <tr>\n      <th id=\"T_effa5_level0_row22\" class=\"row_heading level0 row22\" >22</th>\n      <td id=\"T_effa5_row22_col0\" class=\"data row22 col0\" >Imputation Type</td>\n      <td id=\"T_effa5_row22_col1\" class=\"data row22 col1\" >simple</td>\n    </tr>\n    <tr>\n      <th id=\"T_effa5_level0_row23\" class=\"row_heading level0 row23\" >23</th>\n      <td id=\"T_effa5_row23_col0\" class=\"data row23 col0\" >Iterative Imputation Iteration</td>\n      <td id=\"T_effa5_row23_col1\" class=\"data row23 col1\" >None</td>\n    </tr>\n    <tr>\n      <th id=\"T_effa5_level0_row24\" class=\"row_heading level0 row24\" >24</th>\n      <td id=\"T_effa5_row24_col0\" class=\"data row24 col0\" >Numeric Imputer</td>\n      <td id=\"T_effa5_row24_col1\" class=\"data row24 col1\" >mean</td>\n    </tr>\n    <tr>\n      <th id=\"T_effa5_level0_row25\" class=\"row_heading level0 row25\" >25</th>\n      <td id=\"T_effa5_row25_col0\" class=\"data row25 col0\" >Iterative Imputation Numeric Model</td>\n      <td id=\"T_effa5_row25_col1\" class=\"data row25 col1\" >None</td>\n    </tr>\n    <tr>\n      <th id=\"T_effa5_level0_row26\" class=\"row_heading level0 row26\" >26</th>\n      <td id=\"T_effa5_row26_col0\" class=\"data row26 col0\" >Categorical Imputer</td>\n      <td id=\"T_effa5_row26_col1\" class=\"data row26 col1\" >constant</td>\n    </tr>\n    <tr>\n      <th id=\"T_effa5_level0_row27\" class=\"row_heading level0 row27\" >27</th>\n      <td id=\"T_effa5_row27_col0\" class=\"data row27 col0\" >Iterative Imputation Categorical Model</td>\n      <td id=\"T_effa5_row27_col1\" class=\"data row27 col1\" >None</td>\n    </tr>\n    <tr>\n      <th id=\"T_effa5_level0_row28\" class=\"row_heading level0 row28\" >28</th>\n      <td id=\"T_effa5_row28_col0\" class=\"data row28 col0\" >Unknown Categoricals Handling</td>\n      <td id=\"T_effa5_row28_col1\" class=\"data row28 col1\" >least_frequent</td>\n    </tr>\n    <tr>\n      <th id=\"T_effa5_level0_row29\" class=\"row_heading level0 row29\" >29</th>\n      <td id=\"T_effa5_row29_col0\" class=\"data row29 col0\" >Normalize</td>\n      <td id=\"T_effa5_row29_col1\" class=\"data row29 col1\" >True</td>\n    </tr>\n    <tr>\n      <th id=\"T_effa5_level0_row30\" class=\"row_heading level0 row30\" >30</th>\n      <td id=\"T_effa5_row30_col0\" class=\"data row30 col0\" >Normalize Method</td>\n      <td id=\"T_effa5_row30_col1\" class=\"data row30 col1\" >minmax</td>\n    </tr>\n    <tr>\n      <th id=\"T_effa5_level0_row31\" class=\"row_heading level0 row31\" >31</th>\n      <td id=\"T_effa5_row31_col0\" class=\"data row31 col0\" >Transformation</td>\n      <td id=\"T_effa5_row31_col1\" class=\"data row31 col1\" >False</td>\n    </tr>\n    <tr>\n      <th id=\"T_effa5_level0_row32\" class=\"row_heading level0 row32\" >32</th>\n      <td id=\"T_effa5_row32_col0\" class=\"data row32 col0\" >Transformation Method</td>\n      <td id=\"T_effa5_row32_col1\" class=\"data row32 col1\" >None</td>\n    </tr>\n    <tr>\n      <th id=\"T_effa5_level0_row33\" class=\"row_heading level0 row33\" >33</th>\n      <td id=\"T_effa5_row33_col0\" class=\"data row33 col0\" >PCA</td>\n      <td id=\"T_effa5_row33_col1\" class=\"data row33 col1\" >False</td>\n    </tr>\n    <tr>\n      <th id=\"T_effa5_level0_row34\" class=\"row_heading level0 row34\" >34</th>\n      <td id=\"T_effa5_row34_col0\" class=\"data row34 col0\" >PCA Method</td>\n      <td id=\"T_effa5_row34_col1\" class=\"data row34 col1\" >None</td>\n    </tr>\n    <tr>\n      <th id=\"T_effa5_level0_row35\" class=\"row_heading level0 row35\" >35</th>\n      <td id=\"T_effa5_row35_col0\" class=\"data row35 col0\" >PCA Components</td>\n      <td id=\"T_effa5_row35_col1\" class=\"data row35 col1\" >None</td>\n    </tr>\n    <tr>\n      <th id=\"T_effa5_level0_row36\" class=\"row_heading level0 row36\" >36</th>\n      <td id=\"T_effa5_row36_col0\" class=\"data row36 col0\" >Ignore Low Variance</td>\n      <td id=\"T_effa5_row36_col1\" class=\"data row36 col1\" >False</td>\n    </tr>\n    <tr>\n      <th id=\"T_effa5_level0_row37\" class=\"row_heading level0 row37\" >37</th>\n      <td id=\"T_effa5_row37_col0\" class=\"data row37 col0\" >Combine Rare Levels</td>\n      <td id=\"T_effa5_row37_col1\" class=\"data row37 col1\" >False</td>\n    </tr>\n    <tr>\n      <th id=\"T_effa5_level0_row38\" class=\"row_heading level0 row38\" >38</th>\n      <td id=\"T_effa5_row38_col0\" class=\"data row38 col0\" >Rare Level Threshold</td>\n      <td id=\"T_effa5_row38_col1\" class=\"data row38 col1\" >None</td>\n    </tr>\n    <tr>\n      <th id=\"T_effa5_level0_row39\" class=\"row_heading level0 row39\" >39</th>\n      <td id=\"T_effa5_row39_col0\" class=\"data row39 col0\" >Numeric Binning</td>\n      <td id=\"T_effa5_row39_col1\" class=\"data row39 col1\" >False</td>\n    </tr>\n    <tr>\n      <th id=\"T_effa5_level0_row40\" class=\"row_heading level0 row40\" >40</th>\n      <td id=\"T_effa5_row40_col0\" class=\"data row40 col0\" >Remove Outliers</td>\n      <td id=\"T_effa5_row40_col1\" class=\"data row40 col1\" >False</td>\n    </tr>\n    <tr>\n      <th id=\"T_effa5_level0_row41\" class=\"row_heading level0 row41\" >41</th>\n      <td id=\"T_effa5_row41_col0\" class=\"data row41 col0\" >Outliers Threshold</td>\n      <td id=\"T_effa5_row41_col1\" class=\"data row41 col1\" >None</td>\n    </tr>\n    <tr>\n      <th id=\"T_effa5_level0_row42\" class=\"row_heading level0 row42\" >42</th>\n      <td id=\"T_effa5_row42_col0\" class=\"data row42 col0\" >Remove Multicollinearity</td>\n      <td id=\"T_effa5_row42_col1\" class=\"data row42 col1\" >False</td>\n    </tr>\n    <tr>\n      <th id=\"T_effa5_level0_row43\" class=\"row_heading level0 row43\" >43</th>\n      <td id=\"T_effa5_row43_col0\" class=\"data row43 col0\" >Multicollinearity Threshold</td>\n      <td id=\"T_effa5_row43_col1\" class=\"data row43 col1\" >None</td>\n    </tr>\n    <tr>\n      <th id=\"T_effa5_level0_row44\" class=\"row_heading level0 row44\" >44</th>\n      <td id=\"T_effa5_row44_col0\" class=\"data row44 col0\" >Clustering</td>\n      <td id=\"T_effa5_row44_col1\" class=\"data row44 col1\" >False</td>\n    </tr>\n    <tr>\n      <th id=\"T_effa5_level0_row45\" class=\"row_heading level0 row45\" >45</th>\n      <td id=\"T_effa5_row45_col0\" class=\"data row45 col0\" >Clustering Iteration</td>\n      <td id=\"T_effa5_row45_col1\" class=\"data row45 col1\" >None</td>\n    </tr>\n    <tr>\n      <th id=\"T_effa5_level0_row46\" class=\"row_heading level0 row46\" >46</th>\n      <td id=\"T_effa5_row46_col0\" class=\"data row46 col0\" >Polynomial Features</td>\n      <td id=\"T_effa5_row46_col1\" class=\"data row46 col1\" >False</td>\n    </tr>\n    <tr>\n      <th id=\"T_effa5_level0_row47\" class=\"row_heading level0 row47\" >47</th>\n      <td id=\"T_effa5_row47_col0\" class=\"data row47 col0\" >Polynomial Degree</td>\n      <td id=\"T_effa5_row47_col1\" class=\"data row47 col1\" >None</td>\n    </tr>\n    <tr>\n      <th id=\"T_effa5_level0_row48\" class=\"row_heading level0 row48\" >48</th>\n      <td id=\"T_effa5_row48_col0\" class=\"data row48 col0\" >Trignometry Features</td>\n      <td id=\"T_effa5_row48_col1\" class=\"data row48 col1\" >False</td>\n    </tr>\n    <tr>\n      <th id=\"T_effa5_level0_row49\" class=\"row_heading level0 row49\" >49</th>\n      <td id=\"T_effa5_row49_col0\" class=\"data row49 col0\" >Polynomial Threshold</td>\n      <td id=\"T_effa5_row49_col1\" class=\"data row49 col1\" >None</td>\n    </tr>\n    <tr>\n      <th id=\"T_effa5_level0_row50\" class=\"row_heading level0 row50\" >50</th>\n      <td id=\"T_effa5_row50_col0\" class=\"data row50 col0\" >Group Features</td>\n      <td id=\"T_effa5_row50_col1\" class=\"data row50 col1\" >False</td>\n    </tr>\n    <tr>\n      <th id=\"T_effa5_level0_row51\" class=\"row_heading level0 row51\" >51</th>\n      <td id=\"T_effa5_row51_col0\" class=\"data row51 col0\" >Feature Selection</td>\n      <td id=\"T_effa5_row51_col1\" class=\"data row51 col1\" >True</td>\n    </tr>\n    <tr>\n      <th id=\"T_effa5_level0_row52\" class=\"row_heading level0 row52\" >52</th>\n      <td id=\"T_effa5_row52_col0\" class=\"data row52 col0\" >Features Selection Threshold</td>\n      <td id=\"T_effa5_row52_col1\" class=\"data row52 col1\" >0.200000</td>\n    </tr>\n    <tr>\n      <th id=\"T_effa5_level0_row53\" class=\"row_heading level0 row53\" >53</th>\n      <td id=\"T_effa5_row53_col0\" class=\"data row53 col0\" >Feature Interaction</td>\n      <td id=\"T_effa5_row53_col1\" class=\"data row53 col1\" >False</td>\n    </tr>\n    <tr>\n      <th id=\"T_effa5_level0_row54\" class=\"row_heading level0 row54\" >54</th>\n      <td id=\"T_effa5_row54_col0\" class=\"data row54 col0\" >Feature Ratio</td>\n      <td id=\"T_effa5_row54_col1\" class=\"data row54 col1\" >False</td>\n    </tr>\n    <tr>\n      <th id=\"T_effa5_level0_row55\" class=\"row_heading level0 row55\" >55</th>\n      <td id=\"T_effa5_row55_col0\" class=\"data row55 col0\" >Interaction Threshold</td>\n      <td id=\"T_effa5_row55_col1\" class=\"data row55 col1\" >None</td>\n    </tr>\n    <tr>\n      <th id=\"T_effa5_level0_row56\" class=\"row_heading level0 row56\" >56</th>\n      <td id=\"T_effa5_row56_col0\" class=\"data row56 col0\" >Fix Imbalance</td>\n      <td id=\"T_effa5_row56_col1\" class=\"data row56 col1\" >False</td>\n    </tr>\n    <tr>\n      <th id=\"T_effa5_level0_row57\" class=\"row_heading level0 row57\" >57</th>\n      <td id=\"T_effa5_row57_col0\" class=\"data row57 col0\" >Fix Imbalance Method</td>\n      <td id=\"T_effa5_row57_col1\" class=\"data row57 col1\" >SMOTE</td>\n    </tr>\n  </tbody>\n</table>\n"
     },
     "metadata": {},
     "output_type": "display_data"
    }
   ],
   "source": [
    "dsp_tr_multi=setup(data = ds_multi,\n",
    "             target = 'label',train_size=0.8,\n",
    "             numeric_imputation = 'mean',\n",
    "             categorical_features = ['protocol_type','service','flag'],\n",
    "             normalize=True,normalize_method='minmax',\n",
    "             feature_selection=True,feature_selection_threshold=0.2,\n",
    "             silent = True, fold_shuffle=True)"
   ],
   "metadata": {
    "collapsed": false,
    "pycharm": {
     "name": "#%%\n"
    }
   }
  },
  {
   "cell_type": "code",
   "execution_count": 53,
   "outputs": [],
   "source": [
    "X_train_multi=get_config('X_train')"
   ],
   "metadata": {
    "collapsed": false,
    "pycharm": {
     "name": "#%%\n"
    }
   }
  },
  {
   "cell_type": "code",
   "execution_count": 54,
   "outputs": [
    {
     "data": {
      "text/plain": "           count  srv_serror_rate  service_other  logged_in_1     src_bytes  \\\n99659   0.009785              0.0            0.0          1.0  2.318901e-07   \n48665   0.156556              0.0            0.0          0.0  3.116023e-08   \n48077   0.491194              1.0            0.0          0.0  0.000000e+00   \n2820    0.086106              0.0            0.0          0.0  3.260955e-08   \n67316   0.536204              1.0            0.0          0.0  0.000000e+00   \n...          ...              ...            ...          ...           ...   \n55972   0.115460              0.0            0.0          0.0  3.188489e-08   \n105601  0.033268              0.0            0.0          0.0  2.029038e-08   \n125458  0.017613              0.0            0.0          1.0  1.681203e-07   \n95612   1.000000              0.0            0.0          0.0  7.478456e-07   \n113211  0.256360              1.0            0.0          0.0  0.000000e+00   \n\n        service_ecr_i  service_ftp_data  service_private  \\\n99659             0.0               0.0              0.0   \n48665             0.0               0.0              0.0   \n48077             0.0               0.0              1.0   \n2820              0.0               0.0              0.0   \n67316             0.0               0.0              0.0   \n...               ...               ...              ...   \n55972             0.0               0.0              0.0   \n105601            0.0               0.0              1.0   \n125458            0.0               0.0              0.0   \n95612             1.0               0.0              0.0   \n113211            0.0               0.0              0.0   \n\n        dst_host_same_src_port_rate  service_http  ...  duration  \\\n99659                          0.02           1.0  ...       0.0   \n48665                          0.00           0.0  ...       0.0   \n48077                          0.00           0.0  ...       0.0   \n2820                           0.88           0.0  ...       0.0   \n67316                          0.00           0.0  ...       0.0   \n...                             ...           ...  ...       ...   \n55972                          0.00           0.0  ...       0.0   \n105601                         0.08           0.0  ...       0.0   \n125458                         0.01           1.0  ...       0.0   \n95612                          0.92           0.0  ...       0.0   \n113211                         0.00           0.0  ...       0.0   \n\n        same_srv_rate  srv_diff_host_rate  srv_count  rerror_rate  flag_SF  \\\n99659            1.00                0.29   0.013699          0.0      1.0   \n48665            1.00                0.01   0.313112          0.0      1.0   \n48077            0.04                0.00   0.017613          0.0      0.0   \n2820             1.00                0.01   0.387476          0.0      1.0   \n67316            0.08                0.00   0.045010          0.0      0.0   \n...               ...                 ...        ...          ...      ...   \n55972            1.00                0.01   0.272016          0.0      1.0   \n105601           1.00                0.00   0.033268          0.0      1.0   \n125458           1.00                0.12   0.050881          0.0      1.0   \n95612            1.00                0.00   1.000000          0.0      1.0   \n113211           0.16                0.00   0.041096          0.0      0.0   \n\n        serror_rate  service_ftp  protocol_type_tcp  dst_host_srv_rerror_rate  \n99659           0.0          0.0                1.0                       0.0  \n48665           0.0          0.0                0.0                       0.0  \n48077           1.0          0.0                1.0                       0.0  \n2820            0.0          0.0                0.0                       0.0  \n67316           1.0          0.0                1.0                       0.0  \n...             ...          ...                ...                       ...  \n55972           0.0          0.0                0.0                       0.0  \n105601          0.0          0.0                0.0                       0.0  \n125458          0.0          0.0                1.0                       0.0  \n95612           0.0          0.0                0.0                       0.0  \n113211          1.0          0.0                1.0                       0.0  \n\n[118813 rows x 39 columns]",
      "text/html": "<div>\n<style scoped>\n    .dataframe tbody tr th:only-of-type {\n        vertical-align: middle;\n    }\n\n    .dataframe tbody tr th {\n        vertical-align: top;\n    }\n\n    .dataframe thead th {\n        text-align: right;\n    }\n</style>\n<table border=\"1\" class=\"dataframe\">\n  <thead>\n    <tr style=\"text-align: right;\">\n      <th></th>\n      <th>count</th>\n      <th>srv_serror_rate</th>\n      <th>service_other</th>\n      <th>logged_in_1</th>\n      <th>src_bytes</th>\n      <th>service_ecr_i</th>\n      <th>service_ftp_data</th>\n      <th>service_private</th>\n      <th>dst_host_same_src_port_rate</th>\n      <th>service_http</th>\n      <th>...</th>\n      <th>duration</th>\n      <th>same_srv_rate</th>\n      <th>srv_diff_host_rate</th>\n      <th>srv_count</th>\n      <th>rerror_rate</th>\n      <th>flag_SF</th>\n      <th>serror_rate</th>\n      <th>service_ftp</th>\n      <th>protocol_type_tcp</th>\n      <th>dst_host_srv_rerror_rate</th>\n    </tr>\n  </thead>\n  <tbody>\n    <tr>\n      <th>99659</th>\n      <td>0.009785</td>\n      <td>0.0</td>\n      <td>0.0</td>\n      <td>1.0</td>\n      <td>2.318901e-07</td>\n      <td>0.0</td>\n      <td>0.0</td>\n      <td>0.0</td>\n      <td>0.02</td>\n      <td>1.0</td>\n      <td>...</td>\n      <td>0.0</td>\n      <td>1.00</td>\n      <td>0.29</td>\n      <td>0.013699</td>\n      <td>0.0</td>\n      <td>1.0</td>\n      <td>0.0</td>\n      <td>0.0</td>\n      <td>1.0</td>\n      <td>0.0</td>\n    </tr>\n    <tr>\n      <th>48665</th>\n      <td>0.156556</td>\n      <td>0.0</td>\n      <td>0.0</td>\n      <td>0.0</td>\n      <td>3.116023e-08</td>\n      <td>0.0</td>\n      <td>0.0</td>\n      <td>0.0</td>\n      <td>0.00</td>\n      <td>0.0</td>\n      <td>...</td>\n      <td>0.0</td>\n      <td>1.00</td>\n      <td>0.01</td>\n      <td>0.313112</td>\n      <td>0.0</td>\n      <td>1.0</td>\n      <td>0.0</td>\n      <td>0.0</td>\n      <td>0.0</td>\n      <td>0.0</td>\n    </tr>\n    <tr>\n      <th>48077</th>\n      <td>0.491194</td>\n      <td>1.0</td>\n      <td>0.0</td>\n      <td>0.0</td>\n      <td>0.000000e+00</td>\n      <td>0.0</td>\n      <td>0.0</td>\n      <td>1.0</td>\n      <td>0.00</td>\n      <td>0.0</td>\n      <td>...</td>\n      <td>0.0</td>\n      <td>0.04</td>\n      <td>0.00</td>\n      <td>0.017613</td>\n      <td>0.0</td>\n      <td>0.0</td>\n      <td>1.0</td>\n      <td>0.0</td>\n      <td>1.0</td>\n      <td>0.0</td>\n    </tr>\n    <tr>\n      <th>2820</th>\n      <td>0.086106</td>\n      <td>0.0</td>\n      <td>0.0</td>\n      <td>0.0</td>\n      <td>3.260955e-08</td>\n      <td>0.0</td>\n      <td>0.0</td>\n      <td>0.0</td>\n      <td>0.88</td>\n      <td>0.0</td>\n      <td>...</td>\n      <td>0.0</td>\n      <td>1.00</td>\n      <td>0.01</td>\n      <td>0.387476</td>\n      <td>0.0</td>\n      <td>1.0</td>\n      <td>0.0</td>\n      <td>0.0</td>\n      <td>0.0</td>\n      <td>0.0</td>\n    </tr>\n    <tr>\n      <th>67316</th>\n      <td>0.536204</td>\n      <td>1.0</td>\n      <td>0.0</td>\n      <td>0.0</td>\n      <td>0.000000e+00</td>\n      <td>0.0</td>\n      <td>0.0</td>\n      <td>0.0</td>\n      <td>0.00</td>\n      <td>0.0</td>\n      <td>...</td>\n      <td>0.0</td>\n      <td>0.08</td>\n      <td>0.00</td>\n      <td>0.045010</td>\n      <td>0.0</td>\n      <td>0.0</td>\n      <td>1.0</td>\n      <td>0.0</td>\n      <td>1.0</td>\n      <td>0.0</td>\n    </tr>\n    <tr>\n      <th>...</th>\n      <td>...</td>\n      <td>...</td>\n      <td>...</td>\n      <td>...</td>\n      <td>...</td>\n      <td>...</td>\n      <td>...</td>\n      <td>...</td>\n      <td>...</td>\n      <td>...</td>\n      <td>...</td>\n      <td>...</td>\n      <td>...</td>\n      <td>...</td>\n      <td>...</td>\n      <td>...</td>\n      <td>...</td>\n      <td>...</td>\n      <td>...</td>\n      <td>...</td>\n      <td>...</td>\n    </tr>\n    <tr>\n      <th>55972</th>\n      <td>0.115460</td>\n      <td>0.0</td>\n      <td>0.0</td>\n      <td>0.0</td>\n      <td>3.188489e-08</td>\n      <td>0.0</td>\n      <td>0.0</td>\n      <td>0.0</td>\n      <td>0.00</td>\n      <td>0.0</td>\n      <td>...</td>\n      <td>0.0</td>\n      <td>1.00</td>\n      <td>0.01</td>\n      <td>0.272016</td>\n      <td>0.0</td>\n      <td>1.0</td>\n      <td>0.0</td>\n      <td>0.0</td>\n      <td>0.0</td>\n      <td>0.0</td>\n    </tr>\n    <tr>\n      <th>105601</th>\n      <td>0.033268</td>\n      <td>0.0</td>\n      <td>0.0</td>\n      <td>0.0</td>\n      <td>2.029038e-08</td>\n      <td>0.0</td>\n      <td>0.0</td>\n      <td>1.0</td>\n      <td>0.08</td>\n      <td>0.0</td>\n      <td>...</td>\n      <td>0.0</td>\n      <td>1.00</td>\n      <td>0.00</td>\n      <td>0.033268</td>\n      <td>0.0</td>\n      <td>1.0</td>\n      <td>0.0</td>\n      <td>0.0</td>\n      <td>0.0</td>\n      <td>0.0</td>\n    </tr>\n    <tr>\n      <th>125458</th>\n      <td>0.017613</td>\n      <td>0.0</td>\n      <td>0.0</td>\n      <td>1.0</td>\n      <td>1.681203e-07</td>\n      <td>0.0</td>\n      <td>0.0</td>\n      <td>0.0</td>\n      <td>0.01</td>\n      <td>1.0</td>\n      <td>...</td>\n      <td>0.0</td>\n      <td>1.00</td>\n      <td>0.12</td>\n      <td>0.050881</td>\n      <td>0.0</td>\n      <td>1.0</td>\n      <td>0.0</td>\n      <td>0.0</td>\n      <td>1.0</td>\n      <td>0.0</td>\n    </tr>\n    <tr>\n      <th>95612</th>\n      <td>1.000000</td>\n      <td>0.0</td>\n      <td>0.0</td>\n      <td>0.0</td>\n      <td>7.478456e-07</td>\n      <td>1.0</td>\n      <td>0.0</td>\n      <td>0.0</td>\n      <td>0.92</td>\n      <td>0.0</td>\n      <td>...</td>\n      <td>0.0</td>\n      <td>1.00</td>\n      <td>0.00</td>\n      <td>1.000000</td>\n      <td>0.0</td>\n      <td>1.0</td>\n      <td>0.0</td>\n      <td>0.0</td>\n      <td>0.0</td>\n      <td>0.0</td>\n    </tr>\n    <tr>\n      <th>113211</th>\n      <td>0.256360</td>\n      <td>1.0</td>\n      <td>0.0</td>\n      <td>0.0</td>\n      <td>0.000000e+00</td>\n      <td>0.0</td>\n      <td>0.0</td>\n      <td>0.0</td>\n      <td>0.00</td>\n      <td>0.0</td>\n      <td>...</td>\n      <td>0.0</td>\n      <td>0.16</td>\n      <td>0.00</td>\n      <td>0.041096</td>\n      <td>0.0</td>\n      <td>0.0</td>\n      <td>1.0</td>\n      <td>0.0</td>\n      <td>1.0</td>\n      <td>0.0</td>\n    </tr>\n  </tbody>\n</table>\n<p>118813 rows × 39 columns</p>\n</div>"
     },
     "execution_count": 54,
     "metadata": {},
     "output_type": "execute_result"
    }
   ],
   "source": [
    "X_train_multi"
   ],
   "metadata": {
    "collapsed": false,
    "pycharm": {
     "name": "#%%\n"
    }
   }
  },
  {
   "cell_type": "code",
   "execution_count": 55,
   "outputs": [],
   "source": [
    "X_test_multi=get_config('X_test')\n",
    "Y_train_multi=get_config('y_train')"
   ],
   "metadata": {
    "collapsed": false,
    "pycharm": {
     "name": "#%%\n"
    }
   }
  },
  {
   "cell_type": "code",
   "execution_count": 56,
   "outputs": [],
   "source": [
    "Y_test_multi=get_config('y_test')"
   ],
   "metadata": {
    "collapsed": false,
    "pycharm": {
     "name": "#%%\n"
    }
   }
  },
  {
   "cell_type": "code",
   "execution_count": 57,
   "outputs": [
    {
     "data": {
      "text/plain": "99659     4\n48665     4\n48077     0\n2820      4\n67316     0\n         ..\n55972     4\n105601    0\n125458    4\n95612     0\n113211    0\nName: label, Length: 118813, dtype: int32"
     },
     "execution_count": 57,
     "metadata": {},
     "output_type": "execute_result"
    }
   ],
   "source": [
    "Y_train_multi"
   ],
   "metadata": {
    "collapsed": false,
    "pycharm": {
     "name": "#%%\n"
    }
   }
  },
  {
   "cell_type": "code",
   "execution_count": 58,
   "outputs": [
    {
     "name": "stdout",
     "output_type": "stream",
     "text": [
      "Epoch 1/100\n",
      "1857/1857 [==============================] - 17s 9ms/step - loss: 0.1674 - accuracy: 0.9483 - val_loss: 0.0851 - val_accuracy: 0.9711\n",
      "Epoch 2/100\n",
      "1857/1857 [==============================] - 21s 11ms/step - loss: 0.0922 - accuracy: 0.9691 - val_loss: 0.0831 - val_accuracy: 0.9693\n",
      "Epoch 3/100\n",
      "1857/1857 [==============================] - 20s 11ms/step - loss: 0.0813 - accuracy: 0.9721 - val_loss: 0.0679 - val_accuracy: 0.9768\n",
      "Epoch 4/100\n",
      "1857/1857 [==============================] - 19s 10ms/step - loss: 0.0748 - accuracy: 0.9746 - val_loss: 0.0688 - val_accuracy: 0.9735\n",
      "Epoch 5/100\n",
      "1857/1857 [==============================] - 22s 12ms/step - loss: 0.0711 - accuracy: 0.9754 - val_loss: 0.0581 - val_accuracy: 0.9794\n",
      "Epoch 6/100\n",
      "1857/1857 [==============================] - 21s 11ms/step - loss: 0.0672 - accuracy: 0.9763 - val_loss: 0.0607 - val_accuracy: 0.9774\n",
      "Epoch 7/100\n",
      "1857/1857 [==============================] - 22s 12ms/step - loss: 0.0633 - accuracy: 0.9776 - val_loss: 0.0618 - val_accuracy: 0.9775\n",
      "Epoch 8/100\n",
      "1857/1857 [==============================] - 22s 12ms/step - loss: 0.0612 - accuracy: 0.9780 - val_loss: 0.0598 - val_accuracy: 0.9812\n",
      "Epoch 9/100\n",
      "1857/1857 [==============================] - 21s 11ms/step - loss: 0.0598 - accuracy: 0.9787 - val_loss: 0.0520 - val_accuracy: 0.9828\n",
      "Epoch 10/100\n",
      "1857/1857 [==============================] - 20s 11ms/step - loss: 0.0583 - accuracy: 0.9791 - val_loss: 0.0502 - val_accuracy: 0.9823\n",
      "Epoch 11/100\n",
      "1857/1857 [==============================] - 22s 12ms/step - loss: 0.0556 - accuracy: 0.9802 - val_loss: 0.0517 - val_accuracy: 0.9820\n",
      "Epoch 12/100\n",
      "1857/1857 [==============================] - 18s 10ms/step - loss: 0.0542 - accuracy: 0.9808 - val_loss: 0.0491 - val_accuracy: 0.9819\n",
      "Epoch 13/100\n",
      "1857/1857 [==============================] - 21s 11ms/step - loss: 0.0529 - accuracy: 0.9813 - val_loss: 0.0492 - val_accuracy: 0.9828\n",
      "Epoch 14/100\n",
      "1857/1857 [==============================] - 22s 12ms/step - loss: 0.0520 - accuracy: 0.9815 - val_loss: 0.0522 - val_accuracy: 0.9815\n"
     ]
    },
    {
     "data": {
      "text/plain": "<tensorflow.python.keras.callbacks.History at 0x2449d0ad610>"
     },
     "execution_count": 58,
     "metadata": {},
     "output_type": "execute_result"
    }
   ],
   "source": [
    "#now model for multiclass\n",
    "\n",
    "act3 = PReLU(alpha_initializer='zeros', weights=None)\n",
    "model3 = Sequential()\n",
    "# define the NN architecture and activation function\n",
    "\n",
    "model3.add(Dense(496, input_dim=39, activation=Activation(act3)))\n",
    "model3.add(Dropout(0.1))\n",
    "model3.add(Dense(248, activation='relu'))\n",
    "model3.add(Dropout(0.1))\n",
    "model3.add(Dense(124, activation='relu'))\n",
    "model3.add(Dropout(0.1))\n",
    "model3.add(Dense(62, activation='relu'))\n",
    "model3.add(Dropout(0.1))\n",
    "model3.add(Dense(5))\n",
    "model3.add(Activation('softmax'))\n",
    "\n",
    "sgd =SGD(lr=0.01, decay=1e-6, momentum=0.9, nesterov=True)\n",
    "model3.compile(loss='sparse_categorical_crossentropy', optimizer=sgd, metrics= ['accuracy'])\n",
    "es = EarlyStopping(monitor='val_accuracy', mode='max', min_delta=0.0001,patience=5) ## early stopping\n",
    "model3.fit(X_train_multi, Y_train_multi, validation_data=(X_test_multi, Y_test_multi), epochs=100, batch_size=64, callbacks=[es])"
   ],
   "metadata": {
    "collapsed": false,
    "pycharm": {
     "name": "#%%\n"
    }
   }
  },
  {
   "cell_type": "code",
   "execution_count": 59,
   "outputs": [
    {
     "name": "stdout",
     "output_type": "stream",
     "text": [
      "accuracy: 98.18%\n"
     ]
    }
   ],
   "source": [
    "#training accuracy\n",
    "train_acc3 = model3.evaluate(X_train_multi, Y_train_multi, verbose=0)\n",
    "print(\"%s: %.2f%%\" % (model3.metrics_names[1], train_acc3[1]*100))"
   ],
   "metadata": {
    "collapsed": false,
    "pycharm": {
     "name": "#%%\n"
    }
   }
  },
  {
   "cell_type": "code",
   "execution_count": 60,
   "outputs": [
    {
     "name": "stdout",
     "output_type": "stream",
     "text": [
      "accuracy: 98.15%\n"
     ]
    }
   ],
   "source": [
    "#calculate the test accuracy using evaluate function\n",
    "test_acc3 = model3.evaluate(X_test_multi, Y_test_multi, verbose=0)\n",
    "print(\"%s: %.2f%%\" % (model3.metrics_names[1], test_acc3[1] * 100))"
   ],
   "metadata": {
    "collapsed": false,
    "pycharm": {
     "name": "#%%\n"
    }
   }
  },
  {
   "cell_type": "code",
   "execution_count": 61,
   "outputs": [
    {
     "data": {
      "text/plain": "0.9815176407217883"
     },
     "execution_count": 61,
     "metadata": {},
     "output_type": "execute_result"
    }
   ],
   "source": [
    "y_pred3 = model3.predict_classes(X_test_multi)\n",
    "pred_accuracy3 = accuracy_score(Y_test_multi, y_pred3)\n",
    "pred_accuracy3"
   ],
   "metadata": {
    "collapsed": false,
    "pycharm": {
     "name": "#%%\n"
    }
   }
  },
  {
   "cell_type": "code",
   "execution_count": 66,
   "outputs": [
    {
     "name": "stdout",
     "output_type": "stream",
     "text": [
      "Precision : 0.981518\n"
     ]
    }
   ],
   "source": [
    "# Precision\n",
    "precision3 = precision_score(Y_test_multi, y_pred3, average='micro')\n",
    "print('Precision : %f'% precision3)"
   ],
   "metadata": {
    "collapsed": false,
    "pycharm": {
     "name": "#%%\n"
    }
   }
  },
  {
   "cell_type": "code",
   "execution_count": 64,
   "outputs": [
    {
     "name": "stdout",
     "output_type": "stream",
     "text": [
      "Recall: 0.981518\n"
     ]
    }
   ],
   "source": [
    "recall3 = recall_score(Y_test_multi, y_pred3,average='micro')\n",
    "print('Recall: %f' % recall3)"
   ],
   "metadata": {
    "collapsed": false,
    "pycharm": {
     "name": "#%%\n"
    }
   }
  },
  {
   "cell_type": "code",
   "execution_count": 67,
   "outputs": [
    {
     "name": "stdout",
     "output_type": "stream",
     "text": [
      "[[10470    33     0     0   139]\n",
      " [    0  2844     1     0    19]\n",
      " [    2     6   641     0   109]\n",
      " [    0     0     6     0    16]\n",
      " [   32    75   111     0 15200]]\n"
     ]
    }
   ],
   "source": [
    "# confusion matrix\n",
    "confusionmatrix3 = confusion_matrix(Y_test_multi, y_pred3)\n",
    "print(confusionmatrix3)"
   ],
   "metadata": {
    "collapsed": false,
    "pycharm": {
     "name": "#%%\n"
    }
   }
  },
  {
   "cell_type": "code",
   "execution_count": 69,
   "outputs": [
    {
     "name": "stdout",
     "output_type": "stream",
     "text": [
      "F1 score: 0.981518\n"
     ]
    }
   ],
   "source": [
    "# f1-score\n",
    "f1_3 = f1_score(Y_test_multi, y_pred3, average='micro')\n",
    "print('F1 score: %f' % f1_3)"
   ],
   "metadata": {
    "collapsed": false,
    "pycharm": {
     "name": "#%%\n"
    }
   }
  },
  {
   "cell_type": "code",
   "execution_count": 70,
   "outputs": [],
   "source": [
    "model3.save(\"pycaret_model_NSLKDD_multiclass.h5\")"
   ],
   "metadata": {
    "collapsed": false,
    "pycharm": {
     "name": "#%%\n"
    }
   }
  },
  {
   "cell_type": "code",
   "execution_count": 71,
   "outputs": [
    {
     "data": {
      "text/plain": "           count  srv_serror_rate  service_other  logged_in_1     src_bytes  \\\n11997   0.033268             0.00            0.0          0.0  9.877069e-07   \n119444  0.146771             0.00            0.0          0.0  3.188489e-08   \n42239   0.491194             1.00            0.0          0.0  0.000000e+00   \n7064    0.477495             0.00            0.0          0.0  0.000000e+00   \n28922   0.001957             0.00            0.0          0.0  5.797253e-09   \n...          ...              ...            ...          ...           ...   \n104493  0.001957             0.00            0.0          1.0  7.485703e-07   \n96202   0.015656             0.00            0.0          1.0  1.775409e-07   \n58170   0.029354             0.03            0.0          1.0  1.521779e-07   \n77776   0.001957             0.00            0.0          0.0  1.304382e-08   \n91293   1.000000             0.00            0.0          0.0  7.478456e-07   \n\n        service_ecr_i  service_ftp_data  service_private  \\\n11997             0.0               1.0              0.0   \n119444            0.0               0.0              0.0   \n42239             0.0               1.0              0.0   \n7064              0.0               0.0              0.0   \n28922             0.0               0.0              0.0   \n...               ...               ...              ...   \n104493            0.0               0.0              0.0   \n96202             0.0               0.0              0.0   \n58170             0.0               0.0              0.0   \n77776             0.0               0.0              0.0   \n91293             1.0               0.0              0.0   \n\n        dst_host_same_src_port_rate  service_http  ...  duration  \\\n11997                          0.34           0.0  ...       0.0   \n119444                         0.00           0.0  ...       0.0   \n42239                          0.00           0.0  ...       0.0   \n7064                           0.00           0.0  ...       0.0   \n28922                          1.00           0.0  ...       0.0   \n...                             ...           ...  ...       ...   \n104493                         0.09           0.0  ...       0.0   \n96202                          0.00           1.0  ...       0.0   \n58170                          0.07           1.0  ...       0.0   \n77776                          1.00           0.0  ...       0.0   \n91293                          0.76           0.0  ...       0.0   \n\n        same_srv_rate  srv_diff_host_rate  srv_count  rerror_rate  flag_SF  \\\n11997            1.00                0.00   0.033268          0.0      1.0   \n119444           1.00                0.01   0.303327          0.0      1.0   \n42239            0.04                0.00   0.019569          0.0      0.0   \n7064             0.02                0.00   0.007828          1.0      0.0   \n28922            1.00                1.00   0.039139          0.0      1.0   \n...               ...                 ...        ...          ...      ...   \n104493           1.00                0.00   0.001957          0.0      1.0   \n96202            1.00                0.00   0.015656          0.0      1.0   \n58170            1.00                0.06   0.064579          0.0      1.0   \n77776            1.00                0.00   0.001957          0.0      1.0   \n91293            1.00                0.00   1.000000          0.0      1.0   \n\n        serror_rate  service_ftp  protocol_type_tcp  dst_host_srv_rerror_rate  \n11997          0.00          0.0                1.0                       0.0  \n119444         0.00          0.0                0.0                       0.0  \n42239          1.00          0.0                1.0                       0.0  \n7064           0.00          1.0                1.0                       1.0  \n28922          0.00          0.0                0.0                       0.0  \n...             ...          ...                ...                       ...  \n104493         0.00          0.0                1.0                       0.0  \n96202          0.00          0.0                1.0                       0.0  \n58170          0.07          0.0                1.0                       0.0  \n77776          0.00          0.0                0.0                       0.0  \n91293          0.00          0.0                0.0                       0.0  \n\n[29704 rows x 39 columns]",
      "text/html": "<div>\n<style scoped>\n    .dataframe tbody tr th:only-of-type {\n        vertical-align: middle;\n    }\n\n    .dataframe tbody tr th {\n        vertical-align: top;\n    }\n\n    .dataframe thead th {\n        text-align: right;\n    }\n</style>\n<table border=\"1\" class=\"dataframe\">\n  <thead>\n    <tr style=\"text-align: right;\">\n      <th></th>\n      <th>count</th>\n      <th>srv_serror_rate</th>\n      <th>service_other</th>\n      <th>logged_in_1</th>\n      <th>src_bytes</th>\n      <th>service_ecr_i</th>\n      <th>service_ftp_data</th>\n      <th>service_private</th>\n      <th>dst_host_same_src_port_rate</th>\n      <th>service_http</th>\n      <th>...</th>\n      <th>duration</th>\n      <th>same_srv_rate</th>\n      <th>srv_diff_host_rate</th>\n      <th>srv_count</th>\n      <th>rerror_rate</th>\n      <th>flag_SF</th>\n      <th>serror_rate</th>\n      <th>service_ftp</th>\n      <th>protocol_type_tcp</th>\n      <th>dst_host_srv_rerror_rate</th>\n    </tr>\n  </thead>\n  <tbody>\n    <tr>\n      <th>11997</th>\n      <td>0.033268</td>\n      <td>0.00</td>\n      <td>0.0</td>\n      <td>0.0</td>\n      <td>9.877069e-07</td>\n      <td>0.0</td>\n      <td>1.0</td>\n      <td>0.0</td>\n      <td>0.34</td>\n      <td>0.0</td>\n      <td>...</td>\n      <td>0.0</td>\n      <td>1.00</td>\n      <td>0.00</td>\n      <td>0.033268</td>\n      <td>0.0</td>\n      <td>1.0</td>\n      <td>0.00</td>\n      <td>0.0</td>\n      <td>1.0</td>\n      <td>0.0</td>\n    </tr>\n    <tr>\n      <th>119444</th>\n      <td>0.146771</td>\n      <td>0.00</td>\n      <td>0.0</td>\n      <td>0.0</td>\n      <td>3.188489e-08</td>\n      <td>0.0</td>\n      <td>0.0</td>\n      <td>0.0</td>\n      <td>0.00</td>\n      <td>0.0</td>\n      <td>...</td>\n      <td>0.0</td>\n      <td>1.00</td>\n      <td>0.01</td>\n      <td>0.303327</td>\n      <td>0.0</td>\n      <td>1.0</td>\n      <td>0.00</td>\n      <td>0.0</td>\n      <td>0.0</td>\n      <td>0.0</td>\n    </tr>\n    <tr>\n      <th>42239</th>\n      <td>0.491194</td>\n      <td>1.00</td>\n      <td>0.0</td>\n      <td>0.0</td>\n      <td>0.000000e+00</td>\n      <td>0.0</td>\n      <td>1.0</td>\n      <td>0.0</td>\n      <td>0.00</td>\n      <td>0.0</td>\n      <td>...</td>\n      <td>0.0</td>\n      <td>0.04</td>\n      <td>0.00</td>\n      <td>0.019569</td>\n      <td>0.0</td>\n      <td>0.0</td>\n      <td>1.00</td>\n      <td>0.0</td>\n      <td>1.0</td>\n      <td>0.0</td>\n    </tr>\n    <tr>\n      <th>7064</th>\n      <td>0.477495</td>\n      <td>0.00</td>\n      <td>0.0</td>\n      <td>0.0</td>\n      <td>0.000000e+00</td>\n      <td>0.0</td>\n      <td>0.0</td>\n      <td>0.0</td>\n      <td>0.00</td>\n      <td>0.0</td>\n      <td>...</td>\n      <td>0.0</td>\n      <td>0.02</td>\n      <td>0.00</td>\n      <td>0.007828</td>\n      <td>1.0</td>\n      <td>0.0</td>\n      <td>0.00</td>\n      <td>1.0</td>\n      <td>1.0</td>\n      <td>1.0</td>\n    </tr>\n    <tr>\n      <th>28922</th>\n      <td>0.001957</td>\n      <td>0.00</td>\n      <td>0.0</td>\n      <td>0.0</td>\n      <td>5.797253e-09</td>\n      <td>0.0</td>\n      <td>0.0</td>\n      <td>0.0</td>\n      <td>1.00</td>\n      <td>0.0</td>\n      <td>...</td>\n      <td>0.0</td>\n      <td>1.00</td>\n      <td>1.00</td>\n      <td>0.039139</td>\n      <td>0.0</td>\n      <td>1.0</td>\n      <td>0.00</td>\n      <td>0.0</td>\n      <td>0.0</td>\n      <td>0.0</td>\n    </tr>\n    <tr>\n      <th>...</th>\n      <td>...</td>\n      <td>...</td>\n      <td>...</td>\n      <td>...</td>\n      <td>...</td>\n      <td>...</td>\n      <td>...</td>\n      <td>...</td>\n      <td>...</td>\n      <td>...</td>\n      <td>...</td>\n      <td>...</td>\n      <td>...</td>\n      <td>...</td>\n      <td>...</td>\n      <td>...</td>\n      <td>...</td>\n      <td>...</td>\n      <td>...</td>\n      <td>...</td>\n      <td>...</td>\n    </tr>\n    <tr>\n      <th>104493</th>\n      <td>0.001957</td>\n      <td>0.00</td>\n      <td>0.0</td>\n      <td>1.0</td>\n      <td>7.485703e-07</td>\n      <td>0.0</td>\n      <td>0.0</td>\n      <td>0.0</td>\n      <td>0.09</td>\n      <td>0.0</td>\n      <td>...</td>\n      <td>0.0</td>\n      <td>1.00</td>\n      <td>0.00</td>\n      <td>0.001957</td>\n      <td>0.0</td>\n      <td>1.0</td>\n      <td>0.00</td>\n      <td>0.0</td>\n      <td>1.0</td>\n      <td>0.0</td>\n    </tr>\n    <tr>\n      <th>96202</th>\n      <td>0.015656</td>\n      <td>0.00</td>\n      <td>0.0</td>\n      <td>1.0</td>\n      <td>1.775409e-07</td>\n      <td>0.0</td>\n      <td>0.0</td>\n      <td>0.0</td>\n      <td>0.00</td>\n      <td>1.0</td>\n      <td>...</td>\n      <td>0.0</td>\n      <td>1.00</td>\n      <td>0.00</td>\n      <td>0.015656</td>\n      <td>0.0</td>\n      <td>1.0</td>\n      <td>0.00</td>\n      <td>0.0</td>\n      <td>1.0</td>\n      <td>0.0</td>\n    </tr>\n    <tr>\n      <th>58170</th>\n      <td>0.029354</td>\n      <td>0.03</td>\n      <td>0.0</td>\n      <td>1.0</td>\n      <td>1.521779e-07</td>\n      <td>0.0</td>\n      <td>0.0</td>\n      <td>0.0</td>\n      <td>0.07</td>\n      <td>1.0</td>\n      <td>...</td>\n      <td>0.0</td>\n      <td>1.00</td>\n      <td>0.06</td>\n      <td>0.064579</td>\n      <td>0.0</td>\n      <td>1.0</td>\n      <td>0.07</td>\n      <td>0.0</td>\n      <td>1.0</td>\n      <td>0.0</td>\n    </tr>\n    <tr>\n      <th>77776</th>\n      <td>0.001957</td>\n      <td>0.00</td>\n      <td>0.0</td>\n      <td>0.0</td>\n      <td>1.304382e-08</td>\n      <td>0.0</td>\n      <td>0.0</td>\n      <td>0.0</td>\n      <td>1.00</td>\n      <td>0.0</td>\n      <td>...</td>\n      <td>0.0</td>\n      <td>1.00</td>\n      <td>0.00</td>\n      <td>0.001957</td>\n      <td>0.0</td>\n      <td>1.0</td>\n      <td>0.00</td>\n      <td>0.0</td>\n      <td>0.0</td>\n      <td>0.0</td>\n    </tr>\n    <tr>\n      <th>91293</th>\n      <td>1.000000</td>\n      <td>0.00</td>\n      <td>0.0</td>\n      <td>0.0</td>\n      <td>7.478456e-07</td>\n      <td>1.0</td>\n      <td>0.0</td>\n      <td>0.0</td>\n      <td>0.76</td>\n      <td>0.0</td>\n      <td>...</td>\n      <td>0.0</td>\n      <td>1.00</td>\n      <td>0.00</td>\n      <td>1.000000</td>\n      <td>0.0</td>\n      <td>1.0</td>\n      <td>0.00</td>\n      <td>0.0</td>\n      <td>0.0</td>\n      <td>0.0</td>\n    </tr>\n  </tbody>\n</table>\n<p>29704 rows × 39 columns</p>\n</div>"
     },
     "execution_count": 71,
     "metadata": {},
     "output_type": "execute_result"
    }
   ],
   "source": [
    "X_test_multi"
   ],
   "metadata": {
    "collapsed": false,
    "pycharm": {
     "name": "#%%\n"
    }
   }
  },
  {
   "cell_type": "code",
   "execution_count": 72,
   "outputs": [
    {
     "name": "stdout",
     "output_type": "stream",
     "text": [
      "              precision    recall  f1-score   support\n",
      "\n",
      "         DoS       1.00      0.98      0.99     10642\n",
      "       Probe       0.96      0.99      0.98      2864\n",
      "         R2L       0.84      0.85      0.85       758\n",
      "         U2R       0.00      0.00      0.00        22\n",
      "      Normal       0.98      0.99      0.98     15418\n",
      "\n",
      "    accuracy                           0.98     29704\n",
      "   macro avg       0.76      0.76      0.76     29704\n",
      "weighted avg       0.98      0.98      0.98     29704\n",
      "\n"
     ]
    }
   ],
   "source": [
    "from sklearn.metrics import classification_report\n",
    "target_names=['DoS','Probe','R2L','U2R','Normal']\n",
    "print(classification_report(Y_test_multi, y_pred3, target_names=target_names))"
   ],
   "metadata": {
    "collapsed": false,
    "pycharm": {
     "name": "#%%\n"
    }
   }
  },
  {
   "cell_type": "code",
   "execution_count": 79,
   "outputs": [
    {
     "name": "stdout",
     "output_type": "stream",
     "text": [
      "Epoch 1/100\n",
      "1857/1857 [==============================] - 6s 3ms/step - loss: 0.1136 - false_negatives_5: 1700.0000 - val_loss: 0.0762 - val_false_negatives_5: 527.0000\n",
      "Epoch 2/100\n",
      "1857/1857 [==============================] - 7s 4ms/step - loss: 0.0734 - false_negatives_5: 1281.0000 - val_loss: 0.0669 - val_false_negatives_5: 248.0000\n",
      "Epoch 3/100\n",
      "1857/1857 [==============================] - 7s 4ms/step - loss: 0.0665 - false_negatives_5: 1158.0000 - val_loss: 0.0584 - val_false_negatives_5: 331.0000\n",
      "Epoch 4/100\n",
      "1857/1857 [==============================] - 6s 3ms/step - loss: 0.0625 - false_negatives_5: 1104.0000 - val_loss: 0.0618 - val_false_negatives_5: 160.0000\n",
      "Epoch 5/100\n",
      "1857/1857 [==============================] - 6s 3ms/step - loss: 0.0593 - false_negatives_5: 1032.0000 - val_loss: 0.0621 - val_false_negatives_5: 148.0000\n",
      "Epoch 6/100\n",
      "1857/1857 [==============================] - 6s 3ms/step - loss: 0.0567 - false_negatives_5: 983.0000 - val_loss: 0.0500 - val_false_negatives_5: 226.0000\n",
      "Epoch 7/100\n",
      "1857/1857 [==============================] - 6s 3ms/step - loss: 0.0540 - false_negatives_5: 968.0000 - val_loss: 0.0575 - val_false_negatives_5: 462.0000\n",
      "Epoch 8/100\n",
      "1857/1857 [==============================] - 6s 3ms/step - loss: 0.0524 - false_negatives_5: 935.0000 - val_loss: 0.0486 - val_false_negatives_5: 348.0000\n",
      "Epoch 9/100\n",
      "1857/1857 [==============================] - 6s 3ms/step - loss: 0.0511 - false_negatives_5: 935.0000 - val_loss: 0.0478 - val_false_negatives_5: 196.0000\n",
      "Epoch 10/100\n",
      "1857/1857 [==============================] - 6s 3ms/step - loss: 0.0492 - false_negatives_5: 914.0000 - val_loss: 0.0486 - val_false_negatives_5: 297.0000\n",
      "Epoch 11/100\n",
      "1857/1857 [==============================] - 6s 3ms/step - loss: 0.0477 - false_negatives_5: 894.0000 - val_loss: 0.0532 - val_false_negatives_5: 230.0000\n",
      "Epoch 12/100\n",
      "1857/1857 [==============================] - 6s 3ms/step - loss: 0.0473 - false_negatives_5: 871.0000 - val_loss: 0.0442 - val_false_negatives_5: 288.0000\n",
      "Epoch 13/100\n",
      "1857/1857 [==============================] - 6s 3ms/step - loss: 0.0462 - false_negatives_5: 868.0000 - val_loss: 0.0504 - val_false_negatives_5: 154.0000\n",
      "Epoch 14/100\n",
      "1857/1857 [==============================] - 6s 3ms/step - loss: 0.0450 - false_negatives_5: 854.0000 - val_loss: 0.0403 - val_false_negatives_5: 182.0000\n",
      "Epoch 15/100\n",
      "1857/1857 [==============================] - 6s 3ms/step - loss: 0.0446 - false_negatives_5: 877.0000 - val_loss: 0.0455 - val_false_negatives_5: 366.0000\n",
      "Epoch 16/100\n",
      "1857/1857 [==============================] - 6s 3ms/step - loss: 0.0435 - false_negatives_5: 837.0000 - val_loss: 0.0402 - val_false_negatives_5: 206.0000\n",
      "Epoch 17/100\n",
      "1857/1857 [==============================] - 6s 3ms/step - loss: 0.0423 - false_negatives_5: 857.0000 - val_loss: 0.0441 - val_false_negatives_5: 192.0000\n",
      "Epoch 18/100\n",
      "1857/1857 [==============================] - 6s 3ms/step - loss: 0.0423 - false_negatives_5: 833.0000 - val_loss: 0.0408 - val_false_negatives_5: 151.0000\n",
      "Epoch 19/100\n",
      "1857/1857 [==============================] - 6s 3ms/step - loss: 0.0415 - false_negatives_5: 811.0000 - val_loss: 0.0403 - val_false_negatives_5: 126.0000\n",
      "Epoch 20/100\n",
      "1857/1857 [==============================] - 6s 3ms/step - loss: 0.0408 - false_negatives_5: 814.0000 - val_loss: 0.0376 - val_false_negatives_5: 199.0000\n",
      "Epoch 21/100\n",
      "1857/1857 [==============================] - 6s 3ms/step - loss: 0.0402 - false_negatives_5: 824.0000 - val_loss: 0.0399 - val_false_negatives_5: 209.0000\n",
      "Epoch 22/100\n",
      "1857/1857 [==============================] - 6s 3ms/step - loss: 0.0392 - false_negatives_5: 798.0000 - val_loss: 0.0377 - val_false_negatives_5: 187.0000\n",
      "Epoch 23/100\n",
      "1857/1857 [==============================] - 6s 3ms/step - loss: 0.0392 - false_negatives_5: 817.0000 - val_loss: 0.0388 - val_false_negatives_5: 171.0000\n",
      "Epoch 24/100\n",
      "1857/1857 [==============================] - 6s 3ms/step - loss: 0.0379 - false_negatives_5: 798.0000 - val_loss: 0.0420 - val_false_negatives_5: 183.0000\n",
      "Epoch 25/100\n",
      "1857/1857 [==============================] - 6s 3ms/step - loss: 0.0381 - false_negatives_5: 799.0000 - val_loss: 0.0367 - val_false_negatives_5: 198.0000\n",
      "Epoch 26/100\n",
      "1857/1857 [==============================] - 6s 3ms/step - loss: 0.0372 - false_negatives_5: 804.0000 - val_loss: 0.0360 - val_false_negatives_5: 154.0000\n",
      "Epoch 27/100\n",
      "1857/1857 [==============================] - 6s 3ms/step - loss: 0.0361 - false_negatives_5: 754.0000 - val_loss: 0.0340 - val_false_negatives_5: 178.0000\n",
      "Epoch 28/100\n",
      "1857/1857 [==============================] - 6s 3ms/step - loss: 0.0369 - false_negatives_5: 763.0000 - val_loss: 0.0380 - val_false_negatives_5: 244.0000\n",
      "Epoch 29/100\n",
      "1857/1857 [==============================] - 6s 3ms/step - loss: 0.0364 - false_negatives_5: 791.0000 - val_loss: 0.0344 - val_false_negatives_5: 155.0000\n",
      "Epoch 30/100\n",
      "1857/1857 [==============================] - 6s 3ms/step - loss: 0.0348 - false_negatives_5: 769.0000 - val_loss: 0.0347 - val_false_negatives_5: 159.0000\n",
      "Epoch 31/100\n",
      "1857/1857 [==============================] - 6s 3ms/step - loss: 0.0351 - false_negatives_5: 738.0000 - val_loss: 0.0374 - val_false_negatives_5: 185.0000\n",
      "Epoch 32/100\n",
      "1857/1857 [==============================] - 6s 3ms/step - loss: 0.0346 - false_negatives_5: 743.0000 - val_loss: 0.0331 - val_false_negatives_5: 170.0000\n",
      "Epoch 33/100\n",
      "1857/1857 [==============================] - 6s 3ms/step - loss: 0.0349 - false_negatives_5: 749.0000 - val_loss: 0.0329 - val_false_negatives_5: 182.0000\n",
      "Epoch 34/100\n",
      "1857/1857 [==============================] - 6s 3ms/step - loss: 0.0340 - false_negatives_5: 747.0000 - val_loss: 0.0329 - val_false_negatives_5: 203.0000\n",
      "Epoch 35/100\n",
      "1857/1857 [==============================] - 6s 3ms/step - loss: 0.0343 - false_negatives_5: 758.0000 - val_loss: 0.0386 - val_false_negatives_5: 181.0000\n",
      "Epoch 36/100\n",
      "1857/1857 [==============================] - 6s 3ms/step - loss: 0.0334 - false_negatives_5: 722.0000 - val_loss: 0.0343 - val_false_negatives_5: 239.0000\n",
      "Epoch 37/100\n",
      "1857/1857 [==============================] - 6s 3ms/step - loss: 0.0329 - false_negatives_5: 706.0000 - val_loss: 0.0411 - val_false_negatives_5: 288.0000\n",
      "Epoch 38/100\n",
      "1857/1857 [==============================] - 6s 3ms/step - loss: 0.0327 - false_negatives_5: 706.0000 - val_loss: 0.0340 - val_false_negatives_5: 259.0000\n",
      "Epoch 39/100\n",
      "1857/1857 [==============================] - 6s 3ms/step - loss: 0.0331 - false_negatives_5: 706.0000 - val_loss: 0.0331 - val_false_negatives_5: 205.0000\n",
      "Epoch 40/100\n",
      "1857/1857 [==============================] - 6s 3ms/step - loss: 0.0322 - false_negatives_5: 702.0000 - val_loss: 0.0332 - val_false_negatives_5: 201.0000\n",
      "Epoch 41/100\n",
      "1857/1857 [==============================] - 6s 3ms/step - loss: 0.0320 - false_negatives_5: 701.0000 - val_loss: 0.0414 - val_false_negatives_5: 162.0000\n",
      "Epoch 42/100\n",
      "1857/1857 [==============================] - 6s 3ms/step - loss: 0.0321 - false_negatives_5: 699.0000 - val_loss: 0.0321 - val_false_negatives_5: 183.0000\n",
      "Epoch 43/100\n",
      "1857/1857 [==============================] - 6s 3ms/step - loss: 0.0320 - false_negatives_5: 696.0000 - val_loss: 0.0321 - val_false_negatives_5: 134.0000\n",
      "Epoch 44/100\n",
      "1857/1857 [==============================] - 6s 3ms/step - loss: 0.0310 - false_negatives_5: 697.0000 - val_loss: 0.0337 - val_false_negatives_5: 144.0000\n",
      "Epoch 45/100\n",
      "1857/1857 [==============================] - 6s 3ms/step - loss: 0.0313 - false_negatives_5: 707.0000 - val_loss: 0.0313 - val_false_negatives_5: 149.0000\n",
      "Epoch 46/100\n",
      "1857/1857 [==============================] - 6s 3ms/step - loss: 0.0311 - false_negatives_5: 670.0000 - val_loss: 0.0354 - val_false_negatives_5: 183.0000\n",
      "Epoch 47/100\n",
      "1857/1857 [==============================] - 6s 3ms/step - loss: 0.0302 - false_negatives_5: 662.0000 - val_loss: 0.0337 - val_false_negatives_5: 160.0000\n",
      "Epoch 48/100\n",
      "1857/1857 [==============================] - 6s 3ms/step - loss: 0.0299 - false_negatives_5: 693.0000 - val_loss: 0.0313 - val_false_negatives_5: 99.0000\n",
      "Epoch 49/100\n",
      "1857/1857 [==============================] - 6s 3ms/step - loss: 0.0306 - false_negatives_5: 702.0000 - val_loss: 0.0350 - val_false_negatives_5: 265.0000\n",
      "Epoch 50/100\n",
      "1857/1857 [==============================] - 6s 3ms/step - loss: 0.0304 - false_negatives_5: 705.0000 - val_loss: 0.0331 - val_false_negatives_5: 230.0000\n",
      "Epoch 51/100\n",
      "1857/1857 [==============================] - 6s 3ms/step - loss: 0.0304 - false_negatives_5: 663.0000 - val_loss: 0.0321 - val_false_negatives_5: 197.0000\n",
      "Epoch 52/100\n",
      "1857/1857 [==============================] - 6s 3ms/step - loss: 0.0299 - false_negatives_5: 701.0000 - val_loss: 0.0327 - val_false_negatives_5: 196.0000\n",
      "Epoch 53/100\n",
      "1857/1857 [==============================] - 6s 3ms/step - loss: 0.0302 - false_negatives_5: 674.0000 - val_loss: 0.0365 - val_false_negatives_5: 168.0000\n",
      "Epoch 54/100\n",
      "1857/1857 [==============================] - 6s 3ms/step - loss: 0.0293 - false_negatives_5: 671.0000 - val_loss: 0.0329 - val_false_negatives_5: 242.0000\n",
      "Epoch 55/100\n",
      "1857/1857 [==============================] - 6s 3ms/step - loss: 0.0294 - false_negatives_5: 669.0000 - val_loss: 0.0306 - val_false_negatives_5: 194.0000\n",
      "Epoch 56/100\n",
      "1857/1857 [==============================] - 6s 3ms/step - loss: 0.0290 - false_negatives_5: 637.0000 - val_loss: 0.0379 - val_false_negatives_5: 227.0000\n",
      "Epoch 57/100\n",
      "1857/1857 [==============================] - 6s 3ms/step - loss: 0.0293 - false_negatives_5: 649.0000 - val_loss: 0.0317 - val_false_negatives_5: 210.0000\n",
      "Epoch 58/100\n",
      "1857/1857 [==============================] - 6s 3ms/step - loss: 0.0296 - false_negatives_5: 672.0000 - val_loss: 0.0300 - val_false_negatives_5: 193.0000\n",
      "Epoch 59/100\n",
      "1857/1857 [==============================] - 6s 3ms/step - loss: 0.0290 - false_negatives_5: 662.0000 - val_loss: 0.0313 - val_false_negatives_5: 156.0000\n",
      "Epoch 60/100\n",
      "1857/1857 [==============================] - 6s 3ms/step - loss: 0.0286 - false_negatives_5: 665.0000 - val_loss: 0.0321 - val_false_negatives_5: 191.0000\n",
      "Epoch 61/100\n",
      "1857/1857 [==============================] - 6s 3ms/step - loss: 0.0283 - false_negatives_5: 636.0000 - val_loss: 0.0327 - val_false_negatives_5: 213.0000\n",
      "Epoch 62/100\n",
      "1857/1857 [==============================] - 6s 3ms/step - loss: 0.0283 - false_negatives_5: 660.0000 - val_loss: 0.0317 - val_false_negatives_5: 135.0000\n",
      "Epoch 63/100\n",
      "1857/1857 [==============================] - 6s 3ms/step - loss: 0.0280 - false_negatives_5: 657.0000 - val_loss: 0.0340 - val_false_negatives_5: 183.0000\n",
      "Epoch 64/100\n",
      "1857/1857 [==============================] - 6s 3ms/step - loss: 0.0280 - false_negatives_5: 625.0000 - val_loss: 0.0405 - val_false_negatives_5: 196.0000\n",
      "Epoch 65/100\n",
      "1857/1857 [==============================] - 6s 3ms/step - loss: 0.0275 - false_negatives_5: 654.0000 - val_loss: 0.0314 - val_false_negatives_5: 176.0000\n",
      "Epoch 66/100\n",
      "1857/1857 [==============================] - 6s 3ms/step - loss: 0.0279 - false_negatives_5: 622.0000 - val_loss: 0.0296 - val_false_negatives_5: 158.0000\n",
      "Epoch 67/100\n",
      "1857/1857 [==============================] - 6s 3ms/step - loss: 0.0275 - false_negatives_5: 663.0000 - val_loss: 0.0320 - val_false_negatives_5: 208.0000\n",
      "Epoch 68/100\n",
      "1857/1857 [==============================] - 6s 3ms/step - loss: 0.0273 - false_negatives_5: 625.0000 - val_loss: 0.0310 - val_false_negatives_5: 157.0000\n",
      "Epoch 69/100\n",
      "1857/1857 [==============================] - 6s 3ms/step - loss: 0.0275 - false_negatives_5: 642.0000 - val_loss: 0.0290 - val_false_negatives_5: 135.0000\n",
      "Epoch 70/100\n",
      "1857/1857 [==============================] - 6s 3ms/step - loss: 0.0268 - false_negatives_5: 606.0000 - val_loss: 0.0303 - val_false_negatives_5: 221.0000\n",
      "Epoch 71/100\n",
      "1857/1857 [==============================] - 6s 3ms/step - loss: 0.0270 - false_negatives_5: 640.0000 - val_loss: 0.0304 - val_false_negatives_5: 170.0000\n",
      "Epoch 72/100\n",
      "1857/1857 [==============================] - 6s 3ms/step - loss: 0.0271 - false_negatives_5: 633.0000 - val_loss: 0.0363 - val_false_negatives_5: 174.0000\n",
      "Epoch 73/100\n",
      "1857/1857 [==============================] - 6s 3ms/step - loss: 0.0268 - false_negatives_5: 634.0000 - val_loss: 0.0286 - val_false_negatives_5: 165.0000\n",
      "Epoch 74/100\n",
      "1857/1857 [==============================] - 6s 3ms/step - loss: 0.0265 - false_negatives_5: 608.0000 - val_loss: 0.0346 - val_false_negatives_5: 253.0000\n",
      "Epoch 75/100\n",
      "1857/1857 [==============================] - 6s 3ms/step - loss: 0.0269 - false_negatives_5: 636.0000 - val_loss: 0.0309 - val_false_negatives_5: 231.0000\n",
      "Epoch 76/100\n",
      "1857/1857 [==============================] - 6s 3ms/step - loss: 0.0266 - false_negatives_5: 636.0000 - val_loss: 0.0300 - val_false_negatives_5: 132.0000\n",
      "Epoch 77/100\n",
      "1857/1857 [==============================] - 6s 3ms/step - loss: 0.0265 - false_negatives_5: 611.0000 - val_loss: 0.0301 - val_false_negatives_5: 165.0000\n",
      "Epoch 78/100\n",
      "1857/1857 [==============================] - 6s 3ms/step - loss: 0.0260 - false_negatives_5: 580.0000 - val_loss: 0.0304 - val_false_negatives_5: 132.0000\n",
      "Epoch 79/100\n",
      "1857/1857 [==============================] - 6s 3ms/step - loss: 0.0257 - false_negatives_5: 603.0000 - val_loss: 0.0290 - val_false_negatives_5: 144.0000\n",
      "Epoch 80/100\n",
      "1857/1857 [==============================] - 6s 3ms/step - loss: 0.0265 - false_negatives_5: 610.0000 - val_loss: 0.0287 - val_false_negatives_5: 167.0000\n",
      "Epoch 81/100\n",
      "1857/1857 [==============================] - 6s 3ms/step - loss: 0.0257 - false_negatives_5: 603.0000 - val_loss: 0.0335 - val_false_negatives_5: 255.0000\n",
      "Epoch 82/100\n",
      "1857/1857 [==============================] - 6s 3ms/step - loss: 0.0253 - false_negatives_5: 615.0000 - val_loss: 0.0295 - val_false_negatives_5: 150.0000\n",
      "Epoch 83/100\n",
      "1857/1857 [==============================] - 6s 3ms/step - loss: 0.0255 - false_negatives_5: 600.0000 - val_loss: 0.0299 - val_false_negatives_5: 169.0000\n",
      "Epoch 84/100\n",
      "1857/1857 [==============================] - 6s 3ms/step - loss: 0.0254 - false_negatives_5: 606.0000 - val_loss: 0.0276 - val_false_negatives_5: 161.0000\n",
      "Epoch 85/100\n",
      "1857/1857 [==============================] - 6s 3ms/step - loss: 0.0256 - false_negatives_5: 590.0000 - val_loss: 0.0286 - val_false_negatives_5: 185.0000\n",
      "Epoch 86/100\n",
      "1857/1857 [==============================] - 6s 3ms/step - loss: 0.0254 - false_negatives_5: 594.0000 - val_loss: 0.0309 - val_false_negatives_5: 260.0000\n",
      "Epoch 87/100\n",
      "1857/1857 [==============================] - 6s 3ms/step - loss: 0.0252 - false_negatives_5: 619.0000 - val_loss: 0.0360 - val_false_negatives_5: 278.0000\n",
      "Epoch 88/100\n",
      "1857/1857 [==============================] - 6s 3ms/step - loss: 0.0250 - false_negatives_5: 589.0000 - val_loss: 0.0277 - val_false_negatives_5: 168.0000\n",
      "Epoch 89/100\n",
      "1857/1857 [==============================] - 6s 3ms/step - loss: 0.0250 - false_negatives_5: 591.0000 - val_loss: 0.0297 - val_false_negatives_5: 184.0000\n",
      "Epoch 90/100\n",
      "1857/1857 [==============================] - 6s 3ms/step - loss: 0.0246 - false_negatives_5: 570.0000 - val_loss: 0.0291 - val_false_negatives_5: 107.0000\n",
      "Epoch 91/100\n",
      "1857/1857 [==============================] - 6s 3ms/step - loss: 0.0253 - false_negatives_5: 585.0000 - val_loss: 0.0277 - val_false_negatives_5: 172.0000\n",
      "Epoch 92/100\n",
      "1857/1857 [==============================] - 6s 3ms/step - loss: 0.0251 - false_negatives_5: 582.0000 - val_loss: 0.0280 - val_false_negatives_5: 132.0000\n",
      "Epoch 93/100\n",
      "1857/1857 [==============================] - 6s 3ms/step - loss: 0.0247 - false_negatives_5: 589.0000 - val_loss: 0.0278 - val_false_negatives_5: 157.0000\n",
      "Epoch 94/100\n",
      "1857/1857 [==============================] - 6s 3ms/step - loss: 0.0243 - false_negatives_5: 571.0000 - val_loss: 0.0293 - val_false_negatives_5: 210.0000\n",
      "Epoch 95/100\n",
      "1857/1857 [==============================] - 6s 3ms/step - loss: 0.0244 - false_negatives_5: 581.0000 - val_loss: 0.0324 - val_false_negatives_5: 250.0000\n",
      "Epoch 96/100\n",
      "1857/1857 [==============================] - 6s 3ms/step - loss: 0.0241 - false_negatives_5: 571.0000 - val_loss: 0.0284 - val_false_negatives_5: 133.0000\n",
      "Epoch 97/100\n",
      "1857/1857 [==============================] - 6s 3ms/step - loss: 0.0246 - false_negatives_5: 591.0000 - val_loss: 0.0294 - val_false_negatives_5: 170.0000\n",
      "Epoch 98/100\n",
      "1857/1857 [==============================] - 6s 3ms/step - loss: 0.0243 - false_negatives_5: 575.0000 - val_loss: 0.0286 - val_false_negatives_5: 154.0000\n",
      "Epoch 99/100\n",
      "1857/1857 [==============================] - 7s 4ms/step - loss: 0.0239 - false_negatives_5: 583.0000 - val_loss: 0.0308 - val_false_negatives_5: 140.0000\n",
      "Epoch 100/100\n",
      "1857/1857 [==============================] - 6s 3ms/step - loss: 0.0239 - false_negatives_5: 560.0000 - val_loss: 0.0327 - val_false_negatives_5: 141.0000\n"
     ]
    },
    {
     "data": {
      "text/plain": "<tensorflow.python.keras.callbacks.History at 0x244826ea520>"
     },
     "execution_count": 79,
     "metadata": {},
     "output_type": "execute_result"
    }
   ],
   "source": [
    "#just trying something\n",
    "from keras.metrics import FalseNegatives\n",
    "act4 = PReLU(alpha_initializer='zeros', weights=None)\n",
    "model4 = Sequential()\n",
    "# define the NN architecture and activation function\n",
    "\n",
    "model4.add(Dense(496, input_dim=41, activation=Activation(act2)))\n",
    "model4.add(Dropout(0.1))\n",
    "model4.add(Dense(248, activation='relu'))\n",
    "model4.add(Dropout(0.1))\n",
    "model4.add(Dense(124, activation='relu'))\n",
    "model4.add(Dropout(0.1))\n",
    "model4.add(Dense(62, activation='relu'))\n",
    "model4.add(Dropout(0.1))\n",
    "model4.add(Dense(1))\n",
    "model4.add(Activation('sigmoid'))\n",
    "\n",
    "sgd2 =SGD(lr=0.01, decay=1e-6, momentum=0.9, nesterov=True)\n",
    "model4.compile(loss='binary_crossentropy', optimizer=sgd2, metrics= [FalseNegatives()])\n",
    "es = EarlyStopping(monitor='false_negatives_5', mode='max', min_delta=0.0001,patience=5) ## early stopping\n",
    "model4.fit(X_train, Y_train, validation_data=(X_test, Y_test), epochs=100, batch_size=64)"
   ],
   "metadata": {
    "collapsed": false,
    "pycharm": {
     "name": "#%%\n"
    }
   }
  },
  {
   "cell_type": "code",
   "execution_count": 80,
   "outputs": [
    {
     "name": "stdout",
     "output_type": "stream",
     "text": [
      "[[14134   201]\n",
      " [  141 15228]]\n"
     ]
    }
   ],
   "source": [
    "y_pred4 = model4.predict_classes(X_test)\n",
    "confusionmatrix4 = confusion_matrix(Y_test, y_pred4)\n",
    "print(confusionmatrix4)"
   ],
   "metadata": {
    "collapsed": false,
    "pycharm": {
     "name": "#%%\n"
    }
   }
  },
  {
   "cell_type": "code",
   "execution_count": null,
   "outputs": [],
   "source": [],
   "metadata": {
    "collapsed": false,
    "pycharm": {
     "name": "#%%\n"
    }
   }
  }
 ],
 "metadata": {
  "kernelspec": {
   "display_name": "Python 3",
   "language": "python",
   "name": "python3"
  },
  "language_info": {
   "codemirror_mode": {
    "name": "ipython",
    "version": 2
   },
   "file_extension": ".py",
   "mimetype": "text/x-python",
   "name": "python",
   "nbconvert_exporter": "python",
   "pygments_lexer": "ipython2",
   "version": "2.7.6"
  }
 },
 "nbformat": 4,
 "nbformat_minor": 0
}