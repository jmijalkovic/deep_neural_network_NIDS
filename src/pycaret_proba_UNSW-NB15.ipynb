{
 "cells": [
  {
   "cell_type": "code",
   "execution_count": 10,
   "metadata": {
    "collapsed": true
   },
   "outputs": [],
   "source": [
    "from pycaret.classification import *\n",
    "import numpy as np\n",
    "import pandas as pd\n",
    "import tensorflow as tf\n",
    "\n",
    "#importing datasets\n",
    "#I will be using the two smaller datasets provided for training and testing (explain why I used these in the thesis)\n",
    "pathTesting = 'C:\\\\Users\\\\Jovana\\\\PycharmProjects\\\\neural_network_DNN\\\\include\\\\UNSW-NB15\\\\UNSW_NB15_testing-set.csv'\n",
    "pathTraining= 'C:\\\\Users\\\\Jovana\\\\PycharmProjects\\\\neural_network_DNN\\\\include\\\\UNSW-NB15\\\\UNSW_NB15_training-set.csv'\n",
    "\n",
    "ds_train=pd.read_csv(pathTraining)\n",
    "ds_test=pd.read_csv(pathTesting)\n",
    "\n",
    "ds=pd.concat([ds_train,ds_test], axis=0)"
   ]
  },
  {
   "cell_type": "code",
   "execution_count": 11,
   "outputs": [
    {
     "data": {
      "text/plain": "          id       dur proto service state  spkts  dpkts  sbytes  dbytes  \\\n0          1  0.121478   tcp       -   FIN      6      4     258     172   \n1          2  0.649902   tcp       -   FIN     14     38     734   42014   \n2          3  1.623129   tcp       -   FIN      8     16     364   13186   \n3          4  1.681642   tcp     ftp   FIN     12     12     628     770   \n4          5  0.449454   tcp       -   FIN     10      6     534     268   \n...      ...       ...   ...     ...   ...    ...    ...     ...     ...   \n82327  82328  0.000005   udp       -   INT      2      0     104       0   \n82328  82329  1.106101   tcp       -   FIN     20      8   18062     354   \n82329  82330  0.000000   arp       -   INT      1      0      46       0   \n82330  82331  0.000000   arp       -   INT      1      0      46       0   \n82331  82332  0.000009   udp       -   INT      2      0     104       0   \n\n                rate  sttl  dttl         sload          dload  sloss  dloss  \\\n0          74.087490   252   254  1.415894e+04    8495.365234      0      0   \n1          78.473372    62   252  8.395112e+03  503571.312500      2     17   \n2          14.170161    62   252  1.572272e+03   60929.230470      1      6   \n3          13.677108    62   252  2.740179e+03    3358.622070      1      3   \n4          33.373826   254   252  8.561499e+03    3987.059814      2      1   \n...              ...   ...   ...           ...            ...    ...    ...   \n82327  200000.005100   254     0  8.320000e+07       0.000000      0      0   \n82328      24.410067   254   252  1.241044e+05    2242.109863      7      1   \n82329       0.000000     0     0  0.000000e+00       0.000000      0      0   \n82330       0.000000     0     0  0.000000e+00       0.000000      0      0   \n82331  111111.107200   254     0  4.622222e+07       0.000000      0      0   \n\n             sinpkt      dinpkt          sjit          djit  swin       stcpb  \\\n0         24.295600    8.375000     30.177547     11.830604   255   621772692   \n1         49.915000   15.432865     61.426934   1387.778330   255  1417884146   \n2        231.875571  102.737203  17179.586860  11420.926230   255  2116150707   \n3        152.876547   90.235726    259.080172   4991.784669   255  1107119177   \n4         47.750333   75.659602   2415.837634    115.807000   255  2436137549   \n...             ...         ...           ...           ...   ...         ...   \n82327      0.005000    0.000000      0.000000      0.000000     0           0   \n82328     55.880051  143.700000   4798.130981    190.980813   255  1072535109   \n82329  60000.720000    0.000000      0.000000      0.000000     0           0   \n82330  60000.732000    0.000000     10.954518      0.000000     0           0   \n82331      0.009000    0.000000      0.000000      0.000000     0           0   \n\n            dtcpb  dwin    tcprtt    synack    ackdat  smean  dmean  \\\n0      2202533631   255  0.000000  0.000000  0.000000     43     43   \n1      3077387971   255  0.000000  0.000000  0.000000     52   1106   \n2      2963114973   255  0.111897  0.061458  0.050439     46    824   \n3      1047442890   255  0.000000  0.000000  0.000000     52     64   \n4      1977154190   255  0.128381  0.071147  0.057234     53     45   \n...           ...   ...       ...       ...       ...    ...    ...   \n82327           0     0  0.000000  0.000000  0.000000     52      0   \n82328  3284291478   255  0.173208  0.100191  0.073017    903     44   \n82329           0     0  0.000000  0.000000  0.000000     46      0   \n82330           0     0  0.000000  0.000000  0.000000     46      0   \n82331           0     0  0.000000  0.000000  0.000000     52      0   \n\n       trans_depth  response_body_len  ct_srv_src  ct_state_ttl  ct_dst_ltm  \\\n0                0                  0           1             0           1   \n1                0                  0          43             1           1   \n2                0                  0           7             1           2   \n3                0                  0           1             1           2   \n4                0                  0          43             1           2   \n...            ...                ...         ...           ...         ...   \n82327            0                  0           1             2           2   \n82328            0                  0           1             1           2   \n82329            0                  0           1             2           1   \n82330            0                  0           1             2           1   \n82331            0                  0           1             2           1   \n\n       ct_src_dport_ltm  ct_dst_sport_ltm  ct_dst_src_ltm  is_ftp_login  \\\n0                     1                 1               1             0   \n1                     1                 1               2             0   \n2                     1                 1               3             0   \n3                     1                 1               3             1   \n4                     2                 1              40             0   \n...                 ...               ...             ...           ...   \n82327                 1                 1               2             0   \n82328                 1                 1               1             0   \n82329                 1                 1               1             0   \n82330                 1                 1               1             0   \n82331                 1                 1               1             0   \n\n       ct_ftp_cmd  ct_flw_http_mthd  ct_src_ltm  ct_srv_dst  is_sm_ips_ports  \\\n0               0                 0           1           1                0   \n1               0                 0           1           6                0   \n2               0                 0           2           6                0   \n3               1                 0           2           1                0   \n4               0                 0           2          39                0   \n...           ...               ...         ...         ...              ...   \n82327           0                 0           2           1                0   \n82328           0                 0           3           2                0   \n82329           0                 0           1           1                1   \n82330           0                 0           1           1                1   \n82331           0                 0           1           1                0   \n\n      attack_cat  label  \n0         Normal      0  \n1         Normal      0  \n2         Normal      0  \n3         Normal      0  \n4         Normal      0  \n...          ...    ...  \n82327     Normal      0  \n82328     Normal      0  \n82329     Normal      0  \n82330     Normal      0  \n82331     Normal      0  \n\n[257673 rows x 45 columns]",
      "text/html": "<div>\n<style scoped>\n    .dataframe tbody tr th:only-of-type {\n        vertical-align: middle;\n    }\n\n    .dataframe tbody tr th {\n        vertical-align: top;\n    }\n\n    .dataframe thead th {\n        text-align: right;\n    }\n</style>\n<table border=\"1\" class=\"dataframe\">\n  <thead>\n    <tr style=\"text-align: right;\">\n      <th></th>\n      <th>id</th>\n      <th>dur</th>\n      <th>proto</th>\n      <th>service</th>\n      <th>state</th>\n      <th>spkts</th>\n      <th>dpkts</th>\n      <th>sbytes</th>\n      <th>dbytes</th>\n      <th>rate</th>\n      <th>sttl</th>\n      <th>dttl</th>\n      <th>sload</th>\n      <th>dload</th>\n      <th>sloss</th>\n      <th>dloss</th>\n      <th>sinpkt</th>\n      <th>dinpkt</th>\n      <th>sjit</th>\n      <th>djit</th>\n      <th>swin</th>\n      <th>stcpb</th>\n      <th>dtcpb</th>\n      <th>dwin</th>\n      <th>tcprtt</th>\n      <th>synack</th>\n      <th>ackdat</th>\n      <th>smean</th>\n      <th>dmean</th>\n      <th>trans_depth</th>\n      <th>response_body_len</th>\n      <th>ct_srv_src</th>\n      <th>ct_state_ttl</th>\n      <th>ct_dst_ltm</th>\n      <th>ct_src_dport_ltm</th>\n      <th>ct_dst_sport_ltm</th>\n      <th>ct_dst_src_ltm</th>\n      <th>is_ftp_login</th>\n      <th>ct_ftp_cmd</th>\n      <th>ct_flw_http_mthd</th>\n      <th>ct_src_ltm</th>\n      <th>ct_srv_dst</th>\n      <th>is_sm_ips_ports</th>\n      <th>attack_cat</th>\n      <th>label</th>\n    </tr>\n  </thead>\n  <tbody>\n    <tr>\n      <th>0</th>\n      <td>1</td>\n      <td>0.121478</td>\n      <td>tcp</td>\n      <td>-</td>\n      <td>FIN</td>\n      <td>6</td>\n      <td>4</td>\n      <td>258</td>\n      <td>172</td>\n      <td>74.087490</td>\n      <td>252</td>\n      <td>254</td>\n      <td>1.415894e+04</td>\n      <td>8495.365234</td>\n      <td>0</td>\n      <td>0</td>\n      <td>24.295600</td>\n      <td>8.375000</td>\n      <td>30.177547</td>\n      <td>11.830604</td>\n      <td>255</td>\n      <td>621772692</td>\n      <td>2202533631</td>\n      <td>255</td>\n      <td>0.000000</td>\n      <td>0.000000</td>\n      <td>0.000000</td>\n      <td>43</td>\n      <td>43</td>\n      <td>0</td>\n      <td>0</td>\n      <td>1</td>\n      <td>0</td>\n      <td>1</td>\n      <td>1</td>\n      <td>1</td>\n      <td>1</td>\n      <td>0</td>\n      <td>0</td>\n      <td>0</td>\n      <td>1</td>\n      <td>1</td>\n      <td>0</td>\n      <td>Normal</td>\n      <td>0</td>\n    </tr>\n    <tr>\n      <th>1</th>\n      <td>2</td>\n      <td>0.649902</td>\n      <td>tcp</td>\n      <td>-</td>\n      <td>FIN</td>\n      <td>14</td>\n      <td>38</td>\n      <td>734</td>\n      <td>42014</td>\n      <td>78.473372</td>\n      <td>62</td>\n      <td>252</td>\n      <td>8.395112e+03</td>\n      <td>503571.312500</td>\n      <td>2</td>\n      <td>17</td>\n      <td>49.915000</td>\n      <td>15.432865</td>\n      <td>61.426934</td>\n      <td>1387.778330</td>\n      <td>255</td>\n      <td>1417884146</td>\n      <td>3077387971</td>\n      <td>255</td>\n      <td>0.000000</td>\n      <td>0.000000</td>\n      <td>0.000000</td>\n      <td>52</td>\n      <td>1106</td>\n      <td>0</td>\n      <td>0</td>\n      <td>43</td>\n      <td>1</td>\n      <td>1</td>\n      <td>1</td>\n      <td>1</td>\n      <td>2</td>\n      <td>0</td>\n      <td>0</td>\n      <td>0</td>\n      <td>1</td>\n      <td>6</td>\n      <td>0</td>\n      <td>Normal</td>\n      <td>0</td>\n    </tr>\n    <tr>\n      <th>2</th>\n      <td>3</td>\n      <td>1.623129</td>\n      <td>tcp</td>\n      <td>-</td>\n      <td>FIN</td>\n      <td>8</td>\n      <td>16</td>\n      <td>364</td>\n      <td>13186</td>\n      <td>14.170161</td>\n      <td>62</td>\n      <td>252</td>\n      <td>1.572272e+03</td>\n      <td>60929.230470</td>\n      <td>1</td>\n      <td>6</td>\n      <td>231.875571</td>\n      <td>102.737203</td>\n      <td>17179.586860</td>\n      <td>11420.926230</td>\n      <td>255</td>\n      <td>2116150707</td>\n      <td>2963114973</td>\n      <td>255</td>\n      <td>0.111897</td>\n      <td>0.061458</td>\n      <td>0.050439</td>\n      <td>46</td>\n      <td>824</td>\n      <td>0</td>\n      <td>0</td>\n      <td>7</td>\n      <td>1</td>\n      <td>2</td>\n      <td>1</td>\n      <td>1</td>\n      <td>3</td>\n      <td>0</td>\n      <td>0</td>\n      <td>0</td>\n      <td>2</td>\n      <td>6</td>\n      <td>0</td>\n      <td>Normal</td>\n      <td>0</td>\n    </tr>\n    <tr>\n      <th>3</th>\n      <td>4</td>\n      <td>1.681642</td>\n      <td>tcp</td>\n      <td>ftp</td>\n      <td>FIN</td>\n      <td>12</td>\n      <td>12</td>\n      <td>628</td>\n      <td>770</td>\n      <td>13.677108</td>\n      <td>62</td>\n      <td>252</td>\n      <td>2.740179e+03</td>\n      <td>3358.622070</td>\n      <td>1</td>\n      <td>3</td>\n      <td>152.876547</td>\n      <td>90.235726</td>\n      <td>259.080172</td>\n      <td>4991.784669</td>\n      <td>255</td>\n      <td>1107119177</td>\n      <td>1047442890</td>\n      <td>255</td>\n      <td>0.000000</td>\n      <td>0.000000</td>\n      <td>0.000000</td>\n      <td>52</td>\n      <td>64</td>\n      <td>0</td>\n      <td>0</td>\n      <td>1</td>\n      <td>1</td>\n      <td>2</td>\n      <td>1</td>\n      <td>1</td>\n      <td>3</td>\n      <td>1</td>\n      <td>1</td>\n      <td>0</td>\n      <td>2</td>\n      <td>1</td>\n      <td>0</td>\n      <td>Normal</td>\n      <td>0</td>\n    </tr>\n    <tr>\n      <th>4</th>\n      <td>5</td>\n      <td>0.449454</td>\n      <td>tcp</td>\n      <td>-</td>\n      <td>FIN</td>\n      <td>10</td>\n      <td>6</td>\n      <td>534</td>\n      <td>268</td>\n      <td>33.373826</td>\n      <td>254</td>\n      <td>252</td>\n      <td>8.561499e+03</td>\n      <td>3987.059814</td>\n      <td>2</td>\n      <td>1</td>\n      <td>47.750333</td>\n      <td>75.659602</td>\n      <td>2415.837634</td>\n      <td>115.807000</td>\n      <td>255</td>\n      <td>2436137549</td>\n      <td>1977154190</td>\n      <td>255</td>\n      <td>0.128381</td>\n      <td>0.071147</td>\n      <td>0.057234</td>\n      <td>53</td>\n      <td>45</td>\n      <td>0</td>\n      <td>0</td>\n      <td>43</td>\n      <td>1</td>\n      <td>2</td>\n      <td>2</td>\n      <td>1</td>\n      <td>40</td>\n      <td>0</td>\n      <td>0</td>\n      <td>0</td>\n      <td>2</td>\n      <td>39</td>\n      <td>0</td>\n      <td>Normal</td>\n      <td>0</td>\n    </tr>\n    <tr>\n      <th>...</th>\n      <td>...</td>\n      <td>...</td>\n      <td>...</td>\n      <td>...</td>\n      <td>...</td>\n      <td>...</td>\n      <td>...</td>\n      <td>...</td>\n      <td>...</td>\n      <td>...</td>\n      <td>...</td>\n      <td>...</td>\n      <td>...</td>\n      <td>...</td>\n      <td>...</td>\n      <td>...</td>\n      <td>...</td>\n      <td>...</td>\n      <td>...</td>\n      <td>...</td>\n      <td>...</td>\n      <td>...</td>\n      <td>...</td>\n      <td>...</td>\n      <td>...</td>\n      <td>...</td>\n      <td>...</td>\n      <td>...</td>\n      <td>...</td>\n      <td>...</td>\n      <td>...</td>\n      <td>...</td>\n      <td>...</td>\n      <td>...</td>\n      <td>...</td>\n      <td>...</td>\n      <td>...</td>\n      <td>...</td>\n      <td>...</td>\n      <td>...</td>\n      <td>...</td>\n      <td>...</td>\n      <td>...</td>\n      <td>...</td>\n      <td>...</td>\n    </tr>\n    <tr>\n      <th>82327</th>\n      <td>82328</td>\n      <td>0.000005</td>\n      <td>udp</td>\n      <td>-</td>\n      <td>INT</td>\n      <td>2</td>\n      <td>0</td>\n      <td>104</td>\n      <td>0</td>\n      <td>200000.005100</td>\n      <td>254</td>\n      <td>0</td>\n      <td>8.320000e+07</td>\n      <td>0.000000</td>\n      <td>0</td>\n      <td>0</td>\n      <td>0.005000</td>\n      <td>0.000000</td>\n      <td>0.000000</td>\n      <td>0.000000</td>\n      <td>0</td>\n      <td>0</td>\n      <td>0</td>\n      <td>0</td>\n      <td>0.000000</td>\n      <td>0.000000</td>\n      <td>0.000000</td>\n      <td>52</td>\n      <td>0</td>\n      <td>0</td>\n      <td>0</td>\n      <td>1</td>\n      <td>2</td>\n      <td>2</td>\n      <td>1</td>\n      <td>1</td>\n      <td>2</td>\n      <td>0</td>\n      <td>0</td>\n      <td>0</td>\n      <td>2</td>\n      <td>1</td>\n      <td>0</td>\n      <td>Normal</td>\n      <td>0</td>\n    </tr>\n    <tr>\n      <th>82328</th>\n      <td>82329</td>\n      <td>1.106101</td>\n      <td>tcp</td>\n      <td>-</td>\n      <td>FIN</td>\n      <td>20</td>\n      <td>8</td>\n      <td>18062</td>\n      <td>354</td>\n      <td>24.410067</td>\n      <td>254</td>\n      <td>252</td>\n      <td>1.241044e+05</td>\n      <td>2242.109863</td>\n      <td>7</td>\n      <td>1</td>\n      <td>55.880051</td>\n      <td>143.700000</td>\n      <td>4798.130981</td>\n      <td>190.980813</td>\n      <td>255</td>\n      <td>1072535109</td>\n      <td>3284291478</td>\n      <td>255</td>\n      <td>0.173208</td>\n      <td>0.100191</td>\n      <td>0.073017</td>\n      <td>903</td>\n      <td>44</td>\n      <td>0</td>\n      <td>0</td>\n      <td>1</td>\n      <td>1</td>\n      <td>2</td>\n      <td>1</td>\n      <td>1</td>\n      <td>1</td>\n      <td>0</td>\n      <td>0</td>\n      <td>0</td>\n      <td>3</td>\n      <td>2</td>\n      <td>0</td>\n      <td>Normal</td>\n      <td>0</td>\n    </tr>\n    <tr>\n      <th>82329</th>\n      <td>82330</td>\n      <td>0.000000</td>\n      <td>arp</td>\n      <td>-</td>\n      <td>INT</td>\n      <td>1</td>\n      <td>0</td>\n      <td>46</td>\n      <td>0</td>\n      <td>0.000000</td>\n      <td>0</td>\n      <td>0</td>\n      <td>0.000000e+00</td>\n      <td>0.000000</td>\n      <td>0</td>\n      <td>0</td>\n      <td>60000.720000</td>\n      <td>0.000000</td>\n      <td>0.000000</td>\n      <td>0.000000</td>\n      <td>0</td>\n      <td>0</td>\n      <td>0</td>\n      <td>0</td>\n      <td>0.000000</td>\n      <td>0.000000</td>\n      <td>0.000000</td>\n      <td>46</td>\n      <td>0</td>\n      <td>0</td>\n      <td>0</td>\n      <td>1</td>\n      <td>2</td>\n      <td>1</td>\n      <td>1</td>\n      <td>1</td>\n      <td>1</td>\n      <td>0</td>\n      <td>0</td>\n      <td>0</td>\n      <td>1</td>\n      <td>1</td>\n      <td>1</td>\n      <td>Normal</td>\n      <td>0</td>\n    </tr>\n    <tr>\n      <th>82330</th>\n      <td>82331</td>\n      <td>0.000000</td>\n      <td>arp</td>\n      <td>-</td>\n      <td>INT</td>\n      <td>1</td>\n      <td>0</td>\n      <td>46</td>\n      <td>0</td>\n      <td>0.000000</td>\n      <td>0</td>\n      <td>0</td>\n      <td>0.000000e+00</td>\n      <td>0.000000</td>\n      <td>0</td>\n      <td>0</td>\n      <td>60000.732000</td>\n      <td>0.000000</td>\n      <td>10.954518</td>\n      <td>0.000000</td>\n      <td>0</td>\n      <td>0</td>\n      <td>0</td>\n      <td>0</td>\n      <td>0.000000</td>\n      <td>0.000000</td>\n      <td>0.000000</td>\n      <td>46</td>\n      <td>0</td>\n      <td>0</td>\n      <td>0</td>\n      <td>1</td>\n      <td>2</td>\n      <td>1</td>\n      <td>1</td>\n      <td>1</td>\n      <td>1</td>\n      <td>0</td>\n      <td>0</td>\n      <td>0</td>\n      <td>1</td>\n      <td>1</td>\n      <td>1</td>\n      <td>Normal</td>\n      <td>0</td>\n    </tr>\n    <tr>\n      <th>82331</th>\n      <td>82332</td>\n      <td>0.000009</td>\n      <td>udp</td>\n      <td>-</td>\n      <td>INT</td>\n      <td>2</td>\n      <td>0</td>\n      <td>104</td>\n      <td>0</td>\n      <td>111111.107200</td>\n      <td>254</td>\n      <td>0</td>\n      <td>4.622222e+07</td>\n      <td>0.000000</td>\n      <td>0</td>\n      <td>0</td>\n      <td>0.009000</td>\n      <td>0.000000</td>\n      <td>0.000000</td>\n      <td>0.000000</td>\n      <td>0</td>\n      <td>0</td>\n      <td>0</td>\n      <td>0</td>\n      <td>0.000000</td>\n      <td>0.000000</td>\n      <td>0.000000</td>\n      <td>52</td>\n      <td>0</td>\n      <td>0</td>\n      <td>0</td>\n      <td>1</td>\n      <td>2</td>\n      <td>1</td>\n      <td>1</td>\n      <td>1</td>\n      <td>1</td>\n      <td>0</td>\n      <td>0</td>\n      <td>0</td>\n      <td>1</td>\n      <td>1</td>\n      <td>0</td>\n      <td>Normal</td>\n      <td>0</td>\n    </tr>\n  </tbody>\n</table>\n<p>257673 rows × 45 columns</p>\n</div>"
     },
     "execution_count": 11,
     "metadata": {},
     "output_type": "execute_result"
    }
   ],
   "source": [
    "ds"
   ],
   "metadata": {
    "collapsed": false,
    "pycharm": {
     "name": "#%%\n"
    }
   }
  },
  {
   "cell_type": "code",
   "execution_count": 12,
   "outputs": [],
   "source": [
    "#there are no missing values, the feature 'service' has - where there is no service, rename it to 'undefined'\n",
    "ds['service'].replace('-','undefined',inplace=True)"
   ],
   "metadata": {
    "collapsed": false,
    "pycharm": {
     "name": "#%%\n"
    }
   }
  },
  {
   "cell_type": "code",
   "execution_count": 13,
   "outputs": [],
   "source": [
    "ds['label'].replace(1,'attack',inplace=True)\n",
    "ds['label'].replace(0, 'normal', inplace=True)"
   ],
   "metadata": {
    "collapsed": false,
    "pycharm": {
     "name": "#%%\n"
    }
   }
  },
  {
   "cell_type": "code",
   "execution_count": 14,
   "outputs": [
    {
     "data": {
      "text/plain": "          id       dur proto    service state  spkts  dpkts  sbytes  dbytes  \\\n0          1  0.121478   tcp  undefined   FIN      6      4     258     172   \n1          2  0.649902   tcp  undefined   FIN     14     38     734   42014   \n2          3  1.623129   tcp  undefined   FIN      8     16     364   13186   \n3          4  1.681642   tcp        ftp   FIN     12     12     628     770   \n4          5  0.449454   tcp  undefined   FIN     10      6     534     268   \n...      ...       ...   ...        ...   ...    ...    ...     ...     ...   \n82327  82328  0.000005   udp  undefined   INT      2      0     104       0   \n82328  82329  1.106101   tcp  undefined   FIN     20      8   18062     354   \n82329  82330  0.000000   arp  undefined   INT      1      0      46       0   \n82330  82331  0.000000   arp  undefined   INT      1      0      46       0   \n82331  82332  0.000009   udp  undefined   INT      2      0     104       0   \n\n                rate  sttl  dttl         sload          dload  sloss  dloss  \\\n0          74.087490   252   254  1.415894e+04    8495.365234      0      0   \n1          78.473372    62   252  8.395112e+03  503571.312500      2     17   \n2          14.170161    62   252  1.572272e+03   60929.230470      1      6   \n3          13.677108    62   252  2.740179e+03    3358.622070      1      3   \n4          33.373826   254   252  8.561499e+03    3987.059814      2      1   \n...              ...   ...   ...           ...            ...    ...    ...   \n82327  200000.005100   254     0  8.320000e+07       0.000000      0      0   \n82328      24.410067   254   252  1.241044e+05    2242.109863      7      1   \n82329       0.000000     0     0  0.000000e+00       0.000000      0      0   \n82330       0.000000     0     0  0.000000e+00       0.000000      0      0   \n82331  111111.107200   254     0  4.622222e+07       0.000000      0      0   \n\n             sinpkt      dinpkt          sjit          djit  swin       stcpb  \\\n0         24.295600    8.375000     30.177547     11.830604   255   621772692   \n1         49.915000   15.432865     61.426934   1387.778330   255  1417884146   \n2        231.875571  102.737203  17179.586860  11420.926230   255  2116150707   \n3        152.876547   90.235726    259.080172   4991.784669   255  1107119177   \n4         47.750333   75.659602   2415.837634    115.807000   255  2436137549   \n...             ...         ...           ...           ...   ...         ...   \n82327      0.005000    0.000000      0.000000      0.000000     0           0   \n82328     55.880051  143.700000   4798.130981    190.980813   255  1072535109   \n82329  60000.720000    0.000000      0.000000      0.000000     0           0   \n82330  60000.732000    0.000000     10.954518      0.000000     0           0   \n82331      0.009000    0.000000      0.000000      0.000000     0           0   \n\n            dtcpb  dwin    tcprtt    synack    ackdat  smean  dmean  \\\n0      2202533631   255  0.000000  0.000000  0.000000     43     43   \n1      3077387971   255  0.000000  0.000000  0.000000     52   1106   \n2      2963114973   255  0.111897  0.061458  0.050439     46    824   \n3      1047442890   255  0.000000  0.000000  0.000000     52     64   \n4      1977154190   255  0.128381  0.071147  0.057234     53     45   \n...           ...   ...       ...       ...       ...    ...    ...   \n82327           0     0  0.000000  0.000000  0.000000     52      0   \n82328  3284291478   255  0.173208  0.100191  0.073017    903     44   \n82329           0     0  0.000000  0.000000  0.000000     46      0   \n82330           0     0  0.000000  0.000000  0.000000     46      0   \n82331           0     0  0.000000  0.000000  0.000000     52      0   \n\n       trans_depth  response_body_len  ct_srv_src  ct_state_ttl  ct_dst_ltm  \\\n0                0                  0           1             0           1   \n1                0                  0          43             1           1   \n2                0                  0           7             1           2   \n3                0                  0           1             1           2   \n4                0                  0          43             1           2   \n...            ...                ...         ...           ...         ...   \n82327            0                  0           1             2           2   \n82328            0                  0           1             1           2   \n82329            0                  0           1             2           1   \n82330            0                  0           1             2           1   \n82331            0                  0           1             2           1   \n\n       ct_src_dport_ltm  ct_dst_sport_ltm  ct_dst_src_ltm  is_ftp_login  \\\n0                     1                 1               1             0   \n1                     1                 1               2             0   \n2                     1                 1               3             0   \n3                     1                 1               3             1   \n4                     2                 1              40             0   \n...                 ...               ...             ...           ...   \n82327                 1                 1               2             0   \n82328                 1                 1               1             0   \n82329                 1                 1               1             0   \n82330                 1                 1               1             0   \n82331                 1                 1               1             0   \n\n       ct_ftp_cmd  ct_flw_http_mthd  ct_src_ltm  ct_srv_dst  is_sm_ips_ports  \\\n0               0                 0           1           1                0   \n1               0                 0           1           6                0   \n2               0                 0           2           6                0   \n3               1                 0           2           1                0   \n4               0                 0           2          39                0   \n...           ...               ...         ...         ...              ...   \n82327           0                 0           2           1                0   \n82328           0                 0           3           2                0   \n82329           0                 0           1           1                1   \n82330           0                 0           1           1                1   \n82331           0                 0           1           1                0   \n\n      attack_cat   label  \n0         Normal  normal  \n1         Normal  normal  \n2         Normal  normal  \n3         Normal  normal  \n4         Normal  normal  \n...          ...     ...  \n82327     Normal  normal  \n82328     Normal  normal  \n82329     Normal  normal  \n82330     Normal  normal  \n82331     Normal  normal  \n\n[257673 rows x 45 columns]",
      "text/html": "<div>\n<style scoped>\n    .dataframe tbody tr th:only-of-type {\n        vertical-align: middle;\n    }\n\n    .dataframe tbody tr th {\n        vertical-align: top;\n    }\n\n    .dataframe thead th {\n        text-align: right;\n    }\n</style>\n<table border=\"1\" class=\"dataframe\">\n  <thead>\n    <tr style=\"text-align: right;\">\n      <th></th>\n      <th>id</th>\n      <th>dur</th>\n      <th>proto</th>\n      <th>service</th>\n      <th>state</th>\n      <th>spkts</th>\n      <th>dpkts</th>\n      <th>sbytes</th>\n      <th>dbytes</th>\n      <th>rate</th>\n      <th>sttl</th>\n      <th>dttl</th>\n      <th>sload</th>\n      <th>dload</th>\n      <th>sloss</th>\n      <th>dloss</th>\n      <th>sinpkt</th>\n      <th>dinpkt</th>\n      <th>sjit</th>\n      <th>djit</th>\n      <th>swin</th>\n      <th>stcpb</th>\n      <th>dtcpb</th>\n      <th>dwin</th>\n      <th>tcprtt</th>\n      <th>synack</th>\n      <th>ackdat</th>\n      <th>smean</th>\n      <th>dmean</th>\n      <th>trans_depth</th>\n      <th>response_body_len</th>\n      <th>ct_srv_src</th>\n      <th>ct_state_ttl</th>\n      <th>ct_dst_ltm</th>\n      <th>ct_src_dport_ltm</th>\n      <th>ct_dst_sport_ltm</th>\n      <th>ct_dst_src_ltm</th>\n      <th>is_ftp_login</th>\n      <th>ct_ftp_cmd</th>\n      <th>ct_flw_http_mthd</th>\n      <th>ct_src_ltm</th>\n      <th>ct_srv_dst</th>\n      <th>is_sm_ips_ports</th>\n      <th>attack_cat</th>\n      <th>label</th>\n    </tr>\n  </thead>\n  <tbody>\n    <tr>\n      <th>0</th>\n      <td>1</td>\n      <td>0.121478</td>\n      <td>tcp</td>\n      <td>undefined</td>\n      <td>FIN</td>\n      <td>6</td>\n      <td>4</td>\n      <td>258</td>\n      <td>172</td>\n      <td>74.087490</td>\n      <td>252</td>\n      <td>254</td>\n      <td>1.415894e+04</td>\n      <td>8495.365234</td>\n      <td>0</td>\n      <td>0</td>\n      <td>24.295600</td>\n      <td>8.375000</td>\n      <td>30.177547</td>\n      <td>11.830604</td>\n      <td>255</td>\n      <td>621772692</td>\n      <td>2202533631</td>\n      <td>255</td>\n      <td>0.000000</td>\n      <td>0.000000</td>\n      <td>0.000000</td>\n      <td>43</td>\n      <td>43</td>\n      <td>0</td>\n      <td>0</td>\n      <td>1</td>\n      <td>0</td>\n      <td>1</td>\n      <td>1</td>\n      <td>1</td>\n      <td>1</td>\n      <td>0</td>\n      <td>0</td>\n      <td>0</td>\n      <td>1</td>\n      <td>1</td>\n      <td>0</td>\n      <td>Normal</td>\n      <td>normal</td>\n    </tr>\n    <tr>\n      <th>1</th>\n      <td>2</td>\n      <td>0.649902</td>\n      <td>tcp</td>\n      <td>undefined</td>\n      <td>FIN</td>\n      <td>14</td>\n      <td>38</td>\n      <td>734</td>\n      <td>42014</td>\n      <td>78.473372</td>\n      <td>62</td>\n      <td>252</td>\n      <td>8.395112e+03</td>\n      <td>503571.312500</td>\n      <td>2</td>\n      <td>17</td>\n      <td>49.915000</td>\n      <td>15.432865</td>\n      <td>61.426934</td>\n      <td>1387.778330</td>\n      <td>255</td>\n      <td>1417884146</td>\n      <td>3077387971</td>\n      <td>255</td>\n      <td>0.000000</td>\n      <td>0.000000</td>\n      <td>0.000000</td>\n      <td>52</td>\n      <td>1106</td>\n      <td>0</td>\n      <td>0</td>\n      <td>43</td>\n      <td>1</td>\n      <td>1</td>\n      <td>1</td>\n      <td>1</td>\n      <td>2</td>\n      <td>0</td>\n      <td>0</td>\n      <td>0</td>\n      <td>1</td>\n      <td>6</td>\n      <td>0</td>\n      <td>Normal</td>\n      <td>normal</td>\n    </tr>\n    <tr>\n      <th>2</th>\n      <td>3</td>\n      <td>1.623129</td>\n      <td>tcp</td>\n      <td>undefined</td>\n      <td>FIN</td>\n      <td>8</td>\n      <td>16</td>\n      <td>364</td>\n      <td>13186</td>\n      <td>14.170161</td>\n      <td>62</td>\n      <td>252</td>\n      <td>1.572272e+03</td>\n      <td>60929.230470</td>\n      <td>1</td>\n      <td>6</td>\n      <td>231.875571</td>\n      <td>102.737203</td>\n      <td>17179.586860</td>\n      <td>11420.926230</td>\n      <td>255</td>\n      <td>2116150707</td>\n      <td>2963114973</td>\n      <td>255</td>\n      <td>0.111897</td>\n      <td>0.061458</td>\n      <td>0.050439</td>\n      <td>46</td>\n      <td>824</td>\n      <td>0</td>\n      <td>0</td>\n      <td>7</td>\n      <td>1</td>\n      <td>2</td>\n      <td>1</td>\n      <td>1</td>\n      <td>3</td>\n      <td>0</td>\n      <td>0</td>\n      <td>0</td>\n      <td>2</td>\n      <td>6</td>\n      <td>0</td>\n      <td>Normal</td>\n      <td>normal</td>\n    </tr>\n    <tr>\n      <th>3</th>\n      <td>4</td>\n      <td>1.681642</td>\n      <td>tcp</td>\n      <td>ftp</td>\n      <td>FIN</td>\n      <td>12</td>\n      <td>12</td>\n      <td>628</td>\n      <td>770</td>\n      <td>13.677108</td>\n      <td>62</td>\n      <td>252</td>\n      <td>2.740179e+03</td>\n      <td>3358.622070</td>\n      <td>1</td>\n      <td>3</td>\n      <td>152.876547</td>\n      <td>90.235726</td>\n      <td>259.080172</td>\n      <td>4991.784669</td>\n      <td>255</td>\n      <td>1107119177</td>\n      <td>1047442890</td>\n      <td>255</td>\n      <td>0.000000</td>\n      <td>0.000000</td>\n      <td>0.000000</td>\n      <td>52</td>\n      <td>64</td>\n      <td>0</td>\n      <td>0</td>\n      <td>1</td>\n      <td>1</td>\n      <td>2</td>\n      <td>1</td>\n      <td>1</td>\n      <td>3</td>\n      <td>1</td>\n      <td>1</td>\n      <td>0</td>\n      <td>2</td>\n      <td>1</td>\n      <td>0</td>\n      <td>Normal</td>\n      <td>normal</td>\n    </tr>\n    <tr>\n      <th>4</th>\n      <td>5</td>\n      <td>0.449454</td>\n      <td>tcp</td>\n      <td>undefined</td>\n      <td>FIN</td>\n      <td>10</td>\n      <td>6</td>\n      <td>534</td>\n      <td>268</td>\n      <td>33.373826</td>\n      <td>254</td>\n      <td>252</td>\n      <td>8.561499e+03</td>\n      <td>3987.059814</td>\n      <td>2</td>\n      <td>1</td>\n      <td>47.750333</td>\n      <td>75.659602</td>\n      <td>2415.837634</td>\n      <td>115.807000</td>\n      <td>255</td>\n      <td>2436137549</td>\n      <td>1977154190</td>\n      <td>255</td>\n      <td>0.128381</td>\n      <td>0.071147</td>\n      <td>0.057234</td>\n      <td>53</td>\n      <td>45</td>\n      <td>0</td>\n      <td>0</td>\n      <td>43</td>\n      <td>1</td>\n      <td>2</td>\n      <td>2</td>\n      <td>1</td>\n      <td>40</td>\n      <td>0</td>\n      <td>0</td>\n      <td>0</td>\n      <td>2</td>\n      <td>39</td>\n      <td>0</td>\n      <td>Normal</td>\n      <td>normal</td>\n    </tr>\n    <tr>\n      <th>...</th>\n      <td>...</td>\n      <td>...</td>\n      <td>...</td>\n      <td>...</td>\n      <td>...</td>\n      <td>...</td>\n      <td>...</td>\n      <td>...</td>\n      <td>...</td>\n      <td>...</td>\n      <td>...</td>\n      <td>...</td>\n      <td>...</td>\n      <td>...</td>\n      <td>...</td>\n      <td>...</td>\n      <td>...</td>\n      <td>...</td>\n      <td>...</td>\n      <td>...</td>\n      <td>...</td>\n      <td>...</td>\n      <td>...</td>\n      <td>...</td>\n      <td>...</td>\n      <td>...</td>\n      <td>...</td>\n      <td>...</td>\n      <td>...</td>\n      <td>...</td>\n      <td>...</td>\n      <td>...</td>\n      <td>...</td>\n      <td>...</td>\n      <td>...</td>\n      <td>...</td>\n      <td>...</td>\n      <td>...</td>\n      <td>...</td>\n      <td>...</td>\n      <td>...</td>\n      <td>...</td>\n      <td>...</td>\n      <td>...</td>\n      <td>...</td>\n    </tr>\n    <tr>\n      <th>82327</th>\n      <td>82328</td>\n      <td>0.000005</td>\n      <td>udp</td>\n      <td>undefined</td>\n      <td>INT</td>\n      <td>2</td>\n      <td>0</td>\n      <td>104</td>\n      <td>0</td>\n      <td>200000.005100</td>\n      <td>254</td>\n      <td>0</td>\n      <td>8.320000e+07</td>\n      <td>0.000000</td>\n      <td>0</td>\n      <td>0</td>\n      <td>0.005000</td>\n      <td>0.000000</td>\n      <td>0.000000</td>\n      <td>0.000000</td>\n      <td>0</td>\n      <td>0</td>\n      <td>0</td>\n      <td>0</td>\n      <td>0.000000</td>\n      <td>0.000000</td>\n      <td>0.000000</td>\n      <td>52</td>\n      <td>0</td>\n      <td>0</td>\n      <td>0</td>\n      <td>1</td>\n      <td>2</td>\n      <td>2</td>\n      <td>1</td>\n      <td>1</td>\n      <td>2</td>\n      <td>0</td>\n      <td>0</td>\n      <td>0</td>\n      <td>2</td>\n      <td>1</td>\n      <td>0</td>\n      <td>Normal</td>\n      <td>normal</td>\n    </tr>\n    <tr>\n      <th>82328</th>\n      <td>82329</td>\n      <td>1.106101</td>\n      <td>tcp</td>\n      <td>undefined</td>\n      <td>FIN</td>\n      <td>20</td>\n      <td>8</td>\n      <td>18062</td>\n      <td>354</td>\n      <td>24.410067</td>\n      <td>254</td>\n      <td>252</td>\n      <td>1.241044e+05</td>\n      <td>2242.109863</td>\n      <td>7</td>\n      <td>1</td>\n      <td>55.880051</td>\n      <td>143.700000</td>\n      <td>4798.130981</td>\n      <td>190.980813</td>\n      <td>255</td>\n      <td>1072535109</td>\n      <td>3284291478</td>\n      <td>255</td>\n      <td>0.173208</td>\n      <td>0.100191</td>\n      <td>0.073017</td>\n      <td>903</td>\n      <td>44</td>\n      <td>0</td>\n      <td>0</td>\n      <td>1</td>\n      <td>1</td>\n      <td>2</td>\n      <td>1</td>\n      <td>1</td>\n      <td>1</td>\n      <td>0</td>\n      <td>0</td>\n      <td>0</td>\n      <td>3</td>\n      <td>2</td>\n      <td>0</td>\n      <td>Normal</td>\n      <td>normal</td>\n    </tr>\n    <tr>\n      <th>82329</th>\n      <td>82330</td>\n      <td>0.000000</td>\n      <td>arp</td>\n      <td>undefined</td>\n      <td>INT</td>\n      <td>1</td>\n      <td>0</td>\n      <td>46</td>\n      <td>0</td>\n      <td>0.000000</td>\n      <td>0</td>\n      <td>0</td>\n      <td>0.000000e+00</td>\n      <td>0.000000</td>\n      <td>0</td>\n      <td>0</td>\n      <td>60000.720000</td>\n      <td>0.000000</td>\n      <td>0.000000</td>\n      <td>0.000000</td>\n      <td>0</td>\n      <td>0</td>\n      <td>0</td>\n      <td>0</td>\n      <td>0.000000</td>\n      <td>0.000000</td>\n      <td>0.000000</td>\n      <td>46</td>\n      <td>0</td>\n      <td>0</td>\n      <td>0</td>\n      <td>1</td>\n      <td>2</td>\n      <td>1</td>\n      <td>1</td>\n      <td>1</td>\n      <td>1</td>\n      <td>0</td>\n      <td>0</td>\n      <td>0</td>\n      <td>1</td>\n      <td>1</td>\n      <td>1</td>\n      <td>Normal</td>\n      <td>normal</td>\n    </tr>\n    <tr>\n      <th>82330</th>\n      <td>82331</td>\n      <td>0.000000</td>\n      <td>arp</td>\n      <td>undefined</td>\n      <td>INT</td>\n      <td>1</td>\n      <td>0</td>\n      <td>46</td>\n      <td>0</td>\n      <td>0.000000</td>\n      <td>0</td>\n      <td>0</td>\n      <td>0.000000e+00</td>\n      <td>0.000000</td>\n      <td>0</td>\n      <td>0</td>\n      <td>60000.732000</td>\n      <td>0.000000</td>\n      <td>10.954518</td>\n      <td>0.000000</td>\n      <td>0</td>\n      <td>0</td>\n      <td>0</td>\n      <td>0</td>\n      <td>0.000000</td>\n      <td>0.000000</td>\n      <td>0.000000</td>\n      <td>46</td>\n      <td>0</td>\n      <td>0</td>\n      <td>0</td>\n      <td>1</td>\n      <td>2</td>\n      <td>1</td>\n      <td>1</td>\n      <td>1</td>\n      <td>1</td>\n      <td>0</td>\n      <td>0</td>\n      <td>0</td>\n      <td>1</td>\n      <td>1</td>\n      <td>1</td>\n      <td>Normal</td>\n      <td>normal</td>\n    </tr>\n    <tr>\n      <th>82331</th>\n      <td>82332</td>\n      <td>0.000009</td>\n      <td>udp</td>\n      <td>undefined</td>\n      <td>INT</td>\n      <td>2</td>\n      <td>0</td>\n      <td>104</td>\n      <td>0</td>\n      <td>111111.107200</td>\n      <td>254</td>\n      <td>0</td>\n      <td>4.622222e+07</td>\n      <td>0.000000</td>\n      <td>0</td>\n      <td>0</td>\n      <td>0.009000</td>\n      <td>0.000000</td>\n      <td>0.000000</td>\n      <td>0.000000</td>\n      <td>0</td>\n      <td>0</td>\n      <td>0</td>\n      <td>0</td>\n      <td>0.000000</td>\n      <td>0.000000</td>\n      <td>0.000000</td>\n      <td>52</td>\n      <td>0</td>\n      <td>0</td>\n      <td>0</td>\n      <td>1</td>\n      <td>2</td>\n      <td>1</td>\n      <td>1</td>\n      <td>1</td>\n      <td>1</td>\n      <td>0</td>\n      <td>0</td>\n      <td>0</td>\n      <td>1</td>\n      <td>1</td>\n      <td>0</td>\n      <td>Normal</td>\n      <td>normal</td>\n    </tr>\n  </tbody>\n</table>\n<p>257673 rows × 45 columns</p>\n</div>"
     },
     "execution_count": 14,
     "metadata": {},
     "output_type": "execute_result"
    }
   ],
   "source": [
    "ds"
   ],
   "metadata": {
    "collapsed": false,
    "pycharm": {
     "name": "#%%\n"
    }
   }
  },
  {
   "cell_type": "code",
   "execution_count": 60,
   "outputs": [
    {
     "data": {
      "text/plain": "array(['tcp', 'udp', 'arp', 'ospf', 'icmp', 'igmp', 'rtp', 'ddp',\n       'ipv6-frag', 'cftp', 'wsn', 'pvp', 'wb-expak', 'mtp', 'pri-enc',\n       'sat-mon', 'cphb', 'sun-nd', 'iso-ip', 'xtp', 'il', 'unas',\n       'mfe-nsp', '3pc', 'ipv6-route', 'idrp', 'bna', 'swipe',\n       'kryptolan', 'cpnx', 'rsvp', 'wb-mon', 'vmtp', 'ib', 'dgp',\n       'eigrp', 'ax.25', 'gmtp', 'pnni', 'sep', 'pgm', 'idpr-cmtp',\n       'zero', 'rvd', 'mobile', 'narp', 'fc', 'pipe', 'ipcomp', 'ipv6-no',\n       'sat-expak', 'ipv6-opts', 'snp', 'ipcv', 'br-sat-mon', 'ttp',\n       'tcf', 'nsfnet-igp', 'sprite-rpc', 'aes-sp3-d', 'sccopmce', 'sctp',\n       'qnx', 'scps', 'etherip', 'aris', 'pim', 'compaq-peer', 'vrrp',\n       'iatp', 'stp', 'l2tp', 'srp', 'sm', 'isis', 'smp', 'fire', 'ptp',\n       'crtp', 'sps', 'merit-inp', 'idpr', 'skip', 'any', 'larp', 'ipip',\n       'micp', 'encap', 'ifmp', 'tp++', 'a/n', 'ipv6', 'i-nlsp',\n       'ipx-n-ip', 'sdrp', 'tlsp', 'gre', 'mhrp', 'ddx', 'ippc', 'visa',\n       'secure-vmtp', 'uti', 'vines', 'crudp', 'iplt', 'ggp', 'ip',\n       'ipnip', 'st2', 'argus', 'bbn-rcc', 'egp', 'emcon', 'igp', 'nvp',\n       'pup', 'xnet', 'chaos', 'mux', 'dcn', 'hmp', 'prm', 'trunk-1',\n       'xns-idp', 'leaf-1', 'leaf-2', 'rdp', 'irtp', 'iso-tp4', 'netblt',\n       'trunk-2', 'cbt'], dtype=object)"
     },
     "execution_count": 60,
     "metadata": {},
     "output_type": "execute_result"
    }
   ],
   "source": [
    "pd.unique(ds.proto.values)"
   ],
   "metadata": {
    "collapsed": false,
    "pycharm": {
     "name": "#%%\n"
    }
   }
  },
  {
   "cell_type": "code",
   "execution_count": 15,
   "outputs": [],
   "source": [
    "#drop the id column\n",
    "ds=ds.drop('id', axis=1)"
   ],
   "metadata": {
    "collapsed": false,
    "pycharm": {
     "name": "#%%\n"
    }
   }
  },
  {
   "cell_type": "code",
   "execution_count": 16,
   "outputs": [],
   "source": [
    "#first binary classification, for that we will drop the attack cat\n",
    "ds_binary=ds.drop('attack_cat',axis=1)"
   ],
   "metadata": {
    "collapsed": false,
    "pycharm": {
     "name": "#%%\n"
    }
   }
  },
  {
   "cell_type": "code",
   "execution_count": 123,
   "outputs": [
    {
     "data": {
      "text/plain": "<pandas.io.formats.style.Styler at 0x1ca4ee47a30>",
      "text/html": "<style type=\"text/css\">\n#T_4d406_row29_col1, #T_4d406_row42_col1, #T_4d406_row51_col1 {\n  background-color: lightgreen;\n}\n</style>\n<table id=\"T_4d406_\">\n  <thead>\n    <tr>\n      <th class=\"blank level0\" >&nbsp;</th>\n      <th class=\"col_heading level0 col0\" >Description</th>\n      <th class=\"col_heading level0 col1\" >Value</th>\n    </tr>\n  </thead>\n  <tbody>\n    <tr>\n      <th id=\"T_4d406_level0_row0\" class=\"row_heading level0 row0\" >0</th>\n      <td id=\"T_4d406_row0_col0\" class=\"data row0 col0\" >session_id</td>\n      <td id=\"T_4d406_row0_col1\" class=\"data row0 col1\" >3704</td>\n    </tr>\n    <tr>\n      <th id=\"T_4d406_level0_row1\" class=\"row_heading level0 row1\" >1</th>\n      <td id=\"T_4d406_row1_col0\" class=\"data row1 col0\" >Target</td>\n      <td id=\"T_4d406_row1_col1\" class=\"data row1 col1\" >label</td>\n    </tr>\n    <tr>\n      <th id=\"T_4d406_level0_row2\" class=\"row_heading level0 row2\" >2</th>\n      <td id=\"T_4d406_row2_col0\" class=\"data row2 col0\" >Target Type</td>\n      <td id=\"T_4d406_row2_col1\" class=\"data row2 col1\" >Binary</td>\n    </tr>\n    <tr>\n      <th id=\"T_4d406_level0_row3\" class=\"row_heading level0 row3\" >3</th>\n      <td id=\"T_4d406_row3_col0\" class=\"data row3 col0\" >Label Encoded</td>\n      <td id=\"T_4d406_row3_col1\" class=\"data row3 col1\" >attack: 0, normal: 1</td>\n    </tr>\n    <tr>\n      <th id=\"T_4d406_level0_row4\" class=\"row_heading level0 row4\" >4</th>\n      <td id=\"T_4d406_row4_col0\" class=\"data row4 col0\" >Original Data</td>\n      <td id=\"T_4d406_row4_col1\" class=\"data row4 col1\" >(257673, 43)</td>\n    </tr>\n    <tr>\n      <th id=\"T_4d406_level0_row5\" class=\"row_heading level0 row5\" >5</th>\n      <td id=\"T_4d406_row5_col0\" class=\"data row5 col0\" >Missing Values</td>\n      <td id=\"T_4d406_row5_col1\" class=\"data row5 col1\" >False</td>\n    </tr>\n    <tr>\n      <th id=\"T_4d406_level0_row6\" class=\"row_heading level0 row6\" >6</th>\n      <td id=\"T_4d406_row6_col0\" class=\"data row6 col0\" >Numeric Features</td>\n      <td id=\"T_4d406_row6_col1\" class=\"data row6 col1\" >39</td>\n    </tr>\n    <tr>\n      <th id=\"T_4d406_level0_row7\" class=\"row_heading level0 row7\" >7</th>\n      <td id=\"T_4d406_row7_col0\" class=\"data row7 col0\" >Categorical Features</td>\n      <td id=\"T_4d406_row7_col1\" class=\"data row7 col1\" >3</td>\n    </tr>\n    <tr>\n      <th id=\"T_4d406_level0_row8\" class=\"row_heading level0 row8\" >8</th>\n      <td id=\"T_4d406_row8_col0\" class=\"data row8 col0\" >Ordinal Features</td>\n      <td id=\"T_4d406_row8_col1\" class=\"data row8 col1\" >False</td>\n    </tr>\n    <tr>\n      <th id=\"T_4d406_level0_row9\" class=\"row_heading level0 row9\" >9</th>\n      <td id=\"T_4d406_row9_col0\" class=\"data row9 col0\" >High Cardinality Features</td>\n      <td id=\"T_4d406_row9_col1\" class=\"data row9 col1\" >False</td>\n    </tr>\n    <tr>\n      <th id=\"T_4d406_level0_row10\" class=\"row_heading level0 row10\" >10</th>\n      <td id=\"T_4d406_row10_col0\" class=\"data row10 col0\" >High Cardinality Method</td>\n      <td id=\"T_4d406_row10_col1\" class=\"data row10 col1\" >None</td>\n    </tr>\n    <tr>\n      <th id=\"T_4d406_level0_row11\" class=\"row_heading level0 row11\" >11</th>\n      <td id=\"T_4d406_row11_col0\" class=\"data row11 col0\" >Transformed Train Set</td>\n      <td id=\"T_4d406_row11_col1\" class=\"data row11 col1\" >(206138, 40)</td>\n    </tr>\n    <tr>\n      <th id=\"T_4d406_level0_row12\" class=\"row_heading level0 row12\" >12</th>\n      <td id=\"T_4d406_row12_col0\" class=\"data row12 col0\" >Transformed Test Set</td>\n      <td id=\"T_4d406_row12_col1\" class=\"data row12 col1\" >(51535, 40)</td>\n    </tr>\n    <tr>\n      <th id=\"T_4d406_level0_row13\" class=\"row_heading level0 row13\" >13</th>\n      <td id=\"T_4d406_row13_col0\" class=\"data row13 col0\" >Shuffle Train-Test</td>\n      <td id=\"T_4d406_row13_col1\" class=\"data row13 col1\" >True</td>\n    </tr>\n    <tr>\n      <th id=\"T_4d406_level0_row14\" class=\"row_heading level0 row14\" >14</th>\n      <td id=\"T_4d406_row14_col0\" class=\"data row14 col0\" >Stratify Train-Test</td>\n      <td id=\"T_4d406_row14_col1\" class=\"data row14 col1\" >False</td>\n    </tr>\n    <tr>\n      <th id=\"T_4d406_level0_row15\" class=\"row_heading level0 row15\" >15</th>\n      <td id=\"T_4d406_row15_col0\" class=\"data row15 col0\" >Fold Generator</td>\n      <td id=\"T_4d406_row15_col1\" class=\"data row15 col1\" >StratifiedKFold</td>\n    </tr>\n    <tr>\n      <th id=\"T_4d406_level0_row16\" class=\"row_heading level0 row16\" >16</th>\n      <td id=\"T_4d406_row16_col0\" class=\"data row16 col0\" >Fold Number</td>\n      <td id=\"T_4d406_row16_col1\" class=\"data row16 col1\" >10</td>\n    </tr>\n    <tr>\n      <th id=\"T_4d406_level0_row17\" class=\"row_heading level0 row17\" >17</th>\n      <td id=\"T_4d406_row17_col0\" class=\"data row17 col0\" >CPU Jobs</td>\n      <td id=\"T_4d406_row17_col1\" class=\"data row17 col1\" >-1</td>\n    </tr>\n    <tr>\n      <th id=\"T_4d406_level0_row18\" class=\"row_heading level0 row18\" >18</th>\n      <td id=\"T_4d406_row18_col0\" class=\"data row18 col0\" >Use GPU</td>\n      <td id=\"T_4d406_row18_col1\" class=\"data row18 col1\" >False</td>\n    </tr>\n    <tr>\n      <th id=\"T_4d406_level0_row19\" class=\"row_heading level0 row19\" >19</th>\n      <td id=\"T_4d406_row19_col0\" class=\"data row19 col0\" >Log Experiment</td>\n      <td id=\"T_4d406_row19_col1\" class=\"data row19 col1\" >False</td>\n    </tr>\n    <tr>\n      <th id=\"T_4d406_level0_row20\" class=\"row_heading level0 row20\" >20</th>\n      <td id=\"T_4d406_row20_col0\" class=\"data row20 col0\" >Experiment Name</td>\n      <td id=\"T_4d406_row20_col1\" class=\"data row20 col1\" >clf-default-name</td>\n    </tr>\n    <tr>\n      <th id=\"T_4d406_level0_row21\" class=\"row_heading level0 row21\" >21</th>\n      <td id=\"T_4d406_row21_col0\" class=\"data row21 col0\" >USI</td>\n      <td id=\"T_4d406_row21_col1\" class=\"data row21 col1\" >d4b2</td>\n    </tr>\n    <tr>\n      <th id=\"T_4d406_level0_row22\" class=\"row_heading level0 row22\" >22</th>\n      <td id=\"T_4d406_row22_col0\" class=\"data row22 col0\" >Imputation Type</td>\n      <td id=\"T_4d406_row22_col1\" class=\"data row22 col1\" >simple</td>\n    </tr>\n    <tr>\n      <th id=\"T_4d406_level0_row23\" class=\"row_heading level0 row23\" >23</th>\n      <td id=\"T_4d406_row23_col0\" class=\"data row23 col0\" >Iterative Imputation Iteration</td>\n      <td id=\"T_4d406_row23_col1\" class=\"data row23 col1\" >None</td>\n    </tr>\n    <tr>\n      <th id=\"T_4d406_level0_row24\" class=\"row_heading level0 row24\" >24</th>\n      <td id=\"T_4d406_row24_col0\" class=\"data row24 col0\" >Numeric Imputer</td>\n      <td id=\"T_4d406_row24_col1\" class=\"data row24 col1\" >mean</td>\n    </tr>\n    <tr>\n      <th id=\"T_4d406_level0_row25\" class=\"row_heading level0 row25\" >25</th>\n      <td id=\"T_4d406_row25_col0\" class=\"data row25 col0\" >Iterative Imputation Numeric Model</td>\n      <td id=\"T_4d406_row25_col1\" class=\"data row25 col1\" >None</td>\n    </tr>\n    <tr>\n      <th id=\"T_4d406_level0_row26\" class=\"row_heading level0 row26\" >26</th>\n      <td id=\"T_4d406_row26_col0\" class=\"data row26 col0\" >Categorical Imputer</td>\n      <td id=\"T_4d406_row26_col1\" class=\"data row26 col1\" >constant</td>\n    </tr>\n    <tr>\n      <th id=\"T_4d406_level0_row27\" class=\"row_heading level0 row27\" >27</th>\n      <td id=\"T_4d406_row27_col0\" class=\"data row27 col0\" >Iterative Imputation Categorical Model</td>\n      <td id=\"T_4d406_row27_col1\" class=\"data row27 col1\" >None</td>\n    </tr>\n    <tr>\n      <th id=\"T_4d406_level0_row28\" class=\"row_heading level0 row28\" >28</th>\n      <td id=\"T_4d406_row28_col0\" class=\"data row28 col0\" >Unknown Categoricals Handling</td>\n      <td id=\"T_4d406_row28_col1\" class=\"data row28 col1\" >least_frequent</td>\n    </tr>\n    <tr>\n      <th id=\"T_4d406_level0_row29\" class=\"row_heading level0 row29\" >29</th>\n      <td id=\"T_4d406_row29_col0\" class=\"data row29 col0\" >Normalize</td>\n      <td id=\"T_4d406_row29_col1\" class=\"data row29 col1\" >True</td>\n    </tr>\n    <tr>\n      <th id=\"T_4d406_level0_row30\" class=\"row_heading level0 row30\" >30</th>\n      <td id=\"T_4d406_row30_col0\" class=\"data row30 col0\" >Normalize Method</td>\n      <td id=\"T_4d406_row30_col1\" class=\"data row30 col1\" >minmax</td>\n    </tr>\n    <tr>\n      <th id=\"T_4d406_level0_row31\" class=\"row_heading level0 row31\" >31</th>\n      <td id=\"T_4d406_row31_col0\" class=\"data row31 col0\" >Transformation</td>\n      <td id=\"T_4d406_row31_col1\" class=\"data row31 col1\" >False</td>\n    </tr>\n    <tr>\n      <th id=\"T_4d406_level0_row32\" class=\"row_heading level0 row32\" >32</th>\n      <td id=\"T_4d406_row32_col0\" class=\"data row32 col0\" >Transformation Method</td>\n      <td id=\"T_4d406_row32_col1\" class=\"data row32 col1\" >None</td>\n    </tr>\n    <tr>\n      <th id=\"T_4d406_level0_row33\" class=\"row_heading level0 row33\" >33</th>\n      <td id=\"T_4d406_row33_col0\" class=\"data row33 col0\" >PCA</td>\n      <td id=\"T_4d406_row33_col1\" class=\"data row33 col1\" >False</td>\n    </tr>\n    <tr>\n      <th id=\"T_4d406_level0_row34\" class=\"row_heading level0 row34\" >34</th>\n      <td id=\"T_4d406_row34_col0\" class=\"data row34 col0\" >PCA Method</td>\n      <td id=\"T_4d406_row34_col1\" class=\"data row34 col1\" >None</td>\n    </tr>\n    <tr>\n      <th id=\"T_4d406_level0_row35\" class=\"row_heading level0 row35\" >35</th>\n      <td id=\"T_4d406_row35_col0\" class=\"data row35 col0\" >PCA Components</td>\n      <td id=\"T_4d406_row35_col1\" class=\"data row35 col1\" >None</td>\n    </tr>\n    <tr>\n      <th id=\"T_4d406_level0_row36\" class=\"row_heading level0 row36\" >36</th>\n      <td id=\"T_4d406_row36_col0\" class=\"data row36 col0\" >Ignore Low Variance</td>\n      <td id=\"T_4d406_row36_col1\" class=\"data row36 col1\" >False</td>\n    </tr>\n    <tr>\n      <th id=\"T_4d406_level0_row37\" class=\"row_heading level0 row37\" >37</th>\n      <td id=\"T_4d406_row37_col0\" class=\"data row37 col0\" >Combine Rare Levels</td>\n      <td id=\"T_4d406_row37_col1\" class=\"data row37 col1\" >False</td>\n    </tr>\n    <tr>\n      <th id=\"T_4d406_level0_row38\" class=\"row_heading level0 row38\" >38</th>\n      <td id=\"T_4d406_row38_col0\" class=\"data row38 col0\" >Rare Level Threshold</td>\n      <td id=\"T_4d406_row38_col1\" class=\"data row38 col1\" >None</td>\n    </tr>\n    <tr>\n      <th id=\"T_4d406_level0_row39\" class=\"row_heading level0 row39\" >39</th>\n      <td id=\"T_4d406_row39_col0\" class=\"data row39 col0\" >Numeric Binning</td>\n      <td id=\"T_4d406_row39_col1\" class=\"data row39 col1\" >False</td>\n    </tr>\n    <tr>\n      <th id=\"T_4d406_level0_row40\" class=\"row_heading level0 row40\" >40</th>\n      <td id=\"T_4d406_row40_col0\" class=\"data row40 col0\" >Remove Outliers</td>\n      <td id=\"T_4d406_row40_col1\" class=\"data row40 col1\" >False</td>\n    </tr>\n    <tr>\n      <th id=\"T_4d406_level0_row41\" class=\"row_heading level0 row41\" >41</th>\n      <td id=\"T_4d406_row41_col0\" class=\"data row41 col0\" >Outliers Threshold</td>\n      <td id=\"T_4d406_row41_col1\" class=\"data row41 col1\" >None</td>\n    </tr>\n    <tr>\n      <th id=\"T_4d406_level0_row42\" class=\"row_heading level0 row42\" >42</th>\n      <td id=\"T_4d406_row42_col0\" class=\"data row42 col0\" >Remove Multicollinearity</td>\n      <td id=\"T_4d406_row42_col1\" class=\"data row42 col1\" >True</td>\n    </tr>\n    <tr>\n      <th id=\"T_4d406_level0_row43\" class=\"row_heading level0 row43\" >43</th>\n      <td id=\"T_4d406_row43_col0\" class=\"data row43 col0\" >Multicollinearity Threshold</td>\n      <td id=\"T_4d406_row43_col1\" class=\"data row43 col1\" >0.900000</td>\n    </tr>\n    <tr>\n      <th id=\"T_4d406_level0_row44\" class=\"row_heading level0 row44\" >44</th>\n      <td id=\"T_4d406_row44_col0\" class=\"data row44 col0\" >Clustering</td>\n      <td id=\"T_4d406_row44_col1\" class=\"data row44 col1\" >False</td>\n    </tr>\n    <tr>\n      <th id=\"T_4d406_level0_row45\" class=\"row_heading level0 row45\" >45</th>\n      <td id=\"T_4d406_row45_col0\" class=\"data row45 col0\" >Clustering Iteration</td>\n      <td id=\"T_4d406_row45_col1\" class=\"data row45 col1\" >None</td>\n    </tr>\n    <tr>\n      <th id=\"T_4d406_level0_row46\" class=\"row_heading level0 row46\" >46</th>\n      <td id=\"T_4d406_row46_col0\" class=\"data row46 col0\" >Polynomial Features</td>\n      <td id=\"T_4d406_row46_col1\" class=\"data row46 col1\" >False</td>\n    </tr>\n    <tr>\n      <th id=\"T_4d406_level0_row47\" class=\"row_heading level0 row47\" >47</th>\n      <td id=\"T_4d406_row47_col0\" class=\"data row47 col0\" >Polynomial Degree</td>\n      <td id=\"T_4d406_row47_col1\" class=\"data row47 col1\" >None</td>\n    </tr>\n    <tr>\n      <th id=\"T_4d406_level0_row48\" class=\"row_heading level0 row48\" >48</th>\n      <td id=\"T_4d406_row48_col0\" class=\"data row48 col0\" >Trignometry Features</td>\n      <td id=\"T_4d406_row48_col1\" class=\"data row48 col1\" >False</td>\n    </tr>\n    <tr>\n      <th id=\"T_4d406_level0_row49\" class=\"row_heading level0 row49\" >49</th>\n      <td id=\"T_4d406_row49_col0\" class=\"data row49 col0\" >Polynomial Threshold</td>\n      <td id=\"T_4d406_row49_col1\" class=\"data row49 col1\" >None</td>\n    </tr>\n    <tr>\n      <th id=\"T_4d406_level0_row50\" class=\"row_heading level0 row50\" >50</th>\n      <td id=\"T_4d406_row50_col0\" class=\"data row50 col0\" >Group Features</td>\n      <td id=\"T_4d406_row50_col1\" class=\"data row50 col1\" >False</td>\n    </tr>\n    <tr>\n      <th id=\"T_4d406_level0_row51\" class=\"row_heading level0 row51\" >51</th>\n      <td id=\"T_4d406_row51_col0\" class=\"data row51 col0\" >Feature Selection</td>\n      <td id=\"T_4d406_row51_col1\" class=\"data row51 col1\" >True</td>\n    </tr>\n    <tr>\n      <th id=\"T_4d406_level0_row52\" class=\"row_heading level0 row52\" >52</th>\n      <td id=\"T_4d406_row52_col0\" class=\"data row52 col0\" >Features Selection Threshold</td>\n      <td id=\"T_4d406_row52_col1\" class=\"data row52 col1\" >0.200000</td>\n    </tr>\n    <tr>\n      <th id=\"T_4d406_level0_row53\" class=\"row_heading level0 row53\" >53</th>\n      <td id=\"T_4d406_row53_col0\" class=\"data row53 col0\" >Feature Interaction</td>\n      <td id=\"T_4d406_row53_col1\" class=\"data row53 col1\" >False</td>\n    </tr>\n    <tr>\n      <th id=\"T_4d406_level0_row54\" class=\"row_heading level0 row54\" >54</th>\n      <td id=\"T_4d406_row54_col0\" class=\"data row54 col0\" >Feature Ratio</td>\n      <td id=\"T_4d406_row54_col1\" class=\"data row54 col1\" >False</td>\n    </tr>\n    <tr>\n      <th id=\"T_4d406_level0_row55\" class=\"row_heading level0 row55\" >55</th>\n      <td id=\"T_4d406_row55_col0\" class=\"data row55 col0\" >Interaction Threshold</td>\n      <td id=\"T_4d406_row55_col1\" class=\"data row55 col1\" >None</td>\n    </tr>\n    <tr>\n      <th id=\"T_4d406_level0_row56\" class=\"row_heading level0 row56\" >56</th>\n      <td id=\"T_4d406_row56_col0\" class=\"data row56 col0\" >Fix Imbalance</td>\n      <td id=\"T_4d406_row56_col1\" class=\"data row56 col1\" >False</td>\n    </tr>\n    <tr>\n      <th id=\"T_4d406_level0_row57\" class=\"row_heading level0 row57\" >57</th>\n      <td id=\"T_4d406_row57_col0\" class=\"data row57 col0\" >Fix Imbalance Method</td>\n      <td id=\"T_4d406_row57_col1\" class=\"data row57 col1\" >SMOTE</td>\n    </tr>\n  </tbody>\n</table>\n"
     },
     "metadata": {},
     "output_type": "display_data"
    }
   ],
   "source": [
    "dsp_tr_binary=setup(data = ds_binary,\n",
    "             target = 'label',train_size=0.8,\n",
    "             numeric_imputation = 'mean',\n",
    "             categorical_features = ['proto','service','state'],\n",
    "             numeric_features=['dur','spkts','dpkts','sbytes','dbytes','rate','sttl','dttl','sload','dload','sloss','dloss','sinpkt','dinpkt','sjit','djit','swin','stcpb','dtcpb','dwin','tcprtt','synack','ackdat','smean','dmean','trans_depth','response_body_len','ct_srv_src','ct_state_ttl','ct_dst_ltm','ct_src_dport_ltm','ct_dst_sport_ltm',\n",
    "                               'ct_dst_src_ltm','is_ftp_login','ct_ftp_cmd','ct_flw_http_mthd','ct_src_ltm','ct_srv_dst','is_sm_ips_ports'],\n",
    "             normalize=True,normalize_method='minmax',\n",
    "             feature_selection=True,feature_selection_threshold=0.2,\n",
    "             silent = True, fold_shuffle=True, remove_multicollinearity=True)"
   ],
   "metadata": {
    "collapsed": false,
    "pycharm": {
     "name": "#%%\n"
    }
   }
  },
  {
   "cell_type": "code",
   "execution_count": 124,
   "outputs": [],
   "source": [
    "X_train_bin=get_config('X_train')\n",
    "X_test_bin=get_config('X_test')\n",
    "Y_train_bin=get_config('y_train')\n",
    "Y_test_bin=get_config('y_test')"
   ],
   "metadata": {
    "collapsed": false,
    "pycharm": {
     "name": "#%%\n"
    }
   }
  },
  {
   "cell_type": "code",
   "execution_count": 125,
   "outputs": [
    {
     "data": {
      "text/plain": "           dload        dinpkt  service_ssh     stcpb  proto_sun-nd      djit  \\\n139738  0.000000  0.000000e+00          0.0  0.000000           0.0  0.000000   \n43869   0.001166  6.416928e-04          0.0  0.385816           0.0  0.000116   \n71803   0.000000  0.000000e+00          0.0  0.000000           0.0  0.000000   \n116658  0.000415  7.399206e-04          0.0  0.086627           0.0  0.000106   \n104651  0.000886  9.424858e-04          0.0  0.867988           0.0  0.000137   \n...          ...           ...          ...       ...           ...       ...   \n129967  0.000000  0.000000e+00          0.0  0.000000           0.0  0.000000   \n75078   0.004361  1.108914e-03          0.0  0.400822           0.0  0.010738   \n109458  0.000000  0.000000e+00          0.0  0.000000           0.0  0.000000   \n126395  0.000000  0.000000e+00          0.0  0.000000           0.0  0.000000   \n69797   0.000024  1.212347e-07          0.0  0.643071           0.0  0.000000   \n\n        state_REQ  service_dns  proto_sctp      rate  ...  swin  \\\n139738        0.0          1.0         0.0  0.200000  ...   0.0   \n43869         0.0          0.0         0.0  0.000063  ...   1.0   \n71803         0.0          0.0         0.0  0.333333  ...   0.0   \n116658        0.0          0.0         0.0  0.000047  ...   1.0   \n104651        0.0          0.0         0.0  0.000036  ...   1.0   \n...           ...          ...         ...       ...  ...   ...   \n129967        0.0          1.0         0.0  0.250000  ...   0.0   \n75078         0.0          0.0         0.0  0.000023  ...   1.0   \n109458        0.0          0.0         0.0  0.333333  ...   0.0   \n126395        0.0          1.0         0.0  0.250000  ...   0.0   \n69797         0.0          0.0         0.0  0.000011  ...   1.0   \n\n        response_body_len  proto_udp  service_undefined     dtcpb  proto_unas  \\\n139738           0.000000        1.0                0.0  0.000000         0.0   \n43869            0.000012        0.0                0.0  0.635662         0.0   \n71803            0.000000        0.0                1.0  0.000000         0.0   \n116658           0.000000        0.0                1.0  0.179906         0.0   \n104651           0.000000        0.0                1.0  0.329263         0.0   \n...                   ...        ...                ...       ...         ...   \n129967           0.000000        1.0                0.0  0.000000         0.0   \n75078            0.000000        0.0                1.0  0.334589         0.0   \n109458           0.000000        0.0                1.0  0.000000         0.0   \n126395           0.000000        1.0                0.0  0.000000         0.0   \n69797            0.000000        0.0                1.0  0.095268         0.0   \n\n        service_http  proto_mobile         sload  service_ftp-data  \n139738           0.0           0.0  1.628572e-02               0.0  \n43869            1.0           0.0  4.212143e-06               0.0  \n71803            0.0           0.0  4.761905e-02               0.0  \n116658           0.0           0.0  1.933541e-06               0.0  \n104651           0.0           0.0  1.393886e-06               0.0  \n...              ...           ...           ...               ...  \n129967           0.0           0.0  2.035714e-02               0.0  \n75078            0.0           0.0  5.992443e-07               0.0  \n109458           0.0           0.0  4.761905e-02               0.0  \n126395           0.0           0.0  2.035714e-02               0.0  \n69797            0.0           0.0  1.869481e-06               0.0  \n\n[206138 rows x 40 columns]",
      "text/html": "<div>\n<style scoped>\n    .dataframe tbody tr th:only-of-type {\n        vertical-align: middle;\n    }\n\n    .dataframe tbody tr th {\n        vertical-align: top;\n    }\n\n    .dataframe thead th {\n        text-align: right;\n    }\n</style>\n<table border=\"1\" class=\"dataframe\">\n  <thead>\n    <tr style=\"text-align: right;\">\n      <th></th>\n      <th>dload</th>\n      <th>dinpkt</th>\n      <th>service_ssh</th>\n      <th>stcpb</th>\n      <th>proto_sun-nd</th>\n      <th>djit</th>\n      <th>state_REQ</th>\n      <th>service_dns</th>\n      <th>proto_sctp</th>\n      <th>rate</th>\n      <th>...</th>\n      <th>swin</th>\n      <th>response_body_len</th>\n      <th>proto_udp</th>\n      <th>service_undefined</th>\n      <th>dtcpb</th>\n      <th>proto_unas</th>\n      <th>service_http</th>\n      <th>proto_mobile</th>\n      <th>sload</th>\n      <th>service_ftp-data</th>\n    </tr>\n  </thead>\n  <tbody>\n    <tr>\n      <th>139738</th>\n      <td>0.000000</td>\n      <td>0.000000e+00</td>\n      <td>0.0</td>\n      <td>0.000000</td>\n      <td>0.0</td>\n      <td>0.000000</td>\n      <td>0.0</td>\n      <td>1.0</td>\n      <td>0.0</td>\n      <td>0.200000</td>\n      <td>...</td>\n      <td>0.0</td>\n      <td>0.000000</td>\n      <td>1.0</td>\n      <td>0.0</td>\n      <td>0.000000</td>\n      <td>0.0</td>\n      <td>0.0</td>\n      <td>0.0</td>\n      <td>1.628572e-02</td>\n      <td>0.0</td>\n    </tr>\n    <tr>\n      <th>43869</th>\n      <td>0.001166</td>\n      <td>6.416928e-04</td>\n      <td>0.0</td>\n      <td>0.385816</td>\n      <td>0.0</td>\n      <td>0.000116</td>\n      <td>0.0</td>\n      <td>0.0</td>\n      <td>0.0</td>\n      <td>0.000063</td>\n      <td>...</td>\n      <td>1.0</td>\n      <td>0.000012</td>\n      <td>0.0</td>\n      <td>0.0</td>\n      <td>0.635662</td>\n      <td>0.0</td>\n      <td>1.0</td>\n      <td>0.0</td>\n      <td>4.212143e-06</td>\n      <td>0.0</td>\n    </tr>\n    <tr>\n      <th>71803</th>\n      <td>0.000000</td>\n      <td>0.000000e+00</td>\n      <td>0.0</td>\n      <td>0.000000</td>\n      <td>0.0</td>\n      <td>0.000000</td>\n      <td>0.0</td>\n      <td>0.0</td>\n      <td>0.0</td>\n      <td>0.333333</td>\n      <td>...</td>\n      <td>0.0</td>\n      <td>0.000000</td>\n      <td>0.0</td>\n      <td>1.0</td>\n      <td>0.000000</td>\n      <td>0.0</td>\n      <td>0.0</td>\n      <td>0.0</td>\n      <td>4.761905e-02</td>\n      <td>0.0</td>\n    </tr>\n    <tr>\n      <th>116658</th>\n      <td>0.000415</td>\n      <td>7.399206e-04</td>\n      <td>0.0</td>\n      <td>0.086627</td>\n      <td>0.0</td>\n      <td>0.000106</td>\n      <td>0.0</td>\n      <td>0.0</td>\n      <td>0.0</td>\n      <td>0.000047</td>\n      <td>...</td>\n      <td>1.0</td>\n      <td>0.000000</td>\n      <td>0.0</td>\n      <td>1.0</td>\n      <td>0.179906</td>\n      <td>0.0</td>\n      <td>0.0</td>\n      <td>0.0</td>\n      <td>1.933541e-06</td>\n      <td>0.0</td>\n    </tr>\n    <tr>\n      <th>104651</th>\n      <td>0.000886</td>\n      <td>9.424858e-04</td>\n      <td>0.0</td>\n      <td>0.867988</td>\n      <td>0.0</td>\n      <td>0.000137</td>\n      <td>0.0</td>\n      <td>0.0</td>\n      <td>0.0</td>\n      <td>0.000036</td>\n      <td>...</td>\n      <td>1.0</td>\n      <td>0.000000</td>\n      <td>0.0</td>\n      <td>1.0</td>\n      <td>0.329263</td>\n      <td>0.0</td>\n      <td>0.0</td>\n      <td>0.0</td>\n      <td>1.393886e-06</td>\n      <td>0.0</td>\n    </tr>\n    <tr>\n      <th>...</th>\n      <td>...</td>\n      <td>...</td>\n      <td>...</td>\n      <td>...</td>\n      <td>...</td>\n      <td>...</td>\n      <td>...</td>\n      <td>...</td>\n      <td>...</td>\n      <td>...</td>\n      <td>...</td>\n      <td>...</td>\n      <td>...</td>\n      <td>...</td>\n      <td>...</td>\n      <td>...</td>\n      <td>...</td>\n      <td>...</td>\n      <td>...</td>\n      <td>...</td>\n      <td>...</td>\n    </tr>\n    <tr>\n      <th>129967</th>\n      <td>0.000000</td>\n      <td>0.000000e+00</td>\n      <td>0.0</td>\n      <td>0.000000</td>\n      <td>0.0</td>\n      <td>0.000000</td>\n      <td>0.0</td>\n      <td>1.0</td>\n      <td>0.0</td>\n      <td>0.250000</td>\n      <td>...</td>\n      <td>0.0</td>\n      <td>0.000000</td>\n      <td>1.0</td>\n      <td>0.0</td>\n      <td>0.000000</td>\n      <td>0.0</td>\n      <td>0.0</td>\n      <td>0.0</td>\n      <td>2.035714e-02</td>\n      <td>0.0</td>\n    </tr>\n    <tr>\n      <th>75078</th>\n      <td>0.004361</td>\n      <td>1.108914e-03</td>\n      <td>0.0</td>\n      <td>0.400822</td>\n      <td>0.0</td>\n      <td>0.010738</td>\n      <td>0.0</td>\n      <td>0.0</td>\n      <td>0.0</td>\n      <td>0.000023</td>\n      <td>...</td>\n      <td>1.0</td>\n      <td>0.000000</td>\n      <td>0.0</td>\n      <td>1.0</td>\n      <td>0.334589</td>\n      <td>0.0</td>\n      <td>0.0</td>\n      <td>0.0</td>\n      <td>5.992443e-07</td>\n      <td>0.0</td>\n    </tr>\n    <tr>\n      <th>109458</th>\n      <td>0.000000</td>\n      <td>0.000000e+00</td>\n      <td>0.0</td>\n      <td>0.000000</td>\n      <td>0.0</td>\n      <td>0.000000</td>\n      <td>0.0</td>\n      <td>0.0</td>\n      <td>0.0</td>\n      <td>0.333333</td>\n      <td>...</td>\n      <td>0.0</td>\n      <td>0.000000</td>\n      <td>0.0</td>\n      <td>1.0</td>\n      <td>0.000000</td>\n      <td>0.0</td>\n      <td>0.0</td>\n      <td>0.0</td>\n      <td>4.761905e-02</td>\n      <td>0.0</td>\n    </tr>\n    <tr>\n      <th>126395</th>\n      <td>0.000000</td>\n      <td>0.000000e+00</td>\n      <td>0.0</td>\n      <td>0.000000</td>\n      <td>0.0</td>\n      <td>0.000000</td>\n      <td>0.0</td>\n      <td>1.0</td>\n      <td>0.0</td>\n      <td>0.250000</td>\n      <td>...</td>\n      <td>0.0</td>\n      <td>0.000000</td>\n      <td>1.0</td>\n      <td>0.0</td>\n      <td>0.000000</td>\n      <td>0.0</td>\n      <td>0.0</td>\n      <td>0.0</td>\n      <td>2.035714e-02</td>\n      <td>0.0</td>\n    </tr>\n    <tr>\n      <th>69797</th>\n      <td>0.000024</td>\n      <td>1.212347e-07</td>\n      <td>0.0</td>\n      <td>0.643071</td>\n      <td>0.0</td>\n      <td>0.000000</td>\n      <td>0.0</td>\n      <td>0.0</td>\n      <td>0.0</td>\n      <td>0.000011</td>\n      <td>...</td>\n      <td>1.0</td>\n      <td>0.000000</td>\n      <td>0.0</td>\n      <td>1.0</td>\n      <td>0.095268</td>\n      <td>0.0</td>\n      <td>0.0</td>\n      <td>0.0</td>\n      <td>1.869481e-06</td>\n      <td>0.0</td>\n    </tr>\n  </tbody>\n</table>\n<p>206138 rows × 40 columns</p>\n</div>"
     },
     "execution_count": 125,
     "metadata": {},
     "output_type": "execute_result"
    }
   ],
   "source": [
    "X_train_bin"
   ],
   "metadata": {
    "collapsed": false,
    "pycharm": {
     "name": "#%%\n"
    }
   }
  },
  {
   "cell_type": "code",
   "execution_count": 140,
   "outputs": [
    {
     "name": "stdout",
     "output_type": "stream",
     "text": [
      "Epoch 1/100\n",
      "3221/3221 [==============================] - 12s 4ms/step - loss: 0.2014 - accuracy: 0.8933 - val_loss: 0.1765 - val_accuracy: 0.8996\n",
      "Epoch 2/100\n",
      "3221/3221 [==============================] - 11s 3ms/step - loss: 0.1740 - accuracy: 0.9070 - val_loss: 0.1696 - val_accuracy: 0.9089\n",
      "Epoch 3/100\n",
      "3221/3221 [==============================] - 11s 3ms/step - loss: 0.1685 - accuracy: 0.9113 - val_loss: 0.1647 - val_accuracy: 0.9107\n",
      "Epoch 4/100\n",
      "3221/3221 [==============================] - 11s 3ms/step - loss: 0.1657 - accuracy: 0.9128 - val_loss: 0.1592 - val_accuracy: 0.9141\n",
      "Epoch 5/100\n",
      "3221/3221 [==============================] - 11s 3ms/step - loss: 0.1630 - accuracy: 0.9149 - val_loss: 0.1605 - val_accuracy: 0.9187\n",
      "Epoch 6/100\n",
      "3221/3221 [==============================] - 11s 3ms/step - loss: 0.1617 - accuracy: 0.9158 - val_loss: 0.1571 - val_accuracy: 0.9194\n",
      "Epoch 7/100\n",
      "3221/3221 [==============================] - 11s 3ms/step - loss: 0.1601 - accuracy: 0.9173 - val_loss: 0.1537 - val_accuracy: 0.9209\n",
      "Epoch 8/100\n",
      "3221/3221 [==============================] - 11s 3ms/step - loss: 0.1588 - accuracy: 0.9179 - val_loss: 0.1578 - val_accuracy: 0.9172\n",
      "Epoch 9/100\n",
      "3221/3221 [==============================] - 10s 3ms/step - loss: 0.1580 - accuracy: 0.9178 - val_loss: 0.1601 - val_accuracy: 0.9135\n",
      "Epoch 10/100\n",
      "3221/3221 [==============================] - 11s 3ms/step - loss: 0.1568 - accuracy: 0.9189 - val_loss: 0.1524 - val_accuracy: 0.9196\n",
      "Epoch 11/100\n",
      "3221/3221 [==============================] - 11s 3ms/step - loss: 0.1562 - accuracy: 0.9192 - val_loss: 0.1678 - val_accuracy: 0.9131\n",
      "Epoch 12/100\n",
      "3221/3221 [==============================] - 10s 3ms/step - loss: 0.1552 - accuracy: 0.9192 - val_loss: 0.1542 - val_accuracy: 0.9197\n"
     ]
    },
    {
     "data": {
      "text/plain": "<tensorflow.python.keras.callbacks.History at 0x1ca73221d60>"
     },
     "execution_count": 140,
     "metadata": {},
     "output_type": "execute_result"
    }
   ],
   "source": [
    "#now we make and test the neural networks\n",
    "from tensorflow.python.keras.layers import Activation\n",
    "from keras.optimizers import SGD\n",
    "from keras.models import Sequential\n",
    "from keras.layers import Dense\n",
    "from keras.layers.advanced_activations import PReLU\n",
    "from keras.layers import Dropout\n",
    "from keras.callbacks import EarlyStopping\n",
    "act2 = PReLU(alpha_initializer='zeros', weights=None)\n",
    "model2 = Sequential()\n",
    "# define the NN architecture and activation function\n",
    "\n",
    "model2.add(Dense(496, input_dim=40, activation=Activation(act2)))\n",
    "model2.add(Dropout(0.1))\n",
    "model2.add(Dense(248, activation='relu'))\n",
    "model2.add(Dropout(0.1))\n",
    "model2.add(Dense(124, activation='relu'))\n",
    "model2.add(Dropout(0.1))\n",
    "model2.add(Dense(62, activation='relu'))\n",
    "model2.add(Dropout(0.1))\n",
    "model2.add(Dense(1))\n",
    "model2.add(Activation('sigmoid'))\n",
    "\n",
    "sgd =SGD(lr=0.01, decay=1e-6, momentum=0.9, nesterov=True)\n",
    "model2.compile(loss='binary_crossentropy', optimizer=sgd, metrics= ['accuracy'])\n",
    "es = EarlyStopping(monitor='val_accuracy', mode='max', min_delta=0.0001,patience=5) ## early stopping\n",
    "model2.fit(X_train_bin, Y_train_bin, validation_data=(X_test_bin, Y_test_bin), epochs=100, batch_size=64, callbacks=[es])"
   ],
   "metadata": {
    "collapsed": false,
    "pycharm": {
     "name": "#%%\n"
    }
   }
  },
  {
   "cell_type": "code",
   "execution_count": 141,
   "outputs": [
    {
     "data": {
      "text/plain": "0.91974386339381"
     },
     "execution_count": 141,
     "metadata": {},
     "output_type": "execute_result"
    }
   ],
   "source": [
    "from sklearn.metrics import accuracy_score\n",
    "# or find the prediction accuracy using predict_classes (same as test accuracy)\n",
    "y_pred2 = model2.predict_classes(X_test_bin)\n",
    "pred_accuracy2 = accuracy_score(Y_test_bin, y_pred2)\n",
    "pred_accuracy2"
   ],
   "metadata": {
    "collapsed": false,
    "pycharm": {
     "name": "#%%\n"
    }
   }
  },
  {
   "cell_type": "code",
   "execution_count": 142,
   "outputs": [
    {
     "name": "stdout",
     "output_type": "stream",
     "text": [
      "Precision : 0.909040\n"
     ]
    }
   ],
   "source": [
    "from sklearn.metrics import precision_score, recall_score, f1_score, roc_auc_score\n",
    "# Precision\n",
    "precision = precision_score(Y_test_bin, y_pred2)\n",
    "print('Precision : %f'% precision)"
   ],
   "metadata": {
    "collapsed": false,
    "pycharm": {
     "name": "#%%\n"
    }
   }
  },
  {
   "cell_type": "code",
   "execution_count": 143,
   "outputs": [
    {
     "name": "stdout",
     "output_type": "stream",
     "text": [
      "Recall: 0.866087\n"
     ]
    }
   ],
   "source": [
    "# Recall\n",
    "recall = recall_score(Y_test_bin, y_pred2)\n",
    "print('Recall: %f' % recall)"
   ],
   "metadata": {
    "collapsed": false,
    "pycharm": {
     "name": "#%%\n"
    }
   }
  },
  {
   "cell_type": "code",
   "execution_count": 144,
   "outputs": [
    {
     "name": "stdout",
     "output_type": "stream",
     "text": [
      "F1 score: 0.887044\n"
     ]
    }
   ],
   "source": [
    "# f1-score\n",
    "f1 = f1_score(Y_test_bin, y_pred2)\n",
    "print('F1 score: %f' % f1)"
   ],
   "metadata": {
    "collapsed": false,
    "pycharm": {
     "name": "#%%\n"
    }
   }
  },
  {
   "cell_type": "code",
   "execution_count": 145,
   "outputs": [
    {
     "name": "stdout",
     "output_type": "stream",
     "text": [
      "ROC_AUC Score: 0.908260\n"
     ]
    }
   ],
   "source": [
    "roc = roc_auc_score(Y_test_bin, y_pred2)\n",
    "print('ROC_AUC Score: %f' % roc)"
   ],
   "metadata": {
    "collapsed": false,
    "pycharm": {
     "name": "#%%\n"
    }
   }
  },
  {
   "cell_type": "code",
   "execution_count": 146,
   "outputs": [
    {
     "name": "stdout",
     "output_type": "stream",
     "text": [
      "[[31159  1625]\n",
      " [ 2511 16240]]\n"
     ]
    }
   ],
   "source": [
    "from sklearn.metrics import confusion_matrix\n",
    "\n",
    "# confusion matrix\n",
    "confusionmatrix = confusion_matrix(Y_test_bin, y_pred2)\n",
    "print(confusionmatrix)"
   ],
   "metadata": {
    "collapsed": false,
    "pycharm": {
     "name": "#%%\n"
    }
   }
  },
  {
   "cell_type": "code",
   "execution_count": 134,
   "outputs": [],
   "source": [
    "ds_multi=pd.concat([ds_train,ds_test], axis=0)"
   ],
   "metadata": {
    "collapsed": false,
    "pycharm": {
     "name": "#%%\n"
    }
   }
  },
  {
   "cell_type": "code",
   "execution_count": 135,
   "outputs": [],
   "source": [
    "ds_multi=ds_multi.drop('label',axis=1)"
   ],
   "metadata": {
    "collapsed": false,
    "pycharm": {
     "name": "#%%\n"
    }
   }
  },
  {
   "cell_type": "code",
   "execution_count": 136,
   "outputs": [],
   "source": [
    "ds_multi=ds_multi.drop('id',axis=1)"
   ],
   "metadata": {
    "collapsed": false,
    "pycharm": {
     "name": "#%%\n"
    }
   }
  },
  {
   "cell_type": "code",
   "execution_count": 137,
   "outputs": [
    {
     "data": {
      "text/plain": "            dur proto service state  spkts  dpkts  sbytes  dbytes  \\\n0      0.121478   tcp       -   FIN      6      4     258     172   \n1      0.649902   tcp       -   FIN     14     38     734   42014   \n2      1.623129   tcp       -   FIN      8     16     364   13186   \n3      1.681642   tcp     ftp   FIN     12     12     628     770   \n4      0.449454   tcp       -   FIN     10      6     534     268   \n...         ...   ...     ...   ...    ...    ...     ...     ...   \n82327  0.000005   udp       -   INT      2      0     104       0   \n82328  1.106101   tcp       -   FIN     20      8   18062     354   \n82329  0.000000   arp       -   INT      1      0      46       0   \n82330  0.000000   arp       -   INT      1      0      46       0   \n82331  0.000009   udp       -   INT      2      0     104       0   \n\n                rate  sttl  ...  ct_src_dport_ltm  ct_dst_sport_ltm  \\\n0          74.087490   252  ...                 1                 1   \n1          78.473372    62  ...                 1                 1   \n2          14.170161    62  ...                 1                 1   \n3          13.677108    62  ...                 1                 1   \n4          33.373826   254  ...                 2                 1   \n...              ...   ...  ...               ...               ...   \n82327  200000.005100   254  ...                 1                 1   \n82328      24.410067   254  ...                 1                 1   \n82329       0.000000     0  ...                 1                 1   \n82330       0.000000     0  ...                 1                 1   \n82331  111111.107200   254  ...                 1                 1   \n\n       ct_dst_src_ltm  is_ftp_login  ct_ftp_cmd  ct_flw_http_mthd  ct_src_ltm  \\\n0                   1             0           0                 0           1   \n1                   2             0           0                 0           1   \n2                   3             0           0                 0           2   \n3                   3             1           1                 0           2   \n4                  40             0           0                 0           2   \n...               ...           ...         ...               ...         ...   \n82327               2             0           0                 0           2   \n82328               1             0           0                 0           3   \n82329               1             0           0                 0           1   \n82330               1             0           0                 0           1   \n82331               1             0           0                 0           1   \n\n       ct_srv_dst  is_sm_ips_ports  attack_cat  \n0               1                0      Normal  \n1               6                0      Normal  \n2               6                0      Normal  \n3               1                0      Normal  \n4              39                0      Normal  \n...           ...              ...         ...  \n82327           1                0      Normal  \n82328           2                0      Normal  \n82329           1                1      Normal  \n82330           1                1      Normal  \n82331           1                0      Normal  \n\n[257673 rows x 43 columns]",
      "text/html": "<div>\n<style scoped>\n    .dataframe tbody tr th:only-of-type {\n        vertical-align: middle;\n    }\n\n    .dataframe tbody tr th {\n        vertical-align: top;\n    }\n\n    .dataframe thead th {\n        text-align: right;\n    }\n</style>\n<table border=\"1\" class=\"dataframe\">\n  <thead>\n    <tr style=\"text-align: right;\">\n      <th></th>\n      <th>dur</th>\n      <th>proto</th>\n      <th>service</th>\n      <th>state</th>\n      <th>spkts</th>\n      <th>dpkts</th>\n      <th>sbytes</th>\n      <th>dbytes</th>\n      <th>rate</th>\n      <th>sttl</th>\n      <th>...</th>\n      <th>ct_src_dport_ltm</th>\n      <th>ct_dst_sport_ltm</th>\n      <th>ct_dst_src_ltm</th>\n      <th>is_ftp_login</th>\n      <th>ct_ftp_cmd</th>\n      <th>ct_flw_http_mthd</th>\n      <th>ct_src_ltm</th>\n      <th>ct_srv_dst</th>\n      <th>is_sm_ips_ports</th>\n      <th>attack_cat</th>\n    </tr>\n  </thead>\n  <tbody>\n    <tr>\n      <th>0</th>\n      <td>0.121478</td>\n      <td>tcp</td>\n      <td>-</td>\n      <td>FIN</td>\n      <td>6</td>\n      <td>4</td>\n      <td>258</td>\n      <td>172</td>\n      <td>74.087490</td>\n      <td>252</td>\n      <td>...</td>\n      <td>1</td>\n      <td>1</td>\n      <td>1</td>\n      <td>0</td>\n      <td>0</td>\n      <td>0</td>\n      <td>1</td>\n      <td>1</td>\n      <td>0</td>\n      <td>Normal</td>\n    </tr>\n    <tr>\n      <th>1</th>\n      <td>0.649902</td>\n      <td>tcp</td>\n      <td>-</td>\n      <td>FIN</td>\n      <td>14</td>\n      <td>38</td>\n      <td>734</td>\n      <td>42014</td>\n      <td>78.473372</td>\n      <td>62</td>\n      <td>...</td>\n      <td>1</td>\n      <td>1</td>\n      <td>2</td>\n      <td>0</td>\n      <td>0</td>\n      <td>0</td>\n      <td>1</td>\n      <td>6</td>\n      <td>0</td>\n      <td>Normal</td>\n    </tr>\n    <tr>\n      <th>2</th>\n      <td>1.623129</td>\n      <td>tcp</td>\n      <td>-</td>\n      <td>FIN</td>\n      <td>8</td>\n      <td>16</td>\n      <td>364</td>\n      <td>13186</td>\n      <td>14.170161</td>\n      <td>62</td>\n      <td>...</td>\n      <td>1</td>\n      <td>1</td>\n      <td>3</td>\n      <td>0</td>\n      <td>0</td>\n      <td>0</td>\n      <td>2</td>\n      <td>6</td>\n      <td>0</td>\n      <td>Normal</td>\n    </tr>\n    <tr>\n      <th>3</th>\n      <td>1.681642</td>\n      <td>tcp</td>\n      <td>ftp</td>\n      <td>FIN</td>\n      <td>12</td>\n      <td>12</td>\n      <td>628</td>\n      <td>770</td>\n      <td>13.677108</td>\n      <td>62</td>\n      <td>...</td>\n      <td>1</td>\n      <td>1</td>\n      <td>3</td>\n      <td>1</td>\n      <td>1</td>\n      <td>0</td>\n      <td>2</td>\n      <td>1</td>\n      <td>0</td>\n      <td>Normal</td>\n    </tr>\n    <tr>\n      <th>4</th>\n      <td>0.449454</td>\n      <td>tcp</td>\n      <td>-</td>\n      <td>FIN</td>\n      <td>10</td>\n      <td>6</td>\n      <td>534</td>\n      <td>268</td>\n      <td>33.373826</td>\n      <td>254</td>\n      <td>...</td>\n      <td>2</td>\n      <td>1</td>\n      <td>40</td>\n      <td>0</td>\n      <td>0</td>\n      <td>0</td>\n      <td>2</td>\n      <td>39</td>\n      <td>0</td>\n      <td>Normal</td>\n    </tr>\n    <tr>\n      <th>...</th>\n      <td>...</td>\n      <td>...</td>\n      <td>...</td>\n      <td>...</td>\n      <td>...</td>\n      <td>...</td>\n      <td>...</td>\n      <td>...</td>\n      <td>...</td>\n      <td>...</td>\n      <td>...</td>\n      <td>...</td>\n      <td>...</td>\n      <td>...</td>\n      <td>...</td>\n      <td>...</td>\n      <td>...</td>\n      <td>...</td>\n      <td>...</td>\n      <td>...</td>\n      <td>...</td>\n    </tr>\n    <tr>\n      <th>82327</th>\n      <td>0.000005</td>\n      <td>udp</td>\n      <td>-</td>\n      <td>INT</td>\n      <td>2</td>\n      <td>0</td>\n      <td>104</td>\n      <td>0</td>\n      <td>200000.005100</td>\n      <td>254</td>\n      <td>...</td>\n      <td>1</td>\n      <td>1</td>\n      <td>2</td>\n      <td>0</td>\n      <td>0</td>\n      <td>0</td>\n      <td>2</td>\n      <td>1</td>\n      <td>0</td>\n      <td>Normal</td>\n    </tr>\n    <tr>\n      <th>82328</th>\n      <td>1.106101</td>\n      <td>tcp</td>\n      <td>-</td>\n      <td>FIN</td>\n      <td>20</td>\n      <td>8</td>\n      <td>18062</td>\n      <td>354</td>\n      <td>24.410067</td>\n      <td>254</td>\n      <td>...</td>\n      <td>1</td>\n      <td>1</td>\n      <td>1</td>\n      <td>0</td>\n      <td>0</td>\n      <td>0</td>\n      <td>3</td>\n      <td>2</td>\n      <td>0</td>\n      <td>Normal</td>\n    </tr>\n    <tr>\n      <th>82329</th>\n      <td>0.000000</td>\n      <td>arp</td>\n      <td>-</td>\n      <td>INT</td>\n      <td>1</td>\n      <td>0</td>\n      <td>46</td>\n      <td>0</td>\n      <td>0.000000</td>\n      <td>0</td>\n      <td>...</td>\n      <td>1</td>\n      <td>1</td>\n      <td>1</td>\n      <td>0</td>\n      <td>0</td>\n      <td>0</td>\n      <td>1</td>\n      <td>1</td>\n      <td>1</td>\n      <td>Normal</td>\n    </tr>\n    <tr>\n      <th>82330</th>\n      <td>0.000000</td>\n      <td>arp</td>\n      <td>-</td>\n      <td>INT</td>\n      <td>1</td>\n      <td>0</td>\n      <td>46</td>\n      <td>0</td>\n      <td>0.000000</td>\n      <td>0</td>\n      <td>...</td>\n      <td>1</td>\n      <td>1</td>\n      <td>1</td>\n      <td>0</td>\n      <td>0</td>\n      <td>0</td>\n      <td>1</td>\n      <td>1</td>\n      <td>1</td>\n      <td>Normal</td>\n    </tr>\n    <tr>\n      <th>82331</th>\n      <td>0.000009</td>\n      <td>udp</td>\n      <td>-</td>\n      <td>INT</td>\n      <td>2</td>\n      <td>0</td>\n      <td>104</td>\n      <td>0</td>\n      <td>111111.107200</td>\n      <td>254</td>\n      <td>...</td>\n      <td>1</td>\n      <td>1</td>\n      <td>1</td>\n      <td>0</td>\n      <td>0</td>\n      <td>0</td>\n      <td>1</td>\n      <td>1</td>\n      <td>0</td>\n      <td>Normal</td>\n    </tr>\n  </tbody>\n</table>\n<p>257673 rows × 43 columns</p>\n</div>"
     },
     "execution_count": 137,
     "metadata": {},
     "output_type": "execute_result"
    }
   ],
   "source": [
    "ds_multi"
   ],
   "metadata": {
    "collapsed": false,
    "pycharm": {
     "name": "#%%\n"
    }
   }
  },
  {
   "cell_type": "code",
   "execution_count": 138,
   "outputs": [
    {
     "data": {
      "text/plain": "array(['Normal', 'Backdoor', 'Analysis', 'Fuzzers', 'Shellcode',\n       'Reconnaissance', 'Exploits', 'DoS', 'Worms', 'Generic'],\n      dtype=object)"
     },
     "execution_count": 138,
     "metadata": {},
     "output_type": "execute_result"
    }
   ],
   "source": [
    "pd.unique(ds_multi.attack_cat.values)"
   ],
   "metadata": {
    "collapsed": false,
    "pycharm": {
     "name": "#%%\n"
    }
   }
  },
  {
   "cell_type": "code",
   "execution_count": 161,
   "outputs": [
    {
     "data": {
      "text/plain": "<pandas.io.formats.style.Styler at 0x1ca088ac9d0>",
      "text/html": "<style type=\"text/css\">\n#T_ccf14_row29_col1, #T_ccf14_row42_col1, #T_ccf14_row51_col1 {\n  background-color: lightgreen;\n}\n</style>\n<table id=\"T_ccf14_\">\n  <thead>\n    <tr>\n      <th class=\"blank level0\" >&nbsp;</th>\n      <th class=\"col_heading level0 col0\" >Description</th>\n      <th class=\"col_heading level0 col1\" >Value</th>\n    </tr>\n  </thead>\n  <tbody>\n    <tr>\n      <th id=\"T_ccf14_level0_row0\" class=\"row_heading level0 row0\" >0</th>\n      <td id=\"T_ccf14_row0_col0\" class=\"data row0 col0\" >session_id</td>\n      <td id=\"T_ccf14_row0_col1\" class=\"data row0 col1\" >6310</td>\n    </tr>\n    <tr>\n      <th id=\"T_ccf14_level0_row1\" class=\"row_heading level0 row1\" >1</th>\n      <td id=\"T_ccf14_row1_col0\" class=\"data row1 col0\" >Target</td>\n      <td id=\"T_ccf14_row1_col1\" class=\"data row1 col1\" >attack_cat</td>\n    </tr>\n    <tr>\n      <th id=\"T_ccf14_level0_row2\" class=\"row_heading level0 row2\" >2</th>\n      <td id=\"T_ccf14_row2_col0\" class=\"data row2 col0\" >Target Type</td>\n      <td id=\"T_ccf14_row2_col1\" class=\"data row2 col1\" >Multiclass</td>\n    </tr>\n    <tr>\n      <th id=\"T_ccf14_level0_row3\" class=\"row_heading level0 row3\" >3</th>\n      <td id=\"T_ccf14_row3_col0\" class=\"data row3 col0\" >Label Encoded</td>\n      <td id=\"T_ccf14_row3_col1\" class=\"data row3 col1\" >Analysis: 0, Backdoor: 1, DoS: 2, Exploits: 3, Fuzzers: 4, Generic: 5, Normal: 6, Reconnaissance: 7, Shellcode: 8, Worms: 9</td>\n    </tr>\n    <tr>\n      <th id=\"T_ccf14_level0_row4\" class=\"row_heading level0 row4\" >4</th>\n      <td id=\"T_ccf14_row4_col0\" class=\"data row4 col0\" >Original Data</td>\n      <td id=\"T_ccf14_row4_col1\" class=\"data row4 col1\" >(257673, 43)</td>\n    </tr>\n    <tr>\n      <th id=\"T_ccf14_level0_row5\" class=\"row_heading level0 row5\" >5</th>\n      <td id=\"T_ccf14_row5_col0\" class=\"data row5 col0\" >Missing Values</td>\n      <td id=\"T_ccf14_row5_col1\" class=\"data row5 col1\" >False</td>\n    </tr>\n    <tr>\n      <th id=\"T_ccf14_level0_row6\" class=\"row_heading level0 row6\" >6</th>\n      <td id=\"T_ccf14_row6_col0\" class=\"data row6 col0\" >Numeric Features</td>\n      <td id=\"T_ccf14_row6_col1\" class=\"data row6 col1\" >39</td>\n    </tr>\n    <tr>\n      <th id=\"T_ccf14_level0_row7\" class=\"row_heading level0 row7\" >7</th>\n      <td id=\"T_ccf14_row7_col0\" class=\"data row7 col0\" >Categorical Features</td>\n      <td id=\"T_ccf14_row7_col1\" class=\"data row7 col1\" >3</td>\n    </tr>\n    <tr>\n      <th id=\"T_ccf14_level0_row8\" class=\"row_heading level0 row8\" >8</th>\n      <td id=\"T_ccf14_row8_col0\" class=\"data row8 col0\" >Ordinal Features</td>\n      <td id=\"T_ccf14_row8_col1\" class=\"data row8 col1\" >False</td>\n    </tr>\n    <tr>\n      <th id=\"T_ccf14_level0_row9\" class=\"row_heading level0 row9\" >9</th>\n      <td id=\"T_ccf14_row9_col0\" class=\"data row9 col0\" >High Cardinality Features</td>\n      <td id=\"T_ccf14_row9_col1\" class=\"data row9 col1\" >False</td>\n    </tr>\n    <tr>\n      <th id=\"T_ccf14_level0_row10\" class=\"row_heading level0 row10\" >10</th>\n      <td id=\"T_ccf14_row10_col0\" class=\"data row10 col0\" >High Cardinality Method</td>\n      <td id=\"T_ccf14_row10_col1\" class=\"data row10 col1\" >None</td>\n    </tr>\n    <tr>\n      <th id=\"T_ccf14_level0_row11\" class=\"row_heading level0 row11\" >11</th>\n      <td id=\"T_ccf14_row11_col0\" class=\"data row11 col0\" >Transformed Train Set</td>\n      <td id=\"T_ccf14_row11_col1\" class=\"data row11 col1\" >(206138, 34)</td>\n    </tr>\n    <tr>\n      <th id=\"T_ccf14_level0_row12\" class=\"row_heading level0 row12\" >12</th>\n      <td id=\"T_ccf14_row12_col0\" class=\"data row12 col0\" >Transformed Test Set</td>\n      <td id=\"T_ccf14_row12_col1\" class=\"data row12 col1\" >(51535, 34)</td>\n    </tr>\n    <tr>\n      <th id=\"T_ccf14_level0_row13\" class=\"row_heading level0 row13\" >13</th>\n      <td id=\"T_ccf14_row13_col0\" class=\"data row13 col0\" >Shuffle Train-Test</td>\n      <td id=\"T_ccf14_row13_col1\" class=\"data row13 col1\" >True</td>\n    </tr>\n    <tr>\n      <th id=\"T_ccf14_level0_row14\" class=\"row_heading level0 row14\" >14</th>\n      <td id=\"T_ccf14_row14_col0\" class=\"data row14 col0\" >Stratify Train-Test</td>\n      <td id=\"T_ccf14_row14_col1\" class=\"data row14 col1\" >False</td>\n    </tr>\n    <tr>\n      <th id=\"T_ccf14_level0_row15\" class=\"row_heading level0 row15\" >15</th>\n      <td id=\"T_ccf14_row15_col0\" class=\"data row15 col0\" >Fold Generator</td>\n      <td id=\"T_ccf14_row15_col1\" class=\"data row15 col1\" >StratifiedKFold</td>\n    </tr>\n    <tr>\n      <th id=\"T_ccf14_level0_row16\" class=\"row_heading level0 row16\" >16</th>\n      <td id=\"T_ccf14_row16_col0\" class=\"data row16 col0\" >Fold Number</td>\n      <td id=\"T_ccf14_row16_col1\" class=\"data row16 col1\" >10</td>\n    </tr>\n    <tr>\n      <th id=\"T_ccf14_level0_row17\" class=\"row_heading level0 row17\" >17</th>\n      <td id=\"T_ccf14_row17_col0\" class=\"data row17 col0\" >CPU Jobs</td>\n      <td id=\"T_ccf14_row17_col1\" class=\"data row17 col1\" >-1</td>\n    </tr>\n    <tr>\n      <th id=\"T_ccf14_level0_row18\" class=\"row_heading level0 row18\" >18</th>\n      <td id=\"T_ccf14_row18_col0\" class=\"data row18 col0\" >Use GPU</td>\n      <td id=\"T_ccf14_row18_col1\" class=\"data row18 col1\" >False</td>\n    </tr>\n    <tr>\n      <th id=\"T_ccf14_level0_row19\" class=\"row_heading level0 row19\" >19</th>\n      <td id=\"T_ccf14_row19_col0\" class=\"data row19 col0\" >Log Experiment</td>\n      <td id=\"T_ccf14_row19_col1\" class=\"data row19 col1\" >False</td>\n    </tr>\n    <tr>\n      <th id=\"T_ccf14_level0_row20\" class=\"row_heading level0 row20\" >20</th>\n      <td id=\"T_ccf14_row20_col0\" class=\"data row20 col0\" >Experiment Name</td>\n      <td id=\"T_ccf14_row20_col1\" class=\"data row20 col1\" >clf-default-name</td>\n    </tr>\n    <tr>\n      <th id=\"T_ccf14_level0_row21\" class=\"row_heading level0 row21\" >21</th>\n      <td id=\"T_ccf14_row21_col0\" class=\"data row21 col0\" >USI</td>\n      <td id=\"T_ccf14_row21_col1\" class=\"data row21 col1\" >c1b0</td>\n    </tr>\n    <tr>\n      <th id=\"T_ccf14_level0_row22\" class=\"row_heading level0 row22\" >22</th>\n      <td id=\"T_ccf14_row22_col0\" class=\"data row22 col0\" >Imputation Type</td>\n      <td id=\"T_ccf14_row22_col1\" class=\"data row22 col1\" >simple</td>\n    </tr>\n    <tr>\n      <th id=\"T_ccf14_level0_row23\" class=\"row_heading level0 row23\" >23</th>\n      <td id=\"T_ccf14_row23_col0\" class=\"data row23 col0\" >Iterative Imputation Iteration</td>\n      <td id=\"T_ccf14_row23_col1\" class=\"data row23 col1\" >None</td>\n    </tr>\n    <tr>\n      <th id=\"T_ccf14_level0_row24\" class=\"row_heading level0 row24\" >24</th>\n      <td id=\"T_ccf14_row24_col0\" class=\"data row24 col0\" >Numeric Imputer</td>\n      <td id=\"T_ccf14_row24_col1\" class=\"data row24 col1\" >mean</td>\n    </tr>\n    <tr>\n      <th id=\"T_ccf14_level0_row25\" class=\"row_heading level0 row25\" >25</th>\n      <td id=\"T_ccf14_row25_col0\" class=\"data row25 col0\" >Iterative Imputation Numeric Model</td>\n      <td id=\"T_ccf14_row25_col1\" class=\"data row25 col1\" >None</td>\n    </tr>\n    <tr>\n      <th id=\"T_ccf14_level0_row26\" class=\"row_heading level0 row26\" >26</th>\n      <td id=\"T_ccf14_row26_col0\" class=\"data row26 col0\" >Categorical Imputer</td>\n      <td id=\"T_ccf14_row26_col1\" class=\"data row26 col1\" >constant</td>\n    </tr>\n    <tr>\n      <th id=\"T_ccf14_level0_row27\" class=\"row_heading level0 row27\" >27</th>\n      <td id=\"T_ccf14_row27_col0\" class=\"data row27 col0\" >Iterative Imputation Categorical Model</td>\n      <td id=\"T_ccf14_row27_col1\" class=\"data row27 col1\" >None</td>\n    </tr>\n    <tr>\n      <th id=\"T_ccf14_level0_row28\" class=\"row_heading level0 row28\" >28</th>\n      <td id=\"T_ccf14_row28_col0\" class=\"data row28 col0\" >Unknown Categoricals Handling</td>\n      <td id=\"T_ccf14_row28_col1\" class=\"data row28 col1\" >least_frequent</td>\n    </tr>\n    <tr>\n      <th id=\"T_ccf14_level0_row29\" class=\"row_heading level0 row29\" >29</th>\n      <td id=\"T_ccf14_row29_col0\" class=\"data row29 col0\" >Normalize</td>\n      <td id=\"T_ccf14_row29_col1\" class=\"data row29 col1\" >True</td>\n    </tr>\n    <tr>\n      <th id=\"T_ccf14_level0_row30\" class=\"row_heading level0 row30\" >30</th>\n      <td id=\"T_ccf14_row30_col0\" class=\"data row30 col0\" >Normalize Method</td>\n      <td id=\"T_ccf14_row30_col1\" class=\"data row30 col1\" >minmax</td>\n    </tr>\n    <tr>\n      <th id=\"T_ccf14_level0_row31\" class=\"row_heading level0 row31\" >31</th>\n      <td id=\"T_ccf14_row31_col0\" class=\"data row31 col0\" >Transformation</td>\n      <td id=\"T_ccf14_row31_col1\" class=\"data row31 col1\" >False</td>\n    </tr>\n    <tr>\n      <th id=\"T_ccf14_level0_row32\" class=\"row_heading level0 row32\" >32</th>\n      <td id=\"T_ccf14_row32_col0\" class=\"data row32 col0\" >Transformation Method</td>\n      <td id=\"T_ccf14_row32_col1\" class=\"data row32 col1\" >None</td>\n    </tr>\n    <tr>\n      <th id=\"T_ccf14_level0_row33\" class=\"row_heading level0 row33\" >33</th>\n      <td id=\"T_ccf14_row33_col0\" class=\"data row33 col0\" >PCA</td>\n      <td id=\"T_ccf14_row33_col1\" class=\"data row33 col1\" >False</td>\n    </tr>\n    <tr>\n      <th id=\"T_ccf14_level0_row34\" class=\"row_heading level0 row34\" >34</th>\n      <td id=\"T_ccf14_row34_col0\" class=\"data row34 col0\" >PCA Method</td>\n      <td id=\"T_ccf14_row34_col1\" class=\"data row34 col1\" >None</td>\n    </tr>\n    <tr>\n      <th id=\"T_ccf14_level0_row35\" class=\"row_heading level0 row35\" >35</th>\n      <td id=\"T_ccf14_row35_col0\" class=\"data row35 col0\" >PCA Components</td>\n      <td id=\"T_ccf14_row35_col1\" class=\"data row35 col1\" >None</td>\n    </tr>\n    <tr>\n      <th id=\"T_ccf14_level0_row36\" class=\"row_heading level0 row36\" >36</th>\n      <td id=\"T_ccf14_row36_col0\" class=\"data row36 col0\" >Ignore Low Variance</td>\n      <td id=\"T_ccf14_row36_col1\" class=\"data row36 col1\" >False</td>\n    </tr>\n    <tr>\n      <th id=\"T_ccf14_level0_row37\" class=\"row_heading level0 row37\" >37</th>\n      <td id=\"T_ccf14_row37_col0\" class=\"data row37 col0\" >Combine Rare Levels</td>\n      <td id=\"T_ccf14_row37_col1\" class=\"data row37 col1\" >False</td>\n    </tr>\n    <tr>\n      <th id=\"T_ccf14_level0_row38\" class=\"row_heading level0 row38\" >38</th>\n      <td id=\"T_ccf14_row38_col0\" class=\"data row38 col0\" >Rare Level Threshold</td>\n      <td id=\"T_ccf14_row38_col1\" class=\"data row38 col1\" >None</td>\n    </tr>\n    <tr>\n      <th id=\"T_ccf14_level0_row39\" class=\"row_heading level0 row39\" >39</th>\n      <td id=\"T_ccf14_row39_col0\" class=\"data row39 col0\" >Numeric Binning</td>\n      <td id=\"T_ccf14_row39_col1\" class=\"data row39 col1\" >False</td>\n    </tr>\n    <tr>\n      <th id=\"T_ccf14_level0_row40\" class=\"row_heading level0 row40\" >40</th>\n      <td id=\"T_ccf14_row40_col0\" class=\"data row40 col0\" >Remove Outliers</td>\n      <td id=\"T_ccf14_row40_col1\" class=\"data row40 col1\" >False</td>\n    </tr>\n    <tr>\n      <th id=\"T_ccf14_level0_row41\" class=\"row_heading level0 row41\" >41</th>\n      <td id=\"T_ccf14_row41_col0\" class=\"data row41 col0\" >Outliers Threshold</td>\n      <td id=\"T_ccf14_row41_col1\" class=\"data row41 col1\" >None</td>\n    </tr>\n    <tr>\n      <th id=\"T_ccf14_level0_row42\" class=\"row_heading level0 row42\" >42</th>\n      <td id=\"T_ccf14_row42_col0\" class=\"data row42 col0\" >Remove Multicollinearity</td>\n      <td id=\"T_ccf14_row42_col1\" class=\"data row42 col1\" >True</td>\n    </tr>\n    <tr>\n      <th id=\"T_ccf14_level0_row43\" class=\"row_heading level0 row43\" >43</th>\n      <td id=\"T_ccf14_row43_col0\" class=\"data row43 col0\" >Multicollinearity Threshold</td>\n      <td id=\"T_ccf14_row43_col1\" class=\"data row43 col1\" >0.900000</td>\n    </tr>\n    <tr>\n      <th id=\"T_ccf14_level0_row44\" class=\"row_heading level0 row44\" >44</th>\n      <td id=\"T_ccf14_row44_col0\" class=\"data row44 col0\" >Clustering</td>\n      <td id=\"T_ccf14_row44_col1\" class=\"data row44 col1\" >False</td>\n    </tr>\n    <tr>\n      <th id=\"T_ccf14_level0_row45\" class=\"row_heading level0 row45\" >45</th>\n      <td id=\"T_ccf14_row45_col0\" class=\"data row45 col0\" >Clustering Iteration</td>\n      <td id=\"T_ccf14_row45_col1\" class=\"data row45 col1\" >None</td>\n    </tr>\n    <tr>\n      <th id=\"T_ccf14_level0_row46\" class=\"row_heading level0 row46\" >46</th>\n      <td id=\"T_ccf14_row46_col0\" class=\"data row46 col0\" >Polynomial Features</td>\n      <td id=\"T_ccf14_row46_col1\" class=\"data row46 col1\" >False</td>\n    </tr>\n    <tr>\n      <th id=\"T_ccf14_level0_row47\" class=\"row_heading level0 row47\" >47</th>\n      <td id=\"T_ccf14_row47_col0\" class=\"data row47 col0\" >Polynomial Degree</td>\n      <td id=\"T_ccf14_row47_col1\" class=\"data row47 col1\" >None</td>\n    </tr>\n    <tr>\n      <th id=\"T_ccf14_level0_row48\" class=\"row_heading level0 row48\" >48</th>\n      <td id=\"T_ccf14_row48_col0\" class=\"data row48 col0\" >Trignometry Features</td>\n      <td id=\"T_ccf14_row48_col1\" class=\"data row48 col1\" >False</td>\n    </tr>\n    <tr>\n      <th id=\"T_ccf14_level0_row49\" class=\"row_heading level0 row49\" >49</th>\n      <td id=\"T_ccf14_row49_col0\" class=\"data row49 col0\" >Polynomial Threshold</td>\n      <td id=\"T_ccf14_row49_col1\" class=\"data row49 col1\" >None</td>\n    </tr>\n    <tr>\n      <th id=\"T_ccf14_level0_row50\" class=\"row_heading level0 row50\" >50</th>\n      <td id=\"T_ccf14_row50_col0\" class=\"data row50 col0\" >Group Features</td>\n      <td id=\"T_ccf14_row50_col1\" class=\"data row50 col1\" >False</td>\n    </tr>\n    <tr>\n      <th id=\"T_ccf14_level0_row51\" class=\"row_heading level0 row51\" >51</th>\n      <td id=\"T_ccf14_row51_col0\" class=\"data row51 col0\" >Feature Selection</td>\n      <td id=\"T_ccf14_row51_col1\" class=\"data row51 col1\" >True</td>\n    </tr>\n    <tr>\n      <th id=\"T_ccf14_level0_row52\" class=\"row_heading level0 row52\" >52</th>\n      <td id=\"T_ccf14_row52_col0\" class=\"data row52 col0\" >Features Selection Threshold</td>\n      <td id=\"T_ccf14_row52_col1\" class=\"data row52 col1\" >0.200000</td>\n    </tr>\n    <tr>\n      <th id=\"T_ccf14_level0_row53\" class=\"row_heading level0 row53\" >53</th>\n      <td id=\"T_ccf14_row53_col0\" class=\"data row53 col0\" >Feature Interaction</td>\n      <td id=\"T_ccf14_row53_col1\" class=\"data row53 col1\" >False</td>\n    </tr>\n    <tr>\n      <th id=\"T_ccf14_level0_row54\" class=\"row_heading level0 row54\" >54</th>\n      <td id=\"T_ccf14_row54_col0\" class=\"data row54 col0\" >Feature Ratio</td>\n      <td id=\"T_ccf14_row54_col1\" class=\"data row54 col1\" >False</td>\n    </tr>\n    <tr>\n      <th id=\"T_ccf14_level0_row55\" class=\"row_heading level0 row55\" >55</th>\n      <td id=\"T_ccf14_row55_col0\" class=\"data row55 col0\" >Interaction Threshold</td>\n      <td id=\"T_ccf14_row55_col1\" class=\"data row55 col1\" >None</td>\n    </tr>\n    <tr>\n      <th id=\"T_ccf14_level0_row56\" class=\"row_heading level0 row56\" >56</th>\n      <td id=\"T_ccf14_row56_col0\" class=\"data row56 col0\" >Fix Imbalance</td>\n      <td id=\"T_ccf14_row56_col1\" class=\"data row56 col1\" >False</td>\n    </tr>\n    <tr>\n      <th id=\"T_ccf14_level0_row57\" class=\"row_heading level0 row57\" >57</th>\n      <td id=\"T_ccf14_row57_col0\" class=\"data row57 col0\" >Fix Imbalance Method</td>\n      <td id=\"T_ccf14_row57_col1\" class=\"data row57 col1\" >SMOTE</td>\n    </tr>\n  </tbody>\n</table>\n"
     },
     "metadata": {},
     "output_type": "display_data"
    }
   ],
   "source": [
    "dsp_tr_multi=setup(data = ds_multi,\n",
    "             target = 'attack_cat',train_size=0.8,\n",
    "             numeric_imputation = 'mean',\n",
    "             categorical_features = ['proto','service','state'],\n",
    "             numeric_features=['dur','spkts','dpkts','sbytes','dbytes','rate','sttl','dttl','sload','dload','sloss','dloss','sinpkt','dinpkt','sjit','djit','swin','stcpb','dtcpb','dwin','tcprtt','synack','ackdat','smean','dmean','trans_depth','response_body_len','ct_srv_src','ct_state_ttl','ct_dst_ltm','ct_src_dport_ltm','ct_dst_sport_ltm',\n",
    "                               'ct_dst_src_ltm','is_ftp_login','ct_ftp_cmd','ct_flw_http_mthd','ct_src_ltm','ct_srv_dst','is_sm_ips_ports'],\n",
    "             normalize=True,normalize_method='minmax',\n",
    "             feature_selection=True,feature_selection_threshold=0.2,\n",
    "             silent = True, fold_shuffle=True, remove_multicollinearity=True)"
   ],
   "metadata": {
    "collapsed": false,
    "pycharm": {
     "name": "#%%\n"
    }
   }
  },
  {
   "cell_type": "code",
   "execution_count": 162,
   "outputs": [],
   "source": [
    "X_train_multi=get_config('X_train')\n",
    "X_test_multi=get_config('X_test')\n",
    "Y_train_multi=get_config('y_train')\n",
    "Y_test_multi=get_config('y_test')"
   ],
   "metadata": {
    "collapsed": false,
    "pycharm": {
     "name": "#%%\n"
    }
   }
  },
  {
   "cell_type": "code",
   "execution_count": 148,
   "outputs": [
    {
     "data": {
      "text/plain": "        service_-     dload    dinpkt     sloss     stcpb      djit  \\\n96429         1.0  0.000003  0.091624  0.001128  0.155309  0.035638   \n61938         0.0  0.000198  0.001329  0.000376  0.239266  0.000314   \n19265         0.0  0.000000  0.000000  0.000000  0.000000  0.000000   \n99374         1.0  0.000000  0.000000  0.000000  0.000000  0.000000   \n99408         1.0  0.000000  0.000000  0.000000  0.000000  0.000000   \n...           ...       ...       ...       ...       ...       ...   \n166627        0.0  0.000000  0.000000  0.000000  0.000000  0.000000   \n33536         1.0  0.017018  0.000019  0.000000  0.000000  0.000003   \n54789         0.0  0.000000  0.000000  0.000000  0.000000  0.000000   \n14574         1.0  0.236462  0.000004  0.001128  0.291019  0.000029   \n115275        1.0  0.000000  0.000000  0.000000  0.000000  0.000000   \n\n        service_dns  state_FIN  proto_sctp    ackdat  ...  state_INT  \\\n96429           0.0        1.0         0.0  0.012130  ...        0.0   \n61938           0.0        1.0         0.0  0.008370  ...        0.0   \n19265           1.0        0.0         0.0  0.000000  ...        1.0   \n99374           0.0        0.0         0.0  0.000000  ...        1.0   \n99408           0.0        0.0         0.0  0.000000  ...        1.0   \n...             ...        ...         ...       ...  ...        ...   \n166627          1.0        0.0         0.0  0.000000  ...        1.0   \n33536           0.0        0.0         0.0  0.000000  ...        0.0   \n54789           0.0        0.0         0.0  0.000000  ...        1.0   \n14574           0.0        1.0         0.0  0.000048  ...        0.0   \n115275          0.0        0.0         0.0  0.000000  ...        1.0   \n\n        proto_ospf  response_body_len  proto_udp     dtcpb  proto_unas  \\\n96429          0.0                0.0        0.0  0.601472         0.0   \n61938          0.0                0.0        0.0  0.001439         0.0   \n19265          0.0                0.0        1.0  0.000000         0.0   \n99374          0.0                0.0        0.0  0.000000         0.0   \n99408          0.0                0.0        0.0  0.000000         0.0   \n...            ...                ...        ...       ...         ...   \n166627         0.0                0.0        1.0  0.000000         0.0   \n33536          0.0                0.0        1.0  0.000000         0.0   \n54789          0.0                0.0        1.0  0.000000         0.0   \n14574          0.0                0.0        0.0  0.791589         0.0   \n115275         1.0                0.0        0.0  0.000000         0.0   \n\n        service_http  service_ftp         sload  ct_flw_http_mthd  \n96429            0.0          0.0  2.326462e-08          0.000000  \n61938            1.0          0.0  3.115452e-06          0.033333  \n19265            0.0          0.0  1.523046e-02          0.000000  \n99374            0.0          0.0  1.484450e-02          0.000000  \n99408            0.0          0.0  2.226675e-02          0.000000  \n...              ...          ...           ...               ...  \n166627           0.0          0.0  1.087890e-02          0.000000  \n33536            0.0          0.0  1.190666e-04          0.000000  \n54789            0.0          0.0  7.695390e-02          0.000000  \n14574            0.0          0.0  3.927033e-04          0.000000  \n115275           0.0          0.0  1.484450e-02          0.000000  \n\n[206138 rows x 34 columns]",
      "text/html": "<div>\n<style scoped>\n    .dataframe tbody tr th:only-of-type {\n        vertical-align: middle;\n    }\n\n    .dataframe tbody tr th {\n        vertical-align: top;\n    }\n\n    .dataframe thead th {\n        text-align: right;\n    }\n</style>\n<table border=\"1\" class=\"dataframe\">\n  <thead>\n    <tr style=\"text-align: right;\">\n      <th></th>\n      <th>service_-</th>\n      <th>dload</th>\n      <th>dinpkt</th>\n      <th>sloss</th>\n      <th>stcpb</th>\n      <th>djit</th>\n      <th>service_dns</th>\n      <th>state_FIN</th>\n      <th>proto_sctp</th>\n      <th>ackdat</th>\n      <th>...</th>\n      <th>state_INT</th>\n      <th>proto_ospf</th>\n      <th>response_body_len</th>\n      <th>proto_udp</th>\n      <th>dtcpb</th>\n      <th>proto_unas</th>\n      <th>service_http</th>\n      <th>service_ftp</th>\n      <th>sload</th>\n      <th>ct_flw_http_mthd</th>\n    </tr>\n  </thead>\n  <tbody>\n    <tr>\n      <th>96429</th>\n      <td>1.0</td>\n      <td>0.000003</td>\n      <td>0.091624</td>\n      <td>0.001128</td>\n      <td>0.155309</td>\n      <td>0.035638</td>\n      <td>0.0</td>\n      <td>1.0</td>\n      <td>0.0</td>\n      <td>0.012130</td>\n      <td>...</td>\n      <td>0.0</td>\n      <td>0.0</td>\n      <td>0.0</td>\n      <td>0.0</td>\n      <td>0.601472</td>\n      <td>0.0</td>\n      <td>0.0</td>\n      <td>0.0</td>\n      <td>2.326462e-08</td>\n      <td>0.000000</td>\n    </tr>\n    <tr>\n      <th>61938</th>\n      <td>0.0</td>\n      <td>0.000198</td>\n      <td>0.001329</td>\n      <td>0.000376</td>\n      <td>0.239266</td>\n      <td>0.000314</td>\n      <td>0.0</td>\n      <td>1.0</td>\n      <td>0.0</td>\n      <td>0.008370</td>\n      <td>...</td>\n      <td>0.0</td>\n      <td>0.0</td>\n      <td>0.0</td>\n      <td>0.0</td>\n      <td>0.001439</td>\n      <td>0.0</td>\n      <td>1.0</td>\n      <td>0.0</td>\n      <td>3.115452e-06</td>\n      <td>0.033333</td>\n    </tr>\n    <tr>\n      <th>19265</th>\n      <td>0.0</td>\n      <td>0.000000</td>\n      <td>0.000000</td>\n      <td>0.000000</td>\n      <td>0.000000</td>\n      <td>0.000000</td>\n      <td>1.0</td>\n      <td>0.0</td>\n      <td>0.0</td>\n      <td>0.000000</td>\n      <td>...</td>\n      <td>1.0</td>\n      <td>0.0</td>\n      <td>0.0</td>\n      <td>1.0</td>\n      <td>0.000000</td>\n      <td>0.0</td>\n      <td>0.0</td>\n      <td>0.0</td>\n      <td>1.523046e-02</td>\n      <td>0.000000</td>\n    </tr>\n    <tr>\n      <th>99374</th>\n      <td>1.0</td>\n      <td>0.000000</td>\n      <td>0.000000</td>\n      <td>0.000000</td>\n      <td>0.000000</td>\n      <td>0.000000</td>\n      <td>0.0</td>\n      <td>0.0</td>\n      <td>0.0</td>\n      <td>0.000000</td>\n      <td>...</td>\n      <td>1.0</td>\n      <td>0.0</td>\n      <td>0.0</td>\n      <td>0.0</td>\n      <td>0.000000</td>\n      <td>0.0</td>\n      <td>0.0</td>\n      <td>0.0</td>\n      <td>1.484450e-02</td>\n      <td>0.000000</td>\n    </tr>\n    <tr>\n      <th>99408</th>\n      <td>1.0</td>\n      <td>0.000000</td>\n      <td>0.000000</td>\n      <td>0.000000</td>\n      <td>0.000000</td>\n      <td>0.000000</td>\n      <td>0.0</td>\n      <td>0.0</td>\n      <td>0.0</td>\n      <td>0.000000</td>\n      <td>...</td>\n      <td>1.0</td>\n      <td>0.0</td>\n      <td>0.0</td>\n      <td>0.0</td>\n      <td>0.000000</td>\n      <td>0.0</td>\n      <td>0.0</td>\n      <td>0.0</td>\n      <td>2.226675e-02</td>\n      <td>0.000000</td>\n    </tr>\n    <tr>\n      <th>...</th>\n      <td>...</td>\n      <td>...</td>\n      <td>...</td>\n      <td>...</td>\n      <td>...</td>\n      <td>...</td>\n      <td>...</td>\n      <td>...</td>\n      <td>...</td>\n      <td>...</td>\n      <td>...</td>\n      <td>...</td>\n      <td>...</td>\n      <td>...</td>\n      <td>...</td>\n      <td>...</td>\n      <td>...</td>\n      <td>...</td>\n      <td>...</td>\n      <td>...</td>\n      <td>...</td>\n    </tr>\n    <tr>\n      <th>166627</th>\n      <td>0.0</td>\n      <td>0.000000</td>\n      <td>0.000000</td>\n      <td>0.000000</td>\n      <td>0.000000</td>\n      <td>0.000000</td>\n      <td>1.0</td>\n      <td>0.0</td>\n      <td>0.0</td>\n      <td>0.000000</td>\n      <td>...</td>\n      <td>1.0</td>\n      <td>0.0</td>\n      <td>0.0</td>\n      <td>1.0</td>\n      <td>0.000000</td>\n      <td>0.0</td>\n      <td>0.0</td>\n      <td>0.0</td>\n      <td>1.087890e-02</td>\n      <td>0.000000</td>\n    </tr>\n    <tr>\n      <th>33536</th>\n      <td>1.0</td>\n      <td>0.017018</td>\n      <td>0.000019</td>\n      <td>0.000000</td>\n      <td>0.000000</td>\n      <td>0.000003</td>\n      <td>0.0</td>\n      <td>0.0</td>\n      <td>0.0</td>\n      <td>0.000000</td>\n      <td>...</td>\n      <td>0.0</td>\n      <td>0.0</td>\n      <td>0.0</td>\n      <td>1.0</td>\n      <td>0.000000</td>\n      <td>0.0</td>\n      <td>0.0</td>\n      <td>0.0</td>\n      <td>1.190666e-04</td>\n      <td>0.000000</td>\n    </tr>\n    <tr>\n      <th>54789</th>\n      <td>0.0</td>\n      <td>0.000000</td>\n      <td>0.000000</td>\n      <td>0.000000</td>\n      <td>0.000000</td>\n      <td>0.000000</td>\n      <td>0.0</td>\n      <td>0.0</td>\n      <td>0.0</td>\n      <td>0.000000</td>\n      <td>...</td>\n      <td>1.0</td>\n      <td>0.0</td>\n      <td>0.0</td>\n      <td>1.0</td>\n      <td>0.000000</td>\n      <td>0.0</td>\n      <td>0.0</td>\n      <td>0.0</td>\n      <td>7.695390e-02</td>\n      <td>0.000000</td>\n    </tr>\n    <tr>\n      <th>14574</th>\n      <td>1.0</td>\n      <td>0.236462</td>\n      <td>0.000004</td>\n      <td>0.001128</td>\n      <td>0.291019</td>\n      <td>0.000029</td>\n      <td>0.0</td>\n      <td>1.0</td>\n      <td>0.0</td>\n      <td>0.000048</td>\n      <td>...</td>\n      <td>0.0</td>\n      <td>0.0</td>\n      <td>0.0</td>\n      <td>0.0</td>\n      <td>0.791589</td>\n      <td>0.0</td>\n      <td>0.0</td>\n      <td>0.0</td>\n      <td>3.927033e-04</td>\n      <td>0.000000</td>\n    </tr>\n    <tr>\n      <th>115275</th>\n      <td>1.0</td>\n      <td>0.000000</td>\n      <td>0.000000</td>\n      <td>0.000000</td>\n      <td>0.000000</td>\n      <td>0.000000</td>\n      <td>0.0</td>\n      <td>0.0</td>\n      <td>0.0</td>\n      <td>0.000000</td>\n      <td>...</td>\n      <td>1.0</td>\n      <td>1.0</td>\n      <td>0.0</td>\n      <td>0.0</td>\n      <td>0.000000</td>\n      <td>0.0</td>\n      <td>0.0</td>\n      <td>0.0</td>\n      <td>1.484450e-02</td>\n      <td>0.000000</td>\n    </tr>\n  </tbody>\n</table>\n<p>206138 rows × 34 columns</p>\n</div>"
     },
     "execution_count": 148,
     "metadata": {},
     "output_type": "execute_result"
    }
   ],
   "source": [
    "X_train_multi"
   ],
   "metadata": {
    "collapsed": false,
    "pycharm": {
     "name": "#%%\n"
    }
   }
  },
  {
   "cell_type": "code",
   "execution_count": 163,
   "outputs": [
    {
     "name": "stdout",
     "output_type": "stream",
     "text": [
      "Epoch 1/100\n",
      "3221/3221 [==============================] - 11s 3ms/step - loss: 0.7006 - accuracy: 0.7248 - val_loss: 0.6095 - val_accuracy: 0.7593\n",
      "Epoch 2/100\n",
      "3221/3221 [==============================] - 10s 3ms/step - loss: 0.6244 - accuracy: 0.7460 - val_loss: 0.5952 - val_accuracy: 0.7617\n",
      "Epoch 3/100\n",
      "3221/3221 [==============================] - 11s 3ms/step - loss: 0.6088 - accuracy: 0.7520 - val_loss: 0.5945 - val_accuracy: 0.7594\n",
      "Epoch 4/100\n",
      "3221/3221 [==============================] - 10s 3ms/step - loss: 0.5990 - accuracy: 0.7553 - val_loss: 0.5714 - val_accuracy: 0.7719\n",
      "Epoch 5/100\n",
      "3221/3221 [==============================] - 11s 3ms/step - loss: 0.5931 - accuracy: 0.7589 - val_loss: 0.5703 - val_accuracy: 0.7674\n",
      "Epoch 6/100\n",
      "3221/3221 [==============================] - 11s 3ms/step - loss: 0.5858 - accuracy: 0.7606 - val_loss: 0.5741 - val_accuracy: 0.7716\n",
      "Epoch 7/100\n",
      "3221/3221 [==============================] - 10s 3ms/step - loss: 0.5808 - accuracy: 0.7650 - val_loss: 0.5569 - val_accuracy: 0.7696\n",
      "Epoch 8/100\n",
      "3221/3221 [==============================] - 10s 3ms/step - loss: 0.5748 - accuracy: 0.7675 - val_loss: 0.5552 - val_accuracy: 0.7723\n",
      "Epoch 9/100\n",
      "3221/3221 [==============================] - 10s 3ms/step - loss: 0.5709 - accuracy: 0.7699 - val_loss: 0.5595 - val_accuracy: 0.7760\n",
      "Epoch 10/100\n",
      "3221/3221 [==============================] - 11s 3ms/step - loss: 0.5664 - accuracy: 0.7718 - val_loss: 0.5406 - val_accuracy: 0.7831\n",
      "Epoch 11/100\n",
      "3221/3221 [==============================] - 10s 3ms/step - loss: 0.5628 - accuracy: 0.7736 - val_loss: 0.5499 - val_accuracy: 0.7765\n",
      "Epoch 12/100\n",
      "3221/3221 [==============================] - 10s 3ms/step - loss: 0.5587 - accuracy: 0.7750 - val_loss: 0.5401 - val_accuracy: 0.7837\n",
      "Epoch 13/100\n",
      "3221/3221 [==============================] - 10s 3ms/step - loss: 0.5565 - accuracy: 0.7760 - val_loss: 0.5341 - val_accuracy: 0.7803\n",
      "Epoch 14/100\n",
      "3221/3221 [==============================] - 11s 3ms/step - loss: 0.5533 - accuracy: 0.7770 - val_loss: 0.5330 - val_accuracy: 0.7841\n",
      "Epoch 15/100\n",
      "3221/3221 [==============================] - 11s 3ms/step - loss: 0.5512 - accuracy: 0.7780 - val_loss: 0.5342 - val_accuracy: 0.7840\n",
      "Epoch 16/100\n",
      "3221/3221 [==============================] - 12s 4ms/step - loss: 0.5491 - accuracy: 0.7780 - val_loss: 0.5331 - val_accuracy: 0.7829\n",
      "Epoch 17/100\n",
      "3221/3221 [==============================] - 11s 3ms/step - loss: 0.5484 - accuracy: 0.7791 - val_loss: 0.5321 - val_accuracy: 0.7809\n",
      "Epoch 18/100\n",
      "3221/3221 [==============================] - 11s 3ms/step - loss: 0.5458 - accuracy: 0.7802 - val_loss: 0.5232 - val_accuracy: 0.7880\n",
      "Epoch 19/100\n",
      "3221/3221 [==============================] - 11s 3ms/step - loss: 0.5443 - accuracy: 0.7803 - val_loss: 0.5251 - val_accuracy: 0.7888\n",
      "Epoch 20/100\n",
      "3221/3221 [==============================] - 11s 3ms/step - loss: 0.5426 - accuracy: 0.7813 - val_loss: 0.5239 - val_accuracy: 0.7858\n",
      "Epoch 21/100\n",
      "3221/3221 [==============================] - 11s 3ms/step - loss: 0.5417 - accuracy: 0.7812 - val_loss: 0.5170 - val_accuracy: 0.7902\n",
      "Epoch 22/100\n",
      "3221/3221 [==============================] - 11s 3ms/step - loss: 0.5401 - accuracy: 0.7815 - val_loss: 0.5264 - val_accuracy: 0.7872\n",
      "Epoch 23/100\n",
      "3221/3221 [==============================] - 10s 3ms/step - loss: 0.5384 - accuracy: 0.7819 - val_loss: 0.5160 - val_accuracy: 0.7924\n",
      "Epoch 24/100\n",
      "3221/3221 [==============================] - 11s 3ms/step - loss: 0.5380 - accuracy: 0.7822 - val_loss: 0.5141 - val_accuracy: 0.7947\n",
      "Epoch 25/100\n",
      "3221/3221 [==============================] - 10s 3ms/step - loss: 0.5353 - accuracy: 0.7837 - val_loss: 0.5164 - val_accuracy: 0.7914\n",
      "Epoch 26/100\n",
      "3221/3221 [==============================] - 10s 3ms/step - loss: 0.5359 - accuracy: 0.7829 - val_loss: 0.5224 - val_accuracy: 0.7907\n",
      "Epoch 27/100\n",
      "3221/3221 [==============================] - 11s 3ms/step - loss: 0.5339 - accuracy: 0.7845 - val_loss: 0.5198 - val_accuracy: 0.7897\n",
      "Epoch 28/100\n",
      "3221/3221 [==============================] - 11s 3ms/step - loss: 0.5327 - accuracy: 0.7847 - val_loss: 0.5210 - val_accuracy: 0.7914\n",
      "Epoch 29/100\n",
      "3221/3221 [==============================] - 11s 3ms/step - loss: 0.5312 - accuracy: 0.7853 - val_loss: 0.5119 - val_accuracy: 0.7940\n"
     ]
    },
    {
     "data": {
      "text/plain": "<tensorflow.python.keras.callbacks.History at 0x1ca003c4250>"
     },
     "execution_count": 163,
     "metadata": {},
     "output_type": "execute_result"
    }
   ],
   "source": [
    "act3 = PReLU(alpha_initializer='zeros', weights=None)\n",
    "model3 = Sequential()\n",
    "# define the NN architecture and activation function\n",
    "\n",
    "model3.add(Dense(496, input_dim=34, activation=Activation(act2)))\n",
    "model3.add(Dropout(0.1))\n",
    "model3.add(Dense(248, activation='relu'))\n",
    "model3.add(Dropout(0.1))\n",
    "model3.add(Dense(124, activation='relu'))\n",
    "model3.add(Dropout(0.1))\n",
    "model3.add(Dense(62, activation='relu'))\n",
    "model3.add(Dropout(0.1))\n",
    "model3.add(Dense(10))\n",
    "model3.add(Activation('softmax'))\n",
    "\n",
    "sgd =SGD(lr=0.01, decay=1e-6, momentum=0.9, nesterov=True)\n",
    "model3.compile(loss='sparse_categorical_crossentropy', optimizer=sgd, metrics= ['accuracy'])\n",
    "es = EarlyStopping(monitor='val_accuracy', mode='max', min_delta=0.0001,patience=5) ## early stopping\n",
    "model3.fit(X_train_multi, Y_train_multi, validation_data=(X_test_multi, Y_test_multi), epochs=100, batch_size=64, callbacks=[es])"
   ],
   "metadata": {
    "collapsed": false,
    "pycharm": {
     "name": "#%%\n"
    }
   }
  },
  {
   "cell_type": "code",
   "execution_count": 164,
   "outputs": [
    {
     "name": "stdout",
     "output_type": "stream",
     "text": [
      "[[    8     0     0   421     1     0   102     0     0     0]\n",
      " [    0     6     6   412     0     0    19    24     0     0]\n",
      " [    0     5    92  2958    23     9   110    32    13     0]\n",
      " [    0     1    26  8383   118     6   343    58    15     0]\n",
      " [    0     0     1   728  1686     0  2175   113    40     0]\n",
      " [    0     0    19   211    31 11505    19     8     5     0]\n",
      " [    0     0     3   239   686     2 17547   170    31     0]\n",
      " [    0     0     9   827     6     0   334  1615     0     0]\n",
      " [    0     0     0    45    23     1    64    90    76     0]\n",
      " [    0     0     0    27     3     0     4     0     1     0]]\n"
     ]
    }
   ],
   "source": [
    "# confusion matrix\n",
    "y_pred3 = model3.predict_classes(X_test_multi)\n",
    "confusionmatrix3 = confusion_matrix(Y_test_multi, y_pred3)\n",
    "print(confusionmatrix3)"
   ],
   "metadata": {
    "collapsed": false,
    "pycharm": {
     "name": "#%%\n"
    }
   }
  },
  {
   "cell_type": "code",
   "execution_count": 165,
   "outputs": [
    {
     "name": "stdout",
     "output_type": "stream",
     "text": [
      "                 precision    recall  f1-score   support\n",
      "\n",
      "       Analysis       1.00      0.02      0.03       532\n",
      "       Backdoor       0.50      0.01      0.03       467\n",
      "            DoS       0.59      0.03      0.05      3242\n",
      "       Exploits       0.59      0.94      0.72      8950\n",
      "        Fuzzers       0.65      0.36      0.46      4743\n",
      "        Generic       1.00      0.98      0.99     11798\n",
      "         Normal       0.85      0.94      0.89     18678\n",
      "Recconnaissanse       0.77      0.58      0.66      2791\n",
      "      Shellcode       0.42      0.25      0.32       299\n",
      "          Worms       0.00      0.00      0.00        35\n",
      "\n",
      "       accuracy                           0.79     51535\n",
      "      macro avg       0.64      0.41      0.41     51535\n",
      "   weighted avg       0.79      0.79      0.76     51535\n",
      "\n"
     ]
    }
   ],
   "source": [
    "from sklearn.metrics import classification_report, multilabel_confusion_matrix\n",
    "target_names=['Analysis','Backdoor','DoS','Exploits','Fuzzers','Generic','Normal','Recconnaissanse','Shellcode','Worms']\n",
    "print(classification_report(Y_test_multi, y_pred3, target_names=target_names))"
   ],
   "metadata": {
    "collapsed": false,
    "pycharm": {
     "name": "#%%\n"
    }
   }
  },
  {
   "cell_type": "code",
   "execution_count": 166,
   "outputs": [
    {
     "name": "stdout",
     "output_type": "stream",
     "text": [
      "[[[51003     0]\n",
      "  [  524     8]]\n",
      "\n",
      " [[51062     6]\n",
      "  [  461     6]]\n",
      "\n",
      " [[48229    64]\n",
      "  [ 3150    92]]\n",
      "\n",
      " [[36717  5868]\n",
      "  [  567  8383]]\n",
      "\n",
      " [[45901   891]\n",
      "  [ 3057  1686]]\n",
      "\n",
      " [[39719    18]\n",
      "  [  293 11505]]\n",
      "\n",
      " [[29687  3170]\n",
      "  [ 1131 17547]]\n",
      "\n",
      " [[48249   495]\n",
      "  [ 1176  1615]]\n",
      "\n",
      " [[51131   105]\n",
      "  [  223    76]]\n",
      "\n",
      " [[51500     0]\n",
      "  [   35     0]]]\n"
     ]
    }
   ],
   "source": [
    "confusionmatrix4 = multilabel_confusion_matrix(Y_test_multi, y_pred3)\n",
    "print(confusionmatrix4)"
   ],
   "metadata": {
    "collapsed": false,
    "pycharm": {
     "name": "#%%\n"
    }
   }
  },
  {
   "cell_type": "code",
   "execution_count": null,
   "outputs": [],
   "source": [],
   "metadata": {
    "collapsed": false,
    "pycharm": {
     "name": "#%%\n"
    }
   }
  }
 ],
 "metadata": {
  "kernelspec": {
   "display_name": "Python 3",
   "language": "python",
   "name": "python3"
  },
  "language_info": {
   "codemirror_mode": {
    "name": "ipython",
    "version": 2
   },
   "file_extension": ".py",
   "mimetype": "text/x-python",
   "name": "python",
   "nbconvert_exporter": "python",
   "pygments_lexer": "ipython2",
   "version": "2.7.6"
  }
 },
 "nbformat": 4,
 "nbformat_minor": 0
}